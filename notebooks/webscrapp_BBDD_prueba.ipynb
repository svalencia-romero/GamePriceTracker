{
 "cells": [
  {
   "cell_type": "markdown",
   "metadata": {},
   "source": [
    "<a id=\"0\"></a> <br>\n",
    "### Indice \n",
    "- [Librerias](#1)\n",
    "- [Web scrapping PSN](#2)\n",
    "    * [Columnas de DF para web scrap](#3)\n",
    "    * [Primera aproximación al problema](#4)\n",
    "- [Código web scrappeo sin necesidad de navegador abierto](#5)\n",
    "- [Funciones y clases](#6)\n",
    "- [Código principal ](#7)\n",
    "- [Inicialización de base de datos](#8)\n",
    "- [Limpieza df](#9)\n"
   ]
  },
  {
   "cell_type": "markdown",
   "metadata": {},
   "source": [
    "<a id=\"1\"></a> <br>\n",
    "### Librerias"
   ]
  },
  {
   "cell_type": "code",
   "execution_count": 1,
   "metadata": {},
   "outputs": [],
   "source": [
    "import re # Expresiones regulares \n",
    "import time\n",
    "import variables as v\n",
    "import random\n",
    "import requests\n",
    "import pandas as pd\n",
    "\n",
    "import matplotlib.pyplot as plt # Para visualizaciones en Jupyter no importar script python\n",
    "import seaborn as sns # Para visualizaciones en Jupyter no importar script python\n",
    "\n",
    "from datetime import datetime\n",
    "from bs4 import BeautifulSoup as bs\n",
    "from selenium import webdriver\n",
    "from selenium.webdriver.chrome.service import Service\n",
    "from selenium.webdriver.common.by import By\n",
    "from selenium.webdriver.support.ui import WebDriverWait\n",
    "from selenium.webdriver.support import expected_conditions as EC\n",
    "\n",
    "\n"
   ]
  },
  {
   "cell_type": "markdown",
   "metadata": {},
   "source": [
    "[Volver al índice](#0)"
   ]
  },
  {
   "cell_type": "markdown",
   "metadata": {},
   "source": [
    "<a id=\"3\"></a> <br>\n",
    "## Webscrappeo Psn"
   ]
  },
  {
   "cell_type": "markdown",
   "metadata": {},
   "source": [
    "##### Queremos hacer una comparativa en el tiempo de los precios de los Juegos de la página web de PSN. \n",
    "##### Para ello primero necesitamos scrapear de manera correcta todos los datos para poder almacenarlos y acceder a ellos."
   ]
  },
  {
   "cell_type": "markdown",
   "metadata": {},
   "source": [
    "#### Hacemos unas primeras aproximaciones combinando Selenium con Beautiful soup y accediendo a pocas variables."
   ]
  },
  {
   "cell_type": "code",
   "execution_count": 61,
   "metadata": {},
   "outputs": [],
   "source": [
    "# Empezamos haciendo un df de que queremos como primera aproximación\n",
    "df_juegos = pd.DataFrame(columns=[\"Titulo\",\"Plataforma\",\"Genero\",\"Compañia\",\n",
    "                                \"Lanzamiento\",\"Idiomas\",\"Calificación PSN\",\"Número de calificaciones\",\"Calificación 5 estrellas\",\n",
    "                                \"Calificación 4 estrellas\",\"Calificación 3 estrellas\",\"Calificación 2 estrellas\",\n",
    "                                \"Calificación 1 estrella\",\"Precio_original_con_PSN\",\"Precio_actual_sin_PSN\"])"
   ]
  },
  {
   "cell_type": "code",
   "execution_count": 63,
   "metadata": {},
   "outputs": [
    {
     "data": {
      "text/plain": [
       "Index(['Titulo', 'Plataforma', 'Genero', 'Compañia', 'Lanzamiento', 'Idiomas',\n",
       "       'Calificación PSN', 'Número de calificaciones',\n",
       "       'Calificación 5 estrellas', 'Calificación 4 estrellas',\n",
       "       'Calificación 3 estrellas', 'Calificación 2 estrellas',\n",
       "       'Calificación 1 estrella', 'Precio_original_con_PSN',\n",
       "       'Precio_actual_sin_PSN'],\n",
       "      dtype='object')"
      ]
     },
     "execution_count": 63,
     "metadata": {},
     "output_type": "execute_result"
    }
   ],
   "source": [
    "df_juegos.columns"
   ]
  },
  {
   "cell_type": "markdown",
   "metadata": {},
   "source": [
    "<a id=\"4\"></a> <br>\n",
    "Columnas de DF para webscrappear"
   ]
  },
  {
   "cell_type": "markdown",
   "metadata": {},
   "source": [
    "Primero lo que necesitamos es llegar hacia la página web de cada juego concreto, para ello utilizamos selenium"
   ]
  },
  {
   "cell_type": "markdown",
   "metadata": {},
   "source": [
    "Lo que estamos haciendo con todo este codigo es entrar en la web, ordenarlos por letra de manera ascendente y entrar en la pagina del primer juego para obtener el soup y así mostrar como entramos a cada dato"
   ]
  },
  {
   "cell_type": "code",
   "execution_count": 65,
   "metadata": {},
   "outputs": [
    {
     "name": "stdout",
     "output_type": "stream",
     "text": [
      "Obtenemos nuestra \"sopa\" correspondiente al primer juego\n"
     ]
    }
   ],
   "source": [
    "service = Service(executable_path='../../psn_env/Lib/site-packages/selenium/webdriver/chrome/chromedriver.exe')\n",
    "options = webdriver.ChromeOptions()\n",
    "\n",
    "driver = webdriver.Chrome(service=service, options=options)\n",
    "\n",
    "driver.get(\"https://store.playstation.com/\")\n",
    "\n",
    "\n",
    "lista_tiempo = [1.0,1.5,2.0]\n",
    "\n",
    "#rechazamos cookies\n",
    "time.sleep(random.choice(lista_tiempo))\n",
    "rechazar_cookies = driver.find_element(By.XPATH, '/html/body/div[5]/div[2]/div/div/div[1]/div/div[2]/button/img')\n",
    "rechazar_cookies.click()\n",
    "\n",
    "#vamos a la pestaña de explora\n",
    "time.sleep(random.choice(lista_tiempo))\n",
    "explora = driver.find_element(By.XPATH, '/html/body/div[3]/section/div/div/div/ul/li[5]/a')\n",
    "explora.click()\n",
    "\n",
    "\n",
    "#plat\n",
    "time.sleep(random.choice(lista_tiempo))\n",
    "sort_plat = driver.find_element(By.XPATH, '/html/body/div[3]/main/div/section/div/div/div/div[4]/button')\n",
    "sort_plat.click()\n",
    "\n",
    "\n",
    "#ordenamos\n",
    "time.sleep(random.choice(lista_tiempo))\n",
    "sort_gam = driver.find_element(By.XPATH, '/html/body/div[3]/main/div/section/div/div/div/div[3]/div/div/div/div[3]/div[1]/div/header/button')\n",
    "sort_gam.click()\n",
    "\n",
    "#AZ\n",
    "time.sleep(random.choice(lista_tiempo))\n",
    "sort_az = driver.find_element(By.XPATH, '/html/body/div[3]/main/div/section/div/div/div/div[3]/div/div/div/div[3]/div[1]/div/div/span/label[3]')\n",
    "sort_az.click()\n",
    "\n",
    "time.sleep(random.choice(lista_tiempo))\n",
    "\n",
    "page_source_init = driver.page_source\n",
    "soup = bs(page_source_init, 'lxml')\n",
    "game = 1\n",
    "select_game = driver.find_element(By.XPATH, f'/html/body/div[3]/main/div/section/div/div/div/div[2]/div[2]/ul/li[{game}]/div/a')\n",
    "select_game.click()\n",
    "\n",
    "time.sleep(random.choice(lista_tiempo))\n",
    "\n",
    "# Info que nos descargamos de la pagina del juego.\n",
    "page_source = driver.page_source\n",
    "soup = bs(page_source, 'lxml')\n",
    "print(\"Obtenemos nuestra \\\"sopa\\\" correspondiente al primer juego\")\n",
    "driver.quit()"
   ]
  },
  {
   "cell_type": "code",
   "execution_count": 67,
   "metadata": {},
   "outputs": [
    {
     "name": "stdout",
     "output_type": "stream",
     "text": [
      "0 Degrees\n"
     ]
    }
   ],
   "source": [
    "# Titulo\n",
    "try:\n",
    "    print(soup.find(\"h1\", class_=\"psw-m-b-5 psw-t-title-l psw-t-size-8 psw-l-line-break-word\").get_text())\n",
    "except:\n",
    "    print(soup.find(\"h1\", class_=\"psw-m-b-5 psw-t-title-l psw-t-size-7 psw-l-line-break-word\").get_text())"
   ]
  },
  {
   "cell_type": "code",
   "execution_count": null,
   "metadata": {},
   "outputs": [],
   "source": [
    "# Precio Original sin PSN en caso de hubiera descuento, en caso de que no exista, error.\n",
    "soup.find(\"span\",class_=\"psw-t-title-s psw-c-t-2 psw-t-strike\").get_text()\n"
   ]
  },
  {
   "cell_type": "code",
   "execution_count": 69,
   "metadata": {},
   "outputs": [
    {
     "name": "stdout",
     "output_type": "stream",
     "text": [
      "4,99 €\n"
     ]
    }
   ],
   "source": [
    "#Precio Actual sin PSN\n",
    "try:\n",
    "    print(soup.find(\"span\",class_=\"psw-t-title-m psw-m-r-4\").get_text())\n",
    "except: \n",
    "    print(soup.find(\"span\",class_=\"psw-t-title-m\").get_text())"
   ]
  },
  {
   "cell_type": "code",
   "execution_count": null,
   "metadata": {},
   "outputs": [],
   "source": [
    "# Precio original con PSN, precio anterior sin descuento con PSN , en caso de que no exista, error.\n",
    "try:\n",
    "    print(soup.find(\"span\",attrs={'class':'psw-truncate-text-1 psw-p-t-1 psw-l-exclude@desktop'}).get_text())\n",
    "except: \n",
    "    soup.find(\"span\",class_=\"psw-t-title-s psw-c-t-2 psw-t-strike\").get_text()"
   ]
  },
  {
   "cell_type": "code",
   "execution_count": 74,
   "metadata": {},
   "outputs": [
    {
     "name": "stdout",
     "output_type": "stream",
     "text": [
      "4,99 €\n"
     ]
    }
   ],
   "source": [
    "#Precio Actual con PSN\n",
    "try:\n",
    "    print(soup.find(\"span\",attrs={'data-qa':'mfeCtaMain#offer1#finalPrice','class':'psw-t-title-m psw-m-r-4'}).get_text())\n",
    "except: \n",
    "    try:\n",
    "        print(soup.find(\"span\",class_=\"psw-t-title-m psw-m-r-4\").get_text())\n",
    "    except: \n",
    "        print(soup.find(\"span\",class_=\"psw-t-title-m\").get_text())"
   ]
  },
  {
   "cell_type": "code",
   "execution_count": 75,
   "metadata": {},
   "outputs": [
    {
     "data": {
      "text/plain": [
       "'PS5'"
      ]
     },
     "execution_count": 75,
     "metadata": {},
     "output_type": "execute_result"
    }
   ],
   "source": [
    "# Plataforma\n",
    "soup.find(\"dd\", attrs={'class':'psw-p-r-6 psw-p-r-0@tablet-s psw-t-bold psw-l-w-1/2 psw-l-w-1/6@tablet-s psw-l-w-1/6@tablet-l psw-l-w-1/8@laptop psw-l-w-1/6@desktop psw-l-w-1/6@max','data-qa':'gameInfo#releaseInformation#platform-value'}).get_text()\n"
   ]
  },
  {
   "cell_type": "code",
   "execution_count": 76,
   "metadata": {},
   "outputs": [
    {
     "data": {
      "text/plain": [
       "'Acción, Puzzle'"
      ]
     },
     "execution_count": 76,
     "metadata": {},
     "output_type": "execute_result"
    }
   ],
   "source": [
    "# Genero\n",
    "soup.find(\"span\", attrs={'style':'text-transform: capitalize;'}).get_text()"
   ]
  },
  {
   "cell_type": "code",
   "execution_count": 77,
   "metadata": {},
   "outputs": [
    {
     "data": {
      "text/plain": [
       "'eastasiasoft'"
      ]
     },
     "execution_count": 77,
     "metadata": {},
     "output_type": "execute_result"
    }
   ],
   "source": [
    "# Compañia\n",
    "soup.find(\"dd\", attrs={'class':'psw-p-r-6 psw-p-r-0@tablet-s psw-t-bold psw-l-w-1/2 psw-l-w-1/6@tablet-s psw-l-w-1/6@tablet-l psw-l-w-1/8@laptop psw-l-w-1/6@desktop psw-l-w-1/6@max','data-qa':'gameInfo#releaseInformation#publisher-value'}).get_text()"
   ]
  },
  {
   "cell_type": "code",
   "execution_count": 78,
   "metadata": {},
   "outputs": [
    {
     "data": {
      "text/plain": [
       "'31/12/2021'"
      ]
     },
     "execution_count": 78,
     "metadata": {},
     "output_type": "execute_result"
    }
   ],
   "source": [
    "# Lanzamiento\n",
    "soup.find(\"dd\", attrs={'class':'psw-p-r-6 psw-p-r-0@tablet-s psw-t-bold psw-l-w-1/2 psw-l-w-1/6@tablet-s psw-l-w-1/6@tablet-l psw-l-w-1/8@laptop psw-l-w-1/6@desktop psw-l-w-1/6@max','data-qa':'gameInfo#releaseInformation#releaseDate-value'}).get_text()"
   ]
  },
  {
   "cell_type": "code",
   "execution_count": 79,
   "metadata": {},
   "outputs": [
    {
     "data": {
      "text/plain": [
       "'Inglés'"
      ]
     },
     "execution_count": 79,
     "metadata": {},
     "output_type": "execute_result"
    }
   ],
   "source": [
    "# Idiomas\n",
    "soup.find(\"dd\", attrs={'class':'psw-p-r-6 psw-p-r-0@tablet-s psw-t-bold psw-l-w-1/2 psw-l-w-1/6@tablet-s psw-l-w-1/6@tablet-l psw-l-w-1/8@laptop psw-l-w-1/6@desktop psw-l-w-1/6@max','data-qa':'gameInfo#releaseInformation#subtitles-value'}).get_text()\n"
   ]
  },
  {
   "cell_type": "code",
   "execution_count": 80,
   "metadata": {},
   "outputs": [
    {
     "data": {
      "text/plain": [
       "'3.86'"
      ]
     },
     "execution_count": 80,
     "metadata": {},
     "output_type": "execute_result"
    }
   ],
   "source": [
    "# Calificación PSN\n",
    "soup.find(\"div\", attrs={'class':'psw-t-subtitle psw-t-bold psw-l-line-center','data-qa':'mfe-game-title#average-rating'}).get_text()\n"
   ]
  },
  {
   "cell_type": "code",
   "execution_count": 81,
   "metadata": {},
   "outputs": [
    {
     "data": {
      "text/plain": [
       "'91 calificaciones'"
      ]
     },
     "execution_count": 81,
     "metadata": {},
     "output_type": "execute_result"
    }
   ],
   "source": [
    "# Nº Calificaciones\n",
    "soup.find(\"span\", attrs={'class':'psw-c-t-2 psw-t-secondary','data-qa':'mfe-star-rating#overall-rating#total-ratings'}).get_text()"
   ]
  },
  {
   "cell_type": "code",
   "execution_count": 82,
   "metadata": {},
   "outputs": [
    {
     "data": {
      "text/plain": [
       "'51 %'"
      ]
     },
     "execution_count": 82,
     "metadata": {},
     "output_type": "execute_result"
    }
   ],
   "source": [
    "# % 5 estrellas \n",
    "soup.find(\"span\", attrs={'class':'psw-t-body','data-qa':'mfe-star-rating#overall-rating#rating-progress5#percentage-label'}).get_text()"
   ]
  },
  {
   "cell_type": "code",
   "execution_count": 83,
   "metadata": {},
   "outputs": [
    {
     "data": {
      "text/plain": [
       "'10 %'"
      ]
     },
     "execution_count": 83,
     "metadata": {},
     "output_type": "execute_result"
    }
   ],
   "source": [
    "# % 4 estrellas \n",
    "soup.find(\"span\", attrs={'class':'psw-t-body','data-qa':'mfe-star-rating#overall-rating#rating-progress4#percentage-label'}).get_text()"
   ]
  },
  {
   "cell_type": "code",
   "execution_count": 85,
   "metadata": {},
   "outputs": [
    {
     "data": {
      "text/plain": [
       "'24 %'"
      ]
     },
     "execution_count": 85,
     "metadata": {},
     "output_type": "execute_result"
    }
   ],
   "source": [
    "# % 3 estrellas \n",
    "soup.find(\"span\", attrs={'class':'psw-t-body','data-qa':'mfe-star-rating#overall-rating#rating-progress3#percentage-label'}).get_text()"
   ]
  },
  {
   "cell_type": "code",
   "execution_count": 86,
   "metadata": {},
   "outputs": [
    {
     "data": {
      "text/plain": [
       "'5 %'"
      ]
     },
     "execution_count": 86,
     "metadata": {},
     "output_type": "execute_result"
    }
   ],
   "source": [
    "# % 2 estrellas \n",
    "soup.find(\"span\", attrs={'class':'psw-t-body','data-qa':'mfe-star-rating#overall-rating#rating-progress2#percentage-label'}).get_text()"
   ]
  },
  {
   "cell_type": "code",
   "execution_count": 87,
   "metadata": {},
   "outputs": [
    {
     "data": {
      "text/plain": [
       "'10 %'"
      ]
     },
     "execution_count": 87,
     "metadata": {},
     "output_type": "execute_result"
    }
   ],
   "source": [
    "# % 1 estrella\n",
    "soup.find(\"span\", attrs={'class':'psw-t-body','data-qa':'mfe-star-rating#overall-rating#rating-progress1#percentage-label'}).get_text()"
   ]
  },
  {
   "cell_type": "code",
   "execution_count": 88,
   "metadata": {},
   "outputs": [],
   "source": [
    "# Precio al día\n",
    "fecha_webs = datetime.now()\n",
    "fecha_webs = datetime.isoformat(fecha_webs)"
   ]
  },
  {
   "cell_type": "markdown",
   "metadata": {},
   "source": [
    "Esto fue una primera aproximación a los valores que queremos obtener en nuestro web scrapping."
   ]
  },
  {
   "cell_type": "markdown",
   "metadata": {},
   "source": [
    "[Volver al índice](#0)"
   ]
  },
  {
   "cell_type": "markdown",
   "metadata": {},
   "source": [
    "<a id=\"4\"></a> <br>\n",
    "### Primera aproximación funcional"
   ]
  },
  {
   "cell_type": "code",
   "execution_count": 89,
   "metadata": {},
   "outputs": [],
   "source": [
    "### PRUEBA FUNCIONAL WEBSCRAPING DE X JUEGOS ### Completamente funcional, pero mucho tiempo utilizado por campo...\n",
    "\n",
    "service = Service(executable_path='../../psn_env/Lib/site-packages/selenium/webdriver/chrome/chromedriver.exe')\n",
    "options = webdriver.ChromeOptions()\n",
    "\n",
    "df_juegos = pd.DataFrame(columns=[\"Titulo\",\"Plataforma\",\"Genero\",\"Compañia\",\n",
    "                                \"Lanzamiento\",\"Idiomas\",\"Calificación PSN\",\"Número de calificaciones\",\"Calificación 5 estrellas\",\n",
    "                                \"Calificación 4 estrellas\",\"Calificación 3 estrellas\",\"Calificación 2 estrellas\",\n",
    "                                \"Calificación 1 estrella\",\"Precio_original_con_PSN\",\"Precio_actual_sin_PSN\"])\n",
    "driver = webdriver.Chrome(service=service, options=options)\n",
    "\n",
    "driver.get(\"https://store.playstation.com/\")\n",
    "\n",
    "\n",
    "lista_tiempo = [1.0,1.5,2.0] \n",
    "\n",
    "#rechazamos cookies\n",
    "time.sleep(random.choice(lista_tiempo))\n",
    "rechazar_cookies = driver.find_element(By.XPATH, '/html/body/div[5]/div[2]/div/div/div[1]/div/div[2]/button/img')\n",
    "rechazar_cookies.click()\n",
    "\n",
    "#vamos a la pestaña de explora\n",
    "time.sleep(random.choice(lista_tiempo))\n",
    "explora = driver.find_element(By.XPATH, '/html/body/div[3]/section/div/div/div/ul/li[5]/a')\n",
    "explora.click()\n",
    "\n",
    "\n",
    "#plat\n",
    "time.sleep(random.choice(lista_tiempo))\n",
    "sort_plat = driver.find_element(By.XPATH, '/html/body/div[3]/main/div/section/div/div/div/div[4]/button')\n",
    "sort_plat.click()\n",
    "\n",
    "\n",
    "#ordenamos\n",
    "time.sleep(random.choice(lista_tiempo))\n",
    "sort_gam = driver.find_element(By.XPATH, '/html/body/div[3]/main/div/section/div/div/div/div[3]/div/div/div/div[3]/div[1]/div/header/button')\n",
    "sort_gam.click()\n",
    "\n",
    "#AZ\n",
    "time.sleep(random.choice(lista_tiempo))\n",
    "sort_az = driver.find_element(By.XPATH, '/html/body/div[3]/main/div/section/div/div/div/div[3]/div/div/div/div[3]/div[1]/div/div/span/label[3]')\n",
    "sort_az.click()\n",
    "\n",
    "# Obtenemos número de juegos para scrapear\n",
    "time.sleep(random.choice(lista_tiempo))\n",
    "page_source_init = driver.page_source\n",
    "soup = bs(page_source_init, 'lxml')\n",
    "# Mostrar un numero de juegos limitado\n",
    "numero_juegos = 10\n",
    "# numero_juegos = soup.find('div', class_ ='psw-t-body psw-c-t-2').get_text() #Si son todos los de la web\n",
    "\n",
    "#seleccion de juego\n",
    "\n",
    "cont = 0\n",
    "while cont <= 24:\n",
    "    cont += 1\n",
    "    time.sleep(random.choice(lista_tiempo))\n",
    "    select_game = driver.find_element(By.XPATH, f'/html/body/div[3]/main/div/section/div/div/div/div[2]/div[2]/ul/li[{cont}]/div/a')\n",
    "    select_game.click()\n",
    "\n",
    "    time.sleep(random.choice(lista_tiempo))\n",
    "\n",
    "    # Info que nos descargamos de la pagina del juego.\n",
    "    page_source = driver.page_source\n",
    "    soup = bs(page_source, 'lxml')\n",
    "\n",
    "    # Variable por juego\n",
    "    \n",
    "    # Titulo\n",
    "    try:\n",
    "        titulo = soup.find(\"h1\", class_=\"psw-m-b-5 psw-t-title-l psw-t-size-8 psw-l-line-break-word\").get_text()\n",
    "    except:\n",
    "        titulo = soup.find(\"h1\", class_=\"psw-m-b-5 psw-t-title-l psw-t-size-7 psw-l-line-break-word\").get_text()\n",
    "    \n",
    "    # Precio original\n",
    "    try:\n",
    "        precio_original_sn_psn = soup.find(\"span\",class_=\"psw-t-title-s psw-c-t-2 psw-t-strike\").get_text() \n",
    "    except:\n",
    "        precio_original_sn_psn = soup.find(\"span\",class_=\"psw-t-title-m\").get_text()\n",
    "    \n",
    "    # Precio actual \n",
    "    try:\n",
    "        precio_actual_sn_psn = soup.find(\"span\",class_=\"psw-t-title-m psw-m-r-4\").get_text()\n",
    "    except:\n",
    "        precio_actual_sn_psn = precio_original_sn_psn\n",
    "    \n",
    "    # Plataforma\n",
    "    try:\n",
    "        plataforma = soup.find(\"dd\", attrs={'class':'psw-p-r-6 psw-p-r-0@tablet-s psw-t-bold psw-l-w-1/2 psw-l-w-1/6@tablet-s psw-l-w-1/6@tablet-l psw-l-w-1/8@laptop psw-l-w-1/6@desktop psw-l-w-1/6@max','data-qa':'gameInfo#releaseInformation#platform-value'}).get_text()\n",
    "    except:\n",
    "        plataforma = \"No hay información\"\n",
    "    \n",
    "    # Genero\n",
    "    try:\n",
    "        genero = soup.find(\"span\", attrs={'style':'text-transform: capitalize;'}).get_text()\n",
    "    except:\n",
    "        genero = \"No hay información\"\n",
    "    \n",
    "    # Compañia\n",
    "    try:\n",
    "        compania = soup.find(\"dd\", attrs={'class':'psw-p-r-6 psw-p-r-0@tablet-s psw-t-bold psw-l-w-1/2 psw-l-w-1/6@tablet-s psw-l-w-1/6@tablet-l psw-l-w-1/8@laptop psw-l-w-1/6@desktop psw-l-w-1/6@max','data-qa':'gameInfo#releaseInformation#publisher-value'}).get_text()\n",
    "    except:\n",
    "        compania = \"No hay información\"\n",
    "    \n",
    "    # Lanzamiento\n",
    "    try:  \n",
    "        lanzamiento = soup.find(\"dd\", attrs={'class':'psw-p-r-6 psw-p-r-0@tablet-s psw-t-bold psw-l-w-1/2 psw-l-w-1/6@tablet-s psw-l-w-1/6@tablet-l psw-l-w-1/8@laptop psw-l-w-1/6@desktop psw-l-w-1/6@max','data-qa':'gameInfo#releaseInformation#releaseDate-value'}).get_text()\n",
    "    except:\n",
    "        lanzamiento = \"No hay información\"\n",
    "    \n",
    "    # Idiomas\n",
    "    try:\n",
    "        idiomas = soup.find(\"dd\", attrs={'class':'psw-p-r-6 psw-p-r-0@tablet-s psw-t-bold psw-l-w-1/2 psw-l-w-1/6@tablet-s psw-l-w-1/6@tablet-l psw-l-w-1/8@laptop psw-l-w-1/6@desktop psw-l-w-1/6@max','data-qa':'gameInfo#releaseInformation#subtitles-value'}).get_text()\n",
    "    except:\n",
    "        idiomas = \"No hay información\"\n",
    "    # Nº Calificaciones\n",
    "    try:\n",
    "        num_calificaciones = soup.find(\"span\", attrs={'class':'psw-c-t-2 psw-t-secondary','data-qa':'mfe-star-rating#overall-rating#total-ratings'}).get_text()\n",
    "    except:\n",
    "        num_calificaciones = \"No hay información\"\n",
    "    # Calificación PSN\n",
    "    \n",
    "    try:\n",
    "        calificacion = soup.find(\"div\", attrs={'class':'psw-t-subtitle psw-t-bold psw-l-line-center','data-qa':'mfe-game-title#average-rating'}).get_text()\n",
    "    except:\n",
    "        calificacion = \"No hay información\"\n",
    "    try:\n",
    "        calificacion_1 = soup.find(\"span\", attrs={'class':'psw-t-body','data-qa':'mfe-star-rating#overall-rating#rating-progress1#percentage-label'}).get_text()\n",
    "    except:\n",
    "        calificacion_1 = \"No hay información\"\n",
    "    try:\n",
    "        calificacion_2 = soup.find(\"span\", attrs={'class':'psw-t-body','data-qa':'mfe-star-rating#overall-rating#rating-progress2#percentage-label'}).get_text()\n",
    "    except:\n",
    "        calificacion_2 = \"No hay información\"\n",
    "    try:\n",
    "        calificacion_3 = soup.find(\"span\", attrs={'class':'psw-t-body','data-qa':'mfe-star-rating#overall-rating#rating-progress3#percentage-label'}).get_text()\n",
    "    except:\n",
    "        calificacion_3 = \"No hay información\"\n",
    "    try:\n",
    "        calificacion_4 = soup.find(\"span\", attrs={'class':'psw-t-body','data-qa':'mfe-star-rating#overall-rating#rating-progress4#percentage-label'}).get_text()\n",
    "    except:\n",
    "        calificacion_4 = \"No hay información\"\n",
    "    try:\n",
    "        calificacion_5 = soup.find(\"span\", attrs={'class':'psw-t-body','data-qa':'mfe-star-rating#overall-rating#rating-progress5#percentage-label'}).get_text()\n",
    "    except:\n",
    "        calificacion_5 = \"No hay información\"\n",
    "    \n",
    "    # precio_con_mayor_rebaja = \"No hay información\"\n",
    "    \n",
    "    df_juegos.loc[len(df_juegos)] = {\"Titulo\":titulo,\"Plataforma\":plataforma,\"Genero\":genero,\"Compañia\":compania,\"Lanzamiento\":lanzamiento,\n",
    "                                    \"Idiomas\":idiomas,\"Calificación PSN\":calificacion,\"Número de calificaciones\":num_calificaciones,\n",
    "                                    \"Calificación 5 estrellas\":calificacion_5,\n",
    "                                    \"Calificación 4 estrellas\":calificacion_4,\"Calificación 3 estrellas\":calificacion_3,\n",
    "                                    \"Calificación 2 estrellas\":calificacion_2,\"Calificación 1 estrella\":calificacion_1,\n",
    "                                    \"Precio original sin PSN\":precio_original_sn_psn,\"Precio_actual sin PSN\":precio_actual_sn_psn}\n",
    "                                    # \"Precio con mayor rebaja\":precio_con_mayor_rebaja \n",
    "    # time.sleep(random.choice(lista_tiempo))\n",
    "\n",
    "    driver.back();\n",
    "\n",
    "    time.sleep(random.choice(lista_tiempo))\n",
    "    #Comprobar error aquí\n",
    "    if cont == 24:\n",
    "        next_page = driver.find_element(By.XPATH,'/html/body/div[3]/main/div/section/div/div/div/div[2]/div[2]/div/nav/button[2]')  \n",
    "        next_page.click()      \n",
    "        cont = 0\n",
    "    elif numero_juegos == len(df_juegos):\n",
    "        break\n",
    "    else:\n",
    "        continue           \n",
    "driver.quit()\n"
   ]
  },
  {
   "cell_type": "code",
   "execution_count": 91,
   "metadata": {},
   "outputs": [
    {
     "data": {
      "text/html": [
       "<div>\n",
       "<style scoped>\n",
       "    .dataframe tbody tr th:only-of-type {\n",
       "        vertical-align: middle;\n",
       "    }\n",
       "\n",
       "    .dataframe tbody tr th {\n",
       "        vertical-align: top;\n",
       "    }\n",
       "\n",
       "    .dataframe thead th {\n",
       "        text-align: right;\n",
       "    }\n",
       "</style>\n",
       "<table border=\"1\" class=\"dataframe\">\n",
       "  <thead>\n",
       "    <tr style=\"text-align: right;\">\n",
       "      <th></th>\n",
       "      <th>Titulo</th>\n",
       "      <th>Plataforma</th>\n",
       "      <th>Genero</th>\n",
       "      <th>Compañia</th>\n",
       "      <th>Lanzamiento</th>\n",
       "      <th>Idiomas</th>\n",
       "      <th>Calificación PSN</th>\n",
       "      <th>Número de calificaciones</th>\n",
       "      <th>Calificación 5 estrellas</th>\n",
       "      <th>Calificación 4 estrellas</th>\n",
       "      <th>Calificación 3 estrellas</th>\n",
       "      <th>Calificación 2 estrellas</th>\n",
       "      <th>Calificación 1 estrella</th>\n",
       "      <th>Precio_original_con_PSN</th>\n",
       "      <th>Precio_actual_sin_PSN</th>\n",
       "    </tr>\n",
       "  </thead>\n",
       "  <tbody>\n",
       "    <tr>\n",
       "      <th>0</th>\n",
       "      <td>0 Degrees</td>\n",
       "      <td>PS5</td>\n",
       "      <td>Acción, Puzzle</td>\n",
       "      <td>eastasiasoft</td>\n",
       "      <td>31/12/2021</td>\n",
       "      <td>Inglés</td>\n",
       "      <td>3.86</td>\n",
       "      <td>91 calificaciones</td>\n",
       "      <td>51 %</td>\n",
       "      <td>10 %</td>\n",
       "      <td>24 %</td>\n",
       "      <td>5 %</td>\n",
       "      <td>10 %</td>\n",
       "      <td>NaN</td>\n",
       "      <td>NaN</td>\n",
       "    </tr>\n",
       "    <tr>\n",
       "      <th>1</th>\n",
       "      <td>1001 Spikes</td>\n",
       "      <td>PS4</td>\n",
       "      <td>Acción, Acción, Arcade</td>\n",
       "      <td>Nicalis Inc.</td>\n",
       "      <td>7/10/2015</td>\n",
       "      <td>Inglés</td>\n",
       "      <td>4.43</td>\n",
       "      <td>893 calificaciones</td>\n",
       "      <td>68 %</td>\n",
       "      <td>20 %</td>\n",
       "      <td>6 %</td>\n",
       "      <td>3 %</td>\n",
       "      <td>4 %</td>\n",
       "      <td>NaN</td>\n",
       "      <td>NaN</td>\n",
       "    </tr>\n",
       "    <tr>\n",
       "      <th>2</th>\n",
       "      <td>100ft Robot Golf</td>\n",
       "      <td>PS4</td>\n",
       "      <td>Grupo, Deporte</td>\n",
       "      <td>NO GOBLIN LLC</td>\n",
       "      <td>18/9/2017</td>\n",
       "      <td>Inglés</td>\n",
       "      <td>3.42</td>\n",
       "      <td>288 calificaciones</td>\n",
       "      <td>38 %</td>\n",
       "      <td>17 %</td>\n",
       "      <td>14 %</td>\n",
       "      <td>12 %</td>\n",
       "      <td>20 %</td>\n",
       "      <td>NaN</td>\n",
       "      <td>NaN</td>\n",
       "    </tr>\n",
       "    <tr>\n",
       "      <th>3</th>\n",
       "      <td>101 Ways to Die</td>\n",
       "      <td>PS4</td>\n",
       "      <td>Puzzle</td>\n",
       "      <td>VISION GAMES PUBLISHING</td>\n",
       "      <td>22/3/2016</td>\n",
       "      <td>Alemán, Español, Francés (Francia), Inglés, It...</td>\n",
       "      <td>3.89</td>\n",
       "      <td>257 calificaciones</td>\n",
       "      <td>46 %</td>\n",
       "      <td>25 %</td>\n",
       "      <td>14 %</td>\n",
       "      <td>4 %</td>\n",
       "      <td>12 %</td>\n",
       "      <td>NaN</td>\n",
       "      <td>NaN</td>\n",
       "    </tr>\n",
       "    <tr>\n",
       "      <th>4</th>\n",
       "      <td>10 Second Ninja X</td>\n",
       "      <td>PS4</td>\n",
       "      <td>Puzzle</td>\n",
       "      <td>Curve Digital</td>\n",
       "      <td>19/7/2016</td>\n",
       "      <td>Alemán, Español, Francés (Francia), Inglés, Ruso</td>\n",
       "      <td>3.52</td>\n",
       "      <td>3.622 calificaciones</td>\n",
       "      <td>47 %</td>\n",
       "      <td>11 %</td>\n",
       "      <td>13 %</td>\n",
       "      <td>6 %</td>\n",
       "      <td>23 %</td>\n",
       "      <td>NaN</td>\n",
       "      <td>NaN</td>\n",
       "    </tr>\n",
       "  </tbody>\n",
       "</table>\n",
       "</div>"
      ],
      "text/plain": [
       "              Titulo Plataforma                  Genero  \\\n",
       "0          0 Degrees        PS5          Acción, Puzzle   \n",
       "1        1001 Spikes        PS4  Acción, Acción, Arcade   \n",
       "2   100ft Robot Golf        PS4          Grupo, Deporte   \n",
       "3    101 Ways to Die        PS4                  Puzzle   \n",
       "4  10 Second Ninja X        PS4                  Puzzle   \n",
       "\n",
       "                  Compañia Lanzamiento  \\\n",
       "0             eastasiasoft  31/12/2021   \n",
       "1             Nicalis Inc.   7/10/2015   \n",
       "2            NO GOBLIN LLC   18/9/2017   \n",
       "3  VISION GAMES PUBLISHING   22/3/2016   \n",
       "4            Curve Digital   19/7/2016   \n",
       "\n",
       "                                             Idiomas Calificación PSN  \\\n",
       "0                                             Inglés             3.86   \n",
       "1                                             Inglés             4.43   \n",
       "2                                             Inglés             3.42   \n",
       "3  Alemán, Español, Francés (Francia), Inglés, It...             3.89   \n",
       "4   Alemán, Español, Francés (Francia), Inglés, Ruso             3.52   \n",
       "\n",
       "  Número de calificaciones Calificación 5 estrellas Calificación 4 estrellas  \\\n",
       "0        91 calificaciones                     51 %                     10 %   \n",
       "1       893 calificaciones                     68 %                     20 %   \n",
       "2       288 calificaciones                     38 %                     17 %   \n",
       "3       257 calificaciones                     46 %                     25 %   \n",
       "4     3.622 calificaciones                     47 %                     11 %   \n",
       "\n",
       "  Calificación 3 estrellas Calificación 2 estrellas Calificación 1 estrella  \\\n",
       "0                     24 %                      5 %                    10 %   \n",
       "1                      6 %                      3 %                     4 %   \n",
       "2                     14 %                     12 %                    20 %   \n",
       "3                     14 %                      4 %                    12 %   \n",
       "4                     13 %                      6 %                    23 %   \n",
       "\n",
       "   Precio_original_con_PSN  Precio_actual_sin_PSN  \n",
       "0                      NaN                    NaN  \n",
       "1                      NaN                    NaN  \n",
       "2                      NaN                    NaN  \n",
       "3                      NaN                    NaN  \n",
       "4                      NaN                    NaN  "
      ]
     },
     "execution_count": 91,
     "metadata": {},
     "output_type": "execute_result"
    }
   ],
   "source": [
    "df_juegos.head()"
   ]
  },
  {
   "cell_type": "markdown",
   "metadata": {},
   "source": [
    "1 minuto aproximadamente 10 juegos, no es un tiempo muy práctico pero recoge los datos de manera correcta."
   ]
  },
  {
   "cell_type": "markdown",
   "metadata": {},
   "source": [
    "[Volver al índice](#0)"
   ]
  },
  {
   "cell_type": "markdown",
   "metadata": {},
   "source": [
    "<a id=\"5\"></a> <br>\n",
    "Código webscrappeo sin necesidad de navegador abierto"
   ]
  },
  {
   "cell_type": "code",
   "execution_count": null,
   "metadata": {},
   "outputs": [],
   "source": [
    "### PRUEBA FUNCIONAL WEBSCRAPING DE X JUEGOS Y TIEMPO UTILIZADO ### Completamente funcional, pocos campos, meter más cosas genero etc...\n",
    "# Reset df\n",
    "service = Service(executable_path='../../psn_env/Lib/site-packages/selenium/webdriver/chrome/chromedriver.exe')\n",
    "options = webdriver.ChromeOptions()\n",
    "options.add_argument(\"--headless=new\")\n",
    "\n",
    "\n",
    "df_juegos = pd.DataFrame(columns=[\"Titulo\",\"Día y hora\",\"Plataforma\",\"Genero\",\"Compañia\",\n",
    "                                \"Lanzamiento\",\"Idiomas\",\"Calificación PSN\",\"Número de calificaciones\",\"Calificación 5 estrellas\",\n",
    "                                \"Calificación 4 estrellas\",\"Calificación 3 estrellas\",\"Calificación 2 estrellas\",\n",
    "                                \"Calificación 1 estrella\",\"Precio original sin PSN\",\"Precio actual sin PSN\",\"Precio original con PSN\",\"Precio actual con PSN\"]) #,\"Precio con mayor rebaja\"\n",
    "\n",
    "driver = webdriver.Chrome(service=service, options=options)\n",
    "\n",
    "\n",
    "driver.get(\"https://store.playstation.com/\")\n",
    "\n",
    "\n",
    "lista_tiempo = [1.9,2.0,2.1,2.2]\n",
    "\n",
    "#rechazamos cookies\n",
    "time.sleep(random.choice(lista_tiempo))\n",
    "rechazar_cookies = driver.find_element(By.XPATH, '/html/body/div[5]/div[2]/div/div/div[1]/div/div[2]/button/img')\n",
    "rechazar_cookies.click()\n",
    "\n",
    "#vamos a la pestaña de explora\n",
    "time.sleep(random.choice(lista_tiempo))\n",
    "explora = driver.find_element(By.XPATH, '/html/body/div[3]/section/div/div/div/ul/li[5]/a')\n",
    "explora.click()\n",
    "\n",
    "\n",
    "#plat\n",
    "time.sleep(random.choice(lista_tiempo))\n",
    "sort_plat = driver.find_element(By.XPATH, '/html/body/div[3]/main/div/section/div/div/div/div[4]/button')\n",
    "sort_plat.click()\n",
    "\n",
    "\n",
    "#ordenamos\n",
    "time.sleep(random.choice(lista_tiempo))\n",
    "sort_gam = driver.find_element(By.XPATH, '/html/body/div[3]/main/div/section/div/div/div/div[3]/div/div/div/div[3]/div[1]/div/header/button')\n",
    "sort_gam.click()\n",
    "\n",
    "#AZ\n",
    "time.sleep(random.choice(lista_tiempo))\n",
    "sort_az = driver.find_element(By.XPATH, '/html/body/div[3]/main/div/section/div/div/div/div[3]/div/div/div/div[3]/div[1]/div/div/span/label[3]')\n",
    "sort_az.click()\n",
    "\n",
    "# Obtenemos número de juegos para scrapear\n",
    "time.sleep(random.choice(lista_tiempo))\n",
    "page_source = driver.page_source\n",
    "soup = bs(page_source, 'lxml')\n",
    "# Mostrar un numero de juegos limitado\n",
    "numero_juegos = 1000\n",
    "# numero_juegos = soup.find('div', class_ ='psw-t-body psw-c-t-2').get_text() #Si son todos los de la web\n",
    "\n",
    "#seleccion de juego\n",
    "\n",
    "cont = 0\n",
    "while cont <= 24:\n",
    "    cont += 1\n",
    "    time.sleep(random.choice(lista_tiempo))\n",
    "    select_game = driver.find_element(By.XPATH, f'/html/body/div[3]/main/div/section/div/div/div/div[2]/div[2]/ul/li[{cont}]/div/a')\n",
    "    select_game.click()\n",
    "\n",
    "    time.sleep(random.choice(lista_tiempo))\n",
    "\n",
    "    # Info que nos descargamos de la pagina del juego.\n",
    "    page_source = driver.page_source\n",
    "    soup = bs(page_source, 'html')\n",
    "\n",
    "    # Variable por juego\n",
    "    \n",
    "    # Titulo\n",
    "    try:\n",
    "        titulo = soup.find(\"h1\", class_=\"psw-m-b-5 psw-t-title-l psw-t-size-8 psw-l-line-break-word\").get_text()\n",
    "    except:\n",
    "        titulo = soup.find(\"h1\", class_=\"psw-m-b-5 psw-t-title-l psw-t-size-7 psw-l-line-break-word\").get_text()\n",
    "    \n",
    "    # Día y hora de webscrappeo\n",
    "    \n",
    "        fecha_webs = datetime.now()\n",
    "        fecha_webs = datetime.isoformat(fecha_webs)\n",
    "        \n",
    "    # Precio original sin PSN\n",
    "    try:\n",
    "        precio_original_sn_psn = soup.find(\"span\",class_=\"psw-t-title-s psw-c-t-2 psw-t-strike\").get_text() \n",
    "    except:\n",
    "        precio_original_sn_psn = soup.find(\"span\",class_=\"psw-t-title-m\").get_text()\n",
    "        \n",
    "    # Precio original con PSN\n",
    "    try:\n",
    "        precio_original_cn_psn = soup.find(\"span\",attrs={'data-qa':'mfeCtaMain#offer1#originalPrice','class':'psw-t-title-s psw-c-t-2 psw-t-strike'}).get_text()\n",
    "    except: \n",
    "        try:\n",
    "            precio_original_cn_psn = soup.find(\"span\",attrs={'class':'psw-truncate-text-1 psw-p-t-1 psw-l-exclude@desktop'}).get_text()\n",
    "        except:\n",
    "            precio_original_cn_psn = precio_original_sn_psn\n",
    "    # Precio actual sin PSN\n",
    "    try:\n",
    "        precio_actual_sn_psn = soup.find(\"span\",class_=\"psw-t-title-m psw-m-r-4\").get_text()\n",
    "    except:\n",
    "        precio_actual_sn_psn = precio_original_sn_psn\n",
    "    \n",
    "    #Precio Actual con PSN\n",
    "    try:\n",
    "        precio_actual_cn_psn = soup.find(\"span\",attrs={'data-qa':'mfeCtaMain#offer1#finalPrice','class':'psw-t-title-m psw-m-r-4'}).get_text()\n",
    "    except: \n",
    "        try:\n",
    "            precio_actual_cn_psn = soup.find(\"span\",class_=\"psw-t-title-m psw-m-r-4\").get_text()\n",
    "        except: \n",
    "            precio_actual_cn_psn = precio_actual_sn_psn\n",
    "    \n",
    "    # Plataforma\n",
    "    try:\n",
    "        plataforma = soup.find(\"dd\", attrs={'class':'psw-p-r-6 psw-p-r-0@tablet-s psw-t-bold psw-l-w-1/2 psw-l-w-1/6@tablet-s psw-l-w-1/6@tablet-l psw-l-w-1/8@laptop psw-l-w-1/6@desktop psw-l-w-1/6@max','data-qa':'gameInfo#releaseInformation#platform-value'}).get_text()\n",
    "    except:\n",
    "        plataforma = \"No hay información\"\n",
    "    \n",
    "    # Genero\n",
    "    try:\n",
    "        genero = soup.find(\"span\", attrs={'style':'text-transform: capitalize;'}).get_text()\n",
    "    except:\n",
    "        genero = \"No hay información\"\n",
    "    \n",
    "    # Compañia\n",
    "    try:\n",
    "        compania = soup.find(\"dd\", attrs={'class':'psw-p-r-6 psw-p-r-0@tablet-s psw-t-bold psw-l-w-1/2 psw-l-w-1/6@tablet-s psw-l-w-1/6@tablet-l psw-l-w-1/8@laptop psw-l-w-1/6@desktop psw-l-w-1/6@max','data-qa':'gameInfo#releaseInformation#publisher-value'}).get_text()\n",
    "    except:\n",
    "        compania = \"No hay información\"\n",
    "    \n",
    "    # Lanzamiento\n",
    "    try:  \n",
    "        lanzamiento = soup.find(\"dd\", attrs={'class':'psw-p-r-6 psw-p-r-0@tablet-s psw-t-bold psw-l-w-1/2 psw-l-w-1/6@tablet-s psw-l-w-1/6@tablet-l psw-l-w-1/8@laptop psw-l-w-1/6@desktop psw-l-w-1/6@max','data-qa':'gameInfo#releaseInformation#releaseDate-value'}).get_text()\n",
    "    except:\n",
    "        lanzamiento = \"No hay información\"\n",
    "    \n",
    "    # Idiomas\n",
    "    try:\n",
    "        idiomas = soup.find(\"dd\", attrs={'class':'psw-p-r-6 psw-p-r-0@tablet-s psw-t-bold psw-l-w-1/2 psw-l-w-1/6@tablet-s psw-l-w-1/6@tablet-l psw-l-w-1/8@laptop psw-l-w-1/6@desktop psw-l-w-1/6@max','data-qa':'gameInfo#releaseInformation#subtitles-value'}).get_text()\n",
    "    except:\n",
    "        idiomas = \"No hay información\"\n",
    "    # Nº Calificaciones\n",
    "    try:\n",
    "        num_calificaciones = soup.find(\"span\", attrs={'class':'psw-c-t-2 psw-t-secondary','data-qa':'mfe-star-rating#overall-rating#total-ratings'}).get_text()\n",
    "    except:\n",
    "        num_calificaciones = \"No hay información\"\n",
    "    # Calificación PSN\n",
    "    \n",
    "    try:\n",
    "        calificacion = soup.find(\"div\", attrs={'class':'psw-t-subtitle psw-t-bold psw-l-line-center','data-qa':'mfe-game-title#average-rating'}).get_text()\n",
    "    except:\n",
    "        calificacion = \"No hay información\"\n",
    "    try:\n",
    "        calificacion_1 = soup.find(\"span\", attrs={'class':'psw-t-body','data-qa':'mfe-star-rating#overall-rating#rating-progress1#percentage-label'}).get_text()\n",
    "    except:\n",
    "        calificacion_1 = \"No hay información\"\n",
    "    try:\n",
    "        calificacion_2 = soup.find(\"span\", attrs={'class':'psw-t-body','data-qa':'mfe-star-rating#overall-rating#rating-progress2#percentage-label'}).get_text()\n",
    "    except:\n",
    "        calificacion_2 = \"No hay información\"\n",
    "    try:\n",
    "        calificacion_3 = soup.find(\"span\", attrs={'class':'psw-t-body','data-qa':'mfe-star-rating#overall-rating#rating-progress3#percentage-label'}).get_text()\n",
    "    except:\n",
    "        calificacion_3 = \"No hay información\"\n",
    "    try:\n",
    "        calificacion_4 = soup.find(\"span\", attrs={'class':'psw-t-body','data-qa':'mfe-star-rating#overall-rating#rating-progress4#percentage-label'}).get_text()\n",
    "    except:\n",
    "        calificacion_4 = \"No hay información\"\n",
    "    try:\n",
    "        calificacion_5 = soup.find(\"span\", attrs={'class':'psw-t-body','data-qa':'mfe-star-rating#overall-rating#rating-progress5#percentage-label'}).get_text()\n",
    "    except:\n",
    "        calificacion_5 = \"No hay información\"\n",
    "    \n",
    "    # precio_con_mayor_rebaja = \"No hay información\"\n",
    "    \n",
    "    df_juegos.loc[len(df_juegos)] = {\"Titulo\":titulo,\"Día y hora\":fecha_webs,\"Plataforma\":plataforma,\"Genero\":genero,\"Compañia\":compania,\"Lanzamiento\":lanzamiento,\n",
    "                                    \"Idiomas\":idiomas,\"Calificación PSN\":calificacion,\"Número de calificaciones\":num_calificaciones,\n",
    "                                    \"Calificación 5 estrellas\":calificacion_5,\n",
    "                                    \"Calificación 4 estrellas\":calificacion_4,\"Calificación 3 estrellas\":calificacion_3,\n",
    "                                    \"Calificación 2 estrellas\":calificacion_2,\"Calificación 1 estrella\":calificacion_1,\n",
    "                                    \"Precio original sin PSN\":precio_original_sn_psn,\"Precio actual sin PSN\":precio_actual_sn_psn,\"Precio original con PSN\":precio_original_cn_psn, \"Precio actual con PSN\":precio_actual_cn_psn}\n",
    "                                    # \"Precio con mayor rebaja\":precio_con_mayor_rebaja \n",
    "    # time.sleep(random.choice(lista_tiempo))\n",
    "\n",
    "    driver.back();\n",
    "\n",
    "    time.sleep(random.choice(lista_tiempo))\n",
    "    #Comprobar error aquí\n",
    "    if cont == 24:\n",
    "        next_page = driver.find_element(By.XPATH,'/html/body/div[3]/main/div/section/div/div/div/div[2]/div[2]/div/nav/button[2]')  \n",
    "        next_page.click()\n",
    "        time.sleep(random.choice(lista_tiempo))      \n",
    "        cont = 0\n",
    "    elif numero_juegos == len(df_juegos):\n",
    "        break\n",
    "    else:\n",
    "        continue           \n",
    "driver.quit()"
   ]
  },
  {
   "cell_type": "markdown",
   "metadata": {},
   "source": [
    "Una vez hecho esto intentamos alojar funciones y clases para poder hacerlo todavía más "
   ]
  },
  {
   "cell_type": "markdown",
   "metadata": {},
   "source": [
    "<a id=\"6\"></a> <br>\n",
    "### Funciones y Clases "
   ]
  },
  {
   "cell_type": "markdown",
   "metadata": {},
   "source": [
    "#### Funciones"
   ]
  },
  {
   "cell_type": "code",
   "execution_count": 2,
   "metadata": {},
   "outputs": [],
   "source": [
    "def carga_pagina_inicial():\n",
    "    '''\n",
    "    En esta función estamos haciendo la carga de la página inicial donde más adelante,\n",
    "    empezaremos a recoger información sobre todos los juegos de la plataforma\n",
    "    \n",
    "    '''\n",
    "    from selenium.common.exceptions import TimeoutException\n",
    "    from fake_useragent import UserAgent\n",
    "    \"fake_user_agent\"\n",
    "    ua = UserAgent()\n",
    "    timeout = 10\n",
    "    \n",
    "    # lista_tiempo = [3,3.1,3.2]\n",
    "    #rechazamos cookies\n",
    "\n",
    "    try:\n",
    "        butt_coo = EC.presence_of_element_located((By.XPATH, '/html/body/div[5]/div[2]/div/div/div[1]/div/div[2]/button/img'))\n",
    "        WebDriverWait(driver, timeout).until(butt_coo)\n",
    "    except TimeoutException:\n",
    "        print(\"Timed out waiting for sort button to appear\")\n",
    "\n",
    "    rechazar_cookies = driver.find_element(By.XPATH, '/html/body/div[5]/div[2]/div/div/div[1]/div/div[2]/button/img')\n",
    "    rechazar_cookies.click()\n",
    "\n",
    "    #vamos a la pestaña de explora\n",
    "\n",
    "    try:\n",
    "        expl_butt = EC.presence_of_element_located((By.XPATH, '/html/body/div[3]/section/div/div/div/ul/li[5]/a'))\n",
    "        WebDriverWait(driver, timeout).until(expl_butt)\n",
    "    except TimeoutException:\n",
    "        print(\"Timed out waiting for sort button to appear\")\n",
    "\n",
    "    explora = driver.find_element(By.XPATH, '/html/body/div[3]/section/div/div/div/ul/li[5]/a')\n",
    "    explora.click()\n",
    "\n",
    "    #return\n",
    "\n",
    "    # Si queremos ordenar en ascendente \n",
    "    # plat\n",
    "    \n",
    "    try:\n",
    "        sort_butt = EC.presence_of_element_located((By.XPATH, '/html/body/div[3]/main/div/section/div/div/div/div[4]/button'))\n",
    "        WebDriverWait(driver, timeout).until(sort_butt)\n",
    "    except TimeoutException:\n",
    "        print(\"Timed out waiting for sort button to appear\")\n",
    "\n",
    "\n",
    "    sort_plat = driver.find_element(By.XPATH, '/html/body/div[3]/main/div/section/div/div/div/div[4]/button')\n",
    "    sort_plat.click()\n",
    "\n",
    "\n",
    "    #ordenamos\n",
    "\n",
    "    try:\n",
    "        sort_g = EC.presence_of_element_located((By.XPATH, '/html/body/div[3]/main/div/section/div/div/div/div[3]/div/div/div/div[3]/div[1]/div/header/button'))\n",
    "        WebDriverWait(driver, timeout).until(sort_g)\n",
    "    except TimeoutException:\n",
    "        print(\"Timed out waiting for sort button to appear\")\n",
    "\n",
    "\n",
    "    sort_gam = driver.find_element(By.XPATH, '/html/body/div[3]/main/div/section/div/div/div/div[3]/div/div/div/div[3]/div[1]/div/header/button')\n",
    "    sort_gam.click()\n",
    "\n",
    "    #AZ\n",
    "\n",
    "\n",
    "    try:\n",
    "        sort_az_ = EC.presence_of_element_located((By.XPATH, '/html/body/div[3]/main/div/section/div/div/div/div[3]/div/div/div/div[3]/div[1]/div/div/span/label[3]'))\n",
    "        WebDriverWait(driver, timeout).until(sort_az_)\n",
    "    except TimeoutException:\n",
    "        print(\"Timed out waiting for sort button to appear\")\n",
    "\n",
    "    sort_az = driver.find_element(By.XPATH, '/html/body/div[3]/main/div/section/div/div/div/div[3]/div/div/div/div[3]/div[1]/div/div/span/label[3]')\n",
    "    sort_az.click()\n",
    "   \n",
    "\n",
    "    driver.implicitly_wait(10)\n",
    "\n",
    "    return\n",
    "    \n",
    "            \n",
    "def pagina_concreta_carga(pagina):\n",
    "    pag = 1\n",
    "    while pag != pagina:\n",
    "        next_page = driver.find_element(By.XPATH,'/html/body/div[3]/main/div/section/div/div/div/div[2]/div[2]/div/nav/button[2]')  \n",
    "        next_page.click()\n",
    "        pag += 1\n",
    "        \n",
    "def id_juego(ref):\n",
    "    \n",
    "    id_juego = re.findall(r\"\\d+\",ref)\n",
    "    id_juego = int(id_juego[0])\n",
    "    return id_juego"
   ]
  },
  {
   "cell_type": "markdown",
   "metadata": {},
   "source": [
    "#### Clases\n"
   ]
  },
  {
   "cell_type": "code",
   "execution_count": 3,
   "metadata": {},
   "outputs": [],
   "source": [
    "class info_game:\n",
    "    \n",
    "    \"\"\"\n",
    "    Una clase hecha para tener toda la información de cada juego concreto\n",
    "    \n",
    "    \"\"\"\n",
    "    def __init__(self,soup,etiqueta,atributo):\n",
    "        \"\"\"Constructor donde defino la sopa de BS que necesito, la etiqueta y el atributo o atributos concretos\n",
    "\n",
    "        Args:\n",
    "            soup (list): La sopa de xml que recibo de la web\n",
    "            etiqueta (string): la etiqueta que busco en cada scrapeo\n",
    "            atributo (list): lista de diccionarios que necesito para obtener cada detalle de cada juego\n",
    "        \"\"\"\n",
    "        self.sopa = soup\n",
    "        self.atribs = atributo\n",
    "        self.etiq = etiqueta\n",
    "    \n",
    "    def caracteristica_tipo(self,mensaje_concreto_error_df,cal=False):\n",
    "        \"\"\" \n",
    "        Metodo que nos devuelve la caracteristica concreta que queramos para cada juego\n",
    "        \n",
    "        Returns:\n",
    "            caracarct(str): Devuelve la caracteristica concreta de cada tipo\n",
    "        \"\"\"\n",
    "        if cal == True:\n",
    "            calificacion_list = []\n",
    "            for i in range(0,5):   \n",
    "                calificacion_list.append(self.sopa.find(self.etiq, attrs=self.atribs[i]).get_text())\n",
    "            return calificacion_list\n",
    "        else:\n",
    "                      \n",
    "            for indice, valor in enumerate(self.atribs):\n",
    "                \n",
    "                try:\n",
    "                    caracarct = self.sopa.find(self.etiq, attrs=self.atribs[indice]).get_text()\n",
    "                    break\n",
    "                except AttributeError:\n",
    "                    caracarct = mensaje_concreto_error_df        \n",
    "        \n",
    "            return caracarct    "
   ]
  },
  {
   "cell_type": "markdown",
   "metadata": {},
   "source": [
    "##### Prueba funcional con Funciones y Clases sobre un Juego"
   ]
  },
  {
   "cell_type": "code",
   "execution_count": 12,
   "metadata": {},
   "outputs": [
    {
     "name": "stdout",
     "output_type": "stream",
     "text": [
      "10002456\n",
      "Marvel’s Spider-Man 2\n",
      "2024-03-10T22:52:33.990287\n",
      "79,99 €\n",
      "Precio original con PSN 79,99 €\n",
      "Precio actual sin PSN 79,99 €\n",
      "Precio actual con PSN 79,99 €\n",
      "PS5\n",
      "Acción\n",
      "Sony Interactive Entertainment Europe\n",
      "19/10/2023\n",
      "Alemán, Checo, Danés, Español, Finlandés, Francés (Francia), Griego, Húngaro, Inglés, Italiano, Neerlandés, Noruego, Polaco, Portugués (Portugal), Ruso, Sueco, Árabe\n",
      "109.083 calificaciones\n",
      "4.88\n",
      "1 % 1 % 1 % 4 % 93 %\n",
      "/es-es/concept/10002456\n"
     ]
    }
   ],
   "source": [
    "# Codigo para prueba de clases que me suelte soup y pruebe todas las posibilidades\n",
    "# Prueba numero de juegos\n",
    "from fake_useragent import UserAgent\n",
    "from selenium.common.exceptions import TimeoutException\n",
    "\"fake_user_agent\"\n",
    "ua = UserAgent()\n",
    "service = Service(executable_path='../../psn_env/Lib/site-packages/selenium/webdriver/chrome/chromedriver.exe')\n",
    "options = webdriver.ChromeOptions()\n",
    "options.add_argument(\"--headless=new\")\n",
    "timeout = 10\n",
    "\n",
    "df_juegos = pd.DataFrame(columns=[\"Titulo\",\"Día y hora\",\"Plataforma\",\"Genero\",\"Compañia\",\n",
    "                                \"Lanzamiento\",\"Idiomas\",\"Calificación PSN\",\"Número de calificaciones\",\"Calificación 5 estrellas\",\n",
    "                                \"Calificación 4 estrellas\",\"Calificación 3 estrellas\",\"Calificación 2 estrellas\",\n",
    "                                \"Calificación 1 estrella\",\"Precio original sin PSN\",\"Precio actual sin PSN\",\"Precio original con PSN\",\"Precio actual con PSN\"]) #,\"Precio con mayor rebaja\"\n",
    "\n",
    "driver = webdriver.Chrome(service=service, options=options)\n",
    "\n",
    "link_inicial = \"https://store.playstation.com/\"\n",
    "\n",
    "driver.get(link_inicial)\n",
    "\n",
    "page = 1\n",
    "cont = 15\n",
    "lista_tiempo = [3,3.1,3.2]\n",
    "\n",
    "carga_pagina_inicial()\n",
    "\n",
    "try:\n",
    "    sel_game = EC.presence_of_element_located((By.XPATH, f'/html/body/div[3]/main/div/section/div/div/div/div[2]/div[2]/ul/li[{cont+1}]/div/a'))\n",
    "    WebDriverWait(driver, timeout).until(sel_game)\n",
    "except TimeoutException:\n",
    "    print(f\"Timed out waiting for game to appear, game number {cont}\")\n",
    "url = driver.current_url  \n",
    "headers = {'User-Agent': ua.random}\n",
    "response = requests.get(url, headers=headers)\n",
    "soup_pagina_entera = bs(response.text,features=\"lxml\")\n",
    "url_game = soup_pagina_entera.select_one(f'[data-qa=\"ems-sdk-grid#productTile{cont}\"] a')\n",
    "href_valor = url_game.get('href')\n",
    "link_juego = link_inicial + href_valor\n",
    "# obtenemos info del juego         \n",
    "headers = {'User-Agent': ua.random}\n",
    "response = requests.get(link_juego, headers=headers)\n",
    "soup = bs(response.text,features=\"lxml\")\n",
    "\n",
    "time.sleep(random.choice(lista_tiempo))\n",
    "\n",
    "# Info que nos descargamos de la pagina del juego.\n",
    "\n",
    "#Titulo e id del juego \n",
    "title_info = info_game(soup,\"h1\",[{\"class\":\"psw-m-b-5 psw-t-title-l psw-t-size-6 psw-l-line-break-word\"},\n",
    "                              {\"class\":\"psw-m-b-5 psw-t-title-l psw-t-size-7 psw-l-line-break-word\"},\n",
    "                              {\"class\":\"psw-m-b-5 psw-t-title-l psw-t-size-8 psw-l-line-break-word\"}])\n",
    "\n",
    "id_juego = re.findall(r\"\\d+\",href_valor)\n",
    "id_juego = int(id_juego[0])\n",
    "print(id_juego)\n",
    "\n",
    "titulo = title_info.caracteristica_tipo(\"Error al recoger el título\")\n",
    "print(titulo)\n",
    "\n",
    "# Día y hora de webscrappeo\n",
    "fecha_webs = datetime.now()\n",
    "fecha_webs = datetime.isoformat(fecha_webs)\n",
    "print(fecha_webs)\n",
    "\n",
    "# Precio original sin PSN\n",
    "org_price_without_psn = info_game(soup,\"span\",[{\"class\":\"psw-t-title-s psw-c-t-2 psw-t-strike\"},\n",
    "                                            {\"class\":\"psw-t-title-m\"}])\n",
    "precio_original_sn_psn = org_price_without_psn.caracteristica_tipo(\"Error al recoger precio original sin psn\")\n",
    "print(precio_original_sn_psn)\n",
    "\n",
    "# Precio original con PSN --> No aparece , solo null\n",
    "org_price_with_psn = info_game(soup,\"span\",[{'data-qa':'mfeCtaMain#offer1#originalPrice','class':'psw-t-title-s psw-c-t-2 psw-t-strike'},\n",
    "                                            {\"class\":\"psw-t-title-s psw-c-t-2 psw-t-strike\"},{\"class\":\"psw-t-title-m\"}])\n",
    "precio_original_cn_psn = org_price_with_psn.caracteristica_tipo(\"Error al recoger precio original con psn\")\n",
    "print(\"Precio original con PSN\",precio_original_cn_psn)\n",
    "\n",
    "# Precio actual sin PSN\n",
    "act_price_without_psn = info_game(soup,\"span\",[{'class':\"psw-t-title-m psw-m-r-4\"},{\"class\":\"psw-t-title-m\"}])\n",
    "precio_actual_sn_psn = act_price_without_psn.caracteristica_tipo(\"Error al recoger precio actual sin psn\")\n",
    "print(\"Precio actual sin PSN\", precio_actual_sn_psn)\n",
    "\n",
    "# Precio actual con PSN\n",
    "act_price_with_psn = info_game(soup,\"span\",[{'data-qa':'mfeCtaMain#offer1#finalPrice','class':'psw-t-title-m psw-m-r-4'},\n",
    "                                            {'class':\"psw-t-title-m psw-m-r-4\"},{\"class\":\"psw-t-title-m\"}])\n",
    "precio_actual_cn_psn = act_price_with_psn.caracteristica_tipo(\"Error al recoger precio original con psn\")\n",
    "print(\"Precio actual con PSN\",precio_actual_cn_psn)\n",
    "\n",
    "#Plataforma\n",
    "pltform = info_game(soup,\"dd\",[{'class':'psw-p-r-6 psw-p-r-0@tablet-s psw-t-bold psw-l-w-1/2 psw-l-w-1/6@tablet-s psw-l-w-1/6@tablet-l psw-l-w-1/8@laptop psw-l-w-1/6@desktop psw-l-w-1/6@max',\n",
    "                               'data-qa':'gameInfo#releaseInformation#platform-value'}])\n",
    "\n",
    "plataforma = pltform.caracteristica_tipo(\"Error al recoger plataforma\")\n",
    "print(plataforma)\n",
    "\n",
    "# Genero\n",
    "gnr = info_game(soup,\"dd\",[{'class':'psw-p-r-6 psw-p-r-0@tablet-s psw-t-bold psw-l-w-1/2 psw-l-w-1/6@tablet-s psw-l-w-1/6@tablet-l psw-l-w-1/8@laptop psw-l-w-1/6@desktop psw-l-w-1/6@max',\n",
    "                            'data-qa':'gameInfo#releaseInformation#genre-value'}])\n",
    "\n",
    "genero = gnr.caracteristica_tipo(\"Error al recoger género\")\n",
    "print(genero)\n",
    "\n",
    "# Compañia\n",
    "company = info_game(soup,\"dd\",[{'class':'psw-p-r-6 psw-p-r-0@tablet-s psw-t-bold psw-l-w-1/2 psw-l-w-1/6@tablet-s psw-l-w-1/6@tablet-l psw-l-w-1/8@laptop psw-l-w-1/6@desktop psw-l-w-1/6@max',\n",
    "                                'data-qa':'gameInfo#releaseInformation#publisher-value'}])\n",
    "\n",
    "compania = company.caracteristica_tipo(\"Error al recoger la compañia\")\n",
    "print(compania)\n",
    "\n",
    "# Lanzamiento\n",
    "lanz = info_game(soup,\"dd\",[{'class':'psw-p-r-6 psw-p-r-0@tablet-s psw-t-bold psw-l-w-1/2 psw-l-w-1/6@tablet-s psw-l-w-1/6@tablet-l psw-l-w-1/8@laptop psw-l-w-1/6@desktop psw-l-w-1/6@max',\n",
    "                             'data-qa':'gameInfo#releaseInformation#releaseDate-value'}])\n",
    "\n",
    "lanzamiento = lanz.caracteristica_tipo(\"Error al recoger Lanzamiento\")\n",
    "print(lanzamiento)\n",
    "\n",
    "# Idiomas\n",
    "lng = info_game(soup,\"dd\",[{'class':'psw-p-r-6 psw-p-r-0@tablet-s psw-t-bold psw-l-w-1/2 psw-l-w-1/6@tablet-s psw-l-w-1/6@tablet-l psw-l-w-1/8@laptop psw-l-w-1/6@desktop psw-l-w-1/6@max',\n",
    "                            'data-qa':'gameInfo#releaseInformation#subtitles-value'}])\n",
    "\n",
    "idiomas = lng.caracteristica_tipo(\"Error al recoger Idiomas\")\n",
    "print(idiomas)\n",
    "\n",
    "# Nº de calificaciones\n",
    "\n",
    "num_cal = info_game(soup,\"span\",[{'class':'psw-c-t-2 psw-t-secondary',\n",
    "                                 'data-qa':'mfe-star-rating#overall-rating#total-ratings'}])\n",
    "\n",
    "num_calificaciones = num_cal.caracteristica_tipo(\"Error al recoger num calificaciones\")\n",
    "print(num_calificaciones)\n",
    "\n",
    "# Calificación PSN\n",
    "cal_psn = info_game(soup,\"div\",[{'class':'psw-t-subtitle psw-t-bold psw-l-line-center','data-qa':'mfe-game-title#average-rating'}])\n",
    "\n",
    "calificacion = cal_psn.caracteristica_tipo(\"Error al recoger Calificación PSN\")\n",
    "print(calificacion)\n",
    "\n",
    "\n",
    "# Calificaciones por estrellas\n",
    "\n",
    "cal_stars = info_game(soup,\"span\",[{'class':'psw-t-body','data-qa':'mfe-star-rating#overall-rating#rating-progress1#percentage-label'},\n",
    "                             {'class':'psw-t-body','data-qa':'mfe-star-rating#overall-rating#rating-progress2#percentage-label'},\n",
    "                             {'class':'psw-t-body','data-qa':'mfe-star-rating#overall-rating#rating-progress3#percentage-label'},\n",
    "                             {'class':'psw-t-body','data-qa':'mfe-star-rating#overall-rating#rating-progress4#percentage-label'},\n",
    "                             {'class':'psw-t-body','data-qa':'mfe-star-rating#overall-rating#rating-progress5#percentage-label'}])\n",
    "\n",
    "list_stars = cal_stars.caracteristica_tipo(\"Error al obtener calificaciones por estrella\",cal=True)\n",
    "calificacion_1 = list_stars[0]\n",
    "calificacion_2 = list_stars[1]\n",
    "calificacion_3 = list_stars[2]\n",
    "calificacion_4 = list_stars[3]\n",
    "calificacion_5 = list_stars[4]\n",
    "print(calificacion_1,calificacion_2,calificacion_3,calificacion_4,calificacion_5)\n",
    "\n",
    "print(href_valor)\n"
   ]
  },
  {
   "cell_type": "code",
   "execution_count": 13,
   "metadata": {},
   "outputs": [
    {
     "data": {
      "text/plain": [
       "'/en-us/concept/10002456'"
      ]
     },
     "execution_count": 13,
     "metadata": {},
     "output_type": "execute_result"
    }
   ],
   "source": [
    "href_store_us = href_valor\n",
    "href_store_us.replace('/es-es','/en-us')"
   ]
  },
  {
   "cell_type": "markdown",
   "metadata": {},
   "source": [
    "#### En el main.py hay algunos errores en algunos juegos, por lo que intento hacer una segunda comprobación antes de empezar a extraer datos de una sopa, para ello recogemos el id del producto y lo comparamos con el id recogido del URL"
   ]
  },
  {
   "cell_type": "code",
   "execution_count": null,
   "metadata": {},
   "outputs": [],
   "source": [
    "soup.find_all('a')"
   ]
  },
  {
   "cell_type": "code",
   "execution_count": null,
   "metadata": {},
   "outputs": [],
   "source": [
    "# Primer acercamiento a doble check info\n",
    "dict_comprobacion_id = soup.find('a', class_=\"psw-link psw-content-link\").get_attribute_list(\"data-telemetry-meta\")[0]"
   ]
  },
  {
   "cell_type": "code",
   "execution_count": 41,
   "metadata": {},
   "outputs": [],
   "source": [
    "# Segunda aproximación\n",
    "dict_comprobacion_id = soup.find('a', attrs={'data-track-click':\"starRating:selectStarRatingLink\"}).get_attribute_list(\"data-telemetry-meta\")[0]"
   ]
  },
  {
   "cell_type": "code",
   "execution_count": 55,
   "metadata": {},
   "outputs": [],
   "source": [
    "# Tercera aproximación\n",
    "dict_comprobacion_id = soup.find(\"button\",attrs={\"data-qa\":\"mfeCtaMain#cta#action\"}).get_attribute_list(\"data-telemetry-meta\")[0]"
   ]
  },
  {
   "cell_type": "markdown",
   "metadata": {},
   "source": [
    "# Nos quedamos con la tercera aproximación que es la menos errores tiene."
   ]
  },
  {
   "cell_type": "code",
   "execution_count": null,
   "metadata": {},
   "outputs": [],
   "source": [
    "# <a data-qa=\"\" data-track-click=\"starRating:selectStarRatingLink\" data-telemetry-meta=\"{&quot;conceptId&quot;:&quot;231287&quot;,&quot;productId&quot;:&quot;EP3868-CUSA11045_00-6589215874582693&quot;}\" id=\"\" class=\"psw-link psw-content-link psw-ally-indicator\" aria-label=\"\" type=\"\" href=\"#star-rating\" rel=\"noopener noreferrer\"><span class=\"psw-sr-only\">Calificación media de 3.49 estrellas de un total de cinco estrellas en 86 calificaciones</span><div aria-hidden=\"true\" class=\"psw-l-inline psw-p-y-xs\"><div class=\"psw-t-subtitle psw-t-bold psw-l-line-center\" data-qa=\"mfe-game-title#average-rating\">3.49</div><span class=\"psw-p-x-1 psw-l-line-center psw-l-line-left\" data-qa=\"mfe-game-title#star-rating\"><span data-qa=\"mfe-game-title#star-rating#rating-1#icon\" class=\"psw-icon psw-icon--starrating-full psw-icon psw-icon-size-3 psw-icon--starrating-full\"><svg aria-hidden=\"true\" focusable=\"false\"><title></title><use href=\"#ps-icon:starrating-full\"></use></svg></span><span data-qa=\"mfe-game-title#star-rating#rating-2#icon\" class=\"psw-icon psw-icon--starrating-full psw-icon psw-icon-size-3 psw-icon--starrating-full\"><svg aria-hidden=\"true\" focusable=\"false\"><title></title><use href=\"#ps-icon:starrating-full\"></use></svg></span><span data-qa=\"mfe-game-title#star-rating#rating-3#icon\" class=\"psw-icon psw-icon--starrating-full psw-icon psw-icon-size-3 psw-icon--starrating-full\"><svg aria-hidden=\"true\" focusable=\"false\"><title></title><use href=\"#ps-icon:starrating-full\"></use></svg></span><span data-qa=\"mfe-game-title#star-rating#rating-4#icon\" class=\"psw-icon psw-icon--starrating-half psw-icon psw-icon-size-3 psw-icon--starrating-half\"><svg aria-hidden=\"true\" focusable=\"false\"><title></title><use href=\"#ps-icon:starrating-half\"></use></svg></span><span data-qa=\"mfe-game-title#star-rating#rating-5#icon\" class=\"psw-icon psw-icon--starrating-empty psw-icon psw-icon-size-3 psw-icon--starrating-empty\"><svg aria-hidden=\"true\" focusable=\"false\"><title></title><use href=\"#ps-icon:starrating-empty\"></use></svg></span></span><div class=\"psw-t-subtitle psw-l-line-center\" data-qa=\"mfe-game-title#rating-count\">86 calificaciones</div></div></a>"
   ]
  },
  {
   "cell_type": "code",
   "execution_count": 56,
   "metadata": {},
   "outputs": [
    {
     "data": {
      "text/plain": [
       "'{\"conceptId\":\"10004473\",\"ctaIndex\":0,\"ctaSubType\":\"add_to_cart\",\"ctaType\":\"ADD_TO_CART\",\"interactAction\":\"click add to cart\",\"interactCta\":\"add to cart\",\"productId\":\"EP0102-PPSA07412_00-RE4RMAINGAME0000\",\"productDetail\":[{\"productId\":\"EP0102-PPSA07412_00-RE4RMAINGAME0000\",\"productName\":\"Resident Evil 4 PS4 & PS5\",\"productToSkuIds\":[\"EP0102-PPSA07412_00-RE4RMAINGAME0000-E005\"],\"productPriceDetail\":[{\"rewardId\":\"OFFER-PROD-7518_25\",\"offerCampaignId\":\"PROMO-PROD-00007518\",\"originalPriceFormatted\":\"39,99\\xa0€\",\"originalPriceValue\":3999,\"discountPriceFormatted\":\"29,99\\xa0€\",\"discountPriceValue\":2999,\"priceCurrencyCode\":\"EUR\",\"offerBranding\":\"NONE\",\"offerQualification\":[],\"offerExclusive\":false,\"offerApplied\":true,\"offerApplicability\":\"APPLICABLE\",\"offerIsTiedToSubscription\":false}]}],\"skuDetail\":[{\"skuId\":\"EP0102-PPSA07412_00-RE4RMAINGAME0000-E005\",\"skuPriceDetail\":[{\"rewardId\":\"OFFER-PROD-7518_25\",\"offerCampaignId\":\"PROMO-PROD-00007518\",\"originalPriceFormatted\":\"39,99\\xa0€\",\"originalPriceValue\":3999,\"discountPriceFormatted\":\"29,99\\xa0€\",\"discountPriceValue\":2999,\"priceCurrencyCode\":\"EUR\",\"offerBranding\":\"NONE\",\"offerQualification\":[],\"offerExclusive\":false,\"offerApplied\":true,\"offerApplicability\":\"APPLICABLE\",\"offerIsTiedToSubscription\":false}],\"skuName\":\"Juego\"}],\"titleId\":\"PPSA07412_00\"}'"
      ]
     },
     "execution_count": 56,
     "metadata": {},
     "output_type": "execute_result"
    }
   ],
   "source": [
    "dict_comprobacion_id"
   ]
  },
  {
   "cell_type": "code",
   "execution_count": 22,
   "metadata": {},
   "outputs": [],
   "source": [
    "import json\n",
    "conv_json = json.loads(dict_comprobacion_id)\n",
    "id_juego_real_soup = int(conv_json[\"conceptId\"])\n",
    "id_juego_real_soup"
   ]
  },
  {
   "cell_type": "markdown",
   "metadata": {},
   "source": [
    "##### Una vez visto que podemos acceder a toda la info solo por el boton de reserva/compra se me ocurre que podemos obtener informaciónes que dan error desde ahí directamente por si el código fuente cambiara de un día para otro, que en ocasiones ocurre."
   ]
  },
  {
   "cell_type": "markdown",
   "metadata": {},
   "source": [
    "##### Tenemos en el main.py algunos problemas con los titulos, buscando en la página web resulta que el boton tanto de comprar como reservar tiene toda la info disponible, asique empiezo a buscar otra forma de hacer el webscrapping con el boton concreto de compra y obtenerlo todo desde allí."
   ]
  },
  {
   "cell_type": "code",
   "execution_count": 19,
   "metadata": {},
   "outputs": [],
   "source": [
    "# Titulo\n",
    "dict_titulo = soup.find('button',attrs={\"data-qa\" : \"mfeCtaMain#cta#action\"}).get_attribute_list(\"data-telemetry-meta\")"
   ]
  },
  {
   "cell_type": "code",
   "execution_count": 33,
   "metadata": {},
   "outputs": [
    {
     "data": {
      "text/plain": [
       "'Resident Evil 4 PS4 & PS5'"
      ]
     },
     "execution_count": 33,
     "metadata": {},
     "output_type": "execute_result"
    }
   ],
   "source": [
    "dict_titulo = soup.find('button',attrs={\"data-qa\" : \"mfeCtaMain#cta#action\"}).get_attribute_list(\"data-telemetry-meta\")\n",
    "json_dict = json.loads(dict_titulo[0])\n",
    "json_dict['productDetail'][0]['productName']"
   ]
  },
  {
   "cell_type": "markdown",
   "metadata": {},
   "source": [
    "[Volver al índice](#0)"
   ]
  },
  {
   "cell_type": "markdown",
   "metadata": {},
   "source": [
    "Guardamos ID de cada juego"
   ]
  },
  {
   "cell_type": "code",
   "execution_count": 14,
   "metadata": {},
   "outputs": [
    {
     "name": "stdout",
     "output_type": "stream",
     "text": [
      "/es-es/concept/10007176\n"
     ]
    }
   ],
   "source": [
    "print(href_valor)"
   ]
  },
  {
   "cell_type": "code",
   "execution_count": 18,
   "metadata": {},
   "outputs": [
    {
     "name": "stdout",
     "output_type": "stream",
     "text": [
      "['10007176']\n"
     ]
    }
   ],
   "source": [
    "id_juego = re.findall(r\"\\d+\",href_valor)\n",
    "\n",
    "print(id_juego)"
   ]
  },
  {
   "cell_type": "markdown",
   "metadata": {},
   "source": [
    "Como obtenemos el numero de juegos"
   ]
  },
  {
   "cell_type": "code",
   "execution_count": 64,
   "metadata": {},
   "outputs": [
    {
     "name": "stdout",
     "output_type": "stream",
     "text": [
      "<class 'int'>\n",
      "8439\n"
     ]
    }
   ],
   "source": [
    "# Prueba numero de juegos\n",
    "from fake_useragent import UserAgent\n",
    "\"fake_user_agent\"\n",
    "ua = UserAgent()\n",
    "service = Service(executable_path='../../psn_env/Lib/site-packages/selenium/webdriver/chrome/chromedriver.exe')\n",
    "options = webdriver.ChromeOptions()\n",
    "options.add_argument(\"--headless=new\")\n",
    "timeout = 10\n",
    "\n",
    "df_juegos = pd.DataFrame(columns=[\"Titulo\",\"Día y hora\",\"Plataforma\",\"Genero\",\"Compañia\",\n",
    "                                \"Lanzamiento\",\"Idiomas\",\"Calificación PSN\",\"Número de calificaciones\",\"Calificación 5 estrellas\",\n",
    "                                \"Calificación 4 estrellas\",\"Calificación 3 estrellas\",\"Calificación 2 estrellas\",\n",
    "                                \"Calificación 1 estrella\",\"Precio original sin PSN\",\"Precio actual sin PSN\",\"Precio original con PSN\",\"Precio actual con PSN\"]) #,\"Precio con mayor rebaja\"\n",
    "\n",
    "driver = webdriver.Chrome(service=service, options=options)\n",
    "\n",
    "link_inicial = \"https://store.playstation.com/\"\n",
    "\n",
    "driver.get(link_inicial)\n",
    "\n",
    "\n",
    "lista_tiempo = [3,3.1,3.2]\n",
    "\n",
    "carga_pagina_inicial()\n",
    "\n",
    "page_source = driver.page_source\n",
    "soup = bs(page_source, 'html.parser')\n",
    "numero_juegos = soup.find('div', class_= \"ems-sdk-active-filters psw-m-b-8 psw-m-t-4\").get_text()\n",
    "numero_real = re.findall(r\"\\d+\",numero_juegos)\n",
    "numero_real = int(numero_real[0])\n",
    "print(type(numero_real))\n",
    "print(numero_real)"
   ]
  },
  {
   "cell_type": "markdown",
   "metadata": {},
   "source": [
    "[Volver al índice](#0)"
   ]
  },
  {
   "cell_type": "markdown",
   "metadata": {},
   "source": [
    "<a id=\"8\"></a> <br>\n",
    "Creando base de datos en server elephant"
   ]
  },
  {
   "cell_type": "code",
   "execution_count": 8,
   "metadata": {},
   "outputs": [],
   "source": [
    "import psycopg2\n",
    "\n",
    "conn = psycopg2.connect(database=v.database,\n",
    "                        host=v.host,\n",
    "                        user=v.user,\n",
    "                        password=v.password,\n",
    "                        port=v.port)"
   ]
  },
  {
   "cell_type": "code",
   "execution_count": 9,
   "metadata": {},
   "outputs": [],
   "source": [
    "cursor = conn.cursor()"
   ]
  },
  {
   "cell_type": "markdown",
   "metadata": {},
   "source": [
    "Creación de tablas"
   ]
  },
  {
   "cell_type": "code",
   "execution_count": 10,
   "metadata": {},
   "outputs": [],
   "source": [
    "creacion_tablas = '''\n",
    "-- Tabla Juegos \n",
    "CREATE TABLE game_info (\n",
    "  game_id INTEGER PRIMARY KEY,\n",
    "  game_name VARCHAR,\n",
    "  genre_id INTEGER,\n",
    "  lang_id INTEGER,\n",
    "  comp_id INTEGER,\n",
    "  platform_id INTEGER,\n",
    "  FOREIGN KEY (genre_id) REFERENCES genre(genre_id),\n",
    "  FOREIGN KEY (lang_id) REFERENCES language(lang_id),\n",
    "  FOREIGN KEY (comp_id) REFERENCES company(comp_id),\n",
    "  FOREIGN KEY (platform_id) REFERENCES platform(platform_id)\n",
    ");\n",
    "-- Tabla Ratings\n",
    "CREATE TABLE ratings (\n",
    "  rating_id INTEGER PRIMARY KEY,\n",
    "  game_id INTEGER,\n",
    "  n_ratings_psn INTEGER,\n",
    "  pro_rating FLOAT,\n",
    "  cal_5_stars_pct FLOAT,\n",
    "  cal_4_stars_pct FLOAT,\n",
    "  cal_3_stars_pct FLOAT,\n",
    "  cal_2_stars_pct FLOAT,\n",
    "  cal_1_star_pct FLOAT,\n",
    "  FOREIGN KEY (game_id) REFERENCES game_info(game_id)\n",
    ");\n",
    "\n",
    "-- Tabla precios\n",
    "CREATE TABLE prices (\n",
    "  price_id INTEGER PRIMARY KEY,\n",
    "  game_id INTEGER,\n",
    "  time FLOAT,\n",
    "  original_price_without_plus FLOAT,\n",
    "  original_price_with_plus FLOAT,\n",
    "  discounted_price_without_plus FLOAT,\n",
    "  discounted_price_with_plus FLOAT,\n",
    "  FOREIGN KEY (game_id) REFERENCES game_info(game_id)\n",
    ");\n",
    "\n",
    "-- Tabla Plataforma\n",
    "CREATE TABLE platform (\n",
    "  platform_id INTEGER PRIMARY KEY,\n",
    "  platform_name VARCHAR\n",
    ");\n",
    "\n",
    "-- Tabla genero\n",
    "CREATE TABLE genre (\n",
    "  genre_id INTEGER PRIMARY KEY,\n",
    "  genre_name VARCHAR\n",
    ");\n",
    "\n",
    "-- Tabla lenguaje\n",
    "CREATE TABLE language (\n",
    "  lang_id INTEGER PRIMARY KEY,\n",
    "  lang_name VARCHAR\n",
    ");\n",
    "\n",
    "-- Tabla compañia \n",
    "CREATE TABLE company (\n",
    "  comp_id INTEGER PRIMARY KEY,\n",
    "  comp_name VARCHAR\n",
    ");\n",
    "\n",
    "'''"
   ]
  },
  {
   "cell_type": "code",
   "execution_count": null,
   "metadata": {},
   "outputs": [],
   "source": [
    "cursor.execute(creacion_tablas)"
   ]
  },
  {
   "cell_type": "code",
   "execution_count": 12,
   "metadata": {},
   "outputs": [],
   "source": [
    "conn.commit()\n",
    "cursor.close()\n",
    "conn.close()"
   ]
  },
  {
   "cell_type": "markdown",
   "metadata": {},
   "source": [
    "Prueba de inserts en BBDD"
   ]
  },
  {
   "cell_type": "code",
   "execution_count": 75,
   "metadata": {},
   "outputs": [],
   "source": [
    "import psycopg2\n",
    "from sqlalchemy import create_engine\n",
    "\n",
    "conn = psycopg2.connect(database=v.database,\n",
    "                        host=v.host,\n",
    "                        user=v.user,\n",
    "                        password=v.password,\n",
    "                        port=v.port)\n",
    "\n",
    "cursor = conn.cursor()"
   ]
  },
  {
   "cell_type": "code",
   "execution_count": 78,
   "metadata": {},
   "outputs": [],
   "source": [
    "conn.close()"
   ]
  },
  {
   "cell_type": "markdown",
   "metadata": {},
   "source": [
    "Query prueba insertar datos"
   ]
  },
  {
   "cell_type": "code",
   "execution_count": null,
   "metadata": {},
   "outputs": [],
   "source": []
  },
  {
   "cell_type": "markdown",
   "metadata": {},
   "source": [
    "# Banco de pruebas"
   ]
  },
  {
   "cell_type": "markdown",
   "metadata": {},
   "source": [
    "<a id=\"9\"></a> <br>\n",
    "Errores listas .py"
   ]
  },
  {
   "cell_type": "code",
   "execution_count": 1,
   "metadata": {},
   "outputs": [
    {
     "data": {
      "text/plain": [
       "[(0, 18),\n",
       " (19, 19),\n",
       " (4, 23),\n",
       " (8, 23),\n",
       " (23, 25),\n",
       " (7, 46),\n",
       " (1, 54),\n",
       " (23, 71),\n",
       " (13, 82),\n",
       " (20, 82),\n",
       " (7, 99),\n",
       " (12, 99),\n",
       " (5, 104),\n",
       " (10, 107),\n",
       " (11, 107),\n",
       " (0, 123),\n",
       " (21, 123),\n",
       " (11, 124),\n",
       " (13, 127),\n",
       " (9, 145),\n",
       " (4, 159),\n",
       " (2, 170),\n",
       " (14, 172),\n",
       " (22, 172),\n",
       " (19, 173),\n",
       " (12, 177),\n",
       " (13, 177),\n",
       " (19, 179),\n",
       " (4, 190),\n",
       " (10, 191),\n",
       " (7, 197),\n",
       " (6, 203),\n",
       " (11, 204),\n",
       " (16, 210),\n",
       " (23, 210),\n",
       " (18, 212),\n",
       " (10, 215),\n",
       " (13, 218),\n",
       " (13, 220),\n",
       " (16, 220),\n",
       " (15, 221),\n",
       " (4, 227),\n",
       " (19, 230),\n",
       " (11, 232),\n",
       " (6, 235),\n",
       " (1, 236),\n",
       " (9, 237),\n",
       " (23, 237),\n",
       " (11, 240),\n",
       " (22, 240),\n",
       " (23, 241),\n",
       " (20, 242),\n",
       " (4, 243),\n",
       " (10, 243),\n",
       " (19, 244),\n",
       " (1, 246),\n",
       " (12, 247),\n",
       " (20, 269),\n",
       " (3, 270),\n",
       " (12, 280),\n",
       " (14, 292),\n",
       " (0, 294),\n",
       " (13, 295),\n",
       " (15, 309),\n",
       " (10, 325),\n",
       " (18, 330),\n",
       " (14, 332),\n",
       " (23, 336),\n",
       " (5, 340),\n",
       " (9, 345),\n",
       " (13, 349),\n",
       " (21, 353),\n",
       " (19, 355),\n",
       " (4, 358)]"
      ]
     },
     "execution_count": 1,
     "metadata": {},
     "output_type": "execute_result"
    }
   ],
   "source": [
    "[221941, 205132, 10001023, 235080, 224832, 202007, 227255, 202523, 229776, 203706, 202665, 208240, 204923, 201386, 234597, 10010335, 216068, 232640, 10007962, 10001257, 10001949, 10008926, 10009430, 233506, 10008712, 10003393, 10007921, 10008377, 10010438, 232136, 201687, 232798, 10005373, 10007580, 10007315, 202006, 222257, 10008416, 10009665, 232230, 10009252, 10003548, 10008403, 10005702, 10000500, 10003237, 202939, 10008737, 10008487, 10009778, 10009509, 229436, 10007261, 10009541, 10010442, 10005760, 232397, 216508, 10009421, 10008557, 10008524, 10009752, 10000976, 10009242, 10004289, 10009679, 10002260, 10002211, 205520, 10008940]"
   ]
  },
  {
   "cell_type": "markdown",
   "metadata": {},
   "source": [
    "#### Estoy intentando obtener los datos de otras stores en este caso a modo de prototipo, las de EEUU y JPN"
   ]
  },
  {
   "cell_type": "code",
   "execution_count": 44,
   "metadata": {},
   "outputs": [
    {
     "name": "stdout",
     "output_type": "stream",
     "text": [
      "/es-es/concept/205354\n",
      "205354\n",
      "UNCHARTED: Colección Legado de los Ladrones\n",
      "2024-03-10T23:51:38.491529\n",
      "Precio original sin PSN 49,99 €\n",
      "Precio original con PSN 49,99 €\n",
      "Precio actual sin PSN 19,99 €\n",
      "Precio actual con PSN Incluido\n",
      "PS5\n",
      "Acción, Aventura\n",
      "Sony Interactive Entertainment Europe\n",
      "27/1/2022\n",
      "Alemán, Checo, Danés, Español, Finlandés, Francés (Francia), Griego, Inglés, Italiano, Neerlandés, Noruego, Polaco, Portugués (Portugal), Ruso, Sueco, Turco\n",
      "179.894 calificaciones\n",
      "4.74\n",
      "3 % 1 % 3 % 8 % 86 %\n",
      "/en-us/concept/205354\n",
      "205354\n",
      "UNCHARTED: Legacy of Thieves Collection\n",
      "2024-03-10T23:51:42.653717\n",
      "Precio original sin PSN $49.99\n",
      "Precio original con PSN $49.99\n",
      "Precio actual sin PSN $19.99\n",
      "Precio actual con PSN Included\n",
      "PS5\n",
      "Action, Adventure\n",
      "Sony Interactive Entertainment\n",
      "1/28/2022\n",
      "English, French (France), Portuguese (Brazil), Spanish (Mexico)\n",
      "179,894 ratings\n",
      "4.74\n",
      "3% 1% 3% 8% 86%\n",
      "/ja-jp/concept/205354\n",
      "205354\n",
      "アンチャーテッド トレジャーハンターコレクション\n",
      "2024-03-10T23:51:47.016614\n",
      "Precio original sin PSN ¥5,390\n",
      "Precio original con PSN ¥5,390\n",
      "Precio actual sin PSN ¥2,156\n",
      "Precio actual con PSN 含まれます\n",
      "PS5\n",
      "アクション, アドベンチャー\n",
      "ソニー・インタラクティブエンタテインメント\n",
      "2022/1/27\n",
      "日本語, 英語\n",
      "179,895件の評価\n",
      "4.74\n",
      "3％ 1％ 3％ 8％ 86％\n"
     ]
    },
    {
     "data": {
      "text/html": [
       "<div>\n",
       "<style scoped>\n",
       "    .dataframe tbody tr th:only-of-type {\n",
       "        vertical-align: middle;\n",
       "    }\n",
       "\n",
       "    .dataframe tbody tr th {\n",
       "        vertical-align: top;\n",
       "    }\n",
       "\n",
       "    .dataframe thead th {\n",
       "        text-align: right;\n",
       "    }\n",
       "</style>\n",
       "<table border=\"1\" class=\"dataframe\">\n",
       "  <thead>\n",
       "    <tr style=\"text-align: right;\">\n",
       "      <th></th>\n",
       "      <th>Titulo</th>\n",
       "      <th>Día y hora</th>\n",
       "      <th>Plataforma</th>\n",
       "      <th>Genero</th>\n",
       "      <th>Compañia</th>\n",
       "      <th>Lanzamiento</th>\n",
       "      <th>Idiomas</th>\n",
       "      <th>Calificación PSN</th>\n",
       "      <th>Número de calificaciones</th>\n",
       "      <th>Calificación 5 estrellas</th>\n",
       "      <th>Calificación 4 estrellas</th>\n",
       "      <th>Calificación 3 estrellas</th>\n",
       "      <th>Calificación 2 estrellas</th>\n",
       "      <th>Calificación 1 estrella</th>\n",
       "      <th>Precio original sin PSN</th>\n",
       "      <th>Precio actual sin PSN</th>\n",
       "      <th>Precio original con PSN</th>\n",
       "      <th>Precio actual con PSN</th>\n",
       "      <th>País Store</th>\n",
       "    </tr>\n",
       "  </thead>\n",
       "  <tbody>\n",
       "    <tr>\n",
       "      <th>0</th>\n",
       "      <td>アンチャーテッド トレジャーハンターコレクション</td>\n",
       "      <td>2024-03-10T23:51:47.016614</td>\n",
       "      <td>PS5</td>\n",
       "      <td>アクション, アドベンチャー</td>\n",
       "      <td>ソニー・インタラクティブエンタテインメント</td>\n",
       "      <td>2022/1/27</td>\n",
       "      <td>日本語, 英語</td>\n",
       "      <td>4.74</td>\n",
       "      <td>179,895件の評価</td>\n",
       "      <td>86％</td>\n",
       "      <td>8％</td>\n",
       "      <td>3％</td>\n",
       "      <td>1％</td>\n",
       "      <td>3％</td>\n",
       "      <td>¥5,390</td>\n",
       "      <td>¥2,156</td>\n",
       "      <td>¥5,390</td>\n",
       "      <td>含まれます</td>\n",
       "      <td>JAP</td>\n",
       "    </tr>\n",
       "  </tbody>\n",
       "</table>\n",
       "</div>"
      ],
      "text/plain": [
       "                     Titulo                  Día y hora Plataforma  \\\n",
       "0  アンチャーテッド トレジャーハンターコレクション  2024-03-10T23:51:47.016614        PS5   \n",
       "\n",
       "           Genero               Compañia Lanzamiento  Idiomas  \\\n",
       "0  アクション, アドベンチャー  ソニー・インタラクティブエンタテインメント   2022/1/27  日本語, 英語   \n",
       "\n",
       "  Calificación PSN Número de calificaciones Calificación 5 estrellas  \\\n",
       "0             4.74              179,895件の評価                      86％   \n",
       "\n",
       "  Calificación 4 estrellas Calificación 3 estrellas Calificación 2 estrellas  \\\n",
       "0                       8％                       3％                       1％   \n",
       "\n",
       "  Calificación 1 estrella Precio original sin PSN Precio actual sin PSN  \\\n",
       "0                      3％                  ¥5,390                ¥2,156   \n",
       "\n",
       "  Precio original con PSN Precio actual con PSN País Store  \n",
       "0                  ¥5,390                 含まれます        JAP  "
      ]
     },
     "execution_count": 44,
     "metadata": {},
     "output_type": "execute_result"
    }
   ],
   "source": [
    "# Codigo para prueba de clases que me suelte soup y pruebe todas las posibilidades\n",
    "# Prueba numero de juegos\n",
    "from fake_useragent import UserAgent\n",
    "from selenium.common.exceptions import TimeoutException\n",
    "\"fake_user_agent\"\n",
    "ua = UserAgent()\n",
    "service = Service(executable_path='../../psn_env/Lib/site-packages/selenium/webdriver/chrome/chromedriver.exe')\n",
    "options = webdriver.ChromeOptions()\n",
    "options.add_argument(\"--headless=new\")\n",
    "timeout = 10\n",
    "\n",
    "df_juegos_es = pd.DataFrame(columns=[\"Titulo\",\"Día y hora\",\"Plataforma\",\"Genero\",\"Compañia\",\n",
    "                                \"Lanzamiento\",\"Idiomas\",\"Calificación PSN\",\"Número de calificaciones\",\"Calificación 5 estrellas\",\n",
    "                                \"Calificación 4 estrellas\",\"Calificación 3 estrellas\",\"Calificación 2 estrellas\",\n",
    "                                \"Calificación 1 estrella\",\"Precio original sin PSN\",\"Precio actual sin PSN\",\"Precio original con PSN\",\"Precio actual con PSN\",\"País Store\"]) #,\"Precio con mayor rebaja\"\n",
    "\n",
    "#Juegos store nueva, meter en codigo .py\n",
    "df_juegos_us = df_juegos_es.copy()\n",
    "df_juegos_jp = df_juegos_es.copy()\n",
    "df_juegos = [df_juegos_es,df_juegos_us,df_juegos_jp]\n",
    "lista_store = [\"ESP\",\"USA\",\"JAP\"]\n",
    "\n",
    "driver = webdriver.Chrome(service=service, options=options)\n",
    "\n",
    "link_inicial = \"https://store.playstation.com/\"\n",
    "\n",
    "driver.get(link_inicial)\n",
    "\n",
    "page = 4\n",
    "cont = 0\n",
    "lista_tiempo = [3,3.1,3.2]\n",
    "\n",
    "carga_pagina_inicial()\n",
    "pagina_concreta_carga(page)\n",
    "\n",
    "try:\n",
    "    sel_game = EC.presence_of_element_located((By.XPATH, f'/html/body/div[3]/main/div/section/div/div/div/div[2]/div[2]/ul/li[{cont+1}]/div/a'))\n",
    "    WebDriverWait(driver, timeout).until(sel_game)\n",
    "except TimeoutException:\n",
    "    print(f\"Timed out waiting for game to appear, game number {cont}\")\n",
    "url = driver.current_url  \n",
    "headers = {'User-Agent': ua.random}\n",
    "response = requests.get(url, headers=headers)\n",
    "soup_pagina_entera = bs(response.text,features=\"lxml\")\n",
    "url_game = soup_pagina_entera.select_one(f'[data-qa=\"ems-sdk-grid#productTile{cont}\"] a')\n",
    "\n",
    "# Obtenemos del href de la store española, pero también podemos obtener info de otras stores \n",
    "href_store_es = url_game.get('href')\n",
    "\n",
    "href_store_us = href_store_es.replace('/es-es','/en-us')\n",
    "href_store_jp = href_store_es.replace('/es-es','/ja-jp')\n",
    "\n",
    "href_valor_list = [href_store_es,href_store_us,href_store_jp]\n",
    "\n",
    "for i in range(len(href_valor_list)):\n",
    "\n",
    "    pais_store = lista_store[i]\n",
    "    \n",
    "    print(href_valor_list[i])\n",
    "    link_juego = link_inicial + href_valor_list[i]\n",
    "    # obtenemos info del juego         \n",
    "    headers = {'User-Agent': ua.random}\n",
    "    response = requests.get(link_juego, headers=headers)\n",
    "    soup = bs(response.text,features=\"lxml\")\n",
    "\n",
    "    time.sleep(random.choice(lista_tiempo))\n",
    "\n",
    "    # Info que nos descargamos de la pagina del juego.\n",
    "\n",
    "    #Titulo e id del juego \n",
    "    title_info = info_game(soup,\"h1\",[{\"class\":\"psw-m-b-5 psw-t-title-l psw-t-size-6 psw-l-line-break-word\"},\n",
    "                                {\"class\":\"psw-m-b-5 psw-t-title-l psw-t-size-7 psw-l-line-break-word\"},\n",
    "                                {\"class\":\"psw-m-b-5 psw-t-title-l psw-t-size-8 psw-l-line-break-word\"}])\n",
    "\n",
    "    id_juego = re.findall(r\"\\d+\",href_valor_list[i])\n",
    "    id_juego = int(id_juego[0])\n",
    "    print(id_juego)\n",
    "\n",
    "    titulo = title_info.caracteristica_tipo(\"Error al recoger el título\")\n",
    "    print(titulo)\n",
    "\n",
    "    # Día y hora de webscrappeo\n",
    "    fecha_webs = datetime.now()\n",
    "    fecha_webs = datetime.isoformat(fecha_webs)\n",
    "    print(fecha_webs)\n",
    "\n",
    "    # Precio original sin PSN\n",
    "    org_price_without_psn = info_game(soup,\"span\",[{\"class\":\"psw-t-title-s psw-c-t-2 psw-t-strike\"},\n",
    "                                                {\"class\":\"psw-t-title-m\"}])\n",
    "    precio_original_sn_psn = org_price_without_psn.caracteristica_tipo(\"Error al recoger precio original sin psn\")\n",
    "    print(\"Precio original sin PSN\" ,precio_original_sn_psn)\n",
    "\n",
    "    # Precio original con PSN --> No aparece , solo null\n",
    "    org_price_with_psn = info_game(soup,\"span\",[{'data-qa':'mfeCtaMain#offer1#originalPrice','class':'psw-t-title-s psw-c-t-2 psw-t-strike'},\n",
    "                                                {\"class\":\"psw-t-title-s psw-c-t-2 psw-t-strike\"},{\"class\":\"psw-t-title-m\"}])\n",
    "    precio_original_cn_psn = org_price_with_psn.caracteristica_tipo(\"Error al recoger precio original con psn\")\n",
    "    print(\"Precio original con PSN\",precio_original_cn_psn)\n",
    "\n",
    "    # Precio actual sin PSN\n",
    "    act_price_without_psn = info_game(soup,\"span\",[{'class':\"psw-t-title-m psw-m-r-4\"},{\"class\":\"psw-t-title-m\"}])\n",
    "    precio_actual_sn_psn = act_price_without_psn.caracteristica_tipo(\"Error al recoger precio actual sin psn\")\n",
    "    print(\"Precio actual sin PSN\", precio_actual_sn_psn)\n",
    "\n",
    "    # Precio actual con PSN\n",
    "    act_price_with_psn = info_game(soup,\"span\",[{'data-qa':'mfeCtaMain#offer1#finalPrice','class':'psw-t-title-m psw-m-r-4'},\n",
    "                                                {'class':\"psw-t-title-m psw-m-r-4\"},{\"class\":\"psw-t-title-m\"}])\n",
    "    precio_actual_cn_psn = act_price_with_psn.caracteristica_tipo(\"Error al recoger precio original con psn\")\n",
    "    print(\"Precio actual con PSN\",precio_actual_cn_psn)\n",
    "\n",
    "    #Plataforma\n",
    "    pltform = info_game(soup,\"dd\",[{'class':'psw-p-r-6 psw-p-r-0@tablet-s psw-t-bold psw-l-w-1/2 psw-l-w-1/6@tablet-s psw-l-w-1/6@tablet-l psw-l-w-1/8@laptop psw-l-w-1/6@desktop psw-l-w-1/6@max',\n",
    "                                'data-qa':'gameInfo#releaseInformation#platform-value'}])\n",
    "\n",
    "    plataforma = pltform.caracteristica_tipo(\"Error al recoger plataforma\")\n",
    "    print(plataforma)\n",
    "\n",
    "    # Genero\n",
    "    gnr = info_game(soup,\"dd\",[{'class':'psw-p-r-6 psw-p-r-0@tablet-s psw-t-bold psw-l-w-1/2 psw-l-w-1/6@tablet-s psw-l-w-1/6@tablet-l psw-l-w-1/8@laptop psw-l-w-1/6@desktop psw-l-w-1/6@max',\n",
    "                                'data-qa':'gameInfo#releaseInformation#genre-value'}])\n",
    "\n",
    "    genero = gnr.caracteristica_tipo(\"Error al recoger género\")\n",
    "    print(genero)\n",
    "\n",
    "    # Compañia\n",
    "    company = info_game(soup,\"dd\",[{'class':'psw-p-r-6 psw-p-r-0@tablet-s psw-t-bold psw-l-w-1/2 psw-l-w-1/6@tablet-s psw-l-w-1/6@tablet-l psw-l-w-1/8@laptop psw-l-w-1/6@desktop psw-l-w-1/6@max',\n",
    "                                    'data-qa':'gameInfo#releaseInformation#publisher-value'}])\n",
    "\n",
    "    compania = company.caracteristica_tipo(\"Error al recoger la compañia\")\n",
    "    print(compania)\n",
    "\n",
    "    # Lanzamiento\n",
    "    lanz = info_game(soup,\"dd\",[{'class':'psw-p-r-6 psw-p-r-0@tablet-s psw-t-bold psw-l-w-1/2 psw-l-w-1/6@tablet-s psw-l-w-1/6@tablet-l psw-l-w-1/8@laptop psw-l-w-1/6@desktop psw-l-w-1/6@max',\n",
    "                                'data-qa':'gameInfo#releaseInformation#releaseDate-value'}])\n",
    "\n",
    "    lanzamiento = lanz.caracteristica_tipo(\"Error al recoger Lanzamiento\")\n",
    "    print(lanzamiento)\n",
    "\n",
    "    # Idiomas\n",
    "    lng = info_game(soup,\"dd\",[{'class':'psw-p-r-6 psw-p-r-0@tablet-s psw-t-bold psw-l-w-1/2 psw-l-w-1/6@tablet-s psw-l-w-1/6@tablet-l psw-l-w-1/8@laptop psw-l-w-1/6@desktop psw-l-w-1/6@max',\n",
    "                                'data-qa':'gameInfo#releaseInformation#subtitles-value'}])\n",
    "\n",
    "    idiomas = lng.caracteristica_tipo(\"Error al recoger Idiomas\")\n",
    "    print(idiomas)\n",
    "\n",
    "    # Nº de calificaciones\n",
    "\n",
    "    num_cal = info_game(soup,\"span\",[{'class':'psw-c-t-2 psw-t-secondary',\n",
    "                                    'data-qa':'mfe-star-rating#overall-rating#total-ratings'}])\n",
    "\n",
    "    num_calificaciones = num_cal.caracteristica_tipo(\"Error al recoger num calificaciones\")\n",
    "    print(num_calificaciones)\n",
    "\n",
    "    # Calificación PSN\n",
    "    cal_psn = info_game(soup,\"div\",[{'class':'psw-t-subtitle psw-t-bold psw-l-line-center','data-qa':'mfe-game-title#average-rating'}])\n",
    "\n",
    "    calificacion = cal_psn.caracteristica_tipo(\"Error al recoger Calificación PSN\")\n",
    "    print(calificacion)\n",
    "\n",
    "\n",
    "    # Calificaciones por estrellas\n",
    "\n",
    "    cal_stars = info_game(soup,\"span\",[{'class':'psw-t-body','data-qa':'mfe-star-rating#overall-rating#rating-progress1#percentage-label'},\n",
    "                                {'class':'psw-t-body','data-qa':'mfe-star-rating#overall-rating#rating-progress2#percentage-label'},\n",
    "                                {'class':'psw-t-body','data-qa':'mfe-star-rating#overall-rating#rating-progress3#percentage-label'},\n",
    "                                {'class':'psw-t-body','data-qa':'mfe-star-rating#overall-rating#rating-progress4#percentage-label'},\n",
    "                                {'class':'psw-t-body','data-qa':'mfe-star-rating#overall-rating#rating-progress5#percentage-label'}])\n",
    "\n",
    "    list_stars = cal_stars.caracteristica_tipo(\"Error al obtener calificaciones por estrella\",cal=True)\n",
    "    calificacion_1 = list_stars[0]\n",
    "    calificacion_2 = list_stars[1]\n",
    "    calificacion_3 = list_stars[2]\n",
    "    calificacion_4 = list_stars[3]\n",
    "    calificacion_5 = list_stars[4]\n",
    "    \n",
    "    print(calificacion_1,calificacion_2,calificacion_3,calificacion_4,calificacion_5)\n",
    "    \n",
    "    df_juegos[i].loc[len(df_juegos[i])] = {\"id_juego\":id_juego,\"Titulo\":titulo,\"Día y hora\":fecha_webs,\"Plataforma\":plataforma,\"Genero\":genero,\"Compañia\":compania,\"Lanzamiento\":lanzamiento,\n",
    "                                        \"Idiomas\":idiomas,\"Calificación PSN\":calificacion,\"Número de calificaciones\":num_calificaciones,\n",
    "                                        \"Calificación 5 estrellas\":calificacion_5,\n",
    "                                        \"Calificación 4 estrellas\":calificacion_4,\"Calificación 3 estrellas\":calificacion_3,\n",
    "                                        \"Calificación 2 estrellas\":calificacion_2,\"Calificación 1 estrella\":calificacion_1,\n",
    "                                        \"Precio original sin PSN\":precio_original_sn_psn,\"Precio actual sin PSN\":precio_actual_sn_psn,\"Precio original con PSN\":precio_original_cn_psn, \"Precio actual con PSN\":precio_actual_cn_psn, \"País Store\":pais_store}\n",
    "  \n",
    "df_juegos[0]\n",
    "df_juegos[1]\n",
    "df_juegos[2]"
   ]
  },
  {
   "cell_type": "code",
   "execution_count": 25,
   "metadata": {},
   "outputs": [
    {
     "data": {
      "text/html": [
       "<div>\n",
       "<style scoped>\n",
       "    .dataframe tbody tr th:only-of-type {\n",
       "        vertical-align: middle;\n",
       "    }\n",
       "\n",
       "    .dataframe tbody tr th {\n",
       "        vertical-align: top;\n",
       "    }\n",
       "\n",
       "    .dataframe thead th {\n",
       "        text-align: right;\n",
       "    }\n",
       "</style>\n",
       "<table border=\"1\" class=\"dataframe\">\n",
       "  <thead>\n",
       "    <tr style=\"text-align: right;\">\n",
       "      <th></th>\n",
       "      <th>Titulo</th>\n",
       "      <th>Día y hora</th>\n",
       "      <th>Plataforma</th>\n",
       "      <th>Genero</th>\n",
       "      <th>Compañia</th>\n",
       "      <th>Lanzamiento</th>\n",
       "      <th>Idiomas</th>\n",
       "      <th>Calificación PSN</th>\n",
       "      <th>Número de calificaciones</th>\n",
       "      <th>Calificación 5 estrellas</th>\n",
       "      <th>Calificación 4 estrellas</th>\n",
       "      <th>Calificación 3 estrellas</th>\n",
       "      <th>Calificación 2 estrellas</th>\n",
       "      <th>Calificación 1 estrella</th>\n",
       "      <th>Precio original sin PSN</th>\n",
       "      <th>Precio actual sin PSN</th>\n",
       "      <th>Precio original con PSN</th>\n",
       "      <th>Precio actual con PSN</th>\n",
       "      <th>País Store</th>\n",
       "    </tr>\n",
       "  </thead>\n",
       "  <tbody>\n",
       "    <tr>\n",
       "      <th>0</th>\n",
       "      <td>Marvel’s Spider-Man 2</td>\n",
       "      <td>2024-03-10T23:11:46.831501</td>\n",
       "      <td>PS5</td>\n",
       "      <td>Acción</td>\n",
       "      <td>Sony Interactive Entertainment Europe</td>\n",
       "      <td>19/10/2023</td>\n",
       "      <td>Alemán, Checo, Danés, Español, Finlandés, Fran...</td>\n",
       "      <td>4.88</td>\n",
       "      <td>109.089 calificaciones</td>\n",
       "      <td>93 %</td>\n",
       "      <td>4 %</td>\n",
       "      <td>1 %</td>\n",
       "      <td>1 %</td>\n",
       "      <td>1 %</td>\n",
       "      <td>79,99 €</td>\n",
       "      <td>79,99 €</td>\n",
       "      <td>79,99 €</td>\n",
       "      <td>79,99 €</td>\n",
       "      <td>ESP</td>\n",
       "    </tr>\n",
       "  </tbody>\n",
       "</table>\n",
       "</div>"
      ],
      "text/plain": [
       "                  Titulo                  Día y hora Plataforma  Genero  \\\n",
       "0  Marvel’s Spider-Man 2  2024-03-10T23:11:46.831501        PS5  Acción   \n",
       "\n",
       "                                Compañia Lanzamiento  \\\n",
       "0  Sony Interactive Entertainment Europe  19/10/2023   \n",
       "\n",
       "                                             Idiomas Calificación PSN  \\\n",
       "0  Alemán, Checo, Danés, Español, Finlandés, Fran...             4.88   \n",
       "\n",
       "  Número de calificaciones Calificación 5 estrellas Calificación 4 estrellas  \\\n",
       "0   109.089 calificaciones                     93 %                      4 %   \n",
       "\n",
       "  Calificación 3 estrellas Calificación 2 estrellas Calificación 1 estrella  \\\n",
       "0                      1 %                      1 %                     1 %   \n",
       "\n",
       "  Precio original sin PSN Precio actual sin PSN Precio original con PSN  \\\n",
       "0                 79,99 €               79,99 €                 79,99 €   \n",
       "\n",
       "  Precio actual con PSN País Store  \n",
       "0               79,99 €        ESP  "
      ]
     },
     "execution_count": 25,
     "metadata": {},
     "output_type": "execute_result"
    }
   ],
   "source": [
    "df_juegos[0]"
   ]
  },
  {
   "cell_type": "code",
   "execution_count": 26,
   "metadata": {},
   "outputs": [
    {
     "data": {
      "text/html": [
       "<div>\n",
       "<style scoped>\n",
       "    .dataframe tbody tr th:only-of-type {\n",
       "        vertical-align: middle;\n",
       "    }\n",
       "\n",
       "    .dataframe tbody tr th {\n",
       "        vertical-align: top;\n",
       "    }\n",
       "\n",
       "    .dataframe thead th {\n",
       "        text-align: right;\n",
       "    }\n",
       "</style>\n",
       "<table border=\"1\" class=\"dataframe\">\n",
       "  <thead>\n",
       "    <tr style=\"text-align: right;\">\n",
       "      <th></th>\n",
       "      <th>Titulo</th>\n",
       "      <th>Día y hora</th>\n",
       "      <th>Plataforma</th>\n",
       "      <th>Genero</th>\n",
       "      <th>Compañia</th>\n",
       "      <th>Lanzamiento</th>\n",
       "      <th>Idiomas</th>\n",
       "      <th>Calificación PSN</th>\n",
       "      <th>Número de calificaciones</th>\n",
       "      <th>Calificación 5 estrellas</th>\n",
       "      <th>Calificación 4 estrellas</th>\n",
       "      <th>Calificación 3 estrellas</th>\n",
       "      <th>Calificación 2 estrellas</th>\n",
       "      <th>Calificación 1 estrella</th>\n",
       "      <th>Precio original sin PSN</th>\n",
       "      <th>Precio actual sin PSN</th>\n",
       "      <th>Precio original con PSN</th>\n",
       "      <th>Precio actual con PSN</th>\n",
       "      <th>País Store</th>\n",
       "    </tr>\n",
       "  </thead>\n",
       "  <tbody>\n",
       "    <tr>\n",
       "      <th>0</th>\n",
       "      <td>Marvel’s Spider-Man 2</td>\n",
       "      <td>2024-03-10T23:11:50.772913</td>\n",
       "      <td>PS5</td>\n",
       "      <td>Action</td>\n",
       "      <td>Sony Interactive Entertainment</td>\n",
       "      <td>10/20/2023</td>\n",
       "      <td>English, French (France), Portuguese (Brazil),...</td>\n",
       "      <td>4.88</td>\n",
       "      <td>109,089 ratings</td>\n",
       "      <td>93%</td>\n",
       "      <td>4%</td>\n",
       "      <td>1%</td>\n",
       "      <td>1%</td>\n",
       "      <td>1%</td>\n",
       "      <td>$69.99</td>\n",
       "      <td>$69.99</td>\n",
       "      <td>$69.99</td>\n",
       "      <td>$69.99</td>\n",
       "      <td>USA</td>\n",
       "    </tr>\n",
       "  </tbody>\n",
       "</table>\n",
       "</div>"
      ],
      "text/plain": [
       "                  Titulo                  Día y hora Plataforma  Genero  \\\n",
       "0  Marvel’s Spider-Man 2  2024-03-10T23:11:50.772913        PS5  Action   \n",
       "\n",
       "                         Compañia Lanzamiento  \\\n",
       "0  Sony Interactive Entertainment  10/20/2023   \n",
       "\n",
       "                                             Idiomas Calificación PSN  \\\n",
       "0  English, French (France), Portuguese (Brazil),...             4.88   \n",
       "\n",
       "  Número de calificaciones Calificación 5 estrellas Calificación 4 estrellas  \\\n",
       "0          109,089 ratings                      93%                       4%   \n",
       "\n",
       "  Calificación 3 estrellas Calificación 2 estrellas Calificación 1 estrella  \\\n",
       "0                       1%                       1%                      1%   \n",
       "\n",
       "  Precio original sin PSN Precio actual sin PSN Precio original con PSN  \\\n",
       "0                  $69.99                $69.99                  $69.99   \n",
       "\n",
       "  Precio actual con PSN País Store  \n",
       "0                $69.99        USA  "
      ]
     },
     "execution_count": 26,
     "metadata": {},
     "output_type": "execute_result"
    }
   ],
   "source": [
    "df_juegos[1]"
   ]
  },
  {
   "cell_type": "code",
   "execution_count": 27,
   "metadata": {},
   "outputs": [
    {
     "data": {
      "text/plain": [
       "['/es-es/concept/10002456',\n",
       " '/en-us/concept/10002456',\n",
       " '/ja-jp/concept/10002456']"
      ]
     },
     "execution_count": 27,
     "metadata": {},
     "output_type": "execute_result"
    }
   ],
   "source": [
    "href_valor_list"
   ]
  },
  {
   "cell_type": "markdown",
   "metadata": {},
   "source": [
    "Cosas a meter nuevas en variables"
   ]
  },
  {
   "cell_type": "code",
   "execution_count": null,
   "metadata": {},
   "outputs": [],
   "source": [
    "# Lista de recheck\n",
    "lista_recheck = []\n",
    "\n",
    "\n",
    "df_juegos_us = df_juegos_es.copy()\n",
    "df_juegos_jp = df_juegos_es.copy()\n",
    "df_juegos = [df_juegos_es,df_juegos_us,df_juegos_jp]\n",
    "lista_store = [\"ESP\",\"USA\",\"JAP\"]"
   ]
  },
  {
   "cell_type": "markdown",
   "metadata": {},
   "source": [
    "Lo siguiente en la obtención del href de cada store para después meter un for pasando por cada uno, haciendo una sopa y recopilado la información concreta"
   ]
  },
  {
   "cell_type": "code",
   "execution_count": null,
   "metadata": {},
   "outputs": [],
   "source": [
    "href_store_es = url_game.get('href')\n",
    "\n",
    "href_store_us = href_store_es.replace('/es-es','/en-us')\n",
    "href_store_jp = href_store_es.replace('/es-es','/ja-jp')\n",
    "\n",
    "href_valor_list = [href_store_es,href_store_us,href_store_jp]"
   ]
  },
  {
   "cell_type": "code",
   "execution_count": 45,
   "metadata": {},
   "outputs": [
    {
     "data": {
      "text/plain": [
       "<!DOCTYPE html>\n",
       "<html class=\"psw-root psw-rem-base\" dir=\"ltr\" lang=\"ja-jp\"><head><meta content=\"2.100.0\" name=\"wca-ssr-version\"/><meta content=\"ja-JP\" name=\"wca-locale\"/><meta content=\"dark\" name=\"wca-theme\"/><script id=\"wca-config-overrides\" type=\"application/json\">\n",
       "    {\"client\":{\"webCheckout\":{\"clientId\":\"2eb25762-877f-4140-b341-7c7e14c19f98\"}}}</script>\n",
       "<link crossorigin=\"\" href=\"https://static.playstation.com\" rel=\"preconnect\"/>\n",
       "<link href=\"https://static.playstation.com\" rel=\"dns-prefetch\"/>\n",
       "<link href=\"https://web.np.playstation.com/api/graphql/v1\" rel=\"preconnect\"/>\n",
       "<link href=\"https://web.np.playstation.com/api/graphql/v1\" rel=\"dns-prefetch\"/>\n",
       "<link crossorigin=\"\" href=\"https://image.api.playstation.com\" rel=\"preconnect\"/>\n",
       "<link href=\"https://image.api.playstation.com\" rel=\"dns-prefetch\"/>\n",
       "<link href=\"https://id.sonyentertainmentnetwork.com\" rel=\"dns-prefetch\"/>\n",
       "<link href=\"https://checkout.playstation.com\" rel=\"dns-prefetch\"/>\n",
       "<link href=\"https://static.playstation.com/font-stack/v1/css/font-all-no-italic.css\" rel=\"stylesheet\"/>\n",
       "<link href=\"https://static.playstation.com/base-styles/v0/psw-styles.css\" rel=\"stylesheet\"/>\n",
       "<script id=\"wca-config\" type=\"application/json\">\n",
       "      {\"env\":\"production\",\"name\":\"@sie-private/web-commerce-anywhere\",\"version\":\"2.100.0\",\"gitBranch\":\"master\",\"gitSha\":\"e9a762e3b79e559740aaa0eb213e2a009e4a6f2f\",\"psnAppVersion\":\"@sie-private/web-commerce-anywhere/2.100.0-e9a762e3b79e559740aaa0eb213e2a009e4a6f2f\",\"isoenv\":\"psnnp/np\",\"client\":{\"downloadHref\":\"https://library.playstation.com/recently-purchased\",\"activateConsoleHref\":\"https://id.sonyentertainmentnetwork.com/id/management_ca/#/p/device_management\",\"wishlistHref\":\"https://library.playstation.com/wishlist\",\"webStore\":{\"origin\":\"https://store.playstation.com\"},\"cookieMonster\":{\"origin\":\"https://id.sonyentertainmentnetwork.com\"},\"productUrlSchema\":\"https://store.playstation.com/{locale}/product/{productId}\",\"publicPath\":\"https://static.playstation.com/wca/v2/\",\"manifest\":{\"src\":{\"core\":{\"js\":[\"https://static.playstation.com/wca/v2/js/common.50a2fcf49217ec09b5e9.js\",\"https://static.playstation.com/wca/v2/js/ui-components.f82745b5aea3b4785a75.js\",\"https://static.playstation.com/wca/v2/js/main.0f51d1c94a06e8229cec.js\",\"https://static.playstation.com/wca/v2/js/network.4f4b58cea0c2ad6c3adf.js\",\"https://static.playstation.com/wca/v2/js/telemetry.fbfd04effd489b751596.js\",\"https://static.playstation.com/wca/v2/js/ui-framework.db46af39540ffd7d96e4.js\"],\"css\":[]},\"addOns\":{\"js\":[\"https://static.playstation.com/wca/v2/js/addOns.e3324b82aac3c90bd0be.js\"],\"css\":[]},\"compatibilityNotices\":{\"js\":[\"https://static.playstation.com/wca/v2/js/compatibilityNotices.830359304c02e9d6e68c.js\"],\"css\":[]},\"contentRating\":{\"js\":[\"https://static.playstation.com/wca/v2/js/contentRating.445e38e7e782c04ec6db.js\"],\"css\":[]},\"ctaWithPrice\":{},\"footer\":{\"js\":[\"https://static.playstation.com/wca/v2/js/footer.7c2eebb0ae8d82d85f53.js\"],\"css\":[]},\"friendsWhoPlay\":{\"js\":[\"https://static.playstation.com/wca/v2/js/friendsWhoPlay.83a9636fa8c6d3cc520f.js\"],\"css\":[]},\"gameBackgroundImage\":{\"js\":[\"https://static.playstation.com/wca/v2/js/gameBackgroundImage.9cee85eac0311af066e5.js\"],\"css\":[]},\"gameInfo\":{\"js\":[\"https://static.playstation.com/wca/v2/js/gameInfo.93317baed2318b87fb8f.js\"],\"css\":[]},\"gameOverview\":{},\"gameTitle\":{\"js\":[\"https://static.playstation.com/wca/v2/js/gameTitle.59aafec99fa22e39328b.js\"],\"css\":[]},\"legalText\":{\"js\":[\"https://static.playstation.com/wca/v2/js/legalText.2111ae2f18288538df0a.js\"],\"css\":[]},\"upsell\":{\"js\":[\"https://static.playstation.com/wca/v2/js/upsell.7b52ef867efcbfa31434.js\"],\"css\":[]},\"mediaCarousel\":{\"js\":[\"https://static.playstation.com/wca/v2/js/mediaCarousel.298da7c56e7eb9500de1.js\"],\"css\":[]},\"starRating\":{\"js\":[\"https://static.playstation.com/wca/v2/js/starRating.929334df8123d085c3c0.js\"],\"css\":[]},\"tierDiscountBadge\":{\"js\":[\"https://static.playstation.com/wca/v2/js/tierDiscountBadge.769c12555e5b38a261c1.js\"],\"css\":[]},\"tierSelector\":{\"js\":[\"https://static.playstation.com/wca/v2/js/tierSelector.a49dbecbe417ac90e29e.js\"],\"css\":[]}},\"gensen\":{\"ar-ae\":\"https://static.playstation.com/wca/v2/gensen/ar-ae.2412fcf0.json\",\"en-us\":\"https://static.playstation.com/wca/v2/gensen/en-us.49c61280.json\",\"en-gb\":\"https://static.playstation.com/wca/v2/gensen/en-gb.f134ab61.json\",\"bg-bg\":\"https://static.playstation.com/wca/v2/gensen/bg-bg.1ac2f465.json\",\"cs-cz\":\"https://static.playstation.com/wca/v2/gensen/cs-cz.978cfd86.json\",\"da-dk\":\"https://static.playstation.com/wca/v2/gensen/da-dk.dd93c8d4.json\",\"de-de\":\"https://static.playstation.com/wca/v2/gensen/de-de.5ffcc3b0.json\",\"el-gr\":\"https://static.playstation.com/wca/v2/gensen/el-gr.decdb7e1.json\",\"es-419\":\"https://static.playstation.com/wca/v2/gensen/es-419.f464cd85.json\",\"es-es\":\"https://static.playstation.com/wca/v2/gensen/es-es.a47e88f1.json\",\"fi-fi\":\"https://static.playstation.com/wca/v2/gensen/fi-fi.f749cc89.json\",\"fr-ca\":\"https://static.playstation.com/wca/v2/gensen/fr-ca.f44c89cc.json\",\"fr-fr\":\"https://static.playstation.com/wca/v2/gensen/fr-fr.773de797.json\",\"he-il\":\"https://static.playstation.com/wca/v2/gensen/he-il.4abb25fa.json\",\"hr-hr\":\"https://static.playstation.com/wca/v2/gensen/hr-hr.952ff803.json\",\"hu-hu\":\"https://static.playstation.com/wca/v2/gensen/hu-hu.7efc1e3c.json\",\"id-id\":\"https://static.playstation.com/wca/v2/gensen/id-id.82c84717.json\",\"it-it\":\"https://static.playstation.com/wca/v2/gensen/it-it.4b007e51.json\",\"ja-jp\":\"https://static.playstation.com/wca/v2/gensen/ja-jp.590c9dd6.json\",\"ko-kr\":\"https://static.playstation.com/wca/v2/gensen/ko-kr.818d4002.json\",\"nl-nl\":\"https://static.playstation.com/wca/v2/gensen/nl-nl.31b9aa59.json\",\"no-no\":\"https://static.playstation.com/wca/v2/gensen/no-no.d03cc2ff.json\",\"pl-pl\":\"https://static.playstation.com/wca/v2/gensen/pl-pl.f0a7b893.json\",\"pt-br\":\"https://static.playstation.com/wca/v2/gensen/pt-br.37eef650.json\",\"pt-pt\":\"https://static.playstation.com/wca/v2/gensen/pt-pt.1d9438b3.json\",\"ro-ro\":\"https://static.playstation.com/wca/v2/gensen/ro-ro.12c466ae.json\",\"ru-ru\":\"https://static.playstation.com/wca/v2/gensen/ru-ru.0da694a2.json\",\"sk-sk\":\"https://static.playstation.com/wca/v2/gensen/sk-sk.33b7b5e4.json\",\"sl-si\":\"https://static.playstation.com/wca/v2/gensen/sl-si.775f907f.json\",\"sr-rs\":\"https://static.playstation.com/wca/v2/gensen/sr-rs.e36b5c41.json\",\"sv-se\":\"https://static.playstation.com/wca/v2/gensen/sv-se.287bdc41.json\",\"th-th\":\"https://static.playstation.com/wca/v2/gensen/th-th.c9d6dff9.json\",\"tr-tr\":\"https://static.playstation.com/wca/v2/gensen/tr-tr.e985ce5a.json\",\"uk-ua\":\"https://static.playstation.com/wca/v2/gensen/uk-ua.e76fc34e.json\",\"vi-vn\":\"https://static.playstation.com/wca/v2/gensen/vi-vn.6b0ceff7.json\",\"zh-hans\":\"https://static.playstation.com/wca/v2/gensen/zh-hans.a62da969.json\",\"zh-hant\":\"https://static.playstation.com/wca/v2/gensen/zh-hant.0f9ff43e.json\",\"zz-zz\":\"https://static.playstation.com/wca/v2/gensen/zz-zz.c13d8cc8.json\"}},\"session\":{\"isSignedInCookie\":\"isSignedIn\"},\"webCheckout\":{\"name\":\"embeddedcart\",\"clientId\":\"2dec2b13-57dc-4966-8294-6df0d627e109\",\"origin\":\"https://checkout.playstation.com\",\"loadTimeout\":30000},\"webCommerceAnywhere\":{\"origin\":\"https://web-commerce-anywhere.playstation.com\"}},\"staticAsset\":{\"iconOrigin\":\"https://static.playstation.com/icons/v0/\",\"imageOrigin\":\"https://static.playstation.com/images/v0/\",\"imageManagerOrigin\":\"https://image.api.playstation.com\",\"fontsMain\":\"https://static.playstation.com/font-stack/v1/css/font-all-no-italic.css\",\"stylesMain\":\"https://static.playstation.com/base-styles/v0/psw-styles.css\"},\"feature\":{\"queryWhitelist\":true,\"telemetryReporting\":true,\"enableUpsellCtas\":true,\"enableWishlistCta\":true,\"telemetrySamplingThreshold\":10,\"evidonNoticeEnabled\":false},\"service\":{\"gql\":{\"origin\":\"https://web.np.playstation.com/api/graphql/v1\"},\"sbahn\":{\"proxyUrl\":null}}}\n",
       "    </script>\n",
       "<script crossorigin=\"\" defer=\"\" src=\"https://static.playstation.com/wca/v2/js/common.50a2fcf49217ec09b5e9.js\" type=\"application/javascript\"></script><script crossorigin=\"\" defer=\"\" src=\"https://static.playstation.com/wca/v2/js/ui-components.f82745b5aea3b4785a75.js\" type=\"application/javascript\"></script><script crossorigin=\"\" defer=\"\" src=\"https://static.playstation.com/wca/v2/js/main.0f51d1c94a06e8229cec.js\" type=\"application/javascript\"></script><script crossorigin=\"\" defer=\"\" src=\"https://static.playstation.com/wca/v2/js/network.4f4b58cea0c2ad6c3adf.js\" type=\"application/javascript\"></script><script crossorigin=\"\" defer=\"\" src=\"https://static.playstation.com/wca/v2/js/telemetry.fbfd04effd489b751596.js\" type=\"application/javascript\"></script><script crossorigin=\"\" defer=\"\" src=\"https://static.playstation.com/wca/v2/js/ui-framework.db46af39540ffd7d96e4.js\" type=\"application/javascript\"></script><meta content=\"冒険に出る準備はいいか？\" name=\"description\"/><script id=\"mfe-jsonld-tags\" type=\"application/ld+json\">{\"@context\":\"http://schema.org\",\"@type\":\"Product\",\"name\":\"アンチャーテッド トレジャーハンターコレクション\",\"category\":\"製品版\",\"description\":\"冒険に出る準備はいいか？\",\"sku\":\"JP9000-PPSA05685_00-UNCHARTED4R00000\",\"image\":\"https://image.api.playstation.com/vulcan/ap/rnd/202111/2000/W7fnIRwYvGF17Qzg4duWQD4I.png\",\"offers\":{\"@type\":\"Offer\",\"price\":2156,\"priceCurrency\":\"JPY\"}}</script><link href=\"/static/lib/shared-nav/3.1.0/shared-nav.css\" rel=\"stylesheet\"/><meta charset=\"utf-8\"/><meta content=\"width=device-width, initial-scale=1.0\" name=\"viewport\"/><script type=\"text/javascript\"></script><title>アンチャーテッド トレジャーハンターコレクション</title><meta content=\"app-id=410896080, app-argument=\" name=\"apple-itunes-app\"/><meta content=\"app-id=com.scee.psxandroid\" name=\"google-play-app\"/><meta content=\"6\" name=\"next-head-count\"/><link as=\"style\" href=\"/_next/static/css/ab7f3d487aa80791b1da.css\" rel=\"preload\"/><link data-n-g=\"\" href=\"/_next/static/css/ab7f3d487aa80791b1da.css\" rel=\"stylesheet\"/><noscript data-n-css=\"\"></noscript><link as=\"script\" href=\"/_next/static/chunks/main-cfd791039bb495aab205.js\" rel=\"preload\"/><link as=\"script\" href=\"/_next/static/chunks/webpack-245f049e565ebf942e09.js\" rel=\"preload\"/><link as=\"script\" href=\"/_next/static/chunks/framework.4e2742a821daf93a8926.js\" rel=\"preload\"/><link as=\"script\" href=\"/_next/static/chunks/cfb6898d.45dbb78aa0e140ed05e2.js\" rel=\"preload\"/><link as=\"script\" href=\"/_next/static/chunks/a7d41584.838ba4dc82fc7a3f15ad.js\" rel=\"preload\"/><link as=\"script\" href=\"/_next/static/chunks/c37194fb.12df7d90824ab0bf72fb.js\" rel=\"preload\"/><link as=\"script\" href=\"/_next/static/chunks/commons.b72b31c8fb4ea656bce3.js\" rel=\"preload\"/><link as=\"script\" href=\"/_next/static/chunks/4c41f019eb924e60be110f6eafddb5eb4b6f0fc1.5bf9016e877abbb6960f.js\" rel=\"preload\"/><link as=\"script\" href=\"/_next/static/chunks/43de67f13305869fa317531a132748d128d21601.4fb9aee04c19e8c6ee60.js\" rel=\"preload\"/><link as=\"script\" href=\"/_next/static/chunks/pages/_app-8618638f54fc7480237a.js\" rel=\"preload\"/><link as=\"script\" href=\"/_next/static/chunks/68f504b0.bf05deb9e1510cd19b4f.js\" rel=\"preload\"/><link as=\"script\" href=\"/_next/static/chunks/66b2f55f471b2e3962a62a30b80d0986d332d7c0.832701947c3eb382cec6.js\" rel=\"preload\"/><link as=\"script\" href=\"/_next/static/chunks/89fc41169380d395ae9e70f4f509b5621dc4b869.114cc891d6e6f46eefc5.js\" rel=\"preload\"/><link as=\"script\" href=\"/_next/static/chunks/pages/%5Blocale%5D/concept/%5BconceptId%5D-32ef239bbc74850fb635.js\" rel=\"preload\"/></head><body><div><header id=\"shared-nav-root\">\n",
       "<!-- psn shared navigation -->\n",
       "<!-- version=3.1.0 -->\n",
       "<!-- build=unknown -->\n",
       "<!-- date=2023-10-24T20:53:36.338Z -->\n",
       "<div class=\"shared-nav-container--minimized\" id=\"shared-nav-container\">\n",
       "<section class=\"shared-nav--ssr\" id=\"shared-nav\">\n",
       "<nav class=\"shared-nav shared-nav--menu-closed\" data-jetstream-ssr-nav-container=\"true\">\n",
       "<span class=\"shared-nav__ps-logo-container\"><a aria-label=\"PlayStation.com\" class=\"shared-nav-ps-logo-link dtm-no-track\" href=\"https://www.playstation.com\">\n",
       "<svg aria-hidden=\"true\" class=\"shared-nav-ps-logo\" focusable=\"false\" height=\"50px\" version=\"1.1\" viewbox=\"0 0 50 50\" width=\"50px\" xmlns=\"http://www.w3.org/2000/svg\" xmlns:xlink=\"http://www.w3.org/1999/xlink\">\n",
       "<g>\n",
       "<g>\n",
       "<path d=\"M5.8,32.1C4.3,33.1,4.8,35,8,35.9c3.3,1.1,6.9,1.4,10.4,0.8c0.2,0,0.4-0.1,0.5-0.1v-3.4l-3.4,1.1\n",
       "       c-1.3,0.4-2.6,0.5-3.9,0.2c-1-0.3-0.8-0.9,0.4-1.4l6.9-2.4V27l-9.6,3.3C8.1,30.7,6.9,31.3,5.8,32.1z M29,17.1v9.7\n",
       "       c4.1,2,7.3,0,7.3-5.2c0-5.3-1.9-7.7-7.4-9.6C26,11,23,10.1,20,9.5v28.9l7,2.1V16.2c0-1.1,0-1.9,0.8-1.6C28.9,14.9,29,16,29,17.1z\n",
       "        M42,29.8c-2.9-1-6-1.4-9-1.1c-1.6,0.1-3.1,0.5-4.5,1l-0.3,0.1v3.9l6.5-2.4c1.3-0.4,2.6-0.5,3.9-0.2c1,0.3,0.8,0.9-0.4,1.4\n",
       "       l-10,3.7V40L42,34.9c1-0.4,1.9-0.9,2.7-1.7C45.4,32.2,45.1,30.8,42,29.8z\" fill=\"#0070d1\"></path>\n",
       "</g>\n",
       "</g>\n",
       "</svg>\n",
       "</a></span>\n",
       "<div class=\"shared-nav__primary-parent\">\n",
       "<section aria-label=\"Menu Level 2\" class=\"shared-nav__primary shared-nav-list\">\n",
       "<div class=\"shared-nav__primary-item\"><button class=\"shared-nav__primary-button shared-nav-button shared-nav-icon shared-nav-icon--chevron-after dtm-no-track shared-nav-mobile-icon shared-nav-icon--gaming\" id=\"menu-button-primary--msg-games\">ゲーム</button>\n",
       "<div class=\"shared-nav__secondary-parent shared-nav__secondary-parent--msg_games\">\n",
       "<div class=\"shared-nav__secondary-container\">\n",
       "<h3 class=\"shared-nav__secondary-header\" id=\"shared-nav__secondary-header--msg-games\">\n",
       "<button class=\"shared-nav__secondary-header-toggle shared-nav-button shared-nav-icon shared-nav-icon--hamburger\">\n",
       "                      ゲーム\n",
       "                    </button>\n",
       "</h3>\n",
       "<section aria-label=\"Menu Level 2\" class=\"shared-nav__secondary shared-nav-list\">\n",
       "<div class=\"shared-nav__secondary-item\"><a class=\"shared-nav__secondary-anchor shared-nav-anchor dtm-no-track shared-nav-link-icon shared-nav-link-icon--ps5games\" href=\"https://www.playstation.com/ja-jp/ps5/games/?smcid=other%3Aja-jp%3Ablank%3Aprimary%20nav%3Amsg-games%3Aps5\" id=\"link-secondary--msg-games-msg-ps5\">\n",
       "<span class=\"shared-nav-icon-text\">PS5</span>\n",
       "</a></div>\n",
       "<div class=\"shared-nav__secondary-item\"><a class=\"shared-nav__secondary-anchor shared-nav-anchor dtm-no-track shared-nav-link-icon shared-nav-link-icon--ps4progames\" href=\"https://www.jp.playstation.com/ps4/ps4-games/?smcid=other%3Aja-jp%3Ablank%3Aprimary%20nav%3Amsg-games%3Aps4\" id=\"link-secondary--msg-games-msg-ps4\">\n",
       "<span class=\"shared-nav-icon-text\">PS4</span>\n",
       "</a></div>\n",
       "<div class=\"shared-nav__secondary-item\"><a class=\"shared-nav__secondary-anchor shared-nav-anchor dtm-no-track shared-nav-link-icon shared-nav-link-icon--psvr2\" href=\"https://www.playstation.com/ps-vr2/games/?smcid=other%3Aja-jp%3Ablank%3Aprimary%20nav%3Amsg-games%3Aps-vr2\" id=\"link-secondary--msg-games-msg-ps-vr2\">\n",
       "<span class=\"shared-nav-icon-text\">PS VR2</span>\n",
       "</a></div>\n",
       "<div class=\"shared-nav__secondary-item\"><a class=\"shared-nav__secondary-anchor shared-nav-anchor dtm-no-track shared-nav-link-icon shared-nav-link-icon--pc\" href=\"https://www.jp.playstation.com/games/pc-games/?smcid=other%3Aja-jp%3Ablank%3Aprimary%20nav%3Amsg-games%3Apc\" id=\"link-secondary--msg-games-msg-pc\">\n",
       "<span class=\"shared-nav-icon-text\">PC</span>\n",
       "</a></div>\n",
       "<div class=\"shared-nav__secondary-item\"><a class=\"shared-nav__secondary-anchor shared-nav-anchor dtm-no-track shared-nav-link-icon shared-nav-link-icon--psplusgames\" href=\"https://www.playstation.com/ja-jp/ps-plus/whats-new/?smcid=other%3Aja-jp%3Ablank%3Aprimary%20nav%3Amsg-games%3Aps-plus\" id=\"link-secondary--msg-games-msg-ps-plus\">\n",
       "<span class=\"shared-nav-icon-text\">PS Plus</span>\n",
       "</a></div>\n",
       "</section>\n",
       "</div>\n",
       "</div>\n",
       "</div>\n",
       "<div class=\"shared-nav__primary-item\"><button class=\"shared-nav__primary-button shared-nav-button shared-nav-icon shared-nav-icon--chevron-after dtm-no-track shared-nav-mobile-icon shared-nav-icon--ps5\" id=\"menu-button-primary--msg-ps5\">PS5</button>\n",
       "<div class=\"shared-nav__secondary-parent shared-nav__secondary-parent--msg_ps5\">\n",
       "<div class=\"shared-nav__secondary-container\">\n",
       "<h3 class=\"shared-nav__secondary-header\" id=\"shared-nav__secondary-header--msg-ps5\">\n",
       "<button class=\"shared-nav__secondary-header-toggle shared-nav-button shared-nav-icon shared-nav-icon--hamburger\">\n",
       "                      PS5\n",
       "                    </button>\n",
       "</h3>\n",
       "<section aria-label=\"Menu Level 2\" class=\"shared-nav__secondary shared-nav-list\">\n",
       "<div class=\"shared-nav__secondary-item\"><a class=\"shared-nav__secondary-anchor shared-nav-anchor dtm-no-track shared-nav-link-icon shared-nav-link-icon--ps5\" href=\"https://www.jp.playstation.com/ps5/?smcid=other%3Aja-jp%3Ablank%3Aprimary%20nav%3Amsg-ps5%3A\" id=\"link-secondary--msg-ps5-msg-console\">\n",
       "<span class=\"shared-nav-icon-text\">本体</span>\n",
       "</a></div>\n",
       "<div class=\"shared-nav__secondary-item\"><a class=\"shared-nav__secondary-anchor shared-nav-anchor dtm-no-track shared-nav-link-icon shared-nav-link-icon--games\" href=\"https://www.jp.playstation.com/ps5/games/?smcid=other%3Aja-jp%3Ablank%3Aprimary%20nav%3Amsg-ps5%3A\" id=\"link-secondary--msg-ps5-msg-games\">\n",
       "<span class=\"shared-nav-icon-text\">ゲーム</span>\n",
       "</a></div>\n",
       "<div class=\"shared-nav__secondary-item\"><a class=\"shared-nav__secondary-anchor shared-nav-anchor dtm-no-track shared-nav-link-icon shared-nav-link-icon--dualSense\" href=\"https://www.jp.playstation.com/accessories/dualsense-wireless-controller/?smcid=other%3Aja-jp%3Ablank%3Aprimary%20nav%3Amsg-ps5%3A\" id=\"link-secondary--msg-ps5-msg-controllers\">\n",
       "<span class=\"shared-nav-icon-text\">コントローラー</span>\n",
       "</a></div>\n",
       "<div class=\"shared-nav__secondary-item\"><a class=\"shared-nav__secondary-anchor shared-nav-anchor dtm-no-track shared-nav-link-icon shared-nav-link-icon--psvr2\" href=\"https://www.jp.playstation.com/ps-vr2/?smcid=other%3Aja-jp%3Ablank%3Aprimary%20nav%3Amsg-ps5%3Aps-vr2\" id=\"link-secondary--msg-ps5-msg-ps-vr2\">\n",
       "<span class=\"shared-nav-icon-text\">PS VR2</span>\n",
       "</a></div>\n",
       "<div class=\"shared-nav__secondary-item\"><a class=\"shared-nav__secondary-anchor shared-nav-anchor dtm-no-track shared-nav-link-icon shared-nav-link-icon--pulse\" href=\"https://www.jp.playstation.com/accessories/pulse-3d-wireless-headset/?smcid=other%3Aja-jp%3Ablank%3Aprimary%20nav%3Amsg-ps5%3A\" id=\"link-secondary--msg-ps5-msg-headsets\">\n",
       "<span class=\"shared-nav-icon-text\">ヘッドセット</span>\n",
       "</a></div>\n",
       "</section>\n",
       "</div>\n",
       "</div>\n",
       "</div>\n",
       "<div class=\"shared-nav__primary-item\"><button class=\"shared-nav__primary-button shared-nav-button shared-nav-icon shared-nav-icon--chevron-after dtm-no-track shared-nav-mobile-icon shared-nav-icon--ps4\" id=\"menu-button-primary--msg-ps4\">PS4</button>\n",
       "<div class=\"shared-nav__secondary-parent shared-nav__secondary-parent--msg_ps4\">\n",
       "<div class=\"shared-nav__secondary-container\">\n",
       "<h3 class=\"shared-nav__secondary-header\" id=\"shared-nav__secondary-header--msg-ps4\">\n",
       "<button class=\"shared-nav__secondary-header-toggle shared-nav-button shared-nav-icon shared-nav-icon--hamburger\">\n",
       "                      PS4\n",
       "                    </button>\n",
       "</h3>\n",
       "<section aria-label=\"Menu Level 2\" class=\"shared-nav__secondary shared-nav-list\">\n",
       "<div class=\"shared-nav__secondary-item\"><a class=\"shared-nav__secondary-anchor shared-nav-anchor dtm-no-track shared-nav-link-icon shared-nav-link-icon--ps4pro\" href=\"https://www.jp.playstation.com/ps4/?smcid=other%3Aja-jp%3Ablank%3Aprimary%20nav%3Amsg-ps4%3A\" id=\"link-secondary--msg-ps4-msg-console\">\n",
       "<span class=\"shared-nav-icon-text\">本体</span>\n",
       "</a></div>\n",
       "<div class=\"shared-nav__secondary-item\"><a class=\"shared-nav__secondary-anchor shared-nav-anchor dtm-no-track shared-nav-link-icon shared-nav-link-icon--games\" href=\"https://www.jp.playstation.com/ps4/ps4-games/?smcid=other%3Aja-jp%3Ablank%3Aprimary%20nav%3Amsg-ps4%3A\" id=\"link-secondary--msg-ps4-msg-games\">\n",
       "<span class=\"shared-nav-icon-text\">ゲーム</span>\n",
       "</a></div>\n",
       "<div class=\"shared-nav__secondary-item\"><a class=\"shared-nav__secondary-anchor shared-nav-anchor dtm-no-track shared-nav-link-icon shared-nav-link-icon--dualShock\" href=\"https://www.jp.playstation.com/accessories/dualshock-4-wireless-controller/?smcid=other%3Aja-jp%3Ablank%3Aprimary%20nav%3Amsg-ps4%3A\" id=\"link-secondary--msg-ps4-msg-controllers\">\n",
       "<span class=\"shared-nav-icon-text\">コントローラー</span>\n",
       "</a></div>\n",
       "<div class=\"shared-nav__secondary-item\"><a class=\"shared-nav__secondary-anchor shared-nav-anchor dtm-no-track shared-nav-link-icon shared-nav-link-icon--pulse\" href=\"https://www.jp.playstation.com/accessories/pulse-3d-wireless-headset/?smcid=other%3Aja-jp%3Ablank%3Aprimary%20nav%3Amsg-ps4%3A\" id=\"link-secondary--msg-ps4-msg-headsets\">\n",
       "<span class=\"shared-nav-icon-text\">ヘッドセット</span>\n",
       "</a></div>\n",
       "</section>\n",
       "</div>\n",
       "</div>\n",
       "</div>\n",
       "<div class=\"shared-nav__primary-item\"><button class=\"shared-nav__primary-button shared-nav-button shared-nav-icon shared-nav-icon--chevron-after dtm-no-track shared-nav-mobile-icon shared-nav-icon--services\" id=\"menu-button-primary--msg-services\">サービス</button>\n",
       "<div class=\"shared-nav__secondary-parent shared-nav__secondary-parent--msg_services\">\n",
       "<div class=\"shared-nav__secondary-container\">\n",
       "<h3 class=\"shared-nav__secondary-header\" id=\"shared-nav__secondary-header--msg-services\">\n",
       "<button class=\"shared-nav__secondary-header-toggle shared-nav-button shared-nav-icon shared-nav-icon--hamburger\">\n",
       "                      サービス\n",
       "                    </button>\n",
       "</h3>\n",
       "<section aria-label=\"Menu Level 2\" class=\"shared-nav__secondary shared-nav-list\">\n",
       "<div class=\"shared-nav__secondary-item\"><a class=\"shared-nav__secondary-anchor shared-nav-anchor dtm-no-track shared-nav-link-icon shared-nav-link-icon--psplus\" href=\"https://www.playstation.com/ja-jp/ps-plus/?smcid=other%3Aja-jp%3Ablank%3Aprimary%20nav%3Amsg-services%3Aps-plus\" id=\"link-secondary--msg-services-msg-ps-plus\">\n",
       "<span class=\"shared-nav-icon-text\">PS Plus</span>\n",
       "</a></div>\n",
       "<div class=\"shared-nav__secondary-item\"><a class=\"shared-nav__secondary-anchor shared-nav-anchor dtm-no-track shared-nav-link-icon shared-nav-link-icon--psstars\" href=\"https://www.playstation.com/ja-jp/playstation-stars/?smcid=other%3Aja-jp%3Ablank%3Aprimary%20nav%3Amsg-services%3Aps-stars\" id=\"link-secondary--msg-services-msg-ps-stars\">\n",
       "<span class=\"shared-nav-icon-text\">PS Stars</span>\n",
       "</a></div>\n",
       "</section>\n",
       "</div>\n",
       "</div>\n",
       "</div>\n",
       "<div class=\"shared-nav__primary-item\"><button class=\"shared-nav__primary-button shared-nav-button shared-nav-icon shared-nav-icon--chevron-after dtm-no-track shared-nav-mobile-icon shared-nav-icon--allAccesories\" id=\"menu-button-primary--msg-accessories\">周辺機器</button>\n",
       "<div class=\"shared-nav__secondary-parent shared-nav__secondary-parent--msg_accessories\">\n",
       "<div class=\"shared-nav__secondary-container\">\n",
       "<h3 class=\"shared-nav__secondary-header\" id=\"shared-nav__secondary-header--msg-accessories\">\n",
       "<button class=\"shared-nav__secondary-header-toggle shared-nav-button shared-nav-icon shared-nav-icon--hamburger\">\n",
       "                      周辺機器\n",
       "                    </button>\n",
       "</h3>\n",
       "<section aria-label=\"Menu Level 2\" class=\"shared-nav__secondary shared-nav-list\">\n",
       "<div class=\"shared-nav__secondary-item\"><a class=\"shared-nav__secondary-anchor shared-nav-anchor dtm-no-track shared-nav-link-icon shared-nav-link-icon--dualSense\" href=\"https://www.jp.playstation.com/accessories/dualsense-wireless-controller/?smcid=other%3Aja-jp%3Ablank%3Aprimary%20nav%3Amsg-accessories%3Aps5\" id=\"link-secondary--msg-accessories-msg-ps5-controllers\">\n",
       "<span class=\"shared-nav-icon-text\">PS5コントローラー</span>\n",
       "</a></div>\n",
       "<div class=\"shared-nav__secondary-item\"><a class=\"shared-nav__secondary-anchor shared-nav-anchor dtm-no-track shared-nav-link-icon shared-nav-link-icon--psportal\" href=\"https://www.jp.playstation.com/accessories/playstation-portal-remote-player/?smcid=other%3Aja-jp%3Ablank%3Aprimary%20nav%3Amsg-accessories%3Aplaystation-portal\" id=\"link-secondary--msg-accessories-msg-ps-portal-remote-player\">\n",
       "<span class=\"shared-nav-icon-text\">PlayStation Portalリモートプレーヤー</span>\n",
       "</a></div>\n",
       "<div class=\"shared-nav__secondary-item\"><a class=\"shared-nav__secondary-anchor shared-nav-anchor dtm-no-track shared-nav-link-icon shared-nav-link-icon--psvr2\" href=\"https://www.jp.playstation.com/ps-vr2/?smcid=other%3Aja-jp%3Ablank%3Aprimary%20nav%3Amsg-accessories%3Aps-vr2\" id=\"link-secondary--msg-accessories-msg-ps-vr2\">\n",
       "<span class=\"shared-nav-icon-text\">PS VR2</span>\n",
       "</a></div>\n",
       "<div class=\"shared-nav__secondary-item\"><a class=\"shared-nav__secondary-anchor shared-nav-anchor dtm-no-track shared-nav-link-icon shared-nav-link-icon--pulse\" href=\"https://www.jp.playstation.com/accessories/pulse-3d-wireless-headset/?smcid=other%3Aja-jp%3Ablank%3Aprimary%20nav%3Amsg-accessories%3A\" id=\"link-secondary--msg-accessories-msg-headsets\">\n",
       "<span class=\"shared-nav-icon-text\">ヘッドセット</span>\n",
       "</a></div>\n",
       "<div class=\"shared-nav__secondary-item\"><a class=\"shared-nav__secondary-anchor shared-nav-anchor dtm-no-track shared-nav-link-icon shared-nav-link-icon--allAccessories\" href=\"https://www.jp.playstation.com/accessories/?smcid=other%3Aja-jp%3Ablank%3Aprimary%20nav%3Amsg-accessories%3A\" id=\"link-secondary--msg-accessories-msg-all-accessories\">\n",
       "<span class=\"shared-nav-icon-text\">すべての周辺機器</span>\n",
       "</a></div>\n",
       "</section>\n",
       "</div>\n",
       "</div>\n",
       "</div>\n",
       "<div class=\"shared-nav__primary-item\"><button class=\"shared-nav__primary-button shared-nav-button shared-nav-icon shared-nav-icon--chevron-after dtm-no-track shared-nav-mobile-icon shared-nav-icon--news\" id=\"menu-button-primary--msg-news\">最新情報</button>\n",
       "<div class=\"shared-nav__secondary-parent shared-nav__secondary-parent--msg_news\">\n",
       "<div class=\"shared-nav__secondary-container\">\n",
       "<h3 class=\"shared-nav__secondary-header\" id=\"shared-nav__secondary-header--msg-news\">\n",
       "<button class=\"shared-nav__secondary-header-toggle shared-nav-button shared-nav-icon shared-nav-icon--hamburger\">\n",
       "                      最新情報\n",
       "                    </button>\n",
       "</h3>\n",
       "<section aria-label=\"Menu Level 2\" class=\"shared-nav__secondary shared-nav-list\">\n",
       "<div class=\"shared-nav__secondary-item\"><a class=\"shared-nav__secondary-anchor shared-nav-anchor dtm-no-track shared-nav-link-icon shared-nav-link-icon--psblog\" href=\"https://www.jp.playstation.com/blog/?smcid=other%3Aja-jp%3Ablank%3Aprimary%20nav%3Amsg-news%3Aps-blog\" id=\"link-secondary--msg-news-msg-ps-blog\">\n",
       "<span class=\"shared-nav-icon-text\">PS Blog</span>\n",
       "</a></div>\n",
       "<div class=\"shared-nav__secondary-item\"><a class=\"shared-nav__secondary-anchor shared-nav-anchor dtm-no-track shared-nav-link-icon shared-nav-link-icon--events\" href=\"https://www.playstation.com/ja-jp/editorial/this-month-on-playstation/?smcid=other%3Aja-jp%3Ablank%3Aprimary%20nav%3Amsg-news%3Aplaystation\" id=\"link-secondary--msg-news-msg-month-ps\">\n",
       "<span class=\"shared-nav-icon-text\">今月のPlayStation</span>\n",
       "</a></div>\n",
       "</section>\n",
       "</div>\n",
       "</div>\n",
       "</div>\n",
       "<div class=\"shared-nav__primary-item\"><button class=\"shared-nav__primary-button shared-nav-button shared-nav-icon shared-nav-icon--chevron-after dtm-no-track shared-nav-mobile-icon shared-nav-icon--store\" id=\"menu-button-primary--msg-store\">購入</button>\n",
       "<div class=\"shared-nav__secondary-parent shared-nav__secondary-parent--msg_store\">\n",
       "<div class=\"shared-nav__secondary-container\">\n",
       "<h3 class=\"shared-nav__secondary-header\" id=\"shared-nav__secondary-header--msg-store\">\n",
       "<button class=\"shared-nav__secondary-header-toggle shared-nav-button shared-nav-icon shared-nav-icon--hamburger\">\n",
       "                      購入\n",
       "                    </button>\n",
       "</h3>\n",
       "<section aria-label=\"Menu Level 2\" class=\"shared-nav__secondary shared-nav-list\">\n",
       "<div class=\"shared-nav__secondary-item\"><a class=\"shared-nav__secondary-anchor shared-nav-anchor dtm-no-track shared-nav-link-icon shared-nav-link-icon--psstore\" href=\"https://store.playstation.com/ja-jp?smcid=other%3Aja-jp%3Ablank%3Aprimary%20nav%3Amsg-store%3A\" id=\"link-secondary--msg-store-msg-buy-games\">\n",
       "<span class=\"shared-nav-icon-text\">ゲームを購入</span>\n",
       "</a></div>\n",
       "<div class=\"shared-nav__secondary-item\"><a class=\"shared-nav__secondary-anchor shared-nav-anchor dtm-no-track shared-nav-link-icon shared-nav-link-icon--psplus\" href=\"https://www.jp.playstation.com/ps-plus/?smcid=other%3Aja-jp%3Ablank%3Aprimary%20nav%3Amsg-store%3Aps-plus\" id=\"link-secondary--msg-store-msg-subscribe-ps-plus\">\n",
       "<span class=\"shared-nav-icon-text\">PS Plusに加入</span>\n",
       "</a></div>\n",
       "</section>\n",
       "</div>\n",
       "</div>\n",
       "</div>\n",
       "<div class=\"shared-nav__primary-item\"><button class=\"shared-nav__primary-button shared-nav-button shared-nav-icon shared-nav-icon--chevron-after dtm-no-track shared-nav-mobile-icon shared-nav-icon--help\" id=\"menu-button-primary--msg-support\">サポート</button>\n",
       "<div class=\"shared-nav__secondary-parent shared-nav__secondary-parent--msg_support\">\n",
       "<div class=\"shared-nav__secondary-container\">\n",
       "<h3 class=\"shared-nav__secondary-header\" id=\"shared-nav__secondary-header--msg-support\">\n",
       "<button class=\"shared-nav__secondary-header-toggle shared-nav-button shared-nav-icon shared-nav-icon--hamburger\">\n",
       "                      サポート\n",
       "                    </button>\n",
       "</h3>\n",
       "<section aria-label=\"Menu Level 2\" class=\"shared-nav__secondary shared-nav-list\">\n",
       "<div class=\"shared-nav__secondary-item\"><a class=\"shared-nav__secondary-anchor shared-nav-anchor dtm-no-track shared-nav-link-icon shared-nav-link-icon--helpandsupport\" href=\"https://www.playstation.com/ja-jp/support/?smcid=other%3Aja-jp%3Ablank%3Aprimary%20nav%3Amsg-support%3A\" id=\"link-secondary--msg-support-msg-support\">\n",
       "<span class=\"shared-nav-icon-text\">サポート</span>\n",
       "</a></div>\n",
       "<div class=\"shared-nav__secondary-item\"><a class=\"shared-nav__secondary-anchor shared-nav-anchor dtm-no-track shared-nav-link-icon shared-nav-link-icon--psnstatus\" href=\"https://status.playstation.com/ja-jp?smcid=other%3Aja-jp%3Ablank%3Aprimary%20nav%3Amsg-support%3Apsn\" id=\"link-secondary--msg-support-msg-psn-status\">\n",
       "<span class=\"shared-nav-icon-text\">PSNステータス</span>\n",
       "</a></div>\n",
       "</section>\n",
       "</div>\n",
       "</div>\n",
       "</div>\n",
       "</section>\n",
       "</div>\n",
       "</nav>\n",
       "<div id=\"sb-social-toolbar-root\"></div><span class=\"shared-nav__ctas-container\">\n",
       "<button aria-expanded=\"false\" aria-haspopup=\"true\" aria-label=\"メニューを開く\" class=\"shared-nav-icon shared-nav-icon--hamburger shared-nav-hamburger dtm-no-track\">\n",
       "</button>\n",
       "<span class=\"shared-nav-search-container\">\n",
       "<button class=\"shared-nav-icon shared-nav-icon--search shared-nav-search dtm-no-track\" data-qa=\"shared-nav-search-button\">\n",
       "<span class=\"shared-nav-search__label\">検索</span>\n",
       "<svg aria-hidden=\"true\" focusable=\"false\" height=\"50px\" version=\"1.1\" viewbox=\"0 0 50 50\" width=\"50px\" xmlns=\"http://www.w3.org/2000/svg\" xmlns:xlink=\"http://www.w3.org/1999/xlink\">\n",
       "<g>\n",
       "<path d=\"M8,20.913 C8,14.344 13.344,9 19.913,9 C26.482,9 31.827,14.344 31.827,20.913 C31.827,27.482 26.482,32.827 19.913,32.827 C13.344,32.827 8,27.482 8,20.913 M45.112,43.585 L32.346,30.82 C34.518,28.099 35.827,24.658 35.827,20.913 C35.827,12.139 28.688,5 19.913,5 C11.139,5 4,12.139 4,20.913 C4,29.688 11.139,36.827 19.913,36.827 C23.503,36.827 26.808,35.618 29.474,33.604 L42.284,46.413 C42.674,46.804 43.186,46.999 43.698,46.999 C44.209,46.999 44.721,46.804 45.112,46.413 C45.502,46.023 45.698,45.511 45.698,44.999 C45.698,44.488 45.502,43.976 45.112,43.585\"></path>\n",
       "</g>\n",
       "</svg>\n",
       "</button>\n",
       "</span>\n",
       "</span>\n",
       "</section>\n",
       "</div>\n",
       "</header></div><div id=\"__next\"><section id=\"jetstream-tertiary-nav\"><div class=\"tertiary-container psw-light-theme\"><div class=\"tertiary-container-inner\"><span class=\"tertiary-logo\"><a aria-label=\"\" class=\"\" data-qa=\"\" href=\"/ja-jp/pages/latest\"><span class=\"psw-icon psw-icon--ps-store-flat psw-icon psw-icon-l psw-icon--ps-store-flat psw-c-accent-1\" data-qa=\"\"><div class=\"psw-hide\" data-original-icon-id=\"ps-icon:ps-store-flat\"><svg xmlns=\"http://www.w3.org/2000/svg\"><symbol id=\"ps-icon:ps-store-flat:897\" viewbox=\"0 0 64 64\"><path d=\"M40.579 40.486c-.466.578-1.594.996-1.594.996l-8.389 3.014v-2.224l6.174-2.199c.7-.257.805-.61.24-.795-.575-.188-1.598-.133-2.305.12l-4.109 1.45v-2.313l.236-.08s1.19-.42 2.861-.601c1.67-.184 3.72.023 5.329.63 1.811.576 2.014 1.416 1.557 2.002zM29.865 30.52v14.234l-3.844-1.218V26.558c1.636.301 4.013 1.023 5.295 1.449 3.249 1.118 4.353 2.51 4.353 5.634 0 3.054-1.883 4.214-4.276 3.055v-5.685c0-.663-.123-1.281-.749-1.456-.48-.154-.779.292-.779.964zm-.343-19.877c.31-.032.612.015.912.138-1.733 2.363-2.232 6.531-2.374 8.862-.713.001-1.4.004-2.06.006.258-5.552 1.508-8.8 3.522-9.006zm-4.245 28.41l-3.96 1.419c-.7.25-.805.605-.24.789.575.194 1.595.14 2.297-.118l1.903-.686v1.995c-.122.021-.258.041-.383.063-1.898.315-3.92.185-5.917-.475-1.858-.52-2.17-1.614-1.321-2.245.783-.58 2.115-1.013 2.115-1.013l5.506-1.963v2.234zm6.268-27.471c1.655 1.714 2.778 5.254 3.256 8.06-1.4-.002-2.927-.002-4.577-.002h-.784c.158-2.567.708-6.211 2.105-8.058zm2.033-1.173c.643-.004 1.24.304 1.82.937 1.754 1.914 2.661 6.003 3 8.298l-2.194-.001c-.494-3.057-1.723-6.955-3.622-8.982.303-.158.634-.25.996-.252zm15.467 10.096c-.009-.173-.167-.31-.36-.307l-3.672-.529a.68.68 0 00-.105-.014c-.737 0-2.481-.005-5.11-.008-.311-2.393-1.22-6.38-2.934-8.696-.954-1.29-2.063-1.94-3.294-1.933a3.496 3.496 0 00-2.119.717c-.662-.389-1.353-.547-2.068-.475-3.46.352-4.541 5.442-4.767 10.397a592.65 592.65 0 00-9.105.111c-.221.004-.399.161-.411.361-.084 1.39-.406 6.844-.859 15.226-.48 8.864-.754 13.7-.82 14.978-.011.184.132.343.332.372l14.62 2.217 14.452 2.19a.468.468 0 00.329-.073v.002l7.141-4.565a.63.63 0 00.285-.548l-1.535-29.423z\" fill-rule=\"evenodd\"></path></symbol></svg></div><svg aria-hidden=\"true\" focusable=\"false\"><title></title><use href=\"#ps-icon:ps-store-flat:897\"></use></svg></span><span class=\"psw-brand-text psw-brand-text--playstation-store ps-store-text psw-icon\" data-qa=\"\"><div class=\"psw-hide\" data-original-icon-id=\"ps-brand-text:playstation-store\"><svg>\n",
       "<symbol id=\"ps-brand-text:playstation-store:898\" viewbox=\"0 0 202 29\">\n",
       "<path d=\"M9.35.953c2.901 0 4.775 2.47 4.775 6.29 0 1.97-.535 3.611-1.546 4.748-.857.963-2.034 1.516-3.229 1.516H5.938a.062.062 0 01-.062-.063v-2.069c0-.031.028-.06.062-.06h2.373c1.442 0 2.236-1.451 2.236-4.087 0-2.638-.794-4.088-2.234-4.088l-3.95.006c-.013 0-.024.017-.024.03L4.336 20.96c0 .031-.027.06-.059.06H.82c-.034 0-.063-.029-.063-.06V1.01c0-.034.03-.061.063-.061l8.53.004zM19.77.948c.034 0 .06.028.06.062v19.95a.063.063 0 01-.06.061h-3.456a.062.062 0 01-.06-.06V1.01c0-.035.027-.063.06-.063h3.456zm15.09 4.854v.095l.002 15.063a.064.064 0 01-.06.061h-3.456a.064.064 0 01-.063-.06l.004-13c0-.016-.01-.03-.023-.03H28.63c-.7 0-1.488.117-1.984 1.006-.453.806-.662 2.214-.66 4.427v3.325c0 1.895.742 2.131 1.3 2.142l2.4-.004c.035 0 .061.027.061.064v2.07a.062.062 0 01-.062.06h-3.357c-2.272 0-3.92-1.924-3.92-4.575v-3.08c0-3.56.705-7.624 6.222-7.624h6.17a.06.06 0 01.061.06zm24.88 3.501c1.477.112 2.547.605 3.277 1.506.847 1.047 1.276 2.512 1.276 4.347 0 5.105-3.144 5.865-5.018 5.865h-6.077a.063.063 0 01-.06-.06v-2.07c0-.033.028-.064.06-.064H58.09c2.356 0 2.624-1.998 2.624-3.099v-.497c0-1.757-.798-2.909-2.087-3.007l-1.7-.128c-2.725-.206-4.557-2.349-4.557-5.33v-.158C52.37 2.84 54.666.95 57.88.95l5.1-.002H63.083c.032 0 .058.028.058.062v2.075c0 .034-.026.062-.058.062H58.37c-1.458 0-2.562.66-2.562 3.11 0 2.097.952 2.804 2.228 2.916l1.703.13zm28.334-3.5V20.96a.064.064 0 01-.061.061h-3.457a.063.063 0 01-.06-.06l.004-13c0-.016-.012-.03-.024-.03H81.84c-.701 0-1.485.117-1.982 1.006-.454.806-.663 2.214-.661 4.427v3.325c0 1.895.738 2.131 1.299 2.142l2.399-.004c.036 0 .064.027.064.064v2.07a.064.064 0 01-.064.06h-3.358c-2.27 0-3.918-1.924-3.918-4.575l-.004-3.08c0-3.56.71-7.624 6.228-7.624h6.17c.032 0 .06.026.06.06zm-13.904-.06a.06.06 0 01.061.06v2.06c0 .032-.028.063-.06.063 0 0-2.598.005-3.742 0-.01 0-.024.008-.024.02v8.905c0 1.95.911 1.97 1.3 1.977h1.522c.032 0 .063.03.063.064v2.069c0 .03-.03.06-.063.06H70.75c-2.27 0-3.922-1.922-3.922-4.572V3.207c0-.032.03-.06.063-.06h3.458c.032 0 .061.028.061.06l-.004 2.498.004.013c0 .011.01.024.021.024h3.74zm24.145 0a.06.06 0 01.06.06v2.06c0 .032-.026.063-.06.063 0 0-2.6.005-3.744 0-.011 0-.021.008-.021.02v8.905c0 1.95.909 1.97 1.298 1.977h1.523c.035 0 .06.03.06.064v2.069c0 .03-.025.06-.06.06h-2.48c-2.27 0-3.922-1.922-3.922-4.572V3.207c0-.032.03-.06.066-.06h3.457c.03 0 .058.028.058.06v2.511c0 .011.012.024.023.024h3.742zm5.718 0a.06.06 0 01.059.06V20.96c0 .031-.027.06-.059.06h-3.458c-.032 0-.062-.029-.062-.06V5.803c0-.033.03-.06.062-.06h3.458zm0-4.795c.032 0 .059.028.059.062v2.893a.061.061 0 01-.059.062h-3.458a.064.064 0 01-.062-.062V1.01c0-.034.03-.062.062-.062h3.458zm23.904 4.794c5.515 0 6.223 4.064 6.223 7.624v7.595c0 .03-.027.06-.062.06h-3.453c-.036 0-.066-.03-.066-.06 0 0 .008-7.905.006-7.995 0-2.055-.213-3.357-.663-4.104-.498-.82-1.284-.931-1.986-.931H125.3c-.014 0-.027.011-.027.022l.008 13.008c0 .03-.028.06-.063.06h-3.454c-.033 0-.063-.03-.063-.06l.003-15.158a.06.06 0 01.06-.06h6.172zm-12.838 12.086c.499-.807.73-2.22.73-4.443 0-2.644-.327-4.14-1.051-4.855-.431-.421-.991-.599-1.873-.599s-1.443.178-1.87.599c-.73.715-1.051 2.207-1.051 4.838v.017c0 2.223.23 3.634.726 4.443.552.893 1.42 1.015 2.195 1.015.777 0 1.65-.122 2.194-1.015zm-2.194-12.087c5.775 0 6.514 4.086 6.514 7.644 0 3.561-.739 7.647-6.515 7.647-5.772 0-6.514-4.086-6.514-7.647 0-3.558.742-7.644 6.515-7.644zm-76.097.002l3.627-.002c.036 0 .072.027.084.059l3.36 9.87c.014.033.03.034.044 0L47.74 5.8a.101.101 0 01.088-.058h3.278c.037 0 .053.026.04.058l-9.01 22.585a.102.102 0 01-.085.058h-3.005c-.032 0-.052-.027-.038-.058l2.879-7.449a.191.191 0 00.003-.116L36.767 5.8c-.01-.032.009-.058.041-.058zM153.81 3.498a11.97 11.97 0 00-4.416-.845c-1.911 0-4.05.731-4.05 3.067 0 1.8 1.069 2.784 4.19 3.994 3.797 1.463 5.767 2.981 5.767 6.102 0 3.966-3.431 5.542-6.751 5.542-1.772 0-4.05-.395-5.934-1.239l.619-2.108c1.829.9 3.796 1.293 5.37 1.293 2.42 0 4.249-1.069 4.249-3.318 0-2.053-1.773-3.094-4.81-4.332-3.431-1.377-5.147-3.094-5.147-5.765 0-3.713 3.487-5.288 6.526-5.288 1.772 0 3.544.281 4.977.843l-.59 2.054zm2.192 2.672h2.644V2.43h2.39v3.74h3.431v1.886h-3.43v8.886c0 2.025.196 2.39 1.883 2.39.648 0 1.068-.056 1.575-.111v1.8c-.535.084-1.463.197-2.25.197-3.094 0-3.599-1.492-3.599-4.135V8.057h-2.644V6.17zM172.2 7.718c-3.093 0-4.5 2.42-4.5 5.848 0 3.462 1.463 5.908 4.5 5.908 3.096 0 4.5-2.446 4.5-5.908 0-3.429-1.404-5.848-4.5-5.848zm0 13.641c-4.245 0-6.89-2.954-6.89-7.793 0-4.835 2.644-7.734 6.89-7.734 4.248 0 6.89 2.9 6.89 7.734 0 4.84-2.643 7.793-6.89 7.793zm16.003-13.557a7.817 7.817 0 00-1.237-.084c-1.97 0-3.545 1.154-3.545 4.613v8.69h-2.389V6.171h2.303v1.997h.03c.732-1.575 1.968-2.336 3.88-2.336.254 0 .647 0 1.07.058l-.112 1.912zm2.305 4.557h8.38v-.113c0-2.84-1.6-4.528-3.965-4.528-2.671 0-4.163 1.913-4.415 4.64zm0 1.885c.168 3.177 2.109 5.23 5.259 5.23 1.38 0 2.84-.252 3.995-.73l.393 1.828c-1.238.534-2.897.787-4.443.787-4.923 0-7.511-3.32-7.511-7.734 0-4.5 2.559-7.792 6.694-7.792 4.162 0 6.158 2.868 6.158 7.257v1.154h-10.545zm-53.957 4.392h-.887v-.305h2.118v.305h-.88v2.388h-.35v-2.388zm2.664 2.387l-.738-2.188v2.188h-.352V18.33h.49l.776 2.294.779-2.294h.487v2.693h-.351v-2.188l-.737 2.188h-.354z\" fill-rule=\"evenodd\"></path>\n",
       "</symbol>\n",
       "</svg>\n",
       "</div><svg aria-hidden=\"true\" focusable=\"false\"><title></title><use href=\"#ps-brand-text:playstation-store:898\"></use></svg></span></a></span><div class=\"tertiary-carousels\"><div class=\"carousel__overlay carousel__overlay--prev hide\"><button aria-hidden=\"true\" class=\"carousel__button carousel__button--prev hide\" id=\"prev-button\" type=\"button\"></button></div><ul class=\"carousel-tertiary-tabs\" id=\"tertiary-menu-toggle\"><li class=\"tertiary-tab\"><a aria-label=\"\" class=\"web-store-tab tertiary-tab__link\" data-qa=\"web-store-tab\" href=\"/ja-jp/pages/latest\">最新情報</a></li><li class=\"tertiary-tab\"><a aria-label=\"\" class=\"web-store-tab tertiary-tab__link\" data-qa=\"web-store-tab\" href=\"/ja-jp/pages/collections\">コレクション</a></li><li class=\"tertiary-tab\"><a aria-label=\"\" class=\"web-store-tab tertiary-tab__link\" data-qa=\"web-store-tab\" href=\"/ja-jp/pages/deals\">セール</a></li><li class=\"tertiary-tab\"><a aria-label=\"\" class=\"web-store-tab tertiary-tab__link\" data-qa=\"web-store-tab\" href=\"/ja-jp/pages/subscriptions\">サブスクリプション</a></li><li class=\"tertiary-tab\"><a aria-label=\"\" class=\"web-store-tab tertiary-tab__link\" data-qa=\"web-store-tab\" href=\"/ja-jp/pages/browse\">ゲームを見る</a></li></ul><div class=\"carousel__overlay carousel__overlay--next\"><button aria-hidden=\"true\" class=\"carousel__button carousel__button--next\" id=\"next-button\" type=\"button\"></button></div></div></div></div></section><main class=\"pdp-main psw-dark-theme\" id=\"main\"><div class=\"psw-l-stack-left psw-c-bg-2\"><div class=\"psw-l-stack-left psw-fill-x\"><div class=\"psw-l-anchor psw-fill-x\"><div class=\"psw-l-anchor-top-left psw-l-top-left psw-fill-x psw-game-background-image-hero-h-max psw-clip\"><div class=\"pdp-background-image\"><script id=\"env:bedec9c0-df30-11ee-9c03-973b4b01b1af\" type=\"application/json\">{\"args\":{\"conceptId\":\"205354\"},\"overrides\":{\"legacy\":false,\"overlay\":false,\"theme\":\"dark\",\"locale\":\"ja-jp\"},\"cache\":{\"Product:JP9000-PPSA05685_00-UNCHARTED4R00000\":{\"id\":\"JP9000-PPSA05685_00-UNCHARTED4R00000\",\"__typename\":\"Product\",\"name\":\"アンチャーテッド トレジャーハンターコレクション\",\"media\":[{\"__typename\":\"Media\",\"type\":\"IMAGE\",\"role\":\"FOUR_BY_THREE_BANNER\",\"url\":\"https://image.api.playstation.com/vulcan/ap/rnd/202111/2000/5SRujXtEDnn92ckPYrxCrDcf.png\"},{\"__typename\":\"Media\",\"type\":\"IMAGE\",\"role\":\"GAMEHUB_COVER_ART\",\"url\":\"https://image.api.playstation.com/vulcan/ap/rnd/202111/2000/BipBfN7ieIyRmfYKKQO0y8fp.png\"},{\"__typename\":\"Media\",\"type\":\"IMAGE\",\"role\":\"LOGO\",\"url\":\"https://image.api.playstation.com/vulcan/img/rnd/202112/0220/8BwUHCrCPOTKb3qETEzODUbN.png\"},{\"__typename\":\"Media\",\"type\":\"IMAGE\",\"role\":\"PORTRAIT_BANNER\",\"url\":\"https://image.api.playstation.com/vulcan/ap/rnd/202111/2000/YB4Y6BV9rU8axpJDuUZdDZN9.png\"},{\"__typename\":\"Media\",\"type\":\"IMAGE\",\"role\":\"SCREENSHOT\",\"url\":\"https://image.api.playstation.com/vulcan/ap/rnd/202111/2000/rJiTOlaqhVJ86Ix1uQSzsTpO.jpg\"},{\"__typename\":\"Media\",\"type\":\"IMAGE\",\"role\":\"SCREENSHOT\",\"url\":\"https://image.api.playstation.com/vulcan/ap/rnd/202111/2000/YZUN6kSpNxf2w4ctTGwl3UHw.jpg\"},{\"__typename\":\"Media\",\"type\":\"IMAGE\",\"role\":\"SCREENSHOT\",\"url\":\"https://image.api.playstation.com/vulcan/ap/rnd/202111/2000/Ta807nPySbwuYgWk5XDFEgDy.jpg\"},{\"__typename\":\"Media\",\"type\":\"IMAGE\",\"role\":\"SCREENSHOT\",\"url\":\"https://image.api.playstation.com/vulcan/ap/rnd/202111/2000/bcWMApRoSxqOthLr1GEftNya.jpg\"},{\"__typename\":\"Media\",\"type\":\"IMAGE\",\"role\":\"SCREENSHOT\",\"url\":\"https://image.api.playstation.com/vulcan/ap/rnd/202111/2000/SHYyyHBgb0ZnFZNrGutlrzJp.jpg\"},{\"__typename\":\"Media\",\"type\":\"IMAGE\",\"role\":\"SCREENSHOT\",\"url\":\"https://image.api.playstation.com/vulcan/ap/rnd/202111/2000/YzYAHfg232taFVsabGMxLJ4E.jpg\"},{\"__typename\":\"Media\",\"type\":\"IMAGE\",\"role\":\"SCREENSHOT\",\"url\":\"https://image.api.playstation.com/vulcan/ap/rnd/202111/2000/07ZQFfxJFfE1vkmOc2qPVpmU.jpg\"},{\"__typename\":\"Media\",\"type\":\"IMAGE\",\"role\":\"SCREENSHOT\",\"url\":\"https://image.api.playstation.com/vulcan/ap/rnd/202111/2000/pgtG5vIugUKhjlCP1fgMwKbB.jpg\"},{\"__typename\":\"Media\",\"type\":\"IMAGE\",\"role\":\"SCREENSHOT\",\"url\":\"https://image.api.playstation.com/vulcan/ap/rnd/202111/2000/9CvbRlePWpByLit7DJoZ2ukW.jpg\"},{\"__typename\":\"Media\",\"type\":\"IMAGE\",\"role\":\"SCREENSHOT\",\"url\":\"https://image.api.playstation.com/vulcan/ap/rnd/202111/2000/l3FiiXumavyCmX3puXjGVHV0.jpg\"},{\"__typename\":\"Media\",\"type\":\"IMAGE\",\"role\":\"MASTER\",\"url\":\"https://image.api.playstation.com/vulcan/ap/rnd/202111/2000/W7fnIRwYvGF17Qzg4duWQD4I.png\"}]},\"Concept:205354\":{\"id\":\"205354\",\"__typename\":\"Concept\",\"defaultProduct\":{\"__ref\":\"Product:JP9000-PPSA05685_00-UNCHARTED4R00000\"},\"name\":\"アンチャーテッド トレジャーハンターコレクション\",\"media\":[{\"__typename\":\"Media\",\"type\":\"IMAGE\",\"role\":\"BACKGROUND_LAYER_ART\",\"url\":\"https://image.api.playstation.com/vulcan/img/rnd/202112/0714/T9QCTQObL8tjAi8Ew3Grx7mJ.png\"},{\"__typename\":\"Media\",\"type\":\"IMAGE\",\"role\":\"FOUR_BY_THREE_BANNER\",\"url\":\"https://image.api.playstation.com/vulcan/ap/rnd/202111/2000/5SRujXtEDnn92ckPYrxCrDcf.png\"},{\"__typename\":\"Media\",\"type\":\"IMAGE\",\"role\":\"GAMEHUB_COVER_ART\",\"url\":\"https://image.api.playstation.com/vulcan/ap/rnd/202111/2000/KM57mTQi3qxRxLie2W8laBgP.png\"},{\"__typename\":\"Media\",\"type\":\"IMAGE\",\"role\":\"HERO_CHARACTER\",\"url\":\"https://image.api.playstation.com/vulcan/img/rnd/202112/0714/TGbdW4coWcXNn646ZWTitCOM.png\"},{\"__typename\":\"Media\",\"type\":\"IMAGE\",\"role\":\"LOGO\",\"url\":\"https://image.api.playstation.com/vulcan/img/rnd/202112/0220/8BwUHCrCPOTKb3qETEzODUbN.png\"},{\"__typename\":\"Media\",\"type\":\"IMAGE\",\"role\":\"PORTRAIT_BANNER\",\"url\":\"https://image.api.playstation.com/vulcan/ap/rnd/202111/2000/YB4Y6BV9rU8axpJDuUZdDZN9.png\"},{\"__typename\":\"Media\",\"type\":\"IMAGE\",\"role\":\"MASTER\",\"url\":\"https://image.api.playstation.com/vulcan/ap/rnd/202111/2000/W7fnIRwYvGF17Qzg4duWQD4I.png\"}]},\"ROOT_QUERY\":{\"__typename\":\"Query\",\"conceptRetrieve({\\\"conceptId\\\":\\\"205354\\\"})\":{\"__ref\":\"Concept:205354\"}}},\"translations\":{}}</script><div class=\"psw-root psw-dark-theme\" data-initial=\"env:bedec9c0-df30-11ee-9c03-973b4b01b1af\" data-mfe-name=\"gameBackgroundImage\"><div class=\"psw-game-background-image psw-l-anchor psw-with-hero\" data-qa=\"gameBackgroundImage\" data-reactroot=\"\"><span class=\"psw-media-frame psw-fill-x psw-image psw-media psw-aspect-16-9\" data-qa=\"gameBackgroundImage#heroImage\"><img alt=\"アンチャーテッド トレジャーハンターコレクション\" aria-hidden=\"true\" class=\"psw-blur psw-right-top-third psw-l-fit-cover\" data-qa=\"gameBackgroundImage#heroImage#preview\" loading=\"lazy\" src=\"https://image.api.playstation.com/vulcan/ap/rnd/202111/2000/BipBfN7ieIyRmfYKKQO0y8fp.png?w=54&amp;thumb=true\"/><noscript class=\"psw-layer\"><img alt=\"アンチャーテッド トレジャーハンターコレクション\" class=\"psw-right-top-third psw-l-fit-cover\" data-qa=\"gameBackgroundImage#heroImage#image-no-js\" loading=\"lazy\" src=\"https://image.api.playstation.com/vulcan/ap/rnd/202111/2000/BipBfN7ieIyRmfYKKQO0y8fp.png\"/></noscript></span></div></div></div></div></div><div class=\"psw-game-background-image-hero-h-min psw-l-exclude@tablet-s\"></div><div class=\"psw-l-anchor psw-l-z-1 psw-l-grid psw-l-gap-y-7\"><div class=\"psw-l-w-1/12 psw-l-exclude@laptop psw-l-exclude@below-tablet-s\"></div><div class=\"psw-pdp-card-anchor psw-l-stack-bottom psw-l-w-1/1 psw-l-w-5/12@tablet-s psw-l-w-1/3@tablet-l psw-l-w-1/3@laptop psw-l-w-7/24@desktop psw-l-w-7/24@max psw-p-x-5@below-tablet-s\"><div><div class=\"psw-l-stack-bottom psw-game-background-image-hero-h-min psw-m-sub-t-9@below-tablet-s psw-m-t-9\"><div class=\"psw-c-bg-card-1 psw-p-y-7 psw-p-x-8 psw-m-sub-x-8 psw-m-sub-x-6@below-tablet-s psw-p-x-6@below-tablet-s\"><div><div class=\"pdp-game-title\"><script id=\"env:beec1030-df30-11ee-817a-9d9d5f48438d\" type=\"application/json\">{\"args\":{\"conceptId\":\"205354\"},\"overrides\":{\"showRatingInfo\":true,\"theme\":\"dark\",\"locale\":\"ja-jp\"},\"cache\":{\"GameCTA:ADD_TO_CART:ADD_TO_CART:JP9000-PPSA05685_00-UNCHARTED4R00000-J003\":{\"id\":\"ADD_TO_CART:ADD_TO_CART:JP9000-PPSA05685_00-UNCHARTED4R00000-J003\",\"__typename\":\"GameCTA\",\"type\":\"ADD_TO_CART\",\"action\":{\"__typename\":\"Action\",\"type\":\"ADD_TO_CART\",\"param\":[{\"__typename\":\"ActionParam\",\"name\":\"skuId\",\"value\":\"JP9000-PPSA05685_00-UNCHARTED4R00000-J003\"},{\"__typename\":\"ActionParam\",\"name\":\"rewardId\",\"value\":null},{\"__typename\":\"ActionParam\",\"name\":\"prologueEmsAlias\",\"value\":\"plus--buy_game_catalog\"}]},\"meta\":{\"__typename\":\"CTAMeta\",\"preOrder\":false}},\"GameCTA:UPSELL_PS_PLUS_GAME_CATALOG:ADD_TO_CART:JP9000-PPSA05685_00-UNCHARTED4R00000-J003:SUB001-SUBC00002_00-HM93SKR5MGPG6TD8\":{\"id\":\"UPSELL_PS_PLUS_GAME_CATALOG:ADD_TO_CART:JP9000-PPSA05685_00-UNCHARTED4R00000-J003:SUB001-SUBC00002_00-HM93SKR5MGPG6TD8\",\"__typename\":\"GameCTA\",\"type\":\"UPSELL_PS_PLUS_GAME_CATALOG\",\"action\":{\"__typename\":\"Action\",\"type\":\"ADD_TO_CART\",\"param\":[{\"__typename\":\"ActionParam\",\"name\":\"skuId\",\"value\":\"JP9000-PPSA05685_00-UNCHARTED4R00000-J003\"},{\"__typename\":\"ActionParam\",\"name\":\"prologueEmsAlias\",\"value\":\"plus--gamehub_upsell_cta--game_catalog\"},{\"__typename\":\"ActionParam\",\"name\":\"rewardId\",\"value\":\"SUB001-SUBC00002_00-HM93SKR5MGPG6TD8\"},{\"__typename\":\"ActionParam\",\"name\":\"rewardId\",\"value\":\"SUB001-SUBC00002_00-HM93SKR5MGPG6TD8\"}]},\"meta\":{\"__typename\":\"CTAMeta\",\"preOrder\":false}},\"Product:JP9000-PPSA05685_00-UNCHARTED4R00000\":{\"id\":\"JP9000-PPSA05685_00-UNCHARTED4R00000\",\"__typename\":\"Product\",\"edition\":{\"__typename\":\"ProductEdition\",\"name\":\"\"},\"name\":\"アンチャーテッド トレジャーハンターコレクション\",\"platforms\":[\"PS5\"],\"publisherName\":\"ソニー・インタラクティブエンタテインメント\",\"releaseDate\":\"2022-01-27T15:00:00Z\",\"starRating\":{\"__typename\":\"StarRating\",\"averageRating\":4.74,\"totalRatingsCount\":179895},\"topCategory\":\"GAME\",\"webctas\":[{\"__ref\":\"GameCTA:ADD_TO_CART:ADD_TO_CART:JP9000-PPSA05685_00-UNCHARTED4R00000-J003\"},{\"__ref\":\"GameCTA:UPSELL_PS_PLUS_GAME_CATALOG:ADD_TO_CART:JP9000-PPSA05685_00-UNCHARTED4R00000-J003:SUB001-SUBC00002_00-HM93SKR5MGPG6TD8\"}]},\"Concept:205354\":{\"id\":\"205354\",\"__typename\":\"Concept\",\"name\":\"アンチャーテッド トレジャーハンターコレクション\",\"publisherName\":\"ソニー・インタラクティブエンタテインメント\",\"defaultProduct\":{\"__ref\":\"Product:JP9000-PPSA05685_00-UNCHARTED4R00000\"},\"ownedTitles\":[],\"releaseDate\":{\"__typename\":\"ReleaseDate\",\"type\":\"DAY_MONTH_YEAR\",\"value\":\"2016-05-09T00:00:00Z\"}},\"ROOT_QUERY\":{\"__typename\":\"Query\",\"conceptRetrieve({\\\"conceptId\\\":\\\"205354\\\"})\":{\"__ref\":\"Concept:205354\"}}},\"translations\":{\"msgid_time_separator\":\":\",\"msgid_decimal_symbol\":\".\",\"msgid_digit_separator_symbol\":\",\",\"msgid_large_thousands\":\"%num%K\",\"msgid_variable_ratings\":\"%num%件の評価\",\"msgid_sr_average_ratings\":\"評価数は%totalnum%、平均評価は5段階中の%num%です\"}}</script><div class=\"psw-root psw-dark-theme\" data-initial=\"env:beec1030-df30-11ee-817a-9d9d5f48438d\" data-mfe-name=\"gameTitle\"><div class=\"psw-c-bg-0\" data-qa=\"mfe-game-title\" data-reactroot=\"\"><h1 class=\"psw-m-b-5 psw-t-title-l psw-t-size-8 psw-l-line-break-word\" data-qa=\"mfe-game-title#name\">アンチャーテッド トレジャーハンターコレクション</h1><div class=\"psw-t-overline psw-t-bold\" data-qa=\"mfe-game-title#publisher\">ソニー・インタラクティブエンタテインメント</div><div class=\"psw-l-space-x-2 psw-l-line-left psw-m-t-4\"><span class=\"psw-p-x-2 psw-p-y-1 psw-t-tag\" data-qa=\"mfe-game-title#productTag0\">PS5</span></div><a aria-label=\"\" class=\"psw-link psw-content-link psw-ally-indicator\" data-qa=\"\" data-telemetry-meta='{\"conceptId\":\"205354\",\"productId\":\"JP9000-PPSA05685_00-UNCHARTED4R00000\"}' data-track-click=\"starRating:selectStarRatingLink\" href=\"#star-rating\" id=\"\" rel=\"noopener noreferrer\" type=\"\"><span class=\"psw-sr-only\">評価数は179K、平均評価は5段階中の4.74です</span><div aria-hidden=\"true\" class=\"psw-l-inline psw-p-y-xs\"><div class=\"psw-t-subtitle psw-t-bold psw-l-line-center\" data-qa=\"mfe-game-title#average-rating\">4.74</div><span class=\"psw-p-x-1 psw-l-line-center psw-l-line-left\" data-qa=\"mfe-game-title#star-rating\"><span class=\"psw-icon psw-icon--starrating-full psw-icon psw-icon-size-3 psw-icon--starrating-full\" data-qa=\"mfe-game-title#star-rating#rating-1#icon\"><div class=\"psw-hide\" data-original-icon-id=\"ps-icon:starrating-full\"><svg xmlns=\"http://www.w3.org/2000/svg\"><symbol id=\"ps-icon:starrating-full:649\" viewbox=\"0 0 64 64\"><path clip-rule=\"evenodd\" d=\"M52.234 26.425a1.249 1.249 0 00-1.189-.863H37.404l-4.215-12.974a1.249 1.249 0 00-2.378 0l-4.215 12.974H12.955a1.25 1.25 0 00-.735 2.26l11.036 8.019-4.215 12.973a1.251 1.251 0 001.923 1.398L32 42.194l11.036 8.018a1.249 1.249 0 001.469 0c.438-.318.622-.883.455-1.398L40.744 35.84l11.036-8.018a1.25 1.25 0 00.454-1.398z\" fill-rule=\"evenodd\"></path></symbol></svg></div><svg aria-hidden=\"true\" focusable=\"false\"><title></title><use href=\"#ps-icon:starrating-full:649\"></use></svg></span><span class=\"psw-icon psw-icon--starrating-full psw-icon psw-icon-size-3 psw-icon--starrating-full\" data-qa=\"mfe-game-title#star-rating#rating-2#icon\"><div class=\"psw-hide\" data-original-icon-id=\"ps-icon:starrating-full\"><svg xmlns=\"http://www.w3.org/2000/svg\"><symbol id=\"ps-icon:starrating-full:650\" viewbox=\"0 0 64 64\"><path clip-rule=\"evenodd\" d=\"M52.234 26.425a1.249 1.249 0 00-1.189-.863H37.404l-4.215-12.974a1.249 1.249 0 00-2.378 0l-4.215 12.974H12.955a1.25 1.25 0 00-.735 2.26l11.036 8.019-4.215 12.973a1.251 1.251 0 001.923 1.398L32 42.194l11.036 8.018a1.249 1.249 0 001.469 0c.438-.318.622-.883.455-1.398L40.744 35.84l11.036-8.018a1.25 1.25 0 00.454-1.398z\" fill-rule=\"evenodd\"></path></symbol></svg></div><svg aria-hidden=\"true\" focusable=\"false\"><title></title><use href=\"#ps-icon:starrating-full:650\"></use></svg></span><span class=\"psw-icon psw-icon--starrating-full psw-icon psw-icon-size-3 psw-icon--starrating-full\" data-qa=\"mfe-game-title#star-rating#rating-3#icon\"><div class=\"psw-hide\" data-original-icon-id=\"ps-icon:starrating-full\"><svg xmlns=\"http://www.w3.org/2000/svg\"><symbol id=\"ps-icon:starrating-full:651\" viewbox=\"0 0 64 64\"><path clip-rule=\"evenodd\" d=\"M52.234 26.425a1.249 1.249 0 00-1.189-.863H37.404l-4.215-12.974a1.249 1.249 0 00-2.378 0l-4.215 12.974H12.955a1.25 1.25 0 00-.735 2.26l11.036 8.019-4.215 12.973a1.251 1.251 0 001.923 1.398L32 42.194l11.036 8.018a1.249 1.249 0 001.469 0c.438-.318.622-.883.455-1.398L40.744 35.84l11.036-8.018a1.25 1.25 0 00.454-1.398z\" fill-rule=\"evenodd\"></path></symbol></svg></div><svg aria-hidden=\"true\" focusable=\"false\"><title></title><use href=\"#ps-icon:starrating-full:651\"></use></svg></span><span class=\"psw-icon psw-icon--starrating-full psw-icon psw-icon-size-3 psw-icon--starrating-full\" data-qa=\"mfe-game-title#star-rating#rating-4#icon\"><div class=\"psw-hide\" data-original-icon-id=\"ps-icon:starrating-full\"><svg xmlns=\"http://www.w3.org/2000/svg\"><symbol id=\"ps-icon:starrating-full:652\" viewbox=\"0 0 64 64\"><path clip-rule=\"evenodd\" d=\"M52.234 26.425a1.249 1.249 0 00-1.189-.863H37.404l-4.215-12.974a1.249 1.249 0 00-2.378 0l-4.215 12.974H12.955a1.25 1.25 0 00-.735 2.26l11.036 8.019-4.215 12.973a1.251 1.251 0 001.923 1.398L32 42.194l11.036 8.018a1.249 1.249 0 001.469 0c.438-.318.622-.883.455-1.398L40.744 35.84l11.036-8.018a1.25 1.25 0 00.454-1.398z\" fill-rule=\"evenodd\"></path></symbol></svg></div><svg aria-hidden=\"true\" focusable=\"false\"><title></title><use href=\"#ps-icon:starrating-full:652\"></use></svg></span><span class=\"psw-icon psw-icon--starrating-half psw-icon psw-icon-size-3 psw-icon--starrating-half\" data-qa=\"mfe-game-title#star-rating#rating-5#icon\"><div class=\"psw-hide\" data-original-icon-id=\"ps-icon:starrating-half\"><svg xmlns=\"http://www.w3.org/2000/svg\"><symbol id=\"ps-icon:starrating-half:653\" viewbox=\"0 0 64 64\"><path clip-rule=\"evenodd\" d=\"M38.54 34.352a1.251 1.251 0 00-.454 1.398l3.307 10.178-8.658-6.291a1.249 1.249 0 00-.735-.238v-22.38l3.308 10.18a1.25 1.25 0 001.189.863h10.7l-8.657 6.29zm13.694-7.927a1.25 1.25 0 00-1.19-.863h-13.64L33.19 12.588a1.25 1.25 0 00-2.378 0l-4.215 12.974h-13.64a1.25 1.25 0 00-.735 2.262l11.036 8.017-4.216 12.973a1.25 1.25 0 001.924 1.398L32 42.194l11.036 8.018c.219.16.477.239.735.239s.516-.08.735-.24a1.25 1.25 0 00.454-1.397L40.744 35.84l11.036-8.017c.438-.32.62-.883.454-1.4z\" fill-rule=\"evenodd\"></path></symbol></svg></div><svg aria-hidden=\"true\" focusable=\"false\"><title></title><use href=\"#ps-icon:starrating-half:653\"></use></svg></span></span><div class=\"psw-t-subtitle psw-l-line-center\" data-qa=\"mfe-game-title#rating-count\">179K件の評価</div></div></a><div class=\"psw-m-t-4\"></div></div></div></div></div><div class=\"psw-m-t-7\"><div class=\"pdp-cta\"><script id=\"env:bee46f10-df30-11ee-9c03-973b4b01b1af\" type=\"application/json\">{\"args\":{\"conceptId\":\"205354\"},\"overrides\":{\"theme\":\"dark\",\"locale\":\"ja-jp\"},\"cache\":{\"Concept:205354\":{\"id\":\"205354\",\"__typename\":\"Concept\",\"defaultProduct\":{\"__ref\":\"Product:JP9000-PPSA05685_00-UNCHARTED4R00000\"},\"isAnnounce\":false,\"products\":[{\"__ref\":\"Product:JP9000-CUSA00949_00-U4UTLLBUNDLE0000\"},{\"__ref\":\"Product:JP9000-PPSA05685_00-UNCHARTED4R00000\"},{\"__ref\":\"Product:JP9000-CUSA08347_00-UNCHD4LOSTLEGACY\"}],\"releaseDate\":{\"__typename\":\"ReleaseDate\",\"type\":\"DAY_MONTH_YEAR\",\"value\":\"2016-05-09T00:00:00Z\"},\"isInWishlist\":false,\"isWishlistable\":false},\"Sku:JP9000-PPSA05685_00-UNCHARTED4R00000-J002\":{\"id\":\"JP9000-PPSA05685_00-UNCHARTED4R00000-J002\",\"__typename\":\"Sku\",\"name\":\"ゲーム本編\"},\"Sku:JP9000-PPSA05685_00-UNCHARTED4R00000-J003\":{\"id\":\"JP9000-PPSA05685_00-UNCHARTED4R00000-J003\",\"__typename\":\"Sku\",\"name\":\"ゲーム本編\"},\"GameCTA:ADD_TO_CART:ADD_TO_CART:JP9000-PPSA05685_00-UNCHARTED4R00000-J003\":{\"id\":\"ADD_TO_CART:ADD_TO_CART:JP9000-PPSA05685_00-UNCHARTED4R00000-J003\",\"__typename\":\"GameCTA\",\"local\":{\"ctaLabel\":\"msgid_add_cart\",\"ctaType\":\"purchase\",\"serviceIcons\":[],\"priceOrText\":\"¥2,156\",\"originalPrice\":\"¥5,390\",\"offerLabel\":\"60%オフ\",\"offerAvailability\":\"2024-03-20T14:59:00.000Z\",\"ctaDataTrack\":{\"eventName\":\"add to cart\",\"label\":\"add to cart\",\"elementType\":\"button\",\"sku\":\"JP9000-PPSA05685_00-UNCHARTED4R00000-J003\",\"userActionFlag\":false},\"ctaDataTrackClick\":\"ctaWithPrice:addToCart\",\"telemetryMeta\":{\"ctaSubType\":\"add_to_cart\",\"ctaType\":\"ADD_TO_CART\",\"interactCta\":\"add to cart\",\"interactAction\":\"click add to cart\",\"skuDetail\":{\"skuId\":\"JP9000-PPSA05685_00-UNCHARTED4R00000-J003\",\"skuPriceDetail\":[{\"rewardId\":\"OFFER-PROD-7636_60\",\"offerCampaignId\":\"PROMO-PROD-00007636\",\"originalPriceFormatted\":\"¥5,390\",\"originalPriceValue\":5390,\"discountPriceFormatted\":\"¥2,156\",\"discountPriceValue\":2156,\"priceCurrencyCode\":\"JPY\",\"offerBranding\":\"NONE\",\"offerQualification\":[],\"offerExclusive\":false,\"offerApplied\":true,\"offerApplicability\":\"APPLICABLE\",\"offerIsTiedToSubscription\":false}]}}},\"type\":\"ADD_TO_CART\",\"hasLinkedConsole\":false,\"action\":{\"__typename\":\"Action\",\"type\":\"ADD_TO_CART\",\"param\":[{\"__typename\":\"ActionParam\",\"name\":\"skuId\",\"value\":\"JP9000-PPSA05685_00-UNCHARTED4R00000-J003\"},{\"__typename\":\"ActionParam\",\"name\":\"rewardId\",\"value\":null},{\"__typename\":\"ActionParam\",\"name\":\"prologueEmsAlias\",\"value\":\"plus--buy_game_catalog\"}]},\"meta\":{\"__typename\":\"CTAMeta\",\"upSellService\":\"NONE\",\"exclusive\":false,\"playabilityDate\":null,\"ineligibilityReasons\":[{\"__typename\":\"IneligibilityReason\",\"type\":\"UNKNOWN\",\"names\":[]}]},\"price\":{\"__typename\":\"Price\",\"basePrice\":\"¥5,390\",\"discountedPrice\":\"¥2,156\",\"discountText\":\"-60%\",\"serviceBranding\":[\"NONE\"],\"endTime\":\"1710946740000\",\"upsellText\":\"60%オフ\",\"basePriceValue\":5390,\"discountedValue\":2156,\"currencyCode\":\"JPY\",\"qualifications\":[],\"applicability\":\"APPLICABLE\",\"campaignId\":\"PROMO-PROD-00007636\",\"rewardId\":\"OFFER-PROD-7636_60\",\"isFree\":false,\"isExclusive\":false,\"isTiedToSubscription\":false}},\"GameCTA:UPSELL_PS_PLUS_GAME_CATALOG:ADD_TO_CART:JP9000-PPSA05685_00-UNCHARTED4R00000-J003:SUB001-SUBC00002_00-HM93SKR5MGPG6TD8\":{\"id\":\"UPSELL_PS_PLUS_GAME_CATALOG:ADD_TO_CART:JP9000-PPSA05685_00-UNCHARTED4R00000-J003:SUB001-SUBC00002_00-HM93SKR5MGPG6TD8\",\"__typename\":\"GameCTA\",\"local\":{\"ctaLabel\":\"msgid_subscribe\",\"ctaType\":\"purchase\",\"ctaDataTrack\":{\"eventName\":\"subscribe\",\"label\":\"subscribe\",\"elementType\":\"button\",\"userActionFlag\":false,\"sku\":\"JP9000-PPSA05685_00-UNCHARTED4R00000-J003\"},\"ctaDataTrackClick\":\"ctaWithPrice:subscribe\",\"telemetryMeta\":{\"ctaSubType\":\"upsell_ps_plus_game_catalog\",\"ctaType\":\"UPSELL_PS_PLUS_GAME_CATALOG\",\"interactCta\":\"subscribe\",\"interactAction\":\"click subscribe\",\"skuDetail\":{\"skuId\":\"JP9000-PPSA05685_00-UNCHARTED4R00000-J003\",\"skuPriceDetail\":[{\"rewardId\":\"SUB001-SUBC00002_00-HM93SKR5MGPG6TD8\",\"offerCampaignId\":null,\"originalPriceFormatted\":\"¥5,390\",\"originalPriceValue\":5390,\"discountPriceFormatted\":\"含まれます\",\"discountPriceValue\":0,\"priceCurrencyCode\":\"JPY\",\"offerBranding\":\"PS_PLUS\",\"offerQualification\":[{\"__typename\":\"Qualification\",\"type\":\"ENTITLEMENT_IN_CART\",\"value\":\"SUB001-SUBC00002_00-HM93SKR5MGPG6TD8\"}],\"offerExclusive\":false,\"offerApplied\":false,\"offerApplicability\":\"UPSELL\",\"offerIsTiedToSubscription\":true}]}},\"priceOrText\":\"含まれます\",\"originalPrice\":\"¥5,390\",\"offerLabel\":\"このゲームや、ゲームカタログに含まれる他の多数のゲームをプレイするには、PlayStation Plusエクストラに加入してください\",\"offerAvailability\":null,\"serviceIcons\":[\"ps-plus\"]},\"type\":\"UPSELL_PS_PLUS_GAME_CATALOG\",\"hasLinkedConsole\":false,\"action\":{\"__typename\":\"Action\",\"type\":\"ADD_TO_CART\",\"param\":[{\"__typename\":\"ActionParam\",\"name\":\"skuId\",\"value\":\"JP9000-PPSA05685_00-UNCHARTED4R00000-J003\"},{\"__typename\":\"ActionParam\",\"name\":\"prologueEmsAlias\",\"value\":\"plus--gamehub_upsell_cta--game_catalog\"},{\"__typename\":\"ActionParam\",\"name\":\"rewardId\",\"value\":\"SUB001-SUBC00002_00-HM93SKR5MGPG6TD8\"},{\"__typename\":\"ActionParam\",\"name\":\"rewardId\",\"value\":\"SUB001-SUBC00002_00-HM93SKR5MGPG6TD8\"}]},\"meta\":{\"__typename\":\"CTAMeta\",\"upSellService\":\"PS_PLUS\",\"exclusive\":false,\"playabilityDate\":null,\"ineligibilityReasons\":[{\"__typename\":\"IneligibilityReason\",\"type\":\"UNKNOWN\",\"names\":[]}]},\"price\":{\"__typename\":\"Price\",\"basePrice\":\"¥5,390\",\"discountedPrice\":\"含まれます\",\"discountText\":\"含まれます\",\"serviceBranding\":[\"PS_PLUS\"],\"endTime\":null,\"upsellText\":\"このゲームや、ゲームカタログに含まれる他の多数のゲームをプレイするには、PlayStation Plusエクストラに加入してください\",\"basePriceValue\":5390,\"discountedValue\":0,\"currencyCode\":\"JPY\",\"qualifications\":[{\"__typename\":\"Qualification\",\"type\":\"ENTITLEMENT_IN_CART\",\"value\":\"SUB001-SUBC00002_00-HM93SKR5MGPG6TD8\"}],\"applicability\":\"UPSELL\",\"campaignId\":null,\"rewardId\":\"SUB001-SUBC00002_00-HM93SKR5MGPG6TD8\",\"isFree\":true,\"isExclusive\":false,\"isTiedToSubscription\":true}},\"Product:JP9000-PPSA05685_00-UNCHARTED4R00000\":{\"id\":\"JP9000-PPSA05685_00-UNCHARTED4R00000\",\"__typename\":\"Product\",\"invariantName\":\"UNCHARTED: Legacy of Thieves Collection\",\"name\":\"アンチャーテッド トレジャーハンターコレクション\",\"npTitleId\":\"PPSA05685_00\",\"concept\":{\"__ref\":\"Concept:205354\"},\"skus\":[{\"__ref\":\"Sku:JP9000-PPSA05685_00-UNCHARTED4R00000-J002\"},{\"__ref\":\"Sku:JP9000-PPSA05685_00-UNCHARTED4R00000-J003\"}],\"isAgeRestricted\":false,\"activeCtaId\":\"ADD_TO_CART:ADD_TO_CART:JP9000-PPSA05685_00-UNCHARTED4R00000-J003\",\"webctas\":[{\"__ref\":\"GameCTA:ADD_TO_CART:ADD_TO_CART:JP9000-PPSA05685_00-UNCHARTED4R00000-J003\"},{\"__ref\":\"GameCTA:UPSELL_PS_PLUS_GAME_CATALOG:ADD_TO_CART:JP9000-PPSA05685_00-UNCHARTED4R00000-J003:SUB001-SUBC00002_00-HM93SKR5MGPG6TD8\"}],\"isInWishlist\":false,\"isWishlistable\":true},\"Sku:JP9000-CUSA00949_00-U4UTLLBUNDLE0000-J001\":{\"id\":\"JP9000-CUSA00949_00-U4UTLLBUNDLE0000-J001\",\"__typename\":\"Sku\",\"name\":\"ゲーム本編\"},\"Sku:JP9000-CUSA00949_00-U4UTLLBUNDLE0000-J002\":{\"id\":\"JP9000-CUSA00949_00-U4UTLLBUNDLE0000-J002\",\"__typename\":\"Sku\",\"name\":\"ゲーム本編\"},\"Product:JP9000-CUSA00949_00-U4UTLLBUNDLE0000\":{\"id\":\"JP9000-CUSA00949_00-U4UTLLBUNDLE0000\",\"__typename\":\"Product\",\"name\":\"アンチャーテッド 海賊王と最後の秘宝＆アンチャーテッド 古代神の秘宝 デジタルバンドル\",\"skus\":[{\"__ref\":\"Sku:JP9000-CUSA00949_00-U4UTLLBUNDLE0000-J001\"},{\"__ref\":\"Sku:JP9000-CUSA00949_00-U4UTLLBUNDLE0000-J002\"}]},\"Sku:JP9000-CUSA08347_00-UNCHD4LOSTLEGACY-J007\":{\"id\":\"JP9000-CUSA08347_00-UNCHD4LOSTLEGACY-J007\",\"__typename\":\"Sku\",\"name\":\"ゲーム本編\"},\"Product:JP9000-CUSA08347_00-UNCHD4LOSTLEGACY\":{\"id\":\"JP9000-CUSA08347_00-UNCHD4LOSTLEGACY\",\"__typename\":\"Product\",\"name\":\"アンチャーテッド 古代神の秘宝 PlayStation®Hits\",\"skus\":[{\"__ref\":\"Sku:JP9000-CUSA08347_00-UNCHD4LOSTLEGACY-J007\"}]},\"ROOT_QUERY\":{\"__typename\":\"Query\",\"conceptRetrieve({\\\"conceptId\\\":\\\"205354\\\"})\":{\"__ref\":\"Concept:205354\"}}},\"translations\":{\"msgid_date_separator\":\"/\",\"msgid_offer_ends_date\":\"%date%まで\",\"msgid_add_cart\":\"カートに追加\",\"msgid_add_wishlist\":\"欲しいリストに追加\"}}</script><div class=\"psw-root psw-dark-theme\" data-initial=\"env:bee46f10-df30-11ee-9c03-973b4b01b1af\" data-mfe-name=\"ctaWithPrice\"><div aria-hidden=\"true\" class=\"psw-c-bg-0 psw-l-anchor psw-l-stack-left psw-m-sub-x-5 psw-m-x-auto@below-tablet-s\" data-qa=\"mfeCtaMain\" data-reactroot=\"\"><div class=\"psw-fade-out psw-fill-x\" style=\"visibility:hidden\"><label class=\"psw-label psw-l-inline psw-l-line-left psw-interactive psw-c-bg-0 psw-l-anchor psw-fill-x\" data-qa=\"mfeCtaMain#offer0\"><div class=\"psw-layer psw-r-2 psw-c-bg-card-3\" data-flip-key=\"cta-selection-0\"></div><div class=\"psw-l-anchor psw-l-stack-left psw-fill-x psw-p-y-4 psw-p-x-5\"><span class=\"psw-fill-x psw-l-line-left psw-m-b-2\"><label class=\"psw-radio psw-standard-radio psw-is-active psw-checkbox-hide-check psw-m-r-5\" data-qa=\"mfeCtaMain#offer0#offerSelector\" for=\"input-954549\"><input checked=\"\" class=\"psw-radio-control psw-visually-hide psw-pointer-events-off\" data-qa=\"mfeCtaMain#offer0#offerSelector#input\" id=\"input-954549\" name=\"activeCta\" type=\"radio\" value=\"ADD_TO_CART:ADD_TO_CART:JP9000-PPSA05685_00-UNCHARTED4R00000-J003\"/><span class=\"psw-radio-trigger psw-ally-indicator psw-ally-indicator-gap-1 psw-r-pill\"></span></label><span class=\"psw-l-line-left psw-l-line-wrap\"><span class=\"psw-t-title-m psw-m-r-4\" data-qa=\"mfeCtaMain#offer0#finalPrice\">¥2,156</span><span class=\"psw-t-title-s psw-c-t-2 psw-t-strike\" data-qa=\"mfeCtaMain#offer0#originalPrice\"><span class=\"psw-truncate-text-1 psw-p-y-1 psw-l-exclude@below-desktop\"></span><span class=\"psw-truncate-text-1 psw-p-t-1 psw-l-exclude@desktop\"></span>¥5,390</span></span></span><span class=\"psw-t-overline psw-t-bold psw-l-line-left psw-fill-x\"><div class=\"psw-l-w-icon-2 psw-m-r-5\"></div><span class=\"psw-l-line-left psw-l-line-wrap\"><span class=\"psw-l-line-left\"><span class=\"psw-l-inline psw-m-r-2\"></span><span class=\"psw-m-r-3\" data-qa=\"mfeCtaMain#offer0#discountInfo\">60%オフ</span></span><span class=\"psw-c-t-2\" data-qa=\"mfeCtaMain#offer0#discountDescriptor\">2024/3/20 02:59 PM UTCまで</span></span></span></div></label><label class=\"psw-label psw-l-inline psw-l-line-left psw-interactive psw-c-bg-0 psw-l-anchor psw-fill-x\" data-qa=\"mfeCtaMain#offer1\"><div class=\"psw-hide psw-layer psw-r-2 psw-c-bg-card-3\" data-flip-key=\"cta-selection-0\"></div><div class=\"psw-l-anchor psw-l-stack-left psw-fill-x psw-p-y-4 psw-p-x-5\"><span class=\"psw-fill-x psw-l-line-left psw-m-b-2\"><label class=\"psw-radio psw-standard-radio psw-checkbox-hide-check psw-m-r-5\" data-qa=\"mfeCtaMain#offer1#offerSelector\" for=\"input-954550\"><input class=\"psw-radio-control psw-visually-hide psw-pointer-events-off\" data-qa=\"mfeCtaMain#offer1#offerSelector#input\" id=\"input-954550\" name=\"activeCta\" type=\"radio\" value=\"UPSELL_PS_PLUS_GAME_CATALOG:ADD_TO_CART:JP9000-PPSA05685_00-UNCHARTED4R00000-J003:SUB001-SUBC00002_00-HM93SKR5MGPG6TD8\"/><span class=\"psw-radio-trigger psw-ally-indicator psw-ally-indicator-gap-1 psw-r-pill\"></span></label><span class=\"psw-l-line-left psw-l-line-wrap\"><span class=\"psw-t-title-m psw-m-r-4\" data-qa=\"mfeCtaMain#offer1#finalPrice\">含まれます</span><span class=\"psw-t-title-s psw-c-t-2 psw-t-strike\" data-qa=\"mfeCtaMain#offer1#originalPrice\"><span class=\"psw-truncate-text-1 psw-p-y-1 psw-l-exclude@below-desktop\"></span><span class=\"psw-truncate-text-1 psw-p-t-1 psw-l-exclude@desktop\"></span>¥5,390</span></span></span><span class=\"psw-t-overline psw-t-bold psw-l-line-left psw-fill-x\"><div class=\"psw-l-w-icon-2 psw-m-r-5\"></div><span class=\"psw-l-line-left psw-l-line-wrap\"><span class=\"psw-l-line-left\"><span class=\"psw-l-inline psw-m-r-2\"><span class=\"psw-icon psw-icon--ps-plus psw-icon psw-icon-size-2 psw-icon--ps-plus\" data-qa=\"mfeCtaMain#offer1#serviceIcon#ps-plus\"><div class=\"psw-hide\" data-original-icon-id=\"ps-icon:ps-plus\"><svg xmlns=\"http://www.w3.org/2000/svg\"><defs><lineargradient id=\"ps-plus__a\" x1=\"12.926%\" x2=\"75.728%\" y1=\"21.366%\" y2=\"86.469%\"><stop offset=\"0%\" stop-color=\"#C3862C\"></stop><stop offset=\"100%\" stop-color=\"#986D29\"></stop></lineargradient><lineargradient id=\"ps-plus__b\" x1=\"10.369%\" x2=\"88.542%\" y1=\"20.591%\" y2=\"78.732%\"><stop offset=\"0%\" stop-color=\"#FDE64E\"></stop><stop offset=\"100%\" stop-color=\"#FCC013\"></stop></lineargradient></defs><symbol id=\"ps-icon:ps-plus:520\" viewbox=\"0 0 64 64\"><g fill=\"none\" fill-rule=\"evenodd\"><path d=\"M26.047 0a1.452 1.452 0 00-.172.014L15.537 1.417c-.2.027-.385.093-.549.188a1.483 1.483 0 00-.42.37l-2.83 3.677c-.228.295-.34.673-.286 1.068l1.156 8.375-8.51 1.156a1.475 1.475 0 00-.969.557c-.056.073-.081.163-.122.247.04-.084.066-.175.122-.247l-2.83 3.678a1.425 1.425 0 00-.286 1.067l1.405 10.18c.055.394.266.73.564.953.297.222.683.333 1.083.278l11.79-1.6 1.6 11.608c.055.394.266.73.565.953.24.18.54.287.858.292h.05c.059 0 .116-.005.175-.013L28.44 42.8c.401-.055.742-.265.969-.558l2.831-3.678a1.44 1.44 0 00.247-.496 1.38 1.38 0 00.037-.571l-1.154-8.376 8.51-1.154c.4-.055.74-.265.967-.558l2.83-3.678.002-.001a1.44 1.44 0 00.249-.496c.049-.18.064-.373.037-.57l-1.406-10.181a1.425 1.425 0 00-.564-.952 1.47 1.47 0 00-1.084-.28l-11.788 1.602-1.601-11.609a1.427 1.427 0 00-.565-.953 1.47 1.47 0 00-.85-.292h-.06z\" fill=\"url(#ps-plus__a)\" transform=\"translate(10 10)\"></path><path d=\"M26.047 0a1.452 1.452 0 00-.172.014L15.537 1.417c-.2.027-.385.093-.549.188a1.447 1.447 0 00-.668.865 1.438 1.438 0 00-.037.572l1.603 11.608-11.789 1.6c-.2.028-.385.093-.548.19a1.434 1.434 0 00-.667.864c-.05.181-.065.374-.037.573l1.404 10.179c.055.393.266.728.565.952.298.222.683.333 1.082.28l11.789-1.6 1.602 11.607c.054.394.266.73.564.952.298.222.682.334 1.084.28l10.337-1.405a1.48 1.48 0 00.969-.557 1.44 1.44 0 00.246-.496c.051-.18.065-.374.038-.571L30.923 25.89l11.788-1.6a1.46 1.46 0 00.968-.56 1.44 1.44 0 00.249-.495c.049-.181.064-.373.037-.57l-1.406-10.181a1.425 1.425 0 00-.564-.952 1.47 1.47 0 00-1.083-.28l-11.789 1.602-1.601-11.609a1.427 1.427 0 00-.565-.953 1.47 1.47 0 00-.85-.292h-.06z\" fill=\"url(#ps-plus__b)\" transform=\"translate(10 10)\"></path><path d=\"M37.782 38.669l1.227.924-2.726 3.562 3.59 2.705-.93 1.217-3.592-2.704-2.728 3.561-1.226-.924 2.727-3.562-3.592-2.704.932-1.218 3.591 2.706 2.727-3.563zM23.73 27.4l1.133 8.213-8.28 1.123-1.134-8.212L23.73 27.4zm-1.317 1.721l-5.228.71.716 5.184 5.226-.71-.714-5.184zm28.582-1.239c.344 2.491-1.414 4.788-3.926 5.13-2.512.34-4.828-1.404-5.172-3.895-.344-2.492 1.415-4.787 3.926-5.128 2.513-.341 4.828 1.401 5.172 3.893zm-4.963-2.38c-1.666.226-2.836 1.756-2.609 3.408.23 1.653 1.77 2.813 3.437 2.586 1.666-.226 2.836-1.754 2.609-3.407-.23-1.652-1.77-2.813-3.437-2.587zM30.855 12.646l6.382 7.98L27.1 22.002l3.756-9.356zm.447 3.018l-1.794 4.468 4.843-.657-3.049-3.811z\" fill=\"#C3862C\"></path></g></symbol></svg></div><svg aria-hidden=\"true\" focusable=\"false\"><title></title><use href=\"#ps-icon:ps-plus:520\"></use></svg></span></span><span class=\"psw-c-t-ps-plus psw-m-r-3\" data-qa=\"mfeCtaMain#offer1#discountInfo\">このゲームや、ゲームカタログに含まれる他の多数のゲームをプレイするには、PlayStation Plusエクストラに加入してください</span></span></span></span></div></label><div class=\"psw-m-t-6 psw-p-x-5 psw-fill-x\" data-qa=\"mfeCtaMain#cta\"><div class=\"psw-fill-x\" data-flip-key=\"cta-action-0\"><div aria-hidden=\"false\" class=\"psw-l-anchor\" data-qa=\"inline-toast\" style=\"perspective:2000px;transition:height 400ms ease, opacity 400ms ease\"><div style=\"transform:translateZ(-NaNpx);transform-style:preserve-3d\"><div style=\"transition:transform 300ms ease-in;transform-style:preserve-3d;transform:rotateX(0deg)\"><div aria-hidden=\"true\" class=\"psw-l-line-left psw-hidden\" data-qa=\"inline-toast#cta-spacer\"><button class=\"psw-fill-x dtm-track psw-button psw-b-0 psw-t-button psw-l-line-center psw-button-sizing psw-button-sizing--medium psw-purchase-button psw-solid-button\" data-qa=\"inline-toast#hiddenCta\" data-telemetry-meta='{\"conceptId\":\"205354\",\"ctaIndex\":0,\"ctaSubType\":\"add_to_cart\",\"ctaType\":\"ADD_TO_CART\",\"interactAction\":\"click add to cart\",\"interactCta\":\"add to cart\",\"productId\":\"JP9000-PPSA05685_00-UNCHARTED4R00000\",\"productDetail\":[{\"productId\":\"JP9000-PPSA05685_00-UNCHARTED4R00000\",\"productName\":\"アンチャーテッド トレジャーハンターコレクション\",\"productToSkuIds\":[\"JP9000-PPSA05685_00-UNCHARTED4R00000-J002\",\"JP9000-PPSA05685_00-UNCHARTED4R00000-J003\"],\"productPriceDetail\":[{\"rewardId\":\"OFFER-PROD-7636_60\",\"offerCampaignId\":\"PROMO-PROD-00007636\",\"originalPriceFormatted\":\"¥5,390\",\"originalPriceValue\":5390,\"discountPriceFormatted\":\"¥2,156\",\"discountPriceValue\":2156,\"priceCurrencyCode\":\"JPY\",\"offerBranding\":\"NONE\",\"offerQualification\":[],\"offerExclusive\":false,\"offerApplied\":true,\"offerApplicability\":\"APPLICABLE\",\"offerIsTiedToSubscription\":false},{\"rewardId\":\"SUB001-SUBC00002_00-HM93SKR5MGPG6TD8\",\"offerCampaignId\":null,\"originalPriceFormatted\":\"¥5,390\",\"originalPriceValue\":5390,\"discountPriceFormatted\":\"含まれます\",\"discountPriceValue\":0,\"priceCurrencyCode\":\"JPY\",\"offerBranding\":\"PS_PLUS\",\"offerQualification\":[{\"__typename\":\"Qualification\",\"type\":\"ENTITLEMENT_IN_CART\",\"value\":\"SUB001-SUBC00002_00-HM93SKR5MGPG6TD8\"}],\"offerExclusive\":false,\"offerApplied\":false,\"offerApplicability\":\"UPSELL\",\"offerIsTiedToSubscription\":true}]}],\"skuDetail\":[{\"skuId\":\"JP9000-PPSA05685_00-UNCHARTED4R00000-J003\",\"skuPriceDetail\":[{\"rewardId\":\"OFFER-PROD-7636_60\",\"offerCampaignId\":\"PROMO-PROD-00007636\",\"originalPriceFormatted\":\"¥5,390\",\"originalPriceValue\":5390,\"discountPriceFormatted\":\"¥2,156\",\"discountPriceValue\":2156,\"priceCurrencyCode\":\"JPY\",\"offerBranding\":\"NONE\",\"offerQualification\":[],\"offerExclusive\":false,\"offerApplied\":true,\"offerApplicability\":\"APPLICABLE\",\"offerIsTiedToSubscription\":false}],\"skuName\":\"ゲーム本編\"}],\"titleId\":\"PPSA05685_00\"}' data-track='{\"eventInfo\":{\"eventAction\":\"click\",\"eventName\":\"add to cart\"},\"attributes\":{\"moduleName\":\"pricing cta\",\"assetName\":\"\",\"label\":\"add to cart\",\"position\":\"1\",\"linkUrl\":\"\",\"elementType\":\"button\",\"userActionFlag\":false,\"sku\":\"JP9000-PPSA05685_00-UNCHARTED4R00000-J003\"}}' data-track-click=\"ctaWithPrice:addToCart\" id=\"\" name=\"\" type=\"button\" value=\"\"><span class=\"psw-fill-x psw-t-truncate-1 psw-l-space-x-2\">カートに追加</span></button><button class=\"psw-m-l-4 psw-button psw-b-0 psw-t-button psw-l-line-center psw-button-sizing psw-button-sizing--medium psw-button-sizing--icon-only psw-secondary-button psw-solid-button psw-with-icon\" data-qa=\"inline-toast#hiddenCta\" data-telemetry-meta='{\"productId\":\"JP9000-PPSA05685_00-UNCHARTED4R00000\",\"conceptId\":null}' data-track-click=\"ctaWithPrice:addToWishlist\" id=\"\" name=\"\" type=\"button\" value=\"\"><span class=\"psw-fill-x psw-l-line-center\"><span class=\"psw-icon psw-icon--unfavorite psw-icon psw-icon-size-2 psw-icon--unfavorite\" data-qa=\"inline-toast#hiddenCta#icon\"><div class=\"psw-hide\" data-original-icon-id=\"ps-icon:unfavorite\"><svg xmlns=\"http://www.w3.org/2000/svg\"><symbol id=\"ps-icon:unfavorite:521\" viewbox=\"0 0 64 64\"><path d=\"M40.045 12.5c3.052 0 5.9 1.388 7.98 3.785 2.045 2.35 3.205 5.503 3.205 8.859 0 3.222-1.073 6.266-2.97 8.583l-.232.274-16.663 19.161L14.71 34.003c-2.046-2.344-3.208-5.501-3.211-8.859 0-3.35 1.164-6.503 3.21-8.86 2.086-2.398 4.931-3.787 7.975-3.784 3.054 0 5.903 1.387 7.98 3.78.186.213.365.435.537.667l.163.229.164-.231c.086-.116.173-.229.262-.34l.272-.324c2.084-2.398 4.93-3.784 7.982-3.781zm5.715 5.753c-1.529-1.762-3.562-2.753-5.717-2.753-2.153-.002-4.185.987-5.718 2.751-.535.613-1.005 1.362-1.41 2.236l-.17.383-1.385 3.26-1.377-3.264c-.435-1.032-.962-1.909-1.58-2.615-1.528-1.76-3.562-2.751-5.72-2.751-2.144-.002-4.176.99-5.709 2.751-1.568 1.808-2.474 4.262-2.474 6.892.002 2.519.826 4.871 2.264 6.641l.21.249L31.365 48.59l14.398-16.557c1.492-1.716 2.383-4.033 2.46-6.531l.006-.358c0-2.518-.822-4.867-2.26-6.642l-.21-.25z\" fill-rule=\"nonzero\" stroke=\"none\" stroke-width=\"1\"></path></symbol></svg></div><svg role=\"img\"><title>欲しいリストに追加</title><use href=\"#ps-icon:unfavorite:521\"></use></svg></span></span></button></div><div aria-hidden=\"true\" class=\"psw-fill-x psw-top-left psw-l-line-center\" data-qa=\"inline-toast#slot2\" style=\"transition:opacity 300ms ease-in;opacity:0;transform:rotateX(90deg) translateZ(NaNpx)\"></div><div aria-hidden=\"false\" class=\"psw-fill-x psw-top-left psw-l-line-center\" data-qa=\"inline-toast#slot1\" style=\"transition:opacity 300ms ease-in;opacity:1;transform:rotateX(0deg) translateZ(NaNpx)\"><button class=\"psw-fill-x dtm-track psw-button psw-b-0 psw-t-button psw-l-line-center psw-button-sizing psw-button-sizing--medium psw-purchase-button psw-solid-button\" data-qa=\"mfeCtaMain#cta#action\" data-telemetry-meta='{\"conceptId\":\"205354\",\"ctaIndex\":0,\"ctaSubType\":\"add_to_cart\",\"ctaType\":\"ADD_TO_CART\",\"interactAction\":\"click add to cart\",\"interactCta\":\"add to cart\",\"productId\":\"JP9000-PPSA05685_00-UNCHARTED4R00000\",\"productDetail\":[{\"productId\":\"JP9000-PPSA05685_00-UNCHARTED4R00000\",\"productName\":\"アンチャーテッド トレジャーハンターコレクション\",\"productToSkuIds\":[\"JP9000-PPSA05685_00-UNCHARTED4R00000-J002\",\"JP9000-PPSA05685_00-UNCHARTED4R00000-J003\"],\"productPriceDetail\":[{\"rewardId\":\"OFFER-PROD-7636_60\",\"offerCampaignId\":\"PROMO-PROD-00007636\",\"originalPriceFormatted\":\"¥5,390\",\"originalPriceValue\":5390,\"discountPriceFormatted\":\"¥2,156\",\"discountPriceValue\":2156,\"priceCurrencyCode\":\"JPY\",\"offerBranding\":\"NONE\",\"offerQualification\":[],\"offerExclusive\":false,\"offerApplied\":true,\"offerApplicability\":\"APPLICABLE\",\"offerIsTiedToSubscription\":false},{\"rewardId\":\"SUB001-SUBC00002_00-HM93SKR5MGPG6TD8\",\"offerCampaignId\":null,\"originalPriceFormatted\":\"¥5,390\",\"originalPriceValue\":5390,\"discountPriceFormatted\":\"含まれます\",\"discountPriceValue\":0,\"priceCurrencyCode\":\"JPY\",\"offerBranding\":\"PS_PLUS\",\"offerQualification\":[{\"__typename\":\"Qualification\",\"type\":\"ENTITLEMENT_IN_CART\",\"value\":\"SUB001-SUBC00002_00-HM93SKR5MGPG6TD8\"}],\"offerExclusive\":false,\"offerApplied\":false,\"offerApplicability\":\"UPSELL\",\"offerIsTiedToSubscription\":true}]}],\"skuDetail\":[{\"skuId\":\"JP9000-PPSA05685_00-UNCHARTED4R00000-J003\",\"skuPriceDetail\":[{\"rewardId\":\"OFFER-PROD-7636_60\",\"offerCampaignId\":\"PROMO-PROD-00007636\",\"originalPriceFormatted\":\"¥5,390\",\"originalPriceValue\":5390,\"discountPriceFormatted\":\"¥2,156\",\"discountPriceValue\":2156,\"priceCurrencyCode\":\"JPY\",\"offerBranding\":\"NONE\",\"offerQualification\":[],\"offerExclusive\":false,\"offerApplied\":true,\"offerApplicability\":\"APPLICABLE\",\"offerIsTiedToSubscription\":false}],\"skuName\":\"ゲーム本編\"}],\"titleId\":\"PPSA05685_00\"}' data-track='{\"eventInfo\":{\"eventAction\":\"click\",\"eventName\":\"add to cart\"},\"attributes\":{\"moduleName\":\"pricing cta\",\"assetName\":\"\",\"label\":\"add to cart\",\"position\":\"1\",\"linkUrl\":\"\",\"elementType\":\"button\",\"userActionFlag\":false,\"sku\":\"JP9000-PPSA05685_00-UNCHARTED4R00000-J003\"}}' data-track-click=\"ctaWithPrice:addToCart\" id=\"\" name=\"\" type=\"button\" value=\"\"><span class=\"psw-fill-x psw-t-truncate-1 psw-l-space-x-2\">カートに追加</span></button><button class=\"psw-m-l-4 psw-button psw-b-0 psw-t-button psw-l-line-center psw-button-sizing psw-button-sizing--medium psw-button-sizing--icon-only psw-secondary-button psw-solid-button psw-with-icon\" data-qa=\"wishlistToggle\" data-telemetry-meta='{\"productId\":\"JP9000-PPSA05685_00-UNCHARTED4R00000\",\"conceptId\":null}' data-track-click=\"ctaWithPrice:addToWishlist\" id=\"\" name=\"\" type=\"button\" value=\"\"><span class=\"psw-fill-x psw-l-line-center\"><span class=\"psw-icon psw-icon--unfavorite psw-icon psw-icon-size-2 psw-icon--unfavorite\" data-qa=\"wishlistToggle#icon\"><div class=\"psw-hide\" data-original-icon-id=\"ps-icon:unfavorite\"><svg xmlns=\"http://www.w3.org/2000/svg\"><symbol id=\"ps-icon:unfavorite:522\" viewbox=\"0 0 64 64\"><path d=\"M40.045 12.5c3.052 0 5.9 1.388 7.98 3.785 2.045 2.35 3.205 5.503 3.205 8.859 0 3.222-1.073 6.266-2.97 8.583l-.232.274-16.663 19.161L14.71 34.003c-2.046-2.344-3.208-5.501-3.211-8.859 0-3.35 1.164-6.503 3.21-8.86 2.086-2.398 4.931-3.787 7.975-3.784 3.054 0 5.903 1.387 7.98 3.78.186.213.365.435.537.667l.163.229.164-.231c.086-.116.173-.229.262-.34l.272-.324c2.084-2.398 4.93-3.784 7.982-3.781zm5.715 5.753c-1.529-1.762-3.562-2.753-5.717-2.753-2.153-.002-4.185.987-5.718 2.751-.535.613-1.005 1.362-1.41 2.236l-.17.383-1.385 3.26-1.377-3.264c-.435-1.032-.962-1.909-1.58-2.615-1.528-1.76-3.562-2.751-5.72-2.751-2.144-.002-4.176.99-5.709 2.751-1.568 1.808-2.474 4.262-2.474 6.892.002 2.519.826 4.871 2.264 6.641l.21.249L31.365 48.59l14.398-16.557c1.492-1.716 2.383-4.033 2.46-6.531l.006-.358c0-2.518-.822-4.867-2.26-6.642l-.21-.25z\" fill-rule=\"nonzero\" stroke=\"none\" stroke-width=\"1\"></path></symbol></svg></div><svg role=\"img\"><title>欲しいリストに追加</title><use href=\"#ps-icon:unfavorite:522\"></use></svg></span></span></button></div></div></div></div></div></div></div><div class=\"psw-layer psw-loading-block psw-r-2\" data-qa=\"mfeCtaMain#loadingOverlay\"></div></div></div></div></div></div></div></div></div><div class=\"psw-l-w-1/24 psw-l-exclude@below-tablet-s\"></div><div class=\"psw-l-w-1/1 psw-l-w-1/3@tablet-s psw-l-w-5/12@tablet-l psw-l-w-7/12@laptop psw-l-w-2/3@desktop psw-l-w-2/3@max psw-p-x-5@below-tablet-s\"><div class=\"psw-l-exclude@below-tablet-s psw-game-background-image-hero-h-min psw-m-b-7\"></div><div class=\"psw-l-line-repel-top\"><div class=\"psw-l-w-1/3 psw-l-w-5/12@desktop psw-l-w-5/12@max psw-l-exclude@below-laptop psw-m-r-5\"><div class=\"pdp-compatibility-notices\"><script id=\"env:bedf8d10-df30-11ee-926c-859863aa352d\" type=\"application/json\">{\"args\":{\"conceptId\":\"205354\"},\"overrides\":{\"theme\":\"dark\",\"locale\":\"ja-jp\"},\"cache\":{\"Product:JP9000-PPSA05685_00-UNCHARTED4R00000\":{\"id\":\"JP9000-PPSA05685_00-UNCHARTED4R00000\",\"__typename\":\"Product\",\"compatibilityNoticesByPlatform\":{\"__typename\":\"CompatibilityNotices\",\"PS4\":null,\"PS5\":[{\"__typename\":\"CompatibilityNotice\",\"type\":\"STREAMING_SUPPORTED\",\"value\":\"ENABLED\"}],\"Common\":[{\"__typename\":\"CompatibilityNotice\",\"type\":\"NO_OF_PLAYERS\",\"value\":\"1\"},{\"__typename\":\"CompatibilityNotice\",\"type\":\"REMOTE_PLAY_SUPPORTED\",\"value\":\"true\"},{\"__typename\":\"CompatibilityNotice\",\"type\":\"OFFLINE_PLAY_MODE\",\"value\":\"ENABLED\"}]}},\"Concept:205354\":{\"id\":\"205354\",\"__typename\":\"Concept\",\"compatibilityNoticesByPlatform\":{\"__typename\":\"CompatibilityNotices\",\"PS4\":null,\"PS5\":null,\"Common\":null},\"defaultProduct\":{\"__ref\":\"Product:JP9000-PPSA05685_00-UNCHARTED4R00000\"}},\"ROOT_QUERY\":{\"__typename\":\"Query\",\"conceptRetrieve({\\\"conceptId\\\":\\\"205354\\\"})\":{\"__ref\":\"Concept:205354\"}}},\"translations\":{\"msgid_offline_play_enabled\":\"オフラインプレイ対応\",\"msgid_number_players_single\":\"1人のプレイヤー\",\"msgid_remote_play_supported\":\"リモートプレイ対応\",\"msgid_ps5_version\":\"PS5バージョン\",\"msgid_tier3_name\":\"プレミアム\",\"msgid_ps5_cronos_supported\":\"PS5ゲームのストリーミングは%tiername%でのみプレイ可能\",\"msgid_ps4_version\":\"PS4バージョン\"}}</script><div class=\"psw-root psw-dark-theme\" data-initial=\"env:bedf8d10-df30-11ee-926c-859863aa352d\" data-mfe-name=\"compatibilityNotices\"><div class=\"psw-c-bg-0\" data-qa=\"mfe-compatibility-notices\" data-reactroot=\"\"><div><ul class=\"psw-l-columns psw-l-max-3 psw-t-secondary psw-l-space-y-1 psw-p-0 psw-m-0 psw-list-style-none\" data-qa=\"mfe-compatibility-notices#notices\"><li class=\"psw-l-line-none psw-l-space-x-xs psw-l-shrink-wrap\" data-qa=\"mfe-compatibility-notices#notices#listItem0\"><div><div class=\"psw-l-line-left psw-l-space-x-3\"><span class=\"psw-icon psw-icon--online-play psw-icon psw-icon-size-3 psw-icon--online-play\" data-qa=\"mfe-compatibility-notices#notices#notice0#compatIcon\"><div class=\"psw-hide\" data-original-icon-id=\"ps-icon:online-play\"><svg xmlns=\"http://www.w3.org/2000/svg\"><symbol id=\"ps-icon:online-play:731\" viewbox=\"0 0 64 64\"><path d=\"M49.5 38.98c2.388 0 4.56 2.004 4.701 4.442.006 0 1.242 7.336 1.375 9.469.125 1.991-1.653 2.12-2.406 2.128h-.14c-.83 0-2.17-.36-2.854-1.175-1.237-1.502-2.018-2.838-2.793-4.273h-8.767c-.773 1.435-1.553 2.77-2.79 4.273-.684.816-2.024 1.176-2.857 1.176-.637 0-2.68 0-2.545-2.13.135-2.132 1.371-9.468 1.371-9.468.15-2.438 2.318-4.442 4.706-4.442 1.476 0 2.736 1.046 4.027 1.845h4.946c1.29-.8 2.551-1.845 4.025-1.845zM28 13.063c9.89 0 17.938 8.046 17.938 17.937 0 2.416-.487 4.719-1.357 6.825h-3.17c-1.266-.832-2.837-1.845-4.91-1.845-1.887 0-3.647.728-5.01 1.91.06-.197.126-.388.18-.593a42.681 42.681 0 00-7.343 0c.889 3.246 2.357 5.644 3.672 7.273.238-.294.48-.622.723-.967a298.29 298.29 0 00-.835 5.329C18.05 48.87 10.063 40.852 10.063 31c0-9.891 8.047-17.937 17.937-17.937zm-7.17 24.684a41.826 41.826 0 00-4.9 1.153 14.495 14.495 0 007.956 5.933c-1.185-1.838-2.322-4.188-3.056-7.086zm-6.461-11.463A14.365 14.365 0 0013.563 31c0 1.653.293 3.236.807 4.717a45.21 45.21 0 015.825-1.411A28.977 28.977 0 0120.009 31c0-1.156.066-2.254.185-3.297a45.487 45.487 0 01-5.825-1.42zm27.262 0a45.487 45.487 0 01-5.825 1.419c.12 1.043.186 2.14.186 3.297 0 1.159-.066 2.26-.187 3.306a45.21 45.21 0 015.825 1.41A14.35 14.35 0 0042.438 31c0-1.653-.294-3.236-.807-4.716zm-9.302 1.879a45.842 45.842 0 01-4.33.212c-1.45 0-2.893-.076-4.328-.212-.101.899-.162 1.84-.162 2.837 0 1.002.06 1.946.163 2.848a46.013 46.013 0 018.656 0A25.22 25.22 0 0032.492 31c0-.997-.062-1.938-.163-2.837zm-4.33-10.733c-1.314 1.629-2.782 4.028-3.671 7.273a42.48 42.48 0 007.344 0c-.89-3.245-2.357-5.644-3.672-7.273zm-4.113-.262A14.489 14.489 0 0015.93 23.1c1.61.482 3.248.869 4.9 1.153.734-2.897 1.87-5.248 3.056-7.085zm8.228 0c1.186 1.837 2.322 4.188 3.056 7.085a41.779 41.779 0 004.9-1.153 14.485 14.485 0 00-7.956-5.932z\" fill-rule=\"evenodd\"></path></symbol></svg></div><svg aria-hidden=\"true\" focusable=\"false\"><title></title><use href=\"#ps-icon:online-play:731\"></use></svg></span><span data-qa=\"mfe-compatibility-notices#notices#notice0#compatText\">オフラインプレイ対応</span></div></div></li><li class=\"psw-l-line-none psw-l-space-x-xs psw-l-shrink-wrap\" data-qa=\"mfe-compatibility-notices#notices#listItem1\"><div><div class=\"psw-l-line-left psw-l-space-x-3\"><span class=\"psw-icon psw-icon--person psw-icon psw-icon-size-3 psw-icon--person\" data-qa=\"mfe-compatibility-notices#notices#notice1#compatIcon\"><div class=\"psw-hide\" data-original-icon-id=\"ps-icon:person\"><svg xmlns=\"http://www.w3.org/2000/svg\"><symbol id=\"ps-icon:person:732\" viewbox=\"0 0 64 64\"><path d=\"M39.23 39.073c-.692-.116-1.798-.369-2.102-1.254a1.782 1.782 0 01-.074-.461v-2.455c4.183-2.068 7.093-6.595 7.093-11.859 0-7.205-5.44-13.046-12.148-13.046-6.71 0-12.148 5.841-12.148 13.046 0 5.264 2.903 9.791 7.087 11.859v2.455a1.27 1.27 0 01-.066.369c-.268.977-1.266 1.237-1.9 1.346-8.737 1.496-12.854 6.224-12.854 14.929h39.764c0-8.705-3.754-13.433-12.652-14.929\" fill-rule=\"evenodd\"></path></symbol></svg></div><svg aria-hidden=\"true\" focusable=\"false\"><title></title><use href=\"#ps-icon:person:732\"></use></svg></span><span data-qa=\"mfe-compatibility-notices#notices#notice1#compatText\">1人のプレイヤー</span></div></div></li><li class=\"psw-l-line-none psw-l-space-x-xs psw-l-shrink-wrap\" data-qa=\"mfe-compatibility-notices#notices#listItem2\"><div><div class=\"psw-l-line-left psw-l-space-x-3\"><span class=\"psw-icon psw-icon--app-remote-play psw-icon psw-icon-size-3 psw-icon--app-remote-play\" data-qa=\"mfe-compatibility-notices#notices#notice2#compatIcon\"><div class=\"psw-hide\" data-original-icon-id=\"ps-icon:app-remote-play\"><svg xmlns=\"http://www.w3.org/2000/svg\"><symbol id=\"ps-icon:app-remote-play:733\" viewbox=\"0 0 64 64\"><path d=\"M42.688 25.367c4.992 0 9.464 3.74 10.404 8.697.004.02.008.042.01.061.023.13 2.192 13.246 2.413 16.778.145 2.302-.73 3.75-1.49 4.558-1.722 1.834-4.254 1.956-5.326 1.964h-.206c-2.192 0-5.167-.91-6.89-2.967-1.79-2.173-3.056-4.188-4.076-5.992H26.473c-1.02 1.805-2.29 3.822-4.091 6.01-1.708 2.038-4.684 2.95-6.875 2.95-.912 0-3.687 0-5.532-1.965-.76-.809-1.635-2.256-1.49-4.556.221-3.534 2.39-16.65 2.412-16.78l.012-.06c.939-4.959 5.412-8.698 10.403-8.698 2.836 0 5.062 1.464 7.025 2.754l.426.28h6.474l.426-.28c1.964-1.29 4.19-2.754 7.025-2.754zm0 2.845c-2.427 0-4.5 1.719-6.62 3.033h-8.136c-2.12-1.314-4.193-3.033-6.62-3.033-3.62 0-6.931 2.804-7.61 6.383-.013.08-2.17 13.172-2.377 16.487-.221 3.5 3.136 3.5 4.182 3.5 1.366 0 3.572-.593 4.694-1.934 2.035-2.467 3.32-4.666 4.592-7.026h14.414c1.273 2.36 2.557 4.559 4.591 7.026 1.124 1.34 3.328 1.933 4.695 1.933 1.047 0 4.403 0 4.183-3.5-.207-3.314-2.365-16.405-2.379-16.486-.678-3.58-3.988-6.383-7.61-6.383zM32 17.778A2.844 2.844 0 1132 23.466 2.844 2.844 0 0132 17.778zm0-10.667A2.844 2.844 0 1132 12.8 2.844 2.844 0 0132 7.11z\" fill-rule=\"evenodd\"></path></symbol></svg></div><svg aria-hidden=\"true\" focusable=\"false\"><title></title><use href=\"#ps-icon:app-remote-play:733\"></use></svg></span><span data-qa=\"mfe-compatibility-notices#notices#notice2#compatText\">リモートプレイ対応</span></div></div></li><li class=\"psw-l-line-none psw-l-space-x-xs psw-l-shrink-wrap\" data-qa=\"mfe-compatibility-notices#notices#listItem3\"><div class=\"psw-l-line-left psw-l-space-x-3\"><span data-qa=\"mfe-compatibility-notices#notices#notice0#compatTextHeader\">PS5バージョン</span></div><div><div class=\"psw-l-line-left psw-l-space-x-3\"><span class=\"psw-icon psw-icon--game-streaming-with-plus psw-icon psw-icon-size-3 psw-icon--game-streaming-with-plus\" data-qa=\"mfe-compatibility-notices#notices#notice0#compatIcon\"><div class=\"psw-hide\" data-original-icon-id=\"ps-icon:game-streaming-with-plus\"><svg xmlns=\"http://www.w3.org/2000/svg\"><defs><lineargradient gradientunits=\"userSpaceOnUse\" id=\"game-streaming-with-plus__paint0_linear_7_101\" x1=\"33.283\" x2=\"46.401\" y1=\"48.276\" y2=\"63.172\"><stop stop-color=\"#C3862C\"></stop><stop offset=\"1\" stop-color=\"#986D29\"></stop></lineargradient><lineargradient gradientunits=\"userSpaceOnUse\" id=\"game-streaming-with-plus__paint1_linear_7_101\" x1=\"29.671\" x2=\"50.714\" y1=\"49.112\" y2=\"65.48\"><stop stop-color=\"#FDE64E\"></stop><stop offset=\"1\" stop-color=\"#FCC013\"></stop></lineargradient></defs><symbol id=\"ps-icon:game-streaming-with-plus:734\" viewbox=\"0 0 64 64\"><path clip-rule=\"evenodd\" d=\"M49.486 35.009l-5.789.79a.811.811 0 00-.542.314v.001c-.063.084-.063.084 0 0l-1.584 2.076a.807.807 0 00-.16.604l.647 4.726-4.762.652a.876.876 0 00-.31.106.85.85 0 00-.233.21c-.032.04-.048.092-.07.139.022-.048.038-.099.07-.14l-1.586 2.074a.81.81 0 00-.16.604l.788 5.745a.81.81 0 00.314.54.837.837 0 00.607.157l6.599-.904.897 6.553c.03.222.149.411.317.536.165.126.38.189.605.158l5.787-.792a.822.822 0 00.542-.314l1.585-2.076a.825.825 0 00.139-.28.77.77 0 00.02-.324l-.647-4.725 4.765-.654a.822.822 0 00.542-.314l1.584-2.075a.825.825 0 00.14-.28.833.833 0 00.02-.323l-.787-5.746a.808.808 0 00-.315-.538.824.824 0 00-.606-.158l-6.6.903-.895-6.552a.808.808 0 00-.318-.537.812.812 0 00-.488-.165.76.76 0 00-.116.009\" fill=\"url(#game-streaming-with-plus__paint0_linear_7_101)\" fill-rule=\"evenodd\"></path><path clip-rule=\"evenodd\" d=\"M43.697 35.8a.838.838 0 00-.542.314.812.812 0 00-.16.603l.9 6.553-6.6.902a.875.875 0 00-.31.106.853.853 0 00-.233.21.823.823 0 00-.161.602l.787 5.745a.821.821 0 00.923.696l6.598-.904.9 6.552a.81.81 0 00.313.538c.17.125.383.189.608.158l5.786-.793a.792.792 0 00.308-.107.804.804 0 00.393-.81l-.897-6.552 6.598-.903a.833.833 0 00.543-.314.825.825 0 00.14-.28.833.833 0 00.02-.323l-.787-5.746a.808.808 0 00-.315-.538.825.825 0 00-.606-.158l-6.6.903-.895-6.552a.808.808 0 00-.318-.537.812.812 0 00-.605-.156l-5.788.79z\" fill=\"url(#game-streaming-with-plus__paint1_linear_7_101)\" fill-rule=\"evenodd\"></path><path clip-rule=\"evenodd\" d=\"M55.636 47.133a1.708 1.708 0 111.46-1.923 1.71 1.71 0 01-1.46 1.923m-.582-4.237a2.57 2.57 0 10.699 5.093 2.57 2.57 0 00-.7-5.093M45.92 40.72l1.006-2.524 1.705 2.151-2.71.372zm.754-4.227l-2.103 5.282 5.677-.78-3.574-4.502zM39.422 49.12l-.4-2.926 2.927-.401.4 2.927-2.927.4zm-1.37-3.666l.633 4.638 4.635-.636-.635-4.634-4.633.632zM49.714 53.714l2.01 1.527-.521.687-2.01-1.527-1.529 2.011-.686-.522 1.526-2.01-2.008-1.526.52-.689 2.01 1.528 1.528-2.011.686.521-1.526 2.01z\" fill=\"#C3862C\" fill-rule=\"evenodd\"></path><path clip-rule=\"evenodd\" d=\"M34.5 42.673l.002-.001v-.001l.005-.005a3.795 3.795 0 011.054-.946 3.945 3.945 0 011.46-.516l1.82-.25-.243-1.778c-.013-.094-.005-.186-.011-.28-.573-.131-1.194-.4-1.572-.85-1.003-1.216-1.636-2.3-2.263-3.463h-7.106c-.628 1.163-1.261 2.247-2.264 3.464-.553.66-1.64.953-2.314.953-.516 0-2.171 0-2.063-1.724.103-1.635 1.166-8.09 1.173-8.13C22.513 27.384 24.145 26 25.93 26c1.196 0 2.218.848 3.263 1.494h4.01C34.25 26.848 35.273 26 36.469 26c1.785 0 3.417 1.383 3.75 3.147.006.025.446 2.697.787 5.039.32-.39.654-.684 1.037-.91a3.786 3.786 0 011.388-.486l5.85-.8c1-.141 2.012.12 2.83.743a3.763 3.763 0 011.475 2.512l.187 1.367A9.997 9.997 0 0054 34.5c0-5.523-4.478-10-10-10-.268 0-.531.02-.792.04-1.844-5.261-6.84-9.04-12.731-9.04-6.994 0-12.746 5.319-13.431 12.133C13.046 28.323 10 31.802 10 36c0 1.232.267 2.399.738 3.455l-5.507 3.179c-.885.512-.523 1.866.5 1.866h27.373l1.394-1.824.002-.003\" fill-rule=\"evenodd\"></path></symbol></svg></div><svg aria-hidden=\"true\" focusable=\"false\"><title></title><use href=\"#ps-icon:game-streaming-with-plus:734\"></use></svg></span><span data-qa=\"mfe-compatibility-notices#notices#notice0#compatText\">PS5ゲームのストリーミングはプレミアムでのみプレイ可能</span></div></div></li></ul></div></div></div></div></div><div class=\"psw-fill-x psw-fill-x-1/2@laptop\"><div class=\"pdp-content-rating\"><script id=\"env:bee02950-df30-11ee-93fe-03278a72a71a\" type=\"application/json\">{\"args\":{\"conceptId\":\"205354\"},\"overrides\":{\"theme\":\"dark\",\"locale\":\"ja-jp\"},\"cache\":{\"Product:JP9000-PPSA05685_00-UNCHARTED4R00000\":{\"id\":\"JP9000-PPSA05685_00-UNCHARTED4R00000\",\"__typename\":\"Product\",\"contentRating\":{\"__typename\":\"ProductContentRating\",\"authority\":\"CERO\",\"description\":\"CERO C\",\"name\":\"CERO_C\",\"url\":\"https://image.api.playstation.com/grc/images/ratings/hd/cero/c.png\",\"interactiveElements\":[],\"descriptors\":[{\"__typename\":\"ProductContentRatingDescriptor\",\"description\":\"Crime\",\"name\":\"CERO_CRIME\",\"url\":\"https://image.api.playstation.com/grc/images/descriptors/hd/cero/crime.png\"},{\"__typename\":\"ProductContentRatingDescriptor\",\"description\":\"Violence\",\"name\":\"CERO_VIOLENCE\",\"url\":\"https://image.api.playstation.com/grc/images/descriptors/hd/cero/violence.png\"}]}},\"Concept:205354\":{\"id\":\"205354\",\"__typename\":\"Concept\",\"contentRating\":{\"__typename\":\"ProductContentRating\",\"authority\":\"CERO\",\"description\":\"CERO C\",\"name\":\"CERO_C\",\"url\":\"https://cdn-a.sonyentertainmentnetwork.com/grc/images/ratings/hd/cero/c.png\",\"interactiveElements\":[],\"descriptors\":[{\"__typename\":\"ProductContentRatingDescriptor\",\"description\":\"Crime\",\"name\":\"CERO_CRIME\",\"url\":\"https://cdn-a.sonyentertainmentnetwork.com/images/descriptors/hd/cero/crime.png\"},{\"__typename\":\"ProductContentRatingDescriptor\",\"description\":\"Violence\",\"name\":\"CERO_VIOLENCE\",\"url\":\"https://cdn-a.sonyentertainmentnetwork.com/images/descriptors/hd/cero/violence.png\"}]},\"defaultProduct\":{\"__ref\":\"Product:JP9000-PPSA05685_00-UNCHARTED4R00000\"}},\"ROOT_QUERY\":{\"__typename\":\"Query\",\"conceptRetrieve({\\\"conceptId\\\":\\\"205354\\\"})\":{\"__ref\":\"Concept:205354\"}}},\"translations\":{}}</script><div class=\"psw-root psw-dark-theme\" data-initial=\"env:bee02950-df30-11ee-93fe-03278a72a71a\" data-mfe-name=\"contentRating\"><div class=\"psw-c-bg-0 psw-t-subtitle\" data-qa=\"mfe-content-rating\" data-reactroot=\"\"><div class=\"psw-l-line-left-top\"><a aria-label=\"\" class=\"psw-link psw-content-link psw-m-r-5 dtm-track psw-ally-indicator\" data-qa=\"mfe-content-rating#aboutLinkHref\" data-telemetry-meta='{\"ratingName\":\"CERO_C\",\"productId\":\"\",\"conceptId\":\"205354\"}' data-track='{\"eventInfo\":{\"eventAction\":\"click\",\"eventName\":\"select game rating\"},\"attributes\":{\"moduleName\":\"game rating\",\"assetName\":\"c.png\",\"label\":\"CERO_C\",\"position\":\"1\",\"linkUrl\":\"https://www.playstation.com/ja-jp/legal/ratings/\",\"elementType\":\"image\",\"userActionFlag\":true}}' data-track-click=\"contentRating:learnMore\" href=\"https://www.playstation.com/ja-jp/legal/ratings/\" id=\"\" rel=\"noopener noreferrer\" target=\"_blank\" type=\"\"><span class=\"psw-media-frame psw-fill-x psw-image psw-media psw-l-w-icon-4 psw-media-interactive psw-aspect-5-6\" data-qa=\"mfe-content-rating#ratingImage\"><img alt=\"CERO C\" aria-hidden=\"true\" class=\"psw-blur psw-center psw-l-fit-fill\" data-qa=\"mfe-content-rating#ratingImage#preview\" loading=\"lazy\" src=\"https://image.api.playstation.com/grc/images/ratings/hd/cero/c.png?w=54&amp;thumb=true\"/><noscript class=\"psw-layer\"><img alt=\"CERO C\" class=\"psw-center psw-l-fit-fill\" data-qa=\"mfe-content-rating#ratingImage#image-no-js\" loading=\"lazy\" src=\"https://image.api.playstation.com/grc/images/ratings/hd/cero/c.png\"/></noscript></span></a><div class=\"psw-l-line-left-top psw-m-sub-1 psw-l-line-wrap\"><span class=\"psw-media-frame psw-fill-x psw-image psw-media psw-l-w-icon-4 psw-m-1 psw-aspect-1-1\" data-qa=\"mfe-content-rating#imageDescriptor0\"><img alt=\"Crime\" aria-hidden=\"true\" class=\"psw-blur psw-center psw-l-fit-fill\" data-qa=\"mfe-content-rating#imageDescriptor0#preview\" loading=\"lazy\" src=\"https://image.api.playstation.com/grc/images/descriptors/hd/cero/crime.png?w=54&amp;thumb=true\"/><noscript class=\"psw-layer\"><img alt=\"Crime\" class=\"psw-center psw-l-fit-fill\" data-qa=\"mfe-content-rating#imageDescriptor0#image-no-js\" loading=\"lazy\" src=\"https://image.api.playstation.com/grc/images/descriptors/hd/cero/crime.png\"/></noscript></span><span class=\"psw-media-frame psw-fill-x psw-image psw-media psw-l-w-icon-4 psw-m-1 psw-aspect-1-1\" data-qa=\"mfe-content-rating#imageDescriptor1\"><img alt=\"Violence\" aria-hidden=\"true\" class=\"psw-blur psw-center psw-l-fit-fill\" data-qa=\"mfe-content-rating#imageDescriptor1#preview\" loading=\"lazy\" src=\"https://image.api.playstation.com/grc/images/descriptors/hd/cero/violence.png?w=54&amp;thumb=true\"/><noscript class=\"psw-layer\"><img alt=\"Violence\" class=\"psw-center psw-l-fit-fill\" data-qa=\"mfe-content-rating#imageDescriptor1#image-no-js\" loading=\"lazy\" src=\"https://image.api.playstation.com/grc/images/descriptors/hd/cero/violence.png\"/></noscript></span></div></div></div></div></div></div></div></div><div class=\"psw-l-w-1/12 psw-l-exclude@laptop psw-l-exclude@below-tablet-s\"></div></div><div class=\"psw-l-w-1/1 psw-l-w-5/6@tablet-s psw-l-w-5/6@tablet-l psw-m-x-auto psw-l-exclude@laptop psw-p-x-5@below-tablet-s psw-m-t-7\"><div class=\"pdp-compatibility-notices\"><script id=\"env:bedf8d10-df30-11ee-926c-859863aa352d\" type=\"application/json\">{\"args\":{\"conceptId\":\"205354\"},\"overrides\":{\"theme\":\"dark\",\"locale\":\"ja-jp\"},\"cache\":{\"Product:JP9000-PPSA05685_00-UNCHARTED4R00000\":{\"id\":\"JP9000-PPSA05685_00-UNCHARTED4R00000\",\"__typename\":\"Product\",\"compatibilityNoticesByPlatform\":{\"__typename\":\"CompatibilityNotices\",\"PS4\":null,\"PS5\":[{\"__typename\":\"CompatibilityNotice\",\"type\":\"STREAMING_SUPPORTED\",\"value\":\"ENABLED\"}],\"Common\":[{\"__typename\":\"CompatibilityNotice\",\"type\":\"NO_OF_PLAYERS\",\"value\":\"1\"},{\"__typename\":\"CompatibilityNotice\",\"type\":\"REMOTE_PLAY_SUPPORTED\",\"value\":\"true\"},{\"__typename\":\"CompatibilityNotice\",\"type\":\"OFFLINE_PLAY_MODE\",\"value\":\"ENABLED\"}]}},\"Concept:205354\":{\"id\":\"205354\",\"__typename\":\"Concept\",\"compatibilityNoticesByPlatform\":{\"__typename\":\"CompatibilityNotices\",\"PS4\":null,\"PS5\":null,\"Common\":null},\"defaultProduct\":{\"__ref\":\"Product:JP9000-PPSA05685_00-UNCHARTED4R00000\"}},\"ROOT_QUERY\":{\"__typename\":\"Query\",\"conceptRetrieve({\\\"conceptId\\\":\\\"205354\\\"})\":{\"__ref\":\"Concept:205354\"}}},\"translations\":{\"msgid_offline_play_enabled\":\"オフラインプレイ対応\",\"msgid_number_players_single\":\"1人のプレイヤー\",\"msgid_remote_play_supported\":\"リモートプレイ対応\",\"msgid_ps5_version\":\"PS5バージョン\",\"msgid_tier3_name\":\"プレミアム\",\"msgid_ps5_cronos_supported\":\"PS5ゲームのストリーミングは%tiername%でのみプレイ可能\",\"msgid_ps4_version\":\"PS4バージョン\"}}</script><div class=\"psw-root psw-dark-theme\" data-initial=\"env:bedf8d10-df30-11ee-926c-859863aa352d\" data-mfe-name=\"compatibilityNotices\"><div class=\"psw-c-bg-0\" data-qa=\"mfe-compatibility-notices\" data-reactroot=\"\"><div><ul class=\"psw-l-columns psw-l-max-3 psw-t-secondary psw-l-space-y-1 psw-p-0 psw-m-0 psw-list-style-none\" data-qa=\"mfe-compatibility-notices#notices\"><li class=\"psw-l-line-none psw-l-space-x-xs psw-l-shrink-wrap\" data-qa=\"mfe-compatibility-notices#notices#listItem0\"><div><div class=\"psw-l-line-left psw-l-space-x-3\"><span class=\"psw-icon psw-icon--online-play psw-icon psw-icon-size-3 psw-icon--online-play\" data-qa=\"mfe-compatibility-notices#notices#notice0#compatIcon\"><div class=\"psw-hide\" data-original-icon-id=\"ps-icon:online-play\"><svg xmlns=\"http://www.w3.org/2000/svg\"><symbol id=\"ps-icon:online-play:731\" viewbox=\"0 0 64 64\"><path d=\"M49.5 38.98c2.388 0 4.56 2.004 4.701 4.442.006 0 1.242 7.336 1.375 9.469.125 1.991-1.653 2.12-2.406 2.128h-.14c-.83 0-2.17-.36-2.854-1.175-1.237-1.502-2.018-2.838-2.793-4.273h-8.767c-.773 1.435-1.553 2.77-2.79 4.273-.684.816-2.024 1.176-2.857 1.176-.637 0-2.68 0-2.545-2.13.135-2.132 1.371-9.468 1.371-9.468.15-2.438 2.318-4.442 4.706-4.442 1.476 0 2.736 1.046 4.027 1.845h4.946c1.29-.8 2.551-1.845 4.025-1.845zM28 13.063c9.89 0 17.938 8.046 17.938 17.937 0 2.416-.487 4.719-1.357 6.825h-3.17c-1.266-.832-2.837-1.845-4.91-1.845-1.887 0-3.647.728-5.01 1.91.06-.197.126-.388.18-.593a42.681 42.681 0 00-7.343 0c.889 3.246 2.357 5.644 3.672 7.273.238-.294.48-.622.723-.967a298.29 298.29 0 00-.835 5.329C18.05 48.87 10.063 40.852 10.063 31c0-9.891 8.047-17.937 17.937-17.937zm-7.17 24.684a41.826 41.826 0 00-4.9 1.153 14.495 14.495 0 007.956 5.933c-1.185-1.838-2.322-4.188-3.056-7.086zm-6.461-11.463A14.365 14.365 0 0013.563 31c0 1.653.293 3.236.807 4.717a45.21 45.21 0 015.825-1.411A28.977 28.977 0 0120.009 31c0-1.156.066-2.254.185-3.297a45.487 45.487 0 01-5.825-1.42zm27.262 0a45.487 45.487 0 01-5.825 1.419c.12 1.043.186 2.14.186 3.297 0 1.159-.066 2.26-.187 3.306a45.21 45.21 0 015.825 1.41A14.35 14.35 0 0042.438 31c0-1.653-.294-3.236-.807-4.716zm-9.302 1.879a45.842 45.842 0 01-4.33.212c-1.45 0-2.893-.076-4.328-.212-.101.899-.162 1.84-.162 2.837 0 1.002.06 1.946.163 2.848a46.013 46.013 0 018.656 0A25.22 25.22 0 0032.492 31c0-.997-.062-1.938-.163-2.837zm-4.33-10.733c-1.314 1.629-2.782 4.028-3.671 7.273a42.48 42.48 0 007.344 0c-.89-3.245-2.357-5.644-3.672-7.273zm-4.113-.262A14.489 14.489 0 0015.93 23.1c1.61.482 3.248.869 4.9 1.153.734-2.897 1.87-5.248 3.056-7.085zm8.228 0c1.186 1.837 2.322 4.188 3.056 7.085a41.779 41.779 0 004.9-1.153 14.485 14.485 0 00-7.956-5.932z\" fill-rule=\"evenodd\"></path></symbol></svg></div><svg aria-hidden=\"true\" focusable=\"false\"><title></title><use href=\"#ps-icon:online-play:731\"></use></svg></span><span data-qa=\"mfe-compatibility-notices#notices#notice0#compatText\">オフラインプレイ対応</span></div></div></li><li class=\"psw-l-line-none psw-l-space-x-xs psw-l-shrink-wrap\" data-qa=\"mfe-compatibility-notices#notices#listItem1\"><div><div class=\"psw-l-line-left psw-l-space-x-3\"><span class=\"psw-icon psw-icon--person psw-icon psw-icon-size-3 psw-icon--person\" data-qa=\"mfe-compatibility-notices#notices#notice1#compatIcon\"><div class=\"psw-hide\" data-original-icon-id=\"ps-icon:person\"><svg xmlns=\"http://www.w3.org/2000/svg\"><symbol id=\"ps-icon:person:732\" viewbox=\"0 0 64 64\"><path d=\"M39.23 39.073c-.692-.116-1.798-.369-2.102-1.254a1.782 1.782 0 01-.074-.461v-2.455c4.183-2.068 7.093-6.595 7.093-11.859 0-7.205-5.44-13.046-12.148-13.046-6.71 0-12.148 5.841-12.148 13.046 0 5.264 2.903 9.791 7.087 11.859v2.455a1.27 1.27 0 01-.066.369c-.268.977-1.266 1.237-1.9 1.346-8.737 1.496-12.854 6.224-12.854 14.929h39.764c0-8.705-3.754-13.433-12.652-14.929\" fill-rule=\"evenodd\"></path></symbol></svg></div><svg aria-hidden=\"true\" focusable=\"false\"><title></title><use href=\"#ps-icon:person:732\"></use></svg></span><span data-qa=\"mfe-compatibility-notices#notices#notice1#compatText\">1人のプレイヤー</span></div></div></li><li class=\"psw-l-line-none psw-l-space-x-xs psw-l-shrink-wrap\" data-qa=\"mfe-compatibility-notices#notices#listItem2\"><div><div class=\"psw-l-line-left psw-l-space-x-3\"><span class=\"psw-icon psw-icon--app-remote-play psw-icon psw-icon-size-3 psw-icon--app-remote-play\" data-qa=\"mfe-compatibility-notices#notices#notice2#compatIcon\"><div class=\"psw-hide\" data-original-icon-id=\"ps-icon:app-remote-play\"><svg xmlns=\"http://www.w3.org/2000/svg\"><symbol id=\"ps-icon:app-remote-play:733\" viewbox=\"0 0 64 64\"><path d=\"M42.688 25.367c4.992 0 9.464 3.74 10.404 8.697.004.02.008.042.01.061.023.13 2.192 13.246 2.413 16.778.145 2.302-.73 3.75-1.49 4.558-1.722 1.834-4.254 1.956-5.326 1.964h-.206c-2.192 0-5.167-.91-6.89-2.967-1.79-2.173-3.056-4.188-4.076-5.992H26.473c-1.02 1.805-2.29 3.822-4.091 6.01-1.708 2.038-4.684 2.95-6.875 2.95-.912 0-3.687 0-5.532-1.965-.76-.809-1.635-2.256-1.49-4.556.221-3.534 2.39-16.65 2.412-16.78l.012-.06c.939-4.959 5.412-8.698 10.403-8.698 2.836 0 5.062 1.464 7.025 2.754l.426.28h6.474l.426-.28c1.964-1.29 4.19-2.754 7.025-2.754zm0 2.845c-2.427 0-4.5 1.719-6.62 3.033h-8.136c-2.12-1.314-4.193-3.033-6.62-3.033-3.62 0-6.931 2.804-7.61 6.383-.013.08-2.17 13.172-2.377 16.487-.221 3.5 3.136 3.5 4.182 3.5 1.366 0 3.572-.593 4.694-1.934 2.035-2.467 3.32-4.666 4.592-7.026h14.414c1.273 2.36 2.557 4.559 4.591 7.026 1.124 1.34 3.328 1.933 4.695 1.933 1.047 0 4.403 0 4.183-3.5-.207-3.314-2.365-16.405-2.379-16.486-.678-3.58-3.988-6.383-7.61-6.383zM32 17.778A2.844 2.844 0 1132 23.466 2.844 2.844 0 0132 17.778zm0-10.667A2.844 2.844 0 1132 12.8 2.844 2.844 0 0132 7.11z\" fill-rule=\"evenodd\"></path></symbol></svg></div><svg aria-hidden=\"true\" focusable=\"false\"><title></title><use href=\"#ps-icon:app-remote-play:733\"></use></svg></span><span data-qa=\"mfe-compatibility-notices#notices#notice2#compatText\">リモートプレイ対応</span></div></div></li><li class=\"psw-l-line-none psw-l-space-x-xs psw-l-shrink-wrap\" data-qa=\"mfe-compatibility-notices#notices#listItem3\"><div class=\"psw-l-line-left psw-l-space-x-3\"><span data-qa=\"mfe-compatibility-notices#notices#notice0#compatTextHeader\">PS5バージョン</span></div><div><div class=\"psw-l-line-left psw-l-space-x-3\"><span class=\"psw-icon psw-icon--game-streaming-with-plus psw-icon psw-icon-size-3 psw-icon--game-streaming-with-plus\" data-qa=\"mfe-compatibility-notices#notices#notice0#compatIcon\"><div class=\"psw-hide\" data-original-icon-id=\"ps-icon:game-streaming-with-plus\"><svg xmlns=\"http://www.w3.org/2000/svg\"><defs><lineargradient gradientunits=\"userSpaceOnUse\" id=\"game-streaming-with-plus__paint0_linear_7_101\" x1=\"33.283\" x2=\"46.401\" y1=\"48.276\" y2=\"63.172\"><stop stop-color=\"#C3862C\"></stop><stop offset=\"1\" stop-color=\"#986D29\"></stop></lineargradient><lineargradient gradientunits=\"userSpaceOnUse\" id=\"game-streaming-with-plus__paint1_linear_7_101\" x1=\"29.671\" x2=\"50.714\" y1=\"49.112\" y2=\"65.48\"><stop stop-color=\"#FDE64E\"></stop><stop offset=\"1\" stop-color=\"#FCC013\"></stop></lineargradient></defs><symbol id=\"ps-icon:game-streaming-with-plus:734\" viewbox=\"0 0 64 64\"><path clip-rule=\"evenodd\" d=\"M49.486 35.009l-5.789.79a.811.811 0 00-.542.314v.001c-.063.084-.063.084 0 0l-1.584 2.076a.807.807 0 00-.16.604l.647 4.726-4.762.652a.876.876 0 00-.31.106.85.85 0 00-.233.21c-.032.04-.048.092-.07.139.022-.048.038-.099.07-.14l-1.586 2.074a.81.81 0 00-.16.604l.788 5.745a.81.81 0 00.314.54.837.837 0 00.607.157l6.599-.904.897 6.553c.03.222.149.411.317.536.165.126.38.189.605.158l5.787-.792a.822.822 0 00.542-.314l1.585-2.076a.825.825 0 00.139-.28.77.77 0 00.02-.324l-.647-4.725 4.765-.654a.822.822 0 00.542-.314l1.584-2.075a.825.825 0 00.14-.28.833.833 0 00.02-.323l-.787-5.746a.808.808 0 00-.315-.538.824.824 0 00-.606-.158l-6.6.903-.895-6.552a.808.808 0 00-.318-.537.812.812 0 00-.488-.165.76.76 0 00-.116.009\" fill=\"url(#game-streaming-with-plus__paint0_linear_7_101)\" fill-rule=\"evenodd\"></path><path clip-rule=\"evenodd\" d=\"M43.697 35.8a.838.838 0 00-.542.314.812.812 0 00-.16.603l.9 6.553-6.6.902a.875.875 0 00-.31.106.853.853 0 00-.233.21.823.823 0 00-.161.602l.787 5.745a.821.821 0 00.923.696l6.598-.904.9 6.552a.81.81 0 00.313.538c.17.125.383.189.608.158l5.786-.793a.792.792 0 00.308-.107.804.804 0 00.393-.81l-.897-6.552 6.598-.903a.833.833 0 00.543-.314.825.825 0 00.14-.28.833.833 0 00.02-.323l-.787-5.746a.808.808 0 00-.315-.538.825.825 0 00-.606-.158l-6.6.903-.895-6.552a.808.808 0 00-.318-.537.812.812 0 00-.605-.156l-5.788.79z\" fill=\"url(#game-streaming-with-plus__paint1_linear_7_101)\" fill-rule=\"evenodd\"></path><path clip-rule=\"evenodd\" d=\"M55.636 47.133a1.708 1.708 0 111.46-1.923 1.71 1.71 0 01-1.46 1.923m-.582-4.237a2.57 2.57 0 10.699 5.093 2.57 2.57 0 00-.7-5.093M45.92 40.72l1.006-2.524 1.705 2.151-2.71.372zm.754-4.227l-2.103 5.282 5.677-.78-3.574-4.502zM39.422 49.12l-.4-2.926 2.927-.401.4 2.927-2.927.4zm-1.37-3.666l.633 4.638 4.635-.636-.635-4.634-4.633.632zM49.714 53.714l2.01 1.527-.521.687-2.01-1.527-1.529 2.011-.686-.522 1.526-2.01-2.008-1.526.52-.689 2.01 1.528 1.528-2.011.686.521-1.526 2.01z\" fill=\"#C3862C\" fill-rule=\"evenodd\"></path><path clip-rule=\"evenodd\" d=\"M34.5 42.673l.002-.001v-.001l.005-.005a3.795 3.795 0 011.054-.946 3.945 3.945 0 011.46-.516l1.82-.25-.243-1.778c-.013-.094-.005-.186-.011-.28-.573-.131-1.194-.4-1.572-.85-1.003-1.216-1.636-2.3-2.263-3.463h-7.106c-.628 1.163-1.261 2.247-2.264 3.464-.553.66-1.64.953-2.314.953-.516 0-2.171 0-2.063-1.724.103-1.635 1.166-8.09 1.173-8.13C22.513 27.384 24.145 26 25.93 26c1.196 0 2.218.848 3.263 1.494h4.01C34.25 26.848 35.273 26 36.469 26c1.785 0 3.417 1.383 3.75 3.147.006.025.446 2.697.787 5.039.32-.39.654-.684 1.037-.91a3.786 3.786 0 011.388-.486l5.85-.8c1-.141 2.012.12 2.83.743a3.763 3.763 0 011.475 2.512l.187 1.367A9.997 9.997 0 0054 34.5c0-5.523-4.478-10-10-10-.268 0-.531.02-.792.04-1.844-5.261-6.84-9.04-12.731-9.04-6.994 0-12.746 5.319-13.431 12.133C13.046 28.323 10 31.802 10 36c0 1.232.267 2.399.738 3.455l-5.507 3.179c-.885.512-.523 1.866.5 1.866h27.373l1.394-1.824.002-.003\" fill-rule=\"evenodd\"></path></symbol></svg></div><svg aria-hidden=\"true\" focusable=\"false\"><title></title><use href=\"#ps-icon:game-streaming-with-plus:734\"></use></svg></span><span data-qa=\"mfe-compatibility-notices#notices#notice0#compatText\">PS5ゲームのストリーミングはプレミアムでのみプレイ可能</span></div></div></li></ul></div></div></div></div></div></div><div class=\"psw-m-t-10 psw-fill-x\"><div class=\"pdp-upsells\"><script id=\"env:bef278d0-df30-11ee-8edf-e90e3592ba9b\" type=\"application/json\">{\"args\":{\"conceptId\":\"205354\"},\"overrides\":{\"theme\":\"dark\",\"locale\":\"ja-jp\"},\"cache\":{\"Concept:205354\":{\"id\":\"205354\",\"__typename\":\"Concept\",\"name\":\"アンチャーテッド トレジャーハンターコレクション\",\"media\":[{\"__typename\":\"Media\",\"type\":\"IMAGE\",\"url\":\"https://image.api.playstation.com/vulcan/img/rnd/202112/0714/T9QCTQObL8tjAi8Ew3Grx7mJ.png\",\"role\":\"BACKGROUND_LAYER_ART\"},{\"__typename\":\"Media\",\"type\":\"IMAGE\",\"url\":\"https://image.api.playstation.com/vulcan/ap/rnd/202111/2000/5SRujXtEDnn92ckPYrxCrDcf.png\",\"role\":\"FOUR_BY_THREE_BANNER\"},{\"__typename\":\"Media\",\"type\":\"IMAGE\",\"url\":\"https://image.api.playstation.com/vulcan/ap/rnd/202111/2000/KM57mTQi3qxRxLie2W8laBgP.png\",\"role\":\"GAMEHUB_COVER_ART\"},{\"__typename\":\"Media\",\"type\":\"IMAGE\",\"url\":\"https://image.api.playstation.com/vulcan/img/rnd/202112/0714/TGbdW4coWcXNn646ZWTitCOM.png\",\"role\":\"HERO_CHARACTER\"},{\"__typename\":\"Media\",\"type\":\"IMAGE\",\"url\":\"https://image.api.playstation.com/vulcan/img/rnd/202112/0220/8BwUHCrCPOTKb3qETEzODUbN.png\",\"role\":\"LOGO\"},{\"__typename\":\"Media\",\"type\":\"IMAGE\",\"url\":\"https://image.api.playstation.com/vulcan/ap/rnd/202111/2000/YB4Y6BV9rU8axpJDuUZdDZN9.png\",\"role\":\"PORTRAIT_BANNER\"},{\"__typename\":\"Media\",\"type\":\"IMAGE\",\"url\":\"https://image.api.playstation.com/vulcan/ap/rnd/202111/2000/W7fnIRwYvGF17Qzg4duWQD4I.png\",\"role\":\"MASTER\"}],\"products\":[{\"__ref\":\"Product:JP9000-CUSA00949_00-U4UTLLBUNDLE0000\"},{\"__ref\":\"Product:JP9000-PPSA05685_00-UNCHARTED4R00000\"},{\"__ref\":\"Product:JP9000-CUSA08347_00-UNCHD4LOSTLEGACY\"}]},\"Sku:JP9000-CUSA00949_00-U4UTLLBUNDLE0000-J001\":{\"id\":\"JP9000-CUSA00949_00-U4UTLLBUNDLE0000-J001\",\"__typename\":\"Sku\",\"name\":\"ゲーム本編\"},\"Sku:JP9000-CUSA00949_00-U4UTLLBUNDLE0000-J002\":{\"id\":\"JP9000-CUSA00949_00-U4UTLLBUNDLE0000-J002\",\"__typename\":\"Sku\",\"name\":\"ゲーム本編\"},\"GameCTA:ADD_TO_CART:ADD_TO_CART:JP9000-CUSA00949_00-U4UTLLBUNDLE0000-J001:OUTRIGHT\":{\"id\":\"ADD_TO_CART:ADD_TO_CART:JP9000-CUSA00949_00-U4UTLLBUNDLE0000-J001:OUTRIGHT\",\"__typename\":\"GameCTA\",\"local\":{\"ctaLabel\":\"msgid_add_cart\",\"ctaType\":\"purchase\",\"serviceIcons\":[],\"priceOrText\":\"¥1,072\",\"originalPrice\":\"¥4,290\",\"offerLabel\":\"75%オフ\",\"offerAvailability\":\"2024-03-13T14:59:00.000Z\",\"ctaDataTrack\":{\"eventName\":\"add to cart\",\"label\":\"add to cart\",\"elementType\":\"button\",\"sku\":\"JP9000-CUSA00949_00-U4UTLLBUNDLE0000-J001\",\"userActionFlag\":false},\"ctaDataTrackClick\":\"ctaWithPrice:addToCart\",\"telemetryMeta\":{\"ctaSubType\":\"add_to_cart\",\"ctaType\":\"ADD_TO_CART\",\"interactCta\":\"add to cart\",\"interactAction\":\"click add to cart\",\"skuDetail\":{\"skuId\":\"JP9000-CUSA00949_00-U4UTLLBUNDLE0000-J001\",\"skuPriceDetail\":[{\"rewardId\":\"OFFER-PROD-7245_75\",\"offerCampaignId\":\"PROMO-PROD-00007245\",\"originalPriceFormatted\":\"¥4,290\",\"originalPriceValue\":4290,\"discountPriceFormatted\":\"¥1,072\",\"discountPriceValue\":1072,\"priceCurrencyCode\":\"JPY\",\"offerBranding\":\"NONE\",\"offerQualification\":[],\"offerExclusive\":false,\"offerApplied\":true,\"offerApplicability\":\"APPLICABLE\",\"offerIsTiedToSubscription\":false}]}}},\"type\":\"ADD_TO_CART\",\"hasLinkedConsole\":false,\"action\":{\"__typename\":\"Action\",\"type\":\"ADD_TO_CART\",\"param\":[{\"__typename\":\"ActionParam\",\"name\":\"skuId\",\"value\":\"JP9000-CUSA00949_00-U4UTLLBUNDLE0000-J001\"},{\"__typename\":\"ActionParam\",\"name\":\"rewardId\",\"value\":\"OUTRIGHT\"},{\"__typename\":\"ActionParam\",\"name\":\"conceptId\",\"value\":\"205354\"}]},\"meta\":{\"__typename\":\"CTAMeta\",\"upSellService\":\"NONE\",\"exclusive\":false,\"playabilityDate\":null,\"ineligibilityReasons\":[{\"__typename\":\"IneligibilityReason\",\"type\":\"UNKNOWN\",\"names\":[]}]},\"price\":{\"__typename\":\"Price\",\"basePrice\":\"¥4,290\",\"discountedPrice\":\"¥1,072\",\"discountText\":\"-75%\",\"serviceBranding\":[\"NONE\"],\"endTime\":\"1710341940000\",\"upsellText\":\"75%オフ\",\"basePriceValue\":4290,\"discountedValue\":1072,\"currencyCode\":\"JPY\",\"qualifications\":[],\"applicability\":\"APPLICABLE\",\"campaignId\":\"PROMO-PROD-00007245\",\"rewardId\":\"OFFER-PROD-7245_75\",\"isFree\":false,\"isExclusive\":false,\"isTiedToSubscription\":false}},\"Product:JP9000-CUSA00949_00-U4UTLLBUNDLE0000\":{\"id\":\"JP9000-CUSA00949_00-U4UTLLBUNDLE0000\",\"__typename\":\"Product\",\"topCategory\":\"GAME\",\"platforms\":[\"PS4\"],\"media\":[{\"__typename\":\"Media\",\"type\":\"IMAGE\",\"url\":\"https://image.api.playstation.com/vulcan/img/rnd/202112/0301/ttN5v6rCpVR7XsARCaOXKB3Q.png\",\"role\":\"BACKGROUND\"},{\"__typename\":\"Media\",\"type\":\"IMAGE\",\"url\":\"https://image.api.playstation.com/vulcan/img/rnd/202201/0523/sZJ9HHIwwliUh1lcexDcVKDV.png\",\"role\":\"FOUR_BY_THREE_BANNER\"},{\"__typename\":\"Media\",\"type\":\"IMAGE\",\"url\":\"https://image.api.playstation.com/vulcan/ap/rnd/202111/2921/wb7I7I0Uh0fqb7B2F96Jv5ir.png\",\"role\":\"GAMEHUB_COVER_ART\"},{\"__typename\":\"Media\",\"type\":\"IMAGE\",\"url\":\"https://image.api.playstation.com/vulcan/ap/rnd/202111/2001/vsIMSZMGxxfluHHd5eecoe0E.png\",\"role\":\"LOGO\"},{\"__typename\":\"Media\",\"type\":\"IMAGE\",\"url\":\"https://image.api.playstation.com/vulcan/img/rnd/202201/0523/Fm8BB10Z7LfMlPdoXaF6MAaI.png\",\"role\":\"PORTRAIT_BANNER\"},{\"__typename\":\"Media\",\"type\":\"IMAGE\",\"url\":\"https://image.api.playstation.com/cdn/UP9000/CUSA00341_00/FREE_CONTENTOSSls0hrxhyXXHauvCgR/PREVIEW_SCREENSHOT1_94443.jpg\",\"role\":\"SCREENSHOT\"},{\"__typename\":\"Media\",\"type\":\"IMAGE\",\"url\":\"https://image.api.playstation.com/vulcan/ap/rnd/202111/2221/9Pt8CzH9i4eYGvqkd1iqfBKl.jpg\",\"role\":\"SCREENSHOT\"},{\"__typename\":\"Media\",\"type\":\"IMAGE\",\"url\":\"https://image.api.playstation.com/cdn/UP9000/CUSA00341_00/FREE_CONTENTMPMR2MCfiUuXxgiLU7gG/PREVIEW_SCREENSHOT2_94443.jpg\",\"role\":\"SCREENSHOT\"},{\"__typename\":\"Media\",\"type\":\"IMAGE\",\"url\":\"https://image.api.playstation.com/vulcan/ap/rnd/202111/2221/CzeUL39z9OD9KL0rvdTnJif3.jpg\",\"role\":\"SCREENSHOT\"},{\"__typename\":\"Media\",\"type\":\"IMAGE\",\"url\":\"https://image.api.playstation.com/cdn/UP9000/CUSA00341_00/FREE_CONTENTevyHKk8xwLRYT34aEtv3/PREVIEW_SCREENSHOT3_94443.jpg\",\"role\":\"SCREENSHOT\"},{\"__typename\":\"Media\",\"type\":\"IMAGE\",\"url\":\"https://image.api.playstation.com/vulcan/ap/rnd/202111/2221/2lBXDqmV29yjHMJ1uvOXSMtw.jpg\",\"role\":\"SCREENSHOT\"},{\"__typename\":\"Media\",\"type\":\"IMAGE\",\"url\":\"https://image.api.playstation.com/cdn/UP9000/CUSA00341_00/FREE_CONTENT7oFAkuhrZRFOpiFovMRZ/PREVIEW_SCREENSHOT4_94443.jpg\",\"role\":\"SCREENSHOT\"},{\"__typename\":\"Media\",\"type\":\"IMAGE\",\"url\":\"https://image.api.playstation.com/vulcan/ap/rnd/202111/2221/auNyVLdKnu2TuBzexZ2mMoGO.jpg\",\"role\":\"SCREENSHOT\"},{\"__typename\":\"Media\",\"type\":\"IMAGE\",\"url\":\"https://image.api.playstation.com/cdn/UP9000/CUSA00341_00/FREE_CONTENTBo0lL4QQFo7R6rbNZEC3/PREVIEW_SCREENSHOT5_94443.jpg\",\"role\":\"SCREENSHOT\"},{\"__typename\":\"Media\",\"type\":\"IMAGE\",\"url\":\"https://image.api.playstation.com/vulcan/ap/rnd/202111/2221/fON6mVqxoqn2ax0VJSD958EW.jpg\",\"role\":\"SCREENSHOT\"},{\"__typename\":\"Media\",\"type\":\"IMAGE\",\"url\":\"https://image.api.playstation.com/vulcan/img/rnd/202201/0523/UtzaEhvBWuO7NqXRR2XtCZmm.png\",\"role\":\"MASTER\"}],\"edition\":{\"__typename\":\"ProductEdition\",\"name\":\"\",\"features\":[],\"ordering\":2,\"type\":\"STANDARD\"},\"contentRating\":{\"__typename\":\"ProductContentRating\",\"name\":\"CERO_C\"},\"localizedGenres\":[{\"__typename\":\"LocalizedGenre\",\"value\":\"アクション\"},{\"__typename\":\"LocalizedGenre\",\"value\":\"アドベンチャー\"}],\"invariantName\":\"UNCHARTED 4: A Thief’s End & UNCHARTED: The Lost Legacy Digital Bundle\",\"name\":\"アンチャーテッド 海賊王と最後の秘宝＆アンチャーテッド 古代神の秘宝 デジタルバンドル\",\"npTitleId\":\"CUSA00949_00\",\"concept\":{\"__ref\":\"Concept:205354\"},\"skus\":[{\"__ref\":\"Sku:JP9000-CUSA00949_00-U4UTLLBUNDLE0000-J001\"},{\"__ref\":\"Sku:JP9000-CUSA00949_00-U4UTLLBUNDLE0000-J002\"}],\"isAgeRestricted\":false,\"activeCtaId\":\"ADD_TO_CART:ADD_TO_CART:JP9000-CUSA00949_00-U4UTLLBUNDLE0000-J001:OUTRIGHT\",\"webctas\":[{\"__ref\":\"GameCTA:ADD_TO_CART:ADD_TO_CART:JP9000-CUSA00949_00-U4UTLLBUNDLE0000-J001:OUTRIGHT\"}],\"isInWishlist\":false,\"isWishlistable\":true},\"Sku:JP9000-PPSA05685_00-UNCHARTED4R00000-J002\":{\"id\":\"JP9000-PPSA05685_00-UNCHARTED4R00000-J002\",\"__typename\":\"Sku\",\"name\":\"ゲーム本編\"},\"Sku:JP9000-PPSA05685_00-UNCHARTED4R00000-J003\":{\"id\":\"JP9000-PPSA05685_00-UNCHARTED4R00000-J003\",\"__typename\":\"Sku\",\"name\":\"ゲーム本編\"},\"GameCTA:ADD_TO_CART:ADD_TO_CART:JP9000-PPSA05685_00-UNCHARTED4R00000-J003\":{\"id\":\"ADD_TO_CART:ADD_TO_CART:JP9000-PPSA05685_00-UNCHARTED4R00000-J003\",\"__typename\":\"GameCTA\",\"local\":{\"ctaLabel\":\"msgid_add_cart\",\"ctaType\":\"purchase\",\"serviceIcons\":[],\"priceOrText\":\"¥2,156\",\"originalPrice\":\"¥5,390\",\"offerLabel\":\"60%オフ\",\"offerAvailability\":\"2024-03-20T14:59:00.000Z\",\"ctaDataTrack\":{\"eventName\":\"add to cart\",\"label\":\"add to cart\",\"elementType\":\"button\",\"sku\":\"JP9000-PPSA05685_00-UNCHARTED4R00000-J003\",\"userActionFlag\":false},\"ctaDataTrackClick\":\"ctaWithPrice:addToCart\",\"telemetryMeta\":{\"ctaSubType\":\"add_to_cart\",\"ctaType\":\"ADD_TO_CART\",\"interactCta\":\"add to cart\",\"interactAction\":\"click add to cart\",\"skuDetail\":{\"skuId\":\"JP9000-PPSA05685_00-UNCHARTED4R00000-J003\",\"skuPriceDetail\":[{\"rewardId\":\"OFFER-PROD-7636_60\",\"offerCampaignId\":\"PROMO-PROD-00007636\",\"originalPriceFormatted\":\"¥5,390\",\"originalPriceValue\":5390,\"discountPriceFormatted\":\"¥2,156\",\"discountPriceValue\":2156,\"priceCurrencyCode\":\"JPY\",\"offerBranding\":\"NONE\",\"offerQualification\":[],\"offerExclusive\":false,\"offerApplied\":true,\"offerApplicability\":\"APPLICABLE\",\"offerIsTiedToSubscription\":false}]}}},\"type\":\"ADD_TO_CART\",\"hasLinkedConsole\":false,\"action\":{\"__typename\":\"Action\",\"type\":\"ADD_TO_CART\",\"param\":[{\"__typename\":\"ActionParam\",\"name\":\"skuId\",\"value\":\"JP9000-PPSA05685_00-UNCHARTED4R00000-J003\"},{\"__typename\":\"ActionParam\",\"name\":\"rewardId\",\"value\":null},{\"__typename\":\"ActionParam\",\"name\":\"prologueEmsAlias\",\"value\":\"plus--buy_game_catalog\"}]},\"meta\":{\"__typename\":\"CTAMeta\",\"upSellService\":\"NONE\",\"exclusive\":false,\"playabilityDate\":null,\"ineligibilityReasons\":[{\"__typename\":\"IneligibilityReason\",\"type\":\"UNKNOWN\",\"names\":[]}]},\"price\":{\"__typename\":\"Price\",\"basePrice\":\"¥5,390\",\"discountedPrice\":\"¥2,156\",\"discountText\":\"-60%\",\"serviceBranding\":[\"NONE\"],\"endTime\":\"1710946740000\",\"upsellText\":\"60%オフ\",\"basePriceValue\":5390,\"discountedValue\":2156,\"currencyCode\":\"JPY\",\"qualifications\":[],\"applicability\":\"APPLICABLE\",\"campaignId\":\"PROMO-PROD-00007636\",\"rewardId\":\"OFFER-PROD-7636_60\",\"isFree\":false,\"isExclusive\":false,\"isTiedToSubscription\":false}},\"GameCTA:UPSELL_PS_PLUS_GAME_CATALOG:ADD_TO_CART:JP9000-PPSA05685_00-UNCHARTED4R00000-J003:SUB001-SUBC00002_00-HM93SKR5MGPG6TD8\":{\"id\":\"UPSELL_PS_PLUS_GAME_CATALOG:ADD_TO_CART:JP9000-PPSA05685_00-UNCHARTED4R00000-J003:SUB001-SUBC00002_00-HM93SKR5MGPG6TD8\",\"__typename\":\"GameCTA\",\"local\":{\"ctaLabel\":\"msgid_subscribe\",\"ctaType\":\"purchase\",\"ctaDataTrack\":{\"eventName\":\"subscribe\",\"label\":\"subscribe\",\"elementType\":\"button\",\"userActionFlag\":false,\"sku\":\"JP9000-PPSA05685_00-UNCHARTED4R00000-J003\"},\"ctaDataTrackClick\":\"ctaWithPrice:subscribe\",\"telemetryMeta\":{\"ctaSubType\":\"upsell_ps_plus_game_catalog\",\"ctaType\":\"UPSELL_PS_PLUS_GAME_CATALOG\",\"interactCta\":\"subscribe\",\"interactAction\":\"click subscribe\",\"skuDetail\":{\"skuId\":\"JP9000-PPSA05685_00-UNCHARTED4R00000-J003\",\"skuPriceDetail\":[{\"rewardId\":\"SUB001-SUBC00002_00-HM93SKR5MGPG6TD8\",\"offerCampaignId\":null,\"originalPriceFormatted\":\"¥5,390\",\"originalPriceValue\":5390,\"discountPriceFormatted\":\"含まれます\",\"discountPriceValue\":0,\"priceCurrencyCode\":\"JPY\",\"offerBranding\":\"PS_PLUS\",\"offerQualification\":[{\"__typename\":\"Qualification\",\"type\":\"ENTITLEMENT_IN_CART\",\"value\":\"SUB001-SUBC00002_00-HM93SKR5MGPG6TD8\"}],\"offerExclusive\":false,\"offerApplied\":false,\"offerApplicability\":\"UPSELL\",\"offerIsTiedToSubscription\":true}]}},\"priceOrText\":\"含まれます\",\"originalPrice\":\"¥5,390\",\"offerLabel\":\"このゲームや、ゲームカタログに含まれる他の多数のゲームをプレイするには、PlayStation Plusエクストラに加入してください\",\"offerAvailability\":null,\"serviceIcons\":[\"ps-plus\"]},\"type\":\"UPSELL_PS_PLUS_GAME_CATALOG\",\"hasLinkedConsole\":false,\"action\":{\"__typename\":\"Action\",\"type\":\"ADD_TO_CART\",\"param\":[{\"__typename\":\"ActionParam\",\"name\":\"skuId\",\"value\":\"JP9000-PPSA05685_00-UNCHARTED4R00000-J003\"},{\"__typename\":\"ActionParam\",\"name\":\"prologueEmsAlias\",\"value\":\"plus--gamehub_upsell_cta--game_catalog\"},{\"__typename\":\"ActionParam\",\"name\":\"rewardId\",\"value\":\"SUB001-SUBC00002_00-HM93SKR5MGPG6TD8\"},{\"__typename\":\"ActionParam\",\"name\":\"rewardId\",\"value\":\"SUB001-SUBC00002_00-HM93SKR5MGPG6TD8\"}]},\"meta\":{\"__typename\":\"CTAMeta\",\"upSellService\":\"PS_PLUS\",\"exclusive\":false,\"playabilityDate\":null,\"ineligibilityReasons\":[{\"__typename\":\"IneligibilityReason\",\"type\":\"UNKNOWN\",\"names\":[]}]},\"price\":{\"__typename\":\"Price\",\"basePrice\":\"¥5,390\",\"discountedPrice\":\"含まれます\",\"discountText\":\"含まれます\",\"serviceBranding\":[\"PS_PLUS\"],\"endTime\":null,\"upsellText\":\"このゲームや、ゲームカタログに含まれる他の多数のゲームをプレイするには、PlayStation Plusエクストラに加入してください\",\"basePriceValue\":5390,\"discountedValue\":0,\"currencyCode\":\"JPY\",\"qualifications\":[{\"__typename\":\"Qualification\",\"type\":\"ENTITLEMENT_IN_CART\",\"value\":\"SUB001-SUBC00002_00-HM93SKR5MGPG6TD8\"}],\"applicability\":\"UPSELL\",\"campaignId\":null,\"rewardId\":\"SUB001-SUBC00002_00-HM93SKR5MGPG6TD8\",\"isFree\":true,\"isExclusive\":false,\"isTiedToSubscription\":true}},\"Product:JP9000-PPSA05685_00-UNCHARTED4R00000\":{\"id\":\"JP9000-PPSA05685_00-UNCHARTED4R00000\",\"__typename\":\"Product\",\"topCategory\":\"GAME\",\"platforms\":[\"PS5\"],\"media\":[{\"__typename\":\"Media\",\"type\":\"IMAGE\",\"role\":\"FOUR_BY_THREE_BANNER\",\"url\":\"https://image.api.playstation.com/vulcan/ap/rnd/202111/2000/5SRujXtEDnn92ckPYrxCrDcf.png\"},{\"__typename\":\"Media\",\"type\":\"IMAGE\",\"role\":\"GAMEHUB_COVER_ART\",\"url\":\"https://image.api.playstation.com/vulcan/ap/rnd/202111/2000/BipBfN7ieIyRmfYKKQO0y8fp.png\"},{\"__typename\":\"Media\",\"type\":\"IMAGE\",\"role\":\"LOGO\",\"url\":\"https://image.api.playstation.com/vulcan/img/rnd/202112/0220/8BwUHCrCPOTKb3qETEzODUbN.png\"},{\"__typename\":\"Media\",\"type\":\"IMAGE\",\"role\":\"PORTRAIT_BANNER\",\"url\":\"https://image.api.playstation.com/vulcan/ap/rnd/202111/2000/YB4Y6BV9rU8axpJDuUZdDZN9.png\"},{\"__typename\":\"Media\",\"type\":\"IMAGE\",\"role\":\"SCREENSHOT\",\"url\":\"https://image.api.playstation.com/vulcan/ap/rnd/202111/2000/rJiTOlaqhVJ86Ix1uQSzsTpO.jpg\"},{\"__typename\":\"Media\",\"type\":\"IMAGE\",\"role\":\"SCREENSHOT\",\"url\":\"https://image.api.playstation.com/vulcan/ap/rnd/202111/2000/YZUN6kSpNxf2w4ctTGwl3UHw.jpg\"},{\"__typename\":\"Media\",\"type\":\"IMAGE\",\"role\":\"SCREENSHOT\",\"url\":\"https://image.api.playstation.com/vulcan/ap/rnd/202111/2000/Ta807nPySbwuYgWk5XDFEgDy.jpg\"},{\"__typename\":\"Media\",\"type\":\"IMAGE\",\"role\":\"SCREENSHOT\",\"url\":\"https://image.api.playstation.com/vulcan/ap/rnd/202111/2000/bcWMApRoSxqOthLr1GEftNya.jpg\"},{\"__typename\":\"Media\",\"type\":\"IMAGE\",\"role\":\"SCREENSHOT\",\"url\":\"https://image.api.playstation.com/vulcan/ap/rnd/202111/2000/SHYyyHBgb0ZnFZNrGutlrzJp.jpg\"},{\"__typename\":\"Media\",\"type\":\"IMAGE\",\"role\":\"SCREENSHOT\",\"url\":\"https://image.api.playstation.com/vulcan/ap/rnd/202111/2000/YzYAHfg232taFVsabGMxLJ4E.jpg\"},{\"__typename\":\"Media\",\"type\":\"IMAGE\",\"role\":\"SCREENSHOT\",\"url\":\"https://image.api.playstation.com/vulcan/ap/rnd/202111/2000/07ZQFfxJFfE1vkmOc2qPVpmU.jpg\"},{\"__typename\":\"Media\",\"type\":\"IMAGE\",\"role\":\"SCREENSHOT\",\"url\":\"https://image.api.playstation.com/vulcan/ap/rnd/202111/2000/pgtG5vIugUKhjlCP1fgMwKbB.jpg\"},{\"__typename\":\"Media\",\"type\":\"IMAGE\",\"role\":\"SCREENSHOT\",\"url\":\"https://image.api.playstation.com/vulcan/ap/rnd/202111/2000/9CvbRlePWpByLit7DJoZ2ukW.jpg\"},{\"__typename\":\"Media\",\"type\":\"IMAGE\",\"role\":\"SCREENSHOT\",\"url\":\"https://image.api.playstation.com/vulcan/ap/rnd/202111/2000/l3FiiXumavyCmX3puXjGVHV0.jpg\"},{\"__typename\":\"Media\",\"type\":\"IMAGE\",\"role\":\"MASTER\",\"url\":\"https://image.api.playstation.com/vulcan/ap/rnd/202111/2000/W7fnIRwYvGF17Qzg4duWQD4I.png\"}],\"edition\":{\"__typename\":\"ProductEdition\",\"name\":\"\",\"features\":[],\"ordering\":1,\"type\":\"STANDARD\"},\"contentRating\":{\"__typename\":\"ProductContentRating\",\"name\":\"CERO_C\"},\"localizedGenres\":[{\"__typename\":\"LocalizedGenre\",\"value\":\"アクション\"},{\"__typename\":\"LocalizedGenre\",\"value\":\"アドベンチャー\"}],\"invariantName\":\"UNCHARTED: Legacy of Thieves Collection\",\"name\":\"アンチャーテッド トレジャーハンターコレクション\",\"npTitleId\":\"PPSA05685_00\",\"concept\":{\"__ref\":\"Concept:205354\"},\"skus\":[{\"__ref\":\"Sku:JP9000-PPSA05685_00-UNCHARTED4R00000-J002\"},{\"__ref\":\"Sku:JP9000-PPSA05685_00-UNCHARTED4R00000-J003\"}],\"isAgeRestricted\":false,\"activeCtaId\":\"ADD_TO_CART:ADD_TO_CART:JP9000-PPSA05685_00-UNCHARTED4R00000-J003\",\"webctas\":[{\"__ref\":\"GameCTA:ADD_TO_CART:ADD_TO_CART:JP9000-PPSA05685_00-UNCHARTED4R00000-J003\"},{\"__ref\":\"GameCTA:UPSELL_PS_PLUS_GAME_CATALOG:ADD_TO_CART:JP9000-PPSA05685_00-UNCHARTED4R00000-J003:SUB001-SUBC00002_00-HM93SKR5MGPG6TD8\"}],\"isInWishlist\":false,\"isWishlistable\":true},\"Sku:JP9000-CUSA08347_00-UNCHD4LOSTLEGACY-J007\":{\"id\":\"JP9000-CUSA08347_00-UNCHD4LOSTLEGACY-J007\",\"__typename\":\"Sku\",\"name\":\"ゲーム本編\"},\"GameCTA:UPSELL_PS_PLUS_GAME_CATALOG:ADD_TO_CART:JP9000-CUSA08347_00-UNCHD4LOSTLEGACY-J007:SUB001-SUBC00002_00-7MMVCT3Q0SK0S2UN\":{\"id\":\"UPSELL_PS_PLUS_GAME_CATALOG:ADD_TO_CART:JP9000-CUSA08347_00-UNCHD4LOSTLEGACY-J007:SUB001-SUBC00002_00-7MMVCT3Q0SK0S2UN\",\"__typename\":\"GameCTA\",\"local\":{\"ctaLabel\":\"msgid_subscribe\",\"ctaType\":\"purchase\",\"ctaDataTrack\":{\"eventName\":\"subscribe\",\"label\":\"subscribe\",\"elementType\":\"button\",\"userActionFlag\":false,\"sku\":\"JP9000-CUSA08347_00-UNCHD4LOSTLEGACY-J007\"},\"ctaDataTrackClick\":\"ctaWithPrice:subscribe\",\"telemetryMeta\":{\"ctaSubType\":\"upsell_ps_plus_game_catalog\",\"ctaType\":\"UPSELL_PS_PLUS_GAME_CATALOG\",\"interactCta\":\"subscribe\",\"interactAction\":\"click subscribe\",\"skuDetail\":{\"skuId\":\"JP9000-CUSA08347_00-UNCHD4LOSTLEGACY-J007\",\"skuPriceDetail\":[{\"rewardId\":\"SUB001-SUBC00002_00-7MMVCT3Q0SK0S2UN\",\"offerCampaignId\":null,\"originalPriceFormatted\":\"¥2,189\",\"originalPriceValue\":2189,\"discountPriceFormatted\":\"含まれます\",\"discountPriceValue\":0,\"priceCurrencyCode\":\"JPY\",\"offerBranding\":\"PS_PLUS\",\"offerQualification\":[{\"__typename\":\"Qualification\",\"type\":\"ENTITLEMENT_IN_CART\",\"value\":\"SUB001-SUBC00002_00-7MMVCT3Q0SK0S2UN\"}],\"offerExclusive\":true,\"offerApplied\":false,\"offerApplicability\":\"UPSELL\",\"offerIsTiedToSubscription\":true}]}},\"priceOrText\":\"含まれます\",\"originalPrice\":\"\",\"offerLabel\":\"このゲームや、ゲームカタログに含まれる他の多数のゲームをプレイするには、PlayStation Plusエクストラに加入してください\",\"offerAvailability\":null,\"serviceIcons\":[\"ps-plus\"]},\"type\":\"UPSELL_PS_PLUS_GAME_CATALOG\",\"hasLinkedConsole\":false,\"action\":{\"__typename\":\"Action\",\"type\":\"ADD_TO_CART\",\"param\":[{\"__typename\":\"ActionParam\",\"name\":\"skuId\",\"value\":\"JP9000-CUSA08347_00-UNCHD4LOSTLEGACY-J007\"},{\"__typename\":\"ActionParam\",\"name\":\"prologueEmsAlias\",\"value\":\"plus--gamehub_upsell_cta--game_catalog\"},{\"__typename\":\"ActionParam\",\"name\":\"rewardId\",\"value\":\"SUB001-SUBC00002_00-7MMVCT3Q0SK0S2UN\"},{\"__typename\":\"ActionParam\",\"name\":\"rewardId\",\"value\":\"SUB001-SUBC00002_00-7MMVCT3Q0SK0S2UN\"}]},\"meta\":{\"__typename\":\"CTAMeta\",\"upSellService\":\"PS_PLUS\",\"exclusive\":true,\"playabilityDate\":null,\"ineligibilityReasons\":[{\"__typename\":\"IneligibilityReason\",\"type\":\"UNKNOWN\",\"names\":[]}]},\"price\":{\"__typename\":\"Price\",\"basePrice\":\"¥2,189\",\"discountedPrice\":\"含まれます\",\"discountText\":\"含まれます\",\"serviceBranding\":[\"PS_PLUS\"],\"endTime\":null,\"upsellText\":\"このゲームや、ゲームカタログに含まれる他の多数のゲームをプレイするには、PlayStation Plusエクストラに加入してください\",\"basePriceValue\":2189,\"discountedValue\":0,\"currencyCode\":\"JPY\",\"qualifications\":[{\"__typename\":\"Qualification\",\"type\":\"ENTITLEMENT_IN_CART\",\"value\":\"SUB001-SUBC00002_00-7MMVCT3Q0SK0S2UN\"}],\"applicability\":\"UPSELL\",\"campaignId\":null,\"rewardId\":\"SUB001-SUBC00002_00-7MMVCT3Q0SK0S2UN\",\"isFree\":true,\"isExclusive\":true,\"isTiedToSubscription\":true}},\"Product:JP9000-CUSA08347_00-UNCHD4LOSTLEGACY\":{\"id\":\"JP9000-CUSA08347_00-UNCHD4LOSTLEGACY\",\"__typename\":\"Product\",\"topCategory\":\"GAME\",\"platforms\":[\"PS4\"],\"media\":[{\"__typename\":\"Media\",\"type\":\"IMAGE\",\"url\":\"https://image.api.playstation.com/vulcan/img/rnd/202010/3018/alPxELea3vduD4lTqKbSIke3.png\",\"role\":\"BACKGROUND\"},{\"__typename\":\"Media\",\"type\":\"IMAGE\",\"url\":\"https://image.api.playstation.com/vulcan/img/rnd/202010/3018/uRb9Br7Gc7IbFOGAxxFQSdwA.jpg\",\"role\":\"EDITION_KEY_ART\"},{\"__typename\":\"Media\",\"type\":\"IMAGE\",\"url\":\"https://image.api.playstation.com/vulcan/img/rnd/202010/3018/HOiq7XFNsNTpLzkR6OAu5gdl.png\",\"role\":\"FOUR_BY_THREE_BANNER\"},{\"__typename\":\"Media\",\"type\":\"IMAGE\",\"url\":\"https://image.api.playstation.com/vulcan/img/rnd/202010/3018/bBNL34StJ0lslChoWOmmO28d.png\",\"role\":\"GAMEHUB_COVER_ART\"},{\"__typename\":\"Media\",\"type\":\"IMAGE\",\"url\":\"https://image.api.playstation.com/vulcan/img/rnd/202010/2813/7RHH0uXL1pFLH25sUArnk62q.png\",\"role\":\"LOGO\"},{\"__typename\":\"Media\",\"type\":\"IMAGE\",\"url\":\"https://image.api.playstation.com/vulcan/img/rnd/202010/3018/oQs0QI5MMEsGwilDqewYItVq.png\",\"role\":\"PORTRAIT_BANNER\"},{\"__typename\":\"Media\",\"type\":\"IMAGE\",\"url\":\"https://image.api.playstation.com/cdn/JP9000/CUSA08347_00/FREE_CONTENTQqqZcNuMDQleYGOnuUFQ/1.jpg\",\"role\":\"SCREENSHOT\"},{\"__typename\":\"Media\",\"type\":\"IMAGE\",\"url\":\"https://image.api.playstation.com/cdn/JP9000/CUSA08347_00/FREE_CONTENTOVGLyeV5SF1eFahuh44g/2.jpg\",\"role\":\"SCREENSHOT\"},{\"__typename\":\"Media\",\"type\":\"IMAGE\",\"url\":\"https://image.api.playstation.com/cdn/JP9000/CUSA08347_00/FREE_CONTENTYU8OzKRDu6tmS2ptk1Ep/3.jpg\",\"role\":\"SCREENSHOT\"},{\"__typename\":\"Media\",\"type\":\"IMAGE\",\"url\":\"https://image.api.playstation.com/vulcan/img/rnd/202010/2813/A2z3fPbW6Ek0XnHuCp2jshOE.png\",\"role\":\"MASTER\"}],\"edition\":{\"__typename\":\"ProductEdition\",\"name\":\"\",\"features\":[],\"ordering\":null,\"type\":\"STANDARD\"},\"contentRating\":{\"__typename\":\"ProductContentRating\",\"name\":\"CERO_C\"},\"localizedGenres\":[{\"__typename\":\"LocalizedGenre\",\"value\":\"アクション\"},{\"__typename\":\"LocalizedGenre\",\"value\":\"アドベンチャー\"}],\"invariantName\":null,\"name\":\"アンチャーテッド 古代神の秘宝 PlayStation®Hits\",\"npTitleId\":\"CUSA08347_00\",\"concept\":{\"__ref\":\"Concept:205354\"},\"skus\":[{\"__ref\":\"Sku:JP9000-CUSA08347_00-UNCHD4LOSTLEGACY-J007\"}],\"isAgeRestricted\":false,\"activeCtaId\":\"UPSELL_PS_PLUS_GAME_CATALOG:ADD_TO_CART:JP9000-CUSA08347_00-UNCHD4LOSTLEGACY-J007:SUB001-SUBC00002_00-7MMVCT3Q0SK0S2UN\",\"webctas\":[{\"__ref\":\"GameCTA:UPSELL_PS_PLUS_GAME_CATALOG:ADD_TO_CART:JP9000-CUSA08347_00-UNCHD4LOSTLEGACY-J007:SUB001-SUBC00002_00-7MMVCT3Q0SK0S2UN\"}],\"isInWishlist\":false,\"isWishlistable\":true},\"ROOT_QUERY\":{\"__typename\":\"Query\",\"conceptRetrieve({\\\"conceptId\\\":\\\"205354\\\"})\":{\"__ref\":\"Concept:205354\"}}},\"translations\":{\"msgid_editions\":\"エディション\",\"msgid_date_separator\":\"/\",\"msgid_offer_ends_date\":\"%date%まで\",\"msgid_add_cart\":\"カートに追加\",\"msgid_add_wishlist\":\"欲しいリストに追加\"}}</script><div class=\"psw-root psw-dark-theme\" data-initial=\"env:bef278d0-df30-11ee-8edf-e90e3592ba9b\" data-mfe-name=\"upsell\"><div class=\"psw-c-bg-0\" data-qa=\"mfeUpsell\" data-reactroot=\"\"><h2 class=\"psw-l-section psw-t-title-l psw-t-align-c psw-m-b-9\" data-qa=\"mfeUpsell#heading\">エディション</h2><div class=\"psw-l-grid\"><article class=\"psw-l-w-1/1 psw-l-w-1/2@tablet-s psw-l-w-1/2@tablet-l psw-l-w-1/3@laptop psw-l-w-1/3@desktop psw-l-w-1/3@max psw-l-anchor psw-l-stack-left psw-c-bg-card-1\" data-qa=\"mfeUpsell#productEdition0\"><div class=\"psw-l-line-left psw-l-anchor-top-left psw-l-top-left psw-fill-x\"><span class=\"psw-media-frame psw-fill-x psw-image psw-media psw-c-bg-3 psw-aspect-16-9\" data-qa=\"mfeUpsell#productEdition0#media\" style=\"width:100%;min-width:100%\"><img alt=\"アンチャーテッド トレジャーハンターコレクション\" aria-hidden=\"true\" class=\"psw-blur psw-center psw-l-fit-contain\" data-qa=\"mfeUpsell#productEdition0#media#preview\" loading=\"lazy\" src=\"https://image.api.playstation.com/vulcan/ap/rnd/202111/2000/W7fnIRwYvGF17Qzg4duWQD4I.png?w=54&amp;thumb=true\"/><noscript class=\"psw-layer\"><img alt=\"アンチャーテッド トレジャーハンターコレクション\" class=\"psw-center psw-l-fit-contain\" data-qa=\"mfeUpsell#productEdition0#media#image-no-js\" loading=\"lazy\" src=\"https://image.api.playstation.com/vulcan/ap/rnd/202111/2000/W7fnIRwYvGF17Qzg4duWQD4I.png\"/></noscript></span></div><div class=\"psw-l-anchor psw-fill psw-l-stack-repel\"><div class=\"psw-l-stack-center\"><span class=\"psw-media-frame psw-fill-x psw-aspect-16-9\" data-qa=\"\"></span><h3 class=\"psw-t-title-s psw-t-align-c psw-fill-x psw-p-t-6 psw-p-x-7\" data-qa=\"mfeUpsell#productEdition0#editionName\" style=\"margin-bottom:-1px\">アンチャーテッド トレジャーハンターコレクション</h3><div class=\"psw-l-space-x-2 psw-l-line-center psw-p-t-5\"><span class=\"psw-p-x-2 psw-p-y-1 psw-t-tag\" data-qa=\"mfeUpsell#productEdition0#productTag0\">PS5</span></div><div class=\"psw-fill-x psw-p-t-5 psw-p-x-7\"><ul class=\"psw-t-list psw-l-columns psw-l-compact psw-m-sub-b-1\" data-qa=\"mfeUpsell#productEdition0#features\"></ul></div></div><div class=\"psw-p-t-5 psw-p-b-7 psw-p-x-7\"><div aria-hidden=\"true\" class=\"psw-c-bg-0 psw-l-anchor psw-l-stack-left\" data-qa=\"mfeUpsell#productEdition0#ctaWithPrice\"><div class=\"psw-fade-out psw-fill-x\" style=\"visibility:hidden\"><label class=\"psw-label psw-l-inline psw-l-line-left psw-interactive psw-c-bg-0 psw-l-anchor psw-fill-x\" data-qa=\"mfeUpsell#productEdition0#ctaWithPrice#offer0\"><div class=\"psw-l-anchor psw-l-stack-left psw-fill-x\"><span class=\"psw-fill-x psw-l-line-left psw-m-b-2\"><span class=\"psw-l-line-left psw-l-line-wrap\"><span class=\"psw-t-title-m psw-m-r-4\" data-qa=\"mfeUpsell#productEdition0#ctaWithPrice#offer0#finalPrice\">¥2,156</span><span class=\"psw-t-title-s psw-c-t-2 psw-t-strike\" data-qa=\"mfeUpsell#productEdition0#ctaWithPrice#offer0#originalPrice\"><span class=\"psw-truncate-text-1 psw-p-y-1 psw-l-exclude@below-desktop\"></span><span class=\"psw-truncate-text-1 psw-p-t-1 psw-l-exclude@desktop\"></span>¥5,390</span></span></span><span class=\"psw-t-overline psw-t-bold psw-l-line-left psw-fill-x\"><span class=\"psw-l-line-left psw-l-line-wrap\"><span class=\"psw-l-line-left\"><span class=\"psw-l-inline psw-m-r-2\"></span><span class=\"psw-m-r-3\" data-qa=\"mfeUpsell#productEdition0#ctaWithPrice#offer0#discountInfo\">60%オフ</span></span><span class=\"psw-c-t-2\" data-qa=\"mfeUpsell#productEdition0#ctaWithPrice#offer0#discountDescriptor\">2024/3/20 02:59 PM UTCまで</span></span></span></div></label><div class=\"psw-m-t-6 psw-fill-x\" data-qa=\"mfeUpsell#productEdition0#ctaWithPrice#cta\"><div class=\"psw-fill-x\" data-flip-key=\"cta-action-0\"><div aria-hidden=\"false\" class=\"psw-l-anchor\" data-qa=\"inline-toast\" style=\"perspective:2000px;transition:height 400ms ease, opacity 400ms ease\"><div style=\"transform:translateZ(-NaNpx);transform-style:preserve-3d\"><div style=\"transition:transform 300ms ease-in;transform-style:preserve-3d;transform:rotateX(0deg)\"><div aria-hidden=\"true\" class=\"psw-l-line-left psw-hidden\" data-qa=\"inline-toast#cta-spacer\"><button class=\"psw-fill-x dtm-track psw-button psw-b-0 psw-t-button psw-l-line-center psw-button-sizing psw-button-sizing--medium psw-purchase-button psw-solid-button\" data-qa=\"inline-toast#hiddenCta\" data-telemetry-meta='{\"conceptId\":\"205354\",\"ctaIndex\":0,\"ctaSubType\":\"add_to_cart\",\"ctaType\":\"ADD_TO_CART\",\"interactAction\":\"click add to cart\",\"interactCta\":\"add to cart\",\"productId\":\"JP9000-PPSA05685_00-UNCHARTED4R00000\",\"productDetail\":[{\"productId\":\"JP9000-PPSA05685_00-UNCHARTED4R00000\",\"productName\":\"アンチャーテッド トレジャーハンターコレクション\",\"productToSkuIds\":[\"JP9000-PPSA05685_00-UNCHARTED4R00000-J002\",\"JP9000-PPSA05685_00-UNCHARTED4R00000-J003\"],\"productPriceDetail\":[{\"rewardId\":\"OFFER-PROD-7636_60\",\"offerCampaignId\":\"PROMO-PROD-00007636\",\"originalPriceFormatted\":\"¥5,390\",\"originalPriceValue\":5390,\"discountPriceFormatted\":\"¥2,156\",\"discountPriceValue\":2156,\"priceCurrencyCode\":\"JPY\",\"offerBranding\":\"NONE\",\"offerQualification\":[],\"offerExclusive\":false,\"offerApplied\":true,\"offerApplicability\":\"APPLICABLE\",\"offerIsTiedToSubscription\":false},{\"rewardId\":\"SUB001-SUBC00002_00-HM93SKR5MGPG6TD8\",\"offerCampaignId\":null,\"originalPriceFormatted\":\"¥5,390\",\"originalPriceValue\":5390,\"discountPriceFormatted\":\"含まれます\",\"discountPriceValue\":0,\"priceCurrencyCode\":\"JPY\",\"offerBranding\":\"PS_PLUS\",\"offerQualification\":[{\"__typename\":\"Qualification\",\"type\":\"ENTITLEMENT_IN_CART\",\"value\":\"SUB001-SUBC00002_00-HM93SKR5MGPG6TD8\"}],\"offerExclusive\":false,\"offerApplied\":false,\"offerApplicability\":\"UPSELL\",\"offerIsTiedToSubscription\":true}]}],\"skuDetail\":[{\"skuId\":\"JP9000-PPSA05685_00-UNCHARTED4R00000-J003\",\"skuPriceDetail\":[{\"rewardId\":\"OFFER-PROD-7636_60\",\"offerCampaignId\":\"PROMO-PROD-00007636\",\"originalPriceFormatted\":\"¥5,390\",\"originalPriceValue\":5390,\"discountPriceFormatted\":\"¥2,156\",\"discountPriceValue\":2156,\"priceCurrencyCode\":\"JPY\",\"offerBranding\":\"NONE\",\"offerQualification\":[],\"offerExclusive\":false,\"offerApplied\":true,\"offerApplicability\":\"APPLICABLE\",\"offerIsTiedToSubscription\":false}],\"skuName\":\"ゲーム本編\"}],\"titleId\":\"PPSA05685_00\"}' data-track='{\"eventInfo\":{\"eventAction\":\"click\",\"eventName\":\"add to cart\"},\"attributes\":{\"moduleName\":\"version selector\",\"assetName\":\"\",\"label\":\"add to cart\",\"position\":\"1\",\"linkUrl\":\"\",\"elementType\":\"button\",\"userActionFlag\":false,\"sku\":\"JP9000-PPSA05685_00-UNCHARTED4R00000-J003\"}}' data-track-click=\"ctaWithPrice:addToCart\" id=\"\" name=\"\" type=\"button\" value=\"\"><span class=\"psw-fill-x psw-t-truncate-1 psw-l-space-x-2\">カートに追加</span></button><button class=\"psw-m-l-4 psw-button psw-b-0 psw-t-button psw-l-line-center psw-button-sizing psw-button-sizing--medium psw-button-sizing--icon-only psw-secondary-button psw-solid-button psw-with-icon\" data-qa=\"inline-toast#hiddenCta\" data-telemetry-meta='{\"productId\":null,\"conceptId\":null}' data-track-click=\"ctaWithPrice:addToWishlist\" id=\"\" name=\"\" type=\"button\" value=\"\"><span class=\"psw-fill-x psw-l-line-center\"><span class=\"psw-icon psw-icon--unfavorite psw-icon psw-icon-size-2 psw-icon--unfavorite\" data-qa=\"inline-toast#hiddenCta#icon\"><div class=\"psw-hide\" data-original-icon-id=\"ps-icon:unfavorite\"><svg xmlns=\"http://www.w3.org/2000/svg\"><symbol id=\"ps-icon:unfavorite:454\" viewbox=\"0 0 64 64\"><path d=\"M40.045 12.5c3.052 0 5.9 1.388 7.98 3.785 2.045 2.35 3.205 5.503 3.205 8.859 0 3.222-1.073 6.266-2.97 8.583l-.232.274-16.663 19.161L14.71 34.003c-2.046-2.344-3.208-5.501-3.211-8.859 0-3.35 1.164-6.503 3.21-8.86 2.086-2.398 4.931-3.787 7.975-3.784 3.054 0 5.903 1.387 7.98 3.78.186.213.365.435.537.667l.163.229.164-.231c.086-.116.173-.229.262-.34l.272-.324c2.084-2.398 4.93-3.784 7.982-3.781zm5.715 5.753c-1.529-1.762-3.562-2.753-5.717-2.753-2.153-.002-4.185.987-5.718 2.751-.535.613-1.005 1.362-1.41 2.236l-.17.383-1.385 3.26-1.377-3.264c-.435-1.032-.962-1.909-1.58-2.615-1.528-1.76-3.562-2.751-5.72-2.751-2.144-.002-4.176.99-5.709 2.751-1.568 1.808-2.474 4.262-2.474 6.892.002 2.519.826 4.871 2.264 6.641l.21.249L31.365 48.59l14.398-16.557c1.492-1.716 2.383-4.033 2.46-6.531l.006-.358c0-2.518-.822-4.867-2.26-6.642l-.21-.25z\" fill-rule=\"nonzero\" stroke=\"none\" stroke-width=\"1\"></path></symbol></svg></div><svg role=\"img\"><title>欲しいリストに追加</title><use href=\"#ps-icon:unfavorite:454\"></use></svg></span></span></button></div><div aria-hidden=\"true\" class=\"psw-fill-x psw-top-left psw-l-line-center\" data-qa=\"inline-toast#slot2\" style=\"transition:opacity 300ms ease-in;opacity:0;transform:rotateX(90deg) translateZ(NaNpx)\"></div><div aria-hidden=\"false\" class=\"psw-fill-x psw-top-left psw-l-line-center\" data-qa=\"inline-toast#slot1\" style=\"transition:opacity 300ms ease-in;opacity:1;transform:rotateX(0deg) translateZ(NaNpx)\"><button class=\"psw-fill-x dtm-track psw-button psw-b-0 psw-t-button psw-l-line-center psw-button-sizing psw-button-sizing--medium psw-purchase-button psw-solid-button\" data-qa=\"mfeUpsell#productEdition0#ctaWithPrice#cta#action\" data-telemetry-meta='{\"conceptId\":\"205354\",\"ctaIndex\":0,\"ctaSubType\":\"add_to_cart\",\"ctaType\":\"ADD_TO_CART\",\"interactAction\":\"click add to cart\",\"interactCta\":\"add to cart\",\"productId\":\"JP9000-PPSA05685_00-UNCHARTED4R00000\",\"productDetail\":[{\"productId\":\"JP9000-PPSA05685_00-UNCHARTED4R00000\",\"productName\":\"アンチャーテッド トレジャーハンターコレクション\",\"productToSkuIds\":[\"JP9000-PPSA05685_00-UNCHARTED4R00000-J002\",\"JP9000-PPSA05685_00-UNCHARTED4R00000-J003\"],\"productPriceDetail\":[{\"rewardId\":\"OFFER-PROD-7636_60\",\"offerCampaignId\":\"PROMO-PROD-00007636\",\"originalPriceFormatted\":\"¥5,390\",\"originalPriceValue\":5390,\"discountPriceFormatted\":\"¥2,156\",\"discountPriceValue\":2156,\"priceCurrencyCode\":\"JPY\",\"offerBranding\":\"NONE\",\"offerQualification\":[],\"offerExclusive\":false,\"offerApplied\":true,\"offerApplicability\":\"APPLICABLE\",\"offerIsTiedToSubscription\":false},{\"rewardId\":\"SUB001-SUBC00002_00-HM93SKR5MGPG6TD8\",\"offerCampaignId\":null,\"originalPriceFormatted\":\"¥5,390\",\"originalPriceValue\":5390,\"discountPriceFormatted\":\"含まれます\",\"discountPriceValue\":0,\"priceCurrencyCode\":\"JPY\",\"offerBranding\":\"PS_PLUS\",\"offerQualification\":[{\"__typename\":\"Qualification\",\"type\":\"ENTITLEMENT_IN_CART\",\"value\":\"SUB001-SUBC00002_00-HM93SKR5MGPG6TD8\"}],\"offerExclusive\":false,\"offerApplied\":false,\"offerApplicability\":\"UPSELL\",\"offerIsTiedToSubscription\":true}]}],\"skuDetail\":[{\"skuId\":\"JP9000-PPSA05685_00-UNCHARTED4R00000-J003\",\"skuPriceDetail\":[{\"rewardId\":\"OFFER-PROD-7636_60\",\"offerCampaignId\":\"PROMO-PROD-00007636\",\"originalPriceFormatted\":\"¥5,390\",\"originalPriceValue\":5390,\"discountPriceFormatted\":\"¥2,156\",\"discountPriceValue\":2156,\"priceCurrencyCode\":\"JPY\",\"offerBranding\":\"NONE\",\"offerQualification\":[],\"offerExclusive\":false,\"offerApplied\":true,\"offerApplicability\":\"APPLICABLE\",\"offerIsTiedToSubscription\":false}],\"skuName\":\"ゲーム本編\"}],\"titleId\":\"PPSA05685_00\"}' data-track='{\"eventInfo\":{\"eventAction\":\"click\",\"eventName\":\"add to cart\"},\"attributes\":{\"moduleName\":\"version selector\",\"assetName\":\"\",\"label\":\"add to cart\",\"position\":\"1\",\"linkUrl\":\"\",\"elementType\":\"button\",\"userActionFlag\":false,\"sku\":\"JP9000-PPSA05685_00-UNCHARTED4R00000-J003\"}}' data-track-click=\"ctaWithPrice:addToCart\" id=\"\" name=\"\" type=\"button\" value=\"\"><span class=\"psw-fill-x psw-t-truncate-1 psw-l-space-x-2\">カートに追加</span></button><button class=\"psw-m-l-4 psw-button psw-b-0 psw-t-button psw-l-line-center psw-button-sizing psw-button-sizing--medium psw-button-sizing--icon-only psw-secondary-button psw-solid-button psw-with-icon\" data-qa=\"wishlistToggle\" data-telemetry-meta='{\"productId\":null,\"conceptId\":null}' data-track-click=\"ctaWithPrice:addToWishlist\" id=\"\" name=\"\" type=\"button\" value=\"\"><span class=\"psw-fill-x psw-l-line-center\"><span class=\"psw-icon psw-icon--unfavorite psw-icon psw-icon-size-2 psw-icon--unfavorite\" data-qa=\"wishlistToggle#icon\"><div class=\"psw-hide\" data-original-icon-id=\"ps-icon:unfavorite\"><svg xmlns=\"http://www.w3.org/2000/svg\"><symbol id=\"ps-icon:unfavorite:455\" viewbox=\"0 0 64 64\"><path d=\"M40.045 12.5c3.052 0 5.9 1.388 7.98 3.785 2.045 2.35 3.205 5.503 3.205 8.859 0 3.222-1.073 6.266-2.97 8.583l-.232.274-16.663 19.161L14.71 34.003c-2.046-2.344-3.208-5.501-3.211-8.859 0-3.35 1.164-6.503 3.21-8.86 2.086-2.398 4.931-3.787 7.975-3.784 3.054 0 5.903 1.387 7.98 3.78.186.213.365.435.537.667l.163.229.164-.231c.086-.116.173-.229.262-.34l.272-.324c2.084-2.398 4.93-3.784 7.982-3.781zm5.715 5.753c-1.529-1.762-3.562-2.753-5.717-2.753-2.153-.002-4.185.987-5.718 2.751-.535.613-1.005 1.362-1.41 2.236l-.17.383-1.385 3.26-1.377-3.264c-.435-1.032-.962-1.909-1.58-2.615-1.528-1.76-3.562-2.751-5.72-2.751-2.144-.002-4.176.99-5.709 2.751-1.568 1.808-2.474 4.262-2.474 6.892.002 2.519.826 4.871 2.264 6.641l.21.249L31.365 48.59l14.398-16.557c1.492-1.716 2.383-4.033 2.46-6.531l.006-.358c0-2.518-.822-4.867-2.26-6.642l-.21-.25z\" fill-rule=\"nonzero\" stroke=\"none\" stroke-width=\"1\"></path></symbol></svg></div><svg role=\"img\"><title>欲しいリストに追加</title><use href=\"#ps-icon:unfavorite:455\"></use></svg></span></span></button></div></div></div></div></div></div></div><div class=\"psw-layer psw-loading-block psw-r-2\" data-qa=\"mfeUpsell#productEdition0#ctaWithPrice#loadingOverlay\"></div></div></div></div></article><article class=\"psw-l-w-1/1 psw-l-w-1/2@tablet-s psw-l-w-1/2@tablet-l psw-l-w-1/3@laptop psw-l-w-1/3@desktop psw-l-w-1/3@max psw-l-anchor psw-l-stack-left psw-c-bg-card-1\" data-qa=\"mfeUpsell#productEdition1\"><div class=\"psw-l-line-left psw-l-anchor-top-left psw-l-top-left psw-fill-x\"><span class=\"psw-media-frame psw-fill-x psw-image psw-media psw-c-bg-3 psw-aspect-16-9\" data-qa=\"mfeUpsell#productEdition1#media\" style=\"width:100%;min-width:100%\"><img alt=\"アンチャーテッド 海賊王と最後の秘宝＆アンチャーテッド 古代神の秘宝 デジタルバンドル\" aria-hidden=\"true\" class=\"psw-blur psw-center psw-l-fit-contain\" data-qa=\"mfeUpsell#productEdition1#media#preview\" loading=\"lazy\" src=\"https://image.api.playstation.com/vulcan/img/rnd/202201/0523/UtzaEhvBWuO7NqXRR2XtCZmm.png?w=54&amp;thumb=true\"/><noscript class=\"psw-layer\"><img alt=\"アンチャーテッド 海賊王と最後の秘宝＆アンチャーテッド 古代神の秘宝 デジタルバンドル\" class=\"psw-center psw-l-fit-contain\" data-qa=\"mfeUpsell#productEdition1#media#image-no-js\" loading=\"lazy\" src=\"https://image.api.playstation.com/vulcan/img/rnd/202201/0523/UtzaEhvBWuO7NqXRR2XtCZmm.png\"/></noscript></span></div><div class=\"psw-l-anchor psw-fill psw-l-stack-repel\"><div class=\"psw-l-stack-center\"><span class=\"psw-media-frame psw-fill-x psw-aspect-16-9\" data-qa=\"\"></span><h3 class=\"psw-t-title-s psw-t-align-c psw-fill-x psw-p-t-6 psw-p-x-7\" data-qa=\"mfeUpsell#productEdition1#editionName\" style=\"margin-bottom:-1px\">アンチャーテッド 海賊王と最後の秘宝＆アンチャーテッド 古代神の秘宝 デジタルバンドル</h3><div class=\"psw-l-space-x-2 psw-l-line-center psw-p-t-5\"><span class=\"psw-p-x-2 psw-p-y-1 psw-t-tag\" data-qa=\"mfeUpsell#productEdition1#productTag0\">PS4</span></div><div class=\"psw-fill-x psw-p-t-5 psw-p-x-7\"><ul class=\"psw-t-list psw-l-columns psw-l-compact psw-m-sub-b-1\" data-qa=\"mfeUpsell#productEdition1#features\"></ul></div></div><div class=\"psw-p-t-5 psw-p-b-7 psw-p-x-7\"><div aria-hidden=\"true\" class=\"psw-c-bg-0 psw-l-anchor psw-l-stack-left\" data-qa=\"mfeUpsell#productEdition1#ctaWithPrice\"><div class=\"psw-fade-out psw-fill-x\" style=\"visibility:hidden\"><label class=\"psw-label psw-l-inline psw-l-line-left psw-interactive psw-c-bg-0 psw-l-anchor psw-fill-x\" data-qa=\"mfeUpsell#productEdition1#ctaWithPrice#offer0\"><div class=\"psw-l-anchor psw-l-stack-left psw-fill-x\"><span class=\"psw-fill-x psw-l-line-left psw-m-b-2\"><span class=\"psw-l-line-left psw-l-line-wrap\"><span class=\"psw-t-title-m psw-m-r-4\" data-qa=\"mfeUpsell#productEdition1#ctaWithPrice#offer0#finalPrice\">¥1,072</span><span class=\"psw-t-title-s psw-c-t-2 psw-t-strike\" data-qa=\"mfeUpsell#productEdition1#ctaWithPrice#offer0#originalPrice\"><span class=\"psw-truncate-text-1 psw-p-y-1 psw-l-exclude@below-desktop\"></span><span class=\"psw-truncate-text-1 psw-p-t-1 psw-l-exclude@desktop\"></span>¥4,290</span></span></span><span class=\"psw-t-overline psw-t-bold psw-l-line-left psw-fill-x\"><span class=\"psw-l-line-left psw-l-line-wrap\"><span class=\"psw-l-line-left\"><span class=\"psw-l-inline psw-m-r-2\"></span><span class=\"psw-m-r-3\" data-qa=\"mfeUpsell#productEdition1#ctaWithPrice#offer0#discountInfo\">75%オフ</span></span><span class=\"psw-c-t-2\" data-qa=\"mfeUpsell#productEdition1#ctaWithPrice#offer0#discountDescriptor\">2024/3/13 02:59 PM UTCまで</span></span></span></div></label><div class=\"psw-m-t-6 psw-fill-x\" data-qa=\"mfeUpsell#productEdition1#ctaWithPrice#cta\"><div class=\"psw-fill-x\" data-flip-key=\"cta-action-0\"><div aria-hidden=\"false\" class=\"psw-l-anchor\" data-qa=\"inline-toast\" style=\"perspective:2000px;transition:height 400ms ease, opacity 400ms ease\"><div style=\"transform:translateZ(-NaNpx);transform-style:preserve-3d\"><div style=\"transition:transform 300ms ease-in;transform-style:preserve-3d;transform:rotateX(0deg)\"><div aria-hidden=\"true\" class=\"psw-l-line-left psw-hidden\" data-qa=\"inline-toast#cta-spacer\"><button class=\"psw-fill-x dtm-track psw-button psw-b-0 psw-t-button psw-l-line-center psw-button-sizing psw-button-sizing--medium psw-purchase-button psw-solid-button\" data-qa=\"inline-toast#hiddenCta\" data-telemetry-meta='{\"conceptId\":\"205354\",\"ctaIndex\":0,\"ctaSubType\":\"add_to_cart\",\"ctaType\":\"ADD_TO_CART\",\"interactAction\":\"click add to cart\",\"interactCta\":\"add to cart\",\"productId\":\"JP9000-CUSA00949_00-U4UTLLBUNDLE0000\",\"productDetail\":[{\"productId\":\"JP9000-CUSA00949_00-U4UTLLBUNDLE0000\",\"productName\":\"アンチャーテッド 海賊王と最後の秘宝＆アンチャーテッド 古代神の秘宝 デジタルバンドル\",\"productToSkuIds\":[\"JP9000-CUSA00949_00-U4UTLLBUNDLE0000-J001\",\"JP9000-CUSA00949_00-U4UTLLBUNDLE0000-J002\"],\"productPriceDetail\":[{\"rewardId\":\"OFFER-PROD-7245_75\",\"offerCampaignId\":\"PROMO-PROD-00007245\",\"originalPriceFormatted\":\"¥4,290\",\"originalPriceValue\":4290,\"discountPriceFormatted\":\"¥1,072\",\"discountPriceValue\":1072,\"priceCurrencyCode\":\"JPY\",\"offerBranding\":\"NONE\",\"offerQualification\":[],\"offerExclusive\":false,\"offerApplied\":true,\"offerApplicability\":\"APPLICABLE\",\"offerIsTiedToSubscription\":false}]}],\"skuDetail\":[{\"skuId\":\"JP9000-CUSA00949_00-U4UTLLBUNDLE0000-J001\",\"skuPriceDetail\":[{\"rewardId\":\"OFFER-PROD-7245_75\",\"offerCampaignId\":\"PROMO-PROD-00007245\",\"originalPriceFormatted\":\"¥4,290\",\"originalPriceValue\":4290,\"discountPriceFormatted\":\"¥1,072\",\"discountPriceValue\":1072,\"priceCurrencyCode\":\"JPY\",\"offerBranding\":\"NONE\",\"offerQualification\":[],\"offerExclusive\":false,\"offerApplied\":true,\"offerApplicability\":\"APPLICABLE\",\"offerIsTiedToSubscription\":false}],\"skuName\":\"ゲーム本編\"}],\"titleId\":\"CUSA00949_00\"}' data-track='{\"eventInfo\":{\"eventAction\":\"click\",\"eventName\":\"add to cart\"},\"attributes\":{\"moduleName\":\"version selector\",\"assetName\":\"\",\"label\":\"add to cart\",\"position\":\"1\",\"linkUrl\":\"\",\"elementType\":\"button\",\"userActionFlag\":false,\"sku\":\"JP9000-CUSA00949_00-U4UTLLBUNDLE0000-J001\"}}' data-track-click=\"ctaWithPrice:addToCart\" id=\"\" name=\"\" type=\"button\" value=\"\"><span class=\"psw-fill-x psw-t-truncate-1 psw-l-space-x-2\">カートに追加</span></button><button class=\"psw-m-l-4 psw-button psw-b-0 psw-t-button psw-l-line-center psw-button-sizing psw-button-sizing--medium psw-button-sizing--icon-only psw-secondary-button psw-solid-button psw-with-icon\" data-qa=\"inline-toast#hiddenCta\" data-telemetry-meta='{\"productId\":null,\"conceptId\":null}' data-track-click=\"ctaWithPrice:addToWishlist\" id=\"\" name=\"\" type=\"button\" value=\"\"><span class=\"psw-fill-x psw-l-line-center\"><span class=\"psw-icon psw-icon--unfavorite psw-icon psw-icon-size-2 psw-icon--unfavorite\" data-qa=\"inline-toast#hiddenCta#icon\"><div class=\"psw-hide\" data-original-icon-id=\"ps-icon:unfavorite\"><svg xmlns=\"http://www.w3.org/2000/svg\"><symbol id=\"ps-icon:unfavorite:456\" viewbox=\"0 0 64 64\"><path d=\"M40.045 12.5c3.052 0 5.9 1.388 7.98 3.785 2.045 2.35 3.205 5.503 3.205 8.859 0 3.222-1.073 6.266-2.97 8.583l-.232.274-16.663 19.161L14.71 34.003c-2.046-2.344-3.208-5.501-3.211-8.859 0-3.35 1.164-6.503 3.21-8.86 2.086-2.398 4.931-3.787 7.975-3.784 3.054 0 5.903 1.387 7.98 3.78.186.213.365.435.537.667l.163.229.164-.231c.086-.116.173-.229.262-.34l.272-.324c2.084-2.398 4.93-3.784 7.982-3.781zm5.715 5.753c-1.529-1.762-3.562-2.753-5.717-2.753-2.153-.002-4.185.987-5.718 2.751-.535.613-1.005 1.362-1.41 2.236l-.17.383-1.385 3.26-1.377-3.264c-.435-1.032-.962-1.909-1.58-2.615-1.528-1.76-3.562-2.751-5.72-2.751-2.144-.002-4.176.99-5.709 2.751-1.568 1.808-2.474 4.262-2.474 6.892.002 2.519.826 4.871 2.264 6.641l.21.249L31.365 48.59l14.398-16.557c1.492-1.716 2.383-4.033 2.46-6.531l.006-.358c0-2.518-.822-4.867-2.26-6.642l-.21-.25z\" fill-rule=\"nonzero\" stroke=\"none\" stroke-width=\"1\"></path></symbol></svg></div><svg role=\"img\"><title>欲しいリストに追加</title><use href=\"#ps-icon:unfavorite:456\"></use></svg></span></span></button></div><div aria-hidden=\"true\" class=\"psw-fill-x psw-top-left psw-l-line-center\" data-qa=\"inline-toast#slot2\" style=\"transition:opacity 300ms ease-in;opacity:0;transform:rotateX(90deg) translateZ(NaNpx)\"></div><div aria-hidden=\"false\" class=\"psw-fill-x psw-top-left psw-l-line-center\" data-qa=\"inline-toast#slot1\" style=\"transition:opacity 300ms ease-in;opacity:1;transform:rotateX(0deg) translateZ(NaNpx)\"><button class=\"psw-fill-x dtm-track psw-button psw-b-0 psw-t-button psw-l-line-center psw-button-sizing psw-button-sizing--medium psw-purchase-button psw-solid-button\" data-qa=\"mfeUpsell#productEdition1#ctaWithPrice#cta#action\" data-telemetry-meta='{\"conceptId\":\"205354\",\"ctaIndex\":0,\"ctaSubType\":\"add_to_cart\",\"ctaType\":\"ADD_TO_CART\",\"interactAction\":\"click add to cart\",\"interactCta\":\"add to cart\",\"productId\":\"JP9000-CUSA00949_00-U4UTLLBUNDLE0000\",\"productDetail\":[{\"productId\":\"JP9000-CUSA00949_00-U4UTLLBUNDLE0000\",\"productName\":\"アンチャーテッド 海賊王と最後の秘宝＆アンチャーテッド 古代神の秘宝 デジタルバンドル\",\"productToSkuIds\":[\"JP9000-CUSA00949_00-U4UTLLBUNDLE0000-J001\",\"JP9000-CUSA00949_00-U4UTLLBUNDLE0000-J002\"],\"productPriceDetail\":[{\"rewardId\":\"OFFER-PROD-7245_75\",\"offerCampaignId\":\"PROMO-PROD-00007245\",\"originalPriceFormatted\":\"¥4,290\",\"originalPriceValue\":4290,\"discountPriceFormatted\":\"¥1,072\",\"discountPriceValue\":1072,\"priceCurrencyCode\":\"JPY\",\"offerBranding\":\"NONE\",\"offerQualification\":[],\"offerExclusive\":false,\"offerApplied\":true,\"offerApplicability\":\"APPLICABLE\",\"offerIsTiedToSubscription\":false}]}],\"skuDetail\":[{\"skuId\":\"JP9000-CUSA00949_00-U4UTLLBUNDLE0000-J001\",\"skuPriceDetail\":[{\"rewardId\":\"OFFER-PROD-7245_75\",\"offerCampaignId\":\"PROMO-PROD-00007245\",\"originalPriceFormatted\":\"¥4,290\",\"originalPriceValue\":4290,\"discountPriceFormatted\":\"¥1,072\",\"discountPriceValue\":1072,\"priceCurrencyCode\":\"JPY\",\"offerBranding\":\"NONE\",\"offerQualification\":[],\"offerExclusive\":false,\"offerApplied\":true,\"offerApplicability\":\"APPLICABLE\",\"offerIsTiedToSubscription\":false}],\"skuName\":\"ゲーム本編\"}],\"titleId\":\"CUSA00949_00\"}' data-track='{\"eventInfo\":{\"eventAction\":\"click\",\"eventName\":\"add to cart\"},\"attributes\":{\"moduleName\":\"version selector\",\"assetName\":\"\",\"label\":\"add to cart\",\"position\":\"1\",\"linkUrl\":\"\",\"elementType\":\"button\",\"userActionFlag\":false,\"sku\":\"JP9000-CUSA00949_00-U4UTLLBUNDLE0000-J001\"}}' data-track-click=\"ctaWithPrice:addToCart\" id=\"\" name=\"\" type=\"button\" value=\"\"><span class=\"psw-fill-x psw-t-truncate-1 psw-l-space-x-2\">カートに追加</span></button><button class=\"psw-m-l-4 psw-button psw-b-0 psw-t-button psw-l-line-center psw-button-sizing psw-button-sizing--medium psw-button-sizing--icon-only psw-secondary-button psw-solid-button psw-with-icon\" data-qa=\"wishlistToggle\" data-telemetry-meta='{\"productId\":null,\"conceptId\":null}' data-track-click=\"ctaWithPrice:addToWishlist\" id=\"\" name=\"\" type=\"button\" value=\"\"><span class=\"psw-fill-x psw-l-line-center\"><span class=\"psw-icon psw-icon--unfavorite psw-icon psw-icon-size-2 psw-icon--unfavorite\" data-qa=\"wishlistToggle#icon\"><div class=\"psw-hide\" data-original-icon-id=\"ps-icon:unfavorite\"><svg xmlns=\"http://www.w3.org/2000/svg\"><symbol id=\"ps-icon:unfavorite:457\" viewbox=\"0 0 64 64\"><path d=\"M40.045 12.5c3.052 0 5.9 1.388 7.98 3.785 2.045 2.35 3.205 5.503 3.205 8.859 0 3.222-1.073 6.266-2.97 8.583l-.232.274-16.663 19.161L14.71 34.003c-2.046-2.344-3.208-5.501-3.211-8.859 0-3.35 1.164-6.503 3.21-8.86 2.086-2.398 4.931-3.787 7.975-3.784 3.054 0 5.903 1.387 7.98 3.78.186.213.365.435.537.667l.163.229.164-.231c.086-.116.173-.229.262-.34l.272-.324c2.084-2.398 4.93-3.784 7.982-3.781zm5.715 5.753c-1.529-1.762-3.562-2.753-5.717-2.753-2.153-.002-4.185.987-5.718 2.751-.535.613-1.005 1.362-1.41 2.236l-.17.383-1.385 3.26-1.377-3.264c-.435-1.032-.962-1.909-1.58-2.615-1.528-1.76-3.562-2.751-5.72-2.751-2.144-.002-4.176.99-5.709 2.751-1.568 1.808-2.474 4.262-2.474 6.892.002 2.519.826 4.871 2.264 6.641l.21.249L31.365 48.59l14.398-16.557c1.492-1.716 2.383-4.033 2.46-6.531l.006-.358c0-2.518-.822-4.867-2.26-6.642l-.21-.25z\" fill-rule=\"nonzero\" stroke=\"none\" stroke-width=\"1\"></path></symbol></svg></div><svg role=\"img\"><title>欲しいリストに追加</title><use href=\"#ps-icon:unfavorite:457\"></use></svg></span></span></button></div></div></div></div></div></div></div><div class=\"psw-layer psw-loading-block psw-r-2\" data-qa=\"mfeUpsell#productEdition1#ctaWithPrice#loadingOverlay\"></div></div></div></div></article><article class=\"psw-l-w-1/1 psw-l-w-1/2@tablet-s psw-l-w-1/2@tablet-l psw-l-w-1/3@laptop psw-l-w-1/3@desktop psw-l-w-1/3@max psw-l-anchor psw-l-stack-left psw-c-bg-card-1\" data-qa=\"mfeUpsell#productEdition2\"><div class=\"psw-l-line-left psw-l-anchor-top-left psw-l-top-left psw-fill-x\"><span class=\"psw-media-frame psw-fill-x psw-image psw-media psw-aspect-16-9\" data-qa=\"mfeUpsell#productEdition2#media\" style=\"width:100%;min-width:100%\"><img alt=\"アンチャーテッド 古代神の秘宝 PlayStation®Hits\" aria-hidden=\"true\" class=\"psw-blur psw-center psw-l-fit-contain\" data-qa=\"mfeUpsell#productEdition2#media#preview\" loading=\"lazy\" src=\"https://image.api.playstation.com/vulcan/img/rnd/202010/3018/uRb9Br7Gc7IbFOGAxxFQSdwA.jpg?w=54&amp;thumb=true\"/><noscript class=\"psw-layer\"><img alt=\"アンチャーテッド 古代神の秘宝 PlayStation®Hits\" class=\"psw-center psw-l-fit-contain\" data-qa=\"mfeUpsell#productEdition2#media#image-no-js\" loading=\"lazy\" src=\"https://image.api.playstation.com/vulcan/img/rnd/202010/3018/uRb9Br7Gc7IbFOGAxxFQSdwA.jpg\"/></noscript></span></div><div class=\"psw-l-anchor psw-fill psw-l-stack-repel\"><div class=\"psw-l-stack-center\"><span class=\"psw-media-frame psw-fill-x psw-aspect-16-9\" data-qa=\"\"></span><h3 class=\"psw-t-title-s psw-t-align-c psw-fill-x psw-p-t-6 psw-p-x-7\" data-qa=\"mfeUpsell#productEdition2#editionName\" style=\"margin-bottom:-1px\">アンチャーテッド 古代神の秘宝 PlayStation®Hits</h3><div class=\"psw-l-space-x-2 psw-l-line-center psw-p-t-5\"><span class=\"psw-p-x-2 psw-p-y-1 psw-t-tag\" data-qa=\"mfeUpsell#productEdition2#productTag0\">PS4</span></div><div class=\"psw-fill-x psw-p-t-5 psw-p-x-7\"><ul class=\"psw-t-list psw-l-columns psw-l-compact psw-m-sub-b-1\" data-qa=\"mfeUpsell#productEdition2#features\"></ul></div></div><div class=\"psw-p-t-5 psw-p-b-7 psw-p-x-7\"><div aria-hidden=\"true\" class=\"psw-c-bg-0 psw-l-anchor psw-l-stack-left\" data-qa=\"mfeUpsell#productEdition2#ctaWithPrice\"><div class=\"psw-fade-out psw-fill-x\" style=\"visibility:hidden\"><label class=\"psw-label psw-l-inline psw-l-line-left psw-interactive psw-c-bg-0 psw-l-anchor psw-fill-x\" data-qa=\"mfeUpsell#productEdition2#ctaWithPrice#offer0\"><div class=\"psw-l-anchor psw-l-stack-left psw-fill-x\"><span class=\"psw-fill-x psw-l-line-left psw-m-b-2\"><span class=\"psw-l-line-left psw-l-line-wrap\"><span class=\"psw-t-title-m\" data-qa=\"mfeUpsell#productEdition2#ctaWithPrice#offer0#finalPrice\">含まれます</span></span></span><span class=\"psw-t-overline psw-t-bold psw-l-line-left psw-fill-x\"><span class=\"psw-l-line-left psw-l-line-wrap\"><span class=\"psw-l-line-left\"><span class=\"psw-l-inline psw-m-r-2\"><span class=\"psw-icon psw-icon--ps-plus psw-icon psw-icon-size-2 psw-icon--ps-plus\" data-qa=\"mfeUpsell#productEdition2#ctaWithPrice#offer0#serviceIcon#ps-plus\"><div class=\"psw-hide\" data-original-icon-id=\"ps-icon:ps-plus\"><svg xmlns=\"http://www.w3.org/2000/svg\"><defs><lineargradient id=\"ps-plus__a\" x1=\"12.926%\" x2=\"75.728%\" y1=\"21.366%\" y2=\"86.469%\"><stop offset=\"0%\" stop-color=\"#C3862C\"></stop><stop offset=\"100%\" stop-color=\"#986D29\"></stop></lineargradient><lineargradient id=\"ps-plus__b\" x1=\"10.369%\" x2=\"88.542%\" y1=\"20.591%\" y2=\"78.732%\"><stop offset=\"0%\" stop-color=\"#FDE64E\"></stop><stop offset=\"100%\" stop-color=\"#FCC013\"></stop></lineargradient></defs><symbol id=\"ps-icon:ps-plus:458\" viewbox=\"0 0 64 64\"><g fill=\"none\" fill-rule=\"evenodd\"><path d=\"M26.047 0a1.452 1.452 0 00-.172.014L15.537 1.417c-.2.027-.385.093-.549.188a1.483 1.483 0 00-.42.37l-2.83 3.677c-.228.295-.34.673-.286 1.068l1.156 8.375-8.51 1.156a1.475 1.475 0 00-.969.557c-.056.073-.081.163-.122.247.04-.084.066-.175.122-.247l-2.83 3.678a1.425 1.425 0 00-.286 1.067l1.405 10.18c.055.394.266.73.564.953.297.222.683.333 1.083.278l11.79-1.6 1.6 11.608c.055.394.266.73.565.953.24.18.54.287.858.292h.05c.059 0 .116-.005.175-.013L28.44 42.8c.401-.055.742-.265.969-.558l2.831-3.678a1.44 1.44 0 00.247-.496 1.38 1.38 0 00.037-.571l-1.154-8.376 8.51-1.154c.4-.055.74-.265.967-.558l2.83-3.678.002-.001a1.44 1.44 0 00.249-.496c.049-.18.064-.373.037-.57l-1.406-10.181a1.425 1.425 0 00-.564-.952 1.47 1.47 0 00-1.084-.28l-11.788 1.602-1.601-11.609a1.427 1.427 0 00-.565-.953 1.47 1.47 0 00-.85-.292h-.06z\" fill=\"url(#ps-plus__a)\" transform=\"translate(10 10)\"></path><path d=\"M26.047 0a1.452 1.452 0 00-.172.014L15.537 1.417c-.2.027-.385.093-.549.188a1.447 1.447 0 00-.668.865 1.438 1.438 0 00-.037.572l1.603 11.608-11.789 1.6c-.2.028-.385.093-.548.19a1.434 1.434 0 00-.667.864c-.05.181-.065.374-.037.573l1.404 10.179c.055.393.266.728.565.952.298.222.683.333 1.082.28l11.789-1.6 1.602 11.607c.054.394.266.73.564.952.298.222.682.334 1.084.28l10.337-1.405a1.48 1.48 0 00.969-.557 1.44 1.44 0 00.246-.496c.051-.18.065-.374.038-.571L30.923 25.89l11.788-1.6a1.46 1.46 0 00.968-.56 1.44 1.44 0 00.249-.495c.049-.181.064-.373.037-.57l-1.406-10.181a1.425 1.425 0 00-.564-.952 1.47 1.47 0 00-1.083-.28l-11.789 1.602-1.601-11.609a1.427 1.427 0 00-.565-.953 1.47 1.47 0 00-.85-.292h-.06z\" fill=\"url(#ps-plus__b)\" transform=\"translate(10 10)\"></path><path d=\"M37.782 38.669l1.227.924-2.726 3.562 3.59 2.705-.93 1.217-3.592-2.704-2.728 3.561-1.226-.924 2.727-3.562-3.592-2.704.932-1.218 3.591 2.706 2.727-3.563zM23.73 27.4l1.133 8.213-8.28 1.123-1.134-8.212L23.73 27.4zm-1.317 1.721l-5.228.71.716 5.184 5.226-.71-.714-5.184zm28.582-1.239c.344 2.491-1.414 4.788-3.926 5.13-2.512.34-4.828-1.404-5.172-3.895-.344-2.492 1.415-4.787 3.926-5.128 2.513-.341 4.828 1.401 5.172 3.893zm-4.963-2.38c-1.666.226-2.836 1.756-2.609 3.408.23 1.653 1.77 2.813 3.437 2.586 1.666-.226 2.836-1.754 2.609-3.407-.23-1.652-1.77-2.813-3.437-2.587zM30.855 12.646l6.382 7.98L27.1 22.002l3.756-9.356zm.447 3.018l-1.794 4.468 4.843-.657-3.049-3.811z\" fill=\"#C3862C\"></path></g></symbol></svg></div><svg aria-hidden=\"true\" focusable=\"false\"><title></title><use href=\"#ps-icon:ps-plus:458\"></use></svg></span></span><span class=\"psw-c-t-ps-plus psw-m-r-3\" data-qa=\"mfeUpsell#productEdition2#ctaWithPrice#offer0#discountInfo\">このゲームや、ゲームカタログに含まれる他の多数のゲームをプレイするには、PlayStation Plusエクストラに加入してください</span></span></span></span></div></label><div class=\"psw-m-t-6 psw-fill-x\" data-qa=\"mfeUpsell#productEdition2#ctaWithPrice#cta\"><div class=\"psw-fill-x\" data-flip-key=\"cta-action-0\"><div aria-hidden=\"false\" class=\"psw-l-anchor\" data-qa=\"inline-toast\" style=\"perspective:2000px;transition:height 400ms ease, opacity 400ms ease\"><div style=\"transform:translateZ(-NaNpx);transform-style:preserve-3d\"><div style=\"transition:transform 300ms ease-in;transform-style:preserve-3d;transform:rotateX(0deg)\"><div aria-hidden=\"true\" class=\"psw-l-line-left psw-hidden\" data-qa=\"inline-toast#cta-spacer\"><button class=\"psw-fill-x dtm-track psw-button psw-b-0 psw-t-button psw-l-line-center psw-button-sizing psw-button-sizing--medium psw-purchase-button psw-solid-button\" data-qa=\"inline-toast#hiddenCta\" data-telemetry-meta='{\"conceptId\":\"205354\",\"ctaIndex\":0,\"ctaSubType\":\"upsell_ps_plus_game_catalog\",\"ctaType\":\"UPSELL_PS_PLUS_GAME_CATALOG\",\"interactAction\":\"click subscribe\",\"interactCta\":\"subscribe\",\"productId\":\"JP9000-CUSA08347_00-UNCHD4LOSTLEGACY\",\"productDetail\":[{\"productId\":\"JP9000-CUSA08347_00-UNCHD4LOSTLEGACY\",\"productName\":\"アンチャーテッド 古代神の秘宝 PlayStation®Hits\",\"productToSkuIds\":[\"JP9000-CUSA08347_00-UNCHD4LOSTLEGACY-J007\"],\"productPriceDetail\":[{\"rewardId\":\"SUB001-SUBC00002_00-7MMVCT3Q0SK0S2UN\",\"offerCampaignId\":null,\"originalPriceFormatted\":\"¥2,189\",\"originalPriceValue\":2189,\"discountPriceFormatted\":\"含まれます\",\"discountPriceValue\":0,\"priceCurrencyCode\":\"JPY\",\"offerBranding\":\"PS_PLUS\",\"offerQualification\":[{\"__typename\":\"Qualification\",\"type\":\"ENTITLEMENT_IN_CART\",\"value\":\"SUB001-SUBC00002_00-7MMVCT3Q0SK0S2UN\"}],\"offerExclusive\":true,\"offerApplied\":false,\"offerApplicability\":\"UPSELL\",\"offerIsTiedToSubscription\":true}]}],\"skuDetail\":[{\"skuId\":\"JP9000-CUSA08347_00-UNCHD4LOSTLEGACY-J007\",\"skuPriceDetail\":[{\"rewardId\":\"SUB001-SUBC00002_00-7MMVCT3Q0SK0S2UN\",\"offerCampaignId\":null,\"originalPriceFormatted\":\"¥2,189\",\"originalPriceValue\":2189,\"discountPriceFormatted\":\"含まれます\",\"discountPriceValue\":0,\"priceCurrencyCode\":\"JPY\",\"offerBranding\":\"PS_PLUS\",\"offerQualification\":[{\"__typename\":\"Qualification\",\"type\":\"ENTITLEMENT_IN_CART\",\"value\":\"SUB001-SUBC00002_00-7MMVCT3Q0SK0S2UN\"}],\"offerExclusive\":true,\"offerApplied\":false,\"offerApplicability\":\"UPSELL\",\"offerIsTiedToSubscription\":true}],\"skuName\":\"ゲーム本編\"}],\"titleId\":\"CUSA08347_00\"}' data-track='{\"eventInfo\":{\"eventAction\":\"click\",\"eventName\":\"subscribe\"},\"attributes\":{\"moduleName\":\"version selector\",\"assetName\":\"\",\"label\":\"subscribe\",\"position\":\"1\",\"linkUrl\":\"\",\"elementType\":\"button\",\"userActionFlag\":false,\"sku\":\"JP9000-CUSA08347_00-UNCHD4LOSTLEGACY-J007\"}}' data-track-click=\"ctaWithPrice:subscribe\" id=\"\" name=\"\" type=\"button\" value=\"\"><span class=\"psw-fill-x psw-t-truncate-1 psw-l-space-x-2\">購読</span></button><button class=\"psw-m-l-4 psw-button psw-b-0 psw-t-button psw-l-line-center psw-button-sizing psw-button-sizing--medium psw-button-sizing--icon-only psw-secondary-button psw-solid-button psw-with-icon\" data-qa=\"inline-toast#hiddenCta\" data-telemetry-meta='{\"productId\":null,\"conceptId\":null}' data-track-click=\"ctaWithPrice:addToWishlist\" id=\"\" name=\"\" type=\"button\" value=\"\"><span class=\"psw-fill-x psw-l-line-center\"><span class=\"psw-icon psw-icon--unfavorite psw-icon psw-icon-size-2 psw-icon--unfavorite\" data-qa=\"inline-toast#hiddenCta#icon\"><div class=\"psw-hide\" data-original-icon-id=\"ps-icon:unfavorite\"><svg xmlns=\"http://www.w3.org/2000/svg\"><symbol id=\"ps-icon:unfavorite:459\" viewbox=\"0 0 64 64\"><path d=\"M40.045 12.5c3.052 0 5.9 1.388 7.98 3.785 2.045 2.35 3.205 5.503 3.205 8.859 0 3.222-1.073 6.266-2.97 8.583l-.232.274-16.663 19.161L14.71 34.003c-2.046-2.344-3.208-5.501-3.211-8.859 0-3.35 1.164-6.503 3.21-8.86 2.086-2.398 4.931-3.787 7.975-3.784 3.054 0 5.903 1.387 7.98 3.78.186.213.365.435.537.667l.163.229.164-.231c.086-.116.173-.229.262-.34l.272-.324c2.084-2.398 4.93-3.784 7.982-3.781zm5.715 5.753c-1.529-1.762-3.562-2.753-5.717-2.753-2.153-.002-4.185.987-5.718 2.751-.535.613-1.005 1.362-1.41 2.236l-.17.383-1.385 3.26-1.377-3.264c-.435-1.032-.962-1.909-1.58-2.615-1.528-1.76-3.562-2.751-5.72-2.751-2.144-.002-4.176.99-5.709 2.751-1.568 1.808-2.474 4.262-2.474 6.892.002 2.519.826 4.871 2.264 6.641l.21.249L31.365 48.59l14.398-16.557c1.492-1.716 2.383-4.033 2.46-6.531l.006-.358c0-2.518-.822-4.867-2.26-6.642l-.21-.25z\" fill-rule=\"nonzero\" stroke=\"none\" stroke-width=\"1\"></path></symbol></svg></div><svg role=\"img\"><title>欲しいリストに追加</title><use href=\"#ps-icon:unfavorite:459\"></use></svg></span></span></button></div><div aria-hidden=\"true\" class=\"psw-fill-x psw-top-left psw-l-line-center\" data-qa=\"inline-toast#slot2\" style=\"transition:opacity 300ms ease-in;opacity:0;transform:rotateX(90deg) translateZ(NaNpx)\"></div><div aria-hidden=\"false\" class=\"psw-fill-x psw-top-left psw-l-line-center\" data-qa=\"inline-toast#slot1\" style=\"transition:opacity 300ms ease-in;opacity:1;transform:rotateX(0deg) translateZ(NaNpx)\"><button class=\"psw-fill-x dtm-track psw-button psw-b-0 psw-t-button psw-l-line-center psw-button-sizing psw-button-sizing--medium psw-purchase-button psw-solid-button\" data-qa=\"mfeUpsell#productEdition2#ctaWithPrice#cta#action\" data-telemetry-meta='{\"conceptId\":\"205354\",\"ctaIndex\":0,\"ctaSubType\":\"upsell_ps_plus_game_catalog\",\"ctaType\":\"UPSELL_PS_PLUS_GAME_CATALOG\",\"interactAction\":\"click subscribe\",\"interactCta\":\"subscribe\",\"productId\":\"JP9000-CUSA08347_00-UNCHD4LOSTLEGACY\",\"productDetail\":[{\"productId\":\"JP9000-CUSA08347_00-UNCHD4LOSTLEGACY\",\"productName\":\"アンチャーテッド 古代神の秘宝 PlayStation®Hits\",\"productToSkuIds\":[\"JP9000-CUSA08347_00-UNCHD4LOSTLEGACY-J007\"],\"productPriceDetail\":[{\"rewardId\":\"SUB001-SUBC00002_00-7MMVCT3Q0SK0S2UN\",\"offerCampaignId\":null,\"originalPriceFormatted\":\"¥2,189\",\"originalPriceValue\":2189,\"discountPriceFormatted\":\"含まれます\",\"discountPriceValue\":0,\"priceCurrencyCode\":\"JPY\",\"offerBranding\":\"PS_PLUS\",\"offerQualification\":[{\"__typename\":\"Qualification\",\"type\":\"ENTITLEMENT_IN_CART\",\"value\":\"SUB001-SUBC00002_00-7MMVCT3Q0SK0S2UN\"}],\"offerExclusive\":true,\"offerApplied\":false,\"offerApplicability\":\"UPSELL\",\"offerIsTiedToSubscription\":true}]}],\"skuDetail\":[{\"skuId\":\"JP9000-CUSA08347_00-UNCHD4LOSTLEGACY-J007\",\"skuPriceDetail\":[{\"rewardId\":\"SUB001-SUBC00002_00-7MMVCT3Q0SK0S2UN\",\"offerCampaignId\":null,\"originalPriceFormatted\":\"¥2,189\",\"originalPriceValue\":2189,\"discountPriceFormatted\":\"含まれます\",\"discountPriceValue\":0,\"priceCurrencyCode\":\"JPY\",\"offerBranding\":\"PS_PLUS\",\"offerQualification\":[{\"__typename\":\"Qualification\",\"type\":\"ENTITLEMENT_IN_CART\",\"value\":\"SUB001-SUBC00002_00-7MMVCT3Q0SK0S2UN\"}],\"offerExclusive\":true,\"offerApplied\":false,\"offerApplicability\":\"UPSELL\",\"offerIsTiedToSubscription\":true}],\"skuName\":\"ゲーム本編\"}],\"titleId\":\"CUSA08347_00\"}' data-track='{\"eventInfo\":{\"eventAction\":\"click\",\"eventName\":\"subscribe\"},\"attributes\":{\"moduleName\":\"version selector\",\"assetName\":\"\",\"label\":\"subscribe\",\"position\":\"1\",\"linkUrl\":\"\",\"elementType\":\"button\",\"userActionFlag\":false,\"sku\":\"JP9000-CUSA08347_00-UNCHD4LOSTLEGACY-J007\"}}' data-track-click=\"ctaWithPrice:subscribe\" id=\"\" name=\"\" type=\"button\" value=\"\"><span class=\"psw-fill-x psw-t-truncate-1 psw-l-space-x-2\">購読</span></button><button class=\"psw-m-l-4 psw-button psw-b-0 psw-t-button psw-l-line-center psw-button-sizing psw-button-sizing--medium psw-button-sizing--icon-only psw-secondary-button psw-solid-button psw-with-icon\" data-qa=\"wishlistToggle\" data-telemetry-meta='{\"productId\":null,\"conceptId\":null}' data-track-click=\"ctaWithPrice:addToWishlist\" id=\"\" name=\"\" type=\"button\" value=\"\"><span class=\"psw-fill-x psw-l-line-center\"><span class=\"psw-icon psw-icon--unfavorite psw-icon psw-icon-size-2 psw-icon--unfavorite\" data-qa=\"wishlistToggle#icon\"><div class=\"psw-hide\" data-original-icon-id=\"ps-icon:unfavorite\"><svg xmlns=\"http://www.w3.org/2000/svg\"><symbol id=\"ps-icon:unfavorite:460\" viewbox=\"0 0 64 64\"><path d=\"M40.045 12.5c3.052 0 5.9 1.388 7.98 3.785 2.045 2.35 3.205 5.503 3.205 8.859 0 3.222-1.073 6.266-2.97 8.583l-.232.274-16.663 19.161L14.71 34.003c-2.046-2.344-3.208-5.501-3.211-8.859 0-3.35 1.164-6.503 3.21-8.86 2.086-2.398 4.931-3.787 7.975-3.784 3.054 0 5.903 1.387 7.98 3.78.186.213.365.435.537.667l.163.229.164-.231c.086-.116.173-.229.262-.34l.272-.324c2.084-2.398 4.93-3.784 7.982-3.781zm5.715 5.753c-1.529-1.762-3.562-2.753-5.717-2.753-2.153-.002-4.185.987-5.718 2.751-.535.613-1.005 1.362-1.41 2.236l-.17.383-1.385 3.26-1.377-3.264c-.435-1.032-.962-1.909-1.58-2.615-1.528-1.76-3.562-2.751-5.72-2.751-2.144-.002-4.176.99-5.709 2.751-1.568 1.808-2.474 4.262-2.474 6.892.002 2.519.826 4.871 2.264 6.641l.21.249L31.365 48.59l14.398-16.557c1.492-1.716 2.383-4.033 2.46-6.531l.006-.358c0-2.518-.822-4.867-2.26-6.642l-.21-.25z\" fill-rule=\"nonzero\" stroke=\"none\" stroke-width=\"1\"></path></symbol></svg></div><svg role=\"img\"><title>欲しいリストに追加</title><use href=\"#ps-icon:unfavorite:460\"></use></svg></span></span></button></div></div></div></div></div></div></div><div class=\"psw-layer psw-loading-block psw-r-2\" data-qa=\"mfeUpsell#productEdition2#ctaWithPrice#loadingOverlay\"></div></div></div></div></article></div></div></div></div></div><div class=\"psw-m-t-10 psw-fill-x\"><div class=\"pdp-add-ons\"><script id=\"env:beee8130-df30-11ee-93fe-03278a72a71a\" type=\"application/json\">{\"args\":{\"conceptId\":\"205354\"},\"overrides\":{\"theme\":\"dark\",\"locale\":\"ja-jp\"},\"cache\":{\"Concept:205354\":{\"id\":\"205354\",\"__typename\":\"Concept\",\"invariantName\":\"UNCHARTED: Legacy of Thieves Collection\",\"localizedGenres\":[{\"__typename\":\"LocalizedGenre\",\"value\":\"アクション\"},{\"__typename\":\"LocalizedGenre\",\"value\":\"アドベンチャー\"}]},\"Sku:JP9000-CUSA00949_00-P100000000000000-J002\":{\"id\":\"JP9000-CUSA00949_00-P100000000000000-J002\",\"__typename\":\"Sku\",\"name\":\"PS4®用\",\"type\":\"STANDARD\"},\"Product:JP9000-CUSA00949_00-P100000000000000\":{\"id\":\"JP9000-CUSA00949_00-P100000000000000\",\"__typename\":\"Product\",\"boxArt\":{\"__typename\":\"Media\",\"url\":\"https://image.api.playstation.com/cdn/JP9000/CUSA00949_00/Kzaa7Z6M2Zb92hHqtHA2Zz62y6XBFB7l.png\",\"altText\":null},\"concept\":{\"__ref\":\"Concept:205354\"},\"contentRating\":{\"__typename\":\"ProductContentRating\",\"name\":\"CERO_C\"},\"invariantName\":\"10000 Uncharted Points\",\"localizedGenres\":[{\"__typename\":\"LocalizedGenre\",\"value\":\"アクション\"}],\"localizedStoreDisplayClassification\":\"追加コンテンツ\",\"name\":\"アンチャーテッドポイント10,000(5,000+ボーナス5,000)\",\"platforms\":[],\"skus\":[{\"__ref\":\"Sku:JP9000-CUSA00949_00-P100000000000000-J002\"}],\"storeDisplayClassification\":\"OTHER\",\"type\":\"GAME\",\"price\":{\"__typename\":\"SkuPrice\",\"discountedPrice\":\"¥5,500\",\"discountText\":null,\"isExclusive\":false,\"upsellText\":null,\"upsellServiceBranding\":[\"NONE\"],\"serviceBranding\":[\"NONE\"],\"basePrice\":\"¥5,500\",\"isFree\":false,\"isTiedToSubscription\":false}},\"Sku:JP9000-CUSA00949_00-P005000000000000-J002\":{\"id\":\"JP9000-CUSA00949_00-P005000000000000-J002\",\"__typename\":\"Sku\",\"name\":\"PS4®用\",\"type\":\"STANDARD\"},\"Product:JP9000-CUSA00949_00-P005000000000000\":{\"id\":\"JP9000-CUSA00949_00-P005000000000000\",\"__typename\":\"Product\",\"boxArt\":{\"__typename\":\"Media\",\"url\":\"https://image.api.playstation.com/cdn/JP9000/CUSA00949_00/ofGxJfFDcJd8ZbklndhJohSwbKwKiAA7.png\",\"altText\":null},\"concept\":{\"__ref\":\"Concept:205354\"},\"contentRating\":{\"__typename\":\"ProductContentRating\",\"name\":\"CERO_C\"},\"invariantName\":\"500 Uncharted Points\",\"localizedGenres\":[{\"__typename\":\"LocalizedGenre\",\"value\":\"アクション\"}],\"localizedStoreDisplayClassification\":\"追加コンテンツ\",\"name\":\"アンチャーテッドポイント500\",\"platforms\":[],\"skus\":[{\"__ref\":\"Sku:JP9000-CUSA00949_00-P005000000000000-J002\"}],\"storeDisplayClassification\":\"OTHER\",\"type\":\"GAME\",\"price\":{\"__typename\":\"SkuPrice\",\"discountedPrice\":\"¥550\",\"discountText\":null,\"isExclusive\":false,\"upsellText\":null,\"upsellServiceBranding\":[\"NONE\"],\"serviceBranding\":[\"NONE\"],\"basePrice\":\"¥550\",\"isFree\":false,\"isTiedToSubscription\":false}},\"Sku:JP9000-CUSA00949_00-P032000000000000-J002\":{\"id\":\"JP9000-CUSA00949_00-P032000000000000-J002\",\"__typename\":\"Sku\",\"name\":\"PS4®用\",\"type\":\"STANDARD\"},\"Product:JP9000-CUSA00949_00-P032000000000000\":{\"id\":\"JP9000-CUSA00949_00-P032000000000000\",\"__typename\":\"Product\",\"boxArt\":{\"__typename\":\"Media\",\"url\":\"https://image.api.playstation.com/cdn/JP9000/CUSA00949_00/fQugj5rc1K68ay3ZaxZd8jobA98NWZPs.png\",\"altText\":null},\"concept\":{\"__ref\":\"Concept:205354\"},\"contentRating\":{\"__typename\":\"ProductContentRating\",\"name\":\"CERO_C\"},\"invariantName\":\"3200 Uncharted Points\",\"localizedGenres\":[{\"__typename\":\"LocalizedGenre\",\"value\":\"アクション\"}],\"localizedStoreDisplayClassification\":\"追加コンテンツ\",\"name\":\"アンチャーテッドポイント3,200(2,000+ボーナス1,200)\",\"platforms\":[],\"skus\":[{\"__ref\":\"Sku:JP9000-CUSA00949_00-P032000000000000-J002\"}],\"storeDisplayClassification\":\"OTHER\",\"type\":\"GAME\",\"price\":{\"__typename\":\"SkuPrice\",\"discountedPrice\":\"¥2,200\",\"discountText\":null,\"isExclusive\":false,\"upsellText\":null,\"upsellServiceBranding\":[\"NONE\"],\"serviceBranding\":[\"NONE\"],\"basePrice\":\"¥2,200\",\"isFree\":false,\"isTiedToSubscription\":false}},\"Sku:JP9000-CUSA00949_00-P003000000000000-J002\":{\"id\":\"JP9000-CUSA00949_00-P003000000000000-J002\",\"__typename\":\"Sku\",\"name\":\"PS4®用\",\"type\":\"STANDARD\"},\"Product:JP9000-CUSA00949_00-P003000000000000\":{\"id\":\"JP9000-CUSA00949_00-P003000000000000\",\"__typename\":\"Product\",\"boxArt\":{\"__typename\":\"Media\",\"url\":\"https://image.api.playstation.com/cdn/JP9000/CUSA00949_00/hb7CGETh87HPt1PbLUCNAVREvhKP0bbl.png\",\"altText\":null},\"concept\":{\"__ref\":\"Concept:205354\"},\"contentRating\":{\"__typename\":\"ProductContentRating\",\"name\":\"CERO_C\"},\"invariantName\":\"300 Uncharted Points\",\"localizedGenres\":[{\"__typename\":\"LocalizedGenre\",\"value\":\"アクション\"}],\"localizedStoreDisplayClassification\":\"追加コンテンツ\",\"name\":\"アンチャーテッドポイント300\",\"platforms\":[],\"skus\":[{\"__ref\":\"Sku:JP9000-CUSA00949_00-P003000000000000-J002\"}],\"storeDisplayClassification\":\"OTHER\",\"type\":\"GAME\",\"price\":{\"__typename\":\"SkuPrice\",\"discountedPrice\":\"¥330\",\"discountText\":null,\"isExclusive\":false,\"upsellText\":null,\"upsellServiceBranding\":[\"NONE\"],\"serviceBranding\":[\"NONE\"],\"basePrice\":\"¥330\",\"isFree\":false,\"isTiedToSubscription\":false}},\"Sku:JP9000-CUSA00949_00-P015000000000000-J002\":{\"id\":\"JP9000-CUSA00949_00-P015000000000000-J002\",\"__typename\":\"Sku\",\"name\":\"PS4®用\",\"type\":\"STANDARD\"},\"Product:JP9000-CUSA00949_00-P015000000000000\":{\"id\":\"JP9000-CUSA00949_00-P015000000000000\",\"__typename\":\"Product\",\"boxArt\":{\"__typename\":\"Media\",\"url\":\"https://image.api.playstation.com/cdn/JP9000/CUSA00949_00/QDdahJx4SrAMAFxbDAaEnfVhvIOR3guX.png\",\"altText\":null},\"concept\":{\"__ref\":\"Concept:205354\"},\"contentRating\":{\"__typename\":\"ProductContentRating\",\"name\":\"CERO_C\"},\"invariantName\":null,\"localizedGenres\":[{\"__typename\":\"LocalizedGenre\",\"value\":\"アクション\"},{\"__typename\":\"LocalizedGenre\",\"value\":\"アドベンチャー\"}],\"localizedStoreDisplayClassification\":\"ゲーム内通貨\",\"name\":\"アンチャーテッドポイント1,500(1,000+ボーナス500)\",\"platforms\":[],\"skus\":[{\"__ref\":\"Sku:JP9000-CUSA00949_00-P015000000000000-J002\"}],\"storeDisplayClassification\":\"VIRTUAL_CURRENCY\",\"type\":\"GAME\",\"price\":{\"__typename\":\"SkuPrice\",\"discountedPrice\":\"¥1,100\",\"discountText\":null,\"isExclusive\":false,\"upsellText\":null,\"upsellServiceBranding\":[\"NONE\"],\"serviceBranding\":[\"NONE\"],\"basePrice\":\"¥1,100\",\"isFree\":false,\"isTiedToSubscription\":false}},\"Sku:JP9000-CUSA00949_00-P065000000000000-J002\":{\"id\":\"JP9000-CUSA00949_00-P065000000000000-J002\",\"__typename\":\"Sku\",\"name\":\"PS4®用\",\"type\":\"STANDARD\"},\"Product:JP9000-CUSA00949_00-P065000000000000\":{\"id\":\"JP9000-CUSA00949_00-P065000000000000\",\"__typename\":\"Product\",\"boxArt\":{\"__typename\":\"Media\",\"url\":\"https://image.api.playstation.com/cdn/JP9000/CUSA00949_00/lTXdKcMJE2Ph9AYOvZRntrkUoyDhA2Z3.png\",\"altText\":null},\"concept\":{\"__ref\":\"Concept:205354\"},\"contentRating\":{\"__typename\":\"ProductContentRating\",\"name\":\"CERO_C\"},\"invariantName\":\"6500 Uncharted Points\",\"localizedGenres\":[{\"__typename\":\"LocalizedGenre\",\"value\":\"アクション\"}],\"localizedStoreDisplayClassification\":\"追加コンテンツ\",\"name\":\"アンチャーテッドポイント6,500(3,500+ボーナス3,000)\",\"platforms\":[],\"skus\":[{\"__ref\":\"Sku:JP9000-CUSA00949_00-P065000000000000-J002\"}],\"storeDisplayClassification\":\"OTHER\",\"type\":\"GAME\",\"price\":{\"__typename\":\"SkuPrice\",\"discountedPrice\":\"¥3,850\",\"discountText\":null,\"isExclusive\":false,\"upsellText\":null,\"upsellServiceBranding\":[\"NONE\"],\"serviceBranding\":[\"NONE\"],\"basePrice\":\"¥3,850\",\"isFree\":false,\"isTiedToSubscription\":false}},\"Sku:JP9000-CUSA00949_00-PHURBADAGERTAUNT-J001\":{\"id\":\"JP9000-CUSA00949_00-PHURBADAGERTAUNT-J001\",\"__typename\":\"Sku\",\"name\":\"PS4®用\",\"type\":\"STANDARD\"},\"Product:JP9000-CUSA00949_00-PHURBADAGERTAUNT\":{\"id\":\"JP9000-CUSA00949_00-PHURBADAGERTAUNT\",\"__typename\":\"Product\",\"boxArt\":{\"__typename\":\"Media\",\"url\":\"https://image.api.playstation.com/cdn/JP9000/CUSA00949_00/nroxHQp5yBwThSHWbqEMg0gCervedgI9.png\",\"altText\":null},\"concept\":{\"__ref\":\"Concept:205354\"},\"contentRating\":{\"__typename\":\"ProductContentRating\",\"name\":\"CERO_C\"},\"invariantName\":\"Uncharted®4 - Phurba Dagger Taunt\",\"localizedGenres\":[{\"__typename\":\"LocalizedGenre\",\"value\":\"アクション\"}],\"localizedStoreDisplayClassification\":\"アイテム\",\"name\":\"オンラインマルチプレイ用 黄金刀のジェスチャー\",\"platforms\":[\"PS4\"],\"skus\":[{\"__ref\":\"Sku:JP9000-CUSA00949_00-PHURBADAGERTAUNT-J001\"}],\"storeDisplayClassification\":\"ITEM\",\"type\":\"GAME\",\"price\":{\"__typename\":\"SkuPrice\",\"discountedPrice\":\"ご利用いただけません\",\"discountText\":null,\"isExclusive\":false,\"upsellText\":null,\"upsellServiceBranding\":[],\"serviceBranding\":null,\"basePrice\":\"ご利用いただけません\",\"isFree\":false,\"isTiedToSubscription\":null}},\"Sku:JP9000-CUSA00949_00-UTLLMPUNLOCK0001-J001\":{\"id\":\"JP9000-CUSA00949_00-UTLLMPUNLOCK0001-J001\",\"__typename\":\"Sku\",\"name\":\"PS4®用\",\"type\":\"STANDARD\"},\"Product:JP9000-CUSA00949_00-UTLLMPUNLOCK0001\":{\"id\":\"JP9000-CUSA00949_00-UTLLMPUNLOCK0001\",\"__typename\":\"Product\",\"boxArt\":{\"__typename\":\"Media\",\"url\":\"https://image.api.playstation.com/cdn/JP9000/CUSA00949_00/RLQ1wYe9XvtBaxrmxuI2LQmmWWRW7ZIW.png\",\"altText\":null},\"concept\":{\"__ref\":\"Concept:205354\"},\"contentRating\":{\"__typename\":\"ProductContentRating\",\"name\":\"CERO_C\"},\"invariantName\":\"Uncharted® 4 & Uncharted: The Lost Legacy MP Enhancement\",\"localizedGenres\":[{\"__typename\":\"LocalizedGenre\",\"value\":\"アクション\"}],\"localizedStoreDisplayClassification\":\"追加コンテンツ\",\"name\":\"マルチプレイ用初心者応援アップデート「武器＆スキルセット」\",\"platforms\":[\"PS4\"],\"skus\":[{\"__ref\":\"Sku:JP9000-CUSA00949_00-UTLLMPUNLOCK0001-J001\"}],\"storeDisplayClassification\":\"OTHER\",\"type\":\"GAME\",\"price\":{\"__typename\":\"SkuPrice\",\"discountedPrice\":\"無料\",\"discountText\":null,\"isExclusive\":false,\"upsellText\":null,\"upsellServiceBranding\":[\"NONE\"],\"serviceBranding\":[\"NONE\"],\"basePrice\":\"無料\",\"isFree\":true,\"isTiedToSubscription\":false}},\"ROOT_QUERY\":{\"__typename\":\"Query\",\"addOnProductsRetrieve({\\\"conceptId\\\":\\\"205354\\\",\\\"pageArgs\\\":{\\\"size\\\":48}})\":{\"__typename\":\"AddOnProducts\",\"addOnProducts\":[{\"__ref\":\"Product:JP9000-CUSA00949_00-P100000000000000\"},{\"__ref\":\"Product:JP9000-CUSA00949_00-P005000000000000\"},{\"__ref\":\"Product:JP9000-CUSA00949_00-P032000000000000\"},{\"__ref\":\"Product:JP9000-CUSA00949_00-P003000000000000\"},{\"__ref\":\"Product:JP9000-CUSA00949_00-P015000000000000\"},{\"__ref\":\"Product:JP9000-CUSA00949_00-P065000000000000\"},{\"__ref\":\"Product:JP9000-CUSA00949_00-PHURBADAGERTAUNT\"},{\"__ref\":\"Product:JP9000-CUSA00949_00-UTLLMPUNLOCK0001\"}]}}},\"translations\":{\"msgid_add_ons\":\"追加コンテンツ\",\"msgid_view_more\":\"さらに表示\"}}</script><div class=\"psw-root psw-dark-theme\" data-initial=\"env:beee8130-df30-11ee-93fe-03278a72a71a\" data-mfe-name=\"addOns\"><div data-reactroot=\"\"><h2 class=\"psw-t-title-l psw-t-align-c psw-m-b-9\" data-qa=\"add-ons-title\">追加コンテンツ</h2><div class=\"psw-preview-grid-list\"><ul class=\"psw-l-gap-y-6 psw-preview-size-s psw-grid-list psw-l-grid\" data-qa=\"add-ons\"><li><div data-telemetry-meta='{\"conceptId\":\"205354\",\"tile\":{\"productId\":\"JP9000-CUSA00949_00-P100000000000000\"},\"tilePosition\":0}' data-track='{\"eventInfo\":{\"eventAction\":\"impression\",\"eventName\":\"add on tile impression\"},\"attributes\":{\"moduleName\":\"add ons\",\"assetName\":\"\",\"label\":\"add on tile\",\"position\":\"\",\"linkUrl\":\"\",\"elementType\":\"\",\"userActionFlag\":false}}' data-track-content=\"addOns:tileImpression\"></div><a aria-label=\"\" class=\"psw-link psw-content-link\" data-qa=\"\" data-telemetry-meta='{\"conceptId\":\"205354\",\"tile\":{\"productId\":\"JP9000-CUSA00949_00-P100000000000000\"},\"tilePosition\":0}' data-track='{\"eventInfo\":{\"eventAction\":\"click\",\"eventName\":\"click add-on tile\"},\"attributes\":{\"moduleName\":\"add ons\",\"assetName\":\"\",\"label\":\"add on tile\",\"position\":\"\",\"linkUrl\":\"\",\"elementType\":\"link\",\"userActionFlag\":true}}' data-track-click=\"addOns:addOnTileClick\" href=\"https://store.playstation.com/ja-jp/product/JP9000-CUSA00949_00-P100000000000000\" id=\"\" rel=\"noopener noreferrer\" type=\"\"><div class=\"psw-product-tile psw-interactive-root\" data-qa=\"add-ons-grid#0\"><div class=\"psw-ally-indicator psw-ally-indicator-gap-1 psw-show-on-hover psw-b-0 psw-game-art psw-fill psw-l-anchor\" data-qa=\"add-ons-grid#0#game-art\"><div class=\"psw-game-art__container psw-l-anchor-top-left psw-l-top-left psw-fill psw-r-2 psw-clip\"><span class=\"psw-illustration psw-illustration--default-product-image default-product-img\" data-qa=\"\"><div class=\"psw-hide\" data-original-icon-id=\"ps-illustration:default-product-image\"><svg></svg></div><svg aria-hidden=\"true\" focusable=\"false\"><title></title><use href=\"#ps-illustration:default-product-image:192\"></use></svg></span><span class=\"psw-media-frame psw-fill-x psw-image psw-media psw-media-interactive psw-aspect-1-1\" data-qa=\"add-ons-grid#0#game-art#image\" style=\"width:100%;min-width:100%\"><img aria-hidden=\"true\" class=\"psw-blur psw-top-left psw-l-fit-cover\" data-qa=\"add-ons-grid#0#game-art#image#preview\" loading=\"lazy\" src=\"https://image.api.playstation.com/cdn/JP9000/CUSA00949_00/Kzaa7Z6M2Zb92hHqtHA2Zz62y6XBFB7l.png?w=54&amp;thumb=true\"/><noscript class=\"psw-layer\"><img class=\"psw-top-left psw-l-fit-cover\" data-qa=\"add-ons-grid#0#game-art#image#image-no-js\" loading=\"lazy\" src=\"https://image.api.playstation.com/cdn/JP9000/CUSA00949_00/Kzaa7Z6M2Zb92hHqtHA2Zz62y6XBFB7l.png\"/></noscript></span></div><div class=\"psw-l-anchor-bottom-left psw-l-bottom-left psw-m-l-3 psw-m-sub-t-3\"><div class=\"psw-l-cluster psw-l-gap-2\" data-qa=\"add-ons-grid#0#game-art\"></div></div></div><section class=\"psw-product-tile__details psw-m-t-2\" data-qa=\"add-ons-grid#0#details\"><span class=\"psw-product-tile__product-type psw-t-bold psw-t-size-1 psw-t-truncate-1 psw-c-t-2 psw-t-uppercase psw-m-b-1\" data-qa=\"add-ons-grid#0#product-type\">追加コンテンツ</span><span class=\"psw-t-body psw-c-t-1 psw-t-truncate-2 psw-m-b-2\" data-qa=\"add-ons-grid#0#product-name\">アンチャーテッドポイント10,000(5,000+ボーナス5,000)</span><div class=\"psw-fill-x psw-price psw-l-inline psw-l-line-left-top\" data-qa=\"add-ons-grid#0#price\"><div class=\"psw-l-line-left-top psw-l-line-wrap psw-clip psw-t-h-body-1\"><span aria-hidden=\"false\" class=\"psw-m-r-3\" data-qa=\"add-ons-grid#0#price#display-price\">¥5,500</span></div></div></section></div></a></li><li><div data-telemetry-meta='{\"conceptId\":\"205354\",\"tile\":{\"productId\":\"JP9000-CUSA00949_00-P005000000000000\"},\"tilePosition\":1}' data-track='{\"eventInfo\":{\"eventAction\":\"impression\",\"eventName\":\"add on tile impression\"},\"attributes\":{\"moduleName\":\"add ons\",\"assetName\":\"\",\"label\":\"add on tile\",\"position\":\"\",\"linkUrl\":\"\",\"elementType\":\"\",\"userActionFlag\":false}}' data-track-content=\"addOns:tileImpression\"></div><a aria-label=\"\" class=\"psw-link psw-content-link\" data-qa=\"\" data-telemetry-meta='{\"conceptId\":\"205354\",\"tile\":{\"productId\":\"JP9000-CUSA00949_00-P005000000000000\"},\"tilePosition\":1}' data-track='{\"eventInfo\":{\"eventAction\":\"click\",\"eventName\":\"click add-on tile\"},\"attributes\":{\"moduleName\":\"add ons\",\"assetName\":\"\",\"label\":\"add on tile\",\"position\":\"\",\"linkUrl\":\"\",\"elementType\":\"link\",\"userActionFlag\":true}}' data-track-click=\"addOns:addOnTileClick\" href=\"https://store.playstation.com/ja-jp/product/JP9000-CUSA00949_00-P005000000000000\" id=\"\" rel=\"noopener noreferrer\" type=\"\"><div class=\"psw-product-tile psw-interactive-root\" data-qa=\"add-ons-grid#1\"><div class=\"psw-ally-indicator psw-ally-indicator-gap-1 psw-show-on-hover psw-b-0 psw-game-art psw-fill psw-l-anchor\" data-qa=\"add-ons-grid#1#game-art\"><div class=\"psw-game-art__container psw-l-anchor-top-left psw-l-top-left psw-fill psw-r-2 psw-clip\"><span class=\"psw-illustration psw-illustration--default-product-image default-product-img\" data-qa=\"\"><div class=\"psw-hide\" data-original-icon-id=\"ps-illustration:default-product-image\"><svg></svg></div><svg aria-hidden=\"true\" focusable=\"false\"><title></title><use href=\"#ps-illustration:default-product-image:193\"></use></svg></span><span class=\"psw-media-frame psw-fill-x psw-image psw-media psw-media-interactive psw-aspect-1-1\" data-qa=\"add-ons-grid#1#game-art#image\" style=\"width:100%;min-width:100%\"><img aria-hidden=\"true\" class=\"psw-blur psw-top-left psw-l-fit-cover\" data-qa=\"add-ons-grid#1#game-art#image#preview\" loading=\"lazy\" src=\"https://image.api.playstation.com/cdn/JP9000/CUSA00949_00/ofGxJfFDcJd8ZbklndhJohSwbKwKiAA7.png?w=54&amp;thumb=true\"/><noscript class=\"psw-layer\"><img class=\"psw-top-left psw-l-fit-cover\" data-qa=\"add-ons-grid#1#game-art#image#image-no-js\" loading=\"lazy\" src=\"https://image.api.playstation.com/cdn/JP9000/CUSA00949_00/ofGxJfFDcJd8ZbklndhJohSwbKwKiAA7.png\"/></noscript></span></div><div class=\"psw-l-anchor-bottom-left psw-l-bottom-left psw-m-l-3 psw-m-sub-t-3\"><div class=\"psw-l-cluster psw-l-gap-2\" data-qa=\"add-ons-grid#1#game-art\"></div></div></div><section class=\"psw-product-tile__details psw-m-t-2\" data-qa=\"add-ons-grid#1#details\"><span class=\"psw-product-tile__product-type psw-t-bold psw-t-size-1 psw-t-truncate-1 psw-c-t-2 psw-t-uppercase psw-m-b-1\" data-qa=\"add-ons-grid#1#product-type\">追加コンテンツ</span><span class=\"psw-t-body psw-c-t-1 psw-t-truncate-2 psw-m-b-2\" data-qa=\"add-ons-grid#1#product-name\">アンチャーテッドポイント500</span><div class=\"psw-fill-x psw-price psw-l-inline psw-l-line-left-top\" data-qa=\"add-ons-grid#1#price\"><div class=\"psw-l-line-left-top psw-l-line-wrap psw-clip psw-t-h-body-1\"><span aria-hidden=\"false\" class=\"psw-m-r-3\" data-qa=\"add-ons-grid#1#price#display-price\">¥550</span></div></div></section></div></a></li><li><div data-telemetry-meta='{\"conceptId\":\"205354\",\"tile\":{\"productId\":\"JP9000-CUSA00949_00-P032000000000000\"},\"tilePosition\":2}' data-track='{\"eventInfo\":{\"eventAction\":\"impression\",\"eventName\":\"add on tile impression\"},\"attributes\":{\"moduleName\":\"add ons\",\"assetName\":\"\",\"label\":\"add on tile\",\"position\":\"\",\"linkUrl\":\"\",\"elementType\":\"\",\"userActionFlag\":false}}' data-track-content=\"addOns:tileImpression\"></div><a aria-label=\"\" class=\"psw-link psw-content-link\" data-qa=\"\" data-telemetry-meta='{\"conceptId\":\"205354\",\"tile\":{\"productId\":\"JP9000-CUSA00949_00-P032000000000000\"},\"tilePosition\":2}' data-track='{\"eventInfo\":{\"eventAction\":\"click\",\"eventName\":\"click add-on tile\"},\"attributes\":{\"moduleName\":\"add ons\",\"assetName\":\"\",\"label\":\"add on tile\",\"position\":\"\",\"linkUrl\":\"\",\"elementType\":\"link\",\"userActionFlag\":true}}' data-track-click=\"addOns:addOnTileClick\" href=\"https://store.playstation.com/ja-jp/product/JP9000-CUSA00949_00-P032000000000000\" id=\"\" rel=\"noopener noreferrer\" type=\"\"><div class=\"psw-product-tile psw-interactive-root\" data-qa=\"add-ons-grid#2\"><div class=\"psw-ally-indicator psw-ally-indicator-gap-1 psw-show-on-hover psw-b-0 psw-game-art psw-fill psw-l-anchor\" data-qa=\"add-ons-grid#2#game-art\"><div class=\"psw-game-art__container psw-l-anchor-top-left psw-l-top-left psw-fill psw-r-2 psw-clip\"><span class=\"psw-illustration psw-illustration--default-product-image default-product-img\" data-qa=\"\"><div class=\"psw-hide\" data-original-icon-id=\"ps-illustration:default-product-image\"><svg></svg></div><svg aria-hidden=\"true\" focusable=\"false\"><title></title><use href=\"#ps-illustration:default-product-image:194\"></use></svg></span><span class=\"psw-media-frame psw-fill-x psw-image psw-media psw-media-interactive psw-aspect-1-1\" data-qa=\"add-ons-grid#2#game-art#image\" style=\"width:100%;min-width:100%\"><img aria-hidden=\"true\" class=\"psw-blur psw-top-left psw-l-fit-cover\" data-qa=\"add-ons-grid#2#game-art#image#preview\" loading=\"lazy\" src=\"https://image.api.playstation.com/cdn/JP9000/CUSA00949_00/fQugj5rc1K68ay3ZaxZd8jobA98NWZPs.png?w=54&amp;thumb=true\"/><noscript class=\"psw-layer\"><img class=\"psw-top-left psw-l-fit-cover\" data-qa=\"add-ons-grid#2#game-art#image#image-no-js\" loading=\"lazy\" src=\"https://image.api.playstation.com/cdn/JP9000/CUSA00949_00/fQugj5rc1K68ay3ZaxZd8jobA98NWZPs.png\"/></noscript></span></div><div class=\"psw-l-anchor-bottom-left psw-l-bottom-left psw-m-l-3 psw-m-sub-t-3\"><div class=\"psw-l-cluster psw-l-gap-2\" data-qa=\"add-ons-grid#2#game-art\"></div></div></div><section class=\"psw-product-tile__details psw-m-t-2\" data-qa=\"add-ons-grid#2#details\"><span class=\"psw-product-tile__product-type psw-t-bold psw-t-size-1 psw-t-truncate-1 psw-c-t-2 psw-t-uppercase psw-m-b-1\" data-qa=\"add-ons-grid#2#product-type\">追加コンテンツ</span><span class=\"psw-t-body psw-c-t-1 psw-t-truncate-2 psw-m-b-2\" data-qa=\"add-ons-grid#2#product-name\">アンチャーテッドポイント3,200(2,000+ボーナス1,200)</span><div class=\"psw-fill-x psw-price psw-l-inline psw-l-line-left-top\" data-qa=\"add-ons-grid#2#price\"><div class=\"psw-l-line-left-top psw-l-line-wrap psw-clip psw-t-h-body-1\"><span aria-hidden=\"false\" class=\"psw-m-r-3\" data-qa=\"add-ons-grid#2#price#display-price\">¥2,200</span></div></div></section></div></a></li><li><div data-telemetry-meta='{\"conceptId\":\"205354\",\"tile\":{\"productId\":\"JP9000-CUSA00949_00-P003000000000000\"},\"tilePosition\":3}' data-track='{\"eventInfo\":{\"eventAction\":\"impression\",\"eventName\":\"add on tile impression\"},\"attributes\":{\"moduleName\":\"add ons\",\"assetName\":\"\",\"label\":\"add on tile\",\"position\":\"\",\"linkUrl\":\"\",\"elementType\":\"\",\"userActionFlag\":false}}' data-track-content=\"addOns:tileImpression\"></div><a aria-label=\"\" class=\"psw-link psw-content-link\" data-qa=\"\" data-telemetry-meta='{\"conceptId\":\"205354\",\"tile\":{\"productId\":\"JP9000-CUSA00949_00-P003000000000000\"},\"tilePosition\":3}' data-track='{\"eventInfo\":{\"eventAction\":\"click\",\"eventName\":\"click add-on tile\"},\"attributes\":{\"moduleName\":\"add ons\",\"assetName\":\"\",\"label\":\"add on tile\",\"position\":\"\",\"linkUrl\":\"\",\"elementType\":\"link\",\"userActionFlag\":true}}' data-track-click=\"addOns:addOnTileClick\" href=\"https://store.playstation.com/ja-jp/product/JP9000-CUSA00949_00-P003000000000000\" id=\"\" rel=\"noopener noreferrer\" type=\"\"><div class=\"psw-product-tile psw-interactive-root\" data-qa=\"add-ons-grid#3\"><div class=\"psw-ally-indicator psw-ally-indicator-gap-1 psw-show-on-hover psw-b-0 psw-game-art psw-fill psw-l-anchor\" data-qa=\"add-ons-grid#3#game-art\"><div class=\"psw-game-art__container psw-l-anchor-top-left psw-l-top-left psw-fill psw-r-2 psw-clip\"><span class=\"psw-illustration psw-illustration--default-product-image default-product-img\" data-qa=\"\"><div class=\"psw-hide\" data-original-icon-id=\"ps-illustration:default-product-image\"><svg></svg></div><svg aria-hidden=\"true\" focusable=\"false\"><title></title><use href=\"#ps-illustration:default-product-image:195\"></use></svg></span><span class=\"psw-media-frame psw-fill-x psw-image psw-media psw-media-interactive psw-aspect-1-1\" data-qa=\"add-ons-grid#3#game-art#image\" style=\"width:100%;min-width:100%\"><img aria-hidden=\"true\" class=\"psw-blur psw-top-left psw-l-fit-cover\" data-qa=\"add-ons-grid#3#game-art#image#preview\" loading=\"lazy\" src=\"https://image.api.playstation.com/cdn/JP9000/CUSA00949_00/hb7CGETh87HPt1PbLUCNAVREvhKP0bbl.png?w=54&amp;thumb=true\"/><noscript class=\"psw-layer\"><img class=\"psw-top-left psw-l-fit-cover\" data-qa=\"add-ons-grid#3#game-art#image#image-no-js\" loading=\"lazy\" src=\"https://image.api.playstation.com/cdn/JP9000/CUSA00949_00/hb7CGETh87HPt1PbLUCNAVREvhKP0bbl.png\"/></noscript></span></div><div class=\"psw-l-anchor-bottom-left psw-l-bottom-left psw-m-l-3 psw-m-sub-t-3\"><div class=\"psw-l-cluster psw-l-gap-2\" data-qa=\"add-ons-grid#3#game-art\"></div></div></div><section class=\"psw-product-tile__details psw-m-t-2\" data-qa=\"add-ons-grid#3#details\"><span class=\"psw-product-tile__product-type psw-t-bold psw-t-size-1 psw-t-truncate-1 psw-c-t-2 psw-t-uppercase psw-m-b-1\" data-qa=\"add-ons-grid#3#product-type\">追加コンテンツ</span><span class=\"psw-t-body psw-c-t-1 psw-t-truncate-2 psw-m-b-2\" data-qa=\"add-ons-grid#3#product-name\">アンチャーテッドポイント300</span><div class=\"psw-fill-x psw-price psw-l-inline psw-l-line-left-top\" data-qa=\"add-ons-grid#3#price\"><div class=\"psw-l-line-left-top psw-l-line-wrap psw-clip psw-t-h-body-1\"><span aria-hidden=\"false\" class=\"psw-m-r-3\" data-qa=\"add-ons-grid#3#price#display-price\">¥330</span></div></div></section></div></a></li><li><div data-telemetry-meta='{\"conceptId\":\"205354\",\"tile\":{\"productId\":\"JP9000-CUSA00949_00-P015000000000000\"},\"tilePosition\":4}' data-track='{\"eventInfo\":{\"eventAction\":\"impression\",\"eventName\":\"add on tile impression\"},\"attributes\":{\"moduleName\":\"add ons\",\"assetName\":\"\",\"label\":\"add on tile\",\"position\":\"\",\"linkUrl\":\"\",\"elementType\":\"\",\"userActionFlag\":false}}' data-track-content=\"addOns:tileImpression\"></div><a aria-label=\"\" class=\"psw-link psw-content-link\" data-qa=\"\" data-telemetry-meta='{\"conceptId\":\"205354\",\"tile\":{\"productId\":\"JP9000-CUSA00949_00-P015000000000000\"},\"tilePosition\":4}' data-track='{\"eventInfo\":{\"eventAction\":\"click\",\"eventName\":\"click add-on tile\"},\"attributes\":{\"moduleName\":\"add ons\",\"assetName\":\"\",\"label\":\"add on tile\",\"position\":\"\",\"linkUrl\":\"\",\"elementType\":\"link\",\"userActionFlag\":true}}' data-track-click=\"addOns:addOnTileClick\" href=\"https://store.playstation.com/ja-jp/product/JP9000-CUSA00949_00-P015000000000000\" id=\"\" rel=\"noopener noreferrer\" type=\"\"><div class=\"psw-product-tile psw-interactive-root\" data-qa=\"add-ons-grid#4\"><div class=\"psw-ally-indicator psw-ally-indicator-gap-1 psw-show-on-hover psw-b-0 psw-game-art psw-fill psw-l-anchor\" data-qa=\"add-ons-grid#4#game-art\"><div class=\"psw-game-art__container psw-l-anchor-top-left psw-l-top-left psw-fill psw-r-2 psw-clip\"><span class=\"psw-illustration psw-illustration--default-product-image default-product-img\" data-qa=\"\"><div class=\"psw-hide\" data-original-icon-id=\"ps-illustration:default-product-image\"><svg></svg></div><svg aria-hidden=\"true\" focusable=\"false\"><title></title><use href=\"#ps-illustration:default-product-image:196\"></use></svg></span><span class=\"psw-media-frame psw-fill-x psw-image psw-media psw-media-interactive psw-aspect-1-1\" data-qa=\"add-ons-grid#4#game-art#image\" style=\"width:100%;min-width:100%\"><img aria-hidden=\"true\" class=\"psw-blur psw-top-left psw-l-fit-cover\" data-qa=\"add-ons-grid#4#game-art#image#preview\" loading=\"lazy\" src=\"https://image.api.playstation.com/cdn/JP9000/CUSA00949_00/QDdahJx4SrAMAFxbDAaEnfVhvIOR3guX.png?w=54&amp;thumb=true\"/><noscript class=\"psw-layer\"><img class=\"psw-top-left psw-l-fit-cover\" data-qa=\"add-ons-grid#4#game-art#image#image-no-js\" loading=\"lazy\" src=\"https://image.api.playstation.com/cdn/JP9000/CUSA00949_00/QDdahJx4SrAMAFxbDAaEnfVhvIOR3guX.png\"/></noscript></span></div><div class=\"psw-l-anchor-bottom-left psw-l-bottom-left psw-m-l-3 psw-m-sub-t-3\"><div class=\"psw-l-cluster psw-l-gap-2\" data-qa=\"add-ons-grid#4#game-art\"></div></div></div><section class=\"psw-product-tile__details psw-m-t-2\" data-qa=\"add-ons-grid#4#details\"><span class=\"psw-product-tile__product-type psw-t-bold psw-t-size-1 psw-t-truncate-1 psw-c-t-2 psw-t-uppercase psw-m-b-1\" data-qa=\"add-ons-grid#4#product-type\">ゲーム内通貨</span><span class=\"psw-t-body psw-c-t-1 psw-t-truncate-2 psw-m-b-2\" data-qa=\"add-ons-grid#4#product-name\">アンチャーテッドポイント1,500(1,000+ボーナス500)</span><div class=\"psw-fill-x psw-price psw-l-inline psw-l-line-left-top\" data-qa=\"add-ons-grid#4#price\"><div class=\"psw-l-line-left-top psw-l-line-wrap psw-clip psw-t-h-body-1\"><span aria-hidden=\"false\" class=\"psw-m-r-3\" data-qa=\"add-ons-grid#4#price#display-price\">¥1,100</span></div></div></section></div></a></li><li><div data-telemetry-meta='{\"conceptId\":\"205354\",\"tile\":{\"productId\":\"JP9000-CUSA00949_00-P065000000000000\"},\"tilePosition\":5}' data-track='{\"eventInfo\":{\"eventAction\":\"impression\",\"eventName\":\"add on tile impression\"},\"attributes\":{\"moduleName\":\"add ons\",\"assetName\":\"\",\"label\":\"add on tile\",\"position\":\"\",\"linkUrl\":\"\",\"elementType\":\"\",\"userActionFlag\":false}}' data-track-content=\"addOns:tileImpression\"></div><a aria-label=\"\" class=\"psw-link psw-content-link\" data-qa=\"\" data-telemetry-meta='{\"conceptId\":\"205354\",\"tile\":{\"productId\":\"JP9000-CUSA00949_00-P065000000000000\"},\"tilePosition\":5}' data-track='{\"eventInfo\":{\"eventAction\":\"click\",\"eventName\":\"click add-on tile\"},\"attributes\":{\"moduleName\":\"add ons\",\"assetName\":\"\",\"label\":\"add on tile\",\"position\":\"\",\"linkUrl\":\"\",\"elementType\":\"link\",\"userActionFlag\":true}}' data-track-click=\"addOns:addOnTileClick\" href=\"https://store.playstation.com/ja-jp/product/JP9000-CUSA00949_00-P065000000000000\" id=\"\" rel=\"noopener noreferrer\" type=\"\"><div class=\"psw-product-tile psw-interactive-root\" data-qa=\"add-ons-grid#5\"><div class=\"psw-ally-indicator psw-ally-indicator-gap-1 psw-show-on-hover psw-b-0 psw-game-art psw-fill psw-l-anchor\" data-qa=\"add-ons-grid#5#game-art\"><div class=\"psw-game-art__container psw-l-anchor-top-left psw-l-top-left psw-fill psw-r-2 psw-clip\"><span class=\"psw-illustration psw-illustration--default-product-image default-product-img\" data-qa=\"\"><div class=\"psw-hide\" data-original-icon-id=\"ps-illustration:default-product-image\"><svg></svg></div><svg aria-hidden=\"true\" focusable=\"false\"><title></title><use href=\"#ps-illustration:default-product-image:197\"></use></svg></span><span class=\"psw-media-frame psw-fill-x psw-image psw-media psw-media-interactive psw-aspect-1-1\" data-qa=\"add-ons-grid#5#game-art#image\" style=\"width:100%;min-width:100%\"><img aria-hidden=\"true\" class=\"psw-blur psw-top-left psw-l-fit-cover\" data-qa=\"add-ons-grid#5#game-art#image#preview\" loading=\"lazy\" src=\"https://image.api.playstation.com/cdn/JP9000/CUSA00949_00/lTXdKcMJE2Ph9AYOvZRntrkUoyDhA2Z3.png?w=54&amp;thumb=true\"/><noscript class=\"psw-layer\"><img class=\"psw-top-left psw-l-fit-cover\" data-qa=\"add-ons-grid#5#game-art#image#image-no-js\" loading=\"lazy\" src=\"https://image.api.playstation.com/cdn/JP9000/CUSA00949_00/lTXdKcMJE2Ph9AYOvZRntrkUoyDhA2Z3.png\"/></noscript></span></div><div class=\"psw-l-anchor-bottom-left psw-l-bottom-left psw-m-l-3 psw-m-sub-t-3\"><div class=\"psw-l-cluster psw-l-gap-2\" data-qa=\"add-ons-grid#5#game-art\"></div></div></div><section class=\"psw-product-tile__details psw-m-t-2\" data-qa=\"add-ons-grid#5#details\"><span class=\"psw-product-tile__product-type psw-t-bold psw-t-size-1 psw-t-truncate-1 psw-c-t-2 psw-t-uppercase psw-m-b-1\" data-qa=\"add-ons-grid#5#product-type\">追加コンテンツ</span><span class=\"psw-t-body psw-c-t-1 psw-t-truncate-2 psw-m-b-2\" data-qa=\"add-ons-grid#5#product-name\">アンチャーテッドポイント6,500(3,500+ボーナス3,000)</span><div class=\"psw-fill-x psw-price psw-l-inline psw-l-line-left-top\" data-qa=\"add-ons-grid#5#price\"><div class=\"psw-l-line-left-top psw-l-line-wrap psw-clip psw-t-h-body-1\"><span aria-hidden=\"false\" class=\"psw-m-r-3\" data-qa=\"add-ons-grid#5#price#display-price\">¥3,850</span></div></div></section></div></a></li><li><div data-telemetry-meta='{\"conceptId\":\"205354\",\"tile\":{\"productId\":\"JP9000-CUSA00949_00-PHURBADAGERTAUNT\"},\"tilePosition\":6}' data-track='{\"eventInfo\":{\"eventAction\":\"impression\",\"eventName\":\"add on tile impression\"},\"attributes\":{\"moduleName\":\"add ons\",\"assetName\":\"\",\"label\":\"add on tile\",\"position\":\"\",\"linkUrl\":\"\",\"elementType\":\"\",\"userActionFlag\":false}}' data-track-content=\"addOns:tileImpression\"></div><a aria-label=\"\" class=\"psw-link psw-content-link\" data-qa=\"\" data-telemetry-meta='{\"conceptId\":\"205354\",\"tile\":{\"productId\":\"JP9000-CUSA00949_00-PHURBADAGERTAUNT\"},\"tilePosition\":6}' data-track='{\"eventInfo\":{\"eventAction\":\"click\",\"eventName\":\"click add-on tile\"},\"attributes\":{\"moduleName\":\"add ons\",\"assetName\":\"\",\"label\":\"add on tile\",\"position\":\"\",\"linkUrl\":\"\",\"elementType\":\"link\",\"userActionFlag\":true}}' data-track-click=\"addOns:addOnTileClick\" href=\"https://store.playstation.com/ja-jp/product/JP9000-CUSA00949_00-PHURBADAGERTAUNT\" id=\"\" rel=\"noopener noreferrer\" type=\"\"><div class=\"psw-product-tile psw-interactive-root\" data-qa=\"add-ons-grid#6\"><div class=\"psw-ally-indicator psw-ally-indicator-gap-1 psw-show-on-hover psw-b-0 psw-game-art psw-fill psw-l-anchor\" data-qa=\"add-ons-grid#6#game-art\"><div class=\"psw-game-art__container psw-l-anchor-top-left psw-l-top-left psw-fill psw-r-2 psw-clip\"><span class=\"psw-illustration psw-illustration--default-product-image default-product-img\" data-qa=\"\"><div class=\"psw-hide\" data-original-icon-id=\"ps-illustration:default-product-image\"><svg></svg></div><svg aria-hidden=\"true\" focusable=\"false\"><title></title><use href=\"#ps-illustration:default-product-image:198\"></use></svg></span><span class=\"psw-media-frame psw-fill-x psw-image psw-media psw-media-interactive psw-aspect-1-1\" data-qa=\"add-ons-grid#6#game-art#image\" style=\"width:100%;min-width:100%\"><img aria-hidden=\"true\" class=\"psw-blur psw-top-left psw-l-fit-cover\" data-qa=\"add-ons-grid#6#game-art#image#preview\" loading=\"lazy\" src=\"https://image.api.playstation.com/cdn/JP9000/CUSA00949_00/nroxHQp5yBwThSHWbqEMg0gCervedgI9.png?w=54&amp;thumb=true\"/><noscript class=\"psw-layer\"><img class=\"psw-top-left psw-l-fit-cover\" data-qa=\"add-ons-grid#6#game-art#image#image-no-js\" loading=\"lazy\" src=\"https://image.api.playstation.com/cdn/JP9000/CUSA00949_00/nroxHQp5yBwThSHWbqEMg0gCervedgI9.png\"/></noscript></span></div><div class=\"psw-l-anchor-bottom-left psw-l-bottom-left psw-m-l-3 psw-m-sub-t-3\"><div class=\"psw-l-cluster psw-l-gap-2\" data-qa=\"add-ons-grid#6#game-art\"><span class=\"psw-platform-tag psw-p-x-2 psw-l-line-left psw-t-tag psw-on-graphic\" data-qa=\"add-ons-grid#6#game-art#tag0\">PS4</span></div></div></div><section class=\"psw-product-tile__details psw-m-t-2\" data-qa=\"add-ons-grid#6#details\"><span class=\"psw-product-tile__product-type psw-t-bold psw-t-size-1 psw-t-truncate-1 psw-c-t-2 psw-t-uppercase psw-m-b-1\" data-qa=\"add-ons-grid#6#product-type\">アイテム</span><span class=\"psw-t-body psw-c-t-1 psw-t-truncate-2 psw-m-b-2\" data-qa=\"add-ons-grid#6#product-name\">オンラインマルチプレイ用 黄金刀のジェスチャー</span><div class=\"psw-fill-x psw-price psw-l-inline psw-l-line-left-top\" data-qa=\"add-ons-grid#6#price\"><div class=\"psw-l-line-left-top psw-l-line-wrap psw-clip psw-t-h-body-1\"><span aria-hidden=\"false\" class=\"psw-m-r-3\" data-qa=\"add-ons-grid#6#price#display-price\">ご利用いただけません</span></div></div></section></div></a></li><li><div data-telemetry-meta='{\"conceptId\":\"205354\",\"tile\":{\"productId\":\"JP9000-CUSA00949_00-UTLLMPUNLOCK0001\"},\"tilePosition\":7}' data-track='{\"eventInfo\":{\"eventAction\":\"impression\",\"eventName\":\"add on tile impression\"},\"attributes\":{\"moduleName\":\"add ons\",\"assetName\":\"\",\"label\":\"add on tile\",\"position\":\"\",\"linkUrl\":\"\",\"elementType\":\"\",\"userActionFlag\":false}}' data-track-content=\"addOns:tileImpression\"></div><a aria-label=\"\" class=\"psw-link psw-content-link\" data-qa=\"\" data-telemetry-meta='{\"conceptId\":\"205354\",\"tile\":{\"productId\":\"JP9000-CUSA00949_00-UTLLMPUNLOCK0001\"},\"tilePosition\":7}' data-track='{\"eventInfo\":{\"eventAction\":\"click\",\"eventName\":\"click add-on tile\"},\"attributes\":{\"moduleName\":\"add ons\",\"assetName\":\"\",\"label\":\"add on tile\",\"position\":\"\",\"linkUrl\":\"\",\"elementType\":\"link\",\"userActionFlag\":true}}' data-track-click=\"addOns:addOnTileClick\" href=\"https://store.playstation.com/ja-jp/product/JP9000-CUSA00949_00-UTLLMPUNLOCK0001\" id=\"\" rel=\"noopener noreferrer\" type=\"\"><div class=\"psw-product-tile psw-interactive-root\" data-qa=\"add-ons-grid#7\"><div class=\"psw-ally-indicator psw-ally-indicator-gap-1 psw-show-on-hover psw-b-0 psw-game-art psw-fill psw-l-anchor\" data-qa=\"add-ons-grid#7#game-art\"><div class=\"psw-game-art__container psw-l-anchor-top-left psw-l-top-left psw-fill psw-r-2 psw-clip\"><span class=\"psw-illustration psw-illustration--default-product-image default-product-img\" data-qa=\"\"><div class=\"psw-hide\" data-original-icon-id=\"ps-illustration:default-product-image\"><svg></svg></div><svg aria-hidden=\"true\" focusable=\"false\"><title></title><use href=\"#ps-illustration:default-product-image:199\"></use></svg></span><span class=\"psw-media-frame psw-fill-x psw-image psw-media psw-media-interactive psw-aspect-1-1\" data-qa=\"add-ons-grid#7#game-art#image\" style=\"width:100%;min-width:100%\"><img aria-hidden=\"true\" class=\"psw-blur psw-top-left psw-l-fit-cover\" data-qa=\"add-ons-grid#7#game-art#image#preview\" loading=\"lazy\" src=\"https://image.api.playstation.com/cdn/JP9000/CUSA00949_00/RLQ1wYe9XvtBaxrmxuI2LQmmWWRW7ZIW.png?w=54&amp;thumb=true\"/><noscript class=\"psw-layer\"><img class=\"psw-top-left psw-l-fit-cover\" data-qa=\"add-ons-grid#7#game-art#image#image-no-js\" loading=\"lazy\" src=\"https://image.api.playstation.com/cdn/JP9000/CUSA00949_00/RLQ1wYe9XvtBaxrmxuI2LQmmWWRW7ZIW.png\"/></noscript></span></div><div class=\"psw-l-anchor-bottom-left psw-l-bottom-left psw-m-l-3 psw-m-sub-t-3\"><div class=\"psw-l-cluster psw-l-gap-2\" data-qa=\"add-ons-grid#7#game-art\"><span class=\"psw-platform-tag psw-p-x-2 psw-l-line-left psw-t-tag psw-on-graphic\" data-qa=\"add-ons-grid#7#game-art#tag0\">PS4</span></div></div></div><section class=\"psw-product-tile__details psw-m-t-2\" data-qa=\"add-ons-grid#7#details\"><span class=\"psw-product-tile__product-type psw-t-bold psw-t-size-1 psw-t-truncate-1 psw-c-t-2 psw-t-uppercase psw-m-b-1\" data-qa=\"add-ons-grid#7#product-type\">追加コンテンツ</span><span class=\"psw-t-body psw-c-t-1 psw-t-truncate-2 psw-m-b-2\" data-qa=\"add-ons-grid#7#product-name\">マルチプレイ用初心者応援アップデート「武器＆スキルセット」</span><div class=\"psw-fill-x psw-price psw-l-inline psw-l-line-left-top\" data-qa=\"add-ons-grid#7#price\"><div class=\"psw-l-line-left-top psw-l-line-wrap psw-clip psw-t-h-body-1\"><span aria-hidden=\"false\" class=\"psw-m-r-3\" data-qa=\"add-ons-grid#7#price#display-price\">無料</span></div></div></section></div></a></li></ul><div class=\"psw-preview-grid-list-cta psw-t-align-c psw-m-t-6\"><button class=\"psw-button psw-b-0 psw-t-button psw-l-line-center psw-button-sizing psw-button-sizing--medium psw-tertiary-button psw-solid-button\" data-qa=\"add-ons#btn\" data-telemetry-meta='{\"conceptId\":\"205354\"}' data-track='{\"eventInfo\":{\"eventAction\":\"click\",\"eventName\":\"view all add ons\"},\"attributes\":{\"moduleName\":\"add ons\",\"assetName\":\"\",\"label\":\"view all\",\"position\":\"\",\"linkUrl\":\"\",\"elementType\":\"button\",\"userActionFlag\":true}}' data-track-click=\"addOns:viewAllAddOns\" id=\"\" name=\"\" type=\"button\" value=\"\"><span class=\"psw-fill-x psw-t-truncate-1 psw-l-space-x-2\">さらに表示</span></button></div></div><style>\n",
       "          .psw-root .psw-content-link {\n",
       "            outline: none !important;\n",
       "            box-shadow: none !important;\n",
       "          }\n",
       "        </style></div></div></div></div><div class=\"psw-m-t-10 psw-fill-x\"><div class=\"pdp-star-rating\"><script id=\"env:bee420f0-df30-11ee-8edf-e90e3592ba9b\" type=\"application/json\">{\"args\":{\"conceptId\":\"205354\"},\"overrides\":{\"theme\":\"dark\",\"locale\":\"ja-jp\"},\"cache\":{\"Product:JP9000-PPSA05685_00-UNCHARTED4R00000\":{\"id\":\"JP9000-PPSA05685_00-UNCHARTED4R00000\",\"__typename\":\"Product\",\"name\":\"アンチャーテッド トレジャーハンターコレクション\",\"starRating\":{\"__typename\":\"StarRating\",\"averageRating\":4.74,\"averageRatingForDisplay\":\"4.74\",\"ratingsDistribution\":[{\"__typename\":\"StarRatingCount\",\"percentage\":\"86％\",\"percentageRaw\":86,\"rating\":5},{\"__typename\":\"StarRatingCount\",\"percentage\":\"8％\",\"percentageRaw\":8,\"rating\":4},{\"__typename\":\"StarRatingCount\",\"percentage\":\"3％\",\"percentageRaw\":3,\"rating\":3},{\"__typename\":\"StarRatingCount\",\"percentage\":\"1％\",\"percentageRaw\":1,\"rating\":2},{\"__typename\":\"StarRatingCount\",\"percentage\":\"3％\",\"percentageRaw\":3,\"rating\":1}],\"totalRatingsCount\":179895},\"topCategory\":\"GAME\",\"webctas\":[{\"__typename\":\"GameCTA\",\"type\":\"ADD_TO_CART\",\"action\":{\"__typename\":\"Action\",\"type\":\"ADD_TO_CART\",\"param\":[{\"__typename\":\"ActionParam\",\"name\":\"skuId\",\"value\":\"JP9000-PPSA05685_00-UNCHARTED4R00000-J003\"},{\"__typename\":\"ActionParam\",\"name\":\"rewardId\",\"value\":null},{\"__typename\":\"ActionParam\",\"name\":\"prologueEmsAlias\",\"value\":\"plus--buy_game_catalog\"}]},\"meta\":{\"__typename\":\"CTAMeta\",\"preOrder\":false}},{\"__typename\":\"GameCTA\",\"type\":\"UPSELL_PS_PLUS_GAME_CATALOG\",\"action\":{\"__typename\":\"Action\",\"type\":\"ADD_TO_CART\",\"param\":[{\"__typename\":\"ActionParam\",\"name\":\"skuId\",\"value\":\"JP9000-PPSA05685_00-UNCHARTED4R00000-J003\"},{\"__typename\":\"ActionParam\",\"name\":\"prologueEmsAlias\",\"value\":\"plus--gamehub_upsell_cta--game_catalog\"},{\"__typename\":\"ActionParam\",\"name\":\"rewardId\",\"value\":\"SUB001-SUBC00002_00-HM93SKR5MGPG6TD8\"},{\"__typename\":\"ActionParam\",\"name\":\"rewardId\",\"value\":\"SUB001-SUBC00002_00-HM93SKR5MGPG6TD8\"}]},\"meta\":{\"__typename\":\"CTAMeta\",\"preOrder\":false}}]},\"Concept:205354\":{\"id\":\"205354\",\"__typename\":\"Concept\",\"releaseDate\":{\"__typename\":\"ReleaseDate\",\"type\":\"DAY_MONTH_YEAR\"},\"defaultProduct\":{\"__ref\":\"Product:JP9000-PPSA05685_00-UNCHARTED4R00000\"}},\"ROOT_QUERY\":{\"__typename\":\"Query\",\"conceptRetrieve({\\\"conceptId\\\":\\\"205354\\\"})\":{\"__ref\":\"Concept:205354\"}}},\"translations\":{\"msgid_ratings\":\"レーティング\",\"msgid_sign_rate\":\"サインインして評価\",\"msgid_decimal_symbol\":\".\",\"msgid_digit_separator_symbol\":\",\",\"msgid_variable_ratings\":\"%num%件の評価\",\"msgid_sr_average_ratings\":\"評価数は%totalnum%、平均評価は5段階中の%num%です\",\"msgid_global_player_ratings\":\"世界のプレイヤーの評価\",\"msgid_sr_stars\":\"星%num%個\",\"msgid_sr_star\":\"評価1\"}}</script><div class=\"psw-root psw-dark-theme\" data-initial=\"env:bee420f0-df30-11ee-8edf-e90e3592ba9b\" data-mfe-name=\"starRating\"><h2 class=\"psw-l-section psw-t-title-l psw-t-align-c psw-m-b-9\" data-qa=\"mfe-star-rating#heading\" id=\"star-rating\">レーティング</h2><div class=\"psw-l-grid psw-m-t-10\"><div class=\"psw-c-bg-card-1 psw-l-w-1/1 psw-l-w-1/1@tablet-s psw-l-w-5/12@tablet-l psw-l-w-1/3@laptop psw-l-w-1/3@desktop psw-l-w-1/3@max psw-p-7\"><div data-qa=\"mfe-star-rating#user-rating\"><div class=\"psw-m-sub-t-2\" data-qa=\"mfe-star-rating#user-rating#sign-in\"><h3 class=\"psw-t-link\" data-qa=\"mfe-star-rating#user-rating#sign-in#header\">アンチャーテッド トレジャーハンターコレクション</h3><div class=\"psw-l-grid psw-m-y-10 psw-l-line-center\"><div class=\"psw-l-w-1/2@mobile-s psw-l-w-1/4@tablet-s psw-p-t-6\"><button class=\"psw-button psw-b-0 psw-t-button psw-l-line-center psw-button-sizing psw-button-sizing--medium psw-primary-button psw-solid-button\" data-qa=\"mfe-star-rating#user-rating#sign-in#cta\" data-telemetry-meta='{\"conceptId\":\"205354\",\"productId\":\"\"}' data-track-click=\"starRating:signInToRate\" id=\"\" name=\"\" type=\"button\" value=\"\"><span class=\"psw-fill-x psw-t-truncate-1 psw-l-space-x-2\">サインインして評価</span></button></div></div></div></div></div><div class=\"psw-c-bg-card-1 psw-l-w-1/1 psw-l-w-1/1@tablet-s psw-l-w-7/12@tablet-l psw-l-w-2/3@laptop psw-l-w-2/3@desktop psw-l-w-2/3@max psw-p-6 psw-p-y-6\"><div class=\"psw-l-line-repel psw-l-align-center\" data-qa=\"mfe-star-rating#overall-rating\"><h3 class=\"psw-t-body\" data-qa=\"mfe-star-rating#overall-rating#heading\">世界のプレイヤーの評価</h3><div class=\"psw-t-align-r\"><div class=\"psw-overall-rating-average-rating psw-l-line-left psw-m-sub-r-3\"><span class=\"psw-p-r-1 psw-t-title-l\"><span aria-hidden=\"true\" data-qa=\"mfe-star-rating#overall-rating#average-rating\">4.74</span><span class=\"psw-sr-only\">評価数は179895、平均評価は5段階中の4.74です</span></span><div aria-hidden=\"true\"><span class=\"psw-overall-rating-star-rating psw-l-line-left\" data-qa=\"mfe-star-rating#overall-rating#star-rating\"><span class=\"psw-icon psw-icon--starrating-full psw-icon psw-icon-size-4 psw-icon--starrating-full\" data-qa=\"mfe-star-rating#overall-rating#star-rating#rating-1#icon\"><div class=\"psw-hide\" data-original-icon-id=\"ps-icon:starrating-full\"><svg xmlns=\"http://www.w3.org/2000/svg\"><symbol id=\"ps-icon:starrating-full:420\" viewbox=\"0 0 64 64\"><path clip-rule=\"evenodd\" d=\"M52.234 26.425a1.249 1.249 0 00-1.189-.863H37.404l-4.215-12.974a1.249 1.249 0 00-2.378 0l-4.215 12.974H12.955a1.25 1.25 0 00-.735 2.26l11.036 8.019-4.215 12.973a1.251 1.251 0 001.923 1.398L32 42.194l11.036 8.018a1.249 1.249 0 001.469 0c.438-.318.622-.883.455-1.398L40.744 35.84l11.036-8.018a1.25 1.25 0 00.454-1.398z\" fill-rule=\"evenodd\"></path></symbol></svg></div><svg aria-hidden=\"true\" focusable=\"false\"><title></title><use href=\"#ps-icon:starrating-full:420\"></use></svg></span><span class=\"psw-icon psw-icon--starrating-full psw-icon psw-icon-size-4 psw-icon--starrating-full\" data-qa=\"mfe-star-rating#overall-rating#star-rating#rating-2#icon\"><div class=\"psw-hide\" data-original-icon-id=\"ps-icon:starrating-full\"><svg xmlns=\"http://www.w3.org/2000/svg\"><symbol id=\"ps-icon:starrating-full:421\" viewbox=\"0 0 64 64\"><path clip-rule=\"evenodd\" d=\"M52.234 26.425a1.249 1.249 0 00-1.189-.863H37.404l-4.215-12.974a1.249 1.249 0 00-2.378 0l-4.215 12.974H12.955a1.25 1.25 0 00-.735 2.26l11.036 8.019-4.215 12.973a1.251 1.251 0 001.923 1.398L32 42.194l11.036 8.018a1.249 1.249 0 001.469 0c.438-.318.622-.883.455-1.398L40.744 35.84l11.036-8.018a1.25 1.25 0 00.454-1.398z\" fill-rule=\"evenodd\"></path></symbol></svg></div><svg aria-hidden=\"true\" focusable=\"false\"><title></title><use href=\"#ps-icon:starrating-full:421\"></use></svg></span><span class=\"psw-icon psw-icon--starrating-full psw-icon psw-icon-size-4 psw-icon--starrating-full\" data-qa=\"mfe-star-rating#overall-rating#star-rating#rating-3#icon\"><div class=\"psw-hide\" data-original-icon-id=\"ps-icon:starrating-full\"><svg xmlns=\"http://www.w3.org/2000/svg\"><symbol id=\"ps-icon:starrating-full:422\" viewbox=\"0 0 64 64\"><path clip-rule=\"evenodd\" d=\"M52.234 26.425a1.249 1.249 0 00-1.189-.863H37.404l-4.215-12.974a1.249 1.249 0 00-2.378 0l-4.215 12.974H12.955a1.25 1.25 0 00-.735 2.26l11.036 8.019-4.215 12.973a1.251 1.251 0 001.923 1.398L32 42.194l11.036 8.018a1.249 1.249 0 001.469 0c.438-.318.622-.883.455-1.398L40.744 35.84l11.036-8.018a1.25 1.25 0 00.454-1.398z\" fill-rule=\"evenodd\"></path></symbol></svg></div><svg aria-hidden=\"true\" focusable=\"false\"><title></title><use href=\"#ps-icon:starrating-full:422\"></use></svg></span><span class=\"psw-icon psw-icon--starrating-full psw-icon psw-icon-size-4 psw-icon--starrating-full\" data-qa=\"mfe-star-rating#overall-rating#star-rating#rating-4#icon\"><div class=\"psw-hide\" data-original-icon-id=\"ps-icon:starrating-full\"><svg xmlns=\"http://www.w3.org/2000/svg\"><symbol id=\"ps-icon:starrating-full:423\" viewbox=\"0 0 64 64\"><path clip-rule=\"evenodd\" d=\"M52.234 26.425a1.249 1.249 0 00-1.189-.863H37.404l-4.215-12.974a1.249 1.249 0 00-2.378 0l-4.215 12.974H12.955a1.25 1.25 0 00-.735 2.26l11.036 8.019-4.215 12.973a1.251 1.251 0 001.923 1.398L32 42.194l11.036 8.018a1.249 1.249 0 001.469 0c.438-.318.622-.883.455-1.398L40.744 35.84l11.036-8.018a1.25 1.25 0 00.454-1.398z\" fill-rule=\"evenodd\"></path></symbol></svg></div><svg aria-hidden=\"true\" focusable=\"false\"><title></title><use href=\"#ps-icon:starrating-full:423\"></use></svg></span><span class=\"psw-icon psw-icon--starrating-half psw-icon psw-icon-size-4 psw-icon--starrating-half\" data-qa=\"mfe-star-rating#overall-rating#star-rating#rating-5#icon\"><div class=\"psw-hide\" data-original-icon-id=\"ps-icon:starrating-half\"><svg xmlns=\"http://www.w3.org/2000/svg\"><symbol id=\"ps-icon:starrating-half:424\" viewbox=\"0 0 64 64\"><path clip-rule=\"evenodd\" d=\"M38.54 34.352a1.251 1.251 0 00-.454 1.398l3.307 10.178-8.658-6.291a1.249 1.249 0 00-.735-.238v-22.38l3.308 10.18a1.25 1.25 0 001.189.863h10.7l-8.657 6.29zm13.694-7.927a1.25 1.25 0 00-1.19-.863h-13.64L33.19 12.588a1.25 1.25 0 00-2.378 0l-4.215 12.974h-13.64a1.25 1.25 0 00-.735 2.262l11.036 8.017-4.216 12.973a1.25 1.25 0 001.924 1.398L32 42.194l11.036 8.018c.219.16.477.239.735.239s.516-.08.735-.24a1.25 1.25 0 00.454-1.397L40.744 35.84l11.036-8.017c.438-.32.62-.883.454-1.4z\" fill-rule=\"evenodd\"></path></symbol></svg></div><svg aria-hidden=\"true\" focusable=\"false\"><title></title><use href=\"#ps-icon:starrating-half:424\"></use></svg></span></span></div></div></div></div><div class=\"psw-t-align-r\"><span class=\"psw-c-t-2 psw-t-secondary\" data-qa=\"mfe-star-rating#overall-rating#total-ratings\">179,895件の評価</span></div><div class=\"psw-m-y-4\"><div class=\"psw-m-b-2\"><div class=\"psw-rating-progress-bar psw-l-stack psw-fill-x\" data-qa=\"mfe-star-rating#overall-rating#rating-progress5\"><div class=\"psw-l-line-repel psw-l-align-center\"><div class=\"psw-l-line-left\"><span class=\"psw-sr-only\">星5個</span><div aria-hidden=\"true\"><span class=\"psw-rating-progress-bar-star-5 psw-l-line-left\" data-qa=\"star-rating\"><span class=\"psw-icon psw-icon--starrating-full psw-icon psw-icon-size-2 psw-icon--starrating-full\" data-qa=\"star-rating#rating-1#icon\"><div class=\"psw-hide\" data-original-icon-id=\"ps-icon:starrating-full\"><svg xmlns=\"http://www.w3.org/2000/svg\"><symbol id=\"ps-icon:starrating-full:425\" viewbox=\"0 0 64 64\"><path clip-rule=\"evenodd\" d=\"M52.234 26.425a1.249 1.249 0 00-1.189-.863H37.404l-4.215-12.974a1.249 1.249 0 00-2.378 0l-4.215 12.974H12.955a1.25 1.25 0 00-.735 2.26l11.036 8.019-4.215 12.973a1.251 1.251 0 001.923 1.398L32 42.194l11.036 8.018a1.249 1.249 0 001.469 0c.438-.318.622-.883.455-1.398L40.744 35.84l11.036-8.018a1.25 1.25 0 00.454-1.398z\" fill-rule=\"evenodd\"></path></symbol></svg></div><svg aria-hidden=\"true\" focusable=\"false\"><title></title><use href=\"#ps-icon:starrating-full:425\"></use></svg></span><span class=\"psw-icon psw-icon--starrating-full psw-icon psw-icon-size-2 psw-icon--starrating-full\" data-qa=\"star-rating#rating-2#icon\"><div class=\"psw-hide\" data-original-icon-id=\"ps-icon:starrating-full\"><svg xmlns=\"http://www.w3.org/2000/svg\"><symbol id=\"ps-icon:starrating-full:426\" viewbox=\"0 0 64 64\"><path clip-rule=\"evenodd\" d=\"M52.234 26.425a1.249 1.249 0 00-1.189-.863H37.404l-4.215-12.974a1.249 1.249 0 00-2.378 0l-4.215 12.974H12.955a1.25 1.25 0 00-.735 2.26l11.036 8.019-4.215 12.973a1.251 1.251 0 001.923 1.398L32 42.194l11.036 8.018a1.249 1.249 0 001.469 0c.438-.318.622-.883.455-1.398L40.744 35.84l11.036-8.018a1.25 1.25 0 00.454-1.398z\" fill-rule=\"evenodd\"></path></symbol></svg></div><svg aria-hidden=\"true\" focusable=\"false\"><title></title><use href=\"#ps-icon:starrating-full:426\"></use></svg></span><span class=\"psw-icon psw-icon--starrating-full psw-icon psw-icon-size-2 psw-icon--starrating-full\" data-qa=\"star-rating#rating-3#icon\"><div class=\"psw-hide\" data-original-icon-id=\"ps-icon:starrating-full\"><svg xmlns=\"http://www.w3.org/2000/svg\"><symbol id=\"ps-icon:starrating-full:427\" viewbox=\"0 0 64 64\"><path clip-rule=\"evenodd\" d=\"M52.234 26.425a1.249 1.249 0 00-1.189-.863H37.404l-4.215-12.974a1.249 1.249 0 00-2.378 0l-4.215 12.974H12.955a1.25 1.25 0 00-.735 2.26l11.036 8.019-4.215 12.973a1.251 1.251 0 001.923 1.398L32 42.194l11.036 8.018a1.249 1.249 0 001.469 0c.438-.318.622-.883.455-1.398L40.744 35.84l11.036-8.018a1.25 1.25 0 00.454-1.398z\" fill-rule=\"evenodd\"></path></symbol></svg></div><svg aria-hidden=\"true\" focusable=\"false\"><title></title><use href=\"#ps-icon:starrating-full:427\"></use></svg></span><span class=\"psw-icon psw-icon--starrating-full psw-icon psw-icon-size-2 psw-icon--starrating-full\" data-qa=\"star-rating#rating-4#icon\"><div class=\"psw-hide\" data-original-icon-id=\"ps-icon:starrating-full\"><svg xmlns=\"http://www.w3.org/2000/svg\"><symbol id=\"ps-icon:starrating-full:428\" viewbox=\"0 0 64 64\"><path clip-rule=\"evenodd\" d=\"M52.234 26.425a1.249 1.249 0 00-1.189-.863H37.404l-4.215-12.974a1.249 1.249 0 00-2.378 0l-4.215 12.974H12.955a1.25 1.25 0 00-.735 2.26l11.036 8.019-4.215 12.973a1.251 1.251 0 001.923 1.398L32 42.194l11.036 8.018a1.249 1.249 0 001.469 0c.438-.318.622-.883.455-1.398L40.744 35.84l11.036-8.018a1.25 1.25 0 00.454-1.398z\" fill-rule=\"evenodd\"></path></symbol></svg></div><svg aria-hidden=\"true\" focusable=\"false\"><title></title><use href=\"#ps-icon:starrating-full:428\"></use></svg></span><span class=\"psw-icon psw-icon--starrating-full psw-icon psw-icon-size-2 psw-icon--starrating-full\" data-qa=\"star-rating#rating-5#icon\"><div class=\"psw-hide\" data-original-icon-id=\"ps-icon:starrating-full\"><svg xmlns=\"http://www.w3.org/2000/svg\"><symbol id=\"ps-icon:starrating-full:429\" viewbox=\"0 0 64 64\"><path clip-rule=\"evenodd\" d=\"M52.234 26.425a1.249 1.249 0 00-1.189-.863H37.404l-4.215-12.974a1.249 1.249 0 00-2.378 0l-4.215 12.974H12.955a1.25 1.25 0 00-.735 2.26l11.036 8.019-4.215 12.973a1.251 1.251 0 001.923 1.398L32 42.194l11.036 8.018a1.249 1.249 0 001.469 0c.438-.318.622-.883.455-1.398L40.744 35.84l11.036-8.018a1.25 1.25 0 00.454-1.398z\" fill-rule=\"evenodd\"></path></symbol></svg></div><svg aria-hidden=\"true\" focusable=\"false\"><title></title><use href=\"#ps-icon:starrating-full:429\"></use></svg></span></span></div></div><span aria-hidden=\"true\" class=\"psw-t-body\" data-qa=\"mfe-star-rating#overall-rating#rating-progress5#percentage-label\">86％</span></div><div aria-valuenow=\"86％\" class=\"psw-fill-x psw-l-h-2 psw-r-1 psw-m-b-2 psw-rating-progress-bar-empty\" data-qa=\"mfe-star-rating#overall-rating#rating-progress5#empty\" role=\"progressbar\"><div class=\"psw-rating-progress-bar-full psw-fill-y psw-r-left-1\" data-qa=\"mfe-star-rating#overall-rating#rating-progress5#full\" style=\"width:86%\"></div></div></div></div><div class=\"psw-m-b-2\"><div class=\"psw-rating-progress-bar psw-l-stack psw-fill-x\" data-qa=\"mfe-star-rating#overall-rating#rating-progress4\"><div class=\"psw-l-line-repel psw-l-align-center\"><div class=\"psw-l-line-left\"><span class=\"psw-sr-only\">星4個</span><div aria-hidden=\"true\"><span class=\"psw-rating-progress-bar-star-4 psw-l-line-left\" data-qa=\"star-rating\"><span class=\"psw-icon psw-icon--starrating-full psw-icon psw-icon-size-2 psw-icon--starrating-full\" data-qa=\"star-rating#rating-1#icon\"><div class=\"psw-hide\" data-original-icon-id=\"ps-icon:starrating-full\"><svg xmlns=\"http://www.w3.org/2000/svg\"><symbol id=\"ps-icon:starrating-full:430\" viewbox=\"0 0 64 64\"><path clip-rule=\"evenodd\" d=\"M52.234 26.425a1.249 1.249 0 00-1.189-.863H37.404l-4.215-12.974a1.249 1.249 0 00-2.378 0l-4.215 12.974H12.955a1.25 1.25 0 00-.735 2.26l11.036 8.019-4.215 12.973a1.251 1.251 0 001.923 1.398L32 42.194l11.036 8.018a1.249 1.249 0 001.469 0c.438-.318.622-.883.455-1.398L40.744 35.84l11.036-8.018a1.25 1.25 0 00.454-1.398z\" fill-rule=\"evenodd\"></path></symbol></svg></div><svg aria-hidden=\"true\" focusable=\"false\"><title></title><use href=\"#ps-icon:starrating-full:430\"></use></svg></span><span class=\"psw-icon psw-icon--starrating-full psw-icon psw-icon-size-2 psw-icon--starrating-full\" data-qa=\"star-rating#rating-2#icon\"><div class=\"psw-hide\" data-original-icon-id=\"ps-icon:starrating-full\"><svg xmlns=\"http://www.w3.org/2000/svg\"><symbol id=\"ps-icon:starrating-full:431\" viewbox=\"0 0 64 64\"><path clip-rule=\"evenodd\" d=\"M52.234 26.425a1.249 1.249 0 00-1.189-.863H37.404l-4.215-12.974a1.249 1.249 0 00-2.378 0l-4.215 12.974H12.955a1.25 1.25 0 00-.735 2.26l11.036 8.019-4.215 12.973a1.251 1.251 0 001.923 1.398L32 42.194l11.036 8.018a1.249 1.249 0 001.469 0c.438-.318.622-.883.455-1.398L40.744 35.84l11.036-8.018a1.25 1.25 0 00.454-1.398z\" fill-rule=\"evenodd\"></path></symbol></svg></div><svg aria-hidden=\"true\" focusable=\"false\"><title></title><use href=\"#ps-icon:starrating-full:431\"></use></svg></span><span class=\"psw-icon psw-icon--starrating-full psw-icon psw-icon-size-2 psw-icon--starrating-full\" data-qa=\"star-rating#rating-3#icon\"><div class=\"psw-hide\" data-original-icon-id=\"ps-icon:starrating-full\"><svg xmlns=\"http://www.w3.org/2000/svg\"><symbol id=\"ps-icon:starrating-full:432\" viewbox=\"0 0 64 64\"><path clip-rule=\"evenodd\" d=\"M52.234 26.425a1.249 1.249 0 00-1.189-.863H37.404l-4.215-12.974a1.249 1.249 0 00-2.378 0l-4.215 12.974H12.955a1.25 1.25 0 00-.735 2.26l11.036 8.019-4.215 12.973a1.251 1.251 0 001.923 1.398L32 42.194l11.036 8.018a1.249 1.249 0 001.469 0c.438-.318.622-.883.455-1.398L40.744 35.84l11.036-8.018a1.25 1.25 0 00.454-1.398z\" fill-rule=\"evenodd\"></path></symbol></svg></div><svg aria-hidden=\"true\" focusable=\"false\"><title></title><use href=\"#ps-icon:starrating-full:432\"></use></svg></span><span class=\"psw-icon psw-icon--starrating-full psw-icon psw-icon-size-2 psw-icon--starrating-full\" data-qa=\"star-rating#rating-4#icon\"><div class=\"psw-hide\" data-original-icon-id=\"ps-icon:starrating-full\"><svg xmlns=\"http://www.w3.org/2000/svg\"><symbol id=\"ps-icon:starrating-full:433\" viewbox=\"0 0 64 64\"><path clip-rule=\"evenodd\" d=\"M52.234 26.425a1.249 1.249 0 00-1.189-.863H37.404l-4.215-12.974a1.249 1.249 0 00-2.378 0l-4.215 12.974H12.955a1.25 1.25 0 00-.735 2.26l11.036 8.019-4.215 12.973a1.251 1.251 0 001.923 1.398L32 42.194l11.036 8.018a1.249 1.249 0 001.469 0c.438-.318.622-.883.455-1.398L40.744 35.84l11.036-8.018a1.25 1.25 0 00.454-1.398z\" fill-rule=\"evenodd\"></path></symbol></svg></div><svg aria-hidden=\"true\" focusable=\"false\"><title></title><use href=\"#ps-icon:starrating-full:433\"></use></svg></span><span class=\"psw-icon psw-icon--starrating-empty psw-icon psw-icon-size-2 psw-icon--starrating-empty\" data-qa=\"star-rating#rating-5#icon\"><div class=\"psw-hide\" data-original-icon-id=\"ps-icon:starrating-empty\"><svg xmlns=\"http://www.w3.org/2000/svg\"><symbol id=\"ps-icon:starrating-empty:434\" viewbox=\"0 0 64 64\"><path clip-rule=\"evenodd\" d=\"M32 39.398c.258 0 .516.08.735.238l8.658 6.291-3.308-10.177a1.253 1.253 0 01.455-1.399l8.658-6.29H36.496a1.252 1.252 0 01-1.189-.863L32 17.02 28.693 27.2a1.252 1.252 0 01-1.189.862H16.802l8.658 6.29c.438.318.622.883.455 1.4l-3.308 10.176 8.658-6.29c.219-.16.477-.239.735-.239zM43.771 50.45c-.258 0-.516-.079-.735-.239L32 42.193l-11.036 8.018a1.25 1.25 0 01-1.923-1.398l4.215-12.973-11.036-8.017a1.252 1.252 0 01.735-2.262h13.641l4.215-12.974a1.251 1.251 0 012.378 0l4.215 12.974h13.641a1.252 1.252 0 01.735 2.262L40.744 35.84l4.215 12.973a1.25 1.25 0 01-1.188 1.637z\" fill-rule=\"evenodd\"></path></symbol></svg></div><svg aria-hidden=\"true\" focusable=\"false\"><title></title><use href=\"#ps-icon:starrating-empty:434\"></use></svg></span></span></div></div><span aria-hidden=\"true\" class=\"psw-t-body\" data-qa=\"mfe-star-rating#overall-rating#rating-progress4#percentage-label\">8％</span></div><div aria-valuenow=\"8％\" class=\"psw-fill-x psw-l-h-2 psw-r-1 psw-m-b-2 psw-rating-progress-bar-empty\" data-qa=\"mfe-star-rating#overall-rating#rating-progress4#empty\" role=\"progressbar\"><div class=\"psw-rating-progress-bar-full psw-fill-y psw-r-left-1\" data-qa=\"mfe-star-rating#overall-rating#rating-progress4#full\" style=\"width:8%\"></div></div></div></div><div class=\"psw-m-b-2\"><div class=\"psw-rating-progress-bar psw-l-stack psw-fill-x\" data-qa=\"mfe-star-rating#overall-rating#rating-progress3\"><div class=\"psw-l-line-repel psw-l-align-center\"><div class=\"psw-l-line-left\"><span class=\"psw-sr-only\">星3個</span><div aria-hidden=\"true\"><span class=\"psw-rating-progress-bar-star-3 psw-l-line-left\" data-qa=\"star-rating\"><span class=\"psw-icon psw-icon--starrating-full psw-icon psw-icon-size-2 psw-icon--starrating-full\" data-qa=\"star-rating#rating-1#icon\"><div class=\"psw-hide\" data-original-icon-id=\"ps-icon:starrating-full\"><svg xmlns=\"http://www.w3.org/2000/svg\"><symbol id=\"ps-icon:starrating-full:435\" viewbox=\"0 0 64 64\"><path clip-rule=\"evenodd\" d=\"M52.234 26.425a1.249 1.249 0 00-1.189-.863H37.404l-4.215-12.974a1.249 1.249 0 00-2.378 0l-4.215 12.974H12.955a1.25 1.25 0 00-.735 2.26l11.036 8.019-4.215 12.973a1.251 1.251 0 001.923 1.398L32 42.194l11.036 8.018a1.249 1.249 0 001.469 0c.438-.318.622-.883.455-1.398L40.744 35.84l11.036-8.018a1.25 1.25 0 00.454-1.398z\" fill-rule=\"evenodd\"></path></symbol></svg></div><svg aria-hidden=\"true\" focusable=\"false\"><title></title><use href=\"#ps-icon:starrating-full:435\"></use></svg></span><span class=\"psw-icon psw-icon--starrating-full psw-icon psw-icon-size-2 psw-icon--starrating-full\" data-qa=\"star-rating#rating-2#icon\"><div class=\"psw-hide\" data-original-icon-id=\"ps-icon:starrating-full\"><svg xmlns=\"http://www.w3.org/2000/svg\"><symbol id=\"ps-icon:starrating-full:436\" viewbox=\"0 0 64 64\"><path clip-rule=\"evenodd\" d=\"M52.234 26.425a1.249 1.249 0 00-1.189-.863H37.404l-4.215-12.974a1.249 1.249 0 00-2.378 0l-4.215 12.974H12.955a1.25 1.25 0 00-.735 2.26l11.036 8.019-4.215 12.973a1.251 1.251 0 001.923 1.398L32 42.194l11.036 8.018a1.249 1.249 0 001.469 0c.438-.318.622-.883.455-1.398L40.744 35.84l11.036-8.018a1.25 1.25 0 00.454-1.398z\" fill-rule=\"evenodd\"></path></symbol></svg></div><svg aria-hidden=\"true\" focusable=\"false\"><title></title><use href=\"#ps-icon:starrating-full:436\"></use></svg></span><span class=\"psw-icon psw-icon--starrating-full psw-icon psw-icon-size-2 psw-icon--starrating-full\" data-qa=\"star-rating#rating-3#icon\"><div class=\"psw-hide\" data-original-icon-id=\"ps-icon:starrating-full\"><svg xmlns=\"http://www.w3.org/2000/svg\"><symbol id=\"ps-icon:starrating-full:437\" viewbox=\"0 0 64 64\"><path clip-rule=\"evenodd\" d=\"M52.234 26.425a1.249 1.249 0 00-1.189-.863H37.404l-4.215-12.974a1.249 1.249 0 00-2.378 0l-4.215 12.974H12.955a1.25 1.25 0 00-.735 2.26l11.036 8.019-4.215 12.973a1.251 1.251 0 001.923 1.398L32 42.194l11.036 8.018a1.249 1.249 0 001.469 0c.438-.318.622-.883.455-1.398L40.744 35.84l11.036-8.018a1.25 1.25 0 00.454-1.398z\" fill-rule=\"evenodd\"></path></symbol></svg></div><svg aria-hidden=\"true\" focusable=\"false\"><title></title><use href=\"#ps-icon:starrating-full:437\"></use></svg></span><span class=\"psw-icon psw-icon--starrating-empty psw-icon psw-icon-size-2 psw-icon--starrating-empty\" data-qa=\"star-rating#rating-4#icon\"><div class=\"psw-hide\" data-original-icon-id=\"ps-icon:starrating-empty\"><svg xmlns=\"http://www.w3.org/2000/svg\"><symbol id=\"ps-icon:starrating-empty:438\" viewbox=\"0 0 64 64\"><path clip-rule=\"evenodd\" d=\"M32 39.398c.258 0 .516.08.735.238l8.658 6.291-3.308-10.177a1.253 1.253 0 01.455-1.399l8.658-6.29H36.496a1.252 1.252 0 01-1.189-.863L32 17.02 28.693 27.2a1.252 1.252 0 01-1.189.862H16.802l8.658 6.29c.438.318.622.883.455 1.4l-3.308 10.176 8.658-6.29c.219-.16.477-.239.735-.239zM43.771 50.45c-.258 0-.516-.079-.735-.239L32 42.193l-11.036 8.018a1.25 1.25 0 01-1.923-1.398l4.215-12.973-11.036-8.017a1.252 1.252 0 01.735-2.262h13.641l4.215-12.974a1.251 1.251 0 012.378 0l4.215 12.974h13.641a1.252 1.252 0 01.735 2.262L40.744 35.84l4.215 12.973a1.25 1.25 0 01-1.188 1.637z\" fill-rule=\"evenodd\"></path></symbol></svg></div><svg aria-hidden=\"true\" focusable=\"false\"><title></title><use href=\"#ps-icon:starrating-empty:438\"></use></svg></span><span class=\"psw-icon psw-icon--starrating-empty psw-icon psw-icon-size-2 psw-icon--starrating-empty\" data-qa=\"star-rating#rating-5#icon\"><div class=\"psw-hide\" data-original-icon-id=\"ps-icon:starrating-empty\"><svg xmlns=\"http://www.w3.org/2000/svg\"><symbol id=\"ps-icon:starrating-empty:439\" viewbox=\"0 0 64 64\"><path clip-rule=\"evenodd\" d=\"M32 39.398c.258 0 .516.08.735.238l8.658 6.291-3.308-10.177a1.253 1.253 0 01.455-1.399l8.658-6.29H36.496a1.252 1.252 0 01-1.189-.863L32 17.02 28.693 27.2a1.252 1.252 0 01-1.189.862H16.802l8.658 6.29c.438.318.622.883.455 1.4l-3.308 10.176 8.658-6.29c.219-.16.477-.239.735-.239zM43.771 50.45c-.258 0-.516-.079-.735-.239L32 42.193l-11.036 8.018a1.25 1.25 0 01-1.923-1.398l4.215-12.973-11.036-8.017a1.252 1.252 0 01.735-2.262h13.641l4.215-12.974a1.251 1.251 0 012.378 0l4.215 12.974h13.641a1.252 1.252 0 01.735 2.262L40.744 35.84l4.215 12.973a1.25 1.25 0 01-1.188 1.637z\" fill-rule=\"evenodd\"></path></symbol></svg></div><svg aria-hidden=\"true\" focusable=\"false\"><title></title><use href=\"#ps-icon:starrating-empty:439\"></use></svg></span></span></div></div><span aria-hidden=\"true\" class=\"psw-t-body\" data-qa=\"mfe-star-rating#overall-rating#rating-progress3#percentage-label\">3％</span></div><div aria-valuenow=\"3％\" class=\"psw-fill-x psw-l-h-2 psw-r-1 psw-m-b-2 psw-rating-progress-bar-empty\" data-qa=\"mfe-star-rating#overall-rating#rating-progress3#empty\" role=\"progressbar\"><div class=\"psw-rating-progress-bar-full psw-fill-y psw-r-left-1\" data-qa=\"mfe-star-rating#overall-rating#rating-progress3#full\" style=\"width:3%\"></div></div></div></div><div class=\"psw-m-b-2\"><div class=\"psw-rating-progress-bar psw-l-stack psw-fill-x\" data-qa=\"mfe-star-rating#overall-rating#rating-progress2\"><div class=\"psw-l-line-repel psw-l-align-center\"><div class=\"psw-l-line-left\"><span class=\"psw-sr-only\">星2個</span><div aria-hidden=\"true\"><span class=\"psw-rating-progress-bar-star-2 psw-l-line-left\" data-qa=\"star-rating\"><span class=\"psw-icon psw-icon--starrating-full psw-icon psw-icon-size-2 psw-icon--starrating-full\" data-qa=\"star-rating#rating-1#icon\"><div class=\"psw-hide\" data-original-icon-id=\"ps-icon:starrating-full\"><svg xmlns=\"http://www.w3.org/2000/svg\"><symbol id=\"ps-icon:starrating-full:440\" viewbox=\"0 0 64 64\"><path clip-rule=\"evenodd\" d=\"M52.234 26.425a1.249 1.249 0 00-1.189-.863H37.404l-4.215-12.974a1.249 1.249 0 00-2.378 0l-4.215 12.974H12.955a1.25 1.25 0 00-.735 2.26l11.036 8.019-4.215 12.973a1.251 1.251 0 001.923 1.398L32 42.194l11.036 8.018a1.249 1.249 0 001.469 0c.438-.318.622-.883.455-1.398L40.744 35.84l11.036-8.018a1.25 1.25 0 00.454-1.398z\" fill-rule=\"evenodd\"></path></symbol></svg></div><svg aria-hidden=\"true\" focusable=\"false\"><title></title><use href=\"#ps-icon:starrating-full:440\"></use></svg></span><span class=\"psw-icon psw-icon--starrating-full psw-icon psw-icon-size-2 psw-icon--starrating-full\" data-qa=\"star-rating#rating-2#icon\"><div class=\"psw-hide\" data-original-icon-id=\"ps-icon:starrating-full\"><svg xmlns=\"http://www.w3.org/2000/svg\"><symbol id=\"ps-icon:starrating-full:441\" viewbox=\"0 0 64 64\"><path clip-rule=\"evenodd\" d=\"M52.234 26.425a1.249 1.249 0 00-1.189-.863H37.404l-4.215-12.974a1.249 1.249 0 00-2.378 0l-4.215 12.974H12.955a1.25 1.25 0 00-.735 2.26l11.036 8.019-4.215 12.973a1.251 1.251 0 001.923 1.398L32 42.194l11.036 8.018a1.249 1.249 0 001.469 0c.438-.318.622-.883.455-1.398L40.744 35.84l11.036-8.018a1.25 1.25 0 00.454-1.398z\" fill-rule=\"evenodd\"></path></symbol></svg></div><svg aria-hidden=\"true\" focusable=\"false\"><title></title><use href=\"#ps-icon:starrating-full:441\"></use></svg></span><span class=\"psw-icon psw-icon--starrating-empty psw-icon psw-icon-size-2 psw-icon--starrating-empty\" data-qa=\"star-rating#rating-3#icon\"><div class=\"psw-hide\" data-original-icon-id=\"ps-icon:starrating-empty\"><svg xmlns=\"http://www.w3.org/2000/svg\"><symbol id=\"ps-icon:starrating-empty:442\" viewbox=\"0 0 64 64\"><path clip-rule=\"evenodd\" d=\"M32 39.398c.258 0 .516.08.735.238l8.658 6.291-3.308-10.177a1.253 1.253 0 01.455-1.399l8.658-6.29H36.496a1.252 1.252 0 01-1.189-.863L32 17.02 28.693 27.2a1.252 1.252 0 01-1.189.862H16.802l8.658 6.29c.438.318.622.883.455 1.4l-3.308 10.176 8.658-6.29c.219-.16.477-.239.735-.239zM43.771 50.45c-.258 0-.516-.079-.735-.239L32 42.193l-11.036 8.018a1.25 1.25 0 01-1.923-1.398l4.215-12.973-11.036-8.017a1.252 1.252 0 01.735-2.262h13.641l4.215-12.974a1.251 1.251 0 012.378 0l4.215 12.974h13.641a1.252 1.252 0 01.735 2.262L40.744 35.84l4.215 12.973a1.25 1.25 0 01-1.188 1.637z\" fill-rule=\"evenodd\"></path></symbol></svg></div><svg aria-hidden=\"true\" focusable=\"false\"><title></title><use href=\"#ps-icon:starrating-empty:442\"></use></svg></span><span class=\"psw-icon psw-icon--starrating-empty psw-icon psw-icon-size-2 psw-icon--starrating-empty\" data-qa=\"star-rating#rating-4#icon\"><div class=\"psw-hide\" data-original-icon-id=\"ps-icon:starrating-empty\"><svg xmlns=\"http://www.w3.org/2000/svg\"><symbol id=\"ps-icon:starrating-empty:443\" viewbox=\"0 0 64 64\"><path clip-rule=\"evenodd\" d=\"M32 39.398c.258 0 .516.08.735.238l8.658 6.291-3.308-10.177a1.253 1.253 0 01.455-1.399l8.658-6.29H36.496a1.252 1.252 0 01-1.189-.863L32 17.02 28.693 27.2a1.252 1.252 0 01-1.189.862H16.802l8.658 6.29c.438.318.622.883.455 1.4l-3.308 10.176 8.658-6.29c.219-.16.477-.239.735-.239zM43.771 50.45c-.258 0-.516-.079-.735-.239L32 42.193l-11.036 8.018a1.25 1.25 0 01-1.923-1.398l4.215-12.973-11.036-8.017a1.252 1.252 0 01.735-2.262h13.641l4.215-12.974a1.251 1.251 0 012.378 0l4.215 12.974h13.641a1.252 1.252 0 01.735 2.262L40.744 35.84l4.215 12.973a1.25 1.25 0 01-1.188 1.637z\" fill-rule=\"evenodd\"></path></symbol></svg></div><svg aria-hidden=\"true\" focusable=\"false\"><title></title><use href=\"#ps-icon:starrating-empty:443\"></use></svg></span><span class=\"psw-icon psw-icon--starrating-empty psw-icon psw-icon-size-2 psw-icon--starrating-empty\" data-qa=\"star-rating#rating-5#icon\"><div class=\"psw-hide\" data-original-icon-id=\"ps-icon:starrating-empty\"><svg xmlns=\"http://www.w3.org/2000/svg\"><symbol id=\"ps-icon:starrating-empty:444\" viewbox=\"0 0 64 64\"><path clip-rule=\"evenodd\" d=\"M32 39.398c.258 0 .516.08.735.238l8.658 6.291-3.308-10.177a1.253 1.253 0 01.455-1.399l8.658-6.29H36.496a1.252 1.252 0 01-1.189-.863L32 17.02 28.693 27.2a1.252 1.252 0 01-1.189.862H16.802l8.658 6.29c.438.318.622.883.455 1.4l-3.308 10.176 8.658-6.29c.219-.16.477-.239.735-.239zM43.771 50.45c-.258 0-.516-.079-.735-.239L32 42.193l-11.036 8.018a1.25 1.25 0 01-1.923-1.398l4.215-12.973-11.036-8.017a1.252 1.252 0 01.735-2.262h13.641l4.215-12.974a1.251 1.251 0 012.378 0l4.215 12.974h13.641a1.252 1.252 0 01.735 2.262L40.744 35.84l4.215 12.973a1.25 1.25 0 01-1.188 1.637z\" fill-rule=\"evenodd\"></path></symbol></svg></div><svg aria-hidden=\"true\" focusable=\"false\"><title></title><use href=\"#ps-icon:starrating-empty:444\"></use></svg></span></span></div></div><span aria-hidden=\"true\" class=\"psw-t-body\" data-qa=\"mfe-star-rating#overall-rating#rating-progress2#percentage-label\">1％</span></div><div aria-valuenow=\"1％\" class=\"psw-fill-x psw-l-h-2 psw-r-1 psw-m-b-2 psw-rating-progress-bar-empty\" data-qa=\"mfe-star-rating#overall-rating#rating-progress2#empty\" role=\"progressbar\"><div class=\"psw-rating-progress-bar-full psw-fill-y psw-r-left-1\" data-qa=\"mfe-star-rating#overall-rating#rating-progress2#full\" style=\"width:1%\"></div></div></div></div><div class=\"psw-m-b-2\"><div class=\"psw-rating-progress-bar psw-l-stack psw-fill-x\" data-qa=\"mfe-star-rating#overall-rating#rating-progress1\"><div class=\"psw-l-line-repel psw-l-align-center\"><div class=\"psw-l-line-left\"><span class=\"psw-sr-only\">評価1</span><div aria-hidden=\"true\"><span class=\"psw-rating-progress-bar-star-1 psw-l-line-left\" data-qa=\"star-rating\"><span class=\"psw-icon psw-icon--starrating-full psw-icon psw-icon-size-2 psw-icon--starrating-full\" data-qa=\"star-rating#rating-1#icon\"><div class=\"psw-hide\" data-original-icon-id=\"ps-icon:starrating-full\"><svg xmlns=\"http://www.w3.org/2000/svg\"><symbol id=\"ps-icon:starrating-full:445\" viewbox=\"0 0 64 64\"><path clip-rule=\"evenodd\" d=\"M52.234 26.425a1.249 1.249 0 00-1.189-.863H37.404l-4.215-12.974a1.249 1.249 0 00-2.378 0l-4.215 12.974H12.955a1.25 1.25 0 00-.735 2.26l11.036 8.019-4.215 12.973a1.251 1.251 0 001.923 1.398L32 42.194l11.036 8.018a1.249 1.249 0 001.469 0c.438-.318.622-.883.455-1.398L40.744 35.84l11.036-8.018a1.25 1.25 0 00.454-1.398z\" fill-rule=\"evenodd\"></path></symbol></svg></div><svg aria-hidden=\"true\" focusable=\"false\"><title></title><use href=\"#ps-icon:starrating-full:445\"></use></svg></span><span class=\"psw-icon psw-icon--starrating-empty psw-icon psw-icon-size-2 psw-icon--starrating-empty\" data-qa=\"star-rating#rating-2#icon\"><div class=\"psw-hide\" data-original-icon-id=\"ps-icon:starrating-empty\"><svg xmlns=\"http://www.w3.org/2000/svg\"><symbol id=\"ps-icon:starrating-empty:446\" viewbox=\"0 0 64 64\"><path clip-rule=\"evenodd\" d=\"M32 39.398c.258 0 .516.08.735.238l8.658 6.291-3.308-10.177a1.253 1.253 0 01.455-1.399l8.658-6.29H36.496a1.252 1.252 0 01-1.189-.863L32 17.02 28.693 27.2a1.252 1.252 0 01-1.189.862H16.802l8.658 6.29c.438.318.622.883.455 1.4l-3.308 10.176 8.658-6.29c.219-.16.477-.239.735-.239zM43.771 50.45c-.258 0-.516-.079-.735-.239L32 42.193l-11.036 8.018a1.25 1.25 0 01-1.923-1.398l4.215-12.973-11.036-8.017a1.252 1.252 0 01.735-2.262h13.641l4.215-12.974a1.251 1.251 0 012.378 0l4.215 12.974h13.641a1.252 1.252 0 01.735 2.262L40.744 35.84l4.215 12.973a1.25 1.25 0 01-1.188 1.637z\" fill-rule=\"evenodd\"></path></symbol></svg></div><svg aria-hidden=\"true\" focusable=\"false\"><title></title><use href=\"#ps-icon:starrating-empty:446\"></use></svg></span><span class=\"psw-icon psw-icon--starrating-empty psw-icon psw-icon-size-2 psw-icon--starrating-empty\" data-qa=\"star-rating#rating-3#icon\"><div class=\"psw-hide\" data-original-icon-id=\"ps-icon:starrating-empty\"><svg xmlns=\"http://www.w3.org/2000/svg\"><symbol id=\"ps-icon:starrating-empty:447\" viewbox=\"0 0 64 64\"><path clip-rule=\"evenodd\" d=\"M32 39.398c.258 0 .516.08.735.238l8.658 6.291-3.308-10.177a1.253 1.253 0 01.455-1.399l8.658-6.29H36.496a1.252 1.252 0 01-1.189-.863L32 17.02 28.693 27.2a1.252 1.252 0 01-1.189.862H16.802l8.658 6.29c.438.318.622.883.455 1.4l-3.308 10.176 8.658-6.29c.219-.16.477-.239.735-.239zM43.771 50.45c-.258 0-.516-.079-.735-.239L32 42.193l-11.036 8.018a1.25 1.25 0 01-1.923-1.398l4.215-12.973-11.036-8.017a1.252 1.252 0 01.735-2.262h13.641l4.215-12.974a1.251 1.251 0 012.378 0l4.215 12.974h13.641a1.252 1.252 0 01.735 2.262L40.744 35.84l4.215 12.973a1.25 1.25 0 01-1.188 1.637z\" fill-rule=\"evenodd\"></path></symbol></svg></div><svg aria-hidden=\"true\" focusable=\"false\"><title></title><use href=\"#ps-icon:starrating-empty:447\"></use></svg></span><span class=\"psw-icon psw-icon--starrating-empty psw-icon psw-icon-size-2 psw-icon--starrating-empty\" data-qa=\"star-rating#rating-4#icon\"><div class=\"psw-hide\" data-original-icon-id=\"ps-icon:starrating-empty\"><svg xmlns=\"http://www.w3.org/2000/svg\"><symbol id=\"ps-icon:starrating-empty:448\" viewbox=\"0 0 64 64\"><path clip-rule=\"evenodd\" d=\"M32 39.398c.258 0 .516.08.735.238l8.658 6.291-3.308-10.177a1.253 1.253 0 01.455-1.399l8.658-6.29H36.496a1.252 1.252 0 01-1.189-.863L32 17.02 28.693 27.2a1.252 1.252 0 01-1.189.862H16.802l8.658 6.29c.438.318.622.883.455 1.4l-3.308 10.176 8.658-6.29c.219-.16.477-.239.735-.239zM43.771 50.45c-.258 0-.516-.079-.735-.239L32 42.193l-11.036 8.018a1.25 1.25 0 01-1.923-1.398l4.215-12.973-11.036-8.017a1.252 1.252 0 01.735-2.262h13.641l4.215-12.974a1.251 1.251 0 012.378 0l4.215 12.974h13.641a1.252 1.252 0 01.735 2.262L40.744 35.84l4.215 12.973a1.25 1.25 0 01-1.188 1.637z\" fill-rule=\"evenodd\"></path></symbol></svg></div><svg aria-hidden=\"true\" focusable=\"false\"><title></title><use href=\"#ps-icon:starrating-empty:448\"></use></svg></span><span class=\"psw-icon psw-icon--starrating-empty psw-icon psw-icon-size-2 psw-icon--starrating-empty\" data-qa=\"star-rating#rating-5#icon\"><div class=\"psw-hide\" data-original-icon-id=\"ps-icon:starrating-empty\"><svg xmlns=\"http://www.w3.org/2000/svg\"><symbol id=\"ps-icon:starrating-empty:449\" viewbox=\"0 0 64 64\"><path clip-rule=\"evenodd\" d=\"M32 39.398c.258 0 .516.08.735.238l8.658 6.291-3.308-10.177a1.253 1.253 0 01.455-1.399l8.658-6.29H36.496a1.252 1.252 0 01-1.189-.863L32 17.02 28.693 27.2a1.252 1.252 0 01-1.189.862H16.802l8.658 6.29c.438.318.622.883.455 1.4l-3.308 10.176 8.658-6.29c.219-.16.477-.239.735-.239zM43.771 50.45c-.258 0-.516-.079-.735-.239L32 42.193l-11.036 8.018a1.25 1.25 0 01-1.923-1.398l4.215-12.973-11.036-8.017a1.252 1.252 0 01.735-2.262h13.641l4.215-12.974a1.251 1.251 0 012.378 0l4.215 12.974h13.641a1.252 1.252 0 01.735 2.262L40.744 35.84l4.215 12.973a1.25 1.25 0 01-1.188 1.637z\" fill-rule=\"evenodd\"></path></symbol></svg></div><svg aria-hidden=\"true\" focusable=\"false\"><title></title><use href=\"#ps-icon:starrating-empty:449\"></use></svg></span></span></div></div><span aria-hidden=\"true\" class=\"psw-t-body\" data-qa=\"mfe-star-rating#overall-rating#rating-progress1#percentage-label\">3％</span></div><div aria-valuenow=\"3％\" class=\"psw-fill-x psw-l-h-2 psw-r-1 psw-m-b-2 psw-rating-progress-bar-empty\" data-qa=\"mfe-star-rating#overall-rating#rating-progress1#empty\" role=\"progressbar\"><div class=\"psw-rating-progress-bar-full psw-fill-y psw-r-left-1\" data-qa=\"mfe-star-rating#overall-rating#rating-progress1#full\" style=\"width:3%\"></div></div></div></div></div></div></div></div></div></div><div class=\"psw-m-t-10 psw-fill-x\"><div class=\"pdp-friends-who-play\"><script id=\"env:bed7c4e0-df30-11ee-b922-65e8b0df7c0b\" type=\"application/json\">{\"args\":{\"conceptId\":\"205354\"},\"overrides\":{\"theme\":\"dark\",\"locale\":\"ja-jp\"},\"cache\":{},\"translations\":{}}</script><div class=\"psw-root psw-dark-theme\" data-initial=\"env:bed7c4e0-df30-11ee-b922-65e8b0df7c0b\" data-mfe-name=\"friendsWhoPlay\"></div></div></div><div class=\"psw-m-t-10 psw-fill-x\"><div data-qa=\"pdp#overview\"><h2 class=\"psw-t-title-l psw-m-b-9 psw-l-section psw-t-align-c\"></h2><div class=\"pdp-overview\"><div class=\"psw-root psw-dark-theme\" data-initial=\"env:bee6b900-df30-11ee-8edf-e90e3592ba9b\" data-mfe-name=\"gameOverview\"><div class=\"psw-l-grid\" data-reactroot=\"\"><div class=\"psw-l-exclude@below-mobile-l psw-l-w-1/6@tablet-s psw-l-w-1/6@tablet-l psw-l-w-1/4@laptop psw-l-w-1/4@desktop psw-l-w-1/4@max\"></div><div class=\"psw-l-w-1/1 psw-l-w-2/3@tablet-s psw-l-w-2/3@tablet-l psw-l-w-1/2@laptop psw-l-w-1/2@desktop psw-l-w-1/2@max\"><p class=\"psw-c-t-2 psw-p-x-7 psw-p-y-6 psw-p-x-6@below-tablet-s psw-m-sub-x-7 psw-m-auto@below-tablet-s psw-c-bg-card-1\" data-qa=\"mfe-game-overview#description\">PS4の『アンチャーテッド 海賊王と最後の秘宝』、『アンチャーテッド 古代神の秘宝』、『アンチャーテッド 海賊王と最後の秘宝＆アンチャーテッド 古代神の秘宝デジタルバンドル』のうちいずれか、またはすべてを購入している場合、1,100円（税込）でPS5の『アンチャーテッド トレジャーハンターコレクション』にアップグレードができる権利が取得できます。アップグレードは2022年1月28日より可能です。<br/><br/>『アンチャーテッド トレジャーハンターコレクション』でトレジャーハンターとして伝説の財宝を求める冒険へ出かけよう。ノーティードッグが手掛ける、まるで映画のような手に汗握るストーリーと、かつてないスケールのアクションが一本に。<br/><br/>本作では、高い評価と絶大な支持を得たシングルプレイアドベンチャー、『アンチャーテッド 海賊王と最後の秘宝』と『アンチャーテッド 古代神の秘宝』が、PS5™向けに進化したグラフィックとフレームレートでリマスターされて帰ってくる。<br/><br/><br/>PlayStation®5の機能：<br/>•\tDualSense™ ワイヤレスコントローラー：ハプティックフィードバックによってパンチ、ジャンプ、ドライビングなどの感覚がリアルに伝わる。さらに、ロープアクションではアダプティブトリガーの抵抗をダイナミックに感じ取れる。 <br/>•\t高速ロード：PS5™本体の超高速SSDにより、冒険が瞬時に始められる。 <br/>•\t3Dオーディオ：『アンチャーテッド トレジャーハンターコレクション』の世界が3Dオーディオによってリアルに感じ取れる。¹  <br/>•\t忠実度モード：鮮やかなネイティブ4K解像度、ターゲット30fpsフレームレートで快適にプレイ。2 <br/>•\tパフォーマンスモード：滑らかなターゲット60fpsでプレイ。<br/>o\t4K対応テレビでは1440pよりスーパーサンプリングされたアップスケール4Kで楽しめます。 <br/>o\t1080p HD対応テレビでは1440pよりスーパーサンプリングされた1080p解像度 （向上したアンチエイリアシング）で楽しめます。<br/>•\tパフォーマンス＋モード：迫力のターゲット120fps³/1080pでプレイ。<br/><br/>PS4向けソフトウェア（パッケージ版）をお持ちの上で、PS5向けソフトウェア（ダウンロード版）をダウンロードしたりプレイしたりするには、都度PS4版のディスクをPS5に挿入したままにする必要があります。 なお、PS4向けソフトウェア（パッケージ版）からのPS5アップグレードには、ディスクドライブ搭載のPS5本体が必要となります。<br/>PlayStation Plus加入者で、「PS Plusコレクション」より『アンチャーテッド 海賊王と最後の秘宝』を追加料金なしでダウンロードした方は、PS5へのアップグレードの権利は購入いただけません。<br/><br/>1 3Dオーディオ内蔵TVスピーカー（最新のシステムソフトウェア）または対応ステレオヘッドホン（アナログまたはUSB接続）が必要です。<br/>2 4K/HDR対応テレビまたはディスプレイが必要です。<br/>3 120hz対応ディスプレイが必要です。</p></div></div></div></div></div></div><div class=\"psw-m-t-10 psw-fill-x\"><div class=\"pdp-info\"><script id=\"env:bee09e80-df30-11ee-b0f6-518e2dc4fd26\" type=\"application/json\">{\"args\":{\"conceptId\":\"205354\"},\"overrides\":{\"theme\":\"dark\",\"locale\":\"ja-jp\"},\"cache\":{\"Product:JP9000-PPSA05685_00-UNCHARTED4R00000\":{\"id\":\"JP9000-PPSA05685_00-UNCHARTED4R00000\",\"__typename\":\"Product\",\"localizedGenres\":[{\"__typename\":\"LocalizedGenre\",\"value\":\"アクション\"},{\"__typename\":\"LocalizedGenre\",\"value\":\"アドベンチャー\"}],\"publisherName\":\"ソニー・インタラクティブエンタテインメント\",\"releaseDate\":\"2022-01-27T15:00:00Z\",\"spokenLanguages\":[\"en\",\"ja\"],\"spokenLanguagesByPlatform\":[{\"__typename\":\"SpokenLanguagesByPlatformElement\",\"platform\":\"PS4\",\"spokenLanguages\":[]},{\"__typename\":\"SpokenLanguagesByPlatformElement\",\"platform\":\"PS4TEST\",\"spokenLanguages\":[]},{\"__typename\":\"SpokenLanguagesByPlatformElement\",\"platform\":\"PS5\",\"spokenLanguages\":[\"en\",\"ja\"]},{\"__typename\":\"SpokenLanguagesByPlatformElement\",\"platform\":\"PS3\",\"spokenLanguages\":[]},{\"__typename\":\"SpokenLanguagesByPlatformElement\",\"platform\":\"VITA\",\"spokenLanguages\":[]},{\"__typename\":\"SpokenLanguagesByPlatformElement\",\"platform\":\"\",\"spokenLanguages\":[]}],\"screenLanguages\":[\"en\",\"ja\"],\"screenLanguagesByPlatform\":[{\"__typename\":\"ScreenLanguagesByPlatformElement\",\"platform\":\"PS4\",\"screenLanguages\":[]},{\"__typename\":\"ScreenLanguagesByPlatformElement\",\"platform\":\"PS4TEST\",\"screenLanguages\":[]},{\"__typename\":\"ScreenLanguagesByPlatformElement\",\"platform\":\"PS5\",\"screenLanguages\":[\"en\",\"ja\"]},{\"__typename\":\"ScreenLanguagesByPlatformElement\",\"platform\":\"PS3\",\"screenLanguages\":[]},{\"__typename\":\"ScreenLanguagesByPlatformElement\",\"platform\":\"VITA\",\"screenLanguages\":[]},{\"__typename\":\"ScreenLanguagesByPlatformElement\",\"platform\":\"\",\"screenLanguages\":[]}],\"platforms\":[\"PS5\"],\"descriptions\":[{\"__typename\":\"Description\",\"type\":\"SHORT\",\"subType\":\"NONE\",\"value\":\"冒険に出る準備はいいか？\"},{\"__typename\":\"Description\",\"type\":\"LONG\",\"subType\":\"NONE\",\"value\":\"PS4の『アンチャーテッド 海賊王と最後の秘宝』、『アンチャーテッド 古代神の秘宝』、『アンチャーテッド 海賊王と最後の秘宝＆アンチャーテッド 古代神の秘宝デジタルバンドル』のうちいずれか、またはすべてを購入している場合、1,100円（税込）でPS5の『アンチャーテッド トレジャーハンターコレクション』にアップグレードができる権利が取得できます。アップグレードは2022年1月28日より可能です。<br/><br/>『アンチャーテッド トレジャーハンターコレクション』でトレジャーハンターとして伝説の財宝を求める冒険へ出かけよう。ノーティードッグが手掛ける、まるで映画のような手に汗握るストーリーと、かつてないスケールのアクションが一本に。<br/><br/>本作では、高い評価と絶大な支持を得たシングルプレイアドベンチャー、『アンチャーテッド 海賊王と最後の秘宝』と『アンチャーテッド 古代神の秘宝』が、PS5™向けに進化したグラフィックとフレームレートでリマスターされて帰ってくる。<br/><br/><br/>PlayStation®5の機能：<br/>•\\tDualSense™ ワイヤレスコントローラー：ハプティックフィードバックによってパンチ、ジャンプ、ドライビングなどの感覚がリアルに伝わる。さらに、ロープアクションではアダプティブトリガーの抵抗をダイナミックに感じ取れる。 <br/>•\\t高速ロード：PS5™本体の超高速SSDにより、冒険が瞬時に始められる。 <br/>•\\t3Dオーディオ：『アンチャーテッド トレジャーハンターコレクション』の世界が3Dオーディオによってリアルに感じ取れる。¹  <br/>•\\t忠実度モード：鮮やかなネイティブ4K解像度、ターゲット30fpsフレームレートで快適にプレイ。2 <br/>•\\tパフォーマンスモード：滑らかなターゲット60fpsでプレイ。<br/>o\\t4K対応テレビでは1440pよりスーパーサンプリングされたアップスケール4Kで楽しめます。 <br/>o\\t1080p HD対応テレビでは1440pよりスーパーサンプリングされた1080p解像度 （向上したアンチエイリアシング）で楽しめます。<br/>•\\tパフォーマンス＋モード：迫力のターゲット120fps³/1080pでプレイ。<br/><br/>PS4向けソフトウェア（パッケージ版）をお持ちの上で、PS5向けソフトウェア（ダウンロード版）をダウンロードしたりプレイしたりするには、都度PS4版のディスクをPS5に挿入したままにする必要があります。 なお、PS4向けソフトウェア（パッケージ版）からのPS5アップグレードには、ディスクドライブ搭載のPS5本体が必要となります。<br/>PlayStation Plus加入者で、「PS Plusコレクション」より『アンチャーテッド 海賊王と最後の秘宝』を追加料金なしでダウンロードした方は、PS5へのアップグレードの権利は購入いただけません。<br/><br/>1 3Dオーディオ内蔵TVスピーカー（最新のシステムソフトウェア）または対応ステレオヘッドホン（アナログまたはUSB接続）が必要です。<br/>2 4K/HDR対応テレビまたはディスプレイが必要です。<br/>3 120hz対応ディスプレイが必要です。<br/>\"},{\"__typename\":\"Description\",\"type\":\"COMPATIBILITY_NOTICE\",\"subType\":\"NONE\",\"value\":\"オフライン専用<br/>1人のプレイヤー<br/>リモートプレイ対応\"},{\"__typename\":\"Description\",\"type\":\"LEGAL\",\"subType\":null,\"value\":\"<br>このコンテンツは、アカウントに登録されている主なPS5(「コンテンツ共有とオフラインプレイ」設定)ではいつでも、その他のPS5の場合には同アカウントでログインした後に、ダウンロードしてプレイすることができます。<br>\"},{\"__typename\":\"Description\",\"type\":\"LEGAL\",\"subType\":\"SCEJ_HEALTH_TEXT\",\"value\":\"<br>健康のためのご注意については次のURLをご参照ください：https://www.playstation.com/ja-jp/legal/health-warning/<br>\"},{\"__typename\":\"Description\",\"type\":\"LEGAL\",\"subType\":\"PUBLISHER\",\"value\":\"<br/>©2021 Sony Interactive Entertainment LLC. Created and developed by Naughty Dog LLC. アンチャーテッド および アンチャーテッド トレジャーハンターコレクション は、株式会社ソニー・インタラクティブエンタテインメントの商標です。<br/><br/>・JASRAC許諾番号：6718117058Y43030<br/>\"}],\"type\":\"GAME\"},\"Concept:205354\":{\"id\":\"205354\",\"__typename\":\"Concept\",\"invariantName\":\"UNCHARTED: Legacy of Thieves Collection\",\"localizedGenres\":[{\"__typename\":\"LocalizedGenre\",\"value\":\"アクション\"},{\"__typename\":\"LocalizedGenre\",\"value\":\"アドベンチャー\"}],\"publisherName\":\"ソニー・インタラクティブエンタテインメント\",\"releaseDate\":{\"__typename\":\"ReleaseDate\",\"type\":\"DAY_MONTH_YEAR\",\"value\":\"2016-05-09T00:00:00Z\"},\"descriptions\":[{\"__typename\":\"Description\",\"type\":\"SHORT\",\"subType\":\"NONE\",\"value\":\"冒険に出る準備はいいか？\"},{\"__typename\":\"Description\",\"type\":\"LONG\",\"subType\":\"NONE\",\"value\":\"アクションアドベンチャーの決定版「アンチャーテッド」シリーズ最新作がPlayStation®4で登場！<br/><br/>財宝を求め世界中を舞台に繰り広げられるストーリーや興奮必至のアクションなどが高く評価されている「アンチャーテッド」シリーズは全世界で300以上のアワードを受賞するなど、まさにアクションアドベンチャーの決定版。<br/><br/>最新作『アンチャーテッド 海賊王と最後の秘宝』は、シリーズ最高のグラフィックスと進化したアクションプレイ、深みを増したストーリーで、 これまで以上の興奮と感動をお届けする。ロープやハーケンの登場でさらに楽しくなったアクションに、さまざまな戦術で戦えるようになったコンバット、驚嘆のクオリティーで作りあげられた圧倒的な美しさのステージ、探索の自由さなどが加わり、軽妙かつ味わいのあるキャラ同士の掛け合いも絶好調。10年間の歴史と技術が詰め込まれた、ノーティードッグの集大成にふさわしい出来ばえの作品となっている。<br/><br/>＜ストーリー＞<br/>長年冒険を共にしたエレナと結ばれ、平和な家庭生活を楽しんでいたネイト（ネイサン・ドレイク）。だが、あるきっかけから、伝説の大海賊「ヘンリー・エイブリ―」が遺したとされる莫大な財宝を求めて、再会した兄のサムやサリーと共に再び危険な冒険へと乗り出すことになる。かつての仲間や民間軍事会社を率いる最強の女兵士も絡んでの争奪戦は、世界各地を舞台にかつてない規模で展開する。\"},{\"__typename\":\"Description\",\"type\":\"LEGAL\",\"subType\":\"PUBLISHER\",\"value\":\"©2016 Sony Interactive Entertainment LLC. Created and developed by Naughty Dog LLC\"}],\"defaultProduct\":{\"__ref\":\"Product:JP9000-PPSA05685_00-UNCHARTED4R00000\"}},\"ROOT_QUERY\":{\"__typename\":\"Query\",\"conceptRetrieve({\\\"conceptId\\\":\\\"205354\\\"})\":{\"__ref\":\"Concept:205354\"}}},\"translations\":{\"msgid_language_en_gb\":\"\",\"msgid_language_en\":\"英語\",\"msgid_language_ja_jp\":\"\",\"msgid_language_ja\":\"日本語\",\"msgid_platform\":\"プラットフォーム\",\"msgid_date_separator\":\"/\",\"msgid_release\":\"発売日\",\"msgid_publisher_no_colon\":\"メーカー\",\"msgid_genre\":\"ジャンル\",\"msgid_voice\":\"音声\",\"msgid_screen_languages\":\"表示言語\"}}</script><div class=\"psw-root psw-dark-theme\" data-initial=\"env:bee09e80-df30-11ee-b0f6-518e2dc4fd26\" data-mfe-name=\"gameInfo\"><div class=\"psw-c-bg-0 psw-t-secondary psw-l-grid\" data-qa=\"gameInfo\" data-reactroot=\"\"><div class=\"psw-l-w-1/4 psw-l-w-1/6@tablet-s psw-l-w-1/6@tablet-l psw-l-exclude@below-tablet-s\"></div><div class=\"psw-l-w-1/1 psw-l-w-1/3@tablet-s psw-l-w-1/3@tablet-l psw-l-w-1/4@laptop psw-l-w-1/4@desktop psw-l-w-1/4@max\"><dl class=\"psw-l-grid psw-fill-x psw-m-y-0\" data-qa=\"gameInfo#releaseInformation\"><dt class=\"psw-p-l-6 psw-p-l-0@tablet-s psw-l-w-1/2 psw-l-w-1/6@tablet-s psw-l-w-1/6@tablet-l psw-l-w-1/24@laptop psw-l-w-1/12@desktop psw-l-w-1/12@max\" data-qa=\"gameInfo#releaseInformation#platform-key\">プラットフォーム:</dt><dd class=\"psw-p-r-6 psw-p-r-0@tablet-s psw-t-bold psw-l-w-1/2 psw-l-w-1/6@tablet-s psw-l-w-1/6@tablet-l psw-l-w-1/8@laptop psw-l-w-1/6@desktop psw-l-w-1/6@max\" data-qa=\"gameInfo#releaseInformation#platform-value\">PS5</dd><dt class=\"psw-p-l-6 psw-p-l-0@tablet-s psw-l-w-1/2 psw-l-w-1/6@tablet-s psw-l-w-1/6@tablet-l psw-l-w-1/24@laptop psw-l-w-1/12@desktop psw-l-w-1/12@max\" data-qa=\"gameInfo#releaseInformation#releaseDate-key\">発売日:</dt><dd class=\"psw-p-r-6 psw-p-r-0@tablet-s psw-t-bold psw-l-w-1/2 psw-l-w-1/6@tablet-s psw-l-w-1/6@tablet-l psw-l-w-1/8@laptop psw-l-w-1/6@desktop psw-l-w-1/6@max\" data-qa=\"gameInfo#releaseInformation#releaseDate-value\">2022/1/27</dd><dt class=\"psw-p-l-6 psw-p-l-0@tablet-s psw-l-w-1/2 psw-l-w-1/6@tablet-s psw-l-w-1/6@tablet-l psw-l-w-1/24@laptop psw-l-w-1/12@desktop psw-l-w-1/12@max\" data-qa=\"gameInfo#releaseInformation#publisher-key\">メーカー:</dt><dd class=\"psw-p-r-6 psw-p-r-0@tablet-s psw-t-bold psw-l-w-1/2 psw-l-w-1/6@tablet-s psw-l-w-1/6@tablet-l psw-l-w-1/8@laptop psw-l-w-1/6@desktop psw-l-w-1/6@max\" data-qa=\"gameInfo#releaseInformation#publisher-value\">ソニー・インタラクティブエンタテインメント</dd><dt class=\"psw-p-l-6 psw-p-l-0@tablet-s psw-l-w-1/2 psw-l-w-1/6@tablet-s psw-l-w-1/6@tablet-l psw-l-w-1/24@laptop psw-l-w-1/12@desktop psw-l-w-1/12@max\" data-qa=\"gameInfo#releaseInformation#genre-key\">ジャンル:</dt><dd class=\"psw-p-r-6 psw-p-r-0@tablet-s psw-t-bold psw-l-w-1/2 psw-l-w-1/6@tablet-s psw-l-w-1/6@tablet-l psw-l-w-1/8@laptop psw-l-w-1/6@desktop psw-l-w-1/6@max\" data-qa=\"gameInfo#releaseInformation#genre-value\"><span style=\"text-transform:capitalize\">アクション, アドベンチャー</span></dd><dt class=\"psw-p-l-6 psw-p-l-0@tablet-s psw-l-w-1/2 psw-l-w-1/6@tablet-s psw-l-w-1/6@tablet-l psw-l-w-1/24@laptop psw-l-w-1/12@desktop psw-l-w-1/12@max\" data-qa=\"gameInfo#releaseInformation#voice-key\">音声:</dt><dd class=\"psw-p-r-6 psw-p-r-0@tablet-s psw-t-bold psw-l-w-1/2 psw-l-w-1/6@tablet-s psw-l-w-1/6@tablet-l psw-l-w-1/8@laptop psw-l-w-1/6@desktop psw-l-w-1/6@max\" data-qa=\"gameInfo#releaseInformation#voice-value\">日本語, 英語</dd><dt class=\"psw-p-l-6 psw-p-l-0@tablet-s psw-l-w-1/2 psw-l-w-1/6@tablet-s psw-l-w-1/6@tablet-l psw-l-w-1/24@laptop psw-l-w-1/12@desktop psw-l-w-1/12@max\" data-qa=\"gameInfo#releaseInformation#subtitles-key\">表示言語:</dt><dd class=\"psw-p-r-6 psw-p-r-0@tablet-s psw-t-bold psw-l-w-1/2 psw-l-w-1/6@tablet-s psw-l-w-1/6@tablet-l psw-l-w-1/8@laptop psw-l-w-1/6@desktop psw-l-w-1/6@max\" data-qa=\"gameInfo#releaseInformation#subtitles-value\">日本語, 英語</dd></dl></div><div class=\"psw-m-t-7 psw-l-exclude@tablet-s\"></div><div class=\"psw-l-w-1/24 psw-l-exclude@below-desktop\"></div><div class=\"psw-t-preserve psw-l-w-1/1 psw-l-w-1/3@tablet-s psw-l-w-1/3@tablet-l psw-l-w-5/24@laptop psw-l-w-5/24@desktop psw-l-w-5/24@max psw-p-x-6 psw-p-x-0@tablet-s\" data-qa=\"gameInfo#legalText\">このコンテンツは、アカウントに登録されている主なPS5(「コンテンツ共有とオフラインプレイ」設定)ではいつでも、その他のPS5の場合には同アカウントでログインした後に、ダウンロードしてプレイすることができます。<br/><br/>健康のためのご注意については次のURLをご参照ください：https://www.playstation.com/ja-jp/legal/health-warning/</div></div></div></div></div><div class=\"psw-m-t-10 psw-fill-x\"><div class=\"pdp-publisher-legal\"><script id=\"env:bedf3ef0-df30-11ee-b30f-351cb7130bd5\" type=\"application/json\">{\"args\":{\"conceptId\":\"205354\"},\"overrides\":{\"theme\":\"dark\",\"locale\":\"ja-jp\"},\"cache\":{\"Product:JP9000-PPSA05685_00-UNCHARTED4R00000\":{\"id\":\"JP9000-PPSA05685_00-UNCHARTED4R00000\",\"__typename\":\"Product\",\"privacyPolicy\":null,\"publisherName\":\"ソニー・インタラクティブエンタテインメント\",\"descriptions\":[{\"__typename\":\"Description\",\"type\":\"SHORT\",\"subType\":\"NONE\",\"value\":\"冒険に出る準備はいいか？\"},{\"__typename\":\"Description\",\"type\":\"LONG\",\"subType\":\"NONE\",\"value\":\"PS4の『アンチャーテッド 海賊王と最後の秘宝』、『アンチャーテッド 古代神の秘宝』、『アンチャーテッド 海賊王と最後の秘宝＆アンチャーテッド 古代神の秘宝デジタルバンドル』のうちいずれか、またはすべてを購入している場合、1,100円（税込）でPS5の『アンチャーテッド トレジャーハンターコレクション』にアップグレードができる権利が取得できます。アップグレードは2022年1月28日より可能です。<br/><br/>『アンチャーテッド トレジャーハンターコレクション』でトレジャーハンターとして伝説の財宝を求める冒険へ出かけよう。ノーティードッグが手掛ける、まるで映画のような手に汗握るストーリーと、かつてないスケールのアクションが一本に。<br/><br/>本作では、高い評価と絶大な支持を得たシングルプレイアドベンチャー、『アンチャーテッド 海賊王と最後の秘宝』と『アンチャーテッド 古代神の秘宝』が、PS5™向けに進化したグラフィックとフレームレートでリマスターされて帰ってくる。<br/><br/><br/>PlayStation®5の機能：<br/>•\\tDualSense™ ワイヤレスコントローラー：ハプティックフィードバックによってパンチ、ジャンプ、ドライビングなどの感覚がリアルに伝わる。さらに、ロープアクションではアダプティブトリガーの抵抗をダイナミックに感じ取れる。 <br/>•\\t高速ロード：PS5™本体の超高速SSDにより、冒険が瞬時に始められる。 <br/>•\\t3Dオーディオ：『アンチャーテッド トレジャーハンターコレクション』の世界が3Dオーディオによってリアルに感じ取れる。¹  <br/>•\\t忠実度モード：鮮やかなネイティブ4K解像度、ターゲット30fpsフレームレートで快適にプレイ。2 <br/>•\\tパフォーマンスモード：滑らかなターゲット60fpsでプレイ。<br/>o\\t4K対応テレビでは1440pよりスーパーサンプリングされたアップスケール4Kで楽しめます。 <br/>o\\t1080p HD対応テレビでは1440pよりスーパーサンプリングされた1080p解像度 （向上したアンチエイリアシング）で楽しめます。<br/>•\\tパフォーマンス＋モード：迫力のターゲット120fps³/1080pでプレイ。<br/><br/>PS4向けソフトウェア（パッケージ版）をお持ちの上で、PS5向けソフトウェア（ダウンロード版）をダウンロードしたりプレイしたりするには、都度PS4版のディスクをPS5に挿入したままにする必要があります。 なお、PS4向けソフトウェア（パッケージ版）からのPS5アップグレードには、ディスクドライブ搭載のPS5本体が必要となります。<br/>PlayStation Plus加入者で、「PS Plusコレクション」より『アンチャーテッド 海賊王と最後の秘宝』を追加料金なしでダウンロードした方は、PS5へのアップグレードの権利は購入いただけません。<br/><br/>1 3Dオーディオ内蔵TVスピーカー（最新のシステムソフトウェア）または対応ステレオヘッドホン（アナログまたはUSB接続）が必要です。<br/>2 4K/HDR対応テレビまたはディスプレイが必要です。<br/>3 120hz対応ディスプレイが必要です。<br/>\"},{\"__typename\":\"Description\",\"type\":\"COMPATIBILITY_NOTICE\",\"subType\":\"NONE\",\"value\":\"オフライン専用<br/>1人のプレイヤー<br/>リモートプレイ対応\"},{\"__typename\":\"Description\",\"type\":\"LEGAL\",\"subType\":null,\"value\":\"<br>このコンテンツは、アカウントに登録されている主なPS5(「コンテンツ共有とオフラインプレイ」設定)ではいつでも、その他のPS5の場合には同アカウントでログインした後に、ダウンロードしてプレイすることができます。<br>\"},{\"__typename\":\"Description\",\"type\":\"LEGAL\",\"subType\":\"SCEJ_HEALTH_TEXT\",\"value\":\"<br>健康のためのご注意については次のURLをご参照ください：https://www.playstation.com/ja-jp/legal/health-warning/<br>\"},{\"__typename\":\"Description\",\"type\":\"LEGAL\",\"subType\":\"PUBLISHER\",\"value\":\"<br/>©2021 Sony Interactive Entertainment LLC. Created and developed by Naughty Dog LLC. アンチャーテッド および アンチャーテッド トレジャーハンターコレクション は、株式会社ソニー・インタラクティブエンタテインメントの商標です。<br/><br/>・JASRAC許諾番号：6718117058Y43030<br/>\"}]},\"Concept:205354\":{\"id\":\"205354\",\"__typename\":\"Concept\",\"defaultProduct\":{\"__ref\":\"Product:JP9000-PPSA05685_00-UNCHARTED4R00000\"},\"privacyPolicy\":null,\"publisherName\":\"ソニー・インタラクティブエンタテインメント\",\"descriptions\":[{\"__typename\":\"Description\",\"type\":\"SHORT\",\"subType\":\"NONE\",\"value\":\"冒険に出る準備はいいか？\"},{\"__typename\":\"Description\",\"type\":\"LONG\",\"subType\":\"NONE\",\"value\":\"アクションアドベンチャーの決定版「アンチャーテッド」シリーズ最新作がPlayStation®4で登場！<br/><br/>財宝を求め世界中を舞台に繰り広げられるストーリーや興奮必至のアクションなどが高く評価されている「アンチャーテッド」シリーズは全世界で300以上のアワードを受賞するなど、まさにアクションアドベンチャーの決定版。<br/><br/>最新作『アンチャーテッド 海賊王と最後の秘宝』は、シリーズ最高のグラフィックスと進化したアクションプレイ、深みを増したストーリーで、 これまで以上の興奮と感動をお届けする。ロープやハーケンの登場でさらに楽しくなったアクションに、さまざまな戦術で戦えるようになったコンバット、驚嘆のクオリティーで作りあげられた圧倒的な美しさのステージ、探索の自由さなどが加わり、軽妙かつ味わいのあるキャラ同士の掛け合いも絶好調。10年間の歴史と技術が詰め込まれた、ノーティードッグの集大成にふさわしい出来ばえの作品となっている。<br/><br/>＜ストーリー＞<br/>長年冒険を共にしたエレナと結ばれ、平和な家庭生活を楽しんでいたネイト（ネイサン・ドレイク）。だが、あるきっかけから、伝説の大海賊「ヘンリー・エイブリ―」が遺したとされる莫大な財宝を求めて、再会した兄のサムやサリーと共に再び危険な冒険へと乗り出すことになる。かつての仲間や民間軍事会社を率いる最強の女兵士も絡んでの争奪戦は、世界各地を舞台にかつてない規模で展開する。\"},{\"__typename\":\"Description\",\"type\":\"LEGAL\",\"subType\":\"PUBLISHER\",\"value\":\"©2016 Sony Interactive Entertainment LLC. Created and developed by Naughty Dog LLC\"}]},\"ROOT_QUERY\":{\"__typename\":\"Query\",\"conceptRetrieve({\\\"conceptId\\\":\\\"205354\\\"})\":{\"__ref\":\"Concept:205354\"}}},\"translations\":{}}</script><div class=\"psw-root psw-dark-theme\" data-initial=\"env:bedf3ef0-df30-11ee-b30f-351cb7130bd5\" data-mfe-name=\"legalText\"><div class=\"psw-c-bg-0 psw-l-section psw-t-align-c psw-l-w-1/1 psw-l-w-2/3@tablet-s psw-l-w-2/3@tablet-l psw-l-w-2/3@laptop psw-l-w-1/2@desktop psw-l-w-1/2@max\" data-qa=\"mfe-legal-text\" data-reactroot=\"\"><div data-qa=\"mfe-legal-text#text\">©2021 Sony Interactive Entertainment LLC. Created and developed by Naughty Dog LLC. アンチャーテッド および アンチャーテッド トレジャーハンターコレクション は、株式会社ソニー・インタラクティブエンタテインメントの商標です。<br/><br/>・JASRAC許諾番号：6718117058Y43030</div></div></div></div></div><div class=\"psw-l-line-left psw-m-t-11\"></div></div></main></div><script id=\"__NEXT_DATA__\" type=\"application/json\">{\"props\":{\"pageProps\":{\"locale\":\"ja-jp\",\"conceptId\":\"205354\",\"isLoggedIn\":false,\"page\":null,\"batarangs\":{\"background-image\":{\"text\":\"\\u003cscript id=\\\"env:bedec9c0-df30-11ee-9c03-973b4b01b1af\\\" type=\\\"application/json\\\"\\u003e{\\\"args\\\":{\\\"conceptId\\\":\\\"205354\\\"},\\\"overrides\\\":{\\\"legacy\\\":false,\\\"overlay\\\":false,\\\"theme\\\":\\\"dark\\\",\\\"locale\\\":\\\"ja-jp\\\"},\\\"cache\\\":{\\\"Product:JP9000-PPSA05685_00-UNCHARTED4R00000\\\":{\\\"id\\\":\\\"JP9000-PPSA05685_00-UNCHARTED4R00000\\\",\\\"__typename\\\":\\\"Product\\\",\\\"name\\\":\\\"アンチャーテッド トレジャーハンターコレクション\\\",\\\"media\\\":[{\\\"__typename\\\":\\\"Media\\\",\\\"type\\\":\\\"IMAGE\\\",\\\"role\\\":\\\"FOUR_BY_THREE_BANNER\\\",\\\"url\\\":\\\"https://image.api.playstation.com/vulcan/ap/rnd/202111/2000/5SRujXtEDnn92ckPYrxCrDcf.png\\\"},{\\\"__typename\\\":\\\"Media\\\",\\\"type\\\":\\\"IMAGE\\\",\\\"role\\\":\\\"GAMEHUB_COVER_ART\\\",\\\"url\\\":\\\"https://image.api.playstation.com/vulcan/ap/rnd/202111/2000/BipBfN7ieIyRmfYKKQO0y8fp.png\\\"},{\\\"__typename\\\":\\\"Media\\\",\\\"type\\\":\\\"IMAGE\\\",\\\"role\\\":\\\"LOGO\\\",\\\"url\\\":\\\"https://image.api.playstation.com/vulcan/img/rnd/202112/0220/8BwUHCrCPOTKb3qETEzODUbN.png\\\"},{\\\"__typename\\\":\\\"Media\\\",\\\"type\\\":\\\"IMAGE\\\",\\\"role\\\":\\\"PORTRAIT_BANNER\\\",\\\"url\\\":\\\"https://image.api.playstation.com/vulcan/ap/rnd/202111/2000/YB4Y6BV9rU8axpJDuUZdDZN9.png\\\"},{\\\"__typename\\\":\\\"Media\\\",\\\"type\\\":\\\"IMAGE\\\",\\\"role\\\":\\\"SCREENSHOT\\\",\\\"url\\\":\\\"https://image.api.playstation.com/vulcan/ap/rnd/202111/2000/rJiTOlaqhVJ86Ix1uQSzsTpO.jpg\\\"},{\\\"__typename\\\":\\\"Media\\\",\\\"type\\\":\\\"IMAGE\\\",\\\"role\\\":\\\"SCREENSHOT\\\",\\\"url\\\":\\\"https://image.api.playstation.com/vulcan/ap/rnd/202111/2000/YZUN6kSpNxf2w4ctTGwl3UHw.jpg\\\"},{\\\"__typename\\\":\\\"Media\\\",\\\"type\\\":\\\"IMAGE\\\",\\\"role\\\":\\\"SCREENSHOT\\\",\\\"url\\\":\\\"https://image.api.playstation.com/vulcan/ap/rnd/202111/2000/Ta807nPySbwuYgWk5XDFEgDy.jpg\\\"},{\\\"__typename\\\":\\\"Media\\\",\\\"type\\\":\\\"IMAGE\\\",\\\"role\\\":\\\"SCREENSHOT\\\",\\\"url\\\":\\\"https://image.api.playstation.com/vulcan/ap/rnd/202111/2000/bcWMApRoSxqOthLr1GEftNya.jpg\\\"},{\\\"__typename\\\":\\\"Media\\\",\\\"type\\\":\\\"IMAGE\\\",\\\"role\\\":\\\"SCREENSHOT\\\",\\\"url\\\":\\\"https://image.api.playstation.com/vulcan/ap/rnd/202111/2000/SHYyyHBgb0ZnFZNrGutlrzJp.jpg\\\"},{\\\"__typename\\\":\\\"Media\\\",\\\"type\\\":\\\"IMAGE\\\",\\\"role\\\":\\\"SCREENSHOT\\\",\\\"url\\\":\\\"https://image.api.playstation.com/vulcan/ap/rnd/202111/2000/YzYAHfg232taFVsabGMxLJ4E.jpg\\\"},{\\\"__typename\\\":\\\"Media\\\",\\\"type\\\":\\\"IMAGE\\\",\\\"role\\\":\\\"SCREENSHOT\\\",\\\"url\\\":\\\"https://image.api.playstation.com/vulcan/ap/rnd/202111/2000/07ZQFfxJFfE1vkmOc2qPVpmU.jpg\\\"},{\\\"__typename\\\":\\\"Media\\\",\\\"type\\\":\\\"IMAGE\\\",\\\"role\\\":\\\"SCREENSHOT\\\",\\\"url\\\":\\\"https://image.api.playstation.com/vulcan/ap/rnd/202111/2000/pgtG5vIugUKhjlCP1fgMwKbB.jpg\\\"},{\\\"__typename\\\":\\\"Media\\\",\\\"type\\\":\\\"IMAGE\\\",\\\"role\\\":\\\"SCREENSHOT\\\",\\\"url\\\":\\\"https://image.api.playstation.com/vulcan/ap/rnd/202111/2000/9CvbRlePWpByLit7DJoZ2ukW.jpg\\\"},{\\\"__typename\\\":\\\"Media\\\",\\\"type\\\":\\\"IMAGE\\\",\\\"role\\\":\\\"SCREENSHOT\\\",\\\"url\\\":\\\"https://image.api.playstation.com/vulcan/ap/rnd/202111/2000/l3FiiXumavyCmX3puXjGVHV0.jpg\\\"},{\\\"__typename\\\":\\\"Media\\\",\\\"type\\\":\\\"IMAGE\\\",\\\"role\\\":\\\"MASTER\\\",\\\"url\\\":\\\"https://image.api.playstation.com/vulcan/ap/rnd/202111/2000/W7fnIRwYvGF17Qzg4duWQD4I.png\\\"}]},\\\"Concept:205354\\\":{\\\"id\\\":\\\"205354\\\",\\\"__typename\\\":\\\"Concept\\\",\\\"defaultProduct\\\":{\\\"__ref\\\":\\\"Product:JP9000-PPSA05685_00-UNCHARTED4R00000\\\"},\\\"name\\\":\\\"アンチャーテッド トレジャーハンターコレクション\\\",\\\"media\\\":[{\\\"__typename\\\":\\\"Media\\\",\\\"type\\\":\\\"IMAGE\\\",\\\"role\\\":\\\"BACKGROUND_LAYER_ART\\\",\\\"url\\\":\\\"https://image.api.playstation.com/vulcan/img/rnd/202112/0714/T9QCTQObL8tjAi8Ew3Grx7mJ.png\\\"},{\\\"__typename\\\":\\\"Media\\\",\\\"type\\\":\\\"IMAGE\\\",\\\"role\\\":\\\"FOUR_BY_THREE_BANNER\\\",\\\"url\\\":\\\"https://image.api.playstation.com/vulcan/ap/rnd/202111/2000/5SRujXtEDnn92ckPYrxCrDcf.png\\\"},{\\\"__typename\\\":\\\"Media\\\",\\\"type\\\":\\\"IMAGE\\\",\\\"role\\\":\\\"GAMEHUB_COVER_ART\\\",\\\"url\\\":\\\"https://image.api.playstation.com/vulcan/ap/rnd/202111/2000/KM57mTQi3qxRxLie2W8laBgP.png\\\"},{\\\"__typename\\\":\\\"Media\\\",\\\"type\\\":\\\"IMAGE\\\",\\\"role\\\":\\\"HERO_CHARACTER\\\",\\\"url\\\":\\\"https://image.api.playstation.com/vulcan/img/rnd/202112/0714/TGbdW4coWcXNn646ZWTitCOM.png\\\"},{\\\"__typename\\\":\\\"Media\\\",\\\"type\\\":\\\"IMAGE\\\",\\\"role\\\":\\\"LOGO\\\",\\\"url\\\":\\\"https://image.api.playstation.com/vulcan/img/rnd/202112/0220/8BwUHCrCPOTKb3qETEzODUbN.png\\\"},{\\\"__typename\\\":\\\"Media\\\",\\\"type\\\":\\\"IMAGE\\\",\\\"role\\\":\\\"PORTRAIT_BANNER\\\",\\\"url\\\":\\\"https://image.api.playstation.com/vulcan/ap/rnd/202111/2000/YB4Y6BV9rU8axpJDuUZdDZN9.png\\\"},{\\\"__typename\\\":\\\"Media\\\",\\\"type\\\":\\\"IMAGE\\\",\\\"role\\\":\\\"MASTER\\\",\\\"url\\\":\\\"https://image.api.playstation.com/vulcan/ap/rnd/202111/2000/W7fnIRwYvGF17Qzg4duWQD4I.png\\\"}]},\\\"ROOT_QUERY\\\":{\\\"__typename\\\":\\\"Query\\\",\\\"conceptRetrieve({\\\\\\\"conceptId\\\\\\\":\\\\\\\"205354\\\\\\\"})\\\":{\\\"__ref\\\":\\\"Concept:205354\\\"}}},\\\"translations\\\":{}}\\u003c/script\\u003e\\u003cdiv data-mfe-name=\\\"gameBackgroundImage\\\" class=\\\"psw-root psw-dark-theme\\\" data-initial=\\\"env:bedec9c0-df30-11ee-9c03-973b4b01b1af\\\"\\u003e\\u003cdiv data-qa=\\\"gameBackgroundImage\\\" class=\\\"psw-game-background-image psw-l-anchor psw-with-hero\\\" data-reactroot\\u003e\\u003cspan data-qa=\\\"gameBackgroundImage#heroImage\\\" class=\\\"psw-media-frame psw-fill-x psw-image psw-media psw-aspect-16-9\\\"\\u003e\\u003cimg aria-hidden=\\\"true\\\" loading=\\\"lazy\\\" data-qa=\\\"gameBackgroundImage#heroImage#preview\\\" alt=\\\"アンチャーテッド トレジャーハンターコレクション\\\" class=\\\"psw-blur psw-right-top-third psw-l-fit-cover\\\" src=\\\"https://image.api.playstation.com/vulcan/ap/rnd/202111/2000/BipBfN7ieIyRmfYKKQO0y8fp.png?w=54\\u0026amp;thumb=true\\\" /\\u003e\\u003cnoscript class=\\\"psw-layer\\\"\\u003e\\u003cimg class=\\\"psw-right-top-third psw-l-fit-cover\\\" loading=\\\"lazy\\\" data-qa=\\\"gameBackgroundImage#heroImage#image-no-js\\\" alt=\\\"アンチャーテッド トレジャーハンターコレクション\\\" src=\\\"https://image.api.playstation.com/vulcan/ap/rnd/202111/2000/BipBfN7ieIyRmfYKKQO0y8fp.png\\\" /\\u003e\\u003c/noscript\\u003e\\u003c/span\\u003e\\u003c/div\\u003e\\u003c/div\\u003e\",\"statusCode\":200},\"game-title\":{\"text\":\"\\u003cscript id=\\\"env:beec1030-df30-11ee-817a-9d9d5f48438d\\\" type=\\\"application/json\\\"\\u003e{\\\"args\\\":{\\\"conceptId\\\":\\\"205354\\\"},\\\"overrides\\\":{\\\"showRatingInfo\\\":true,\\\"theme\\\":\\\"dark\\\",\\\"locale\\\":\\\"ja-jp\\\"},\\\"cache\\\":{\\\"GameCTA:ADD_TO_CART:ADD_TO_CART:JP9000-PPSA05685_00-UNCHARTED4R00000-J003\\\":{\\\"id\\\":\\\"ADD_TO_CART:ADD_TO_CART:JP9000-PPSA05685_00-UNCHARTED4R00000-J003\\\",\\\"__typename\\\":\\\"GameCTA\\\",\\\"type\\\":\\\"ADD_TO_CART\\\",\\\"action\\\":{\\\"__typename\\\":\\\"Action\\\",\\\"type\\\":\\\"ADD_TO_CART\\\",\\\"param\\\":[{\\\"__typename\\\":\\\"ActionParam\\\",\\\"name\\\":\\\"skuId\\\",\\\"value\\\":\\\"JP9000-PPSA05685_00-UNCHARTED4R00000-J003\\\"},{\\\"__typename\\\":\\\"ActionParam\\\",\\\"name\\\":\\\"rewardId\\\",\\\"value\\\":null},{\\\"__typename\\\":\\\"ActionParam\\\",\\\"name\\\":\\\"prologueEmsAlias\\\",\\\"value\\\":\\\"plus--buy_game_catalog\\\"}]},\\\"meta\\\":{\\\"__typename\\\":\\\"CTAMeta\\\",\\\"preOrder\\\":false}},\\\"GameCTA:UPSELL_PS_PLUS_GAME_CATALOG:ADD_TO_CART:JP9000-PPSA05685_00-UNCHARTED4R00000-J003:SUB001-SUBC00002_00-HM93SKR5MGPG6TD8\\\":{\\\"id\\\":\\\"UPSELL_PS_PLUS_GAME_CATALOG:ADD_TO_CART:JP9000-PPSA05685_00-UNCHARTED4R00000-J003:SUB001-SUBC00002_00-HM93SKR5MGPG6TD8\\\",\\\"__typename\\\":\\\"GameCTA\\\",\\\"type\\\":\\\"UPSELL_PS_PLUS_GAME_CATALOG\\\",\\\"action\\\":{\\\"__typename\\\":\\\"Action\\\",\\\"type\\\":\\\"ADD_TO_CART\\\",\\\"param\\\":[{\\\"__typename\\\":\\\"ActionParam\\\",\\\"name\\\":\\\"skuId\\\",\\\"value\\\":\\\"JP9000-PPSA05685_00-UNCHARTED4R00000-J003\\\"},{\\\"__typename\\\":\\\"ActionParam\\\",\\\"name\\\":\\\"prologueEmsAlias\\\",\\\"value\\\":\\\"plus--gamehub_upsell_cta--game_catalog\\\"},{\\\"__typename\\\":\\\"ActionParam\\\",\\\"name\\\":\\\"rewardId\\\",\\\"value\\\":\\\"SUB001-SUBC00002_00-HM93SKR5MGPG6TD8\\\"},{\\\"__typename\\\":\\\"ActionParam\\\",\\\"name\\\":\\\"rewardId\\\",\\\"value\\\":\\\"SUB001-SUBC00002_00-HM93SKR5MGPG6TD8\\\"}]},\\\"meta\\\":{\\\"__typename\\\":\\\"CTAMeta\\\",\\\"preOrder\\\":false}},\\\"Product:JP9000-PPSA05685_00-UNCHARTED4R00000\\\":{\\\"id\\\":\\\"JP9000-PPSA05685_00-UNCHARTED4R00000\\\",\\\"__typename\\\":\\\"Product\\\",\\\"edition\\\":{\\\"__typename\\\":\\\"ProductEdition\\\",\\\"name\\\":\\\"\\\"},\\\"name\\\":\\\"アンチャーテッド トレジャーハンターコレクション\\\",\\\"platforms\\\":[\\\"PS5\\\"],\\\"publisherName\\\":\\\"ソニー・インタラクティブエンタテインメント\\\",\\\"releaseDate\\\":\\\"2022-01-27T15:00:00Z\\\",\\\"starRating\\\":{\\\"__typename\\\":\\\"StarRating\\\",\\\"averageRating\\\":4.74,\\\"totalRatingsCount\\\":179895},\\\"topCategory\\\":\\\"GAME\\\",\\\"webctas\\\":[{\\\"__ref\\\":\\\"GameCTA:ADD_TO_CART:ADD_TO_CART:JP9000-PPSA05685_00-UNCHARTED4R00000-J003\\\"},{\\\"__ref\\\":\\\"GameCTA:UPSELL_PS_PLUS_GAME_CATALOG:ADD_TO_CART:JP9000-PPSA05685_00-UNCHARTED4R00000-J003:SUB001-SUBC00002_00-HM93SKR5MGPG6TD8\\\"}]},\\\"Concept:205354\\\":{\\\"id\\\":\\\"205354\\\",\\\"__typename\\\":\\\"Concept\\\",\\\"name\\\":\\\"アンチャーテッド トレジャーハンターコレクション\\\",\\\"publisherName\\\":\\\"ソニー・インタラクティブエンタテインメント\\\",\\\"defaultProduct\\\":{\\\"__ref\\\":\\\"Product:JP9000-PPSA05685_00-UNCHARTED4R00000\\\"},\\\"ownedTitles\\\":[],\\\"releaseDate\\\":{\\\"__typename\\\":\\\"ReleaseDate\\\",\\\"type\\\":\\\"DAY_MONTH_YEAR\\\",\\\"value\\\":\\\"2016-05-09T00:00:00Z\\\"}},\\\"ROOT_QUERY\\\":{\\\"__typename\\\":\\\"Query\\\",\\\"conceptRetrieve({\\\\\\\"conceptId\\\\\\\":\\\\\\\"205354\\\\\\\"})\\\":{\\\"__ref\\\":\\\"Concept:205354\\\"}}},\\\"translations\\\":{\\\"msgid_time_separator\\\":\\\":\\\",\\\"msgid_decimal_symbol\\\":\\\".\\\",\\\"msgid_digit_separator_symbol\\\":\\\",\\\",\\\"msgid_large_thousands\\\":\\\"%num%K\\\",\\\"msgid_variable_ratings\\\":\\\"%num%件の評価\\\",\\\"msgid_sr_average_ratings\\\":\\\"評価数は%totalnum%、平均評価は5段階中の%num%です\\\"}}\\u003c/script\\u003e\\u003cdiv data-mfe-name=\\\"gameTitle\\\" class=\\\"psw-root psw-dark-theme\\\" data-initial=\\\"env:beec1030-df30-11ee-817a-9d9d5f48438d\\\"\\u003e\\u003cdiv class=\\\"psw-c-bg-0\\\" data-qa=\\\"mfe-game-title\\\" data-reactroot\\u003e\\u003ch1 class=\\\"psw-m-b-5 psw-t-title-l psw-t-size-8 psw-l-line-break-word\\\" data-qa=\\\"mfe-game-title#name\\\"\\u003eアンチャーテッド トレジャーハンターコレクション\\u003c/h1\\u003e\\u003cdiv class=\\\"psw-t-overline psw-t-bold\\\" data-qa=\\\"mfe-game-title#publisher\\\"\\u003eソニー・インタラクティブエンタテインメント\\u003c/div\\u003e\\u003cdiv class=\\\"psw-l-space-x-2 psw-l-line-left psw-m-t-4\\\"\\u003e\\u003cspan data-qa=\\\"mfe-game-title#productTag0\\\" class=\\\"psw-p-x-2 psw-p-y-1 psw-t-tag\\\"\\u003ePS5\\u003c/span\\u003e\\u003c/div\\u003e\\u003ca data-qa data-track-click=\\\"starRating:selectStarRatingLink\\\" data-telemetry-meta=\\\"{\\u0026quot;conceptId\\u0026quot;:\\u0026quot;205354\\u0026quot;,\\u0026quot;productId\\u0026quot;:\\u0026quot;JP9000-PPSA05685_00-UNCHARTED4R00000\\u0026quot;}\\\" id class=\\\"psw-link psw-content-link psw-ally-indicator\\\" aria-label type href=\\\"#star-rating\\\" rel=\\\"noopener noreferrer\\\"\\u003e\\u003cspan class=\\\"psw-sr-only\\\"\\u003e評価数は179K、平均評価は5段階中の4.74です\\u003c/span\\u003e\\u003cdiv aria-hidden=\\\"true\\\" class=\\\"psw-l-inline psw-p-y-xs\\\"\\u003e\\u003cdiv class=\\\"psw-t-subtitle psw-t-bold psw-l-line-center\\\" data-qa=\\\"mfe-game-title#average-rating\\\"\\u003e4.74\\u003c/div\\u003e\\u003cspan class=\\\"psw-p-x-1 psw-l-line-center psw-l-line-left\\\" data-qa=\\\"mfe-game-title#star-rating\\\"\\u003e\\u003cspan data-qa=\\\"mfe-game-title#star-rating#rating-1#icon\\\" class=\\\"psw-icon psw-icon--starrating-full psw-icon psw-icon-size-3 psw-icon--starrating-full\\\"\\u003e\\u003cdiv class=\\\"psw-hide\\\" data-original-icon-id=\\\"ps-icon:starrating-full\\\"\\u003e\\u003csvg xmlns=\\\"http://www.w3.org/2000/svg\\\"\\u003e\\u003csymbol id=\\\"ps-icon:starrating-full:649\\\" viewbox=\\\"0 0 64 64\\\"\\u003e\\u003cpath fill-rule=\\\"evenodd\\\" d=\\\"M52.234 26.425a1.249 1.249 0 00-1.189-.863H37.404l-4.215-12.974a1.249 1.249 0 00-2.378 0l-4.215 12.974H12.955a1.25 1.25 0 00-.735 2.26l11.036 8.019-4.215 12.973a1.251 1.251 0 001.923 1.398L32 42.194l11.036 8.018a1.249 1.249 0 001.469 0c.438-.318.622-.883.455-1.398L40.744 35.84l11.036-8.018a1.25 1.25 0 00.454-1.398z\\\" clip-rule=\\\"evenodd\\\"\\u003e\\u003c/path\\u003e\\u003c/symbol\\u003e\\u003c/svg\\u003e\\u003c/div\\u003e\\u003csvg aria-hidden=\\\"true\\\" focusable=\\\"false\\\"\\u003e\\u003ctitle\\u003e\\u003c/title\\u003e\\u003cuse href=\\\"#ps-icon:starrating-full:649\\\"\\u003e\\u003c/use\\u003e\\u003c/svg\\u003e\\u003c/span\\u003e\\u003cspan data-qa=\\\"mfe-game-title#star-rating#rating-2#icon\\\" class=\\\"psw-icon psw-icon--starrating-full psw-icon psw-icon-size-3 psw-icon--starrating-full\\\"\\u003e\\u003cdiv class=\\\"psw-hide\\\" data-original-icon-id=\\\"ps-icon:starrating-full\\\"\\u003e\\u003csvg xmlns=\\\"http://www.w3.org/2000/svg\\\"\\u003e\\u003csymbol id=\\\"ps-icon:starrating-full:650\\\" viewbox=\\\"0 0 64 64\\\"\\u003e\\u003cpath fill-rule=\\\"evenodd\\\" d=\\\"M52.234 26.425a1.249 1.249 0 00-1.189-.863H37.404l-4.215-12.974a1.249 1.249 0 00-2.378 0l-4.215 12.974H12.955a1.25 1.25 0 00-.735 2.26l11.036 8.019-4.215 12.973a1.251 1.251 0 001.923 1.398L32 42.194l11.036 8.018a1.249 1.249 0 001.469 0c.438-.318.622-.883.455-1.398L40.744 35.84l11.036-8.018a1.25 1.25 0 00.454-1.398z\\\" clip-rule=\\\"evenodd\\\"\\u003e\\u003c/path\\u003e\\u003c/symbol\\u003e\\u003c/svg\\u003e\\u003c/div\\u003e\\u003csvg aria-hidden=\\\"true\\\" focusable=\\\"false\\\"\\u003e\\u003ctitle\\u003e\\u003c/title\\u003e\\u003cuse href=\\\"#ps-icon:starrating-full:650\\\"\\u003e\\u003c/use\\u003e\\u003c/svg\\u003e\\u003c/span\\u003e\\u003cspan data-qa=\\\"mfe-game-title#star-rating#rating-3#icon\\\" class=\\\"psw-icon psw-icon--starrating-full psw-icon psw-icon-size-3 psw-icon--starrating-full\\\"\\u003e\\u003cdiv class=\\\"psw-hide\\\" data-original-icon-id=\\\"ps-icon:starrating-full\\\"\\u003e\\u003csvg xmlns=\\\"http://www.w3.org/2000/svg\\\"\\u003e\\u003csymbol id=\\\"ps-icon:starrating-full:651\\\" viewbox=\\\"0 0 64 64\\\"\\u003e\\u003cpath fill-rule=\\\"evenodd\\\" d=\\\"M52.234 26.425a1.249 1.249 0 00-1.189-.863H37.404l-4.215-12.974a1.249 1.249 0 00-2.378 0l-4.215 12.974H12.955a1.25 1.25 0 00-.735 2.26l11.036 8.019-4.215 12.973a1.251 1.251 0 001.923 1.398L32 42.194l11.036 8.018a1.249 1.249 0 001.469 0c.438-.318.622-.883.455-1.398L40.744 35.84l11.036-8.018a1.25 1.25 0 00.454-1.398z\\\" clip-rule=\\\"evenodd\\\"\\u003e\\u003c/path\\u003e\\u003c/symbol\\u003e\\u003c/svg\\u003e\\u003c/div\\u003e\\u003csvg aria-hidden=\\\"true\\\" focusable=\\\"false\\\"\\u003e\\u003ctitle\\u003e\\u003c/title\\u003e\\u003cuse href=\\\"#ps-icon:starrating-full:651\\\"\\u003e\\u003c/use\\u003e\\u003c/svg\\u003e\\u003c/span\\u003e\\u003cspan data-qa=\\\"mfe-game-title#star-rating#rating-4#icon\\\" class=\\\"psw-icon psw-icon--starrating-full psw-icon psw-icon-size-3 psw-icon--starrating-full\\\"\\u003e\\u003cdiv class=\\\"psw-hide\\\" data-original-icon-id=\\\"ps-icon:starrating-full\\\"\\u003e\\u003csvg xmlns=\\\"http://www.w3.org/2000/svg\\\"\\u003e\\u003csymbol id=\\\"ps-icon:starrating-full:652\\\" viewbox=\\\"0 0 64 64\\\"\\u003e\\u003cpath fill-rule=\\\"evenodd\\\" d=\\\"M52.234 26.425a1.249 1.249 0 00-1.189-.863H37.404l-4.215-12.974a1.249 1.249 0 00-2.378 0l-4.215 12.974H12.955a1.25 1.25 0 00-.735 2.26l11.036 8.019-4.215 12.973a1.251 1.251 0 001.923 1.398L32 42.194l11.036 8.018a1.249 1.249 0 001.469 0c.438-.318.622-.883.455-1.398L40.744 35.84l11.036-8.018a1.25 1.25 0 00.454-1.398z\\\" clip-rule=\\\"evenodd\\\"\\u003e\\u003c/path\\u003e\\u003c/symbol\\u003e\\u003c/svg\\u003e\\u003c/div\\u003e\\u003csvg aria-hidden=\\\"true\\\" focusable=\\\"false\\\"\\u003e\\u003ctitle\\u003e\\u003c/title\\u003e\\u003cuse href=\\\"#ps-icon:starrating-full:652\\\"\\u003e\\u003c/use\\u003e\\u003c/svg\\u003e\\u003c/span\\u003e\\u003cspan data-qa=\\\"mfe-game-title#star-rating#rating-5#icon\\\" class=\\\"psw-icon psw-icon--starrating-half psw-icon psw-icon-size-3 psw-icon--starrating-half\\\"\\u003e\\u003cdiv class=\\\"psw-hide\\\" data-original-icon-id=\\\"ps-icon:starrating-half\\\"\\u003e\\u003csvg xmlns=\\\"http://www.w3.org/2000/svg\\\"\\u003e\\u003csymbol id=\\\"ps-icon:starrating-half:653\\\" viewbox=\\\"0 0 64 64\\\"\\u003e\\u003cpath fill-rule=\\\"evenodd\\\" d=\\\"M38.54 34.352a1.251 1.251 0 00-.454 1.398l3.307 10.178-8.658-6.291a1.249 1.249 0 00-.735-.238v-22.38l3.308 10.18a1.25 1.25 0 001.189.863h10.7l-8.657 6.29zm13.694-7.927a1.25 1.25 0 00-1.19-.863h-13.64L33.19 12.588a1.25 1.25 0 00-2.378 0l-4.215 12.974h-13.64a1.25 1.25 0 00-.735 2.262l11.036 8.017-4.216 12.973a1.25 1.25 0 001.924 1.398L32 42.194l11.036 8.018c.219.16.477.239.735.239s.516-.08.735-.24a1.25 1.25 0 00.454-1.397L40.744 35.84l11.036-8.017c.438-.32.62-.883.454-1.4z\\\" clip-rule=\\\"evenodd\\\"\\u003e\\u003c/path\\u003e\\u003c/symbol\\u003e\\u003c/svg\\u003e\\u003c/div\\u003e\\u003csvg aria-hidden=\\\"true\\\" focusable=\\\"false\\\"\\u003e\\u003ctitle\\u003e\\u003c/title\\u003e\\u003cuse href=\\\"#ps-icon:starrating-half:653\\\"\\u003e\\u003c/use\\u003e\\u003c/svg\\u003e\\u003c/span\\u003e\\u003c/span\\u003e\\u003cdiv class=\\\"psw-t-subtitle psw-l-line-center\\\" data-qa=\\\"mfe-game-title#rating-count\\\"\\u003e179K件の評価\\u003c/div\\u003e\\u003c/div\\u003e\\u003c/a\\u003e\\u003cdiv class=\\\"psw-m-t-4\\\"\\u003e\\u003c/div\\u003e\\u003c/div\\u003e\\u003c/div\\u003e\",\"statusCode\":200},\"cta\":{\"text\":\"\\u003cscript id=\\\"env:bee46f10-df30-11ee-9c03-973b4b01b1af\\\" type=\\\"application/json\\\"\\u003e{\\\"args\\\":{\\\"conceptId\\\":\\\"205354\\\"},\\\"overrides\\\":{\\\"theme\\\":\\\"dark\\\",\\\"locale\\\":\\\"ja-jp\\\"},\\\"cache\\\":{\\\"Concept:205354\\\":{\\\"id\\\":\\\"205354\\\",\\\"__typename\\\":\\\"Concept\\\",\\\"defaultProduct\\\":{\\\"__ref\\\":\\\"Product:JP9000-PPSA05685_00-UNCHARTED4R00000\\\"},\\\"isAnnounce\\\":false,\\\"products\\\":[{\\\"__ref\\\":\\\"Product:JP9000-CUSA00949_00-U4UTLLBUNDLE0000\\\"},{\\\"__ref\\\":\\\"Product:JP9000-PPSA05685_00-UNCHARTED4R00000\\\"},{\\\"__ref\\\":\\\"Product:JP9000-CUSA08347_00-UNCHD4LOSTLEGACY\\\"}],\\\"releaseDate\\\":{\\\"__typename\\\":\\\"ReleaseDate\\\",\\\"type\\\":\\\"DAY_MONTH_YEAR\\\",\\\"value\\\":\\\"2016-05-09T00:00:00Z\\\"},\\\"isInWishlist\\\":false,\\\"isWishlistable\\\":false},\\\"Sku:JP9000-PPSA05685_00-UNCHARTED4R00000-J002\\\":{\\\"id\\\":\\\"JP9000-PPSA05685_00-UNCHARTED4R00000-J002\\\",\\\"__typename\\\":\\\"Sku\\\",\\\"name\\\":\\\"ゲーム本編\\\"},\\\"Sku:JP9000-PPSA05685_00-UNCHARTED4R00000-J003\\\":{\\\"id\\\":\\\"JP9000-PPSA05685_00-UNCHARTED4R00000-J003\\\",\\\"__typename\\\":\\\"Sku\\\",\\\"name\\\":\\\"ゲーム本編\\\"},\\\"GameCTA:ADD_TO_CART:ADD_TO_CART:JP9000-PPSA05685_00-UNCHARTED4R00000-J003\\\":{\\\"id\\\":\\\"ADD_TO_CART:ADD_TO_CART:JP9000-PPSA05685_00-UNCHARTED4R00000-J003\\\",\\\"__typename\\\":\\\"GameCTA\\\",\\\"local\\\":{\\\"ctaLabel\\\":\\\"msgid_add_cart\\\",\\\"ctaType\\\":\\\"purchase\\\",\\\"serviceIcons\\\":[],\\\"priceOrText\\\":\\\"¥2,156\\\",\\\"originalPrice\\\":\\\"¥5,390\\\",\\\"offerLabel\\\":\\\"60%オフ\\\",\\\"offerAvailability\\\":\\\"2024-03-20T14:59:00.000Z\\\",\\\"ctaDataTrack\\\":{\\\"eventName\\\":\\\"add to cart\\\",\\\"label\\\":\\\"add to cart\\\",\\\"elementType\\\":\\\"button\\\",\\\"sku\\\":\\\"JP9000-PPSA05685_00-UNCHARTED4R00000-J003\\\",\\\"userActionFlag\\\":false},\\\"ctaDataTrackClick\\\":\\\"ctaWithPrice:addToCart\\\",\\\"telemetryMeta\\\":{\\\"ctaSubType\\\":\\\"add_to_cart\\\",\\\"ctaType\\\":\\\"ADD_TO_CART\\\",\\\"interactCta\\\":\\\"add to cart\\\",\\\"interactAction\\\":\\\"click add to cart\\\",\\\"skuDetail\\\":{\\\"skuId\\\":\\\"JP9000-PPSA05685_00-UNCHARTED4R00000-J003\\\",\\\"skuPriceDetail\\\":[{\\\"rewardId\\\":\\\"OFFER-PROD-7636_60\\\",\\\"offerCampaignId\\\":\\\"PROMO-PROD-00007636\\\",\\\"originalPriceFormatted\\\":\\\"¥5,390\\\",\\\"originalPriceValue\\\":5390,\\\"discountPriceFormatted\\\":\\\"¥2,156\\\",\\\"discountPriceValue\\\":2156,\\\"priceCurrencyCode\\\":\\\"JPY\\\",\\\"offerBranding\\\":\\\"NONE\\\",\\\"offerQualification\\\":[],\\\"offerExclusive\\\":false,\\\"offerApplied\\\":true,\\\"offerApplicability\\\":\\\"APPLICABLE\\\",\\\"offerIsTiedToSubscription\\\":false}]}}},\\\"type\\\":\\\"ADD_TO_CART\\\",\\\"hasLinkedConsole\\\":false,\\\"action\\\":{\\\"__typename\\\":\\\"Action\\\",\\\"type\\\":\\\"ADD_TO_CART\\\",\\\"param\\\":[{\\\"__typename\\\":\\\"ActionParam\\\",\\\"name\\\":\\\"skuId\\\",\\\"value\\\":\\\"JP9000-PPSA05685_00-UNCHARTED4R00000-J003\\\"},{\\\"__typename\\\":\\\"ActionParam\\\",\\\"name\\\":\\\"rewardId\\\",\\\"value\\\":null},{\\\"__typename\\\":\\\"ActionParam\\\",\\\"name\\\":\\\"prologueEmsAlias\\\",\\\"value\\\":\\\"plus--buy_game_catalog\\\"}]},\\\"meta\\\":{\\\"__typename\\\":\\\"CTAMeta\\\",\\\"upSellService\\\":\\\"NONE\\\",\\\"exclusive\\\":false,\\\"playabilityDate\\\":null,\\\"ineligibilityReasons\\\":[{\\\"__typename\\\":\\\"IneligibilityReason\\\",\\\"type\\\":\\\"UNKNOWN\\\",\\\"names\\\":[]}]},\\\"price\\\":{\\\"__typename\\\":\\\"Price\\\",\\\"basePrice\\\":\\\"¥5,390\\\",\\\"discountedPrice\\\":\\\"¥2,156\\\",\\\"discountText\\\":\\\"-60%\\\",\\\"serviceBranding\\\":[\\\"NONE\\\"],\\\"endTime\\\":\\\"1710946740000\\\",\\\"upsellText\\\":\\\"60%オフ\\\",\\\"basePriceValue\\\":5390,\\\"discountedValue\\\":2156,\\\"currencyCode\\\":\\\"JPY\\\",\\\"qualifications\\\":[],\\\"applicability\\\":\\\"APPLICABLE\\\",\\\"campaignId\\\":\\\"PROMO-PROD-00007636\\\",\\\"rewardId\\\":\\\"OFFER-PROD-7636_60\\\",\\\"isFree\\\":false,\\\"isExclusive\\\":false,\\\"isTiedToSubscription\\\":false}},\\\"GameCTA:UPSELL_PS_PLUS_GAME_CATALOG:ADD_TO_CART:JP9000-PPSA05685_00-UNCHARTED4R00000-J003:SUB001-SUBC00002_00-HM93SKR5MGPG6TD8\\\":{\\\"id\\\":\\\"UPSELL_PS_PLUS_GAME_CATALOG:ADD_TO_CART:JP9000-PPSA05685_00-UNCHARTED4R00000-J003:SUB001-SUBC00002_00-HM93SKR5MGPG6TD8\\\",\\\"__typename\\\":\\\"GameCTA\\\",\\\"local\\\":{\\\"ctaLabel\\\":\\\"msgid_subscribe\\\",\\\"ctaType\\\":\\\"purchase\\\",\\\"ctaDataTrack\\\":{\\\"eventName\\\":\\\"subscribe\\\",\\\"label\\\":\\\"subscribe\\\",\\\"elementType\\\":\\\"button\\\",\\\"userActionFlag\\\":false,\\\"sku\\\":\\\"JP9000-PPSA05685_00-UNCHARTED4R00000-J003\\\"},\\\"ctaDataTrackClick\\\":\\\"ctaWithPrice:subscribe\\\",\\\"telemetryMeta\\\":{\\\"ctaSubType\\\":\\\"upsell_ps_plus_game_catalog\\\",\\\"ctaType\\\":\\\"UPSELL_PS_PLUS_GAME_CATALOG\\\",\\\"interactCta\\\":\\\"subscribe\\\",\\\"interactAction\\\":\\\"click subscribe\\\",\\\"skuDetail\\\":{\\\"skuId\\\":\\\"JP9000-PPSA05685_00-UNCHARTED4R00000-J003\\\",\\\"skuPriceDetail\\\":[{\\\"rewardId\\\":\\\"SUB001-SUBC00002_00-HM93SKR5MGPG6TD8\\\",\\\"offerCampaignId\\\":null,\\\"originalPriceFormatted\\\":\\\"¥5,390\\\",\\\"originalPriceValue\\\":5390,\\\"discountPriceFormatted\\\":\\\"含まれます\\\",\\\"discountPriceValue\\\":0,\\\"priceCurrencyCode\\\":\\\"JPY\\\",\\\"offerBranding\\\":\\\"PS_PLUS\\\",\\\"offerQualification\\\":[{\\\"__typename\\\":\\\"Qualification\\\",\\\"type\\\":\\\"ENTITLEMENT_IN_CART\\\",\\\"value\\\":\\\"SUB001-SUBC00002_00-HM93SKR5MGPG6TD8\\\"}],\\\"offerExclusive\\\":false,\\\"offerApplied\\\":false,\\\"offerApplicability\\\":\\\"UPSELL\\\",\\\"offerIsTiedToSubscription\\\":true}]}},\\\"priceOrText\\\":\\\"含まれます\\\",\\\"originalPrice\\\":\\\"¥5,390\\\",\\\"offerLabel\\\":\\\"このゲームや、ゲームカタログに含まれる他の多数のゲームをプレイするには、PlayStation Plusエクストラに加入してください\\\",\\\"offerAvailability\\\":null,\\\"serviceIcons\\\":[\\\"ps-plus\\\"]},\\\"type\\\":\\\"UPSELL_PS_PLUS_GAME_CATALOG\\\",\\\"hasLinkedConsole\\\":false,\\\"action\\\":{\\\"__typename\\\":\\\"Action\\\",\\\"type\\\":\\\"ADD_TO_CART\\\",\\\"param\\\":[{\\\"__typename\\\":\\\"ActionParam\\\",\\\"name\\\":\\\"skuId\\\",\\\"value\\\":\\\"JP9000-PPSA05685_00-UNCHARTED4R00000-J003\\\"},{\\\"__typename\\\":\\\"ActionParam\\\",\\\"name\\\":\\\"prologueEmsAlias\\\",\\\"value\\\":\\\"plus--gamehub_upsell_cta--game_catalog\\\"},{\\\"__typename\\\":\\\"ActionParam\\\",\\\"name\\\":\\\"rewardId\\\",\\\"value\\\":\\\"SUB001-SUBC00002_00-HM93SKR5MGPG6TD8\\\"},{\\\"__typename\\\":\\\"ActionParam\\\",\\\"name\\\":\\\"rewardId\\\",\\\"value\\\":\\\"SUB001-SUBC00002_00-HM93SKR5MGPG6TD8\\\"}]},\\\"meta\\\":{\\\"__typename\\\":\\\"CTAMeta\\\",\\\"upSellService\\\":\\\"PS_PLUS\\\",\\\"exclusive\\\":false,\\\"playabilityDate\\\":null,\\\"ineligibilityReasons\\\":[{\\\"__typename\\\":\\\"IneligibilityReason\\\",\\\"type\\\":\\\"UNKNOWN\\\",\\\"names\\\":[]}]},\\\"price\\\":{\\\"__typename\\\":\\\"Price\\\",\\\"basePrice\\\":\\\"¥5,390\\\",\\\"discountedPrice\\\":\\\"含まれます\\\",\\\"discountText\\\":\\\"含まれます\\\",\\\"serviceBranding\\\":[\\\"PS_PLUS\\\"],\\\"endTime\\\":null,\\\"upsellText\\\":\\\"このゲームや、ゲームカタログに含まれる他の多数のゲームをプレイするには、PlayStation Plusエクストラに加入してください\\\",\\\"basePriceValue\\\":5390,\\\"discountedValue\\\":0,\\\"currencyCode\\\":\\\"JPY\\\",\\\"qualifications\\\":[{\\\"__typename\\\":\\\"Qualification\\\",\\\"type\\\":\\\"ENTITLEMENT_IN_CART\\\",\\\"value\\\":\\\"SUB001-SUBC00002_00-HM93SKR5MGPG6TD8\\\"}],\\\"applicability\\\":\\\"UPSELL\\\",\\\"campaignId\\\":null,\\\"rewardId\\\":\\\"SUB001-SUBC00002_00-HM93SKR5MGPG6TD8\\\",\\\"isFree\\\":true,\\\"isExclusive\\\":false,\\\"isTiedToSubscription\\\":true}},\\\"Product:JP9000-PPSA05685_00-UNCHARTED4R00000\\\":{\\\"id\\\":\\\"JP9000-PPSA05685_00-UNCHARTED4R00000\\\",\\\"__typename\\\":\\\"Product\\\",\\\"invariantName\\\":\\\"UNCHARTED: Legacy of Thieves Collection\\\",\\\"name\\\":\\\"アンチャーテッド トレジャーハンターコレクション\\\",\\\"npTitleId\\\":\\\"PPSA05685_00\\\",\\\"concept\\\":{\\\"__ref\\\":\\\"Concept:205354\\\"},\\\"skus\\\":[{\\\"__ref\\\":\\\"Sku:JP9000-PPSA05685_00-UNCHARTED4R00000-J002\\\"},{\\\"__ref\\\":\\\"Sku:JP9000-PPSA05685_00-UNCHARTED4R00000-J003\\\"}],\\\"isAgeRestricted\\\":false,\\\"activeCtaId\\\":\\\"ADD_TO_CART:ADD_TO_CART:JP9000-PPSA05685_00-UNCHARTED4R00000-J003\\\",\\\"webctas\\\":[{\\\"__ref\\\":\\\"GameCTA:ADD_TO_CART:ADD_TO_CART:JP9000-PPSA05685_00-UNCHARTED4R00000-J003\\\"},{\\\"__ref\\\":\\\"GameCTA:UPSELL_PS_PLUS_GAME_CATALOG:ADD_TO_CART:JP9000-PPSA05685_00-UNCHARTED4R00000-J003:SUB001-SUBC00002_00-HM93SKR5MGPG6TD8\\\"}],\\\"isInWishlist\\\":false,\\\"isWishlistable\\\":true},\\\"Sku:JP9000-CUSA00949_00-U4UTLLBUNDLE0000-J001\\\":{\\\"id\\\":\\\"JP9000-CUSA00949_00-U4UTLLBUNDLE0000-J001\\\",\\\"__typename\\\":\\\"Sku\\\",\\\"name\\\":\\\"ゲーム本編\\\"},\\\"Sku:JP9000-CUSA00949_00-U4UTLLBUNDLE0000-J002\\\":{\\\"id\\\":\\\"JP9000-CUSA00949_00-U4UTLLBUNDLE0000-J002\\\",\\\"__typename\\\":\\\"Sku\\\",\\\"name\\\":\\\"ゲーム本編\\\"},\\\"Product:JP9000-CUSA00949_00-U4UTLLBUNDLE0000\\\":{\\\"id\\\":\\\"JP9000-CUSA00949_00-U4UTLLBUNDLE0000\\\",\\\"__typename\\\":\\\"Product\\\",\\\"name\\\":\\\"アンチャーテッド 海賊王と最後の秘宝＆アンチャーテッド 古代神の秘宝 デジタルバンドル\\\",\\\"skus\\\":[{\\\"__ref\\\":\\\"Sku:JP9000-CUSA00949_00-U4UTLLBUNDLE0000-J001\\\"},{\\\"__ref\\\":\\\"Sku:JP9000-CUSA00949_00-U4UTLLBUNDLE0000-J002\\\"}]},\\\"Sku:JP9000-CUSA08347_00-UNCHD4LOSTLEGACY-J007\\\":{\\\"id\\\":\\\"JP9000-CUSA08347_00-UNCHD4LOSTLEGACY-J007\\\",\\\"__typename\\\":\\\"Sku\\\",\\\"name\\\":\\\"ゲーム本編\\\"},\\\"Product:JP9000-CUSA08347_00-UNCHD4LOSTLEGACY\\\":{\\\"id\\\":\\\"JP9000-CUSA08347_00-UNCHD4LOSTLEGACY\\\",\\\"__typename\\\":\\\"Product\\\",\\\"name\\\":\\\"アンチャーテッド 古代神の秘宝 PlayStation®Hits\\\",\\\"skus\\\":[{\\\"__ref\\\":\\\"Sku:JP9000-CUSA08347_00-UNCHD4LOSTLEGACY-J007\\\"}]},\\\"ROOT_QUERY\\\":{\\\"__typename\\\":\\\"Query\\\",\\\"conceptRetrieve({\\\\\\\"conceptId\\\\\\\":\\\\\\\"205354\\\\\\\"})\\\":{\\\"__ref\\\":\\\"Concept:205354\\\"}}},\\\"translations\\\":{\\\"msgid_date_separator\\\":\\\"/\\\",\\\"msgid_offer_ends_date\\\":\\\"%date%まで\\\",\\\"msgid_add_cart\\\":\\\"カートに追加\\\",\\\"msgid_add_wishlist\\\":\\\"欲しいリストに追加\\\"}}\\u003c/script\\u003e\\u003cdiv data-mfe-name=\\\"ctaWithPrice\\\" class=\\\"psw-root psw-dark-theme\\\" data-initial=\\\"env:bee46f10-df30-11ee-9c03-973b4b01b1af\\\"\\u003e\\u003cdiv data-qa=\\\"mfeCtaMain\\\" aria-hidden=\\\"true\\\" class=\\\"psw-c-bg-0 psw-l-anchor psw-l-stack-left psw-m-sub-x-5 psw-m-x-auto@below-tablet-s\\\" data-reactroot\\u003e\\u003cdiv class=\\\"psw-fade-out psw-fill-x\\\" style=\\\"visibility:hidden\\\"\\u003e\\u003clabel data-qa=\\\"mfeCtaMain#offer0\\\" class=\\\"psw-label psw-l-inline psw-l-line-left psw-interactive psw-c-bg-0 psw-l-anchor psw-fill-x\\\"\\u003e\\u003cdiv data-flip-key=\\\"cta-selection-0\\\" class=\\\"psw-layer psw-r-2 psw-c-bg-card-3\\\"\\u003e\\u003c/div\\u003e\\u003cdiv class=\\\"psw-l-anchor psw-l-stack-left psw-fill-x psw-p-y-4 psw-p-x-5\\\"\\u003e\\u003cspan class=\\\"psw-fill-x psw-l-line-left psw-m-b-2\\\"\\u003e\\u003clabel for=\\\"input-954549\\\" class=\\\"psw-radio psw-standard-radio psw-is-active psw-checkbox-hide-check psw-m-r-5\\\" data-qa=\\\"mfeCtaMain#offer0#offerSelector\\\"\\u003e\\u003cinput type=\\\"radio\\\" checked class=\\\"psw-radio-control psw-visually-hide psw-pointer-events-off\\\" data-qa=\\\"mfeCtaMain#offer0#offerSelector#input\\\" id=\\\"input-954549\\\" name=\\\"activeCta\\\" value=\\\"ADD_TO_CART:ADD_TO_CART:JP9000-PPSA05685_00-UNCHARTED4R00000-J003\\\" /\\u003e\\u003cspan class=\\\"psw-radio-trigger psw-ally-indicator psw-ally-indicator-gap-1 psw-r-pill\\\"\\u003e\\u003c/span\\u003e\\u003c/label\\u003e\\u003cspan class=\\\"psw-l-line-left psw-l-line-wrap\\\"\\u003e\\u003cspan data-qa=\\\"mfeCtaMain#offer0#finalPrice\\\" class=\\\"psw-t-title-m psw-m-r-4\\\"\\u003e¥2,156\\u003c/span\\u003e\\u003cspan data-qa=\\\"mfeCtaMain#offer0#originalPrice\\\" class=\\\"psw-t-title-s psw-c-t-2 psw-t-strike\\\"\\u003e\\u003cspan class=\\\"psw-truncate-text-1 psw-p-y-1 psw-l-exclude@below-desktop\\\"\\u003e\\u003c/span\\u003e\\u003cspan class=\\\"psw-truncate-text-1 psw-p-t-1 psw-l-exclude@desktop\\\"\\u003e\\u003c/span\\u003e¥5,390\\u003c/span\\u003e\\u003c/span\\u003e\\u003c/span\\u003e\\u003cspan class=\\\"psw-t-overline psw-t-bold psw-l-line-left psw-fill-x\\\"\\u003e\\u003cdiv class=\\\"psw-l-w-icon-2 psw-m-r-5\\\"\\u003e\\u003c/div\\u003e\\u003cspan class=\\\"psw-l-line-left psw-l-line-wrap\\\"\\u003e\\u003cspan class=\\\"psw-l-line-left\\\"\\u003e\\u003cspan class=\\\"psw-l-inline psw-m-r-2\\\"\\u003e\\u003c/span\\u003e\\u003cspan data-qa=\\\"mfeCtaMain#offer0#discountInfo\\\" class=\\\"psw-m-r-3\\\"\\u003e60%オフ\\u003c/span\\u003e\\u003c/span\\u003e\\u003cspan data-qa=\\\"mfeCtaMain#offer0#discountDescriptor\\\" class=\\\"psw-c-t-2\\\"\\u003e2024/3/20 02:59 PM UTCまで\\u003c/span\\u003e\\u003c/span\\u003e\\u003c/span\\u003e\\u003c/div\\u003e\\u003c/label\\u003e\\u003clabel data-qa=\\\"mfeCtaMain#offer1\\\" class=\\\"psw-label psw-l-inline psw-l-line-left psw-interactive psw-c-bg-0 psw-l-anchor psw-fill-x\\\"\\u003e\\u003cdiv data-flip-key=\\\"cta-selection-0\\\" class=\\\"psw-hide psw-layer psw-r-2 psw-c-bg-card-3\\\"\\u003e\\u003c/div\\u003e\\u003cdiv class=\\\"psw-l-anchor psw-l-stack-left psw-fill-x psw-p-y-4 psw-p-x-5\\\"\\u003e\\u003cspan class=\\\"psw-fill-x psw-l-line-left psw-m-b-2\\\"\\u003e\\u003clabel for=\\\"input-954550\\\" class=\\\"psw-radio psw-standard-radio psw-checkbox-hide-check psw-m-r-5\\\" data-qa=\\\"mfeCtaMain#offer1#offerSelector\\\"\\u003e\\u003cinput type=\\\"radio\\\" class=\\\"psw-radio-control psw-visually-hide psw-pointer-events-off\\\" data-qa=\\\"mfeCtaMain#offer1#offerSelector#input\\\" id=\\\"input-954550\\\" name=\\\"activeCta\\\" value=\\\"UPSELL_PS_PLUS_GAME_CATALOG:ADD_TO_CART:JP9000-PPSA05685_00-UNCHARTED4R00000-J003:SUB001-SUBC00002_00-HM93SKR5MGPG6TD8\\\" /\\u003e\\u003cspan class=\\\"psw-radio-trigger psw-ally-indicator psw-ally-indicator-gap-1 psw-r-pill\\\"\\u003e\\u003c/span\\u003e\\u003c/label\\u003e\\u003cspan class=\\\"psw-l-line-left psw-l-line-wrap\\\"\\u003e\\u003cspan data-qa=\\\"mfeCtaMain#offer1#finalPrice\\\" class=\\\"psw-t-title-m psw-m-r-4\\\"\\u003e含まれます\\u003c/span\\u003e\\u003cspan data-qa=\\\"mfeCtaMain#offer1#originalPrice\\\" class=\\\"psw-t-title-s psw-c-t-2 psw-t-strike\\\"\\u003e\\u003cspan class=\\\"psw-truncate-text-1 psw-p-y-1 psw-l-exclude@below-desktop\\\"\\u003e\\u003c/span\\u003e\\u003cspan class=\\\"psw-truncate-text-1 psw-p-t-1 psw-l-exclude@desktop\\\"\\u003e\\u003c/span\\u003e¥5,390\\u003c/span\\u003e\\u003c/span\\u003e\\u003c/span\\u003e\\u003cspan class=\\\"psw-t-overline psw-t-bold psw-l-line-left psw-fill-x\\\"\\u003e\\u003cdiv class=\\\"psw-l-w-icon-2 psw-m-r-5\\\"\\u003e\\u003c/div\\u003e\\u003cspan class=\\\"psw-l-line-left psw-l-line-wrap\\\"\\u003e\\u003cspan class=\\\"psw-l-line-left\\\"\\u003e\\u003cspan class=\\\"psw-l-inline psw-m-r-2\\\"\\u003e\\u003cspan data-qa=\\\"mfeCtaMain#offer1#serviceIcon#ps-plus\\\" class=\\\"psw-icon psw-icon--ps-plus psw-icon psw-icon-size-2 psw-icon--ps-plus\\\"\\u003e\\u003cdiv class=\\\"psw-hide\\\" data-original-icon-id=\\\"ps-icon:ps-plus\\\"\\u003e\\u003csvg xmlns=\\\"http://www.w3.org/2000/svg\\\"\\u003e\\u003cdefs\\u003e\\u003clineargradient id=\\\"ps-plus__a\\\" x1=\\\"12.926%\\\" x2=\\\"75.728%\\\" y1=\\\"21.366%\\\" y2=\\\"86.469%\\\"\\u003e\\u003cstop offset=\\\"0%\\\" stop-color=\\\"#C3862C\\\"\\u003e\\u003c/stop\\u003e\\u003cstop offset=\\\"100%\\\" stop-color=\\\"#986D29\\\"\\u003e\\u003c/stop\\u003e\\u003c/lineargradient\\u003e\\u003clineargradient id=\\\"ps-plus__b\\\" x1=\\\"10.369%\\\" x2=\\\"88.542%\\\" y1=\\\"20.591%\\\" y2=\\\"78.732%\\\"\\u003e\\u003cstop offset=\\\"0%\\\" stop-color=\\\"#FDE64E\\\"\\u003e\\u003c/stop\\u003e\\u003cstop offset=\\\"100%\\\" stop-color=\\\"#FCC013\\\"\\u003e\\u003c/stop\\u003e\\u003c/lineargradient\\u003e\\u003c/defs\\u003e\\u003csymbol id=\\\"ps-icon:ps-plus:520\\\" viewbox=\\\"0 0 64 64\\\"\\u003e\\u003cg fill=\\\"none\\\" fill-rule=\\\"evenodd\\\"\\u003e\\u003cpath fill=\\\"url(#ps-plus__a)\\\" d=\\\"M26.047 0a1.452 1.452 0 00-.172.014L15.537 1.417c-.2.027-.385.093-.549.188a1.483 1.483 0 00-.42.37l-2.83 3.677c-.228.295-.34.673-.286 1.068l1.156 8.375-8.51 1.156a1.475 1.475 0 00-.969.557c-.056.073-.081.163-.122.247.04-.084.066-.175.122-.247l-2.83 3.678a1.425 1.425 0 00-.286 1.067l1.405 10.18c.055.394.266.73.564.953.297.222.683.333 1.083.278l11.79-1.6 1.6 11.608c.055.394.266.73.565.953.24.18.54.287.858.292h.05c.059 0 .116-.005.175-.013L28.44 42.8c.401-.055.742-.265.969-.558l2.831-3.678a1.44 1.44 0 00.247-.496 1.38 1.38 0 00.037-.571l-1.154-8.376 8.51-1.154c.4-.055.74-.265.967-.558l2.83-3.678.002-.001a1.44 1.44 0 00.249-.496c.049-.18.064-.373.037-.57l-1.406-10.181a1.425 1.425 0 00-.564-.952 1.47 1.47 0 00-1.084-.28l-11.788 1.602-1.601-11.609a1.427 1.427 0 00-.565-.953 1.47 1.47 0 00-.85-.292h-.06z\\\" transform=\\\"translate(10 10)\\\"\\u003e\\u003c/path\\u003e\\u003cpath fill=\\\"url(#ps-plus__b)\\\" d=\\\"M26.047 0a1.452 1.452 0 00-.172.014L15.537 1.417c-.2.027-.385.093-.549.188a1.447 1.447 0 00-.668.865 1.438 1.438 0 00-.037.572l1.603 11.608-11.789 1.6c-.2.028-.385.093-.548.19a1.434 1.434 0 00-.667.864c-.05.181-.065.374-.037.573l1.404 10.179c.055.393.266.728.565.952.298.222.683.333 1.082.28l11.789-1.6 1.602 11.607c.054.394.266.73.564.952.298.222.682.334 1.084.28l10.337-1.405a1.48 1.48 0 00.969-.557 1.44 1.44 0 00.246-.496c.051-.18.065-.374.038-.571L30.923 25.89l11.788-1.6a1.46 1.46 0 00.968-.56 1.44 1.44 0 00.249-.495c.049-.181.064-.373.037-.57l-1.406-10.181a1.425 1.425 0 00-.564-.952 1.47 1.47 0 00-1.083-.28l-11.789 1.602-1.601-11.609a1.427 1.427 0 00-.565-.953 1.47 1.47 0 00-.85-.292h-.06z\\\" transform=\\\"translate(10 10)\\\"\\u003e\\u003c/path\\u003e\\u003cpath fill=\\\"#C3862C\\\" d=\\\"M37.782 38.669l1.227.924-2.726 3.562 3.59 2.705-.93 1.217-3.592-2.704-2.728 3.561-1.226-.924 2.727-3.562-3.592-2.704.932-1.218 3.591 2.706 2.727-3.563zM23.73 27.4l1.133 8.213-8.28 1.123-1.134-8.212L23.73 27.4zm-1.317 1.721l-5.228.71.716 5.184 5.226-.71-.714-5.184zm28.582-1.239c.344 2.491-1.414 4.788-3.926 5.13-2.512.34-4.828-1.404-5.172-3.895-.344-2.492 1.415-4.787 3.926-5.128 2.513-.341 4.828 1.401 5.172 3.893zm-4.963-2.38c-1.666.226-2.836 1.756-2.609 3.408.23 1.653 1.77 2.813 3.437 2.586 1.666-.226 2.836-1.754 2.609-3.407-.23-1.652-1.77-2.813-3.437-2.587zM30.855 12.646l6.382 7.98L27.1 22.002l3.756-9.356zm.447 3.018l-1.794 4.468 4.843-.657-3.049-3.811z\\\"\\u003e\\u003c/path\\u003e\\u003c/g\\u003e\\u003c/symbol\\u003e\\u003c/svg\\u003e\\u003c/div\\u003e\\u003csvg aria-hidden=\\\"true\\\" focusable=\\\"false\\\"\\u003e\\u003ctitle\\u003e\\u003c/title\\u003e\\u003cuse href=\\\"#ps-icon:ps-plus:520\\\"\\u003e\\u003c/use\\u003e\\u003c/svg\\u003e\\u003c/span\\u003e\\u003c/span\\u003e\\u003cspan data-qa=\\\"mfeCtaMain#offer1#discountInfo\\\" class=\\\"psw-c-t-ps-plus psw-m-r-3\\\"\\u003eこのゲームや、ゲームカタログに含まれる他の多数のゲームをプレイするには、PlayStation Plusエクストラに加入してください\\u003c/span\\u003e\\u003c/span\\u003e\\u003c/span\\u003e\\u003c/span\\u003e\\u003c/div\\u003e\\u003c/label\\u003e\\u003cdiv class=\\\"psw-m-t-6 psw-p-x-5 psw-fill-x\\\" data-qa=\\\"mfeCtaMain#cta\\\"\\u003e\\u003cdiv class=\\\"psw-fill-x\\\" data-flip-key=\\\"cta-action-0\\\"\\u003e\\u003cdiv style=\\\"perspective:2000px;transition:height 400ms ease, opacity 400ms ease\\\" class=\\\"psw-l-anchor\\\" aria-hidden=\\\"false\\\" data-qa=\\\"inline-toast\\\"\\u003e\\u003cdiv style=\\\"transform:translateZ(-NaNpx);transform-style:preserve-3d\\\"\\u003e\\u003cdiv style=\\\"transition:transform 300ms ease-in;transform-style:preserve-3d;transform:rotateX(0deg)\\\"\\u003e\\u003cdiv aria-hidden=\\\"true\\\" data-qa=\\\"inline-toast#cta-spacer\\\" class=\\\"psw-l-line-left psw-hidden\\\"\\u003e\\u003cbutton data-qa=\\\"inline-toast#hiddenCta\\\" data-track=\\\"{\\u0026quot;eventInfo\\u0026quot;:{\\u0026quot;eventAction\\u0026quot;:\\u0026quot;click\\u0026quot;,\\u0026quot;eventName\\u0026quot;:\\u0026quot;add to cart\\u0026quot;},\\u0026quot;attributes\\u0026quot;:{\\u0026quot;moduleName\\u0026quot;:\\u0026quot;pricing cta\\u0026quot;,\\u0026quot;assetName\\u0026quot;:\\u0026quot;\\u0026quot;,\\u0026quot;label\\u0026quot;:\\u0026quot;add to cart\\u0026quot;,\\u0026quot;position\\u0026quot;:\\u0026quot;1\\u0026quot;,\\u0026quot;linkUrl\\u0026quot;:\\u0026quot;\\u0026quot;,\\u0026quot;elementType\\u0026quot;:\\u0026quot;button\\u0026quot;,\\u0026quot;userActionFlag\\u0026quot;:false,\\u0026quot;sku\\u0026quot;:\\u0026quot;JP9000-PPSA05685_00-UNCHARTED4R00000-J003\\u0026quot;}}\\\" data-track-click=\\\"ctaWithPrice:addToCart\\\" data-telemetry-meta=\\\"{\\u0026quot;conceptId\\u0026quot;:\\u0026quot;205354\\u0026quot;,\\u0026quot;ctaIndex\\u0026quot;:0,\\u0026quot;ctaSubType\\u0026quot;:\\u0026quot;add_to_cart\\u0026quot;,\\u0026quot;ctaType\\u0026quot;:\\u0026quot;ADD_TO_CART\\u0026quot;,\\u0026quot;interactAction\\u0026quot;:\\u0026quot;click add to cart\\u0026quot;,\\u0026quot;interactCta\\u0026quot;:\\u0026quot;add to cart\\u0026quot;,\\u0026quot;productId\\u0026quot;:\\u0026quot;JP9000-PPSA05685_00-UNCHARTED4R00000\\u0026quot;,\\u0026quot;productDetail\\u0026quot;:[{\\u0026quot;productId\\u0026quot;:\\u0026quot;JP9000-PPSA05685_00-UNCHARTED4R00000\\u0026quot;,\\u0026quot;productName\\u0026quot;:\\u0026quot;アンチャーテッド トレジャーハンターコレクション\\u0026quot;,\\u0026quot;productToSkuIds\\u0026quot;:[\\u0026quot;JP9000-PPSA05685_00-UNCHARTED4R00000-J002\\u0026quot;,\\u0026quot;JP9000-PPSA05685_00-UNCHARTED4R00000-J003\\u0026quot;],\\u0026quot;productPriceDetail\\u0026quot;:[{\\u0026quot;rewardId\\u0026quot;:\\u0026quot;OFFER-PROD-7636_60\\u0026quot;,\\u0026quot;offerCampaignId\\u0026quot;:\\u0026quot;PROMO-PROD-00007636\\u0026quot;,\\u0026quot;originalPriceFormatted\\u0026quot;:\\u0026quot;¥5,390\\u0026quot;,\\u0026quot;originalPriceValue\\u0026quot;:5390,\\u0026quot;discountPriceFormatted\\u0026quot;:\\u0026quot;¥2,156\\u0026quot;,\\u0026quot;discountPriceValue\\u0026quot;:2156,\\u0026quot;priceCurrencyCode\\u0026quot;:\\u0026quot;JPY\\u0026quot;,\\u0026quot;offerBranding\\u0026quot;:\\u0026quot;NONE\\u0026quot;,\\u0026quot;offerQualification\\u0026quot;:[],\\u0026quot;offerExclusive\\u0026quot;:false,\\u0026quot;offerApplied\\u0026quot;:true,\\u0026quot;offerApplicability\\u0026quot;:\\u0026quot;APPLICABLE\\u0026quot;,\\u0026quot;offerIsTiedToSubscription\\u0026quot;:false},{\\u0026quot;rewardId\\u0026quot;:\\u0026quot;SUB001-SUBC00002_00-HM93SKR5MGPG6TD8\\u0026quot;,\\u0026quot;offerCampaignId\\u0026quot;:null,\\u0026quot;originalPriceFormatted\\u0026quot;:\\u0026quot;¥5,390\\u0026quot;,\\u0026quot;originalPriceValue\\u0026quot;:5390,\\u0026quot;discountPriceFormatted\\u0026quot;:\\u0026quot;含まれます\\u0026quot;,\\u0026quot;discountPriceValue\\u0026quot;:0,\\u0026quot;priceCurrencyCode\\u0026quot;:\\u0026quot;JPY\\u0026quot;,\\u0026quot;offerBranding\\u0026quot;:\\u0026quot;PS_PLUS\\u0026quot;,\\u0026quot;offerQualification\\u0026quot;:[{\\u0026quot;__typename\\u0026quot;:\\u0026quot;Qualification\\u0026quot;,\\u0026quot;type\\u0026quot;:\\u0026quot;ENTITLEMENT_IN_CART\\u0026quot;,\\u0026quot;value\\u0026quot;:\\u0026quot;SUB001-SUBC00002_00-HM93SKR5MGPG6TD8\\u0026quot;}],\\u0026quot;offerExclusive\\u0026quot;:false,\\u0026quot;offerApplied\\u0026quot;:false,\\u0026quot;offerApplicability\\u0026quot;:\\u0026quot;UPSELL\\u0026quot;,\\u0026quot;offerIsTiedToSubscription\\u0026quot;:true}]}],\\u0026quot;skuDetail\\u0026quot;:[{\\u0026quot;skuId\\u0026quot;:\\u0026quot;JP9000-PPSA05685_00-UNCHARTED4R00000-J003\\u0026quot;,\\u0026quot;skuPriceDetail\\u0026quot;:[{\\u0026quot;rewardId\\u0026quot;:\\u0026quot;OFFER-PROD-7636_60\\u0026quot;,\\u0026quot;offerCampaignId\\u0026quot;:\\u0026quot;PROMO-PROD-00007636\\u0026quot;,\\u0026quot;originalPriceFormatted\\u0026quot;:\\u0026quot;¥5,390\\u0026quot;,\\u0026quot;originalPriceValue\\u0026quot;:5390,\\u0026quot;discountPriceFormatted\\u0026quot;:\\u0026quot;¥2,156\\u0026quot;,\\u0026quot;discountPriceValue\\u0026quot;:2156,\\u0026quot;priceCurrencyCode\\u0026quot;:\\u0026quot;JPY\\u0026quot;,\\u0026quot;offerBranding\\u0026quot;:\\u0026quot;NONE\\u0026quot;,\\u0026quot;offerQualification\\u0026quot;:[],\\u0026quot;offerExclusive\\u0026quot;:false,\\u0026quot;offerApplied\\u0026quot;:true,\\u0026quot;offerApplicability\\u0026quot;:\\u0026quot;APPLICABLE\\u0026quot;,\\u0026quot;offerIsTiedToSubscription\\u0026quot;:false}],\\u0026quot;skuName\\u0026quot;:\\u0026quot;ゲーム本編\\u0026quot;}],\\u0026quot;titleId\\u0026quot;:\\u0026quot;PPSA05685_00\\u0026quot;}\\\" id class=\\\"psw-fill-x dtm-track psw-button psw-b-0 psw-t-button psw-l-line-center psw-button-sizing psw-button-sizing--medium psw-purchase-button psw-solid-button\\\" type=\\\"button\\\" name value\\u003e\\u003cspan class=\\\"psw-fill-x psw-t-truncate-1 psw-l-space-x-2 \\\"\\u003eカートに追加\\u003c/span\\u003e\\u003c/button\\u003e\\u003cbutton data-qa=\\\"inline-toast#hiddenCta\\\" data-track-click=\\\"ctaWithPrice:addToWishlist\\\" data-telemetry-meta=\\\"{\\u0026quot;productId\\u0026quot;:\\u0026quot;JP9000-PPSA05685_00-UNCHARTED4R00000\\u0026quot;,\\u0026quot;conceptId\\u0026quot;:null}\\\" id class=\\\"psw-m-l-4 psw-button psw-b-0 psw-t-button psw-l-line-center psw-button-sizing psw-button-sizing--medium psw-button-sizing--icon-only psw-secondary-button psw-solid-button psw-with-icon\\\" type=\\\"button\\\" name value\\u003e\\u003cspan class=\\\"psw-fill-x psw-l-line-center \\\"\\u003e\\u003cspan data-qa=\\\"inline-toast#hiddenCta#icon\\\" class=\\\"psw-icon psw-icon--unfavorite psw-icon psw-icon-size-2 psw-icon--unfavorite\\\"\\u003e\\u003cdiv class=\\\"psw-hide\\\" data-original-icon-id=\\\"ps-icon:unfavorite\\\"\\u003e\\u003csvg xmlns=\\\"http://www.w3.org/2000/svg\\\"\\u003e\\u003csymbol id=\\\"ps-icon:unfavorite:521\\\" viewbox=\\\"0 0 64 64\\\"\\u003e\\u003cpath fill-rule=\\\"nonzero\\\" stroke=\\\"none\\\" stroke-width=\\\"1\\\" d=\\\"M40.045 12.5c3.052 0 5.9 1.388 7.98 3.785 2.045 2.35 3.205 5.503 3.205 8.859 0 3.222-1.073 6.266-2.97 8.583l-.232.274-16.663 19.161L14.71 34.003c-2.046-2.344-3.208-5.501-3.211-8.859 0-3.35 1.164-6.503 3.21-8.86 2.086-2.398 4.931-3.787 7.975-3.784 3.054 0 5.903 1.387 7.98 3.78.186.213.365.435.537.667l.163.229.164-.231c.086-.116.173-.229.262-.34l.272-.324c2.084-2.398 4.93-3.784 7.982-3.781zm5.715 5.753c-1.529-1.762-3.562-2.753-5.717-2.753-2.153-.002-4.185.987-5.718 2.751-.535.613-1.005 1.362-1.41 2.236l-.17.383-1.385 3.26-1.377-3.264c-.435-1.032-.962-1.909-1.58-2.615-1.528-1.76-3.562-2.751-5.72-2.751-2.144-.002-4.176.99-5.709 2.751-1.568 1.808-2.474 4.262-2.474 6.892.002 2.519.826 4.871 2.264 6.641l.21.249L31.365 48.59l14.398-16.557c1.492-1.716 2.383-4.033 2.46-6.531l.006-.358c0-2.518-.822-4.867-2.26-6.642l-.21-.25z\\\"\\u003e\\u003c/path\\u003e\\u003c/symbol\\u003e\\u003c/svg\\u003e\\u003c/div\\u003e\\u003csvg role=\\\"img\\\"\\u003e\\u003ctitle\\u003e欲しいリストに追加\\u003c/title\\u003e\\u003cuse href=\\\"#ps-icon:unfavorite:521\\\"\\u003e\\u003c/use\\u003e\\u003c/svg\\u003e\\u003c/span\\u003e\\u003c/span\\u003e\\u003c/button\\u003e\\u003c/div\\u003e\\u003cdiv data-qa=\\\"inline-toast#slot2\\\" aria-hidden=\\\"true\\\" style=\\\"transition:opacity 300ms ease-in;opacity:0;transform:rotateX(90deg) translateZ(NaNpx)\\\" class=\\\"psw-fill-x psw-top-left psw-l-line-center\\\"\\u003e\\u003c/div\\u003e\\u003cdiv data-qa=\\\"inline-toast#slot1\\\" aria-hidden=\\\"false\\\" style=\\\"transition:opacity 300ms ease-in;opacity:1;transform:rotateX(0deg) translateZ(NaNpx)\\\" class=\\\"psw-fill-x psw-top-left psw-l-line-center\\\"\\u003e\\u003cbutton data-qa=\\\"mfeCtaMain#cta#action\\\" data-track=\\\"{\\u0026quot;eventInfo\\u0026quot;:{\\u0026quot;eventAction\\u0026quot;:\\u0026quot;click\\u0026quot;,\\u0026quot;eventName\\u0026quot;:\\u0026quot;add to cart\\u0026quot;},\\u0026quot;attributes\\u0026quot;:{\\u0026quot;moduleName\\u0026quot;:\\u0026quot;pricing cta\\u0026quot;,\\u0026quot;assetName\\u0026quot;:\\u0026quot;\\u0026quot;,\\u0026quot;label\\u0026quot;:\\u0026quot;add to cart\\u0026quot;,\\u0026quot;position\\u0026quot;:\\u0026quot;1\\u0026quot;,\\u0026quot;linkUrl\\u0026quot;:\\u0026quot;\\u0026quot;,\\u0026quot;elementType\\u0026quot;:\\u0026quot;button\\u0026quot;,\\u0026quot;userActionFlag\\u0026quot;:false,\\u0026quot;sku\\u0026quot;:\\u0026quot;JP9000-PPSA05685_00-UNCHARTED4R00000-J003\\u0026quot;}}\\\" data-track-click=\\\"ctaWithPrice:addToCart\\\" data-telemetry-meta=\\\"{\\u0026quot;conceptId\\u0026quot;:\\u0026quot;205354\\u0026quot;,\\u0026quot;ctaIndex\\u0026quot;:0,\\u0026quot;ctaSubType\\u0026quot;:\\u0026quot;add_to_cart\\u0026quot;,\\u0026quot;ctaType\\u0026quot;:\\u0026quot;ADD_TO_CART\\u0026quot;,\\u0026quot;interactAction\\u0026quot;:\\u0026quot;click add to cart\\u0026quot;,\\u0026quot;interactCta\\u0026quot;:\\u0026quot;add to cart\\u0026quot;,\\u0026quot;productId\\u0026quot;:\\u0026quot;JP9000-PPSA05685_00-UNCHARTED4R00000\\u0026quot;,\\u0026quot;productDetail\\u0026quot;:[{\\u0026quot;productId\\u0026quot;:\\u0026quot;JP9000-PPSA05685_00-UNCHARTED4R00000\\u0026quot;,\\u0026quot;productName\\u0026quot;:\\u0026quot;アンチャーテッド トレジャーハンターコレクション\\u0026quot;,\\u0026quot;productToSkuIds\\u0026quot;:[\\u0026quot;JP9000-PPSA05685_00-UNCHARTED4R00000-J002\\u0026quot;,\\u0026quot;JP9000-PPSA05685_00-UNCHARTED4R00000-J003\\u0026quot;],\\u0026quot;productPriceDetail\\u0026quot;:[{\\u0026quot;rewardId\\u0026quot;:\\u0026quot;OFFER-PROD-7636_60\\u0026quot;,\\u0026quot;offerCampaignId\\u0026quot;:\\u0026quot;PROMO-PROD-00007636\\u0026quot;,\\u0026quot;originalPriceFormatted\\u0026quot;:\\u0026quot;¥5,390\\u0026quot;,\\u0026quot;originalPriceValue\\u0026quot;:5390,\\u0026quot;discountPriceFormatted\\u0026quot;:\\u0026quot;¥2,156\\u0026quot;,\\u0026quot;discountPriceValue\\u0026quot;:2156,\\u0026quot;priceCurrencyCode\\u0026quot;:\\u0026quot;JPY\\u0026quot;,\\u0026quot;offerBranding\\u0026quot;:\\u0026quot;NONE\\u0026quot;,\\u0026quot;offerQualification\\u0026quot;:[],\\u0026quot;offerExclusive\\u0026quot;:false,\\u0026quot;offerApplied\\u0026quot;:true,\\u0026quot;offerApplicability\\u0026quot;:\\u0026quot;APPLICABLE\\u0026quot;,\\u0026quot;offerIsTiedToSubscription\\u0026quot;:false},{\\u0026quot;rewardId\\u0026quot;:\\u0026quot;SUB001-SUBC00002_00-HM93SKR5MGPG6TD8\\u0026quot;,\\u0026quot;offerCampaignId\\u0026quot;:null,\\u0026quot;originalPriceFormatted\\u0026quot;:\\u0026quot;¥5,390\\u0026quot;,\\u0026quot;originalPriceValue\\u0026quot;:5390,\\u0026quot;discountPriceFormatted\\u0026quot;:\\u0026quot;含まれます\\u0026quot;,\\u0026quot;discountPriceValue\\u0026quot;:0,\\u0026quot;priceCurrencyCode\\u0026quot;:\\u0026quot;JPY\\u0026quot;,\\u0026quot;offerBranding\\u0026quot;:\\u0026quot;PS_PLUS\\u0026quot;,\\u0026quot;offerQualification\\u0026quot;:[{\\u0026quot;__typename\\u0026quot;:\\u0026quot;Qualification\\u0026quot;,\\u0026quot;type\\u0026quot;:\\u0026quot;ENTITLEMENT_IN_CART\\u0026quot;,\\u0026quot;value\\u0026quot;:\\u0026quot;SUB001-SUBC00002_00-HM93SKR5MGPG6TD8\\u0026quot;}],\\u0026quot;offerExclusive\\u0026quot;:false,\\u0026quot;offerApplied\\u0026quot;:false,\\u0026quot;offerApplicability\\u0026quot;:\\u0026quot;UPSELL\\u0026quot;,\\u0026quot;offerIsTiedToSubscription\\u0026quot;:true}]}],\\u0026quot;skuDetail\\u0026quot;:[{\\u0026quot;skuId\\u0026quot;:\\u0026quot;JP9000-PPSA05685_00-UNCHARTED4R00000-J003\\u0026quot;,\\u0026quot;skuPriceDetail\\u0026quot;:[{\\u0026quot;rewardId\\u0026quot;:\\u0026quot;OFFER-PROD-7636_60\\u0026quot;,\\u0026quot;offerCampaignId\\u0026quot;:\\u0026quot;PROMO-PROD-00007636\\u0026quot;,\\u0026quot;originalPriceFormatted\\u0026quot;:\\u0026quot;¥5,390\\u0026quot;,\\u0026quot;originalPriceValue\\u0026quot;:5390,\\u0026quot;discountPriceFormatted\\u0026quot;:\\u0026quot;¥2,156\\u0026quot;,\\u0026quot;discountPriceValue\\u0026quot;:2156,\\u0026quot;priceCurrencyCode\\u0026quot;:\\u0026quot;JPY\\u0026quot;,\\u0026quot;offerBranding\\u0026quot;:\\u0026quot;NONE\\u0026quot;,\\u0026quot;offerQualification\\u0026quot;:[],\\u0026quot;offerExclusive\\u0026quot;:false,\\u0026quot;offerApplied\\u0026quot;:true,\\u0026quot;offerApplicability\\u0026quot;:\\u0026quot;APPLICABLE\\u0026quot;,\\u0026quot;offerIsTiedToSubscription\\u0026quot;:false}],\\u0026quot;skuName\\u0026quot;:\\u0026quot;ゲーム本編\\u0026quot;}],\\u0026quot;titleId\\u0026quot;:\\u0026quot;PPSA05685_00\\u0026quot;}\\\" id class=\\\"psw-fill-x dtm-track psw-button psw-b-0 psw-t-button psw-l-line-center psw-button-sizing psw-button-sizing--medium psw-purchase-button psw-solid-button\\\" type=\\\"button\\\" name value\\u003e\\u003cspan class=\\\"psw-fill-x psw-t-truncate-1 psw-l-space-x-2 \\\"\\u003eカートに追加\\u003c/span\\u003e\\u003c/button\\u003e\\u003cbutton data-qa=\\\"wishlistToggle\\\" data-track-click=\\\"ctaWithPrice:addToWishlist\\\" data-telemetry-meta=\\\"{\\u0026quot;productId\\u0026quot;:\\u0026quot;JP9000-PPSA05685_00-UNCHARTED4R00000\\u0026quot;,\\u0026quot;conceptId\\u0026quot;:null}\\\" id class=\\\"psw-m-l-4 psw-button psw-b-0 psw-t-button psw-l-line-center psw-button-sizing psw-button-sizing--medium psw-button-sizing--icon-only psw-secondary-button psw-solid-button psw-with-icon\\\" type=\\\"button\\\" name value\\u003e\\u003cspan class=\\\"psw-fill-x psw-l-line-center \\\"\\u003e\\u003cspan data-qa=\\\"wishlistToggle#icon\\\" class=\\\"psw-icon psw-icon--unfavorite psw-icon psw-icon-size-2 psw-icon--unfavorite\\\"\\u003e\\u003cdiv class=\\\"psw-hide\\\" data-original-icon-id=\\\"ps-icon:unfavorite\\\"\\u003e\\u003csvg xmlns=\\\"http://www.w3.org/2000/svg\\\"\\u003e\\u003csymbol id=\\\"ps-icon:unfavorite:522\\\" viewbox=\\\"0 0 64 64\\\"\\u003e\\u003cpath fill-rule=\\\"nonzero\\\" stroke=\\\"none\\\" stroke-width=\\\"1\\\" d=\\\"M40.045 12.5c3.052 0 5.9 1.388 7.98 3.785 2.045 2.35 3.205 5.503 3.205 8.859 0 3.222-1.073 6.266-2.97 8.583l-.232.274-16.663 19.161L14.71 34.003c-2.046-2.344-3.208-5.501-3.211-8.859 0-3.35 1.164-6.503 3.21-8.86 2.086-2.398 4.931-3.787 7.975-3.784 3.054 0 5.903 1.387 7.98 3.78.186.213.365.435.537.667l.163.229.164-.231c.086-.116.173-.229.262-.34l.272-.324c2.084-2.398 4.93-3.784 7.982-3.781zm5.715 5.753c-1.529-1.762-3.562-2.753-5.717-2.753-2.153-.002-4.185.987-5.718 2.751-.535.613-1.005 1.362-1.41 2.236l-.17.383-1.385 3.26-1.377-3.264c-.435-1.032-.962-1.909-1.58-2.615-1.528-1.76-3.562-2.751-5.72-2.751-2.144-.002-4.176.99-5.709 2.751-1.568 1.808-2.474 4.262-2.474 6.892.002 2.519.826 4.871 2.264 6.641l.21.249L31.365 48.59l14.398-16.557c1.492-1.716 2.383-4.033 2.46-6.531l.006-.358c0-2.518-.822-4.867-2.26-6.642l-.21-.25z\\\"\\u003e\\u003c/path\\u003e\\u003c/symbol\\u003e\\u003c/svg\\u003e\\u003c/div\\u003e\\u003csvg role=\\\"img\\\"\\u003e\\u003ctitle\\u003e欲しいリストに追加\\u003c/title\\u003e\\u003cuse href=\\\"#ps-icon:unfavorite:522\\\"\\u003e\\u003c/use\\u003e\\u003c/svg\\u003e\\u003c/span\\u003e\\u003c/span\\u003e\\u003c/button\\u003e\\u003c/div\\u003e\\u003c/div\\u003e\\u003c/div\\u003e\\u003c/div\\u003e\\u003c/div\\u003e\\u003c/div\\u003e\\u003c/div\\u003e\\u003cdiv class=\\\"psw-layer psw-loading-block psw-r-2\\\" data-qa=\\\"mfeCtaMain#loadingOverlay\\\"\\u003e\\u003c/div\\u003e\\u003c/div\\u003e\\u003c/div\\u003e\",\"statusCode\":200},\"compatibility-notices\":{\"text\":\"\\u003cscript id=\\\"env:bedf8d10-df30-11ee-926c-859863aa352d\\\" type=\\\"application/json\\\"\\u003e{\\\"args\\\":{\\\"conceptId\\\":\\\"205354\\\"},\\\"overrides\\\":{\\\"theme\\\":\\\"dark\\\",\\\"locale\\\":\\\"ja-jp\\\"},\\\"cache\\\":{\\\"Product:JP9000-PPSA05685_00-UNCHARTED4R00000\\\":{\\\"id\\\":\\\"JP9000-PPSA05685_00-UNCHARTED4R00000\\\",\\\"__typename\\\":\\\"Product\\\",\\\"compatibilityNoticesByPlatform\\\":{\\\"__typename\\\":\\\"CompatibilityNotices\\\",\\\"PS4\\\":null,\\\"PS5\\\":[{\\\"__typename\\\":\\\"CompatibilityNotice\\\",\\\"type\\\":\\\"STREAMING_SUPPORTED\\\",\\\"value\\\":\\\"ENABLED\\\"}],\\\"Common\\\":[{\\\"__typename\\\":\\\"CompatibilityNotice\\\",\\\"type\\\":\\\"NO_OF_PLAYERS\\\",\\\"value\\\":\\\"1\\\"},{\\\"__typename\\\":\\\"CompatibilityNotice\\\",\\\"type\\\":\\\"REMOTE_PLAY_SUPPORTED\\\",\\\"value\\\":\\\"true\\\"},{\\\"__typename\\\":\\\"CompatibilityNotice\\\",\\\"type\\\":\\\"OFFLINE_PLAY_MODE\\\",\\\"value\\\":\\\"ENABLED\\\"}]}},\\\"Concept:205354\\\":{\\\"id\\\":\\\"205354\\\",\\\"__typename\\\":\\\"Concept\\\",\\\"compatibilityNoticesByPlatform\\\":{\\\"__typename\\\":\\\"CompatibilityNotices\\\",\\\"PS4\\\":null,\\\"PS5\\\":null,\\\"Common\\\":null},\\\"defaultProduct\\\":{\\\"__ref\\\":\\\"Product:JP9000-PPSA05685_00-UNCHARTED4R00000\\\"}},\\\"ROOT_QUERY\\\":{\\\"__typename\\\":\\\"Query\\\",\\\"conceptRetrieve({\\\\\\\"conceptId\\\\\\\":\\\\\\\"205354\\\\\\\"})\\\":{\\\"__ref\\\":\\\"Concept:205354\\\"}}},\\\"translations\\\":{\\\"msgid_offline_play_enabled\\\":\\\"オフラインプレイ対応\\\",\\\"msgid_number_players_single\\\":\\\"1人のプレイヤー\\\",\\\"msgid_remote_play_supported\\\":\\\"リモートプレイ対応\\\",\\\"msgid_ps5_version\\\":\\\"PS5バージョン\\\",\\\"msgid_tier3_name\\\":\\\"プレミアム\\\",\\\"msgid_ps5_cronos_supported\\\":\\\"PS5ゲームのストリーミングは%tiername%でのみプレイ可能\\\",\\\"msgid_ps4_version\\\":\\\"PS4バージョン\\\"}}\\u003c/script\\u003e\\u003cdiv data-mfe-name=\\\"compatibilityNotices\\\" class=\\\"psw-root psw-dark-theme\\\" data-initial=\\\"env:bedf8d10-df30-11ee-926c-859863aa352d\\\"\\u003e\\u003cdiv data-qa=\\\"mfe-compatibility-notices\\\" class=\\\"psw-c-bg-0\\\" data-reactroot\\u003e\\u003cdiv\\u003e\\u003cul data-qa=\\\"mfe-compatibility-notices#notices\\\" class=\\\"psw-l-columns psw-l-max-3 psw-t-secondary psw-l-space-y-1 psw-p-0 psw-m-0 psw-list-style-none\\\"\\u003e\\u003cli data-qa=\\\"mfe-compatibility-notices#notices#listItem0\\\" class=\\\"psw-l-line-none psw-l-space-x-xs psw-l-shrink-wrap\\\"\\u003e\\u003cdiv\\u003e\\u003cdiv class=\\\"psw-l-line-left psw-l-space-x-3\\\"\\u003e\\u003cspan data-qa=\\\"mfe-compatibility-notices#notices#notice0#compatIcon\\\" class=\\\"psw-icon psw-icon--online-play psw-icon psw-icon-size-3 psw-icon--online-play\\\"\\u003e\\u003cdiv class=\\\"psw-hide\\\" data-original-icon-id=\\\"ps-icon:online-play\\\"\\u003e\\u003csvg xmlns=\\\"http://www.w3.org/2000/svg\\\"\\u003e\\u003csymbol id=\\\"ps-icon:online-play:731\\\" viewbox=\\\"0 0 64 64\\\"\\u003e\\u003cpath fill-rule=\\\"evenodd\\\" d=\\\"M49.5 38.98c2.388 0 4.56 2.004 4.701 4.442.006 0 1.242 7.336 1.375 9.469.125 1.991-1.653 2.12-2.406 2.128h-.14c-.83 0-2.17-.36-2.854-1.175-1.237-1.502-2.018-2.838-2.793-4.273h-8.767c-.773 1.435-1.553 2.77-2.79 4.273-.684.816-2.024 1.176-2.857 1.176-.637 0-2.68 0-2.545-2.13.135-2.132 1.371-9.468 1.371-9.468.15-2.438 2.318-4.442 4.706-4.442 1.476 0 2.736 1.046 4.027 1.845h4.946c1.29-.8 2.551-1.845 4.025-1.845zM28 13.063c9.89 0 17.938 8.046 17.938 17.937 0 2.416-.487 4.719-1.357 6.825h-3.17c-1.266-.832-2.837-1.845-4.91-1.845-1.887 0-3.647.728-5.01 1.91.06-.197.126-.388.18-.593a42.681 42.681 0 00-7.343 0c.889 3.246 2.357 5.644 3.672 7.273.238-.294.48-.622.723-.967a298.29 298.29 0 00-.835 5.329C18.05 48.87 10.063 40.852 10.063 31c0-9.891 8.047-17.937 17.937-17.937zm-7.17 24.684a41.826 41.826 0 00-4.9 1.153 14.495 14.495 0 007.956 5.933c-1.185-1.838-2.322-4.188-3.056-7.086zm-6.461-11.463A14.365 14.365 0 0013.563 31c0 1.653.293 3.236.807 4.717a45.21 45.21 0 015.825-1.411A28.977 28.977 0 0120.009 31c0-1.156.066-2.254.185-3.297a45.487 45.487 0 01-5.825-1.42zm27.262 0a45.487 45.487 0 01-5.825 1.419c.12 1.043.186 2.14.186 3.297 0 1.159-.066 2.26-.187 3.306a45.21 45.21 0 015.825 1.41A14.35 14.35 0 0042.438 31c0-1.653-.294-3.236-.807-4.716zm-9.302 1.879a45.842 45.842 0 01-4.33.212c-1.45 0-2.893-.076-4.328-.212-.101.899-.162 1.84-.162 2.837 0 1.002.06 1.946.163 2.848a46.013 46.013 0 018.656 0A25.22 25.22 0 0032.492 31c0-.997-.062-1.938-.163-2.837zm-4.33-10.733c-1.314 1.629-2.782 4.028-3.671 7.273a42.48 42.48 0 007.344 0c-.89-3.245-2.357-5.644-3.672-7.273zm-4.113-.262A14.489 14.489 0 0015.93 23.1c1.61.482 3.248.869 4.9 1.153.734-2.897 1.87-5.248 3.056-7.085zm8.228 0c1.186 1.837 2.322 4.188 3.056 7.085a41.779 41.779 0 004.9-1.153 14.485 14.485 0 00-7.956-5.932z\\\"\\u003e\\u003c/path\\u003e\\u003c/symbol\\u003e\\u003c/svg\\u003e\\u003c/div\\u003e\\u003csvg aria-hidden=\\\"true\\\" focusable=\\\"false\\\"\\u003e\\u003ctitle\\u003e\\u003c/title\\u003e\\u003cuse href=\\\"#ps-icon:online-play:731\\\"\\u003e\\u003c/use\\u003e\\u003c/svg\\u003e\\u003c/span\\u003e\\u003cspan data-qa=\\\"mfe-compatibility-notices#notices#notice0#compatText\\\"\\u003eオフラインプレイ対応\\u003c/span\\u003e\\u003c/div\\u003e\\u003c/div\\u003e\\u003c/li\\u003e\\u003cli data-qa=\\\"mfe-compatibility-notices#notices#listItem1\\\" class=\\\"psw-l-line-none psw-l-space-x-xs psw-l-shrink-wrap\\\"\\u003e\\u003cdiv\\u003e\\u003cdiv class=\\\"psw-l-line-left psw-l-space-x-3\\\"\\u003e\\u003cspan data-qa=\\\"mfe-compatibility-notices#notices#notice1#compatIcon\\\" class=\\\"psw-icon psw-icon--person psw-icon psw-icon-size-3 psw-icon--person\\\"\\u003e\\u003cdiv class=\\\"psw-hide\\\" data-original-icon-id=\\\"ps-icon:person\\\"\\u003e\\u003csvg xmlns=\\\"http://www.w3.org/2000/svg\\\"\\u003e\\u003csymbol id=\\\"ps-icon:person:732\\\" viewbox=\\\"0 0 64 64\\\"\\u003e\\u003cpath fill-rule=\\\"evenodd\\\" d=\\\"M39.23 39.073c-.692-.116-1.798-.369-2.102-1.254a1.782 1.782 0 01-.074-.461v-2.455c4.183-2.068 7.093-6.595 7.093-11.859 0-7.205-5.44-13.046-12.148-13.046-6.71 0-12.148 5.841-12.148 13.046 0 5.264 2.903 9.791 7.087 11.859v2.455a1.27 1.27 0 01-.066.369c-.268.977-1.266 1.237-1.9 1.346-8.737 1.496-12.854 6.224-12.854 14.929h39.764c0-8.705-3.754-13.433-12.652-14.929\\\"\\u003e\\u003c/path\\u003e\\u003c/symbol\\u003e\\u003c/svg\\u003e\\u003c/div\\u003e\\u003csvg aria-hidden=\\\"true\\\" focusable=\\\"false\\\"\\u003e\\u003ctitle\\u003e\\u003c/title\\u003e\\u003cuse href=\\\"#ps-icon:person:732\\\"\\u003e\\u003c/use\\u003e\\u003c/svg\\u003e\\u003c/span\\u003e\\u003cspan data-qa=\\\"mfe-compatibility-notices#notices#notice1#compatText\\\"\\u003e1人のプレイヤー\\u003c/span\\u003e\\u003c/div\\u003e\\u003c/div\\u003e\\u003c/li\\u003e\\u003cli data-qa=\\\"mfe-compatibility-notices#notices#listItem2\\\" class=\\\"psw-l-line-none psw-l-space-x-xs psw-l-shrink-wrap\\\"\\u003e\\u003cdiv\\u003e\\u003cdiv class=\\\"psw-l-line-left psw-l-space-x-3\\\"\\u003e\\u003cspan data-qa=\\\"mfe-compatibility-notices#notices#notice2#compatIcon\\\" class=\\\"psw-icon psw-icon--app-remote-play psw-icon psw-icon-size-3 psw-icon--app-remote-play\\\"\\u003e\\u003cdiv class=\\\"psw-hide\\\" data-original-icon-id=\\\"ps-icon:app-remote-play\\\"\\u003e\\u003csvg xmlns=\\\"http://www.w3.org/2000/svg\\\"\\u003e\\u003csymbol id=\\\"ps-icon:app-remote-play:733\\\" viewbox=\\\"0 0 64 64\\\"\\u003e\\u003cpath fill-rule=\\\"evenodd\\\" d=\\\"M42.688 25.367c4.992 0 9.464 3.74 10.404 8.697.004.02.008.042.01.061.023.13 2.192 13.246 2.413 16.778.145 2.302-.73 3.75-1.49 4.558-1.722 1.834-4.254 1.956-5.326 1.964h-.206c-2.192 0-5.167-.91-6.89-2.967-1.79-2.173-3.056-4.188-4.076-5.992H26.473c-1.02 1.805-2.29 3.822-4.091 6.01-1.708 2.038-4.684 2.95-6.875 2.95-.912 0-3.687 0-5.532-1.965-.76-.809-1.635-2.256-1.49-4.556.221-3.534 2.39-16.65 2.412-16.78l.012-.06c.939-4.959 5.412-8.698 10.403-8.698 2.836 0 5.062 1.464 7.025 2.754l.426.28h6.474l.426-.28c1.964-1.29 4.19-2.754 7.025-2.754zm0 2.845c-2.427 0-4.5 1.719-6.62 3.033h-8.136c-2.12-1.314-4.193-3.033-6.62-3.033-3.62 0-6.931 2.804-7.61 6.383-.013.08-2.17 13.172-2.377 16.487-.221 3.5 3.136 3.5 4.182 3.5 1.366 0 3.572-.593 4.694-1.934 2.035-2.467 3.32-4.666 4.592-7.026h14.414c1.273 2.36 2.557 4.559 4.591 7.026 1.124 1.34 3.328 1.933 4.695 1.933 1.047 0 4.403 0 4.183-3.5-.207-3.314-2.365-16.405-2.379-16.486-.678-3.58-3.988-6.383-7.61-6.383zM32 17.778A2.844 2.844 0 1132 23.466 2.844 2.844 0 0132 17.778zm0-10.667A2.844 2.844 0 1132 12.8 2.844 2.844 0 0132 7.11z\\\"\\u003e\\u003c/path\\u003e\\u003c/symbol\\u003e\\u003c/svg\\u003e\\u003c/div\\u003e\\u003csvg aria-hidden=\\\"true\\\" focusable=\\\"false\\\"\\u003e\\u003ctitle\\u003e\\u003c/title\\u003e\\u003cuse href=\\\"#ps-icon:app-remote-play:733\\\"\\u003e\\u003c/use\\u003e\\u003c/svg\\u003e\\u003c/span\\u003e\\u003cspan data-qa=\\\"mfe-compatibility-notices#notices#notice2#compatText\\\"\\u003eリモートプレイ対応\\u003c/span\\u003e\\u003c/div\\u003e\\u003c/div\\u003e\\u003c/li\\u003e\\u003cli data-qa=\\\"mfe-compatibility-notices#notices#listItem3\\\" class=\\\"psw-l-line-none psw-l-space-x-xs psw-l-shrink-wrap\\\"\\u003e\\u003cdiv class=\\\"psw-l-line-left psw-l-space-x-3\\\"\\u003e\\u003cspan data-qa=\\\"mfe-compatibility-notices#notices#notice0#compatTextHeader\\\"\\u003ePS5バージョン\\u003c/span\\u003e\\u003c/div\\u003e\\u003cdiv\\u003e\\u003cdiv class=\\\"psw-l-line-left psw-l-space-x-3\\\"\\u003e\\u003cspan data-qa=\\\"mfe-compatibility-notices#notices#notice0#compatIcon\\\" class=\\\"psw-icon psw-icon--game-streaming-with-plus psw-icon psw-icon-size-3 psw-icon--game-streaming-with-plus\\\"\\u003e\\u003cdiv class=\\\"psw-hide\\\" data-original-icon-id=\\\"ps-icon:game-streaming-with-plus\\\"\\u003e\\u003csvg xmlns=\\\"http://www.w3.org/2000/svg\\\"\\u003e\\u003cdefs\\u003e\\u003clineargradient id=\\\"game-streaming-with-plus__paint0_linear_7_101\\\" x1=\\\"33.283\\\" x2=\\\"46.401\\\" y1=\\\"48.276\\\" y2=\\\"63.172\\\" gradientunits=\\\"userSpaceOnUse\\\"\\u003e\\u003cstop stop-color=\\\"#C3862C\\\"\\u003e\\u003c/stop\\u003e\\u003cstop offset=\\\"1\\\" stop-color=\\\"#986D29\\\"\\u003e\\u003c/stop\\u003e\\u003c/lineargradient\\u003e\\u003clineargradient id=\\\"game-streaming-with-plus__paint1_linear_7_101\\\" x1=\\\"29.671\\\" x2=\\\"50.714\\\" y1=\\\"49.112\\\" y2=\\\"65.48\\\" gradientunits=\\\"userSpaceOnUse\\\"\\u003e\\u003cstop stop-color=\\\"#FDE64E\\\"\\u003e\\u003c/stop\\u003e\\u003cstop offset=\\\"1\\\" stop-color=\\\"#FCC013\\\"\\u003e\\u003c/stop\\u003e\\u003c/lineargradient\\u003e\\u003c/defs\\u003e\\u003csymbol id=\\\"ps-icon:game-streaming-with-plus:734\\\" viewbox=\\\"0 0 64 64\\\"\\u003e\\u003cpath fill=\\\"url(#game-streaming-with-plus__paint0_linear_7_101)\\\" fill-rule=\\\"evenodd\\\" d=\\\"M49.486 35.009l-5.789.79a.811.811 0 00-.542.314v.001c-.063.084-.063.084 0 0l-1.584 2.076a.807.807 0 00-.16.604l.647 4.726-4.762.652a.876.876 0 00-.31.106.85.85 0 00-.233.21c-.032.04-.048.092-.07.139.022-.048.038-.099.07-.14l-1.586 2.074a.81.81 0 00-.16.604l.788 5.745a.81.81 0 00.314.54.837.837 0 00.607.157l6.599-.904.897 6.553c.03.222.149.411.317.536.165.126.38.189.605.158l5.787-.792a.822.822 0 00.542-.314l1.585-2.076a.825.825 0 00.139-.28.77.77 0 00.02-.324l-.647-4.725 4.765-.654a.822.822 0 00.542-.314l1.584-2.075a.825.825 0 00.14-.28.833.833 0 00.02-.323l-.787-5.746a.808.808 0 00-.315-.538.824.824 0 00-.606-.158l-6.6.903-.895-6.552a.808.808 0 00-.318-.537.812.812 0 00-.488-.165.76.76 0 00-.116.009\\\" clip-rule=\\\"evenodd\\\"\\u003e\\u003c/path\\u003e\\u003cpath fill=\\\"url(#game-streaming-with-plus__paint1_linear_7_101)\\\" fill-rule=\\\"evenodd\\\" d=\\\"M43.697 35.8a.838.838 0 00-.542.314.812.812 0 00-.16.603l.9 6.553-6.6.902a.875.875 0 00-.31.106.853.853 0 00-.233.21.823.823 0 00-.161.602l.787 5.745a.821.821 0 00.923.696l6.598-.904.9 6.552a.81.81 0 00.313.538c.17.125.383.189.608.158l5.786-.793a.792.792 0 00.308-.107.804.804 0 00.393-.81l-.897-6.552 6.598-.903a.833.833 0 00.543-.314.825.825 0 00.14-.28.833.833 0 00.02-.323l-.787-5.746a.808.808 0 00-.315-.538.825.825 0 00-.606-.158l-6.6.903-.895-6.552a.808.808 0 00-.318-.537.812.812 0 00-.605-.156l-5.788.79z\\\" clip-rule=\\\"evenodd\\\"\\u003e\\u003c/path\\u003e\\u003cpath fill=\\\"#C3862C\\\" fill-rule=\\\"evenodd\\\" d=\\\"M55.636 47.133a1.708 1.708 0 111.46-1.923 1.71 1.71 0 01-1.46 1.923m-.582-4.237a2.57 2.57 0 10.699 5.093 2.57 2.57 0 00-.7-5.093M45.92 40.72l1.006-2.524 1.705 2.151-2.71.372zm.754-4.227l-2.103 5.282 5.677-.78-3.574-4.502zM39.422 49.12l-.4-2.926 2.927-.401.4 2.927-2.927.4zm-1.37-3.666l.633 4.638 4.635-.636-.635-4.634-4.633.632zM49.714 53.714l2.01 1.527-.521.687-2.01-1.527-1.529 2.011-.686-.522 1.526-2.01-2.008-1.526.52-.689 2.01 1.528 1.528-2.011.686.521-1.526 2.01z\\\" clip-rule=\\\"evenodd\\\"\\u003e\\u003c/path\\u003e\\u003cpath fill-rule=\\\"evenodd\\\" d=\\\"M34.5 42.673l.002-.001v-.001l.005-.005a3.795 3.795 0 011.054-.946 3.945 3.945 0 011.46-.516l1.82-.25-.243-1.778c-.013-.094-.005-.186-.011-.28-.573-.131-1.194-.4-1.572-.85-1.003-1.216-1.636-2.3-2.263-3.463h-7.106c-.628 1.163-1.261 2.247-2.264 3.464-.553.66-1.64.953-2.314.953-.516 0-2.171 0-2.063-1.724.103-1.635 1.166-8.09 1.173-8.13C22.513 27.384 24.145 26 25.93 26c1.196 0 2.218.848 3.263 1.494h4.01C34.25 26.848 35.273 26 36.469 26c1.785 0 3.417 1.383 3.75 3.147.006.025.446 2.697.787 5.039.32-.39.654-.684 1.037-.91a3.786 3.786 0 011.388-.486l5.85-.8c1-.141 2.012.12 2.83.743a3.763 3.763 0 011.475 2.512l.187 1.367A9.997 9.997 0 0054 34.5c0-5.523-4.478-10-10-10-.268 0-.531.02-.792.04-1.844-5.261-6.84-9.04-12.731-9.04-6.994 0-12.746 5.319-13.431 12.133C13.046 28.323 10 31.802 10 36c0 1.232.267 2.399.738 3.455l-5.507 3.179c-.885.512-.523 1.866.5 1.866h27.373l1.394-1.824.002-.003\\\" clip-rule=\\\"evenodd\\\"\\u003e\\u003c/path\\u003e\\u003c/symbol\\u003e\\u003c/svg\\u003e\\u003c/div\\u003e\\u003csvg aria-hidden=\\\"true\\\" focusable=\\\"false\\\"\\u003e\\u003ctitle\\u003e\\u003c/title\\u003e\\u003cuse href=\\\"#ps-icon:game-streaming-with-plus:734\\\"\\u003e\\u003c/use\\u003e\\u003c/svg\\u003e\\u003c/span\\u003e\\u003cspan data-qa=\\\"mfe-compatibility-notices#notices#notice0#compatText\\\"\\u003ePS5ゲームのストリーミングはプレミアムでのみプレイ可能\\u003c/span\\u003e\\u003c/div\\u003e\\u003c/div\\u003e\\u003c/li\\u003e\\u003c/ul\\u003e\\u003c/div\\u003e\\u003c/div\\u003e\\u003c/div\\u003e\",\"statusCode\":200},\"content-rating\":{\"text\":\"\\u003cscript id=\\\"env:bee02950-df30-11ee-93fe-03278a72a71a\\\" type=\\\"application/json\\\"\\u003e{\\\"args\\\":{\\\"conceptId\\\":\\\"205354\\\"},\\\"overrides\\\":{\\\"theme\\\":\\\"dark\\\",\\\"locale\\\":\\\"ja-jp\\\"},\\\"cache\\\":{\\\"Product:JP9000-PPSA05685_00-UNCHARTED4R00000\\\":{\\\"id\\\":\\\"JP9000-PPSA05685_00-UNCHARTED4R00000\\\",\\\"__typename\\\":\\\"Product\\\",\\\"contentRating\\\":{\\\"__typename\\\":\\\"ProductContentRating\\\",\\\"authority\\\":\\\"CERO\\\",\\\"description\\\":\\\"CERO C\\\",\\\"name\\\":\\\"CERO_C\\\",\\\"url\\\":\\\"https://image.api.playstation.com/grc/images/ratings/hd/cero/c.png\\\",\\\"interactiveElements\\\":[],\\\"descriptors\\\":[{\\\"__typename\\\":\\\"ProductContentRatingDescriptor\\\",\\\"description\\\":\\\"Crime\\\",\\\"name\\\":\\\"CERO_CRIME\\\",\\\"url\\\":\\\"https://image.api.playstation.com/grc/images/descriptors/hd/cero/crime.png\\\"},{\\\"__typename\\\":\\\"ProductContentRatingDescriptor\\\",\\\"description\\\":\\\"Violence\\\",\\\"name\\\":\\\"CERO_VIOLENCE\\\",\\\"url\\\":\\\"https://image.api.playstation.com/grc/images/descriptors/hd/cero/violence.png\\\"}]}},\\\"Concept:205354\\\":{\\\"id\\\":\\\"205354\\\",\\\"__typename\\\":\\\"Concept\\\",\\\"contentRating\\\":{\\\"__typename\\\":\\\"ProductContentRating\\\",\\\"authority\\\":\\\"CERO\\\",\\\"description\\\":\\\"CERO C\\\",\\\"name\\\":\\\"CERO_C\\\",\\\"url\\\":\\\"https://cdn-a.sonyentertainmentnetwork.com/grc/images/ratings/hd/cero/c.png\\\",\\\"interactiveElements\\\":[],\\\"descriptors\\\":[{\\\"__typename\\\":\\\"ProductContentRatingDescriptor\\\",\\\"description\\\":\\\"Crime\\\",\\\"name\\\":\\\"CERO_CRIME\\\",\\\"url\\\":\\\"https://cdn-a.sonyentertainmentnetwork.com/images/descriptors/hd/cero/crime.png\\\"},{\\\"__typename\\\":\\\"ProductContentRatingDescriptor\\\",\\\"description\\\":\\\"Violence\\\",\\\"name\\\":\\\"CERO_VIOLENCE\\\",\\\"url\\\":\\\"https://cdn-a.sonyentertainmentnetwork.com/images/descriptors/hd/cero/violence.png\\\"}]},\\\"defaultProduct\\\":{\\\"__ref\\\":\\\"Product:JP9000-PPSA05685_00-UNCHARTED4R00000\\\"}},\\\"ROOT_QUERY\\\":{\\\"__typename\\\":\\\"Query\\\",\\\"conceptRetrieve({\\\\\\\"conceptId\\\\\\\":\\\\\\\"205354\\\\\\\"})\\\":{\\\"__ref\\\":\\\"Concept:205354\\\"}}},\\\"translations\\\":{}}\\u003c/script\\u003e\\u003cdiv data-mfe-name=\\\"contentRating\\\" class=\\\"psw-root psw-dark-theme\\\" data-initial=\\\"env:bee02950-df30-11ee-93fe-03278a72a71a\\\"\\u003e\\u003cdiv class=\\\"psw-c-bg-0 psw-t-subtitle\\\" data-qa=\\\"mfe-content-rating\\\" data-reactroot\\u003e\\u003cdiv class=\\\"psw-l-line-left-top\\\"\\u003e\\u003ca data-qa=\\\"mfe-content-rating#aboutLinkHref\\\" data-track=\\\"{\\u0026quot;eventInfo\\u0026quot;:{\\u0026quot;eventAction\\u0026quot;:\\u0026quot;click\\u0026quot;,\\u0026quot;eventName\\u0026quot;:\\u0026quot;select game rating\\u0026quot;},\\u0026quot;attributes\\u0026quot;:{\\u0026quot;moduleName\\u0026quot;:\\u0026quot;game rating\\u0026quot;,\\u0026quot;assetName\\u0026quot;:\\u0026quot;c.png\\u0026quot;,\\u0026quot;label\\u0026quot;:\\u0026quot;CERO_C\\u0026quot;,\\u0026quot;position\\u0026quot;:\\u0026quot;1\\u0026quot;,\\u0026quot;linkUrl\\u0026quot;:\\u0026quot;https://www.playstation.com/ja-jp/legal/ratings/\\u0026quot;,\\u0026quot;elementType\\u0026quot;:\\u0026quot;image\\u0026quot;,\\u0026quot;userActionFlag\\u0026quot;:true}}\\\" data-track-click=\\\"contentRating:learnMore\\\" data-telemetry-meta=\\\"{\\u0026quot;ratingName\\u0026quot;:\\u0026quot;CERO_C\\u0026quot;,\\u0026quot;productId\\u0026quot;:\\u0026quot;\\u0026quot;,\\u0026quot;conceptId\\u0026quot;:\\u0026quot;205354\\u0026quot;}\\\" id class=\\\"psw-link psw-content-link psw-m-r-5 dtm-track psw-ally-indicator\\\" aria-label type href=\\\"https://www.playstation.com/ja-jp/legal/ratings/\\\" rel=\\\"noopener noreferrer\\\" target=\\\"_blank\\\"\\u003e\\u003cspan data-qa=\\\"mfe-content-rating#ratingImage\\\" class=\\\"psw-media-frame psw-fill-x psw-image psw-media psw-l-w-icon-4 psw-media-interactive psw-aspect-5-6\\\"\\u003e\\u003cimg aria-hidden=\\\"true\\\" loading=\\\"lazy\\\" data-qa=\\\"mfe-content-rating#ratingImage#preview\\\" alt=\\\"CERO C\\\" class=\\\"psw-blur psw-center psw-l-fit-fill\\\" src=\\\"https://image.api.playstation.com/grc/images/ratings/hd/cero/c.png?w=54\\u0026amp;thumb=true\\\" /\\u003e\\u003cnoscript class=\\\"psw-layer\\\"\\u003e\\u003cimg class=\\\"psw-center psw-l-fit-fill\\\" loading=\\\"lazy\\\" data-qa=\\\"mfe-content-rating#ratingImage#image-no-js\\\" alt=\\\"CERO C\\\" src=\\\"https://image.api.playstation.com/grc/images/ratings/hd/cero/c.png\\\" /\\u003e\\u003c/noscript\\u003e\\u003c/span\\u003e\\u003c/a\\u003e\\u003cdiv class=\\\"psw-l-line-left-top psw-m-sub-1 psw-l-line-wrap\\\"\\u003e\\u003cspan data-qa=\\\"mfe-content-rating#imageDescriptor0\\\" class=\\\"psw-media-frame psw-fill-x psw-image psw-media psw-l-w-icon-4 psw-m-1 psw-aspect-1-1\\\"\\u003e\\u003cimg aria-hidden=\\\"true\\\" loading=\\\"lazy\\\" data-qa=\\\"mfe-content-rating#imageDescriptor0#preview\\\" alt=\\\"Crime\\\" class=\\\"psw-blur psw-center psw-l-fit-fill\\\" src=\\\"https://image.api.playstation.com/grc/images/descriptors/hd/cero/crime.png?w=54\\u0026amp;thumb=true\\\" /\\u003e\\u003cnoscript class=\\\"psw-layer\\\"\\u003e\\u003cimg class=\\\"psw-center psw-l-fit-fill\\\" loading=\\\"lazy\\\" data-qa=\\\"mfe-content-rating#imageDescriptor0#image-no-js\\\" alt=\\\"Crime\\\" src=\\\"https://image.api.playstation.com/grc/images/descriptors/hd/cero/crime.png\\\" /\\u003e\\u003c/noscript\\u003e\\u003c/span\\u003e\\u003cspan data-qa=\\\"mfe-content-rating#imageDescriptor1\\\" class=\\\"psw-media-frame psw-fill-x psw-image psw-media psw-l-w-icon-4 psw-m-1 psw-aspect-1-1\\\"\\u003e\\u003cimg aria-hidden=\\\"true\\\" loading=\\\"lazy\\\" data-qa=\\\"mfe-content-rating#imageDescriptor1#preview\\\" alt=\\\"Violence\\\" class=\\\"psw-blur psw-center psw-l-fit-fill\\\" src=\\\"https://image.api.playstation.com/grc/images/descriptors/hd/cero/violence.png?w=54\\u0026amp;thumb=true\\\" /\\u003e\\u003cnoscript class=\\\"psw-layer\\\"\\u003e\\u003cimg class=\\\"psw-center psw-l-fit-fill\\\" loading=\\\"lazy\\\" data-qa=\\\"mfe-content-rating#imageDescriptor1#image-no-js\\\" alt=\\\"Violence\\\" src=\\\"https://image.api.playstation.com/grc/images/descriptors/hd/cero/violence.png\\\" /\\u003e\\u003c/noscript\\u003e\\u003c/span\\u003e\\u003c/div\\u003e\\u003c/div\\u003e\\u003c/div\\u003e\\u003c/div\\u003e\",\"statusCode\":200},\"upsells\":{\"text\":\"\\u003cscript id=\\\"env:bef278d0-df30-11ee-8edf-e90e3592ba9b\\\" type=\\\"application/json\\\"\\u003e{\\\"args\\\":{\\\"conceptId\\\":\\\"205354\\\"},\\\"overrides\\\":{\\\"theme\\\":\\\"dark\\\",\\\"locale\\\":\\\"ja-jp\\\"},\\\"cache\\\":{\\\"Concept:205354\\\":{\\\"id\\\":\\\"205354\\\",\\\"__typename\\\":\\\"Concept\\\",\\\"name\\\":\\\"アンチャーテッド トレジャーハンターコレクション\\\",\\\"media\\\":[{\\\"__typename\\\":\\\"Media\\\",\\\"type\\\":\\\"IMAGE\\\",\\\"url\\\":\\\"https://image.api.playstation.com/vulcan/img/rnd/202112/0714/T9QCTQObL8tjAi8Ew3Grx7mJ.png\\\",\\\"role\\\":\\\"BACKGROUND_LAYER_ART\\\"},{\\\"__typename\\\":\\\"Media\\\",\\\"type\\\":\\\"IMAGE\\\",\\\"url\\\":\\\"https://image.api.playstation.com/vulcan/ap/rnd/202111/2000/5SRujXtEDnn92ckPYrxCrDcf.png\\\",\\\"role\\\":\\\"FOUR_BY_THREE_BANNER\\\"},{\\\"__typename\\\":\\\"Media\\\",\\\"type\\\":\\\"IMAGE\\\",\\\"url\\\":\\\"https://image.api.playstation.com/vulcan/ap/rnd/202111/2000/KM57mTQi3qxRxLie2W8laBgP.png\\\",\\\"role\\\":\\\"GAMEHUB_COVER_ART\\\"},{\\\"__typename\\\":\\\"Media\\\",\\\"type\\\":\\\"IMAGE\\\",\\\"url\\\":\\\"https://image.api.playstation.com/vulcan/img/rnd/202112/0714/TGbdW4coWcXNn646ZWTitCOM.png\\\",\\\"role\\\":\\\"HERO_CHARACTER\\\"},{\\\"__typename\\\":\\\"Media\\\",\\\"type\\\":\\\"IMAGE\\\",\\\"url\\\":\\\"https://image.api.playstation.com/vulcan/img/rnd/202112/0220/8BwUHCrCPOTKb3qETEzODUbN.png\\\",\\\"role\\\":\\\"LOGO\\\"},{\\\"__typename\\\":\\\"Media\\\",\\\"type\\\":\\\"IMAGE\\\",\\\"url\\\":\\\"https://image.api.playstation.com/vulcan/ap/rnd/202111/2000/YB4Y6BV9rU8axpJDuUZdDZN9.png\\\",\\\"role\\\":\\\"PORTRAIT_BANNER\\\"},{\\\"__typename\\\":\\\"Media\\\",\\\"type\\\":\\\"IMAGE\\\",\\\"url\\\":\\\"https://image.api.playstation.com/vulcan/ap/rnd/202111/2000/W7fnIRwYvGF17Qzg4duWQD4I.png\\\",\\\"role\\\":\\\"MASTER\\\"}],\\\"products\\\":[{\\\"__ref\\\":\\\"Product:JP9000-CUSA00949_00-U4UTLLBUNDLE0000\\\"},{\\\"__ref\\\":\\\"Product:JP9000-PPSA05685_00-UNCHARTED4R00000\\\"},{\\\"__ref\\\":\\\"Product:JP9000-CUSA08347_00-UNCHD4LOSTLEGACY\\\"}]},\\\"Sku:JP9000-CUSA00949_00-U4UTLLBUNDLE0000-J001\\\":{\\\"id\\\":\\\"JP9000-CUSA00949_00-U4UTLLBUNDLE0000-J001\\\",\\\"__typename\\\":\\\"Sku\\\",\\\"name\\\":\\\"ゲーム本編\\\"},\\\"Sku:JP9000-CUSA00949_00-U4UTLLBUNDLE0000-J002\\\":{\\\"id\\\":\\\"JP9000-CUSA00949_00-U4UTLLBUNDLE0000-J002\\\",\\\"__typename\\\":\\\"Sku\\\",\\\"name\\\":\\\"ゲーム本編\\\"},\\\"GameCTA:ADD_TO_CART:ADD_TO_CART:JP9000-CUSA00949_00-U4UTLLBUNDLE0000-J001:OUTRIGHT\\\":{\\\"id\\\":\\\"ADD_TO_CART:ADD_TO_CART:JP9000-CUSA00949_00-U4UTLLBUNDLE0000-J001:OUTRIGHT\\\",\\\"__typename\\\":\\\"GameCTA\\\",\\\"local\\\":{\\\"ctaLabel\\\":\\\"msgid_add_cart\\\",\\\"ctaType\\\":\\\"purchase\\\",\\\"serviceIcons\\\":[],\\\"priceOrText\\\":\\\"¥1,072\\\",\\\"originalPrice\\\":\\\"¥4,290\\\",\\\"offerLabel\\\":\\\"75%オフ\\\",\\\"offerAvailability\\\":\\\"2024-03-13T14:59:00.000Z\\\",\\\"ctaDataTrack\\\":{\\\"eventName\\\":\\\"add to cart\\\",\\\"label\\\":\\\"add to cart\\\",\\\"elementType\\\":\\\"button\\\",\\\"sku\\\":\\\"JP9000-CUSA00949_00-U4UTLLBUNDLE0000-J001\\\",\\\"userActionFlag\\\":false},\\\"ctaDataTrackClick\\\":\\\"ctaWithPrice:addToCart\\\",\\\"telemetryMeta\\\":{\\\"ctaSubType\\\":\\\"add_to_cart\\\",\\\"ctaType\\\":\\\"ADD_TO_CART\\\",\\\"interactCta\\\":\\\"add to cart\\\",\\\"interactAction\\\":\\\"click add to cart\\\",\\\"skuDetail\\\":{\\\"skuId\\\":\\\"JP9000-CUSA00949_00-U4UTLLBUNDLE0000-J001\\\",\\\"skuPriceDetail\\\":[{\\\"rewardId\\\":\\\"OFFER-PROD-7245_75\\\",\\\"offerCampaignId\\\":\\\"PROMO-PROD-00007245\\\",\\\"originalPriceFormatted\\\":\\\"¥4,290\\\",\\\"originalPriceValue\\\":4290,\\\"discountPriceFormatted\\\":\\\"¥1,072\\\",\\\"discountPriceValue\\\":1072,\\\"priceCurrencyCode\\\":\\\"JPY\\\",\\\"offerBranding\\\":\\\"NONE\\\",\\\"offerQualification\\\":[],\\\"offerExclusive\\\":false,\\\"offerApplied\\\":true,\\\"offerApplicability\\\":\\\"APPLICABLE\\\",\\\"offerIsTiedToSubscription\\\":false}]}}},\\\"type\\\":\\\"ADD_TO_CART\\\",\\\"hasLinkedConsole\\\":false,\\\"action\\\":{\\\"__typename\\\":\\\"Action\\\",\\\"type\\\":\\\"ADD_TO_CART\\\",\\\"param\\\":[{\\\"__typename\\\":\\\"ActionParam\\\",\\\"name\\\":\\\"skuId\\\",\\\"value\\\":\\\"JP9000-CUSA00949_00-U4UTLLBUNDLE0000-J001\\\"},{\\\"__typename\\\":\\\"ActionParam\\\",\\\"name\\\":\\\"rewardId\\\",\\\"value\\\":\\\"OUTRIGHT\\\"},{\\\"__typename\\\":\\\"ActionParam\\\",\\\"name\\\":\\\"conceptId\\\",\\\"value\\\":\\\"205354\\\"}]},\\\"meta\\\":{\\\"__typename\\\":\\\"CTAMeta\\\",\\\"upSellService\\\":\\\"NONE\\\",\\\"exclusive\\\":false,\\\"playabilityDate\\\":null,\\\"ineligibilityReasons\\\":[{\\\"__typename\\\":\\\"IneligibilityReason\\\",\\\"type\\\":\\\"UNKNOWN\\\",\\\"names\\\":[]}]},\\\"price\\\":{\\\"__typename\\\":\\\"Price\\\",\\\"basePrice\\\":\\\"¥4,290\\\",\\\"discountedPrice\\\":\\\"¥1,072\\\",\\\"discountText\\\":\\\"-75%\\\",\\\"serviceBranding\\\":[\\\"NONE\\\"],\\\"endTime\\\":\\\"1710341940000\\\",\\\"upsellText\\\":\\\"75%オフ\\\",\\\"basePriceValue\\\":4290,\\\"discountedValue\\\":1072,\\\"currencyCode\\\":\\\"JPY\\\",\\\"qualifications\\\":[],\\\"applicability\\\":\\\"APPLICABLE\\\",\\\"campaignId\\\":\\\"PROMO-PROD-00007245\\\",\\\"rewardId\\\":\\\"OFFER-PROD-7245_75\\\",\\\"isFree\\\":false,\\\"isExclusive\\\":false,\\\"isTiedToSubscription\\\":false}},\\\"Product:JP9000-CUSA00949_00-U4UTLLBUNDLE0000\\\":{\\\"id\\\":\\\"JP9000-CUSA00949_00-U4UTLLBUNDLE0000\\\",\\\"__typename\\\":\\\"Product\\\",\\\"topCategory\\\":\\\"GAME\\\",\\\"platforms\\\":[\\\"PS4\\\"],\\\"media\\\":[{\\\"__typename\\\":\\\"Media\\\",\\\"type\\\":\\\"IMAGE\\\",\\\"url\\\":\\\"https://image.api.playstation.com/vulcan/img/rnd/202112/0301/ttN5v6rCpVR7XsARCaOXKB3Q.png\\\",\\\"role\\\":\\\"BACKGROUND\\\"},{\\\"__typename\\\":\\\"Media\\\",\\\"type\\\":\\\"IMAGE\\\",\\\"url\\\":\\\"https://image.api.playstation.com/vulcan/img/rnd/202201/0523/sZJ9HHIwwliUh1lcexDcVKDV.png\\\",\\\"role\\\":\\\"FOUR_BY_THREE_BANNER\\\"},{\\\"__typename\\\":\\\"Media\\\",\\\"type\\\":\\\"IMAGE\\\",\\\"url\\\":\\\"https://image.api.playstation.com/vulcan/ap/rnd/202111/2921/wb7I7I0Uh0fqb7B2F96Jv5ir.png\\\",\\\"role\\\":\\\"GAMEHUB_COVER_ART\\\"},{\\\"__typename\\\":\\\"Media\\\",\\\"type\\\":\\\"IMAGE\\\",\\\"url\\\":\\\"https://image.api.playstation.com/vulcan/ap/rnd/202111/2001/vsIMSZMGxxfluHHd5eecoe0E.png\\\",\\\"role\\\":\\\"LOGO\\\"},{\\\"__typename\\\":\\\"Media\\\",\\\"type\\\":\\\"IMAGE\\\",\\\"url\\\":\\\"https://image.api.playstation.com/vulcan/img/rnd/202201/0523/Fm8BB10Z7LfMlPdoXaF6MAaI.png\\\",\\\"role\\\":\\\"PORTRAIT_BANNER\\\"},{\\\"__typename\\\":\\\"Media\\\",\\\"type\\\":\\\"IMAGE\\\",\\\"url\\\":\\\"https://image.api.playstation.com/cdn/UP9000/CUSA00341_00/FREE_CONTENTOSSls0hrxhyXXHauvCgR/PREVIEW_SCREENSHOT1_94443.jpg\\\",\\\"role\\\":\\\"SCREENSHOT\\\"},{\\\"__typename\\\":\\\"Media\\\",\\\"type\\\":\\\"IMAGE\\\",\\\"url\\\":\\\"https://image.api.playstation.com/vulcan/ap/rnd/202111/2221/9Pt8CzH9i4eYGvqkd1iqfBKl.jpg\\\",\\\"role\\\":\\\"SCREENSHOT\\\"},{\\\"__typename\\\":\\\"Media\\\",\\\"type\\\":\\\"IMAGE\\\",\\\"url\\\":\\\"https://image.api.playstation.com/cdn/UP9000/CUSA00341_00/FREE_CONTENTMPMR2MCfiUuXxgiLU7gG/PREVIEW_SCREENSHOT2_94443.jpg\\\",\\\"role\\\":\\\"SCREENSHOT\\\"},{\\\"__typename\\\":\\\"Media\\\",\\\"type\\\":\\\"IMAGE\\\",\\\"url\\\":\\\"https://image.api.playstation.com/vulcan/ap/rnd/202111/2221/CzeUL39z9OD9KL0rvdTnJif3.jpg\\\",\\\"role\\\":\\\"SCREENSHOT\\\"},{\\\"__typename\\\":\\\"Media\\\",\\\"type\\\":\\\"IMAGE\\\",\\\"url\\\":\\\"https://image.api.playstation.com/cdn/UP9000/CUSA00341_00/FREE_CONTENTevyHKk8xwLRYT34aEtv3/PREVIEW_SCREENSHOT3_94443.jpg\\\",\\\"role\\\":\\\"SCREENSHOT\\\"},{\\\"__typename\\\":\\\"Media\\\",\\\"type\\\":\\\"IMAGE\\\",\\\"url\\\":\\\"https://image.api.playstation.com/vulcan/ap/rnd/202111/2221/2lBXDqmV29yjHMJ1uvOXSMtw.jpg\\\",\\\"role\\\":\\\"SCREENSHOT\\\"},{\\\"__typename\\\":\\\"Media\\\",\\\"type\\\":\\\"IMAGE\\\",\\\"url\\\":\\\"https://image.api.playstation.com/cdn/UP9000/CUSA00341_00/FREE_CONTENT7oFAkuhrZRFOpiFovMRZ/PREVIEW_SCREENSHOT4_94443.jpg\\\",\\\"role\\\":\\\"SCREENSHOT\\\"},{\\\"__typename\\\":\\\"Media\\\",\\\"type\\\":\\\"IMAGE\\\",\\\"url\\\":\\\"https://image.api.playstation.com/vulcan/ap/rnd/202111/2221/auNyVLdKnu2TuBzexZ2mMoGO.jpg\\\",\\\"role\\\":\\\"SCREENSHOT\\\"},{\\\"__typename\\\":\\\"Media\\\",\\\"type\\\":\\\"IMAGE\\\",\\\"url\\\":\\\"https://image.api.playstation.com/cdn/UP9000/CUSA00341_00/FREE_CONTENTBo0lL4QQFo7R6rbNZEC3/PREVIEW_SCREENSHOT5_94443.jpg\\\",\\\"role\\\":\\\"SCREENSHOT\\\"},{\\\"__typename\\\":\\\"Media\\\",\\\"type\\\":\\\"IMAGE\\\",\\\"url\\\":\\\"https://image.api.playstation.com/vulcan/ap/rnd/202111/2221/fON6mVqxoqn2ax0VJSD958EW.jpg\\\",\\\"role\\\":\\\"SCREENSHOT\\\"},{\\\"__typename\\\":\\\"Media\\\",\\\"type\\\":\\\"IMAGE\\\",\\\"url\\\":\\\"https://image.api.playstation.com/vulcan/img/rnd/202201/0523/UtzaEhvBWuO7NqXRR2XtCZmm.png\\\",\\\"role\\\":\\\"MASTER\\\"}],\\\"edition\\\":{\\\"__typename\\\":\\\"ProductEdition\\\",\\\"name\\\":\\\"\\\",\\\"features\\\":[],\\\"ordering\\\":2,\\\"type\\\":\\\"STANDARD\\\"},\\\"contentRating\\\":{\\\"__typename\\\":\\\"ProductContentRating\\\",\\\"name\\\":\\\"CERO_C\\\"},\\\"localizedGenres\\\":[{\\\"__typename\\\":\\\"LocalizedGenre\\\",\\\"value\\\":\\\"アクション\\\"},{\\\"__typename\\\":\\\"LocalizedGenre\\\",\\\"value\\\":\\\"アドベンチャー\\\"}],\\\"invariantName\\\":\\\"UNCHARTED 4: A Thief’s End \\u0026 UNCHARTED: The Lost Legacy Digital Bundle\\\",\\\"name\\\":\\\"アンチャーテッド 海賊王と最後の秘宝＆アンチャーテッド 古代神の秘宝 デジタルバンドル\\\",\\\"npTitleId\\\":\\\"CUSA00949_00\\\",\\\"concept\\\":{\\\"__ref\\\":\\\"Concept:205354\\\"},\\\"skus\\\":[{\\\"__ref\\\":\\\"Sku:JP9000-CUSA00949_00-U4UTLLBUNDLE0000-J001\\\"},{\\\"__ref\\\":\\\"Sku:JP9000-CUSA00949_00-U4UTLLBUNDLE0000-J002\\\"}],\\\"isAgeRestricted\\\":false,\\\"activeCtaId\\\":\\\"ADD_TO_CART:ADD_TO_CART:JP9000-CUSA00949_00-U4UTLLBUNDLE0000-J001:OUTRIGHT\\\",\\\"webctas\\\":[{\\\"__ref\\\":\\\"GameCTA:ADD_TO_CART:ADD_TO_CART:JP9000-CUSA00949_00-U4UTLLBUNDLE0000-J001:OUTRIGHT\\\"}],\\\"isInWishlist\\\":false,\\\"isWishlistable\\\":true},\\\"Sku:JP9000-PPSA05685_00-UNCHARTED4R00000-J002\\\":{\\\"id\\\":\\\"JP9000-PPSA05685_00-UNCHARTED4R00000-J002\\\",\\\"__typename\\\":\\\"Sku\\\",\\\"name\\\":\\\"ゲーム本編\\\"},\\\"Sku:JP9000-PPSA05685_00-UNCHARTED4R00000-J003\\\":{\\\"id\\\":\\\"JP9000-PPSA05685_00-UNCHARTED4R00000-J003\\\",\\\"__typename\\\":\\\"Sku\\\",\\\"name\\\":\\\"ゲーム本編\\\"},\\\"GameCTA:ADD_TO_CART:ADD_TO_CART:JP9000-PPSA05685_00-UNCHARTED4R00000-J003\\\":{\\\"id\\\":\\\"ADD_TO_CART:ADD_TO_CART:JP9000-PPSA05685_00-UNCHARTED4R00000-J003\\\",\\\"__typename\\\":\\\"GameCTA\\\",\\\"local\\\":{\\\"ctaLabel\\\":\\\"msgid_add_cart\\\",\\\"ctaType\\\":\\\"purchase\\\",\\\"serviceIcons\\\":[],\\\"priceOrText\\\":\\\"¥2,156\\\",\\\"originalPrice\\\":\\\"¥5,390\\\",\\\"offerLabel\\\":\\\"60%オフ\\\",\\\"offerAvailability\\\":\\\"2024-03-20T14:59:00.000Z\\\",\\\"ctaDataTrack\\\":{\\\"eventName\\\":\\\"add to cart\\\",\\\"label\\\":\\\"add to cart\\\",\\\"elementType\\\":\\\"button\\\",\\\"sku\\\":\\\"JP9000-PPSA05685_00-UNCHARTED4R00000-J003\\\",\\\"userActionFlag\\\":false},\\\"ctaDataTrackClick\\\":\\\"ctaWithPrice:addToCart\\\",\\\"telemetryMeta\\\":{\\\"ctaSubType\\\":\\\"add_to_cart\\\",\\\"ctaType\\\":\\\"ADD_TO_CART\\\",\\\"interactCta\\\":\\\"add to cart\\\",\\\"interactAction\\\":\\\"click add to cart\\\",\\\"skuDetail\\\":{\\\"skuId\\\":\\\"JP9000-PPSA05685_00-UNCHARTED4R00000-J003\\\",\\\"skuPriceDetail\\\":[{\\\"rewardId\\\":\\\"OFFER-PROD-7636_60\\\",\\\"offerCampaignId\\\":\\\"PROMO-PROD-00007636\\\",\\\"originalPriceFormatted\\\":\\\"¥5,390\\\",\\\"originalPriceValue\\\":5390,\\\"discountPriceFormatted\\\":\\\"¥2,156\\\",\\\"discountPriceValue\\\":2156,\\\"priceCurrencyCode\\\":\\\"JPY\\\",\\\"offerBranding\\\":\\\"NONE\\\",\\\"offerQualification\\\":[],\\\"offerExclusive\\\":false,\\\"offerApplied\\\":true,\\\"offerApplicability\\\":\\\"APPLICABLE\\\",\\\"offerIsTiedToSubscription\\\":false}]}}},\\\"type\\\":\\\"ADD_TO_CART\\\",\\\"hasLinkedConsole\\\":false,\\\"action\\\":{\\\"__typename\\\":\\\"Action\\\",\\\"type\\\":\\\"ADD_TO_CART\\\",\\\"param\\\":[{\\\"__typename\\\":\\\"ActionParam\\\",\\\"name\\\":\\\"skuId\\\",\\\"value\\\":\\\"JP9000-PPSA05685_00-UNCHARTED4R00000-J003\\\"},{\\\"__typename\\\":\\\"ActionParam\\\",\\\"name\\\":\\\"rewardId\\\",\\\"value\\\":null},{\\\"__typename\\\":\\\"ActionParam\\\",\\\"name\\\":\\\"prologueEmsAlias\\\",\\\"value\\\":\\\"plus--buy_game_catalog\\\"}]},\\\"meta\\\":{\\\"__typename\\\":\\\"CTAMeta\\\",\\\"upSellService\\\":\\\"NONE\\\",\\\"exclusive\\\":false,\\\"playabilityDate\\\":null,\\\"ineligibilityReasons\\\":[{\\\"__typename\\\":\\\"IneligibilityReason\\\",\\\"type\\\":\\\"UNKNOWN\\\",\\\"names\\\":[]}]},\\\"price\\\":{\\\"__typename\\\":\\\"Price\\\",\\\"basePrice\\\":\\\"¥5,390\\\",\\\"discountedPrice\\\":\\\"¥2,156\\\",\\\"discountText\\\":\\\"-60%\\\",\\\"serviceBranding\\\":[\\\"NONE\\\"],\\\"endTime\\\":\\\"1710946740000\\\",\\\"upsellText\\\":\\\"60%オフ\\\",\\\"basePriceValue\\\":5390,\\\"discountedValue\\\":2156,\\\"currencyCode\\\":\\\"JPY\\\",\\\"qualifications\\\":[],\\\"applicability\\\":\\\"APPLICABLE\\\",\\\"campaignId\\\":\\\"PROMO-PROD-00007636\\\",\\\"rewardId\\\":\\\"OFFER-PROD-7636_60\\\",\\\"isFree\\\":false,\\\"isExclusive\\\":false,\\\"isTiedToSubscription\\\":false}},\\\"GameCTA:UPSELL_PS_PLUS_GAME_CATALOG:ADD_TO_CART:JP9000-PPSA05685_00-UNCHARTED4R00000-J003:SUB001-SUBC00002_00-HM93SKR5MGPG6TD8\\\":{\\\"id\\\":\\\"UPSELL_PS_PLUS_GAME_CATALOG:ADD_TO_CART:JP9000-PPSA05685_00-UNCHARTED4R00000-J003:SUB001-SUBC00002_00-HM93SKR5MGPG6TD8\\\",\\\"__typename\\\":\\\"GameCTA\\\",\\\"local\\\":{\\\"ctaLabel\\\":\\\"msgid_subscribe\\\",\\\"ctaType\\\":\\\"purchase\\\",\\\"ctaDataTrack\\\":{\\\"eventName\\\":\\\"subscribe\\\",\\\"label\\\":\\\"subscribe\\\",\\\"elementType\\\":\\\"button\\\",\\\"userActionFlag\\\":false,\\\"sku\\\":\\\"JP9000-PPSA05685_00-UNCHARTED4R00000-J003\\\"},\\\"ctaDataTrackClick\\\":\\\"ctaWithPrice:subscribe\\\",\\\"telemetryMeta\\\":{\\\"ctaSubType\\\":\\\"upsell_ps_plus_game_catalog\\\",\\\"ctaType\\\":\\\"UPSELL_PS_PLUS_GAME_CATALOG\\\",\\\"interactCta\\\":\\\"subscribe\\\",\\\"interactAction\\\":\\\"click subscribe\\\",\\\"skuDetail\\\":{\\\"skuId\\\":\\\"JP9000-PPSA05685_00-UNCHARTED4R00000-J003\\\",\\\"skuPriceDetail\\\":[{\\\"rewardId\\\":\\\"SUB001-SUBC00002_00-HM93SKR5MGPG6TD8\\\",\\\"offerCampaignId\\\":null,\\\"originalPriceFormatted\\\":\\\"¥5,390\\\",\\\"originalPriceValue\\\":5390,\\\"discountPriceFormatted\\\":\\\"含まれます\\\",\\\"discountPriceValue\\\":0,\\\"priceCurrencyCode\\\":\\\"JPY\\\",\\\"offerBranding\\\":\\\"PS_PLUS\\\",\\\"offerQualification\\\":[{\\\"__typename\\\":\\\"Qualification\\\",\\\"type\\\":\\\"ENTITLEMENT_IN_CART\\\",\\\"value\\\":\\\"SUB001-SUBC00002_00-HM93SKR5MGPG6TD8\\\"}],\\\"offerExclusive\\\":false,\\\"offerApplied\\\":false,\\\"offerApplicability\\\":\\\"UPSELL\\\",\\\"offerIsTiedToSubscription\\\":true}]}},\\\"priceOrText\\\":\\\"含まれます\\\",\\\"originalPrice\\\":\\\"¥5,390\\\",\\\"offerLabel\\\":\\\"このゲームや、ゲームカタログに含まれる他の多数のゲームをプレイするには、PlayStation Plusエクストラに加入してください\\\",\\\"offerAvailability\\\":null,\\\"serviceIcons\\\":[\\\"ps-plus\\\"]},\\\"type\\\":\\\"UPSELL_PS_PLUS_GAME_CATALOG\\\",\\\"hasLinkedConsole\\\":false,\\\"action\\\":{\\\"__typename\\\":\\\"Action\\\",\\\"type\\\":\\\"ADD_TO_CART\\\",\\\"param\\\":[{\\\"__typename\\\":\\\"ActionParam\\\",\\\"name\\\":\\\"skuId\\\",\\\"value\\\":\\\"JP9000-PPSA05685_00-UNCHARTED4R00000-J003\\\"},{\\\"__typename\\\":\\\"ActionParam\\\",\\\"name\\\":\\\"prologueEmsAlias\\\",\\\"value\\\":\\\"plus--gamehub_upsell_cta--game_catalog\\\"},{\\\"__typename\\\":\\\"ActionParam\\\",\\\"name\\\":\\\"rewardId\\\",\\\"value\\\":\\\"SUB001-SUBC00002_00-HM93SKR5MGPG6TD8\\\"},{\\\"__typename\\\":\\\"ActionParam\\\",\\\"name\\\":\\\"rewardId\\\",\\\"value\\\":\\\"SUB001-SUBC00002_00-HM93SKR5MGPG6TD8\\\"}]},\\\"meta\\\":{\\\"__typename\\\":\\\"CTAMeta\\\",\\\"upSellService\\\":\\\"PS_PLUS\\\",\\\"exclusive\\\":false,\\\"playabilityDate\\\":null,\\\"ineligibilityReasons\\\":[{\\\"__typename\\\":\\\"IneligibilityReason\\\",\\\"type\\\":\\\"UNKNOWN\\\",\\\"names\\\":[]}]},\\\"price\\\":{\\\"__typename\\\":\\\"Price\\\",\\\"basePrice\\\":\\\"¥5,390\\\",\\\"discountedPrice\\\":\\\"含まれます\\\",\\\"discountText\\\":\\\"含まれます\\\",\\\"serviceBranding\\\":[\\\"PS_PLUS\\\"],\\\"endTime\\\":null,\\\"upsellText\\\":\\\"このゲームや、ゲームカタログに含まれる他の多数のゲームをプレイするには、PlayStation Plusエクストラに加入してください\\\",\\\"basePriceValue\\\":5390,\\\"discountedValue\\\":0,\\\"currencyCode\\\":\\\"JPY\\\",\\\"qualifications\\\":[{\\\"__typename\\\":\\\"Qualification\\\",\\\"type\\\":\\\"ENTITLEMENT_IN_CART\\\",\\\"value\\\":\\\"SUB001-SUBC00002_00-HM93SKR5MGPG6TD8\\\"}],\\\"applicability\\\":\\\"UPSELL\\\",\\\"campaignId\\\":null,\\\"rewardId\\\":\\\"SUB001-SUBC00002_00-HM93SKR5MGPG6TD8\\\",\\\"isFree\\\":true,\\\"isExclusive\\\":false,\\\"isTiedToSubscription\\\":true}},\\\"Product:JP9000-PPSA05685_00-UNCHARTED4R00000\\\":{\\\"id\\\":\\\"JP9000-PPSA05685_00-UNCHARTED4R00000\\\",\\\"__typename\\\":\\\"Product\\\",\\\"topCategory\\\":\\\"GAME\\\",\\\"platforms\\\":[\\\"PS5\\\"],\\\"media\\\":[{\\\"__typename\\\":\\\"Media\\\",\\\"type\\\":\\\"IMAGE\\\",\\\"role\\\":\\\"FOUR_BY_THREE_BANNER\\\",\\\"url\\\":\\\"https://image.api.playstation.com/vulcan/ap/rnd/202111/2000/5SRujXtEDnn92ckPYrxCrDcf.png\\\"},{\\\"__typename\\\":\\\"Media\\\",\\\"type\\\":\\\"IMAGE\\\",\\\"role\\\":\\\"GAMEHUB_COVER_ART\\\",\\\"url\\\":\\\"https://image.api.playstation.com/vulcan/ap/rnd/202111/2000/BipBfN7ieIyRmfYKKQO0y8fp.png\\\"},{\\\"__typename\\\":\\\"Media\\\",\\\"type\\\":\\\"IMAGE\\\",\\\"role\\\":\\\"LOGO\\\",\\\"url\\\":\\\"https://image.api.playstation.com/vulcan/img/rnd/202112/0220/8BwUHCrCPOTKb3qETEzODUbN.png\\\"},{\\\"__typename\\\":\\\"Media\\\",\\\"type\\\":\\\"IMAGE\\\",\\\"role\\\":\\\"PORTRAIT_BANNER\\\",\\\"url\\\":\\\"https://image.api.playstation.com/vulcan/ap/rnd/202111/2000/YB4Y6BV9rU8axpJDuUZdDZN9.png\\\"},{\\\"__typename\\\":\\\"Media\\\",\\\"type\\\":\\\"IMAGE\\\",\\\"role\\\":\\\"SCREENSHOT\\\",\\\"url\\\":\\\"https://image.api.playstation.com/vulcan/ap/rnd/202111/2000/rJiTOlaqhVJ86Ix1uQSzsTpO.jpg\\\"},{\\\"__typename\\\":\\\"Media\\\",\\\"type\\\":\\\"IMAGE\\\",\\\"role\\\":\\\"SCREENSHOT\\\",\\\"url\\\":\\\"https://image.api.playstation.com/vulcan/ap/rnd/202111/2000/YZUN6kSpNxf2w4ctTGwl3UHw.jpg\\\"},{\\\"__typename\\\":\\\"Media\\\",\\\"type\\\":\\\"IMAGE\\\",\\\"role\\\":\\\"SCREENSHOT\\\",\\\"url\\\":\\\"https://image.api.playstation.com/vulcan/ap/rnd/202111/2000/Ta807nPySbwuYgWk5XDFEgDy.jpg\\\"},{\\\"__typename\\\":\\\"Media\\\",\\\"type\\\":\\\"IMAGE\\\",\\\"role\\\":\\\"SCREENSHOT\\\",\\\"url\\\":\\\"https://image.api.playstation.com/vulcan/ap/rnd/202111/2000/bcWMApRoSxqOthLr1GEftNya.jpg\\\"},{\\\"__typename\\\":\\\"Media\\\",\\\"type\\\":\\\"IMAGE\\\",\\\"role\\\":\\\"SCREENSHOT\\\",\\\"url\\\":\\\"https://image.api.playstation.com/vulcan/ap/rnd/202111/2000/SHYyyHBgb0ZnFZNrGutlrzJp.jpg\\\"},{\\\"__typename\\\":\\\"Media\\\",\\\"type\\\":\\\"IMAGE\\\",\\\"role\\\":\\\"SCREENSHOT\\\",\\\"url\\\":\\\"https://image.api.playstation.com/vulcan/ap/rnd/202111/2000/YzYAHfg232taFVsabGMxLJ4E.jpg\\\"},{\\\"__typename\\\":\\\"Media\\\",\\\"type\\\":\\\"IMAGE\\\",\\\"role\\\":\\\"SCREENSHOT\\\",\\\"url\\\":\\\"https://image.api.playstation.com/vulcan/ap/rnd/202111/2000/07ZQFfxJFfE1vkmOc2qPVpmU.jpg\\\"},{\\\"__typename\\\":\\\"Media\\\",\\\"type\\\":\\\"IMAGE\\\",\\\"role\\\":\\\"SCREENSHOT\\\",\\\"url\\\":\\\"https://image.api.playstation.com/vulcan/ap/rnd/202111/2000/pgtG5vIugUKhjlCP1fgMwKbB.jpg\\\"},{\\\"__typename\\\":\\\"Media\\\",\\\"type\\\":\\\"IMAGE\\\",\\\"role\\\":\\\"SCREENSHOT\\\",\\\"url\\\":\\\"https://image.api.playstation.com/vulcan/ap/rnd/202111/2000/9CvbRlePWpByLit7DJoZ2ukW.jpg\\\"},{\\\"__typename\\\":\\\"Media\\\",\\\"type\\\":\\\"IMAGE\\\",\\\"role\\\":\\\"SCREENSHOT\\\",\\\"url\\\":\\\"https://image.api.playstation.com/vulcan/ap/rnd/202111/2000/l3FiiXumavyCmX3puXjGVHV0.jpg\\\"},{\\\"__typename\\\":\\\"Media\\\",\\\"type\\\":\\\"IMAGE\\\",\\\"role\\\":\\\"MASTER\\\",\\\"url\\\":\\\"https://image.api.playstation.com/vulcan/ap/rnd/202111/2000/W7fnIRwYvGF17Qzg4duWQD4I.png\\\"}],\\\"edition\\\":{\\\"__typename\\\":\\\"ProductEdition\\\",\\\"name\\\":\\\"\\\",\\\"features\\\":[],\\\"ordering\\\":1,\\\"type\\\":\\\"STANDARD\\\"},\\\"contentRating\\\":{\\\"__typename\\\":\\\"ProductContentRating\\\",\\\"name\\\":\\\"CERO_C\\\"},\\\"localizedGenres\\\":[{\\\"__typename\\\":\\\"LocalizedGenre\\\",\\\"value\\\":\\\"アクション\\\"},{\\\"__typename\\\":\\\"LocalizedGenre\\\",\\\"value\\\":\\\"アドベンチャー\\\"}],\\\"invariantName\\\":\\\"UNCHARTED: Legacy of Thieves Collection\\\",\\\"name\\\":\\\"アンチャーテッド トレジャーハンターコレクション\\\",\\\"npTitleId\\\":\\\"PPSA05685_00\\\",\\\"concept\\\":{\\\"__ref\\\":\\\"Concept:205354\\\"},\\\"skus\\\":[{\\\"__ref\\\":\\\"Sku:JP9000-PPSA05685_00-UNCHARTED4R00000-J002\\\"},{\\\"__ref\\\":\\\"Sku:JP9000-PPSA05685_00-UNCHARTED4R00000-J003\\\"}],\\\"isAgeRestricted\\\":false,\\\"activeCtaId\\\":\\\"ADD_TO_CART:ADD_TO_CART:JP9000-PPSA05685_00-UNCHARTED4R00000-J003\\\",\\\"webctas\\\":[{\\\"__ref\\\":\\\"GameCTA:ADD_TO_CART:ADD_TO_CART:JP9000-PPSA05685_00-UNCHARTED4R00000-J003\\\"},{\\\"__ref\\\":\\\"GameCTA:UPSELL_PS_PLUS_GAME_CATALOG:ADD_TO_CART:JP9000-PPSA05685_00-UNCHARTED4R00000-J003:SUB001-SUBC00002_00-HM93SKR5MGPG6TD8\\\"}],\\\"isInWishlist\\\":false,\\\"isWishlistable\\\":true},\\\"Sku:JP9000-CUSA08347_00-UNCHD4LOSTLEGACY-J007\\\":{\\\"id\\\":\\\"JP9000-CUSA08347_00-UNCHD4LOSTLEGACY-J007\\\",\\\"__typename\\\":\\\"Sku\\\",\\\"name\\\":\\\"ゲーム本編\\\"},\\\"GameCTA:UPSELL_PS_PLUS_GAME_CATALOG:ADD_TO_CART:JP9000-CUSA08347_00-UNCHD4LOSTLEGACY-J007:SUB001-SUBC00002_00-7MMVCT3Q0SK0S2UN\\\":{\\\"id\\\":\\\"UPSELL_PS_PLUS_GAME_CATALOG:ADD_TO_CART:JP9000-CUSA08347_00-UNCHD4LOSTLEGACY-J007:SUB001-SUBC00002_00-7MMVCT3Q0SK0S2UN\\\",\\\"__typename\\\":\\\"GameCTA\\\",\\\"local\\\":{\\\"ctaLabel\\\":\\\"msgid_subscribe\\\",\\\"ctaType\\\":\\\"purchase\\\",\\\"ctaDataTrack\\\":{\\\"eventName\\\":\\\"subscribe\\\",\\\"label\\\":\\\"subscribe\\\",\\\"elementType\\\":\\\"button\\\",\\\"userActionFlag\\\":false,\\\"sku\\\":\\\"JP9000-CUSA08347_00-UNCHD4LOSTLEGACY-J007\\\"},\\\"ctaDataTrackClick\\\":\\\"ctaWithPrice:subscribe\\\",\\\"telemetryMeta\\\":{\\\"ctaSubType\\\":\\\"upsell_ps_plus_game_catalog\\\",\\\"ctaType\\\":\\\"UPSELL_PS_PLUS_GAME_CATALOG\\\",\\\"interactCta\\\":\\\"subscribe\\\",\\\"interactAction\\\":\\\"click subscribe\\\",\\\"skuDetail\\\":{\\\"skuId\\\":\\\"JP9000-CUSA08347_00-UNCHD4LOSTLEGACY-J007\\\",\\\"skuPriceDetail\\\":[{\\\"rewardId\\\":\\\"SUB001-SUBC00002_00-7MMVCT3Q0SK0S2UN\\\",\\\"offerCampaignId\\\":null,\\\"originalPriceFormatted\\\":\\\"¥2,189\\\",\\\"originalPriceValue\\\":2189,\\\"discountPriceFormatted\\\":\\\"含まれます\\\",\\\"discountPriceValue\\\":0,\\\"priceCurrencyCode\\\":\\\"JPY\\\",\\\"offerBranding\\\":\\\"PS_PLUS\\\",\\\"offerQualification\\\":[{\\\"__typename\\\":\\\"Qualification\\\",\\\"type\\\":\\\"ENTITLEMENT_IN_CART\\\",\\\"value\\\":\\\"SUB001-SUBC00002_00-7MMVCT3Q0SK0S2UN\\\"}],\\\"offerExclusive\\\":true,\\\"offerApplied\\\":false,\\\"offerApplicability\\\":\\\"UPSELL\\\",\\\"offerIsTiedToSubscription\\\":true}]}},\\\"priceOrText\\\":\\\"含まれます\\\",\\\"originalPrice\\\":\\\"\\\",\\\"offerLabel\\\":\\\"このゲームや、ゲームカタログに含まれる他の多数のゲームをプレイするには、PlayStation Plusエクストラに加入してください\\\",\\\"offerAvailability\\\":null,\\\"serviceIcons\\\":[\\\"ps-plus\\\"]},\\\"type\\\":\\\"UPSELL_PS_PLUS_GAME_CATALOG\\\",\\\"hasLinkedConsole\\\":false,\\\"action\\\":{\\\"__typename\\\":\\\"Action\\\",\\\"type\\\":\\\"ADD_TO_CART\\\",\\\"param\\\":[{\\\"__typename\\\":\\\"ActionParam\\\",\\\"name\\\":\\\"skuId\\\",\\\"value\\\":\\\"JP9000-CUSA08347_00-UNCHD4LOSTLEGACY-J007\\\"},{\\\"__typename\\\":\\\"ActionParam\\\",\\\"name\\\":\\\"prologueEmsAlias\\\",\\\"value\\\":\\\"plus--gamehub_upsell_cta--game_catalog\\\"},{\\\"__typename\\\":\\\"ActionParam\\\",\\\"name\\\":\\\"rewardId\\\",\\\"value\\\":\\\"SUB001-SUBC00002_00-7MMVCT3Q0SK0S2UN\\\"},{\\\"__typename\\\":\\\"ActionParam\\\",\\\"name\\\":\\\"rewardId\\\",\\\"value\\\":\\\"SUB001-SUBC00002_00-7MMVCT3Q0SK0S2UN\\\"}]},\\\"meta\\\":{\\\"__typename\\\":\\\"CTAMeta\\\",\\\"upSellService\\\":\\\"PS_PLUS\\\",\\\"exclusive\\\":true,\\\"playabilityDate\\\":null,\\\"ineligibilityReasons\\\":[{\\\"__typename\\\":\\\"IneligibilityReason\\\",\\\"type\\\":\\\"UNKNOWN\\\",\\\"names\\\":[]}]},\\\"price\\\":{\\\"__typename\\\":\\\"Price\\\",\\\"basePrice\\\":\\\"¥2,189\\\",\\\"discountedPrice\\\":\\\"含まれます\\\",\\\"discountText\\\":\\\"含まれます\\\",\\\"serviceBranding\\\":[\\\"PS_PLUS\\\"],\\\"endTime\\\":null,\\\"upsellText\\\":\\\"このゲームや、ゲームカタログに含まれる他の多数のゲームをプレイするには、PlayStation Plusエクストラに加入してください\\\",\\\"basePriceValue\\\":2189,\\\"discountedValue\\\":0,\\\"currencyCode\\\":\\\"JPY\\\",\\\"qualifications\\\":[{\\\"__typename\\\":\\\"Qualification\\\",\\\"type\\\":\\\"ENTITLEMENT_IN_CART\\\",\\\"value\\\":\\\"SUB001-SUBC00002_00-7MMVCT3Q0SK0S2UN\\\"}],\\\"applicability\\\":\\\"UPSELL\\\",\\\"campaignId\\\":null,\\\"rewardId\\\":\\\"SUB001-SUBC00002_00-7MMVCT3Q0SK0S2UN\\\",\\\"isFree\\\":true,\\\"isExclusive\\\":true,\\\"isTiedToSubscription\\\":true}},\\\"Product:JP9000-CUSA08347_00-UNCHD4LOSTLEGACY\\\":{\\\"id\\\":\\\"JP9000-CUSA08347_00-UNCHD4LOSTLEGACY\\\",\\\"__typename\\\":\\\"Product\\\",\\\"topCategory\\\":\\\"GAME\\\",\\\"platforms\\\":[\\\"PS4\\\"],\\\"media\\\":[{\\\"__typename\\\":\\\"Media\\\",\\\"type\\\":\\\"IMAGE\\\",\\\"url\\\":\\\"https://image.api.playstation.com/vulcan/img/rnd/202010/3018/alPxELea3vduD4lTqKbSIke3.png\\\",\\\"role\\\":\\\"BACKGROUND\\\"},{\\\"__typename\\\":\\\"Media\\\",\\\"type\\\":\\\"IMAGE\\\",\\\"url\\\":\\\"https://image.api.playstation.com/vulcan/img/rnd/202010/3018/uRb9Br7Gc7IbFOGAxxFQSdwA.jpg\\\",\\\"role\\\":\\\"EDITION_KEY_ART\\\"},{\\\"__typename\\\":\\\"Media\\\",\\\"type\\\":\\\"IMAGE\\\",\\\"url\\\":\\\"https://image.api.playstation.com/vulcan/img/rnd/202010/3018/HOiq7XFNsNTpLzkR6OAu5gdl.png\\\",\\\"role\\\":\\\"FOUR_BY_THREE_BANNER\\\"},{\\\"__typename\\\":\\\"Media\\\",\\\"type\\\":\\\"IMAGE\\\",\\\"url\\\":\\\"https://image.api.playstation.com/vulcan/img/rnd/202010/3018/bBNL34StJ0lslChoWOmmO28d.png\\\",\\\"role\\\":\\\"GAMEHUB_COVER_ART\\\"},{\\\"__typename\\\":\\\"Media\\\",\\\"type\\\":\\\"IMAGE\\\",\\\"url\\\":\\\"https://image.api.playstation.com/vulcan/img/rnd/202010/2813/7RHH0uXL1pFLH25sUArnk62q.png\\\",\\\"role\\\":\\\"LOGO\\\"},{\\\"__typename\\\":\\\"Media\\\",\\\"type\\\":\\\"IMAGE\\\",\\\"url\\\":\\\"https://image.api.playstation.com/vulcan/img/rnd/202010/3018/oQs0QI5MMEsGwilDqewYItVq.png\\\",\\\"role\\\":\\\"PORTRAIT_BANNER\\\"},{\\\"__typename\\\":\\\"Media\\\",\\\"type\\\":\\\"IMAGE\\\",\\\"url\\\":\\\"https://image.api.playstation.com/cdn/JP9000/CUSA08347_00/FREE_CONTENTQqqZcNuMDQleYGOnuUFQ/1.jpg\\\",\\\"role\\\":\\\"SCREENSHOT\\\"},{\\\"__typename\\\":\\\"Media\\\",\\\"type\\\":\\\"IMAGE\\\",\\\"url\\\":\\\"https://image.api.playstation.com/cdn/JP9000/CUSA08347_00/FREE_CONTENTOVGLyeV5SF1eFahuh44g/2.jpg\\\",\\\"role\\\":\\\"SCREENSHOT\\\"},{\\\"__typename\\\":\\\"Media\\\",\\\"type\\\":\\\"IMAGE\\\",\\\"url\\\":\\\"https://image.api.playstation.com/cdn/JP9000/CUSA08347_00/FREE_CONTENTYU8OzKRDu6tmS2ptk1Ep/3.jpg\\\",\\\"role\\\":\\\"SCREENSHOT\\\"},{\\\"__typename\\\":\\\"Media\\\",\\\"type\\\":\\\"IMAGE\\\",\\\"url\\\":\\\"https://image.api.playstation.com/vulcan/img/rnd/202010/2813/A2z3fPbW6Ek0XnHuCp2jshOE.png\\\",\\\"role\\\":\\\"MASTER\\\"}],\\\"edition\\\":{\\\"__typename\\\":\\\"ProductEdition\\\",\\\"name\\\":\\\"\\\",\\\"features\\\":[],\\\"ordering\\\":null,\\\"type\\\":\\\"STANDARD\\\"},\\\"contentRating\\\":{\\\"__typename\\\":\\\"ProductContentRating\\\",\\\"name\\\":\\\"CERO_C\\\"},\\\"localizedGenres\\\":[{\\\"__typename\\\":\\\"LocalizedGenre\\\",\\\"value\\\":\\\"アクション\\\"},{\\\"__typename\\\":\\\"LocalizedGenre\\\",\\\"value\\\":\\\"アドベンチャー\\\"}],\\\"invariantName\\\":null,\\\"name\\\":\\\"アンチャーテッド 古代神の秘宝 PlayStation®Hits\\\",\\\"npTitleId\\\":\\\"CUSA08347_00\\\",\\\"concept\\\":{\\\"__ref\\\":\\\"Concept:205354\\\"},\\\"skus\\\":[{\\\"__ref\\\":\\\"Sku:JP9000-CUSA08347_00-UNCHD4LOSTLEGACY-J007\\\"}],\\\"isAgeRestricted\\\":false,\\\"activeCtaId\\\":\\\"UPSELL_PS_PLUS_GAME_CATALOG:ADD_TO_CART:JP9000-CUSA08347_00-UNCHD4LOSTLEGACY-J007:SUB001-SUBC00002_00-7MMVCT3Q0SK0S2UN\\\",\\\"webctas\\\":[{\\\"__ref\\\":\\\"GameCTA:UPSELL_PS_PLUS_GAME_CATALOG:ADD_TO_CART:JP9000-CUSA08347_00-UNCHD4LOSTLEGACY-J007:SUB001-SUBC00002_00-7MMVCT3Q0SK0S2UN\\\"}],\\\"isInWishlist\\\":false,\\\"isWishlistable\\\":true},\\\"ROOT_QUERY\\\":{\\\"__typename\\\":\\\"Query\\\",\\\"conceptRetrieve({\\\\\\\"conceptId\\\\\\\":\\\\\\\"205354\\\\\\\"})\\\":{\\\"__ref\\\":\\\"Concept:205354\\\"}}},\\\"translations\\\":{\\\"msgid_editions\\\":\\\"エディション\\\",\\\"msgid_date_separator\\\":\\\"/\\\",\\\"msgid_offer_ends_date\\\":\\\"%date%まで\\\",\\\"msgid_add_cart\\\":\\\"カートに追加\\\",\\\"msgid_add_wishlist\\\":\\\"欲しいリストに追加\\\"}}\\u003c/script\\u003e\\u003cdiv data-mfe-name=\\\"upsell\\\" class=\\\"psw-root psw-dark-theme\\\" data-initial=\\\"env:bef278d0-df30-11ee-8edf-e90e3592ba9b\\\"\\u003e\\u003cdiv data-qa=\\\"mfeUpsell\\\" class=\\\"psw-c-bg-0\\\" data-reactroot\\u003e\\u003ch2 data-qa=\\\"mfeUpsell#heading\\\" class=\\\"psw-l-section psw-t-title-l psw-t-align-c psw-m-b-9\\\"\\u003eエディション\\u003c/h2\\u003e\\u003cdiv class=\\\"psw-l-grid\\\"\\u003e\\u003carticle data-qa=\\\"mfeUpsell#productEdition0\\\" class=\\\"psw-l-w-1/1 psw-l-w-1/2@tablet-s psw-l-w-1/2@tablet-l psw-l-w-1/3@laptop psw-l-w-1/3@desktop psw-l-w-1/3@max psw-l-anchor psw-l-stack-left psw-c-bg-card-1\\\"\\u003e\\u003cdiv class=\\\"psw-l-line-left psw-l-anchor-top-left psw-l-top-left psw-fill-x\\\"\\u003e\\u003cspan data-qa=\\\"mfeUpsell#productEdition0#media\\\" style=\\\"width:100%;min-width:100%\\\" class=\\\"psw-media-frame psw-fill-x psw-image psw-media psw-c-bg-3 psw-aspect-16-9\\\"\\u003e\\u003cimg aria-hidden=\\\"true\\\" loading=\\\"lazy\\\" data-qa=\\\"mfeUpsell#productEdition0#media#preview\\\" alt=\\\"アンチャーテッド トレジャーハンターコレクション\\\" class=\\\"psw-blur psw-center psw-l-fit-contain\\\" src=\\\"https://image.api.playstation.com/vulcan/ap/rnd/202111/2000/W7fnIRwYvGF17Qzg4duWQD4I.png?w=54\\u0026amp;thumb=true\\\" /\\u003e\\u003cnoscript class=\\\"psw-layer\\\"\\u003e\\u003cimg class=\\\"psw-center psw-l-fit-contain\\\" loading=\\\"lazy\\\" data-qa=\\\"mfeUpsell#productEdition0#media#image-no-js\\\" alt=\\\"アンチャーテッド トレジャーハンターコレクション\\\" src=\\\"https://image.api.playstation.com/vulcan/ap/rnd/202111/2000/W7fnIRwYvGF17Qzg4duWQD4I.png\\\" /\\u003e\\u003c/noscript\\u003e\\u003c/span\\u003e\\u003c/div\\u003e\\u003cdiv class=\\\"psw-l-anchor psw-fill psw-l-stack-repel\\\"\\u003e\\u003cdiv class=\\\"psw-l-stack-center\\\"\\u003e\\u003cspan data-qa class=\\\"psw-media-frame psw-fill-x psw-aspect-16-9\\\"\\u003e\\u003c/span\\u003e\\u003ch3 data-qa=\\\"mfeUpsell#productEdition0#editionName\\\" class=\\\"psw-t-title-s psw-t-align-c psw-fill-x psw-p-t-6 psw-p-x-7\\\" style=\\\"margin-bottom:-1px\\\"\\u003eアンチャーテッド トレジャーハンターコレクション\\u003c/h3\\u003e\\u003cdiv class=\\\"psw-l-space-x-2 psw-l-line-center psw-p-t-5\\\"\\u003e\\u003cspan data-qa=\\\"mfeUpsell#productEdition0#productTag0\\\" class=\\\"psw-p-x-2 psw-p-y-1 psw-t-tag\\\"\\u003ePS5\\u003c/span\\u003e\\u003c/div\\u003e\\u003cdiv class=\\\"psw-fill-x psw-p-t-5 psw-p-x-7\\\"\\u003e\\u003cul data-qa=\\\"mfeUpsell#productEdition0#features\\\" class=\\\"psw-t-list psw-l-columns psw-l-compact psw-m-sub-b-1\\\"\\u003e\\u003c/ul\\u003e\\u003c/div\\u003e\\u003c/div\\u003e\\u003cdiv class=\\\"psw-p-t-5 psw-p-b-7 psw-p-x-7\\\"\\u003e\\u003cdiv data-qa=\\\"mfeUpsell#productEdition0#ctaWithPrice\\\" aria-hidden=\\\"true\\\" class=\\\"psw-c-bg-0 psw-l-anchor psw-l-stack-left\\\"\\u003e\\u003cdiv class=\\\"psw-fade-out psw-fill-x\\\" style=\\\"visibility:hidden\\\"\\u003e\\u003clabel data-qa=\\\"mfeUpsell#productEdition0#ctaWithPrice#offer0\\\" class=\\\"psw-label psw-l-inline psw-l-line-left psw-interactive psw-c-bg-0 psw-l-anchor psw-fill-x\\\"\\u003e\\u003cdiv class=\\\"psw-l-anchor psw-l-stack-left psw-fill-x\\\"\\u003e\\u003cspan class=\\\"psw-fill-x psw-l-line-left psw-m-b-2\\\"\\u003e\\u003cspan class=\\\"psw-l-line-left psw-l-line-wrap\\\"\\u003e\\u003cspan data-qa=\\\"mfeUpsell#productEdition0#ctaWithPrice#offer0#finalPrice\\\" class=\\\"psw-t-title-m psw-m-r-4\\\"\\u003e¥2,156\\u003c/span\\u003e\\u003cspan data-qa=\\\"mfeUpsell#productEdition0#ctaWithPrice#offer0#originalPrice\\\" class=\\\"psw-t-title-s psw-c-t-2 psw-t-strike\\\"\\u003e\\u003cspan class=\\\"psw-truncate-text-1 psw-p-y-1 psw-l-exclude@below-desktop\\\"\\u003e\\u003c/span\\u003e\\u003cspan class=\\\"psw-truncate-text-1 psw-p-t-1 psw-l-exclude@desktop\\\"\\u003e\\u003c/span\\u003e¥5,390\\u003c/span\\u003e\\u003c/span\\u003e\\u003c/span\\u003e\\u003cspan class=\\\"psw-t-overline psw-t-bold psw-l-line-left psw-fill-x\\\"\\u003e\\u003cspan class=\\\"psw-l-line-left psw-l-line-wrap\\\"\\u003e\\u003cspan class=\\\"psw-l-line-left\\\"\\u003e\\u003cspan class=\\\"psw-l-inline psw-m-r-2\\\"\\u003e\\u003c/span\\u003e\\u003cspan data-qa=\\\"mfeUpsell#productEdition0#ctaWithPrice#offer0#discountInfo\\\" class=\\\"psw-m-r-3\\\"\\u003e60%オフ\\u003c/span\\u003e\\u003c/span\\u003e\\u003cspan data-qa=\\\"mfeUpsell#productEdition0#ctaWithPrice#offer0#discountDescriptor\\\" class=\\\"psw-c-t-2\\\"\\u003e2024/3/20 02:59 PM UTCまで\\u003c/span\\u003e\\u003c/span\\u003e\\u003c/span\\u003e\\u003c/div\\u003e\\u003c/label\\u003e\\u003cdiv class=\\\"psw-m-t-6 psw-fill-x\\\" data-qa=\\\"mfeUpsell#productEdition0#ctaWithPrice#cta\\\"\\u003e\\u003cdiv class=\\\"psw-fill-x\\\" data-flip-key=\\\"cta-action-0\\\"\\u003e\\u003cdiv style=\\\"perspective:2000px;transition:height 400ms ease, opacity 400ms ease\\\" class=\\\"psw-l-anchor\\\" aria-hidden=\\\"false\\\" data-qa=\\\"inline-toast\\\"\\u003e\\u003cdiv style=\\\"transform:translateZ(-NaNpx);transform-style:preserve-3d\\\"\\u003e\\u003cdiv style=\\\"transition:transform 300ms ease-in;transform-style:preserve-3d;transform:rotateX(0deg)\\\"\\u003e\\u003cdiv aria-hidden=\\\"true\\\" data-qa=\\\"inline-toast#cta-spacer\\\" class=\\\"psw-l-line-left psw-hidden\\\"\\u003e\\u003cbutton data-qa=\\\"inline-toast#hiddenCta\\\" data-track=\\\"{\\u0026quot;eventInfo\\u0026quot;:{\\u0026quot;eventAction\\u0026quot;:\\u0026quot;click\\u0026quot;,\\u0026quot;eventName\\u0026quot;:\\u0026quot;add to cart\\u0026quot;},\\u0026quot;attributes\\u0026quot;:{\\u0026quot;moduleName\\u0026quot;:\\u0026quot;version selector\\u0026quot;,\\u0026quot;assetName\\u0026quot;:\\u0026quot;\\u0026quot;,\\u0026quot;label\\u0026quot;:\\u0026quot;add to cart\\u0026quot;,\\u0026quot;position\\u0026quot;:\\u0026quot;1\\u0026quot;,\\u0026quot;linkUrl\\u0026quot;:\\u0026quot;\\u0026quot;,\\u0026quot;elementType\\u0026quot;:\\u0026quot;button\\u0026quot;,\\u0026quot;userActionFlag\\u0026quot;:false,\\u0026quot;sku\\u0026quot;:\\u0026quot;JP9000-PPSA05685_00-UNCHARTED4R00000-J003\\u0026quot;}}\\\" data-track-click=\\\"ctaWithPrice:addToCart\\\" data-telemetry-meta=\\\"{\\u0026quot;conceptId\\u0026quot;:\\u0026quot;205354\\u0026quot;,\\u0026quot;ctaIndex\\u0026quot;:0,\\u0026quot;ctaSubType\\u0026quot;:\\u0026quot;add_to_cart\\u0026quot;,\\u0026quot;ctaType\\u0026quot;:\\u0026quot;ADD_TO_CART\\u0026quot;,\\u0026quot;interactAction\\u0026quot;:\\u0026quot;click add to cart\\u0026quot;,\\u0026quot;interactCta\\u0026quot;:\\u0026quot;add to cart\\u0026quot;,\\u0026quot;productId\\u0026quot;:\\u0026quot;JP9000-PPSA05685_00-UNCHARTED4R00000\\u0026quot;,\\u0026quot;productDetail\\u0026quot;:[{\\u0026quot;productId\\u0026quot;:\\u0026quot;JP9000-PPSA05685_00-UNCHARTED4R00000\\u0026quot;,\\u0026quot;productName\\u0026quot;:\\u0026quot;アンチャーテッド トレジャーハンターコレクション\\u0026quot;,\\u0026quot;productToSkuIds\\u0026quot;:[\\u0026quot;JP9000-PPSA05685_00-UNCHARTED4R00000-J002\\u0026quot;,\\u0026quot;JP9000-PPSA05685_00-UNCHARTED4R00000-J003\\u0026quot;],\\u0026quot;productPriceDetail\\u0026quot;:[{\\u0026quot;rewardId\\u0026quot;:\\u0026quot;OFFER-PROD-7636_60\\u0026quot;,\\u0026quot;offerCampaignId\\u0026quot;:\\u0026quot;PROMO-PROD-00007636\\u0026quot;,\\u0026quot;originalPriceFormatted\\u0026quot;:\\u0026quot;¥5,390\\u0026quot;,\\u0026quot;originalPriceValue\\u0026quot;:5390,\\u0026quot;discountPriceFormatted\\u0026quot;:\\u0026quot;¥2,156\\u0026quot;,\\u0026quot;discountPriceValue\\u0026quot;:2156,\\u0026quot;priceCurrencyCode\\u0026quot;:\\u0026quot;JPY\\u0026quot;,\\u0026quot;offerBranding\\u0026quot;:\\u0026quot;NONE\\u0026quot;,\\u0026quot;offerQualification\\u0026quot;:[],\\u0026quot;offerExclusive\\u0026quot;:false,\\u0026quot;offerApplied\\u0026quot;:true,\\u0026quot;offerApplicability\\u0026quot;:\\u0026quot;APPLICABLE\\u0026quot;,\\u0026quot;offerIsTiedToSubscription\\u0026quot;:false},{\\u0026quot;rewardId\\u0026quot;:\\u0026quot;SUB001-SUBC00002_00-HM93SKR5MGPG6TD8\\u0026quot;,\\u0026quot;offerCampaignId\\u0026quot;:null,\\u0026quot;originalPriceFormatted\\u0026quot;:\\u0026quot;¥5,390\\u0026quot;,\\u0026quot;originalPriceValue\\u0026quot;:5390,\\u0026quot;discountPriceFormatted\\u0026quot;:\\u0026quot;含まれます\\u0026quot;,\\u0026quot;discountPriceValue\\u0026quot;:0,\\u0026quot;priceCurrencyCode\\u0026quot;:\\u0026quot;JPY\\u0026quot;,\\u0026quot;offerBranding\\u0026quot;:\\u0026quot;PS_PLUS\\u0026quot;,\\u0026quot;offerQualification\\u0026quot;:[{\\u0026quot;__typename\\u0026quot;:\\u0026quot;Qualification\\u0026quot;,\\u0026quot;type\\u0026quot;:\\u0026quot;ENTITLEMENT_IN_CART\\u0026quot;,\\u0026quot;value\\u0026quot;:\\u0026quot;SUB001-SUBC00002_00-HM93SKR5MGPG6TD8\\u0026quot;}],\\u0026quot;offerExclusive\\u0026quot;:false,\\u0026quot;offerApplied\\u0026quot;:false,\\u0026quot;offerApplicability\\u0026quot;:\\u0026quot;UPSELL\\u0026quot;,\\u0026quot;offerIsTiedToSubscription\\u0026quot;:true}]}],\\u0026quot;skuDetail\\u0026quot;:[{\\u0026quot;skuId\\u0026quot;:\\u0026quot;JP9000-PPSA05685_00-UNCHARTED4R00000-J003\\u0026quot;,\\u0026quot;skuPriceDetail\\u0026quot;:[{\\u0026quot;rewardId\\u0026quot;:\\u0026quot;OFFER-PROD-7636_60\\u0026quot;,\\u0026quot;offerCampaignId\\u0026quot;:\\u0026quot;PROMO-PROD-00007636\\u0026quot;,\\u0026quot;originalPriceFormatted\\u0026quot;:\\u0026quot;¥5,390\\u0026quot;,\\u0026quot;originalPriceValue\\u0026quot;:5390,\\u0026quot;discountPriceFormatted\\u0026quot;:\\u0026quot;¥2,156\\u0026quot;,\\u0026quot;discountPriceValue\\u0026quot;:2156,\\u0026quot;priceCurrencyCode\\u0026quot;:\\u0026quot;JPY\\u0026quot;,\\u0026quot;offerBranding\\u0026quot;:\\u0026quot;NONE\\u0026quot;,\\u0026quot;offerQualification\\u0026quot;:[],\\u0026quot;offerExclusive\\u0026quot;:false,\\u0026quot;offerApplied\\u0026quot;:true,\\u0026quot;offerApplicability\\u0026quot;:\\u0026quot;APPLICABLE\\u0026quot;,\\u0026quot;offerIsTiedToSubscription\\u0026quot;:false}],\\u0026quot;skuName\\u0026quot;:\\u0026quot;ゲーム本編\\u0026quot;}],\\u0026quot;titleId\\u0026quot;:\\u0026quot;PPSA05685_00\\u0026quot;}\\\" id class=\\\"psw-fill-x dtm-track psw-button psw-b-0 psw-t-button psw-l-line-center psw-button-sizing psw-button-sizing--medium psw-purchase-button psw-solid-button\\\" type=\\\"button\\\" name value\\u003e\\u003cspan class=\\\"psw-fill-x psw-t-truncate-1 psw-l-space-x-2 \\\"\\u003eカートに追加\\u003c/span\\u003e\\u003c/button\\u003e\\u003cbutton data-qa=\\\"inline-toast#hiddenCta\\\" data-track-click=\\\"ctaWithPrice:addToWishlist\\\" data-telemetry-meta=\\\"{\\u0026quot;productId\\u0026quot;:null,\\u0026quot;conceptId\\u0026quot;:null}\\\" id class=\\\"psw-m-l-4 psw-button psw-b-0 psw-t-button psw-l-line-center psw-button-sizing psw-button-sizing--medium psw-button-sizing--icon-only psw-secondary-button psw-solid-button psw-with-icon\\\" type=\\\"button\\\" name value\\u003e\\u003cspan class=\\\"psw-fill-x psw-l-line-center \\\"\\u003e\\u003cspan data-qa=\\\"inline-toast#hiddenCta#icon\\\" class=\\\"psw-icon psw-icon--unfavorite psw-icon psw-icon-size-2 psw-icon--unfavorite\\\"\\u003e\\u003cdiv class=\\\"psw-hide\\\" data-original-icon-id=\\\"ps-icon:unfavorite\\\"\\u003e\\u003csvg xmlns=\\\"http://www.w3.org/2000/svg\\\"\\u003e\\u003csymbol id=\\\"ps-icon:unfavorite:454\\\" viewbox=\\\"0 0 64 64\\\"\\u003e\\u003cpath fill-rule=\\\"nonzero\\\" stroke=\\\"none\\\" stroke-width=\\\"1\\\" d=\\\"M40.045 12.5c3.052 0 5.9 1.388 7.98 3.785 2.045 2.35 3.205 5.503 3.205 8.859 0 3.222-1.073 6.266-2.97 8.583l-.232.274-16.663 19.161L14.71 34.003c-2.046-2.344-3.208-5.501-3.211-8.859 0-3.35 1.164-6.503 3.21-8.86 2.086-2.398 4.931-3.787 7.975-3.784 3.054 0 5.903 1.387 7.98 3.78.186.213.365.435.537.667l.163.229.164-.231c.086-.116.173-.229.262-.34l.272-.324c2.084-2.398 4.93-3.784 7.982-3.781zm5.715 5.753c-1.529-1.762-3.562-2.753-5.717-2.753-2.153-.002-4.185.987-5.718 2.751-.535.613-1.005 1.362-1.41 2.236l-.17.383-1.385 3.26-1.377-3.264c-.435-1.032-.962-1.909-1.58-2.615-1.528-1.76-3.562-2.751-5.72-2.751-2.144-.002-4.176.99-5.709 2.751-1.568 1.808-2.474 4.262-2.474 6.892.002 2.519.826 4.871 2.264 6.641l.21.249L31.365 48.59l14.398-16.557c1.492-1.716 2.383-4.033 2.46-6.531l.006-.358c0-2.518-.822-4.867-2.26-6.642l-.21-.25z\\\"\\u003e\\u003c/path\\u003e\\u003c/symbol\\u003e\\u003c/svg\\u003e\\u003c/div\\u003e\\u003csvg role=\\\"img\\\"\\u003e\\u003ctitle\\u003e欲しいリストに追加\\u003c/title\\u003e\\u003cuse href=\\\"#ps-icon:unfavorite:454\\\"\\u003e\\u003c/use\\u003e\\u003c/svg\\u003e\\u003c/span\\u003e\\u003c/span\\u003e\\u003c/button\\u003e\\u003c/div\\u003e\\u003cdiv data-qa=\\\"inline-toast#slot2\\\" aria-hidden=\\\"true\\\" style=\\\"transition:opacity 300ms ease-in;opacity:0;transform:rotateX(90deg) translateZ(NaNpx)\\\" class=\\\"psw-fill-x psw-top-left psw-l-line-center\\\"\\u003e\\u003c/div\\u003e\\u003cdiv data-qa=\\\"inline-toast#slot1\\\" aria-hidden=\\\"false\\\" style=\\\"transition:opacity 300ms ease-in;opacity:1;transform:rotateX(0deg) translateZ(NaNpx)\\\" class=\\\"psw-fill-x psw-top-left psw-l-line-center\\\"\\u003e\\u003cbutton data-qa=\\\"mfeUpsell#productEdition0#ctaWithPrice#cta#action\\\" data-track=\\\"{\\u0026quot;eventInfo\\u0026quot;:{\\u0026quot;eventAction\\u0026quot;:\\u0026quot;click\\u0026quot;,\\u0026quot;eventName\\u0026quot;:\\u0026quot;add to cart\\u0026quot;},\\u0026quot;attributes\\u0026quot;:{\\u0026quot;moduleName\\u0026quot;:\\u0026quot;version selector\\u0026quot;,\\u0026quot;assetName\\u0026quot;:\\u0026quot;\\u0026quot;,\\u0026quot;label\\u0026quot;:\\u0026quot;add to cart\\u0026quot;,\\u0026quot;position\\u0026quot;:\\u0026quot;1\\u0026quot;,\\u0026quot;linkUrl\\u0026quot;:\\u0026quot;\\u0026quot;,\\u0026quot;elementType\\u0026quot;:\\u0026quot;button\\u0026quot;,\\u0026quot;userActionFlag\\u0026quot;:false,\\u0026quot;sku\\u0026quot;:\\u0026quot;JP9000-PPSA05685_00-UNCHARTED4R00000-J003\\u0026quot;}}\\\" data-track-click=\\\"ctaWithPrice:addToCart\\\" data-telemetry-meta=\\\"{\\u0026quot;conceptId\\u0026quot;:\\u0026quot;205354\\u0026quot;,\\u0026quot;ctaIndex\\u0026quot;:0,\\u0026quot;ctaSubType\\u0026quot;:\\u0026quot;add_to_cart\\u0026quot;,\\u0026quot;ctaType\\u0026quot;:\\u0026quot;ADD_TO_CART\\u0026quot;,\\u0026quot;interactAction\\u0026quot;:\\u0026quot;click add to cart\\u0026quot;,\\u0026quot;interactCta\\u0026quot;:\\u0026quot;add to cart\\u0026quot;,\\u0026quot;productId\\u0026quot;:\\u0026quot;JP9000-PPSA05685_00-UNCHARTED4R00000\\u0026quot;,\\u0026quot;productDetail\\u0026quot;:[{\\u0026quot;productId\\u0026quot;:\\u0026quot;JP9000-PPSA05685_00-UNCHARTED4R00000\\u0026quot;,\\u0026quot;productName\\u0026quot;:\\u0026quot;アンチャーテッド トレジャーハンターコレクション\\u0026quot;,\\u0026quot;productToSkuIds\\u0026quot;:[\\u0026quot;JP9000-PPSA05685_00-UNCHARTED4R00000-J002\\u0026quot;,\\u0026quot;JP9000-PPSA05685_00-UNCHARTED4R00000-J003\\u0026quot;],\\u0026quot;productPriceDetail\\u0026quot;:[{\\u0026quot;rewardId\\u0026quot;:\\u0026quot;OFFER-PROD-7636_60\\u0026quot;,\\u0026quot;offerCampaignId\\u0026quot;:\\u0026quot;PROMO-PROD-00007636\\u0026quot;,\\u0026quot;originalPriceFormatted\\u0026quot;:\\u0026quot;¥5,390\\u0026quot;,\\u0026quot;originalPriceValue\\u0026quot;:5390,\\u0026quot;discountPriceFormatted\\u0026quot;:\\u0026quot;¥2,156\\u0026quot;,\\u0026quot;discountPriceValue\\u0026quot;:2156,\\u0026quot;priceCurrencyCode\\u0026quot;:\\u0026quot;JPY\\u0026quot;,\\u0026quot;offerBranding\\u0026quot;:\\u0026quot;NONE\\u0026quot;,\\u0026quot;offerQualification\\u0026quot;:[],\\u0026quot;offerExclusive\\u0026quot;:false,\\u0026quot;offerApplied\\u0026quot;:true,\\u0026quot;offerApplicability\\u0026quot;:\\u0026quot;APPLICABLE\\u0026quot;,\\u0026quot;offerIsTiedToSubscription\\u0026quot;:false},{\\u0026quot;rewardId\\u0026quot;:\\u0026quot;SUB001-SUBC00002_00-HM93SKR5MGPG6TD8\\u0026quot;,\\u0026quot;offerCampaignId\\u0026quot;:null,\\u0026quot;originalPriceFormatted\\u0026quot;:\\u0026quot;¥5,390\\u0026quot;,\\u0026quot;originalPriceValue\\u0026quot;:5390,\\u0026quot;discountPriceFormatted\\u0026quot;:\\u0026quot;含まれます\\u0026quot;,\\u0026quot;discountPriceValue\\u0026quot;:0,\\u0026quot;priceCurrencyCode\\u0026quot;:\\u0026quot;JPY\\u0026quot;,\\u0026quot;offerBranding\\u0026quot;:\\u0026quot;PS_PLUS\\u0026quot;,\\u0026quot;offerQualification\\u0026quot;:[{\\u0026quot;__typename\\u0026quot;:\\u0026quot;Qualification\\u0026quot;,\\u0026quot;type\\u0026quot;:\\u0026quot;ENTITLEMENT_IN_CART\\u0026quot;,\\u0026quot;value\\u0026quot;:\\u0026quot;SUB001-SUBC00002_00-HM93SKR5MGPG6TD8\\u0026quot;}],\\u0026quot;offerExclusive\\u0026quot;:false,\\u0026quot;offerApplied\\u0026quot;:false,\\u0026quot;offerApplicability\\u0026quot;:\\u0026quot;UPSELL\\u0026quot;,\\u0026quot;offerIsTiedToSubscription\\u0026quot;:true}]}],\\u0026quot;skuDetail\\u0026quot;:[{\\u0026quot;skuId\\u0026quot;:\\u0026quot;JP9000-PPSA05685_00-UNCHARTED4R00000-J003\\u0026quot;,\\u0026quot;skuPriceDetail\\u0026quot;:[{\\u0026quot;rewardId\\u0026quot;:\\u0026quot;OFFER-PROD-7636_60\\u0026quot;,\\u0026quot;offerCampaignId\\u0026quot;:\\u0026quot;PROMO-PROD-00007636\\u0026quot;,\\u0026quot;originalPriceFormatted\\u0026quot;:\\u0026quot;¥5,390\\u0026quot;,\\u0026quot;originalPriceValue\\u0026quot;:5390,\\u0026quot;discountPriceFormatted\\u0026quot;:\\u0026quot;¥2,156\\u0026quot;,\\u0026quot;discountPriceValue\\u0026quot;:2156,\\u0026quot;priceCurrencyCode\\u0026quot;:\\u0026quot;JPY\\u0026quot;,\\u0026quot;offerBranding\\u0026quot;:\\u0026quot;NONE\\u0026quot;,\\u0026quot;offerQualification\\u0026quot;:[],\\u0026quot;offerExclusive\\u0026quot;:false,\\u0026quot;offerApplied\\u0026quot;:true,\\u0026quot;offerApplicability\\u0026quot;:\\u0026quot;APPLICABLE\\u0026quot;,\\u0026quot;offerIsTiedToSubscription\\u0026quot;:false}],\\u0026quot;skuName\\u0026quot;:\\u0026quot;ゲーム本編\\u0026quot;}],\\u0026quot;titleId\\u0026quot;:\\u0026quot;PPSA05685_00\\u0026quot;}\\\" id class=\\\"psw-fill-x dtm-track psw-button psw-b-0 psw-t-button psw-l-line-center psw-button-sizing psw-button-sizing--medium psw-purchase-button psw-solid-button\\\" type=\\\"button\\\" name value\\u003e\\u003cspan class=\\\"psw-fill-x psw-t-truncate-1 psw-l-space-x-2 \\\"\\u003eカートに追加\\u003c/span\\u003e\\u003c/button\\u003e\\u003cbutton data-qa=\\\"wishlistToggle\\\" data-track-click=\\\"ctaWithPrice:addToWishlist\\\" data-telemetry-meta=\\\"{\\u0026quot;productId\\u0026quot;:null,\\u0026quot;conceptId\\u0026quot;:null}\\\" id class=\\\"psw-m-l-4 psw-button psw-b-0 psw-t-button psw-l-line-center psw-button-sizing psw-button-sizing--medium psw-button-sizing--icon-only psw-secondary-button psw-solid-button psw-with-icon\\\" type=\\\"button\\\" name value\\u003e\\u003cspan class=\\\"psw-fill-x psw-l-line-center \\\"\\u003e\\u003cspan data-qa=\\\"wishlistToggle#icon\\\" class=\\\"psw-icon psw-icon--unfavorite psw-icon psw-icon-size-2 psw-icon--unfavorite\\\"\\u003e\\u003cdiv class=\\\"psw-hide\\\" data-original-icon-id=\\\"ps-icon:unfavorite\\\"\\u003e\\u003csvg xmlns=\\\"http://www.w3.org/2000/svg\\\"\\u003e\\u003csymbol id=\\\"ps-icon:unfavorite:455\\\" viewbox=\\\"0 0 64 64\\\"\\u003e\\u003cpath fill-rule=\\\"nonzero\\\" stroke=\\\"none\\\" stroke-width=\\\"1\\\" d=\\\"M40.045 12.5c3.052 0 5.9 1.388 7.98 3.785 2.045 2.35 3.205 5.503 3.205 8.859 0 3.222-1.073 6.266-2.97 8.583l-.232.274-16.663 19.161L14.71 34.003c-2.046-2.344-3.208-5.501-3.211-8.859 0-3.35 1.164-6.503 3.21-8.86 2.086-2.398 4.931-3.787 7.975-3.784 3.054 0 5.903 1.387 7.98 3.78.186.213.365.435.537.667l.163.229.164-.231c.086-.116.173-.229.262-.34l.272-.324c2.084-2.398 4.93-3.784 7.982-3.781zm5.715 5.753c-1.529-1.762-3.562-2.753-5.717-2.753-2.153-.002-4.185.987-5.718 2.751-.535.613-1.005 1.362-1.41 2.236l-.17.383-1.385 3.26-1.377-3.264c-.435-1.032-.962-1.909-1.58-2.615-1.528-1.76-3.562-2.751-5.72-2.751-2.144-.002-4.176.99-5.709 2.751-1.568 1.808-2.474 4.262-2.474 6.892.002 2.519.826 4.871 2.264 6.641l.21.249L31.365 48.59l14.398-16.557c1.492-1.716 2.383-4.033 2.46-6.531l.006-.358c0-2.518-.822-4.867-2.26-6.642l-.21-.25z\\\"\\u003e\\u003c/path\\u003e\\u003c/symbol\\u003e\\u003c/svg\\u003e\\u003c/div\\u003e\\u003csvg role=\\\"img\\\"\\u003e\\u003ctitle\\u003e欲しいリストに追加\\u003c/title\\u003e\\u003cuse href=\\\"#ps-icon:unfavorite:455\\\"\\u003e\\u003c/use\\u003e\\u003c/svg\\u003e\\u003c/span\\u003e\\u003c/span\\u003e\\u003c/button\\u003e\\u003c/div\\u003e\\u003c/div\\u003e\\u003c/div\\u003e\\u003c/div\\u003e\\u003c/div\\u003e\\u003c/div\\u003e\\u003c/div\\u003e\\u003cdiv class=\\\"psw-layer psw-loading-block psw-r-2\\\" data-qa=\\\"mfeUpsell#productEdition0#ctaWithPrice#loadingOverlay\\\"\\u003e\\u003c/div\\u003e\\u003c/div\\u003e\\u003c/div\\u003e\\u003c/div\\u003e\\u003c/article\\u003e\\u003carticle data-qa=\\\"mfeUpsell#productEdition1\\\" class=\\\"psw-l-w-1/1 psw-l-w-1/2@tablet-s psw-l-w-1/2@tablet-l psw-l-w-1/3@laptop psw-l-w-1/3@desktop psw-l-w-1/3@max psw-l-anchor psw-l-stack-left psw-c-bg-card-1\\\"\\u003e\\u003cdiv class=\\\"psw-l-line-left psw-l-anchor-top-left psw-l-top-left psw-fill-x\\\"\\u003e\\u003cspan data-qa=\\\"mfeUpsell#productEdition1#media\\\" style=\\\"width:100%;min-width:100%\\\" class=\\\"psw-media-frame psw-fill-x psw-image psw-media psw-c-bg-3 psw-aspect-16-9\\\"\\u003e\\u003cimg aria-hidden=\\\"true\\\" loading=\\\"lazy\\\" data-qa=\\\"mfeUpsell#productEdition1#media#preview\\\" alt=\\\"アンチャーテッド 海賊王と最後の秘宝＆アンチャーテッド 古代神の秘宝 デジタルバンドル\\\" class=\\\"psw-blur psw-center psw-l-fit-contain\\\" src=\\\"https://image.api.playstation.com/vulcan/img/rnd/202201/0523/UtzaEhvBWuO7NqXRR2XtCZmm.png?w=54\\u0026amp;thumb=true\\\" /\\u003e\\u003cnoscript class=\\\"psw-layer\\\"\\u003e\\u003cimg class=\\\"psw-center psw-l-fit-contain\\\" loading=\\\"lazy\\\" data-qa=\\\"mfeUpsell#productEdition1#media#image-no-js\\\" alt=\\\"アンチャーテッド 海賊王と最後の秘宝＆アンチャーテッド 古代神の秘宝 デジタルバンドル\\\" src=\\\"https://image.api.playstation.com/vulcan/img/rnd/202201/0523/UtzaEhvBWuO7NqXRR2XtCZmm.png\\\" /\\u003e\\u003c/noscript\\u003e\\u003c/span\\u003e\\u003c/div\\u003e\\u003cdiv class=\\\"psw-l-anchor psw-fill psw-l-stack-repel\\\"\\u003e\\u003cdiv class=\\\"psw-l-stack-center\\\"\\u003e\\u003cspan data-qa class=\\\"psw-media-frame psw-fill-x psw-aspect-16-9\\\"\\u003e\\u003c/span\\u003e\\u003ch3 data-qa=\\\"mfeUpsell#productEdition1#editionName\\\" class=\\\"psw-t-title-s psw-t-align-c psw-fill-x psw-p-t-6 psw-p-x-7\\\" style=\\\"margin-bottom:-1px\\\"\\u003eアンチャーテッド 海賊王と最後の秘宝＆アンチャーテッド 古代神の秘宝 デジタルバンドル\\u003c/h3\\u003e\\u003cdiv class=\\\"psw-l-space-x-2 psw-l-line-center psw-p-t-5\\\"\\u003e\\u003cspan data-qa=\\\"mfeUpsell#productEdition1#productTag0\\\" class=\\\"psw-p-x-2 psw-p-y-1 psw-t-tag\\\"\\u003ePS4\\u003c/span\\u003e\\u003c/div\\u003e\\u003cdiv class=\\\"psw-fill-x psw-p-t-5 psw-p-x-7\\\"\\u003e\\u003cul data-qa=\\\"mfeUpsell#productEdition1#features\\\" class=\\\"psw-t-list psw-l-columns psw-l-compact psw-m-sub-b-1\\\"\\u003e\\u003c/ul\\u003e\\u003c/div\\u003e\\u003c/div\\u003e\\u003cdiv class=\\\"psw-p-t-5 psw-p-b-7 psw-p-x-7\\\"\\u003e\\u003cdiv data-qa=\\\"mfeUpsell#productEdition1#ctaWithPrice\\\" aria-hidden=\\\"true\\\" class=\\\"psw-c-bg-0 psw-l-anchor psw-l-stack-left\\\"\\u003e\\u003cdiv class=\\\"psw-fade-out psw-fill-x\\\" style=\\\"visibility:hidden\\\"\\u003e\\u003clabel data-qa=\\\"mfeUpsell#productEdition1#ctaWithPrice#offer0\\\" class=\\\"psw-label psw-l-inline psw-l-line-left psw-interactive psw-c-bg-0 psw-l-anchor psw-fill-x\\\"\\u003e\\u003cdiv class=\\\"psw-l-anchor psw-l-stack-left psw-fill-x\\\"\\u003e\\u003cspan class=\\\"psw-fill-x psw-l-line-left psw-m-b-2\\\"\\u003e\\u003cspan class=\\\"psw-l-line-left psw-l-line-wrap\\\"\\u003e\\u003cspan data-qa=\\\"mfeUpsell#productEdition1#ctaWithPrice#offer0#finalPrice\\\" class=\\\"psw-t-title-m psw-m-r-4\\\"\\u003e¥1,072\\u003c/span\\u003e\\u003cspan data-qa=\\\"mfeUpsell#productEdition1#ctaWithPrice#offer0#originalPrice\\\" class=\\\"psw-t-title-s psw-c-t-2 psw-t-strike\\\"\\u003e\\u003cspan class=\\\"psw-truncate-text-1 psw-p-y-1 psw-l-exclude@below-desktop\\\"\\u003e\\u003c/span\\u003e\\u003cspan class=\\\"psw-truncate-text-1 psw-p-t-1 psw-l-exclude@desktop\\\"\\u003e\\u003c/span\\u003e¥4,290\\u003c/span\\u003e\\u003c/span\\u003e\\u003c/span\\u003e\\u003cspan class=\\\"psw-t-overline psw-t-bold psw-l-line-left psw-fill-x\\\"\\u003e\\u003cspan class=\\\"psw-l-line-left psw-l-line-wrap\\\"\\u003e\\u003cspan class=\\\"psw-l-line-left\\\"\\u003e\\u003cspan class=\\\"psw-l-inline psw-m-r-2\\\"\\u003e\\u003c/span\\u003e\\u003cspan data-qa=\\\"mfeUpsell#productEdition1#ctaWithPrice#offer0#discountInfo\\\" class=\\\"psw-m-r-3\\\"\\u003e75%オフ\\u003c/span\\u003e\\u003c/span\\u003e\\u003cspan data-qa=\\\"mfeUpsell#productEdition1#ctaWithPrice#offer0#discountDescriptor\\\" class=\\\"psw-c-t-2\\\"\\u003e2024/3/13 02:59 PM UTCまで\\u003c/span\\u003e\\u003c/span\\u003e\\u003c/span\\u003e\\u003c/div\\u003e\\u003c/label\\u003e\\u003cdiv class=\\\"psw-m-t-6 psw-fill-x\\\" data-qa=\\\"mfeUpsell#productEdition1#ctaWithPrice#cta\\\"\\u003e\\u003cdiv class=\\\"psw-fill-x\\\" data-flip-key=\\\"cta-action-0\\\"\\u003e\\u003cdiv style=\\\"perspective:2000px;transition:height 400ms ease, opacity 400ms ease\\\" class=\\\"psw-l-anchor\\\" aria-hidden=\\\"false\\\" data-qa=\\\"inline-toast\\\"\\u003e\\u003cdiv style=\\\"transform:translateZ(-NaNpx);transform-style:preserve-3d\\\"\\u003e\\u003cdiv style=\\\"transition:transform 300ms ease-in;transform-style:preserve-3d;transform:rotateX(0deg)\\\"\\u003e\\u003cdiv aria-hidden=\\\"true\\\" data-qa=\\\"inline-toast#cta-spacer\\\" class=\\\"psw-l-line-left psw-hidden\\\"\\u003e\\u003cbutton data-qa=\\\"inline-toast#hiddenCta\\\" data-track=\\\"{\\u0026quot;eventInfo\\u0026quot;:{\\u0026quot;eventAction\\u0026quot;:\\u0026quot;click\\u0026quot;,\\u0026quot;eventName\\u0026quot;:\\u0026quot;add to cart\\u0026quot;},\\u0026quot;attributes\\u0026quot;:{\\u0026quot;moduleName\\u0026quot;:\\u0026quot;version selector\\u0026quot;,\\u0026quot;assetName\\u0026quot;:\\u0026quot;\\u0026quot;,\\u0026quot;label\\u0026quot;:\\u0026quot;add to cart\\u0026quot;,\\u0026quot;position\\u0026quot;:\\u0026quot;1\\u0026quot;,\\u0026quot;linkUrl\\u0026quot;:\\u0026quot;\\u0026quot;,\\u0026quot;elementType\\u0026quot;:\\u0026quot;button\\u0026quot;,\\u0026quot;userActionFlag\\u0026quot;:false,\\u0026quot;sku\\u0026quot;:\\u0026quot;JP9000-CUSA00949_00-U4UTLLBUNDLE0000-J001\\u0026quot;}}\\\" data-track-click=\\\"ctaWithPrice:addToCart\\\" data-telemetry-meta=\\\"{\\u0026quot;conceptId\\u0026quot;:\\u0026quot;205354\\u0026quot;,\\u0026quot;ctaIndex\\u0026quot;:0,\\u0026quot;ctaSubType\\u0026quot;:\\u0026quot;add_to_cart\\u0026quot;,\\u0026quot;ctaType\\u0026quot;:\\u0026quot;ADD_TO_CART\\u0026quot;,\\u0026quot;interactAction\\u0026quot;:\\u0026quot;click add to cart\\u0026quot;,\\u0026quot;interactCta\\u0026quot;:\\u0026quot;add to cart\\u0026quot;,\\u0026quot;productId\\u0026quot;:\\u0026quot;JP9000-CUSA00949_00-U4UTLLBUNDLE0000\\u0026quot;,\\u0026quot;productDetail\\u0026quot;:[{\\u0026quot;productId\\u0026quot;:\\u0026quot;JP9000-CUSA00949_00-U4UTLLBUNDLE0000\\u0026quot;,\\u0026quot;productName\\u0026quot;:\\u0026quot;アンチャーテッド 海賊王と最後の秘宝＆アンチャーテッド 古代神の秘宝 デジタルバンドル\\u0026quot;,\\u0026quot;productToSkuIds\\u0026quot;:[\\u0026quot;JP9000-CUSA00949_00-U4UTLLBUNDLE0000-J001\\u0026quot;,\\u0026quot;JP9000-CUSA00949_00-U4UTLLBUNDLE0000-J002\\u0026quot;],\\u0026quot;productPriceDetail\\u0026quot;:[{\\u0026quot;rewardId\\u0026quot;:\\u0026quot;OFFER-PROD-7245_75\\u0026quot;,\\u0026quot;offerCampaignId\\u0026quot;:\\u0026quot;PROMO-PROD-00007245\\u0026quot;,\\u0026quot;originalPriceFormatted\\u0026quot;:\\u0026quot;¥4,290\\u0026quot;,\\u0026quot;originalPriceValue\\u0026quot;:4290,\\u0026quot;discountPriceFormatted\\u0026quot;:\\u0026quot;¥1,072\\u0026quot;,\\u0026quot;discountPriceValue\\u0026quot;:1072,\\u0026quot;priceCurrencyCode\\u0026quot;:\\u0026quot;JPY\\u0026quot;,\\u0026quot;offerBranding\\u0026quot;:\\u0026quot;NONE\\u0026quot;,\\u0026quot;offerQualification\\u0026quot;:[],\\u0026quot;offerExclusive\\u0026quot;:false,\\u0026quot;offerApplied\\u0026quot;:true,\\u0026quot;offerApplicability\\u0026quot;:\\u0026quot;APPLICABLE\\u0026quot;,\\u0026quot;offerIsTiedToSubscription\\u0026quot;:false}]}],\\u0026quot;skuDetail\\u0026quot;:[{\\u0026quot;skuId\\u0026quot;:\\u0026quot;JP9000-CUSA00949_00-U4UTLLBUNDLE0000-J001\\u0026quot;,\\u0026quot;skuPriceDetail\\u0026quot;:[{\\u0026quot;rewardId\\u0026quot;:\\u0026quot;OFFER-PROD-7245_75\\u0026quot;,\\u0026quot;offerCampaignId\\u0026quot;:\\u0026quot;PROMO-PROD-00007245\\u0026quot;,\\u0026quot;originalPriceFormatted\\u0026quot;:\\u0026quot;¥4,290\\u0026quot;,\\u0026quot;originalPriceValue\\u0026quot;:4290,\\u0026quot;discountPriceFormatted\\u0026quot;:\\u0026quot;¥1,072\\u0026quot;,\\u0026quot;discountPriceValue\\u0026quot;:1072,\\u0026quot;priceCurrencyCode\\u0026quot;:\\u0026quot;JPY\\u0026quot;,\\u0026quot;offerBranding\\u0026quot;:\\u0026quot;NONE\\u0026quot;,\\u0026quot;offerQualification\\u0026quot;:[],\\u0026quot;offerExclusive\\u0026quot;:false,\\u0026quot;offerApplied\\u0026quot;:true,\\u0026quot;offerApplicability\\u0026quot;:\\u0026quot;APPLICABLE\\u0026quot;,\\u0026quot;offerIsTiedToSubscription\\u0026quot;:false}],\\u0026quot;skuName\\u0026quot;:\\u0026quot;ゲーム本編\\u0026quot;}],\\u0026quot;titleId\\u0026quot;:\\u0026quot;CUSA00949_00\\u0026quot;}\\\" id class=\\\"psw-fill-x dtm-track psw-button psw-b-0 psw-t-button psw-l-line-center psw-button-sizing psw-button-sizing--medium psw-purchase-button psw-solid-button\\\" type=\\\"button\\\" name value\\u003e\\u003cspan class=\\\"psw-fill-x psw-t-truncate-1 psw-l-space-x-2 \\\"\\u003eカートに追加\\u003c/span\\u003e\\u003c/button\\u003e\\u003cbutton data-qa=\\\"inline-toast#hiddenCta\\\" data-track-click=\\\"ctaWithPrice:addToWishlist\\\" data-telemetry-meta=\\\"{\\u0026quot;productId\\u0026quot;:null,\\u0026quot;conceptId\\u0026quot;:null}\\\" id class=\\\"psw-m-l-4 psw-button psw-b-0 psw-t-button psw-l-line-center psw-button-sizing psw-button-sizing--medium psw-button-sizing--icon-only psw-secondary-button psw-solid-button psw-with-icon\\\" type=\\\"button\\\" name value\\u003e\\u003cspan class=\\\"psw-fill-x psw-l-line-center \\\"\\u003e\\u003cspan data-qa=\\\"inline-toast#hiddenCta#icon\\\" class=\\\"psw-icon psw-icon--unfavorite psw-icon psw-icon-size-2 psw-icon--unfavorite\\\"\\u003e\\u003cdiv class=\\\"psw-hide\\\" data-original-icon-id=\\\"ps-icon:unfavorite\\\"\\u003e\\u003csvg xmlns=\\\"http://www.w3.org/2000/svg\\\"\\u003e\\u003csymbol id=\\\"ps-icon:unfavorite:456\\\" viewbox=\\\"0 0 64 64\\\"\\u003e\\u003cpath fill-rule=\\\"nonzero\\\" stroke=\\\"none\\\" stroke-width=\\\"1\\\" d=\\\"M40.045 12.5c3.052 0 5.9 1.388 7.98 3.785 2.045 2.35 3.205 5.503 3.205 8.859 0 3.222-1.073 6.266-2.97 8.583l-.232.274-16.663 19.161L14.71 34.003c-2.046-2.344-3.208-5.501-3.211-8.859 0-3.35 1.164-6.503 3.21-8.86 2.086-2.398 4.931-3.787 7.975-3.784 3.054 0 5.903 1.387 7.98 3.78.186.213.365.435.537.667l.163.229.164-.231c.086-.116.173-.229.262-.34l.272-.324c2.084-2.398 4.93-3.784 7.982-3.781zm5.715 5.753c-1.529-1.762-3.562-2.753-5.717-2.753-2.153-.002-4.185.987-5.718 2.751-.535.613-1.005 1.362-1.41 2.236l-.17.383-1.385 3.26-1.377-3.264c-.435-1.032-.962-1.909-1.58-2.615-1.528-1.76-3.562-2.751-5.72-2.751-2.144-.002-4.176.99-5.709 2.751-1.568 1.808-2.474 4.262-2.474 6.892.002 2.519.826 4.871 2.264 6.641l.21.249L31.365 48.59l14.398-16.557c1.492-1.716 2.383-4.033 2.46-6.531l.006-.358c0-2.518-.822-4.867-2.26-6.642l-.21-.25z\\\"\\u003e\\u003c/path\\u003e\\u003c/symbol\\u003e\\u003c/svg\\u003e\\u003c/div\\u003e\\u003csvg role=\\\"img\\\"\\u003e\\u003ctitle\\u003e欲しいリストに追加\\u003c/title\\u003e\\u003cuse href=\\\"#ps-icon:unfavorite:456\\\"\\u003e\\u003c/use\\u003e\\u003c/svg\\u003e\\u003c/span\\u003e\\u003c/span\\u003e\\u003c/button\\u003e\\u003c/div\\u003e\\u003cdiv data-qa=\\\"inline-toast#slot2\\\" aria-hidden=\\\"true\\\" style=\\\"transition:opacity 300ms ease-in;opacity:0;transform:rotateX(90deg) translateZ(NaNpx)\\\" class=\\\"psw-fill-x psw-top-left psw-l-line-center\\\"\\u003e\\u003c/div\\u003e\\u003cdiv data-qa=\\\"inline-toast#slot1\\\" aria-hidden=\\\"false\\\" style=\\\"transition:opacity 300ms ease-in;opacity:1;transform:rotateX(0deg) translateZ(NaNpx)\\\" class=\\\"psw-fill-x psw-top-left psw-l-line-center\\\"\\u003e\\u003cbutton data-qa=\\\"mfeUpsell#productEdition1#ctaWithPrice#cta#action\\\" data-track=\\\"{\\u0026quot;eventInfo\\u0026quot;:{\\u0026quot;eventAction\\u0026quot;:\\u0026quot;click\\u0026quot;,\\u0026quot;eventName\\u0026quot;:\\u0026quot;add to cart\\u0026quot;},\\u0026quot;attributes\\u0026quot;:{\\u0026quot;moduleName\\u0026quot;:\\u0026quot;version selector\\u0026quot;,\\u0026quot;assetName\\u0026quot;:\\u0026quot;\\u0026quot;,\\u0026quot;label\\u0026quot;:\\u0026quot;add to cart\\u0026quot;,\\u0026quot;position\\u0026quot;:\\u0026quot;1\\u0026quot;,\\u0026quot;linkUrl\\u0026quot;:\\u0026quot;\\u0026quot;,\\u0026quot;elementType\\u0026quot;:\\u0026quot;button\\u0026quot;,\\u0026quot;userActionFlag\\u0026quot;:false,\\u0026quot;sku\\u0026quot;:\\u0026quot;JP9000-CUSA00949_00-U4UTLLBUNDLE0000-J001\\u0026quot;}}\\\" data-track-click=\\\"ctaWithPrice:addToCart\\\" data-telemetry-meta=\\\"{\\u0026quot;conceptId\\u0026quot;:\\u0026quot;205354\\u0026quot;,\\u0026quot;ctaIndex\\u0026quot;:0,\\u0026quot;ctaSubType\\u0026quot;:\\u0026quot;add_to_cart\\u0026quot;,\\u0026quot;ctaType\\u0026quot;:\\u0026quot;ADD_TO_CART\\u0026quot;,\\u0026quot;interactAction\\u0026quot;:\\u0026quot;click add to cart\\u0026quot;,\\u0026quot;interactCta\\u0026quot;:\\u0026quot;add to cart\\u0026quot;,\\u0026quot;productId\\u0026quot;:\\u0026quot;JP9000-CUSA00949_00-U4UTLLBUNDLE0000\\u0026quot;,\\u0026quot;productDetail\\u0026quot;:[{\\u0026quot;productId\\u0026quot;:\\u0026quot;JP9000-CUSA00949_00-U4UTLLBUNDLE0000\\u0026quot;,\\u0026quot;productName\\u0026quot;:\\u0026quot;アンチャーテッド 海賊王と最後の秘宝＆アンチャーテッド 古代神の秘宝 デジタルバンドル\\u0026quot;,\\u0026quot;productToSkuIds\\u0026quot;:[\\u0026quot;JP9000-CUSA00949_00-U4UTLLBUNDLE0000-J001\\u0026quot;,\\u0026quot;JP9000-CUSA00949_00-U4UTLLBUNDLE0000-J002\\u0026quot;],\\u0026quot;productPriceDetail\\u0026quot;:[{\\u0026quot;rewardId\\u0026quot;:\\u0026quot;OFFER-PROD-7245_75\\u0026quot;,\\u0026quot;offerCampaignId\\u0026quot;:\\u0026quot;PROMO-PROD-00007245\\u0026quot;,\\u0026quot;originalPriceFormatted\\u0026quot;:\\u0026quot;¥4,290\\u0026quot;,\\u0026quot;originalPriceValue\\u0026quot;:4290,\\u0026quot;discountPriceFormatted\\u0026quot;:\\u0026quot;¥1,072\\u0026quot;,\\u0026quot;discountPriceValue\\u0026quot;:1072,\\u0026quot;priceCurrencyCode\\u0026quot;:\\u0026quot;JPY\\u0026quot;,\\u0026quot;offerBranding\\u0026quot;:\\u0026quot;NONE\\u0026quot;,\\u0026quot;offerQualification\\u0026quot;:[],\\u0026quot;offerExclusive\\u0026quot;:false,\\u0026quot;offerApplied\\u0026quot;:true,\\u0026quot;offerApplicability\\u0026quot;:\\u0026quot;APPLICABLE\\u0026quot;,\\u0026quot;offerIsTiedToSubscription\\u0026quot;:false}]}],\\u0026quot;skuDetail\\u0026quot;:[{\\u0026quot;skuId\\u0026quot;:\\u0026quot;JP9000-CUSA00949_00-U4UTLLBUNDLE0000-J001\\u0026quot;,\\u0026quot;skuPriceDetail\\u0026quot;:[{\\u0026quot;rewardId\\u0026quot;:\\u0026quot;OFFER-PROD-7245_75\\u0026quot;,\\u0026quot;offerCampaignId\\u0026quot;:\\u0026quot;PROMO-PROD-00007245\\u0026quot;,\\u0026quot;originalPriceFormatted\\u0026quot;:\\u0026quot;¥4,290\\u0026quot;,\\u0026quot;originalPriceValue\\u0026quot;:4290,\\u0026quot;discountPriceFormatted\\u0026quot;:\\u0026quot;¥1,072\\u0026quot;,\\u0026quot;discountPriceValue\\u0026quot;:1072,\\u0026quot;priceCurrencyCode\\u0026quot;:\\u0026quot;JPY\\u0026quot;,\\u0026quot;offerBranding\\u0026quot;:\\u0026quot;NONE\\u0026quot;,\\u0026quot;offerQualification\\u0026quot;:[],\\u0026quot;offerExclusive\\u0026quot;:false,\\u0026quot;offerApplied\\u0026quot;:true,\\u0026quot;offerApplicability\\u0026quot;:\\u0026quot;APPLICABLE\\u0026quot;,\\u0026quot;offerIsTiedToSubscription\\u0026quot;:false}],\\u0026quot;skuName\\u0026quot;:\\u0026quot;ゲーム本編\\u0026quot;}],\\u0026quot;titleId\\u0026quot;:\\u0026quot;CUSA00949_00\\u0026quot;}\\\" id class=\\\"psw-fill-x dtm-track psw-button psw-b-0 psw-t-button psw-l-line-center psw-button-sizing psw-button-sizing--medium psw-purchase-button psw-solid-button\\\" type=\\\"button\\\" name value\\u003e\\u003cspan class=\\\"psw-fill-x psw-t-truncate-1 psw-l-space-x-2 \\\"\\u003eカートに追加\\u003c/span\\u003e\\u003c/button\\u003e\\u003cbutton data-qa=\\\"wishlistToggle\\\" data-track-click=\\\"ctaWithPrice:addToWishlist\\\" data-telemetry-meta=\\\"{\\u0026quot;productId\\u0026quot;:null,\\u0026quot;conceptId\\u0026quot;:null}\\\" id class=\\\"psw-m-l-4 psw-button psw-b-0 psw-t-button psw-l-line-center psw-button-sizing psw-button-sizing--medium psw-button-sizing--icon-only psw-secondary-button psw-solid-button psw-with-icon\\\" type=\\\"button\\\" name value\\u003e\\u003cspan class=\\\"psw-fill-x psw-l-line-center \\\"\\u003e\\u003cspan data-qa=\\\"wishlistToggle#icon\\\" class=\\\"psw-icon psw-icon--unfavorite psw-icon psw-icon-size-2 psw-icon--unfavorite\\\"\\u003e\\u003cdiv class=\\\"psw-hide\\\" data-original-icon-id=\\\"ps-icon:unfavorite\\\"\\u003e\\u003csvg xmlns=\\\"http://www.w3.org/2000/svg\\\"\\u003e\\u003csymbol id=\\\"ps-icon:unfavorite:457\\\" viewbox=\\\"0 0 64 64\\\"\\u003e\\u003cpath fill-rule=\\\"nonzero\\\" stroke=\\\"none\\\" stroke-width=\\\"1\\\" d=\\\"M40.045 12.5c3.052 0 5.9 1.388 7.98 3.785 2.045 2.35 3.205 5.503 3.205 8.859 0 3.222-1.073 6.266-2.97 8.583l-.232.274-16.663 19.161L14.71 34.003c-2.046-2.344-3.208-5.501-3.211-8.859 0-3.35 1.164-6.503 3.21-8.86 2.086-2.398 4.931-3.787 7.975-3.784 3.054 0 5.903 1.387 7.98 3.78.186.213.365.435.537.667l.163.229.164-.231c.086-.116.173-.229.262-.34l.272-.324c2.084-2.398 4.93-3.784 7.982-3.781zm5.715 5.753c-1.529-1.762-3.562-2.753-5.717-2.753-2.153-.002-4.185.987-5.718 2.751-.535.613-1.005 1.362-1.41 2.236l-.17.383-1.385 3.26-1.377-3.264c-.435-1.032-.962-1.909-1.58-2.615-1.528-1.76-3.562-2.751-5.72-2.751-2.144-.002-4.176.99-5.709 2.751-1.568 1.808-2.474 4.262-2.474 6.892.002 2.519.826 4.871 2.264 6.641l.21.249L31.365 48.59l14.398-16.557c1.492-1.716 2.383-4.033 2.46-6.531l.006-.358c0-2.518-.822-4.867-2.26-6.642l-.21-.25z\\\"\\u003e\\u003c/path\\u003e\\u003c/symbol\\u003e\\u003c/svg\\u003e\\u003c/div\\u003e\\u003csvg role=\\\"img\\\"\\u003e\\u003ctitle\\u003e欲しいリストに追加\\u003c/title\\u003e\\u003cuse href=\\\"#ps-icon:unfavorite:457\\\"\\u003e\\u003c/use\\u003e\\u003c/svg\\u003e\\u003c/span\\u003e\\u003c/span\\u003e\\u003c/button\\u003e\\u003c/div\\u003e\\u003c/div\\u003e\\u003c/div\\u003e\\u003c/div\\u003e\\u003c/div\\u003e\\u003c/div\\u003e\\u003c/div\\u003e\\u003cdiv class=\\\"psw-layer psw-loading-block psw-r-2\\\" data-qa=\\\"mfeUpsell#productEdition1#ctaWithPrice#loadingOverlay\\\"\\u003e\\u003c/div\\u003e\\u003c/div\\u003e\\u003c/div\\u003e\\u003c/div\\u003e\\u003c/article\\u003e\\u003carticle data-qa=\\\"mfeUpsell#productEdition2\\\" class=\\\"psw-l-w-1/1 psw-l-w-1/2@tablet-s psw-l-w-1/2@tablet-l psw-l-w-1/3@laptop psw-l-w-1/3@desktop psw-l-w-1/3@max psw-l-anchor psw-l-stack-left psw-c-bg-card-1\\\"\\u003e\\u003cdiv class=\\\"psw-l-line-left psw-l-anchor-top-left psw-l-top-left psw-fill-x\\\"\\u003e\\u003cspan data-qa=\\\"mfeUpsell#productEdition2#media\\\" style=\\\"width:100%;min-width:100%\\\" class=\\\"psw-media-frame psw-fill-x psw-image psw-media psw-aspect-16-9\\\"\\u003e\\u003cimg aria-hidden=\\\"true\\\" loading=\\\"lazy\\\" data-qa=\\\"mfeUpsell#productEdition2#media#preview\\\" alt=\\\"アンチャーテッド 古代神の秘宝 PlayStation®Hits\\\" class=\\\"psw-blur psw-center psw-l-fit-contain\\\" src=\\\"https://image.api.playstation.com/vulcan/img/rnd/202010/3018/uRb9Br7Gc7IbFOGAxxFQSdwA.jpg?w=54\\u0026amp;thumb=true\\\" /\\u003e\\u003cnoscript class=\\\"psw-layer\\\"\\u003e\\u003cimg class=\\\"psw-center psw-l-fit-contain\\\" loading=\\\"lazy\\\" data-qa=\\\"mfeUpsell#productEdition2#media#image-no-js\\\" alt=\\\"アンチャーテッド 古代神の秘宝 PlayStation®Hits\\\" src=\\\"https://image.api.playstation.com/vulcan/img/rnd/202010/3018/uRb9Br7Gc7IbFOGAxxFQSdwA.jpg\\\" /\\u003e\\u003c/noscript\\u003e\\u003c/span\\u003e\\u003c/div\\u003e\\u003cdiv class=\\\"psw-l-anchor psw-fill psw-l-stack-repel\\\"\\u003e\\u003cdiv class=\\\"psw-l-stack-center\\\"\\u003e\\u003cspan data-qa class=\\\"psw-media-frame psw-fill-x psw-aspect-16-9\\\"\\u003e\\u003c/span\\u003e\\u003ch3 data-qa=\\\"mfeUpsell#productEdition2#editionName\\\" class=\\\"psw-t-title-s psw-t-align-c psw-fill-x psw-p-t-6 psw-p-x-7\\\" style=\\\"margin-bottom:-1px\\\"\\u003eアンチャーテッド 古代神の秘宝 PlayStation®Hits\\u003c/h3\\u003e\\u003cdiv class=\\\"psw-l-space-x-2 psw-l-line-center psw-p-t-5\\\"\\u003e\\u003cspan data-qa=\\\"mfeUpsell#productEdition2#productTag0\\\" class=\\\"psw-p-x-2 psw-p-y-1 psw-t-tag\\\"\\u003ePS4\\u003c/span\\u003e\\u003c/div\\u003e\\u003cdiv class=\\\"psw-fill-x psw-p-t-5 psw-p-x-7\\\"\\u003e\\u003cul data-qa=\\\"mfeUpsell#productEdition2#features\\\" class=\\\"psw-t-list psw-l-columns psw-l-compact psw-m-sub-b-1\\\"\\u003e\\u003c/ul\\u003e\\u003c/div\\u003e\\u003c/div\\u003e\\u003cdiv class=\\\"psw-p-t-5 psw-p-b-7 psw-p-x-7\\\"\\u003e\\u003cdiv data-qa=\\\"mfeUpsell#productEdition2#ctaWithPrice\\\" aria-hidden=\\\"true\\\" class=\\\"psw-c-bg-0 psw-l-anchor psw-l-stack-left\\\"\\u003e\\u003cdiv class=\\\"psw-fade-out psw-fill-x\\\" style=\\\"visibility:hidden\\\"\\u003e\\u003clabel data-qa=\\\"mfeUpsell#productEdition2#ctaWithPrice#offer0\\\" class=\\\"psw-label psw-l-inline psw-l-line-left psw-interactive psw-c-bg-0 psw-l-anchor psw-fill-x\\\"\\u003e\\u003cdiv class=\\\"psw-l-anchor psw-l-stack-left psw-fill-x\\\"\\u003e\\u003cspan class=\\\"psw-fill-x psw-l-line-left psw-m-b-2\\\"\\u003e\\u003cspan class=\\\"psw-l-line-left psw-l-line-wrap\\\"\\u003e\\u003cspan data-qa=\\\"mfeUpsell#productEdition2#ctaWithPrice#offer0#finalPrice\\\" class=\\\"psw-t-title-m\\\"\\u003e含まれます\\u003c/span\\u003e\\u003c/span\\u003e\\u003c/span\\u003e\\u003cspan class=\\\"psw-t-overline psw-t-bold psw-l-line-left psw-fill-x\\\"\\u003e\\u003cspan class=\\\"psw-l-line-left psw-l-line-wrap\\\"\\u003e\\u003cspan class=\\\"psw-l-line-left\\\"\\u003e\\u003cspan class=\\\"psw-l-inline psw-m-r-2\\\"\\u003e\\u003cspan data-qa=\\\"mfeUpsell#productEdition2#ctaWithPrice#offer0#serviceIcon#ps-plus\\\" class=\\\"psw-icon psw-icon--ps-plus psw-icon psw-icon-size-2 psw-icon--ps-plus\\\"\\u003e\\u003cdiv class=\\\"psw-hide\\\" data-original-icon-id=\\\"ps-icon:ps-plus\\\"\\u003e\\u003csvg xmlns=\\\"http://www.w3.org/2000/svg\\\"\\u003e\\u003cdefs\\u003e\\u003clineargradient id=\\\"ps-plus__a\\\" x1=\\\"12.926%\\\" x2=\\\"75.728%\\\" y1=\\\"21.366%\\\" y2=\\\"86.469%\\\"\\u003e\\u003cstop offset=\\\"0%\\\" stop-color=\\\"#C3862C\\\"\\u003e\\u003c/stop\\u003e\\u003cstop offset=\\\"100%\\\" stop-color=\\\"#986D29\\\"\\u003e\\u003c/stop\\u003e\\u003c/lineargradient\\u003e\\u003clineargradient id=\\\"ps-plus__b\\\" x1=\\\"10.369%\\\" x2=\\\"88.542%\\\" y1=\\\"20.591%\\\" y2=\\\"78.732%\\\"\\u003e\\u003cstop offset=\\\"0%\\\" stop-color=\\\"#FDE64E\\\"\\u003e\\u003c/stop\\u003e\\u003cstop offset=\\\"100%\\\" stop-color=\\\"#FCC013\\\"\\u003e\\u003c/stop\\u003e\\u003c/lineargradient\\u003e\\u003c/defs\\u003e\\u003csymbol id=\\\"ps-icon:ps-plus:458\\\" viewbox=\\\"0 0 64 64\\\"\\u003e\\u003cg fill=\\\"none\\\" fill-rule=\\\"evenodd\\\"\\u003e\\u003cpath fill=\\\"url(#ps-plus__a)\\\" d=\\\"M26.047 0a1.452 1.452 0 00-.172.014L15.537 1.417c-.2.027-.385.093-.549.188a1.483 1.483 0 00-.42.37l-2.83 3.677c-.228.295-.34.673-.286 1.068l1.156 8.375-8.51 1.156a1.475 1.475 0 00-.969.557c-.056.073-.081.163-.122.247.04-.084.066-.175.122-.247l-2.83 3.678a1.425 1.425 0 00-.286 1.067l1.405 10.18c.055.394.266.73.564.953.297.222.683.333 1.083.278l11.79-1.6 1.6 11.608c.055.394.266.73.565.953.24.18.54.287.858.292h.05c.059 0 .116-.005.175-.013L28.44 42.8c.401-.055.742-.265.969-.558l2.831-3.678a1.44 1.44 0 00.247-.496 1.38 1.38 0 00.037-.571l-1.154-8.376 8.51-1.154c.4-.055.74-.265.967-.558l2.83-3.678.002-.001a1.44 1.44 0 00.249-.496c.049-.18.064-.373.037-.57l-1.406-10.181a1.425 1.425 0 00-.564-.952 1.47 1.47 0 00-1.084-.28l-11.788 1.602-1.601-11.609a1.427 1.427 0 00-.565-.953 1.47 1.47 0 00-.85-.292h-.06z\\\" transform=\\\"translate(10 10)\\\"\\u003e\\u003c/path\\u003e\\u003cpath fill=\\\"url(#ps-plus__b)\\\" d=\\\"M26.047 0a1.452 1.452 0 00-.172.014L15.537 1.417c-.2.027-.385.093-.549.188a1.447 1.447 0 00-.668.865 1.438 1.438 0 00-.037.572l1.603 11.608-11.789 1.6c-.2.028-.385.093-.548.19a1.434 1.434 0 00-.667.864c-.05.181-.065.374-.037.573l1.404 10.179c.055.393.266.728.565.952.298.222.683.333 1.082.28l11.789-1.6 1.602 11.607c.054.394.266.73.564.952.298.222.682.334 1.084.28l10.337-1.405a1.48 1.48 0 00.969-.557 1.44 1.44 0 00.246-.496c.051-.18.065-.374.038-.571L30.923 25.89l11.788-1.6a1.46 1.46 0 00.968-.56 1.44 1.44 0 00.249-.495c.049-.181.064-.373.037-.57l-1.406-10.181a1.425 1.425 0 00-.564-.952 1.47 1.47 0 00-1.083-.28l-11.789 1.602-1.601-11.609a1.427 1.427 0 00-.565-.953 1.47 1.47 0 00-.85-.292h-.06z\\\" transform=\\\"translate(10 10)\\\"\\u003e\\u003c/path\\u003e\\u003cpath fill=\\\"#C3862C\\\" d=\\\"M37.782 38.669l1.227.924-2.726 3.562 3.59 2.705-.93 1.217-3.592-2.704-2.728 3.561-1.226-.924 2.727-3.562-3.592-2.704.932-1.218 3.591 2.706 2.727-3.563zM23.73 27.4l1.133 8.213-8.28 1.123-1.134-8.212L23.73 27.4zm-1.317 1.721l-5.228.71.716 5.184 5.226-.71-.714-5.184zm28.582-1.239c.344 2.491-1.414 4.788-3.926 5.13-2.512.34-4.828-1.404-5.172-3.895-.344-2.492 1.415-4.787 3.926-5.128 2.513-.341 4.828 1.401 5.172 3.893zm-4.963-2.38c-1.666.226-2.836 1.756-2.609 3.408.23 1.653 1.77 2.813 3.437 2.586 1.666-.226 2.836-1.754 2.609-3.407-.23-1.652-1.77-2.813-3.437-2.587zM30.855 12.646l6.382 7.98L27.1 22.002l3.756-9.356zm.447 3.018l-1.794 4.468 4.843-.657-3.049-3.811z\\\"\\u003e\\u003c/path\\u003e\\u003c/g\\u003e\\u003c/symbol\\u003e\\u003c/svg\\u003e\\u003c/div\\u003e\\u003csvg aria-hidden=\\\"true\\\" focusable=\\\"false\\\"\\u003e\\u003ctitle\\u003e\\u003c/title\\u003e\\u003cuse href=\\\"#ps-icon:ps-plus:458\\\"\\u003e\\u003c/use\\u003e\\u003c/svg\\u003e\\u003c/span\\u003e\\u003c/span\\u003e\\u003cspan data-qa=\\\"mfeUpsell#productEdition2#ctaWithPrice#offer0#discountInfo\\\" class=\\\"psw-c-t-ps-plus psw-m-r-3\\\"\\u003eこのゲームや、ゲームカタログに含まれる他の多数のゲームをプレイするには、PlayStation Plusエクストラに加入してください\\u003c/span\\u003e\\u003c/span\\u003e\\u003c/span\\u003e\\u003c/span\\u003e\\u003c/div\\u003e\\u003c/label\\u003e\\u003cdiv class=\\\"psw-m-t-6 psw-fill-x\\\" data-qa=\\\"mfeUpsell#productEdition2#ctaWithPrice#cta\\\"\\u003e\\u003cdiv class=\\\"psw-fill-x\\\" data-flip-key=\\\"cta-action-0\\\"\\u003e\\u003cdiv style=\\\"perspective:2000px;transition:height 400ms ease, opacity 400ms ease\\\" class=\\\"psw-l-anchor\\\" aria-hidden=\\\"false\\\" data-qa=\\\"inline-toast\\\"\\u003e\\u003cdiv style=\\\"transform:translateZ(-NaNpx);transform-style:preserve-3d\\\"\\u003e\\u003cdiv style=\\\"transition:transform 300ms ease-in;transform-style:preserve-3d;transform:rotateX(0deg)\\\"\\u003e\\u003cdiv aria-hidden=\\\"true\\\" data-qa=\\\"inline-toast#cta-spacer\\\" class=\\\"psw-l-line-left psw-hidden\\\"\\u003e\\u003cbutton data-qa=\\\"inline-toast#hiddenCta\\\" data-track=\\\"{\\u0026quot;eventInfo\\u0026quot;:{\\u0026quot;eventAction\\u0026quot;:\\u0026quot;click\\u0026quot;,\\u0026quot;eventName\\u0026quot;:\\u0026quot;subscribe\\u0026quot;},\\u0026quot;attributes\\u0026quot;:{\\u0026quot;moduleName\\u0026quot;:\\u0026quot;version selector\\u0026quot;,\\u0026quot;assetName\\u0026quot;:\\u0026quot;\\u0026quot;,\\u0026quot;label\\u0026quot;:\\u0026quot;subscribe\\u0026quot;,\\u0026quot;position\\u0026quot;:\\u0026quot;1\\u0026quot;,\\u0026quot;linkUrl\\u0026quot;:\\u0026quot;\\u0026quot;,\\u0026quot;elementType\\u0026quot;:\\u0026quot;button\\u0026quot;,\\u0026quot;userActionFlag\\u0026quot;:false,\\u0026quot;sku\\u0026quot;:\\u0026quot;JP9000-CUSA08347_00-UNCHD4LOSTLEGACY-J007\\u0026quot;}}\\\" data-track-click=\\\"ctaWithPrice:subscribe\\\" data-telemetry-meta=\\\"{\\u0026quot;conceptId\\u0026quot;:\\u0026quot;205354\\u0026quot;,\\u0026quot;ctaIndex\\u0026quot;:0,\\u0026quot;ctaSubType\\u0026quot;:\\u0026quot;upsell_ps_plus_game_catalog\\u0026quot;,\\u0026quot;ctaType\\u0026quot;:\\u0026quot;UPSELL_PS_PLUS_GAME_CATALOG\\u0026quot;,\\u0026quot;interactAction\\u0026quot;:\\u0026quot;click subscribe\\u0026quot;,\\u0026quot;interactCta\\u0026quot;:\\u0026quot;subscribe\\u0026quot;,\\u0026quot;productId\\u0026quot;:\\u0026quot;JP9000-CUSA08347_00-UNCHD4LOSTLEGACY\\u0026quot;,\\u0026quot;productDetail\\u0026quot;:[{\\u0026quot;productId\\u0026quot;:\\u0026quot;JP9000-CUSA08347_00-UNCHD4LOSTLEGACY\\u0026quot;,\\u0026quot;productName\\u0026quot;:\\u0026quot;アンチャーテッド 古代神の秘宝 PlayStation®Hits\\u0026quot;,\\u0026quot;productToSkuIds\\u0026quot;:[\\u0026quot;JP9000-CUSA08347_00-UNCHD4LOSTLEGACY-J007\\u0026quot;],\\u0026quot;productPriceDetail\\u0026quot;:[{\\u0026quot;rewardId\\u0026quot;:\\u0026quot;SUB001-SUBC00002_00-7MMVCT3Q0SK0S2UN\\u0026quot;,\\u0026quot;offerCampaignId\\u0026quot;:null,\\u0026quot;originalPriceFormatted\\u0026quot;:\\u0026quot;¥2,189\\u0026quot;,\\u0026quot;originalPriceValue\\u0026quot;:2189,\\u0026quot;discountPriceFormatted\\u0026quot;:\\u0026quot;含まれます\\u0026quot;,\\u0026quot;discountPriceValue\\u0026quot;:0,\\u0026quot;priceCurrencyCode\\u0026quot;:\\u0026quot;JPY\\u0026quot;,\\u0026quot;offerBranding\\u0026quot;:\\u0026quot;PS_PLUS\\u0026quot;,\\u0026quot;offerQualification\\u0026quot;:[{\\u0026quot;__typename\\u0026quot;:\\u0026quot;Qualification\\u0026quot;,\\u0026quot;type\\u0026quot;:\\u0026quot;ENTITLEMENT_IN_CART\\u0026quot;,\\u0026quot;value\\u0026quot;:\\u0026quot;SUB001-SUBC00002_00-7MMVCT3Q0SK0S2UN\\u0026quot;}],\\u0026quot;offerExclusive\\u0026quot;:true,\\u0026quot;offerApplied\\u0026quot;:false,\\u0026quot;offerApplicability\\u0026quot;:\\u0026quot;UPSELL\\u0026quot;,\\u0026quot;offerIsTiedToSubscription\\u0026quot;:true}]}],\\u0026quot;skuDetail\\u0026quot;:[{\\u0026quot;skuId\\u0026quot;:\\u0026quot;JP9000-CUSA08347_00-UNCHD4LOSTLEGACY-J007\\u0026quot;,\\u0026quot;skuPriceDetail\\u0026quot;:[{\\u0026quot;rewardId\\u0026quot;:\\u0026quot;SUB001-SUBC00002_00-7MMVCT3Q0SK0S2UN\\u0026quot;,\\u0026quot;offerCampaignId\\u0026quot;:null,\\u0026quot;originalPriceFormatted\\u0026quot;:\\u0026quot;¥2,189\\u0026quot;,\\u0026quot;originalPriceValue\\u0026quot;:2189,\\u0026quot;discountPriceFormatted\\u0026quot;:\\u0026quot;含まれます\\u0026quot;,\\u0026quot;discountPriceValue\\u0026quot;:0,\\u0026quot;priceCurrencyCode\\u0026quot;:\\u0026quot;JPY\\u0026quot;,\\u0026quot;offerBranding\\u0026quot;:\\u0026quot;PS_PLUS\\u0026quot;,\\u0026quot;offerQualification\\u0026quot;:[{\\u0026quot;__typename\\u0026quot;:\\u0026quot;Qualification\\u0026quot;,\\u0026quot;type\\u0026quot;:\\u0026quot;ENTITLEMENT_IN_CART\\u0026quot;,\\u0026quot;value\\u0026quot;:\\u0026quot;SUB001-SUBC00002_00-7MMVCT3Q0SK0S2UN\\u0026quot;}],\\u0026quot;offerExclusive\\u0026quot;:true,\\u0026quot;offerApplied\\u0026quot;:false,\\u0026quot;offerApplicability\\u0026quot;:\\u0026quot;UPSELL\\u0026quot;,\\u0026quot;offerIsTiedToSubscription\\u0026quot;:true}],\\u0026quot;skuName\\u0026quot;:\\u0026quot;ゲーム本編\\u0026quot;}],\\u0026quot;titleId\\u0026quot;:\\u0026quot;CUSA08347_00\\u0026quot;}\\\" id class=\\\"psw-fill-x dtm-track psw-button psw-b-0 psw-t-button psw-l-line-center psw-button-sizing psw-button-sizing--medium psw-purchase-button psw-solid-button\\\" type=\\\"button\\\" name value\\u003e\\u003cspan class=\\\"psw-fill-x psw-t-truncate-1 psw-l-space-x-2 \\\"\\u003e購読\\u003c/span\\u003e\\u003c/button\\u003e\\u003cbutton data-qa=\\\"inline-toast#hiddenCta\\\" data-track-click=\\\"ctaWithPrice:addToWishlist\\\" data-telemetry-meta=\\\"{\\u0026quot;productId\\u0026quot;:null,\\u0026quot;conceptId\\u0026quot;:null}\\\" id class=\\\"psw-m-l-4 psw-button psw-b-0 psw-t-button psw-l-line-center psw-button-sizing psw-button-sizing--medium psw-button-sizing--icon-only psw-secondary-button psw-solid-button psw-with-icon\\\" type=\\\"button\\\" name value\\u003e\\u003cspan class=\\\"psw-fill-x psw-l-line-center \\\"\\u003e\\u003cspan data-qa=\\\"inline-toast#hiddenCta#icon\\\" class=\\\"psw-icon psw-icon--unfavorite psw-icon psw-icon-size-2 psw-icon--unfavorite\\\"\\u003e\\u003cdiv class=\\\"psw-hide\\\" data-original-icon-id=\\\"ps-icon:unfavorite\\\"\\u003e\\u003csvg xmlns=\\\"http://www.w3.org/2000/svg\\\"\\u003e\\u003csymbol id=\\\"ps-icon:unfavorite:459\\\" viewbox=\\\"0 0 64 64\\\"\\u003e\\u003cpath fill-rule=\\\"nonzero\\\" stroke=\\\"none\\\" stroke-width=\\\"1\\\" d=\\\"M40.045 12.5c3.052 0 5.9 1.388 7.98 3.785 2.045 2.35 3.205 5.503 3.205 8.859 0 3.222-1.073 6.266-2.97 8.583l-.232.274-16.663 19.161L14.71 34.003c-2.046-2.344-3.208-5.501-3.211-8.859 0-3.35 1.164-6.503 3.21-8.86 2.086-2.398 4.931-3.787 7.975-3.784 3.054 0 5.903 1.387 7.98 3.78.186.213.365.435.537.667l.163.229.164-.231c.086-.116.173-.229.262-.34l.272-.324c2.084-2.398 4.93-3.784 7.982-3.781zm5.715 5.753c-1.529-1.762-3.562-2.753-5.717-2.753-2.153-.002-4.185.987-5.718 2.751-.535.613-1.005 1.362-1.41 2.236l-.17.383-1.385 3.26-1.377-3.264c-.435-1.032-.962-1.909-1.58-2.615-1.528-1.76-3.562-2.751-5.72-2.751-2.144-.002-4.176.99-5.709 2.751-1.568 1.808-2.474 4.262-2.474 6.892.002 2.519.826 4.871 2.264 6.641l.21.249L31.365 48.59l14.398-16.557c1.492-1.716 2.383-4.033 2.46-6.531l.006-.358c0-2.518-.822-4.867-2.26-6.642l-.21-.25z\\\"\\u003e\\u003c/path\\u003e\\u003c/symbol\\u003e\\u003c/svg\\u003e\\u003c/div\\u003e\\u003csvg role=\\\"img\\\"\\u003e\\u003ctitle\\u003e欲しいリストに追加\\u003c/title\\u003e\\u003cuse href=\\\"#ps-icon:unfavorite:459\\\"\\u003e\\u003c/use\\u003e\\u003c/svg\\u003e\\u003c/span\\u003e\\u003c/span\\u003e\\u003c/button\\u003e\\u003c/div\\u003e\\u003cdiv data-qa=\\\"inline-toast#slot2\\\" aria-hidden=\\\"true\\\" style=\\\"transition:opacity 300ms ease-in;opacity:0;transform:rotateX(90deg) translateZ(NaNpx)\\\" class=\\\"psw-fill-x psw-top-left psw-l-line-center\\\"\\u003e\\u003c/div\\u003e\\u003cdiv data-qa=\\\"inline-toast#slot1\\\" aria-hidden=\\\"false\\\" style=\\\"transition:opacity 300ms ease-in;opacity:1;transform:rotateX(0deg) translateZ(NaNpx)\\\" class=\\\"psw-fill-x psw-top-left psw-l-line-center\\\"\\u003e\\u003cbutton data-qa=\\\"mfeUpsell#productEdition2#ctaWithPrice#cta#action\\\" data-track=\\\"{\\u0026quot;eventInfo\\u0026quot;:{\\u0026quot;eventAction\\u0026quot;:\\u0026quot;click\\u0026quot;,\\u0026quot;eventName\\u0026quot;:\\u0026quot;subscribe\\u0026quot;},\\u0026quot;attributes\\u0026quot;:{\\u0026quot;moduleName\\u0026quot;:\\u0026quot;version selector\\u0026quot;,\\u0026quot;assetName\\u0026quot;:\\u0026quot;\\u0026quot;,\\u0026quot;label\\u0026quot;:\\u0026quot;subscribe\\u0026quot;,\\u0026quot;position\\u0026quot;:\\u0026quot;1\\u0026quot;,\\u0026quot;linkUrl\\u0026quot;:\\u0026quot;\\u0026quot;,\\u0026quot;elementType\\u0026quot;:\\u0026quot;button\\u0026quot;,\\u0026quot;userActionFlag\\u0026quot;:false,\\u0026quot;sku\\u0026quot;:\\u0026quot;JP9000-CUSA08347_00-UNCHD4LOSTLEGACY-J007\\u0026quot;}}\\\" data-track-click=\\\"ctaWithPrice:subscribe\\\" data-telemetry-meta=\\\"{\\u0026quot;conceptId\\u0026quot;:\\u0026quot;205354\\u0026quot;,\\u0026quot;ctaIndex\\u0026quot;:0,\\u0026quot;ctaSubType\\u0026quot;:\\u0026quot;upsell_ps_plus_game_catalog\\u0026quot;,\\u0026quot;ctaType\\u0026quot;:\\u0026quot;UPSELL_PS_PLUS_GAME_CATALOG\\u0026quot;,\\u0026quot;interactAction\\u0026quot;:\\u0026quot;click subscribe\\u0026quot;,\\u0026quot;interactCta\\u0026quot;:\\u0026quot;subscribe\\u0026quot;,\\u0026quot;productId\\u0026quot;:\\u0026quot;JP9000-CUSA08347_00-UNCHD4LOSTLEGACY\\u0026quot;,\\u0026quot;productDetail\\u0026quot;:[{\\u0026quot;productId\\u0026quot;:\\u0026quot;JP9000-CUSA08347_00-UNCHD4LOSTLEGACY\\u0026quot;,\\u0026quot;productName\\u0026quot;:\\u0026quot;アンチャーテッド 古代神の秘宝 PlayStation®Hits\\u0026quot;,\\u0026quot;productToSkuIds\\u0026quot;:[\\u0026quot;JP9000-CUSA08347_00-UNCHD4LOSTLEGACY-J007\\u0026quot;],\\u0026quot;productPriceDetail\\u0026quot;:[{\\u0026quot;rewardId\\u0026quot;:\\u0026quot;SUB001-SUBC00002_00-7MMVCT3Q0SK0S2UN\\u0026quot;,\\u0026quot;offerCampaignId\\u0026quot;:null,\\u0026quot;originalPriceFormatted\\u0026quot;:\\u0026quot;¥2,189\\u0026quot;,\\u0026quot;originalPriceValue\\u0026quot;:2189,\\u0026quot;discountPriceFormatted\\u0026quot;:\\u0026quot;含まれます\\u0026quot;,\\u0026quot;discountPriceValue\\u0026quot;:0,\\u0026quot;priceCurrencyCode\\u0026quot;:\\u0026quot;JPY\\u0026quot;,\\u0026quot;offerBranding\\u0026quot;:\\u0026quot;PS_PLUS\\u0026quot;,\\u0026quot;offerQualification\\u0026quot;:[{\\u0026quot;__typename\\u0026quot;:\\u0026quot;Qualification\\u0026quot;,\\u0026quot;type\\u0026quot;:\\u0026quot;ENTITLEMENT_IN_CART\\u0026quot;,\\u0026quot;value\\u0026quot;:\\u0026quot;SUB001-SUBC00002_00-7MMVCT3Q0SK0S2UN\\u0026quot;}],\\u0026quot;offerExclusive\\u0026quot;:true,\\u0026quot;offerApplied\\u0026quot;:false,\\u0026quot;offerApplicability\\u0026quot;:\\u0026quot;UPSELL\\u0026quot;,\\u0026quot;offerIsTiedToSubscription\\u0026quot;:true}]}],\\u0026quot;skuDetail\\u0026quot;:[{\\u0026quot;skuId\\u0026quot;:\\u0026quot;JP9000-CUSA08347_00-UNCHD4LOSTLEGACY-J007\\u0026quot;,\\u0026quot;skuPriceDetail\\u0026quot;:[{\\u0026quot;rewardId\\u0026quot;:\\u0026quot;SUB001-SUBC00002_00-7MMVCT3Q0SK0S2UN\\u0026quot;,\\u0026quot;offerCampaignId\\u0026quot;:null,\\u0026quot;originalPriceFormatted\\u0026quot;:\\u0026quot;¥2,189\\u0026quot;,\\u0026quot;originalPriceValue\\u0026quot;:2189,\\u0026quot;discountPriceFormatted\\u0026quot;:\\u0026quot;含まれます\\u0026quot;,\\u0026quot;discountPriceValue\\u0026quot;:0,\\u0026quot;priceCurrencyCode\\u0026quot;:\\u0026quot;JPY\\u0026quot;,\\u0026quot;offerBranding\\u0026quot;:\\u0026quot;PS_PLUS\\u0026quot;,\\u0026quot;offerQualification\\u0026quot;:[{\\u0026quot;__typename\\u0026quot;:\\u0026quot;Qualification\\u0026quot;,\\u0026quot;type\\u0026quot;:\\u0026quot;ENTITLEMENT_IN_CART\\u0026quot;,\\u0026quot;value\\u0026quot;:\\u0026quot;SUB001-SUBC00002_00-7MMVCT3Q0SK0S2UN\\u0026quot;}],\\u0026quot;offerExclusive\\u0026quot;:true,\\u0026quot;offerApplied\\u0026quot;:false,\\u0026quot;offerApplicability\\u0026quot;:\\u0026quot;UPSELL\\u0026quot;,\\u0026quot;offerIsTiedToSubscription\\u0026quot;:true}],\\u0026quot;skuName\\u0026quot;:\\u0026quot;ゲーム本編\\u0026quot;}],\\u0026quot;titleId\\u0026quot;:\\u0026quot;CUSA08347_00\\u0026quot;}\\\" id class=\\\"psw-fill-x dtm-track psw-button psw-b-0 psw-t-button psw-l-line-center psw-button-sizing psw-button-sizing--medium psw-purchase-button psw-solid-button\\\" type=\\\"button\\\" name value\\u003e\\u003cspan class=\\\"psw-fill-x psw-t-truncate-1 psw-l-space-x-2 \\\"\\u003e購読\\u003c/span\\u003e\\u003c/button\\u003e\\u003cbutton data-qa=\\\"wishlistToggle\\\" data-track-click=\\\"ctaWithPrice:addToWishlist\\\" data-telemetry-meta=\\\"{\\u0026quot;productId\\u0026quot;:null,\\u0026quot;conceptId\\u0026quot;:null}\\\" id class=\\\"psw-m-l-4 psw-button psw-b-0 psw-t-button psw-l-line-center psw-button-sizing psw-button-sizing--medium psw-button-sizing--icon-only psw-secondary-button psw-solid-button psw-with-icon\\\" type=\\\"button\\\" name value\\u003e\\u003cspan class=\\\"psw-fill-x psw-l-line-center \\\"\\u003e\\u003cspan data-qa=\\\"wishlistToggle#icon\\\" class=\\\"psw-icon psw-icon--unfavorite psw-icon psw-icon-size-2 psw-icon--unfavorite\\\"\\u003e\\u003cdiv class=\\\"psw-hide\\\" data-original-icon-id=\\\"ps-icon:unfavorite\\\"\\u003e\\u003csvg xmlns=\\\"http://www.w3.org/2000/svg\\\"\\u003e\\u003csymbol id=\\\"ps-icon:unfavorite:460\\\" viewbox=\\\"0 0 64 64\\\"\\u003e\\u003cpath fill-rule=\\\"nonzero\\\" stroke=\\\"none\\\" stroke-width=\\\"1\\\" d=\\\"M40.045 12.5c3.052 0 5.9 1.388 7.98 3.785 2.045 2.35 3.205 5.503 3.205 8.859 0 3.222-1.073 6.266-2.97 8.583l-.232.274-16.663 19.161L14.71 34.003c-2.046-2.344-3.208-5.501-3.211-8.859 0-3.35 1.164-6.503 3.21-8.86 2.086-2.398 4.931-3.787 7.975-3.784 3.054 0 5.903 1.387 7.98 3.78.186.213.365.435.537.667l.163.229.164-.231c.086-.116.173-.229.262-.34l.272-.324c2.084-2.398 4.93-3.784 7.982-3.781zm5.715 5.753c-1.529-1.762-3.562-2.753-5.717-2.753-2.153-.002-4.185.987-5.718 2.751-.535.613-1.005 1.362-1.41 2.236l-.17.383-1.385 3.26-1.377-3.264c-.435-1.032-.962-1.909-1.58-2.615-1.528-1.76-3.562-2.751-5.72-2.751-2.144-.002-4.176.99-5.709 2.751-1.568 1.808-2.474 4.262-2.474 6.892.002 2.519.826 4.871 2.264 6.641l.21.249L31.365 48.59l14.398-16.557c1.492-1.716 2.383-4.033 2.46-6.531l.006-.358c0-2.518-.822-4.867-2.26-6.642l-.21-.25z\\\"\\u003e\\u003c/path\\u003e\\u003c/symbol\\u003e\\u003c/svg\\u003e\\u003c/div\\u003e\\u003csvg role=\\\"img\\\"\\u003e\\u003ctitle\\u003e欲しいリストに追加\\u003c/title\\u003e\\u003cuse href=\\\"#ps-icon:unfavorite:460\\\"\\u003e\\u003c/use\\u003e\\u003c/svg\\u003e\\u003c/span\\u003e\\u003c/span\\u003e\\u003c/button\\u003e\\u003c/div\\u003e\\u003c/div\\u003e\\u003c/div\\u003e\\u003c/div\\u003e\\u003c/div\\u003e\\u003c/div\\u003e\\u003c/div\\u003e\\u003cdiv class=\\\"psw-layer psw-loading-block psw-r-2\\\" data-qa=\\\"mfeUpsell#productEdition2#ctaWithPrice#loadingOverlay\\\"\\u003e\\u003c/div\\u003e\\u003c/div\\u003e\\u003c/div\\u003e\\u003c/div\\u003e\\u003c/article\\u003e\\u003c/div\\u003e\\u003c/div\\u003e\\u003c/div\\u003e\",\"statusCode\":200},\"info\":{\"text\":\"\\u003cscript id=\\\"env:bee09e80-df30-11ee-b0f6-518e2dc4fd26\\\" type=\\\"application/json\\\"\\u003e{\\\"args\\\":{\\\"conceptId\\\":\\\"205354\\\"},\\\"overrides\\\":{\\\"theme\\\":\\\"dark\\\",\\\"locale\\\":\\\"ja-jp\\\"},\\\"cache\\\":{\\\"Product:JP9000-PPSA05685_00-UNCHARTED4R00000\\\":{\\\"id\\\":\\\"JP9000-PPSA05685_00-UNCHARTED4R00000\\\",\\\"__typename\\\":\\\"Product\\\",\\\"localizedGenres\\\":[{\\\"__typename\\\":\\\"LocalizedGenre\\\",\\\"value\\\":\\\"アクション\\\"},{\\\"__typename\\\":\\\"LocalizedGenre\\\",\\\"value\\\":\\\"アドベンチャー\\\"}],\\\"publisherName\\\":\\\"ソニー・インタラクティブエンタテインメント\\\",\\\"releaseDate\\\":\\\"2022-01-27T15:00:00Z\\\",\\\"spokenLanguages\\\":[\\\"en\\\",\\\"ja\\\"],\\\"spokenLanguagesByPlatform\\\":[{\\\"__typename\\\":\\\"SpokenLanguagesByPlatformElement\\\",\\\"platform\\\":\\\"PS4\\\",\\\"spokenLanguages\\\":[]},{\\\"__typename\\\":\\\"SpokenLanguagesByPlatformElement\\\",\\\"platform\\\":\\\"PS4TEST\\\",\\\"spokenLanguages\\\":[]},{\\\"__typename\\\":\\\"SpokenLanguagesByPlatformElement\\\",\\\"platform\\\":\\\"PS5\\\",\\\"spokenLanguages\\\":[\\\"en\\\",\\\"ja\\\"]},{\\\"__typename\\\":\\\"SpokenLanguagesByPlatformElement\\\",\\\"platform\\\":\\\"PS3\\\",\\\"spokenLanguages\\\":[]},{\\\"__typename\\\":\\\"SpokenLanguagesByPlatformElement\\\",\\\"platform\\\":\\\"VITA\\\",\\\"spokenLanguages\\\":[]},{\\\"__typename\\\":\\\"SpokenLanguagesByPlatformElement\\\",\\\"platform\\\":\\\"\\\",\\\"spokenLanguages\\\":[]}],\\\"screenLanguages\\\":[\\\"en\\\",\\\"ja\\\"],\\\"screenLanguagesByPlatform\\\":[{\\\"__typename\\\":\\\"ScreenLanguagesByPlatformElement\\\",\\\"platform\\\":\\\"PS4\\\",\\\"screenLanguages\\\":[]},{\\\"__typename\\\":\\\"ScreenLanguagesByPlatformElement\\\",\\\"platform\\\":\\\"PS4TEST\\\",\\\"screenLanguages\\\":[]},{\\\"__typename\\\":\\\"ScreenLanguagesByPlatformElement\\\",\\\"platform\\\":\\\"PS5\\\",\\\"screenLanguages\\\":[\\\"en\\\",\\\"ja\\\"]},{\\\"__typename\\\":\\\"ScreenLanguagesByPlatformElement\\\",\\\"platform\\\":\\\"PS3\\\",\\\"screenLanguages\\\":[]},{\\\"__typename\\\":\\\"ScreenLanguagesByPlatformElement\\\",\\\"platform\\\":\\\"VITA\\\",\\\"screenLanguages\\\":[]},{\\\"__typename\\\":\\\"ScreenLanguagesByPlatformElement\\\",\\\"platform\\\":\\\"\\\",\\\"screenLanguages\\\":[]}],\\\"platforms\\\":[\\\"PS5\\\"],\\\"descriptions\\\":[{\\\"__typename\\\":\\\"Description\\\",\\\"type\\\":\\\"SHORT\\\",\\\"subType\\\":\\\"NONE\\\",\\\"value\\\":\\\"冒険に出る準備はいいか？\\\"},{\\\"__typename\\\":\\\"Description\\\",\\\"type\\\":\\\"LONG\\\",\\\"subType\\\":\\\"NONE\\\",\\\"value\\\":\\\"PS4の『アンチャーテッド 海賊王と最後の秘宝』、『アンチャーテッド 古代神の秘宝』、『アンチャーテッド 海賊王と最後の秘宝＆アンチャーテッド 古代神の秘宝デジタルバンドル』のうちいずれか、またはすべてを購入している場合、1,100円（税込）でPS5の『アンチャーテッド トレジャーハンターコレクション』にアップグレードができる権利が取得できます。アップグレードは2022年1月28日より可能です。\\u003cbr/\\u003e\\u003cbr/\\u003e『アンチャーテッド トレジャーハンターコレクション』でトレジャーハンターとして伝説の財宝を求める冒険へ出かけよう。ノーティードッグが手掛ける、まるで映画のような手に汗握るストーリーと、かつてないスケールのアクションが一本に。\\u003cbr/\\u003e\\u003cbr/\\u003e本作では、高い評価と絶大な支持を得たシングルプレイアドベンチャー、『アンチャーテッド 海賊王と最後の秘宝』と『アンチャーテッド 古代神の秘宝』が、PS5™向けに進化したグラフィックとフレームレートでリマスターされて帰ってくる。\\u003cbr/\\u003e\\u003cbr/\\u003e\\u003cbr/\\u003ePlayStation®5の機能：\\u003cbr/\\u003e•\\\\tDualSense™ ワイヤレスコントローラー：ハプティックフィードバックによってパンチ、ジャンプ、ドライビングなどの感覚がリアルに伝わる。さらに、ロープアクションではアダプティブトリガーの抵抗をダイナミックに感じ取れる。 \\u003cbr/\\u003e•\\\\t高速ロード：PS5™本体の超高速SSDにより、冒険が瞬時に始められる。 \\u003cbr/\\u003e•\\\\t3Dオーディオ：『アンチャーテッド トレジャーハンターコレクション』の世界が3Dオーディオによってリアルに感じ取れる。¹  \\u003cbr/\\u003e•\\\\t忠実度モード：鮮やかなネイティブ4K解像度、ターゲット30fpsフレームレートで快適にプレイ。2 \\u003cbr/\\u003e•\\\\tパフォーマンスモード：滑らかなターゲット60fpsでプレイ。\\u003cbr/\\u003eo\\\\t4K対応テレビでは1440pよりスーパーサンプリングされたアップスケール4Kで楽しめます。 \\u003cbr/\\u003eo\\\\t1080p HD対応テレビでは1440pよりスーパーサンプリングされた1080p解像度 （向上したアンチエイリアシング）で楽しめます。\\u003cbr/\\u003e•\\\\tパフォーマンス＋モード：迫力のターゲット120fps³/1080pでプレイ。\\u003cbr/\\u003e\\u003cbr/\\u003ePS4向けソフトウェア（パッケージ版）をお持ちの上で、PS5向けソフトウェア（ダウンロード版）をダウンロードしたりプレイしたりするには、都度PS4版のディスクをPS5に挿入したままにする必要があります。 なお、PS4向けソフトウェア（パッケージ版）からのPS5アップグレードには、ディスクドライブ搭載のPS5本体が必要となります。\\u003cbr/\\u003ePlayStation Plus加入者で、「PS Plusコレクション」より『アンチャーテッド 海賊王と最後の秘宝』を追加料金なしでダウンロードした方は、PS5へのアップグレードの権利は購入いただけません。\\u003cbr/\\u003e\\u003cbr/\\u003e1 3Dオーディオ内蔵TVスピーカー（最新のシステムソフトウェア）または対応ステレオヘッドホン（アナログまたはUSB接続）が必要です。\\u003cbr/\\u003e2 4K/HDR対応テレビまたはディスプレイが必要です。\\u003cbr/\\u003e3 120hz対応ディスプレイが必要です。\\u003cbr/\\u003e\\\"},{\\\"__typename\\\":\\\"Description\\\",\\\"type\\\":\\\"COMPATIBILITY_NOTICE\\\",\\\"subType\\\":\\\"NONE\\\",\\\"value\\\":\\\"オフライン専用\\u003cbr/\\u003e1人のプレイヤー\\u003cbr/\\u003eリモートプレイ対応\\\"},{\\\"__typename\\\":\\\"Description\\\",\\\"type\\\":\\\"LEGAL\\\",\\\"subType\\\":null,\\\"value\\\":\\\"\\u003cbr\\u003eこのコンテンツは、アカウントに登録されている主なPS5(「コンテンツ共有とオフラインプレイ」設定)ではいつでも、その他のPS5の場合には同アカウントでログインした後に、ダウンロードしてプレイすることができます。\\u003cbr\\u003e\\\"},{\\\"__typename\\\":\\\"Description\\\",\\\"type\\\":\\\"LEGAL\\\",\\\"subType\\\":\\\"SCEJ_HEALTH_TEXT\\\",\\\"value\\\":\\\"\\u003cbr\\u003e健康のためのご注意については次のURLをご参照ください：https://www.playstation.com/ja-jp/legal/health-warning/\\u003cbr\\u003e\\\"},{\\\"__typename\\\":\\\"Description\\\",\\\"type\\\":\\\"LEGAL\\\",\\\"subType\\\":\\\"PUBLISHER\\\",\\\"value\\\":\\\"\\u003cbr/\\u003e©2021 Sony Interactive Entertainment LLC. Created and developed by Naughty Dog LLC. アンチャーテッド および アンチャーテッド トレジャーハンターコレクション は、株式会社ソニー・インタラクティブエンタテインメントの商標です。\\u003cbr/\\u003e\\u003cbr/\\u003e・JASRAC許諾番号：6718117058Y43030\\u003cbr/\\u003e\\\"}],\\\"type\\\":\\\"GAME\\\"},\\\"Concept:205354\\\":{\\\"id\\\":\\\"205354\\\",\\\"__typename\\\":\\\"Concept\\\",\\\"invariantName\\\":\\\"UNCHARTED: Legacy of Thieves Collection\\\",\\\"localizedGenres\\\":[{\\\"__typename\\\":\\\"LocalizedGenre\\\",\\\"value\\\":\\\"アクション\\\"},{\\\"__typename\\\":\\\"LocalizedGenre\\\",\\\"value\\\":\\\"アドベンチャー\\\"}],\\\"publisherName\\\":\\\"ソニー・インタラクティブエンタテインメント\\\",\\\"releaseDate\\\":{\\\"__typename\\\":\\\"ReleaseDate\\\",\\\"type\\\":\\\"DAY_MONTH_YEAR\\\",\\\"value\\\":\\\"2016-05-09T00:00:00Z\\\"},\\\"descriptions\\\":[{\\\"__typename\\\":\\\"Description\\\",\\\"type\\\":\\\"SHORT\\\",\\\"subType\\\":\\\"NONE\\\",\\\"value\\\":\\\"冒険に出る準備はいいか？\\\"},{\\\"__typename\\\":\\\"Description\\\",\\\"type\\\":\\\"LONG\\\",\\\"subType\\\":\\\"NONE\\\",\\\"value\\\":\\\"アクションアドベンチャーの決定版「アンチャーテッド」シリーズ最新作がPlayStation®4で登場！\\u003cbr/\\u003e\\u003cbr/\\u003e財宝を求め世界中を舞台に繰り広げられるストーリーや興奮必至のアクションなどが高く評価されている「アンチャーテッド」シリーズは全世界で300以上のアワードを受賞するなど、まさにアクションアドベンチャーの決定版。\\u003cbr/\\u003e\\u003cbr/\\u003e最新作『アンチャーテッド 海賊王と最後の秘宝』は、シリーズ最高のグラフィックスと進化したアクションプレイ、深みを増したストーリーで、 これまで以上の興奮と感動をお届けする。ロープやハーケンの登場でさらに楽しくなったアクションに、さまざまな戦術で戦えるようになったコンバット、驚嘆のクオリティーで作りあげられた圧倒的な美しさのステージ、探索の自由さなどが加わり、軽妙かつ味わいのあるキャラ同士の掛け合いも絶好調。10年間の歴史と技術が詰め込まれた、ノーティードッグの集大成にふさわしい出来ばえの作品となっている。\\u003cbr/\\u003e\\u003cbr/\\u003e＜ストーリー＞\\u003cbr/\\u003e長年冒険を共にしたエレナと結ばれ、平和な家庭生活を楽しんでいたネイト（ネイサン・ドレイク）。だが、あるきっかけから、伝説の大海賊「ヘンリー・エイブリ―」が遺したとされる莫大な財宝を求めて、再会した兄のサムやサリーと共に再び危険な冒険へと乗り出すことになる。かつての仲間や民間軍事会社を率いる最強の女兵士も絡んでの争奪戦は、世界各地を舞台にかつてない規模で展開する。\\\"},{\\\"__typename\\\":\\\"Description\\\",\\\"type\\\":\\\"LEGAL\\\",\\\"subType\\\":\\\"PUBLISHER\\\",\\\"value\\\":\\\"©2016 Sony Interactive Entertainment LLC. Created and developed by Naughty Dog LLC\\\"}],\\\"defaultProduct\\\":{\\\"__ref\\\":\\\"Product:JP9000-PPSA05685_00-UNCHARTED4R00000\\\"}},\\\"ROOT_QUERY\\\":{\\\"__typename\\\":\\\"Query\\\",\\\"conceptRetrieve({\\\\\\\"conceptId\\\\\\\":\\\\\\\"205354\\\\\\\"})\\\":{\\\"__ref\\\":\\\"Concept:205354\\\"}}},\\\"translations\\\":{\\\"msgid_language_en_gb\\\":\\\"\\\",\\\"msgid_language_en\\\":\\\"英語\\\",\\\"msgid_language_ja_jp\\\":\\\"\\\",\\\"msgid_language_ja\\\":\\\"日本語\\\",\\\"msgid_platform\\\":\\\"プラットフォーム\\\",\\\"msgid_date_separator\\\":\\\"/\\\",\\\"msgid_release\\\":\\\"発売日\\\",\\\"msgid_publisher_no_colon\\\":\\\"メーカー\\\",\\\"msgid_genre\\\":\\\"ジャンル\\\",\\\"msgid_voice\\\":\\\"音声\\\",\\\"msgid_screen_languages\\\":\\\"表示言語\\\"}}\\u003c/script\\u003e\\u003cdiv data-mfe-name=\\\"gameInfo\\\" class=\\\"psw-root psw-dark-theme\\\" data-initial=\\\"env:bee09e80-df30-11ee-b0f6-518e2dc4fd26\\\"\\u003e\\u003cdiv data-qa=\\\"gameInfo\\\" class=\\\"psw-c-bg-0 psw-t-secondary psw-l-grid\\\" data-reactroot\\u003e\\u003cdiv class=\\\"psw-l-w-1/4 psw-l-w-1/6@tablet-s psw-l-w-1/6@tablet-l psw-l-exclude@below-tablet-s\\\"\\u003e\\u003c/div\\u003e\\u003cdiv class=\\\"psw-l-w-1/1 psw-l-w-1/3@tablet-s psw-l-w-1/3@tablet-l psw-l-w-1/4@laptop psw-l-w-1/4@desktop psw-l-w-1/4@max\\\"\\u003e\\u003cdl data-qa=\\\"gameInfo#releaseInformation\\\" class=\\\"psw-l-grid psw-fill-x psw-m-y-0\\\"\\u003e\\u003cdt class=\\\"psw-p-l-6 psw-p-l-0@tablet-s psw-l-w-1/2 psw-l-w-1/6@tablet-s psw-l-w-1/6@tablet-l psw-l-w-1/24@laptop psw-l-w-1/12@desktop psw-l-w-1/12@max\\\" data-qa=\\\"gameInfo#releaseInformation#platform-key\\\"\\u003eプラットフォーム:\\u003c/dt\\u003e\\u003cdd class=\\\"psw-p-r-6 psw-p-r-0@tablet-s psw-t-bold psw-l-w-1/2 psw-l-w-1/6@tablet-s psw-l-w-1/6@tablet-l psw-l-w-1/8@laptop psw-l-w-1/6@desktop psw-l-w-1/6@max\\\" data-qa=\\\"gameInfo#releaseInformation#platform-value\\\"\\u003ePS5\\u003c/dd\\u003e\\u003cdt class=\\\"psw-p-l-6 psw-p-l-0@tablet-s psw-l-w-1/2 psw-l-w-1/6@tablet-s psw-l-w-1/6@tablet-l psw-l-w-1/24@laptop psw-l-w-1/12@desktop psw-l-w-1/12@max\\\" data-qa=\\\"gameInfo#releaseInformation#releaseDate-key\\\"\\u003e発売日:\\u003c/dt\\u003e\\u003cdd class=\\\"psw-p-r-6 psw-p-r-0@tablet-s psw-t-bold psw-l-w-1/2 psw-l-w-1/6@tablet-s psw-l-w-1/6@tablet-l psw-l-w-1/8@laptop psw-l-w-1/6@desktop psw-l-w-1/6@max\\\" data-qa=\\\"gameInfo#releaseInformation#releaseDate-value\\\"\\u003e2022/1/27\\u003c/dd\\u003e\\u003cdt class=\\\"psw-p-l-6 psw-p-l-0@tablet-s psw-l-w-1/2 psw-l-w-1/6@tablet-s psw-l-w-1/6@tablet-l psw-l-w-1/24@laptop psw-l-w-1/12@desktop psw-l-w-1/12@max\\\" data-qa=\\\"gameInfo#releaseInformation#publisher-key\\\"\\u003eメーカー:\\u003c/dt\\u003e\\u003cdd class=\\\"psw-p-r-6 psw-p-r-0@tablet-s psw-t-bold psw-l-w-1/2 psw-l-w-1/6@tablet-s psw-l-w-1/6@tablet-l psw-l-w-1/8@laptop psw-l-w-1/6@desktop psw-l-w-1/6@max\\\" data-qa=\\\"gameInfo#releaseInformation#publisher-value\\\"\\u003eソニー・インタラクティブエンタテインメント\\u003c/dd\\u003e\\u003cdt class=\\\"psw-p-l-6 psw-p-l-0@tablet-s psw-l-w-1/2 psw-l-w-1/6@tablet-s psw-l-w-1/6@tablet-l psw-l-w-1/24@laptop psw-l-w-1/12@desktop psw-l-w-1/12@max\\\" data-qa=\\\"gameInfo#releaseInformation#genre-key\\\"\\u003eジャンル:\\u003c/dt\\u003e\\u003cdd class=\\\"psw-p-r-6 psw-p-r-0@tablet-s psw-t-bold psw-l-w-1/2 psw-l-w-1/6@tablet-s psw-l-w-1/6@tablet-l psw-l-w-1/8@laptop psw-l-w-1/6@desktop psw-l-w-1/6@max\\\" data-qa=\\\"gameInfo#releaseInformation#genre-value\\\"\\u003e\\u003cspan style=\\\"text-transform:capitalize\\\"\\u003eアクション, アドベンチャー\\u003c/span\\u003e\\u003c/dd\\u003e\\u003cdt class=\\\"psw-p-l-6 psw-p-l-0@tablet-s psw-l-w-1/2 psw-l-w-1/6@tablet-s psw-l-w-1/6@tablet-l psw-l-w-1/24@laptop psw-l-w-1/12@desktop psw-l-w-1/12@max\\\" data-qa=\\\"gameInfo#releaseInformation#voice-key\\\"\\u003e音声:\\u003c/dt\\u003e\\u003cdd class=\\\"psw-p-r-6 psw-p-r-0@tablet-s psw-t-bold psw-l-w-1/2 psw-l-w-1/6@tablet-s psw-l-w-1/6@tablet-l psw-l-w-1/8@laptop psw-l-w-1/6@desktop psw-l-w-1/6@max\\\" data-qa=\\\"gameInfo#releaseInformation#voice-value\\\"\\u003e日本語, 英語\\u003c/dd\\u003e\\u003cdt class=\\\"psw-p-l-6 psw-p-l-0@tablet-s psw-l-w-1/2 psw-l-w-1/6@tablet-s psw-l-w-1/6@tablet-l psw-l-w-1/24@laptop psw-l-w-1/12@desktop psw-l-w-1/12@max\\\" data-qa=\\\"gameInfo#releaseInformation#subtitles-key\\\"\\u003e表示言語:\\u003c/dt\\u003e\\u003cdd class=\\\"psw-p-r-6 psw-p-r-0@tablet-s psw-t-bold psw-l-w-1/2 psw-l-w-1/6@tablet-s psw-l-w-1/6@tablet-l psw-l-w-1/8@laptop psw-l-w-1/6@desktop psw-l-w-1/6@max\\\" data-qa=\\\"gameInfo#releaseInformation#subtitles-value\\\"\\u003e日本語, 英語\\u003c/dd\\u003e\\u003c/dl\\u003e\\u003c/div\\u003e\\u003cdiv class=\\\"psw-m-t-7 psw-l-exclude@tablet-s\\\"\\u003e\\u003c/div\\u003e\\u003cdiv class=\\\"psw-l-w-1/24 psw-l-exclude@below-desktop\\\"\\u003e\\u003c/div\\u003e\\u003cdiv data-qa=\\\"gameInfo#legalText\\\" class=\\\"psw-t-preserve psw-l-w-1/1 psw-l-w-1/3@tablet-s psw-l-w-1/3@tablet-l psw-l-w-5/24@laptop psw-l-w-5/24@desktop psw-l-w-5/24@max psw-p-x-6 psw-p-x-0@tablet-s\\\"\\u003eこのコンテンツは、アカウントに登録されている主なPS5(「コンテンツ共有とオフラインプレイ」設定)ではいつでも、その他のPS5の場合には同アカウントでログインした後に、ダウンロードしてプレイすることができます。\\u003cbr /\\u003e\\u003cbr /\\u003e健康のためのご注意については次のURLをご参照ください：https://www.playstation.com/ja-jp/legal/health-warning/\\u003c/div\\u003e\\u003c/div\\u003e\\u003c/div\\u003e\",\"statusCode\":200},\"overview\":{\"text\":\"\\u003cdiv data-mfe-name=\\\"gameOverview\\\" class=\\\"psw-root psw-dark-theme\\\" data-initial=\\\"env:bee6b900-df30-11ee-8edf-e90e3592ba9b\\\"\\u003e\\u003cdiv class=\\\"psw-l-grid\\\" data-reactroot\\u003e\\u003cdiv class=\\\"psw-l-exclude@below-mobile-l psw-l-w-1/6@tablet-s psw-l-w-1/6@tablet-l psw-l-w-1/4@laptop psw-l-w-1/4@desktop psw-l-w-1/4@max\\\"\\u003e\\u003c/div\\u003e\\u003cdiv class=\\\"psw-l-w-1/1 psw-l-w-2/3@tablet-s psw-l-w-2/3@tablet-l psw-l-w-1/2@laptop psw-l-w-1/2@desktop psw-l-w-1/2@max\\\"\\u003e\\u003cp class=\\\"psw-c-t-2 psw-p-x-7 psw-p-y-6 psw-p-x-6@below-tablet-s psw-m-sub-x-7 psw-m-auto@below-tablet-s psw-c-bg-card-1\\\" data-qa=\\\"mfe-game-overview#description\\\"\\u003ePS4の『アンチャーテッド 海賊王と最後の秘宝』、『アンチャーテッド 古代神の秘宝』、『アンチャーテッド 海賊王と最後の秘宝＆アンチャーテッド 古代神の秘宝デジタルバンドル』のうちいずれか、またはすべてを購入している場合、1,100円（税込）でPS5の『アンチャーテッド トレジャーハンターコレクション』にアップグレードができる権利が取得できます。アップグレードは2022年1月28日より可能です。\\u003cbr /\\u003e\\u003cbr /\\u003e『アンチャーテッド トレジャーハンターコレクション』でトレジャーハンターとして伝説の財宝を求める冒険へ出かけよう。ノーティードッグが手掛ける、まるで映画のような手に汗握るストーリーと、かつてないスケールのアクションが一本に。\\u003cbr /\\u003e\\u003cbr /\\u003e本作では、高い評価と絶大な支持を得たシングルプレイアドベンチャー、『アンチャーテッド 海賊王と最後の秘宝』と『アンチャーテッド 古代神の秘宝』が、PS5™向けに進化したグラフィックとフレームレートでリマスターされて帰ってくる。\\u003cbr /\\u003e\\u003cbr /\\u003e\\u003cbr /\\u003ePlayStation®5の機能：\\u003cbr /\\u003e•\\tDualSense™ ワイヤレスコントローラー：ハプティックフィードバックによってパンチ、ジャンプ、ドライビングなどの感覚がリアルに伝わる。さらに、ロープアクションではアダプティブトリガーの抵抗をダイナミックに感じ取れる。 \\u003cbr /\\u003e•\\t高速ロード：PS5™本体の超高速SSDにより、冒険が瞬時に始められる。 \\u003cbr /\\u003e•\\t3Dオーディオ：『アンチャーテッド トレジャーハンターコレクション』の世界が3Dオーディオによってリアルに感じ取れる。¹  \\u003cbr /\\u003e•\\t忠実度モード：鮮やかなネイティブ4K解像度、ターゲット30fpsフレームレートで快適にプレイ。2 \\u003cbr /\\u003e•\\tパフォーマンスモード：滑らかなターゲット60fpsでプレイ。\\u003cbr /\\u003eo\\t4K対応テレビでは1440pよりスーパーサンプリングされたアップスケール4Kで楽しめます。 \\u003cbr /\\u003eo\\t1080p HD対応テレビでは1440pよりスーパーサンプリングされた1080p解像度 （向上したアンチエイリアシング）で楽しめます。\\u003cbr /\\u003e•\\tパフォーマンス＋モード：迫力のターゲット120fps³/1080pでプレイ。\\u003cbr /\\u003e\\u003cbr /\\u003ePS4向けソフトウェア（パッケージ版）をお持ちの上で、PS5向けソフトウェア（ダウンロード版）をダウンロードしたりプレイしたりするには、都度PS4版のディスクをPS5に挿入したままにする必要があります。 なお、PS4向けソフトウェア（パッケージ版）からのPS5アップグレードには、ディスクドライブ搭載のPS5本体が必要となります。\\u003cbr /\\u003ePlayStation Plus加入者で、「PS Plusコレクション」より『アンチャーテッド 海賊王と最後の秘宝』を追加料金なしでダウンロードした方は、PS5へのアップグレードの権利は購入いただけません。\\u003cbr /\\u003e\\u003cbr /\\u003e1 3Dオーディオ内蔵TVスピーカー（最新のシステムソフトウェア）または対応ステレオヘッドホン（アナログまたはUSB接続）が必要です。\\u003cbr /\\u003e2 4K/HDR対応テレビまたはディスプレイが必要です。\\u003cbr /\\u003e3 120hz対応ディスプレイが必要です。\\u003c/p\\u003e\\u003c/div\\u003e\\u003c/div\\u003e\\u003c/div\\u003e\",\"statusCode\":200},\"publisher-legal\":{\"text\":\"\\u003cscript id=\\\"env:bedf3ef0-df30-11ee-b30f-351cb7130bd5\\\" type=\\\"application/json\\\"\\u003e{\\\"args\\\":{\\\"conceptId\\\":\\\"205354\\\"},\\\"overrides\\\":{\\\"theme\\\":\\\"dark\\\",\\\"locale\\\":\\\"ja-jp\\\"},\\\"cache\\\":{\\\"Product:JP9000-PPSA05685_00-UNCHARTED4R00000\\\":{\\\"id\\\":\\\"JP9000-PPSA05685_00-UNCHARTED4R00000\\\",\\\"__typename\\\":\\\"Product\\\",\\\"privacyPolicy\\\":null,\\\"publisherName\\\":\\\"ソニー・インタラクティブエンタテインメント\\\",\\\"descriptions\\\":[{\\\"__typename\\\":\\\"Description\\\",\\\"type\\\":\\\"SHORT\\\",\\\"subType\\\":\\\"NONE\\\",\\\"value\\\":\\\"冒険に出る準備はいいか？\\\"},{\\\"__typename\\\":\\\"Description\\\",\\\"type\\\":\\\"LONG\\\",\\\"subType\\\":\\\"NONE\\\",\\\"value\\\":\\\"PS4の『アンチャーテッド 海賊王と最後の秘宝』、『アンチャーテッド 古代神の秘宝』、『アンチャーテッド 海賊王と最後の秘宝＆アンチャーテッド 古代神の秘宝デジタルバンドル』のうちいずれか、またはすべてを購入している場合、1,100円（税込）でPS5の『アンチャーテッド トレジャーハンターコレクション』にアップグレードができる権利が取得できます。アップグレードは2022年1月28日より可能です。\\u003cbr/\\u003e\\u003cbr/\\u003e『アンチャーテッド トレジャーハンターコレクション』でトレジャーハンターとして伝説の財宝を求める冒険へ出かけよう。ノーティードッグが手掛ける、まるで映画のような手に汗握るストーリーと、かつてないスケールのアクションが一本に。\\u003cbr/\\u003e\\u003cbr/\\u003e本作では、高い評価と絶大な支持を得たシングルプレイアドベンチャー、『アンチャーテッド 海賊王と最後の秘宝』と『アンチャーテッド 古代神の秘宝』が、PS5™向けに進化したグラフィックとフレームレートでリマスターされて帰ってくる。\\u003cbr/\\u003e\\u003cbr/\\u003e\\u003cbr/\\u003ePlayStation®5の機能：\\u003cbr/\\u003e•\\\\tDualSense™ ワイヤレスコントローラー：ハプティックフィードバックによってパンチ、ジャンプ、ドライビングなどの感覚がリアルに伝わる。さらに、ロープアクションではアダプティブトリガーの抵抗をダイナミックに感じ取れる。 \\u003cbr/\\u003e•\\\\t高速ロード：PS5™本体の超高速SSDにより、冒険が瞬時に始められる。 \\u003cbr/\\u003e•\\\\t3Dオーディオ：『アンチャーテッド トレジャーハンターコレクション』の世界が3Dオーディオによってリアルに感じ取れる。¹  \\u003cbr/\\u003e•\\\\t忠実度モード：鮮やかなネイティブ4K解像度、ターゲット30fpsフレームレートで快適にプレイ。2 \\u003cbr/\\u003e•\\\\tパフォーマンスモード：滑らかなターゲット60fpsでプレイ。\\u003cbr/\\u003eo\\\\t4K対応テレビでは1440pよりスーパーサンプリングされたアップスケール4Kで楽しめます。 \\u003cbr/\\u003eo\\\\t1080p HD対応テレビでは1440pよりスーパーサンプリングされた1080p解像度 （向上したアンチエイリアシング）で楽しめます。\\u003cbr/\\u003e•\\\\tパフォーマンス＋モード：迫力のターゲット120fps³/1080pでプレイ。\\u003cbr/\\u003e\\u003cbr/\\u003ePS4向けソフトウェア（パッケージ版）をお持ちの上で、PS5向けソフトウェア（ダウンロード版）をダウンロードしたりプレイしたりするには、都度PS4版のディスクをPS5に挿入したままにする必要があります。 なお、PS4向けソフトウェア（パッケージ版）からのPS5アップグレードには、ディスクドライブ搭載のPS5本体が必要となります。\\u003cbr/\\u003ePlayStation Plus加入者で、「PS Plusコレクション」より『アンチャーテッド 海賊王と最後の秘宝』を追加料金なしでダウンロードした方は、PS5へのアップグレードの権利は購入いただけません。\\u003cbr/\\u003e\\u003cbr/\\u003e1 3Dオーディオ内蔵TVスピーカー（最新のシステムソフトウェア）または対応ステレオヘッドホン（アナログまたはUSB接続）が必要です。\\u003cbr/\\u003e2 4K/HDR対応テレビまたはディスプレイが必要です。\\u003cbr/\\u003e3 120hz対応ディスプレイが必要です。\\u003cbr/\\u003e\\\"},{\\\"__typename\\\":\\\"Description\\\",\\\"type\\\":\\\"COMPATIBILITY_NOTICE\\\",\\\"subType\\\":\\\"NONE\\\",\\\"value\\\":\\\"オフライン専用\\u003cbr/\\u003e1人のプレイヤー\\u003cbr/\\u003eリモートプレイ対応\\\"},{\\\"__typename\\\":\\\"Description\\\",\\\"type\\\":\\\"LEGAL\\\",\\\"subType\\\":null,\\\"value\\\":\\\"\\u003cbr\\u003eこのコンテンツは、アカウントに登録されている主なPS5(「コンテンツ共有とオフラインプレイ」設定)ではいつでも、その他のPS5の場合には同アカウントでログインした後に、ダウンロードしてプレイすることができます。\\u003cbr\\u003e\\\"},{\\\"__typename\\\":\\\"Description\\\",\\\"type\\\":\\\"LEGAL\\\",\\\"subType\\\":\\\"SCEJ_HEALTH_TEXT\\\",\\\"value\\\":\\\"\\u003cbr\\u003e健康のためのご注意については次のURLをご参照ください：https://www.playstation.com/ja-jp/legal/health-warning/\\u003cbr\\u003e\\\"},{\\\"__typename\\\":\\\"Description\\\",\\\"type\\\":\\\"LEGAL\\\",\\\"subType\\\":\\\"PUBLISHER\\\",\\\"value\\\":\\\"\\u003cbr/\\u003e©2021 Sony Interactive Entertainment LLC. Created and developed by Naughty Dog LLC. アンチャーテッド および アンチャーテッド トレジャーハンターコレクション は、株式会社ソニー・インタラクティブエンタテインメントの商標です。\\u003cbr/\\u003e\\u003cbr/\\u003e・JASRAC許諾番号：6718117058Y43030\\u003cbr/\\u003e\\\"}]},\\\"Concept:205354\\\":{\\\"id\\\":\\\"205354\\\",\\\"__typename\\\":\\\"Concept\\\",\\\"defaultProduct\\\":{\\\"__ref\\\":\\\"Product:JP9000-PPSA05685_00-UNCHARTED4R00000\\\"},\\\"privacyPolicy\\\":null,\\\"publisherName\\\":\\\"ソニー・インタラクティブエンタテインメント\\\",\\\"descriptions\\\":[{\\\"__typename\\\":\\\"Description\\\",\\\"type\\\":\\\"SHORT\\\",\\\"subType\\\":\\\"NONE\\\",\\\"value\\\":\\\"冒険に出る準備はいいか？\\\"},{\\\"__typename\\\":\\\"Description\\\",\\\"type\\\":\\\"LONG\\\",\\\"subType\\\":\\\"NONE\\\",\\\"value\\\":\\\"アクションアドベンチャーの決定版「アンチャーテッド」シリーズ最新作がPlayStation®4で登場！\\u003cbr/\\u003e\\u003cbr/\\u003e財宝を求め世界中を舞台に繰り広げられるストーリーや興奮必至のアクションなどが高く評価されている「アンチャーテッド」シリーズは全世界で300以上のアワードを受賞するなど、まさにアクションアドベンチャーの決定版。\\u003cbr/\\u003e\\u003cbr/\\u003e最新作『アンチャーテッド 海賊王と最後の秘宝』は、シリーズ最高のグラフィックスと進化したアクションプレイ、深みを増したストーリーで、 これまで以上の興奮と感動をお届けする。ロープやハーケンの登場でさらに楽しくなったアクションに、さまざまな戦術で戦えるようになったコンバット、驚嘆のクオリティーで作りあげられた圧倒的な美しさのステージ、探索の自由さなどが加わり、軽妙かつ味わいのあるキャラ同士の掛け合いも絶好調。10年間の歴史と技術が詰め込まれた、ノーティードッグの集大成にふさわしい出来ばえの作品となっている。\\u003cbr/\\u003e\\u003cbr/\\u003e＜ストーリー＞\\u003cbr/\\u003e長年冒険を共にしたエレナと結ばれ、平和な家庭生活を楽しんでいたネイト（ネイサン・ドレイク）。だが、あるきっかけから、伝説の大海賊「ヘンリー・エイブリ―」が遺したとされる莫大な財宝を求めて、再会した兄のサムやサリーと共に再び危険な冒険へと乗り出すことになる。かつての仲間や民間軍事会社を率いる最強の女兵士も絡んでの争奪戦は、世界各地を舞台にかつてない規模で展開する。\\\"},{\\\"__typename\\\":\\\"Description\\\",\\\"type\\\":\\\"LEGAL\\\",\\\"subType\\\":\\\"PUBLISHER\\\",\\\"value\\\":\\\"©2016 Sony Interactive Entertainment LLC. Created and developed by Naughty Dog LLC\\\"}]},\\\"ROOT_QUERY\\\":{\\\"__typename\\\":\\\"Query\\\",\\\"conceptRetrieve({\\\\\\\"conceptId\\\\\\\":\\\\\\\"205354\\\\\\\"})\\\":{\\\"__ref\\\":\\\"Concept:205354\\\"}}},\\\"translations\\\":{}}\\u003c/script\\u003e\\u003cdiv data-mfe-name=\\\"legalText\\\" class=\\\"psw-root psw-dark-theme\\\" data-initial=\\\"env:bedf3ef0-df30-11ee-b30f-351cb7130bd5\\\"\\u003e\\u003cdiv class=\\\"psw-c-bg-0 psw-l-section psw-t-align-c psw-l-w-1/1 psw-l-w-2/3@tablet-s psw-l-w-2/3@tablet-l psw-l-w-2/3@laptop psw-l-w-1/2@desktop psw-l-w-1/2@max\\\" data-qa=\\\"mfe-legal-text\\\" data-reactroot\\u003e\\u003cdiv data-qa=\\\"mfe-legal-text#text\\\"\\u003e©2021 Sony Interactive Entertainment LLC. Created and developed by Naughty Dog LLC. アンチャーテッド および アンチャーテッド トレジャーハンターコレクション は、株式会社ソニー・インタラクティブエンタテインメントの商標です。\\u003cbr /\\u003e\\u003cbr /\\u003e・JASRAC許諾番号：6718117058Y43030\\u003c/div\\u003e\\u003c/div\\u003e\\u003c/div\\u003e\",\"statusCode\":200},\"add-ons\":{\"text\":\"\\u003cscript id=\\\"env:beee8130-df30-11ee-93fe-03278a72a71a\\\" type=\\\"application/json\\\"\\u003e{\\\"args\\\":{\\\"conceptId\\\":\\\"205354\\\"},\\\"overrides\\\":{\\\"theme\\\":\\\"dark\\\",\\\"locale\\\":\\\"ja-jp\\\"},\\\"cache\\\":{\\\"Concept:205354\\\":{\\\"id\\\":\\\"205354\\\",\\\"__typename\\\":\\\"Concept\\\",\\\"invariantName\\\":\\\"UNCHARTED: Legacy of Thieves Collection\\\",\\\"localizedGenres\\\":[{\\\"__typename\\\":\\\"LocalizedGenre\\\",\\\"value\\\":\\\"アクション\\\"},{\\\"__typename\\\":\\\"LocalizedGenre\\\",\\\"value\\\":\\\"アドベンチャー\\\"}]},\\\"Sku:JP9000-CUSA00949_00-P100000000000000-J002\\\":{\\\"id\\\":\\\"JP9000-CUSA00949_00-P100000000000000-J002\\\",\\\"__typename\\\":\\\"Sku\\\",\\\"name\\\":\\\"PS4®用\\\",\\\"type\\\":\\\"STANDARD\\\"},\\\"Product:JP9000-CUSA00949_00-P100000000000000\\\":{\\\"id\\\":\\\"JP9000-CUSA00949_00-P100000000000000\\\",\\\"__typename\\\":\\\"Product\\\",\\\"boxArt\\\":{\\\"__typename\\\":\\\"Media\\\",\\\"url\\\":\\\"https://image.api.playstation.com/cdn/JP9000/CUSA00949_00/Kzaa7Z6M2Zb92hHqtHA2Zz62y6XBFB7l.png\\\",\\\"altText\\\":null},\\\"concept\\\":{\\\"__ref\\\":\\\"Concept:205354\\\"},\\\"contentRating\\\":{\\\"__typename\\\":\\\"ProductContentRating\\\",\\\"name\\\":\\\"CERO_C\\\"},\\\"invariantName\\\":\\\"10000 Uncharted Points\\\",\\\"localizedGenres\\\":[{\\\"__typename\\\":\\\"LocalizedGenre\\\",\\\"value\\\":\\\"アクション\\\"}],\\\"localizedStoreDisplayClassification\\\":\\\"追加コンテンツ\\\",\\\"name\\\":\\\"アンチャーテッドポイント10,000(5,000+ボーナス5,000)\\\",\\\"platforms\\\":[],\\\"skus\\\":[{\\\"__ref\\\":\\\"Sku:JP9000-CUSA00949_00-P100000000000000-J002\\\"}],\\\"storeDisplayClassification\\\":\\\"OTHER\\\",\\\"type\\\":\\\"GAME\\\",\\\"price\\\":{\\\"__typename\\\":\\\"SkuPrice\\\",\\\"discountedPrice\\\":\\\"¥5,500\\\",\\\"discountText\\\":null,\\\"isExclusive\\\":false,\\\"upsellText\\\":null,\\\"upsellServiceBranding\\\":[\\\"NONE\\\"],\\\"serviceBranding\\\":[\\\"NONE\\\"],\\\"basePrice\\\":\\\"¥5,500\\\",\\\"isFree\\\":false,\\\"isTiedToSubscription\\\":false}},\\\"Sku:JP9000-CUSA00949_00-P005000000000000-J002\\\":{\\\"id\\\":\\\"JP9000-CUSA00949_00-P005000000000000-J002\\\",\\\"__typename\\\":\\\"Sku\\\",\\\"name\\\":\\\"PS4®用\\\",\\\"type\\\":\\\"STANDARD\\\"},\\\"Product:JP9000-CUSA00949_00-P005000000000000\\\":{\\\"id\\\":\\\"JP9000-CUSA00949_00-P005000000000000\\\",\\\"__typename\\\":\\\"Product\\\",\\\"boxArt\\\":{\\\"__typename\\\":\\\"Media\\\",\\\"url\\\":\\\"https://image.api.playstation.com/cdn/JP9000/CUSA00949_00/ofGxJfFDcJd8ZbklndhJohSwbKwKiAA7.png\\\",\\\"altText\\\":null},\\\"concept\\\":{\\\"__ref\\\":\\\"Concept:205354\\\"},\\\"contentRating\\\":{\\\"__typename\\\":\\\"ProductContentRating\\\",\\\"name\\\":\\\"CERO_C\\\"},\\\"invariantName\\\":\\\"500 Uncharted Points\\\",\\\"localizedGenres\\\":[{\\\"__typename\\\":\\\"LocalizedGenre\\\",\\\"value\\\":\\\"アクション\\\"}],\\\"localizedStoreDisplayClassification\\\":\\\"追加コンテンツ\\\",\\\"name\\\":\\\"アンチャーテッドポイント500\\\",\\\"platforms\\\":[],\\\"skus\\\":[{\\\"__ref\\\":\\\"Sku:JP9000-CUSA00949_00-P005000000000000-J002\\\"}],\\\"storeDisplayClassification\\\":\\\"OTHER\\\",\\\"type\\\":\\\"GAME\\\",\\\"price\\\":{\\\"__typename\\\":\\\"SkuPrice\\\",\\\"discountedPrice\\\":\\\"¥550\\\",\\\"discountText\\\":null,\\\"isExclusive\\\":false,\\\"upsellText\\\":null,\\\"upsellServiceBranding\\\":[\\\"NONE\\\"],\\\"serviceBranding\\\":[\\\"NONE\\\"],\\\"basePrice\\\":\\\"¥550\\\",\\\"isFree\\\":false,\\\"isTiedToSubscription\\\":false}},\\\"Sku:JP9000-CUSA00949_00-P032000000000000-J002\\\":{\\\"id\\\":\\\"JP9000-CUSA00949_00-P032000000000000-J002\\\",\\\"__typename\\\":\\\"Sku\\\",\\\"name\\\":\\\"PS4®用\\\",\\\"type\\\":\\\"STANDARD\\\"},\\\"Product:JP9000-CUSA00949_00-P032000000000000\\\":{\\\"id\\\":\\\"JP9000-CUSA00949_00-P032000000000000\\\",\\\"__typename\\\":\\\"Product\\\",\\\"boxArt\\\":{\\\"__typename\\\":\\\"Media\\\",\\\"url\\\":\\\"https://image.api.playstation.com/cdn/JP9000/CUSA00949_00/fQugj5rc1K68ay3ZaxZd8jobA98NWZPs.png\\\",\\\"altText\\\":null},\\\"concept\\\":{\\\"__ref\\\":\\\"Concept:205354\\\"},\\\"contentRating\\\":{\\\"__typename\\\":\\\"ProductContentRating\\\",\\\"name\\\":\\\"CERO_C\\\"},\\\"invariantName\\\":\\\"3200 Uncharted Points\\\",\\\"localizedGenres\\\":[{\\\"__typename\\\":\\\"LocalizedGenre\\\",\\\"value\\\":\\\"アクション\\\"}],\\\"localizedStoreDisplayClassification\\\":\\\"追加コンテンツ\\\",\\\"name\\\":\\\"アンチャーテッドポイント3,200(2,000+ボーナス1,200)\\\",\\\"platforms\\\":[],\\\"skus\\\":[{\\\"__ref\\\":\\\"Sku:JP9000-CUSA00949_00-P032000000000000-J002\\\"}],\\\"storeDisplayClassification\\\":\\\"OTHER\\\",\\\"type\\\":\\\"GAME\\\",\\\"price\\\":{\\\"__typename\\\":\\\"SkuPrice\\\",\\\"discountedPrice\\\":\\\"¥2,200\\\",\\\"discountText\\\":null,\\\"isExclusive\\\":false,\\\"upsellText\\\":null,\\\"upsellServiceBranding\\\":[\\\"NONE\\\"],\\\"serviceBranding\\\":[\\\"NONE\\\"],\\\"basePrice\\\":\\\"¥2,200\\\",\\\"isFree\\\":false,\\\"isTiedToSubscription\\\":false}},\\\"Sku:JP9000-CUSA00949_00-P003000000000000-J002\\\":{\\\"id\\\":\\\"JP9000-CUSA00949_00-P003000000000000-J002\\\",\\\"__typename\\\":\\\"Sku\\\",\\\"name\\\":\\\"PS4®用\\\",\\\"type\\\":\\\"STANDARD\\\"},\\\"Product:JP9000-CUSA00949_00-P003000000000000\\\":{\\\"id\\\":\\\"JP9000-CUSA00949_00-P003000000000000\\\",\\\"__typename\\\":\\\"Product\\\",\\\"boxArt\\\":{\\\"__typename\\\":\\\"Media\\\",\\\"url\\\":\\\"https://image.api.playstation.com/cdn/JP9000/CUSA00949_00/hb7CGETh87HPt1PbLUCNAVREvhKP0bbl.png\\\",\\\"altText\\\":null},\\\"concept\\\":{\\\"__ref\\\":\\\"Concept:205354\\\"},\\\"contentRating\\\":{\\\"__typename\\\":\\\"ProductContentRating\\\",\\\"name\\\":\\\"CERO_C\\\"},\\\"invariantName\\\":\\\"300 Uncharted Points\\\",\\\"localizedGenres\\\":[{\\\"__typename\\\":\\\"LocalizedGenre\\\",\\\"value\\\":\\\"アクション\\\"}],\\\"localizedStoreDisplayClassification\\\":\\\"追加コンテンツ\\\",\\\"name\\\":\\\"アンチャーテッドポイント300\\\",\\\"platforms\\\":[],\\\"skus\\\":[{\\\"__ref\\\":\\\"Sku:JP9000-CUSA00949_00-P003000000000000-J002\\\"}],\\\"storeDisplayClassification\\\":\\\"OTHER\\\",\\\"type\\\":\\\"GAME\\\",\\\"price\\\":{\\\"__typename\\\":\\\"SkuPrice\\\",\\\"discountedPrice\\\":\\\"¥330\\\",\\\"discountText\\\":null,\\\"isExclusive\\\":false,\\\"upsellText\\\":null,\\\"upsellServiceBranding\\\":[\\\"NONE\\\"],\\\"serviceBranding\\\":[\\\"NONE\\\"],\\\"basePrice\\\":\\\"¥330\\\",\\\"isFree\\\":false,\\\"isTiedToSubscription\\\":false}},\\\"Sku:JP9000-CUSA00949_00-P015000000000000-J002\\\":{\\\"id\\\":\\\"JP9000-CUSA00949_00-P015000000000000-J002\\\",\\\"__typename\\\":\\\"Sku\\\",\\\"name\\\":\\\"PS4®用\\\",\\\"type\\\":\\\"STANDARD\\\"},\\\"Product:JP9000-CUSA00949_00-P015000000000000\\\":{\\\"id\\\":\\\"JP9000-CUSA00949_00-P015000000000000\\\",\\\"__typename\\\":\\\"Product\\\",\\\"boxArt\\\":{\\\"__typename\\\":\\\"Media\\\",\\\"url\\\":\\\"https://image.api.playstation.com/cdn/JP9000/CUSA00949_00/QDdahJx4SrAMAFxbDAaEnfVhvIOR3guX.png\\\",\\\"altText\\\":null},\\\"concept\\\":{\\\"__ref\\\":\\\"Concept:205354\\\"},\\\"contentRating\\\":{\\\"__typename\\\":\\\"ProductContentRating\\\",\\\"name\\\":\\\"CERO_C\\\"},\\\"invariantName\\\":null,\\\"localizedGenres\\\":[{\\\"__typename\\\":\\\"LocalizedGenre\\\",\\\"value\\\":\\\"アクション\\\"},{\\\"__typename\\\":\\\"LocalizedGenre\\\",\\\"value\\\":\\\"アドベンチャー\\\"}],\\\"localizedStoreDisplayClassification\\\":\\\"ゲーム内通貨\\\",\\\"name\\\":\\\"アンチャーテッドポイント1,500(1,000+ボーナス500)\\\",\\\"platforms\\\":[],\\\"skus\\\":[{\\\"__ref\\\":\\\"Sku:JP9000-CUSA00949_00-P015000000000000-J002\\\"}],\\\"storeDisplayClassification\\\":\\\"VIRTUAL_CURRENCY\\\",\\\"type\\\":\\\"GAME\\\",\\\"price\\\":{\\\"__typename\\\":\\\"SkuPrice\\\",\\\"discountedPrice\\\":\\\"¥1,100\\\",\\\"discountText\\\":null,\\\"isExclusive\\\":false,\\\"upsellText\\\":null,\\\"upsellServiceBranding\\\":[\\\"NONE\\\"],\\\"serviceBranding\\\":[\\\"NONE\\\"],\\\"basePrice\\\":\\\"¥1,100\\\",\\\"isFree\\\":false,\\\"isTiedToSubscription\\\":false}},\\\"Sku:JP9000-CUSA00949_00-P065000000000000-J002\\\":{\\\"id\\\":\\\"JP9000-CUSA00949_00-P065000000000000-J002\\\",\\\"__typename\\\":\\\"Sku\\\",\\\"name\\\":\\\"PS4®用\\\",\\\"type\\\":\\\"STANDARD\\\"},\\\"Product:JP9000-CUSA00949_00-P065000000000000\\\":{\\\"id\\\":\\\"JP9000-CUSA00949_00-P065000000000000\\\",\\\"__typename\\\":\\\"Product\\\",\\\"boxArt\\\":{\\\"__typename\\\":\\\"Media\\\",\\\"url\\\":\\\"https://image.api.playstation.com/cdn/JP9000/CUSA00949_00/lTXdKcMJE2Ph9AYOvZRntrkUoyDhA2Z3.png\\\",\\\"altText\\\":null},\\\"concept\\\":{\\\"__ref\\\":\\\"Concept:205354\\\"},\\\"contentRating\\\":{\\\"__typename\\\":\\\"ProductContentRating\\\",\\\"name\\\":\\\"CERO_C\\\"},\\\"invariantName\\\":\\\"6500 Uncharted Points\\\",\\\"localizedGenres\\\":[{\\\"__typename\\\":\\\"LocalizedGenre\\\",\\\"value\\\":\\\"アクション\\\"}],\\\"localizedStoreDisplayClassification\\\":\\\"追加コンテンツ\\\",\\\"name\\\":\\\"アンチャーテッドポイント6,500(3,500+ボーナス3,000)\\\",\\\"platforms\\\":[],\\\"skus\\\":[{\\\"__ref\\\":\\\"Sku:JP9000-CUSA00949_00-P065000000000000-J002\\\"}],\\\"storeDisplayClassification\\\":\\\"OTHER\\\",\\\"type\\\":\\\"GAME\\\",\\\"price\\\":{\\\"__typename\\\":\\\"SkuPrice\\\",\\\"discountedPrice\\\":\\\"¥3,850\\\",\\\"discountText\\\":null,\\\"isExclusive\\\":false,\\\"upsellText\\\":null,\\\"upsellServiceBranding\\\":[\\\"NONE\\\"],\\\"serviceBranding\\\":[\\\"NONE\\\"],\\\"basePrice\\\":\\\"¥3,850\\\",\\\"isFree\\\":false,\\\"isTiedToSubscription\\\":false}},\\\"Sku:JP9000-CUSA00949_00-PHURBADAGERTAUNT-J001\\\":{\\\"id\\\":\\\"JP9000-CUSA00949_00-PHURBADAGERTAUNT-J001\\\",\\\"__typename\\\":\\\"Sku\\\",\\\"name\\\":\\\"PS4®用\\\",\\\"type\\\":\\\"STANDARD\\\"},\\\"Product:JP9000-CUSA00949_00-PHURBADAGERTAUNT\\\":{\\\"id\\\":\\\"JP9000-CUSA00949_00-PHURBADAGERTAUNT\\\",\\\"__typename\\\":\\\"Product\\\",\\\"boxArt\\\":{\\\"__typename\\\":\\\"Media\\\",\\\"url\\\":\\\"https://image.api.playstation.com/cdn/JP9000/CUSA00949_00/nroxHQp5yBwThSHWbqEMg0gCervedgI9.png\\\",\\\"altText\\\":null},\\\"concept\\\":{\\\"__ref\\\":\\\"Concept:205354\\\"},\\\"contentRating\\\":{\\\"__typename\\\":\\\"ProductContentRating\\\",\\\"name\\\":\\\"CERO_C\\\"},\\\"invariantName\\\":\\\"Uncharted®4 - Phurba Dagger Taunt\\\",\\\"localizedGenres\\\":[{\\\"__typename\\\":\\\"LocalizedGenre\\\",\\\"value\\\":\\\"アクション\\\"}],\\\"localizedStoreDisplayClassification\\\":\\\"アイテム\\\",\\\"name\\\":\\\"オンラインマルチプレイ用 黄金刀のジェスチャー\\\",\\\"platforms\\\":[\\\"PS4\\\"],\\\"skus\\\":[{\\\"__ref\\\":\\\"Sku:JP9000-CUSA00949_00-PHURBADAGERTAUNT-J001\\\"}],\\\"storeDisplayClassification\\\":\\\"ITEM\\\",\\\"type\\\":\\\"GAME\\\",\\\"price\\\":{\\\"__typename\\\":\\\"SkuPrice\\\",\\\"discountedPrice\\\":\\\"ご利用いただけません\\\",\\\"discountText\\\":null,\\\"isExclusive\\\":false,\\\"upsellText\\\":null,\\\"upsellServiceBranding\\\":[],\\\"serviceBranding\\\":null,\\\"basePrice\\\":\\\"ご利用いただけません\\\",\\\"isFree\\\":false,\\\"isTiedToSubscription\\\":null}},\\\"Sku:JP9000-CUSA00949_00-UTLLMPUNLOCK0001-J001\\\":{\\\"id\\\":\\\"JP9000-CUSA00949_00-UTLLMPUNLOCK0001-J001\\\",\\\"__typename\\\":\\\"Sku\\\",\\\"name\\\":\\\"PS4®用\\\",\\\"type\\\":\\\"STANDARD\\\"},\\\"Product:JP9000-CUSA00949_00-UTLLMPUNLOCK0001\\\":{\\\"id\\\":\\\"JP9000-CUSA00949_00-UTLLMPUNLOCK0001\\\",\\\"__typename\\\":\\\"Product\\\",\\\"boxArt\\\":{\\\"__typename\\\":\\\"Media\\\",\\\"url\\\":\\\"https://image.api.playstation.com/cdn/JP9000/CUSA00949_00/RLQ1wYe9XvtBaxrmxuI2LQmmWWRW7ZIW.png\\\",\\\"altText\\\":null},\\\"concept\\\":{\\\"__ref\\\":\\\"Concept:205354\\\"},\\\"contentRating\\\":{\\\"__typename\\\":\\\"ProductContentRating\\\",\\\"name\\\":\\\"CERO_C\\\"},\\\"invariantName\\\":\\\"Uncharted® 4 \\u0026 Uncharted: The Lost Legacy MP Enhancement\\\",\\\"localizedGenres\\\":[{\\\"__typename\\\":\\\"LocalizedGenre\\\",\\\"value\\\":\\\"アクション\\\"}],\\\"localizedStoreDisplayClassification\\\":\\\"追加コンテンツ\\\",\\\"name\\\":\\\"マルチプレイ用初心者応援アップデート「武器＆スキルセット」\\\",\\\"platforms\\\":[\\\"PS4\\\"],\\\"skus\\\":[{\\\"__ref\\\":\\\"Sku:JP9000-CUSA00949_00-UTLLMPUNLOCK0001-J001\\\"}],\\\"storeDisplayClassification\\\":\\\"OTHER\\\",\\\"type\\\":\\\"GAME\\\",\\\"price\\\":{\\\"__typename\\\":\\\"SkuPrice\\\",\\\"discountedPrice\\\":\\\"無料\\\",\\\"discountText\\\":null,\\\"isExclusive\\\":false,\\\"upsellText\\\":null,\\\"upsellServiceBranding\\\":[\\\"NONE\\\"],\\\"serviceBranding\\\":[\\\"NONE\\\"],\\\"basePrice\\\":\\\"無料\\\",\\\"isFree\\\":true,\\\"isTiedToSubscription\\\":false}},\\\"ROOT_QUERY\\\":{\\\"__typename\\\":\\\"Query\\\",\\\"addOnProductsRetrieve({\\\\\\\"conceptId\\\\\\\":\\\\\\\"205354\\\\\\\",\\\\\\\"pageArgs\\\\\\\":{\\\\\\\"size\\\\\\\":48}})\\\":{\\\"__typename\\\":\\\"AddOnProducts\\\",\\\"addOnProducts\\\":[{\\\"__ref\\\":\\\"Product:JP9000-CUSA00949_00-P100000000000000\\\"},{\\\"__ref\\\":\\\"Product:JP9000-CUSA00949_00-P005000000000000\\\"},{\\\"__ref\\\":\\\"Product:JP9000-CUSA00949_00-P032000000000000\\\"},{\\\"__ref\\\":\\\"Product:JP9000-CUSA00949_00-P003000000000000\\\"},{\\\"__ref\\\":\\\"Product:JP9000-CUSA00949_00-P015000000000000\\\"},{\\\"__ref\\\":\\\"Product:JP9000-CUSA00949_00-P065000000000000\\\"},{\\\"__ref\\\":\\\"Product:JP9000-CUSA00949_00-PHURBADAGERTAUNT\\\"},{\\\"__ref\\\":\\\"Product:JP9000-CUSA00949_00-UTLLMPUNLOCK0001\\\"}]}}},\\\"translations\\\":{\\\"msgid_add_ons\\\":\\\"追加コンテンツ\\\",\\\"msgid_view_more\\\":\\\"さらに表示\\\"}}\\u003c/script\\u003e\\u003cdiv data-mfe-name=\\\"addOns\\\" class=\\\"psw-root psw-dark-theme\\\" data-initial=\\\"env:beee8130-df30-11ee-93fe-03278a72a71a\\\"\\u003e\\u003cdiv data-reactroot\\u003e\\u003ch2 data-qa=\\\"add-ons-title\\\" class=\\\"psw-t-title-l psw-t-align-c psw-m-b-9\\\"\\u003e追加コンテンツ\\u003c/h2\\u003e\\u003cdiv class=\\\"psw-preview-grid-list\\\"\\u003e\\u003cul data-qa=\\\"add-ons\\\" class=\\\"psw-l-gap-y-6 psw-preview-size-s psw-grid-list psw-l-grid\\\"\\u003e\\u003cli\\u003e\\u003cdiv data-track-content=\\\"addOns:tileImpression\\\" data-telemetry-meta=\\\"{\\u0026quot;conceptId\\u0026quot;:\\u0026quot;205354\\u0026quot;,\\u0026quot;tile\\u0026quot;:{\\u0026quot;productId\\u0026quot;:\\u0026quot;JP9000-CUSA00949_00-P100000000000000\\u0026quot;},\\u0026quot;tilePosition\\u0026quot;:0}\\\" data-track=\\\"{\\u0026quot;eventInfo\\u0026quot;:{\\u0026quot;eventAction\\u0026quot;:\\u0026quot;impression\\u0026quot;,\\u0026quot;eventName\\u0026quot;:\\u0026quot;add on tile impression\\u0026quot;},\\u0026quot;attributes\\u0026quot;:{\\u0026quot;moduleName\\u0026quot;:\\u0026quot;add ons\\u0026quot;,\\u0026quot;assetName\\u0026quot;:\\u0026quot;\\u0026quot;,\\u0026quot;label\\u0026quot;:\\u0026quot;add on tile\\u0026quot;,\\u0026quot;position\\u0026quot;:\\u0026quot;\\u0026quot;,\\u0026quot;linkUrl\\u0026quot;:\\u0026quot;\\u0026quot;,\\u0026quot;elementType\\u0026quot;:\\u0026quot;\\u0026quot;,\\u0026quot;userActionFlag\\u0026quot;:false}}\\\"\\u003e\\u003c/div\\u003e\\u003ca data-qa data-track=\\\"{\\u0026quot;eventInfo\\u0026quot;:{\\u0026quot;eventAction\\u0026quot;:\\u0026quot;click\\u0026quot;,\\u0026quot;eventName\\u0026quot;:\\u0026quot;click add-on tile\\u0026quot;},\\u0026quot;attributes\\u0026quot;:{\\u0026quot;moduleName\\u0026quot;:\\u0026quot;add ons\\u0026quot;,\\u0026quot;assetName\\u0026quot;:\\u0026quot;\\u0026quot;,\\u0026quot;label\\u0026quot;:\\u0026quot;add on tile\\u0026quot;,\\u0026quot;position\\u0026quot;:\\u0026quot;\\u0026quot;,\\u0026quot;linkUrl\\u0026quot;:\\u0026quot;\\u0026quot;,\\u0026quot;elementType\\u0026quot;:\\u0026quot;link\\u0026quot;,\\u0026quot;userActionFlag\\u0026quot;:true}}\\\" data-track-click=\\\"addOns:addOnTileClick\\\" data-telemetry-meta=\\\"{\\u0026quot;conceptId\\u0026quot;:\\u0026quot;205354\\u0026quot;,\\u0026quot;tile\\u0026quot;:{\\u0026quot;productId\\u0026quot;:\\u0026quot;JP9000-CUSA00949_00-P100000000000000\\u0026quot;},\\u0026quot;tilePosition\\u0026quot;:0}\\\" id class=\\\"psw-link psw-content-link\\\" aria-label type href=\\\"https://store.playstation.com/ja-jp/product/JP9000-CUSA00949_00-P100000000000000\\\" rel=\\\"noopener noreferrer\\\"\\u003e\\u003cdiv class=\\\"psw-product-tile psw-interactive-root\\\" data-qa=\\\"add-ons-grid#0\\\"\\u003e\\u003cdiv data-qa=\\\"add-ons-grid#0#game-art\\\" class=\\\"psw-ally-indicator psw-ally-indicator-gap-1 psw-show-on-hover psw-b-0 psw-game-art psw-fill psw-l-anchor\\\"\\u003e\\u003cdiv class=\\\"psw-game-art__container psw-l-anchor-top-left psw-l-top-left psw-fill psw-r-2 psw-clip\\\"\\u003e\\u003cspan data-qa class=\\\"psw-illustration psw-illustration--default-product-image default-product-img\\\"\\u003e\\u003cdiv class=\\\"psw-hide\\\" data-original-icon-id=\\\"ps-illustration:default-product-image\\\"\\u003e\\u003csvg\\u003e\\u003c/svg\\u003e\\u003c/div\\u003e\\u003csvg aria-hidden=\\\"true\\\" focusable=\\\"false\\\"\\u003e\\u003ctitle\\u003e\\u003c/title\\u003e\\u003cuse href=\\\"#ps-illustration:default-product-image:192\\\"\\u003e\\u003c/use\\u003e\\u003c/svg\\u003e\\u003c/span\\u003e\\u003cspan data-qa=\\\"add-ons-grid#0#game-art#image\\\" style=\\\"width:100%;min-width:100%\\\" class=\\\"psw-media-frame psw-fill-x psw-image psw-media psw-media-interactive psw-aspect-1-1\\\"\\u003e\\u003cimg aria-hidden=\\\"true\\\" loading=\\\"lazy\\\" data-qa=\\\"add-ons-grid#0#game-art#image#preview\\\" class=\\\"psw-blur psw-top-left psw-l-fit-cover\\\" src=\\\"https://image.api.playstation.com/cdn/JP9000/CUSA00949_00/Kzaa7Z6M2Zb92hHqtHA2Zz62y6XBFB7l.png?w=54\\u0026amp;thumb=true\\\" /\\u003e\\u003cnoscript class=\\\"psw-layer\\\"\\u003e\\u003cimg class=\\\"psw-top-left psw-l-fit-cover\\\" loading=\\\"lazy\\\" data-qa=\\\"add-ons-grid#0#game-art#image#image-no-js\\\" src=\\\"https://image.api.playstation.com/cdn/JP9000/CUSA00949_00/Kzaa7Z6M2Zb92hHqtHA2Zz62y6XBFB7l.png\\\" /\\u003e\\u003c/noscript\\u003e\\u003c/span\\u003e\\u003c/div\\u003e\\u003cdiv class=\\\"psw-l-anchor-bottom-left psw-l-bottom-left psw-m-l-3 psw-m-sub-t-3\\\"\\u003e\\u003cdiv class=\\\"psw-l-cluster psw-l-gap-2\\\" data-qa=\\\"add-ons-grid#0#game-art\\\"\\u003e\\u003c/div\\u003e\\u003c/div\\u003e\\u003c/div\\u003e\\u003csection data-qa=\\\"add-ons-grid#0#details\\\" class=\\\"psw-product-tile__details psw-m-t-2\\\"\\u003e\\u003cspan data-qa=\\\"add-ons-grid#0#product-type\\\" class=\\\"psw-product-tile__product-type psw-t-bold psw-t-size-1 psw-t-truncate-1 psw-c-t-2 psw-t-uppercase psw-m-b-1\\\"\\u003e追加コンテンツ\\u003c/span\\u003e\\u003cspan data-qa=\\\"add-ons-grid#0#product-name\\\" class=\\\"psw-t-body psw-c-t-1 psw-t-truncate-2 psw-m-b-2\\\"\\u003eアンチャーテッドポイント10,000(5,000+ボーナス5,000)\\u003c/span\\u003e\\u003cdiv data-qa=\\\"add-ons-grid#0#price\\\" class=\\\"psw-fill-x psw-price psw-l-inline psw-l-line-left-top\\\"\\u003e\\u003cdiv class=\\\"psw-l-line-left-top psw-l-line-wrap psw-clip psw-t-h-body-1\\\"\\u003e\\u003cspan data-qa=\\\"add-ons-grid#0#price#display-price\\\" aria-hidden=\\\"false\\\" class=\\\"psw-m-r-3\\\"\\u003e¥5,500\\u003c/span\\u003e\\u003c/div\\u003e\\u003c/div\\u003e\\u003c/section\\u003e\\u003c/div\\u003e\\u003c/a\\u003e\\u003c/li\\u003e\\u003cli\\u003e\\u003cdiv data-track-content=\\\"addOns:tileImpression\\\" data-telemetry-meta=\\\"{\\u0026quot;conceptId\\u0026quot;:\\u0026quot;205354\\u0026quot;,\\u0026quot;tile\\u0026quot;:{\\u0026quot;productId\\u0026quot;:\\u0026quot;JP9000-CUSA00949_00-P005000000000000\\u0026quot;},\\u0026quot;tilePosition\\u0026quot;:1}\\\" data-track=\\\"{\\u0026quot;eventInfo\\u0026quot;:{\\u0026quot;eventAction\\u0026quot;:\\u0026quot;impression\\u0026quot;,\\u0026quot;eventName\\u0026quot;:\\u0026quot;add on tile impression\\u0026quot;},\\u0026quot;attributes\\u0026quot;:{\\u0026quot;moduleName\\u0026quot;:\\u0026quot;add ons\\u0026quot;,\\u0026quot;assetName\\u0026quot;:\\u0026quot;\\u0026quot;,\\u0026quot;label\\u0026quot;:\\u0026quot;add on tile\\u0026quot;,\\u0026quot;position\\u0026quot;:\\u0026quot;\\u0026quot;,\\u0026quot;linkUrl\\u0026quot;:\\u0026quot;\\u0026quot;,\\u0026quot;elementType\\u0026quot;:\\u0026quot;\\u0026quot;,\\u0026quot;userActionFlag\\u0026quot;:false}}\\\"\\u003e\\u003c/div\\u003e\\u003ca data-qa data-track=\\\"{\\u0026quot;eventInfo\\u0026quot;:{\\u0026quot;eventAction\\u0026quot;:\\u0026quot;click\\u0026quot;,\\u0026quot;eventName\\u0026quot;:\\u0026quot;click add-on tile\\u0026quot;},\\u0026quot;attributes\\u0026quot;:{\\u0026quot;moduleName\\u0026quot;:\\u0026quot;add ons\\u0026quot;,\\u0026quot;assetName\\u0026quot;:\\u0026quot;\\u0026quot;,\\u0026quot;label\\u0026quot;:\\u0026quot;add on tile\\u0026quot;,\\u0026quot;position\\u0026quot;:\\u0026quot;\\u0026quot;,\\u0026quot;linkUrl\\u0026quot;:\\u0026quot;\\u0026quot;,\\u0026quot;elementType\\u0026quot;:\\u0026quot;link\\u0026quot;,\\u0026quot;userActionFlag\\u0026quot;:true}}\\\" data-track-click=\\\"addOns:addOnTileClick\\\" data-telemetry-meta=\\\"{\\u0026quot;conceptId\\u0026quot;:\\u0026quot;205354\\u0026quot;,\\u0026quot;tile\\u0026quot;:{\\u0026quot;productId\\u0026quot;:\\u0026quot;JP9000-CUSA00949_00-P005000000000000\\u0026quot;},\\u0026quot;tilePosition\\u0026quot;:1}\\\" id class=\\\"psw-link psw-content-link\\\" aria-label type href=\\\"https://store.playstation.com/ja-jp/product/JP9000-CUSA00949_00-P005000000000000\\\" rel=\\\"noopener noreferrer\\\"\\u003e\\u003cdiv class=\\\"psw-product-tile psw-interactive-root\\\" data-qa=\\\"add-ons-grid#1\\\"\\u003e\\u003cdiv data-qa=\\\"add-ons-grid#1#game-art\\\" class=\\\"psw-ally-indicator psw-ally-indicator-gap-1 psw-show-on-hover psw-b-0 psw-game-art psw-fill psw-l-anchor\\\"\\u003e\\u003cdiv class=\\\"psw-game-art__container psw-l-anchor-top-left psw-l-top-left psw-fill psw-r-2 psw-clip\\\"\\u003e\\u003cspan data-qa class=\\\"psw-illustration psw-illustration--default-product-image default-product-img\\\"\\u003e\\u003cdiv class=\\\"psw-hide\\\" data-original-icon-id=\\\"ps-illustration:default-product-image\\\"\\u003e\\u003csvg\\u003e\\u003c/svg\\u003e\\u003c/div\\u003e\\u003csvg aria-hidden=\\\"true\\\" focusable=\\\"false\\\"\\u003e\\u003ctitle\\u003e\\u003c/title\\u003e\\u003cuse href=\\\"#ps-illustration:default-product-image:193\\\"\\u003e\\u003c/use\\u003e\\u003c/svg\\u003e\\u003c/span\\u003e\\u003cspan data-qa=\\\"add-ons-grid#1#game-art#image\\\" style=\\\"width:100%;min-width:100%\\\" class=\\\"psw-media-frame psw-fill-x psw-image psw-media psw-media-interactive psw-aspect-1-1\\\"\\u003e\\u003cimg aria-hidden=\\\"true\\\" loading=\\\"lazy\\\" data-qa=\\\"add-ons-grid#1#game-art#image#preview\\\" class=\\\"psw-blur psw-top-left psw-l-fit-cover\\\" src=\\\"https://image.api.playstation.com/cdn/JP9000/CUSA00949_00/ofGxJfFDcJd8ZbklndhJohSwbKwKiAA7.png?w=54\\u0026amp;thumb=true\\\" /\\u003e\\u003cnoscript class=\\\"psw-layer\\\"\\u003e\\u003cimg class=\\\"psw-top-left psw-l-fit-cover\\\" loading=\\\"lazy\\\" data-qa=\\\"add-ons-grid#1#game-art#image#image-no-js\\\" src=\\\"https://image.api.playstation.com/cdn/JP9000/CUSA00949_00/ofGxJfFDcJd8ZbklndhJohSwbKwKiAA7.png\\\" /\\u003e\\u003c/noscript\\u003e\\u003c/span\\u003e\\u003c/div\\u003e\\u003cdiv class=\\\"psw-l-anchor-bottom-left psw-l-bottom-left psw-m-l-3 psw-m-sub-t-3\\\"\\u003e\\u003cdiv class=\\\"psw-l-cluster psw-l-gap-2\\\" data-qa=\\\"add-ons-grid#1#game-art\\\"\\u003e\\u003c/div\\u003e\\u003c/div\\u003e\\u003c/div\\u003e\\u003csection data-qa=\\\"add-ons-grid#1#details\\\" class=\\\"psw-product-tile__details psw-m-t-2\\\"\\u003e\\u003cspan data-qa=\\\"add-ons-grid#1#product-type\\\" class=\\\"psw-product-tile__product-type psw-t-bold psw-t-size-1 psw-t-truncate-1 psw-c-t-2 psw-t-uppercase psw-m-b-1\\\"\\u003e追加コンテンツ\\u003c/span\\u003e\\u003cspan data-qa=\\\"add-ons-grid#1#product-name\\\" class=\\\"psw-t-body psw-c-t-1 psw-t-truncate-2 psw-m-b-2\\\"\\u003eアンチャーテッドポイント500\\u003c/span\\u003e\\u003cdiv data-qa=\\\"add-ons-grid#1#price\\\" class=\\\"psw-fill-x psw-price psw-l-inline psw-l-line-left-top\\\"\\u003e\\u003cdiv class=\\\"psw-l-line-left-top psw-l-line-wrap psw-clip psw-t-h-body-1\\\"\\u003e\\u003cspan data-qa=\\\"add-ons-grid#1#price#display-price\\\" aria-hidden=\\\"false\\\" class=\\\"psw-m-r-3\\\"\\u003e¥550\\u003c/span\\u003e\\u003c/div\\u003e\\u003c/div\\u003e\\u003c/section\\u003e\\u003c/div\\u003e\\u003c/a\\u003e\\u003c/li\\u003e\\u003cli\\u003e\\u003cdiv data-track-content=\\\"addOns:tileImpression\\\" data-telemetry-meta=\\\"{\\u0026quot;conceptId\\u0026quot;:\\u0026quot;205354\\u0026quot;,\\u0026quot;tile\\u0026quot;:{\\u0026quot;productId\\u0026quot;:\\u0026quot;JP9000-CUSA00949_00-P032000000000000\\u0026quot;},\\u0026quot;tilePosition\\u0026quot;:2}\\\" data-track=\\\"{\\u0026quot;eventInfo\\u0026quot;:{\\u0026quot;eventAction\\u0026quot;:\\u0026quot;impression\\u0026quot;,\\u0026quot;eventName\\u0026quot;:\\u0026quot;add on tile impression\\u0026quot;},\\u0026quot;attributes\\u0026quot;:{\\u0026quot;moduleName\\u0026quot;:\\u0026quot;add ons\\u0026quot;,\\u0026quot;assetName\\u0026quot;:\\u0026quot;\\u0026quot;,\\u0026quot;label\\u0026quot;:\\u0026quot;add on tile\\u0026quot;,\\u0026quot;position\\u0026quot;:\\u0026quot;\\u0026quot;,\\u0026quot;linkUrl\\u0026quot;:\\u0026quot;\\u0026quot;,\\u0026quot;elementType\\u0026quot;:\\u0026quot;\\u0026quot;,\\u0026quot;userActionFlag\\u0026quot;:false}}\\\"\\u003e\\u003c/div\\u003e\\u003ca data-qa data-track=\\\"{\\u0026quot;eventInfo\\u0026quot;:{\\u0026quot;eventAction\\u0026quot;:\\u0026quot;click\\u0026quot;,\\u0026quot;eventName\\u0026quot;:\\u0026quot;click add-on tile\\u0026quot;},\\u0026quot;attributes\\u0026quot;:{\\u0026quot;moduleName\\u0026quot;:\\u0026quot;add ons\\u0026quot;,\\u0026quot;assetName\\u0026quot;:\\u0026quot;\\u0026quot;,\\u0026quot;label\\u0026quot;:\\u0026quot;add on tile\\u0026quot;,\\u0026quot;position\\u0026quot;:\\u0026quot;\\u0026quot;,\\u0026quot;linkUrl\\u0026quot;:\\u0026quot;\\u0026quot;,\\u0026quot;elementType\\u0026quot;:\\u0026quot;link\\u0026quot;,\\u0026quot;userActionFlag\\u0026quot;:true}}\\\" data-track-click=\\\"addOns:addOnTileClick\\\" data-telemetry-meta=\\\"{\\u0026quot;conceptId\\u0026quot;:\\u0026quot;205354\\u0026quot;,\\u0026quot;tile\\u0026quot;:{\\u0026quot;productId\\u0026quot;:\\u0026quot;JP9000-CUSA00949_00-P032000000000000\\u0026quot;},\\u0026quot;tilePosition\\u0026quot;:2}\\\" id class=\\\"psw-link psw-content-link\\\" aria-label type href=\\\"https://store.playstation.com/ja-jp/product/JP9000-CUSA00949_00-P032000000000000\\\" rel=\\\"noopener noreferrer\\\"\\u003e\\u003cdiv class=\\\"psw-product-tile psw-interactive-root\\\" data-qa=\\\"add-ons-grid#2\\\"\\u003e\\u003cdiv data-qa=\\\"add-ons-grid#2#game-art\\\" class=\\\"psw-ally-indicator psw-ally-indicator-gap-1 psw-show-on-hover psw-b-0 psw-game-art psw-fill psw-l-anchor\\\"\\u003e\\u003cdiv class=\\\"psw-game-art__container psw-l-anchor-top-left psw-l-top-left psw-fill psw-r-2 psw-clip\\\"\\u003e\\u003cspan data-qa class=\\\"psw-illustration psw-illustration--default-product-image default-product-img\\\"\\u003e\\u003cdiv class=\\\"psw-hide\\\" data-original-icon-id=\\\"ps-illustration:default-product-image\\\"\\u003e\\u003csvg\\u003e\\u003c/svg\\u003e\\u003c/div\\u003e\\u003csvg aria-hidden=\\\"true\\\" focusable=\\\"false\\\"\\u003e\\u003ctitle\\u003e\\u003c/title\\u003e\\u003cuse href=\\\"#ps-illustration:default-product-image:194\\\"\\u003e\\u003c/use\\u003e\\u003c/svg\\u003e\\u003c/span\\u003e\\u003cspan data-qa=\\\"add-ons-grid#2#game-art#image\\\" style=\\\"width:100%;min-width:100%\\\" class=\\\"psw-media-frame psw-fill-x psw-image psw-media psw-media-interactive psw-aspect-1-1\\\"\\u003e\\u003cimg aria-hidden=\\\"true\\\" loading=\\\"lazy\\\" data-qa=\\\"add-ons-grid#2#game-art#image#preview\\\" class=\\\"psw-blur psw-top-left psw-l-fit-cover\\\" src=\\\"https://image.api.playstation.com/cdn/JP9000/CUSA00949_00/fQugj5rc1K68ay3ZaxZd8jobA98NWZPs.png?w=54\\u0026amp;thumb=true\\\" /\\u003e\\u003cnoscript class=\\\"psw-layer\\\"\\u003e\\u003cimg class=\\\"psw-top-left psw-l-fit-cover\\\" loading=\\\"lazy\\\" data-qa=\\\"add-ons-grid#2#game-art#image#image-no-js\\\" src=\\\"https://image.api.playstation.com/cdn/JP9000/CUSA00949_00/fQugj5rc1K68ay3ZaxZd8jobA98NWZPs.png\\\" /\\u003e\\u003c/noscript\\u003e\\u003c/span\\u003e\\u003c/div\\u003e\\u003cdiv class=\\\"psw-l-anchor-bottom-left psw-l-bottom-left psw-m-l-3 psw-m-sub-t-3\\\"\\u003e\\u003cdiv class=\\\"psw-l-cluster psw-l-gap-2\\\" data-qa=\\\"add-ons-grid#2#game-art\\\"\\u003e\\u003c/div\\u003e\\u003c/div\\u003e\\u003c/div\\u003e\\u003csection data-qa=\\\"add-ons-grid#2#details\\\" class=\\\"psw-product-tile__details psw-m-t-2\\\"\\u003e\\u003cspan data-qa=\\\"add-ons-grid#2#product-type\\\" class=\\\"psw-product-tile__product-type psw-t-bold psw-t-size-1 psw-t-truncate-1 psw-c-t-2 psw-t-uppercase psw-m-b-1\\\"\\u003e追加コンテンツ\\u003c/span\\u003e\\u003cspan data-qa=\\\"add-ons-grid#2#product-name\\\" class=\\\"psw-t-body psw-c-t-1 psw-t-truncate-2 psw-m-b-2\\\"\\u003eアンチャーテッドポイント3,200(2,000+ボーナス1,200)\\u003c/span\\u003e\\u003cdiv data-qa=\\\"add-ons-grid#2#price\\\" class=\\\"psw-fill-x psw-price psw-l-inline psw-l-line-left-top\\\"\\u003e\\u003cdiv class=\\\"psw-l-line-left-top psw-l-line-wrap psw-clip psw-t-h-body-1\\\"\\u003e\\u003cspan data-qa=\\\"add-ons-grid#2#price#display-price\\\" aria-hidden=\\\"false\\\" class=\\\"psw-m-r-3\\\"\\u003e¥2,200\\u003c/span\\u003e\\u003c/div\\u003e\\u003c/div\\u003e\\u003c/section\\u003e\\u003c/div\\u003e\\u003c/a\\u003e\\u003c/li\\u003e\\u003cli\\u003e\\u003cdiv data-track-content=\\\"addOns:tileImpression\\\" data-telemetry-meta=\\\"{\\u0026quot;conceptId\\u0026quot;:\\u0026quot;205354\\u0026quot;,\\u0026quot;tile\\u0026quot;:{\\u0026quot;productId\\u0026quot;:\\u0026quot;JP9000-CUSA00949_00-P003000000000000\\u0026quot;},\\u0026quot;tilePosition\\u0026quot;:3}\\\" data-track=\\\"{\\u0026quot;eventInfo\\u0026quot;:{\\u0026quot;eventAction\\u0026quot;:\\u0026quot;impression\\u0026quot;,\\u0026quot;eventName\\u0026quot;:\\u0026quot;add on tile impression\\u0026quot;},\\u0026quot;attributes\\u0026quot;:{\\u0026quot;moduleName\\u0026quot;:\\u0026quot;add ons\\u0026quot;,\\u0026quot;assetName\\u0026quot;:\\u0026quot;\\u0026quot;,\\u0026quot;label\\u0026quot;:\\u0026quot;add on tile\\u0026quot;,\\u0026quot;position\\u0026quot;:\\u0026quot;\\u0026quot;,\\u0026quot;linkUrl\\u0026quot;:\\u0026quot;\\u0026quot;,\\u0026quot;elementType\\u0026quot;:\\u0026quot;\\u0026quot;,\\u0026quot;userActionFlag\\u0026quot;:false}}\\\"\\u003e\\u003c/div\\u003e\\u003ca data-qa data-track=\\\"{\\u0026quot;eventInfo\\u0026quot;:{\\u0026quot;eventAction\\u0026quot;:\\u0026quot;click\\u0026quot;,\\u0026quot;eventName\\u0026quot;:\\u0026quot;click add-on tile\\u0026quot;},\\u0026quot;attributes\\u0026quot;:{\\u0026quot;moduleName\\u0026quot;:\\u0026quot;add ons\\u0026quot;,\\u0026quot;assetName\\u0026quot;:\\u0026quot;\\u0026quot;,\\u0026quot;label\\u0026quot;:\\u0026quot;add on tile\\u0026quot;,\\u0026quot;position\\u0026quot;:\\u0026quot;\\u0026quot;,\\u0026quot;linkUrl\\u0026quot;:\\u0026quot;\\u0026quot;,\\u0026quot;elementType\\u0026quot;:\\u0026quot;link\\u0026quot;,\\u0026quot;userActionFlag\\u0026quot;:true}}\\\" data-track-click=\\\"addOns:addOnTileClick\\\" data-telemetry-meta=\\\"{\\u0026quot;conceptId\\u0026quot;:\\u0026quot;205354\\u0026quot;,\\u0026quot;tile\\u0026quot;:{\\u0026quot;productId\\u0026quot;:\\u0026quot;JP9000-CUSA00949_00-P003000000000000\\u0026quot;},\\u0026quot;tilePosition\\u0026quot;:3}\\\" id class=\\\"psw-link psw-content-link\\\" aria-label type href=\\\"https://store.playstation.com/ja-jp/product/JP9000-CUSA00949_00-P003000000000000\\\" rel=\\\"noopener noreferrer\\\"\\u003e\\u003cdiv class=\\\"psw-product-tile psw-interactive-root\\\" data-qa=\\\"add-ons-grid#3\\\"\\u003e\\u003cdiv data-qa=\\\"add-ons-grid#3#game-art\\\" class=\\\"psw-ally-indicator psw-ally-indicator-gap-1 psw-show-on-hover psw-b-0 psw-game-art psw-fill psw-l-anchor\\\"\\u003e\\u003cdiv class=\\\"psw-game-art__container psw-l-anchor-top-left psw-l-top-left psw-fill psw-r-2 psw-clip\\\"\\u003e\\u003cspan data-qa class=\\\"psw-illustration psw-illustration--default-product-image default-product-img\\\"\\u003e\\u003cdiv class=\\\"psw-hide\\\" data-original-icon-id=\\\"ps-illustration:default-product-image\\\"\\u003e\\u003csvg\\u003e\\u003c/svg\\u003e\\u003c/div\\u003e\\u003csvg aria-hidden=\\\"true\\\" focusable=\\\"false\\\"\\u003e\\u003ctitle\\u003e\\u003c/title\\u003e\\u003cuse href=\\\"#ps-illustration:default-product-image:195\\\"\\u003e\\u003c/use\\u003e\\u003c/svg\\u003e\\u003c/span\\u003e\\u003cspan data-qa=\\\"add-ons-grid#3#game-art#image\\\" style=\\\"width:100%;min-width:100%\\\" class=\\\"psw-media-frame psw-fill-x psw-image psw-media psw-media-interactive psw-aspect-1-1\\\"\\u003e\\u003cimg aria-hidden=\\\"true\\\" loading=\\\"lazy\\\" data-qa=\\\"add-ons-grid#3#game-art#image#preview\\\" class=\\\"psw-blur psw-top-left psw-l-fit-cover\\\" src=\\\"https://image.api.playstation.com/cdn/JP9000/CUSA00949_00/hb7CGETh87HPt1PbLUCNAVREvhKP0bbl.png?w=54\\u0026amp;thumb=true\\\" /\\u003e\\u003cnoscript class=\\\"psw-layer\\\"\\u003e\\u003cimg class=\\\"psw-top-left psw-l-fit-cover\\\" loading=\\\"lazy\\\" data-qa=\\\"add-ons-grid#3#game-art#image#image-no-js\\\" src=\\\"https://image.api.playstation.com/cdn/JP9000/CUSA00949_00/hb7CGETh87HPt1PbLUCNAVREvhKP0bbl.png\\\" /\\u003e\\u003c/noscript\\u003e\\u003c/span\\u003e\\u003c/div\\u003e\\u003cdiv class=\\\"psw-l-anchor-bottom-left psw-l-bottom-left psw-m-l-3 psw-m-sub-t-3\\\"\\u003e\\u003cdiv class=\\\"psw-l-cluster psw-l-gap-2\\\" data-qa=\\\"add-ons-grid#3#game-art\\\"\\u003e\\u003c/div\\u003e\\u003c/div\\u003e\\u003c/div\\u003e\\u003csection data-qa=\\\"add-ons-grid#3#details\\\" class=\\\"psw-product-tile__details psw-m-t-2\\\"\\u003e\\u003cspan data-qa=\\\"add-ons-grid#3#product-type\\\" class=\\\"psw-product-tile__product-type psw-t-bold psw-t-size-1 psw-t-truncate-1 psw-c-t-2 psw-t-uppercase psw-m-b-1\\\"\\u003e追加コンテンツ\\u003c/span\\u003e\\u003cspan data-qa=\\\"add-ons-grid#3#product-name\\\" class=\\\"psw-t-body psw-c-t-1 psw-t-truncate-2 psw-m-b-2\\\"\\u003eアンチャーテッドポイント300\\u003c/span\\u003e\\u003cdiv data-qa=\\\"add-ons-grid#3#price\\\" class=\\\"psw-fill-x psw-price psw-l-inline psw-l-line-left-top\\\"\\u003e\\u003cdiv class=\\\"psw-l-line-left-top psw-l-line-wrap psw-clip psw-t-h-body-1\\\"\\u003e\\u003cspan data-qa=\\\"add-ons-grid#3#price#display-price\\\" aria-hidden=\\\"false\\\" class=\\\"psw-m-r-3\\\"\\u003e¥330\\u003c/span\\u003e\\u003c/div\\u003e\\u003c/div\\u003e\\u003c/section\\u003e\\u003c/div\\u003e\\u003c/a\\u003e\\u003c/li\\u003e\\u003cli\\u003e\\u003cdiv data-track-content=\\\"addOns:tileImpression\\\" data-telemetry-meta=\\\"{\\u0026quot;conceptId\\u0026quot;:\\u0026quot;205354\\u0026quot;,\\u0026quot;tile\\u0026quot;:{\\u0026quot;productId\\u0026quot;:\\u0026quot;JP9000-CUSA00949_00-P015000000000000\\u0026quot;},\\u0026quot;tilePosition\\u0026quot;:4}\\\" data-track=\\\"{\\u0026quot;eventInfo\\u0026quot;:{\\u0026quot;eventAction\\u0026quot;:\\u0026quot;impression\\u0026quot;,\\u0026quot;eventName\\u0026quot;:\\u0026quot;add on tile impression\\u0026quot;},\\u0026quot;attributes\\u0026quot;:{\\u0026quot;moduleName\\u0026quot;:\\u0026quot;add ons\\u0026quot;,\\u0026quot;assetName\\u0026quot;:\\u0026quot;\\u0026quot;,\\u0026quot;label\\u0026quot;:\\u0026quot;add on tile\\u0026quot;,\\u0026quot;position\\u0026quot;:\\u0026quot;\\u0026quot;,\\u0026quot;linkUrl\\u0026quot;:\\u0026quot;\\u0026quot;,\\u0026quot;elementType\\u0026quot;:\\u0026quot;\\u0026quot;,\\u0026quot;userActionFlag\\u0026quot;:false}}\\\"\\u003e\\u003c/div\\u003e\\u003ca data-qa data-track=\\\"{\\u0026quot;eventInfo\\u0026quot;:{\\u0026quot;eventAction\\u0026quot;:\\u0026quot;click\\u0026quot;,\\u0026quot;eventName\\u0026quot;:\\u0026quot;click add-on tile\\u0026quot;},\\u0026quot;attributes\\u0026quot;:{\\u0026quot;moduleName\\u0026quot;:\\u0026quot;add ons\\u0026quot;,\\u0026quot;assetName\\u0026quot;:\\u0026quot;\\u0026quot;,\\u0026quot;label\\u0026quot;:\\u0026quot;add on tile\\u0026quot;,\\u0026quot;position\\u0026quot;:\\u0026quot;\\u0026quot;,\\u0026quot;linkUrl\\u0026quot;:\\u0026quot;\\u0026quot;,\\u0026quot;elementType\\u0026quot;:\\u0026quot;link\\u0026quot;,\\u0026quot;userActionFlag\\u0026quot;:true}}\\\" data-track-click=\\\"addOns:addOnTileClick\\\" data-telemetry-meta=\\\"{\\u0026quot;conceptId\\u0026quot;:\\u0026quot;205354\\u0026quot;,\\u0026quot;tile\\u0026quot;:{\\u0026quot;productId\\u0026quot;:\\u0026quot;JP9000-CUSA00949_00-P015000000000000\\u0026quot;},\\u0026quot;tilePosition\\u0026quot;:4}\\\" id class=\\\"psw-link psw-content-link\\\" aria-label type href=\\\"https://store.playstation.com/ja-jp/product/JP9000-CUSA00949_00-P015000000000000\\\" rel=\\\"noopener noreferrer\\\"\\u003e\\u003cdiv class=\\\"psw-product-tile psw-interactive-root\\\" data-qa=\\\"add-ons-grid#4\\\"\\u003e\\u003cdiv data-qa=\\\"add-ons-grid#4#game-art\\\" class=\\\"psw-ally-indicator psw-ally-indicator-gap-1 psw-show-on-hover psw-b-0 psw-game-art psw-fill psw-l-anchor\\\"\\u003e\\u003cdiv class=\\\"psw-game-art__container psw-l-anchor-top-left psw-l-top-left psw-fill psw-r-2 psw-clip\\\"\\u003e\\u003cspan data-qa class=\\\"psw-illustration psw-illustration--default-product-image default-product-img\\\"\\u003e\\u003cdiv class=\\\"psw-hide\\\" data-original-icon-id=\\\"ps-illustration:default-product-image\\\"\\u003e\\u003csvg\\u003e\\u003c/svg\\u003e\\u003c/div\\u003e\\u003csvg aria-hidden=\\\"true\\\" focusable=\\\"false\\\"\\u003e\\u003ctitle\\u003e\\u003c/title\\u003e\\u003cuse href=\\\"#ps-illustration:default-product-image:196\\\"\\u003e\\u003c/use\\u003e\\u003c/svg\\u003e\\u003c/span\\u003e\\u003cspan data-qa=\\\"add-ons-grid#4#game-art#image\\\" style=\\\"width:100%;min-width:100%\\\" class=\\\"psw-media-frame psw-fill-x psw-image psw-media psw-media-interactive psw-aspect-1-1\\\"\\u003e\\u003cimg aria-hidden=\\\"true\\\" loading=\\\"lazy\\\" data-qa=\\\"add-ons-grid#4#game-art#image#preview\\\" class=\\\"psw-blur psw-top-left psw-l-fit-cover\\\" src=\\\"https://image.api.playstation.com/cdn/JP9000/CUSA00949_00/QDdahJx4SrAMAFxbDAaEnfVhvIOR3guX.png?w=54\\u0026amp;thumb=true\\\" /\\u003e\\u003cnoscript class=\\\"psw-layer\\\"\\u003e\\u003cimg class=\\\"psw-top-left psw-l-fit-cover\\\" loading=\\\"lazy\\\" data-qa=\\\"add-ons-grid#4#game-art#image#image-no-js\\\" src=\\\"https://image.api.playstation.com/cdn/JP9000/CUSA00949_00/QDdahJx4SrAMAFxbDAaEnfVhvIOR3guX.png\\\" /\\u003e\\u003c/noscript\\u003e\\u003c/span\\u003e\\u003c/div\\u003e\\u003cdiv class=\\\"psw-l-anchor-bottom-left psw-l-bottom-left psw-m-l-3 psw-m-sub-t-3\\\"\\u003e\\u003cdiv class=\\\"psw-l-cluster psw-l-gap-2\\\" data-qa=\\\"add-ons-grid#4#game-art\\\"\\u003e\\u003c/div\\u003e\\u003c/div\\u003e\\u003c/div\\u003e\\u003csection data-qa=\\\"add-ons-grid#4#details\\\" class=\\\"psw-product-tile__details psw-m-t-2\\\"\\u003e\\u003cspan data-qa=\\\"add-ons-grid#4#product-type\\\" class=\\\"psw-product-tile__product-type psw-t-bold psw-t-size-1 psw-t-truncate-1 psw-c-t-2 psw-t-uppercase psw-m-b-1\\\"\\u003eゲーム内通貨\\u003c/span\\u003e\\u003cspan data-qa=\\\"add-ons-grid#4#product-name\\\" class=\\\"psw-t-body psw-c-t-1 psw-t-truncate-2 psw-m-b-2\\\"\\u003eアンチャーテッドポイント1,500(1,000+ボーナス500)\\u003c/span\\u003e\\u003cdiv data-qa=\\\"add-ons-grid#4#price\\\" class=\\\"psw-fill-x psw-price psw-l-inline psw-l-line-left-top\\\"\\u003e\\u003cdiv class=\\\"psw-l-line-left-top psw-l-line-wrap psw-clip psw-t-h-body-1\\\"\\u003e\\u003cspan data-qa=\\\"add-ons-grid#4#price#display-price\\\" aria-hidden=\\\"false\\\" class=\\\"psw-m-r-3\\\"\\u003e¥1,100\\u003c/span\\u003e\\u003c/div\\u003e\\u003c/div\\u003e\\u003c/section\\u003e\\u003c/div\\u003e\\u003c/a\\u003e\\u003c/li\\u003e\\u003cli\\u003e\\u003cdiv data-track-content=\\\"addOns:tileImpression\\\" data-telemetry-meta=\\\"{\\u0026quot;conceptId\\u0026quot;:\\u0026quot;205354\\u0026quot;,\\u0026quot;tile\\u0026quot;:{\\u0026quot;productId\\u0026quot;:\\u0026quot;JP9000-CUSA00949_00-P065000000000000\\u0026quot;},\\u0026quot;tilePosition\\u0026quot;:5}\\\" data-track=\\\"{\\u0026quot;eventInfo\\u0026quot;:{\\u0026quot;eventAction\\u0026quot;:\\u0026quot;impression\\u0026quot;,\\u0026quot;eventName\\u0026quot;:\\u0026quot;add on tile impression\\u0026quot;},\\u0026quot;attributes\\u0026quot;:{\\u0026quot;moduleName\\u0026quot;:\\u0026quot;add ons\\u0026quot;,\\u0026quot;assetName\\u0026quot;:\\u0026quot;\\u0026quot;,\\u0026quot;label\\u0026quot;:\\u0026quot;add on tile\\u0026quot;,\\u0026quot;position\\u0026quot;:\\u0026quot;\\u0026quot;,\\u0026quot;linkUrl\\u0026quot;:\\u0026quot;\\u0026quot;,\\u0026quot;elementType\\u0026quot;:\\u0026quot;\\u0026quot;,\\u0026quot;userActionFlag\\u0026quot;:false}}\\\"\\u003e\\u003c/div\\u003e\\u003ca data-qa data-track=\\\"{\\u0026quot;eventInfo\\u0026quot;:{\\u0026quot;eventAction\\u0026quot;:\\u0026quot;click\\u0026quot;,\\u0026quot;eventName\\u0026quot;:\\u0026quot;click add-on tile\\u0026quot;},\\u0026quot;attributes\\u0026quot;:{\\u0026quot;moduleName\\u0026quot;:\\u0026quot;add ons\\u0026quot;,\\u0026quot;assetName\\u0026quot;:\\u0026quot;\\u0026quot;,\\u0026quot;label\\u0026quot;:\\u0026quot;add on tile\\u0026quot;,\\u0026quot;position\\u0026quot;:\\u0026quot;\\u0026quot;,\\u0026quot;linkUrl\\u0026quot;:\\u0026quot;\\u0026quot;,\\u0026quot;elementType\\u0026quot;:\\u0026quot;link\\u0026quot;,\\u0026quot;userActionFlag\\u0026quot;:true}}\\\" data-track-click=\\\"addOns:addOnTileClick\\\" data-telemetry-meta=\\\"{\\u0026quot;conceptId\\u0026quot;:\\u0026quot;205354\\u0026quot;,\\u0026quot;tile\\u0026quot;:{\\u0026quot;productId\\u0026quot;:\\u0026quot;JP9000-CUSA00949_00-P065000000000000\\u0026quot;},\\u0026quot;tilePosition\\u0026quot;:5}\\\" id class=\\\"psw-link psw-content-link\\\" aria-label type href=\\\"https://store.playstation.com/ja-jp/product/JP9000-CUSA00949_00-P065000000000000\\\" rel=\\\"noopener noreferrer\\\"\\u003e\\u003cdiv class=\\\"psw-product-tile psw-interactive-root\\\" data-qa=\\\"add-ons-grid#5\\\"\\u003e\\u003cdiv data-qa=\\\"add-ons-grid#5#game-art\\\" class=\\\"psw-ally-indicator psw-ally-indicator-gap-1 psw-show-on-hover psw-b-0 psw-game-art psw-fill psw-l-anchor\\\"\\u003e\\u003cdiv class=\\\"psw-game-art__container psw-l-anchor-top-left psw-l-top-left psw-fill psw-r-2 psw-clip\\\"\\u003e\\u003cspan data-qa class=\\\"psw-illustration psw-illustration--default-product-image default-product-img\\\"\\u003e\\u003cdiv class=\\\"psw-hide\\\" data-original-icon-id=\\\"ps-illustration:default-product-image\\\"\\u003e\\u003csvg\\u003e\\u003c/svg\\u003e\\u003c/div\\u003e\\u003csvg aria-hidden=\\\"true\\\" focusable=\\\"false\\\"\\u003e\\u003ctitle\\u003e\\u003c/title\\u003e\\u003cuse href=\\\"#ps-illustration:default-product-image:197\\\"\\u003e\\u003c/use\\u003e\\u003c/svg\\u003e\\u003c/span\\u003e\\u003cspan data-qa=\\\"add-ons-grid#5#game-art#image\\\" style=\\\"width:100%;min-width:100%\\\" class=\\\"psw-media-frame psw-fill-x psw-image psw-media psw-media-interactive psw-aspect-1-1\\\"\\u003e\\u003cimg aria-hidden=\\\"true\\\" loading=\\\"lazy\\\" data-qa=\\\"add-ons-grid#5#game-art#image#preview\\\" class=\\\"psw-blur psw-top-left psw-l-fit-cover\\\" src=\\\"https://image.api.playstation.com/cdn/JP9000/CUSA00949_00/lTXdKcMJE2Ph9AYOvZRntrkUoyDhA2Z3.png?w=54\\u0026amp;thumb=true\\\" /\\u003e\\u003cnoscript class=\\\"psw-layer\\\"\\u003e\\u003cimg class=\\\"psw-top-left psw-l-fit-cover\\\" loading=\\\"lazy\\\" data-qa=\\\"add-ons-grid#5#game-art#image#image-no-js\\\" src=\\\"https://image.api.playstation.com/cdn/JP9000/CUSA00949_00/lTXdKcMJE2Ph9AYOvZRntrkUoyDhA2Z3.png\\\" /\\u003e\\u003c/noscript\\u003e\\u003c/span\\u003e\\u003c/div\\u003e\\u003cdiv class=\\\"psw-l-anchor-bottom-left psw-l-bottom-left psw-m-l-3 psw-m-sub-t-3\\\"\\u003e\\u003cdiv class=\\\"psw-l-cluster psw-l-gap-2\\\" data-qa=\\\"add-ons-grid#5#game-art\\\"\\u003e\\u003c/div\\u003e\\u003c/div\\u003e\\u003c/div\\u003e\\u003csection data-qa=\\\"add-ons-grid#5#details\\\" class=\\\"psw-product-tile__details psw-m-t-2\\\"\\u003e\\u003cspan data-qa=\\\"add-ons-grid#5#product-type\\\" class=\\\"psw-product-tile__product-type psw-t-bold psw-t-size-1 psw-t-truncate-1 psw-c-t-2 psw-t-uppercase psw-m-b-1\\\"\\u003e追加コンテンツ\\u003c/span\\u003e\\u003cspan data-qa=\\\"add-ons-grid#5#product-name\\\" class=\\\"psw-t-body psw-c-t-1 psw-t-truncate-2 psw-m-b-2\\\"\\u003eアンチャーテッドポイント6,500(3,500+ボーナス3,000)\\u003c/span\\u003e\\u003cdiv data-qa=\\\"add-ons-grid#5#price\\\" class=\\\"psw-fill-x psw-price psw-l-inline psw-l-line-left-top\\\"\\u003e\\u003cdiv class=\\\"psw-l-line-left-top psw-l-line-wrap psw-clip psw-t-h-body-1\\\"\\u003e\\u003cspan data-qa=\\\"add-ons-grid#5#price#display-price\\\" aria-hidden=\\\"false\\\" class=\\\"psw-m-r-3\\\"\\u003e¥3,850\\u003c/span\\u003e\\u003c/div\\u003e\\u003c/div\\u003e\\u003c/section\\u003e\\u003c/div\\u003e\\u003c/a\\u003e\\u003c/li\\u003e\\u003cli\\u003e\\u003cdiv data-track-content=\\\"addOns:tileImpression\\\" data-telemetry-meta=\\\"{\\u0026quot;conceptId\\u0026quot;:\\u0026quot;205354\\u0026quot;,\\u0026quot;tile\\u0026quot;:{\\u0026quot;productId\\u0026quot;:\\u0026quot;JP9000-CUSA00949_00-PHURBADAGERTAUNT\\u0026quot;},\\u0026quot;tilePosition\\u0026quot;:6}\\\" data-track=\\\"{\\u0026quot;eventInfo\\u0026quot;:{\\u0026quot;eventAction\\u0026quot;:\\u0026quot;impression\\u0026quot;,\\u0026quot;eventName\\u0026quot;:\\u0026quot;add on tile impression\\u0026quot;},\\u0026quot;attributes\\u0026quot;:{\\u0026quot;moduleName\\u0026quot;:\\u0026quot;add ons\\u0026quot;,\\u0026quot;assetName\\u0026quot;:\\u0026quot;\\u0026quot;,\\u0026quot;label\\u0026quot;:\\u0026quot;add on tile\\u0026quot;,\\u0026quot;position\\u0026quot;:\\u0026quot;\\u0026quot;,\\u0026quot;linkUrl\\u0026quot;:\\u0026quot;\\u0026quot;,\\u0026quot;elementType\\u0026quot;:\\u0026quot;\\u0026quot;,\\u0026quot;userActionFlag\\u0026quot;:false}}\\\"\\u003e\\u003c/div\\u003e\\u003ca data-qa data-track=\\\"{\\u0026quot;eventInfo\\u0026quot;:{\\u0026quot;eventAction\\u0026quot;:\\u0026quot;click\\u0026quot;,\\u0026quot;eventName\\u0026quot;:\\u0026quot;click add-on tile\\u0026quot;},\\u0026quot;attributes\\u0026quot;:{\\u0026quot;moduleName\\u0026quot;:\\u0026quot;add ons\\u0026quot;,\\u0026quot;assetName\\u0026quot;:\\u0026quot;\\u0026quot;,\\u0026quot;label\\u0026quot;:\\u0026quot;add on tile\\u0026quot;,\\u0026quot;position\\u0026quot;:\\u0026quot;\\u0026quot;,\\u0026quot;linkUrl\\u0026quot;:\\u0026quot;\\u0026quot;,\\u0026quot;elementType\\u0026quot;:\\u0026quot;link\\u0026quot;,\\u0026quot;userActionFlag\\u0026quot;:true}}\\\" data-track-click=\\\"addOns:addOnTileClick\\\" data-telemetry-meta=\\\"{\\u0026quot;conceptId\\u0026quot;:\\u0026quot;205354\\u0026quot;,\\u0026quot;tile\\u0026quot;:{\\u0026quot;productId\\u0026quot;:\\u0026quot;JP9000-CUSA00949_00-PHURBADAGERTAUNT\\u0026quot;},\\u0026quot;tilePosition\\u0026quot;:6}\\\" id class=\\\"psw-link psw-content-link\\\" aria-label type href=\\\"https://store.playstation.com/ja-jp/product/JP9000-CUSA00949_00-PHURBADAGERTAUNT\\\" rel=\\\"noopener noreferrer\\\"\\u003e\\u003cdiv class=\\\"psw-product-tile psw-interactive-root\\\" data-qa=\\\"add-ons-grid#6\\\"\\u003e\\u003cdiv data-qa=\\\"add-ons-grid#6#game-art\\\" class=\\\"psw-ally-indicator psw-ally-indicator-gap-1 psw-show-on-hover psw-b-0 psw-game-art psw-fill psw-l-anchor\\\"\\u003e\\u003cdiv class=\\\"psw-game-art__container psw-l-anchor-top-left psw-l-top-left psw-fill psw-r-2 psw-clip\\\"\\u003e\\u003cspan data-qa class=\\\"psw-illustration psw-illustration--default-product-image default-product-img\\\"\\u003e\\u003cdiv class=\\\"psw-hide\\\" data-original-icon-id=\\\"ps-illustration:default-product-image\\\"\\u003e\\u003csvg\\u003e\\u003c/svg\\u003e\\u003c/div\\u003e\\u003csvg aria-hidden=\\\"true\\\" focusable=\\\"false\\\"\\u003e\\u003ctitle\\u003e\\u003c/title\\u003e\\u003cuse href=\\\"#ps-illustration:default-product-image:198\\\"\\u003e\\u003c/use\\u003e\\u003c/svg\\u003e\\u003c/span\\u003e\\u003cspan data-qa=\\\"add-ons-grid#6#game-art#image\\\" style=\\\"width:100%;min-width:100%\\\" class=\\\"psw-media-frame psw-fill-x psw-image psw-media psw-media-interactive psw-aspect-1-1\\\"\\u003e\\u003cimg aria-hidden=\\\"true\\\" loading=\\\"lazy\\\" data-qa=\\\"add-ons-grid#6#game-art#image#preview\\\" class=\\\"psw-blur psw-top-left psw-l-fit-cover\\\" src=\\\"https://image.api.playstation.com/cdn/JP9000/CUSA00949_00/nroxHQp5yBwThSHWbqEMg0gCervedgI9.png?w=54\\u0026amp;thumb=true\\\" /\\u003e\\u003cnoscript class=\\\"psw-layer\\\"\\u003e\\u003cimg class=\\\"psw-top-left psw-l-fit-cover\\\" loading=\\\"lazy\\\" data-qa=\\\"add-ons-grid#6#game-art#image#image-no-js\\\" src=\\\"https://image.api.playstation.com/cdn/JP9000/CUSA00949_00/nroxHQp5yBwThSHWbqEMg0gCervedgI9.png\\\" /\\u003e\\u003c/noscript\\u003e\\u003c/span\\u003e\\u003c/div\\u003e\\u003cdiv class=\\\"psw-l-anchor-bottom-left psw-l-bottom-left psw-m-l-3 psw-m-sub-t-3\\\"\\u003e\\u003cdiv class=\\\"psw-l-cluster psw-l-gap-2\\\" data-qa=\\\"add-ons-grid#6#game-art\\\"\\u003e\\u003cspan data-qa=\\\"add-ons-grid#6#game-art#tag0\\\" class=\\\"psw-platform-tag psw-p-x-2 psw-l-line-left psw-t-tag psw-on-graphic\\\"\\u003ePS4\\u003c/span\\u003e\\u003c/div\\u003e\\u003c/div\\u003e\\u003c/div\\u003e\\u003csection data-qa=\\\"add-ons-grid#6#details\\\" class=\\\"psw-product-tile__details psw-m-t-2\\\"\\u003e\\u003cspan data-qa=\\\"add-ons-grid#6#product-type\\\" class=\\\"psw-product-tile__product-type psw-t-bold psw-t-size-1 psw-t-truncate-1 psw-c-t-2 psw-t-uppercase psw-m-b-1\\\"\\u003eアイテム\\u003c/span\\u003e\\u003cspan data-qa=\\\"add-ons-grid#6#product-name\\\" class=\\\"psw-t-body psw-c-t-1 psw-t-truncate-2 psw-m-b-2\\\"\\u003eオンラインマルチプレイ用 黄金刀のジェスチャー\\u003c/span\\u003e\\u003cdiv data-qa=\\\"add-ons-grid#6#price\\\" class=\\\"psw-fill-x psw-price psw-l-inline psw-l-line-left-top\\\"\\u003e\\u003cdiv class=\\\"psw-l-line-left-top psw-l-line-wrap psw-clip psw-t-h-body-1\\\"\\u003e\\u003cspan data-qa=\\\"add-ons-grid#6#price#display-price\\\" aria-hidden=\\\"false\\\" class=\\\"psw-m-r-3\\\"\\u003eご利用いただけません\\u003c/span\\u003e\\u003c/div\\u003e\\u003c/div\\u003e\\u003c/section\\u003e\\u003c/div\\u003e\\u003c/a\\u003e\\u003c/li\\u003e\\u003cli\\u003e\\u003cdiv data-track-content=\\\"addOns:tileImpression\\\" data-telemetry-meta=\\\"{\\u0026quot;conceptId\\u0026quot;:\\u0026quot;205354\\u0026quot;,\\u0026quot;tile\\u0026quot;:{\\u0026quot;productId\\u0026quot;:\\u0026quot;JP9000-CUSA00949_00-UTLLMPUNLOCK0001\\u0026quot;},\\u0026quot;tilePosition\\u0026quot;:7}\\\" data-track=\\\"{\\u0026quot;eventInfo\\u0026quot;:{\\u0026quot;eventAction\\u0026quot;:\\u0026quot;impression\\u0026quot;,\\u0026quot;eventName\\u0026quot;:\\u0026quot;add on tile impression\\u0026quot;},\\u0026quot;attributes\\u0026quot;:{\\u0026quot;moduleName\\u0026quot;:\\u0026quot;add ons\\u0026quot;,\\u0026quot;assetName\\u0026quot;:\\u0026quot;\\u0026quot;,\\u0026quot;label\\u0026quot;:\\u0026quot;add on tile\\u0026quot;,\\u0026quot;position\\u0026quot;:\\u0026quot;\\u0026quot;,\\u0026quot;linkUrl\\u0026quot;:\\u0026quot;\\u0026quot;,\\u0026quot;elementType\\u0026quot;:\\u0026quot;\\u0026quot;,\\u0026quot;userActionFlag\\u0026quot;:false}}\\\"\\u003e\\u003c/div\\u003e\\u003ca data-qa data-track=\\\"{\\u0026quot;eventInfo\\u0026quot;:{\\u0026quot;eventAction\\u0026quot;:\\u0026quot;click\\u0026quot;,\\u0026quot;eventName\\u0026quot;:\\u0026quot;click add-on tile\\u0026quot;},\\u0026quot;attributes\\u0026quot;:{\\u0026quot;moduleName\\u0026quot;:\\u0026quot;add ons\\u0026quot;,\\u0026quot;assetName\\u0026quot;:\\u0026quot;\\u0026quot;,\\u0026quot;label\\u0026quot;:\\u0026quot;add on tile\\u0026quot;,\\u0026quot;position\\u0026quot;:\\u0026quot;\\u0026quot;,\\u0026quot;linkUrl\\u0026quot;:\\u0026quot;\\u0026quot;,\\u0026quot;elementType\\u0026quot;:\\u0026quot;link\\u0026quot;,\\u0026quot;userActionFlag\\u0026quot;:true}}\\\" data-track-click=\\\"addOns:addOnTileClick\\\" data-telemetry-meta=\\\"{\\u0026quot;conceptId\\u0026quot;:\\u0026quot;205354\\u0026quot;,\\u0026quot;tile\\u0026quot;:{\\u0026quot;productId\\u0026quot;:\\u0026quot;JP9000-CUSA00949_00-UTLLMPUNLOCK0001\\u0026quot;},\\u0026quot;tilePosition\\u0026quot;:7}\\\" id class=\\\"psw-link psw-content-link\\\" aria-label type href=\\\"https://store.playstation.com/ja-jp/product/JP9000-CUSA00949_00-UTLLMPUNLOCK0001\\\" rel=\\\"noopener noreferrer\\\"\\u003e\\u003cdiv class=\\\"psw-product-tile psw-interactive-root\\\" data-qa=\\\"add-ons-grid#7\\\"\\u003e\\u003cdiv data-qa=\\\"add-ons-grid#7#game-art\\\" class=\\\"psw-ally-indicator psw-ally-indicator-gap-1 psw-show-on-hover psw-b-0 psw-game-art psw-fill psw-l-anchor\\\"\\u003e\\u003cdiv class=\\\"psw-game-art__container psw-l-anchor-top-left psw-l-top-left psw-fill psw-r-2 psw-clip\\\"\\u003e\\u003cspan data-qa class=\\\"psw-illustration psw-illustration--default-product-image default-product-img\\\"\\u003e\\u003cdiv class=\\\"psw-hide\\\" data-original-icon-id=\\\"ps-illustration:default-product-image\\\"\\u003e\\u003csvg\\u003e\\u003c/svg\\u003e\\u003c/div\\u003e\\u003csvg aria-hidden=\\\"true\\\" focusable=\\\"false\\\"\\u003e\\u003ctitle\\u003e\\u003c/title\\u003e\\u003cuse href=\\\"#ps-illustration:default-product-image:199\\\"\\u003e\\u003c/use\\u003e\\u003c/svg\\u003e\\u003c/span\\u003e\\u003cspan data-qa=\\\"add-ons-grid#7#game-art#image\\\" style=\\\"width:100%;min-width:100%\\\" class=\\\"psw-media-frame psw-fill-x psw-image psw-media psw-media-interactive psw-aspect-1-1\\\"\\u003e\\u003cimg aria-hidden=\\\"true\\\" loading=\\\"lazy\\\" data-qa=\\\"add-ons-grid#7#game-art#image#preview\\\" class=\\\"psw-blur psw-top-left psw-l-fit-cover\\\" src=\\\"https://image.api.playstation.com/cdn/JP9000/CUSA00949_00/RLQ1wYe9XvtBaxrmxuI2LQmmWWRW7ZIW.png?w=54\\u0026amp;thumb=true\\\" /\\u003e\\u003cnoscript class=\\\"psw-layer\\\"\\u003e\\u003cimg class=\\\"psw-top-left psw-l-fit-cover\\\" loading=\\\"lazy\\\" data-qa=\\\"add-ons-grid#7#game-art#image#image-no-js\\\" src=\\\"https://image.api.playstation.com/cdn/JP9000/CUSA00949_00/RLQ1wYe9XvtBaxrmxuI2LQmmWWRW7ZIW.png\\\" /\\u003e\\u003c/noscript\\u003e\\u003c/span\\u003e\\u003c/div\\u003e\\u003cdiv class=\\\"psw-l-anchor-bottom-left psw-l-bottom-left psw-m-l-3 psw-m-sub-t-3\\\"\\u003e\\u003cdiv class=\\\"psw-l-cluster psw-l-gap-2\\\" data-qa=\\\"add-ons-grid#7#game-art\\\"\\u003e\\u003cspan data-qa=\\\"add-ons-grid#7#game-art#tag0\\\" class=\\\"psw-platform-tag psw-p-x-2 psw-l-line-left psw-t-tag psw-on-graphic\\\"\\u003ePS4\\u003c/span\\u003e\\u003c/div\\u003e\\u003c/div\\u003e\\u003c/div\\u003e\\u003csection data-qa=\\\"add-ons-grid#7#details\\\" class=\\\"psw-product-tile__details psw-m-t-2\\\"\\u003e\\u003cspan data-qa=\\\"add-ons-grid#7#product-type\\\" class=\\\"psw-product-tile__product-type psw-t-bold psw-t-size-1 psw-t-truncate-1 psw-c-t-2 psw-t-uppercase psw-m-b-1\\\"\\u003e追加コンテンツ\\u003c/span\\u003e\\u003cspan data-qa=\\\"add-ons-grid#7#product-name\\\" class=\\\"psw-t-body psw-c-t-1 psw-t-truncate-2 psw-m-b-2\\\"\\u003eマルチプレイ用初心者応援アップデート「武器＆スキルセット」\\u003c/span\\u003e\\u003cdiv data-qa=\\\"add-ons-grid#7#price\\\" class=\\\"psw-fill-x psw-price psw-l-inline psw-l-line-left-top\\\"\\u003e\\u003cdiv class=\\\"psw-l-line-left-top psw-l-line-wrap psw-clip psw-t-h-body-1\\\"\\u003e\\u003cspan data-qa=\\\"add-ons-grid#7#price#display-price\\\" aria-hidden=\\\"false\\\" class=\\\"psw-m-r-3\\\"\\u003e無料\\u003c/span\\u003e\\u003c/div\\u003e\\u003c/div\\u003e\\u003c/section\\u003e\\u003c/div\\u003e\\u003c/a\\u003e\\u003c/li\\u003e\\u003c/ul\\u003e\\u003cdiv class=\\\"psw-preview-grid-list-cta psw-t-align-c psw-m-t-6\\\"\\u003e\\u003cbutton data-qa=\\\"add-ons#btn\\\" data-track=\\\"{\\u0026quot;eventInfo\\u0026quot;:{\\u0026quot;eventAction\\u0026quot;:\\u0026quot;click\\u0026quot;,\\u0026quot;eventName\\u0026quot;:\\u0026quot;view all add ons\\u0026quot;},\\u0026quot;attributes\\u0026quot;:{\\u0026quot;moduleName\\u0026quot;:\\u0026quot;add ons\\u0026quot;,\\u0026quot;assetName\\u0026quot;:\\u0026quot;\\u0026quot;,\\u0026quot;label\\u0026quot;:\\u0026quot;view all\\u0026quot;,\\u0026quot;position\\u0026quot;:\\u0026quot;\\u0026quot;,\\u0026quot;linkUrl\\u0026quot;:\\u0026quot;\\u0026quot;,\\u0026quot;elementType\\u0026quot;:\\u0026quot;button\\u0026quot;,\\u0026quot;userActionFlag\\u0026quot;:true}}\\\" data-track-click=\\\"addOns:viewAllAddOns\\\" data-telemetry-meta=\\\"{\\u0026quot;conceptId\\u0026quot;:\\u0026quot;205354\\u0026quot;}\\\" id class=\\\"psw-button psw-b-0 psw-t-button psw-l-line-center psw-button-sizing psw-button-sizing--medium psw-tertiary-button psw-solid-button\\\" type=\\\"button\\\" name value\\u003e\\u003cspan class=\\\"psw-fill-x psw-t-truncate-1 psw-l-space-x-2 \\\"\\u003eさらに表示\\u003c/span\\u003e\\u003c/button\\u003e\\u003c/div\\u003e\\u003c/div\\u003e\\u003cstyle\\u003e\\n          .psw-root .psw-content-link {\\n            outline: none !important;\\n            box-shadow: none !important;\\n          }\\n        \\u003c/style\\u003e\\u003c/div\\u003e\\u003c/div\\u003e\",\"statusCode\":200},\"friends-who-play\":{\"text\":\"\\u003cscript id=\\\"env:bed7c4e0-df30-11ee-b922-65e8b0df7c0b\\\" type=\\\"application/json\\\"\\u003e{\\\"args\\\":{\\\"conceptId\\\":\\\"205354\\\"},\\\"overrides\\\":{\\\"theme\\\":\\\"dark\\\",\\\"locale\\\":\\\"ja-jp\\\"},\\\"cache\\\":{},\\\"translations\\\":{}}\\u003c/script\\u003e\\u003cdiv data-mfe-name=\\\"friendsWhoPlay\\\" class=\\\"psw-root psw-dark-theme\\\" data-initial=\\\"env:bed7c4e0-df30-11ee-b922-65e8b0df7c0b\\\"\\u003e\\u003c/div\\u003e\",\"statusCode\":200},\"star-rating\":{\"text\":\"\\u003cscript id=\\\"env:bee420f0-df30-11ee-8edf-e90e3592ba9b\\\" type=\\\"application/json\\\"\\u003e{\\\"args\\\":{\\\"conceptId\\\":\\\"205354\\\"},\\\"overrides\\\":{\\\"theme\\\":\\\"dark\\\",\\\"locale\\\":\\\"ja-jp\\\"},\\\"cache\\\":{\\\"Product:JP9000-PPSA05685_00-UNCHARTED4R00000\\\":{\\\"id\\\":\\\"JP9000-PPSA05685_00-UNCHARTED4R00000\\\",\\\"__typename\\\":\\\"Product\\\",\\\"name\\\":\\\"アンチャーテッド トレジャーハンターコレクション\\\",\\\"starRating\\\":{\\\"__typename\\\":\\\"StarRating\\\",\\\"averageRating\\\":4.74,\\\"averageRatingForDisplay\\\":\\\"4.74\\\",\\\"ratingsDistribution\\\":[{\\\"__typename\\\":\\\"StarRatingCount\\\",\\\"percentage\\\":\\\"86％\\\",\\\"percentageRaw\\\":86,\\\"rating\\\":5},{\\\"__typename\\\":\\\"StarRatingCount\\\",\\\"percentage\\\":\\\"8％\\\",\\\"percentageRaw\\\":8,\\\"rating\\\":4},{\\\"__typename\\\":\\\"StarRatingCount\\\",\\\"percentage\\\":\\\"3％\\\",\\\"percentageRaw\\\":3,\\\"rating\\\":3},{\\\"__typename\\\":\\\"StarRatingCount\\\",\\\"percentage\\\":\\\"1％\\\",\\\"percentageRaw\\\":1,\\\"rating\\\":2},{\\\"__typename\\\":\\\"StarRatingCount\\\",\\\"percentage\\\":\\\"3％\\\",\\\"percentageRaw\\\":3,\\\"rating\\\":1}],\\\"totalRatingsCount\\\":179895},\\\"topCategory\\\":\\\"GAME\\\",\\\"webctas\\\":[{\\\"__typename\\\":\\\"GameCTA\\\",\\\"type\\\":\\\"ADD_TO_CART\\\",\\\"action\\\":{\\\"__typename\\\":\\\"Action\\\",\\\"type\\\":\\\"ADD_TO_CART\\\",\\\"param\\\":[{\\\"__typename\\\":\\\"ActionParam\\\",\\\"name\\\":\\\"skuId\\\",\\\"value\\\":\\\"JP9000-PPSA05685_00-UNCHARTED4R00000-J003\\\"},{\\\"__typename\\\":\\\"ActionParam\\\",\\\"name\\\":\\\"rewardId\\\",\\\"value\\\":null},{\\\"__typename\\\":\\\"ActionParam\\\",\\\"name\\\":\\\"prologueEmsAlias\\\",\\\"value\\\":\\\"plus--buy_game_catalog\\\"}]},\\\"meta\\\":{\\\"__typename\\\":\\\"CTAMeta\\\",\\\"preOrder\\\":false}},{\\\"__typename\\\":\\\"GameCTA\\\",\\\"type\\\":\\\"UPSELL_PS_PLUS_GAME_CATALOG\\\",\\\"action\\\":{\\\"__typename\\\":\\\"Action\\\",\\\"type\\\":\\\"ADD_TO_CART\\\",\\\"param\\\":[{\\\"__typename\\\":\\\"ActionParam\\\",\\\"name\\\":\\\"skuId\\\",\\\"value\\\":\\\"JP9000-PPSA05685_00-UNCHARTED4R00000-J003\\\"},{\\\"__typename\\\":\\\"ActionParam\\\",\\\"name\\\":\\\"prologueEmsAlias\\\",\\\"value\\\":\\\"plus--gamehub_upsell_cta--game_catalog\\\"},{\\\"__typename\\\":\\\"ActionParam\\\",\\\"name\\\":\\\"rewardId\\\",\\\"value\\\":\\\"SUB001-SUBC00002_00-HM93SKR5MGPG6TD8\\\"},{\\\"__typename\\\":\\\"ActionParam\\\",\\\"name\\\":\\\"rewardId\\\",\\\"value\\\":\\\"SUB001-SUBC00002_00-HM93SKR5MGPG6TD8\\\"}]},\\\"meta\\\":{\\\"__typename\\\":\\\"CTAMeta\\\",\\\"preOrder\\\":false}}]},\\\"Concept:205354\\\":{\\\"id\\\":\\\"205354\\\",\\\"__typename\\\":\\\"Concept\\\",\\\"releaseDate\\\":{\\\"__typename\\\":\\\"ReleaseDate\\\",\\\"type\\\":\\\"DAY_MONTH_YEAR\\\"},\\\"defaultProduct\\\":{\\\"__ref\\\":\\\"Product:JP9000-PPSA05685_00-UNCHARTED4R00000\\\"}},\\\"ROOT_QUERY\\\":{\\\"__typename\\\":\\\"Query\\\",\\\"conceptRetrieve({\\\\\\\"conceptId\\\\\\\":\\\\\\\"205354\\\\\\\"})\\\":{\\\"__ref\\\":\\\"Concept:205354\\\"}}},\\\"translations\\\":{\\\"msgid_ratings\\\":\\\"レーティング\\\",\\\"msgid_sign_rate\\\":\\\"サインインして評価\\\",\\\"msgid_decimal_symbol\\\":\\\".\\\",\\\"msgid_digit_separator_symbol\\\":\\\",\\\",\\\"msgid_variable_ratings\\\":\\\"%num%件の評価\\\",\\\"msgid_sr_average_ratings\\\":\\\"評価数は%totalnum%、平均評価は5段階中の%num%です\\\",\\\"msgid_global_player_ratings\\\":\\\"世界のプレイヤーの評価\\\",\\\"msgid_sr_stars\\\":\\\"星%num%個\\\",\\\"msgid_sr_star\\\":\\\"評価1\\\"}}\\u003c/script\\u003e\\u003cdiv data-mfe-name=\\\"starRating\\\" class=\\\"psw-root psw-dark-theme\\\" data-initial=\\\"env:bee420f0-df30-11ee-8edf-e90e3592ba9b\\\"\\u003e\\u003ch2 class=\\\"psw-l-section psw-t-title-l psw-t-align-c psw-m-b-9\\\" data-qa=\\\"mfe-star-rating#heading\\\" id=\\\"star-rating\\\"\\u003eレーティング\\u003c/h2\\u003e\\u003cdiv class=\\\"psw-l-grid psw-m-t-10\\\"\\u003e\\u003cdiv class=\\\"psw-c-bg-card-1 psw-l-w-1/1 psw-l-w-1/1@tablet-s psw-l-w-5/12@tablet-l psw-l-w-1/3@laptop psw-l-w-1/3@desktop psw-l-w-1/3@max psw-p-7\\\"\\u003e\\u003cdiv data-qa=\\\"mfe-star-rating#user-rating\\\"\\u003e\\u003cdiv class=\\\"psw-m-sub-t-2\\\" data-qa=\\\"mfe-star-rating#user-rating#sign-in\\\"\\u003e\\u003ch3 class=\\\"psw-t-link\\\" data-qa=\\\"mfe-star-rating#user-rating#sign-in#header\\\"\\u003eアンチャーテッド トレジャーハンターコレクション\\u003c/h3\\u003e\\u003cdiv class=\\\"psw-l-grid psw-m-y-10 psw-l-line-center\\\"\\u003e\\u003cdiv class=\\\"psw-l-w-1/2@mobile-s psw-l-w-1/4@tablet-s psw-p-t-6\\\"\\u003e\\u003cbutton data-qa=\\\"mfe-star-rating#user-rating#sign-in#cta\\\" data-track-click=\\\"starRating:signInToRate\\\" data-telemetry-meta=\\\"{\\u0026quot;conceptId\\u0026quot;:\\u0026quot;205354\\u0026quot;,\\u0026quot;productId\\u0026quot;:\\u0026quot;\\u0026quot;}\\\" id class=\\\"psw-button psw-b-0 psw-t-button psw-l-line-center psw-button-sizing psw-button-sizing--medium psw-primary-button psw-solid-button\\\" type=\\\"button\\\" name value\\u003e\\u003cspan class=\\\"psw-fill-x psw-t-truncate-1 psw-l-space-x-2 \\\"\\u003eサインインして評価\\u003c/span\\u003e\\u003c/button\\u003e\\u003c/div\\u003e\\u003c/div\\u003e\\u003c/div\\u003e\\u003c/div\\u003e\\u003c/div\\u003e\\u003cdiv class=\\\"psw-c-bg-card-1 psw-l-w-1/1 psw-l-w-1/1@tablet-s psw-l-w-7/12@tablet-l psw-l-w-2/3@laptop psw-l-w-2/3@desktop psw-l-w-2/3@max psw-p-6 psw-p-y-6\\\"\\u003e\\u003cdiv class=\\\"psw-l-line-repel psw-l-align-center\\\" data-qa=\\\"mfe-star-rating#overall-rating\\\"\\u003e\\u003ch3 class=\\\"psw-t-body\\\" data-qa=\\\"mfe-star-rating#overall-rating#heading\\\"\\u003e世界のプレイヤーの評価\\u003c/h3\\u003e\\u003cdiv class=\\\"psw-t-align-r\\\"\\u003e\\u003cdiv class=\\\"psw-overall-rating-average-rating psw-l-line-left psw-m-sub-r-3\\\"\\u003e\\u003cspan class=\\\"psw-p-r-1 psw-t-title-l\\\"\\u003e\\u003cspan aria-hidden=\\\"true\\\" data-qa=\\\"mfe-star-rating#overall-rating#average-rating\\\"\\u003e4.74\\u003c/span\\u003e\\u003cspan class=\\\"psw-sr-only\\\"\\u003e評価数は179895、平均評価は5段階中の4.74です\\u003c/span\\u003e\\u003c/span\\u003e\\u003cdiv aria-hidden=\\\"true\\\"\\u003e\\u003cspan class=\\\"psw-overall-rating-star-rating psw-l-line-left\\\" data-qa=\\\"mfe-star-rating#overall-rating#star-rating\\\"\\u003e\\u003cspan data-qa=\\\"mfe-star-rating#overall-rating#star-rating#rating-1#icon\\\" class=\\\"psw-icon psw-icon--starrating-full psw-icon psw-icon-size-4 psw-icon--starrating-full\\\"\\u003e\\u003cdiv class=\\\"psw-hide\\\" data-original-icon-id=\\\"ps-icon:starrating-full\\\"\\u003e\\u003csvg xmlns=\\\"http://www.w3.org/2000/svg\\\"\\u003e\\u003csymbol id=\\\"ps-icon:starrating-full:420\\\" viewbox=\\\"0 0 64 64\\\"\\u003e\\u003cpath fill-rule=\\\"evenodd\\\" d=\\\"M52.234 26.425a1.249 1.249 0 00-1.189-.863H37.404l-4.215-12.974a1.249 1.249 0 00-2.378 0l-4.215 12.974H12.955a1.25 1.25 0 00-.735 2.26l11.036 8.019-4.215 12.973a1.251 1.251 0 001.923 1.398L32 42.194l11.036 8.018a1.249 1.249 0 001.469 0c.438-.318.622-.883.455-1.398L40.744 35.84l11.036-8.018a1.25 1.25 0 00.454-1.398z\\\" clip-rule=\\\"evenodd\\\"\\u003e\\u003c/path\\u003e\\u003c/symbol\\u003e\\u003c/svg\\u003e\\u003c/div\\u003e\\u003csvg aria-hidden=\\\"true\\\" focusable=\\\"false\\\"\\u003e\\u003ctitle\\u003e\\u003c/title\\u003e\\u003cuse href=\\\"#ps-icon:starrating-full:420\\\"\\u003e\\u003c/use\\u003e\\u003c/svg\\u003e\\u003c/span\\u003e\\u003cspan data-qa=\\\"mfe-star-rating#overall-rating#star-rating#rating-2#icon\\\" class=\\\"psw-icon psw-icon--starrating-full psw-icon psw-icon-size-4 psw-icon--starrating-full\\\"\\u003e\\u003cdiv class=\\\"psw-hide\\\" data-original-icon-id=\\\"ps-icon:starrating-full\\\"\\u003e\\u003csvg xmlns=\\\"http://www.w3.org/2000/svg\\\"\\u003e\\u003csymbol id=\\\"ps-icon:starrating-full:421\\\" viewbox=\\\"0 0 64 64\\\"\\u003e\\u003cpath fill-rule=\\\"evenodd\\\" d=\\\"M52.234 26.425a1.249 1.249 0 00-1.189-.863H37.404l-4.215-12.974a1.249 1.249 0 00-2.378 0l-4.215 12.974H12.955a1.25 1.25 0 00-.735 2.26l11.036 8.019-4.215 12.973a1.251 1.251 0 001.923 1.398L32 42.194l11.036 8.018a1.249 1.249 0 001.469 0c.438-.318.622-.883.455-1.398L40.744 35.84l11.036-8.018a1.25 1.25 0 00.454-1.398z\\\" clip-rule=\\\"evenodd\\\"\\u003e\\u003c/path\\u003e\\u003c/symbol\\u003e\\u003c/svg\\u003e\\u003c/div\\u003e\\u003csvg aria-hidden=\\\"true\\\" focusable=\\\"false\\\"\\u003e\\u003ctitle\\u003e\\u003c/title\\u003e\\u003cuse href=\\\"#ps-icon:starrating-full:421\\\"\\u003e\\u003c/use\\u003e\\u003c/svg\\u003e\\u003c/span\\u003e\\u003cspan data-qa=\\\"mfe-star-rating#overall-rating#star-rating#rating-3#icon\\\" class=\\\"psw-icon psw-icon--starrating-full psw-icon psw-icon-size-4 psw-icon--starrating-full\\\"\\u003e\\u003cdiv class=\\\"psw-hide\\\" data-original-icon-id=\\\"ps-icon:starrating-full\\\"\\u003e\\u003csvg xmlns=\\\"http://www.w3.org/2000/svg\\\"\\u003e\\u003csymbol id=\\\"ps-icon:starrating-full:422\\\" viewbox=\\\"0 0 64 64\\\"\\u003e\\u003cpath fill-rule=\\\"evenodd\\\" d=\\\"M52.234 26.425a1.249 1.249 0 00-1.189-.863H37.404l-4.215-12.974a1.249 1.249 0 00-2.378 0l-4.215 12.974H12.955a1.25 1.25 0 00-.735 2.26l11.036 8.019-4.215 12.973a1.251 1.251 0 001.923 1.398L32 42.194l11.036 8.018a1.249 1.249 0 001.469 0c.438-.318.622-.883.455-1.398L40.744 35.84l11.036-8.018a1.25 1.25 0 00.454-1.398z\\\" clip-rule=\\\"evenodd\\\"\\u003e\\u003c/path\\u003e\\u003c/symbol\\u003e\\u003c/svg\\u003e\\u003c/div\\u003e\\u003csvg aria-hidden=\\\"true\\\" focusable=\\\"false\\\"\\u003e\\u003ctitle\\u003e\\u003c/title\\u003e\\u003cuse href=\\\"#ps-icon:starrating-full:422\\\"\\u003e\\u003c/use\\u003e\\u003c/svg\\u003e\\u003c/span\\u003e\\u003cspan data-qa=\\\"mfe-star-rating#overall-rating#star-rating#rating-4#icon\\\" class=\\\"psw-icon psw-icon--starrating-full psw-icon psw-icon-size-4 psw-icon--starrating-full\\\"\\u003e\\u003cdiv class=\\\"psw-hide\\\" data-original-icon-id=\\\"ps-icon:starrating-full\\\"\\u003e\\u003csvg xmlns=\\\"http://www.w3.org/2000/svg\\\"\\u003e\\u003csymbol id=\\\"ps-icon:starrating-full:423\\\" viewbox=\\\"0 0 64 64\\\"\\u003e\\u003cpath fill-rule=\\\"evenodd\\\" d=\\\"M52.234 26.425a1.249 1.249 0 00-1.189-.863H37.404l-4.215-12.974a1.249 1.249 0 00-2.378 0l-4.215 12.974H12.955a1.25 1.25 0 00-.735 2.26l11.036 8.019-4.215 12.973a1.251 1.251 0 001.923 1.398L32 42.194l11.036 8.018a1.249 1.249 0 001.469 0c.438-.318.622-.883.455-1.398L40.744 35.84l11.036-8.018a1.25 1.25 0 00.454-1.398z\\\" clip-rule=\\\"evenodd\\\"\\u003e\\u003c/path\\u003e\\u003c/symbol\\u003e\\u003c/svg\\u003e\\u003c/div\\u003e\\u003csvg aria-hidden=\\\"true\\\" focusable=\\\"false\\\"\\u003e\\u003ctitle\\u003e\\u003c/title\\u003e\\u003cuse href=\\\"#ps-icon:starrating-full:423\\\"\\u003e\\u003c/use\\u003e\\u003c/svg\\u003e\\u003c/span\\u003e\\u003cspan data-qa=\\\"mfe-star-rating#overall-rating#star-rating#rating-5#icon\\\" class=\\\"psw-icon psw-icon--starrating-half psw-icon psw-icon-size-4 psw-icon--starrating-half\\\"\\u003e\\u003cdiv class=\\\"psw-hide\\\" data-original-icon-id=\\\"ps-icon:starrating-half\\\"\\u003e\\u003csvg xmlns=\\\"http://www.w3.org/2000/svg\\\"\\u003e\\u003csymbol id=\\\"ps-icon:starrating-half:424\\\" viewbox=\\\"0 0 64 64\\\"\\u003e\\u003cpath fill-rule=\\\"evenodd\\\" d=\\\"M38.54 34.352a1.251 1.251 0 00-.454 1.398l3.307 10.178-8.658-6.291a1.249 1.249 0 00-.735-.238v-22.38l3.308 10.18a1.25 1.25 0 001.189.863h10.7l-8.657 6.29zm13.694-7.927a1.25 1.25 0 00-1.19-.863h-13.64L33.19 12.588a1.25 1.25 0 00-2.378 0l-4.215 12.974h-13.64a1.25 1.25 0 00-.735 2.262l11.036 8.017-4.216 12.973a1.25 1.25 0 001.924 1.398L32 42.194l11.036 8.018c.219.16.477.239.735.239s.516-.08.735-.24a1.25 1.25 0 00.454-1.397L40.744 35.84l11.036-8.017c.438-.32.62-.883.454-1.4z\\\" clip-rule=\\\"evenodd\\\"\\u003e\\u003c/path\\u003e\\u003c/symbol\\u003e\\u003c/svg\\u003e\\u003c/div\\u003e\\u003csvg aria-hidden=\\\"true\\\" focusable=\\\"false\\\"\\u003e\\u003ctitle\\u003e\\u003c/title\\u003e\\u003cuse href=\\\"#ps-icon:starrating-half:424\\\"\\u003e\\u003c/use\\u003e\\u003c/svg\\u003e\\u003c/span\\u003e\\u003c/span\\u003e\\u003c/div\\u003e\\u003c/div\\u003e\\u003c/div\\u003e\\u003c/div\\u003e\\u003cdiv class=\\\"psw-t-align-r\\\"\\u003e\\u003cspan class=\\\"psw-c-t-2 psw-t-secondary\\\" data-qa=\\\"mfe-star-rating#overall-rating#total-ratings\\\"\\u003e179,895件の評価\\u003c/span\\u003e\\u003c/div\\u003e\\u003cdiv class=\\\"psw-m-y-4\\\"\\u003e\\u003cdiv class=\\\"psw-m-b-2\\\"\\u003e\\u003cdiv class=\\\"psw-rating-progress-bar psw-l-stack psw-fill-x\\\" data-qa=\\\"mfe-star-rating#overall-rating#rating-progress5\\\"\\u003e\\u003cdiv class=\\\"psw-l-line-repel psw-l-align-center\\\"\\u003e\\u003cdiv class=\\\"psw-l-line-left\\\"\\u003e\\u003cspan class=\\\"psw-sr-only\\\"\\u003e星5個\\u003c/span\\u003e\\u003cdiv aria-hidden=\\\"true\\\"\\u003e\\u003cspan class=\\\"psw-rating-progress-bar-star-5 psw-l-line-left\\\" data-qa=\\\"star-rating\\\"\\u003e\\u003cspan data-qa=\\\"star-rating#rating-1#icon\\\" class=\\\"psw-icon psw-icon--starrating-full psw-icon psw-icon-size-2 psw-icon--starrating-full\\\"\\u003e\\u003cdiv class=\\\"psw-hide\\\" data-original-icon-id=\\\"ps-icon:starrating-full\\\"\\u003e\\u003csvg xmlns=\\\"http://www.w3.org/2000/svg\\\"\\u003e\\u003csymbol id=\\\"ps-icon:starrating-full:425\\\" viewbox=\\\"0 0 64 64\\\"\\u003e\\u003cpath fill-rule=\\\"evenodd\\\" d=\\\"M52.234 26.425a1.249 1.249 0 00-1.189-.863H37.404l-4.215-12.974a1.249 1.249 0 00-2.378 0l-4.215 12.974H12.955a1.25 1.25 0 00-.735 2.26l11.036 8.019-4.215 12.973a1.251 1.251 0 001.923 1.398L32 42.194l11.036 8.018a1.249 1.249 0 001.469 0c.438-.318.622-.883.455-1.398L40.744 35.84l11.036-8.018a1.25 1.25 0 00.454-1.398z\\\" clip-rule=\\\"evenodd\\\"\\u003e\\u003c/path\\u003e\\u003c/symbol\\u003e\\u003c/svg\\u003e\\u003c/div\\u003e\\u003csvg aria-hidden=\\\"true\\\" focusable=\\\"false\\\"\\u003e\\u003ctitle\\u003e\\u003c/title\\u003e\\u003cuse href=\\\"#ps-icon:starrating-full:425\\\"\\u003e\\u003c/use\\u003e\\u003c/svg\\u003e\\u003c/span\\u003e\\u003cspan data-qa=\\\"star-rating#rating-2#icon\\\" class=\\\"psw-icon psw-icon--starrating-full psw-icon psw-icon-size-2 psw-icon--starrating-full\\\"\\u003e\\u003cdiv class=\\\"psw-hide\\\" data-original-icon-id=\\\"ps-icon:starrating-full\\\"\\u003e\\u003csvg xmlns=\\\"http://www.w3.org/2000/svg\\\"\\u003e\\u003csymbol id=\\\"ps-icon:starrating-full:426\\\" viewbox=\\\"0 0 64 64\\\"\\u003e\\u003cpath fill-rule=\\\"evenodd\\\" d=\\\"M52.234 26.425a1.249 1.249 0 00-1.189-.863H37.404l-4.215-12.974a1.249 1.249 0 00-2.378 0l-4.215 12.974H12.955a1.25 1.25 0 00-.735 2.26l11.036 8.019-4.215 12.973a1.251 1.251 0 001.923 1.398L32 42.194l11.036 8.018a1.249 1.249 0 001.469 0c.438-.318.622-.883.455-1.398L40.744 35.84l11.036-8.018a1.25 1.25 0 00.454-1.398z\\\" clip-rule=\\\"evenodd\\\"\\u003e\\u003c/path\\u003e\\u003c/symbol\\u003e\\u003c/svg\\u003e\\u003c/div\\u003e\\u003csvg aria-hidden=\\\"true\\\" focusable=\\\"false\\\"\\u003e\\u003ctitle\\u003e\\u003c/title\\u003e\\u003cuse href=\\\"#ps-icon:starrating-full:426\\\"\\u003e\\u003c/use\\u003e\\u003c/svg\\u003e\\u003c/span\\u003e\\u003cspan data-qa=\\\"star-rating#rating-3#icon\\\" class=\\\"psw-icon psw-icon--starrating-full psw-icon psw-icon-size-2 psw-icon--starrating-full\\\"\\u003e\\u003cdiv class=\\\"psw-hide\\\" data-original-icon-id=\\\"ps-icon:starrating-full\\\"\\u003e\\u003csvg xmlns=\\\"http://www.w3.org/2000/svg\\\"\\u003e\\u003csymbol id=\\\"ps-icon:starrating-full:427\\\" viewbox=\\\"0 0 64 64\\\"\\u003e\\u003cpath fill-rule=\\\"evenodd\\\" d=\\\"M52.234 26.425a1.249 1.249 0 00-1.189-.863H37.404l-4.215-12.974a1.249 1.249 0 00-2.378 0l-4.215 12.974H12.955a1.25 1.25 0 00-.735 2.26l11.036 8.019-4.215 12.973a1.251 1.251 0 001.923 1.398L32 42.194l11.036 8.018a1.249 1.249 0 001.469 0c.438-.318.622-.883.455-1.398L40.744 35.84l11.036-8.018a1.25 1.25 0 00.454-1.398z\\\" clip-rule=\\\"evenodd\\\"\\u003e\\u003c/path\\u003e\\u003c/symbol\\u003e\\u003c/svg\\u003e\\u003c/div\\u003e\\u003csvg aria-hidden=\\\"true\\\" focusable=\\\"false\\\"\\u003e\\u003ctitle\\u003e\\u003c/title\\u003e\\u003cuse href=\\\"#ps-icon:starrating-full:427\\\"\\u003e\\u003c/use\\u003e\\u003c/svg\\u003e\\u003c/span\\u003e\\u003cspan data-qa=\\\"star-rating#rating-4#icon\\\" class=\\\"psw-icon psw-icon--starrating-full psw-icon psw-icon-size-2 psw-icon--starrating-full\\\"\\u003e\\u003cdiv class=\\\"psw-hide\\\" data-original-icon-id=\\\"ps-icon:starrating-full\\\"\\u003e\\u003csvg xmlns=\\\"http://www.w3.org/2000/svg\\\"\\u003e\\u003csymbol id=\\\"ps-icon:starrating-full:428\\\" viewbox=\\\"0 0 64 64\\\"\\u003e\\u003cpath fill-rule=\\\"evenodd\\\" d=\\\"M52.234 26.425a1.249 1.249 0 00-1.189-.863H37.404l-4.215-12.974a1.249 1.249 0 00-2.378 0l-4.215 12.974H12.955a1.25 1.25 0 00-.735 2.26l11.036 8.019-4.215 12.973a1.251 1.251 0 001.923 1.398L32 42.194l11.036 8.018a1.249 1.249 0 001.469 0c.438-.318.622-.883.455-1.398L40.744 35.84l11.036-8.018a1.25 1.25 0 00.454-1.398z\\\" clip-rule=\\\"evenodd\\\"\\u003e\\u003c/path\\u003e\\u003c/symbol\\u003e\\u003c/svg\\u003e\\u003c/div\\u003e\\u003csvg aria-hidden=\\\"true\\\" focusable=\\\"false\\\"\\u003e\\u003ctitle\\u003e\\u003c/title\\u003e\\u003cuse href=\\\"#ps-icon:starrating-full:428\\\"\\u003e\\u003c/use\\u003e\\u003c/svg\\u003e\\u003c/span\\u003e\\u003cspan data-qa=\\\"star-rating#rating-5#icon\\\" class=\\\"psw-icon psw-icon--starrating-full psw-icon psw-icon-size-2 psw-icon--starrating-full\\\"\\u003e\\u003cdiv class=\\\"psw-hide\\\" data-original-icon-id=\\\"ps-icon:starrating-full\\\"\\u003e\\u003csvg xmlns=\\\"http://www.w3.org/2000/svg\\\"\\u003e\\u003csymbol id=\\\"ps-icon:starrating-full:429\\\" viewbox=\\\"0 0 64 64\\\"\\u003e\\u003cpath fill-rule=\\\"evenodd\\\" d=\\\"M52.234 26.425a1.249 1.249 0 00-1.189-.863H37.404l-4.215-12.974a1.249 1.249 0 00-2.378 0l-4.215 12.974H12.955a1.25 1.25 0 00-.735 2.26l11.036 8.019-4.215 12.973a1.251 1.251 0 001.923 1.398L32 42.194l11.036 8.018a1.249 1.249 0 001.469 0c.438-.318.622-.883.455-1.398L40.744 35.84l11.036-8.018a1.25 1.25 0 00.454-1.398z\\\" clip-rule=\\\"evenodd\\\"\\u003e\\u003c/path\\u003e\\u003c/symbol\\u003e\\u003c/svg\\u003e\\u003c/div\\u003e\\u003csvg aria-hidden=\\\"true\\\" focusable=\\\"false\\\"\\u003e\\u003ctitle\\u003e\\u003c/title\\u003e\\u003cuse href=\\\"#ps-icon:starrating-full:429\\\"\\u003e\\u003c/use\\u003e\\u003c/svg\\u003e\\u003c/span\\u003e\\u003c/span\\u003e\\u003c/div\\u003e\\u003c/div\\u003e\\u003cspan aria-hidden=\\\"true\\\" class=\\\"psw-t-body\\\" data-qa=\\\"mfe-star-rating#overall-rating#rating-progress5#percentage-label\\\"\\u003e86％\\u003c/span\\u003e\\u003c/div\\u003e\\u003cdiv aria-valuenow=\\\"86％\\\" role=\\\"progressbar\\\" class=\\\"psw-fill-x psw-l-h-2 psw-r-1 psw-m-b-2 psw-rating-progress-bar-empty\\\" data-qa=\\\"mfe-star-rating#overall-rating#rating-progress5#empty\\\"\\u003e\\u003cdiv class=\\\"psw-rating-progress-bar-full psw-fill-y psw-r-left-1\\\" data-qa=\\\"mfe-star-rating#overall-rating#rating-progress5#full\\\" style=\\\"width:86%\\\"\\u003e\\u003c/div\\u003e\\u003c/div\\u003e\\u003c/div\\u003e\\u003c/div\\u003e\\u003cdiv class=\\\"psw-m-b-2\\\"\\u003e\\u003cdiv class=\\\"psw-rating-progress-bar psw-l-stack psw-fill-x\\\" data-qa=\\\"mfe-star-rating#overall-rating#rating-progress4\\\"\\u003e\\u003cdiv class=\\\"psw-l-line-repel psw-l-align-center\\\"\\u003e\\u003cdiv class=\\\"psw-l-line-left\\\"\\u003e\\u003cspan class=\\\"psw-sr-only\\\"\\u003e星4個\\u003c/span\\u003e\\u003cdiv aria-hidden=\\\"true\\\"\\u003e\\u003cspan class=\\\"psw-rating-progress-bar-star-4 psw-l-line-left\\\" data-qa=\\\"star-rating\\\"\\u003e\\u003cspan data-qa=\\\"star-rating#rating-1#icon\\\" class=\\\"psw-icon psw-icon--starrating-full psw-icon psw-icon-size-2 psw-icon--starrating-full\\\"\\u003e\\u003cdiv class=\\\"psw-hide\\\" data-original-icon-id=\\\"ps-icon:starrating-full\\\"\\u003e\\u003csvg xmlns=\\\"http://www.w3.org/2000/svg\\\"\\u003e\\u003csymbol id=\\\"ps-icon:starrating-full:430\\\" viewbox=\\\"0 0 64 64\\\"\\u003e\\u003cpath fill-rule=\\\"evenodd\\\" d=\\\"M52.234 26.425a1.249 1.249 0 00-1.189-.863H37.404l-4.215-12.974a1.249 1.249 0 00-2.378 0l-4.215 12.974H12.955a1.25 1.25 0 00-.735 2.26l11.036 8.019-4.215 12.973a1.251 1.251 0 001.923 1.398L32 42.194l11.036 8.018a1.249 1.249 0 001.469 0c.438-.318.622-.883.455-1.398L40.744 35.84l11.036-8.018a1.25 1.25 0 00.454-1.398z\\\" clip-rule=\\\"evenodd\\\"\\u003e\\u003c/path\\u003e\\u003c/symbol\\u003e\\u003c/svg\\u003e\\u003c/div\\u003e\\u003csvg aria-hidden=\\\"true\\\" focusable=\\\"false\\\"\\u003e\\u003ctitle\\u003e\\u003c/title\\u003e\\u003cuse href=\\\"#ps-icon:starrating-full:430\\\"\\u003e\\u003c/use\\u003e\\u003c/svg\\u003e\\u003c/span\\u003e\\u003cspan data-qa=\\\"star-rating#rating-2#icon\\\" class=\\\"psw-icon psw-icon--starrating-full psw-icon psw-icon-size-2 psw-icon--starrating-full\\\"\\u003e\\u003cdiv class=\\\"psw-hide\\\" data-original-icon-id=\\\"ps-icon:starrating-full\\\"\\u003e\\u003csvg xmlns=\\\"http://www.w3.org/2000/svg\\\"\\u003e\\u003csymbol id=\\\"ps-icon:starrating-full:431\\\" viewbox=\\\"0 0 64 64\\\"\\u003e\\u003cpath fill-rule=\\\"evenodd\\\" d=\\\"M52.234 26.425a1.249 1.249 0 00-1.189-.863H37.404l-4.215-12.974a1.249 1.249 0 00-2.378 0l-4.215 12.974H12.955a1.25 1.25 0 00-.735 2.26l11.036 8.019-4.215 12.973a1.251 1.251 0 001.923 1.398L32 42.194l11.036 8.018a1.249 1.249 0 001.469 0c.438-.318.622-.883.455-1.398L40.744 35.84l11.036-8.018a1.25 1.25 0 00.454-1.398z\\\" clip-rule=\\\"evenodd\\\"\\u003e\\u003c/path\\u003e\\u003c/symbol\\u003e\\u003c/svg\\u003e\\u003c/div\\u003e\\u003csvg aria-hidden=\\\"true\\\" focusable=\\\"false\\\"\\u003e\\u003ctitle\\u003e\\u003c/title\\u003e\\u003cuse href=\\\"#ps-icon:starrating-full:431\\\"\\u003e\\u003c/use\\u003e\\u003c/svg\\u003e\\u003c/span\\u003e\\u003cspan data-qa=\\\"star-rating#rating-3#icon\\\" class=\\\"psw-icon psw-icon--starrating-full psw-icon psw-icon-size-2 psw-icon--starrating-full\\\"\\u003e\\u003cdiv class=\\\"psw-hide\\\" data-original-icon-id=\\\"ps-icon:starrating-full\\\"\\u003e\\u003csvg xmlns=\\\"http://www.w3.org/2000/svg\\\"\\u003e\\u003csymbol id=\\\"ps-icon:starrating-full:432\\\" viewbox=\\\"0 0 64 64\\\"\\u003e\\u003cpath fill-rule=\\\"evenodd\\\" d=\\\"M52.234 26.425a1.249 1.249 0 00-1.189-.863H37.404l-4.215-12.974a1.249 1.249 0 00-2.378 0l-4.215 12.974H12.955a1.25 1.25 0 00-.735 2.26l11.036 8.019-4.215 12.973a1.251 1.251 0 001.923 1.398L32 42.194l11.036 8.018a1.249 1.249 0 001.469 0c.438-.318.622-.883.455-1.398L40.744 35.84l11.036-8.018a1.25 1.25 0 00.454-1.398z\\\" clip-rule=\\\"evenodd\\\"\\u003e\\u003c/path\\u003e\\u003c/symbol\\u003e\\u003c/svg\\u003e\\u003c/div\\u003e\\u003csvg aria-hidden=\\\"true\\\" focusable=\\\"false\\\"\\u003e\\u003ctitle\\u003e\\u003c/title\\u003e\\u003cuse href=\\\"#ps-icon:starrating-full:432\\\"\\u003e\\u003c/use\\u003e\\u003c/svg\\u003e\\u003c/span\\u003e\\u003cspan data-qa=\\\"star-rating#rating-4#icon\\\" class=\\\"psw-icon psw-icon--starrating-full psw-icon psw-icon-size-2 psw-icon--starrating-full\\\"\\u003e\\u003cdiv class=\\\"psw-hide\\\" data-original-icon-id=\\\"ps-icon:starrating-full\\\"\\u003e\\u003csvg xmlns=\\\"http://www.w3.org/2000/svg\\\"\\u003e\\u003csymbol id=\\\"ps-icon:starrating-full:433\\\" viewbox=\\\"0 0 64 64\\\"\\u003e\\u003cpath fill-rule=\\\"evenodd\\\" d=\\\"M52.234 26.425a1.249 1.249 0 00-1.189-.863H37.404l-4.215-12.974a1.249 1.249 0 00-2.378 0l-4.215 12.974H12.955a1.25 1.25 0 00-.735 2.26l11.036 8.019-4.215 12.973a1.251 1.251 0 001.923 1.398L32 42.194l11.036 8.018a1.249 1.249 0 001.469 0c.438-.318.622-.883.455-1.398L40.744 35.84l11.036-8.018a1.25 1.25 0 00.454-1.398z\\\" clip-rule=\\\"evenodd\\\"\\u003e\\u003c/path\\u003e\\u003c/symbol\\u003e\\u003c/svg\\u003e\\u003c/div\\u003e\\u003csvg aria-hidden=\\\"true\\\" focusable=\\\"false\\\"\\u003e\\u003ctitle\\u003e\\u003c/title\\u003e\\u003cuse href=\\\"#ps-icon:starrating-full:433\\\"\\u003e\\u003c/use\\u003e\\u003c/svg\\u003e\\u003c/span\\u003e\\u003cspan data-qa=\\\"star-rating#rating-5#icon\\\" class=\\\"psw-icon psw-icon--starrating-empty psw-icon psw-icon-size-2 psw-icon--starrating-empty\\\"\\u003e\\u003cdiv class=\\\"psw-hide\\\" data-original-icon-id=\\\"ps-icon:starrating-empty\\\"\\u003e\\u003csvg xmlns=\\\"http://www.w3.org/2000/svg\\\"\\u003e\\u003csymbol id=\\\"ps-icon:starrating-empty:434\\\" viewbox=\\\"0 0 64 64\\\"\\u003e\\u003cpath fill-rule=\\\"evenodd\\\" d=\\\"M32 39.398c.258 0 .516.08.735.238l8.658 6.291-3.308-10.177a1.253 1.253 0 01.455-1.399l8.658-6.29H36.496a1.252 1.252 0 01-1.189-.863L32 17.02 28.693 27.2a1.252 1.252 0 01-1.189.862H16.802l8.658 6.29c.438.318.622.883.455 1.4l-3.308 10.176 8.658-6.29c.219-.16.477-.239.735-.239zM43.771 50.45c-.258 0-.516-.079-.735-.239L32 42.193l-11.036 8.018a1.25 1.25 0 01-1.923-1.398l4.215-12.973-11.036-8.017a1.252 1.252 0 01.735-2.262h13.641l4.215-12.974a1.251 1.251 0 012.378 0l4.215 12.974h13.641a1.252 1.252 0 01.735 2.262L40.744 35.84l4.215 12.973a1.25 1.25 0 01-1.188 1.637z\\\" clip-rule=\\\"evenodd\\\"\\u003e\\u003c/path\\u003e\\u003c/symbol\\u003e\\u003c/svg\\u003e\\u003c/div\\u003e\\u003csvg aria-hidden=\\\"true\\\" focusable=\\\"false\\\"\\u003e\\u003ctitle\\u003e\\u003c/title\\u003e\\u003cuse href=\\\"#ps-icon:starrating-empty:434\\\"\\u003e\\u003c/use\\u003e\\u003c/svg\\u003e\\u003c/span\\u003e\\u003c/span\\u003e\\u003c/div\\u003e\\u003c/div\\u003e\\u003cspan aria-hidden=\\\"true\\\" class=\\\"psw-t-body\\\" data-qa=\\\"mfe-star-rating#overall-rating#rating-progress4#percentage-label\\\"\\u003e8％\\u003c/span\\u003e\\u003c/div\\u003e\\u003cdiv aria-valuenow=\\\"8％\\\" role=\\\"progressbar\\\" class=\\\"psw-fill-x psw-l-h-2 psw-r-1 psw-m-b-2 psw-rating-progress-bar-empty\\\" data-qa=\\\"mfe-star-rating#overall-rating#rating-progress4#empty\\\"\\u003e\\u003cdiv class=\\\"psw-rating-progress-bar-full psw-fill-y psw-r-left-1\\\" data-qa=\\\"mfe-star-rating#overall-rating#rating-progress4#full\\\" style=\\\"width:8%\\\"\\u003e\\u003c/div\\u003e\\u003c/div\\u003e\\u003c/div\\u003e\\u003c/div\\u003e\\u003cdiv class=\\\"psw-m-b-2\\\"\\u003e\\u003cdiv class=\\\"psw-rating-progress-bar psw-l-stack psw-fill-x\\\" data-qa=\\\"mfe-star-rating#overall-rating#rating-progress3\\\"\\u003e\\u003cdiv class=\\\"psw-l-line-repel psw-l-align-center\\\"\\u003e\\u003cdiv class=\\\"psw-l-line-left\\\"\\u003e\\u003cspan class=\\\"psw-sr-only\\\"\\u003e星3個\\u003c/span\\u003e\\u003cdiv aria-hidden=\\\"true\\\"\\u003e\\u003cspan class=\\\"psw-rating-progress-bar-star-3 psw-l-line-left\\\" data-qa=\\\"star-rating\\\"\\u003e\\u003cspan data-qa=\\\"star-rating#rating-1#icon\\\" class=\\\"psw-icon psw-icon--starrating-full psw-icon psw-icon-size-2 psw-icon--starrating-full\\\"\\u003e\\u003cdiv class=\\\"psw-hide\\\" data-original-icon-id=\\\"ps-icon:starrating-full\\\"\\u003e\\u003csvg xmlns=\\\"http://www.w3.org/2000/svg\\\"\\u003e\\u003csymbol id=\\\"ps-icon:starrating-full:435\\\" viewbox=\\\"0 0 64 64\\\"\\u003e\\u003cpath fill-rule=\\\"evenodd\\\" d=\\\"M52.234 26.425a1.249 1.249 0 00-1.189-.863H37.404l-4.215-12.974a1.249 1.249 0 00-2.378 0l-4.215 12.974H12.955a1.25 1.25 0 00-.735 2.26l11.036 8.019-4.215 12.973a1.251 1.251 0 001.923 1.398L32 42.194l11.036 8.018a1.249 1.249 0 001.469 0c.438-.318.622-.883.455-1.398L40.744 35.84l11.036-8.018a1.25 1.25 0 00.454-1.398z\\\" clip-rule=\\\"evenodd\\\"\\u003e\\u003c/path\\u003e\\u003c/symbol\\u003e\\u003c/svg\\u003e\\u003c/div\\u003e\\u003csvg aria-hidden=\\\"true\\\" focusable=\\\"false\\\"\\u003e\\u003ctitle\\u003e\\u003c/title\\u003e\\u003cuse href=\\\"#ps-icon:starrating-full:435\\\"\\u003e\\u003c/use\\u003e\\u003c/svg\\u003e\\u003c/span\\u003e\\u003cspan data-qa=\\\"star-rating#rating-2#icon\\\" class=\\\"psw-icon psw-icon--starrating-full psw-icon psw-icon-size-2 psw-icon--starrating-full\\\"\\u003e\\u003cdiv class=\\\"psw-hide\\\" data-original-icon-id=\\\"ps-icon:starrating-full\\\"\\u003e\\u003csvg xmlns=\\\"http://www.w3.org/2000/svg\\\"\\u003e\\u003csymbol id=\\\"ps-icon:starrating-full:436\\\" viewbox=\\\"0 0 64 64\\\"\\u003e\\u003cpath fill-rule=\\\"evenodd\\\" d=\\\"M52.234 26.425a1.249 1.249 0 00-1.189-.863H37.404l-4.215-12.974a1.249 1.249 0 00-2.378 0l-4.215 12.974H12.955a1.25 1.25 0 00-.735 2.26l11.036 8.019-4.215 12.973a1.251 1.251 0 001.923 1.398L32 42.194l11.036 8.018a1.249 1.249 0 001.469 0c.438-.318.622-.883.455-1.398L40.744 35.84l11.036-8.018a1.25 1.25 0 00.454-1.398z\\\" clip-rule=\\\"evenodd\\\"\\u003e\\u003c/path\\u003e\\u003c/symbol\\u003e\\u003c/svg\\u003e\\u003c/div\\u003e\\u003csvg aria-hidden=\\\"true\\\" focusable=\\\"false\\\"\\u003e\\u003ctitle\\u003e\\u003c/title\\u003e\\u003cuse href=\\\"#ps-icon:starrating-full:436\\\"\\u003e\\u003c/use\\u003e\\u003c/svg\\u003e\\u003c/span\\u003e\\u003cspan data-qa=\\\"star-rating#rating-3#icon\\\" class=\\\"psw-icon psw-icon--starrating-full psw-icon psw-icon-size-2 psw-icon--starrating-full\\\"\\u003e\\u003cdiv class=\\\"psw-hide\\\" data-original-icon-id=\\\"ps-icon:starrating-full\\\"\\u003e\\u003csvg xmlns=\\\"http://www.w3.org/2000/svg\\\"\\u003e\\u003csymbol id=\\\"ps-icon:starrating-full:437\\\" viewbox=\\\"0 0 64 64\\\"\\u003e\\u003cpath fill-rule=\\\"evenodd\\\" d=\\\"M52.234 26.425a1.249 1.249 0 00-1.189-.863H37.404l-4.215-12.974a1.249 1.249 0 00-2.378 0l-4.215 12.974H12.955a1.25 1.25 0 00-.735 2.26l11.036 8.019-4.215 12.973a1.251 1.251 0 001.923 1.398L32 42.194l11.036 8.018a1.249 1.249 0 001.469 0c.438-.318.622-.883.455-1.398L40.744 35.84l11.036-8.018a1.25 1.25 0 00.454-1.398z\\\" clip-rule=\\\"evenodd\\\"\\u003e\\u003c/path\\u003e\\u003c/symbol\\u003e\\u003c/svg\\u003e\\u003c/div\\u003e\\u003csvg aria-hidden=\\\"true\\\" focusable=\\\"false\\\"\\u003e\\u003ctitle\\u003e\\u003c/title\\u003e\\u003cuse href=\\\"#ps-icon:starrating-full:437\\\"\\u003e\\u003c/use\\u003e\\u003c/svg\\u003e\\u003c/span\\u003e\\u003cspan data-qa=\\\"star-rating#rating-4#icon\\\" class=\\\"psw-icon psw-icon--starrating-empty psw-icon psw-icon-size-2 psw-icon--starrating-empty\\\"\\u003e\\u003cdiv class=\\\"psw-hide\\\" data-original-icon-id=\\\"ps-icon:starrating-empty\\\"\\u003e\\u003csvg xmlns=\\\"http://www.w3.org/2000/svg\\\"\\u003e\\u003csymbol id=\\\"ps-icon:starrating-empty:438\\\" viewbox=\\\"0 0 64 64\\\"\\u003e\\u003cpath fill-rule=\\\"evenodd\\\" d=\\\"M32 39.398c.258 0 .516.08.735.238l8.658 6.291-3.308-10.177a1.253 1.253 0 01.455-1.399l8.658-6.29H36.496a1.252 1.252 0 01-1.189-.863L32 17.02 28.693 27.2a1.252 1.252 0 01-1.189.862H16.802l8.658 6.29c.438.318.622.883.455 1.4l-3.308 10.176 8.658-6.29c.219-.16.477-.239.735-.239zM43.771 50.45c-.258 0-.516-.079-.735-.239L32 42.193l-11.036 8.018a1.25 1.25 0 01-1.923-1.398l4.215-12.973-11.036-8.017a1.252 1.252 0 01.735-2.262h13.641l4.215-12.974a1.251 1.251 0 012.378 0l4.215 12.974h13.641a1.252 1.252 0 01.735 2.262L40.744 35.84l4.215 12.973a1.25 1.25 0 01-1.188 1.637z\\\" clip-rule=\\\"evenodd\\\"\\u003e\\u003c/path\\u003e\\u003c/symbol\\u003e\\u003c/svg\\u003e\\u003c/div\\u003e\\u003csvg aria-hidden=\\\"true\\\" focusable=\\\"false\\\"\\u003e\\u003ctitle\\u003e\\u003c/title\\u003e\\u003cuse href=\\\"#ps-icon:starrating-empty:438\\\"\\u003e\\u003c/use\\u003e\\u003c/svg\\u003e\\u003c/span\\u003e\\u003cspan data-qa=\\\"star-rating#rating-5#icon\\\" class=\\\"psw-icon psw-icon--starrating-empty psw-icon psw-icon-size-2 psw-icon--starrating-empty\\\"\\u003e\\u003cdiv class=\\\"psw-hide\\\" data-original-icon-id=\\\"ps-icon:starrating-empty\\\"\\u003e\\u003csvg xmlns=\\\"http://www.w3.org/2000/svg\\\"\\u003e\\u003csymbol id=\\\"ps-icon:starrating-empty:439\\\" viewbox=\\\"0 0 64 64\\\"\\u003e\\u003cpath fill-rule=\\\"evenodd\\\" d=\\\"M32 39.398c.258 0 .516.08.735.238l8.658 6.291-3.308-10.177a1.253 1.253 0 01.455-1.399l8.658-6.29H36.496a1.252 1.252 0 01-1.189-.863L32 17.02 28.693 27.2a1.252 1.252 0 01-1.189.862H16.802l8.658 6.29c.438.318.622.883.455 1.4l-3.308 10.176 8.658-6.29c.219-.16.477-.239.735-.239zM43.771 50.45c-.258 0-.516-.079-.735-.239L32 42.193l-11.036 8.018a1.25 1.25 0 01-1.923-1.398l4.215-12.973-11.036-8.017a1.252 1.252 0 01.735-2.262h13.641l4.215-12.974a1.251 1.251 0 012.378 0l4.215 12.974h13.641a1.252 1.252 0 01.735 2.262L40.744 35.84l4.215 12.973a1.25 1.25 0 01-1.188 1.637z\\\" clip-rule=\\\"evenodd\\\"\\u003e\\u003c/path\\u003e\\u003c/symbol\\u003e\\u003c/svg\\u003e\\u003c/div\\u003e\\u003csvg aria-hidden=\\\"true\\\" focusable=\\\"false\\\"\\u003e\\u003ctitle\\u003e\\u003c/title\\u003e\\u003cuse href=\\\"#ps-icon:starrating-empty:439\\\"\\u003e\\u003c/use\\u003e\\u003c/svg\\u003e\\u003c/span\\u003e\\u003c/span\\u003e\\u003c/div\\u003e\\u003c/div\\u003e\\u003cspan aria-hidden=\\\"true\\\" class=\\\"psw-t-body\\\" data-qa=\\\"mfe-star-rating#overall-rating#rating-progress3#percentage-label\\\"\\u003e3％\\u003c/span\\u003e\\u003c/div\\u003e\\u003cdiv aria-valuenow=\\\"3％\\\" role=\\\"progressbar\\\" class=\\\"psw-fill-x psw-l-h-2 psw-r-1 psw-m-b-2 psw-rating-progress-bar-empty\\\" data-qa=\\\"mfe-star-rating#overall-rating#rating-progress3#empty\\\"\\u003e\\u003cdiv class=\\\"psw-rating-progress-bar-full psw-fill-y psw-r-left-1\\\" data-qa=\\\"mfe-star-rating#overall-rating#rating-progress3#full\\\" style=\\\"width:3%\\\"\\u003e\\u003c/div\\u003e\\u003c/div\\u003e\\u003c/div\\u003e\\u003c/div\\u003e\\u003cdiv class=\\\"psw-m-b-2\\\"\\u003e\\u003cdiv class=\\\"psw-rating-progress-bar psw-l-stack psw-fill-x\\\" data-qa=\\\"mfe-star-rating#overall-rating#rating-progress2\\\"\\u003e\\u003cdiv class=\\\"psw-l-line-repel psw-l-align-center\\\"\\u003e\\u003cdiv class=\\\"psw-l-line-left\\\"\\u003e\\u003cspan class=\\\"psw-sr-only\\\"\\u003e星2個\\u003c/span\\u003e\\u003cdiv aria-hidden=\\\"true\\\"\\u003e\\u003cspan class=\\\"psw-rating-progress-bar-star-2 psw-l-line-left\\\" data-qa=\\\"star-rating\\\"\\u003e\\u003cspan data-qa=\\\"star-rating#rating-1#icon\\\" class=\\\"psw-icon psw-icon--starrating-full psw-icon psw-icon-size-2 psw-icon--starrating-full\\\"\\u003e\\u003cdiv class=\\\"psw-hide\\\" data-original-icon-id=\\\"ps-icon:starrating-full\\\"\\u003e\\u003csvg xmlns=\\\"http://www.w3.org/2000/svg\\\"\\u003e\\u003csymbol id=\\\"ps-icon:starrating-full:440\\\" viewbox=\\\"0 0 64 64\\\"\\u003e\\u003cpath fill-rule=\\\"evenodd\\\" d=\\\"M52.234 26.425a1.249 1.249 0 00-1.189-.863H37.404l-4.215-12.974a1.249 1.249 0 00-2.378 0l-4.215 12.974H12.955a1.25 1.25 0 00-.735 2.26l11.036 8.019-4.215 12.973a1.251 1.251 0 001.923 1.398L32 42.194l11.036 8.018a1.249 1.249 0 001.469 0c.438-.318.622-.883.455-1.398L40.744 35.84l11.036-8.018a1.25 1.25 0 00.454-1.398z\\\" clip-rule=\\\"evenodd\\\"\\u003e\\u003c/path\\u003e\\u003c/symbol\\u003e\\u003c/svg\\u003e\\u003c/div\\u003e\\u003csvg aria-hidden=\\\"true\\\" focusable=\\\"false\\\"\\u003e\\u003ctitle\\u003e\\u003c/title\\u003e\\u003cuse href=\\\"#ps-icon:starrating-full:440\\\"\\u003e\\u003c/use\\u003e\\u003c/svg\\u003e\\u003c/span\\u003e\\u003cspan data-qa=\\\"star-rating#rating-2#icon\\\" class=\\\"psw-icon psw-icon--starrating-full psw-icon psw-icon-size-2 psw-icon--starrating-full\\\"\\u003e\\u003cdiv class=\\\"psw-hide\\\" data-original-icon-id=\\\"ps-icon:starrating-full\\\"\\u003e\\u003csvg xmlns=\\\"http://www.w3.org/2000/svg\\\"\\u003e\\u003csymbol id=\\\"ps-icon:starrating-full:441\\\" viewbox=\\\"0 0 64 64\\\"\\u003e\\u003cpath fill-rule=\\\"evenodd\\\" d=\\\"M52.234 26.425a1.249 1.249 0 00-1.189-.863H37.404l-4.215-12.974a1.249 1.249 0 00-2.378 0l-4.215 12.974H12.955a1.25 1.25 0 00-.735 2.26l11.036 8.019-4.215 12.973a1.251 1.251 0 001.923 1.398L32 42.194l11.036 8.018a1.249 1.249 0 001.469 0c.438-.318.622-.883.455-1.398L40.744 35.84l11.036-8.018a1.25 1.25 0 00.454-1.398z\\\" clip-rule=\\\"evenodd\\\"\\u003e\\u003c/path\\u003e\\u003c/symbol\\u003e\\u003c/svg\\u003e\\u003c/div\\u003e\\u003csvg aria-hidden=\\\"true\\\" focusable=\\\"false\\\"\\u003e\\u003ctitle\\u003e\\u003c/title\\u003e\\u003cuse href=\\\"#ps-icon:starrating-full:441\\\"\\u003e\\u003c/use\\u003e\\u003c/svg\\u003e\\u003c/span\\u003e\\u003cspan data-qa=\\\"star-rating#rating-3#icon\\\" class=\\\"psw-icon psw-icon--starrating-empty psw-icon psw-icon-size-2 psw-icon--starrating-empty\\\"\\u003e\\u003cdiv class=\\\"psw-hide\\\" data-original-icon-id=\\\"ps-icon:starrating-empty\\\"\\u003e\\u003csvg xmlns=\\\"http://www.w3.org/2000/svg\\\"\\u003e\\u003csymbol id=\\\"ps-icon:starrating-empty:442\\\" viewbox=\\\"0 0 64 64\\\"\\u003e\\u003cpath fill-rule=\\\"evenodd\\\" d=\\\"M32 39.398c.258 0 .516.08.735.238l8.658 6.291-3.308-10.177a1.253 1.253 0 01.455-1.399l8.658-6.29H36.496a1.252 1.252 0 01-1.189-.863L32 17.02 28.693 27.2a1.252 1.252 0 01-1.189.862H16.802l8.658 6.29c.438.318.622.883.455 1.4l-3.308 10.176 8.658-6.29c.219-.16.477-.239.735-.239zM43.771 50.45c-.258 0-.516-.079-.735-.239L32 42.193l-11.036 8.018a1.25 1.25 0 01-1.923-1.398l4.215-12.973-11.036-8.017a1.252 1.252 0 01.735-2.262h13.641l4.215-12.974a1.251 1.251 0 012.378 0l4.215 12.974h13.641a1.252 1.252 0 01.735 2.262L40.744 35.84l4.215 12.973a1.25 1.25 0 01-1.188 1.637z\\\" clip-rule=\\\"evenodd\\\"\\u003e\\u003c/path\\u003e\\u003c/symbol\\u003e\\u003c/svg\\u003e\\u003c/div\\u003e\\u003csvg aria-hidden=\\\"true\\\" focusable=\\\"false\\\"\\u003e\\u003ctitle\\u003e\\u003c/title\\u003e\\u003cuse href=\\\"#ps-icon:starrating-empty:442\\\"\\u003e\\u003c/use\\u003e\\u003c/svg\\u003e\\u003c/span\\u003e\\u003cspan data-qa=\\\"star-rating#rating-4#icon\\\" class=\\\"psw-icon psw-icon--starrating-empty psw-icon psw-icon-size-2 psw-icon--starrating-empty\\\"\\u003e\\u003cdiv class=\\\"psw-hide\\\" data-original-icon-id=\\\"ps-icon:starrating-empty\\\"\\u003e\\u003csvg xmlns=\\\"http://www.w3.org/2000/svg\\\"\\u003e\\u003csymbol id=\\\"ps-icon:starrating-empty:443\\\" viewbox=\\\"0 0 64 64\\\"\\u003e\\u003cpath fill-rule=\\\"evenodd\\\" d=\\\"M32 39.398c.258 0 .516.08.735.238l8.658 6.291-3.308-10.177a1.253 1.253 0 01.455-1.399l8.658-6.29H36.496a1.252 1.252 0 01-1.189-.863L32 17.02 28.693 27.2a1.252 1.252 0 01-1.189.862H16.802l8.658 6.29c.438.318.622.883.455 1.4l-3.308 10.176 8.658-6.29c.219-.16.477-.239.735-.239zM43.771 50.45c-.258 0-.516-.079-.735-.239L32 42.193l-11.036 8.018a1.25 1.25 0 01-1.923-1.398l4.215-12.973-11.036-8.017a1.252 1.252 0 01.735-2.262h13.641l4.215-12.974a1.251 1.251 0 012.378 0l4.215 12.974h13.641a1.252 1.252 0 01.735 2.262L40.744 35.84l4.215 12.973a1.25 1.25 0 01-1.188 1.637z\\\" clip-rule=\\\"evenodd\\\"\\u003e\\u003c/path\\u003e\\u003c/symbol\\u003e\\u003c/svg\\u003e\\u003c/div\\u003e\\u003csvg aria-hidden=\\\"true\\\" focusable=\\\"false\\\"\\u003e\\u003ctitle\\u003e\\u003c/title\\u003e\\u003cuse href=\\\"#ps-icon:starrating-empty:443\\\"\\u003e\\u003c/use\\u003e\\u003c/svg\\u003e\\u003c/span\\u003e\\u003cspan data-qa=\\\"star-rating#rating-5#icon\\\" class=\\\"psw-icon psw-icon--starrating-empty psw-icon psw-icon-size-2 psw-icon--starrating-empty\\\"\\u003e\\u003cdiv class=\\\"psw-hide\\\" data-original-icon-id=\\\"ps-icon:starrating-empty\\\"\\u003e\\u003csvg xmlns=\\\"http://www.w3.org/2000/svg\\\"\\u003e\\u003csymbol id=\\\"ps-icon:starrating-empty:444\\\" viewbox=\\\"0 0 64 64\\\"\\u003e\\u003cpath fill-rule=\\\"evenodd\\\" d=\\\"M32 39.398c.258 0 .516.08.735.238l8.658 6.291-3.308-10.177a1.253 1.253 0 01.455-1.399l8.658-6.29H36.496a1.252 1.252 0 01-1.189-.863L32 17.02 28.693 27.2a1.252 1.252 0 01-1.189.862H16.802l8.658 6.29c.438.318.622.883.455 1.4l-3.308 10.176 8.658-6.29c.219-.16.477-.239.735-.239zM43.771 50.45c-.258 0-.516-.079-.735-.239L32 42.193l-11.036 8.018a1.25 1.25 0 01-1.923-1.398l4.215-12.973-11.036-8.017a1.252 1.252 0 01.735-2.262h13.641l4.215-12.974a1.251 1.251 0 012.378 0l4.215 12.974h13.641a1.252 1.252 0 01.735 2.262L40.744 35.84l4.215 12.973a1.25 1.25 0 01-1.188 1.637z\\\" clip-rule=\\\"evenodd\\\"\\u003e\\u003c/path\\u003e\\u003c/symbol\\u003e\\u003c/svg\\u003e\\u003c/div\\u003e\\u003csvg aria-hidden=\\\"true\\\" focusable=\\\"false\\\"\\u003e\\u003ctitle\\u003e\\u003c/title\\u003e\\u003cuse href=\\\"#ps-icon:starrating-empty:444\\\"\\u003e\\u003c/use\\u003e\\u003c/svg\\u003e\\u003c/span\\u003e\\u003c/span\\u003e\\u003c/div\\u003e\\u003c/div\\u003e\\u003cspan aria-hidden=\\\"true\\\" class=\\\"psw-t-body\\\" data-qa=\\\"mfe-star-rating#overall-rating#rating-progress2#percentage-label\\\"\\u003e1％\\u003c/span\\u003e\\u003c/div\\u003e\\u003cdiv aria-valuenow=\\\"1％\\\" role=\\\"progressbar\\\" class=\\\"psw-fill-x psw-l-h-2 psw-r-1 psw-m-b-2 psw-rating-progress-bar-empty\\\" data-qa=\\\"mfe-star-rating#overall-rating#rating-progress2#empty\\\"\\u003e\\u003cdiv class=\\\"psw-rating-progress-bar-full psw-fill-y psw-r-left-1\\\" data-qa=\\\"mfe-star-rating#overall-rating#rating-progress2#full\\\" style=\\\"width:1%\\\"\\u003e\\u003c/div\\u003e\\u003c/div\\u003e\\u003c/div\\u003e\\u003c/div\\u003e\\u003cdiv class=\\\"psw-m-b-2\\\"\\u003e\\u003cdiv class=\\\"psw-rating-progress-bar psw-l-stack psw-fill-x\\\" data-qa=\\\"mfe-star-rating#overall-rating#rating-progress1\\\"\\u003e\\u003cdiv class=\\\"psw-l-line-repel psw-l-align-center\\\"\\u003e\\u003cdiv class=\\\"psw-l-line-left\\\"\\u003e\\u003cspan class=\\\"psw-sr-only\\\"\\u003e評価1\\u003c/span\\u003e\\u003cdiv aria-hidden=\\\"true\\\"\\u003e\\u003cspan class=\\\"psw-rating-progress-bar-star-1 psw-l-line-left\\\" data-qa=\\\"star-rating\\\"\\u003e\\u003cspan data-qa=\\\"star-rating#rating-1#icon\\\" class=\\\"psw-icon psw-icon--starrating-full psw-icon psw-icon-size-2 psw-icon--starrating-full\\\"\\u003e\\u003cdiv class=\\\"psw-hide\\\" data-original-icon-id=\\\"ps-icon:starrating-full\\\"\\u003e\\u003csvg xmlns=\\\"http://www.w3.org/2000/svg\\\"\\u003e\\u003csymbol id=\\\"ps-icon:starrating-full:445\\\" viewbox=\\\"0 0 64 64\\\"\\u003e\\u003cpath fill-rule=\\\"evenodd\\\" d=\\\"M52.234 26.425a1.249 1.249 0 00-1.189-.863H37.404l-4.215-12.974a1.249 1.249 0 00-2.378 0l-4.215 12.974H12.955a1.25 1.25 0 00-.735 2.26l11.036 8.019-4.215 12.973a1.251 1.251 0 001.923 1.398L32 42.194l11.036 8.018a1.249 1.249 0 001.469 0c.438-.318.622-.883.455-1.398L40.744 35.84l11.036-8.018a1.25 1.25 0 00.454-1.398z\\\" clip-rule=\\\"evenodd\\\"\\u003e\\u003c/path\\u003e\\u003c/symbol\\u003e\\u003c/svg\\u003e\\u003c/div\\u003e\\u003csvg aria-hidden=\\\"true\\\" focusable=\\\"false\\\"\\u003e\\u003ctitle\\u003e\\u003c/title\\u003e\\u003cuse href=\\\"#ps-icon:starrating-full:445\\\"\\u003e\\u003c/use\\u003e\\u003c/svg\\u003e\\u003c/span\\u003e\\u003cspan data-qa=\\\"star-rating#rating-2#icon\\\" class=\\\"psw-icon psw-icon--starrating-empty psw-icon psw-icon-size-2 psw-icon--starrating-empty\\\"\\u003e\\u003cdiv class=\\\"psw-hide\\\" data-original-icon-id=\\\"ps-icon:starrating-empty\\\"\\u003e\\u003csvg xmlns=\\\"http://www.w3.org/2000/svg\\\"\\u003e\\u003csymbol id=\\\"ps-icon:starrating-empty:446\\\" viewbox=\\\"0 0 64 64\\\"\\u003e\\u003cpath fill-rule=\\\"evenodd\\\" d=\\\"M32 39.398c.258 0 .516.08.735.238l8.658 6.291-3.308-10.177a1.253 1.253 0 01.455-1.399l8.658-6.29H36.496a1.252 1.252 0 01-1.189-.863L32 17.02 28.693 27.2a1.252 1.252 0 01-1.189.862H16.802l8.658 6.29c.438.318.622.883.455 1.4l-3.308 10.176 8.658-6.29c.219-.16.477-.239.735-.239zM43.771 50.45c-.258 0-.516-.079-.735-.239L32 42.193l-11.036 8.018a1.25 1.25 0 01-1.923-1.398l4.215-12.973-11.036-8.017a1.252 1.252 0 01.735-2.262h13.641l4.215-12.974a1.251 1.251 0 012.378 0l4.215 12.974h13.641a1.252 1.252 0 01.735 2.262L40.744 35.84l4.215 12.973a1.25 1.25 0 01-1.188 1.637z\\\" clip-rule=\\\"evenodd\\\"\\u003e\\u003c/path\\u003e\\u003c/symbol\\u003e\\u003c/svg\\u003e\\u003c/div\\u003e\\u003csvg aria-hidden=\\\"true\\\" focusable=\\\"false\\\"\\u003e\\u003ctitle\\u003e\\u003c/title\\u003e\\u003cuse href=\\\"#ps-icon:starrating-empty:446\\\"\\u003e\\u003c/use\\u003e\\u003c/svg\\u003e\\u003c/span\\u003e\\u003cspan data-qa=\\\"star-rating#rating-3#icon\\\" class=\\\"psw-icon psw-icon--starrating-empty psw-icon psw-icon-size-2 psw-icon--starrating-empty\\\"\\u003e\\u003cdiv class=\\\"psw-hide\\\" data-original-icon-id=\\\"ps-icon:starrating-empty\\\"\\u003e\\u003csvg xmlns=\\\"http://www.w3.org/2000/svg\\\"\\u003e\\u003csymbol id=\\\"ps-icon:starrating-empty:447\\\" viewbox=\\\"0 0 64 64\\\"\\u003e\\u003cpath fill-rule=\\\"evenodd\\\" d=\\\"M32 39.398c.258 0 .516.08.735.238l8.658 6.291-3.308-10.177a1.253 1.253 0 01.455-1.399l8.658-6.29H36.496a1.252 1.252 0 01-1.189-.863L32 17.02 28.693 27.2a1.252 1.252 0 01-1.189.862H16.802l8.658 6.29c.438.318.622.883.455 1.4l-3.308 10.176 8.658-6.29c.219-.16.477-.239.735-.239zM43.771 50.45c-.258 0-.516-.079-.735-.239L32 42.193l-11.036 8.018a1.25 1.25 0 01-1.923-1.398l4.215-12.973-11.036-8.017a1.252 1.252 0 01.735-2.262h13.641l4.215-12.974a1.251 1.251 0 012.378 0l4.215 12.974h13.641a1.252 1.252 0 01.735 2.262L40.744 35.84l4.215 12.973a1.25 1.25 0 01-1.188 1.637z\\\" clip-rule=\\\"evenodd\\\"\\u003e\\u003c/path\\u003e\\u003c/symbol\\u003e\\u003c/svg\\u003e\\u003c/div\\u003e\\u003csvg aria-hidden=\\\"true\\\" focusable=\\\"false\\\"\\u003e\\u003ctitle\\u003e\\u003c/title\\u003e\\u003cuse href=\\\"#ps-icon:starrating-empty:447\\\"\\u003e\\u003c/use\\u003e\\u003c/svg\\u003e\\u003c/span\\u003e\\u003cspan data-qa=\\\"star-rating#rating-4#icon\\\" class=\\\"psw-icon psw-icon--starrating-empty psw-icon psw-icon-size-2 psw-icon--starrating-empty\\\"\\u003e\\u003cdiv class=\\\"psw-hide\\\" data-original-icon-id=\\\"ps-icon:starrating-empty\\\"\\u003e\\u003csvg xmlns=\\\"http://www.w3.org/2000/svg\\\"\\u003e\\u003csymbol id=\\\"ps-icon:starrating-empty:448\\\" viewbox=\\\"0 0 64 64\\\"\\u003e\\u003cpath fill-rule=\\\"evenodd\\\" d=\\\"M32 39.398c.258 0 .516.08.735.238l8.658 6.291-3.308-10.177a1.253 1.253 0 01.455-1.399l8.658-6.29H36.496a1.252 1.252 0 01-1.189-.863L32 17.02 28.693 27.2a1.252 1.252 0 01-1.189.862H16.802l8.658 6.29c.438.318.622.883.455 1.4l-3.308 10.176 8.658-6.29c.219-.16.477-.239.735-.239zM43.771 50.45c-.258 0-.516-.079-.735-.239L32 42.193l-11.036 8.018a1.25 1.25 0 01-1.923-1.398l4.215-12.973-11.036-8.017a1.252 1.252 0 01.735-2.262h13.641l4.215-12.974a1.251 1.251 0 012.378 0l4.215 12.974h13.641a1.252 1.252 0 01.735 2.262L40.744 35.84l4.215 12.973a1.25 1.25 0 01-1.188 1.637z\\\" clip-rule=\\\"evenodd\\\"\\u003e\\u003c/path\\u003e\\u003c/symbol\\u003e\\u003c/svg\\u003e\\u003c/div\\u003e\\u003csvg aria-hidden=\\\"true\\\" focusable=\\\"false\\\"\\u003e\\u003ctitle\\u003e\\u003c/title\\u003e\\u003cuse href=\\\"#ps-icon:starrating-empty:448\\\"\\u003e\\u003c/use\\u003e\\u003c/svg\\u003e\\u003c/span\\u003e\\u003cspan data-qa=\\\"star-rating#rating-5#icon\\\" class=\\\"psw-icon psw-icon--starrating-empty psw-icon psw-icon-size-2 psw-icon--starrating-empty\\\"\\u003e\\u003cdiv class=\\\"psw-hide\\\" data-original-icon-id=\\\"ps-icon:starrating-empty\\\"\\u003e\\u003csvg xmlns=\\\"http://www.w3.org/2000/svg\\\"\\u003e\\u003csymbol id=\\\"ps-icon:starrating-empty:449\\\" viewbox=\\\"0 0 64 64\\\"\\u003e\\u003cpath fill-rule=\\\"evenodd\\\" d=\\\"M32 39.398c.258 0 .516.08.735.238l8.658 6.291-3.308-10.177a1.253 1.253 0 01.455-1.399l8.658-6.29H36.496a1.252 1.252 0 01-1.189-.863L32 17.02 28.693 27.2a1.252 1.252 0 01-1.189.862H16.802l8.658 6.29c.438.318.622.883.455 1.4l-3.308 10.176 8.658-6.29c.219-.16.477-.239.735-.239zM43.771 50.45c-.258 0-.516-.079-.735-.239L32 42.193l-11.036 8.018a1.25 1.25 0 01-1.923-1.398l4.215-12.973-11.036-8.017a1.252 1.252 0 01.735-2.262h13.641l4.215-12.974a1.251 1.251 0 012.378 0l4.215 12.974h13.641a1.252 1.252 0 01.735 2.262L40.744 35.84l4.215 12.973a1.25 1.25 0 01-1.188 1.637z\\\" clip-rule=\\\"evenodd\\\"\\u003e\\u003c/path\\u003e\\u003c/symbol\\u003e\\u003c/svg\\u003e\\u003c/div\\u003e\\u003csvg aria-hidden=\\\"true\\\" focusable=\\\"false\\\"\\u003e\\u003ctitle\\u003e\\u003c/title\\u003e\\u003cuse href=\\\"#ps-icon:starrating-empty:449\\\"\\u003e\\u003c/use\\u003e\\u003c/svg\\u003e\\u003c/span\\u003e\\u003c/span\\u003e\\u003c/div\\u003e\\u003c/div\\u003e\\u003cspan aria-hidden=\\\"true\\\" class=\\\"psw-t-body\\\" data-qa=\\\"mfe-star-rating#overall-rating#rating-progress1#percentage-label\\\"\\u003e3％\\u003c/span\\u003e\\u003c/div\\u003e\\u003cdiv aria-valuenow=\\\"3％\\\" role=\\\"progressbar\\\" class=\\\"psw-fill-x psw-l-h-2 psw-r-1 psw-m-b-2 psw-rating-progress-bar-empty\\\" data-qa=\\\"mfe-star-rating#overall-rating#rating-progress1#empty\\\"\\u003e\\u003cdiv class=\\\"psw-rating-progress-bar-full psw-fill-y psw-r-left-1\\\" data-qa=\\\"mfe-star-rating#overall-rating#rating-progress1#full\\\" style=\\\"width:3%\\\"\\u003e\\u003c/div\\u003e\\u003c/div\\u003e\\u003c/div\\u003e\\u003c/div\\u003e\\u003c/div\\u003e\\u003c/div\\u003e\\u003c/div\\u003e\\u003c/div\\u003e\",\"statusCode\":200}},\"statusCode\":200},\"appProps\":{\"session\":{\"userData\":{\"isLoggedIn\":false,\"language\":\"ja\",\"country\":\"JP\",\"region\":\"SIEJ\"}}},\"navTree\":{\"items\":[{\"id\":\"9f002302-98f6-11ea-95ad-06b8e9e16df8\",\"name\":\"最新情報\",\"type\":\"REGULAR\",\"alias\":\"latest\",\"slug\":\"LATEST\",\"__typename\":\"EMSNavItem\"},{\"id\":\"53b1f64a-9aba-11ea-95ad-06b8e9e16df8\",\"name\":\"コレクション\",\"type\":\"REGULAR\",\"alias\":\"collections\",\"slug\":\"COLLECTIONS\",\"__typename\":\"EMSNavItem\"},{\"id\":\"bffda7ec-9919-11ea-95ad-06b8e9e16df8\",\"name\":\"セール\",\"type\":\"REGULAR\",\"alias\":\"deals\",\"slug\":\"DEALS\",\"__typename\":\"EMSNavItem\"},{\"id\":\"9d3e5a96-e1c3-11ec-9d12-4649411f34bd\",\"name\":\"サブスクリプション\",\"type\":\"REGULAR\",\"alias\":\"subscriptions\",\"slug\":\"SUBSCRIPTIONS\",\"__typename\":\"EMSNavItem\"},{\"id\":\"1c4f95f2-c53d-11eb-93dd-0601a91f080f\",\"name\":\"ゲームを見る\",\"type\":\"REGULAR\",\"alias\":\"browse\",\"slug\":\"BROWSE\",\"__typename\":\"EMSNavItem\"}],\"homeRoute\":{\"as\":\"/ja-jp/pages/latest\",\"href\":\"/[locale]/pages/[alias]\"},\"currentNavItem\":null},\"apolloState\":{\"EMSExperience:a1fabf70-7dcf-11ea-acb6-06293b18fe04:ja-jp:undefined\":{\"id\":\"a1fabf70-7dcf-11ea-acb6-06293b18fe04\",\"navTree\":{\"type\":\"id\",\"generated\":false,\"id\":\"EMSNavTree:a249f0e1-7dcf-11ea-acb6-06293b18fe04:ja-jp\",\"typename\":\"EMSNavTree\"},\"__typename\":\"EMSExperience\"},\"EMSNavTree:a249f0e1-7dcf-11ea-acb6-06293b18fe04:ja-jp\":{\"id\":\"a249f0e1-7dcf-11ea-acb6-06293b18fe04\",\"name\":\"Web \\u0026 Mobile SIEJ\",\"items\":[{\"type\":\"id\",\"generated\":false,\"id\":\"EMSNavItem:9f002302-98f6-11ea-95ad-06b8e9e16df8:ja-jp\",\"typename\":\"EMSNavItem\"},{\"type\":\"id\",\"generated\":false,\"id\":\"EMSNavItem:53b1f64a-9aba-11ea-95ad-06b8e9e16df8:ja-jp\",\"typename\":\"EMSNavItem\"},{\"type\":\"id\",\"generated\":false,\"id\":\"EMSNavItem:bffda7ec-9919-11ea-95ad-06b8e9e16df8:ja-jp\",\"typename\":\"EMSNavItem\"},{\"type\":\"id\",\"generated\":false,\"id\":\"EMSNavItem:9d3e5a96-e1c3-11ec-9d12-4649411f34bd:ja-jp\",\"typename\":\"EMSNavItem\"},{\"type\":\"id\",\"generated\":false,\"id\":\"EMSNavItem:1c4f95f2-c53d-11eb-93dd-0601a91f080f:ja-jp\",\"typename\":\"EMSNavItem\"}],\"__typename\":\"EMSNavTree\"},\"EMSNavItem:9f002302-98f6-11ea-95ad-06b8e9e16df8:ja-jp\":{\"id\":\"9f002302-98f6-11ea-95ad-06b8e9e16df8\",\"name\":\"最新情報\",\"type\":\"REGULAR\",\"alias\":\"latest\",\"slug\":\"LATEST\",\"__typename\":\"EMSNavItem\"},\"EMSNavItem:53b1f64a-9aba-11ea-95ad-06b8e9e16df8:ja-jp\":{\"id\":\"53b1f64a-9aba-11ea-95ad-06b8e9e16df8\",\"name\":\"コレクション\",\"type\":\"REGULAR\",\"alias\":\"collections\",\"slug\":\"COLLECTIONS\",\"__typename\":\"EMSNavItem\"},\"EMSNavItem:bffda7ec-9919-11ea-95ad-06b8e9e16df8:ja-jp\":{\"id\":\"bffda7ec-9919-11ea-95ad-06b8e9e16df8\",\"name\":\"セール\",\"type\":\"REGULAR\",\"alias\":\"deals\",\"slug\":\"DEALS\",\"__typename\":\"EMSNavItem\"},\"EMSNavItem:9d3e5a96-e1c3-11ec-9d12-4649411f34bd:ja-jp\":{\"id\":\"9d3e5a96-e1c3-11ec-9d12-4649411f34bd\",\"name\":\"サブスクリプション\",\"type\":\"REGULAR\",\"alias\":\"subscriptions\",\"slug\":\"SUBSCRIPTIONS\",\"__typename\":\"EMSNavItem\"},\"EMSNavItem:1c4f95f2-c53d-11eb-93dd-0601a91f080f:ja-jp\":{\"id\":\"1c4f95f2-c53d-11eb-93dd-0601a91f080f\",\"name\":\"ゲームを見る\",\"type\":\"REGULAR\",\"alias\":\"browse\",\"slug\":\"BROWSE\",\"__typename\":\"EMSNavItem\"},\"ROOT_QUERY\":{\"emsExperienceRetrieve({\\\"clientId\\\":\\\"39c33e4d-7a96-11ea-acb6-06293b18fe04\\\"})\":{\"type\":\"id\",\"generated\":false,\"id\":\"EMSExperience:a1fabf70-7dcf-11ea-acb6-06293b18fe04:ja-jp:undefined\",\"typename\":\"EMSExperience\"},\"conceptRetrieve({\\\"conceptId\\\":\\\"205354\\\"})\":{\"type\":\"id\",\"generated\":false,\"id\":\"Concept:205354:ja-jp\",\"typename\":\"Concept\"}},\"Concept:205354:ja-jp\":{\"id\":\"205354\",\"name\":\"アンチャーテッド トレジャーハンターコレクション\",\"defaultProduct\":{\"type\":\"id\",\"generated\":false,\"id\":\"Product:JP9000-PPSA05685_00-UNCHARTED4R00000:ja-jp\",\"typename\":\"Product\"},\"__typename\":\"Concept\"},\"Product:JP9000-PPSA05685_00-UNCHARTED4R00000:ja-jp\":{\"id\":\"JP9000-PPSA05685_00-UNCHARTED4R00000\",\"name\":\"アンチャーテッド トレジャーハンターコレクション\",\"__typename\":\"Product\"}}},\"page\":\"/[locale]/concept/[conceptId]\",\"query\":{\"locale\":\"ja-jp\",\"conceptId\":\"205354\"},\"buildId\":\"h6tvIIBMvReBFbmgS90Wx\",\"runtimeConfig\":{\"env\":\"production\",\"name\":\"@sie-ppr-web-store/app\",\"version\":\"0.1.0-20240130200555-2-gaef2eddf\",\"gitBranch\":\"HEAD\",\"gitSha\":\"aef2eddffeb5e2fa0a353555c4d3f2414a388178\",\"isoenv\":\"psnnp/np\",\"service\":{\"gqlSsr\":{\"host\":\"http://arkham-gql-router-p1np.xc.svc.cluster.local/api/graphql/v1\"},\"gqlBrowser\":{\"host\":\"https://web.np.playstation.com/api/graphql/v1/\"},\"session\":{\"host\":\"http://arkham-session-p1np.xc.svc.cluster.local/\"},\"checkout\":{\"host\":\"https://web-commerce-anywhere.playstation.com\"},\"telemetryUrl\":{\"host\":\"https://web.np.playstation.com/api/telemetry/v1\"}},\"pdc\":{\"host\":\"https://www.playstation.com\",\"psPlusUrl\":\"https://www.playstation.com/ps-plus/\"},\"emsClientId\":\"39c33e4d-7a96-11ea-acb6-06293b18fe04\",\"webCheckoutClient\":\"https://web-commerce-anywhere.playstation.com\",\"psPlusConceptId\":\"10004507\",\"feature\":{\"queryWhitelist\":false,\"telemetrySamplingThreshold\":10,\"telemetryFilterLoadEventMetrics\":true,\"addOnsEnabled\":true,\"enableSpartacusFeatures\":true,\"evidonNoticeEnabled\":false,\"personalizationEnabled\":true,\"pdcPdpRedirectEnabled\":true,\"pdpStarRatingEnabled\":true,\"pdpGameTitleRatingInfoEnabled\":true}},\"isFallback\":false,\"customServer\":true,\"appGip\":true}</script><script nomodule=\"\" src=\"/_next/static/chunks/polyfills-bef5fdbede645d2945cf.js\"></script><script async=\"\" src=\"/_next/static/chunks/main-cfd791039bb495aab205.js\"></script><script async=\"\" src=\"/_next/static/chunks/webpack-245f049e565ebf942e09.js\"></script><script async=\"\" src=\"/_next/static/chunks/framework.4e2742a821daf93a8926.js\"></script><script async=\"\" src=\"/_next/static/chunks/cfb6898d.45dbb78aa0e140ed05e2.js\"></script><script async=\"\" src=\"/_next/static/chunks/a7d41584.838ba4dc82fc7a3f15ad.js\"></script><script async=\"\" src=\"/_next/static/chunks/c37194fb.12df7d90824ab0bf72fb.js\"></script><script async=\"\" src=\"/_next/static/chunks/commons.b72b31c8fb4ea656bce3.js\"></script><script async=\"\" src=\"/_next/static/chunks/4c41f019eb924e60be110f6eafddb5eb4b6f0fc1.5bf9016e877abbb6960f.js\"></script><script async=\"\" src=\"/_next/static/chunks/43de67f13305869fa317531a132748d128d21601.4fb9aee04c19e8c6ee60.js\"></script><script async=\"\" src=\"/_next/static/chunks/pages/_app-8618638f54fc7480237a.js\"></script><script async=\"\" src=\"/_next/static/chunks/68f504b0.bf05deb9e1510cd19b4f.js\"></script><script async=\"\" src=\"/_next/static/chunks/66b2f55f471b2e3962a62a30b80d0986d332d7c0.832701947c3eb382cec6.js\"></script><script async=\"\" src=\"/_next/static/chunks/89fc41169380d395ae9e70f4f509b5621dc4b869.114cc891d6e6f46eefc5.js\"></script><script async=\"\" src=\"/_next/static/chunks/pages/%5Blocale%5D/concept/%5BconceptId%5D-32ef239bbc74850fb635.js\"></script><script async=\"\" src=\"/_next/static/h6tvIIBMvReBFbmgS90Wx/_buildManifest.js\"></script><script async=\"\" src=\"/_next/static/h6tvIIBMvReBFbmgS90Wx/_ssgManifest.js\"></script><script type=\"text/javascript\">\n",
       "      window.PDC = { Locale: { getLocale() { return ['ja-jp'] } } };\n",
       "\n",
       "      window.psnWebToolbar = {\n",
       "        authSmcid: 'web:store',\n",
       "      };\n",
       "\n",
       "      window.psnWebToolbar.getGuestLocale = function (isLocaleSupported, done) {\n",
       "        if (isLocaleSupported('ja-jp')) {\n",
       "          return done('ja-jp');\n",
       "        }\n",
       "        return done();\n",
       "      };\n",
       "\n",
       "      window.sharedNav = {};\n",
       "      window.sharedNav.opts = {\n",
       "        ...window.sharedNav.opts,\n",
       "        webToolbarType: 'oracle'\n",
       "      };\n",
       "    </script><script src=\"/static/lib/shared-nav/3.1.0/shared-nav.js\" type=\"text/javascript\"></script><script type=\"text/javascript\">sharedNav.setPublicUrl('/static/lib/shared-nav/3.1.0/');</script></body></html>"
      ]
     },
     "execution_count": 45,
     "metadata": {},
     "output_type": "execute_result"
    }
   ],
   "source": [
    "soup"
   ]
  },
  {
   "cell_type": "markdown",
   "metadata": {},
   "source": [
    "buscando mejores formas de extraer datos con diccionarios desde un solo boton"
   ]
  },
  {
   "cell_type": "code",
   "execution_count": 46,
   "metadata": {},
   "outputs": [],
   "source": [
    "dict_completo = soup.find('button',attrs={'data-qa':'mfeCtaMain#cta#action'}).get_attribute_list('data-telemetry-meta')[0]"
   ]
  },
  {
   "cell_type": "code",
   "execution_count": 47,
   "metadata": {},
   "outputs": [],
   "source": [
    "import json\n",
    "conv_json = json.loads(dict_completo)"
   ]
  },
  {
   "cell_type": "markdown",
   "metadata": {},
   "source": [
    "Titulo  \n",
    "Día y hora  \n",
    "Plataforma  \n",
    "Genero  \n",
    "Compañia  \n",
    "Lanzamiento  \n",
    "Idiomas  \n",
    "Calificación PSN  \n",
    "Número de calificaciones  \n",
    "Calificación 5 estrellas  \n",
    "Calificación 4 estrellas  \n",
    "Calificación 3 estrellas  \n",
    "Calificación 2 estrellas  \n",
    "Calificación 1 estrella  \n",
    "Precio original sin PSN\t  \n",
    "Precio actual sin PSN  \n",
    "Precio original con PSN  \n",
    "Precio actual con PSN  \n",
    "País Store"
   ]
  },
  {
   "cell_type": "code",
   "execution_count": 48,
   "metadata": {},
   "outputs": [
    {
     "data": {
      "text/plain": [
       "{'conceptId': '205354',\n",
       " 'ctaIndex': 0,\n",
       " 'ctaSubType': 'add_to_cart',\n",
       " 'ctaType': 'ADD_TO_CART',\n",
       " 'interactAction': 'click add to cart',\n",
       " 'interactCta': 'add to cart',\n",
       " 'productId': 'JP9000-PPSA05685_00-UNCHARTED4R00000',\n",
       " 'productDetail': [{'productId': 'JP9000-PPSA05685_00-UNCHARTED4R00000',\n",
       "   'productName': 'アンチャーテッド トレジャーハンターコレクション',\n",
       "   'productToSkuIds': ['JP9000-PPSA05685_00-UNCHARTED4R00000-J002',\n",
       "    'JP9000-PPSA05685_00-UNCHARTED4R00000-J003'],\n",
       "   'productPriceDetail': [{'rewardId': 'OFFER-PROD-7636_60',\n",
       "     'offerCampaignId': 'PROMO-PROD-00007636',\n",
       "     'originalPriceFormatted': '¥5,390',\n",
       "     'originalPriceValue': 5390,\n",
       "     'discountPriceFormatted': '¥2,156',\n",
       "     'discountPriceValue': 2156,\n",
       "     'priceCurrencyCode': 'JPY',\n",
       "     'offerBranding': 'NONE',\n",
       "     'offerQualification': [],\n",
       "     'offerExclusive': False,\n",
       "     'offerApplied': True,\n",
       "     'offerApplicability': 'APPLICABLE',\n",
       "     'offerIsTiedToSubscription': False},\n",
       "    {'rewardId': 'SUB001-SUBC00002_00-HM93SKR5MGPG6TD8',\n",
       "     'offerCampaignId': None,\n",
       "     'originalPriceFormatted': '¥5,390',\n",
       "     'originalPriceValue': 5390,\n",
       "     'discountPriceFormatted': '含まれます',\n",
       "     'discountPriceValue': 0,\n",
       "     'priceCurrencyCode': 'JPY',\n",
       "     'offerBranding': 'PS_PLUS',\n",
       "     'offerQualification': [{'__typename': 'Qualification',\n",
       "       'type': 'ENTITLEMENT_IN_CART',\n",
       "       'value': 'SUB001-SUBC00002_00-HM93SKR5MGPG6TD8'}],\n",
       "     'offerExclusive': False,\n",
       "     'offerApplied': False,\n",
       "     'offerApplicability': 'UPSELL',\n",
       "     'offerIsTiedToSubscription': True}]}],\n",
       " 'skuDetail': [{'skuId': 'JP9000-PPSA05685_00-UNCHARTED4R00000-J003',\n",
       "   'skuPriceDetail': [{'rewardId': 'OFFER-PROD-7636_60',\n",
       "     'offerCampaignId': 'PROMO-PROD-00007636',\n",
       "     'originalPriceFormatted': '¥5,390',\n",
       "     'originalPriceValue': 5390,\n",
       "     'discountPriceFormatted': '¥2,156',\n",
       "     'discountPriceValue': 2156,\n",
       "     'priceCurrencyCode': 'JPY',\n",
       "     'offerBranding': 'NONE',\n",
       "     'offerQualification': [],\n",
       "     'offerExclusive': False,\n",
       "     'offerApplied': True,\n",
       "     'offerApplicability': 'APPLICABLE',\n",
       "     'offerIsTiedToSubscription': False}],\n",
       "   'skuName': 'ゲーム本編'}],\n",
       " 'titleId': 'PPSA05685_00'}"
      ]
     },
     "execution_count": 48,
     "metadata": {},
     "output_type": "execute_result"
    }
   ],
   "source": [
    "conv_json"
   ]
  },
  {
   "cell_type": "markdown",
   "metadata": {},
   "source": [
    "Poner el tipo de descuento y porque, no solo plataforma PSN"
   ]
  },
  {
   "cell_type": "code",
   "execution_count": 49,
   "metadata": {},
   "outputs": [
    {
     "data": {
      "text/plain": [
       "'205354'"
      ]
     },
     "execution_count": 49,
     "metadata": {},
     "output_type": "execute_result"
    }
   ],
   "source": [
    "conv_json['conceptId'] # ID"
   ]
  },
  {
   "cell_type": "code",
   "execution_count": 50,
   "metadata": {},
   "outputs": [
    {
     "data": {
      "text/plain": [
       "'JP9000-PPSA05685_00-UNCHARTED4R00000'"
      ]
     },
     "execution_count": 50,
     "metadata": {},
     "output_type": "execute_result"
    }
   ],
   "source": [
    "conv_json['productId']"
   ]
  },
  {
   "cell_type": "code",
   "execution_count": 82,
   "metadata": {},
   "outputs": [
    {
     "data": {
      "text/plain": [
       "{'productId': 'JP9000-PPSA05685_00-UNCHARTED4R00000',\n",
       " 'productName': 'アンチャーテッド トレジャーハンターコレクション',\n",
       " 'productToSkuIds': ['JP9000-PPSA05685_00-UNCHARTED4R00000-J002',\n",
       "  'JP9000-PPSA05685_00-UNCHARTED4R00000-J003'],\n",
       " 'productPriceDetail': [{'rewardId': 'OFFER-PROD-7636_60',\n",
       "   'offerCampaignId': 'PROMO-PROD-00007636',\n",
       "   'originalPriceFormatted': '¥5,390',\n",
       "   'originalPriceValue': 5390,\n",
       "   'discountPriceFormatted': '¥2,156',\n",
       "   'discountPriceValue': 2156,\n",
       "   'priceCurrencyCode': 'JPY',\n",
       "   'offerBranding': 'NONE',\n",
       "   'offerQualification': [],\n",
       "   'offerExclusive': False,\n",
       "   'offerApplied': True,\n",
       "   'offerApplicability': 'APPLICABLE',\n",
       "   'offerIsTiedToSubscription': False},\n",
       "  {'rewardId': 'SUB001-SUBC00002_00-HM93SKR5MGPG6TD8',\n",
       "   'offerCampaignId': None,\n",
       "   'originalPriceFormatted': '¥5,390',\n",
       "   'originalPriceValue': 5390,\n",
       "   'discountPriceFormatted': '含まれます',\n",
       "   'discountPriceValue': 0,\n",
       "   'priceCurrencyCode': 'JPY',\n",
       "   'offerBranding': 'PS_PLUS',\n",
       "   'offerQualification': [{'__typename': 'Qualification',\n",
       "     'type': 'ENTITLEMENT_IN_CART',\n",
       "     'value': 'SUB001-SUBC00002_00-HM93SKR5MGPG6TD8'}],\n",
       "   'offerExclusive': False,\n",
       "   'offerApplied': False,\n",
       "   'offerApplicability': 'UPSELL',\n",
       "   'offerIsTiedToSubscription': True}]}"
      ]
     },
     "execution_count": 82,
     "metadata": {},
     "output_type": "execute_result"
    }
   ],
   "source": [
    "conv_json['productDetail'][0]"
   ]
  },
  {
   "cell_type": "code",
   "execution_count": 83,
   "metadata": {},
   "outputs": [
    {
     "data": {
      "text/plain": [
       "'¥5,390'"
      ]
     },
     "execution_count": 83,
     "metadata": {},
     "output_type": "execute_result"
    }
   ],
   "source": [
    "conv_json['productDetail'][0]['productPriceDetail'][1]['originalPriceFormatted'] # Precio original"
   ]
  },
  {
   "cell_type": "code",
   "execution_count": 67,
   "metadata": {},
   "outputs": [
    {
     "data": {
      "text/plain": [
       "0"
      ]
     },
     "execution_count": 67,
     "metadata": {},
     "output_type": "execute_result"
    }
   ],
   "source": [
    "conv_json['productDetail'][0]['productPriceDetail'][1]['discountPriceValue'] # Precio actual con PSN u otro servicio"
   ]
  },
  {
   "cell_type": "code",
   "execution_count": 75,
   "metadata": {},
   "outputs": [
    {
     "data": {
      "text/plain": [
       "'PS_PLUS'"
      ]
     },
     "execution_count": 75,
     "metadata": {},
     "output_type": "execute_result"
    }
   ],
   "source": [
    "conv_json['productDetail'][0]['productPriceDetail'][1]['offerBranding'] # Motivo de oferta, campaña"
   ]
  },
  {
   "cell_type": "code",
   "execution_count": 70,
   "metadata": {},
   "outputs": [
    {
     "data": {
      "text/plain": [
       "'¥5,390'"
      ]
     },
     "execution_count": 70,
     "metadata": {},
     "output_type": "execute_result"
    }
   ],
   "source": [
    "conv_json['productDetail'][0]['productPriceDetail'][0]['originalPriceFormatted'] # Precio original sin PSN"
   ]
  },
  {
   "cell_type": "code",
   "execution_count": 73,
   "metadata": {},
   "outputs": [
    {
     "data": {
      "text/plain": [
       "'¥2,156'"
      ]
     },
     "execution_count": 73,
     "metadata": {},
     "output_type": "execute_result"
    }
   ],
   "source": [
    "conv_json['productDetail'][0]['productPriceDetail'][0]['discountPriceFormatted'] # Precio actual sin PSN"
   ]
  },
  {
   "cell_type": "code",
   "execution_count": null,
   "metadata": {},
   "outputs": [
    {
     "data": {
      "text/plain": [
       "[{'productId': 'JP9000-PPSA05685_00-UNCHARTED4R00000',\n",
       "  'productName': 'アンチャーテッド トレジャーハンターコレクション',\n",
       "  'productToSkuIds': ['JP9000-PPSA05685_00-UNCHARTED4R00000-J002',\n",
       "   'JP9000-PPSA05685_00-UNCHARTED4R00000-J003'],\n",
       "  'productPriceDetail': [{'rewardId': 'OFFER-PROD-7636_60',\n",
       "    'offerCampaignId': 'PROMO-PROD-00007636',\n",
       "    'originalPriceFormatted': '¥5,390',\n",
       "    'originalPriceValue': 5390,\n",
       "    'discountPriceFormatted': '¥2,156',\n",
       "    'discountPriceValue': 2156,\n",
       "    'priceCurrencyCode': 'JPY',\n",
       "    'offerBranding': 'NONE',\n",
       "    'offerQualification': [],\n",
       "    'offerExclusive': False,\n",
       "    'offerApplied': True,\n",
       "    'offerApplicability': 'APPLICABLE',\n",
       "    'offerIsTiedToSubscription': False},\n",
       "   {'rewardId': 'SUB001-SUBC00002_00-HM93SKR5MGPG6TD8',\n",
       "    'offerCampaignId': None,\n",
       "    'originalPriceFormatted': '¥5,390',\n",
       "    'originalPriceValue': 5390,\n",
       "    'discountPriceFormatted': '含まれます',\n",
       "    'discountPriceValue': 0,\n",
       "    'priceCurrencyCode': 'JPY',\n",
       "    'offerBranding': 'PS_PLUS',\n",
       "    'offerQualification': [{'__typename': 'Qualification',\n",
       "      'type': 'ENTITLEMENT_IN_CART',\n",
       "      'value': 'SUB001-SUBC00002_00-HM93SKR5MGPG6TD8'}],\n",
       "    'offerExclusive': False,\n",
       "    'offerApplied': False,\n",
       "    'offerApplicability': 'UPSELL',\n",
       "    'offerIsTiedToSubscription': True}]}]"
      ]
     },
     "metadata": {},
     "output_type": "display_data"
    }
   ],
   "source": [
    "conv_json['productDetail']"
   ]
  },
  {
   "cell_type": "code",
   "execution_count": null,
   "metadata": {},
   "outputs": [
    {
     "data": {
      "text/plain": [
       "[{'productId': 'JP9000-PPSA05685_00-UNCHARTED4R00000',\n",
       "  'productName': 'アンチャーテッド トレジャーハンターコレクション',\n",
       "  'productToSkuIds': ['JP9000-PPSA05685_00-UNCHARTED4R00000-J002',\n",
       "   'JP9000-PPSA05685_00-UNCHARTED4R00000-J003'],\n",
       "  'productPriceDetail': [{'rewardId': 'OFFER-PROD-7636_60',\n",
       "    'offerCampaignId': 'PROMO-PROD-00007636',\n",
       "    'originalPriceFormatted': '¥5,390',\n",
       "    'originalPriceValue': 5390,\n",
       "    'discountPriceFormatted': '¥2,156',\n",
       "    'discountPriceValue': 2156,\n",
       "    'priceCurrencyCode': 'JPY',\n",
       "    'offerBranding': 'NONE',\n",
       "    'offerQualification': [],\n",
       "    'offerExclusive': False,\n",
       "    'offerApplied': True,\n",
       "    'offerApplicability': 'APPLICABLE',\n",
       "    'offerIsTiedToSubscription': False},\n",
       "   {'rewardId': 'SUB001-SUBC00002_00-HM93SKR5MGPG6TD8',\n",
       "    'offerCampaignId': None,\n",
       "    'originalPriceFormatted': '¥5,390',\n",
       "    'originalPriceValue': 5390,\n",
       "    'discountPriceFormatted': '含まれます',\n",
       "    'discountPriceValue': 0,\n",
       "    'priceCurrencyCode': 'JPY',\n",
       "    'offerBranding': 'PS_PLUS',\n",
       "    'offerQualification': [{'__typename': 'Qualification',\n",
       "      'type': 'ENTITLEMENT_IN_CART',\n",
       "      'value': 'SUB001-SUBC00002_00-HM93SKR5MGPG6TD8'}],\n",
       "    'offerExclusive': False,\n",
       "    'offerApplied': False,\n",
       "    'offerApplicability': 'UPSELL',\n",
       "    'offerIsTiedToSubscription': True}]}]"
      ]
     },
     "metadata": {},
     "output_type": "display_data"
    }
   ],
   "source": [
    "conv_json['productDetail']"
   ]
  },
  {
   "cell_type": "code",
   "execution_count": null,
   "metadata": {},
   "outputs": [
    {
     "data": {
      "text/plain": [
       "[{'productId': 'JP9000-PPSA05685_00-UNCHARTED4R00000',\n",
       "  'productName': 'アンチャーテッド トレジャーハンターコレクション',\n",
       "  'productToSkuIds': ['JP9000-PPSA05685_00-UNCHARTED4R00000-J002',\n",
       "   'JP9000-PPSA05685_00-UNCHARTED4R00000-J003'],\n",
       "  'productPriceDetail': [{'rewardId': 'OFFER-PROD-7636_60',\n",
       "    'offerCampaignId': 'PROMO-PROD-00007636',\n",
       "    'originalPriceFormatted': '¥5,390',\n",
       "    'originalPriceValue': 5390,\n",
       "    'discountPriceFormatted': '¥2,156',\n",
       "    'discountPriceValue': 2156,\n",
       "    'priceCurrencyCode': 'JPY',\n",
       "    'offerBranding': 'NONE',\n",
       "    'offerQualification': [],\n",
       "    'offerExclusive': False,\n",
       "    'offerApplied': True,\n",
       "    'offerApplicability': 'APPLICABLE',\n",
       "    'offerIsTiedToSubscription': False},\n",
       "   {'rewardId': 'SUB001-SUBC00002_00-HM93SKR5MGPG6TD8',\n",
       "    'offerCampaignId': None,\n",
       "    'originalPriceFormatted': '¥5,390',\n",
       "    'originalPriceValue': 5390,\n",
       "    'discountPriceFormatted': '含まれます',\n",
       "    'discountPriceValue': 0,\n",
       "    'priceCurrencyCode': 'JPY',\n",
       "    'offerBranding': 'PS_PLUS',\n",
       "    'offerQualification': [{'__typename': 'Qualification',\n",
       "      'type': 'ENTITLEMENT_IN_CART',\n",
       "      'value': 'SUB001-SUBC00002_00-HM93SKR5MGPG6TD8'}],\n",
       "    'offerExclusive': False,\n",
       "    'offerApplied': False,\n",
       "    'offerApplicability': 'UPSELL',\n",
       "    'offerIsTiedToSubscription': True}]}]"
      ]
     },
     "metadata": {},
     "output_type": "display_data"
    }
   ],
   "source": [
    "conv_json['productDetail']"
   ]
  },
  {
   "cell_type": "markdown",
   "metadata": {},
   "source": [
    "codigo EA offer"
   ]
  },
  {
   "cell_type": "markdown",
   "metadata": {},
   "source": [
    "<button data-qa=\"mfeCtaMain#cta#action\" data-track=\"{&quot;eventInfo&quot;:{&quot;eventAction&quot;:&quot;click&quot;,&quot;eventName&quot;:&quot;add to cart&quot;},&quot;attributes&quot;:{&quot;moduleName&quot;:&quot;pricing cta&quot;,&quot;assetName&quot;:&quot;&quot;,&quot;label&quot;:&quot;add to cart&quot;,&quot;position&quot;:&quot;1&quot;,&quot;linkUrl&quot;:&quot;&quot;,&quot;elementType&quot;:&quot;button&quot;,&quot;userActionFlag&quot;:false,&quot;sku&quot;:&quot;EP0006-PPSA03846_00-BEYONDPS5GAME000-E003&quot;}}\" data-track-click=\"ctaWithPrice:addToCart\" data-telemetry-meta=\"{&quot;conceptId&quot;:&quot;10002958&quot;,&quot;ctaIndex&quot;:0,&quot;ctaSubType&quot;:&quot;add_to_cart&quot;,&quot;ctaType&quot;:&quot;ADD_TO_CART&quot;,&quot;interactAction&quot;:&quot;click add to cart&quot;,&quot;interactCta&quot;:&quot;add to cart&quot;,&quot;productId&quot;:&quot;EP0006-PPSA03846_00-BEYONDPS5GAME000&quot;,&quot;productDetail&quot;:[{&quot;productId&quot;:&quot;EP0006-PPSA03846_00-BEYONDPS5GAME000&quot;,&quot;productName&quot;:&quot;Dead Space&quot;,&quot;productToSkuIds&quot;:[&quot;EP0006-PPSA03846_00-BEYONDPS5GAME000-E003&quot;],&quot;productPriceDetail&quot;:[{&quot;rewardId&quot;:&quot;&quot;,&quot;offerCampaignId&quot;:null,&quot;originalPriceFormatted&quot;:&quot;79,99&nbsp;€&quot;,&quot;originalPriceValue&quot;:7999,&quot;discountPriceFormatted&quot;:&quot;79,99&nbsp;€&quot;,&quot;discountPriceValue&quot;:7999,&quot;priceCurrencyCode&quot;:&quot;EUR&quot;,&quot;offerBranding&quot;:&quot;NONE&quot;,&quot;offerQualification&quot;:[],&quot;offerExclusive&quot;:false,&quot;offerApplied&quot;:false,&quot;offerApplicability&quot;:&quot;APPLICABLE&quot;,&quot;offerIsTiedToSubscription&quot;:false},{&quot;rewardId&quot;:&quot;EP5679-CUSA15082_00-RWD-8571459&quot;,&quot;offerCampaignId&quot;:null,&quot;originalPriceFormatted&quot;:&quot;79,99&nbsp;€&quot;,&quot;originalPriceValue&quot;:7999,&quot;discountPriceFormatted&quot;:&quot;Incluido&quot;,&quot;discountPriceValue&quot;:0,&quot;priceCurrencyCode&quot;:&quot;EUR&quot;,&quot;offerBranding&quot;:&quot;EA_ACCESS&quot;,&quot;offerQualification&quot;:[{&quot;__typename&quot;:&quot;Qualification&quot;,&quot;type&quot;:&quot;ENTITLEMENT_IN_CART&quot;,&quot;value&quot;:&quot;EP5679-CUSA15082_00-RWD-8571459&quot;}],&quot;offerExclusive&quot;:false,&quot;offerApplied&quot;:false,&quot;offerApplicability&quot;:&quot;UPSELL&quot;,&quot;offerIsTiedToSubscription&quot;:true}]}],&quot;skuDetail&quot;:[{&quot;skuId&quot;:&quot;EP0006-PPSA03846_00-BEYONDPS5GAME000-E003&quot;,&quot;skuPriceDetail&quot;:[{&quot;rewardId&quot;:&quot;&quot;,&quot;offerCampaignId&quot;:null,&quot;originalPriceFormatted&quot;:&quot;79,99&nbsp;€&quot;,&quot;originalPriceValue&quot;:7999,&quot;discountPriceFormatted&quot;:&quot;79,99&nbsp;€&quot;,&quot;discountPriceValue&quot;:7999,&quot;priceCurrencyCode&quot;:&quot;EUR&quot;,&quot;offerBranding&quot;:&quot;NONE&quot;,&quot;offerQualification&quot;:[],&quot;offerExclusive&quot;:false,&quot;offerApplied&quot;:false,&quot;offerApplicability&quot;:&quot;APPLICABLE&quot;,&quot;offerIsTiedToSubscription&quot;:false}],&quot;skuName&quot;:&quot;Juego&quot;}],&quot;titleId&quot;:&quot;PPSA03846_00&quot;}\" id=\"\" class=\"psw-fill-x dtm-track psw-button psw-b-0 psw-t-button psw-l-line-center psw-button-sizing psw-button-sizing--medium psw-purchase-button psw-solid-button\" tabindex=\"0\" role=\"\" type=\"button\" name=\"\"><span class=\"psw-fill-x psw-t-truncate-1 psw-l-space-x-2 \">Añadir al carrito</span></button>"
   ]
  },
  {
   "cell_type": "markdown",
   "metadata": {},
   "source": [
    "codigo psn offer"
   ]
  },
  {
   "cell_type": "markdown",
   "metadata": {},
   "source": [
    "<button data-qa=\"mfeCtaMain#cta#action\" data-track=\"{&quot;eventInfo&quot;:{&quot;eventAction&quot;:&quot;click&quot;,&quot;eventName&quot;:&quot;add to cart&quot;},&quot;attributes&quot;:{&quot;moduleName&quot;:&quot;pricing cta&quot;,&quot;assetName&quot;:&quot;&quot;,&quot;label&quot;:&quot;add to cart&quot;,&quot;position&quot;:&quot;1&quot;,&quot;linkUrl&quot;:&quot;&quot;,&quot;elementType&quot;:&quot;button&quot;,&quot;userActionFlag&quot;:false,&quot;sku&quot;:&quot;EP9000-PPSA05684_00-UNCHARTED4R00000-E003&quot;}}\" data-track-click=\"ctaWithPrice:addToCart\" data-telemetry-meta=\"{&quot;conceptId&quot;:&quot;205354&quot;,&quot;ctaIndex&quot;:0,&quot;ctaSubType&quot;:&quot;add_to_cart&quot;,&quot;ctaType&quot;:&quot;ADD_TO_CART&quot;,&quot;interactAction&quot;:&quot;click add to cart&quot;,&quot;interactCta&quot;:&quot;add to cart&quot;,&quot;productId&quot;:&quot;EP9000-PPSA05684_00-UNCHARTED4R00000&quot;,&quot;productDetail&quot;:[{&quot;productId&quot;:&quot;EP9000-PPSA05684_00-UNCHARTED4R00000&quot;,&quot;productName&quot;:&quot;UNCHARTED: Colección Legado de los Ladrones&quot;,&quot;productToSkuIds&quot;:[&quot;EP9000-PPSA05684_00-UNCHARTED4R00000-E003&quot;],&quot;productPriceDetail&quot;:[{&quot;rewardId&quot;:&quot;OFFER-PROD-7634_60&quot;,&quot;offerCampaignId&quot;:&quot;PROMO-PROD-00007634&quot;,&quot;originalPriceFormatted&quot;:&quot;49,99&nbsp;€&quot;,&quot;originalPriceValue&quot;:4999,&quot;discountPriceFormatted&quot;:&quot;19,99&nbsp;€&quot;,&quot;discountPriceValue&quot;:1999,&quot;priceCurrencyCode&quot;:&quot;EUR&quot;,&quot;offerBranding&quot;:&quot;NONE&quot;,&quot;offerQualification&quot;:[],&quot;offerExclusive&quot;:false,&quot;offerApplied&quot;:true,&quot;offerApplicability&quot;:&quot;APPLICABLE&quot;,&quot;offerIsTiedToSubscription&quot;:false},{&quot;rewardId&quot;:&quot;SUB001-SUBC00002_00-TJ4KZ94GWFC3NYB0&quot;,&quot;offerCampaignId&quot;:null,&quot;originalPriceFormatted&quot;:&quot;49,99&nbsp;€&quot;,&quot;originalPriceValue&quot;:4999,&quot;discountPriceFormatted&quot;:&quot;Incluido&quot;,&quot;discountPriceValue&quot;:0,&quot;priceCurrencyCode&quot;:&quot;EUR&quot;,&quot;offerBranding&quot;:&quot;PS_PLUS&quot;,&quot;offerQualification&quot;:[{&quot;__typename&quot;:&quot;Qualification&quot;,&quot;type&quot;:&quot;ENTITLEMENT_IN_CART&quot;,&quot;value&quot;:&quot;SUB001-SUBC00002_00-TJ4KZ94GWFC3NYB0&quot;}],&quot;offerExclusive&quot;:false,&quot;offerApplied&quot;:false,&quot;offerApplicability&quot;:&quot;UPSELL&quot;,&quot;offerIsTiedToSubscription&quot;:true}]}],&quot;skuDetail&quot;:[{&quot;skuId&quot;:&quot;EP9000-PPSA05684_00-UNCHARTED4R00000-E003&quot;,&quot;skuPriceDetail&quot;:[{&quot;rewardId&quot;:&quot;OFFER-PROD-7634_60&quot;,&quot;offerCampaignId&quot;:&quot;PROMO-PROD-00007634&quot;,&quot;originalPriceFormatted&quot;:&quot;49,99&nbsp;€&quot;,&quot;originalPriceValue&quot;:4999,&quot;discountPriceFormatted&quot;:&quot;19,99&nbsp;€&quot;,&quot;discountPriceValue&quot;:1999,&quot;priceCurrencyCode&quot;:&quot;EUR&quot;,&quot;offerBranding&quot;:&quot;NONE&quot;,&quot;offerQualification&quot;:[],&quot;offerExclusive&quot;:false,&quot;offerApplied&quot;:true,&quot;offerApplicability&quot;:&quot;APPLICABLE&quot;,&quot;offerIsTiedToSubscription&quot;:false}],&quot;skuName&quot;:&quot;Juego&quot;}],&quot;titleId&quot;:&quot;PPSA05684_00&quot;}\" id=\"\" class=\"psw-fill-x dtm-track psw-button psw-b-0 psw-t-button psw-l-line-center psw-button-sizing psw-button-sizing--medium psw-purchase-button psw-solid-button\" tabindex=\"0\" role=\"\" type=\"button\" name=\"\"><span class=\"psw-fill-x psw-t-truncate-1 psw-l-space-x-2 \">Añadir al carrito</span></button>"
   ]
  }
 ],
 "metadata": {
  "kernelspec": {
   "display_name": "Python 3",
   "language": "python",
   "name": "python3"
  },
  "language_info": {
   "codemirror_mode": {
    "name": "ipython",
    "version": 3
   },
   "file_extension": ".py",
   "mimetype": "text/x-python",
   "name": "python",
   "nbconvert_exporter": "python",
   "pygments_lexer": "ipython3",
   "version": "3.11.4"
  },
  "orig_nbformat": 4
 },
 "nbformat": 4,
 "nbformat_minor": 2
}
