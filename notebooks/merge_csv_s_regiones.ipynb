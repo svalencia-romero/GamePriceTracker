{
 "cells": [
  {
   "cell_type": "code",
   "execution_count": 1,
   "metadata": {},
   "outputs": [],
   "source": [
    "import pandas as pd\n",
    "import numpy as np\n"
   ]
  },
  {
   "cell_type": "code",
   "execution_count": 2,
   "metadata": {},
   "outputs": [],
   "source": [
    "df_es = pd.read_csv(\"../csv_s/csv_region/esp/clean/csv_2024-04-02_esp.csv\")\n",
    "df_us = pd.read_csv(\"../csv_s/csv_region/usa/clean/csv_2024-04-02_usa.csv\")\n",
    "df_jp = pd.read_csv(\"../csv_s/csv_region/jap/clean/csv_2024-04-02_jap.csv\")"
   ]
  },
  {
   "cell_type": "code",
   "execution_count": 3,
   "metadata": {},
   "outputs": [
    {
     "name": "stdout",
     "output_type": "stream",
     "text": [
      "RangeIndex(start=0, stop=8639, step=1)\n",
      "RangeIndex(start=0, stop=8913, step=1)\n",
      "RangeIndex(start=0, stop=5700, step=1)\n"
     ]
    }
   ],
   "source": [
    "print(df_es.index)\n",
    "print(df_us.index)\n",
    "print(df_jp.index)"
   ]
  },
  {
   "cell_type": "markdown",
   "metadata": {},
   "source": [
    "---"
   ]
  },
  {
   "cell_type": "markdown",
   "metadata": {},
   "source": [
    "Primero con jp"
   ]
  },
  {
   "cell_type": "code",
   "execution_count": 38,
   "metadata": {},
   "outputs": [],
   "source": [
    "df_merge = pd.merge(df_es,df_jp[['id_juego','Precio original', 'Oferta', 'Oferta PSPlus', 'Otra promo diferente a PSPLUS']],how='left', on= 'id_juego', suffixes=('','_jp'))"
   ]
  },
  {
   "cell_type": "code",
   "execution_count": 39,
   "metadata": {},
   "outputs": [],
   "source": [
    "df_not_found = df_jp[~df_jp['id_juego'].isin(df_es['id_juego'])]\n",
    "df_not_found = df_not_found.rename(columns= {'Precio original':'Precio original_jp','Oferta':'Oferta_jp','Oferta PSPlus':'Oferta PSPlus_jp','Otra promo diferente a PSPLUS':'Otra promo diferente a PSPLUS_jp'})\n",
    "df_union = pd.concat([df_merge, df_not_found], ignore_index=True)"
   ]
  },
  {
   "cell_type": "code",
   "execution_count": 40,
   "metadata": {},
   "outputs": [
    {
     "name": "stdout",
     "output_type": "stream",
     "text": [
      "<class 'pandas.core.frame.DataFrame'>\n",
      "RangeIndex: 9291 entries, 0 to 9290\n",
      "Data columns (total 24 columns):\n",
      " #   Column                            Non-Null Count  Dtype  \n",
      "---  ------                            --------------  -----  \n",
      " 0   id_juego                          9291 non-null   int64  \n",
      " 1   Titulo                            9291 non-null   object \n",
      " 2   Día y hora                        9291 non-null   object \n",
      " 3   Plataforma                        9291 non-null   object \n",
      " 4   Genero                            9291 non-null   object \n",
      " 5   Compañia                          9291 non-null   object \n",
      " 6   Lanzamiento                       9291 non-null   object \n",
      " 7   Idiomas                           9291 non-null   object \n",
      " 8   Calificación PSN                  9291 non-null   float64\n",
      " 9   Número de calificaciones          9291 non-null   int64  \n",
      " 10  Calificación 5 estrellas          9291 non-null   int64  \n",
      " 11  Calificación 4 estrellas          9291 non-null   int64  \n",
      " 12  Calificación 3 estrellas          9291 non-null   int64  \n",
      " 13  Calificación 2 estrellas          9291 non-null   int64  \n",
      " 14  Calificación 1 estrella           9291 non-null   int64  \n",
      " 15  Precio original                   8639 non-null   float64\n",
      " 16  Oferta                            8639 non-null   float64\n",
      " 17  Oferta PSPlus                     8639 non-null   float64\n",
      " 18  Otra promo diferente a PSPLUS     8639 non-null   float64\n",
      " 19  País Store                        9291 non-null   object \n",
      " 20  Precio original_jp                5700 non-null   float64\n",
      " 21  Oferta_jp                         5700 non-null   float64\n",
      " 22  Oferta PSPlus_jp                  5700 non-null   float64\n",
      " 23  Otra promo diferente a PSPLUS_jp  5700 non-null   float64\n",
      "dtypes: float64(9), int64(7), object(8)\n",
      "memory usage: 1.7+ MB\n"
     ]
    }
   ],
   "source": [
    "df_union.info()"
   ]
  },
  {
   "cell_type": "code",
   "execution_count": 41,
   "metadata": {},
   "outputs": [],
   "source": [
    "df_merge = pd.merge(df_union,df_us[['id_juego','Precio original', 'Oferta', 'Oferta PSPlus', 'Otra promo diferente a PSPLUS']],how='left', on= 'id_juego', suffixes=('','_us'))"
   ]
  },
  {
   "cell_type": "code",
   "execution_count": 46,
   "metadata": {},
   "outputs": [
    {
     "name": "stdout",
     "output_type": "stream",
     "text": [
      "<class 'pandas.core.frame.DataFrame'>\n",
      "RangeIndex: 9291 entries, 0 to 9290\n",
      "Data columns (total 28 columns):\n",
      " #   Column                            Non-Null Count  Dtype  \n",
      "---  ------                            --------------  -----  \n",
      " 0   id_juego                          9291 non-null   int64  \n",
      " 1   Titulo                            9291 non-null   object \n",
      " 2   Día y hora                        9291 non-null   object \n",
      " 3   Plataforma                        9291 non-null   object \n",
      " 4   Genero                            9291 non-null   object \n",
      " 5   Compañia                          9291 non-null   object \n",
      " 6   Lanzamiento                       9291 non-null   object \n",
      " 7   Idiomas                           9291 non-null   object \n",
      " 8   Calificación PSN                  9291 non-null   float64\n",
      " 9   Número de calificaciones          9291 non-null   int64  \n",
      " 10  Calificación 5 estrellas          9291 non-null   int64  \n",
      " 11  Calificación 4 estrellas          9291 non-null   int64  \n",
      " 12  Calificación 3 estrellas          9291 non-null   int64  \n",
      " 13  Calificación 2 estrellas          9291 non-null   int64  \n",
      " 14  Calificación 1 estrella           9291 non-null   int64  \n",
      " 15  Precio original                   8639 non-null   float64\n",
      " 16  Oferta                            8639 non-null   float64\n",
      " 17  Oferta PSPlus                     8639 non-null   float64\n",
      " 18  Otra promo diferente a PSPLUS     8639 non-null   float64\n",
      " 19  País Store                        9291 non-null   object \n",
      " 20  Precio original_jp                5700 non-null   float64\n",
      " 21  Oferta_jp                         5700 non-null   float64\n",
      " 22  Oferta PSPlus_jp                  5700 non-null   float64\n",
      " 23  Otra promo diferente a PSPLUS_jp  5700 non-null   float64\n",
      " 24  Precio original_us                8650 non-null   float64\n",
      " 25  Oferta_us                         8650 non-null   float64\n",
      " 26  Oferta PSPlus_us                  8650 non-null   float64\n",
      " 27  Otra promo diferente a PSPLUS_us  8650 non-null   float64\n",
      "dtypes: float64(13), int64(7), object(8)\n",
      "memory usage: 2.0+ MB\n"
     ]
    }
   ],
   "source": [
    "df_merge.info()"
   ]
  },
  {
   "cell_type": "code",
   "execution_count": 43,
   "metadata": {},
   "outputs": [],
   "source": [
    "df_not_found = df_us[~df_us['id_juego'].isin(df_union['id_juego'])]\n",
    "df_not_found = df_not_found.rename(columns= {'Precio original':'Precio original_us','Oferta':'Oferta_us','Oferta PSPlus':'Oferta PSPlus_us','Otra promo diferente a PSPLUS':'Otra promo diferente a PSPLUS_us'})\n",
    "df_union = pd.concat([df_merge, df_not_found], ignore_index=True)"
   ]
  },
  {
   "cell_type": "code",
   "execution_count": 45,
   "metadata": {},
   "outputs": [
    {
     "name": "stdout",
     "output_type": "stream",
     "text": [
      "<class 'pandas.core.frame.DataFrame'>\n",
      "RangeIndex: 9554 entries, 0 to 9553\n",
      "Data columns (total 28 columns):\n",
      " #   Column                            Non-Null Count  Dtype  \n",
      "---  ------                            --------------  -----  \n",
      " 0   id_juego                          9554 non-null   int64  \n",
      " 1   Titulo                            9554 non-null   object \n",
      " 2   Día y hora                        9554 non-null   object \n",
      " 3   Plataforma                        9554 non-null   object \n",
      " 4   Genero                            9554 non-null   object \n",
      " 5   Compañia                          9554 non-null   object \n",
      " 6   Lanzamiento                       9554 non-null   object \n",
      " 7   Idiomas                           9554 non-null   object \n",
      " 8   Calificación PSN                  9554 non-null   float64\n",
      " 9   Número de calificaciones          9554 non-null   int64  \n",
      " 10  Calificación 5 estrellas          9554 non-null   int64  \n",
      " 11  Calificación 4 estrellas          9554 non-null   int64  \n",
      " 12  Calificación 3 estrellas          9554 non-null   int64  \n",
      " 13  Calificación 2 estrellas          9554 non-null   int64  \n",
      " 14  Calificación 1 estrella           9554 non-null   int64  \n",
      " 15  Precio original                   8639 non-null   float64\n",
      " 16  Oferta                            8639 non-null   float64\n",
      " 17  Oferta PSPlus                     8639 non-null   float64\n",
      " 18  Otra promo diferente a PSPLUS     8639 non-null   float64\n",
      " 19  País Store                        9554 non-null   object \n",
      " 20  Precio original_jp                5700 non-null   float64\n",
      " 21  Oferta_jp                         5700 non-null   float64\n",
      " 22  Oferta PSPlus_jp                  5700 non-null   float64\n",
      " 23  Otra promo diferente a PSPLUS_jp  5700 non-null   float64\n",
      " 24  Precio original_us                8913 non-null   float64\n",
      " 25  Oferta_us                         8913 non-null   float64\n",
      " 26  Oferta PSPlus_us                  8913 non-null   float64\n",
      " 27  Otra promo diferente a PSPLUS_us  8913 non-null   float64\n",
      "dtypes: float64(13), int64(7), object(8)\n",
      "memory usage: 2.0+ MB\n"
     ]
    }
   ],
   "source": [
    "df_union.info()"
   ]
  },
  {
   "cell_type": "markdown",
   "metadata": {},
   "source": [
    "Todo junto"
   ]
  },
  {
   "cell_type": "code",
   "execution_count": 61,
   "metadata": {},
   "outputs": [],
   "source": [
    "import pandas as pd\n",
    "\n",
    "date = '2024-04-10'\n",
    "df_es = pd.read_csv(f\"../csv_s/csv_region/esp/clean/csv_{date}_esp.csv\")\n",
    "df_us = pd.read_csv(f\"../csv_s/csv_region/usa/clean/csv_{date}_usa.csv\")\n",
    "df_jp = pd.read_csv(f\"../csv_s/csv_region/jap/clean/csv_{date}_jap.csv\")\n",
    "\n",
    "# Primero mezclamos la store Japonesa con la española y vemos si los ids coinciden y añadimos precios\n",
    "df_merge = pd.merge(df_es,df_jp[['id_juego','Precio original', 'Oferta', 'Oferta PSPlus', 'Otra promo diferente a PSPLUS']],how='left', on= 'id_juego', suffixes=('','_jp'))\n",
    "\n",
    "df_not_found = df_jp[~df_jp['id_juego'].isin(df_es['id_juego'])]\n",
    "df_not_found = df_not_found.rename(columns= {'Precio original':'Precio original_jp','Oferta':'Oferta_jp','Oferta PSPlus':'Oferta PSPlus_jp','Otra promo diferente a PSPLUS':'Otra promo diferente a PSPLUS_jp'})\n",
    "df_union = pd.concat([df_merge, df_not_found], ignore_index=True)\n",
    "\n",
    "# Una vez tenemos la union de esp y jap, mezclamos estas dos con la de usa\n",
    "\n",
    "df_merge = pd.merge(df_union,df_us[['id_juego','Precio original', 'Oferta', 'Oferta PSPlus', 'Otra promo diferente a PSPLUS']],how='left', on= 'id_juego', suffixes=('','_us'))\n",
    "\n",
    "df_not_found = df_us[~df_us['id_juego'].isin(df_union['id_juego'])]\n",
    "df_not_found = df_not_found.rename(columns= {'Precio original':'Precio original_us','Oferta':'Oferta_us','Oferta PSPlus':'Oferta PSPlus_us','Otra promo diferente a PSPLUS':'Otra promo diferente a PSPLUS_us'})\n",
    "df_union = pd.concat([df_merge, df_not_found], ignore_index=True)\n",
    "\n",
    "# Ya tendremos en df union mezcladas las 3 stores, ahora hay que limpiar los valores nulos de todas las columnas\n",
    "\n",
    "df_union.fillna(-1,inplace=True) # Al final como tenemos en nuestra leyenda, si no hay valores de oferta es igual a -1\n",
    "\n",
    "# Dejamos las columnas preparadas para la insercion en nuestra db\n",
    "df_union = df_union.rename(columns= {'Precio original':'Precio original_es','Oferta':'Oferta_es','Oferta PSPlus':'Oferta PSPlus_es','Otra promo diferente a PSPLUS':'Otra promo diferente a PSPLUS_es'})\n",
    "df_union.to_csv(f\"../csv_s/csv_final_mix_to_db/csv_{date}.csv\",index=False)"
   ]
  }
 ],
 "metadata": {
  "kernelspec": {
   "display_name": "psn_env",
   "language": "python",
   "name": "python3"
  },
  "language_info": {
   "codemirror_mode": {
    "name": "ipython",
    "version": 3
   },
   "file_extension": ".py",
   "mimetype": "text/x-python",
   "name": "python",
   "nbconvert_exporter": "python",
   "pygments_lexer": "ipython3",
   "version": "3.11.4"
  }
 },
 "nbformat": 4,
 "nbformat_minor": 2
}
