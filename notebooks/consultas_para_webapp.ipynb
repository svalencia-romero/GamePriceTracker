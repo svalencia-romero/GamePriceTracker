{
 "cells": [
  {
   "cell_type": "markdown",
   "metadata": {},
   "source": [
    "Lista de queries para crear en API e ideas"
   ]
  },
  {
   "cell_type": "code",
   "execution_count": null,
   "metadata": {},
   "outputs": [],
   "source": [
    "'''\n",
    "SELECT nombre as Nombre_del_Juego,calificacion_psn as calificación,precio\n",
    "FROM precio\n",
    "INNER JOIN info_juego ON info_juego.id_juego = precio.id_juego\n",
    "WHERE DATE(fecha_webs) = (\n",
    "    SELECT MAX(DATE(fecha_webs)) AS ultimo_dia_disponible\n",
    "    FROM precio) AND id_suscripcion = 1\n",
    "ORDER BY calificación DESC, numero_calificaciones ASC\n",
    "'''"
   ]
  }
 ],
 "metadata": {
  "language_info": {
   "name": "python"
  }
 },
 "nbformat": 4,
 "nbformat_minor": 2
}
