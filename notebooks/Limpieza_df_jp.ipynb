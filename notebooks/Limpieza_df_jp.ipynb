{
 "cells": [
  {
   "cell_type": "markdown",
   "metadata": {},
   "source": [
    ">>>  ### *ÍNDICE*\n",
    ">>- #### Comprobamos valor nulos juegos\n",
    ">>- ####  Limpieza de Datos por Columna\n",
    ">  * Titulo\n",
    ">  * Plataforma\n",
    ">  * Genero\n",
    ">  * Compañia\n",
    ">  * Lanzamiento\n",
    ">  * Idiomas\n",
    ">  * Calificación PSN\n",
    ">  * Número de calificaciones\n",
    ">  * Calificación 5 estrellas\n",
    ">  * Calificación 4 estrellas\n",
    ">  * Calificación 3 estrellas\n",
    ">  * Calificación 2 estrellas\n",
    ">  * Calificación 1 estrella\n",
    ">  * Precio original sin PSN\n",
    ">  * Precio actual sin PSN\n",
    ">  * Precio original con PSN\n",
    ">  * Precio actual con PSN\n",
    ">  * País Store   \n",
    ">  * [Todo el código resumido](#10)  "
   ]
  },
  {
   "cell_type": "code",
   "execution_count": 249,
   "metadata": {},
   "outputs": [],
   "source": [
    "import pandas as pd\n",
    "import matplotlib.pyplot as plt # Para visualizaciones en Jupyter no importar script python\n",
    "import seaborn as sns # Para visualizaciones en Jupyter no importar script python\n"
   ]
  },
  {
   "cell_type": "markdown",
   "metadata": {},
   "source": [
    "<a id=\"0\"></a> <br>\n",
    "Ahora toca limpiar los datos para tenerlos preparados para insertarlos en la bbdd"
   ]
  },
  {
   "cell_type": "markdown",
   "metadata": {},
   "source": [
    "\n",
    "Pruebas df \n",
    "Aseguramos un csv para hacer pruebas con ello."
   ]
  },
  {
   "cell_type": "code",
   "execution_count": 250,
   "metadata": {},
   "outputs": [],
   "source": [
    "df_webscrap_anterior = pd.read_csv(\"../csv_s/csv_region/jap/brut/csv_2024-04-02_jap_prueba_null.csv\")"
   ]
  },
  {
   "cell_type": "code",
   "execution_count": 251,
   "metadata": {},
   "outputs": [],
   "source": [
    "df_webscrap = pd.read_csv(\"../csv_s/csv_region/jap/brut/csv_2024-04-01_jap.csv\")"
   ]
  },
  {
   "cell_type": "code",
   "execution_count": 252,
   "metadata": {},
   "outputs": [
    {
     "name": "stdout",
     "output_type": "stream",
     "text": [
      "<class 'pandas.core.frame.DataFrame'>\n",
      "RangeIndex: 5729 entries, 0 to 5728\n",
      "Data columns (total 20 columns):\n",
      " #   Column                    Non-Null Count  Dtype \n",
      "---  ------                    --------------  ----- \n",
      " 0   id_juego                  5729 non-null   int64 \n",
      " 1   Titulo                    5729 non-null   object\n",
      " 2   Día y hora                5729 non-null   object\n",
      " 3   Plataforma                5729 non-null   object\n",
      " 4   Genero                    5729 non-null   object\n",
      " 5   Compañia                  5729 non-null   object\n",
      " 6   Lanzamiento               5729 non-null   object\n",
      " 7   Idiomas                   5729 non-null   object\n",
      " 8   Calificación PSN          5729 non-null   object\n",
      " 9   Número de calificaciones  5729 non-null   object\n",
      " 10  Calificación 5 estrellas  5729 non-null   object\n",
      " 11  Calificación 4 estrellas  5729 non-null   object\n",
      " 12  Calificación 3 estrellas  5729 non-null   object\n",
      " 13  Calificación 2 estrellas  5729 non-null   object\n",
      " 14  Calificación 1 estrella   5729 non-null   object\n",
      " 15  Precio original sin PSN   5729 non-null   object\n",
      " 16  Precio actual sin PSN     5729 non-null   object\n",
      " 17  Precio original con PSN   5729 non-null   object\n",
      " 18  Precio actual con PSN     5729 non-null   object\n",
      " 19  País Store                5729 non-null   object\n",
      "dtypes: int64(1), object(19)\n",
      "memory usage: 895.3+ KB\n"
     ]
    }
   ],
   "source": [
    "df_webscrap.info()"
   ]
  },
  {
   "cell_type": "markdown",
   "metadata": {},
   "source": [
    "* Vamos a empezar a limpiar todas las columnas para introducir este codigo en las funciones y así limpiar el df una vez en el script"
   ]
  },
  {
   "cell_type": "markdown",
   "metadata": {},
   "source": [
    "* Para ello primero haremos una limpieza preliminar ya que en ocasiones no coge toda la informacion de los juegos, los mas importantes son los precio.\n",
    "* Empezamos haciendo limpieza de precios "
   ]
  },
  {
   "cell_type": "markdown",
   "metadata": {},
   "source": [
    "Hacemos una primera comprobacion rescatando juegos que se habian quedado por el camino"
   ]
  },
  {
   "cell_type": "code",
   "execution_count": 253,
   "metadata": {},
   "outputs": [],
   "source": [
    "lista_juegos_no_ok = list(df_webscrap[\"id_juego\"][df_webscrap[\"Titulo\"]==\"No hay información\"])"
   ]
  },
  {
   "cell_type": "code",
   "execution_count": 254,
   "metadata": {},
   "outputs": [],
   "source": [
    "for i in lista_juegos_no_ok:\n",
    "    df_webscrap.loc[df_webscrap[\"id_juego\"] == i, [\"Titulo\"]] = list(df_webscrap_anterior[\"Titulo\"][df_webscrap_anterior[\"id_juego\"] == i])[0]\n",
    "    df_webscrap.loc[df_webscrap[\"id_juego\"] == i, [\"Plataforma\"]] = list(df_webscrap_anterior[\"Plataforma\"][df_webscrap_anterior[\"id_juego\"] == i])[0]\n",
    "    df_webscrap.loc[df_webscrap[\"id_juego\"] == i, [\"Genero\"]] = list(df_webscrap_anterior[\"Genero\"][df_webscrap_anterior[\"id_juego\"] == i])[0]\n",
    "    df_webscrap.loc[df_webscrap[\"id_juego\"] == i, [\"Compañia\"]] = list(df_webscrap_anterior[\"Compañia\"][df_webscrap_anterior[\"id_juego\"] == i])[0]\n",
    "    df_webscrap.loc[df_webscrap[\"id_juego\"] == i, [\"Lanzamiento\"]] = list(df_webscrap_anterior[\"Lanzamiento\"][df_webscrap_anterior[\"id_juego\"] == i])[0]\n",
    "    df_webscrap.loc[df_webscrap[\"id_juego\"] == i, [\"Idiomas\"]] = list(df_webscrap_anterior[\"Idiomas\"][df_webscrap_anterior[\"id_juego\"] == i])[0]\n",
    "    df_webscrap.loc[df_webscrap[\"id_juego\"] == i, [\"Calificación PSN\"]] = list(df_webscrap_anterior[\"Calificación PSN\"][df_webscrap_anterior[\"id_juego\"] == i])[0]\n",
    "    df_webscrap.loc[df_webscrap[\"id_juego\"] == i, [\"Número de calificaciones\"]] = list(df_webscrap_anterior[\"Número de calificaciones\"][df_webscrap_anterior[\"id_juego\"] == i])[0]\n",
    "    df_webscrap.loc[df_webscrap[\"id_juego\"] == i, [\"Calificación 5 estrellas\"]] = list(df_webscrap_anterior[\"Calificación 5 estrellas\"][df_webscrap_anterior[\"id_juego\"] == i])[0]\n",
    "    df_webscrap.loc[df_webscrap[\"id_juego\"] == i, [\"Calificación 4 estrellas\"]] = list(df_webscrap_anterior[\"Calificación 4 estrellas\"][df_webscrap_anterior[\"id_juego\"] == i])[0]\n",
    "    df_webscrap.loc[df_webscrap[\"id_juego\"] == i, [\"Calificación 3 estrellas\"]] = list(df_webscrap_anterior[\"Calificación 3 estrellas\"][df_webscrap_anterior[\"id_juego\"] == i])[0]\n",
    "    df_webscrap.loc[df_webscrap[\"id_juego\"] == i, [\"Calificación 2 estrellas\"]] = list(df_webscrap_anterior[\"Calificación 2 estrellas\"][df_webscrap_anterior[\"id_juego\"] == i])[0]\n",
    "    df_webscrap.loc[df_webscrap[\"id_juego\"] == i, [\"Calificación 1 estrella\"]] = list(df_webscrap_anterior[\"Calificación 1 estrella\"][df_webscrap_anterior[\"id_juego\"] == i])[0]\n",
    "    df_webscrap.loc[df_webscrap[\"id_juego\"] == i, [\"Precio original sin PSN\"]] = list(df_webscrap_anterior[\"Precio original sin PSN\"][df_webscrap_anterior[\"id_juego\"] == i])[0]\n",
    "    df_webscrap.loc[df_webscrap[\"id_juego\"] == i, [\"Precio actual sin PSN\"]] = list(df_webscrap_anterior[\"Precio actual sin PSN\"][df_webscrap_anterior[\"id_juego\"] == i])[0]\n",
    "    df_webscrap.loc[df_webscrap[\"id_juego\"] == i, [\"Precio original con PSN\"]] = list(df_webscrap_anterior[\"Precio original con PSN\"][df_webscrap_anterior[\"id_juego\"] == i])[0]\n",
    "    df_webscrap.loc[df_webscrap[\"id_juego\"] == i, [\"Precio actual con PSN\"]] = list(df_webscrap_anterior[\"Precio actual con PSN\"][df_webscrap_anterior[\"id_juego\"] == i])[0]\n",
    "    df_webscrap.loc[df_webscrap[\"id_juego\"] == i, \"País Store\"] = df_webscrap_anterior[\"País Store\"][df_webscrap_anterior[\"id_juego\"] == i]"
   ]
  },
  {
   "cell_type": "code",
   "execution_count": 255,
   "metadata": {},
   "outputs": [
    {
     "data": {
      "text/html": [
       "<div>\n",
       "<style scoped>\n",
       "    .dataframe tbody tr th:only-of-type {\n",
       "        vertical-align: middle;\n",
       "    }\n",
       "\n",
       "    .dataframe tbody tr th {\n",
       "        vertical-align: top;\n",
       "    }\n",
       "\n",
       "    .dataframe thead th {\n",
       "        text-align: right;\n",
       "    }\n",
       "</style>\n",
       "<table border=\"1\" class=\"dataframe\">\n",
       "  <thead>\n",
       "    <tr style=\"text-align: right;\">\n",
       "      <th></th>\n",
       "      <th>id_juego</th>\n",
       "      <th>Titulo</th>\n",
       "      <th>Día y hora</th>\n",
       "      <th>Plataforma</th>\n",
       "      <th>Genero</th>\n",
       "      <th>Compañia</th>\n",
       "      <th>Lanzamiento</th>\n",
       "      <th>Idiomas</th>\n",
       "      <th>Calificación PSN</th>\n",
       "      <th>Número de calificaciones</th>\n",
       "      <th>Calificación 5 estrellas</th>\n",
       "      <th>Calificación 4 estrellas</th>\n",
       "      <th>Calificación 3 estrellas</th>\n",
       "      <th>Calificación 2 estrellas</th>\n",
       "      <th>Calificación 1 estrella</th>\n",
       "      <th>Precio original sin PSN</th>\n",
       "      <th>Precio actual sin PSN</th>\n",
       "      <th>Precio original con PSN</th>\n",
       "      <th>Precio actual con PSN</th>\n",
       "      <th>País Store</th>\n",
       "    </tr>\n",
       "  </thead>\n",
       "  <tbody>\n",
       "    <tr>\n",
       "      <th>4643</th>\n",
       "      <td>213182</td>\n",
       "      <td>The Golf Club™</td>\n",
       "      <td>2024-04-01T17:38:19.980237</td>\n",
       "      <td>PS4</td>\n",
       "      <td>スポーツ</td>\n",
       "      <td>H.B. Studios Multimedia Limited</td>\n",
       "      <td>2018/2/2</td>\n",
       "      <td>イタリア語, スペイン語, ドイツ語, フランス語 (フランス), ポルトガル語 (ポルトガ...</td>\n",
       "      <td>4</td>\n",
       "      <td>4531件の評価</td>\n",
       "      <td>49％</td>\n",
       "      <td>28％</td>\n",
       "      <td>9％</td>\n",
       "      <td>4％</td>\n",
       "      <td>10％</td>\n",
       "      <td>No hay información</td>\n",
       "      <td>No hay información</td>\n",
       "      <td>No hay información</td>\n",
       "      <td>No hay información</td>\n",
       "      <td>JAP</td>\n",
       "    </tr>\n",
       "    <tr>\n",
       "      <th>4644</th>\n",
       "      <td>232841</td>\n",
       "      <td>The Golf Club 2019 featuring the PGA Tour (英語版）</td>\n",
       "      <td>2024-04-01T17:38:26.667260</td>\n",
       "      <td>PS4</td>\n",
       "      <td>スポーツ</td>\n",
       "      <td>Take-Two Interactive Japan GK</td>\n",
       "      <td>2018/10/4</td>\n",
       "      <td>No hay información</td>\n",
       "      <td>3.47</td>\n",
       "      <td>1443件の評価</td>\n",
       "      <td>44％</td>\n",
       "      <td>17％</td>\n",
       "      <td>8％</td>\n",
       "      <td>6％</td>\n",
       "      <td>26％</td>\n",
       "      <td>No hay información</td>\n",
       "      <td>No hay información</td>\n",
       "      <td>No hay información</td>\n",
       "      <td>No hay información</td>\n",
       "      <td>JAP</td>\n",
       "    </tr>\n",
       "  </tbody>\n",
       "</table>\n",
       "</div>"
      ],
      "text/plain": [
       "      id_juego                                           Titulo  \\\n",
       "4643    213182                                   The Golf Club™   \n",
       "4644    232841  The Golf Club 2019 featuring the PGA Tour (英語版）   \n",
       "\n",
       "                      Día y hora Plataforma Genero  \\\n",
       "4643  2024-04-01T17:38:19.980237        PS4   スポーツ   \n",
       "4644  2024-04-01T17:38:26.667260        PS4   スポーツ   \n",
       "\n",
       "                             Compañia Lanzamiento  \\\n",
       "4643  H.B. Studios Multimedia Limited    2018/2/2   \n",
       "4644    Take-Two Interactive Japan GK   2018/10/4   \n",
       "\n",
       "                                                Idiomas Calificación PSN  \\\n",
       "4643  イタリア語, スペイン語, ドイツ語, フランス語 (フランス), ポルトガル語 (ポルトガ...                4   \n",
       "4644                                 No hay información             3.47   \n",
       "\n",
       "     Número de calificaciones Calificación 5 estrellas  \\\n",
       "4643                 4531件の評価                      49％   \n",
       "4644                 1443件の評価                      44％   \n",
       "\n",
       "     Calificación 4 estrellas Calificación 3 estrellas  \\\n",
       "4643                      28％                       9％   \n",
       "4644                      17％                       8％   \n",
       "\n",
       "     Calificación 2 estrellas Calificación 1 estrella Precio original sin PSN  \\\n",
       "4643                       4％                     10％      No hay información   \n",
       "4644                       6％                     26％      No hay información   \n",
       "\n",
       "     Precio actual sin PSN Precio original con PSN Precio actual con PSN  \\\n",
       "4643    No hay información      No hay información    No hay información   \n",
       "4644    No hay información      No hay información    No hay información   \n",
       "\n",
       "     País Store  \n",
       "4643        JAP  \n",
       "4644        JAP  "
      ]
     },
     "execution_count": 255,
     "metadata": {},
     "output_type": "execute_result"
    }
   ],
   "source": [
    "df_webscrap[df_webscrap[\"Precio original con PSN\"] == \"No hay información\"]"
   ]
  },
  {
   "cell_type": "code",
   "execution_count": 256,
   "metadata": {},
   "outputs": [],
   "source": [
    "df_webscrap.drop(df_webscrap[df_webscrap[\"Precio original con PSN\"] == \"No hay información\"].index,inplace=True)\n",
    "df_webscrap.drop(df_webscrap[df_webscrap[\"Precio actual sin PSN\"] == \"No hay información\"].index,inplace=True)\n",
    "df_webscrap.drop(df_webscrap[df_webscrap[\"Precio original con PSN\"] == \"No hay información\"].index,inplace=True)\n",
    "df_webscrap.drop(df_webscrap[df_webscrap[\"Precio actual con PSN\"] == \"No hay información\"].index,inplace=True)"
   ]
  },
  {
   "cell_type": "code",
   "execution_count": 257,
   "metadata": {},
   "outputs": [
    {
     "data": {
      "text/html": [
       "<div>\n",
       "<style scoped>\n",
       "    .dataframe tbody tr th:only-of-type {\n",
       "        vertical-align: middle;\n",
       "    }\n",
       "\n",
       "    .dataframe tbody tr th {\n",
       "        vertical-align: top;\n",
       "    }\n",
       "\n",
       "    .dataframe thead th {\n",
       "        text-align: right;\n",
       "    }\n",
       "</style>\n",
       "<table border=\"1\" class=\"dataframe\">\n",
       "  <thead>\n",
       "    <tr style=\"text-align: right;\">\n",
       "      <th></th>\n",
       "      <th>id_juego</th>\n",
       "      <th>Titulo</th>\n",
       "      <th>Día y hora</th>\n",
       "      <th>Plataforma</th>\n",
       "      <th>Genero</th>\n",
       "      <th>Compañia</th>\n",
       "      <th>Lanzamiento</th>\n",
       "      <th>Idiomas</th>\n",
       "      <th>Calificación PSN</th>\n",
       "      <th>Número de calificaciones</th>\n",
       "      <th>Calificación 5 estrellas</th>\n",
       "      <th>Calificación 4 estrellas</th>\n",
       "      <th>Calificación 3 estrellas</th>\n",
       "      <th>Calificación 2 estrellas</th>\n",
       "      <th>Calificación 1 estrella</th>\n",
       "      <th>Precio original sin PSN</th>\n",
       "      <th>Precio actual sin PSN</th>\n",
       "      <th>Precio original con PSN</th>\n",
       "      <th>Precio actual con PSN</th>\n",
       "      <th>País Store</th>\n",
       "    </tr>\n",
       "  </thead>\n",
       "  <tbody>\n",
       "  </tbody>\n",
       "</table>\n",
       "</div>"
      ],
      "text/plain": [
       "Empty DataFrame\n",
       "Columns: [id_juego, Titulo, Día y hora, Plataforma, Genero, Compañia, Lanzamiento, Idiomas, Calificación PSN, Número de calificaciones, Calificación 5 estrellas, Calificación 4 estrellas, Calificación 3 estrellas, Calificación 2 estrellas, Calificación 1 estrella, Precio original sin PSN, Precio actual sin PSN, Precio original con PSN, Precio actual con PSN, País Store]\n",
       "Index: []"
      ]
     },
     "execution_count": 257,
     "metadata": {},
     "output_type": "execute_result"
    }
   ],
   "source": [
    "df_webscrap[df_webscrap[\"Precio original con PSN\"] == \"No hay información\"]"
   ]
  },
  {
   "cell_type": "markdown",
   "metadata": {},
   "source": [
    "### Id juego"
   ]
  },
  {
   "cell_type": "markdown",
   "metadata": {},
   "source": [
    "Comprobamos que no tengamos ningún valor repetido"
   ]
  },
  {
   "cell_type": "code",
   "execution_count": 258,
   "metadata": {},
   "outputs": [
    {
     "data": {
      "text/html": [
       "<div>\n",
       "<style scoped>\n",
       "    .dataframe tbody tr th:only-of-type {\n",
       "        vertical-align: middle;\n",
       "    }\n",
       "\n",
       "    .dataframe tbody tr th {\n",
       "        vertical-align: top;\n",
       "    }\n",
       "\n",
       "    .dataframe thead th {\n",
       "        text-align: right;\n",
       "    }\n",
       "</style>\n",
       "<table border=\"1\" class=\"dataframe\">\n",
       "  <thead>\n",
       "    <tr style=\"text-align: right;\">\n",
       "      <th></th>\n",
       "      <th>id_juego</th>\n",
       "      <th>Titulo</th>\n",
       "      <th>Día y hora</th>\n",
       "      <th>Plataforma</th>\n",
       "      <th>Genero</th>\n",
       "      <th>Compañia</th>\n",
       "      <th>Lanzamiento</th>\n",
       "      <th>Idiomas</th>\n",
       "      <th>Calificación PSN</th>\n",
       "      <th>Número de calificaciones</th>\n",
       "      <th>Calificación 5 estrellas</th>\n",
       "      <th>Calificación 4 estrellas</th>\n",
       "      <th>Calificación 3 estrellas</th>\n",
       "      <th>Calificación 2 estrellas</th>\n",
       "      <th>Calificación 1 estrella</th>\n",
       "      <th>Precio original sin PSN</th>\n",
       "      <th>Precio actual sin PSN</th>\n",
       "      <th>Precio original con PSN</th>\n",
       "      <th>Precio actual con PSN</th>\n",
       "      <th>País Store</th>\n",
       "    </tr>\n",
       "  </thead>\n",
       "  <tbody>\n",
       "  </tbody>\n",
       "</table>\n",
       "</div>"
      ],
      "text/plain": [
       "Empty DataFrame\n",
       "Columns: [id_juego, Titulo, Día y hora, Plataforma, Genero, Compañia, Lanzamiento, Idiomas, Calificación PSN, Número de calificaciones, Calificación 5 estrellas, Calificación 4 estrellas, Calificación 3 estrellas, Calificación 2 estrellas, Calificación 1 estrella, Precio original sin PSN, Precio actual sin PSN, Precio original con PSN, Precio actual con PSN, País Store]\n",
       "Index: []"
      ]
     },
     "execution_count": 258,
     "metadata": {},
     "output_type": "execute_result"
    }
   ],
   "source": [
    "df_webscrap[df_webscrap[\"id_juego\"].duplicated()]"
   ]
  },
  {
   "cell_type": "code",
   "execution_count": 259,
   "metadata": {},
   "outputs": [
    {
     "data": {
      "text/plain": [
       "0       10005275\n",
       "1         232352\n",
       "2       10000896\n",
       "3         201579\n",
       "4       10002427\n",
       "          ...   \n",
       "5724    10008877\n",
       "5725      232140\n",
       "5726    10009885\n",
       "5727    10010652\n",
       "5728    10009850\n",
       "Name: id_juego, Length: 5727, dtype: int64"
      ]
     },
     "execution_count": 259,
     "metadata": {},
     "output_type": "execute_result"
    }
   ],
   "source": [
    "df_webscrap[\"id_juego\"].drop_duplicates()"
   ]
  },
  {
   "cell_type": "code",
   "execution_count": 260,
   "metadata": {},
   "outputs": [],
   "source": [
    "df_webscrap[\"id_juego\"].drop_duplicates(inplace=True)"
   ]
  },
  {
   "cell_type": "markdown",
   "metadata": {},
   "source": [
    "### Título"
   ]
  },
  {
   "cell_type": "markdown",
   "metadata": {},
   "source": [
    "* Con la comprobación del principio nos quedamos tranquilos pero por si acaso..."
   ]
  },
  {
   "cell_type": "markdown",
   "metadata": {},
   "source": [
    "Hay veces que por motivos de espera no coge la información del juego concreto, por lo tanto vamos a rellenar la informacion del csv del día anterior con la de hoy, hemos cargado la info en un df y procedemos a ello."
   ]
  },
  {
   "cell_type": "code",
   "execution_count": 261,
   "metadata": {},
   "outputs": [
    {
     "data": {
      "text/html": [
       "<div>\n",
       "<style scoped>\n",
       "    .dataframe tbody tr th:only-of-type {\n",
       "        vertical-align: middle;\n",
       "    }\n",
       "\n",
       "    .dataframe tbody tr th {\n",
       "        vertical-align: top;\n",
       "    }\n",
       "\n",
       "    .dataframe thead th {\n",
       "        text-align: right;\n",
       "    }\n",
       "</style>\n",
       "<table border=\"1\" class=\"dataframe\">\n",
       "  <thead>\n",
       "    <tr style=\"text-align: right;\">\n",
       "      <th></th>\n",
       "      <th>id_juego</th>\n",
       "      <th>Titulo</th>\n",
       "      <th>Día y hora</th>\n",
       "      <th>Plataforma</th>\n",
       "      <th>Genero</th>\n",
       "      <th>Compañia</th>\n",
       "      <th>Lanzamiento</th>\n",
       "      <th>Idiomas</th>\n",
       "      <th>Calificación PSN</th>\n",
       "      <th>Número de calificaciones</th>\n",
       "      <th>Calificación 5 estrellas</th>\n",
       "      <th>Calificación 4 estrellas</th>\n",
       "      <th>Calificación 3 estrellas</th>\n",
       "      <th>Calificación 2 estrellas</th>\n",
       "      <th>Calificación 1 estrella</th>\n",
       "      <th>Precio original sin PSN</th>\n",
       "      <th>Precio actual sin PSN</th>\n",
       "      <th>Precio original con PSN</th>\n",
       "      <th>Precio actual con PSN</th>\n",
       "      <th>País Store</th>\n",
       "    </tr>\n",
       "  </thead>\n",
       "  <tbody>\n",
       "  </tbody>\n",
       "</table>\n",
       "</div>"
      ],
      "text/plain": [
       "Empty DataFrame\n",
       "Columns: [id_juego, Titulo, Día y hora, Plataforma, Genero, Compañia, Lanzamiento, Idiomas, Calificación PSN, Número de calificaciones, Calificación 5 estrellas, Calificación 4 estrellas, Calificación 3 estrellas, Calificación 2 estrellas, Calificación 1 estrella, Precio original sin PSN, Precio actual sin PSN, Precio original con PSN, Precio actual con PSN, País Store]\n",
       "Index: []"
      ]
     },
     "execution_count": 261,
     "metadata": {},
     "output_type": "execute_result"
    }
   ],
   "source": [
    "df_webscrap[df_webscrap[\"Titulo\"] == \"No hay información\"]"
   ]
  },
  {
   "cell_type": "code",
   "execution_count": 262,
   "metadata": {},
   "outputs": [
    {
     "data": {
      "text/plain": [
       "Index([], dtype='int64')"
      ]
     },
     "execution_count": 262,
     "metadata": {},
     "output_type": "execute_result"
    }
   ],
   "source": [
    "df_webscrap[df_webscrap[\"Titulo\"] == \"No hay información\"].index"
   ]
  },
  {
   "cell_type": "code",
   "execution_count": 263,
   "metadata": {},
   "outputs": [],
   "source": [
    "df_webscrap.drop(df_webscrap[df_webscrap[\"Titulo\"] == \"No hay información\"].index,inplace=True)"
   ]
  },
  {
   "cell_type": "markdown",
   "metadata": {},
   "source": [
    "Comprobamos que está todo ok y no hay valores sin información"
   ]
  },
  {
   "cell_type": "code",
   "execution_count": 264,
   "metadata": {},
   "outputs": [
    {
     "data": {
      "text/plain": [
       "Index([], dtype='int64')"
      ]
     },
     "execution_count": 264,
     "metadata": {},
     "output_type": "execute_result"
    }
   ],
   "source": [
    "df_webscrap[df_webscrap[\"Titulo\"] == \"No hay información\"].index"
   ]
  },
  {
   "cell_type": "markdown",
   "metadata": {},
   "source": [
    "---"
   ]
  },
  {
   "cell_type": "markdown",
   "metadata": {},
   "source": [
    "### Género"
   ]
  },
  {
   "cell_type": "markdown",
   "metadata": {},
   "source": [
    "Separamos cada elemento y como hay en ocasiones que se repiten por juego, o por error en la web ejecutamos lo siguiente"
   ]
  },
  {
   "cell_type": "code",
   "execution_count": 265,
   "metadata": {},
   "outputs": [
    {
     "data": {
      "text/html": [
       "<div>\n",
       "<style scoped>\n",
       "    .dataframe tbody tr th:only-of-type {\n",
       "        vertical-align: middle;\n",
       "    }\n",
       "\n",
       "    .dataframe tbody tr th {\n",
       "        vertical-align: top;\n",
       "    }\n",
       "\n",
       "    .dataframe thead th {\n",
       "        text-align: right;\n",
       "    }\n",
       "</style>\n",
       "<table border=\"1\" class=\"dataframe\">\n",
       "  <thead>\n",
       "    <tr style=\"text-align: right;\">\n",
       "      <th></th>\n",
       "      <th>id_juego</th>\n",
       "      <th>Titulo</th>\n",
       "      <th>Día y hora</th>\n",
       "      <th>Plataforma</th>\n",
       "      <th>Genero</th>\n",
       "      <th>Compañia</th>\n",
       "      <th>Lanzamiento</th>\n",
       "      <th>Idiomas</th>\n",
       "      <th>Calificación PSN</th>\n",
       "      <th>Número de calificaciones</th>\n",
       "      <th>Calificación 5 estrellas</th>\n",
       "      <th>Calificación 4 estrellas</th>\n",
       "      <th>Calificación 3 estrellas</th>\n",
       "      <th>Calificación 2 estrellas</th>\n",
       "      <th>Calificación 1 estrella</th>\n",
       "      <th>Precio original sin PSN</th>\n",
       "      <th>Precio actual sin PSN</th>\n",
       "      <th>Precio original con PSN</th>\n",
       "      <th>Precio actual con PSN</th>\n",
       "      <th>País Store</th>\n",
       "    </tr>\n",
       "  </thead>\n",
       "  <tbody>\n",
       "    <tr>\n",
       "      <th>1416</th>\n",
       "      <td>10002494</td>\n",
       "      <td>Tin Hearts 衛兵冒険記</td>\n",
       "      <td>2024-04-01T16:06:10.551524</td>\n",
       "      <td>No hay información</td>\n",
       "      <td>No hay información</td>\n",
       "      <td>No hay información</td>\n",
       "      <td>No hay información</td>\n",
       "      <td>No hay información</td>\n",
       "      <td>3.86</td>\n",
       "      <td>No hay información</td>\n",
       "      <td>No hay información</td>\n",
       "      <td>No hay información</td>\n",
       "      <td>No hay información</td>\n",
       "      <td>No hay información</td>\n",
       "      <td>No hay información</td>\n",
       "      <td>¥4,818</td>\n",
       "      <td>¥4,818</td>\n",
       "      <td>¥4,818</td>\n",
       "      <td>¥4,818</td>\n",
       "      <td>JAP</td>\n",
       "    </tr>\n",
       "    <tr>\n",
       "      <th>1417</th>\n",
       "      <td>10004255</td>\n",
       "      <td>Oxide Room 104 (オキサイド・ルーム104)</td>\n",
       "      <td>2024-04-01T16:06:11.763575</td>\n",
       "      <td>No hay información</td>\n",
       "      <td>No hay información</td>\n",
       "      <td>No hay información</td>\n",
       "      <td>No hay información</td>\n",
       "      <td>No hay información</td>\n",
       "      <td>3.5</td>\n",
       "      <td>196件の評価</td>\n",
       "      <td>43％</td>\n",
       "      <td>14％</td>\n",
       "      <td>11％</td>\n",
       "      <td>13％</td>\n",
       "      <td>19％</td>\n",
       "      <td>¥3,520</td>\n",
       "      <td>¥3,520</td>\n",
       "      <td>¥3,520</td>\n",
       "      <td>¥3,520</td>\n",
       "      <td>JAP</td>\n",
       "    </tr>\n",
       "    <tr>\n",
       "      <th>2795</th>\n",
       "      <td>10006064</td>\n",
       "      <td>Italian Journey: Nitro</td>\n",
       "      <td>2024-04-01T16:46:22.192822</td>\n",
       "      <td>No hay información</td>\n",
       "      <td>No hay información</td>\n",
       "      <td>No hay información</td>\n",
       "      <td>No hay información</td>\n",
       "      <td>No hay información</td>\n",
       "      <td>4.32</td>\n",
       "      <td>19件の評価</td>\n",
       "      <td>79％</td>\n",
       "      <td>5％</td>\n",
       "      <td>0％</td>\n",
       "      <td>0％</td>\n",
       "      <td>16％</td>\n",
       "      <td>¥440</td>\n",
       "      <td>¥440</td>\n",
       "      <td>¥440</td>\n",
       "      <td>¥440</td>\n",
       "      <td>JAP</td>\n",
       "    </tr>\n",
       "    <tr>\n",
       "      <th>3983</th>\n",
       "      <td>10010004</td>\n",
       "      <td>Dreamland Solitaire: Dark Prophecy</td>\n",
       "      <td>2024-04-01T17:21:13.957799</td>\n",
       "      <td>No hay información</td>\n",
       "      <td>パズル</td>\n",
       "      <td>ESDigital Games LTD</td>\n",
       "      <td>2024/4/4</td>\n",
       "      <td>No hay información</td>\n",
       "      <td>No hay información</td>\n",
       "      <td>No hay información</td>\n",
       "      <td>No hay información</td>\n",
       "      <td>No hay información</td>\n",
       "      <td>No hay información</td>\n",
       "      <td>No hay información</td>\n",
       "      <td>No hay información</td>\n",
       "      <td>発表されました</td>\n",
       "      <td>発表されました</td>\n",
       "      <td>発表されました</td>\n",
       "      <td>発表されました</td>\n",
       "      <td>JAP</td>\n",
       "    </tr>\n",
       "    <tr>\n",
       "      <th>4002</th>\n",
       "      <td>10008036</td>\n",
       "      <td>Flightpath: Adventures in Venaris</td>\n",
       "      <td>2024-04-01T17:21:44.986892</td>\n",
       "      <td>No hay información</td>\n",
       "      <td>アクション, シューティング</td>\n",
       "      <td>Eastasiasoft Limited</td>\n",
       "      <td>2024/4/2</td>\n",
       "      <td>No hay información</td>\n",
       "      <td>No hay información</td>\n",
       "      <td>No hay información</td>\n",
       "      <td>No hay información</td>\n",
       "      <td>No hay información</td>\n",
       "      <td>No hay información</td>\n",
       "      <td>No hay información</td>\n",
       "      <td>No hay información</td>\n",
       "      <td>発表されました</td>\n",
       "      <td>発表されました</td>\n",
       "      <td>発表されました</td>\n",
       "      <td>発表されました</td>\n",
       "      <td>JAP</td>\n",
       "    </tr>\n",
       "    <tr>\n",
       "      <th>4286</th>\n",
       "      <td>10002927</td>\n",
       "      <td>Ato</td>\n",
       "      <td>2024-04-01T17:29:09.491819</td>\n",
       "      <td>No hay información</td>\n",
       "      <td>アクション, アドベンチャー</td>\n",
       "      <td>Tiny Warrior Games LLC</td>\n",
       "      <td>2024/4/10</td>\n",
       "      <td>No hay información</td>\n",
       "      <td>No hay información</td>\n",
       "      <td>No hay información</td>\n",
       "      <td>No hay información</td>\n",
       "      <td>No hay información</td>\n",
       "      <td>No hay información</td>\n",
       "      <td>No hay información</td>\n",
       "      <td>No hay información</td>\n",
       "      <td>発表されました</td>\n",
       "      <td>発表されました</td>\n",
       "      <td>発表されました</td>\n",
       "      <td>発表されました</td>\n",
       "      <td>JAP</td>\n",
       "    </tr>\n",
       "    <tr>\n",
       "      <th>4526</th>\n",
       "      <td>10007320</td>\n",
       "      <td>ガーデンライフ：夢の庭をつくろう</td>\n",
       "      <td>2024-04-01T17:35:12.262320</td>\n",
       "      <td>No hay información</td>\n",
       "      <td>シミュレーション</td>\n",
       "      <td>株式会社3goo</td>\n",
       "      <td>2024/5/15</td>\n",
       "      <td>No hay información</td>\n",
       "      <td>No hay información</td>\n",
       "      <td>No hay información</td>\n",
       "      <td>No hay información</td>\n",
       "      <td>No hay información</td>\n",
       "      <td>No hay información</td>\n",
       "      <td>No hay información</td>\n",
       "      <td>No hay información</td>\n",
       "      <td>発表されました</td>\n",
       "      <td>発表されました</td>\n",
       "      <td>発表されました</td>\n",
       "      <td>発表されました</td>\n",
       "      <td>JAP</td>\n",
       "    </tr>\n",
       "    <tr>\n",
       "      <th>4582</th>\n",
       "      <td>10008548</td>\n",
       "      <td>けもの道☆ガーリッシュスクエア</td>\n",
       "      <td>2024-04-01T17:36:35.546017</td>\n",
       "      <td>No hay información</td>\n",
       "      <td>アドベンチャー</td>\n",
       "      <td>株式会社エンターグラム</td>\n",
       "      <td>No hay información</td>\n",
       "      <td>No hay información</td>\n",
       "      <td>No hay información</td>\n",
       "      <td>No hay información</td>\n",
       "      <td>No hay información</td>\n",
       "      <td>No hay información</td>\n",
       "      <td>No hay información</td>\n",
       "      <td>No hay información</td>\n",
       "      <td>No hay información</td>\n",
       "      <td>購入できません</td>\n",
       "      <td>購入できません</td>\n",
       "      <td>購入できません</td>\n",
       "      <td>購入できません</td>\n",
       "      <td>JAP</td>\n",
       "    </tr>\n",
       "    <tr>\n",
       "      <th>4635</th>\n",
       "      <td>10005578</td>\n",
       "      <td>The Dragoness: Command of the Flame</td>\n",
       "      <td>2024-04-01T17:38:03.215141</td>\n",
       "      <td>No hay información</td>\n",
       "      <td>アドベンチャー, アドベンチャー, ストラテジー</td>\n",
       "      <td>株式会社オーイズミ・アミュージオ</td>\n",
       "      <td>2024/4/10</td>\n",
       "      <td>No hay información</td>\n",
       "      <td>No hay información</td>\n",
       "      <td>No hay información</td>\n",
       "      <td>No hay información</td>\n",
       "      <td>No hay información</td>\n",
       "      <td>No hay información</td>\n",
       "      <td>No hay información</td>\n",
       "      <td>No hay información</td>\n",
       "      <td>発表されました</td>\n",
       "      <td>発表されました</td>\n",
       "      <td>発表されました</td>\n",
       "      <td>発表されました</td>\n",
       "      <td>JAP</td>\n",
       "    </tr>\n",
       "    <tr>\n",
       "      <th>4701</th>\n",
       "      <td>232809</td>\n",
       "      <td>スカイドリフト インフィニティ</td>\n",
       "      <td>2024-04-01T17:39:58.385305</td>\n",
       "      <td>No hay información</td>\n",
       "      <td>No hay información</td>\n",
       "      <td>No hay información</td>\n",
       "      <td>No hay información</td>\n",
       "      <td>No hay información</td>\n",
       "      <td>4.16</td>\n",
       "      <td>136件の評価</td>\n",
       "      <td>63％</td>\n",
       "      <td>15％</td>\n",
       "      <td>9％</td>\n",
       "      <td>2％</td>\n",
       "      <td>11％</td>\n",
       "      <td>¥1,760</td>\n",
       "      <td>¥1,144</td>\n",
       "      <td>¥1,760</td>\n",
       "      <td>¥1,144</td>\n",
       "      <td>JAP</td>\n",
       "    </tr>\n",
       "    <tr>\n",
       "      <th>4894</th>\n",
       "      <td>10009413</td>\n",
       "      <td>デイヴ・ザ・ダイバー</td>\n",
       "      <td>2024-04-01T17:45:09.847798</td>\n",
       "      <td>No hay información</td>\n",
       "      <td>アドベンチャー</td>\n",
       "      <td>MINTROCKET</td>\n",
       "      <td>2024/4</td>\n",
       "      <td>No hay información</td>\n",
       "      <td>No hay información</td>\n",
       "      <td>No hay información</td>\n",
       "      <td>No hay información</td>\n",
       "      <td>No hay información</td>\n",
       "      <td>No hay información</td>\n",
       "      <td>No hay información</td>\n",
       "      <td>No hay información</td>\n",
       "      <td>発表されました</td>\n",
       "      <td>発表されました</td>\n",
       "      <td>発表されました</td>\n",
       "      <td>発表されました</td>\n",
       "      <td>JAP</td>\n",
       "    </tr>\n",
       "    <tr>\n",
       "      <th>4940</th>\n",
       "      <td>10009497</td>\n",
       "      <td>同級生リメイクCsver</td>\n",
       "      <td>2024-04-01T17:46:32.754087</td>\n",
       "      <td>No hay información</td>\n",
       "      <td>シミュレーション</td>\n",
       "      <td>EXNOA LLC</td>\n",
       "      <td>No hay información</td>\n",
       "      <td>No hay información</td>\n",
       "      <td>No hay información</td>\n",
       "      <td>No hay información</td>\n",
       "      <td>No hay información</td>\n",
       "      <td>No hay información</td>\n",
       "      <td>No hay información</td>\n",
       "      <td>No hay información</td>\n",
       "      <td>No hay información</td>\n",
       "      <td>購入できません</td>\n",
       "      <td>購入できません</td>\n",
       "      <td>購入できません</td>\n",
       "      <td>購入できません</td>\n",
       "      <td>JAP</td>\n",
       "    </tr>\n",
       "    <tr>\n",
       "      <th>5190</th>\n",
       "      <td>10007743</td>\n",
       "      <td>PERISH (ペリッシュ)</td>\n",
       "      <td>2024-04-01T17:53:34.224446</td>\n",
       "      <td>No hay información</td>\n",
       "      <td>アクション, シューティング</td>\n",
       "      <td>www.handy-games.com GmbH</td>\n",
       "      <td>2024/4/14</td>\n",
       "      <td>No hay información</td>\n",
       "      <td>No hay información</td>\n",
       "      <td>No hay información</td>\n",
       "      <td>No hay información</td>\n",
       "      <td>No hay información</td>\n",
       "      <td>No hay información</td>\n",
       "      <td>No hay información</td>\n",
       "      <td>No hay información</td>\n",
       "      <td>発表されました</td>\n",
       "      <td>発表されました</td>\n",
       "      <td>発表されました</td>\n",
       "      <td>発表されました</td>\n",
       "      <td>JAP</td>\n",
       "    </tr>\n",
       "    <tr>\n",
       "      <th>5341</th>\n",
       "      <td>10008592</td>\n",
       "      <td>リッチマン 11</td>\n",
       "      <td>2024-04-01T17:57:35.243071</td>\n",
       "      <td>No hay información</td>\n",
       "      <td>カジュアル, ファミリー</td>\n",
       "      <td>Eastasiasoft Limited</td>\n",
       "      <td>2024/4/18</td>\n",
       "      <td>No hay información</td>\n",
       "      <td>No hay información</td>\n",
       "      <td>No hay información</td>\n",
       "      <td>No hay información</td>\n",
       "      <td>No hay información</td>\n",
       "      <td>No hay información</td>\n",
       "      <td>No hay información</td>\n",
       "      <td>No hay información</td>\n",
       "      <td>発表されました</td>\n",
       "      <td>発表されました</td>\n",
       "      <td>発表されました</td>\n",
       "      <td>発表されました</td>\n",
       "      <td>JAP</td>\n",
       "    </tr>\n",
       "    <tr>\n",
       "      <th>5390</th>\n",
       "      <td>10005653</td>\n",
       "      <td>Loretta</td>\n",
       "      <td>2024-04-01T17:58:54.529816</td>\n",
       "      <td>No hay información</td>\n",
       "      <td>アドベンチャー, アドベンチャー</td>\n",
       "      <td>DANGEN ENTERTAINMENT株式会社</td>\n",
       "      <td>2024/4/10</td>\n",
       "      <td>No hay información</td>\n",
       "      <td>No hay información</td>\n",
       "      <td>No hay información</td>\n",
       "      <td>No hay información</td>\n",
       "      <td>No hay información</td>\n",
       "      <td>No hay información</td>\n",
       "      <td>No hay información</td>\n",
       "      <td>No hay información</td>\n",
       "      <td>発表されました</td>\n",
       "      <td>発表されました</td>\n",
       "      <td>発表されました</td>\n",
       "      <td>発表されました</td>\n",
       "      <td>JAP</td>\n",
       "    </tr>\n",
       "    <tr>\n",
       "      <th>5487</th>\n",
       "      <td>10009923</td>\n",
       "      <td>Another Crab’s Treasure</td>\n",
       "      <td>2024-04-01T18:01:36.448578</td>\n",
       "      <td>No hay información</td>\n",
       "      <td>アクション</td>\n",
       "      <td>No hay información</td>\n",
       "      <td>2024/4/25</td>\n",
       "      <td>No hay información</td>\n",
       "      <td>No hay información</td>\n",
       "      <td>No hay información</td>\n",
       "      <td>No hay información</td>\n",
       "      <td>No hay información</td>\n",
       "      <td>No hay información</td>\n",
       "      <td>No hay información</td>\n",
       "      <td>No hay información</td>\n",
       "      <td>発表されました</td>\n",
       "      <td>発表されました</td>\n",
       "      <td>発表されました</td>\n",
       "      <td>発表されました</td>\n",
       "      <td>JAP</td>\n",
       "    </tr>\n",
       "    <tr>\n",
       "      <th>5529</th>\n",
       "      <td>10008377</td>\n",
       "      <td>Freedom Planet 2</td>\n",
       "      <td>2024-04-01T18:02:47.243290</td>\n",
       "      <td>No hay información</td>\n",
       "      <td>アクション</td>\n",
       "      <td>MARVELOUS</td>\n",
       "      <td>2024/4/3</td>\n",
       "      <td>No hay información</td>\n",
       "      <td>No hay información</td>\n",
       "      <td>No hay información</td>\n",
       "      <td>No hay información</td>\n",
       "      <td>No hay información</td>\n",
       "      <td>No hay información</td>\n",
       "      <td>No hay información</td>\n",
       "      <td>No hay información</td>\n",
       "      <td>発表されました</td>\n",
       "      <td>発表されました</td>\n",
       "      <td>発表されました</td>\n",
       "      <td>発表されました</td>\n",
       "      <td>JAP</td>\n",
       "    </tr>\n",
       "    <tr>\n",
       "      <th>5546</th>\n",
       "      <td>232798</td>\n",
       "      <td>Harold Halibut</td>\n",
       "      <td>2024-04-01T18:03:15.905947</td>\n",
       "      <td>No hay información</td>\n",
       "      <td>その他</td>\n",
       "      <td>SLOW BROS. UG (HAFTUNGSBESCHRÄNKT)</td>\n",
       "      <td>2024/4/16</td>\n",
       "      <td>No hay información</td>\n",
       "      <td>No hay información</td>\n",
       "      <td>No hay información</td>\n",
       "      <td>No hay información</td>\n",
       "      <td>No hay información</td>\n",
       "      <td>No hay información</td>\n",
       "      <td>No hay información</td>\n",
       "      <td>No hay información</td>\n",
       "      <td>発表されました</td>\n",
       "      <td>発表されました</td>\n",
       "      <td>発表されました</td>\n",
       "      <td>発表されました</td>\n",
       "      <td>JAP</td>\n",
       "    </tr>\n",
       "    <tr>\n",
       "      <th>5566</th>\n",
       "      <td>10005702</td>\n",
       "      <td>Lunar Lander Beyond</td>\n",
       "      <td>2024-04-01T18:03:52.967774</td>\n",
       "      <td>No hay información</td>\n",
       "      <td>アドベンチャー</td>\n",
       "      <td>ATARI</td>\n",
       "      <td>2024/4/22</td>\n",
       "      <td>No hay información</td>\n",
       "      <td>No hay información</td>\n",
       "      <td>No hay información</td>\n",
       "      <td>No hay información</td>\n",
       "      <td>No hay información</td>\n",
       "      <td>No hay información</td>\n",
       "      <td>No hay información</td>\n",
       "      <td>No hay información</td>\n",
       "      <td>発表されました</td>\n",
       "      <td>発表されました</td>\n",
       "      <td>発表されました</td>\n",
       "      <td>発表されました</td>\n",
       "      <td>JAP</td>\n",
       "    </tr>\n",
       "    <tr>\n",
       "      <th>5575</th>\n",
       "      <td>10009742</td>\n",
       "      <td>Mixture</td>\n",
       "      <td>2024-04-01T18:04:07.588632</td>\n",
       "      <td>No hay información</td>\n",
       "      <td>アクション</td>\n",
       "      <td>Perpetual Europe Ltd</td>\n",
       "      <td>2024/4/11</td>\n",
       "      <td>No hay información</td>\n",
       "      <td>No hay información</td>\n",
       "      <td>No hay información</td>\n",
       "      <td>No hay información</td>\n",
       "      <td>No hay información</td>\n",
       "      <td>No hay información</td>\n",
       "      <td>No hay información</td>\n",
       "      <td>No hay información</td>\n",
       "      <td>発表されました</td>\n",
       "      <td>発表されました</td>\n",
       "      <td>発表されました</td>\n",
       "      <td>発表されました</td>\n",
       "      <td>JAP</td>\n",
       "    </tr>\n",
       "    <tr>\n",
       "      <th>5677</th>\n",
       "      <td>10010291</td>\n",
       "      <td>Withering Rooms</td>\n",
       "      <td>2024-04-01T18:06:43.579695</td>\n",
       "      <td>No hay información</td>\n",
       "      <td>RPG</td>\n",
       "      <td>Perpetual Europe Ltd</td>\n",
       "      <td>2024/4/4</td>\n",
       "      <td>No hay información</td>\n",
       "      <td>No hay información</td>\n",
       "      <td>No hay información</td>\n",
       "      <td>No hay información</td>\n",
       "      <td>No hay información</td>\n",
       "      <td>No hay información</td>\n",
       "      <td>No hay información</td>\n",
       "      <td>No hay información</td>\n",
       "      <td>発表されました</td>\n",
       "      <td>発表されました</td>\n",
       "      <td>発表されました</td>\n",
       "      <td>発表されました</td>\n",
       "      <td>JAP</td>\n",
       "    </tr>\n",
       "    <tr>\n",
       "      <th>5690</th>\n",
       "      <td>10006606</td>\n",
       "      <td>グーンズ・ホッケーの伝説</td>\n",
       "      <td>2024-04-01T18:07:02.897274</td>\n",
       "      <td>No hay información</td>\n",
       "      <td>アクション, スポーツ</td>\n",
       "      <td>Firestoke Group Limited</td>\n",
       "      <td>2024/4/11</td>\n",
       "      <td>No hay información</td>\n",
       "      <td>No hay información</td>\n",
       "      <td>No hay información</td>\n",
       "      <td>No hay información</td>\n",
       "      <td>No hay información</td>\n",
       "      <td>No hay información</td>\n",
       "      <td>No hay información</td>\n",
       "      <td>No hay información</td>\n",
       "      <td>発表されました</td>\n",
       "      <td>発表されました</td>\n",
       "      <td>発表されました</td>\n",
       "      <td>発表されました</td>\n",
       "      <td>JAP</td>\n",
       "    </tr>\n",
       "    <tr>\n",
       "      <th>5726</th>\n",
       "      <td>10009885</td>\n",
       "      <td>Aquarist</td>\n",
       "      <td>2024-04-01T18:07:54.484460</td>\n",
       "      <td>No hay información</td>\n",
       "      <td>シミュレーター</td>\n",
       "      <td>ULTIMATE GAMES</td>\n",
       "      <td>No hay información</td>\n",
       "      <td>No hay información</td>\n",
       "      <td>No hay información</td>\n",
       "      <td>No hay información</td>\n",
       "      <td>No hay información</td>\n",
       "      <td>No hay información</td>\n",
       "      <td>No hay información</td>\n",
       "      <td>No hay información</td>\n",
       "      <td>No hay información</td>\n",
       "      <td>発表されました</td>\n",
       "      <td>発表されました</td>\n",
       "      <td>発表されました</td>\n",
       "      <td>発表されました</td>\n",
       "      <td>JAP</td>\n",
       "    </tr>\n",
       "  </tbody>\n",
       "</table>\n",
       "</div>"
      ],
      "text/plain": [
       "      id_juego                               Titulo  \\\n",
       "1416  10002494                     Tin Hearts 衛兵冒険記   \n",
       "1417  10004255        Oxide Room 104 (オキサイド・ルーム104)   \n",
       "2795  10006064               Italian Journey: Nitro   \n",
       "3983  10010004   Dreamland Solitaire: Dark Prophecy   \n",
       "4002  10008036    Flightpath: Adventures in Venaris   \n",
       "4286  10002927                                  Ato   \n",
       "4526  10007320                     ガーデンライフ：夢の庭をつくろう   \n",
       "4582  10008548                      けもの道☆ガーリッシュスクエア   \n",
       "4635  10005578  The Dragoness: Command of the Flame   \n",
       "4701    232809                      スカイドリフト インフィニティ   \n",
       "4894  10009413                           デイヴ・ザ・ダイバー   \n",
       "4940  10009497                         同級生リメイクCsver   \n",
       "5190  10007743                       PERISH (ペリッシュ)   \n",
       "5341  10008592                             リッチマン 11   \n",
       "5390  10005653                              Loretta   \n",
       "5487  10009923              Another Crab’s Treasure   \n",
       "5529  10008377                     Freedom Planet 2   \n",
       "5546    232798                       Harold Halibut   \n",
       "5566  10005702                  Lunar Lander Beyond   \n",
       "5575  10009742                              Mixture   \n",
       "5677  10010291                      Withering Rooms   \n",
       "5690  10006606                         グーンズ・ホッケーの伝説   \n",
       "5726  10009885                             Aquarist   \n",
       "\n",
       "                      Día y hora          Plataforma  \\\n",
       "1416  2024-04-01T16:06:10.551524  No hay información   \n",
       "1417  2024-04-01T16:06:11.763575  No hay información   \n",
       "2795  2024-04-01T16:46:22.192822  No hay información   \n",
       "3983  2024-04-01T17:21:13.957799  No hay información   \n",
       "4002  2024-04-01T17:21:44.986892  No hay información   \n",
       "4286  2024-04-01T17:29:09.491819  No hay información   \n",
       "4526  2024-04-01T17:35:12.262320  No hay información   \n",
       "4582  2024-04-01T17:36:35.546017  No hay información   \n",
       "4635  2024-04-01T17:38:03.215141  No hay información   \n",
       "4701  2024-04-01T17:39:58.385305  No hay información   \n",
       "4894  2024-04-01T17:45:09.847798  No hay información   \n",
       "4940  2024-04-01T17:46:32.754087  No hay información   \n",
       "5190  2024-04-01T17:53:34.224446  No hay información   \n",
       "5341  2024-04-01T17:57:35.243071  No hay información   \n",
       "5390  2024-04-01T17:58:54.529816  No hay información   \n",
       "5487  2024-04-01T18:01:36.448578  No hay información   \n",
       "5529  2024-04-01T18:02:47.243290  No hay información   \n",
       "5546  2024-04-01T18:03:15.905947  No hay información   \n",
       "5566  2024-04-01T18:03:52.967774  No hay información   \n",
       "5575  2024-04-01T18:04:07.588632  No hay información   \n",
       "5677  2024-04-01T18:06:43.579695  No hay información   \n",
       "5690  2024-04-01T18:07:02.897274  No hay información   \n",
       "5726  2024-04-01T18:07:54.484460  No hay información   \n",
       "\n",
       "                        Genero                            Compañia  \\\n",
       "1416        No hay información                  No hay información   \n",
       "1417        No hay información                  No hay información   \n",
       "2795        No hay información                  No hay información   \n",
       "3983                       パズル                 ESDigital Games LTD   \n",
       "4002            アクション, シューティング                Eastasiasoft Limited   \n",
       "4286            アクション, アドベンチャー              Tiny Warrior Games LLC   \n",
       "4526                  シミュレーション                            株式会社3goo   \n",
       "4582                   アドベンチャー                         株式会社エンターグラム   \n",
       "4635  アドベンチャー, アドベンチャー, ストラテジー                    株式会社オーイズミ・アミュージオ   \n",
       "4701        No hay información                  No hay información   \n",
       "4894                   アドベンチャー                          MINTROCKET   \n",
       "4940                  シミュレーション                           EXNOA LLC   \n",
       "5190            アクション, シューティング            www.handy-games.com GmbH   \n",
       "5341              カジュアル, ファミリー                Eastasiasoft Limited   \n",
       "5390          アドベンチャー, アドベンチャー            DANGEN ENTERTAINMENT株式会社   \n",
       "5487                     アクション                  No hay información   \n",
       "5529                     アクション                           MARVELOUS   \n",
       "5546                       その他  SLOW BROS. UG (HAFTUNGSBESCHRÄNKT)   \n",
       "5566                   アドベンチャー                               ATARI   \n",
       "5575                     アクション                Perpetual Europe Ltd   \n",
       "5677                       RPG                Perpetual Europe Ltd   \n",
       "5690               アクション, スポーツ             Firestoke Group Limited   \n",
       "5726                   シミュレーター                      ULTIMATE GAMES   \n",
       "\n",
       "             Lanzamiento             Idiomas    Calificación PSN  \\\n",
       "1416  No hay información  No hay información                3.86   \n",
       "1417  No hay información  No hay información                 3.5   \n",
       "2795  No hay información  No hay información                4.32   \n",
       "3983            2024/4/4  No hay información  No hay información   \n",
       "4002            2024/4/2  No hay información  No hay información   \n",
       "4286           2024/4/10  No hay información  No hay información   \n",
       "4526           2024/5/15  No hay información  No hay información   \n",
       "4582  No hay información  No hay información  No hay información   \n",
       "4635           2024/4/10  No hay información  No hay información   \n",
       "4701  No hay información  No hay información                4.16   \n",
       "4894              2024/4  No hay información  No hay información   \n",
       "4940  No hay información  No hay información  No hay información   \n",
       "5190           2024/4/14  No hay información  No hay información   \n",
       "5341           2024/4/18  No hay información  No hay información   \n",
       "5390           2024/4/10  No hay información  No hay información   \n",
       "5487           2024/4/25  No hay información  No hay información   \n",
       "5529            2024/4/3  No hay información  No hay información   \n",
       "5546           2024/4/16  No hay información  No hay información   \n",
       "5566           2024/4/22  No hay información  No hay información   \n",
       "5575           2024/4/11  No hay información  No hay información   \n",
       "5677            2024/4/4  No hay información  No hay información   \n",
       "5690           2024/4/11  No hay información  No hay información   \n",
       "5726  No hay información  No hay información  No hay información   \n",
       "\n",
       "     Número de calificaciones Calificación 5 estrellas  \\\n",
       "1416       No hay información       No hay información   \n",
       "1417                  196件の評価                      43％   \n",
       "2795                   19件の評価                      79％   \n",
       "3983       No hay información       No hay información   \n",
       "4002       No hay información       No hay información   \n",
       "4286       No hay información       No hay información   \n",
       "4526       No hay información       No hay información   \n",
       "4582       No hay información       No hay información   \n",
       "4635       No hay información       No hay información   \n",
       "4701                  136件の評価                      63％   \n",
       "4894       No hay información       No hay información   \n",
       "4940       No hay información       No hay información   \n",
       "5190       No hay información       No hay información   \n",
       "5341       No hay información       No hay información   \n",
       "5390       No hay información       No hay información   \n",
       "5487       No hay información       No hay información   \n",
       "5529       No hay información       No hay información   \n",
       "5546       No hay información       No hay información   \n",
       "5566       No hay información       No hay información   \n",
       "5575       No hay información       No hay información   \n",
       "5677       No hay información       No hay información   \n",
       "5690       No hay información       No hay información   \n",
       "5726       No hay información       No hay información   \n",
       "\n",
       "     Calificación 4 estrellas Calificación 3 estrellas  \\\n",
       "1416       No hay información       No hay información   \n",
       "1417                      14％                      11％   \n",
       "2795                       5％                       0％   \n",
       "3983       No hay información       No hay información   \n",
       "4002       No hay información       No hay información   \n",
       "4286       No hay información       No hay información   \n",
       "4526       No hay información       No hay información   \n",
       "4582       No hay información       No hay información   \n",
       "4635       No hay información       No hay información   \n",
       "4701                      15％                       9％   \n",
       "4894       No hay información       No hay información   \n",
       "4940       No hay información       No hay información   \n",
       "5190       No hay información       No hay información   \n",
       "5341       No hay información       No hay información   \n",
       "5390       No hay información       No hay información   \n",
       "5487       No hay información       No hay información   \n",
       "5529       No hay información       No hay información   \n",
       "5546       No hay información       No hay información   \n",
       "5566       No hay información       No hay información   \n",
       "5575       No hay información       No hay información   \n",
       "5677       No hay información       No hay información   \n",
       "5690       No hay información       No hay información   \n",
       "5726       No hay información       No hay información   \n",
       "\n",
       "     Calificación 2 estrellas Calificación 1 estrella Precio original sin PSN  \\\n",
       "1416       No hay información      No hay información                  ¥4,818   \n",
       "1417                      13％                     19％                  ¥3,520   \n",
       "2795                       0％                     16％                    ¥440   \n",
       "3983       No hay información      No hay información                 発表されました   \n",
       "4002       No hay información      No hay información                 発表されました   \n",
       "4286       No hay información      No hay información                 発表されました   \n",
       "4526       No hay información      No hay información                 発表されました   \n",
       "4582       No hay información      No hay información                 購入できません   \n",
       "4635       No hay información      No hay información                 発表されました   \n",
       "4701                       2％                     11％                  ¥1,760   \n",
       "4894       No hay información      No hay información                 発表されました   \n",
       "4940       No hay información      No hay información                 購入できません   \n",
       "5190       No hay información      No hay información                 発表されました   \n",
       "5341       No hay información      No hay información                 発表されました   \n",
       "5390       No hay información      No hay información                 発表されました   \n",
       "5487       No hay información      No hay información                 発表されました   \n",
       "5529       No hay información      No hay información                 発表されました   \n",
       "5546       No hay información      No hay información                 発表されました   \n",
       "5566       No hay información      No hay información                 発表されました   \n",
       "5575       No hay información      No hay información                 発表されました   \n",
       "5677       No hay información      No hay información                 発表されました   \n",
       "5690       No hay información      No hay información                 発表されました   \n",
       "5726       No hay información      No hay información                 発表されました   \n",
       "\n",
       "     Precio actual sin PSN Precio original con PSN Precio actual con PSN  \\\n",
       "1416                ¥4,818                  ¥4,818                ¥4,818   \n",
       "1417                ¥3,520                  ¥3,520                ¥3,520   \n",
       "2795                  ¥440                    ¥440                  ¥440   \n",
       "3983               発表されました                 発表されました               発表されました   \n",
       "4002               発表されました                 発表されました               発表されました   \n",
       "4286               発表されました                 発表されました               発表されました   \n",
       "4526               発表されました                 発表されました               発表されました   \n",
       "4582               購入できません                 購入できません               購入できません   \n",
       "4635               発表されました                 発表されました               発表されました   \n",
       "4701                ¥1,144                  ¥1,760                ¥1,144   \n",
       "4894               発表されました                 発表されました               発表されました   \n",
       "4940               購入できません                 購入できません               購入できません   \n",
       "5190               発表されました                 発表されました               発表されました   \n",
       "5341               発表されました                 発表されました               発表されました   \n",
       "5390               発表されました                 発表されました               発表されました   \n",
       "5487               発表されました                 発表されました               発表されました   \n",
       "5529               発表されました                 発表されました               発表されました   \n",
       "5546               発表されました                 発表されました               発表されました   \n",
       "5566               発表されました                 発表されました               発表されました   \n",
       "5575               発表されました                 発表されました               発表されました   \n",
       "5677               発表されました                 発表されました               発表されました   \n",
       "5690               発表されました                 発表されました               発表されました   \n",
       "5726               発表されました                 発表されました               発表されました   \n",
       "\n",
       "     País Store  \n",
       "1416        JAP  \n",
       "1417        JAP  \n",
       "2795        JAP  \n",
       "3983        JAP  \n",
       "4002        JAP  \n",
       "4286        JAP  \n",
       "4526        JAP  \n",
       "4582        JAP  \n",
       "4635        JAP  \n",
       "4701        JAP  \n",
       "4894        JAP  \n",
       "4940        JAP  \n",
       "5190        JAP  \n",
       "5341        JAP  \n",
       "5390        JAP  \n",
       "5487        JAP  \n",
       "5529        JAP  \n",
       "5546        JAP  \n",
       "5566        JAP  \n",
       "5575        JAP  \n",
       "5677        JAP  \n",
       "5690        JAP  \n",
       "5726        JAP  "
      ]
     },
     "execution_count": 265,
     "metadata": {},
     "output_type": "execute_result"
    }
   ],
   "source": [
    "df_webscrap[df_webscrap['Plataforma'] == \"No hay información\"]"
   ]
  },
  {
   "cell_type": "markdown",
   "metadata": {},
   "source": [
    "Todos los juegos de aquí están por salir, cuando salga se actualiza la bbdd"
   ]
  },
  {
   "cell_type": "code",
   "execution_count": 266,
   "metadata": {},
   "outputs": [
    {
     "name": "stdout",
     "output_type": "stream",
     "text": [
      "['アドベンチャー' 'RPG' 'アクション' 'シューティング' 'スポーツ' 'シミュレーション' 'ファミリー' 'ストラテジー'\n",
      " 'ホラー' '格闘' 'ドライビング／レース' 'パーティー' 'その他' 'カジュアル' 'シミュレーター' 'リズムアクション' 'パズル'\n",
      " 'アーケード' 'ボードゲーム' '教育' 'フィットネス' '脳トレ' '成人' 'No hay información' 'クイズ']\n"
     ]
    }
   ],
   "source": [
    "print(df_webscrap['Genero'].str.split(',').explode().str.strip().unique())\n"
   ]
  },
  {
   "cell_type": "code",
   "execution_count": 267,
   "metadata": {},
   "outputs": [],
   "source": [
    "df_webscrap[\"Genero\"] = df_webscrap[\"Genero\"].apply(lambda x: x.split(','))\n",
    "df_webscrap[\"Genero\"] = df_webscrap[\"Genero\"].apply(lambda x: list(set(x)))\n",
    "df_webscrap[\"Genero\"] = df_webscrap[\"Genero\"].apply(lambda x: ','.join(x))"
   ]
  },
  {
   "cell_type": "code",
   "execution_count": 268,
   "metadata": {},
   "outputs": [
    {
     "data": {
      "text/plain": [
       "0                         RPG,アドベンチャー\n",
       "1                       シューティング,アクション\n",
       "2                  RPG, アドベンチャー,アクション\n",
       "3                             RPG,RPG\n",
       "4                                スポーツ\n",
       "                    ...              \n",
       "5724                        カジュアル,脳トレ\n",
       "5725             アーケード, アドベンチャー,アクション\n",
       "5726                          シミュレーター\n",
       "5727    ドライビング／レース, シミュレーター, シミュレーション\n",
       "5728                              パズル\n",
       "Name: Genero, Length: 5727, dtype: object"
      ]
     },
     "execution_count": 268,
     "metadata": {},
     "output_type": "execute_result"
    }
   ],
   "source": [
    "df_webscrap[\"Genero\"]"
   ]
  },
  {
   "cell_type": "markdown",
   "metadata": {},
   "source": [
    "### Dia y hora"
   ]
  },
  {
   "cell_type": "code",
   "execution_count": 269,
   "metadata": {},
   "outputs": [
    {
     "data": {
      "text/plain": [
       "dtype('O')"
      ]
     },
     "execution_count": 269,
     "metadata": {},
     "output_type": "execute_result"
    }
   ],
   "source": [
    "df_webscrap[\"Día y hora\"].dtype"
   ]
  },
  {
   "cell_type": "code",
   "execution_count": 270,
   "metadata": {},
   "outputs": [],
   "source": [
    "df_webscrap[\"Día y hora\"] = pd.to_datetime(df_webscrap[\"Día y hora\"])"
   ]
  },
  {
   "cell_type": "code",
   "execution_count": 271,
   "metadata": {},
   "outputs": [
    {
     "data": {
      "text/plain": [
       "dtype('<M8[ns]')"
      ]
     },
     "execution_count": 271,
     "metadata": {},
     "output_type": "execute_result"
    }
   ],
   "source": [
    "df_webscrap[\"Día y hora\"].dtype"
   ]
  },
  {
   "cell_type": "markdown",
   "metadata": {},
   "source": [
    "Dia y hora listo"
   ]
  },
  {
   "cell_type": "markdown",
   "metadata": {},
   "source": [
    "---"
   ]
  },
  {
   "cell_type": "markdown",
   "metadata": {},
   "source": [
    "### Calificación PSN"
   ]
  },
  {
   "cell_type": "markdown",
   "metadata": {},
   "source": [
    "Sin datos  Calificación == 0"
   ]
  },
  {
   "cell_type": "code",
   "execution_count": 272,
   "metadata": {},
   "outputs": [],
   "source": [
    "#Calificación del juego\n",
    "df_webscrap[\"Calificación PSN\"] = df_webscrap[\"Calificación PSN\"].str.replace(\"No hay información\",\"0.00\")\n",
    "df_webscrap[\"Calificación PSN\"] = df_webscrap[\"Calificación PSN\"].astype(float)"
   ]
  },
  {
   "cell_type": "code",
   "execution_count": 273,
   "metadata": {},
   "outputs": [
    {
     "data": {
      "text/plain": [
       "array([4.59, 4.13, 4.42, 4.5 , 3.75, 4.31, 4.55, 4.12, 3.4 , 3.64, 4.32,\n",
       "       0.  , 4.27, 4.86, 4.75, 4.72, 4.19, 4.52, 4.04, 4.44, 3.85, 4.91,\n",
       "       3.1 , 4.66, 4.35, 4.69, 4.84, 4.34, 4.58, 4.08, 4.3 , 3.53, 3.59,\n",
       "       2.59, 4.54, 4.63, 4.28, 4.33, 4.16, 4.87, 4.07, 3.82, 4.51, 4.1 ,\n",
       "       4.93, 4.64, 4.14, 4.8 , 3.81, 4.24, 4.56, 3.98, 4.61, 3.84, 3.66,\n",
       "       3.95, 3.97, 4.17, 4.71, 4.77, 3.61, 3.28, 4.62, 4.06, 4.7 , 3.76,\n",
       "       4.37, 4.73, 4.46, 3.08, 4.76, 3.  , 3.99, 4.11, 4.25, 4.36, 4.09,\n",
       "       4.83, 4.53, 4.6 , 4.43, 4.03, 4.47, 4.78, 4.88, 4.81, 4.2 , 4.82,\n",
       "       3.74, 4.41, 4.15, 4.22, 3.73, 4.65, 3.8 , 4.29, 4.48, 4.92, 4.68,\n",
       "       4.89, 4.79, 2.94, 4.57, 4.18, 3.93, 3.87, 3.9 , 4.4 , 4.45, 2.84,\n",
       "       4.95, 3.33, 3.79, 3.55, 4.02, 3.83, 2.43, 4.23, 3.49, 4.05, 3.77,\n",
       "       4.85, 3.51, 4.74, 4.21, 3.89, 4.49, 3.67, 3.52, 4.96, 3.29, 4.67,\n",
       "       3.94, 4.38, 3.72, 4.39, 4.01, 2.67, 2.7 , 3.17, 3.18, 3.21, 3.88,\n",
       "       4.  , 3.86, 3.25, 4.26, 3.54, 3.96, 2.  , 3.57, 4.94, 2.55, 3.38,\n",
       "       3.46, 2.83, 3.24, 5.  , 3.47, 3.11, 3.23, 2.96, 3.62, 3.27, 3.48,\n",
       "       3.65, 2.9 , 3.63, 3.34, 4.9 , 2.86, 3.31, 2.11, 2.88, 3.32, 3.56,\n",
       "       1.95, 3.36, 2.66, 3.7 , 3.68, 2.72, 3.03, 3.45, 2.87, 2.27, 3.41,\n",
       "       2.73, 3.78, 1.92, 3.92, 2.98, 2.13, 3.69, 2.48, 3.5 , 3.04, 3.22,\n",
       "       2.62, 1.87, 2.61, 3.91, 2.52, 3.07, 2.68, 2.19, 2.17, 2.57, 2.47,\n",
       "       2.33, 3.01, 2.77, 2.95, 3.44, 3.12, 3.19, 2.8 , 2.24, 2.75, 2.22,\n",
       "       3.15, 2.28, 3.58, 1.62, 3.2 , 2.91, 2.64, 1.86, 2.54, 3.3 , 2.06,\n",
       "       1.59, 3.26, 2.69, 2.12, 3.71, 2.85, 3.42, 3.6 , 2.79, 3.14, 1.31,\n",
       "       3.13, 2.78, 1.93, 3.09, 1.5 , 2.93, 3.43, 2.5 , 2.25, 3.35, 2.81,\n",
       "       2.63, 2.89, 3.37, 2.46, 2.58, 2.07, 4.97, 1.8 , 2.21, 2.23, 3.06,\n",
       "       2.31, 2.38, 1.85, 1.52, 3.05, 2.39, 2.82, 2.41, 3.39, 2.15, 2.04,\n",
       "       2.71, 2.35, 1.46, 2.44, 2.03, 2.45, 2.97, 1.67, 1.79, 2.36, 2.74,\n",
       "       2.53, 2.29, 2.92, 2.56, 1.66, 1.  , 3.16, 1.91, 1.53, 1.78, 2.6 ,\n",
       "       3.02, 2.14, 2.2 , 1.38, 2.3 , 1.55, 1.25, 2.42, 1.68, 2.4 , 2.65,\n",
       "       1.88, 1.72, 2.49, 1.64])"
      ]
     },
     "execution_count": 273,
     "metadata": {},
     "output_type": "execute_result"
    }
   ],
   "source": [
    "df_webscrap[\"Calificación PSN\"].unique()"
   ]
  },
  {
   "cell_type": "code",
   "execution_count": 274,
   "metadata": {},
   "outputs": [
    {
     "data": {
      "text/plain": [
       "dtype('float64')"
      ]
     },
     "execution_count": 274,
     "metadata": {},
     "output_type": "execute_result"
    }
   ],
   "source": [
    "df_webscrap[\"Calificación PSN\"].dtype"
   ]
  },
  {
   "cell_type": "markdown",
   "metadata": {},
   "source": [
    "La calificación del juego esta limpia"
   ]
  },
  {
   "cell_type": "markdown",
   "metadata": {},
   "source": [
    "---"
   ]
  },
  {
   "cell_type": "markdown",
   "metadata": {},
   "source": [
    "Primer check"
   ]
  },
  {
   "cell_type": "code",
   "execution_count": 275,
   "metadata": {},
   "outputs": [
    {
     "name": "stdout",
     "output_type": "stream",
     "text": [
      "<class 'pandas.core.frame.DataFrame'>\n",
      "Index: 5727 entries, 0 to 5728\n",
      "Data columns (total 20 columns):\n",
      " #   Column                    Non-Null Count  Dtype         \n",
      "---  ------                    --------------  -----         \n",
      " 0   id_juego                  5727 non-null   int64         \n",
      " 1   Titulo                    5727 non-null   object        \n",
      " 2   Día y hora                5727 non-null   datetime64[ns]\n",
      " 3   Plataforma                5727 non-null   object        \n",
      " 4   Genero                    5727 non-null   object        \n",
      " 5   Compañia                  5727 non-null   object        \n",
      " 6   Lanzamiento               5727 non-null   object        \n",
      " 7   Idiomas                   5727 non-null   object        \n",
      " 8   Calificación PSN          5727 non-null   float64       \n",
      " 9   Número de calificaciones  5727 non-null   object        \n",
      " 10  Calificación 5 estrellas  5727 non-null   object        \n",
      " 11  Calificación 4 estrellas  5727 non-null   object        \n",
      " 12  Calificación 3 estrellas  5727 non-null   object        \n",
      " 13  Calificación 2 estrellas  5727 non-null   object        \n",
      " 14  Calificación 1 estrella   5727 non-null   object        \n",
      " 15  Precio original sin PSN   5727 non-null   object        \n",
      " 16  Precio actual sin PSN     5727 non-null   object        \n",
      " 17  Precio original con PSN   5727 non-null   object        \n",
      " 18  Precio actual con PSN     5727 non-null   object        \n",
      " 19  País Store                5727 non-null   object        \n",
      "dtypes: datetime64[ns](1), float64(1), int64(1), object(17)\n",
      "memory usage: 939.6+ KB\n"
     ]
    }
   ],
   "source": [
    "df_webscrap.info()"
   ]
  },
  {
   "cell_type": "markdown",
   "metadata": {},
   "source": [
    "---"
   ]
  },
  {
   "cell_type": "markdown",
   "metadata": {},
   "source": [
    "### Plataforma"
   ]
  },
  {
   "cell_type": "code",
   "execution_count": 276,
   "metadata": {},
   "outputs": [
    {
     "data": {
      "text/plain": [
       "array(['PS5', 'PS4, PS5', 'PS4', 'No hay información'], dtype=object)"
      ]
     },
     "execution_count": 276,
     "metadata": {},
     "output_type": "execute_result"
    }
   ],
   "source": [
    "df_webscrap[\"Plataforma\"].unique()"
   ]
  },
  {
   "cell_type": "markdown",
   "metadata": {},
   "source": [
    "La plataforma no la tocamos ya que las posibilidades son las que son"
   ]
  },
  {
   "cell_type": "markdown",
   "metadata": {},
   "source": [
    "---"
   ]
  },
  {
   "cell_type": "markdown",
   "metadata": {},
   "source": [
    "### Compañia"
   ]
  },
  {
   "cell_type": "code",
   "execution_count": 277,
   "metadata": {},
   "outputs": [
    {
     "name": "stdout",
     "output_type": "stream",
     "text": [
      "976\n",
      "976\n"
     ]
    }
   ],
   "source": [
    "print(len(df_webscrap[\"Compañia\"].unique()))\n",
    "print(df_webscrap[\"Compañia\"].nunique()) # Comprobamos que no tenemos valores nulos"
   ]
  },
  {
   "cell_type": "markdown",
   "metadata": {},
   "source": [
    "En principio vamos a dejar todas las compañias tal cual."
   ]
  },
  {
   "cell_type": "markdown",
   "metadata": {},
   "source": [
    "---"
   ]
  },
  {
   "cell_type": "markdown",
   "metadata": {},
   "source": [
    "### Lanzamiento"
   ]
  },
  {
   "cell_type": "code",
   "execution_count": 278,
   "metadata": {},
   "outputs": [
    {
     "name": "stdout",
     "output_type": "stream",
     "text": [
      "2024/4\n"
     ]
    }
   ],
   "source": [
    "for i in df_webscrap[\"Lanzamiento\"].unique():\n",
    "    if len(i) <=7:\n",
    "        print(i)\n"
   ]
  },
  {
   "cell_type": "code",
   "execution_count": 279,
   "metadata": {},
   "outputs": [],
   "source": [
    "df_webscrap[\"Lanzamiento\"] = df_webscrap[\"Lanzamiento\"].str.replace(r\"^(.{1,6})$\", \"2024/01/01\",regex=True)"
   ]
  },
  {
   "cell_type": "code",
   "execution_count": 280,
   "metadata": {},
   "outputs": [],
   "source": [
    "#Fecha de lanzamiento\n",
    "\n",
    "df_webscrap[\"Lanzamiento\"] = df_webscrap[\"Lanzamiento\"].str.replace(\"No hay información\", \"2000/01/01\")\n",
    "df_webscrap[\"Lanzamiento\"] = pd.to_datetime(df_webscrap[\"Lanzamiento\"])"
   ]
  },
  {
   "cell_type": "code",
   "execution_count": 281,
   "metadata": {},
   "outputs": [
    {
     "name": "stdout",
     "output_type": "stream",
     "text": [
      "datetime64[ns]\n"
     ]
    },
    {
     "data": {
      "text/plain": [
       "0   2023-10-10\n",
       "1   2022-02-08\n",
       "2   2021-04-27\n",
       "3   2021-04-27\n",
       "4   2021-09-30\n",
       "Name: Lanzamiento, dtype: datetime64[ns]"
      ]
     },
     "execution_count": 281,
     "metadata": {},
     "output_type": "execute_result"
    }
   ],
   "source": [
    "print(df_webscrap[\"Lanzamiento\"].dtype)\n",
    "df_webscrap[\"Lanzamiento\"].head(5)"
   ]
  },
  {
   "cell_type": "markdown",
   "metadata": {},
   "source": [
    "Fecha de lanzamiento esta ok"
   ]
  },
  {
   "cell_type": "markdown",
   "metadata": {},
   "source": [
    "---"
   ]
  },
  {
   "cell_type": "markdown",
   "metadata": {},
   "source": [
    "### Idiomas"
   ]
  },
  {
   "cell_type": "code",
   "execution_count": 282,
   "metadata": {},
   "outputs": [
    {
     "name": "stdout",
     "output_type": "stream",
     "text": [
      "['スペイン語(メキシコ)' 'ドイツ語' 'フランス語 (フランス)' 'ポルトガル語 (ブラジル)' 'ロシア語' '中国語 (簡体字)'\n",
      " '中国語 (繁体字)' '日本語' '英語' '韓国語' 'アラビア語' 'イタリア語' 'スペイン語' 'ポーランド語' 'タイ語'\n",
      " 'トルコ語' 'ベトナム語' 'ポルトガル語 (ポルトガル)' 'No hay información' 'ウクライナ語' 'オランダ語'\n",
      " 'ギリシャ語' 'スウェーデン語' 'スロベニア語' 'チェコ語' 'デンマーク語' 'ノルウェー語' 'ハンガリー語' 'フィンランド語'\n",
      " 'フランス語 (カナダ)' 'ブルガリア語' 'アイルランド語' 'クロアチア語' 'ヒンディー語' 'ルーマニア語' 'ウェールズ語'\n",
      " 'スロバキア語' 'フランス語 (ベルギー)' 'アフリカーンス語' 'カタルーニャ語' 'ガリシア語' 'ゲール語（スコットランド）'\n",
      " 'タガログ語' 'バスク語' 'マレー語']\n"
     ]
    }
   ],
   "source": [
    "print(df_webscrap['Idiomas'].str.split(',').explode().str.strip().unique())"
   ]
  },
  {
   "cell_type": "code",
   "execution_count": 283,
   "metadata": {},
   "outputs": [],
   "source": [
    "df_webscrap[\"Idiomas\"] = df_webscrap[\"Idiomas\"].apply(lambda x: x.split(','))\n",
    "df_webscrap[\"Idiomas\"] = df_webscrap[\"Idiomas\"].apply(lambda x: list(set(x)))\n",
    "df_webscrap[\"Idiomas\"] = df_webscrap[\"Idiomas\"].apply(lambda x: ','.join(x))"
   ]
  },
  {
   "cell_type": "code",
   "execution_count": 284,
   "metadata": {},
   "outputs": [
    {
     "data": {
      "text/plain": [
       "0        ドイツ語, フランス語 (フランス), ポルトガル語 (ブラジル), 英語,スペイン語(メ...\n",
       "1        ドイツ語, フランス語 (フランス), イタリア語, ポルトガル語 (ブラジル), ポーラ...\n",
       "2        タイ語, ドイツ語, フランス語 (フランス), 英語, トルコ語, ベトナム語, スペイ...\n",
       "3                                      No hay información\n",
       "4                                                  英語,日本語\n",
       "                              ...                        \n",
       "5724     ドイツ語, フランス語 (フランス), ポーランド語, 英語, スペイン語, ブルガリア語...\n",
       "5725                  ドイツ語, フランス語 (フランス), 英語, スペイン語,イタリア語\n",
       "5726                                   No hay información\n",
       "5727                                                   英語\n",
       "5728                                     ウクライナ語, 英語, ロシア語\n",
       "Name: Idiomas, Length: 5727, dtype: object"
      ]
     },
     "execution_count": 284,
     "metadata": {},
     "output_type": "execute_result"
    }
   ],
   "source": [
    "df_webscrap[\"Idiomas\"]"
   ]
  },
  {
   "cell_type": "markdown",
   "metadata": {},
   "source": [
    "Idiomas ok, seguimos con la limpieza"
   ]
  },
  {
   "cell_type": "markdown",
   "metadata": {},
   "source": [
    "---"
   ]
  },
  {
   "cell_type": "code",
   "execution_count": 235,
   "metadata": {},
   "outputs": [
    {
     "name": "stdout",
     "output_type": "stream",
     "text": [
      "<class 'pandas.core.frame.DataFrame'>\n",
      "Index: 5727 entries, 0 to 5728\n",
      "Data columns (total 20 columns):\n",
      " #   Column                    Non-Null Count  Dtype         \n",
      "---  ------                    --------------  -----         \n",
      " 0   id_juego                  5727 non-null   int64         \n",
      " 1   Titulo                    5727 non-null   object        \n",
      " 2   Día y hora                5727 non-null   datetime64[ns]\n",
      " 3   Plataforma                5727 non-null   object        \n",
      " 4   Genero                    5727 non-null   object        \n",
      " 5   Compañia                  5727 non-null   object        \n",
      " 6   Lanzamiento               5727 non-null   datetime64[ns]\n",
      " 7   Idiomas                   5727 non-null   object        \n",
      " 8   Calificación PSN          5727 non-null   float64       \n",
      " 9   Número de calificaciones  5727 non-null   object        \n",
      " 10  Calificación 5 estrellas  5727 non-null   object        \n",
      " 11  Calificación 4 estrellas  5727 non-null   object        \n",
      " 12  Calificación 3 estrellas  5727 non-null   object        \n",
      " 13  Calificación 2 estrellas  5727 non-null   object        \n",
      " 14  Calificación 1 estrella   5727 non-null   object        \n",
      " 15  Precio original sin PSN   5727 non-null   object        \n",
      " 16  Precio actual sin PSN     5727 non-null   object        \n",
      " 17  Precio original con PSN   5727 non-null   object        \n",
      " 18  Precio actual con PSN     5727 non-null   object        \n",
      " 19  País Store                5727 non-null   object        \n",
      "dtypes: datetime64[ns](2), float64(1), int64(1), object(16)\n",
      "memory usage: 939.6+ KB\n"
     ]
    }
   ],
   "source": [
    "df_webscrap.info()"
   ]
  },
  {
   "cell_type": "markdown",
   "metadata": {},
   "source": [
    "### Número de calificaciones -- Hasta aqui 02/04"
   ]
  },
  {
   "cell_type": "markdown",
   "metadata": {},
   "source": [
    "comprobamos NAN"
   ]
  },
  {
   "cell_type": "code",
   "execution_count": 295,
   "metadata": {},
   "outputs": [
    {
     "data": {
      "text/html": [
       "<div>\n",
       "<style scoped>\n",
       "    .dataframe tbody tr th:only-of-type {\n",
       "        vertical-align: middle;\n",
       "    }\n",
       "\n",
       "    .dataframe tbody tr th {\n",
       "        vertical-align: top;\n",
       "    }\n",
       "\n",
       "    .dataframe thead th {\n",
       "        text-align: right;\n",
       "    }\n",
       "</style>\n",
       "<table border=\"1\" class=\"dataframe\">\n",
       "  <thead>\n",
       "    <tr style=\"text-align: right;\">\n",
       "      <th></th>\n",
       "      <th>id_juego</th>\n",
       "      <th>Titulo</th>\n",
       "      <th>Día y hora</th>\n",
       "      <th>Plataforma</th>\n",
       "      <th>Genero</th>\n",
       "      <th>Compañia</th>\n",
       "      <th>Lanzamiento</th>\n",
       "      <th>Idiomas</th>\n",
       "      <th>Calificación PSN</th>\n",
       "      <th>Número de calificaciones</th>\n",
       "      <th>Calificación 5 estrellas</th>\n",
       "      <th>Calificación 4 estrellas</th>\n",
       "      <th>Calificación 3 estrellas</th>\n",
       "      <th>Calificación 2 estrellas</th>\n",
       "      <th>Calificación 1 estrella</th>\n",
       "      <th>Precio original sin PSN</th>\n",
       "      <th>Precio actual sin PSN</th>\n",
       "      <th>Precio original con PSN</th>\n",
       "      <th>Precio actual con PSN</th>\n",
       "      <th>País Store</th>\n",
       "    </tr>\n",
       "  </thead>\n",
       "  <tbody>\n",
       "  </tbody>\n",
       "</table>\n",
       "</div>"
      ],
      "text/plain": [
       "Empty DataFrame\n",
       "Columns: [id_juego, Titulo, Día y hora, Plataforma, Genero, Compañia, Lanzamiento, Idiomas, Calificación PSN, Número de calificaciones, Calificación 5 estrellas, Calificación 4 estrellas, Calificación 3 estrellas, Calificación 2 estrellas, Calificación 1 estrella, Precio original sin PSN, Precio actual sin PSN, Precio original con PSN, Precio actual con PSN, País Store]\n",
       "Index: []"
      ]
     },
     "execution_count": 295,
     "metadata": {},
     "output_type": "execute_result"
    }
   ],
   "source": [
    "df_webscrap[df_webscrap[\"Número de calificaciones\"].isna()]"
   ]
  },
  {
   "cell_type": "code",
   "execution_count": 293,
   "metadata": {},
   "outputs": [],
   "source": [
    "df_webscrap[\"Número de calificaciones\"].fillna(0,inplace=True)"
   ]
  },
  {
   "cell_type": "code",
   "execution_count": 242,
   "metadata": {},
   "outputs": [],
   "source": [
    "df_webscrap[\"Número de calificaciones\"] = df_webscrap[\"Número de calificaciones\"].str.replace(\"No hay información\", \"0 calificaciones\").str.replace(\"Sin calificaciones\", \"0 calificaciones\") #en caso de necesitar "
   ]
  },
  {
   "cell_type": "code",
   "execution_count": 245,
   "metadata": {},
   "outputs": [],
   "source": [
    "df_webscrap[\"Número de calificaciones\"] = df_webscrap[\"Número de calificaciones\"].str.extract('(\\d+)') #en caso de necesitar "
   ]
  },
  {
   "cell_type": "code",
   "execution_count": 294,
   "metadata": {},
   "outputs": [],
   "source": [
    "df_webscrap[\"Número de calificaciones\"]  = df_webscrap[\"Número de calificaciones\"].astype(int)"
   ]
  },
  {
   "cell_type": "code",
   "execution_count": 296,
   "metadata": {},
   "outputs": [
    {
     "data": {
      "text/plain": [
       "dtype('int32')"
      ]
     },
     "execution_count": 296,
     "metadata": {},
     "output_type": "execute_result"
    }
   ],
   "source": [
    "df_webscrap[\"Número de calificaciones\"].dtype"
   ]
  },
  {
   "cell_type": "markdown",
   "metadata": {},
   "source": [
    "Estaría bien añadir replace para todo tipo de caracter por 0"
   ]
  },
  {
   "cell_type": "markdown",
   "metadata": {},
   "source": [
    "Por ahora todo ok, seguimos"
   ]
  },
  {
   "cell_type": "markdown",
   "metadata": {},
   "source": [
    "---"
   ]
  },
  {
   "cell_type": "markdown",
   "metadata": {},
   "source": [
    "### Todas las calificaciones"
   ]
  },
  {
   "cell_type": "code",
   "execution_count": 301,
   "metadata": {},
   "outputs": [
    {
     "data": {
      "text/plain": [
       "array(['83％', '65％', '76％', '79％', '53％', '70％', '78％', '68％', '45％',\n",
       "       '49％', '71％', 'No hay información', '93％', '91％', '87％', '89％',\n",
       "       '67％', '62％', '72％', '54％', '96％', '35％', '82％', '86％', '92％',\n",
       "       '73％', '80％', '60％', '48％', '51％', '24％', '59％', '81％', '61％',\n",
       "       '97％', '64％', '58％', '69％', '74％', '56％', '84％', '50％', '88％',\n",
       "       '52％', '43％', '41％', '66％', '85％', '31％', '90％', '63％', '94％',\n",
       "       '75％', '55％', '57％', '77％', '26％', '34％', '95％', '47％', '21％',\n",
       "       '46％', '33％', '22％', '36％', '37％', '44％', '98％', '42％', '0％',\n",
       "       '30％', '39％', '40％', '100％', '27％', '12％', '25％', '13％', '16％',\n",
       "       '11％', '28％', '23％', '38％', '32％', '17％', '29％', '20％', '14％',\n",
       "       '10％', '15％', '9％', '4％', '18％', '19％', '8％', '5％'], dtype=object)"
      ]
     },
     "execution_count": 301,
     "metadata": {},
     "output_type": "execute_result"
    }
   ],
   "source": [
    "df_webscrap[\"Calificación 5 estrellas\"].unique()"
   ]
  },
  {
   "cell_type": "code",
   "execution_count": 302,
   "metadata": {},
   "outputs": [],
   "source": [
    "\n",
    "#  Calificación 5 estrellas convertido a float\n",
    "df_webscrap[\"Calificación 5 estrellas\"] = df_webscrap[\"Calificación 5 estrellas\"].str.replace(\"％\",'').str.replace(\".\",\"\")\n",
    "df_webscrap[\"Calificación 5 estrellas\"] = df_webscrap[\"Calificación 5 estrellas\"].str.replace(\"No hay información\", \"0\").astype(int)\n",
    "#  Calificación 4 estrellas convertido a float\n",
    "df_webscrap[\"Calificación 4 estrellas\"] = df_webscrap[\"Calificación 4 estrellas\"].str.replace(\"％\",'').str.replace(\".\",\"\")\n",
    "df_webscrap[\"Calificación 4 estrellas\"] = df_webscrap[\"Calificación 4 estrellas\"].str.replace(\"No hay información\", \"0\").astype(int)\n",
    "#  Calificación 3 estrellas convertido a float\n",
    "df_webscrap[\"Calificación 3 estrellas\"] = df_webscrap[\"Calificación 3 estrellas\"].str.replace(\"％\",'').str.replace(\".\",\"\")\n",
    "df_webscrap[\"Calificación 3 estrellas\"] = df_webscrap[\"Calificación 3 estrellas\"].str.replace(\"No hay información\", \"0\").astype(int)\n",
    "\n",
    "#  Calificación 2 estrellas convertido a float\n",
    "df_webscrap[\"Calificación 2 estrellas\"] = df_webscrap[\"Calificación 2 estrellas\"].str.replace(\"％\",'').str.replace(\".\",\"\")\n",
    "df_webscrap[\"Calificación 2 estrellas\"] = df_webscrap[\"Calificación 2 estrellas\"].str.replace(\"No hay información\", \"0\").astype(int)\n",
    "#  Calificación 1 estrella convertido a float\n",
    "df_webscrap[\"Calificación 1 estrella\"] = df_webscrap[\"Calificación 1 estrella\"].str.replace(\"％\",'').str.replace(\".\",\"\")\n",
    "df_webscrap[\"Calificación 1 estrella\"] = df_webscrap[\"Calificación 1 estrella\"].str.replace(\"No hay información\", \"0\").astype(int)\n"
   ]
  },
  {
   "cell_type": "markdown",
   "metadata": {},
   "source": [
    "Cambiamos en vez de porcentaje a numero de votos"
   ]
  },
  {
   "cell_type": "code",
   "execution_count": 303,
   "metadata": {},
   "outputs": [
    {
     "data": {
      "text/plain": [
       "0        12568\n",
       "1       494983\n",
       "2       249150\n",
       "3        32990\n",
       "4       145779\n",
       "         ...  \n",
       "5724         6\n",
       "5725         8\n",
       "5726         0\n",
       "5727         5\n",
       "5728         0\n",
       "Length: 5727, dtype: int32"
      ]
     },
     "execution_count": 303,
     "metadata": {},
     "output_type": "execute_result"
    }
   ],
   "source": [
    "((df_webscrap[\"Calificación 5 estrellas\"]/100)*df_webscrap[\"Número de calificaciones\"]).astype(int)"
   ]
  },
  {
   "cell_type": "code",
   "execution_count": 304,
   "metadata": {},
   "outputs": [],
   "source": [
    "df_webscrap[\"Calificación 5 estrellas\"] = ((df_webscrap[\"Calificación 5 estrellas\"]/100)*df_webscrap[\"Número de calificaciones\"]).astype(int)\n",
    "df_webscrap[\"Calificación 4 estrellas\"] = ((df_webscrap[\"Calificación 4 estrellas\"]/100)*df_webscrap[\"Número de calificaciones\"]).astype(int)\n",
    "df_webscrap[\"Calificación 3 estrellas\"] = ((df_webscrap[\"Calificación 3 estrellas\"]/100)*df_webscrap[\"Número de calificaciones\"]).astype(int)\n",
    "df_webscrap[\"Calificación 2 estrellas\"] = ((df_webscrap[\"Calificación 2 estrellas\"]/100)*df_webscrap[\"Número de calificaciones\"]).astype(int)\n",
    "df_webscrap[\"Calificación 1 estrella\"] = ((df_webscrap[\"Calificación 1 estrella\"]/100)*df_webscrap[\"Número de calificaciones\"]).astype(int)"
   ]
  },
  {
   "cell_type": "code",
   "execution_count": 305,
   "metadata": {},
   "outputs": [
    {
     "name": "stdout",
     "output_type": "stream",
     "text": [
      "<class 'pandas.core.frame.DataFrame'>\n",
      "Index: 5727 entries, 0 to 5728\n",
      "Data columns (total 20 columns):\n",
      " #   Column                    Non-Null Count  Dtype         \n",
      "---  ------                    --------------  -----         \n",
      " 0   id_juego                  5727 non-null   int64         \n",
      " 1   Titulo                    5727 non-null   object        \n",
      " 2   Día y hora                5727 non-null   datetime64[ns]\n",
      " 3   Plataforma                5727 non-null   object        \n",
      " 4   Genero                    5727 non-null   object        \n",
      " 5   Compañia                  5727 non-null   object        \n",
      " 6   Lanzamiento               5727 non-null   datetime64[ns]\n",
      " 7   Idiomas                   5727 non-null   object        \n",
      " 8   Calificación PSN          5727 non-null   float64       \n",
      " 9   Número de calificaciones  5727 non-null   int32         \n",
      " 10  Calificación 5 estrellas  5727 non-null   int32         \n",
      " 11  Calificación 4 estrellas  5727 non-null   int32         \n",
      " 12  Calificación 3 estrellas  5727 non-null   int32         \n",
      " 13  Calificación 2 estrellas  5727 non-null   int32         \n",
      " 14  Calificación 1 estrella   5727 non-null   int32         \n",
      " 15  Precio original sin PSN   5727 non-null   object        \n",
      " 16  Precio actual sin PSN     5727 non-null   object        \n",
      " 17  Precio original con PSN   5727 non-null   object        \n",
      " 18  Precio actual con PSN     5727 non-null   object        \n",
      " 19  País Store                5727 non-null   object        \n",
      "dtypes: datetime64[ns](2), float64(1), int32(6), int64(1), object(10)\n",
      "memory usage: 805.4+ KB\n"
     ]
    }
   ],
   "source": [
    "df_webscrap.info()"
   ]
  },
  {
   "cell_type": "code",
   "execution_count": 306,
   "metadata": {},
   "outputs": [
    {
     "data": {
      "text/html": [
       "<div>\n",
       "<style scoped>\n",
       "    .dataframe tbody tr th:only-of-type {\n",
       "        vertical-align: middle;\n",
       "    }\n",
       "\n",
       "    .dataframe tbody tr th {\n",
       "        vertical-align: top;\n",
       "    }\n",
       "\n",
       "    .dataframe thead th {\n",
       "        text-align: right;\n",
       "    }\n",
       "</style>\n",
       "<table border=\"1\" class=\"dataframe\">\n",
       "  <thead>\n",
       "    <tr style=\"text-align: right;\">\n",
       "      <th></th>\n",
       "      <th>id_juego</th>\n",
       "      <th>Titulo</th>\n",
       "      <th>Día y hora</th>\n",
       "      <th>Plataforma</th>\n",
       "      <th>Genero</th>\n",
       "      <th>Compañia</th>\n",
       "      <th>Lanzamiento</th>\n",
       "      <th>Idiomas</th>\n",
       "      <th>Calificación PSN</th>\n",
       "      <th>Número de calificaciones</th>\n",
       "      <th>Calificación 5 estrellas</th>\n",
       "      <th>Calificación 4 estrellas</th>\n",
       "      <th>Calificación 3 estrellas</th>\n",
       "      <th>Calificación 2 estrellas</th>\n",
       "      <th>Calificación 1 estrella</th>\n",
       "      <th>Precio original sin PSN</th>\n",
       "      <th>Precio actual sin PSN</th>\n",
       "      <th>Precio original con PSN</th>\n",
       "      <th>Precio actual con PSN</th>\n",
       "      <th>País Store</th>\n",
       "    </tr>\n",
       "  </thead>\n",
       "  <tbody>\n",
       "    <tr>\n",
       "      <th>0</th>\n",
       "      <td>10005275</td>\n",
       "      <td>崩壊：スターレイル</td>\n",
       "      <td>2024-04-01 15:29:23.628371</td>\n",
       "      <td>PS5</td>\n",
       "      <td>RPG,アドベンチャー</td>\n",
       "      <td>COGNOSPHERE PTE. LTD.</td>\n",
       "      <td>2023-10-10</td>\n",
       "      <td>ドイツ語, フランス語 (フランス), ポルトガル語 (ブラジル), 英語,スペイン語(メ...</td>\n",
       "      <td>4.59</td>\n",
       "      <td>15143</td>\n",
       "      <td>12568</td>\n",
       "      <td>1211</td>\n",
       "      <td>302</td>\n",
       "      <td>151</td>\n",
       "      <td>908</td>\n",
       "      <td>無料</td>\n",
       "      <td>無料</td>\n",
       "      <td>無料</td>\n",
       "      <td>無料</td>\n",
       "      <td>JAP</td>\n",
       "    </tr>\n",
       "    <tr>\n",
       "      <th>1</th>\n",
       "      <td>232352</td>\n",
       "      <td>エーペックスレジェンズ‎ PS5™</td>\n",
       "      <td>2024-04-01 15:29:25.323697</td>\n",
       "      <td>PS5</td>\n",
       "      <td>シューティング,アクション</td>\n",
       "      <td>エレクトロニック・アーツ（株）</td>\n",
       "      <td>2022-02-08</td>\n",
       "      <td>ドイツ語, フランス語 (フランス), イタリア語, ポルトガル語 (ブラジル), ポーラ...</td>\n",
       "      <td>4.13</td>\n",
       "      <td>761513</td>\n",
       "      <td>494983</td>\n",
       "      <td>91381</td>\n",
       "      <td>60921</td>\n",
       "      <td>15230</td>\n",
       "      <td>98996</td>\n",
       "      <td>無料</td>\n",
       "      <td>無料</td>\n",
       "      <td>無料</td>\n",
       "      <td>無料</td>\n",
       "      <td>JAP</td>\n",
       "    </tr>\n",
       "    <tr>\n",
       "      <th>2</th>\n",
       "      <td>10000896</td>\n",
       "      <td>原神</td>\n",
       "      <td>2024-04-01 15:29:26.704695</td>\n",
       "      <td>PS4, PS5</td>\n",
       "      <td>RPG, アドベンチャー,アクション</td>\n",
       "      <td>COGNOSPHERE PTE. LTD.</td>\n",
       "      <td>2021-04-27</td>\n",
       "      <td>タイ語, ドイツ語, フランス語 (フランス), 英語, トルコ語, ベトナム語, スペイ...</td>\n",
       "      <td>4.42</td>\n",
       "      <td>327830</td>\n",
       "      <td>249150</td>\n",
       "      <td>29504</td>\n",
       "      <td>16391</td>\n",
       "      <td>3278</td>\n",
       "      <td>29504</td>\n",
       "      <td>無料</td>\n",
       "      <td>無料</td>\n",
       "      <td>無料</td>\n",
       "      <td>無料</td>\n",
       "      <td>JAP</td>\n",
       "    </tr>\n",
       "    <tr>\n",
       "      <th>3</th>\n",
       "      <td>201579</td>\n",
       "      <td>ファイナルファンタジーXIV - スターターパック</td>\n",
       "      <td>2024-04-01 15:29:28.044720</td>\n",
       "      <td>PS4, PS5</td>\n",
       "      <td>RPG,RPG</td>\n",
       "      <td>(株)スクウェア・エニックス</td>\n",
       "      <td>2021-04-27</td>\n",
       "      <td>No hay información</td>\n",
       "      <td>4.50</td>\n",
       "      <td>41760</td>\n",
       "      <td>32990</td>\n",
       "      <td>3758</td>\n",
       "      <td>1252</td>\n",
       "      <td>417</td>\n",
       "      <td>3340</td>\n",
       "      <td>¥6,380</td>\n",
       "      <td>¥2,552</td>\n",
       "      <td>¥6,380</td>\n",
       "      <td>¥2,552</td>\n",
       "      <td>JAP</td>\n",
       "    </tr>\n",
       "    <tr>\n",
       "      <th>4</th>\n",
       "      <td>10002427</td>\n",
       "      <td>eFootball™ 2024</td>\n",
       "      <td>2024-04-01 15:29:29.621863</td>\n",
       "      <td>PS5</td>\n",
       "      <td>スポーツ</td>\n",
       "      <td>(株)コナミデジタルエンタテインメント</td>\n",
       "      <td>2021-09-30</td>\n",
       "      <td>英語,日本語</td>\n",
       "      <td>3.75</td>\n",
       "      <td>275055</td>\n",
       "      <td>145779</td>\n",
       "      <td>33006</td>\n",
       "      <td>35757</td>\n",
       "      <td>8251</td>\n",
       "      <td>55011</td>\n",
       "      <td>無料</td>\n",
       "      <td>無料</td>\n",
       "      <td>無料</td>\n",
       "      <td>無料</td>\n",
       "      <td>JAP</td>\n",
       "    </tr>\n",
       "    <tr>\n",
       "      <th>5</th>\n",
       "      <td>10003386</td>\n",
       "      <td>Rise of the Ronin™</td>\n",
       "      <td>2024-04-01 15:29:31.025908</td>\n",
       "      <td>PS5</td>\n",
       "      <td>アドベンチャー,アクション</td>\n",
       "      <td>ソニー・インタラクティブエンタテインメント</td>\n",
       "      <td>2024-03-21</td>\n",
       "      <td>英語,日本語</td>\n",
       "      <td>4.31</td>\n",
       "      <td>6183</td>\n",
       "      <td>4328</td>\n",
       "      <td>803</td>\n",
       "      <td>309</td>\n",
       "      <td>185</td>\n",
       "      <td>556</td>\n",
       "      <td>¥8,980</td>\n",
       "      <td>¥8,980</td>\n",
       "      <td>¥8,980</td>\n",
       "      <td>¥8,980</td>\n",
       "      <td>JAP</td>\n",
       "    </tr>\n",
       "    <tr>\n",
       "      <th>6</th>\n",
       "      <td>10009426</td>\n",
       "      <td>Winning Post 10 2024 (PS4 &amp; PS5)</td>\n",
       "      <td>2024-04-01 15:29:32.258496</td>\n",
       "      <td>PS4, PS5</td>\n",
       "      <td>シミュレーション</td>\n",
       "      <td>(株)コーエーテクモゲームス</td>\n",
       "      <td>2024-03-27</td>\n",
       "      <td>日本語</td>\n",
       "      <td>4.55</td>\n",
       "      <td>179</td>\n",
       "      <td>139</td>\n",
       "      <td>17</td>\n",
       "      <td>10</td>\n",
       "      <td>0</td>\n",
       "      <td>10</td>\n",
       "      <td>¥10,780</td>\n",
       "      <td>¥10,780</td>\n",
       "      <td>¥10,780</td>\n",
       "      <td>¥10,780</td>\n",
       "      <td>JAP</td>\n",
       "    </tr>\n",
       "  </tbody>\n",
       "</table>\n",
       "</div>"
      ],
      "text/plain": [
       "   id_juego                            Titulo                 Día y hora  \\\n",
       "0  10005275                         崩壊：スターレイル 2024-04-01 15:29:23.628371   \n",
       "1    232352                 エーペックスレジェンズ‎ PS5™ 2024-04-01 15:29:25.323697   \n",
       "2  10000896                                原神 2024-04-01 15:29:26.704695   \n",
       "3    201579         ファイナルファンタジーXIV - スターターパック 2024-04-01 15:29:28.044720   \n",
       "4  10002427                   eFootball™ 2024 2024-04-01 15:29:29.621863   \n",
       "5  10003386                Rise of the Ronin™ 2024-04-01 15:29:31.025908   \n",
       "6  10009426  Winning Post 10 2024 (PS4 & PS5) 2024-04-01 15:29:32.258496   \n",
       "\n",
       "  Plataforma               Genero               Compañia Lanzamiento  \\\n",
       "0        PS5          RPG,アドベンチャー  COGNOSPHERE PTE. LTD.  2023-10-10   \n",
       "1        PS5        シューティング,アクション        エレクトロニック・アーツ（株）  2022-02-08   \n",
       "2   PS4, PS5   RPG, アドベンチャー,アクション  COGNOSPHERE PTE. LTD.  2021-04-27   \n",
       "3   PS4, PS5              RPG,RPG         (株)スクウェア・エニックス  2021-04-27   \n",
       "4        PS5                 スポーツ    (株)コナミデジタルエンタテインメント  2021-09-30   \n",
       "5        PS5        アドベンチャー,アクション  ソニー・インタラクティブエンタテインメント  2024-03-21   \n",
       "6   PS4, PS5             シミュレーション         (株)コーエーテクモゲームス  2024-03-27   \n",
       "\n",
       "                                             Idiomas  Calificación PSN  \\\n",
       "0   ドイツ語, フランス語 (フランス), ポルトガル語 (ブラジル), 英語,スペイン語(メ...              4.59   \n",
       "1   ドイツ語, フランス語 (フランス), イタリア語, ポルトガル語 (ブラジル), ポーラ...              4.13   \n",
       "2   タイ語, ドイツ語, フランス語 (フランス), 英語, トルコ語, ベトナム語, スペイ...              4.42   \n",
       "3                                 No hay información              4.50   \n",
       "4                                             英語,日本語              3.75   \n",
       "5                                             英語,日本語              4.31   \n",
       "6                                                日本語              4.55   \n",
       "\n",
       "   Número de calificaciones  Calificación 5 estrellas  \\\n",
       "0                     15143                     12568   \n",
       "1                    761513                    494983   \n",
       "2                    327830                    249150   \n",
       "3                     41760                     32990   \n",
       "4                    275055                    145779   \n",
       "5                      6183                      4328   \n",
       "6                       179                       139   \n",
       "\n",
       "   Calificación 4 estrellas  Calificación 3 estrellas  \\\n",
       "0                      1211                       302   \n",
       "1                     91381                     60921   \n",
       "2                     29504                     16391   \n",
       "3                      3758                      1252   \n",
       "4                     33006                     35757   \n",
       "5                       803                       309   \n",
       "6                        17                        10   \n",
       "\n",
       "   Calificación 2 estrellas  Calificación 1 estrella Precio original sin PSN  \\\n",
       "0                       151                      908                      無料   \n",
       "1                     15230                    98996                      無料   \n",
       "2                      3278                    29504                      無料   \n",
       "3                       417                     3340                  ¥6,380   \n",
       "4                      8251                    55011                      無料   \n",
       "5                       185                      556                  ¥8,980   \n",
       "6                         0                       10                 ¥10,780   \n",
       "\n",
       "  Precio actual sin PSN Precio original con PSN Precio actual con PSN  \\\n",
       "0                    無料                      無料                    無料   \n",
       "1                    無料                      無料                    無料   \n",
       "2                    無料                      無料                    無料   \n",
       "3                ¥2,552                  ¥6,380                ¥2,552   \n",
       "4                    無料                      無料                    無料   \n",
       "5                ¥8,980                  ¥8,980                ¥8,980   \n",
       "6               ¥10,780                 ¥10,780               ¥10,780   \n",
       "\n",
       "  País Store  \n",
       "0        JAP  \n",
       "1        JAP  \n",
       "2        JAP  \n",
       "3        JAP  \n",
       "4        JAP  \n",
       "5        JAP  \n",
       "6        JAP  "
      ]
     },
     "execution_count": 306,
     "metadata": {},
     "output_type": "execute_result"
    }
   ],
   "source": [
    "df_webscrap.head(7)"
   ]
  },
  {
   "cell_type": "markdown",
   "metadata": {},
   "source": [
    "Dejamos en modo numérico las calificaciones."
   ]
  },
  {
   "cell_type": "markdown",
   "metadata": {},
   "source": [
    "---"
   ]
  },
  {
   "cell_type": "markdown",
   "metadata": {},
   "source": [
    "#### Precios"
   ]
  },
  {
   "cell_type": "code",
   "execution_count": 307,
   "metadata": {},
   "outputs": [],
   "source": [
    "\n",
    "\n",
    "#Precio actual sin Playstation Plus\n",
    "df_webscrap[\"Precio actual sin PSN\"] = df_webscrap[\"Precio actual sin PSN\"].str.replace(\"No hay información\",\"0.00\")\n",
    "df_webscrap[\"Precio actual sin PSN\"] = df_webscrap[\"Precio actual sin PSN\"].str.replace('無料','0.00').replace(\"含まれます\",\"0.00\").replace(\"購入できません\",\"-1\").replace('発表されました',\"-1\")\n",
    "df_webscrap[\"Precio actual sin PSN\"] = df_webscrap[\"Precio actual sin PSN\"].str.replace('¥','')\n",
    "df_webscrap[\"Precio actual sin PSN\"] = df_webscrap[\"Precio actual sin PSN\"].str.replace(\",\",\"\")\n",
    "df_webscrap[\"Precio actual sin PSN\"] = df_webscrap[\"Precio actual sin PSN\"].astype(float)\n",
    "\n",
    "df_webscrap[\"Precio actual con PSN\"] = df_webscrap[\"Precio actual con PSN\"].str.replace(\"No hay información\",\"0.00\")\n",
    "df_webscrap[\"Precio actual con PSN\"] = df_webscrap[\"Precio actual con PSN\"].replace('無料','0.00').replace(\"含まれます\",\"0.00\").replace(\"購入できません\",\"-1\").replace('発表されました',\"-1\")\n",
    "df_webscrap[\"Precio actual con PSN\"] = df_webscrap[\"Precio actual con PSN\"].str.replace('¥','')\n",
    "df_webscrap[\"Precio actual con PSN\"] = df_webscrap[\"Precio actual con PSN\"].str.replace(\",\",\"\")\n",
    "df_webscrap[\"Precio actual con PSN\"] = df_webscrap[\"Precio actual con PSN\"].astype(float)\n",
    "\n",
    "df_webscrap[\"Precio original con PSN\"] = df_webscrap[\"Precio original con PSN\"].str.replace(\"No hay información\",\"0.00\")\n",
    "df_webscrap[\"Precio original con PSN\"] = df_webscrap[\"Precio original con PSN\"].replace('無料','0.00').replace(\"含まれます\",\"0.00\").replace(\"購入できません\",\"-1\").replace('発表されました',\"-1\")\n",
    "df_webscrap[\"Precio original con PSN\"] = df_webscrap[\"Precio original con PSN\"].str.replace('¥','')\n",
    "df_webscrap[\"Precio original con PSN\"] = df_webscrap[\"Precio original con PSN\"].str.replace(\",\",\"\")\n",
    "df_webscrap[\"Precio original con PSN\"] = df_webscrap[\"Precio original con PSN\"].astype(float)\n",
    "\n",
    "df_webscrap[\"Precio original sin PSN\"] = df_webscrap[\"Precio original sin PSN\"].str.replace(\"No hay información\",\"0.00\")\n",
    "df_webscrap[\"Precio original sin PSN\"] = df_webscrap[\"Precio original sin PSN\"].replace('無料','0.00').replace(\"含まれます\",\"0.00\").replace(\"購入できません\",\"-1\").replace('発表されました',\"-1\")\n",
    "df_webscrap[\"Precio original sin PSN\"] = df_webscrap[\"Precio original sin PSN\"].str.replace('¥','')\n",
    "df_webscrap[\"Precio original sin PSN\"] = df_webscrap[\"Precio original sin PSN\"].str.replace(\",\",\"\")\n",
    "df_webscrap[\"Precio original sin PSN\"] = df_webscrap[\"Precio original sin PSN\"].astype(float)\n",
    "\n",
    "\n",
    "\n"
   ]
  },
  {
   "cell_type": "markdown",
   "metadata": {},
   "source": [
    "Arreglamos los precios de los juegos."
   ]
  },
  {
   "cell_type": "markdown",
   "metadata": {},
   "source": [
    "Leyendas para Juegos con precios que tienen strings:\n",
    "- Gratis --> 0.00\n",
    "- No disponible --> -1\n",
    "- Incluido --> 0.00\n",
    "- Anunciado --> -1"
   ]
  },
  {
   "cell_type": "code",
   "execution_count": 55,
   "metadata": {},
   "outputs": [
    {
     "data": {
      "text/html": [
       "<div>\n",
       "<style scoped>\n",
       "    .dataframe tbody tr th:only-of-type {\n",
       "        vertical-align: middle;\n",
       "    }\n",
       "\n",
       "    .dataframe tbody tr th {\n",
       "        vertical-align: top;\n",
       "    }\n",
       "\n",
       "    .dataframe thead th {\n",
       "        text-align: right;\n",
       "    }\n",
       "</style>\n",
       "<table border=\"1\" class=\"dataframe\">\n",
       "  <thead>\n",
       "    <tr style=\"text-align: right;\">\n",
       "      <th></th>\n",
       "      <th>id_juego</th>\n",
       "      <th>Titulo</th>\n",
       "      <th>Día y hora</th>\n",
       "      <th>Plataforma</th>\n",
       "      <th>Genero</th>\n",
       "      <th>Compañia</th>\n",
       "      <th>Lanzamiento</th>\n",
       "      <th>Idiomas</th>\n",
       "      <th>Calificación PSN</th>\n",
       "      <th>Número de calificaciones</th>\n",
       "      <th>Calificación 5 estrellas</th>\n",
       "      <th>Calificación 4 estrellas</th>\n",
       "      <th>Calificación 3 estrellas</th>\n",
       "      <th>Calificación 2 estrellas</th>\n",
       "      <th>Calificación 1 estrella</th>\n",
       "      <th>Precio original sin PSN</th>\n",
       "      <th>Precio actual sin PSN</th>\n",
       "      <th>Precio original con PSN</th>\n",
       "      <th>Precio actual con PSN</th>\n",
       "    </tr>\n",
       "  </thead>\n",
       "  <tbody>\n",
       "    <tr>\n",
       "      <th>0</th>\n",
       "      <td>10007176</td>\n",
       "      <td>EA SPORTS FC™ 24 Standard Edition para PS4 y PS5</td>\n",
       "      <td>2024-03-02 09:39:47.531067</td>\n",
       "      <td>PS4, PS5</td>\n",
       "      <td>Deporte</td>\n",
       "      <td>EA Swiss Sarl</td>\n",
       "      <td>2023-09-28</td>\n",
       "      <td>No hay información</td>\n",
       "      <td>3.43</td>\n",
       "      <td>54</td>\n",
       "      <td>24</td>\n",
       "      <td>6</td>\n",
       "      <td>5</td>\n",
       "      <td>2</td>\n",
       "      <td>14</td>\n",
       "      <td>109.99</td>\n",
       "      <td>43.99</td>\n",
       "      <td>109.99</td>\n",
       "      <td>43.99</td>\n",
       "    </tr>\n",
       "    <tr>\n",
       "      <th>1</th>\n",
       "      <td>10003999</td>\n",
       "      <td>FINAL FANTASY VII REBIRTH</td>\n",
       "      <td>2024-03-02 09:39:50.527616</td>\n",
       "      <td>PS5</td>\n",
       "      <td>Juegos de rol</td>\n",
       "      <td>Square Enix LTD</td>\n",
       "      <td>2024-02-28</td>\n",
       "      <td>Español (México), Español, Portugués (Brasil)...</td>\n",
       "      <td>4.85</td>\n",
       "      <td>13</td>\n",
       "      <td>12</td>\n",
       "      <td>0</td>\n",
       "      <td>0</td>\n",
       "      <td>0</td>\n",
       "      <td>0</td>\n",
       "      <td>79.99</td>\n",
       "      <td>79.99</td>\n",
       "      <td>79.99</td>\n",
       "      <td>79.99</td>\n",
       "    </tr>\n",
       "    <tr>\n",
       "      <th>2</th>\n",
       "      <td>228748</td>\n",
       "      <td>Fortnite</td>\n",
       "      <td>2024-03-02 09:39:52.560723</td>\n",
       "      <td>PS5</td>\n",
       "      <td>Aventura,Acción</td>\n",
       "      <td>EPIC GAMES</td>\n",
       "      <td>2017-07-21</td>\n",
       "      <td>Español (México), Español, Coreano, Turco, Po...</td>\n",
       "      <td>4.32</td>\n",
       "      <td>6</td>\n",
       "      <td>4</td>\n",
       "      <td>0</td>\n",
       "      <td>0</td>\n",
       "      <td>0</td>\n",
       "      <td>0</td>\n",
       "      <td>0.00</td>\n",
       "      <td>0.00</td>\n",
       "      <td>0.00</td>\n",
       "      <td>0.00</td>\n",
       "    </tr>\n",
       "    <tr>\n",
       "      <th>3</th>\n",
       "      <td>10000657</td>\n",
       "      <td>HELLDIVERS™ 2</td>\n",
       "      <td>2024-03-02 09:39:54.438790</td>\n",
       "      <td>PS5</td>\n",
       "      <td>Acción</td>\n",
       "      <td>Sony Interactive Entertainment Europe</td>\n",
       "      <td>2024-02-08</td>\n",
       "      <td>Español, Francés (Francia), Ruso, Italiano, I...</td>\n",
       "      <td>4.45</td>\n",
       "      <td>32</td>\n",
       "      <td>25</td>\n",
       "      <td>2</td>\n",
       "      <td>0</td>\n",
       "      <td>0</td>\n",
       "      <td>3</td>\n",
       "      <td>39.99</td>\n",
       "      <td>39.99</td>\n",
       "      <td>39.99</td>\n",
       "      <td>39.99</td>\n",
       "    </tr>\n",
       "    <tr>\n",
       "      <th>4</th>\n",
       "      <td>10001130</td>\n",
       "      <td>Call of Duty®: Modern Warfare® III - Lote Mult...</td>\n",
       "      <td>2024-03-02 09:39:56.572219</td>\n",
       "      <td>PS4, PS5</td>\n",
       "      <td>Acción</td>\n",
       "      <td>Activision Blizzard Int'l BV</td>\n",
       "      <td>2023-11-02</td>\n",
       "      <td>Español, Francés (Francia), Ruso, Italiano, I...</td>\n",
       "      <td>4.04</td>\n",
       "      <td>286</td>\n",
       "      <td>177</td>\n",
       "      <td>31</td>\n",
       "      <td>31</td>\n",
       "      <td>5</td>\n",
       "      <td>40</td>\n",
       "      <td>79.99</td>\n",
       "      <td>79.99</td>\n",
       "      <td>79.99</td>\n",
       "      <td>79.99</td>\n",
       "    </tr>\n",
       "  </tbody>\n",
       "</table>\n",
       "</div>"
      ],
      "text/plain": [
       "   id_juego                                             Titulo  \\\n",
       "0  10007176   EA SPORTS FC™ 24 Standard Edition para PS4 y PS5   \n",
       "1  10003999                          FINAL FANTASY VII REBIRTH   \n",
       "2    228748                                           Fortnite   \n",
       "3  10000657                                      HELLDIVERS™ 2   \n",
       "4  10001130  Call of Duty®: Modern Warfare® III - Lote Mult...   \n",
       "\n",
       "                  Día y hora Plataforma            Genero  \\\n",
       "0 2024-03-02 09:39:47.531067   PS4, PS5           Deporte   \n",
       "1 2024-03-02 09:39:50.527616        PS5     Juegos de rol   \n",
       "2 2024-03-02 09:39:52.560723        PS5   Aventura,Acción   \n",
       "3 2024-03-02 09:39:54.438790        PS5            Acción   \n",
       "4 2024-03-02 09:39:56.572219   PS4, PS5            Acción   \n",
       "\n",
       "                                Compañia Lanzamiento  \\\n",
       "0                          EA Swiss Sarl  2023-09-28   \n",
       "1                        Square Enix LTD  2024-02-28   \n",
       "2                             EPIC GAMES  2017-07-21   \n",
       "3  Sony Interactive Entertainment Europe  2024-02-08   \n",
       "4           Activision Blizzard Int'l BV  2023-11-02   \n",
       "\n",
       "                                             Idiomas  Calificación PSN  \\\n",
       "0                                 No hay información              3.43   \n",
       "1   Español (México), Español, Portugués (Brasil)...              4.85   \n",
       "2   Español (México), Español, Coreano, Turco, Po...              4.32   \n",
       "3   Español, Francés (Francia), Ruso, Italiano, I...              4.45   \n",
       "4   Español, Francés (Francia), Ruso, Italiano, I...              4.04   \n",
       "\n",
       "   Número de calificaciones  Calificación 5 estrellas  \\\n",
       "0                        54                        24   \n",
       "1                        13                        12   \n",
       "2                         6                         4   \n",
       "3                        32                        25   \n",
       "4                       286                       177   \n",
       "\n",
       "   Calificación 4 estrellas  Calificación 3 estrellas  \\\n",
       "0                         6                         5   \n",
       "1                         0                         0   \n",
       "2                         0                         0   \n",
       "3                         2                         0   \n",
       "4                        31                        31   \n",
       "\n",
       "   Calificación 2 estrellas  Calificación 1 estrella  Precio original sin PSN  \\\n",
       "0                         2                       14                   109.99   \n",
       "1                         0                        0                    79.99   \n",
       "2                         0                        0                     0.00   \n",
       "3                         0                        3                    39.99   \n",
       "4                         5                       40                    79.99   \n",
       "\n",
       "   Precio actual sin PSN  Precio original con PSN  Precio actual con PSN  \n",
       "0                  43.99                   109.99                  43.99  \n",
       "1                  79.99                    79.99                  79.99  \n",
       "2                   0.00                     0.00                   0.00  \n",
       "3                  39.99                    39.99                  39.99  \n",
       "4                  79.99                    79.99                  79.99  "
      ]
     },
     "execution_count": 55,
     "metadata": {},
     "output_type": "execute_result"
    }
   ],
   "source": [
    "df_webscrap.head()"
   ]
  },
  {
   "cell_type": "code",
   "execution_count": 56,
   "metadata": {},
   "outputs": [
    {
     "name": "stdout",
     "output_type": "stream",
     "text": [
      "<class 'pandas.core.frame.DataFrame'>\n",
      "RangeIndex: 8550 entries, 0 to 8549\n",
      "Data columns (total 19 columns):\n",
      " #   Column                    Non-Null Count  Dtype         \n",
      "---  ------                    --------------  -----         \n",
      " 0   id_juego                  8550 non-null   int64         \n",
      " 1   Titulo                    8550 non-null   object        \n",
      " 2   Día y hora                8550 non-null   datetime64[ns]\n",
      " 3   Plataforma                8550 non-null   object        \n",
      " 4   Genero                    8550 non-null   object        \n",
      " 5   Compañia                  8550 non-null   object        \n",
      " 6   Lanzamiento               8550 non-null   datetime64[ns]\n",
      " 7   Idiomas                   8550 non-null   object        \n",
      " 8   Calificación PSN          8550 non-null   float64       \n",
      " 9   Número de calificaciones  8550 non-null   int32         \n",
      " 10  Calificación 5 estrellas  8550 non-null   int32         \n",
      " 11  Calificación 4 estrellas  8550 non-null   int32         \n",
      " 12  Calificación 3 estrellas  8550 non-null   int32         \n",
      " 13  Calificación 2 estrellas  8550 non-null   int32         \n",
      " 14  Calificación 1 estrella   8550 non-null   int32         \n",
      " 15  Precio original sin PSN   8550 non-null   float64       \n",
      " 16  Precio actual sin PSN     8550 non-null   float64       \n",
      " 17  Precio original con PSN   8550 non-null   float64       \n",
      " 18  Precio actual con PSN     8550 non-null   float64       \n",
      "dtypes: datetime64[ns](2), float64(5), int32(6), int64(1), object(5)\n",
      "memory usage: 1.0+ MB\n"
     ]
    }
   ],
   "source": [
    "df_webscrap.info()"
   ]
  },
  {
   "cell_type": "markdown",
   "metadata": {},
   "source": [
    "[Volver al índice](#0)"
   ]
  },
  {
   "cell_type": "markdown",
   "metadata": {},
   "source": [
    "Por el momento ir cambiando el día manualmente para limpieza antes de automatizar todo "
   ]
  },
  {
   "cell_type": "code",
   "execution_count": 58,
   "metadata": {},
   "outputs": [],
   "source": [
    "var_dia = \"2024-03-02\"\n",
    "var_store = \"es\""
   ]
  },
  {
   "cell_type": "code",
   "execution_count": 60,
   "metadata": {},
   "outputs": [],
   "source": [
    "df_webscrap.to_csv(f\"../csv_s/csv_limpio/{var_store}/csv_{var_dia}.csv\",index=False)"
   ]
  },
  {
   "cell_type": "markdown",
   "metadata": {},
   "source": [
    "<a id=\"10\"></a> <br>\n",
    "Todo el código resumido para hacer limpieza"
   ]
  },
  {
   "cell_type": "code",
   "execution_count": 360,
   "metadata": {},
   "outputs": [],
   "source": [
    "import pandas as pd\n",
    "import matplotlib.pyplot as plt # Para visualizaciones en Jupyter no importar script python\n",
    "import seaborn as sns # Para visualizaciones en Jupyter no importar script python\n"
   ]
  },
  {
   "cell_type": "code",
   "execution_count": 481,
   "metadata": {},
   "outputs": [],
   "source": [
    "df_webscrap_anterior = pd.read_csv(\"../csv_s/csv_sin_limpiar/csv_2024-03-11_es.csv\" )"
   ]
  },
  {
   "cell_type": "code",
   "execution_count": 482,
   "metadata": {},
   "outputs": [],
   "source": [
    "df_webscrap = pd.read_csv(\"../csv_s/csv_sin_limpiar/csv_2024-03-19_es.csv\" )"
   ]
  },
  {
   "cell_type": "code",
   "execution_count": 483,
   "metadata": {},
   "outputs": [],
   "source": [
    "var_dia = \"2024-03-19\"\n",
    "var_store = \"es\""
   ]
  },
  {
   "cell_type": "code",
   "execution_count": 484,
   "metadata": {},
   "outputs": [],
   "source": [
    "lista_juegos_no_ok = list(df_webscrap[\"id_juego\"][df_webscrap[\"Titulo\"]==\"No hay información\"])"
   ]
  },
  {
   "cell_type": "code",
   "execution_count": 485,
   "metadata": {},
   "outputs": [
    {
     "data": {
      "text/plain": [
       "[10004466]"
      ]
     },
     "execution_count": 485,
     "metadata": {},
     "output_type": "execute_result"
    }
   ],
   "source": [
    "lista_juegos_no_ok"
   ]
  },
  {
   "cell_type": "code",
   "execution_count": 486,
   "metadata": {},
   "outputs": [],
   "source": [
    "for i in lista_juegos_no_ok:\n",
    "    df_webscrap.loc[df_webscrap[\"id_juego\"] == i, [\"Titulo\"]] = list(df_webscrap_anterior[\"Titulo\"][df_webscrap_anterior[\"id_juego\"] == i])[0]\n",
    "    df_webscrap.loc[df_webscrap[\"id_juego\"] == i, [\"Plataforma\"]] = list(df_webscrap_anterior[\"Plataforma\"][df_webscrap_anterior[\"id_juego\"] == i])[0]\n",
    "    df_webscrap.loc[df_webscrap[\"id_juego\"] == i, [\"Genero\"]] = list(df_webscrap_anterior[\"Genero\"][df_webscrap_anterior[\"id_juego\"] == i])[0]\n",
    "    df_webscrap.loc[df_webscrap[\"id_juego\"] == i, [\"Compañia\"]] = list(df_webscrap_anterior[\"Compañia\"][df_webscrap_anterior[\"id_juego\"] == i])[0]\n",
    "    df_webscrap.loc[df_webscrap[\"id_juego\"] == i, [\"Lanzamiento\"]] = list(df_webscrap_anterior[\"Lanzamiento\"][df_webscrap_anterior[\"id_juego\"] == i])[0]\n",
    "    df_webscrap.loc[df_webscrap[\"id_juego\"] == i, [\"Idiomas\"]] = list(df_webscrap_anterior[\"Idiomas\"][df_webscrap_anterior[\"id_juego\"] == i])[0]\n",
    "    df_webscrap.loc[df_webscrap[\"id_juego\"] == i, [\"Calificación PSN\"]] = list(df_webscrap_anterior[\"Calificación PSN\"][df_webscrap_anterior[\"id_juego\"] == i])[0]\n",
    "    df_webscrap.loc[df_webscrap[\"id_juego\"] == i, [\"Número de calificaciones\"]] = list(df_webscrap_anterior[\"Número de calificaciones\"][df_webscrap_anterior[\"id_juego\"] == i])[0]\n",
    "    df_webscrap.loc[df_webscrap[\"id_juego\"] == i, [\"Calificación 5 estrellas\"]] = list(df_webscrap_anterior[\"Calificación 5 estrellas\"][df_webscrap_anterior[\"id_juego\"] == i])[0]\n",
    "    df_webscrap.loc[df_webscrap[\"id_juego\"] == i, [\"Calificación 4 estrellas\"]] = list(df_webscrap_anterior[\"Calificación 4 estrellas\"][df_webscrap_anterior[\"id_juego\"] == i])[0]\n",
    "    df_webscrap.loc[df_webscrap[\"id_juego\"] == i, [\"Calificación 3 estrellas\"]] = list(df_webscrap_anterior[\"Calificación 3 estrellas\"][df_webscrap_anterior[\"id_juego\"] == i])[0]\n",
    "    df_webscrap.loc[df_webscrap[\"id_juego\"] == i, [\"Calificación 2 estrellas\"]] = list(df_webscrap_anterior[\"Calificación 2 estrellas\"][df_webscrap_anterior[\"id_juego\"] == i])[0]\n",
    "    df_webscrap.loc[df_webscrap[\"id_juego\"] == i, [\"Calificación 1 estrella\"]] = list(df_webscrap_anterior[\"Calificación 1 estrella\"][df_webscrap_anterior[\"id_juego\"] == i])[0]\n",
    "    df_webscrap.loc[df_webscrap[\"id_juego\"] == i, [\"Precio original sin PSN\"]] = list(df_webscrap_anterior[\"Precio original sin PSN\"][df_webscrap_anterior[\"id_juego\"] == i])[0]\n",
    "    df_webscrap.loc[df_webscrap[\"id_juego\"] == i, [\"Precio actual sin PSN\"]] = list(df_webscrap_anterior[\"Precio actual sin PSN\"][df_webscrap_anterior[\"id_juego\"] == i])[0]\n",
    "    df_webscrap.loc[df_webscrap[\"id_juego\"] == i, [\"Precio original con PSN\"]] = list(df_webscrap_anterior[\"Precio original con PSN\"][df_webscrap_anterior[\"id_juego\"] == i])[0]\n",
    "    df_webscrap.loc[df_webscrap[\"id_juego\"] == i, [\"Precio actual con PSN\"]] = list(df_webscrap_anterior[\"Precio actual con PSN\"][df_webscrap_anterior[\"id_juego\"] == i])[0]\n",
    "    # df_webscrap.loc[df_webscrap[\"id_juego\"] == i, \"País Store\"] = df_webscrap_anterior[\"País Store\"][df_webscrap_anterior[\"id_juego\"] == i]\n",
    "   "
   ]
  },
  {
   "cell_type": "code",
   "execution_count": 487,
   "metadata": {},
   "outputs": [
    {
     "data": {
      "text/html": [
       "<div>\n",
       "<style scoped>\n",
       "    .dataframe tbody tr th:only-of-type {\n",
       "        vertical-align: middle;\n",
       "    }\n",
       "\n",
       "    .dataframe tbody tr th {\n",
       "        vertical-align: top;\n",
       "    }\n",
       "\n",
       "    .dataframe thead th {\n",
       "        text-align: right;\n",
       "    }\n",
       "</style>\n",
       "<table border=\"1\" class=\"dataframe\">\n",
       "  <thead>\n",
       "    <tr style=\"text-align: right;\">\n",
       "      <th></th>\n",
       "      <th>id_juego</th>\n",
       "      <th>Titulo</th>\n",
       "      <th>Día y hora</th>\n",
       "      <th>Plataforma</th>\n",
       "      <th>Genero</th>\n",
       "      <th>Compañia</th>\n",
       "      <th>Lanzamiento</th>\n",
       "      <th>Idiomas</th>\n",
       "      <th>Calificación PSN</th>\n",
       "      <th>Número de calificaciones</th>\n",
       "      <th>Calificación 5 estrellas</th>\n",
       "      <th>Calificación 4 estrellas</th>\n",
       "      <th>Calificación 3 estrellas</th>\n",
       "      <th>Calificación 2 estrellas</th>\n",
       "      <th>Calificación 1 estrella</th>\n",
       "      <th>Precio original sin PSN</th>\n",
       "      <th>Precio actual sin PSN</th>\n",
       "      <th>Precio original con PSN</th>\n",
       "      <th>Precio actual con PSN</th>\n",
       "      <th>País Store</th>\n",
       "    </tr>\n",
       "  </thead>\n",
       "  <tbody>\n",
       "  </tbody>\n",
       "</table>\n",
       "</div>"
      ],
      "text/plain": [
       "Empty DataFrame\n",
       "Columns: [id_juego, Titulo, Día y hora, Plataforma, Genero, Compañia, Lanzamiento, Idiomas, Calificación PSN, Número de calificaciones, Calificación 5 estrellas, Calificación 4 estrellas, Calificación 3 estrellas, Calificación 2 estrellas, Calificación 1 estrella, Precio original sin PSN, Precio actual sin PSN, Precio original con PSN, Precio actual con PSN, País Store]\n",
       "Index: []"
      ]
     },
     "execution_count": 487,
     "metadata": {},
     "output_type": "execute_result"
    }
   ],
   "source": [
    "df_webscrap[df_webscrap[\"Titulo\"]==\"No hay información\"]"
   ]
  },
  {
   "cell_type": "code",
   "execution_count": 488,
   "metadata": {},
   "outputs": [],
   "source": [
    "df_webscrap[\"Genero\"] = df_webscrap[\"Genero\"].apply(lambda x: x.split(','))\n",
    "df_webscrap[\"Genero\"] = df_webscrap[\"Genero\"].apply(lambda x: list(set(x)))\n",
    "df_webscrap[\"Genero\"] = df_webscrap[\"Genero\"].apply(lambda x: ','.join(x))"
   ]
  },
  {
   "cell_type": "code",
   "execution_count": 489,
   "metadata": {},
   "outputs": [],
   "source": [
    "df_webscrap[\"Día y hora\"] = pd.to_datetime(df_webscrap[\"Día y hora\"])"
   ]
  },
  {
   "cell_type": "code",
   "execution_count": 490,
   "metadata": {},
   "outputs": [],
   "source": [
    "#Calificación del juego\n",
    "df_webscrap[\"Calificación PSN\"] = df_webscrap[\"Calificación PSN\"].str.replace(\"No hay información\",\"0.00\")\n",
    "df_webscrap[\"Calificación PSN\"] = df_webscrap[\"Calificación PSN\"].astype(float)"
   ]
  },
  {
   "cell_type": "code",
   "execution_count": 491,
   "metadata": {},
   "outputs": [],
   "source": [
    "df_webscrap[\"Lanzamiento\"] = df_webscrap[\"Lanzamiento\"].str.replace(r\"^(.{1,6})$\", \"01/01/2024\",regex=True)"
   ]
  },
  {
   "cell_type": "code",
   "execution_count": 492,
   "metadata": {},
   "outputs": [],
   "source": [
    "#Fecha de lanzamiento\n",
    "\n",
    "df_webscrap[\"Lanzamiento\"] = df_webscrap[\"Lanzamiento\"].str.replace(\"No hay información\", \"01/01/2000\")\n",
    "df_webscrap[\"Lanzamiento\"] = pd.to_datetime(df_webscrap[\"Lanzamiento\"], dayfirst=True)"
   ]
  },
  {
   "cell_type": "code",
   "execution_count": 493,
   "metadata": {},
   "outputs": [],
   "source": [
    "df_webscrap[\"Idiomas\"] = df_webscrap[\"Idiomas\"].apply(lambda x: x.split(','))\n",
    "df_webscrap[\"Idiomas\"] = df_webscrap[\"Idiomas\"].apply(lambda x: list(set(x)))\n",
    "df_webscrap[\"Idiomas\"] = df_webscrap[\"Idiomas\"].apply(lambda x: ','.join(x))"
   ]
  },
  {
   "cell_type": "code",
   "execution_count": 494,
   "metadata": {},
   "outputs": [],
   "source": [
    "df_webscrap[\"Número de calificaciones\"] = df_webscrap[\"Número de calificaciones\"].str.replace(\"No hay información\", \"0 calificaciones\").str.replace(\"Sin calificaciones\", \"0 calificaciones\")"
   ]
  },
  {
   "cell_type": "code",
   "execution_count": 495,
   "metadata": {},
   "outputs": [],
   "source": [
    "df_webscrap[\"Número de calificaciones\"] = df_webscrap[\"Número de calificaciones\"].str.extract('(\\d+)')"
   ]
  },
  {
   "cell_type": "code",
   "execution_count": 496,
   "metadata": {},
   "outputs": [],
   "source": [
    "df_webscrap[\"Número de calificaciones\"]  = df_webscrap[\"Número de calificaciones\"].astype(int)"
   ]
  },
  {
   "cell_type": "code",
   "execution_count": 497,
   "metadata": {},
   "outputs": [],
   "source": [
    "\n",
    "#  Calificación 5 estrellas convertido a float\n",
    "df_webscrap[\"Calificación 5 estrellas\"] = df_webscrap[\"Calificación 5 estrellas\"].str.replace(\" %\",'').str.replace(\".\",\"\")\n",
    "df_webscrap[\"Calificación 5 estrellas\"] = df_webscrap[\"Calificación 5 estrellas\"].str.replace(\"No hay información\", \"0\").astype(int)\n",
    "#  Calificación 4 estrellas convertido a float\n",
    "df_webscrap[\"Calificación 4 estrellas\"] = df_webscrap[\"Calificación 4 estrellas\"].str.replace(\" %\",'').str.replace(\".\",\"\")\n",
    "df_webscrap[\"Calificación 4 estrellas\"] = df_webscrap[\"Calificación 4 estrellas\"].str.replace(\"No hay información\", \"0\").astype(int)\n",
    "#  Calificación 3 estrellas convertido a float\n",
    "df_webscrap[\"Calificación 3 estrellas\"] = df_webscrap[\"Calificación 3 estrellas\"].str.replace(\" %\",'').str.replace(\".\",\"\")\n",
    "df_webscrap[\"Calificación 3 estrellas\"] = df_webscrap[\"Calificación 3 estrellas\"].str.replace(\"No hay información\", \"0\").astype(int)\n",
    "\n",
    "#  Calificación 2 estrellas convertido a float\n",
    "df_webscrap[\"Calificación 2 estrellas\"] = df_webscrap[\"Calificación 2 estrellas\"].str.replace(\" %\",'').str.replace(\".\",\"\")\n",
    "df_webscrap[\"Calificación 2 estrellas\"] = df_webscrap[\"Calificación 2 estrellas\"].str.replace(\"No hay información\", \"0\").astype(int)\n",
    "#  Calificación 1 estrella convertido a float\n",
    "df_webscrap[\"Calificación 1 estrella\"] = df_webscrap[\"Calificación 1 estrella\"].str.replace(\" %\",'').str.replace(\".\",\"\")\n",
    "df_webscrap[\"Calificación 1 estrella\"] = df_webscrap[\"Calificación 1 estrella\"].str.replace(\"No hay información\", \"0\").astype(int)\n"
   ]
  },
  {
   "cell_type": "code",
   "execution_count": 498,
   "metadata": {},
   "outputs": [],
   "source": [
    "df_webscrap[\"Calificación 5 estrellas\"] = ((df_webscrap[\"Calificación 5 estrellas\"]/100)*df_webscrap[\"Número de calificaciones\"]).astype(int)\n",
    "df_webscrap[\"Calificación 4 estrellas\"] = ((df_webscrap[\"Calificación 4 estrellas\"]/100)*df_webscrap[\"Número de calificaciones\"]).astype(int)\n",
    "df_webscrap[\"Calificación 3 estrellas\"] = ((df_webscrap[\"Calificación 3 estrellas\"]/100)*df_webscrap[\"Número de calificaciones\"]).astype(int)\n",
    "df_webscrap[\"Calificación 2 estrellas\"] = ((df_webscrap[\"Calificación 2 estrellas\"]/100)*df_webscrap[\"Número de calificaciones\"]).astype(int)\n",
    "df_webscrap[\"Calificación 1 estrella\"] = ((df_webscrap[\"Calificación 1 estrella\"]/100)*df_webscrap[\"Número de calificaciones\"]).astype(int)"
   ]
  },
  {
   "cell_type": "code",
   "execution_count": 499,
   "metadata": {},
   "outputs": [],
   "source": [
    "\n",
    "\n",
    "#Precio actual sin Playstation Plus\n",
    "df_webscrap[\"Precio actual sin PSN\"] = df_webscrap[\"Precio actual sin PSN\"].str.replace(\"No hay información\",\"0.00\")\n",
    "df_webscrap[\"Precio actual sin PSN\"] = df_webscrap[\"Precio actual sin PSN\"].str.replace('[^0-9,A-z]','', regex = True).replace('Gratis','0.00').replace(\"Incluido\",\"0.00\").replace(\"Nodisponibleparacomprar\",\"79.99\").replace('Anunciado',\"70.00\")\n",
    "df_webscrap[\"Precio actual sin PSN\"] = df_webscrap[\"Precio actual sin PSN\"].str.replace(\",\",\".\")\n",
    "df_webscrap[\"Precio actual sin PSN\"] = df_webscrap[\"Precio actual sin PSN\"].astype(float)\n",
    "\n",
    "#Precio actual con Playstation Plus\n",
    "df_webscrap[\"Precio actual con PSN\"] = df_webscrap[\"Precio actual con PSN\"].str.replace(\"No hay información\",\"0.00\")\n",
    "df_webscrap[\"Precio actual con PSN\"] = df_webscrap[\"Precio actual con PSN\"].str.replace('[^0-9,A-z]','', regex = True).replace('Gratis','0.00').replace(\"Incluido\",\"0.00\").replace(\"Nodisponibleparacomprar\",\"79.99\").replace('Anunciado',\"70.00\")\n",
    "df_webscrap[\"Precio actual con PSN\"] = df_webscrap[\"Precio actual con PSN\"].str.replace(\",\",\".\")\n",
    "df_webscrap[\"Precio actual con PSN\"] = df_webscrap[\"Precio actual con PSN\"].astype(float)\n",
    "\n",
    "#Precio Original sin Playstation Plus\n",
    "df_webscrap[\"Precio original sin PSN\"] = df_webscrap[\"Precio original sin PSN\"].str.replace(\"No hay información\",\"0.00\")\n",
    "df_webscrap[\"Precio original sin PSN\"] = df_webscrap[\"Precio original sin PSN\"].str.replace('[^0-9,A-z]','', regex = True).replace('Gratis','0.00').replace(\"Incluido\",\"0.00\").replace(\"Nodisponibleparacomprar\",\"79.99\").replace('Anunciado',\"70.00\")\n",
    "df_webscrap[\"Precio original sin PSN\"] = df_webscrap[\"Precio original sin PSN\"].str.replace(\",\",\".\")\n",
    "df_webscrap[\"Precio original sin PSN\"] = df_webscrap[\"Precio original sin PSN\"].astype(float)\n",
    "\n",
    "#Precio Otiginal con Playstation Plus\n",
    "\n",
    "df_webscrap[\"Precio original con PSN\"] = df_webscrap[\"Precio original con PSN\"].str.replace(\"No hay información\",\"0.00\")\n",
    "df_webscrap[\"Precio original con PSN\"] = df_webscrap[\"Precio original con PSN\"].str.replace('[^0-9,A-z]','', regex = True).replace('Gratis','0.00').replace(\"Incluido\",\"0.00\").replace(\"Nodisponibleparacomprar\",\"79.99\").replace('Anunciado',\"70.00\")\n",
    "df_webscrap[\"Precio original con PSN\"] = df_webscrap[\"Precio original con PSN\"].str.replace(\",\",\".\")\n",
    "df_webscrap[\"Precio original con PSN\"] = df_webscrap[\"Precio original con PSN\"].fillna(df_webscrap[\"Precio original sin PSN\"])\n",
    "df_webscrap[\"Precio original con PSN\"] = df_webscrap[\"Precio original con PSN\"].astype(float)\n",
    "\n",
    "\n"
   ]
  },
  {
   "cell_type": "code",
   "execution_count": 500,
   "metadata": {},
   "outputs": [
    {
     "name": "stdout",
     "output_type": "stream",
     "text": [
      "<class 'pandas.core.frame.DataFrame'>\n",
      "RangeIndex: 8625 entries, 0 to 8624\n",
      "Data columns (total 20 columns):\n",
      " #   Column                    Non-Null Count  Dtype         \n",
      "---  ------                    --------------  -----         \n",
      " 0   id_juego                  8625 non-null   int64         \n",
      " 1   Titulo                    8625 non-null   object        \n",
      " 2   Día y hora                8625 non-null   datetime64[ns]\n",
      " 3   Plataforma                8625 non-null   object        \n",
      " 4   Genero                    8625 non-null   object        \n",
      " 5   Compañia                  8625 non-null   object        \n",
      " 6   Lanzamiento               8625 non-null   datetime64[ns]\n",
      " 7   Idiomas                   8625 non-null   object        \n",
      " 8   Calificación PSN          8625 non-null   float64       \n",
      " 9   Número de calificaciones  8625 non-null   int32         \n",
      " 10  Calificación 5 estrellas  8625 non-null   int32         \n",
      " 11  Calificación 4 estrellas  8625 non-null   int32         \n",
      " 12  Calificación 3 estrellas  8625 non-null   int32         \n",
      " 13  Calificación 2 estrellas  8625 non-null   int32         \n",
      " 14  Calificación 1 estrella   8625 non-null   int32         \n",
      " 15  Precio original sin PSN   8625 non-null   float64       \n",
      " 16  Precio actual sin PSN     8625 non-null   float64       \n",
      " 17  Precio original con PSN   8625 non-null   float64       \n",
      " 18  Precio actual con PSN     8625 non-null   float64       \n",
      " 19  País Store                8625 non-null   object        \n",
      "dtypes: datetime64[ns](2), float64(5), int32(6), int64(1), object(6)\n",
      "memory usage: 1.1+ MB\n"
     ]
    }
   ],
   "source": [
    "df_webscrap.info()"
   ]
  },
  {
   "cell_type": "code",
   "execution_count": 501,
   "metadata": {},
   "outputs": [],
   "source": [
    "df_webscrap.to_csv(f\"../csv_s/csv_limpio/{var_store}/csv_{var_dia}.csv\",index=False)"
   ]
  },
  {
   "cell_type": "markdown",
   "metadata": {},
   "source": [
    "[Volver al índice](#0)"
   ]
  }
 ],
 "metadata": {
  "kernelspec": {
   "display_name": "psn_env",
   "language": "python",
   "name": "python3"
  },
  "language_info": {
   "codemirror_mode": {
    "name": "ipython",
    "version": 3
   },
   "file_extension": ".py",
   "mimetype": "text/x-python",
   "name": "python",
   "nbconvert_exporter": "python",
   "pygments_lexer": "ipython3",
   "version": "3.11.4"
  }
 },
 "nbformat": 4,
 "nbformat_minor": 2
}
