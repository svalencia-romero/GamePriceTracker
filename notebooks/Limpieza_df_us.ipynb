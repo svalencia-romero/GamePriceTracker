{
 "cells": [
  {
   "cell_type": "markdown",
   "metadata": {},
   "source": [
    ">>>  ### *ÍNDICE*\n",
    ">>- #### Comprobamos valor nulos juegos\n",
    ">>- ####  Limpieza de Datos por Columna\n",
    ">  * Titulo\n",
    ">  * Plataforma\n",
    ">  * Genero\n",
    ">  * Compañia\n",
    ">  * Lanzamiento\n",
    ">  * Idiomas\n",
    ">  * Calificación PSN\n",
    ">  * Número de calificaciones\n",
    ">  * Calificación 5 estrellas\n",
    ">  * Calificación 4 estrellas\n",
    ">  * Calificación 3 estrellas\n",
    ">  * Calificación 2 estrellas\n",
    ">  * Calificación 1 estrella\n",
    ">  * Precio original sin PSN\n",
    ">  * Precio actual sin PSN\n",
    ">  * Precio original con PSN\n",
    ">  * Precio actual con PSN\n",
    ">  * País Store   \n",
    ">  * [Todo el código resumido](#10)  "
   ]
  },
  {
   "cell_type": "code",
   "execution_count": 1,
   "metadata": {},
   "outputs": [],
   "source": [
    "import pandas as pd\n",
    "import matplotlib.pyplot as plt # Para visualizaciones en Jupyter no importar script python\n",
    "import seaborn as sns # Para visualizaciones en Jupyter no importar script python\n"
   ]
  },
  {
   "cell_type": "markdown",
   "metadata": {},
   "source": [
    "<a id=\"0\"></a> <br>\n",
    "Ahora toca limpiar los datos para tenerlos preparados para insertarlos en la bbdd"
   ]
  },
  {
   "cell_type": "markdown",
   "metadata": {},
   "source": [
    "\n",
    "Pruebas df \n",
    "Aseguramos un csv para hacer pruebas con ello."
   ]
  },
  {
   "cell_type": "code",
   "execution_count": 3,
   "metadata": {},
   "outputs": [],
   "source": [
    "#df_juegos.to_csv(\"../csv_s/csv_prueba_500.csv\",index=False) # Guardamos df"
   ]
  },
  {
   "cell_type": "code",
   "execution_count": 13,
   "metadata": {},
   "outputs": [],
   "source": [
    "df_webscrap_anterior = pd.read_csv(\"../csv_s/csv_sin_limpiar/csv_2024-03-10.csv\" )"
   ]
  },
  {
   "cell_type": "code",
   "execution_count": 14,
   "metadata": {},
   "outputs": [],
   "source": [
    "df_webscrap = pd.read_csv(\"../csv_s/csv_sin_limpiar/csv_2024-03-02.csv\" )"
   ]
  },
  {
   "cell_type": "code",
   "execution_count": 15,
   "metadata": {},
   "outputs": [
    {
     "name": "stdout",
     "output_type": "stream",
     "text": [
      "<class 'pandas.core.frame.DataFrame'>\n",
      "RangeIndex: 8550 entries, 0 to 8549\n",
      "Data columns (total 19 columns):\n",
      " #   Column                    Non-Null Count  Dtype \n",
      "---  ------                    --------------  ----- \n",
      " 0   id_juego                  8550 non-null   int64 \n",
      " 1   Titulo                    8550 non-null   object\n",
      " 2   Día y hora                8550 non-null   object\n",
      " 3   Plataforma                8550 non-null   object\n",
      " 4   Genero                    8550 non-null   object\n",
      " 5   Compañia                  8550 non-null   object\n",
      " 6   Lanzamiento               8550 non-null   object\n",
      " 7   Idiomas                   8550 non-null   object\n",
      " 8   Calificación PSN          8550 non-null   object\n",
      " 9   Número de calificaciones  8550 non-null   object\n",
      " 10  Calificación 5 estrellas  8550 non-null   object\n",
      " 11  Calificación 4 estrellas  8550 non-null   object\n",
      " 12  Calificación 3 estrellas  8550 non-null   object\n",
      " 13  Calificación 2 estrellas  8550 non-null   object\n",
      " 14  Calificación 1 estrella   8550 non-null   object\n",
      " 15  Precio original sin PSN   8550 non-null   object\n",
      " 16  Precio actual sin PSN     8550 non-null   object\n",
      " 17  Precio original con PSN   8550 non-null   object\n",
      " 18  Precio actual con PSN     8550 non-null   object\n",
      "dtypes: int64(1), object(18)\n",
      "memory usage: 1.2+ MB\n"
     ]
    }
   ],
   "source": [
    "df_webscrap.info()"
   ]
  },
  {
   "cell_type": "markdown",
   "metadata": {},
   "source": [
    "* Vamos a empezar a limpiar todas las columnas para introducir este codigo en las funciones y así limpiar el df una vez en el script"
   ]
  },
  {
   "cell_type": "markdown",
   "metadata": {},
   "source": [
    "### Título"
   ]
  },
  {
   "cell_type": "markdown",
   "metadata": {},
   "source": [
    "Hay veces que por motivos de espera no coge la información del juego concreto, por lo tanto vamos a rellenar la informacion del csv del día anterior con la de hoy, hemos cargado la info en un df y procedemos a ello."
   ]
  },
  {
   "cell_type": "code",
   "execution_count": 16,
   "metadata": {},
   "outputs": [
    {
     "data": {
      "text/html": [
       "<div>\n",
       "<style scoped>\n",
       "    .dataframe tbody tr th:only-of-type {\n",
       "        vertical-align: middle;\n",
       "    }\n",
       "\n",
       "    .dataframe tbody tr th {\n",
       "        vertical-align: top;\n",
       "    }\n",
       "\n",
       "    .dataframe thead th {\n",
       "        text-align: right;\n",
       "    }\n",
       "</style>\n",
       "<table border=\"1\" class=\"dataframe\">\n",
       "  <thead>\n",
       "    <tr style=\"text-align: right;\">\n",
       "      <th></th>\n",
       "      <th>id_juego</th>\n",
       "      <th>Titulo</th>\n",
       "      <th>Día y hora</th>\n",
       "      <th>Plataforma</th>\n",
       "      <th>Genero</th>\n",
       "      <th>Compañia</th>\n",
       "      <th>Lanzamiento</th>\n",
       "      <th>Idiomas</th>\n",
       "      <th>Calificación PSN</th>\n",
       "      <th>Número de calificaciones</th>\n",
       "      <th>Calificación 5 estrellas</th>\n",
       "      <th>Calificación 4 estrellas</th>\n",
       "      <th>Calificación 3 estrellas</th>\n",
       "      <th>Calificación 2 estrellas</th>\n",
       "      <th>Calificación 1 estrella</th>\n",
       "      <th>Precio original sin PSN</th>\n",
       "      <th>Precio actual sin PSN</th>\n",
       "      <th>Precio original con PSN</th>\n",
       "      <th>Precio actual con PSN</th>\n",
       "    </tr>\n",
       "  </thead>\n",
       "  <tbody>\n",
       "    <tr>\n",
       "      <th>283</th>\n",
       "      <td>208810</td>\n",
       "      <td>No hay información</td>\n",
       "      <td>2024-03-02T09:49:58.651272</td>\n",
       "      <td>PS4</td>\n",
       "      <td>Juegos de rol, Acción, Juegos de rol</td>\n",
       "      <td>Square Enix LTD</td>\n",
       "      <td>28/1/2019</td>\n",
       "      <td>Alemán, Español, Francés (Francia), Inglés, It...</td>\n",
       "      <td>No hay información</td>\n",
       "      <td>No hay información</td>\n",
       "      <td>No hay información</td>\n",
       "      <td>No hay información</td>\n",
       "      <td>No hay información</td>\n",
       "      <td>No hay información</td>\n",
       "      <td>No hay información</td>\n",
       "      <td>69,99 €</td>\n",
       "      <td>Incluido</td>\n",
       "      <td>69,99 €</td>\n",
       "      <td>Incluido</td>\n",
       "    </tr>\n",
       "    <tr>\n",
       "      <th>737</th>\n",
       "      <td>233202</td>\n",
       "      <td>No hay información</td>\n",
       "      <td>2024-03-02T10:05:51.932132</td>\n",
       "      <td>PS4, PS5</td>\n",
       "      <td>Acción, Aventura, Juegos de rol</td>\n",
       "      <td>TRIPWIRE INTERACTIVE</td>\n",
       "      <td>11/11/2020</td>\n",
       "      <td>No hay información</td>\n",
       "      <td>No hay información</td>\n",
       "      <td>10.206 calificaciones</td>\n",
       "      <td>70 %</td>\n",
       "      <td>16 %</td>\n",
       "      <td>6 %</td>\n",
       "      <td>2 %</td>\n",
       "      <td>5 %</td>\n",
       "      <td>39,99 €</td>\n",
       "      <td>Incluido</td>\n",
       "      <td>39,99 €</td>\n",
       "      <td>Incluido</td>\n",
       "    </tr>\n",
       "    <tr>\n",
       "      <th>1602</th>\n",
       "      <td>10002687</td>\n",
       "      <td>No hay información</td>\n",
       "      <td>2024-03-02T10:34:27.376276</td>\n",
       "      <td>PS4</td>\n",
       "      <td>Acción, Aventura</td>\n",
       "      <td>nDreams</td>\n",
       "      <td>19/8/2021</td>\n",
       "      <td>Alemán, Español, Francés (Francia), Inglés, It...</td>\n",
       "      <td>No hay información</td>\n",
       "      <td>186 calificaciones</td>\n",
       "      <td>69 %</td>\n",
       "      <td>12 %</td>\n",
       "      <td>9 %</td>\n",
       "      <td>3 %</td>\n",
       "      <td>6 %</td>\n",
       "      <td>24,99 €</td>\n",
       "      <td>24,99 €</td>\n",
       "      <td>24,99 €</td>\n",
       "      <td>24,99 €</td>\n",
       "    </tr>\n",
       "    <tr>\n",
       "      <th>3263</th>\n",
       "      <td>227592</td>\n",
       "      <td>No hay información</td>\n",
       "      <td>2024-03-02T11:27:03.849276</td>\n",
       "      <td>No hay información</td>\n",
       "      <td>No hay información</td>\n",
       "      <td>No hay información</td>\n",
       "      <td>No hay información</td>\n",
       "      <td>No hay información</td>\n",
       "      <td>No hay información</td>\n",
       "      <td>No hay información</td>\n",
       "      <td>No hay información</td>\n",
       "      <td>No hay información</td>\n",
       "      <td>No hay información</td>\n",
       "      <td>No hay información</td>\n",
       "      <td>No hay información</td>\n",
       "      <td>No hay información</td>\n",
       "      <td>No hay información</td>\n",
       "      <td>No hay información</td>\n",
       "      <td>No hay información</td>\n",
       "    </tr>\n",
       "    <tr>\n",
       "      <th>4167</th>\n",
       "      <td>10004061</td>\n",
       "      <td>No hay información</td>\n",
       "      <td>2024-03-02T11:55:54.982727</td>\n",
       "      <td>No hay información</td>\n",
       "      <td>No hay información</td>\n",
       "      <td>No hay información</td>\n",
       "      <td>No hay información</td>\n",
       "      <td>No hay información</td>\n",
       "      <td>No hay información</td>\n",
       "      <td>No hay información</td>\n",
       "      <td>No hay información</td>\n",
       "      <td>No hay información</td>\n",
       "      <td>No hay información</td>\n",
       "      <td>No hay información</td>\n",
       "      <td>No hay información</td>\n",
       "      <td>No hay información</td>\n",
       "      <td>No hay información</td>\n",
       "      <td>No hay información</td>\n",
       "      <td>No hay información</td>\n",
       "    </tr>\n",
       "    <tr>\n",
       "      <th>4494</th>\n",
       "      <td>232825</td>\n",
       "      <td>No hay información</td>\n",
       "      <td>2024-03-02T12:06:23.107571</td>\n",
       "      <td>PS4</td>\n",
       "      <td>Estrategia</td>\n",
       "      <td>4HIT</td>\n",
       "      <td>16/9/2020</td>\n",
       "      <td>Inglés, Ruso</td>\n",
       "      <td>No hay información</td>\n",
       "      <td>8 calificaciones</td>\n",
       "      <td>50 %</td>\n",
       "      <td>25 %</td>\n",
       "      <td>13 %</td>\n",
       "      <td>0 %</td>\n",
       "      <td>13 %</td>\n",
       "      <td>4,99 €</td>\n",
       "      <td>4,99 €</td>\n",
       "      <td>4,99 €</td>\n",
       "      <td>4,99 €</td>\n",
       "    </tr>\n",
       "    <tr>\n",
       "      <th>5156</th>\n",
       "      <td>201670</td>\n",
       "      <td>No hay información</td>\n",
       "      <td>2024-03-02T12:27:36.252207</td>\n",
       "      <td>PS4</td>\n",
       "      <td>Acción, Arcade, Familia</td>\n",
       "      <td>EUROVIDEO MEDIEN GMBH</td>\n",
       "      <td>19/8/2015</td>\n",
       "      <td>Alemán, Español, Francés (Francia), Inglés, It...</td>\n",
       "      <td>No hay información</td>\n",
       "      <td>239 calificaciones</td>\n",
       "      <td>46 %</td>\n",
       "      <td>13 %</td>\n",
       "      <td>12 %</td>\n",
       "      <td>13 %</td>\n",
       "      <td>17 %</td>\n",
       "      <td>9,99 €</td>\n",
       "      <td>9,99 €</td>\n",
       "      <td>9,99 €</td>\n",
       "      <td>9,99 €</td>\n",
       "    </tr>\n",
       "    <tr>\n",
       "      <th>5551</th>\n",
       "      <td>10000769</td>\n",
       "      <td>No hay información</td>\n",
       "      <td>2024-03-02T12:40:08.138863</td>\n",
       "      <td>No hay información</td>\n",
       "      <td>No hay información</td>\n",
       "      <td>No hay información</td>\n",
       "      <td>No hay información</td>\n",
       "      <td>No hay información</td>\n",
       "      <td>No hay información</td>\n",
       "      <td>No hay información</td>\n",
       "      <td>No hay información</td>\n",
       "      <td>No hay información</td>\n",
       "      <td>No hay información</td>\n",
       "      <td>No hay información</td>\n",
       "      <td>No hay información</td>\n",
       "      <td>No hay información</td>\n",
       "      <td>No hay información</td>\n",
       "      <td>No hay información</td>\n",
       "      <td>No hay información</td>\n",
       "    </tr>\n",
       "    <tr>\n",
       "      <th>7910</th>\n",
       "      <td>10003489</td>\n",
       "      <td>No hay información</td>\n",
       "      <td>2024-03-02T13:58:20.359424</td>\n",
       "      <td>No hay información</td>\n",
       "      <td>No hay información</td>\n",
       "      <td>No hay información</td>\n",
       "      <td>No hay información</td>\n",
       "      <td>No hay información</td>\n",
       "      <td>No hay información</td>\n",
       "      <td>No hay información</td>\n",
       "      <td>No hay información</td>\n",
       "      <td>No hay información</td>\n",
       "      <td>No hay información</td>\n",
       "      <td>No hay información</td>\n",
       "      <td>No hay información</td>\n",
       "      <td>No hay información</td>\n",
       "      <td>No hay información</td>\n",
       "      <td>No hay información</td>\n",
       "      <td>No hay información</td>\n",
       "    </tr>\n",
       "  </tbody>\n",
       "</table>\n",
       "</div>"
      ],
      "text/plain": [
       "      id_juego              Titulo                  Día y hora  \\\n",
       "283     208810  No hay información  2024-03-02T09:49:58.651272   \n",
       "737     233202  No hay información  2024-03-02T10:05:51.932132   \n",
       "1602  10002687  No hay información  2024-03-02T10:34:27.376276   \n",
       "3263    227592  No hay información  2024-03-02T11:27:03.849276   \n",
       "4167  10004061  No hay información  2024-03-02T11:55:54.982727   \n",
       "4494    232825  No hay información  2024-03-02T12:06:23.107571   \n",
       "5156    201670  No hay información  2024-03-02T12:27:36.252207   \n",
       "5551  10000769  No hay información  2024-03-02T12:40:08.138863   \n",
       "7910  10003489  No hay información  2024-03-02T13:58:20.359424   \n",
       "\n",
       "              Plataforma                                Genero  \\\n",
       "283                  PS4  Juegos de rol, Acción, Juegos de rol   \n",
       "737             PS4, PS5       Acción, Aventura, Juegos de rol   \n",
       "1602                 PS4                      Acción, Aventura   \n",
       "3263  No hay información                    No hay información   \n",
       "4167  No hay información                    No hay información   \n",
       "4494                 PS4                            Estrategia   \n",
       "5156                 PS4               Acción, Arcade, Familia   \n",
       "5551  No hay información                    No hay información   \n",
       "7910  No hay información                    No hay información   \n",
       "\n",
       "                   Compañia         Lanzamiento  \\\n",
       "283         Square Enix LTD           28/1/2019   \n",
       "737    TRIPWIRE INTERACTIVE          11/11/2020   \n",
       "1602                nDreams           19/8/2021   \n",
       "3263     No hay información  No hay información   \n",
       "4167     No hay información  No hay información   \n",
       "4494                   4HIT           16/9/2020   \n",
       "5156  EUROVIDEO MEDIEN GMBH           19/8/2015   \n",
       "5551     No hay información  No hay información   \n",
       "7910     No hay información  No hay información   \n",
       "\n",
       "                                                Idiomas    Calificación PSN  \\\n",
       "283   Alemán, Español, Francés (Francia), Inglés, It...  No hay información   \n",
       "737                                  No hay información  No hay información   \n",
       "1602  Alemán, Español, Francés (Francia), Inglés, It...  No hay información   \n",
       "3263                                 No hay información  No hay información   \n",
       "4167                                 No hay información  No hay información   \n",
       "4494                                       Inglés, Ruso  No hay información   \n",
       "5156  Alemán, Español, Francés (Francia), Inglés, It...  No hay información   \n",
       "5551                                 No hay información  No hay información   \n",
       "7910                                 No hay información  No hay información   \n",
       "\n",
       "     Número de calificaciones Calificación 5 estrellas  \\\n",
       "283        No hay información       No hay información   \n",
       "737     10.206 calificaciones                     70 %   \n",
       "1602       186 calificaciones                     69 %   \n",
       "3263       No hay información       No hay información   \n",
       "4167       No hay información       No hay información   \n",
       "4494         8 calificaciones                     50 %   \n",
       "5156       239 calificaciones                     46 %   \n",
       "5551       No hay información       No hay información   \n",
       "7910       No hay información       No hay información   \n",
       "\n",
       "     Calificación 4 estrellas Calificación 3 estrellas  \\\n",
       "283        No hay información       No hay información   \n",
       "737                      16 %                      6 %   \n",
       "1602                     12 %                      9 %   \n",
       "3263       No hay información       No hay información   \n",
       "4167       No hay información       No hay información   \n",
       "4494                     25 %                     13 %   \n",
       "5156                     13 %                     12 %   \n",
       "5551       No hay información       No hay información   \n",
       "7910       No hay información       No hay información   \n",
       "\n",
       "     Calificación 2 estrellas Calificación 1 estrella Precio original sin PSN  \\\n",
       "283        No hay información      No hay información                 69,99 €   \n",
       "737                       2 %                     5 %                 39,99 €   \n",
       "1602                      3 %                     6 %                 24,99 €   \n",
       "3263       No hay información      No hay información      No hay información   \n",
       "4167       No hay información      No hay información      No hay información   \n",
       "4494                      0 %                    13 %                  4,99 €   \n",
       "5156                     13 %                    17 %                  9,99 €   \n",
       "5551       No hay información      No hay información      No hay información   \n",
       "7910       No hay información      No hay información      No hay información   \n",
       "\n",
       "     Precio actual sin PSN Precio original con PSN Precio actual con PSN  \n",
       "283               Incluido                 69,99 €              Incluido  \n",
       "737               Incluido                 39,99 €              Incluido  \n",
       "1602               24,99 €                 24,99 €               24,99 €  \n",
       "3263    No hay información      No hay información    No hay información  \n",
       "4167    No hay información      No hay información    No hay información  \n",
       "4494                4,99 €                  4,99 €                4,99 €  \n",
       "5156                9,99 €                  9,99 €                9,99 €  \n",
       "5551    No hay información      No hay información    No hay información  \n",
       "7910    No hay información      No hay información    No hay información  "
      ]
     },
     "execution_count": 16,
     "metadata": {},
     "output_type": "execute_result"
    }
   ],
   "source": [
    "df_webscrap[df_webscrap[\"Titulo\"] == \"No hay información\"]"
   ]
  },
  {
   "cell_type": "markdown",
   "metadata": {},
   "source": [
    "Obtenemos una de las columnas que queremos cambiar"
   ]
  },
  {
   "cell_type": "code",
   "execution_count": 8,
   "metadata": {},
   "outputs": [
    {
     "data": {
      "text/html": [
       "<div>\n",
       "<style scoped>\n",
       "    .dataframe tbody tr th:only-of-type {\n",
       "        vertical-align: middle;\n",
       "    }\n",
       "\n",
       "    .dataframe tbody tr th {\n",
       "        vertical-align: top;\n",
       "    }\n",
       "\n",
       "    .dataframe thead th {\n",
       "        text-align: right;\n",
       "    }\n",
       "</style>\n",
       "<table border=\"1\" class=\"dataframe\">\n",
       "  <thead>\n",
       "    <tr style=\"text-align: right;\">\n",
       "      <th></th>\n",
       "      <th>Titulo</th>\n",
       "    </tr>\n",
       "  </thead>\n",
       "  <tbody>\n",
       "    <tr>\n",
       "      <th>4311</th>\n",
       "      <td>Demon Turf</td>\n",
       "    </tr>\n",
       "  </tbody>\n",
       "</table>\n",
       "</div>"
      ],
      "text/plain": [
       "          Titulo\n",
       "4311  Demon Turf"
      ]
     },
     "execution_count": 8,
     "metadata": {},
     "output_type": "execute_result"
    }
   ],
   "source": [
    "df_webscrap.loc[df_webscrap[\"id_juego\"] == 10002215,[\"Titulo\"]]"
   ]
  },
  {
   "cell_type": "markdown",
   "metadata": {},
   "source": [
    "Aplicamos una mascara al df anterior"
   ]
  },
  {
   "cell_type": "code",
   "execution_count": 9,
   "metadata": {},
   "outputs": [
    {
     "data": {
      "text/plain": [
       "'No hay información'"
      ]
     },
     "execution_count": 9,
     "metadata": {},
     "output_type": "execute_result"
    }
   ],
   "source": [
    "list(df_webscrap_anterior[\"Titulo\"][df_webscrap_anterior[\"id_juego\"] == 10002215])[0]"
   ]
  },
  {
   "cell_type": "markdown",
   "metadata": {},
   "source": [
    "Hacemos una lista de los juegos que tenemos errores"
   ]
  },
  {
   "cell_type": "code",
   "execution_count": 17,
   "metadata": {},
   "outputs": [],
   "source": [
    "lista_juegos_no_ok = list(df_webscrap[\"id_juego\"][df_webscrap[\"Titulo\"]==\"No hay información\"])"
   ]
  },
  {
   "cell_type": "code",
   "execution_count": 18,
   "metadata": {},
   "outputs": [
    {
     "data": {
      "text/plain": [
       "[208810,\n",
       " 233202,\n",
       " 10002687,\n",
       " 227592,\n",
       " 10004061,\n",
       " 232825,\n",
       " 201670,\n",
       " 10000769,\n",
       " 10003489]"
      ]
     },
     "execution_count": 18,
     "metadata": {},
     "output_type": "execute_result"
    }
   ],
   "source": [
    "lista_juegos_no_ok"
   ]
  },
  {
   "cell_type": "code",
   "execution_count": 12,
   "metadata": {},
   "outputs": [],
   "source": [
    "# df_webscrap.loc[df_webscrap[\"id_juego\"] == 10002215, [\"Titulo\"]] = list(df_webscrap_anterior[\"Titulo\"][df_webscrap_anterior[\"id_juego\"] == 10002215])[0]"
   ]
  },
  {
   "cell_type": "code",
   "execution_count": 19,
   "metadata": {},
   "outputs": [],
   "source": [
    "for i in lista_juegos_no_ok:\n",
    "    df_webscrap.loc[df_webscrap[\"id_juego\"] == i, [\"Titulo\"]] = list(df_webscrap_anterior[\"Titulo\"][df_webscrap_anterior[\"id_juego\"] == i])[0]\n",
    "    df_webscrap.loc[df_webscrap[\"id_juego\"] == i, [\"Plataforma\"]] = list(df_webscrap_anterior[\"Plataforma\"][df_webscrap_anterior[\"id_juego\"] == i])[0]\n",
    "    df_webscrap.loc[df_webscrap[\"id_juego\"] == i, [\"Genero\"]] = list(df_webscrap_anterior[\"Genero\"][df_webscrap_anterior[\"id_juego\"] == i])[0]\n",
    "    df_webscrap.loc[df_webscrap[\"id_juego\"] == i, [\"Compañia\"]] = list(df_webscrap_anterior[\"Compañia\"][df_webscrap_anterior[\"id_juego\"] == i])[0]\n",
    "    df_webscrap.loc[df_webscrap[\"id_juego\"] == i, [\"Lanzamiento\"]] = list(df_webscrap_anterior[\"Lanzamiento\"][df_webscrap_anterior[\"id_juego\"] == i])[0]\n",
    "    df_webscrap.loc[df_webscrap[\"id_juego\"] == i, [\"Idiomas\"]] = list(df_webscrap_anterior[\"Idiomas\"][df_webscrap_anterior[\"id_juego\"] == i])[0]\n",
    "    df_webscrap.loc[df_webscrap[\"id_juego\"] == i, [\"Calificación PSN\"]] = list(df_webscrap_anterior[\"Calificación PSN\"][df_webscrap_anterior[\"id_juego\"] == i])[0]\n",
    "    df_webscrap.loc[df_webscrap[\"id_juego\"] == i, [\"Número de calificaciones\"]] = list(df_webscrap_anterior[\"Número de calificaciones\"][df_webscrap_anterior[\"id_juego\"] == i])[0]\n",
    "    df_webscrap.loc[df_webscrap[\"id_juego\"] == i, [\"Calificación 5 estrellas\"]] = list(df_webscrap_anterior[\"Calificación 5 estrellas\"][df_webscrap_anterior[\"id_juego\"] == i])[0]\n",
    "    df_webscrap.loc[df_webscrap[\"id_juego\"] == i, [\"Calificación 4 estrellas\"]] = list(df_webscrap_anterior[\"Calificación 4 estrellas\"][df_webscrap_anterior[\"id_juego\"] == i])[0]\n",
    "    df_webscrap.loc[df_webscrap[\"id_juego\"] == i, [\"Calificación 3 estrellas\"]] = list(df_webscrap_anterior[\"Calificación 3 estrellas\"][df_webscrap_anterior[\"id_juego\"] == i])[0]\n",
    "    df_webscrap.loc[df_webscrap[\"id_juego\"] == i, [\"Calificación 2 estrellas\"]] = list(df_webscrap_anterior[\"Calificación 2 estrellas\"][df_webscrap_anterior[\"id_juego\"] == i])[0]\n",
    "    df_webscrap.loc[df_webscrap[\"id_juego\"] == i, [\"Calificación 1 estrella\"]] = list(df_webscrap_anterior[\"Calificación 1 estrella\"][df_webscrap_anterior[\"id_juego\"] == i])[0]\n",
    "    df_webscrap.loc[df_webscrap[\"id_juego\"] == i, [\"Precio original sin PSN\"]] = list(df_webscrap_anterior[\"Precio original sin PSN\"][df_webscrap_anterior[\"id_juego\"] == i])[0]\n",
    "    df_webscrap.loc[df_webscrap[\"id_juego\"] == i, [\"Precio actual sin PSN\"]] = list(df_webscrap_anterior[\"Precio actual sin PSN\"][df_webscrap_anterior[\"id_juego\"] == i])[0]\n",
    "    df_webscrap.loc[df_webscrap[\"id_juego\"] == i, [\"Precio original con PSN\"]] = list(df_webscrap_anterior[\"Precio original con PSN\"][df_webscrap_anterior[\"id_juego\"] == i])[0]\n",
    "    df_webscrap.loc[df_webscrap[\"id_juego\"] == i, [\"Precio actual con PSN\"]] = list(df_webscrap_anterior[\"Precio actual con PSN\"][df_webscrap_anterior[\"id_juego\"] == i])[0]\n",
    "    # df_webscrap.loc[df_webscrap[\"id_juego\"] == i, \"País Store\"] = df_webscrap_anterior[\"País Store\"][df_webscrap_anterior[\"id_juego\"] == i]\n",
    "   "
   ]
  },
  {
   "cell_type": "code",
   "execution_count": 20,
   "metadata": {},
   "outputs": [
    {
     "data": {
      "text/plain": [
       "Index(['id_juego', 'Titulo', 'Día y hora', 'Plataforma', 'Genero', 'Compañia',\n",
       "       'Lanzamiento', 'Idiomas', 'Calificación PSN',\n",
       "       'Número de calificaciones', 'Calificación 5 estrellas',\n",
       "       'Calificación 4 estrellas', 'Calificación 3 estrellas',\n",
       "       'Calificación 2 estrellas', 'Calificación 1 estrella',\n",
       "       'Precio original sin PSN', 'Precio actual sin PSN',\n",
       "       'Precio original con PSN', 'Precio actual con PSN'],\n",
       "      dtype='object')"
      ]
     },
     "execution_count": 20,
     "metadata": {},
     "output_type": "execute_result"
    }
   ],
   "source": [
    "df_webscrap.columns"
   ]
  },
  {
   "cell_type": "code",
   "execution_count": 21,
   "metadata": {},
   "outputs": [
    {
     "data": {
      "text/html": [
       "<div>\n",
       "<style scoped>\n",
       "    .dataframe tbody tr th:only-of-type {\n",
       "        vertical-align: middle;\n",
       "    }\n",
       "\n",
       "    .dataframe tbody tr th {\n",
       "        vertical-align: top;\n",
       "    }\n",
       "\n",
       "    .dataframe thead th {\n",
       "        text-align: right;\n",
       "    }\n",
       "</style>\n",
       "<table border=\"1\" class=\"dataframe\">\n",
       "  <thead>\n",
       "    <tr style=\"text-align: right;\">\n",
       "      <th></th>\n",
       "      <th>id_juego</th>\n",
       "      <th>Titulo</th>\n",
       "      <th>Día y hora</th>\n",
       "      <th>Plataforma</th>\n",
       "      <th>Genero</th>\n",
       "      <th>Compañia</th>\n",
       "      <th>Lanzamiento</th>\n",
       "      <th>Idiomas</th>\n",
       "      <th>Calificación PSN</th>\n",
       "      <th>Número de calificaciones</th>\n",
       "      <th>Calificación 5 estrellas</th>\n",
       "      <th>Calificación 4 estrellas</th>\n",
       "      <th>Calificación 3 estrellas</th>\n",
       "      <th>Calificación 2 estrellas</th>\n",
       "      <th>Calificación 1 estrella</th>\n",
       "      <th>Precio original sin PSN</th>\n",
       "      <th>Precio actual sin PSN</th>\n",
       "      <th>Precio original con PSN</th>\n",
       "      <th>Precio actual con PSN</th>\n",
       "    </tr>\n",
       "  </thead>\n",
       "  <tbody>\n",
       "  </tbody>\n",
       "</table>\n",
       "</div>"
      ],
      "text/plain": [
       "Empty DataFrame\n",
       "Columns: [id_juego, Titulo, Día y hora, Plataforma, Genero, Compañia, Lanzamiento, Idiomas, Calificación PSN, Número de calificaciones, Calificación 5 estrellas, Calificación 4 estrellas, Calificación 3 estrellas, Calificación 2 estrellas, Calificación 1 estrella, Precio original sin PSN, Precio actual sin PSN, Precio original con PSN, Precio actual con PSN]\n",
       "Index: []"
      ]
     },
     "execution_count": 21,
     "metadata": {},
     "output_type": "execute_result"
    }
   ],
   "source": [
    "df_webscrap[df_webscrap[\"Titulo\"] == \"No hay información\"]"
   ]
  },
  {
   "cell_type": "markdown",
   "metadata": {},
   "source": [
    "Conseguimos que los valores que se perdieron por el camino por tiempos de espera, los rellenamos con los que no están"
   ]
  },
  {
   "cell_type": "markdown",
   "metadata": {},
   "source": [
    "---"
   ]
  },
  {
   "cell_type": "markdown",
   "metadata": {},
   "source": [
    "### Género"
   ]
  },
  {
   "cell_type": "code",
   "execution_count": 22,
   "metadata": {},
   "outputs": [
    {
     "name": "stdout",
     "output_type": "stream",
     "text": [
      "['Deporte' 'Juegos de rol' 'Acción' 'Aventura' 'Lucha'\n",
      " 'Conducción/Carreras' 'Únicos' 'Terror' 'Simulación' 'Juegos de disparos'\n",
      " 'Casual' 'Simulador' 'Arcade' 'Puzzle' 'Estrategia' 'Familia'\n",
      " 'Música/Ritmo' 'Grupo' 'Educativos' 'Fitness' 'Adulto' 'Agilidad mental'\n",
      " 'Preguntas y respuestas' 'No hay información']\n"
     ]
    }
   ],
   "source": [
    "print(df_webscrap['Genero'].str.split(',').explode().str.strip().unique())\n"
   ]
  },
  {
   "cell_type": "code",
   "execution_count": 23,
   "metadata": {},
   "outputs": [],
   "source": [
    "df_webscrap[\"Genero\"] = df_webscrap[\"Genero\"].apply(lambda x: x.split(','))\n",
    "df_webscrap[\"Genero\"] = df_webscrap[\"Genero\"].apply(lambda x: list(set(x)))\n",
    "df_webscrap[\"Genero\"] = df_webscrap[\"Genero\"].apply(lambda x: ','.join(x))"
   ]
  },
  {
   "cell_type": "markdown",
   "metadata": {},
   "source": [
    "### Dia y hora"
   ]
  },
  {
   "cell_type": "code",
   "execution_count": 24,
   "metadata": {},
   "outputs": [
    {
     "data": {
      "text/plain": [
       "dtype('O')"
      ]
     },
     "execution_count": 24,
     "metadata": {},
     "output_type": "execute_result"
    }
   ],
   "source": [
    "df_webscrap[\"Día y hora\"].dtype"
   ]
  },
  {
   "cell_type": "code",
   "execution_count": 25,
   "metadata": {},
   "outputs": [],
   "source": [
    "df_webscrap[\"Día y hora\"] = pd.to_datetime(df_webscrap[\"Día y hora\"])"
   ]
  },
  {
   "cell_type": "code",
   "execution_count": 26,
   "metadata": {},
   "outputs": [
    {
     "data": {
      "text/plain": [
       "dtype('<M8[ns]')"
      ]
     },
     "execution_count": 26,
     "metadata": {},
     "output_type": "execute_result"
    }
   ],
   "source": [
    "df_webscrap[\"Día y hora\"].dtype"
   ]
  },
  {
   "cell_type": "markdown",
   "metadata": {},
   "source": [
    "Dia y hora listo"
   ]
  },
  {
   "cell_type": "markdown",
   "metadata": {},
   "source": [
    "---"
   ]
  },
  {
   "cell_type": "markdown",
   "metadata": {},
   "source": [
    "### Calificación PSN"
   ]
  },
  {
   "cell_type": "markdown",
   "metadata": {},
   "source": [
    "Sin datos  Calificación == 0"
   ]
  },
  {
   "cell_type": "code",
   "execution_count": 27,
   "metadata": {},
   "outputs": [],
   "source": [
    "#Calificación del juego\n",
    "df_webscrap[\"Calificación PSN\"] = df_webscrap[\"Calificación PSN\"].str.replace(\"No hay información\",\"0.00\")\n",
    "df_webscrap[\"Calificación PSN\"] = df_webscrap[\"Calificación PSN\"].astype(float)"
   ]
  },
  {
   "cell_type": "code",
   "execution_count": 28,
   "metadata": {},
   "outputs": [
    {
     "data": {
      "text/plain": [
       "array([3.43, 4.85, 4.32, 4.45, 4.04, 3.19, 3.01, 4.52, 3.75, 4.71, 3.18,\n",
       "       0.  , 4.37, 4.35, 4.3 , 4.51, 4.11, 4.7 , 4.8 , 4.66, 4.25, 4.88,\n",
       "       4.58, 3.98, 4.42, 3.99, 4.82, 4.5 , 4.34, 4.43, 4.13, 4.28, 4.53,\n",
       "       3.83, 4.19, 3.66, 4.14, 3.58, 4.72, 4.16, 3.89, 4.4 , 4.05, 4.46,\n",
       "       4.15, 4.44, 3.73, 3.84, 4.64, 4.12, 4.1 , 4.92, 3.72, 4.24, 4.56,\n",
       "       4.41, 4.78, 4.55, 4.69, 4.  , 4.62, 4.31, 4.54, 4.73, 4.33, 4.93,\n",
       "       4.39, 3.8 , 4.21, 4.86, 4.23, 4.81, 4.38, 4.76, 4.06, 2.82, 3.1 ,\n",
       "       4.77, 4.22, 3.59, 3.63, 4.49, 4.65, 4.74, 4.68, 4.18, 4.6 , 3.67,\n",
       "       3.87, 4.61, 4.01, 4.02, 4.63, 4.57, 3.26, 4.03, 4.2 , 3.62, 4.17,\n",
       "       4.84, 3.88, 4.59, 4.29, 3.74, 4.83, 4.08, 4.75, 3.29, 4.27, 4.09,\n",
       "       2.87, 3.97, 3.82, 4.87, 4.79, 3.77, 4.91, 4.36, 3.94, 3.93, 1.77,\n",
       "       3.6 , 3.78, 3.71, 3.55, 2.84, 3.57, 4.47, 3.79, 2.28, 2.54, 3.39,\n",
       "       3.  , 3.7 , 3.04, 3.36, 4.07, 3.95, 3.41, 4.26, 3.81, 4.67, 2.94,\n",
       "       2.29, 3.25, 3.24, 3.85, 4.48, 3.03, 2.93, 2.96, 3.07, 3.96, 3.61,\n",
       "       3.92, 2.68, 3.46, 3.17, 2.22, 3.52, 2.49, 2.86, 3.53, 3.86, 1.9 ,\n",
       "       2.95, 3.64, 3.5 , 3.51, 3.47, 3.44, 3.54, 3.49, 2.31, 3.22, 2.14,\n",
       "       3.13, 2.71, 3.34, 2.08, 4.97, 2.57, 2.52, 2.89, 3.45, 3.42, 3.91,\n",
       "       3.76, 4.89, 3.31, 3.32, 3.27, 2.67, 3.65, 3.11, 3.48, 3.69, 2.56,\n",
       "       2.9 , 3.33, 2.5 , 2.8 , 5.  , 2.19, 2.24, 2.85, 3.08, 3.68, 2.64,\n",
       "       2.92, 2.98, 2.58, 3.02, 2.46, 2.77, 2.41, 2.27, 3.9 , 1.6 , 2.81,\n",
       "       2.75, 2.88, 2.76, 3.21, 2.69, 2.74, 3.05, 2.91, 1.44, 2.  , 3.2 ,\n",
       "       3.56, 3.09, 3.35, 3.37, 4.95, 2.53, 1.97, 1.94, 2.45, 2.73, 4.94,\n",
       "       3.12, 2.72, 3.3 , 2.99, 2.7 , 2.33, 2.06, 1.31, 2.55, 2.44, 3.28,\n",
       "       2.09, 2.79, 1.51, 3.4 , 3.38, 2.13, 1.82, 2.62, 1.57, 3.15, 1.93,\n",
       "       2.18, 2.83, 2.61, 1.5 , 2.15, 1.47, 2.97, 3.16, 2.4 , 3.23, 1.  ,\n",
       "       2.78, 2.36, 2.63, 3.14, 3.06, 2.51, 1.33, 1.86, 1.92, 1.8 , 1.79,\n",
       "       2.21, 2.17, 2.05, 1.67, 2.66, 1.66, 2.26, 2.2 , 1.55, 2.01, 2.37,\n",
       "       2.07, 2.04, 1.78, 1.95, 2.3 , 1.7 , 1.53, 2.25, 1.89, 2.38, 2.35,\n",
       "       4.9 , 2.43, 2.39, 2.59, 4.96, 2.65, 2.47, 2.12, 2.6 , 2.42, 1.83,\n",
       "       1.99, 2.16, 2.03, 2.23, 1.76, 1.68, 2.11, 1.73, 1.2 , 2.34, 2.1 ,\n",
       "       1.88, 1.43, 2.48])"
      ]
     },
     "execution_count": 28,
     "metadata": {},
     "output_type": "execute_result"
    }
   ],
   "source": [
    "df_webscrap[\"Calificación PSN\"].unique()"
   ]
  },
  {
   "cell_type": "code",
   "execution_count": 29,
   "metadata": {},
   "outputs": [
    {
     "data": {
      "text/plain": [
       "dtype('float64')"
      ]
     },
     "execution_count": 29,
     "metadata": {},
     "output_type": "execute_result"
    }
   ],
   "source": [
    "df_webscrap[\"Calificación PSN\"].dtype"
   ]
  },
  {
   "cell_type": "markdown",
   "metadata": {},
   "source": [
    "La calificación del juego esta limpia"
   ]
  },
  {
   "cell_type": "markdown",
   "metadata": {},
   "source": [
    "---"
   ]
  },
  {
   "cell_type": "markdown",
   "metadata": {},
   "source": [
    "Primer check"
   ]
  },
  {
   "cell_type": "code",
   "execution_count": 30,
   "metadata": {},
   "outputs": [
    {
     "name": "stdout",
     "output_type": "stream",
     "text": [
      "<class 'pandas.core.frame.DataFrame'>\n",
      "RangeIndex: 8550 entries, 0 to 8549\n",
      "Data columns (total 19 columns):\n",
      " #   Column                    Non-Null Count  Dtype         \n",
      "---  ------                    --------------  -----         \n",
      " 0   id_juego                  8550 non-null   int64         \n",
      " 1   Titulo                    8550 non-null   object        \n",
      " 2   Día y hora                8550 non-null   datetime64[ns]\n",
      " 3   Plataforma                8550 non-null   object        \n",
      " 4   Genero                    8550 non-null   object        \n",
      " 5   Compañia                  8550 non-null   object        \n",
      " 6   Lanzamiento               8550 non-null   object        \n",
      " 7   Idiomas                   8550 non-null   object        \n",
      " 8   Calificación PSN          8550 non-null   float64       \n",
      " 9   Número de calificaciones  8550 non-null   object        \n",
      " 10  Calificación 5 estrellas  8550 non-null   object        \n",
      " 11  Calificación 4 estrellas  8550 non-null   object        \n",
      " 12  Calificación 3 estrellas  8550 non-null   object        \n",
      " 13  Calificación 2 estrellas  8550 non-null   object        \n",
      " 14  Calificación 1 estrella   8550 non-null   object        \n",
      " 15  Precio original sin PSN   8550 non-null   object        \n",
      " 16  Precio actual sin PSN     8550 non-null   object        \n",
      " 17  Precio original con PSN   8550 non-null   object        \n",
      " 18  Precio actual con PSN     8550 non-null   object        \n",
      "dtypes: datetime64[ns](1), float64(1), int64(1), object(16)\n",
      "memory usage: 1.2+ MB\n"
     ]
    }
   ],
   "source": [
    "df_webscrap.info()"
   ]
  },
  {
   "cell_type": "markdown",
   "metadata": {},
   "source": [
    "---"
   ]
  },
  {
   "cell_type": "markdown",
   "metadata": {},
   "source": [
    "### Plataforma"
   ]
  },
  {
   "cell_type": "code",
   "execution_count": 31,
   "metadata": {},
   "outputs": [
    {
     "data": {
      "text/plain": [
       "array(['PS4, PS5', 'PS5', 'PS4', 'No hay información'], dtype=object)"
      ]
     },
     "execution_count": 31,
     "metadata": {},
     "output_type": "execute_result"
    }
   ],
   "source": [
    "df_webscrap[\"Plataforma\"].unique()"
   ]
  },
  {
   "cell_type": "markdown",
   "metadata": {},
   "source": [
    "La plataforma no la tocamos ya que las posibilidades son las que son"
   ]
  },
  {
   "cell_type": "markdown",
   "metadata": {},
   "source": [
    "---"
   ]
  },
  {
   "cell_type": "markdown",
   "metadata": {},
   "source": [
    "### Compañia"
   ]
  },
  {
   "cell_type": "code",
   "execution_count": 32,
   "metadata": {},
   "outputs": [
    {
     "name": "stdout",
     "output_type": "stream",
     "text": [
      "1619\n",
      "1619\n"
     ]
    }
   ],
   "source": [
    "print(len(df_webscrap[\"Compañia\"].unique()))\n",
    "print(df_webscrap[\"Compañia\"].nunique()) # Comprobamos que no tenemos valores nulos"
   ]
  },
  {
   "cell_type": "markdown",
   "metadata": {},
   "source": [
    "En principio vamos a dejar todas las compañias tal cual."
   ]
  },
  {
   "cell_type": "markdown",
   "metadata": {},
   "source": [
    "---"
   ]
  },
  {
   "cell_type": "markdown",
   "metadata": {},
   "source": [
    "### Lanzamiento"
   ]
  },
  {
   "cell_type": "code",
   "execution_count": 33,
   "metadata": {},
   "outputs": [
    {
     "name": "stdout",
     "output_type": "stream",
     "text": [
      "3/2024\n",
      "2024\n"
     ]
    }
   ],
   "source": [
    "for i in df_webscrap[\"Lanzamiento\"].unique():\n",
    "    if len(i) <=7:\n",
    "        print(i)\n"
   ]
  },
  {
   "cell_type": "code",
   "execution_count": 34,
   "metadata": {},
   "outputs": [],
   "source": [
    "df_webscrap[\"Lanzamiento\"] = df_webscrap[\"Lanzamiento\"].str.replace(r\"^(.{1,6})$\", \"01/01/2024\",regex=True)"
   ]
  },
  {
   "cell_type": "code",
   "execution_count": 35,
   "metadata": {},
   "outputs": [],
   "source": [
    "#Fecha de lanzamiento\n",
    "\n",
    "df_webscrap[\"Lanzamiento\"] = df_webscrap[\"Lanzamiento\"].str.replace(\"No hay información\", \"01/01/2000\")\n",
    "df_webscrap[\"Lanzamiento\"] = pd.to_datetime(df_webscrap[\"Lanzamiento\"], dayfirst=True)"
   ]
  },
  {
   "cell_type": "code",
   "execution_count": 36,
   "metadata": {},
   "outputs": [
    {
     "name": "stdout",
     "output_type": "stream",
     "text": [
      "datetime64[ns]\n"
     ]
    },
    {
     "data": {
      "text/plain": [
       "0   2023-09-28\n",
       "1   2024-02-28\n",
       "2   2017-07-21\n",
       "3   2024-02-08\n",
       "4   2023-11-02\n",
       "Name: Lanzamiento, dtype: datetime64[ns]"
      ]
     },
     "execution_count": 36,
     "metadata": {},
     "output_type": "execute_result"
    }
   ],
   "source": [
    "print(df_webscrap[\"Lanzamiento\"].dtype)\n",
    "df_webscrap[\"Lanzamiento\"].head(5)"
   ]
  },
  {
   "cell_type": "markdown",
   "metadata": {},
   "source": [
    "Fecha de lanzamiento esta ok"
   ]
  },
  {
   "cell_type": "markdown",
   "metadata": {},
   "source": [
    "---"
   ]
  },
  {
   "cell_type": "markdown",
   "metadata": {},
   "source": [
    "### Idiomas"
   ]
  },
  {
   "cell_type": "code",
   "execution_count": 37,
   "metadata": {},
   "outputs": [
    {
     "name": "stdout",
     "output_type": "stream",
     "text": [
      "['No hay información' 'Alemán' 'Español' 'Español (México)'\n",
      " 'Francés (Francia)' 'Inglés' 'Italiano' 'Japonés' 'Portugués (Brasil)'\n",
      " 'Coreano' 'Polaco' 'Ruso' 'Turco' 'Árabe' 'Portugués (Portugal)'\n",
      " 'Chino (Simplificado)' 'Chino (Tradicional)' 'Griego' 'Neerlandés'\n",
      " 'Sueco' 'Checo' 'Danés' 'Eslovenio' 'Finlandés' 'Francés (Canadá)'\n",
      " 'Húngaro' 'Noruego' 'Ucraniano' 'Tailandés' 'Vietnamita' 'Croata'\n",
      " 'Rumano' 'Búlgaro' 'Eslovaco' 'Hindi' 'Irlandés' 'Catalán'\n",
      " 'Francés (Bélgica)' 'Gallego' 'Vasco' 'Malayo' 'Galés' 'Tagalo'\n",
      " 'Afrikaans' 'Gaélico escocés']\n"
     ]
    }
   ],
   "source": [
    "print(df_webscrap['Idiomas'].str.split(',').explode().str.strip().unique())"
   ]
  },
  {
   "cell_type": "code",
   "execution_count": 38,
   "metadata": {},
   "outputs": [],
   "source": [
    "df_webscrap[\"Idiomas\"] = df_webscrap[\"Idiomas\"].apply(lambda x: x.split(','))\n",
    "df_webscrap[\"Idiomas\"] = df_webscrap[\"Idiomas\"].apply(lambda x: list(set(x)))\n",
    "df_webscrap[\"Idiomas\"] = df_webscrap[\"Idiomas\"].apply(lambda x: ','.join(x))"
   ]
  },
  {
   "cell_type": "code",
   "execution_count": 39,
   "metadata": {},
   "outputs": [
    {
     "data": {
      "text/plain": [
       "0                                      No hay información\n",
       "1        Español (México), Español, Portugués (Brasil)...\n",
       "2        Español (México), Español, Coreano, Turco, Po...\n",
       "3        Español, Francés (Francia), Ruso, Italiano, I...\n",
       "4        Español, Francés (Francia), Ruso, Italiano, I...\n",
       "                              ...                        \n",
       "8545                                      Inglés, Japonés\n",
       "8546                                   No hay información\n",
       "8547               Ruso, Inglés, Francés (Francia),Alemán\n",
       "8548                                   No hay información\n",
       "8549                              Inglés,Coreano, Japonés\n",
       "Name: Idiomas, Length: 8550, dtype: object"
      ]
     },
     "execution_count": 39,
     "metadata": {},
     "output_type": "execute_result"
    }
   ],
   "source": [
    "df_webscrap[\"Idiomas\"]"
   ]
  },
  {
   "cell_type": "markdown",
   "metadata": {},
   "source": [
    "Idiomas ok, seguimos con la limpieza"
   ]
  },
  {
   "cell_type": "markdown",
   "metadata": {},
   "source": [
    "---"
   ]
  },
  {
   "cell_type": "code",
   "execution_count": 40,
   "metadata": {},
   "outputs": [
    {
     "name": "stdout",
     "output_type": "stream",
     "text": [
      "<class 'pandas.core.frame.DataFrame'>\n",
      "RangeIndex: 8550 entries, 0 to 8549\n",
      "Data columns (total 19 columns):\n",
      " #   Column                    Non-Null Count  Dtype         \n",
      "---  ------                    --------------  -----         \n",
      " 0   id_juego                  8550 non-null   int64         \n",
      " 1   Titulo                    8550 non-null   object        \n",
      " 2   Día y hora                8550 non-null   datetime64[ns]\n",
      " 3   Plataforma                8550 non-null   object        \n",
      " 4   Genero                    8550 non-null   object        \n",
      " 5   Compañia                  8550 non-null   object        \n",
      " 6   Lanzamiento               8550 non-null   datetime64[ns]\n",
      " 7   Idiomas                   8550 non-null   object        \n",
      " 8   Calificación PSN          8550 non-null   float64       \n",
      " 9   Número de calificaciones  8550 non-null   object        \n",
      " 10  Calificación 5 estrellas  8550 non-null   object        \n",
      " 11  Calificación 4 estrellas  8550 non-null   object        \n",
      " 12  Calificación 3 estrellas  8550 non-null   object        \n",
      " 13  Calificación 2 estrellas  8550 non-null   object        \n",
      " 14  Calificación 1 estrella   8550 non-null   object        \n",
      " 15  Precio original sin PSN   8550 non-null   object        \n",
      " 16  Precio actual sin PSN     8550 non-null   object        \n",
      " 17  Precio original con PSN   8550 non-null   object        \n",
      " 18  Precio actual con PSN     8550 non-null   object        \n",
      "dtypes: datetime64[ns](2), float64(1), int64(1), object(15)\n",
      "memory usage: 1.2+ MB\n"
     ]
    }
   ],
   "source": [
    "df_webscrap.info()"
   ]
  },
  {
   "cell_type": "markdown",
   "metadata": {},
   "source": [
    "### Número de calificaciones"
   ]
  },
  {
   "cell_type": "code",
   "execution_count": 41,
   "metadata": {},
   "outputs": [],
   "source": [
    "df_webscrap[\"Número de calificaciones\"] = df_webscrap[\"Número de calificaciones\"].str.replace(\"No hay información\", \"0 calificaciones\").str.replace(\"Sin calificaciones\", \"0 calificaciones\")"
   ]
  },
  {
   "cell_type": "code",
   "execution_count": 42,
   "metadata": {},
   "outputs": [
    {
     "data": {
      "text/plain": [
       "2387"
      ]
     },
     "execution_count": 42,
     "metadata": {},
     "output_type": "execute_result"
    }
   ],
   "source": [
    "len(df_webscrap[\"Número de calificaciones\"].unique())"
   ]
  },
  {
   "cell_type": "code",
   "execution_count": 43,
   "metadata": {},
   "outputs": [
    {
     "data": {
      "text/plain": [
       "2387"
      ]
     },
     "execution_count": 43,
     "metadata": {},
     "output_type": "execute_result"
    }
   ],
   "source": [
    "df_webscrap[\"Número de calificaciones\"].nunique()"
   ]
  },
  {
   "cell_type": "code",
   "execution_count": 44,
   "metadata": {},
   "outputs": [],
   "source": [
    "df_webscrap[\"Número de calificaciones\"] = df_webscrap[\"Número de calificaciones\"].str.extract('(\\d+)')"
   ]
  },
  {
   "cell_type": "code",
   "execution_count": 45,
   "metadata": {},
   "outputs": [
    {
     "data": {
      "text/plain": [
       "0        54\n",
       "1        13\n",
       "2         6\n",
       "3        32\n",
       "4       286\n",
       "       ... \n",
       "8545     38\n",
       "8546      0\n",
       "8547     21\n",
       "8548      0\n",
       "8549      0\n",
       "Name: Número de calificaciones, Length: 8550, dtype: object"
      ]
     },
     "execution_count": 45,
     "metadata": {},
     "output_type": "execute_result"
    }
   ],
   "source": [
    "df_webscrap[\"Número de calificaciones\"]"
   ]
  },
  {
   "cell_type": "code",
   "execution_count": 46,
   "metadata": {},
   "outputs": [],
   "source": [
    "df_webscrap[\"Número de calificaciones\"]  = df_webscrap[\"Número de calificaciones\"].astype(int)"
   ]
  },
  {
   "cell_type": "code",
   "execution_count": 47,
   "metadata": {},
   "outputs": [
    {
     "data": {
      "text/plain": [
       "dtype('int32')"
      ]
     },
     "execution_count": 47,
     "metadata": {},
     "output_type": "execute_result"
    }
   ],
   "source": [
    "df_webscrap[\"Número de calificaciones\"].dtype"
   ]
  },
  {
   "cell_type": "markdown",
   "metadata": {},
   "source": [
    "Estaría bien añadir replace para todo tipo de caracter por 0"
   ]
  },
  {
   "cell_type": "markdown",
   "metadata": {},
   "source": [
    "Por ahora todo ok, seguimos"
   ]
  },
  {
   "cell_type": "markdown",
   "metadata": {},
   "source": [
    "---"
   ]
  },
  {
   "cell_type": "markdown",
   "metadata": {},
   "source": [
    "### Todas las calificaciones"
   ]
  },
  {
   "cell_type": "code",
   "execution_count": 48,
   "metadata": {},
   "outputs": [
    {
     "data": {
      "text/plain": [
       "array(['46 %', '94 %', '71 %', '79 %', '62 %', '36 %', '30 %', '53 %',\n",
       "       '89 %', '92 %', '38 %', 'No hay información', '69 %', '72 %',\n",
       "       '67 %', '68 %', '88 %', '86 %', '93 %', '60 %', '76 %', '82 %',\n",
       "       '50 %', '73 %', '80 %', '65 %', '70 %', '59 %', '66 %', '57 %',\n",
       "       '58 %', '63 %', '84 %', '61 %', '52 %', '81 %', '77 %', '37 %',\n",
       "       '96 %', '54 %', '74 %', '90 %', '83 %', '87 %', '78 %', '75 %',\n",
       "       '55 %', '29 %', '64 %', '51 %', '85 %', '42 %', '91 %', '44 %',\n",
       "       '33 %', '56 %', '49 %', '95 %', '34 %', '41 %', '13 %', '47 %',\n",
       "       '39 %', '22 %', '27 %', '25 %', '48 %', '26 %', '23 %', '32 %',\n",
       "       '40 %', '28 %', '35 %', '45 %', '12 %', '24 %', '21 %', '14 %',\n",
       "       '43 %', '98 %', '100 %', '31 %', '17 %', '9 %', '20 %', '19 %',\n",
       "       '97 %', '11 %', '0 %', '18 %', '16 %', '4 %', '10 %', '7 %',\n",
       "       '15 %', '6 %', '5 %', '8 %'], dtype=object)"
      ]
     },
     "execution_count": 48,
     "metadata": {},
     "output_type": "execute_result"
    }
   ],
   "source": [
    "df_webscrap[\"Calificación 5 estrellas\"].unique()"
   ]
  },
  {
   "cell_type": "code",
   "execution_count": 49,
   "metadata": {},
   "outputs": [],
   "source": [
    "\n",
    "#  Calificación 5 estrellas convertido a float\n",
    "df_webscrap[\"Calificación 5 estrellas\"] = df_webscrap[\"Calificación 5 estrellas\"].str.replace(\" %\",'').str.replace(\".\",\"\")\n",
    "df_webscrap[\"Calificación 5 estrellas\"] = df_webscrap[\"Calificación 5 estrellas\"].str.replace(\"No hay información\", \"0\").astype(int)\n",
    "#  Calificación 4 estrellas convertido a float\n",
    "df_webscrap[\"Calificación 4 estrellas\"] = df_webscrap[\"Calificación 4 estrellas\"].str.replace(\" %\",'').str.replace(\".\",\"\")\n",
    "df_webscrap[\"Calificación 4 estrellas\"] = df_webscrap[\"Calificación 4 estrellas\"].str.replace(\"No hay información\", \"0\").astype(int)\n",
    "#  Calificación 3 estrellas convertido a float\n",
    "df_webscrap[\"Calificación 3 estrellas\"] = df_webscrap[\"Calificación 3 estrellas\"].str.replace(\" %\",'').str.replace(\".\",\"\")\n",
    "df_webscrap[\"Calificación 3 estrellas\"] = df_webscrap[\"Calificación 3 estrellas\"].str.replace(\"No hay información\", \"0\").astype(int)\n",
    "\n",
    "#  Calificación 2 estrellas convertido a float\n",
    "df_webscrap[\"Calificación 2 estrellas\"] = df_webscrap[\"Calificación 2 estrellas\"].str.replace(\" %\",'').str.replace(\".\",\"\")\n",
    "df_webscrap[\"Calificación 2 estrellas\"] = df_webscrap[\"Calificación 2 estrellas\"].str.replace(\"No hay información\", \"0\").astype(int)\n",
    "#  Calificación 1 estrella convertido a float\n",
    "df_webscrap[\"Calificación 1 estrella\"] = df_webscrap[\"Calificación 1 estrella\"].str.replace(\" %\",'').str.replace(\".\",\"\")\n",
    "df_webscrap[\"Calificación 1 estrella\"] = df_webscrap[\"Calificación 1 estrella\"].str.replace(\"No hay información\", \"0\").astype(int)\n"
   ]
  },
  {
   "cell_type": "markdown",
   "metadata": {},
   "source": [
    "Cambiamos en vez de porcentaje a numero de votos"
   ]
  },
  {
   "cell_type": "code",
   "execution_count": 50,
   "metadata": {},
   "outputs": [
    {
     "data": {
      "text/plain": [
       "0        24\n",
       "1        12\n",
       "2         4\n",
       "3        25\n",
       "4       177\n",
       "       ... \n",
       "8545     22\n",
       "8546      0\n",
       "8547      9\n",
       "8548      0\n",
       "8549      0\n",
       "Length: 8550, dtype: int32"
      ]
     },
     "execution_count": 50,
     "metadata": {},
     "output_type": "execute_result"
    }
   ],
   "source": [
    "((df_webscrap[\"Calificación 5 estrellas\"]/100)*df_webscrap[\"Número de calificaciones\"]).astype(int)"
   ]
  },
  {
   "cell_type": "code",
   "execution_count": 51,
   "metadata": {},
   "outputs": [],
   "source": [
    "df_webscrap[\"Calificación 5 estrellas\"] = ((df_webscrap[\"Calificación 5 estrellas\"]/100)*df_webscrap[\"Número de calificaciones\"]).astype(int)\n",
    "df_webscrap[\"Calificación 4 estrellas\"] = ((df_webscrap[\"Calificación 4 estrellas\"]/100)*df_webscrap[\"Número de calificaciones\"]).astype(int)\n",
    "df_webscrap[\"Calificación 3 estrellas\"] = ((df_webscrap[\"Calificación 3 estrellas\"]/100)*df_webscrap[\"Número de calificaciones\"]).astype(int)\n",
    "df_webscrap[\"Calificación 2 estrellas\"] = ((df_webscrap[\"Calificación 2 estrellas\"]/100)*df_webscrap[\"Número de calificaciones\"]).astype(int)\n",
    "df_webscrap[\"Calificación 1 estrella\"] = ((df_webscrap[\"Calificación 1 estrella\"]/100)*df_webscrap[\"Número de calificaciones\"]).astype(int)"
   ]
  },
  {
   "cell_type": "code",
   "execution_count": 52,
   "metadata": {},
   "outputs": [
    {
     "name": "stdout",
     "output_type": "stream",
     "text": [
      "<class 'pandas.core.frame.DataFrame'>\n",
      "RangeIndex: 8550 entries, 0 to 8549\n",
      "Data columns (total 19 columns):\n",
      " #   Column                    Non-Null Count  Dtype         \n",
      "---  ------                    --------------  -----         \n",
      " 0   id_juego                  8550 non-null   int64         \n",
      " 1   Titulo                    8550 non-null   object        \n",
      " 2   Día y hora                8550 non-null   datetime64[ns]\n",
      " 3   Plataforma                8550 non-null   object        \n",
      " 4   Genero                    8550 non-null   object        \n",
      " 5   Compañia                  8550 non-null   object        \n",
      " 6   Lanzamiento               8550 non-null   datetime64[ns]\n",
      " 7   Idiomas                   8550 non-null   object        \n",
      " 8   Calificación PSN          8550 non-null   float64       \n",
      " 9   Número de calificaciones  8550 non-null   int32         \n",
      " 10  Calificación 5 estrellas  8550 non-null   int32         \n",
      " 11  Calificación 4 estrellas  8550 non-null   int32         \n",
      " 12  Calificación 3 estrellas  8550 non-null   int32         \n",
      " 13  Calificación 2 estrellas  8550 non-null   int32         \n",
      " 14  Calificación 1 estrella   8550 non-null   int32         \n",
      " 15  Precio original sin PSN   8550 non-null   object        \n",
      " 16  Precio actual sin PSN     8550 non-null   object        \n",
      " 17  Precio original con PSN   8550 non-null   object        \n",
      " 18  Precio actual con PSN     8550 non-null   object        \n",
      "dtypes: datetime64[ns](2), float64(1), int32(6), int64(1), object(9)\n",
      "memory usage: 1.0+ MB\n"
     ]
    }
   ],
   "source": [
    "df_webscrap.info()"
   ]
  },
  {
   "cell_type": "code",
   "execution_count": 53,
   "metadata": {},
   "outputs": [
    {
     "data": {
      "text/html": [
       "<div>\n",
       "<style scoped>\n",
       "    .dataframe tbody tr th:only-of-type {\n",
       "        vertical-align: middle;\n",
       "    }\n",
       "\n",
       "    .dataframe tbody tr th {\n",
       "        vertical-align: top;\n",
       "    }\n",
       "\n",
       "    .dataframe thead th {\n",
       "        text-align: right;\n",
       "    }\n",
       "</style>\n",
       "<table border=\"1\" class=\"dataframe\">\n",
       "  <thead>\n",
       "    <tr style=\"text-align: right;\">\n",
       "      <th></th>\n",
       "      <th>id_juego</th>\n",
       "      <th>Titulo</th>\n",
       "      <th>Día y hora</th>\n",
       "      <th>Plataforma</th>\n",
       "      <th>Genero</th>\n",
       "      <th>Compañia</th>\n",
       "      <th>Lanzamiento</th>\n",
       "      <th>Idiomas</th>\n",
       "      <th>Calificación PSN</th>\n",
       "      <th>Número de calificaciones</th>\n",
       "      <th>Calificación 5 estrellas</th>\n",
       "      <th>Calificación 4 estrellas</th>\n",
       "      <th>Calificación 3 estrellas</th>\n",
       "      <th>Calificación 2 estrellas</th>\n",
       "      <th>Calificación 1 estrella</th>\n",
       "      <th>Precio original sin PSN</th>\n",
       "      <th>Precio actual sin PSN</th>\n",
       "      <th>Precio original con PSN</th>\n",
       "      <th>Precio actual con PSN</th>\n",
       "    </tr>\n",
       "  </thead>\n",
       "  <tbody>\n",
       "    <tr>\n",
       "      <th>0</th>\n",
       "      <td>10007176</td>\n",
       "      <td>EA SPORTS FC™ 24 Standard Edition para PS4 y PS5</td>\n",
       "      <td>2024-03-02 09:39:47.531067</td>\n",
       "      <td>PS4, PS5</td>\n",
       "      <td>Deporte</td>\n",
       "      <td>EA Swiss Sarl</td>\n",
       "      <td>2023-09-28</td>\n",
       "      <td>No hay información</td>\n",
       "      <td>3.43</td>\n",
       "      <td>54</td>\n",
       "      <td>24</td>\n",
       "      <td>6</td>\n",
       "      <td>5</td>\n",
       "      <td>2</td>\n",
       "      <td>14</td>\n",
       "      <td>109,99 €</td>\n",
       "      <td>43,99 €</td>\n",
       "      <td>109,99 €</td>\n",
       "      <td>43,99 €</td>\n",
       "    </tr>\n",
       "    <tr>\n",
       "      <th>1</th>\n",
       "      <td>10003999</td>\n",
       "      <td>FINAL FANTASY VII REBIRTH</td>\n",
       "      <td>2024-03-02 09:39:50.527616</td>\n",
       "      <td>PS5</td>\n",
       "      <td>Juegos de rol</td>\n",
       "      <td>Square Enix LTD</td>\n",
       "      <td>2024-02-28</td>\n",
       "      <td>Español (México), Español, Portugués (Brasil)...</td>\n",
       "      <td>4.85</td>\n",
       "      <td>13</td>\n",
       "      <td>12</td>\n",
       "      <td>0</td>\n",
       "      <td>0</td>\n",
       "      <td>0</td>\n",
       "      <td>0</td>\n",
       "      <td>79,99 €</td>\n",
       "      <td>79,99 €</td>\n",
       "      <td>79,99 €</td>\n",
       "      <td>79,99 €</td>\n",
       "    </tr>\n",
       "    <tr>\n",
       "      <th>2</th>\n",
       "      <td>228748</td>\n",
       "      <td>Fortnite</td>\n",
       "      <td>2024-03-02 09:39:52.560723</td>\n",
       "      <td>PS5</td>\n",
       "      <td>Aventura,Acción</td>\n",
       "      <td>EPIC GAMES</td>\n",
       "      <td>2017-07-21</td>\n",
       "      <td>Español (México), Español, Coreano, Turco, Po...</td>\n",
       "      <td>4.32</td>\n",
       "      <td>6</td>\n",
       "      <td>4</td>\n",
       "      <td>0</td>\n",
       "      <td>0</td>\n",
       "      <td>0</td>\n",
       "      <td>0</td>\n",
       "      <td>Gratis</td>\n",
       "      <td>Gratis</td>\n",
       "      <td>Gratis</td>\n",
       "      <td>Gratis</td>\n",
       "    </tr>\n",
       "    <tr>\n",
       "      <th>3</th>\n",
       "      <td>10000657</td>\n",
       "      <td>HELLDIVERS™ 2</td>\n",
       "      <td>2024-03-02 09:39:54.438790</td>\n",
       "      <td>PS5</td>\n",
       "      <td>Acción</td>\n",
       "      <td>Sony Interactive Entertainment Europe</td>\n",
       "      <td>2024-02-08</td>\n",
       "      <td>Español, Francés (Francia), Ruso, Italiano, I...</td>\n",
       "      <td>4.45</td>\n",
       "      <td>32</td>\n",
       "      <td>25</td>\n",
       "      <td>2</td>\n",
       "      <td>0</td>\n",
       "      <td>0</td>\n",
       "      <td>3</td>\n",
       "      <td>39,99 €</td>\n",
       "      <td>39,99 €</td>\n",
       "      <td>39,99 €</td>\n",
       "      <td>39,99 €</td>\n",
       "    </tr>\n",
       "    <tr>\n",
       "      <th>4</th>\n",
       "      <td>10001130</td>\n",
       "      <td>Call of Duty®: Modern Warfare® III - Lote Mult...</td>\n",
       "      <td>2024-03-02 09:39:56.572219</td>\n",
       "      <td>PS4, PS5</td>\n",
       "      <td>Acción</td>\n",
       "      <td>Activision Blizzard Int'l BV</td>\n",
       "      <td>2023-11-02</td>\n",
       "      <td>Español, Francés (Francia), Ruso, Italiano, I...</td>\n",
       "      <td>4.04</td>\n",
       "      <td>286</td>\n",
       "      <td>177</td>\n",
       "      <td>31</td>\n",
       "      <td>31</td>\n",
       "      <td>5</td>\n",
       "      <td>40</td>\n",
       "      <td>79,99 €</td>\n",
       "      <td>79,99 €</td>\n",
       "      <td>79,99 €</td>\n",
       "      <td>79,99 €</td>\n",
       "    </tr>\n",
       "    <tr>\n",
       "      <th>5</th>\n",
       "      <td>10007788</td>\n",
       "      <td>Edición Kobe Bryant de NBA 2K24 para PS5™</td>\n",
       "      <td>2024-03-02 09:39:58.818809</td>\n",
       "      <td>PS5</td>\n",
       "      <td>Deporte</td>\n",
       "      <td>2K</td>\n",
       "      <td>2023-09-07</td>\n",
       "      <td>Español, Coreano, Chino (Tradicional), Francé...</td>\n",
       "      <td>3.19</td>\n",
       "      <td>18</td>\n",
       "      <td>6</td>\n",
       "      <td>2</td>\n",
       "      <td>2</td>\n",
       "      <td>1</td>\n",
       "      <td>5</td>\n",
       "      <td>79,99 €</td>\n",
       "      <td>79,99 €</td>\n",
       "      <td>79,99 €</td>\n",
       "      <td>79,99 €</td>\n",
       "    </tr>\n",
       "    <tr>\n",
       "      <th>6</th>\n",
       "      <td>10002788</td>\n",
       "      <td>UFC™ 5</td>\n",
       "      <td>2024-03-02 09:40:01.302891</td>\n",
       "      <td>PS5</td>\n",
       "      <td>Lucha</td>\n",
       "      <td>EA Swiss Sarl</td>\n",
       "      <td>2023-10-26</td>\n",
       "      <td>Español (México), Español, Coreano, Portugués...</td>\n",
       "      <td>3.01</td>\n",
       "      <td>5</td>\n",
       "      <td>1</td>\n",
       "      <td>0</td>\n",
       "      <td>0</td>\n",
       "      <td>0</td>\n",
       "      <td>1</td>\n",
       "      <td>109,99 €</td>\n",
       "      <td>65,99 €</td>\n",
       "      <td>109,99 €</td>\n",
       "      <td>65,99 €</td>\n",
       "    </tr>\n",
       "  </tbody>\n",
       "</table>\n",
       "</div>"
      ],
      "text/plain": [
       "   id_juego                                             Titulo  \\\n",
       "0  10007176   EA SPORTS FC™ 24 Standard Edition para PS4 y PS5   \n",
       "1  10003999                          FINAL FANTASY VII REBIRTH   \n",
       "2    228748                                           Fortnite   \n",
       "3  10000657                                      HELLDIVERS™ 2   \n",
       "4  10001130  Call of Duty®: Modern Warfare® III - Lote Mult...   \n",
       "5  10007788          Edición Kobe Bryant de NBA 2K24 para PS5™   \n",
       "6  10002788                                             UFC™ 5   \n",
       "\n",
       "                  Día y hora Plataforma            Genero  \\\n",
       "0 2024-03-02 09:39:47.531067   PS4, PS5           Deporte   \n",
       "1 2024-03-02 09:39:50.527616        PS5     Juegos de rol   \n",
       "2 2024-03-02 09:39:52.560723        PS5   Aventura,Acción   \n",
       "3 2024-03-02 09:39:54.438790        PS5            Acción   \n",
       "4 2024-03-02 09:39:56.572219   PS4, PS5            Acción   \n",
       "5 2024-03-02 09:39:58.818809        PS5           Deporte   \n",
       "6 2024-03-02 09:40:01.302891        PS5             Lucha   \n",
       "\n",
       "                                Compañia Lanzamiento  \\\n",
       "0                          EA Swiss Sarl  2023-09-28   \n",
       "1                        Square Enix LTD  2024-02-28   \n",
       "2                             EPIC GAMES  2017-07-21   \n",
       "3  Sony Interactive Entertainment Europe  2024-02-08   \n",
       "4           Activision Blizzard Int'l BV  2023-11-02   \n",
       "5                                     2K  2023-09-07   \n",
       "6                          EA Swiss Sarl  2023-10-26   \n",
       "\n",
       "                                             Idiomas  Calificación PSN  \\\n",
       "0                                 No hay información              3.43   \n",
       "1   Español (México), Español, Portugués (Brasil)...              4.85   \n",
       "2   Español (México), Español, Coreano, Turco, Po...              4.32   \n",
       "3   Español, Francés (Francia), Ruso, Italiano, I...              4.45   \n",
       "4   Español, Francés (Francia), Ruso, Italiano, I...              4.04   \n",
       "5   Español, Coreano, Chino (Tradicional), Francé...              3.19   \n",
       "6   Español (México), Español, Coreano, Portugués...              3.01   \n",
       "\n",
       "   Número de calificaciones  Calificación 5 estrellas  \\\n",
       "0                        54                        24   \n",
       "1                        13                        12   \n",
       "2                         6                         4   \n",
       "3                        32                        25   \n",
       "4                       286                       177   \n",
       "5                        18                         6   \n",
       "6                         5                         1   \n",
       "\n",
       "   Calificación 4 estrellas  Calificación 3 estrellas  \\\n",
       "0                         6                         5   \n",
       "1                         0                         0   \n",
       "2                         0                         0   \n",
       "3                         2                         0   \n",
       "4                        31                        31   \n",
       "5                         2                         2   \n",
       "6                         0                         0   \n",
       "\n",
       "   Calificación 2 estrellas  Calificación 1 estrella Precio original sin PSN  \\\n",
       "0                         2                       14                109,99 €   \n",
       "1                         0                        0                 79,99 €   \n",
       "2                         0                        0                  Gratis   \n",
       "3                         0                        3                 39,99 €   \n",
       "4                         5                       40                 79,99 €   \n",
       "5                         1                        5                 79,99 €   \n",
       "6                         0                        1                109,99 €   \n",
       "\n",
       "  Precio actual sin PSN Precio original con PSN Precio actual con PSN  \n",
       "0               43,99 €                109,99 €               43,99 €  \n",
       "1               79,99 €                 79,99 €               79,99 €  \n",
       "2                Gratis                  Gratis                Gratis  \n",
       "3               39,99 €                 39,99 €               39,99 €  \n",
       "4               79,99 €                 79,99 €               79,99 €  \n",
       "5               79,99 €                 79,99 €               79,99 €  \n",
       "6               65,99 €                109,99 €               65,99 €  "
      ]
     },
     "execution_count": 53,
     "metadata": {},
     "output_type": "execute_result"
    }
   ],
   "source": [
    "df_webscrap.head(7)"
   ]
  },
  {
   "cell_type": "markdown",
   "metadata": {},
   "source": [
    "Dejamos en modo numérico las calificaciones."
   ]
  },
  {
   "cell_type": "markdown",
   "metadata": {},
   "source": [
    "---"
   ]
  },
  {
   "cell_type": "markdown",
   "metadata": {},
   "source": [
    "#### Precios"
   ]
  },
  {
   "cell_type": "code",
   "execution_count": 54,
   "metadata": {},
   "outputs": [],
   "source": [
    "\n",
    "\n",
    "#Precio actual sin Playstation Plus\n",
    "df_webscrap[\"Precio actual sin PSN\"] = df_webscrap[\"Precio actual sin PSN\"].str.replace(\"No hay información\",\"0.00\")\n",
    "df_webscrap[\"Precio actual sin PSN\"] = df_webscrap[\"Precio actual sin PSN\"].str.replace('[^0-9,A-z]','', regex = True).replace('Gratis','0.00').replace(\"Incluido\",\"0.00\").replace(\"Nodisponibleparacomprar\",\"79.99\").replace('Anunciado',\"70.00\")\n",
    "df_webscrap[\"Precio actual sin PSN\"] = df_webscrap[\"Precio actual sin PSN\"].str.replace(\",\",\".\")\n",
    "df_webscrap[\"Precio actual sin PSN\"] = df_webscrap[\"Precio actual sin PSN\"].astype(float)\n",
    "\n",
    "#Precio actual con Playstation Plus\n",
    "df_webscrap[\"Precio actual con PSN\"] = df_webscrap[\"Precio actual con PSN\"].str.replace(\"No hay información\",\"0.00\")\n",
    "df_webscrap[\"Precio actual con PSN\"] = df_webscrap[\"Precio actual con PSN\"].str.replace('[^0-9,A-z]','', regex = True).replace('Gratis','0.00').replace(\"Incluido\",\"0.00\").replace(\"Nodisponibleparacomprar\",\"79.99\").replace('Anunciado',\"70.00\")\n",
    "df_webscrap[\"Precio actual con PSN\"] = df_webscrap[\"Precio actual con PSN\"].str.replace(\",\",\".\")\n",
    "df_webscrap[\"Precio actual con PSN\"] = df_webscrap[\"Precio actual con PSN\"].astype(float)\n",
    "\n",
    "#Precio Original sin Playstation Plus\n",
    "df_webscrap[\"Precio original sin PSN\"] = df_webscrap[\"Precio original sin PSN\"].str.replace(\"No hay información\",\"0.00\")\n",
    "df_webscrap[\"Precio original sin PSN\"] = df_webscrap[\"Precio original sin PSN\"].str.replace('[^0-9,A-z]','', regex = True).replace('Gratis','0.00').replace(\"Incluido\",\"0.00\").replace(\"Nodisponibleparacomprar\",\"79.99\").replace('Anunciado',\"70.00\")\n",
    "df_webscrap[\"Precio original sin PSN\"] = df_webscrap[\"Precio original sin PSN\"].str.replace(\",\",\".\")\n",
    "df_webscrap[\"Precio original sin PSN\"] = df_webscrap[\"Precio original sin PSN\"].astype(float)\n",
    "\n",
    "#Precio Otiginal con Playstation Plus\n",
    "\n",
    "df_webscrap[\"Precio original con PSN\"] = df_webscrap[\"Precio original con PSN\"].str.replace(\"No hay información\",\"0.00\")\n",
    "df_webscrap[\"Precio original con PSN\"] = df_webscrap[\"Precio original con PSN\"].str.replace('[^0-9,A-z]','', regex = True).replace('Gratis','0.00').replace(\"Incluido\",\"0.00\").replace(\"Nodisponibleparacomprar\",\"79.99\").replace('Anunciado',\"70.00\")\n",
    "df_webscrap[\"Precio original con PSN\"] = df_webscrap[\"Precio original con PSN\"].str.replace(\",\",\".\")\n",
    "df_webscrap[\"Precio original con PSN\"] = df_webscrap[\"Precio original con PSN\"].fillna(df_webscrap[\"Precio original sin PSN\"])\n",
    "df_webscrap[\"Precio original con PSN\"] = df_webscrap[\"Precio original con PSN\"].astype(float)\n",
    "\n",
    "\n"
   ]
  },
  {
   "cell_type": "markdown",
   "metadata": {},
   "source": [
    "Arreglamos los precios de los juegos."
   ]
  },
  {
   "cell_type": "markdown",
   "metadata": {},
   "source": [
    "Leyendas para Juegos con precios que tienen strings:\n",
    "- Gratis --> 0.00\n",
    "- No disponible --> 79.99\n",
    "- Incluido --> 0.00\n",
    "- Anunciado --> 79.99"
   ]
  },
  {
   "cell_type": "code",
   "execution_count": 55,
   "metadata": {},
   "outputs": [
    {
     "data": {
      "text/html": [
       "<div>\n",
       "<style scoped>\n",
       "    .dataframe tbody tr th:only-of-type {\n",
       "        vertical-align: middle;\n",
       "    }\n",
       "\n",
       "    .dataframe tbody tr th {\n",
       "        vertical-align: top;\n",
       "    }\n",
       "\n",
       "    .dataframe thead th {\n",
       "        text-align: right;\n",
       "    }\n",
       "</style>\n",
       "<table border=\"1\" class=\"dataframe\">\n",
       "  <thead>\n",
       "    <tr style=\"text-align: right;\">\n",
       "      <th></th>\n",
       "      <th>id_juego</th>\n",
       "      <th>Titulo</th>\n",
       "      <th>Día y hora</th>\n",
       "      <th>Plataforma</th>\n",
       "      <th>Genero</th>\n",
       "      <th>Compañia</th>\n",
       "      <th>Lanzamiento</th>\n",
       "      <th>Idiomas</th>\n",
       "      <th>Calificación PSN</th>\n",
       "      <th>Número de calificaciones</th>\n",
       "      <th>Calificación 5 estrellas</th>\n",
       "      <th>Calificación 4 estrellas</th>\n",
       "      <th>Calificación 3 estrellas</th>\n",
       "      <th>Calificación 2 estrellas</th>\n",
       "      <th>Calificación 1 estrella</th>\n",
       "      <th>Precio original sin PSN</th>\n",
       "      <th>Precio actual sin PSN</th>\n",
       "      <th>Precio original con PSN</th>\n",
       "      <th>Precio actual con PSN</th>\n",
       "    </tr>\n",
       "  </thead>\n",
       "  <tbody>\n",
       "    <tr>\n",
       "      <th>0</th>\n",
       "      <td>10007176</td>\n",
       "      <td>EA SPORTS FC™ 24 Standard Edition para PS4 y PS5</td>\n",
       "      <td>2024-03-02 09:39:47.531067</td>\n",
       "      <td>PS4, PS5</td>\n",
       "      <td>Deporte</td>\n",
       "      <td>EA Swiss Sarl</td>\n",
       "      <td>2023-09-28</td>\n",
       "      <td>No hay información</td>\n",
       "      <td>3.43</td>\n",
       "      <td>54</td>\n",
       "      <td>24</td>\n",
       "      <td>6</td>\n",
       "      <td>5</td>\n",
       "      <td>2</td>\n",
       "      <td>14</td>\n",
       "      <td>109.99</td>\n",
       "      <td>43.99</td>\n",
       "      <td>109.99</td>\n",
       "      <td>43.99</td>\n",
       "    </tr>\n",
       "    <tr>\n",
       "      <th>1</th>\n",
       "      <td>10003999</td>\n",
       "      <td>FINAL FANTASY VII REBIRTH</td>\n",
       "      <td>2024-03-02 09:39:50.527616</td>\n",
       "      <td>PS5</td>\n",
       "      <td>Juegos de rol</td>\n",
       "      <td>Square Enix LTD</td>\n",
       "      <td>2024-02-28</td>\n",
       "      <td>Español (México), Español, Portugués (Brasil)...</td>\n",
       "      <td>4.85</td>\n",
       "      <td>13</td>\n",
       "      <td>12</td>\n",
       "      <td>0</td>\n",
       "      <td>0</td>\n",
       "      <td>0</td>\n",
       "      <td>0</td>\n",
       "      <td>79.99</td>\n",
       "      <td>79.99</td>\n",
       "      <td>79.99</td>\n",
       "      <td>79.99</td>\n",
       "    </tr>\n",
       "    <tr>\n",
       "      <th>2</th>\n",
       "      <td>228748</td>\n",
       "      <td>Fortnite</td>\n",
       "      <td>2024-03-02 09:39:52.560723</td>\n",
       "      <td>PS5</td>\n",
       "      <td>Aventura,Acción</td>\n",
       "      <td>EPIC GAMES</td>\n",
       "      <td>2017-07-21</td>\n",
       "      <td>Español (México), Español, Coreano, Turco, Po...</td>\n",
       "      <td>4.32</td>\n",
       "      <td>6</td>\n",
       "      <td>4</td>\n",
       "      <td>0</td>\n",
       "      <td>0</td>\n",
       "      <td>0</td>\n",
       "      <td>0</td>\n",
       "      <td>0.00</td>\n",
       "      <td>0.00</td>\n",
       "      <td>0.00</td>\n",
       "      <td>0.00</td>\n",
       "    </tr>\n",
       "    <tr>\n",
       "      <th>3</th>\n",
       "      <td>10000657</td>\n",
       "      <td>HELLDIVERS™ 2</td>\n",
       "      <td>2024-03-02 09:39:54.438790</td>\n",
       "      <td>PS5</td>\n",
       "      <td>Acción</td>\n",
       "      <td>Sony Interactive Entertainment Europe</td>\n",
       "      <td>2024-02-08</td>\n",
       "      <td>Español, Francés (Francia), Ruso, Italiano, I...</td>\n",
       "      <td>4.45</td>\n",
       "      <td>32</td>\n",
       "      <td>25</td>\n",
       "      <td>2</td>\n",
       "      <td>0</td>\n",
       "      <td>0</td>\n",
       "      <td>3</td>\n",
       "      <td>39.99</td>\n",
       "      <td>39.99</td>\n",
       "      <td>39.99</td>\n",
       "      <td>39.99</td>\n",
       "    </tr>\n",
       "    <tr>\n",
       "      <th>4</th>\n",
       "      <td>10001130</td>\n",
       "      <td>Call of Duty®: Modern Warfare® III - Lote Mult...</td>\n",
       "      <td>2024-03-02 09:39:56.572219</td>\n",
       "      <td>PS4, PS5</td>\n",
       "      <td>Acción</td>\n",
       "      <td>Activision Blizzard Int'l BV</td>\n",
       "      <td>2023-11-02</td>\n",
       "      <td>Español, Francés (Francia), Ruso, Italiano, I...</td>\n",
       "      <td>4.04</td>\n",
       "      <td>286</td>\n",
       "      <td>177</td>\n",
       "      <td>31</td>\n",
       "      <td>31</td>\n",
       "      <td>5</td>\n",
       "      <td>40</td>\n",
       "      <td>79.99</td>\n",
       "      <td>79.99</td>\n",
       "      <td>79.99</td>\n",
       "      <td>79.99</td>\n",
       "    </tr>\n",
       "  </tbody>\n",
       "</table>\n",
       "</div>"
      ],
      "text/plain": [
       "   id_juego                                             Titulo  \\\n",
       "0  10007176   EA SPORTS FC™ 24 Standard Edition para PS4 y PS5   \n",
       "1  10003999                          FINAL FANTASY VII REBIRTH   \n",
       "2    228748                                           Fortnite   \n",
       "3  10000657                                      HELLDIVERS™ 2   \n",
       "4  10001130  Call of Duty®: Modern Warfare® III - Lote Mult...   \n",
       "\n",
       "                  Día y hora Plataforma            Genero  \\\n",
       "0 2024-03-02 09:39:47.531067   PS4, PS5           Deporte   \n",
       "1 2024-03-02 09:39:50.527616        PS5     Juegos de rol   \n",
       "2 2024-03-02 09:39:52.560723        PS5   Aventura,Acción   \n",
       "3 2024-03-02 09:39:54.438790        PS5            Acción   \n",
       "4 2024-03-02 09:39:56.572219   PS4, PS5            Acción   \n",
       "\n",
       "                                Compañia Lanzamiento  \\\n",
       "0                          EA Swiss Sarl  2023-09-28   \n",
       "1                        Square Enix LTD  2024-02-28   \n",
       "2                             EPIC GAMES  2017-07-21   \n",
       "3  Sony Interactive Entertainment Europe  2024-02-08   \n",
       "4           Activision Blizzard Int'l BV  2023-11-02   \n",
       "\n",
       "                                             Idiomas  Calificación PSN  \\\n",
       "0                                 No hay información              3.43   \n",
       "1   Español (México), Español, Portugués (Brasil)...              4.85   \n",
       "2   Español (México), Español, Coreano, Turco, Po...              4.32   \n",
       "3   Español, Francés (Francia), Ruso, Italiano, I...              4.45   \n",
       "4   Español, Francés (Francia), Ruso, Italiano, I...              4.04   \n",
       "\n",
       "   Número de calificaciones  Calificación 5 estrellas  \\\n",
       "0                        54                        24   \n",
       "1                        13                        12   \n",
       "2                         6                         4   \n",
       "3                        32                        25   \n",
       "4                       286                       177   \n",
       "\n",
       "   Calificación 4 estrellas  Calificación 3 estrellas  \\\n",
       "0                         6                         5   \n",
       "1                         0                         0   \n",
       "2                         0                         0   \n",
       "3                         2                         0   \n",
       "4                        31                        31   \n",
       "\n",
       "   Calificación 2 estrellas  Calificación 1 estrella  Precio original sin PSN  \\\n",
       "0                         2                       14                   109.99   \n",
       "1                         0                        0                    79.99   \n",
       "2                         0                        0                     0.00   \n",
       "3                         0                        3                    39.99   \n",
       "4                         5                       40                    79.99   \n",
       "\n",
       "   Precio actual sin PSN  Precio original con PSN  Precio actual con PSN  \n",
       "0                  43.99                   109.99                  43.99  \n",
       "1                  79.99                    79.99                  79.99  \n",
       "2                   0.00                     0.00                   0.00  \n",
       "3                  39.99                    39.99                  39.99  \n",
       "4                  79.99                    79.99                  79.99  "
      ]
     },
     "execution_count": 55,
     "metadata": {},
     "output_type": "execute_result"
    }
   ],
   "source": [
    "df_webscrap.head()"
   ]
  },
  {
   "cell_type": "code",
   "execution_count": 56,
   "metadata": {},
   "outputs": [
    {
     "name": "stdout",
     "output_type": "stream",
     "text": [
      "<class 'pandas.core.frame.DataFrame'>\n",
      "RangeIndex: 8550 entries, 0 to 8549\n",
      "Data columns (total 19 columns):\n",
      " #   Column                    Non-Null Count  Dtype         \n",
      "---  ------                    --------------  -----         \n",
      " 0   id_juego                  8550 non-null   int64         \n",
      " 1   Titulo                    8550 non-null   object        \n",
      " 2   Día y hora                8550 non-null   datetime64[ns]\n",
      " 3   Plataforma                8550 non-null   object        \n",
      " 4   Genero                    8550 non-null   object        \n",
      " 5   Compañia                  8550 non-null   object        \n",
      " 6   Lanzamiento               8550 non-null   datetime64[ns]\n",
      " 7   Idiomas                   8550 non-null   object        \n",
      " 8   Calificación PSN          8550 non-null   float64       \n",
      " 9   Número de calificaciones  8550 non-null   int32         \n",
      " 10  Calificación 5 estrellas  8550 non-null   int32         \n",
      " 11  Calificación 4 estrellas  8550 non-null   int32         \n",
      " 12  Calificación 3 estrellas  8550 non-null   int32         \n",
      " 13  Calificación 2 estrellas  8550 non-null   int32         \n",
      " 14  Calificación 1 estrella   8550 non-null   int32         \n",
      " 15  Precio original sin PSN   8550 non-null   float64       \n",
      " 16  Precio actual sin PSN     8550 non-null   float64       \n",
      " 17  Precio original con PSN   8550 non-null   float64       \n",
      " 18  Precio actual con PSN     8550 non-null   float64       \n",
      "dtypes: datetime64[ns](2), float64(5), int32(6), int64(1), object(5)\n",
      "memory usage: 1.0+ MB\n"
     ]
    }
   ],
   "source": [
    "df_webscrap.info()"
   ]
  },
  {
   "cell_type": "markdown",
   "metadata": {},
   "source": [
    "[Volver al índice](#0)"
   ]
  },
  {
   "cell_type": "markdown",
   "metadata": {},
   "source": [
    "Por el momento ir cambiando el día manualmente para limpieza antes de automatizar todo "
   ]
  },
  {
   "cell_type": "code",
   "execution_count": 58,
   "metadata": {},
   "outputs": [],
   "source": [
    "var_dia = \"2024-03-02\"\n",
    "var_store = \"es\""
   ]
  },
  {
   "cell_type": "code",
   "execution_count": 60,
   "metadata": {},
   "outputs": [],
   "source": [
    "df_webscrap.to_csv(f\"../csv_s/csv_limpio/{var_store}/csv_{var_dia}.csv\",index=False)"
   ]
  },
  {
   "cell_type": "markdown",
   "metadata": {},
   "source": [
    "<a id=\"10\"></a> <br>\n",
    "Todo el código resumido para hacer limpieza"
   ]
  },
  {
   "cell_type": "code",
   "execution_count": 360,
   "metadata": {},
   "outputs": [],
   "source": [
    "import pandas as pd\n",
    "import matplotlib.pyplot as plt # Para visualizaciones en Jupyter no importar script python\n",
    "import seaborn as sns # Para visualizaciones en Jupyter no importar script python\n"
   ]
  },
  {
   "cell_type": "code",
   "execution_count": 481,
   "metadata": {},
   "outputs": [],
   "source": [
    "df_webscrap_anterior = pd.read_csv(\"../csv_s/csv_sin_limpiar/csv_2024-03-11_es.csv\" )"
   ]
  },
  {
   "cell_type": "code",
   "execution_count": 482,
   "metadata": {},
   "outputs": [],
   "source": [
    "df_webscrap = pd.read_csv(\"../csv_s/csv_sin_limpiar/csv_2024-03-19_es.csv\" )"
   ]
  },
  {
   "cell_type": "code",
   "execution_count": 483,
   "metadata": {},
   "outputs": [],
   "source": [
    "var_dia = \"2024-03-19\"\n",
    "var_store = \"es\""
   ]
  },
  {
   "cell_type": "code",
   "execution_count": 484,
   "metadata": {},
   "outputs": [],
   "source": [
    "lista_juegos_no_ok = list(df_webscrap[\"id_juego\"][df_webscrap[\"Titulo\"]==\"No hay información\"])"
   ]
  },
  {
   "cell_type": "code",
   "execution_count": 485,
   "metadata": {},
   "outputs": [
    {
     "data": {
      "text/plain": [
       "[10004466]"
      ]
     },
     "execution_count": 485,
     "metadata": {},
     "output_type": "execute_result"
    }
   ],
   "source": [
    "lista_juegos_no_ok"
   ]
  },
  {
   "cell_type": "code",
   "execution_count": 486,
   "metadata": {},
   "outputs": [],
   "source": [
    "for i in lista_juegos_no_ok:\n",
    "    df_webscrap.loc[df_webscrap[\"id_juego\"] == i, [\"Titulo\"]] = list(df_webscrap_anterior[\"Titulo\"][df_webscrap_anterior[\"id_juego\"] == i])[0]\n",
    "    df_webscrap.loc[df_webscrap[\"id_juego\"] == i, [\"Plataforma\"]] = list(df_webscrap_anterior[\"Plataforma\"][df_webscrap_anterior[\"id_juego\"] == i])[0]\n",
    "    df_webscrap.loc[df_webscrap[\"id_juego\"] == i, [\"Genero\"]] = list(df_webscrap_anterior[\"Genero\"][df_webscrap_anterior[\"id_juego\"] == i])[0]\n",
    "    df_webscrap.loc[df_webscrap[\"id_juego\"] == i, [\"Compañia\"]] = list(df_webscrap_anterior[\"Compañia\"][df_webscrap_anterior[\"id_juego\"] == i])[0]\n",
    "    df_webscrap.loc[df_webscrap[\"id_juego\"] == i, [\"Lanzamiento\"]] = list(df_webscrap_anterior[\"Lanzamiento\"][df_webscrap_anterior[\"id_juego\"] == i])[0]\n",
    "    df_webscrap.loc[df_webscrap[\"id_juego\"] == i, [\"Idiomas\"]] = list(df_webscrap_anterior[\"Idiomas\"][df_webscrap_anterior[\"id_juego\"] == i])[0]\n",
    "    df_webscrap.loc[df_webscrap[\"id_juego\"] == i, [\"Calificación PSN\"]] = list(df_webscrap_anterior[\"Calificación PSN\"][df_webscrap_anterior[\"id_juego\"] == i])[0]\n",
    "    df_webscrap.loc[df_webscrap[\"id_juego\"] == i, [\"Número de calificaciones\"]] = list(df_webscrap_anterior[\"Número de calificaciones\"][df_webscrap_anterior[\"id_juego\"] == i])[0]\n",
    "    df_webscrap.loc[df_webscrap[\"id_juego\"] == i, [\"Calificación 5 estrellas\"]] = list(df_webscrap_anterior[\"Calificación 5 estrellas\"][df_webscrap_anterior[\"id_juego\"] == i])[0]\n",
    "    df_webscrap.loc[df_webscrap[\"id_juego\"] == i, [\"Calificación 4 estrellas\"]] = list(df_webscrap_anterior[\"Calificación 4 estrellas\"][df_webscrap_anterior[\"id_juego\"] == i])[0]\n",
    "    df_webscrap.loc[df_webscrap[\"id_juego\"] == i, [\"Calificación 3 estrellas\"]] = list(df_webscrap_anterior[\"Calificación 3 estrellas\"][df_webscrap_anterior[\"id_juego\"] == i])[0]\n",
    "    df_webscrap.loc[df_webscrap[\"id_juego\"] == i, [\"Calificación 2 estrellas\"]] = list(df_webscrap_anterior[\"Calificación 2 estrellas\"][df_webscrap_anterior[\"id_juego\"] == i])[0]\n",
    "    df_webscrap.loc[df_webscrap[\"id_juego\"] == i, [\"Calificación 1 estrella\"]] = list(df_webscrap_anterior[\"Calificación 1 estrella\"][df_webscrap_anterior[\"id_juego\"] == i])[0]\n",
    "    df_webscrap.loc[df_webscrap[\"id_juego\"] == i, [\"Precio original sin PSN\"]] = list(df_webscrap_anterior[\"Precio original sin PSN\"][df_webscrap_anterior[\"id_juego\"] == i])[0]\n",
    "    df_webscrap.loc[df_webscrap[\"id_juego\"] == i, [\"Precio actual sin PSN\"]] = list(df_webscrap_anterior[\"Precio actual sin PSN\"][df_webscrap_anterior[\"id_juego\"] == i])[0]\n",
    "    df_webscrap.loc[df_webscrap[\"id_juego\"] == i, [\"Precio original con PSN\"]] = list(df_webscrap_anterior[\"Precio original con PSN\"][df_webscrap_anterior[\"id_juego\"] == i])[0]\n",
    "    df_webscrap.loc[df_webscrap[\"id_juego\"] == i, [\"Precio actual con PSN\"]] = list(df_webscrap_anterior[\"Precio actual con PSN\"][df_webscrap_anterior[\"id_juego\"] == i])[0]\n",
    "    # df_webscrap.loc[df_webscrap[\"id_juego\"] == i, \"País Store\"] = df_webscrap_anterior[\"País Store\"][df_webscrap_anterior[\"id_juego\"] == i]\n",
    "   "
   ]
  },
  {
   "cell_type": "code",
   "execution_count": 487,
   "metadata": {},
   "outputs": [
    {
     "data": {
      "text/html": [
       "<div>\n",
       "<style scoped>\n",
       "    .dataframe tbody tr th:only-of-type {\n",
       "        vertical-align: middle;\n",
       "    }\n",
       "\n",
       "    .dataframe tbody tr th {\n",
       "        vertical-align: top;\n",
       "    }\n",
       "\n",
       "    .dataframe thead th {\n",
       "        text-align: right;\n",
       "    }\n",
       "</style>\n",
       "<table border=\"1\" class=\"dataframe\">\n",
       "  <thead>\n",
       "    <tr style=\"text-align: right;\">\n",
       "      <th></th>\n",
       "      <th>id_juego</th>\n",
       "      <th>Titulo</th>\n",
       "      <th>Día y hora</th>\n",
       "      <th>Plataforma</th>\n",
       "      <th>Genero</th>\n",
       "      <th>Compañia</th>\n",
       "      <th>Lanzamiento</th>\n",
       "      <th>Idiomas</th>\n",
       "      <th>Calificación PSN</th>\n",
       "      <th>Número de calificaciones</th>\n",
       "      <th>Calificación 5 estrellas</th>\n",
       "      <th>Calificación 4 estrellas</th>\n",
       "      <th>Calificación 3 estrellas</th>\n",
       "      <th>Calificación 2 estrellas</th>\n",
       "      <th>Calificación 1 estrella</th>\n",
       "      <th>Precio original sin PSN</th>\n",
       "      <th>Precio actual sin PSN</th>\n",
       "      <th>Precio original con PSN</th>\n",
       "      <th>Precio actual con PSN</th>\n",
       "      <th>País Store</th>\n",
       "    </tr>\n",
       "  </thead>\n",
       "  <tbody>\n",
       "  </tbody>\n",
       "</table>\n",
       "</div>"
      ],
      "text/plain": [
       "Empty DataFrame\n",
       "Columns: [id_juego, Titulo, Día y hora, Plataforma, Genero, Compañia, Lanzamiento, Idiomas, Calificación PSN, Número de calificaciones, Calificación 5 estrellas, Calificación 4 estrellas, Calificación 3 estrellas, Calificación 2 estrellas, Calificación 1 estrella, Precio original sin PSN, Precio actual sin PSN, Precio original con PSN, Precio actual con PSN, País Store]\n",
       "Index: []"
      ]
     },
     "execution_count": 487,
     "metadata": {},
     "output_type": "execute_result"
    }
   ],
   "source": [
    "df_webscrap[df_webscrap[\"Titulo\"]==\"No hay información\"]"
   ]
  },
  {
   "cell_type": "code",
   "execution_count": 488,
   "metadata": {},
   "outputs": [],
   "source": [
    "df_webscrap[\"Genero\"] = df_webscrap[\"Genero\"].apply(lambda x: x.split(','))\n",
    "df_webscrap[\"Genero\"] = df_webscrap[\"Genero\"].apply(lambda x: list(set(x)))\n",
    "df_webscrap[\"Genero\"] = df_webscrap[\"Genero\"].apply(lambda x: ','.join(x))"
   ]
  },
  {
   "cell_type": "code",
   "execution_count": 489,
   "metadata": {},
   "outputs": [],
   "source": [
    "df_webscrap[\"Día y hora\"] = pd.to_datetime(df_webscrap[\"Día y hora\"])"
   ]
  },
  {
   "cell_type": "code",
   "execution_count": 490,
   "metadata": {},
   "outputs": [],
   "source": [
    "#Calificación del juego\n",
    "df_webscrap[\"Calificación PSN\"] = df_webscrap[\"Calificación PSN\"].str.replace(\"No hay información\",\"0.00\")\n",
    "df_webscrap[\"Calificación PSN\"] = df_webscrap[\"Calificación PSN\"].astype(float)"
   ]
  },
  {
   "cell_type": "code",
   "execution_count": 491,
   "metadata": {},
   "outputs": [],
   "source": [
    "df_webscrap[\"Lanzamiento\"] = df_webscrap[\"Lanzamiento\"].str.replace(r\"^(.{1,6})$\", \"01/01/2024\",regex=True)"
   ]
  },
  {
   "cell_type": "code",
   "execution_count": 492,
   "metadata": {},
   "outputs": [],
   "source": [
    "#Fecha de lanzamiento\n",
    "\n",
    "df_webscrap[\"Lanzamiento\"] = df_webscrap[\"Lanzamiento\"].str.replace(\"No hay información\", \"01/01/2000\")\n",
    "df_webscrap[\"Lanzamiento\"] = pd.to_datetime(df_webscrap[\"Lanzamiento\"], dayfirst=True)"
   ]
  },
  {
   "cell_type": "code",
   "execution_count": 493,
   "metadata": {},
   "outputs": [],
   "source": [
    "df_webscrap[\"Idiomas\"] = df_webscrap[\"Idiomas\"].apply(lambda x: x.split(','))\n",
    "df_webscrap[\"Idiomas\"] = df_webscrap[\"Idiomas\"].apply(lambda x: list(set(x)))\n",
    "df_webscrap[\"Idiomas\"] = df_webscrap[\"Idiomas\"].apply(lambda x: ','.join(x))"
   ]
  },
  {
   "cell_type": "code",
   "execution_count": 494,
   "metadata": {},
   "outputs": [],
   "source": [
    "df_webscrap[\"Número de calificaciones\"] = df_webscrap[\"Número de calificaciones\"].str.replace(\"No hay información\", \"0 calificaciones\").str.replace(\"Sin calificaciones\", \"0 calificaciones\")"
   ]
  },
  {
   "cell_type": "code",
   "execution_count": 495,
   "metadata": {},
   "outputs": [],
   "source": [
    "df_webscrap[\"Número de calificaciones\"] = df_webscrap[\"Número de calificaciones\"].str.extract('(\\d+)')"
   ]
  },
  {
   "cell_type": "code",
   "execution_count": 496,
   "metadata": {},
   "outputs": [],
   "source": [
    "df_webscrap[\"Número de calificaciones\"]  = df_webscrap[\"Número de calificaciones\"].astype(int)"
   ]
  },
  {
   "cell_type": "code",
   "execution_count": 497,
   "metadata": {},
   "outputs": [],
   "source": [
    "\n",
    "#  Calificación 5 estrellas convertido a float\n",
    "df_webscrap[\"Calificación 5 estrellas\"] = df_webscrap[\"Calificación 5 estrellas\"].str.replace(\" %\",'').str.replace(\".\",\"\")\n",
    "df_webscrap[\"Calificación 5 estrellas\"] = df_webscrap[\"Calificación 5 estrellas\"].str.replace(\"No hay información\", \"0\").astype(int)\n",
    "#  Calificación 4 estrellas convertido a float\n",
    "df_webscrap[\"Calificación 4 estrellas\"] = df_webscrap[\"Calificación 4 estrellas\"].str.replace(\" %\",'').str.replace(\".\",\"\")\n",
    "df_webscrap[\"Calificación 4 estrellas\"] = df_webscrap[\"Calificación 4 estrellas\"].str.replace(\"No hay información\", \"0\").astype(int)\n",
    "#  Calificación 3 estrellas convertido a float\n",
    "df_webscrap[\"Calificación 3 estrellas\"] = df_webscrap[\"Calificación 3 estrellas\"].str.replace(\" %\",'').str.replace(\".\",\"\")\n",
    "df_webscrap[\"Calificación 3 estrellas\"] = df_webscrap[\"Calificación 3 estrellas\"].str.replace(\"No hay información\", \"0\").astype(int)\n",
    "\n",
    "#  Calificación 2 estrellas convertido a float\n",
    "df_webscrap[\"Calificación 2 estrellas\"] = df_webscrap[\"Calificación 2 estrellas\"].str.replace(\" %\",'').str.replace(\".\",\"\")\n",
    "df_webscrap[\"Calificación 2 estrellas\"] = df_webscrap[\"Calificación 2 estrellas\"].str.replace(\"No hay información\", \"0\").astype(int)\n",
    "#  Calificación 1 estrella convertido a float\n",
    "df_webscrap[\"Calificación 1 estrella\"] = df_webscrap[\"Calificación 1 estrella\"].str.replace(\" %\",'').str.replace(\".\",\"\")\n",
    "df_webscrap[\"Calificación 1 estrella\"] = df_webscrap[\"Calificación 1 estrella\"].str.replace(\"No hay información\", \"0\").astype(int)\n"
   ]
  },
  {
   "cell_type": "code",
   "execution_count": 498,
   "metadata": {},
   "outputs": [],
   "source": [
    "df_webscrap[\"Calificación 5 estrellas\"] = ((df_webscrap[\"Calificación 5 estrellas\"]/100)*df_webscrap[\"Número de calificaciones\"]).astype(int)\n",
    "df_webscrap[\"Calificación 4 estrellas\"] = ((df_webscrap[\"Calificación 4 estrellas\"]/100)*df_webscrap[\"Número de calificaciones\"]).astype(int)\n",
    "df_webscrap[\"Calificación 3 estrellas\"] = ((df_webscrap[\"Calificación 3 estrellas\"]/100)*df_webscrap[\"Número de calificaciones\"]).astype(int)\n",
    "df_webscrap[\"Calificación 2 estrellas\"] = ((df_webscrap[\"Calificación 2 estrellas\"]/100)*df_webscrap[\"Número de calificaciones\"]).astype(int)\n",
    "df_webscrap[\"Calificación 1 estrella\"] = ((df_webscrap[\"Calificación 1 estrella\"]/100)*df_webscrap[\"Número de calificaciones\"]).astype(int)"
   ]
  },
  {
   "cell_type": "code",
   "execution_count": 499,
   "metadata": {},
   "outputs": [],
   "source": [
    "\n",
    "\n",
    "#Precio actual sin Playstation Plus\n",
    "df_webscrap[\"Precio actual sin PSN\"] = df_webscrap[\"Precio actual sin PSN\"].str.replace(\"No hay información\",\"0.00\")\n",
    "df_webscrap[\"Precio actual sin PSN\"] = df_webscrap[\"Precio actual sin PSN\"].str.replace('[^0-9,A-z]','', regex = True).replace('Gratis','0.00').replace(\"Incluido\",\"0.00\").replace(\"Nodisponibleparacomprar\",\"79.99\").replace('Anunciado',\"70.00\")\n",
    "df_webscrap[\"Precio actual sin PSN\"] = df_webscrap[\"Precio actual sin PSN\"].str.replace(\",\",\".\")\n",
    "df_webscrap[\"Precio actual sin PSN\"] = df_webscrap[\"Precio actual sin PSN\"].astype(float)\n",
    "\n",
    "#Precio actual con Playstation Plus\n",
    "df_webscrap[\"Precio actual con PSN\"] = df_webscrap[\"Precio actual con PSN\"].str.replace(\"No hay información\",\"0.00\")\n",
    "df_webscrap[\"Precio actual con PSN\"] = df_webscrap[\"Precio actual con PSN\"].str.replace('[^0-9,A-z]','', regex = True).replace('Gratis','0.00').replace(\"Incluido\",\"0.00\").replace(\"Nodisponibleparacomprar\",\"79.99\").replace('Anunciado',\"70.00\")\n",
    "df_webscrap[\"Precio actual con PSN\"] = df_webscrap[\"Precio actual con PSN\"].str.replace(\",\",\".\")\n",
    "df_webscrap[\"Precio actual con PSN\"] = df_webscrap[\"Precio actual con PSN\"].astype(float)\n",
    "\n",
    "#Precio Original sin Playstation Plus\n",
    "df_webscrap[\"Precio original sin PSN\"] = df_webscrap[\"Precio original sin PSN\"].str.replace(\"No hay información\",\"0.00\")\n",
    "df_webscrap[\"Precio original sin PSN\"] = df_webscrap[\"Precio original sin PSN\"].str.replace('[^0-9,A-z]','', regex = True).replace('Gratis','0.00').replace(\"Incluido\",\"0.00\").replace(\"Nodisponibleparacomprar\",\"79.99\").replace('Anunciado',\"70.00\")\n",
    "df_webscrap[\"Precio original sin PSN\"] = df_webscrap[\"Precio original sin PSN\"].str.replace(\",\",\".\")\n",
    "df_webscrap[\"Precio original sin PSN\"] = df_webscrap[\"Precio original sin PSN\"].astype(float)\n",
    "\n",
    "#Precio Otiginal con Playstation Plus\n",
    "\n",
    "df_webscrap[\"Precio original con PSN\"] = df_webscrap[\"Precio original con PSN\"].str.replace(\"No hay información\",\"0.00\")\n",
    "df_webscrap[\"Precio original con PSN\"] = df_webscrap[\"Precio original con PSN\"].str.replace('[^0-9,A-z]','', regex = True).replace('Gratis','0.00').replace(\"Incluido\",\"0.00\").replace(\"Nodisponibleparacomprar\",\"79.99\").replace('Anunciado',\"70.00\")\n",
    "df_webscrap[\"Precio original con PSN\"] = df_webscrap[\"Precio original con PSN\"].str.replace(\",\",\".\")\n",
    "df_webscrap[\"Precio original con PSN\"] = df_webscrap[\"Precio original con PSN\"].fillna(df_webscrap[\"Precio original sin PSN\"])\n",
    "df_webscrap[\"Precio original con PSN\"] = df_webscrap[\"Precio original con PSN\"].astype(float)\n",
    "\n",
    "\n"
   ]
  },
  {
   "cell_type": "code",
   "execution_count": 500,
   "metadata": {},
   "outputs": [
    {
     "name": "stdout",
     "output_type": "stream",
     "text": [
      "<class 'pandas.core.frame.DataFrame'>\n",
      "RangeIndex: 8625 entries, 0 to 8624\n",
      "Data columns (total 20 columns):\n",
      " #   Column                    Non-Null Count  Dtype         \n",
      "---  ------                    --------------  -----         \n",
      " 0   id_juego                  8625 non-null   int64         \n",
      " 1   Titulo                    8625 non-null   object        \n",
      " 2   Día y hora                8625 non-null   datetime64[ns]\n",
      " 3   Plataforma                8625 non-null   object        \n",
      " 4   Genero                    8625 non-null   object        \n",
      " 5   Compañia                  8625 non-null   object        \n",
      " 6   Lanzamiento               8625 non-null   datetime64[ns]\n",
      " 7   Idiomas                   8625 non-null   object        \n",
      " 8   Calificación PSN          8625 non-null   float64       \n",
      " 9   Número de calificaciones  8625 non-null   int32         \n",
      " 10  Calificación 5 estrellas  8625 non-null   int32         \n",
      " 11  Calificación 4 estrellas  8625 non-null   int32         \n",
      " 12  Calificación 3 estrellas  8625 non-null   int32         \n",
      " 13  Calificación 2 estrellas  8625 non-null   int32         \n",
      " 14  Calificación 1 estrella   8625 non-null   int32         \n",
      " 15  Precio original sin PSN   8625 non-null   float64       \n",
      " 16  Precio actual sin PSN     8625 non-null   float64       \n",
      " 17  Precio original con PSN   8625 non-null   float64       \n",
      " 18  Precio actual con PSN     8625 non-null   float64       \n",
      " 19  País Store                8625 non-null   object        \n",
      "dtypes: datetime64[ns](2), float64(5), int32(6), int64(1), object(6)\n",
      "memory usage: 1.1+ MB\n"
     ]
    }
   ],
   "source": [
    "df_webscrap.info()"
   ]
  },
  {
   "cell_type": "code",
   "execution_count": 501,
   "metadata": {},
   "outputs": [],
   "source": [
    "df_webscrap.to_csv(f\"../csv_s/csv_limpio/{var_store}/csv_{var_dia}.csv\",index=False)"
   ]
  },
  {
   "cell_type": "markdown",
   "metadata": {},
   "source": [
    "[Volver al índice](#0)"
   ]
  }
 ],
 "metadata": {
  "kernelspec": {
   "display_name": "psn_env",
   "language": "python",
   "name": "python3"
  },
  "language_info": {
   "codemirror_mode": {
    "name": "ipython",
    "version": 3
   },
   "file_extension": ".py",
   "mimetype": "text/x-python",
   "name": "python",
   "nbconvert_exporter": "python",
   "pygments_lexer": "ipython3",
   "version": "3.11.4"
  }
 },
 "nbformat": 4,
 "nbformat_minor": 2
}
