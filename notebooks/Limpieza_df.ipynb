{
 "cells": [
  {
   "cell_type": "markdown",
   "metadata": {},
   "source": [
    ">>>  ### *ÍNDICE*\n",
    ">>- #### Comprobamos valor nulos juegos\n",
    ">>- ####  Limpieza de Datos por Columna\n",
    ">  * Titulo\n",
    ">  * Plataforma\n",
    ">  * Genero\n",
    ">  * Compañia\n",
    ">  * Lanzamiento\n",
    ">  * Idiomas\n",
    ">  * Calificación PSN\n",
    ">  * Número de calificaciones\n",
    ">  * Calificación 5 estrellas\n",
    ">  * Calificación 4 estrellas\n",
    ">  * Calificación 3 estrellas\n",
    ">  * Calificación 2 estrellas\n",
    ">  * Calificación 1 estrella\n",
    ">  * Precio original sin PSN\n",
    ">  * Precio actual sin PSN\n",
    ">  * Precio original con PSN\n",
    ">  * Precio actual con PSN\n",
    ">  * País Store   \n",
    ">    "
   ]
  },
  {
   "cell_type": "code",
   "execution_count": 2,
   "metadata": {},
   "outputs": [],
   "source": [
    "import pandas as pd\n",
    "import matplotlib.pyplot as plt # Para visualizaciones en Jupyter no importar script python\n",
    "import seaborn as sns # Para visualizaciones en Jupyter no importar script python\n"
   ]
  },
  {
   "cell_type": "markdown",
   "metadata": {},
   "source": [
    "<a id=\"0\"></a> <br>\n",
    "Ahora toca limpiar los datos para tenerlos preparados para insertarlos en la bbdd"
   ]
  },
  {
   "cell_type": "markdown",
   "metadata": {},
   "source": [
    "\n",
    "Pruebas df \n",
    "Aseguramos un csv para hacer pruebas con ello."
   ]
  },
  {
   "cell_type": "code",
   "execution_count": 3,
   "metadata": {},
   "outputs": [],
   "source": [
    "#df_juegos.to_csv(\"../csv_s/csv_prueba_500.csv\",index=False) # Guardamos df"
   ]
  },
  {
   "cell_type": "code",
   "execution_count": 4,
   "metadata": {},
   "outputs": [],
   "source": [
    "df_webscrap_anterior = pd.read_csv(\"../csv_s/csv_sin_limpiar/csv_2024-03-11_es.csv\" )"
   ]
  },
  {
   "cell_type": "code",
   "execution_count": 5,
   "metadata": {},
   "outputs": [],
   "source": [
    "df_webscrap = pd.read_csv(\"../csv_s/csv_sin_limpiar/csv_2024-03-13_es.csv\" )"
   ]
  },
  {
   "cell_type": "code",
   "execution_count": 6,
   "metadata": {},
   "outputs": [
    {
     "name": "stdout",
     "output_type": "stream",
     "text": [
      "<class 'pandas.core.frame.DataFrame'>\n",
      "RangeIndex: 8588 entries, 0 to 8587\n",
      "Data columns (total 20 columns):\n",
      " #   Column                    Non-Null Count  Dtype \n",
      "---  ------                    --------------  ----- \n",
      " 0   id_juego                  8588 non-null   int64 \n",
      " 1   Titulo                    8588 non-null   object\n",
      " 2   Día y hora                8588 non-null   object\n",
      " 3   Plataforma                8588 non-null   object\n",
      " 4   Genero                    8588 non-null   object\n",
      " 5   Compañia                  8588 non-null   object\n",
      " 6   Lanzamiento               8588 non-null   object\n",
      " 7   Idiomas                   8588 non-null   object\n",
      " 8   Calificación PSN          8588 non-null   object\n",
      " 9   Número de calificaciones  8588 non-null   object\n",
      " 10  Calificación 5 estrellas  8588 non-null   object\n",
      " 11  Calificación 4 estrellas  8588 non-null   object\n",
      " 12  Calificación 3 estrellas  8588 non-null   object\n",
      " 13  Calificación 2 estrellas  8588 non-null   object\n",
      " 14  Calificación 1 estrella   8588 non-null   object\n",
      " 15  Precio original sin PSN   8588 non-null   object\n",
      " 16  Precio actual sin PSN     8588 non-null   object\n",
      " 17  Precio original con PSN   8588 non-null   object\n",
      " 18  Precio actual con PSN     8588 non-null   object\n",
      " 19  País Store                8588 non-null   object\n",
      "dtypes: int64(1), object(19)\n",
      "memory usage: 1.3+ MB\n"
     ]
    }
   ],
   "source": [
    "df_webscrap.info()"
   ]
  },
  {
   "cell_type": "markdown",
   "metadata": {},
   "source": [
    "* Vamos a empezar a limpiar todas las columnas para introducir este codigo en las funciones y así limpiar el df una vez en el script"
   ]
  },
  {
   "cell_type": "markdown",
   "metadata": {},
   "source": [
    "### Título"
   ]
  },
  {
   "cell_type": "markdown",
   "metadata": {},
   "source": [
    "Hay veces que por motivos de espera no coge la información del juego concreto, por lo tanto vamos a rellenar la informacion del csv del día anterior con la de hoy, hemos cargado la info en un df y procedemos a ello."
   ]
  },
  {
   "cell_type": "code",
   "execution_count": 7,
   "metadata": {},
   "outputs": [
    {
     "data": {
      "text/html": [
       "<div>\n",
       "<style scoped>\n",
       "    .dataframe tbody tr th:only-of-type {\n",
       "        vertical-align: middle;\n",
       "    }\n",
       "\n",
       "    .dataframe tbody tr th {\n",
       "        vertical-align: top;\n",
       "    }\n",
       "\n",
       "    .dataframe thead th {\n",
       "        text-align: right;\n",
       "    }\n",
       "</style>\n",
       "<table border=\"1\" class=\"dataframe\">\n",
       "  <thead>\n",
       "    <tr style=\"text-align: right;\">\n",
       "      <th></th>\n",
       "      <th>id_juego</th>\n",
       "      <th>Titulo</th>\n",
       "      <th>Día y hora</th>\n",
       "      <th>Plataforma</th>\n",
       "      <th>Genero</th>\n",
       "      <th>Compañia</th>\n",
       "      <th>Lanzamiento</th>\n",
       "      <th>Idiomas</th>\n",
       "      <th>Calificación PSN</th>\n",
       "      <th>Número de calificaciones</th>\n",
       "      <th>Calificación 5 estrellas</th>\n",
       "      <th>Calificación 4 estrellas</th>\n",
       "      <th>Calificación 3 estrellas</th>\n",
       "      <th>Calificación 2 estrellas</th>\n",
       "      <th>Calificación 1 estrella</th>\n",
       "      <th>Precio original sin PSN</th>\n",
       "      <th>Precio actual sin PSN</th>\n",
       "      <th>Precio original con PSN</th>\n",
       "      <th>Precio actual con PSN</th>\n",
       "      <th>País Store</th>\n",
       "    </tr>\n",
       "  </thead>\n",
       "  <tbody>\n",
       "    <tr>\n",
       "      <th>162</th>\n",
       "      <td>10003285</td>\n",
       "      <td>No hay información</td>\n",
       "      <td>2024-03-13T08:29:41.021352</td>\n",
       "      <td>No hay información</td>\n",
       "      <td>No hay información</td>\n",
       "      <td>No hay información</td>\n",
       "      <td>No hay información</td>\n",
       "      <td>No hay información</td>\n",
       "      <td>No hay información</td>\n",
       "      <td>No hay información</td>\n",
       "      <td>No hay información</td>\n",
       "      <td>No hay información</td>\n",
       "      <td>No hay información</td>\n",
       "      <td>No hay información</td>\n",
       "      <td>No hay información</td>\n",
       "      <td>No hay información</td>\n",
       "      <td>No hay información</td>\n",
       "      <td>No hay información</td>\n",
       "      <td>No hay información</td>\n",
       "      <td>ESP</td>\n",
       "    </tr>\n",
       "    <tr>\n",
       "      <th>165</th>\n",
       "      <td>233219</td>\n",
       "      <td>No hay información</td>\n",
       "      <td>2024-03-13T08:30:50.061587</td>\n",
       "      <td>No hay información</td>\n",
       "      <td>No hay información</td>\n",
       "      <td>No hay información</td>\n",
       "      <td>No hay información</td>\n",
       "      <td>No hay información</td>\n",
       "      <td>No hay información</td>\n",
       "      <td>No hay información</td>\n",
       "      <td>No hay información</td>\n",
       "      <td>No hay información</td>\n",
       "      <td>No hay información</td>\n",
       "      <td>No hay información</td>\n",
       "      <td>No hay información</td>\n",
       "      <td>No hay información</td>\n",
       "      <td>No hay información</td>\n",
       "      <td>No hay información</td>\n",
       "      <td>No hay información</td>\n",
       "      <td>ESP</td>\n",
       "    </tr>\n",
       "    <tr>\n",
       "      <th>167</th>\n",
       "      <td>201061</td>\n",
       "      <td>No hay información</td>\n",
       "      <td>2024-03-13T08:31:56.648891</td>\n",
       "      <td>No hay información</td>\n",
       "      <td>No hay información</td>\n",
       "      <td>No hay información</td>\n",
       "      <td>No hay información</td>\n",
       "      <td>No hay información</td>\n",
       "      <td>No hay información</td>\n",
       "      <td>No hay información</td>\n",
       "      <td>No hay información</td>\n",
       "      <td>No hay información</td>\n",
       "      <td>No hay información</td>\n",
       "      <td>No hay información</td>\n",
       "      <td>No hay información</td>\n",
       "      <td>No hay información</td>\n",
       "      <td>No hay información</td>\n",
       "      <td>No hay información</td>\n",
       "      <td>No hay información</td>\n",
       "      <td>ESP</td>\n",
       "    </tr>\n",
       "    <tr>\n",
       "      <th>170</th>\n",
       "      <td>211297</td>\n",
       "      <td>No hay información</td>\n",
       "      <td>2024-03-13T08:33:06.442897</td>\n",
       "      <td>No hay información</td>\n",
       "      <td>No hay información</td>\n",
       "      <td>No hay información</td>\n",
       "      <td>No hay información</td>\n",
       "      <td>No hay información</td>\n",
       "      <td>No hay información</td>\n",
       "      <td>No hay información</td>\n",
       "      <td>No hay información</td>\n",
       "      <td>No hay información</td>\n",
       "      <td>No hay información</td>\n",
       "      <td>No hay información</td>\n",
       "      <td>No hay información</td>\n",
       "      <td>No hay información</td>\n",
       "      <td>No hay información</td>\n",
       "      <td>No hay información</td>\n",
       "      <td>No hay información</td>\n",
       "      <td>ESP</td>\n",
       "    </tr>\n",
       "    <tr>\n",
       "      <th>836</th>\n",
       "      <td>10007383</td>\n",
       "      <td>No hay información</td>\n",
       "      <td>2024-03-13T09:17:49.703401</td>\n",
       "      <td>No hay información</td>\n",
       "      <td>No hay información</td>\n",
       "      <td>No hay información</td>\n",
       "      <td>No hay información</td>\n",
       "      <td>No hay información</td>\n",
       "      <td>No hay información</td>\n",
       "      <td>No hay información</td>\n",
       "      <td>No hay información</td>\n",
       "      <td>No hay información</td>\n",
       "      <td>No hay información</td>\n",
       "      <td>No hay información</td>\n",
       "      <td>No hay información</td>\n",
       "      <td>No hay información</td>\n",
       "      <td>No hay información</td>\n",
       "      <td>No hay información</td>\n",
       "      <td>No hay información</td>\n",
       "      <td>ESP</td>\n",
       "    </tr>\n",
       "    <tr>\n",
       "      <th>2060</th>\n",
       "      <td>10006630</td>\n",
       "      <td>No hay información</td>\n",
       "      <td>2024-03-13T10:34:42.065268</td>\n",
       "      <td>PS4, PS5</td>\n",
       "      <td>Aventura, Aventura</td>\n",
       "      <td>Penguin Pop Games LLC</td>\n",
       "      <td>30/1/2024</td>\n",
       "      <td>Inglés</td>\n",
       "      <td>No hay información</td>\n",
       "      <td>16 calificaciones</td>\n",
       "      <td>88 %</td>\n",
       "      <td>13 %</td>\n",
       "      <td>0 %</td>\n",
       "      <td>0 %</td>\n",
       "      <td>0 %</td>\n",
       "      <td>No hay información</td>\n",
       "      <td>No hay información</td>\n",
       "      <td>No hay información</td>\n",
       "      <td>No hay información</td>\n",
       "      <td>ESP</td>\n",
       "    </tr>\n",
       "    <tr>\n",
       "      <th>2867</th>\n",
       "      <td>200175</td>\n",
       "      <td>No hay información</td>\n",
       "      <td>2024-03-13T11:27:07.453548</td>\n",
       "      <td>No hay información</td>\n",
       "      <td>No hay información</td>\n",
       "      <td>No hay información</td>\n",
       "      <td>No hay información</td>\n",
       "      <td>No hay información</td>\n",
       "      <td>No hay información</td>\n",
       "      <td>No hay información</td>\n",
       "      <td>No hay información</td>\n",
       "      <td>No hay información</td>\n",
       "      <td>No hay información</td>\n",
       "      <td>No hay información</td>\n",
       "      <td>No hay información</td>\n",
       "      <td>No hay información</td>\n",
       "      <td>No hay información</td>\n",
       "      <td>No hay información</td>\n",
       "      <td>No hay información</td>\n",
       "      <td>ESP</td>\n",
       "    </tr>\n",
       "    <tr>\n",
       "      <th>3730</th>\n",
       "      <td>10002331</td>\n",
       "      <td>No hay información</td>\n",
       "      <td>2024-03-13T12:21:09.053038</td>\n",
       "      <td>No hay información</td>\n",
       "      <td>No hay información</td>\n",
       "      <td>No hay información</td>\n",
       "      <td>No hay información</td>\n",
       "      <td>No hay información</td>\n",
       "      <td>No hay información</td>\n",
       "      <td>No hay información</td>\n",
       "      <td>No hay información</td>\n",
       "      <td>No hay información</td>\n",
       "      <td>No hay información</td>\n",
       "      <td>No hay información</td>\n",
       "      <td>No hay información</td>\n",
       "      <td>No hay información</td>\n",
       "      <td>No hay información</td>\n",
       "      <td>No hay información</td>\n",
       "      <td>No hay información</td>\n",
       "      <td>ESP</td>\n",
       "    </tr>\n",
       "    <tr>\n",
       "      <th>7369</th>\n",
       "      <td>221778</td>\n",
       "      <td>No hay información</td>\n",
       "      <td>2024-03-13T16:52:16.453148</td>\n",
       "      <td>No hay información</td>\n",
       "      <td>No hay información</td>\n",
       "      <td>No hay información</td>\n",
       "      <td>No hay información</td>\n",
       "      <td>No hay información</td>\n",
       "      <td>No hay información</td>\n",
       "      <td>No hay información</td>\n",
       "      <td>No hay información</td>\n",
       "      <td>No hay información</td>\n",
       "      <td>No hay información</td>\n",
       "      <td>No hay información</td>\n",
       "      <td>No hay información</td>\n",
       "      <td>No hay información</td>\n",
       "      <td>No hay información</td>\n",
       "      <td>No hay información</td>\n",
       "      <td>No hay información</td>\n",
       "      <td>ESP</td>\n",
       "    </tr>\n",
       "  </tbody>\n",
       "</table>\n",
       "</div>"
      ],
      "text/plain": [
       "      id_juego              Titulo                  Día y hora  \\\n",
       "162   10003285  No hay información  2024-03-13T08:29:41.021352   \n",
       "165     233219  No hay información  2024-03-13T08:30:50.061587   \n",
       "167     201061  No hay información  2024-03-13T08:31:56.648891   \n",
       "170     211297  No hay información  2024-03-13T08:33:06.442897   \n",
       "836   10007383  No hay información  2024-03-13T09:17:49.703401   \n",
       "2060  10006630  No hay información  2024-03-13T10:34:42.065268   \n",
       "2867    200175  No hay información  2024-03-13T11:27:07.453548   \n",
       "3730  10002331  No hay información  2024-03-13T12:21:09.053038   \n",
       "7369    221778  No hay información  2024-03-13T16:52:16.453148   \n",
       "\n",
       "              Plataforma              Genero               Compañia  \\\n",
       "162   No hay información  No hay información     No hay información   \n",
       "165   No hay información  No hay información     No hay información   \n",
       "167   No hay información  No hay información     No hay información   \n",
       "170   No hay información  No hay información     No hay información   \n",
       "836   No hay información  No hay información     No hay información   \n",
       "2060            PS4, PS5  Aventura, Aventura  Penguin Pop Games LLC   \n",
       "2867  No hay información  No hay información     No hay información   \n",
       "3730  No hay información  No hay información     No hay información   \n",
       "7369  No hay información  No hay información     No hay información   \n",
       "\n",
       "             Lanzamiento             Idiomas    Calificación PSN  \\\n",
       "162   No hay información  No hay información  No hay información   \n",
       "165   No hay información  No hay información  No hay información   \n",
       "167   No hay información  No hay información  No hay información   \n",
       "170   No hay información  No hay información  No hay información   \n",
       "836   No hay información  No hay información  No hay información   \n",
       "2060           30/1/2024              Inglés  No hay información   \n",
       "2867  No hay información  No hay información  No hay información   \n",
       "3730  No hay información  No hay información  No hay información   \n",
       "7369  No hay información  No hay información  No hay información   \n",
       "\n",
       "     Número de calificaciones Calificación 5 estrellas  \\\n",
       "162        No hay información       No hay información   \n",
       "165        No hay información       No hay información   \n",
       "167        No hay información       No hay información   \n",
       "170        No hay información       No hay información   \n",
       "836        No hay información       No hay información   \n",
       "2060        16 calificaciones                     88 %   \n",
       "2867       No hay información       No hay información   \n",
       "3730       No hay información       No hay información   \n",
       "7369       No hay información       No hay información   \n",
       "\n",
       "     Calificación 4 estrellas Calificación 3 estrellas  \\\n",
       "162        No hay información       No hay información   \n",
       "165        No hay información       No hay información   \n",
       "167        No hay información       No hay información   \n",
       "170        No hay información       No hay información   \n",
       "836        No hay información       No hay información   \n",
       "2060                     13 %                      0 %   \n",
       "2867       No hay información       No hay información   \n",
       "3730       No hay información       No hay información   \n",
       "7369       No hay información       No hay información   \n",
       "\n",
       "     Calificación 2 estrellas Calificación 1 estrella Precio original sin PSN  \\\n",
       "162        No hay información      No hay información      No hay información   \n",
       "165        No hay información      No hay información      No hay información   \n",
       "167        No hay información      No hay información      No hay información   \n",
       "170        No hay información      No hay información      No hay información   \n",
       "836        No hay información      No hay información      No hay información   \n",
       "2060                      0 %                     0 %      No hay información   \n",
       "2867       No hay información      No hay información      No hay información   \n",
       "3730       No hay información      No hay información      No hay información   \n",
       "7369       No hay información      No hay información      No hay información   \n",
       "\n",
       "     Precio actual sin PSN Precio original con PSN Precio actual con PSN  \\\n",
       "162     No hay información      No hay información    No hay información   \n",
       "165     No hay información      No hay información    No hay información   \n",
       "167     No hay información      No hay información    No hay información   \n",
       "170     No hay información      No hay información    No hay información   \n",
       "836     No hay información      No hay información    No hay información   \n",
       "2060    No hay información      No hay información    No hay información   \n",
       "2867    No hay información      No hay información    No hay información   \n",
       "3730    No hay información      No hay información    No hay información   \n",
       "7369    No hay información      No hay información    No hay información   \n",
       "\n",
       "     País Store  \n",
       "162         ESP  \n",
       "165         ESP  \n",
       "167         ESP  \n",
       "170         ESP  \n",
       "836         ESP  \n",
       "2060        ESP  \n",
       "2867        ESP  \n",
       "3730        ESP  \n",
       "7369        ESP  "
      ]
     },
     "execution_count": 7,
     "metadata": {},
     "output_type": "execute_result"
    }
   ],
   "source": [
    "df_webscrap[df_webscrap[\"Titulo\"] == \"No hay información\"]"
   ]
  },
  {
   "cell_type": "markdown",
   "metadata": {},
   "source": [
    "Obtenemos una de las columnas que queremos cambiar"
   ]
  },
  {
   "cell_type": "code",
   "execution_count": 8,
   "metadata": {},
   "outputs": [
    {
     "data": {
      "text/html": [
       "<div>\n",
       "<style scoped>\n",
       "    .dataframe tbody tr th:only-of-type {\n",
       "        vertical-align: middle;\n",
       "    }\n",
       "\n",
       "    .dataframe tbody tr th {\n",
       "        vertical-align: top;\n",
       "    }\n",
       "\n",
       "    .dataframe thead th {\n",
       "        text-align: right;\n",
       "    }\n",
       "</style>\n",
       "<table border=\"1\" class=\"dataframe\">\n",
       "  <thead>\n",
       "    <tr style=\"text-align: right;\">\n",
       "      <th></th>\n",
       "      <th>Titulo</th>\n",
       "    </tr>\n",
       "  </thead>\n",
       "  <tbody>\n",
       "    <tr>\n",
       "      <th>4311</th>\n",
       "      <td>Demon Turf</td>\n",
       "    </tr>\n",
       "  </tbody>\n",
       "</table>\n",
       "</div>"
      ],
      "text/plain": [
       "          Titulo\n",
       "4311  Demon Turf"
      ]
     },
     "execution_count": 8,
     "metadata": {},
     "output_type": "execute_result"
    }
   ],
   "source": [
    "df_webscrap.loc[df_webscrap[\"id_juego\"] == 10002215,[\"Titulo\"]]"
   ]
  },
  {
   "cell_type": "markdown",
   "metadata": {},
   "source": [
    "Aplicamos una mascara al df anterior"
   ]
  },
  {
   "cell_type": "code",
   "execution_count": 9,
   "metadata": {},
   "outputs": [
    {
     "data": {
      "text/plain": [
       "'No hay información'"
      ]
     },
     "execution_count": 9,
     "metadata": {},
     "output_type": "execute_result"
    }
   ],
   "source": [
    "list(df_webscrap_anterior[\"Titulo\"][df_webscrap_anterior[\"id_juego\"] == 10002215])[0]"
   ]
  },
  {
   "cell_type": "markdown",
   "metadata": {},
   "source": [
    "Hacemos una lista de los juegos que tenemos errores"
   ]
  },
  {
   "cell_type": "code",
   "execution_count": 10,
   "metadata": {},
   "outputs": [],
   "source": [
    "lista_juegos_no_ok = list(df_webscrap[\"id_juego\"][df_webscrap[\"Titulo\"]==\"No hay información\"])"
   ]
  },
  {
   "cell_type": "code",
   "execution_count": 11,
   "metadata": {},
   "outputs": [
    {
     "data": {
      "text/plain": [
       "[10003285,\n",
       " 233219,\n",
       " 201061,\n",
       " 211297,\n",
       " 10007383,\n",
       " 10006630,\n",
       " 200175,\n",
       " 10002331,\n",
       " 221778]"
      ]
     },
     "execution_count": 11,
     "metadata": {},
     "output_type": "execute_result"
    }
   ],
   "source": [
    "lista_juegos_no_ok"
   ]
  },
  {
   "cell_type": "code",
   "execution_count": 12,
   "metadata": {},
   "outputs": [],
   "source": [
    "# df_webscrap.loc[df_webscrap[\"id_juego\"] == 10002215, [\"Titulo\"]] = list(df_webscrap_anterior[\"Titulo\"][df_webscrap_anterior[\"id_juego\"] == 10002215])[0]"
   ]
  },
  {
   "cell_type": "code",
   "execution_count": 13,
   "metadata": {},
   "outputs": [],
   "source": [
    "for i in lista_juegos_no_ok:\n",
    "    df_webscrap.loc[df_webscrap[\"id_juego\"] == i, [\"Titulo\"]] = list(df_webscrap_anterior[\"Titulo\"][df_webscrap_anterior[\"id_juego\"] == i])[0]\n",
    "    df_webscrap.loc[df_webscrap[\"id_juego\"] == i, [\"Plataforma\"]] = list(df_webscrap_anterior[\"Plataforma\"][df_webscrap_anterior[\"id_juego\"] == i])[0]\n",
    "    df_webscrap.loc[df_webscrap[\"id_juego\"] == i, [\"Genero\"]] = list(df_webscrap_anterior[\"Genero\"][df_webscrap_anterior[\"id_juego\"] == i])[0]\n",
    "    df_webscrap.loc[df_webscrap[\"id_juego\"] == i, [\"Compañia\"]] = list(df_webscrap_anterior[\"Compañia\"][df_webscrap_anterior[\"id_juego\"] == i])[0]\n",
    "    df_webscrap.loc[df_webscrap[\"id_juego\"] == i, [\"Lanzamiento\"]] = list(df_webscrap_anterior[\"Lanzamiento\"][df_webscrap_anterior[\"id_juego\"] == i])[0]\n",
    "    df_webscrap.loc[df_webscrap[\"id_juego\"] == i, [\"Idiomas\"]] = list(df_webscrap_anterior[\"Idiomas\"][df_webscrap_anterior[\"id_juego\"] == i])[0]\n",
    "    df_webscrap.loc[df_webscrap[\"id_juego\"] == i, [\"Calificación PSN\"]] = list(df_webscrap_anterior[\"Calificación PSN\"][df_webscrap_anterior[\"id_juego\"] == i])[0]\n",
    "    df_webscrap.loc[df_webscrap[\"id_juego\"] == i, [\"Número de calificaciones\"]] = list(df_webscrap_anterior[\"Número de calificaciones\"][df_webscrap_anterior[\"id_juego\"] == i])[0]\n",
    "    df_webscrap.loc[df_webscrap[\"id_juego\"] == i, [\"Calificación 5 estrellas\"]] = list(df_webscrap_anterior[\"Calificación 5 estrellas\"][df_webscrap_anterior[\"id_juego\"] == i])[0]\n",
    "    df_webscrap.loc[df_webscrap[\"id_juego\"] == i, [\"Calificación 4 estrellas\"]] = list(df_webscrap_anterior[\"Calificación 4 estrellas\"][df_webscrap_anterior[\"id_juego\"] == i])[0]\n",
    "    df_webscrap.loc[df_webscrap[\"id_juego\"] == i, [\"Calificación 3 estrellas\"]] = list(df_webscrap_anterior[\"Calificación 3 estrellas\"][df_webscrap_anterior[\"id_juego\"] == i])[0]\n",
    "    df_webscrap.loc[df_webscrap[\"id_juego\"] == i, [\"Calificación 2 estrellas\"]] = list(df_webscrap_anterior[\"Calificación 2 estrellas\"][df_webscrap_anterior[\"id_juego\"] == i])[0]\n",
    "    df_webscrap.loc[df_webscrap[\"id_juego\"] == i, [\"Calificación 1 estrella\"]] = list(df_webscrap_anterior[\"Calificación 1 estrella\"][df_webscrap_anterior[\"id_juego\"] == i])[0]\n",
    "    df_webscrap.loc[df_webscrap[\"id_juego\"] == i, [\"Precio original sin PSN\"]] = list(df_webscrap_anterior[\"Precio original sin PSN\"][df_webscrap_anterior[\"id_juego\"] == i])[0]\n",
    "    df_webscrap.loc[df_webscrap[\"id_juego\"] == i, [\"Precio actual sin PSN\"]] = list(df_webscrap_anterior[\"Precio actual sin PSN\"][df_webscrap_anterior[\"id_juego\"] == i])[0]\n",
    "    df_webscrap.loc[df_webscrap[\"id_juego\"] == i, [\"Precio original con PSN\"]] = list(df_webscrap_anterior[\"Precio original con PSN\"][df_webscrap_anterior[\"id_juego\"] == i])[0]\n",
    "    df_webscrap.loc[df_webscrap[\"id_juego\"] == i, [\"Precio actual con PSN\"]] = list(df_webscrap_anterior[\"Precio actual con PSN\"][df_webscrap_anterior[\"id_juego\"] == i])[0]\n",
    "    # df_webscrap.loc[df_webscrap[\"id_juego\"] == i, \"País Store\"] = df_webscrap_anterior[\"País Store\"][df_webscrap_anterior[\"id_juego\"] == i]\n",
    "   "
   ]
  },
  {
   "cell_type": "code",
   "execution_count": 14,
   "metadata": {},
   "outputs": [
    {
     "data": {
      "text/plain": [
       "Index(['id_juego', 'Titulo', 'Día y hora', 'Plataforma', 'Genero', 'Compañia',\n",
       "       'Lanzamiento', 'Idiomas', 'Calificación PSN',\n",
       "       'Número de calificaciones', 'Calificación 5 estrellas',\n",
       "       'Calificación 4 estrellas', 'Calificación 3 estrellas',\n",
       "       'Calificación 2 estrellas', 'Calificación 1 estrella',\n",
       "       'Precio original sin PSN', 'Precio actual sin PSN',\n",
       "       'Precio original con PSN', 'Precio actual con PSN', 'País Store'],\n",
       "      dtype='object')"
      ]
     },
     "execution_count": 14,
     "metadata": {},
     "output_type": "execute_result"
    }
   ],
   "source": [
    "df_webscrap.columns"
   ]
  },
  {
   "cell_type": "code",
   "execution_count": 15,
   "metadata": {},
   "outputs": [
    {
     "data": {
      "text/html": [
       "<div>\n",
       "<style scoped>\n",
       "    .dataframe tbody tr th:only-of-type {\n",
       "        vertical-align: middle;\n",
       "    }\n",
       "\n",
       "    .dataframe tbody tr th {\n",
       "        vertical-align: top;\n",
       "    }\n",
       "\n",
       "    .dataframe thead th {\n",
       "        text-align: right;\n",
       "    }\n",
       "</style>\n",
       "<table border=\"1\" class=\"dataframe\">\n",
       "  <thead>\n",
       "    <tr style=\"text-align: right;\">\n",
       "      <th></th>\n",
       "      <th>id_juego</th>\n",
       "      <th>Titulo</th>\n",
       "      <th>Día y hora</th>\n",
       "      <th>Plataforma</th>\n",
       "      <th>Genero</th>\n",
       "      <th>Compañia</th>\n",
       "      <th>Lanzamiento</th>\n",
       "      <th>Idiomas</th>\n",
       "      <th>Calificación PSN</th>\n",
       "      <th>Número de calificaciones</th>\n",
       "      <th>Calificación 5 estrellas</th>\n",
       "      <th>Calificación 4 estrellas</th>\n",
       "      <th>Calificación 3 estrellas</th>\n",
       "      <th>Calificación 2 estrellas</th>\n",
       "      <th>Calificación 1 estrella</th>\n",
       "      <th>Precio original sin PSN</th>\n",
       "      <th>Precio actual sin PSN</th>\n",
       "      <th>Precio original con PSN</th>\n",
       "      <th>Precio actual con PSN</th>\n",
       "      <th>País Store</th>\n",
       "    </tr>\n",
       "  </thead>\n",
       "  <tbody>\n",
       "  </tbody>\n",
       "</table>\n",
       "</div>"
      ],
      "text/plain": [
       "Empty DataFrame\n",
       "Columns: [id_juego, Titulo, Día y hora, Plataforma, Genero, Compañia, Lanzamiento, Idiomas, Calificación PSN, Número de calificaciones, Calificación 5 estrellas, Calificación 4 estrellas, Calificación 3 estrellas, Calificación 2 estrellas, Calificación 1 estrella, Precio original sin PSN, Precio actual sin PSN, Precio original con PSN, Precio actual con PSN, País Store]\n",
       "Index: []"
      ]
     },
     "execution_count": 15,
     "metadata": {},
     "output_type": "execute_result"
    }
   ],
   "source": [
    "df_webscrap[df_webscrap[\"Titulo\"] == \"No hay información\"]"
   ]
  },
  {
   "cell_type": "markdown",
   "metadata": {},
   "source": [
    "Conseguimos que los valores que se perdieron por el camino por tiempos de espera, los rellenamos con los que no están"
   ]
  },
  {
   "cell_type": "markdown",
   "metadata": {},
   "source": [
    "---"
   ]
  },
  {
   "cell_type": "markdown",
   "metadata": {},
   "source": [
    "### Género"
   ]
  },
  {
   "cell_type": "code",
   "execution_count": 16,
   "metadata": {},
   "outputs": [
    {
     "name": "stdout",
     "output_type": "stream",
     "text": [
      "['Deporte' 'Acción' 'Aventura' 'Juegos de rol' 'Conducción/Carreras'\n",
      " 'Lucha' 'Simulación' 'Juegos de disparos' 'Terror' 'Únicos' 'Casual'\n",
      " 'Simulador' 'Arcade' 'Estrategia' 'Familia' 'Grupo' 'Música/Ritmo'\n",
      " 'Puzzle' 'Educativos' 'Fitness' 'Agilidad mental'\n",
      " 'Preguntas y respuestas' 'Adulto' 'No hay información']\n"
     ]
    }
   ],
   "source": [
    "print(df_webscrap['Genero'].str.split(',').explode().str.strip().unique())\n"
   ]
  },
  {
   "cell_type": "code",
   "execution_count": 17,
   "metadata": {},
   "outputs": [],
   "source": [
    "# # Genero\n",
    "# df_webscrap[\"Genero\"] = df_webscrap[\"Genero\"].str.replace(\" \",\"\")\n",
    "# df_webscrap[\"Genero\"] = df_webscrap[\"Genero\"].str.replace(\"Juegosderol\",\"Rol\").str.replace(\"Juegosdedisparos\",\"Shooter\").str.replace(\"Juegosdedisparos\",\"Shooter\")\n",
    "# # df_webscrap[\"Genero\"] = df_webscrap[\"Genero\"].str.split(r'[^A-zÀ-ÿ_ ]')\n",
    "# df_webscrap[\"Genero\"] = df_webscrap[\"Genero\"].str.replace(\"Conducción/Carreras\",\"Carreras\")\n",
    "# df_webscrap[\"Genero\"] = df_webscrap[\"Genero\"].str.replace(\"Shooter,Shooter\", \"Shooter\")"
   ]
  },
  {
   "cell_type": "code",
   "execution_count": 18,
   "metadata": {},
   "outputs": [],
   "source": [
    "df_webscrap[\"Genero\"] = df_webscrap[\"Genero\"].apply(lambda x: x.split(','))\n",
    "df_webscrap[\"Genero\"] = df_webscrap[\"Genero\"].apply(lambda x: list(set(x)))\n",
    "df_webscrap[\"Genero\"] = df_webscrap[\"Genero\"].apply(lambda x: ','.join(x))"
   ]
  },
  {
   "cell_type": "markdown",
   "metadata": {},
   "source": [
    "### Dia y hora"
   ]
  },
  {
   "cell_type": "code",
   "execution_count": 19,
   "metadata": {},
   "outputs": [
    {
     "data": {
      "text/plain": [
       "dtype('O')"
      ]
     },
     "execution_count": 19,
     "metadata": {},
     "output_type": "execute_result"
    }
   ],
   "source": [
    "df_webscrap[\"Día y hora\"].dtype"
   ]
  },
  {
   "cell_type": "code",
   "execution_count": 20,
   "metadata": {},
   "outputs": [],
   "source": [
    "df_webscrap[\"Día y hora\"] = pd.to_datetime(df_webscrap[\"Día y hora\"])"
   ]
  },
  {
   "cell_type": "code",
   "execution_count": 21,
   "metadata": {},
   "outputs": [
    {
     "data": {
      "text/plain": [
       "dtype('<M8[ns]')"
      ]
     },
     "execution_count": 21,
     "metadata": {},
     "output_type": "execute_result"
    }
   ],
   "source": [
    "df_webscrap[\"Día y hora\"].dtype"
   ]
  },
  {
   "cell_type": "markdown",
   "metadata": {},
   "source": [
    "Dia y hora listo"
   ]
  },
  {
   "cell_type": "markdown",
   "metadata": {},
   "source": [
    "---"
   ]
  },
  {
   "cell_type": "markdown",
   "metadata": {},
   "source": [
    "### Calificación PSN"
   ]
  },
  {
   "cell_type": "markdown",
   "metadata": {},
   "source": [
    "Sin datos  Calificación == 0"
   ]
  },
  {
   "cell_type": "code",
   "execution_count": 22,
   "metadata": {},
   "outputs": [],
   "source": [
    "#Calificación del juego\n",
    "df_webscrap[\"Calificación PSN\"] = df_webscrap[\"Calificación PSN\"].str.replace(\"No hay información\",\"0.00\")\n",
    "df_webscrap[\"Calificación PSN\"] = df_webscrap[\"Calificación PSN\"].astype(float)"
   ]
  },
  {
   "cell_type": "code",
   "execution_count": 23,
   "metadata": {},
   "outputs": [
    {
     "data": {
      "text/plain": [
       "array([3.42, 4.32, 4.47, 4.04, 4.68, 3.17, 4.52, 4.8 , 0.  , 4.37, 3.  ,\n",
       "       3.75, 2.79, 4.72, 4.58, 4.35, 4.87, 4.28, 3.99, 4.25, 3.98, 4.82,\n",
       "       4.42, 4.84, 4.85, 4.3 , 4.13, 4.18, 3.84, 4.65, 4.16, 4.43, 4.19,\n",
       "       4.7 , 4.44, 3.13, 4.92, 4.09, 4.05, 4.54, 4.62, 4.29, 3.66, 3.83,\n",
       "       4.34, 4.64, 4.24, 4.41, 4.51, 4.74, 4.4 , 4.5 , 4.12, 4.33, 4.1 ,\n",
       "       4.45, 4.38, 4.69, 4.55, 4.15, 3.72, 3.89, 4.63, 4.76, 4.56, 3.58,\n",
       "       4.71, 4.78, 3.88, 2.94, 4.26, 4.81, 4.86, 3.59, 4.73, 4.23, 3.97,\n",
       "       3.67, 4.59, 4.31, 4.49, 4.17, 4.02, 3.63, 4.  , 4.66, 4.61, 2.8 ,\n",
       "       3.87, 4.06, 4.46, 4.39, 4.03, 4.57, 3.56, 3.78, 4.77, 4.79, 4.11,\n",
       "       3.77, 3.64, 4.53, 3.27, 4.01, 3.8 , 4.21, 4.91, 4.75, 3.6 , 3.74,\n",
       "       3.62, 2.84, 3.29, 4.2 , 3.81, 3.95, 4.14, 3.93, 3.03, 3.39, 4.67,\n",
       "       4.08, 2.88, 4.27, 4.36, 2.95, 4.6 , 2.54, 3.79, 4.22, 3.92, 2.56,\n",
       "       3.25, 3.18, 1.83, 4.07, 2.3 , 3.5 , 3.7 , 3.55, 2.57, 3.01, 2.31,\n",
       "       3.61, 2.53, 2.91, 2.65, 3.28, 3.73, 3.68, 3.57, 3.82, 3.45, 3.12,\n",
       "       1.9 , 4.83, 4.48, 2.18, 3.9 , 3.34, 3.85, 3.46, 3.2 , 2.14, 2.72,\n",
       "       3.53, 3.86, 2.68, 3.22, 2.62, 3.76, 3.41, 3.94, 3.36, 3.51, 2.86,\n",
       "       3.43, 3.35, 4.96, 2.89, 2.21, 3.11, 3.09, 2.97, 3.96, 3.3 , 2.46,\n",
       "       2.9 , 3.32, 2.05, 3.44, 3.54, 3.69, 3.52, 5.  , 2.24, 3.05, 2.93,\n",
       "       2.74, 2.25, 3.47, 2.27, 3.1 , 3.24, 1.57, 2.39, 3.91, 3.33, 2.66,\n",
       "       2.59, 3.31, 2.85, 4.88, 2.02, 2.49, 3.71, 2.63, 4.93, 3.4 , 2.  ,\n",
       "       1.59, 2.99, 3.08, 1.42, 3.49, 3.38, 3.26, 2.6 , 2.73, 2.96, 2.76,\n",
       "       2.47, 3.48, 2.98, 3.37, 2.11, 1.73, 1.95, 1.94, 2.17, 3.21, 3.65,\n",
       "       4.89, 2.83, 2.82, 2.06, 2.81, 2.77, 3.19, 1.5 , 2.44, 2.08, 2.52,\n",
       "       3.14, 1.52, 3.15, 1.78, 4.9 , 4.94, 2.55, 2.64, 2.19, 1.82, 2.43,\n",
       "       1.89, 2.35, 4.95, 3.16, 2.71, 3.07, 3.04, 2.09, 1.86, 2.41, 2.87,\n",
       "       2.61, 2.22, 3.02, 2.69, 2.34, 3.23, 2.51, 1.33, 2.75, 2.5 , 1.92,\n",
       "       2.67, 1.  , 1.8 , 1.79, 2.29, 2.45, 2.58, 1.67, 1.93, 1.66, 2.33,\n",
       "       2.92, 2.2 , 1.55, 2.4 , 2.07, 1.91, 2.04, 1.64, 2.15, 2.36, 1.69,\n",
       "       2.16, 1.53, 2.38, 1.47, 3.06, 2.13, 2.28, 2.7 , 2.78, 2.26, 2.42,\n",
       "       2.03, 4.97, 1.76, 2.23, 1.72, 1.68, 2.48, 1.2 , 2.1 , 1.31, 1.43,\n",
       "       1.44])"
      ]
     },
     "execution_count": 23,
     "metadata": {},
     "output_type": "execute_result"
    }
   ],
   "source": [
    "df_webscrap[\"Calificación PSN\"].unique()"
   ]
  },
  {
   "cell_type": "code",
   "execution_count": 24,
   "metadata": {},
   "outputs": [
    {
     "data": {
      "text/plain": [
       "dtype('float64')"
      ]
     },
     "execution_count": 24,
     "metadata": {},
     "output_type": "execute_result"
    }
   ],
   "source": [
    "df_webscrap[\"Calificación PSN\"].dtype"
   ]
  },
  {
   "cell_type": "markdown",
   "metadata": {},
   "source": [
    "La calificación del juego esta limpia"
   ]
  },
  {
   "cell_type": "markdown",
   "metadata": {},
   "source": [
    "---"
   ]
  },
  {
   "cell_type": "markdown",
   "metadata": {},
   "source": [
    "Primer check"
   ]
  },
  {
   "cell_type": "code",
   "execution_count": 25,
   "metadata": {},
   "outputs": [
    {
     "name": "stdout",
     "output_type": "stream",
     "text": [
      "<class 'pandas.core.frame.DataFrame'>\n",
      "RangeIndex: 8588 entries, 0 to 8587\n",
      "Data columns (total 20 columns):\n",
      " #   Column                    Non-Null Count  Dtype         \n",
      "---  ------                    --------------  -----         \n",
      " 0   id_juego                  8588 non-null   int64         \n",
      " 1   Titulo                    8588 non-null   object        \n",
      " 2   Día y hora                8588 non-null   datetime64[ns]\n",
      " 3   Plataforma                8588 non-null   object        \n",
      " 4   Genero                    8588 non-null   object        \n",
      " 5   Compañia                  8588 non-null   object        \n",
      " 6   Lanzamiento               8588 non-null   object        \n",
      " 7   Idiomas                   8588 non-null   object        \n",
      " 8   Calificación PSN          8588 non-null   float64       \n",
      " 9   Número de calificaciones  8588 non-null   object        \n",
      " 10  Calificación 5 estrellas  8588 non-null   object        \n",
      " 11  Calificación 4 estrellas  8588 non-null   object        \n",
      " 12  Calificación 3 estrellas  8588 non-null   object        \n",
      " 13  Calificación 2 estrellas  8588 non-null   object        \n",
      " 14  Calificación 1 estrella   8588 non-null   object        \n",
      " 15  Precio original sin PSN   8588 non-null   object        \n",
      " 16  Precio actual sin PSN     8588 non-null   object        \n",
      " 17  Precio original con PSN   8588 non-null   object        \n",
      " 18  Precio actual con PSN     8588 non-null   object        \n",
      " 19  País Store                8588 non-null   object        \n",
      "dtypes: datetime64[ns](1), float64(1), int64(1), object(17)\n",
      "memory usage: 1.3+ MB\n"
     ]
    }
   ],
   "source": [
    "df_webscrap.info()"
   ]
  },
  {
   "cell_type": "markdown",
   "metadata": {},
   "source": [
    "---"
   ]
  },
  {
   "cell_type": "markdown",
   "metadata": {},
   "source": [
    "### Plataforma"
   ]
  },
  {
   "cell_type": "code",
   "execution_count": 26,
   "metadata": {},
   "outputs": [
    {
     "data": {
      "text/plain": [
       "array(['PS4, PS5', 'PS5', 'PS4', 'No hay información'], dtype=object)"
      ]
     },
     "execution_count": 26,
     "metadata": {},
     "output_type": "execute_result"
    }
   ],
   "source": [
    "df_webscrap[\"Plataforma\"].unique()"
   ]
  },
  {
   "cell_type": "markdown",
   "metadata": {},
   "source": [
    "La plataforma no la tocamos ya que las posibilidades son las que son"
   ]
  },
  {
   "cell_type": "markdown",
   "metadata": {},
   "source": [
    "---"
   ]
  },
  {
   "cell_type": "markdown",
   "metadata": {},
   "source": [
    "### Compañia"
   ]
  },
  {
   "cell_type": "code",
   "execution_count": 27,
   "metadata": {},
   "outputs": [
    {
     "name": "stdout",
     "output_type": "stream",
     "text": [
      "1622\n",
      "1622\n"
     ]
    }
   ],
   "source": [
    "print(len(df_webscrap[\"Compañia\"].unique()))\n",
    "print(df_webscrap[\"Compañia\"].nunique()) # Comprobamos que no tenemos valores nulos"
   ]
  },
  {
   "cell_type": "markdown",
   "metadata": {},
   "source": [
    "En principio vamos a dejar todas las compañias tal cual."
   ]
  },
  {
   "cell_type": "markdown",
   "metadata": {},
   "source": [
    "---"
   ]
  },
  {
   "cell_type": "markdown",
   "metadata": {},
   "source": [
    "### Lanzamiento"
   ]
  },
  {
   "cell_type": "code",
   "execution_count": 28,
   "metadata": {},
   "outputs": [
    {
     "name": "stdout",
     "output_type": "stream",
     "text": [
      "3/2024\n",
      "2024\n"
     ]
    }
   ],
   "source": [
    "for i in df_webscrap[\"Lanzamiento\"].unique():\n",
    "    if len(i) <=7:\n",
    "        print(i)\n"
   ]
  },
  {
   "cell_type": "code",
   "execution_count": 29,
   "metadata": {},
   "outputs": [],
   "source": [
    "df_webscrap[\"Lanzamiento\"] = df_webscrap[\"Lanzamiento\"].str.replace(r\"^(.{1,6})$\", \"01/01/2024\",regex=True)"
   ]
  },
  {
   "cell_type": "code",
   "execution_count": 30,
   "metadata": {},
   "outputs": [],
   "source": [
    "#Fecha de lanzamiento\n",
    "\n",
    "df_webscrap[\"Lanzamiento\"] = df_webscrap[\"Lanzamiento\"].str.replace(\"No hay información\", \"01/01/2000\")\n",
    "df_webscrap[\"Lanzamiento\"] = pd.to_datetime(df_webscrap[\"Lanzamiento\"], dayfirst=True)"
   ]
  },
  {
   "cell_type": "code",
   "execution_count": 31,
   "metadata": {},
   "outputs": [
    {
     "name": "stdout",
     "output_type": "stream",
     "text": [
      "datetime64[ns]\n"
     ]
    },
    {
     "data": {
      "text/plain": [
       "0   2023-09-28\n",
       "1   2017-07-21\n",
       "2   2024-02-08\n",
       "3   2023-11-02\n",
       "4   2024-03-07\n",
       "Name: Lanzamiento, dtype: datetime64[ns]"
      ]
     },
     "execution_count": 31,
     "metadata": {},
     "output_type": "execute_result"
    }
   ],
   "source": [
    "print(df_webscrap[\"Lanzamiento\"].dtype)\n",
    "df_webscrap[\"Lanzamiento\"].head(5)"
   ]
  },
  {
   "cell_type": "markdown",
   "metadata": {},
   "source": [
    "Fecha de lanzamiento esta ok"
   ]
  },
  {
   "cell_type": "markdown",
   "metadata": {},
   "source": [
    "---"
   ]
  },
  {
   "cell_type": "markdown",
   "metadata": {},
   "source": [
    "### Idiomas"
   ]
  },
  {
   "cell_type": "code",
   "execution_count": 32,
   "metadata": {},
   "outputs": [],
   "source": [
    "df_webscrap[\"Idiomas\"] = df_webscrap[\"Idiomas\"].apply(lambda x: x.split(','))\n",
    "df_webscrap[\"Idiomas\"] = df_webscrap[\"Idiomas\"].apply(lambda x: list(set(x)))\n",
    "df_webscrap[\"Idiomas\"] = df_webscrap[\"Idiomas\"].apply(lambda x: ','.join(x))"
   ]
  },
  {
   "cell_type": "code",
   "execution_count": 33,
   "metadata": {},
   "outputs": [
    {
     "data": {
      "text/plain": [
       "0                                      No hay información\n",
       "1        Coreano, Portugués (Brasil), Español (México)...\n",
       "2        Italiano, Francés (Francia), Inglés, Español,...\n",
       "3        Italiano, Francés (Francia), Inglés, Español,...\n",
       "4        Italiano, Francés (Francia), Inglés, Español,...\n",
       "                              ...                        \n",
       "8583                                               Inglés\n",
       "8584     Italiano, Checo, Francés (Francia), Inglés, E...\n",
       "8585                                       Japonés,Inglés\n",
       "8586                                   No hay información\n",
       "8587                            Inglés,Alemán, Neerlandés\n",
       "Name: Idiomas, Length: 8588, dtype: object"
      ]
     },
     "execution_count": 33,
     "metadata": {},
     "output_type": "execute_result"
    }
   ],
   "source": [
    "df_webscrap[\"Idiomas\"]"
   ]
  },
  {
   "cell_type": "markdown",
   "metadata": {},
   "source": [
    "Idiomas ok, seguimos con la limpieza"
   ]
  },
  {
   "cell_type": "markdown",
   "metadata": {},
   "source": [
    "---"
   ]
  },
  {
   "cell_type": "code",
   "execution_count": 34,
   "metadata": {},
   "outputs": [
    {
     "name": "stdout",
     "output_type": "stream",
     "text": [
      "<class 'pandas.core.frame.DataFrame'>\n",
      "RangeIndex: 8588 entries, 0 to 8587\n",
      "Data columns (total 20 columns):\n",
      " #   Column                    Non-Null Count  Dtype         \n",
      "---  ------                    --------------  -----         \n",
      " 0   id_juego                  8588 non-null   int64         \n",
      " 1   Titulo                    8588 non-null   object        \n",
      " 2   Día y hora                8588 non-null   datetime64[ns]\n",
      " 3   Plataforma                8588 non-null   object        \n",
      " 4   Genero                    8588 non-null   object        \n",
      " 5   Compañia                  8588 non-null   object        \n",
      " 6   Lanzamiento               8588 non-null   datetime64[ns]\n",
      " 7   Idiomas                   8588 non-null   object        \n",
      " 8   Calificación PSN          8588 non-null   float64       \n",
      " 9   Número de calificaciones  8588 non-null   object        \n",
      " 10  Calificación 5 estrellas  8588 non-null   object        \n",
      " 11  Calificación 4 estrellas  8588 non-null   object        \n",
      " 12  Calificación 3 estrellas  8588 non-null   object        \n",
      " 13  Calificación 2 estrellas  8588 non-null   object        \n",
      " 14  Calificación 1 estrella   8588 non-null   object        \n",
      " 15  Precio original sin PSN   8588 non-null   object        \n",
      " 16  Precio actual sin PSN     8588 non-null   object        \n",
      " 17  Precio original con PSN   8588 non-null   object        \n",
      " 18  Precio actual con PSN     8588 non-null   object        \n",
      " 19  País Store                8588 non-null   object        \n",
      "dtypes: datetime64[ns](2), float64(1), int64(1), object(16)\n",
      "memory usage: 1.3+ MB\n"
     ]
    }
   ],
   "source": [
    "df_webscrap.info()"
   ]
  },
  {
   "cell_type": "markdown",
   "metadata": {},
   "source": [
    "### Número de calificaciones"
   ]
  },
  {
   "cell_type": "code",
   "execution_count": 35,
   "metadata": {},
   "outputs": [],
   "source": [
    "df_webscrap[\"Número de calificaciones\"] = df_webscrap[\"Número de calificaciones\"].str.replace(\"No hay información\", \"0 calificaciones\").str.replace(\"Sin calificaciones\", \"0 calificaciones\")"
   ]
  },
  {
   "cell_type": "code",
   "execution_count": 36,
   "metadata": {},
   "outputs": [
    {
     "data": {
      "text/plain": [
       "2404"
      ]
     },
     "execution_count": 36,
     "metadata": {},
     "output_type": "execute_result"
    }
   ],
   "source": [
    "len(df_webscrap[\"Número de calificaciones\"].unique())"
   ]
  },
  {
   "cell_type": "code",
   "execution_count": 37,
   "metadata": {},
   "outputs": [
    {
     "data": {
      "text/plain": [
       "2404"
      ]
     },
     "execution_count": 37,
     "metadata": {},
     "output_type": "execute_result"
    }
   ],
   "source": [
    "df_webscrap[\"Número de calificaciones\"].nunique()"
   ]
  },
  {
   "cell_type": "code",
   "execution_count": 38,
   "metadata": {},
   "outputs": [],
   "source": [
    "df_webscrap[\"Número de calificaciones\"] = df_webscrap[\"Número de calificaciones\"].str.extract('(\\d+)')"
   ]
  },
  {
   "cell_type": "code",
   "execution_count": 39,
   "metadata": {},
   "outputs": [
    {
     "data": {
      "text/plain": [
       "0         56330\n",
       "1       6712269\n",
       "2         42430\n",
       "3        292252\n",
       "4          1386\n",
       "         ...   \n",
       "8583        278\n",
       "8584          7\n",
       "8585         39\n",
       "8586          0\n",
       "8587          0\n",
       "Name: Número de calificaciones, Length: 8588, dtype: object"
      ]
     },
     "execution_count": 39,
     "metadata": {},
     "output_type": "execute_result"
    }
   ],
   "source": [
    "df_webscrap[\"Número de calificaciones\"]"
   ]
  },
  {
   "cell_type": "code",
   "execution_count": 40,
   "metadata": {},
   "outputs": [],
   "source": [
    "df_webscrap[\"Número de calificaciones\"]  = df_webscrap[\"Número de calificaciones\"].astype(int)"
   ]
  },
  {
   "cell_type": "code",
   "execution_count": 41,
   "metadata": {},
   "outputs": [
    {
     "data": {
      "text/plain": [
       "dtype('int32')"
      ]
     },
     "execution_count": 41,
     "metadata": {},
     "output_type": "execute_result"
    }
   ],
   "source": [
    "df_webscrap[\"Número de calificaciones\"].dtype"
   ]
  },
  {
   "cell_type": "markdown",
   "metadata": {},
   "source": [
    "Estaría bien añadir replace para todo tipo de caracter por 0"
   ]
  },
  {
   "cell_type": "markdown",
   "metadata": {},
   "source": [
    "Por ahora todo ok, seguimos"
   ]
  },
  {
   "cell_type": "markdown",
   "metadata": {},
   "source": [
    "---"
   ]
  },
  {
   "cell_type": "markdown",
   "metadata": {},
   "source": [
    "### Todas las calificaciones"
   ]
  },
  {
   "cell_type": "code",
   "execution_count": 42,
   "metadata": {},
   "outputs": [
    {
     "data": {
      "text/plain": [
       "array(['45 %', '71 %', '80 %', '62 %', '85 %', '36 %', '79 %', '92 %',\n",
       "       'No hay información', '30 %', '53 %', '24 %', '89 %', '93 %',\n",
       "       '70 %', '72 %', '50 %', '69 %', '60 %', '76 %', '66 %', '65 %',\n",
       "       '86 %', '84 %', '67 %', '88 %', '37 %', '73 %', '96 %', '68 %',\n",
       "       '77 %', '58 %', '59 %', '82 %', '74 %', '64 %', '61 %', '87 %',\n",
       "       '83 %', '54 %', '57 %', '81 %', '94 %', '26 %', '78 %', '63 %',\n",
       "       '51 %', '52 %', '29 %', '55 %', '75 %', '46 %', '44 %', '42 %',\n",
       "       '47 %', '56 %', '25 %', '41 %', '90 %', '33 %', '91 %', '27 %',\n",
       "       '32 %', '39 %', '15 %', '49 %', '23 %', '20 %', '38 %', '22 %',\n",
       "       '48 %', '28 %', '21 %', '12 %', '13 %', '43 %', '34 %', '40 %',\n",
       "       '35 %', '98 %', '17 %', '14 %', '100 %', '31 %', '18 %', '9 %',\n",
       "       '10 %', '11 %', '0 %', '16 %', '97 %', '8 %', '19 %', '95 %',\n",
       "       '6 %', '5 %', '7 %', '4 %'], dtype=object)"
      ]
     },
     "execution_count": 42,
     "metadata": {},
     "output_type": "execute_result"
    }
   ],
   "source": [
    "df_webscrap[\"Calificación 5 estrellas\"].unique()"
   ]
  },
  {
   "cell_type": "code",
   "execution_count": 43,
   "metadata": {},
   "outputs": [],
   "source": [
    "\n",
    "#  Calificación 5 estrellas convertido a float\n",
    "df_webscrap[\"Calificación 5 estrellas\"] = df_webscrap[\"Calificación 5 estrellas\"].str.replace(\" %\",'').str.replace(\".\",\"\")\n",
    "df_webscrap[\"Calificación 5 estrellas\"] = df_webscrap[\"Calificación 5 estrellas\"].str.replace(\"No hay información\", \"0\").astype(int)\n",
    "#  Calificación 4 estrellas convertido a float\n",
    "df_webscrap[\"Calificación 4 estrellas\"] = df_webscrap[\"Calificación 4 estrellas\"].str.replace(\" %\",'').str.replace(\".\",\"\")\n",
    "df_webscrap[\"Calificación 4 estrellas\"] = df_webscrap[\"Calificación 4 estrellas\"].str.replace(\"No hay información\", \"0\").astype(int)\n",
    "#  Calificación 3 estrellas convertido a float\n",
    "df_webscrap[\"Calificación 3 estrellas\"] = df_webscrap[\"Calificación 3 estrellas\"].str.replace(\" %\",'').str.replace(\".\",\"\")\n",
    "df_webscrap[\"Calificación 3 estrellas\"] = df_webscrap[\"Calificación 3 estrellas\"].str.replace(\"No hay información\", \"0\").astype(int)\n",
    "\n",
    "#  Calificación 2 estrellas convertido a float\n",
    "df_webscrap[\"Calificación 2 estrellas\"] = df_webscrap[\"Calificación 2 estrellas\"].str.replace(\" %\",'').str.replace(\".\",\"\")\n",
    "df_webscrap[\"Calificación 2 estrellas\"] = df_webscrap[\"Calificación 2 estrellas\"].str.replace(\"No hay información\", \"0\").astype(int)\n",
    "#  Calificación 1 estrella convertido a float\n",
    "df_webscrap[\"Calificación 1 estrella\"] = df_webscrap[\"Calificación 1 estrella\"].str.replace(\" %\",'').str.replace(\".\",\"\")\n",
    "df_webscrap[\"Calificación 1 estrella\"] = df_webscrap[\"Calificación 1 estrella\"].str.replace(\"No hay información\", \"0\").astype(int)\n"
   ]
  },
  {
   "cell_type": "markdown",
   "metadata": {},
   "source": [
    "Cambiamos en vez de porcentaje a numero de votos"
   ]
  },
  {
   "cell_type": "code",
   "execution_count": 44,
   "metadata": {},
   "outputs": [
    {
     "data": {
      "text/plain": [
       "0         25348\n",
       "1       4765710\n",
       "2         33944\n",
       "3        181196\n",
       "4          1178\n",
       "         ...   \n",
       "8583         94\n",
       "8584          3\n",
       "8585         21\n",
       "8586          0\n",
       "8587          0\n",
       "Length: 8588, dtype: int32"
      ]
     },
     "execution_count": 44,
     "metadata": {},
     "output_type": "execute_result"
    }
   ],
   "source": [
    "((df_webscrap[\"Calificación 5 estrellas\"]/100)*df_webscrap[\"Número de calificaciones\"]).astype(int)"
   ]
  },
  {
   "cell_type": "code",
   "execution_count": 45,
   "metadata": {},
   "outputs": [],
   "source": [
    "df_webscrap[\"Calificación 5 estrellas\"] = ((df_webscrap[\"Calificación 5 estrellas\"]/100)*df_webscrap[\"Número de calificaciones\"]).astype(int)\n",
    "df_webscrap[\"Calificación 4 estrellas\"] = ((df_webscrap[\"Calificación 4 estrellas\"]/100)*df_webscrap[\"Número de calificaciones\"]).astype(int)\n",
    "df_webscrap[\"Calificación 3 estrellas\"] = ((df_webscrap[\"Calificación 3 estrellas\"]/100)*df_webscrap[\"Número de calificaciones\"]).astype(int)\n",
    "df_webscrap[\"Calificación 2 estrellas\"] = ((df_webscrap[\"Calificación 2 estrellas\"]/100)*df_webscrap[\"Número de calificaciones\"]).astype(int)\n",
    "df_webscrap[\"Calificación 1 estrella\"] = ((df_webscrap[\"Calificación 1 estrella\"]/100)*df_webscrap[\"Número de calificaciones\"]).astype(int)"
   ]
  },
  {
   "cell_type": "code",
   "execution_count": 46,
   "metadata": {},
   "outputs": [
    {
     "name": "stdout",
     "output_type": "stream",
     "text": [
      "<class 'pandas.core.frame.DataFrame'>\n",
      "RangeIndex: 8588 entries, 0 to 8587\n",
      "Data columns (total 20 columns):\n",
      " #   Column                    Non-Null Count  Dtype         \n",
      "---  ------                    --------------  -----         \n",
      " 0   id_juego                  8588 non-null   int64         \n",
      " 1   Titulo                    8588 non-null   object        \n",
      " 2   Día y hora                8588 non-null   datetime64[ns]\n",
      " 3   Plataforma                8588 non-null   object        \n",
      " 4   Genero                    8588 non-null   object        \n",
      " 5   Compañia                  8588 non-null   object        \n",
      " 6   Lanzamiento               8588 non-null   datetime64[ns]\n",
      " 7   Idiomas                   8588 non-null   object        \n",
      " 8   Calificación PSN          8588 non-null   float64       \n",
      " 9   Número de calificaciones  8588 non-null   int32         \n",
      " 10  Calificación 5 estrellas  8588 non-null   int32         \n",
      " 11  Calificación 4 estrellas  8588 non-null   int32         \n",
      " 12  Calificación 3 estrellas  8588 non-null   int32         \n",
      " 13  Calificación 2 estrellas  8588 non-null   int32         \n",
      " 14  Calificación 1 estrella   8588 non-null   int32         \n",
      " 15  Precio original sin PSN   8588 non-null   object        \n",
      " 16  Precio actual sin PSN     8588 non-null   object        \n",
      " 17  Precio original con PSN   8588 non-null   object        \n",
      " 18  Precio actual con PSN     8588 non-null   object        \n",
      " 19  País Store                8588 non-null   object        \n",
      "dtypes: datetime64[ns](2), float64(1), int32(6), int64(1), object(10)\n",
      "memory usage: 1.1+ MB\n"
     ]
    }
   ],
   "source": [
    "df_webscrap.info()"
   ]
  },
  {
   "cell_type": "code",
   "execution_count": 47,
   "metadata": {},
   "outputs": [
    {
     "data": {
      "text/html": [
       "<div>\n",
       "<style scoped>\n",
       "    .dataframe tbody tr th:only-of-type {\n",
       "        vertical-align: middle;\n",
       "    }\n",
       "\n",
       "    .dataframe tbody tr th {\n",
       "        vertical-align: top;\n",
       "    }\n",
       "\n",
       "    .dataframe thead th {\n",
       "        text-align: right;\n",
       "    }\n",
       "</style>\n",
       "<table border=\"1\" class=\"dataframe\">\n",
       "  <thead>\n",
       "    <tr style=\"text-align: right;\">\n",
       "      <th></th>\n",
       "      <th>id_juego</th>\n",
       "      <th>Titulo</th>\n",
       "      <th>Día y hora</th>\n",
       "      <th>Plataforma</th>\n",
       "      <th>Genero</th>\n",
       "      <th>Compañia</th>\n",
       "      <th>Lanzamiento</th>\n",
       "      <th>Idiomas</th>\n",
       "      <th>Calificación PSN</th>\n",
       "      <th>Número de calificaciones</th>\n",
       "      <th>Calificación 5 estrellas</th>\n",
       "      <th>Calificación 4 estrellas</th>\n",
       "      <th>Calificación 3 estrellas</th>\n",
       "      <th>Calificación 2 estrellas</th>\n",
       "      <th>Calificación 1 estrella</th>\n",
       "      <th>Precio original sin PSN</th>\n",
       "      <th>Precio actual sin PSN</th>\n",
       "      <th>Precio original con PSN</th>\n",
       "      <th>Precio actual con PSN</th>\n",
       "      <th>País Store</th>\n",
       "    </tr>\n",
       "  </thead>\n",
       "  <tbody>\n",
       "    <tr>\n",
       "      <th>0</th>\n",
       "      <td>10007176</td>\n",
       "      <td>EA SPORTS FC™ 24 Standard Edition para PS4 y PS5</td>\n",
       "      <td>2024-03-13 08:18:55.553698</td>\n",
       "      <td>PS4, PS5</td>\n",
       "      <td>Deporte</td>\n",
       "      <td>EA Swiss Sarl</td>\n",
       "      <td>2023-09-28</td>\n",
       "      <td>No hay información</td>\n",
       "      <td>3.42</td>\n",
       "      <td>56330</td>\n",
       "      <td>25348</td>\n",
       "      <td>6759</td>\n",
       "      <td>5633</td>\n",
       "      <td>2816</td>\n",
       "      <td>15772</td>\n",
       "      <td>79,99 €</td>\n",
       "      <td>15,99 €</td>\n",
       "      <td>79,99 €</td>\n",
       "      <td>15,99 €</td>\n",
       "      <td>ESP</td>\n",
       "    </tr>\n",
       "    <tr>\n",
       "      <th>1</th>\n",
       "      <td>228748</td>\n",
       "      <td>Fortnite</td>\n",
       "      <td>2024-03-13 08:18:59.396459</td>\n",
       "      <td>PS5</td>\n",
       "      <td>Aventura,Acción</td>\n",
       "      <td>EPIC GAMES</td>\n",
       "      <td>2017-07-21</td>\n",
       "      <td>Coreano, Portugués (Brasil), Español (México)...</td>\n",
       "      <td>4.32</td>\n",
       "      <td>6712269</td>\n",
       "      <td>4765710</td>\n",
       "      <td>671226</td>\n",
       "      <td>536981</td>\n",
       "      <td>67122</td>\n",
       "      <td>671226</td>\n",
       "      <td>Gratis</td>\n",
       "      <td>Gratis</td>\n",
       "      <td>Gratis</td>\n",
       "      <td>Gratis</td>\n",
       "      <td>ESP</td>\n",
       "    </tr>\n",
       "    <tr>\n",
       "      <th>2</th>\n",
       "      <td>10000657</td>\n",
       "      <td>HELLDIVERS™ 2</td>\n",
       "      <td>2024-03-13 08:19:03.445526</td>\n",
       "      <td>PS5</td>\n",
       "      <td>Acción</td>\n",
       "      <td>Sony Interactive Entertainment Europe</td>\n",
       "      <td>2024-02-08</td>\n",
       "      <td>Italiano, Francés (Francia), Inglés, Español,...</td>\n",
       "      <td>4.47</td>\n",
       "      <td>42430</td>\n",
       "      <td>33944</td>\n",
       "      <td>2970</td>\n",
       "      <td>848</td>\n",
       "      <td>848</td>\n",
       "      <td>3818</td>\n",
       "      <td>39,99 €</td>\n",
       "      <td>39,99 €</td>\n",
       "      <td>39,99 €</td>\n",
       "      <td>39,99 €</td>\n",
       "      <td>ESP</td>\n",
       "    </tr>\n",
       "    <tr>\n",
       "      <th>3</th>\n",
       "      <td>10001130</td>\n",
       "      <td>Call of Duty®: Modern Warfare® III - Lote Mult...</td>\n",
       "      <td>2024-03-13 08:19:08.046713</td>\n",
       "      <td>PS4, PS5</td>\n",
       "      <td>Acción</td>\n",
       "      <td>Activision Blizzard Int'l BV</td>\n",
       "      <td>2023-11-02</td>\n",
       "      <td>Italiano, Francés (Francia), Inglés, Español,...</td>\n",
       "      <td>4.04</td>\n",
       "      <td>292252</td>\n",
       "      <td>181196</td>\n",
       "      <td>32147</td>\n",
       "      <td>32147</td>\n",
       "      <td>5845</td>\n",
       "      <td>40915</td>\n",
       "      <td>79,99 €</td>\n",
       "      <td>79,99 €</td>\n",
       "      <td>79,99 €</td>\n",
       "      <td>79,99 €</td>\n",
       "      <td>ESP</td>\n",
       "    </tr>\n",
       "    <tr>\n",
       "      <th>4</th>\n",
       "      <td>10007978</td>\n",
       "      <td>Edición Digital WWE 2K24 Cross-Gen</td>\n",
       "      <td>2024-03-13 08:19:12.831114</td>\n",
       "      <td>PS4, PS5</td>\n",
       "      <td>Deporte</td>\n",
       "      <td>2K</td>\n",
       "      <td>2024-03-07</td>\n",
       "      <td>Italiano, Francés (Francia), Inglés, Español,...</td>\n",
       "      <td>4.68</td>\n",
       "      <td>1386</td>\n",
       "      <td>1178</td>\n",
       "      <td>83</td>\n",
       "      <td>41</td>\n",
       "      <td>13</td>\n",
       "      <td>55</td>\n",
       "      <td>74,99 €</td>\n",
       "      <td>74,99 €</td>\n",
       "      <td>74,99 €</td>\n",
       "      <td>74,99 €</td>\n",
       "      <td>ESP</td>\n",
       "    </tr>\n",
       "    <tr>\n",
       "      <th>5</th>\n",
       "      <td>10007788</td>\n",
       "      <td>Edición Kobe Bryant de NBA 2K24 para PS5™</td>\n",
       "      <td>2024-03-13 08:19:17.119391</td>\n",
       "      <td>PS5</td>\n",
       "      <td>Deporte</td>\n",
       "      <td>2K</td>\n",
       "      <td>2023-09-07</td>\n",
       "      <td>Coreano, Japonés, Italiano, Francés (Francia)...</td>\n",
       "      <td>3.17</td>\n",
       "      <td>19332</td>\n",
       "      <td>6959</td>\n",
       "      <td>2706</td>\n",
       "      <td>2319</td>\n",
       "      <td>1546</td>\n",
       "      <td>5992</td>\n",
       "      <td>79,99 €</td>\n",
       "      <td>79,99 €</td>\n",
       "      <td>79,99 €</td>\n",
       "      <td>79,99 €</td>\n",
       "      <td>ESP</td>\n",
       "    </tr>\n",
       "    <tr>\n",
       "      <th>6</th>\n",
       "      <td>201930</td>\n",
       "      <td>Grand Theft Auto Online (PlayStation®5)</td>\n",
       "      <td>2024-03-13 08:19:21.593399</td>\n",
       "      <td>PS5</td>\n",
       "      <td>Aventura,Acción</td>\n",
       "      <td>Rockstar Games</td>\n",
       "      <td>2022-03-14</td>\n",
       "      <td>Coreano, Portugués (Brasil), Español (México)...</td>\n",
       "      <td>4.52</td>\n",
       "      <td>677928</td>\n",
       "      <td>535563</td>\n",
       "      <td>54234</td>\n",
       "      <td>33896</td>\n",
       "      <td>6779</td>\n",
       "      <td>47454</td>\n",
       "      <td>19,99 €</td>\n",
       "      <td>19,99 €</td>\n",
       "      <td>19,99 €</td>\n",
       "      <td>19,99 €</td>\n",
       "      <td>ESP</td>\n",
       "    </tr>\n",
       "  </tbody>\n",
       "</table>\n",
       "</div>"
      ],
      "text/plain": [
       "   id_juego                                             Titulo  \\\n",
       "0  10007176   EA SPORTS FC™ 24 Standard Edition para PS4 y PS5   \n",
       "1    228748                                           Fortnite   \n",
       "2  10000657                                      HELLDIVERS™ 2   \n",
       "3  10001130  Call of Duty®: Modern Warfare® III - Lote Mult...   \n",
       "4  10007978                 Edición Digital WWE 2K24 Cross-Gen   \n",
       "5  10007788          Edición Kobe Bryant de NBA 2K24 para PS5™   \n",
       "6    201930            Grand Theft Auto Online (PlayStation®5)   \n",
       "\n",
       "                  Día y hora Plataforma            Genero  \\\n",
       "0 2024-03-13 08:18:55.553698   PS4, PS5           Deporte   \n",
       "1 2024-03-13 08:18:59.396459        PS5   Aventura,Acción   \n",
       "2 2024-03-13 08:19:03.445526        PS5            Acción   \n",
       "3 2024-03-13 08:19:08.046713   PS4, PS5            Acción   \n",
       "4 2024-03-13 08:19:12.831114   PS4, PS5           Deporte   \n",
       "5 2024-03-13 08:19:17.119391        PS5           Deporte   \n",
       "6 2024-03-13 08:19:21.593399        PS5   Aventura,Acción   \n",
       "\n",
       "                                Compañia Lanzamiento  \\\n",
       "0                          EA Swiss Sarl  2023-09-28   \n",
       "1                             EPIC GAMES  2017-07-21   \n",
       "2  Sony Interactive Entertainment Europe  2024-02-08   \n",
       "3           Activision Blizzard Int'l BV  2023-11-02   \n",
       "4                                     2K  2024-03-07   \n",
       "5                                     2K  2023-09-07   \n",
       "6                         Rockstar Games  2022-03-14   \n",
       "\n",
       "                                             Idiomas  Calificación PSN  \\\n",
       "0                                 No hay información              3.42   \n",
       "1   Coreano, Portugués (Brasil), Español (México)...              4.32   \n",
       "2   Italiano, Francés (Francia), Inglés, Español,...              4.47   \n",
       "3   Italiano, Francés (Francia), Inglés, Español,...              4.04   \n",
       "4   Italiano, Francés (Francia), Inglés, Español,...              4.68   \n",
       "5   Coreano, Japonés, Italiano, Francés (Francia)...              3.17   \n",
       "6   Coreano, Portugués (Brasil), Español (México)...              4.52   \n",
       "\n",
       "   Número de calificaciones  Calificación 5 estrellas  \\\n",
       "0                     56330                     25348   \n",
       "1                   6712269                   4765710   \n",
       "2                     42430                     33944   \n",
       "3                    292252                    181196   \n",
       "4                      1386                      1178   \n",
       "5                     19332                      6959   \n",
       "6                    677928                    535563   \n",
       "\n",
       "   Calificación 4 estrellas  Calificación 3 estrellas  \\\n",
       "0                      6759                      5633   \n",
       "1                    671226                    536981   \n",
       "2                      2970                       848   \n",
       "3                     32147                     32147   \n",
       "4                        83                        41   \n",
       "5                      2706                      2319   \n",
       "6                     54234                     33896   \n",
       "\n",
       "   Calificación 2 estrellas  Calificación 1 estrella Precio original sin PSN  \\\n",
       "0                      2816                    15772                 79,99 €   \n",
       "1                     67122                   671226                  Gratis   \n",
       "2                       848                     3818                 39,99 €   \n",
       "3                      5845                    40915                 79,99 €   \n",
       "4                        13                       55                 74,99 €   \n",
       "5                      1546                     5992                 79,99 €   \n",
       "6                      6779                    47454                 19,99 €   \n",
       "\n",
       "  Precio actual sin PSN Precio original con PSN Precio actual con PSN  \\\n",
       "0               15,99 €                 79,99 €               15,99 €   \n",
       "1                Gratis                  Gratis                Gratis   \n",
       "2               39,99 €                 39,99 €               39,99 €   \n",
       "3               79,99 €                 79,99 €               79,99 €   \n",
       "4               74,99 €                 74,99 €               74,99 €   \n",
       "5               79,99 €                 79,99 €               79,99 €   \n",
       "6               19,99 €                 19,99 €               19,99 €   \n",
       "\n",
       "  País Store  \n",
       "0        ESP  \n",
       "1        ESP  \n",
       "2        ESP  \n",
       "3        ESP  \n",
       "4        ESP  \n",
       "5        ESP  \n",
       "6        ESP  "
      ]
     },
     "execution_count": 47,
     "metadata": {},
     "output_type": "execute_result"
    }
   ],
   "source": [
    "df_webscrap.head(7)"
   ]
  },
  {
   "cell_type": "markdown",
   "metadata": {},
   "source": [
    "Dejamos en modo numérico las calificaciones."
   ]
  },
  {
   "cell_type": "markdown",
   "metadata": {},
   "source": [
    "---"
   ]
  },
  {
   "cell_type": "markdown",
   "metadata": {},
   "source": [
    "#### Precios"
   ]
  },
  {
   "cell_type": "code",
   "execution_count": 48,
   "metadata": {},
   "outputs": [],
   "source": [
    "\n",
    "\n",
    "#Precio actual sin Playstation Plus\n",
    "df_webscrap[\"Precio actual sin PSN\"] = df_webscrap[\"Precio actual sin PSN\"].str.replace(\"No hay información\",\"0.00\")\n",
    "df_webscrap[\"Precio actual sin PSN\"] = df_webscrap[\"Precio actual sin PSN\"].str.replace('[^0-9,A-z]','', regex = True).replace('Gratis','0.00').replace(\"Incluido\",\"0.02\").replace(\"Nodisponibleparacomprar\",\"0.01\").replace('Anunciado',\"0.03\")\n",
    "df_webscrap[\"Precio actual sin PSN\"] = df_webscrap[\"Precio actual sin PSN\"].str.replace(\",\",\".\")\n",
    "df_webscrap[\"Precio actual sin PSN\"] = df_webscrap[\"Precio actual sin PSN\"].astype(float)\n",
    "\n",
    "#Precio actual con Playstation Plus\n",
    "df_webscrap[\"Precio actual con PSN\"] = df_webscrap[\"Precio actual con PSN\"].str.replace(\"No hay información\",\"0.00\")\n",
    "df_webscrap[\"Precio actual con PSN\"] = df_webscrap[\"Precio actual con PSN\"].str.replace('[^0-9,A-z]','', regex = True).replace('Gratis','0.00').replace(\"Incluido\",\"0.02\").replace(\"Nodisponibleparacomprar\",\"0.01\").replace('Anunciado',\"0.03\")\n",
    "df_webscrap[\"Precio actual con PSN\"] = df_webscrap[\"Precio actual con PSN\"].str.replace(\",\",\".\")\n",
    "df_webscrap[\"Precio actual con PSN\"] = df_webscrap[\"Precio actual con PSN\"].astype(float)\n",
    "\n",
    "#Precio Original sin Playstation Plus\n",
    "df_webscrap[\"Precio original sin PSN\"] = df_webscrap[\"Precio original sin PSN\"].str.replace(\"No hay información\",\"0.00\")\n",
    "df_webscrap[\"Precio original sin PSN\"] = df_webscrap[\"Precio original sin PSN\"].str.replace('[^0-9,A-z]','', regex = True).replace('Gratis','0.00').replace(\"Incluido\",\"0.02\").replace(\"Nodisponibleparacomprar\",\"0.01\").replace('Anunciado',\"0.03\")\n",
    "df_webscrap[\"Precio original sin PSN\"] = df_webscrap[\"Precio original sin PSN\"].str.replace(\",\",\".\")\n",
    "df_webscrap[\"Precio original sin PSN\"] = df_webscrap[\"Precio original sin PSN\"].astype(float)\n",
    "\n",
    "#Precio Otiginal con Playstation Plus\n",
    "\n",
    "df_webscrap[\"Precio original con PSN\"] = df_webscrap[\"Precio original con PSN\"].str.replace(\"No hay información\",\"0.00\")\n",
    "df_webscrap[\"Precio original con PSN\"] = df_webscrap[\"Precio original con PSN\"].str.replace('[^0-9,A-z]','', regex = True).replace('Gratis','0.00').replace(\"Incluido\",\"0.02\").replace(\"Nodisponibleparacomprar\",\"0.01\").replace('Anunciado',\"0.03\")\n",
    "df_webscrap[\"Precio original con PSN\"] = df_webscrap[\"Precio original con PSN\"].str.replace(\",\",\".\")\n",
    "df_webscrap[\"Precio original con PSN\"] = df_webscrap[\"Precio original con PSN\"].fillna(df_webscrap[\"Precio original sin PSN\"])\n",
    "df_webscrap[\"Precio original con PSN\"] = df_webscrap[\"Precio original con PSN\"].astype(float)\n",
    "\n",
    "\n"
   ]
  },
  {
   "cell_type": "markdown",
   "metadata": {},
   "source": [
    "Arreglamos los precios de los juegos."
   ]
  },
  {
   "cell_type": "markdown",
   "metadata": {},
   "source": [
    "Leyendas para Juegos con precios que tienen strings:\n",
    "- Gratis --> 0.00\n",
    "- No disponible --> 0.01\n",
    "- Incluido --> 0.02"
   ]
  },
  {
   "cell_type": "code",
   "execution_count": 52,
   "metadata": {},
   "outputs": [
    {
     "data": {
      "text/html": [
       "<div>\n",
       "<style scoped>\n",
       "    .dataframe tbody tr th:only-of-type {\n",
       "        vertical-align: middle;\n",
       "    }\n",
       "\n",
       "    .dataframe tbody tr th {\n",
       "        vertical-align: top;\n",
       "    }\n",
       "\n",
       "    .dataframe thead th {\n",
       "        text-align: right;\n",
       "    }\n",
       "</style>\n",
       "<table border=\"1\" class=\"dataframe\">\n",
       "  <thead>\n",
       "    <tr style=\"text-align: right;\">\n",
       "      <th></th>\n",
       "      <th>id_juego</th>\n",
       "      <th>Titulo</th>\n",
       "      <th>Día y hora</th>\n",
       "      <th>Plataforma</th>\n",
       "      <th>Genero</th>\n",
       "      <th>Compañia</th>\n",
       "      <th>Lanzamiento</th>\n",
       "      <th>Idiomas</th>\n",
       "      <th>Calificación PSN</th>\n",
       "      <th>Número de calificaciones</th>\n",
       "      <th>Calificación 5 estrellas</th>\n",
       "      <th>Calificación 4 estrellas</th>\n",
       "      <th>Calificación 3 estrellas</th>\n",
       "      <th>Calificación 2 estrellas</th>\n",
       "      <th>Calificación 1 estrella</th>\n",
       "      <th>Precio original sin PSN</th>\n",
       "      <th>Precio actual sin PSN</th>\n",
       "      <th>Precio original con PSN</th>\n",
       "      <th>Precio actual con PSN</th>\n",
       "      <th>País Store</th>\n",
       "    </tr>\n",
       "  </thead>\n",
       "  <tbody>\n",
       "    <tr>\n",
       "      <th>0</th>\n",
       "      <td>10007176</td>\n",
       "      <td>EA SPORTS FC™ 24 Standard Edition para PS4 y PS5</td>\n",
       "      <td>2024-03-13 08:18:55.553698</td>\n",
       "      <td>PS4, PS5</td>\n",
       "      <td>Deporte</td>\n",
       "      <td>EA Swiss Sarl</td>\n",
       "      <td>2023-09-28</td>\n",
       "      <td>No hay información</td>\n",
       "      <td>3.42</td>\n",
       "      <td>56330</td>\n",
       "      <td>25348</td>\n",
       "      <td>6759</td>\n",
       "      <td>5633</td>\n",
       "      <td>2816</td>\n",
       "      <td>15772</td>\n",
       "      <td>79.99</td>\n",
       "      <td>15.99</td>\n",
       "      <td>79.99</td>\n",
       "      <td>15.99</td>\n",
       "      <td>ESP</td>\n",
       "    </tr>\n",
       "    <tr>\n",
       "      <th>1</th>\n",
       "      <td>228748</td>\n",
       "      <td>Fortnite</td>\n",
       "      <td>2024-03-13 08:18:59.396459</td>\n",
       "      <td>PS5</td>\n",
       "      <td>Aventura,Acción</td>\n",
       "      <td>EPIC GAMES</td>\n",
       "      <td>2017-07-21</td>\n",
       "      <td>Coreano, Portugués (Brasil), Español (México)...</td>\n",
       "      <td>4.32</td>\n",
       "      <td>6712269</td>\n",
       "      <td>4765710</td>\n",
       "      <td>671226</td>\n",
       "      <td>536981</td>\n",
       "      <td>67122</td>\n",
       "      <td>671226</td>\n",
       "      <td>0.00</td>\n",
       "      <td>0.00</td>\n",
       "      <td>0.00</td>\n",
       "      <td>0.00</td>\n",
       "      <td>ESP</td>\n",
       "    </tr>\n",
       "    <tr>\n",
       "      <th>2</th>\n",
       "      <td>10000657</td>\n",
       "      <td>HELLDIVERS™ 2</td>\n",
       "      <td>2024-03-13 08:19:03.445526</td>\n",
       "      <td>PS5</td>\n",
       "      <td>Acción</td>\n",
       "      <td>Sony Interactive Entertainment Europe</td>\n",
       "      <td>2024-02-08</td>\n",
       "      <td>Italiano, Francés (Francia), Inglés, Español,...</td>\n",
       "      <td>4.47</td>\n",
       "      <td>42430</td>\n",
       "      <td>33944</td>\n",
       "      <td>2970</td>\n",
       "      <td>848</td>\n",
       "      <td>848</td>\n",
       "      <td>3818</td>\n",
       "      <td>39.99</td>\n",
       "      <td>39.99</td>\n",
       "      <td>39.99</td>\n",
       "      <td>39.99</td>\n",
       "      <td>ESP</td>\n",
       "    </tr>\n",
       "    <tr>\n",
       "      <th>3</th>\n",
       "      <td>10001130</td>\n",
       "      <td>Call of Duty®: Modern Warfare® III - Lote Mult...</td>\n",
       "      <td>2024-03-13 08:19:08.046713</td>\n",
       "      <td>PS4, PS5</td>\n",
       "      <td>Acción</td>\n",
       "      <td>Activision Blizzard Int'l BV</td>\n",
       "      <td>2023-11-02</td>\n",
       "      <td>Italiano, Francés (Francia), Inglés, Español,...</td>\n",
       "      <td>4.04</td>\n",
       "      <td>292252</td>\n",
       "      <td>181196</td>\n",
       "      <td>32147</td>\n",
       "      <td>32147</td>\n",
       "      <td>5845</td>\n",
       "      <td>40915</td>\n",
       "      <td>79.99</td>\n",
       "      <td>79.99</td>\n",
       "      <td>79.99</td>\n",
       "      <td>79.99</td>\n",
       "      <td>ESP</td>\n",
       "    </tr>\n",
       "    <tr>\n",
       "      <th>4</th>\n",
       "      <td>10007978</td>\n",
       "      <td>Edición Digital WWE 2K24 Cross-Gen</td>\n",
       "      <td>2024-03-13 08:19:12.831114</td>\n",
       "      <td>PS4, PS5</td>\n",
       "      <td>Deporte</td>\n",
       "      <td>2K</td>\n",
       "      <td>2024-03-07</td>\n",
       "      <td>Italiano, Francés (Francia), Inglés, Español,...</td>\n",
       "      <td>4.68</td>\n",
       "      <td>1386</td>\n",
       "      <td>1178</td>\n",
       "      <td>83</td>\n",
       "      <td>41</td>\n",
       "      <td>13</td>\n",
       "      <td>55</td>\n",
       "      <td>74.99</td>\n",
       "      <td>74.99</td>\n",
       "      <td>74.99</td>\n",
       "      <td>74.99</td>\n",
       "      <td>ESP</td>\n",
       "    </tr>\n",
       "  </tbody>\n",
       "</table>\n",
       "</div>"
      ],
      "text/plain": [
       "   id_juego                                             Titulo  \\\n",
       "0  10007176   EA SPORTS FC™ 24 Standard Edition para PS4 y PS5   \n",
       "1    228748                                           Fortnite   \n",
       "2  10000657                                      HELLDIVERS™ 2   \n",
       "3  10001130  Call of Duty®: Modern Warfare® III - Lote Mult...   \n",
       "4  10007978                 Edición Digital WWE 2K24 Cross-Gen   \n",
       "\n",
       "                  Día y hora Plataforma            Genero  \\\n",
       "0 2024-03-13 08:18:55.553698   PS4, PS5           Deporte   \n",
       "1 2024-03-13 08:18:59.396459        PS5   Aventura,Acción   \n",
       "2 2024-03-13 08:19:03.445526        PS5            Acción   \n",
       "3 2024-03-13 08:19:08.046713   PS4, PS5            Acción   \n",
       "4 2024-03-13 08:19:12.831114   PS4, PS5           Deporte   \n",
       "\n",
       "                                Compañia Lanzamiento  \\\n",
       "0                          EA Swiss Sarl  2023-09-28   \n",
       "1                             EPIC GAMES  2017-07-21   \n",
       "2  Sony Interactive Entertainment Europe  2024-02-08   \n",
       "3           Activision Blizzard Int'l BV  2023-11-02   \n",
       "4                                     2K  2024-03-07   \n",
       "\n",
       "                                             Idiomas  Calificación PSN  \\\n",
       "0                                 No hay información              3.42   \n",
       "1   Coreano, Portugués (Brasil), Español (México)...              4.32   \n",
       "2   Italiano, Francés (Francia), Inglés, Español,...              4.47   \n",
       "3   Italiano, Francés (Francia), Inglés, Español,...              4.04   \n",
       "4   Italiano, Francés (Francia), Inglés, Español,...              4.68   \n",
       "\n",
       "   Número de calificaciones  Calificación 5 estrellas  \\\n",
       "0                     56330                     25348   \n",
       "1                   6712269                   4765710   \n",
       "2                     42430                     33944   \n",
       "3                    292252                    181196   \n",
       "4                      1386                      1178   \n",
       "\n",
       "   Calificación 4 estrellas  Calificación 3 estrellas  \\\n",
       "0                      6759                      5633   \n",
       "1                    671226                    536981   \n",
       "2                      2970                       848   \n",
       "3                     32147                     32147   \n",
       "4                        83                        41   \n",
       "\n",
       "   Calificación 2 estrellas  Calificación 1 estrella  Precio original sin PSN  \\\n",
       "0                      2816                    15772                    79.99   \n",
       "1                     67122                   671226                     0.00   \n",
       "2                       848                     3818                    39.99   \n",
       "3                      5845                    40915                    79.99   \n",
       "4                        13                       55                    74.99   \n",
       "\n",
       "   Precio actual sin PSN  Precio original con PSN  Precio actual con PSN  \\\n",
       "0                  15.99                    79.99                  15.99   \n",
       "1                   0.00                     0.00                   0.00   \n",
       "2                  39.99                    39.99                  39.99   \n",
       "3                  79.99                    79.99                  79.99   \n",
       "4                  74.99                    74.99                  74.99   \n",
       "\n",
       "  País Store  \n",
       "0        ESP  \n",
       "1        ESP  \n",
       "2        ESP  \n",
       "3        ESP  \n",
       "4        ESP  "
      ]
     },
     "execution_count": 52,
     "metadata": {},
     "output_type": "execute_result"
    }
   ],
   "source": [
    "df_webscrap.head()"
   ]
  },
  {
   "cell_type": "code",
   "execution_count": 53,
   "metadata": {},
   "outputs": [
    {
     "name": "stdout",
     "output_type": "stream",
     "text": [
      "<class 'pandas.core.frame.DataFrame'>\n",
      "RangeIndex: 8588 entries, 0 to 8587\n",
      "Data columns (total 20 columns):\n",
      " #   Column                    Non-Null Count  Dtype         \n",
      "---  ------                    --------------  -----         \n",
      " 0   id_juego                  8588 non-null   int64         \n",
      " 1   Titulo                    8588 non-null   object        \n",
      " 2   Día y hora                8588 non-null   datetime64[ns]\n",
      " 3   Plataforma                8588 non-null   object        \n",
      " 4   Genero                    8588 non-null   object        \n",
      " 5   Compañia                  8588 non-null   object        \n",
      " 6   Lanzamiento               8588 non-null   datetime64[ns]\n",
      " 7   Idiomas                   8588 non-null   object        \n",
      " 8   Calificación PSN          8588 non-null   float64       \n",
      " 9   Número de calificaciones  8588 non-null   int32         \n",
      " 10  Calificación 5 estrellas  8588 non-null   int32         \n",
      " 11  Calificación 4 estrellas  8588 non-null   int32         \n",
      " 12  Calificación 3 estrellas  8588 non-null   int32         \n",
      " 13  Calificación 2 estrellas  8588 non-null   int32         \n",
      " 14  Calificación 1 estrella   8588 non-null   int32         \n",
      " 15  Precio original sin PSN   8588 non-null   float64       \n",
      " 16  Precio actual sin PSN     8588 non-null   float64       \n",
      " 17  Precio original con PSN   8588 non-null   float64       \n",
      " 18  Precio actual con PSN     8588 non-null   float64       \n",
      " 19  País Store                8588 non-null   object        \n",
      "dtypes: datetime64[ns](2), float64(5), int32(6), int64(1), object(6)\n",
      "memory usage: 1.1+ MB\n"
     ]
    }
   ],
   "source": [
    "df_webscrap.info()"
   ]
  },
  {
   "cell_type": "markdown",
   "metadata": {},
   "source": [
    "[Volver al índice](#0)"
   ]
  },
  {
   "cell_type": "markdown",
   "metadata": {},
   "source": [
    "Por el momento ir cambiando el día manualmente para limpieza antes de automatizar todo "
   ]
  },
  {
   "cell_type": "code",
   "execution_count": 61,
   "metadata": {},
   "outputs": [],
   "source": [
    "var_dia = \"2024-03-13\"\n",
    "var_store = \"es\""
   ]
  },
  {
   "cell_type": "code",
   "execution_count": 62,
   "metadata": {},
   "outputs": [],
   "source": [
    "df_webscrap.to_csv(f\"../csv_s/csv_limpio/{var_store}/csv_limpio_{var_dia}.csv\",index=False)"
   ]
  }
 ],
 "metadata": {
  "kernelspec": {
   "display_name": "psn_env",
   "language": "python",
   "name": "python3"
  },
  "language_info": {
   "codemirror_mode": {
    "name": "ipython",
    "version": 3
   },
   "file_extension": ".py",
   "mimetype": "text/x-python",
   "name": "python",
   "nbconvert_exporter": "python",
   "pygments_lexer": "ipython3",
   "version": "3.11.4"
  }
 },
 "nbformat": 4,
 "nbformat_minor": 2
}
