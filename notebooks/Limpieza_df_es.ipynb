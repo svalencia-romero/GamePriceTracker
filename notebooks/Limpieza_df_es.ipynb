{
 "cells": [
  {
   "cell_type": "markdown",
   "metadata": {},
   "source": [
    ">>>  ### *ÍNDICE*\n",
    ">>- #### Comprobamos valor nulos juegos\n",
    ">>- ####  Limpieza de Datos por Columna\n",
    ">  * Titulo\n",
    ">  * Plataforma\n",
    ">  * Genero\n",
    ">  * Compañia\n",
    ">  * Lanzamiento\n",
    ">  * Idiomas\n",
    ">  * Calificación PSN\n",
    ">  * Número de calificaciones\n",
    ">  * Calificación 5 estrellas\n",
    ">  * Calificación 4 estrellas\n",
    ">  * Calificación 3 estrellas\n",
    ">  * Calificación 2 estrellas\n",
    ">  * Calificación 1 estrella\n",
    ">  * Precio original sin PSN\n",
    ">  * Precio actual sin PSN\n",
    ">  * Precio original con PSN\n",
    ">  * Precio actual con PSN\n",
    ">  * País Store   \n",
    ">  * [Todo el código resumido](#10)  "
   ]
  },
  {
   "cell_type": "code",
   "execution_count": 1,
   "metadata": {},
   "outputs": [],
   "source": [
    "import pandas as pd\n",
    "import matplotlib.pyplot as plt # Para visualizaciones en Jupyter no importar script python\n",
    "import seaborn as sns # Para visualizaciones en Jupyter no importar script python\n",
    "import ast"
   ]
  },
  {
   "cell_type": "markdown",
   "metadata": {},
   "source": [
    "<a id=\"0\"></a> <br>\n",
    "Ahora toca limpiar los datos para tenerlos preparados para insertarlos en la bbdd"
   ]
  },
  {
   "cell_type": "markdown",
   "metadata": {},
   "source": [
    "\n",
    "Pruebas df \n",
    "Aseguramos un csv para hacer pruebas con ello."
   ]
  },
  {
   "cell_type": "code",
   "execution_count": 2,
   "metadata": {},
   "outputs": [],
   "source": [
    "#df_juegos.to_csv(\"../csv_s/csv_prueba_500.csv\",index=False) # Guardamos df"
   ]
  },
  {
   "cell_type": "code",
   "execution_count": 3,
   "metadata": {},
   "outputs": [],
   "source": [
    "df_webscrap = pd.read_csv(\"../csv_s/csv_region/esp/brut/csv_2024-04-02_esp.csv\" )"
   ]
  },
  {
   "cell_type": "code",
   "execution_count": 4,
   "metadata": {},
   "outputs": [
    {
     "name": "stdout",
     "output_type": "stream",
     "text": [
      "<class 'pandas.core.frame.DataFrame'>\n",
      "RangeIndex: 8710 entries, 0 to 8709\n",
      "Data columns (total 20 columns):\n",
      " #   Column                         Non-Null Count  Dtype \n",
      "---  ------                         --------------  ----- \n",
      " 0   id_juego                       8710 non-null   int64 \n",
      " 1   Titulo                         8710 non-null   object\n",
      " 2   Día y hora                     8710 non-null   object\n",
      " 3   Plataforma                     8710 non-null   object\n",
      " 4   Genero                         8710 non-null   object\n",
      " 5   Compañia                       8710 non-null   object\n",
      " 6   Lanzamiento                    8710 non-null   object\n",
      " 7   Idiomas                        8710 non-null   object\n",
      " 8   Calificación PSN               8710 non-null   object\n",
      " 9   Número de calificaciones       8710 non-null   object\n",
      " 10  Calificación 5 estrellas       8710 non-null   object\n",
      " 11  Calificación 4 estrellas       8710 non-null   object\n",
      " 12  Calificación 3 estrellas       8710 non-null   object\n",
      " 13  Calificación 2 estrellas       8710 non-null   object\n",
      " 14  Calificación 1 estrella        8710 non-null   object\n",
      " 15  Precio original                8710 non-null   object\n",
      " 16  Oferta                         8710 non-null   object\n",
      " 17  Oferta PSPlus                  8710 non-null   object\n",
      " 18  Otra promo diferente a PSPLUS  8710 non-null   object\n",
      " 19  País Store                     8710 non-null   object\n",
      "dtypes: int64(1), object(19)\n",
      "memory usage: 1.3+ MB\n"
     ]
    }
   ],
   "source": [
    "df_webscrap.info()"
   ]
  },
  {
   "cell_type": "markdown",
   "metadata": {},
   "source": [
    "* Vamos a empezar a limpiar todas las columnas para introducir este codigo en las funciones y así limpiar el df una vez en el script"
   ]
  },
  {
   "cell_type": "markdown",
   "metadata": {},
   "source": [
    "* Para ello primero haremos una limpieza preliminar ya que en ocasiones no coge toda la informacion de los juegos, los mas importantes son los precio.\n",
    "* Empezamos haciendo limpieza de precios "
   ]
  },
  {
   "cell_type": "markdown",
   "metadata": {},
   "source": [
    "Hacemos una primera comprobacion rescatando juegos que se habian quedado por el camino"
   ]
  },
  {
   "cell_type": "code",
   "execution_count": 5,
   "metadata": {},
   "outputs": [
    {
     "data": {
      "text/html": [
       "<div>\n",
       "<style scoped>\n",
       "    .dataframe tbody tr th:only-of-type {\n",
       "        vertical-align: middle;\n",
       "    }\n",
       "\n",
       "    .dataframe tbody tr th {\n",
       "        vertical-align: top;\n",
       "    }\n",
       "\n",
       "    .dataframe thead th {\n",
       "        text-align: right;\n",
       "    }\n",
       "</style>\n",
       "<table border=\"1\" class=\"dataframe\">\n",
       "  <thead>\n",
       "    <tr style=\"text-align: right;\">\n",
       "      <th></th>\n",
       "      <th>id_juego</th>\n",
       "      <th>Titulo</th>\n",
       "      <th>Día y hora</th>\n",
       "      <th>Plataforma</th>\n",
       "      <th>Genero</th>\n",
       "      <th>Compañia</th>\n",
       "      <th>Lanzamiento</th>\n",
       "      <th>Idiomas</th>\n",
       "      <th>Calificación PSN</th>\n",
       "      <th>Número de calificaciones</th>\n",
       "      <th>Calificación 5 estrellas</th>\n",
       "      <th>Calificación 4 estrellas</th>\n",
       "      <th>Calificación 3 estrellas</th>\n",
       "      <th>Calificación 2 estrellas</th>\n",
       "      <th>Calificación 1 estrella</th>\n",
       "      <th>Precio original</th>\n",
       "      <th>Oferta</th>\n",
       "      <th>Oferta PSPlus</th>\n",
       "      <th>Otra promo diferente a PSPLUS</th>\n",
       "      <th>País Store</th>\n",
       "    </tr>\n",
       "  </thead>\n",
       "  <tbody>\n",
       "    <tr>\n",
       "      <th>414</th>\n",
       "      <td>221941</td>\n",
       "      <td>Call of Duty®: Modern Warfare® Remastered</td>\n",
       "      <td>2024-04-02T19:59:20.704051</td>\n",
       "      <td>PS4</td>\n",
       "      <td>Juegos de disparos, Juegos de disparos</td>\n",
       "      <td>Activision Blizzard Int'l BV</td>\n",
       "      <td>26/6/2017</td>\n",
       "      <td>Alemán, Español, Francés (Francia), Inglés, It...</td>\n",
       "      <td>4.41</td>\n",
       "      <td>119414 calificaciones</td>\n",
       "      <td>74 %</td>\n",
       "      <td>11 %</td>\n",
       "      <td>5 %</td>\n",
       "      <td>1 %</td>\n",
       "      <td>8 %</td>\n",
       "      <td>No hay información</td>\n",
       "      <td>No hay información</td>\n",
       "      <td>No hay información</td>\n",
       "      <td>No hay otra promoción</td>\n",
       "      <td>ESP</td>\n",
       "    </tr>\n",
       "    <tr>\n",
       "      <th>553</th>\n",
       "      <td>10001023</td>\n",
       "      <td>Tennis World Tour 2 - Complete Edition</td>\n",
       "      <td>2024-04-02T20:04:45.064866</td>\n",
       "      <td>PS5</td>\n",
       "      <td>Deporte</td>\n",
       "      <td>NACON SA</td>\n",
       "      <td>25/3/2021</td>\n",
       "      <td>Alemán, Chino (Simplificado), Chino (Tradicion...</td>\n",
       "      <td>3.01</td>\n",
       "      <td>6828 calificaciones</td>\n",
       "      <td>38 %</td>\n",
       "      <td>9 %</td>\n",
       "      <td>8 %</td>\n",
       "      <td>7 %</td>\n",
       "      <td>38 %</td>\n",
       "      <td>No hay información</td>\n",
       "      <td>No hay información</td>\n",
       "      <td>No hay información</td>\n",
       "      <td>No hay otra promoción</td>\n",
       "      <td>ESP</td>\n",
       "    </tr>\n",
       "    <tr>\n",
       "      <th>1310</th>\n",
       "      <td>235080</td>\n",
       "      <td>Madden NFL 21 PS4™ &amp; PS5™</td>\n",
       "      <td>2024-04-02T20:33:56.450242</td>\n",
       "      <td>PS4, PS5</td>\n",
       "      <td>Deporte</td>\n",
       "      <td>EA Swiss Sarl</td>\n",
       "      <td>3/12/2020</td>\n",
       "      <td>Inglés</td>\n",
       "      <td>3.28</td>\n",
       "      <td>10730 calificaciones</td>\n",
       "      <td>47 %</td>\n",
       "      <td>8 %</td>\n",
       "      <td>6 %</td>\n",
       "      <td>5 %</td>\n",
       "      <td>35 %</td>\n",
       "      <td>No hay información</td>\n",
       "      <td>No hay información</td>\n",
       "      <td>No hay información</td>\n",
       "      <td>No hay otra promoción</td>\n",
       "      <td>ESP</td>\n",
       "    </tr>\n",
       "    <tr>\n",
       "      <th>1317</th>\n",
       "      <td>202007</td>\n",
       "      <td>Hotline Miami 2: Wrong Number</td>\n",
       "      <td>2024-04-02T20:34:10.258579</td>\n",
       "      <td>PS4</td>\n",
       "      <td>Acción, Acción</td>\n",
       "      <td>Devolver Digital</td>\n",
       "      <td>10/3/2015</td>\n",
       "      <td>Alemán, Español, Francés (Francia), Inglés, Po...</td>\n",
       "      <td>4.71</td>\n",
       "      <td>17492 calificaciones</td>\n",
       "      <td>82 %</td>\n",
       "      <td>12 %</td>\n",
       "      <td>3 %</td>\n",
       "      <td>1 %</td>\n",
       "      <td>2 %</td>\n",
       "      <td>No hay información</td>\n",
       "      <td>No hay información</td>\n",
       "      <td>No hay información</td>\n",
       "      <td>No hay otra promoción</td>\n",
       "      <td>ESP</td>\n",
       "    </tr>\n",
       "    <tr>\n",
       "      <th>1624</th>\n",
       "      <td>205132</td>\n",
       "      <td>Until Dawn™</td>\n",
       "      <td>2024-04-02T20:45:24.179131</td>\n",
       "      <td>PS4</td>\n",
       "      <td>Terror, Aventura, Terror</td>\n",
       "      <td>Sony Interactive Entertainment Europe</td>\n",
       "      <td>25/8/2015</td>\n",
       "      <td>Danés, Español, Finlandés, Inglés, Noruego, Po...</td>\n",
       "      <td>4.63</td>\n",
       "      <td>90085 calificaciones</td>\n",
       "      <td>78 %</td>\n",
       "      <td>14 %</td>\n",
       "      <td>4 %</td>\n",
       "      <td>1 %</td>\n",
       "      <td>3 %</td>\n",
       "      <td>No hay información</td>\n",
       "      <td>No hay información</td>\n",
       "      <td>No hay información</td>\n",
       "      <td>No hay otra promoción</td>\n",
       "      <td>ESP</td>\n",
       "    </tr>\n",
       "    <tr>\n",
       "      <th>...</th>\n",
       "      <td>...</td>\n",
       "      <td>...</td>\n",
       "      <td>...</td>\n",
       "      <td>...</td>\n",
       "      <td>...</td>\n",
       "      <td>...</td>\n",
       "      <td>...</td>\n",
       "      <td>...</td>\n",
       "      <td>...</td>\n",
       "      <td>...</td>\n",
       "      <td>...</td>\n",
       "      <td>...</td>\n",
       "      <td>...</td>\n",
       "      <td>...</td>\n",
       "      <td>...</td>\n",
       "      <td>...</td>\n",
       "      <td>...</td>\n",
       "      <td>...</td>\n",
       "      <td>...</td>\n",
       "      <td>...</td>\n",
       "    </tr>\n",
       "    <tr>\n",
       "      <th>8174</th>\n",
       "      <td>10000976</td>\n",
       "      <td>Tilt Brush de Google</td>\n",
       "      <td>2024-04-03T00:33:25.592913</td>\n",
       "      <td>PS4</td>\n",
       "      <td>Aventura, Aventura</td>\n",
       "      <td>Sony Interactive Entertainment Europe</td>\n",
       "      <td>26/3/2020</td>\n",
       "      <td>Alemán, Español, Francés (Francia), Inglés, It...</td>\n",
       "      <td>3.89</td>\n",
       "      <td>54 calificaciones</td>\n",
       "      <td>54 %</td>\n",
       "      <td>22 %</td>\n",
       "      <td>4 %</td>\n",
       "      <td>0 %</td>\n",
       "      <td>20 %</td>\n",
       "      <td>No hay información</td>\n",
       "      <td>No hay información</td>\n",
       "      <td>No hay información</td>\n",
       "      <td>No hay otra promoción</td>\n",
       "      <td>ESP</td>\n",
       "    </tr>\n",
       "    <tr>\n",
       "      <th>8310</th>\n",
       "      <td>10007222</td>\n",
       "      <td>Turbo Golf Racing</td>\n",
       "      <td>2024-04-03T00:38:11.827091</td>\n",
       "      <td>No hay información</td>\n",
       "      <td>Conducción/Carreras, Deporte, Grupo</td>\n",
       "      <td>HUGECALF STUDIOS LTD</td>\n",
       "      <td>4/4/2024</td>\n",
       "      <td>No hay información</td>\n",
       "      <td>No hay información</td>\n",
       "      <td>No hay información</td>\n",
       "      <td>No hay información</td>\n",
       "      <td>No hay información</td>\n",
       "      <td>No hay información</td>\n",
       "      <td>No hay información</td>\n",
       "      <td>No hay información</td>\n",
       "      <td>No hay información</td>\n",
       "      <td>No hay información</td>\n",
       "      <td>No hay información</td>\n",
       "      <td>No hay otra promoción</td>\n",
       "      <td>ESP</td>\n",
       "    </tr>\n",
       "    <tr>\n",
       "      <th>8334</th>\n",
       "      <td>10004289</td>\n",
       "      <td>UFL</td>\n",
       "      <td>2024-04-03T00:39:03.358170</td>\n",
       "      <td>No hay información</td>\n",
       "      <td>Deporte</td>\n",
       "      <td>XTEN Limited</td>\n",
       "      <td>No hay información</td>\n",
       "      <td>No hay información</td>\n",
       "      <td>No hay información</td>\n",
       "      <td>No hay información</td>\n",
       "      <td>No hay información</td>\n",
       "      <td>No hay información</td>\n",
       "      <td>No hay información</td>\n",
       "      <td>No hay información</td>\n",
       "      <td>No hay información</td>\n",
       "      <td>No hay información</td>\n",
       "      <td>No hay información</td>\n",
       "      <td>No hay información</td>\n",
       "      <td>No hay otra promoción</td>\n",
       "      <td>ESP</td>\n",
       "    </tr>\n",
       "    <tr>\n",
       "      <th>8569</th>\n",
       "      <td>10010291</td>\n",
       "      <td>Withering Rooms</td>\n",
       "      <td>2024-04-03T00:47:16.494874</td>\n",
       "      <td>No hay información</td>\n",
       "      <td>Juegos de rol</td>\n",
       "      <td>PERPETUAL</td>\n",
       "      <td>4/4/2024</td>\n",
       "      <td>No hay información</td>\n",
       "      <td>No hay información</td>\n",
       "      <td>No hay información</td>\n",
       "      <td>No hay información</td>\n",
       "      <td>No hay información</td>\n",
       "      <td>No hay información</td>\n",
       "      <td>No hay información</td>\n",
       "      <td>No hay información</td>\n",
       "      <td>No hay información</td>\n",
       "      <td>No hay información</td>\n",
       "      <td>No hay información</td>\n",
       "      <td>No hay otra promoción</td>\n",
       "      <td>ESP</td>\n",
       "    </tr>\n",
       "    <tr>\n",
       "      <th>8667</th>\n",
       "      <td>205520</td>\n",
       "      <td>Zen Pinball 2 Originals Season 1 Bundle</td>\n",
       "      <td>2024-04-03T00:50:22.815879</td>\n",
       "      <td>PS4</td>\n",
       "      <td>Arcade</td>\n",
       "      <td>ZEN STUDIOS LTD</td>\n",
       "      <td>24/5/2016</td>\n",
       "      <td>Alemán, Español, Francés (Francia), Inglés, It...</td>\n",
       "      <td>4</td>\n",
       "      <td>21 calificaciones</td>\n",
       "      <td>62 %</td>\n",
       "      <td>10 %</td>\n",
       "      <td>10 %</td>\n",
       "      <td>5 %</td>\n",
       "      <td>14 %</td>\n",
       "      <td>No hay información</td>\n",
       "      <td>No hay información</td>\n",
       "      <td>No hay información</td>\n",
       "      <td>No hay otra promoción</td>\n",
       "      <td>ESP</td>\n",
       "    </tr>\n",
       "  </tbody>\n",
       "</table>\n",
       "<p>69 rows × 20 columns</p>\n",
       "</div>"
      ],
      "text/plain": [
       "      id_juego                                     Titulo  \\\n",
       "414     221941  Call of Duty®: Modern Warfare® Remastered   \n",
       "553   10001023     Tennis World Tour 2 - Complete Edition   \n",
       "1310    235080                  Madden NFL 21 PS4™ & PS5™   \n",
       "1317    202007              Hotline Miami 2: Wrong Number   \n",
       "1624    205132                                Until Dawn™   \n",
       "...        ...                                        ...   \n",
       "8174  10000976                       Tilt Brush de Google   \n",
       "8310  10007222                          Turbo Golf Racing   \n",
       "8334  10004289                                        UFL   \n",
       "8569  10010291                            Withering Rooms   \n",
       "8667    205520    Zen Pinball 2 Originals Season 1 Bundle   \n",
       "\n",
       "                      Día y hora          Plataforma  \\\n",
       "414   2024-04-02T19:59:20.704051                 PS4   \n",
       "553   2024-04-02T20:04:45.064866                 PS5   \n",
       "1310  2024-04-02T20:33:56.450242            PS4, PS5   \n",
       "1317  2024-04-02T20:34:10.258579                 PS4   \n",
       "1624  2024-04-02T20:45:24.179131                 PS4   \n",
       "...                          ...                 ...   \n",
       "8174  2024-04-03T00:33:25.592913                 PS4   \n",
       "8310  2024-04-03T00:38:11.827091  No hay información   \n",
       "8334  2024-04-03T00:39:03.358170  No hay información   \n",
       "8569  2024-04-03T00:47:16.494874  No hay información   \n",
       "8667  2024-04-03T00:50:22.815879                 PS4   \n",
       "\n",
       "                                      Genero  \\\n",
       "414   Juegos de disparos, Juegos de disparos   \n",
       "553                                  Deporte   \n",
       "1310                                 Deporte   \n",
       "1317                          Acción, Acción   \n",
       "1624                Terror, Aventura, Terror   \n",
       "...                                      ...   \n",
       "8174                      Aventura, Aventura   \n",
       "8310     Conducción/Carreras, Deporte, Grupo   \n",
       "8334                                 Deporte   \n",
       "8569                           Juegos de rol   \n",
       "8667                                  Arcade   \n",
       "\n",
       "                                   Compañia         Lanzamiento  \\\n",
       "414            Activision Blizzard Int'l BV           26/6/2017   \n",
       "553                                NACON SA           25/3/2021   \n",
       "1310                          EA Swiss Sarl           3/12/2020   \n",
       "1317                       Devolver Digital           10/3/2015   \n",
       "1624  Sony Interactive Entertainment Europe           25/8/2015   \n",
       "...                                     ...                 ...   \n",
       "8174  Sony Interactive Entertainment Europe           26/3/2020   \n",
       "8310                   HUGECALF STUDIOS LTD            4/4/2024   \n",
       "8334                           XTEN Limited  No hay información   \n",
       "8569                              PERPETUAL            4/4/2024   \n",
       "8667                        ZEN STUDIOS LTD           24/5/2016   \n",
       "\n",
       "                                                Idiomas    Calificación PSN  \\\n",
       "414   Alemán, Español, Francés (Francia), Inglés, It...                4.41   \n",
       "553   Alemán, Chino (Simplificado), Chino (Tradicion...                3.01   \n",
       "1310                                             Inglés                3.28   \n",
       "1317  Alemán, Español, Francés (Francia), Inglés, Po...                4.71   \n",
       "1624  Danés, Español, Finlandés, Inglés, Noruego, Po...                4.63   \n",
       "...                                                 ...                 ...   \n",
       "8174  Alemán, Español, Francés (Francia), Inglés, It...                3.89   \n",
       "8310                                 No hay información  No hay información   \n",
       "8334                                 No hay información  No hay información   \n",
       "8569                                 No hay información  No hay información   \n",
       "8667  Alemán, Español, Francés (Francia), Inglés, It...                   4   \n",
       "\n",
       "     Número de calificaciones Calificación 5 estrellas  \\\n",
       "414     119414 calificaciones                     74 %   \n",
       "553       6828 calificaciones                     38 %   \n",
       "1310     10730 calificaciones                     47 %   \n",
       "1317     17492 calificaciones                     82 %   \n",
       "1624     90085 calificaciones                     78 %   \n",
       "...                       ...                      ...   \n",
       "8174        54 calificaciones                     54 %   \n",
       "8310       No hay información       No hay información   \n",
       "8334       No hay información       No hay información   \n",
       "8569       No hay información       No hay información   \n",
       "8667        21 calificaciones                     62 %   \n",
       "\n",
       "     Calificación 4 estrellas Calificación 3 estrellas  \\\n",
       "414                      11 %                      5 %   \n",
       "553                       9 %                      8 %   \n",
       "1310                      8 %                      6 %   \n",
       "1317                     12 %                      3 %   \n",
       "1624                     14 %                      4 %   \n",
       "...                       ...                      ...   \n",
       "8174                     22 %                      4 %   \n",
       "8310       No hay información       No hay información   \n",
       "8334       No hay información       No hay información   \n",
       "8569       No hay información       No hay información   \n",
       "8667                     10 %                     10 %   \n",
       "\n",
       "     Calificación 2 estrellas Calificación 1 estrella     Precio original  \\\n",
       "414                       1 %                     8 %  No hay información   \n",
       "553                       7 %                    38 %  No hay información   \n",
       "1310                      5 %                    35 %  No hay información   \n",
       "1317                      1 %                     2 %  No hay información   \n",
       "1624                      1 %                     3 %  No hay información   \n",
       "...                       ...                     ...                 ...   \n",
       "8174                      0 %                    20 %  No hay información   \n",
       "8310       No hay información      No hay información  No hay información   \n",
       "8334       No hay información      No hay información  No hay información   \n",
       "8569       No hay información      No hay información  No hay información   \n",
       "8667                      5 %                    14 %  No hay información   \n",
       "\n",
       "                  Oferta       Oferta PSPlus Otra promo diferente a PSPLUS  \\\n",
       "414   No hay información  No hay información         No hay otra promoción   \n",
       "553   No hay información  No hay información         No hay otra promoción   \n",
       "1310  No hay información  No hay información         No hay otra promoción   \n",
       "1317  No hay información  No hay información         No hay otra promoción   \n",
       "1624  No hay información  No hay información         No hay otra promoción   \n",
       "...                  ...                 ...                           ...   \n",
       "8174  No hay información  No hay información         No hay otra promoción   \n",
       "8310  No hay información  No hay información         No hay otra promoción   \n",
       "8334  No hay información  No hay información         No hay otra promoción   \n",
       "8569  No hay información  No hay información         No hay otra promoción   \n",
       "8667  No hay información  No hay información         No hay otra promoción   \n",
       "\n",
       "     País Store  \n",
       "414         ESP  \n",
       "553         ESP  \n",
       "1310        ESP  \n",
       "1317        ESP  \n",
       "1624        ESP  \n",
       "...         ...  \n",
       "8174        ESP  \n",
       "8310        ESP  \n",
       "8334        ESP  \n",
       "8569        ESP  \n",
       "8667        ESP  \n",
       "\n",
       "[69 rows x 20 columns]"
      ]
     },
     "execution_count": 5,
     "metadata": {},
     "output_type": "execute_result"
    }
   ],
   "source": [
    "df_webscrap[df_webscrap[\"Precio original\"] == \"No hay información\"]"
   ]
  },
  {
   "cell_type": "code",
   "execution_count": 6,
   "metadata": {},
   "outputs": [],
   "source": [
    "df_webscrap.drop(df_webscrap[df_webscrap[\"Precio original\"] == \"No hay información\"].index,inplace=True)\n"
   ]
  },
  {
   "cell_type": "markdown",
   "metadata": {},
   "source": [
    "### Id juego"
   ]
  },
  {
   "cell_type": "markdown",
   "metadata": {},
   "source": [
    "Comprobamos que no tengamos ningún valor repetido"
   ]
  },
  {
   "cell_type": "code",
   "execution_count": 7,
   "metadata": {},
   "outputs": [
    {
     "data": {
      "text/html": [
       "<div>\n",
       "<style scoped>\n",
       "    .dataframe tbody tr th:only-of-type {\n",
       "        vertical-align: middle;\n",
       "    }\n",
       "\n",
       "    .dataframe tbody tr th {\n",
       "        vertical-align: top;\n",
       "    }\n",
       "\n",
       "    .dataframe thead th {\n",
       "        text-align: right;\n",
       "    }\n",
       "</style>\n",
       "<table border=\"1\" class=\"dataframe\">\n",
       "  <thead>\n",
       "    <tr style=\"text-align: right;\">\n",
       "      <th></th>\n",
       "      <th>id_juego</th>\n",
       "      <th>Titulo</th>\n",
       "      <th>Día y hora</th>\n",
       "      <th>Plataforma</th>\n",
       "      <th>Genero</th>\n",
       "      <th>Compañia</th>\n",
       "      <th>Lanzamiento</th>\n",
       "      <th>Idiomas</th>\n",
       "      <th>Calificación PSN</th>\n",
       "      <th>Número de calificaciones</th>\n",
       "      <th>Calificación 5 estrellas</th>\n",
       "      <th>Calificación 4 estrellas</th>\n",
       "      <th>Calificación 3 estrellas</th>\n",
       "      <th>Calificación 2 estrellas</th>\n",
       "      <th>Calificación 1 estrella</th>\n",
       "      <th>Precio original</th>\n",
       "      <th>Oferta</th>\n",
       "      <th>Oferta PSPlus</th>\n",
       "      <th>Otra promo diferente a PSPLUS</th>\n",
       "      <th>País Store</th>\n",
       "    </tr>\n",
       "  </thead>\n",
       "  <tbody>\n",
       "    <tr>\n",
       "      <th>7248</th>\n",
       "      <td>234738</td>\n",
       "      <td>Bestanden! Dein Weg zum Führerschein (Código d...</td>\n",
       "      <td>2024-04-03T00:00:40.618699</td>\n",
       "      <td>PS4</td>\n",
       "      <td>Casual, Familia, Grupo</td>\n",
       "      <td>Microids</td>\n",
       "      <td>17/11/2022</td>\n",
       "      <td>Alemán</td>\n",
       "      <td>4.16</td>\n",
       "      <td>88 calificaciones</td>\n",
       "      <td>63 %</td>\n",
       "      <td>17 %</td>\n",
       "      <td>7 %</td>\n",
       "      <td>1 %</td>\n",
       "      <td>13 %</td>\n",
       "      <td>24,99 €</td>\n",
       "      <td>24,99 €</td>\n",
       "      <td>No hay información</td>\n",
       "      <td>No hay otra promoción</td>\n",
       "      <td>ESP</td>\n",
       "    </tr>\n",
       "    <tr>\n",
       "      <th>7249</th>\n",
       "      <td>10001052</td>\n",
       "      <td>Rusty Gun</td>\n",
       "      <td>2024-04-03T00:00:41.862222</td>\n",
       "      <td>PS4</td>\n",
       "      <td>Acción</td>\n",
       "      <td>VICTORY ROAD</td>\n",
       "      <td>13/8/2020</td>\n",
       "      <td>Inglés, Ruso</td>\n",
       "      <td>3.47</td>\n",
       "      <td>76 calificaciones</td>\n",
       "      <td>39 %</td>\n",
       "      <td>14 %</td>\n",
       "      <td>20 %</td>\n",
       "      <td>7 %</td>\n",
       "      <td>20 %</td>\n",
       "      <td>4,49 €</td>\n",
       "      <td>2,69 €</td>\n",
       "      <td>2,46 €</td>\n",
       "      <td>No hay otra promoción</td>\n",
       "      <td>ESP</td>\n",
       "    </tr>\n",
       "  </tbody>\n",
       "</table>\n",
       "</div>"
      ],
      "text/plain": [
       "      id_juego                                             Titulo  \\\n",
       "7248    234738  Bestanden! Dein Weg zum Führerschein (Código d...   \n",
       "7249  10001052                                          Rusty Gun   \n",
       "\n",
       "                      Día y hora Plataforma                  Genero  \\\n",
       "7248  2024-04-03T00:00:40.618699        PS4  Casual, Familia, Grupo   \n",
       "7249  2024-04-03T00:00:41.862222        PS4                  Acción   \n",
       "\n",
       "          Compañia Lanzamiento       Idiomas Calificación PSN  \\\n",
       "7248      Microids  17/11/2022        Alemán             4.16   \n",
       "7249  VICTORY ROAD   13/8/2020  Inglés, Ruso             3.47   \n",
       "\n",
       "     Número de calificaciones Calificación 5 estrellas  \\\n",
       "7248        88 calificaciones                     63 %   \n",
       "7249        76 calificaciones                     39 %   \n",
       "\n",
       "     Calificación 4 estrellas Calificación 3 estrellas  \\\n",
       "7248                     17 %                      7 %   \n",
       "7249                     14 %                     20 %   \n",
       "\n",
       "     Calificación 2 estrellas Calificación 1 estrella Precio original  \\\n",
       "7248                      1 %                    13 %         24,99 €   \n",
       "7249                      7 %                    20 %          4,49 €   \n",
       "\n",
       "       Oferta       Oferta PSPlus Otra promo diferente a PSPLUS País Store  \n",
       "7248  24,99 €  No hay información         No hay otra promoción        ESP  \n",
       "7249   2,69 €              2,46 €         No hay otra promoción        ESP  "
      ]
     },
     "execution_count": 7,
     "metadata": {},
     "output_type": "execute_result"
    }
   ],
   "source": [
    "df_webscrap[df_webscrap[\"id_juego\"].duplicated()]"
   ]
  },
  {
   "cell_type": "code",
   "execution_count": 8,
   "metadata": {},
   "outputs": [
    {
     "data": {
      "text/plain": [
       "0       10007176\n",
       "1         228748\n",
       "2       10001130\n",
       "3       10005844\n",
       "4       10007788\n",
       "          ...   \n",
       "8705      232440\n",
       "8706      216793\n",
       "8707    10009096\n",
       "8708    10004665\n",
       "8709    10010250\n",
       "Name: id_juego, Length: 8639, dtype: int64"
      ]
     },
     "execution_count": 8,
     "metadata": {},
     "output_type": "execute_result"
    }
   ],
   "source": [
    "df_webscrap[\"id_juego\"].drop_duplicates()"
   ]
  },
  {
   "cell_type": "code",
   "execution_count": 9,
   "metadata": {},
   "outputs": [],
   "source": [
    "df_webscrap.drop_duplicates(subset=[\"id_juego\"], inplace=True)\n"
   ]
  },
  {
   "cell_type": "code",
   "execution_count": 10,
   "metadata": {},
   "outputs": [
    {
     "data": {
      "text/html": [
       "<div>\n",
       "<style scoped>\n",
       "    .dataframe tbody tr th:only-of-type {\n",
       "        vertical-align: middle;\n",
       "    }\n",
       "\n",
       "    .dataframe tbody tr th {\n",
       "        vertical-align: top;\n",
       "    }\n",
       "\n",
       "    .dataframe thead th {\n",
       "        text-align: right;\n",
       "    }\n",
       "</style>\n",
       "<table border=\"1\" class=\"dataframe\">\n",
       "  <thead>\n",
       "    <tr style=\"text-align: right;\">\n",
       "      <th></th>\n",
       "      <th>id_juego</th>\n",
       "      <th>Titulo</th>\n",
       "      <th>Día y hora</th>\n",
       "      <th>Plataforma</th>\n",
       "      <th>Genero</th>\n",
       "      <th>Compañia</th>\n",
       "      <th>Lanzamiento</th>\n",
       "      <th>Idiomas</th>\n",
       "      <th>Calificación PSN</th>\n",
       "      <th>Número de calificaciones</th>\n",
       "      <th>Calificación 5 estrellas</th>\n",
       "      <th>Calificación 4 estrellas</th>\n",
       "      <th>Calificación 3 estrellas</th>\n",
       "      <th>Calificación 2 estrellas</th>\n",
       "      <th>Calificación 1 estrella</th>\n",
       "      <th>Precio original</th>\n",
       "      <th>Oferta</th>\n",
       "      <th>Oferta PSPlus</th>\n",
       "      <th>Otra promo diferente a PSPLUS</th>\n",
       "      <th>País Store</th>\n",
       "    </tr>\n",
       "  </thead>\n",
       "  <tbody>\n",
       "  </tbody>\n",
       "</table>\n",
       "</div>"
      ],
      "text/plain": [
       "Empty DataFrame\n",
       "Columns: [id_juego, Titulo, Día y hora, Plataforma, Genero, Compañia, Lanzamiento, Idiomas, Calificación PSN, Número de calificaciones, Calificación 5 estrellas, Calificación 4 estrellas, Calificación 3 estrellas, Calificación 2 estrellas, Calificación 1 estrella, Precio original, Oferta, Oferta PSPlus, Otra promo diferente a PSPLUS, País Store]\n",
       "Index: []"
      ]
     },
     "execution_count": 10,
     "metadata": {},
     "output_type": "execute_result"
    }
   ],
   "source": [
    "df_webscrap[df_webscrap[\"id_juego\"].duplicated()]"
   ]
  },
  {
   "cell_type": "markdown",
   "metadata": {},
   "source": [
    "### Título"
   ]
  },
  {
   "cell_type": "markdown",
   "metadata": {},
   "source": [
    "* Con la comprobación del principio nos quedamos tranquilos pero por si acaso..."
   ]
  },
  {
   "cell_type": "markdown",
   "metadata": {},
   "source": [
    "Hay veces que por motivos de espera no coge la información del juego concreto, por lo tanto vamos a rellenar la informacion del csv del día anterior con la de hoy, hemos cargado la info en un df y procedemos a ello."
   ]
  },
  {
   "cell_type": "code",
   "execution_count": 11,
   "metadata": {},
   "outputs": [
    {
     "data": {
      "text/html": [
       "<div>\n",
       "<style scoped>\n",
       "    .dataframe tbody tr th:only-of-type {\n",
       "        vertical-align: middle;\n",
       "    }\n",
       "\n",
       "    .dataframe tbody tr th {\n",
       "        vertical-align: top;\n",
       "    }\n",
       "\n",
       "    .dataframe thead th {\n",
       "        text-align: right;\n",
       "    }\n",
       "</style>\n",
       "<table border=\"1\" class=\"dataframe\">\n",
       "  <thead>\n",
       "    <tr style=\"text-align: right;\">\n",
       "      <th></th>\n",
       "      <th>id_juego</th>\n",
       "      <th>Titulo</th>\n",
       "      <th>Día y hora</th>\n",
       "      <th>Plataforma</th>\n",
       "      <th>Genero</th>\n",
       "      <th>Compañia</th>\n",
       "      <th>Lanzamiento</th>\n",
       "      <th>Idiomas</th>\n",
       "      <th>Calificación PSN</th>\n",
       "      <th>Número de calificaciones</th>\n",
       "      <th>Calificación 5 estrellas</th>\n",
       "      <th>Calificación 4 estrellas</th>\n",
       "      <th>Calificación 3 estrellas</th>\n",
       "      <th>Calificación 2 estrellas</th>\n",
       "      <th>Calificación 1 estrella</th>\n",
       "      <th>Precio original</th>\n",
       "      <th>Oferta</th>\n",
       "      <th>Oferta PSPlus</th>\n",
       "      <th>Otra promo diferente a PSPLUS</th>\n",
       "      <th>País Store</th>\n",
       "    </tr>\n",
       "  </thead>\n",
       "  <tbody>\n",
       "  </tbody>\n",
       "</table>\n",
       "</div>"
      ],
      "text/plain": [
       "Empty DataFrame\n",
       "Columns: [id_juego, Titulo, Día y hora, Plataforma, Genero, Compañia, Lanzamiento, Idiomas, Calificación PSN, Número de calificaciones, Calificación 5 estrellas, Calificación 4 estrellas, Calificación 3 estrellas, Calificación 2 estrellas, Calificación 1 estrella, Precio original, Oferta, Oferta PSPlus, Otra promo diferente a PSPLUS, País Store]\n",
       "Index: []"
      ]
     },
     "execution_count": 11,
     "metadata": {},
     "output_type": "execute_result"
    }
   ],
   "source": [
    "df_webscrap[df_webscrap[\"Titulo\"] == \"No hay información\"]"
   ]
  },
  {
   "cell_type": "code",
   "execution_count": 12,
   "metadata": {},
   "outputs": [
    {
     "data": {
      "text/plain": [
       "Index([], dtype='int64')"
      ]
     },
     "execution_count": 12,
     "metadata": {},
     "output_type": "execute_result"
    }
   ],
   "source": [
    "df_webscrap[df_webscrap[\"Titulo\"] == \"No hay información\"].index"
   ]
  },
  {
   "cell_type": "code",
   "execution_count": 13,
   "metadata": {},
   "outputs": [],
   "source": [
    "df_webscrap.drop(df_webscrap[df_webscrap[\"Titulo\"] == \"No hay información\"].index,inplace=True)"
   ]
  },
  {
   "cell_type": "markdown",
   "metadata": {},
   "source": [
    "Comprobamos que está todo ok y no hay valores sin información"
   ]
  },
  {
   "cell_type": "code",
   "execution_count": 14,
   "metadata": {},
   "outputs": [
    {
     "data": {
      "text/plain": [
       "Index([], dtype='int64')"
      ]
     },
     "execution_count": 14,
     "metadata": {},
     "output_type": "execute_result"
    }
   ],
   "source": [
    "df_webscrap[df_webscrap[\"Titulo\"] == \"No hay información\"].index"
   ]
  },
  {
   "cell_type": "markdown",
   "metadata": {},
   "source": [
    "---"
   ]
  },
  {
   "cell_type": "markdown",
   "metadata": {},
   "source": [
    "### Género"
   ]
  },
  {
   "cell_type": "code",
   "execution_count": 15,
   "metadata": {},
   "outputs": [
    {
     "name": "stdout",
     "output_type": "stream",
     "text": [
      "['Deporte' 'Acción' 'Aventura' 'Juegos de rol' 'Conducción/Carreras'\n",
      " 'Únicos' 'Lucha' 'Juegos de disparos' 'Casual' 'Familia' 'Simulación'\n",
      " 'Terror' 'Simulador' 'Estrategia' 'Arcade' 'Puzzle' 'Grupo'\n",
      " 'Música/Ritmo' 'Educativos' 'Fitness' 'Agilidad mental'\n",
      " 'No hay información' 'Adulto' 'Preguntas y respuestas']\n"
     ]
    }
   ],
   "source": [
    "print(df_webscrap['Genero'].str.split(',').explode().str.strip().unique())\n"
   ]
  },
  {
   "cell_type": "code",
   "execution_count": 16,
   "metadata": {},
   "outputs": [],
   "source": [
    "df_webscrap[\"Genero\"] = df_webscrap[\"Genero\"].apply(lambda x: x.split(','))\n",
    "df_webscrap[\"Genero\"] = df_webscrap[\"Genero\"].apply(lambda x: list(set(x)))\n",
    "df_webscrap[\"Genero\"] = df_webscrap[\"Genero\"].apply(lambda x: ','.join(x))"
   ]
  },
  {
   "cell_type": "code",
   "execution_count": 17,
   "metadata": {},
   "outputs": [
    {
     "data": {
      "text/plain": [
       "0                                  Deporte\n",
       "1                          Aventura,Acción\n",
       "2                                   Acción\n",
       "3                     Juegos de rol,Acción\n",
       "4                                  Deporte\n",
       "                       ...                \n",
       "8705                                Acción\n",
       "8706     Juegos de disparos, Arcade,Acción\n",
       "8707                                Arcade\n",
       "8708     Juegos de disparos, Arcade,Acción\n",
       "8709                              Aventura\n",
       "Name: Genero, Length: 8639, dtype: object"
      ]
     },
     "execution_count": 17,
     "metadata": {},
     "output_type": "execute_result"
    }
   ],
   "source": [
    "df_webscrap[\"Genero\"]"
   ]
  },
  {
   "cell_type": "markdown",
   "metadata": {},
   "source": [
    "### Dia y hora"
   ]
  },
  {
   "cell_type": "code",
   "execution_count": 18,
   "metadata": {},
   "outputs": [
    {
     "data": {
      "text/plain": [
       "dtype('O')"
      ]
     },
     "execution_count": 18,
     "metadata": {},
     "output_type": "execute_result"
    }
   ],
   "source": [
    "df_webscrap[\"Día y hora\"].dtype"
   ]
  },
  {
   "cell_type": "code",
   "execution_count": 19,
   "metadata": {},
   "outputs": [],
   "source": [
    "df_webscrap[\"Día y hora\"] = pd.to_datetime(df_webscrap[\"Día y hora\"])"
   ]
  },
  {
   "cell_type": "code",
   "execution_count": 20,
   "metadata": {},
   "outputs": [
    {
     "data": {
      "text/plain": [
       "dtype('<M8[ns]')"
      ]
     },
     "execution_count": 20,
     "metadata": {},
     "output_type": "execute_result"
    }
   ],
   "source": [
    "df_webscrap[\"Día y hora\"].dtype"
   ]
  },
  {
   "cell_type": "markdown",
   "metadata": {},
   "source": [
    "Dia y hora listo"
   ]
  },
  {
   "cell_type": "markdown",
   "metadata": {},
   "source": [
    "---"
   ]
  },
  {
   "cell_type": "markdown",
   "metadata": {},
   "source": [
    "### Calificación PSN"
   ]
  },
  {
   "cell_type": "markdown",
   "metadata": {},
   "source": [
    "Sin datos  Calificación == 0"
   ]
  },
  {
   "cell_type": "code",
   "execution_count": 21,
   "metadata": {},
   "outputs": [],
   "source": [
    "#Calificación del juego\n",
    "df_webscrap[\"Calificación PSN\"] = df_webscrap[\"Calificación PSN\"].str.replace(\"No hay información\",\"0.00\")\n",
    "df_webscrap[\"Calificación PSN\"] = df_webscrap[\"Calificación PSN\"].astype(float)"
   ]
  },
  {
   "cell_type": "code",
   "execution_count": 22,
   "metadata": {},
   "outputs": [
    {
     "data": {
      "text/plain": [
       "array([3.4 , 4.32, 4.04, 4.11, 3.1 , 4.52, 3.75, 4.35, 4.51, 4.3 , 4.71,\n",
       "       4.59, 4.5 , 4.58, 3.01, 4.34, 4.24, 4.57, 4.28, 4.72, 4.6 , 3.97,\n",
       "       4.42, 4.14, 3.98, 4.75, 4.37, 4.44, 4.78, 4.13, 4.41, 4.55, 3.84,\n",
       "       0.  , 4.17, 4.07, 4.82, 4.87, 4.19, 3.95, 4.8 , 4.43, 4.64, 4.7 ,\n",
       "       4.16, 4.39, 3.28, 3.66, 3.08, 4.84, 2.7 , 4.23, 4.4 , 4.91, 4.1 ,\n",
       "       3.81, 4.25, 4.12, 4.53, 4.45, 4.76, 3.82, 3.73, 4.31, 3.58, 2.94,\n",
       "       3.79, 4.05, 4.66, 4.46, 4.18, 4.33, 4.09, 4.62, 2.82, 4.79, 3.18,\n",
       "       4.56, 4.77, 3.55, 2.9 , 3.59, 3.72, 4.89, 4.49, 4.54, 4.81, 3.87,\n",
       "       4.02, 3.85, 4.  , 3.83, 4.01, 4.63, 3.89, 3.64, 4.06, 4.92, 2.83,\n",
       "       3.99, 4.47, 3.88, 4.15, 4.65, 4.86, 3.93, 4.73, 3.63, 4.68, 3.74,\n",
       "       4.74, 3.17, 4.29, 4.21, 4.03, 3.77, 2.55, 4.36, 1.88, 4.38, 4.69,\n",
       "       3.19, 3.21, 4.22, 4.08, 4.26, 4.2 , 3.57, 3.11, 3.71, 4.61, 3.67,\n",
       "       4.85, 3.5 , 3.04, 4.27, 3.62, 3.96, 3.61, 3.8 , 3.9 , 4.88, 2.52,\n",
       "       3.25, 3.52, 2.95, 3.78, 2.22, 3.46, 4.48, 4.67, 3.38, 3.33, 3.86,\n",
       "       3.69, 3.51, 3.05, 3.94, 2.3 , 4.9 , 3.27, 3.48, 2.27, 3.65, 3.32,\n",
       "       2.84, 3.53, 3.07, 2.32, 2.45, 1.87, 3.54, 2.67, 2.19, 3.36, 2.6 ,\n",
       "       4.83, 2.57, 3.  , 2.49, 2.66, 3.68, 3.41, 2.61, 3.47, 4.96, 3.44,\n",
       "       2.4 , 3.35, 2.96, 3.2 , 2.89, 2.97, 3.76, 3.6 , 1.63, 3.45, 3.91,\n",
       "       3.56, 3.12, 3.29, 2.14, 2.68, 2.87, 3.43, 2.91, 2.38, 2.54, 2.75,\n",
       "       4.94, 2.53, 3.34, 2.33, 1.74, 1.2 , 3.92, 1.59, 2.93, 4.97, 2.8 ,\n",
       "       2.86, 2.77, 2.98, 3.06, 3.14, 3.49, 2.24, 2.62, 3.24, 3.02, 2.11,\n",
       "       2.21, 3.15, 1.95, 2.74, 2.17, 3.22, 3.03, 2.  , 3.31, 2.69, 3.37,\n",
       "       1.93, 2.71, 2.16, 3.13, 5.  , 1.99, 2.78, 2.81, 2.73, 3.42, 2.99,\n",
       "       2.88, 2.64, 2.03, 1.14, 2.23, 3.7 , 2.46, 1.57, 3.16, 2.07, 2.44,\n",
       "       1.3 , 2.05, 1.51, 2.63, 2.58, 2.5 , 2.31, 3.26, 3.3 , 1.8 , 1.55,\n",
       "       3.39, 4.95, 3.23, 1.84, 4.93, 1.42, 2.92, 2.04, 2.13, 2.06, 2.47,\n",
       "       1.  , 1.78, 1.5 , 2.41, 1.46, 1.86, 3.09, 1.91, 1.85, 1.43, 2.76,\n",
       "       2.43, 2.35, 2.72, 2.48, 2.42, 2.85, 1.67, 2.15, 1.4 , 2.65, 2.56,\n",
       "       2.59, 1.72, 2.29, 2.79, 1.33, 1.79, 2.39, 1.66, 2.2 , 1.89, 2.09,\n",
       "       1.73, 1.64, 1.98, 2.36, 1.53, 2.25, 1.17, 1.44, 1.75, 2.37, 2.28,\n",
       "       2.26, 1.82, 1.25, 2.51, 1.83, 2.08, 1.68, 2.34, 1.38])"
      ]
     },
     "execution_count": 22,
     "metadata": {},
     "output_type": "execute_result"
    }
   ],
   "source": [
    "df_webscrap[\"Calificación PSN\"].unique()"
   ]
  },
  {
   "cell_type": "code",
   "execution_count": 23,
   "metadata": {},
   "outputs": [
    {
     "data": {
      "text/plain": [
       "dtype('float64')"
      ]
     },
     "execution_count": 23,
     "metadata": {},
     "output_type": "execute_result"
    }
   ],
   "source": [
    "df_webscrap[\"Calificación PSN\"].dtype"
   ]
  },
  {
   "cell_type": "markdown",
   "metadata": {},
   "source": [
    "La calificación del juego esta limpia"
   ]
  },
  {
   "cell_type": "markdown",
   "metadata": {},
   "source": [
    "---"
   ]
  },
  {
   "cell_type": "markdown",
   "metadata": {},
   "source": [
    "Primer check"
   ]
  },
  {
   "cell_type": "code",
   "execution_count": 24,
   "metadata": {},
   "outputs": [
    {
     "name": "stdout",
     "output_type": "stream",
     "text": [
      "<class 'pandas.core.frame.DataFrame'>\n",
      "Index: 8639 entries, 0 to 8709\n",
      "Data columns (total 20 columns):\n",
      " #   Column                         Non-Null Count  Dtype         \n",
      "---  ------                         --------------  -----         \n",
      " 0   id_juego                       8639 non-null   int64         \n",
      " 1   Titulo                         8639 non-null   object        \n",
      " 2   Día y hora                     8639 non-null   datetime64[ns]\n",
      " 3   Plataforma                     8639 non-null   object        \n",
      " 4   Genero                         8639 non-null   object        \n",
      " 5   Compañia                       8639 non-null   object        \n",
      " 6   Lanzamiento                    8639 non-null   object        \n",
      " 7   Idiomas                        8639 non-null   object        \n",
      " 8   Calificación PSN               8639 non-null   float64       \n",
      " 9   Número de calificaciones       8639 non-null   object        \n",
      " 10  Calificación 5 estrellas       8639 non-null   object        \n",
      " 11  Calificación 4 estrellas       8639 non-null   object        \n",
      " 12  Calificación 3 estrellas       8639 non-null   object        \n",
      " 13  Calificación 2 estrellas       8639 non-null   object        \n",
      " 14  Calificación 1 estrella        8639 non-null   object        \n",
      " 15  Precio original                8639 non-null   object        \n",
      " 16  Oferta                         8639 non-null   object        \n",
      " 17  Oferta PSPlus                  8639 non-null   object        \n",
      " 18  Otra promo diferente a PSPLUS  8639 non-null   object        \n",
      " 19  País Store                     8639 non-null   object        \n",
      "dtypes: datetime64[ns](1), float64(1), int64(1), object(17)\n",
      "memory usage: 1.4+ MB\n"
     ]
    }
   ],
   "source": [
    "df_webscrap.info()"
   ]
  },
  {
   "cell_type": "markdown",
   "metadata": {},
   "source": [
    "---"
   ]
  },
  {
   "cell_type": "markdown",
   "metadata": {},
   "source": [
    "### Plataforma"
   ]
  },
  {
   "cell_type": "code",
   "execution_count": 25,
   "metadata": {},
   "outputs": [
    {
     "data": {
      "text/plain": [
       "array(['PS4, PS5', 'PS5', 'PS4'], dtype=object)"
      ]
     },
     "execution_count": 25,
     "metadata": {},
     "output_type": "execute_result"
    }
   ],
   "source": [
    "df_webscrap[\"Plataforma\"].unique()"
   ]
  },
  {
   "cell_type": "markdown",
   "metadata": {},
   "source": [
    "La plataforma no la tocamos ya que las posibilidades son las que son"
   ]
  },
  {
   "cell_type": "markdown",
   "metadata": {},
   "source": [
    "---"
   ]
  },
  {
   "cell_type": "markdown",
   "metadata": {},
   "source": [
    "### Compañia"
   ]
  },
  {
   "cell_type": "code",
   "execution_count": 26,
   "metadata": {},
   "outputs": [
    {
     "name": "stdout",
     "output_type": "stream",
     "text": [
      "1631\n",
      "1631\n"
     ]
    }
   ],
   "source": [
    "print(len(df_webscrap[\"Compañia\"].unique()))\n",
    "print(df_webscrap[\"Compañia\"].nunique()) # Comprobamos que no tenemos valores nulos"
   ]
  },
  {
   "cell_type": "markdown",
   "metadata": {},
   "source": [
    "En principio vamos a dejar todas las compañias tal cual."
   ]
  },
  {
   "cell_type": "markdown",
   "metadata": {},
   "source": [
    "---"
   ]
  },
  {
   "cell_type": "markdown",
   "metadata": {},
   "source": [
    "### Lanzamiento"
   ]
  },
  {
   "cell_type": "code",
   "execution_count": 27,
   "metadata": {},
   "outputs": [],
   "source": [
    "for i in df_webscrap[\"Lanzamiento\"].unique():\n",
    "    if len(i) <=7:\n",
    "        print(i)\n"
   ]
  },
  {
   "cell_type": "code",
   "execution_count": 29,
   "metadata": {},
   "outputs": [],
   "source": [
    "#Fecha de lanzamiento\n",
    "df_webscrap[\"Lanzamiento\"] = df_webscrap[\"Lanzamiento\"].str.replace(r\"^(.{1,6})$\", \"01/01/2024\",regex=True)\n",
    "df_webscrap[\"Lanzamiento\"] = df_webscrap[\"Lanzamiento\"].str.replace(\"No hay información\", \"01/01/2000\")\n",
    "df_webscrap[\"Lanzamiento\"] = pd.to_datetime(df_webscrap[\"Lanzamiento\"], dayfirst=True)"
   ]
  },
  {
   "cell_type": "code",
   "execution_count": 30,
   "metadata": {},
   "outputs": [
    {
     "name": "stdout",
     "output_type": "stream",
     "text": [
      "datetime64[ns]\n"
     ]
    },
    {
     "data": {
      "text/plain": [
       "0   2023-09-28\n",
       "1   2017-07-21\n",
       "2   2023-11-02\n",
       "3   2024-03-21\n",
       "4   2023-09-07\n",
       "Name: Lanzamiento, dtype: datetime64[ns]"
      ]
     },
     "execution_count": 30,
     "metadata": {},
     "output_type": "execute_result"
    }
   ],
   "source": [
    "print(df_webscrap[\"Lanzamiento\"].dtype)\n",
    "df_webscrap[\"Lanzamiento\"].head(5)"
   ]
  },
  {
   "cell_type": "markdown",
   "metadata": {},
   "source": [
    "Fecha de lanzamiento esta ok"
   ]
  },
  {
   "cell_type": "markdown",
   "metadata": {},
   "source": [
    "---"
   ]
  },
  {
   "cell_type": "markdown",
   "metadata": {},
   "source": [
    "### Idiomas"
   ]
  },
  {
   "cell_type": "code",
   "execution_count": 31,
   "metadata": {},
   "outputs": [
    {
     "name": "stdout",
     "output_type": "stream",
     "text": [
      "['No hay información' 'Alemán' 'Coreano' 'Español' 'Español (México)'\n",
      " 'Francés (Francia)' 'Inglés' 'Italiano' 'Japonés' 'Polaco'\n",
      " 'Portugués (Brasil)' 'Ruso' 'Turco' 'Árabe' 'Chino (Simplificado)'\n",
      " 'Chino (Tradicional)' 'Griego' 'Neerlandés' 'Portugués (Portugal)'\n",
      " 'Sueco' 'Checo' 'Danés' 'Finlandés' 'Noruego' 'Eslovenio'\n",
      " 'Francés (Canadá)' 'Húngaro' 'Ucraniano' 'Tailandés' 'Vietnamita'\n",
      " 'Croata' 'Hindi' 'Rumano' 'Eslovaco' 'Irlandés' 'Búlgaro' 'Catalán'\n",
      " 'Vasco' 'Francés (Bélgica)' 'Gallego' 'Afrikaans' 'Galés'\n",
      " 'Gaélico escocés' 'Malayo' 'Tagalo']\n"
     ]
    }
   ],
   "source": [
    "print(df_webscrap['Idiomas'].str.split(',').explode().str.strip().unique())"
   ]
  },
  {
   "cell_type": "code",
   "execution_count": 32,
   "metadata": {},
   "outputs": [],
   "source": [
    "df_webscrap[\"Idiomas\"] = df_webscrap[\"Idiomas\"].apply(lambda x: x.split(','))\n",
    "df_webscrap[\"Idiomas\"] = df_webscrap[\"Idiomas\"].apply(lambda x: list(set(x)))\n",
    "df_webscrap[\"Idiomas\"] = df_webscrap[\"Idiomas\"].apply(lambda x: ','.join(x))"
   ]
  },
  {
   "cell_type": "code",
   "execution_count": 33,
   "metadata": {},
   "outputs": [
    {
     "data": {
      "text/plain": [
       "0                                      No hay información\n",
       "1        Coreano, Árabe, Inglés,Alemán, Italiano, Pola...\n",
       "2        Inglés,Alemán, Polaco, Francés (Francia), Ita...\n",
       "3        Árabe, Inglés,Alemán, Italiano, Francés (Fran...\n",
       "4        Coreano, Inglés, Chino (Simplificado),Alemán,...\n",
       "                              ...                        \n",
       "8705     Inglés,Alemán, Francés (Francia), Italiano, E...\n",
       "8706                                               Inglés\n",
       "8707     Inglés, Checo,Alemán, Italiano, Francés (Fran...\n",
       "8708                                       Japonés,Inglés\n",
       "8709                                               Inglés\n",
       "Name: Idiomas, Length: 8639, dtype: object"
      ]
     },
     "execution_count": 33,
     "metadata": {},
     "output_type": "execute_result"
    }
   ],
   "source": [
    "df_webscrap[\"Idiomas\"]"
   ]
  },
  {
   "cell_type": "markdown",
   "metadata": {},
   "source": [
    "Idiomas ok, seguimos con la limpieza"
   ]
  },
  {
   "cell_type": "markdown",
   "metadata": {},
   "source": [
    "---"
   ]
  },
  {
   "cell_type": "code",
   "execution_count": 34,
   "metadata": {},
   "outputs": [
    {
     "name": "stdout",
     "output_type": "stream",
     "text": [
      "<class 'pandas.core.frame.DataFrame'>\n",
      "Index: 8639 entries, 0 to 8709\n",
      "Data columns (total 20 columns):\n",
      " #   Column                         Non-Null Count  Dtype         \n",
      "---  ------                         --------------  -----         \n",
      " 0   id_juego                       8639 non-null   int64         \n",
      " 1   Titulo                         8639 non-null   object        \n",
      " 2   Día y hora                     8639 non-null   datetime64[ns]\n",
      " 3   Plataforma                     8639 non-null   object        \n",
      " 4   Genero                         8639 non-null   object        \n",
      " 5   Compañia                       8639 non-null   object        \n",
      " 6   Lanzamiento                    8639 non-null   datetime64[ns]\n",
      " 7   Idiomas                        8639 non-null   object        \n",
      " 8   Calificación PSN               8639 non-null   float64       \n",
      " 9   Número de calificaciones       8639 non-null   object        \n",
      " 10  Calificación 5 estrellas       8639 non-null   object        \n",
      " 11  Calificación 4 estrellas       8639 non-null   object        \n",
      " 12  Calificación 3 estrellas       8639 non-null   object        \n",
      " 13  Calificación 2 estrellas       8639 non-null   object        \n",
      " 14  Calificación 1 estrella        8639 non-null   object        \n",
      " 15  Precio original                8639 non-null   object        \n",
      " 16  Oferta                         8639 non-null   object        \n",
      " 17  Oferta PSPlus                  8639 non-null   object        \n",
      " 18  Otra promo diferente a PSPLUS  8639 non-null   object        \n",
      " 19  País Store                     8639 non-null   object        \n",
      "dtypes: datetime64[ns](2), float64(1), int64(1), object(16)\n",
      "memory usage: 1.4+ MB\n"
     ]
    }
   ],
   "source": [
    "df_webscrap.info()"
   ]
  },
  {
   "cell_type": "markdown",
   "metadata": {},
   "source": [
    "### Número de calificaciones"
   ]
  },
  {
   "cell_type": "code",
   "execution_count": 35,
   "metadata": {},
   "outputs": [],
   "source": [
    "df_webscrap[\"Número de calificaciones\"] = df_webscrap[\"Número de calificaciones\"].str.replace(\"No hay información\", \"0\")\n",
    "df_webscrap[\"Número de calificaciones\"] = df_webscrap[\"Número de calificaciones\"].str.extract('(\\d+)') #en caso de necesitar \n",
    "df_webscrap[\"Número de calificaciones\"].fillna(0,inplace=True)"
   ]
  },
  {
   "cell_type": "code",
   "execution_count": 36,
   "metadata": {},
   "outputs": [
    {
     "data": {
      "text/plain": [
       "0         63005\n",
       "1       6759302\n",
       "2        302902\n",
       "3         14188\n",
       "4         24480\n",
       "         ...   \n",
       "8705       1439\n",
       "8706        278\n",
       "8707          7\n",
       "8708         39\n",
       "8709          0\n",
       "Name: Número de calificaciones, Length: 8639, dtype: object"
      ]
     },
     "execution_count": 36,
     "metadata": {},
     "output_type": "execute_result"
    }
   ],
   "source": [
    "df_webscrap[\"Número de calificaciones\"]"
   ]
  },
  {
   "cell_type": "code",
   "execution_count": 37,
   "metadata": {},
   "outputs": [],
   "source": [
    "df_webscrap[\"Número de calificaciones\"]  = df_webscrap[\"Número de calificaciones\"].astype(int)"
   ]
  },
  {
   "cell_type": "code",
   "execution_count": 38,
   "metadata": {},
   "outputs": [
    {
     "data": {
      "text/plain": [
       "dtype('int32')"
      ]
     },
     "execution_count": 38,
     "metadata": {},
     "output_type": "execute_result"
    }
   ],
   "source": [
    "df_webscrap[\"Número de calificaciones\"].dtype"
   ]
  },
  {
   "cell_type": "markdown",
   "metadata": {},
   "source": [
    "Estaría bien añadir replace para todo tipo de caracter por 0"
   ]
  },
  {
   "cell_type": "markdown",
   "metadata": {},
   "source": [
    "Por ahora todo ok, seguimos"
   ]
  },
  {
   "cell_type": "markdown",
   "metadata": {},
   "source": [
    "---"
   ]
  },
  {
   "cell_type": "markdown",
   "metadata": {},
   "source": [
    "### Todas las calificaciones"
   ]
  },
  {
   "cell_type": "code",
   "execution_count": 39,
   "metadata": {},
   "outputs": [
    {
     "data": {
      "text/plain": [
       "array(['45 %', '71 %', '62 %', '68 %', '35 %', '79 %', '53 %', '81 %',\n",
       "       '69 %', '88 %', '83 %', '72 %', '30 %', '73 %', '82 %', '89 %',\n",
       "       '67 %', '50 %', '76 %', '60 %', '90 %', '70 %', '65 %', '75 %',\n",
       "       'No hay información', '92 %', '56 %', '80 %', '86 %', '84 %',\n",
       "       '36 %', '43 %', '58 %', '22 %', '66 %', '64 %', '78 %', '96 %',\n",
       "       '61 %', '55 %', '77 %', '74 %', '63 %', '87 %', '59 %', '48 %',\n",
       "       '51 %', '26 %', '52 %', '57 %', '37 %', '46 %', '54 %', '44 %',\n",
       "       '94 %', '85 %', '42 %', '93 %', '27 %', '16 %', '41 %', '31 %',\n",
       "       '91 %', '49 %', '47 %', '25 %', '34 %', '95 %', '33 %', '39 %',\n",
       "       '23 %', '28 %', '40 %', '32 %', '21 %', '11 %', '24 %', '20 %',\n",
       "       '18 %', '97 %', '38 %', '10 %', '0 %', '13 %', '29 %', '19 %',\n",
       "       '9 %', '98 %', '14 %', '12 %', '17 %', '15 %', '100 %', '4 %',\n",
       "       '8 %', '7 %', '6 %', '5 %'], dtype=object)"
      ]
     },
     "execution_count": 39,
     "metadata": {},
     "output_type": "execute_result"
    }
   ],
   "source": [
    "df_webscrap[\"Calificación 5 estrellas\"].unique()"
   ]
  },
  {
   "cell_type": "code",
   "execution_count": 40,
   "metadata": {},
   "outputs": [],
   "source": [
    "\n",
    "#  Calificación 5 estrellas convertido a float\n",
    "df_webscrap[\"Calificación 5 estrellas\"] = df_webscrap[\"Calificación 5 estrellas\"].str.replace(\" %\",'').str.replace(\".\",\"\")\n",
    "df_webscrap[\"Calificación 5 estrellas\"] = df_webscrap[\"Calificación 5 estrellas\"].str.replace(\"No hay información\", \"0\").astype(int)\n",
    "#  Calificación 4 estrellas convertido a float\n",
    "df_webscrap[\"Calificación 4 estrellas\"] = df_webscrap[\"Calificación 4 estrellas\"].str.replace(\" %\",'').str.replace(\".\",\"\")\n",
    "df_webscrap[\"Calificación 4 estrellas\"] = df_webscrap[\"Calificación 4 estrellas\"].str.replace(\"No hay información\", \"0\").astype(int)\n",
    "#  Calificación 3 estrellas convertido a float\n",
    "df_webscrap[\"Calificación 3 estrellas\"] = df_webscrap[\"Calificación 3 estrellas\"].str.replace(\" %\",'').str.replace(\".\",\"\")\n",
    "df_webscrap[\"Calificación 3 estrellas\"] = df_webscrap[\"Calificación 3 estrellas\"].str.replace(\"No hay información\", \"0\").astype(int)\n",
    "\n",
    "#  Calificación 2 estrellas convertido a float\n",
    "df_webscrap[\"Calificación 2 estrellas\"] = df_webscrap[\"Calificación 2 estrellas\"].str.replace(\" %\",'').str.replace(\".\",\"\")\n",
    "df_webscrap[\"Calificación 2 estrellas\"] = df_webscrap[\"Calificación 2 estrellas\"].str.replace(\"No hay información\", \"0\").astype(int)\n",
    "#  Calificación 1 estrella convertido a float\n",
    "df_webscrap[\"Calificación 1 estrella\"] = df_webscrap[\"Calificación 1 estrella\"].str.replace(\" %\",'').str.replace(\".\",\"\")\n",
    "df_webscrap[\"Calificación 1 estrella\"] = df_webscrap[\"Calificación 1 estrella\"].str.replace(\"No hay información\", \"0\").astype(int)\n"
   ]
  },
  {
   "cell_type": "markdown",
   "metadata": {},
   "source": [
    "Cambiamos en vez de porcentaje a numero de votos"
   ]
  },
  {
   "cell_type": "code",
   "execution_count": 41,
   "metadata": {},
   "outputs": [
    {
     "data": {
      "text/plain": [
       "0         28352\n",
       "1       4799104\n",
       "2        187799\n",
       "3          9647\n",
       "4          8568\n",
       "         ...   \n",
       "8705       1194\n",
       "8706         94\n",
       "8707          3\n",
       "8708         21\n",
       "8709          0\n",
       "Length: 8639, dtype: int32"
      ]
     },
     "execution_count": 41,
     "metadata": {},
     "output_type": "execute_result"
    }
   ],
   "source": [
    "((df_webscrap[\"Calificación 5 estrellas\"]/100)*df_webscrap[\"Número de calificaciones\"]).astype(int)"
   ]
  },
  {
   "cell_type": "code",
   "execution_count": 42,
   "metadata": {},
   "outputs": [],
   "source": [
    "df_webscrap[\"Calificación 5 estrellas\"] = ((df_webscrap[\"Calificación 5 estrellas\"]/100)*df_webscrap[\"Número de calificaciones\"]).astype(int)\n",
    "df_webscrap[\"Calificación 4 estrellas\"] = ((df_webscrap[\"Calificación 4 estrellas\"]/100)*df_webscrap[\"Número de calificaciones\"]).astype(int)\n",
    "df_webscrap[\"Calificación 3 estrellas\"] = ((df_webscrap[\"Calificación 3 estrellas\"]/100)*df_webscrap[\"Número de calificaciones\"]).astype(int)\n",
    "df_webscrap[\"Calificación 2 estrellas\"] = ((df_webscrap[\"Calificación 2 estrellas\"]/100)*df_webscrap[\"Número de calificaciones\"]).astype(int)\n",
    "df_webscrap[\"Calificación 1 estrella\"] = ((df_webscrap[\"Calificación 1 estrella\"]/100)*df_webscrap[\"Número de calificaciones\"]).astype(int)"
   ]
  },
  {
   "cell_type": "code",
   "execution_count": 43,
   "metadata": {},
   "outputs": [
    {
     "name": "stdout",
     "output_type": "stream",
     "text": [
      "<class 'pandas.core.frame.DataFrame'>\n",
      "Index: 8639 entries, 0 to 8709\n",
      "Data columns (total 20 columns):\n",
      " #   Column                         Non-Null Count  Dtype         \n",
      "---  ------                         --------------  -----         \n",
      " 0   id_juego                       8639 non-null   int64         \n",
      " 1   Titulo                         8639 non-null   object        \n",
      " 2   Día y hora                     8639 non-null   datetime64[ns]\n",
      " 3   Plataforma                     8639 non-null   object        \n",
      " 4   Genero                         8639 non-null   object        \n",
      " 5   Compañia                       8639 non-null   object        \n",
      " 6   Lanzamiento                    8639 non-null   datetime64[ns]\n",
      " 7   Idiomas                        8639 non-null   object        \n",
      " 8   Calificación PSN               8639 non-null   float64       \n",
      " 9   Número de calificaciones       8639 non-null   int32         \n",
      " 10  Calificación 5 estrellas       8639 non-null   int32         \n",
      " 11  Calificación 4 estrellas       8639 non-null   int32         \n",
      " 12  Calificación 3 estrellas       8639 non-null   int32         \n",
      " 13  Calificación 2 estrellas       8639 non-null   int32         \n",
      " 14  Calificación 1 estrella        8639 non-null   int32         \n",
      " 15  Precio original                8639 non-null   object        \n",
      " 16  Oferta                         8639 non-null   object        \n",
      " 17  Oferta PSPlus                  8639 non-null   object        \n",
      " 18  Otra promo diferente a PSPLUS  8639 non-null   object        \n",
      " 19  País Store                     8639 non-null   object        \n",
      "dtypes: datetime64[ns](2), float64(1), int32(6), int64(1), object(10)\n",
      "memory usage: 1.2+ MB\n"
     ]
    }
   ],
   "source": [
    "df_webscrap.info()"
   ]
  },
  {
   "cell_type": "code",
   "execution_count": 44,
   "metadata": {},
   "outputs": [
    {
     "data": {
      "text/html": [
       "<div>\n",
       "<style scoped>\n",
       "    .dataframe tbody tr th:only-of-type {\n",
       "        vertical-align: middle;\n",
       "    }\n",
       "\n",
       "    .dataframe tbody tr th {\n",
       "        vertical-align: top;\n",
       "    }\n",
       "\n",
       "    .dataframe thead th {\n",
       "        text-align: right;\n",
       "    }\n",
       "</style>\n",
       "<table border=\"1\" class=\"dataframe\">\n",
       "  <thead>\n",
       "    <tr style=\"text-align: right;\">\n",
       "      <th></th>\n",
       "      <th>id_juego</th>\n",
       "      <th>Titulo</th>\n",
       "      <th>Día y hora</th>\n",
       "      <th>Plataforma</th>\n",
       "      <th>Genero</th>\n",
       "      <th>Compañia</th>\n",
       "      <th>Lanzamiento</th>\n",
       "      <th>Idiomas</th>\n",
       "      <th>Calificación PSN</th>\n",
       "      <th>Número de calificaciones</th>\n",
       "      <th>Calificación 5 estrellas</th>\n",
       "      <th>Calificación 4 estrellas</th>\n",
       "      <th>Calificación 3 estrellas</th>\n",
       "      <th>Calificación 2 estrellas</th>\n",
       "      <th>Calificación 1 estrella</th>\n",
       "      <th>Precio original</th>\n",
       "      <th>Oferta</th>\n",
       "      <th>Oferta PSPlus</th>\n",
       "      <th>Otra promo diferente a PSPLUS</th>\n",
       "      <th>País Store</th>\n",
       "    </tr>\n",
       "  </thead>\n",
       "  <tbody>\n",
       "    <tr>\n",
       "      <th>0</th>\n",
       "      <td>10007176</td>\n",
       "      <td>EA SPORTS FC™ 24 Standard Edition para PS4 y PS5</td>\n",
       "      <td>2024-04-02 19:42:28.271655</td>\n",
       "      <td>PS4, PS5</td>\n",
       "      <td>Deporte</td>\n",
       "      <td>EA Swiss Sarl</td>\n",
       "      <td>2023-09-28</td>\n",
       "      <td>No hay información</td>\n",
       "      <td>3.40</td>\n",
       "      <td>63005</td>\n",
       "      <td>28352</td>\n",
       "      <td>7560</td>\n",
       "      <td>6300</td>\n",
       "      <td>3780</td>\n",
       "      <td>17641</td>\n",
       "      <td>79,99 €</td>\n",
       "      <td>79,99 €</td>\n",
       "      <td>No hay información</td>\n",
       "      <td>Prueba de juego</td>\n",
       "      <td>ESP</td>\n",
       "    </tr>\n",
       "    <tr>\n",
       "      <th>1</th>\n",
       "      <td>228748</td>\n",
       "      <td>Fortnite</td>\n",
       "      <td>2024-04-02 19:42:30.053087</td>\n",
       "      <td>PS5</td>\n",
       "      <td>Aventura,Acción</td>\n",
       "      <td>EPIC GAMES</td>\n",
       "      <td>2017-07-21</td>\n",
       "      <td>Coreano, Árabe, Inglés,Alemán, Italiano, Pola...</td>\n",
       "      <td>4.32</td>\n",
       "      <td>6759302</td>\n",
       "      <td>4799104</td>\n",
       "      <td>675930</td>\n",
       "      <td>540744</td>\n",
       "      <td>67593</td>\n",
       "      <td>675930</td>\n",
       "      <td>Gratis</td>\n",
       "      <td>Gratis</td>\n",
       "      <td>No hay información</td>\n",
       "      <td>No hay otra promoción</td>\n",
       "      <td>ESP</td>\n",
       "    </tr>\n",
       "    <tr>\n",
       "      <th>2</th>\n",
       "      <td>10001130</td>\n",
       "      <td>Call of Duty®: Modern Warfare® III - Lote Mult...</td>\n",
       "      <td>2024-04-02 19:42:31.776656</td>\n",
       "      <td>PS4, PS5</td>\n",
       "      <td>Acción</td>\n",
       "      <td>Activision Blizzard Int'l BV</td>\n",
       "      <td>2023-11-02</td>\n",
       "      <td>Inglés,Alemán, Polaco, Francés (Francia), Ita...</td>\n",
       "      <td>4.04</td>\n",
       "      <td>302902</td>\n",
       "      <td>187799</td>\n",
       "      <td>33319</td>\n",
       "      <td>36348</td>\n",
       "      <td>6058</td>\n",
       "      <td>42406</td>\n",
       "      <td>79,99 €</td>\n",
       "      <td>47,99 €</td>\n",
       "      <td>No hay información</td>\n",
       "      <td>No hay otra promoción</td>\n",
       "      <td>ESP</td>\n",
       "    </tr>\n",
       "    <tr>\n",
       "      <th>3</th>\n",
       "      <td>10005844</td>\n",
       "      <td>Dragon's Dogma 2</td>\n",
       "      <td>2024-04-02 19:42:34.474632</td>\n",
       "      <td>PS5</td>\n",
       "      <td>Juegos de rol,Acción</td>\n",
       "      <td>CE EUROPE LIMITED</td>\n",
       "      <td>2024-03-21</td>\n",
       "      <td>Árabe, Inglés,Alemán, Italiano, Francés (Fran...</td>\n",
       "      <td>4.11</td>\n",
       "      <td>14188</td>\n",
       "      <td>9647</td>\n",
       "      <td>1276</td>\n",
       "      <td>709</td>\n",
       "      <td>567</td>\n",
       "      <td>1986</td>\n",
       "      <td>74,99 €</td>\n",
       "      <td>74,99 €</td>\n",
       "      <td>No hay información</td>\n",
       "      <td>No hay otra promoción</td>\n",
       "      <td>ESP</td>\n",
       "    </tr>\n",
       "    <tr>\n",
       "      <th>4</th>\n",
       "      <td>10007788</td>\n",
       "      <td>Edición Kobe Bryant de NBA 2K24 para PS5™</td>\n",
       "      <td>2024-04-02 19:42:36.861059</td>\n",
       "      <td>PS5</td>\n",
       "      <td>Deporte</td>\n",
       "      <td>2K</td>\n",
       "      <td>2023-09-07</td>\n",
       "      <td>Coreano, Inglés, Chino (Simplificado),Alemán,...</td>\n",
       "      <td>3.10</td>\n",
       "      <td>24480</td>\n",
       "      <td>8568</td>\n",
       "      <td>2937</td>\n",
       "      <td>2937</td>\n",
       "      <td>1958</td>\n",
       "      <td>8078</td>\n",
       "      <td>79,99 €</td>\n",
       "      <td>19,99 €</td>\n",
       "      <td>Incluido</td>\n",
       "      <td>No hay otra promoción</td>\n",
       "      <td>ESP</td>\n",
       "    </tr>\n",
       "    <tr>\n",
       "      <th>5</th>\n",
       "      <td>201930</td>\n",
       "      <td>Grand Theft Auto Online (PlayStation®5)</td>\n",
       "      <td>2024-04-02 19:42:38.737521</td>\n",
       "      <td>PS5</td>\n",
       "      <td>Aventura,Acción</td>\n",
       "      <td>Rockstar Games</td>\n",
       "      <td>2022-03-14</td>\n",
       "      <td>Coreano, Inglés, Chino (Simplificado),Alemán,...</td>\n",
       "      <td>4.52</td>\n",
       "      <td>681784</td>\n",
       "      <td>538609</td>\n",
       "      <td>54542</td>\n",
       "      <td>34089</td>\n",
       "      <td>6817</td>\n",
       "      <td>47724</td>\n",
       "      <td>19,99 €</td>\n",
       "      <td>19,99 €</td>\n",
       "      <td>No hay información</td>\n",
       "      <td>No hay otra promoción</td>\n",
       "      <td>ESP</td>\n",
       "    </tr>\n",
       "    <tr>\n",
       "      <th>6</th>\n",
       "      <td>10002427</td>\n",
       "      <td>eFootball™ 2024</td>\n",
       "      <td>2024-04-02 19:42:40.372420</td>\n",
       "      <td>PS5</td>\n",
       "      <td>Deporte</td>\n",
       "      <td>Konami</td>\n",
       "      <td>2021-09-30</td>\n",
       "      <td>Árabe, Inglés, Sueco, Griego, Neerlandés,Alem...</td>\n",
       "      <td>3.75</td>\n",
       "      <td>275396</td>\n",
       "      <td>145959</td>\n",
       "      <td>33047</td>\n",
       "      <td>35801</td>\n",
       "      <td>8261</td>\n",
       "      <td>55079</td>\n",
       "      <td>Gratis</td>\n",
       "      <td>Gratis</td>\n",
       "      <td>No hay información</td>\n",
       "      <td>No hay otra promoción</td>\n",
       "      <td>ESP</td>\n",
       "    </tr>\n",
       "  </tbody>\n",
       "</table>\n",
       "</div>"
      ],
      "text/plain": [
       "   id_juego                                             Titulo  \\\n",
       "0  10007176   EA SPORTS FC™ 24 Standard Edition para PS4 y PS5   \n",
       "1    228748                                           Fortnite   \n",
       "2  10001130  Call of Duty®: Modern Warfare® III - Lote Mult...   \n",
       "3  10005844                                   Dragon's Dogma 2   \n",
       "4  10007788          Edición Kobe Bryant de NBA 2K24 para PS5™   \n",
       "5    201930            Grand Theft Auto Online (PlayStation®5)   \n",
       "6  10002427                                    eFootball™ 2024   \n",
       "\n",
       "                  Día y hora Plataforma                 Genero  \\\n",
       "0 2024-04-02 19:42:28.271655   PS4, PS5                Deporte   \n",
       "1 2024-04-02 19:42:30.053087        PS5        Aventura,Acción   \n",
       "2 2024-04-02 19:42:31.776656   PS4, PS5                 Acción   \n",
       "3 2024-04-02 19:42:34.474632        PS5   Juegos de rol,Acción   \n",
       "4 2024-04-02 19:42:36.861059        PS5                Deporte   \n",
       "5 2024-04-02 19:42:38.737521        PS5        Aventura,Acción   \n",
       "6 2024-04-02 19:42:40.372420        PS5                Deporte   \n",
       "\n",
       "                       Compañia Lanzamiento  \\\n",
       "0                 EA Swiss Sarl  2023-09-28   \n",
       "1                    EPIC GAMES  2017-07-21   \n",
       "2  Activision Blizzard Int'l BV  2023-11-02   \n",
       "3             CE EUROPE LIMITED  2024-03-21   \n",
       "4                            2K  2023-09-07   \n",
       "5                Rockstar Games  2022-03-14   \n",
       "6                        Konami  2021-09-30   \n",
       "\n",
       "                                             Idiomas  Calificación PSN  \\\n",
       "0                                 No hay información              3.40   \n",
       "1   Coreano, Árabe, Inglés,Alemán, Italiano, Pola...              4.32   \n",
       "2   Inglés,Alemán, Polaco, Francés (Francia), Ita...              4.04   \n",
       "3   Árabe, Inglés,Alemán, Italiano, Francés (Fran...              4.11   \n",
       "4   Coreano, Inglés, Chino (Simplificado),Alemán,...              3.10   \n",
       "5   Coreano, Inglés, Chino (Simplificado),Alemán,...              4.52   \n",
       "6   Árabe, Inglés, Sueco, Griego, Neerlandés,Alem...              3.75   \n",
       "\n",
       "   Número de calificaciones  Calificación 5 estrellas  \\\n",
       "0                     63005                     28352   \n",
       "1                   6759302                   4799104   \n",
       "2                    302902                    187799   \n",
       "3                     14188                      9647   \n",
       "4                     24480                      8568   \n",
       "5                    681784                    538609   \n",
       "6                    275396                    145959   \n",
       "\n",
       "   Calificación 4 estrellas  Calificación 3 estrellas  \\\n",
       "0                      7560                      6300   \n",
       "1                    675930                    540744   \n",
       "2                     33319                     36348   \n",
       "3                      1276                       709   \n",
       "4                      2937                      2937   \n",
       "5                     54542                     34089   \n",
       "6                     33047                     35801   \n",
       "\n",
       "   Calificación 2 estrellas  Calificación 1 estrella Precio original   Oferta  \\\n",
       "0                      3780                    17641         79,99 €  79,99 €   \n",
       "1                     67593                   675930          Gratis   Gratis   \n",
       "2                      6058                    42406         79,99 €  47,99 €   \n",
       "3                       567                     1986         74,99 €  74,99 €   \n",
       "4                      1958                     8078         79,99 €  19,99 €   \n",
       "5                      6817                    47724         19,99 €  19,99 €   \n",
       "6                      8261                    55079          Gratis   Gratis   \n",
       "\n",
       "        Oferta PSPlus Otra promo diferente a PSPLUS País Store  \n",
       "0  No hay información               Prueba de juego        ESP  \n",
       "1  No hay información         No hay otra promoción        ESP  \n",
       "2  No hay información         No hay otra promoción        ESP  \n",
       "3  No hay información         No hay otra promoción        ESP  \n",
       "4            Incluido         No hay otra promoción        ESP  \n",
       "5  No hay información         No hay otra promoción        ESP  \n",
       "6  No hay información         No hay otra promoción        ESP  "
      ]
     },
     "execution_count": 44,
     "metadata": {},
     "output_type": "execute_result"
    }
   ],
   "source": [
    "df_webscrap.head(7)"
   ]
  },
  {
   "cell_type": "markdown",
   "metadata": {},
   "source": [
    "Dejamos en modo numérico las calificaciones."
   ]
  },
  {
   "cell_type": "markdown",
   "metadata": {},
   "source": [
    "---"
   ]
  },
  {
   "cell_type": "markdown",
   "metadata": {},
   "source": [
    "#### Precios"
   ]
  },
  {
   "cell_type": "code",
   "execution_count": 45,
   "metadata": {},
   "outputs": [
    {
     "data": {
      "text/html": [
       "<div>\n",
       "<style scoped>\n",
       "    .dataframe tbody tr th:only-of-type {\n",
       "        vertical-align: middle;\n",
       "    }\n",
       "\n",
       "    .dataframe tbody tr th {\n",
       "        vertical-align: top;\n",
       "    }\n",
       "\n",
       "    .dataframe thead th {\n",
       "        text-align: right;\n",
       "    }\n",
       "</style>\n",
       "<table border=\"1\" class=\"dataframe\">\n",
       "  <thead>\n",
       "    <tr style=\"text-align: right;\">\n",
       "      <th></th>\n",
       "      <th>id_juego</th>\n",
       "      <th>Titulo</th>\n",
       "      <th>Día y hora</th>\n",
       "      <th>Plataforma</th>\n",
       "      <th>Genero</th>\n",
       "      <th>Compañia</th>\n",
       "      <th>Lanzamiento</th>\n",
       "      <th>Idiomas</th>\n",
       "      <th>Calificación PSN</th>\n",
       "      <th>Número de calificaciones</th>\n",
       "      <th>Calificación 5 estrellas</th>\n",
       "      <th>Calificación 4 estrellas</th>\n",
       "      <th>Calificación 3 estrellas</th>\n",
       "      <th>Calificación 2 estrellas</th>\n",
       "      <th>Calificación 1 estrella</th>\n",
       "      <th>Precio original</th>\n",
       "      <th>Oferta</th>\n",
       "      <th>Oferta PSPlus</th>\n",
       "      <th>Otra promo diferente a PSPLUS</th>\n",
       "      <th>País Store</th>\n",
       "    </tr>\n",
       "  </thead>\n",
       "  <tbody>\n",
       "    <tr>\n",
       "      <th>0</th>\n",
       "      <td>10007176</td>\n",
       "      <td>EA SPORTS FC™ 24 Standard Edition para PS4 y PS5</td>\n",
       "      <td>2024-04-02 19:42:28.271655</td>\n",
       "      <td>PS4, PS5</td>\n",
       "      <td>Deporte</td>\n",
       "      <td>EA Swiss Sarl</td>\n",
       "      <td>2023-09-28</td>\n",
       "      <td>No hay información</td>\n",
       "      <td>3.40</td>\n",
       "      <td>63005</td>\n",
       "      <td>28352</td>\n",
       "      <td>7560</td>\n",
       "      <td>6300</td>\n",
       "      <td>3780</td>\n",
       "      <td>17641</td>\n",
       "      <td>79,99 €</td>\n",
       "      <td>79,99 €</td>\n",
       "      <td>No hay información</td>\n",
       "      <td>Prueba de juego</td>\n",
       "      <td>ESP</td>\n",
       "    </tr>\n",
       "    <tr>\n",
       "      <th>1</th>\n",
       "      <td>228748</td>\n",
       "      <td>Fortnite</td>\n",
       "      <td>2024-04-02 19:42:30.053087</td>\n",
       "      <td>PS5</td>\n",
       "      <td>Aventura,Acción</td>\n",
       "      <td>EPIC GAMES</td>\n",
       "      <td>2017-07-21</td>\n",
       "      <td>Coreano, Árabe, Inglés,Alemán, Italiano, Pola...</td>\n",
       "      <td>4.32</td>\n",
       "      <td>6759302</td>\n",
       "      <td>4799104</td>\n",
       "      <td>675930</td>\n",
       "      <td>540744</td>\n",
       "      <td>67593</td>\n",
       "      <td>675930</td>\n",
       "      <td>Gratis</td>\n",
       "      <td>Gratis</td>\n",
       "      <td>No hay información</td>\n",
       "      <td>No hay otra promoción</td>\n",
       "      <td>ESP</td>\n",
       "    </tr>\n",
       "    <tr>\n",
       "      <th>2</th>\n",
       "      <td>10001130</td>\n",
       "      <td>Call of Duty®: Modern Warfare® III - Lote Mult...</td>\n",
       "      <td>2024-04-02 19:42:31.776656</td>\n",
       "      <td>PS4, PS5</td>\n",
       "      <td>Acción</td>\n",
       "      <td>Activision Blizzard Int'l BV</td>\n",
       "      <td>2023-11-02</td>\n",
       "      <td>Inglés,Alemán, Polaco, Francés (Francia), Ita...</td>\n",
       "      <td>4.04</td>\n",
       "      <td>302902</td>\n",
       "      <td>187799</td>\n",
       "      <td>33319</td>\n",
       "      <td>36348</td>\n",
       "      <td>6058</td>\n",
       "      <td>42406</td>\n",
       "      <td>79,99 €</td>\n",
       "      <td>47,99 €</td>\n",
       "      <td>No hay información</td>\n",
       "      <td>No hay otra promoción</td>\n",
       "      <td>ESP</td>\n",
       "    </tr>\n",
       "    <tr>\n",
       "      <th>3</th>\n",
       "      <td>10005844</td>\n",
       "      <td>Dragon's Dogma 2</td>\n",
       "      <td>2024-04-02 19:42:34.474632</td>\n",
       "      <td>PS5</td>\n",
       "      <td>Juegos de rol,Acción</td>\n",
       "      <td>CE EUROPE LIMITED</td>\n",
       "      <td>2024-03-21</td>\n",
       "      <td>Árabe, Inglés,Alemán, Italiano, Francés (Fran...</td>\n",
       "      <td>4.11</td>\n",
       "      <td>14188</td>\n",
       "      <td>9647</td>\n",
       "      <td>1276</td>\n",
       "      <td>709</td>\n",
       "      <td>567</td>\n",
       "      <td>1986</td>\n",
       "      <td>74,99 €</td>\n",
       "      <td>74,99 €</td>\n",
       "      <td>No hay información</td>\n",
       "      <td>No hay otra promoción</td>\n",
       "      <td>ESP</td>\n",
       "    </tr>\n",
       "    <tr>\n",
       "      <th>4</th>\n",
       "      <td>10007788</td>\n",
       "      <td>Edición Kobe Bryant de NBA 2K24 para PS5™</td>\n",
       "      <td>2024-04-02 19:42:36.861059</td>\n",
       "      <td>PS5</td>\n",
       "      <td>Deporte</td>\n",
       "      <td>2K</td>\n",
       "      <td>2023-09-07</td>\n",
       "      <td>Coreano, Inglés, Chino (Simplificado),Alemán,...</td>\n",
       "      <td>3.10</td>\n",
       "      <td>24480</td>\n",
       "      <td>8568</td>\n",
       "      <td>2937</td>\n",
       "      <td>2937</td>\n",
       "      <td>1958</td>\n",
       "      <td>8078</td>\n",
       "      <td>79,99 €</td>\n",
       "      <td>19,99 €</td>\n",
       "      <td>Incluido</td>\n",
       "      <td>No hay otra promoción</td>\n",
       "      <td>ESP</td>\n",
       "    </tr>\n",
       "    <tr>\n",
       "      <th>...</th>\n",
       "      <td>...</td>\n",
       "      <td>...</td>\n",
       "      <td>...</td>\n",
       "      <td>...</td>\n",
       "      <td>...</td>\n",
       "      <td>...</td>\n",
       "      <td>...</td>\n",
       "      <td>...</td>\n",
       "      <td>...</td>\n",
       "      <td>...</td>\n",
       "      <td>...</td>\n",
       "      <td>...</td>\n",
       "      <td>...</td>\n",
       "      <td>...</td>\n",
       "      <td>...</td>\n",
       "      <td>...</td>\n",
       "      <td>...</td>\n",
       "      <td>...</td>\n",
       "      <td>...</td>\n",
       "      <td>...</td>\n",
       "    </tr>\n",
       "    <tr>\n",
       "      <th>8705</th>\n",
       "      <td>232440</td>\n",
       "      <td>ZONE OF THE ENDERS: The 2nd Runner - MARS</td>\n",
       "      <td>2024-04-03 00:51:35.145894</td>\n",
       "      <td>PS4</td>\n",
       "      <td>Acción</td>\n",
       "      <td>Konami</td>\n",
       "      <td>2018-09-05</td>\n",
       "      <td>Inglés,Alemán, Francés (Francia), Italiano, E...</td>\n",
       "      <td>4.68</td>\n",
       "      <td>1439</td>\n",
       "      <td>1194</td>\n",
       "      <td>129</td>\n",
       "      <td>57</td>\n",
       "      <td>14</td>\n",
       "      <td>43</td>\n",
       "      <td>29,99 €</td>\n",
       "      <td>29,99 €</td>\n",
       "      <td>No hay información</td>\n",
       "      <td>No hay otra promoción</td>\n",
       "      <td>ESP</td>\n",
       "    </tr>\n",
       "    <tr>\n",
       "      <th>8706</th>\n",
       "      <td>216793</td>\n",
       "      <td>Zotrix</td>\n",
       "      <td>2024-04-03 00:51:36.889891</td>\n",
       "      <td>PS4</td>\n",
       "      <td>Juegos de disparos, Arcade,Acción</td>\n",
       "      <td>UFO Interactive Games</td>\n",
       "      <td>2016-01-08</td>\n",
       "      <td>Inglés</td>\n",
       "      <td>3.08</td>\n",
       "      <td>278</td>\n",
       "      <td>94</td>\n",
       "      <td>36</td>\n",
       "      <td>27</td>\n",
       "      <td>36</td>\n",
       "      <td>83</td>\n",
       "      <td>9,99 €</td>\n",
       "      <td>9,99 €</td>\n",
       "      <td>No hay información</td>\n",
       "      <td>No hay otra promoción</td>\n",
       "      <td>ESP</td>\n",
       "    </tr>\n",
       "    <tr>\n",
       "      <th>8707</th>\n",
       "      <td>10009096</td>\n",
       "      <td>Zumba Garden</td>\n",
       "      <td>2024-04-03 00:51:38.949056</td>\n",
       "      <td>PS5</td>\n",
       "      <td>Arcade</td>\n",
       "      <td>OCEAN MEDIA LLC</td>\n",
       "      <td>2023-10-21</td>\n",
       "      <td>Inglés, Checo,Alemán, Italiano, Francés (Fran...</td>\n",
       "      <td>3.71</td>\n",
       "      <td>7</td>\n",
       "      <td>3</td>\n",
       "      <td>0</td>\n",
       "      <td>2</td>\n",
       "      <td>0</td>\n",
       "      <td>0</td>\n",
       "      <td>6,99 €</td>\n",
       "      <td>6,99 €</td>\n",
       "      <td>No hay información</td>\n",
       "      <td>No hay otra promoción</td>\n",
       "      <td>ESP</td>\n",
       "    </tr>\n",
       "    <tr>\n",
       "      <th>8708</th>\n",
       "      <td>10004665</td>\n",
       "      <td>Z-Warp PS4 &amp; PS5</td>\n",
       "      <td>2024-04-03 00:51:40.508416</td>\n",
       "      <td>PS4, PS5</td>\n",
       "      <td>Juegos de disparos, Arcade,Acción</td>\n",
       "      <td>eastasiasoft</td>\n",
       "      <td>2022-04-05</td>\n",
       "      <td>Japonés,Inglés</td>\n",
       "      <td>4.15</td>\n",
       "      <td>39</td>\n",
       "      <td>21</td>\n",
       "      <td>7</td>\n",
       "      <td>5</td>\n",
       "      <td>1</td>\n",
       "      <td>1</td>\n",
       "      <td>6,99 €</td>\n",
       "      <td>6,99 €</td>\n",
       "      <td>No hay información</td>\n",
       "      <td>No hay otra promoción</td>\n",
       "      <td>ESP</td>\n",
       "    </tr>\n",
       "    <tr>\n",
       "      <th>8709</th>\n",
       "      <td>10010250</td>\n",
       "      <td>Become the wild</td>\n",
       "      <td>2024-04-03 00:51:42.393314</td>\n",
       "      <td>PS5</td>\n",
       "      <td>Aventura</td>\n",
       "      <td>Kistler Studios</td>\n",
       "      <td>2024-04-02</td>\n",
       "      <td>Inglés</td>\n",
       "      <td>0.00</td>\n",
       "      <td>0</td>\n",
       "      <td>0</td>\n",
       "      <td>0</td>\n",
       "      <td>0</td>\n",
       "      <td>0</td>\n",
       "      <td>0</td>\n",
       "      <td>8,99 €</td>\n",
       "      <td>8,99 €</td>\n",
       "      <td>No hay información</td>\n",
       "      <td>No hay otra promoción</td>\n",
       "      <td>ESP</td>\n",
       "    </tr>\n",
       "  </tbody>\n",
       "</table>\n",
       "<p>8639 rows × 20 columns</p>\n",
       "</div>"
      ],
      "text/plain": [
       "      id_juego                                             Titulo  \\\n",
       "0     10007176   EA SPORTS FC™ 24 Standard Edition para PS4 y PS5   \n",
       "1       228748                                           Fortnite   \n",
       "2     10001130  Call of Duty®: Modern Warfare® III - Lote Mult...   \n",
       "3     10005844                                   Dragon's Dogma 2   \n",
       "4     10007788          Edición Kobe Bryant de NBA 2K24 para PS5™   \n",
       "...        ...                                                ...   \n",
       "8705    232440          ZONE OF THE ENDERS: The 2nd Runner - MARS   \n",
       "8706    216793                                             Zotrix   \n",
       "8707  10009096                                       Zumba Garden   \n",
       "8708  10004665                                   Z-Warp PS4 & PS5   \n",
       "8709  10010250                                    Become the wild   \n",
       "\n",
       "                     Día y hora Plataforma  \\\n",
       "0    2024-04-02 19:42:28.271655   PS4, PS5   \n",
       "1    2024-04-02 19:42:30.053087        PS5   \n",
       "2    2024-04-02 19:42:31.776656   PS4, PS5   \n",
       "3    2024-04-02 19:42:34.474632        PS5   \n",
       "4    2024-04-02 19:42:36.861059        PS5   \n",
       "...                         ...        ...   \n",
       "8705 2024-04-03 00:51:35.145894        PS4   \n",
       "8706 2024-04-03 00:51:36.889891        PS4   \n",
       "8707 2024-04-03 00:51:38.949056        PS5   \n",
       "8708 2024-04-03 00:51:40.508416   PS4, PS5   \n",
       "8709 2024-04-03 00:51:42.393314        PS5   \n",
       "\n",
       "                                  Genero                      Compañia  \\\n",
       "0                                Deporte                 EA Swiss Sarl   \n",
       "1                        Aventura,Acción                    EPIC GAMES   \n",
       "2                                 Acción  Activision Blizzard Int'l BV   \n",
       "3                   Juegos de rol,Acción             CE EUROPE LIMITED   \n",
       "4                                Deporte                            2K   \n",
       "...                                  ...                           ...   \n",
       "8705                              Acción                        Konami   \n",
       "8706   Juegos de disparos, Arcade,Acción         UFO Interactive Games   \n",
       "8707                              Arcade               OCEAN MEDIA LLC   \n",
       "8708   Juegos de disparos, Arcade,Acción                  eastasiasoft   \n",
       "8709                            Aventura               Kistler Studios   \n",
       "\n",
       "     Lanzamiento                                            Idiomas  \\\n",
       "0     2023-09-28                                 No hay información   \n",
       "1     2017-07-21   Coreano, Árabe, Inglés,Alemán, Italiano, Pola...   \n",
       "2     2023-11-02   Inglés,Alemán, Polaco, Francés (Francia), Ita...   \n",
       "3     2024-03-21   Árabe, Inglés,Alemán, Italiano, Francés (Fran...   \n",
       "4     2023-09-07   Coreano, Inglés, Chino (Simplificado),Alemán,...   \n",
       "...          ...                                                ...   \n",
       "8705  2018-09-05   Inglés,Alemán, Francés (Francia), Italiano, E...   \n",
       "8706  2016-01-08                                             Inglés   \n",
       "8707  2023-10-21   Inglés, Checo,Alemán, Italiano, Francés (Fran...   \n",
       "8708  2022-04-05                                     Japonés,Inglés   \n",
       "8709  2024-04-02                                             Inglés   \n",
       "\n",
       "      Calificación PSN  Número de calificaciones  Calificación 5 estrellas  \\\n",
       "0                 3.40                     63005                     28352   \n",
       "1                 4.32                   6759302                   4799104   \n",
       "2                 4.04                    302902                    187799   \n",
       "3                 4.11                     14188                      9647   \n",
       "4                 3.10                     24480                      8568   \n",
       "...                ...                       ...                       ...   \n",
       "8705              4.68                      1439                      1194   \n",
       "8706              3.08                       278                        94   \n",
       "8707              3.71                         7                         3   \n",
       "8708              4.15                        39                        21   \n",
       "8709              0.00                         0                         0   \n",
       "\n",
       "      Calificación 4 estrellas  Calificación 3 estrellas  \\\n",
       "0                         7560                      6300   \n",
       "1                       675930                    540744   \n",
       "2                        33319                     36348   \n",
       "3                         1276                       709   \n",
       "4                         2937                      2937   \n",
       "...                        ...                       ...   \n",
       "8705                       129                        57   \n",
       "8706                        36                        27   \n",
       "8707                         0                         2   \n",
       "8708                         7                         5   \n",
       "8709                         0                         0   \n",
       "\n",
       "      Calificación 2 estrellas  Calificación 1 estrella Precio original  \\\n",
       "0                         3780                    17641         79,99 €   \n",
       "1                        67593                   675930          Gratis   \n",
       "2                         6058                    42406         79,99 €   \n",
       "3                          567                     1986         74,99 €   \n",
       "4                         1958                     8078         79,99 €   \n",
       "...                        ...                      ...             ...   \n",
       "8705                        14                       43         29,99 €   \n",
       "8706                        36                       83          9,99 €   \n",
       "8707                         0                        0          6,99 €   \n",
       "8708                         1                        1          6,99 €   \n",
       "8709                         0                        0          8,99 €   \n",
       "\n",
       "       Oferta       Oferta PSPlus Otra promo diferente a PSPLUS País Store  \n",
       "0     79,99 €  No hay información               Prueba de juego        ESP  \n",
       "1      Gratis  No hay información         No hay otra promoción        ESP  \n",
       "2     47,99 €  No hay información         No hay otra promoción        ESP  \n",
       "3     74,99 €  No hay información         No hay otra promoción        ESP  \n",
       "4     19,99 €            Incluido         No hay otra promoción        ESP  \n",
       "...       ...                 ...                           ...        ...  \n",
       "8705  29,99 €  No hay información         No hay otra promoción        ESP  \n",
       "8706   9,99 €  No hay información         No hay otra promoción        ESP  \n",
       "8707   6,99 €  No hay información         No hay otra promoción        ESP  \n",
       "8708   6,99 €  No hay información         No hay otra promoción        ESP  \n",
       "8709   8,99 €  No hay información         No hay otra promoción        ESP  \n",
       "\n",
       "[8639 rows x 20 columns]"
      ]
     },
     "execution_count": 45,
     "metadata": {},
     "output_type": "execute_result"
    }
   ],
   "source": [
    "df_webscrap"
   ]
  },
  {
   "cell_type": "markdown",
   "metadata": {},
   "source": [
    "Precio completo"
   ]
  },
  {
   "cell_type": "markdown",
   "metadata": {},
   "source": [
    "* Columna 1, juego sin descuento\n",
    "* Columna 2, dto o no dto "
   ]
  },
  {
   "cell_type": "code",
   "execution_count": 46,
   "metadata": {},
   "outputs": [
    {
     "data": {
      "text/plain": [
       "array(['79,99\\xa0€', 'Gratis', '74,99\\xa0€', '19,99\\xa0€', '39,99\\xa0€',\n",
       "       '59,99\\xa0€', '69,99\\xa0€', '29,99\\xa0€', '49,99\\xa0€',\n",
       "       '44,99\\xa0€', '14,99\\xa0€', '99,99\\xa0€', '89,99\\xa0€',\n",
       "       '36,99\\xa0€', '34,99\\xa0€', '16,99\\xa0€', '24,99\\xa0€',\n",
       "       '54,99\\xa0€', '109,99\\xa0€', '17,99\\xa0€', '14,49\\xa0€',\n",
       "       '18,99\\xa0€', '15,99\\xa0€', '32,99\\xa0€', '3,99\\xa0€', '9,99\\xa0€',\n",
       "       '20,99\\xa0€', '149,99\\xa0€', '23,99\\xa0€', '0,00\\xa0€',\n",
       "       '21,99\\xa0€', '35,99\\xa0€', '5,99\\xa0€', '28,99\\xa0€',\n",
       "       '26,99\\xa0€', '28,49\\xa0€', '13,99\\xa0€', '37,99\\xa0€',\n",
       "       '4,99\\xa0€', '7,49\\xa0€', '12,49\\xa0€', '7,99\\xa0€', '8,99\\xa0€',\n",
       "       '12,99\\xa0€', '11,99\\xa0€', '6,99\\xa0€', '10,99\\xa0€', '1,19\\xa0€',\n",
       "       '13,49\\xa0€', '13,29\\xa0€', '1,99\\xa0€', '0,99\\xa0€', '2,99\\xa0€',\n",
       "       '3,49\\xa0€', '3,59\\xa0€', '2,49\\xa0€', '6,49\\xa0€', '5,49\\xa0€',\n",
       "       '4,49\\xa0€', '8,00\\xa0€', '1,49\\xa0€', '11,25\\xa0€', '1,69\\xa0€',\n",
       "       '5,19\\xa0€', '1,75\\xa0€', '6,59\\xa0€', '1,59\\xa0€', '0,49\\xa0€',\n",
       "       '0,25\\xa0€', '0,75\\xa0€', '0,60\\xa0€', '0,26\\xa0€', '0,29\\xa0€',\n",
       "       '1,39\\xa0€', '38,99\\xa0€', '4,97\\xa0€', '31,99\\xa0€', '6,19\\xa0€',\n",
       "       '64,99\\xa0€'], dtype=object)"
      ]
     },
     "execution_count": 46,
     "metadata": {},
     "output_type": "execute_result"
    }
   ],
   "source": [
    "df_webscrap[\"Precio original\"].unique()"
   ]
  },
  {
   "cell_type": "code",
   "execution_count": 47,
   "metadata": {},
   "outputs": [],
   "source": [
    "\n",
    "\n",
    "\n",
    "df_webscrap[\"Precio original\"] = df_webscrap[\"Precio original\"].str.replace(\"No hay información\",\"-1\")\n",
    "df_webscrap[\"Precio original\"] = df_webscrap[\"Precio original\"].str.replace('[^0-9,A-z]','', regex = True).replace('Gratis','0.00').replace(\"Incluido\",\"0.00\").replace(\"Nodisponibleparacomprar\",\"-1\").replace('Anunciado',\"-1\")\n",
    "df_webscrap[\"Precio original\"] = df_webscrap[\"Precio original\"].str.replace(\",\",\".\")\n",
    "df_webscrap[\"Precio original\"] = df_webscrap[\"Precio original\"].astype(float)\n",
    "\n",
    "\n",
    "df_webscrap[\"Oferta\"] = df_webscrap[\"Oferta\"].str.replace(\"No hay información\",\"-1\")\n",
    "df_webscrap[\"Oferta\"] = df_webscrap[\"Oferta\"].str.replace('[^0-9,A-z]','', regex = True).replace('Gratis','0.00').replace(\"Incluido\",\"0.00\").replace(\"Nodisponibleparacomprar\",\"-1\").replace('Anunciado',\"-1\")\n",
    "df_webscrap[\"Oferta\"] = df_webscrap[\"Oferta\"].str.replace(\",\",\".\")\n",
    "df_webscrap[\"Oferta\"] = df_webscrap[\"Oferta\"].astype(float)\n",
    "\n",
    "df_webscrap[\"Oferta PSPlus\"] = df_webscrap[\"Oferta PSPlus\"].str.replace(\"No hay información\",\"-1\")\n",
    "df_webscrap[\"Oferta PSPlus\"] = df_webscrap[\"Oferta PSPlus\"].str.replace('[^0-9,A-z]','', regex = True).replace('Gratis','0.00').replace(\"Incluido\",\"0.00\").replace(\"Nodisponibleparacomprar\",\"-1\").replace('Anunciado',\"-1\").replace('Pruebadejuego','0.5')\n",
    "df_webscrap[\"Oferta PSPlus\"] = df_webscrap[\"Oferta PSPlus\"].str.replace(\",\",\".\")\n",
    "df_webscrap[\"Oferta PSPlus\"] = df_webscrap[\"Oferta PSPlus\"].astype(float)\n",
    "\n",
    "\n",
    "df_webscrap[\"Otra promo diferente a PSPLUS\"] = df_webscrap[\"Otra promo diferente a PSPLUS\"].str.replace(\"No hay información\",\"-1\")\n",
    "df_webscrap[\"Otra promo diferente a PSPLUS\"] = df_webscrap[\"Otra promo diferente a PSPLUS\"].str.replace('[^0-9,A-z]','', regex = True).replace('Gratis','0.00').replace(\"Incluido\",\"0.00\").replace(\"Nodisponibleparacomprar\",\"-1\").replace('Anunciado',\"-1\").replace('Pruebadejuego','0.5').replace(\"Nohayotrapromocin\",\"-1\")\n",
    "df_webscrap[\"Otra promo diferente a PSPLUS\"] = df_webscrap[\"Otra promo diferente a PSPLUS\"].str.replace(\",\",\".\")\n",
    "df_webscrap[\"Otra promo diferente a PSPLUS\"] = df_webscrap[\"Otra promo diferente a PSPLUS\"].astype(float)\n"
   ]
  },
  {
   "cell_type": "markdown",
   "metadata": {},
   "source": [
    "Arreglamos los precios de los juegos."
   ]
  },
  {
   "cell_type": "markdown",
   "metadata": {},
   "source": [
    "Leyendas para Juegos con precios que tienen strings:\n",
    "- Gratis --> 0.00\n",
    "- No disponible --> -1\n",
    "- Incluido --> 0.00\n",
    "- Anunciado --> -1"
   ]
  },
  {
   "cell_type": "code",
   "execution_count": 48,
   "metadata": {},
   "outputs": [
    {
     "data": {
      "text/html": [
       "<div>\n",
       "<style scoped>\n",
       "    .dataframe tbody tr th:only-of-type {\n",
       "        vertical-align: middle;\n",
       "    }\n",
       "\n",
       "    .dataframe tbody tr th {\n",
       "        vertical-align: top;\n",
       "    }\n",
       "\n",
       "    .dataframe thead th {\n",
       "        text-align: right;\n",
       "    }\n",
       "</style>\n",
       "<table border=\"1\" class=\"dataframe\">\n",
       "  <thead>\n",
       "    <tr style=\"text-align: right;\">\n",
       "      <th></th>\n",
       "      <th>id_juego</th>\n",
       "      <th>Titulo</th>\n",
       "      <th>Día y hora</th>\n",
       "      <th>Plataforma</th>\n",
       "      <th>Genero</th>\n",
       "      <th>Compañia</th>\n",
       "      <th>Lanzamiento</th>\n",
       "      <th>Idiomas</th>\n",
       "      <th>Calificación PSN</th>\n",
       "      <th>Número de calificaciones</th>\n",
       "      <th>Calificación 5 estrellas</th>\n",
       "      <th>Calificación 4 estrellas</th>\n",
       "      <th>Calificación 3 estrellas</th>\n",
       "      <th>Calificación 2 estrellas</th>\n",
       "      <th>Calificación 1 estrella</th>\n",
       "      <th>Precio original</th>\n",
       "      <th>Oferta</th>\n",
       "      <th>Oferta PSPlus</th>\n",
       "      <th>Otra promo diferente a PSPLUS</th>\n",
       "      <th>País Store</th>\n",
       "    </tr>\n",
       "  </thead>\n",
       "  <tbody>\n",
       "    <tr>\n",
       "      <th>0</th>\n",
       "      <td>10007176</td>\n",
       "      <td>EA SPORTS FC™ 24 Standard Edition para PS4 y PS5</td>\n",
       "      <td>2024-04-02 19:42:28.271655</td>\n",
       "      <td>PS4, PS5</td>\n",
       "      <td>Deporte</td>\n",
       "      <td>EA Swiss Sarl</td>\n",
       "      <td>2023-09-28</td>\n",
       "      <td>No hay información</td>\n",
       "      <td>3.40</td>\n",
       "      <td>63005</td>\n",
       "      <td>28352</td>\n",
       "      <td>7560</td>\n",
       "      <td>6300</td>\n",
       "      <td>3780</td>\n",
       "      <td>17641</td>\n",
       "      <td>79.99</td>\n",
       "      <td>79.99</td>\n",
       "      <td>1.0</td>\n",
       "      <td>0.5</td>\n",
       "      <td>ESP</td>\n",
       "    </tr>\n",
       "    <tr>\n",
       "      <th>1</th>\n",
       "      <td>228748</td>\n",
       "      <td>Fortnite</td>\n",
       "      <td>2024-04-02 19:42:30.053087</td>\n",
       "      <td>PS5</td>\n",
       "      <td>Aventura,Acción</td>\n",
       "      <td>EPIC GAMES</td>\n",
       "      <td>2017-07-21</td>\n",
       "      <td>Coreano, Árabe, Inglés,Alemán, Italiano, Pola...</td>\n",
       "      <td>4.32</td>\n",
       "      <td>6759302</td>\n",
       "      <td>4799104</td>\n",
       "      <td>675930</td>\n",
       "      <td>540744</td>\n",
       "      <td>67593</td>\n",
       "      <td>675930</td>\n",
       "      <td>0.00</td>\n",
       "      <td>0.00</td>\n",
       "      <td>1.0</td>\n",
       "      <td>-1.0</td>\n",
       "      <td>ESP</td>\n",
       "    </tr>\n",
       "    <tr>\n",
       "      <th>2</th>\n",
       "      <td>10001130</td>\n",
       "      <td>Call of Duty®: Modern Warfare® III - Lote Mult...</td>\n",
       "      <td>2024-04-02 19:42:31.776656</td>\n",
       "      <td>PS4, PS5</td>\n",
       "      <td>Acción</td>\n",
       "      <td>Activision Blizzard Int'l BV</td>\n",
       "      <td>2023-11-02</td>\n",
       "      <td>Inglés,Alemán, Polaco, Francés (Francia), Ita...</td>\n",
       "      <td>4.04</td>\n",
       "      <td>302902</td>\n",
       "      <td>187799</td>\n",
       "      <td>33319</td>\n",
       "      <td>36348</td>\n",
       "      <td>6058</td>\n",
       "      <td>42406</td>\n",
       "      <td>79.99</td>\n",
       "      <td>47.99</td>\n",
       "      <td>1.0</td>\n",
       "      <td>-1.0</td>\n",
       "      <td>ESP</td>\n",
       "    </tr>\n",
       "    <tr>\n",
       "      <th>3</th>\n",
       "      <td>10005844</td>\n",
       "      <td>Dragon's Dogma 2</td>\n",
       "      <td>2024-04-02 19:42:34.474632</td>\n",
       "      <td>PS5</td>\n",
       "      <td>Juegos de rol,Acción</td>\n",
       "      <td>CE EUROPE LIMITED</td>\n",
       "      <td>2024-03-21</td>\n",
       "      <td>Árabe, Inglés,Alemán, Italiano, Francés (Fran...</td>\n",
       "      <td>4.11</td>\n",
       "      <td>14188</td>\n",
       "      <td>9647</td>\n",
       "      <td>1276</td>\n",
       "      <td>709</td>\n",
       "      <td>567</td>\n",
       "      <td>1986</td>\n",
       "      <td>74.99</td>\n",
       "      <td>74.99</td>\n",
       "      <td>1.0</td>\n",
       "      <td>-1.0</td>\n",
       "      <td>ESP</td>\n",
       "    </tr>\n",
       "    <tr>\n",
       "      <th>4</th>\n",
       "      <td>10007788</td>\n",
       "      <td>Edición Kobe Bryant de NBA 2K24 para PS5™</td>\n",
       "      <td>2024-04-02 19:42:36.861059</td>\n",
       "      <td>PS5</td>\n",
       "      <td>Deporte</td>\n",
       "      <td>2K</td>\n",
       "      <td>2023-09-07</td>\n",
       "      <td>Coreano, Inglés, Chino (Simplificado),Alemán,...</td>\n",
       "      <td>3.10</td>\n",
       "      <td>24480</td>\n",
       "      <td>8568</td>\n",
       "      <td>2937</td>\n",
       "      <td>2937</td>\n",
       "      <td>1958</td>\n",
       "      <td>8078</td>\n",
       "      <td>79.99</td>\n",
       "      <td>19.99</td>\n",
       "      <td>0.0</td>\n",
       "      <td>-1.0</td>\n",
       "      <td>ESP</td>\n",
       "    </tr>\n",
       "  </tbody>\n",
       "</table>\n",
       "</div>"
      ],
      "text/plain": [
       "   id_juego                                             Titulo  \\\n",
       "0  10007176   EA SPORTS FC™ 24 Standard Edition para PS4 y PS5   \n",
       "1    228748                                           Fortnite   \n",
       "2  10001130  Call of Duty®: Modern Warfare® III - Lote Mult...   \n",
       "3  10005844                                   Dragon's Dogma 2   \n",
       "4  10007788          Edición Kobe Bryant de NBA 2K24 para PS5™   \n",
       "\n",
       "                  Día y hora Plataforma                 Genero  \\\n",
       "0 2024-04-02 19:42:28.271655   PS4, PS5                Deporte   \n",
       "1 2024-04-02 19:42:30.053087        PS5        Aventura,Acción   \n",
       "2 2024-04-02 19:42:31.776656   PS4, PS5                 Acción   \n",
       "3 2024-04-02 19:42:34.474632        PS5   Juegos de rol,Acción   \n",
       "4 2024-04-02 19:42:36.861059        PS5                Deporte   \n",
       "\n",
       "                       Compañia Lanzamiento  \\\n",
       "0                 EA Swiss Sarl  2023-09-28   \n",
       "1                    EPIC GAMES  2017-07-21   \n",
       "2  Activision Blizzard Int'l BV  2023-11-02   \n",
       "3             CE EUROPE LIMITED  2024-03-21   \n",
       "4                            2K  2023-09-07   \n",
       "\n",
       "                                             Idiomas  Calificación PSN  \\\n",
       "0                                 No hay información              3.40   \n",
       "1   Coreano, Árabe, Inglés,Alemán, Italiano, Pola...              4.32   \n",
       "2   Inglés,Alemán, Polaco, Francés (Francia), Ita...              4.04   \n",
       "3   Árabe, Inglés,Alemán, Italiano, Francés (Fran...              4.11   \n",
       "4   Coreano, Inglés, Chino (Simplificado),Alemán,...              3.10   \n",
       "\n",
       "   Número de calificaciones  Calificación 5 estrellas  \\\n",
       "0                     63005                     28352   \n",
       "1                   6759302                   4799104   \n",
       "2                    302902                    187799   \n",
       "3                     14188                      9647   \n",
       "4                     24480                      8568   \n",
       "\n",
       "   Calificación 4 estrellas  Calificación 3 estrellas  \\\n",
       "0                      7560                      6300   \n",
       "1                    675930                    540744   \n",
       "2                     33319                     36348   \n",
       "3                      1276                       709   \n",
       "4                      2937                      2937   \n",
       "\n",
       "   Calificación 2 estrellas  Calificación 1 estrella  Precio original  Oferta  \\\n",
       "0                      3780                    17641            79.99   79.99   \n",
       "1                     67593                   675930             0.00    0.00   \n",
       "2                      6058                    42406            79.99   47.99   \n",
       "3                       567                     1986            74.99   74.99   \n",
       "4                      1958                     8078            79.99   19.99   \n",
       "\n",
       "   Oferta PSPlus  Otra promo diferente a PSPLUS País Store  \n",
       "0            1.0                            0.5        ESP  \n",
       "1            1.0                           -1.0        ESP  \n",
       "2            1.0                           -1.0        ESP  \n",
       "3            1.0                           -1.0        ESP  \n",
       "4            0.0                           -1.0        ESP  "
      ]
     },
     "execution_count": 48,
     "metadata": {},
     "output_type": "execute_result"
    }
   ],
   "source": [
    "df_webscrap.head()"
   ]
  },
  {
   "cell_type": "markdown",
   "metadata": {},
   "source": [
    "[Volver al índice](#0)"
   ]
  },
  {
   "cell_type": "markdown",
   "metadata": {},
   "source": [
    "Por el momento ir cambiando el día manualmente para limpieza antes de automatizar todo "
   ]
  },
  {
   "cell_type": "code",
   "execution_count": 49,
   "metadata": {},
   "outputs": [],
   "source": [
    "df_webscrap.to_csv(f\"../csv_s/csv_region/esp/clean/csv_2024-04-02.csv\",index=False)"
   ]
  },
  {
   "cell_type": "markdown",
   "metadata": {},
   "source": [
    "---"
   ]
  },
  {
   "cell_type": "markdown",
   "metadata": {},
   "source": [
    "<a id=\"10\"></a> <br>\n",
    "Todo el código resumido para hacer limpieza"
   ]
  },
  {
   "cell_type": "markdown",
   "metadata": {},
   "source": [
    "---"
   ]
  },
  {
   "cell_type": "markdown",
   "metadata": {},
   "source": [
    "[Volver al índice](#10)"
   ]
  },
  {
   "cell_type": "markdown",
   "metadata": {},
   "source": [
    "Ahora queremos dejar los datos preparados para la inserción en la primera etapa de la bbdd"
   ]
  },
  {
   "cell_type": "code",
   "execution_count": 55,
   "metadata": {},
   "outputs": [],
   "source": [
    "# Limpieza en una celda , jap csv\n",
    "import pandas as pd\n",
    "\n",
    "df_webscrap = pd.read_csv(\"../csv_s/csv_region/esp/brut/csv_2024-04-02_esp.csv\")\n",
    "\n",
    "df_webscrap.drop(df_webscrap[df_webscrap[\"Precio original\"] == \"No hay información\"].index,inplace=True)\n",
    "df_webscrap.drop_duplicates(subset=[\"id_juego\"], inplace=True)\n",
    "df_webscrap.drop(df_webscrap[df_webscrap[\"Titulo\"] == \"No hay información\"].index,inplace=True)\n",
    "\n",
    "df_webscrap[\"Genero\"] = df_webscrap[\"Genero\"].apply(lambda x: x.split(','))\n",
    "df_webscrap[\"Genero\"] = df_webscrap[\"Genero\"].apply(lambda x: list(set(x)))\n",
    "df_webscrap[\"Genero\"] = df_webscrap[\"Genero\"].apply(lambda x: ','.join(x))\n",
    "\n",
    "df_webscrap[\"Día y hora\"] = pd.to_datetime(df_webscrap[\"Día y hora\"])\n",
    "\n",
    "df_webscrap[\"Calificación PSN\"] = df_webscrap[\"Calificación PSN\"].str.replace(\"No hay información\",\"0.00\")\n",
    "df_webscrap[\"Calificación PSN\"] = df_webscrap[\"Calificación PSN\"].astype(float)\n",
    "\n",
    "df_webscrap[\"Lanzamiento\"] = df_webscrap[\"Lanzamiento\"].str.replace(r\"^(.{1,6})$\", \"01/01/2024\",regex=True)\n",
    "df_webscrap[\"Lanzamiento\"] = df_webscrap[\"Lanzamiento\"].str.replace(\"No hay información\", \"01/01/2000\")\n",
    "df_webscrap[\"Lanzamiento\"] = pd.to_datetime(df_webscrap[\"Lanzamiento\"], dayfirst=True)\n",
    "\n",
    "df_webscrap[\"Idiomas\"] = df_webscrap[\"Idiomas\"].apply(lambda x: x.split(','))\n",
    "df_webscrap[\"Idiomas\"] = df_webscrap[\"Idiomas\"].apply(lambda x: list(set(x)))\n",
    "df_webscrap[\"Idiomas\"] = df_webscrap[\"Idiomas\"].apply(lambda x: ','.join(x))\n",
    "\n",
    "df_webscrap[\"Número de calificaciones\"] = df_webscrap[\"Número de calificaciones\"].str.replace(\"No hay información\", \"0\")\n",
    "df_webscrap[\"Número de calificaciones\"] = df_webscrap[\"Número de calificaciones\"].str.extract('(\\d+)') #en caso de necesitar \n",
    "df_webscrap[\"Número de calificaciones\"].fillna(0,inplace=True)\n",
    "df_webscrap[\"Número de calificaciones\"]  = df_webscrap[\"Número de calificaciones\"].astype(int)\n",
    "\n",
    "\n",
    "#  Calificación 5 estrellas convertido a float\n",
    "df_webscrap[\"Calificación 5 estrellas\"] = df_webscrap[\"Calificación 5 estrellas\"].str.replace(\" %\",'').str.replace(\".\",\"\")\n",
    "df_webscrap[\"Calificación 5 estrellas\"] = df_webscrap[\"Calificación 5 estrellas\"].str.replace(\"No hay información\", \"0\").astype(int)\n",
    "#  Calificación 4 estrellas convertido a float\n",
    "df_webscrap[\"Calificación 4 estrellas\"] = df_webscrap[\"Calificación 4 estrellas\"].str.replace(\" %\",'').str.replace(\".\",\"\")\n",
    "df_webscrap[\"Calificación 4 estrellas\"] = df_webscrap[\"Calificación 4 estrellas\"].str.replace(\"No hay información\", \"0\").astype(int)\n",
    "#  Calificación 3 estrellas convertido a float\n",
    "df_webscrap[\"Calificación 3 estrellas\"] = df_webscrap[\"Calificación 3 estrellas\"].str.replace(\" %\",'').str.replace(\".\",\"\")\n",
    "df_webscrap[\"Calificación 3 estrellas\"] = df_webscrap[\"Calificación 3 estrellas\"].str.replace(\"No hay información\", \"0\").astype(int)\n",
    "#  Calificación 2 estrellas convertido a float\n",
    "df_webscrap[\"Calificación 2 estrellas\"] = df_webscrap[\"Calificación 2 estrellas\"].str.replace(\" %\",'').str.replace(\".\",\"\")\n",
    "df_webscrap[\"Calificación 2 estrellas\"] = df_webscrap[\"Calificación 2 estrellas\"].str.replace(\"No hay información\", \"0\").astype(int)\n",
    "#  Calificación 1 estrella convertido a float\n",
    "df_webscrap[\"Calificación 1 estrella\"] = df_webscrap[\"Calificación 1 estrella\"].str.replace(\" %\",'').str.replace(\".\",\"\")\n",
    "df_webscrap[\"Calificación 1 estrella\"] = df_webscrap[\"Calificación 1 estrella\"].str.replace(\"No hay información\", \"0\").astype(int)\n",
    "\n",
    "df_webscrap[\"Calificación 5 estrellas\"] = ((df_webscrap[\"Calificación 5 estrellas\"]/100)*df_webscrap[\"Número de calificaciones\"]).astype(int)\n",
    "df_webscrap[\"Calificación 4 estrellas\"] = ((df_webscrap[\"Calificación 4 estrellas\"]/100)*df_webscrap[\"Número de calificaciones\"]).astype(int)\n",
    "df_webscrap[\"Calificación 3 estrellas\"] = ((df_webscrap[\"Calificación 3 estrellas\"]/100)*df_webscrap[\"Número de calificaciones\"]).astype(int)\n",
    "df_webscrap[\"Calificación 2 estrellas\"] = ((df_webscrap[\"Calificación 2 estrellas\"]/100)*df_webscrap[\"Número de calificaciones\"]).astype(int)\n",
    "df_webscrap[\"Calificación 1 estrella\"] = ((df_webscrap[\"Calificación 1 estrella\"]/100)*df_webscrap[\"Número de calificaciones\"]).astype(int)\n",
    "\n",
    "df_webscrap[\"Precio original\"] = df_webscrap[\"Precio original\"].str.replace(\"No hay información\",\"-1\")\n",
    "df_webscrap[\"Precio original\"] = df_webscrap[\"Precio original\"].str.replace('[^0-9,A-z]','', regex = True).replace('Gratis','0.00').replace(\"Incluido\",\"0.00\").replace(\"Nodisponibleparacomprar\",\"-1\").replace('Anunciado',\"-1\")\n",
    "df_webscrap[\"Precio original\"] = df_webscrap[\"Precio original\"].str.replace(\",\",\".\")\n",
    "df_webscrap[\"Precio original\"] = df_webscrap[\"Precio original\"].astype(float)\n",
    "\n",
    "\n",
    "df_webscrap[\"Oferta\"] = df_webscrap[\"Oferta\"].str.replace(\"No hay información\",\"-1\")\n",
    "df_webscrap[\"Oferta\"] = df_webscrap[\"Oferta\"].str.replace('[^0-9,A-z]','', regex = True).replace('Gratis','0.00').replace(\"Incluido\",\"0.00\").replace(\"Nodisponibleparacomprar\",\"-1\").replace('Anunciado',\"-1\")\n",
    "df_webscrap[\"Oferta\"] = df_webscrap[\"Oferta\"].str.replace(\",\",\".\")\n",
    "df_webscrap[\"Oferta\"] = df_webscrap[\"Oferta\"].astype(float)\n",
    "\n",
    "df_webscrap[\"Oferta PSPlus\"] = df_webscrap[\"Oferta PSPlus\"].str.replace(\"No hay información\",\"-1\")\n",
    "df_webscrap[\"Oferta PSPlus\"] = df_webscrap[\"Oferta PSPlus\"].str.replace('[^0-9,A-z]','', regex = True).replace('Gratis','0.00').replace(\"Incluido\",\"0.00\").replace(\"Nodisponibleparacomprar\",\"-1\").replace('Anunciado',\"-1\").replace('Pruebadejuego','0.5')\n",
    "df_webscrap[\"Oferta PSPlus\"] = df_webscrap[\"Oferta PSPlus\"].str.replace(\",\",\".\")\n",
    "df_webscrap[\"Oferta PSPlus\"] = df_webscrap[\"Oferta PSPlus\"].astype(float)\n",
    "\n",
    "\n",
    "df_webscrap[\"Otra promo diferente a PSPLUS\"] = df_webscrap[\"Otra promo diferente a PSPLUS\"].str.replace(\"No hay información\",\"-1\")\n",
    "df_webscrap[\"Otra promo diferente a PSPLUS\"] = df_webscrap[\"Otra promo diferente a PSPLUS\"].str.replace('[^0-9,A-z]','', regex = True).replace('Gratis','0.00').replace(\"Incluido\",\"0.00\").replace(\"Nodisponibleparacomprar\",\"-1\").replace('Anunciado',\"-1\").replace('Pruebadejuego','0.5').replace(\"Nohayotrapromocin\",\"-1\")\n",
    "df_webscrap[\"Otra promo diferente a PSPLUS\"] = df_webscrap[\"Otra promo diferente a PSPLUS\"].str.replace(\",\",\".\")\n",
    "df_webscrap[\"Otra promo diferente a PSPLUS\"] = df_webscrap[\"Otra promo diferente a PSPLUS\"].astype(float)\n"
   ]
  },
  {
   "cell_type": "code",
   "execution_count": 56,
   "metadata": {},
   "outputs": [],
   "source": [
    "df_webscrap.to_csv(f\"../csv_s/csv_region/esp/clean/csv_2024-04-02_es.csv\",index=False)"
   ]
  },
  {
   "cell_type": "code",
   "execution_count": 51,
   "metadata": {},
   "outputs": [
    {
     "name": "stdout",
     "output_type": "stream",
     "text": [
      "<class 'pandas.core.frame.DataFrame'>\n",
      "Index: 8639 entries, 0 to 8709\n",
      "Data columns (total 20 columns):\n",
      " #   Column                         Non-Null Count  Dtype         \n",
      "---  ------                         --------------  -----         \n",
      " 0   id_juego                       8639 non-null   int64         \n",
      " 1   Titulo                         8639 non-null   object        \n",
      " 2   Día y hora                     8639 non-null   datetime64[ns]\n",
      " 3   Plataforma                     8639 non-null   object        \n",
      " 4   Genero                         8639 non-null   object        \n",
      " 5   Compañia                       8639 non-null   object        \n",
      " 6   Lanzamiento                    8639 non-null   datetime64[ns]\n",
      " 7   Idiomas                        8639 non-null   object        \n",
      " 8   Calificación PSN               8639 non-null   float64       \n",
      " 9   Número de calificaciones       8639 non-null   int32         \n",
      " 10  Calificación 5 estrellas       8639 non-null   int32         \n",
      " 11  Calificación 4 estrellas       8639 non-null   int32         \n",
      " 12  Calificación 3 estrellas       8639 non-null   int32         \n",
      " 13  Calificación 2 estrellas       8639 non-null   int32         \n",
      " 14  Calificación 1 estrella        8639 non-null   int32         \n",
      " 15  Precio original                8639 non-null   float64       \n",
      " 16  Oferta                         8639 non-null   float64       \n",
      " 17  Oferta PSPlus                  8639 non-null   float64       \n",
      " 18  Otra promo diferente a PSPLUS  8639 non-null   float64       \n",
      " 19  País Store                     8639 non-null   object        \n",
      "dtypes: datetime64[ns](2), float64(5), int32(6), int64(1), object(6)\n",
      "memory usage: 1.2+ MB\n"
     ]
    }
   ],
   "source": [
    "df_webscrap.info()"
   ]
  }
 ],
 "metadata": {
  "kernelspec": {
   "display_name": "psn_env",
   "language": "python",
   "name": "python3"
  },
  "language_info": {
   "codemirror_mode": {
    "name": "ipython",
    "version": 3
   },
   "file_extension": ".py",
   "mimetype": "text/x-python",
   "name": "python",
   "nbconvert_exporter": "python",
   "pygments_lexer": "ipython3",
   "version": "3.11.4"
  }
 },
 "nbformat": 4,
 "nbformat_minor": 2
}
