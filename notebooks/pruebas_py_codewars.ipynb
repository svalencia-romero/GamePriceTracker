{
 "cells": [
  {
   "cell_type": "code",
   "execution_count": 4,
   "metadata": {},
   "outputs": [
    {
     "name": "stdout",
     "output_type": "stream",
     "text": [
      "1\n",
      "10\n",
      "35\n"
     ]
    }
   ],
   "source": [
    "def square_sum(numbers):\n",
    "    results = 0\n",
    "    for i in numbers:\n",
    "        results = results + i**2\n",
    "        print(results)\n",
    "\n",
    "square_sum([1,3,5])"
   ]
  },
  {
   "cell_type": "code",
   "execution_count": 39,
   "metadata": {},
   "outputs": [
    {
     "data": {
      "text/plain": [
       "0.79"
      ]
     },
     "execution_count": 39,
     "metadata": {},
     "output_type": "execute_result"
    }
   ],
   "source": [
    "import math\n",
    "def circle_area(r):\n",
    "    if type(r) == str or r <= 0:\n",
    "        return False\n",
    "    else:\n",
    "        results = math.pi * r**2\n",
    "        return round(results,2)\n",
    "\n",
    "circle_area(0.5)"
   ]
  },
  {
   "cell_type": "code",
   "execution_count": null,
   "metadata": {},
   "outputs": [],
   "source": [
    "def order(sentence):\n",
    "    frase = \"\"\n",
    "    for i in sentence:\n",
    "        if \" \" == i:\n",
    "            frase == \n"
   ]
  }
 ],
 "metadata": {
  "kernelspec": {
   "display_name": "Python 3",
   "language": "python",
   "name": "python3"
  },
  "language_info": {
   "codemirror_mode": {
    "name": "ipython",
    "version": 3
   },
   "file_extension": ".py",
   "mimetype": "text/x-python",
   "name": "python",
   "nbconvert_exporter": "python",
   "pygments_lexer": "ipython3",
   "version": "3.11.4"
  },
  "orig_nbformat": 4
 },
 "nbformat": 4,
 "nbformat_minor": 2
}
