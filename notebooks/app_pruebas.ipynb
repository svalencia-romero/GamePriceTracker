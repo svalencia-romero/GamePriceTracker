{
 "cells": [
  {
   "cell_type": "markdown",
   "metadata": {},
   "source": [
    "Pruebas PSN"
   ]
  },
  {
   "cell_type": "code",
   "execution_count": 1,
   "metadata": {},
   "outputs": [],
   "source": [
    "from selenium import webdriver\n",
    "from selenium.webdriver.chrome.service import Service\n",
    "from selenium.webdriver.common.by import By\n",
    "# import urllib3 # urllib3 es un cliente HTTP potente y fácil de usar para Python.\n",
    "import re # Expresiones regulares \n",
    "import time\n",
    "import datetime\n",
    "import pandas as pd\n",
    "from selenium.webdriver.support.ui import WebDriverWait\n",
    "from selenium.webdriver.common.by import By\n",
    "from selenium.webdriver.support import expected_conditions as EC\n",
    "import random\n",
    "from bs4 import BeautifulSoup as bs\n",
    "import requests\n",
    "import re\n"
   ]
  },
  {
   "cell_type": "code",
   "execution_count": 2,
   "metadata": {},
   "outputs": [],
   "source": [
    "service = Service(executable_path='../../psn_env/Lib/site-packages/selenium/webdriver/chrome/chromedriver.exe')\n",
    "options = webdriver.ChromeOptions()\n",
    "# options.add_argument('--start-maximized') SOLO EN PC SOBREMESA si fuera necesario."
   ]
  },
  {
   "cell_type": "markdown",
   "metadata": {},
   "source": [
    "Prueba primera con google"
   ]
  },
  {
   "cell_type": "code",
   "execution_count": 11,
   "metadata": {},
   "outputs": [],
   "source": [
    "driver = webdriver.Chrome(service=service, options=options)\n",
    "\n",
    "driver.get(\"http://www.google.es\")\n",
    "\n",
    "time.sleep(3)\n",
    "\n",
    "rechazar_cookies = driver.find_element(By.XPATH, '/html/body/div[2]/div[3]/div[3]/span/div/div/div/div[3]/div[1]/button[1]/div')\n",
    "rechazar_cookies.click()\n",
    "\n",
    "time.sleep(3)\n",
    "\n",
    "driver.quit()"
   ]
  },
  {
   "cell_type": "markdown",
   "metadata": {},
   "source": [
    "Haciendo pruebas con psn"
   ]
  },
  {
   "cell_type": "code",
   "execution_count": 3,
   "metadata": {},
   "outputs": [],
   "source": [
    "df_juegos = pd.DataFrame(columns=[\"Titulo\",\"Precio_original\",\"Precio_actual\",\"Precio con mayor rebaja\"])"
   ]
  },
  {
   "cell_type": "code",
   "execution_count": 4,
   "metadata": {},
   "outputs": [
    {
     "data": {
      "text/html": [
       "<div>\n",
       "<style scoped>\n",
       "    .dataframe tbody tr th:only-of-type {\n",
       "        vertical-align: middle;\n",
       "    }\n",
       "\n",
       "    .dataframe tbody tr th {\n",
       "        vertical-align: top;\n",
       "    }\n",
       "\n",
       "    .dataframe thead th {\n",
       "        text-align: right;\n",
       "    }\n",
       "</style>\n",
       "<table border=\"1\" class=\"dataframe\">\n",
       "  <thead>\n",
       "    <tr style=\"text-align: right;\">\n",
       "      <th></th>\n",
       "      <th>Titulo</th>\n",
       "      <th>Precio_original</th>\n",
       "      <th>Precio_actual</th>\n",
       "      <th>Precio con mayor rebaja</th>\n",
       "    </tr>\n",
       "  </thead>\n",
       "  <tbody>\n",
       "  </tbody>\n",
       "</table>\n",
       "</div>"
      ],
      "text/plain": [
       "Empty DataFrame\n",
       "Columns: [Titulo, Precio_original, Precio_actual, Precio con mayor rebaja]\n",
       "Index: []"
      ]
     },
     "execution_count": 4,
     "metadata": {},
     "output_type": "execute_result"
    }
   ],
   "source": [
    "df_juegos"
   ]
  },
  {
   "cell_type": "code",
   "execution_count": null,
   "metadata": {},
   "outputs": [],
   "source": [
    "### PRUEBA FUNCIONAL WEBSCRAPING DE X JUEGOS Y TIEMPO UTILIZADO ### Completamente funcional, pocos campos, meter más cosas genero etc...\n",
    "# Reset df\n",
    "df_juegos = pd.DataFrame(columns=[\"Titulo\",\"Precio_original\",\"Precio_actual\",\"Precio con mayor rebaja\"])\n",
    "\n",
    "driver = webdriver.Chrome(service=service, options=options)\n",
    "\n",
    "driver.get(\"https://store.playstation.com/\")\n",
    "\n",
    "\n",
    "lista_tiempo = [2.5,3, 3.5, 4,4.5, 5, 6.5, 7]\n",
    "\n",
    "#rechazamos cookies\n",
    "time.sleep(random.choice(lista_tiempo))\n",
    "rechazar_cookies = driver.find_element(By.XPATH, '/html/body/div[5]/div[2]/div/div/div[1]/div/div[2]/button/img')\n",
    "rechazar_cookies.click()\n",
    "\n",
    "#vamos a la pestaña de explora\n",
    "time.sleep(random.choice(lista_tiempo))\n",
    "explora = driver.find_element(By.XPATH, '/html/body/div[3]/section/div/div/div/ul/li[5]/a')\n",
    "explora.click()\n",
    "\n",
    "\n",
    "#plat\n",
    "time.sleep(random.choice(lista_tiempo))\n",
    "sort_plat = driver.find_element(By.XPATH, '/html/body/div[3]/main/div/section/div/div/div/div[4]/button')\n",
    "sort_plat.click()\n",
    "\n",
    "\n",
    "#ordenamos\n",
    "time.sleep(random.choice(lista_tiempo))\n",
    "sort_gam = driver.find_element(By.XPATH, '/html/body/div[3]/main/div/section/div/div/div/div[3]/div/div/div/div[3]/div[1]/div/header/button')\n",
    "sort_gam.click()\n",
    "\n",
    "#AZ\n",
    "time.sleep(random.choice(lista_tiempo))\n",
    "sort_az = driver.find_element(By.XPATH, '/html/body/div[3]/main/div/section/div/div/div/div[3]/div/div/div/div[3]/div[1]/div/div/span/label[3]')\n",
    "sort_az.click()\n",
    "\n",
    "# Obtenemos número de juegos para scrapear\n",
    "time.sleep(random.choice(lista_tiempo))\n",
    "page_source = driver.page_source\n",
    "soup = bs(page_source, 'lxml')\n",
    "numero_juegos = soup.find('div', class_ ='psw-t-body psw-c-t-2').get_text()\n",
    "\n",
    "#seleccion de juego\n",
    "\n",
    "cont = 0\n",
    "while cont <= 24:\n",
    "    cont += 1\n",
    "    time.sleep(random.choice(lista_tiempo))\n",
    "    select_game = driver.find_element(By.XPATH, f'/html/body/div[3]/main/div/section/div/div/div/div[2]/div[2]/ul/li[{cont}]/div/a')\n",
    "    select_game.click()\n",
    "\n",
    "    time.sleep(random.choice(lista_tiempo))\n",
    "\n",
    "    #Info que nos descargamos de la pagina del juego.\n",
    "    page_source = driver.page_source\n",
    "    soup = bs(page_source, 'lxml')\n",
    "\n",
    "    # Variable por juego\n",
    "    try:\n",
    "        titulo = soup.find(\"h1\", class_=\"psw-m-b-5 psw-t-title-l psw-t-size-8 psw-l-line-break-word\").get_text()\n",
    "    except:\n",
    "        titulo = soup.find(\"h1\", class_=\"psw-m-b-5 psw-t-title-l psw-t-size-7 psw-l-line-break-word\").get_text()\n",
    "\n",
    "    try:\n",
    "        precio_original = soup.find(\"span\",class_=\"psw-t-title-s psw-c-t-2 psw-t-strike\").get_text() \n",
    "    except:\n",
    "        precio_original = soup.find(\"span\",class_=\"psw-t-title-m\").get_text()\n",
    "    try:\n",
    "        precio_actual = soup.find(\"span\",class_=\"psw-t-title-m psw-m-r-4\").get_text()\n",
    "    except:\n",
    "        precio_actual = precio_original\n",
    "    \n",
    "    precio_con_mayor_rebaja = None\n",
    "    \n",
    "    df_juegos.loc[len(df_juegos)] = {\"Titulo\":titulo,\"Precio_original\":precio_original,\"Precio_actual\":precio_actual,\"Precio con mayor rebaja\":precio_con_mayor_rebaja} \n",
    "    time.sleep(random.choice(lista_tiempo))\n",
    "\n",
    "    driver.back();\n",
    "\n",
    "    time.sleep(random.choice(lista_tiempo))\n",
    "    #Comprobar error aquí\n",
    "    if cont == 24:\n",
    "        next_page = driver.find_element(By.XPATH,'/html/body/div[3]/main/div/section/div/div/div/div[2]/div[2]/div/nav/button[2]')  \n",
    "        next_page.click()      \n",
    "        cont = 0\n",
    "    elif numero_juegos == len(df_juegos):\n",
    "        break\n",
    "    else:\n",
    "        continue           \n",
    "driver.quit()\n"
   ]
  },
  {
   "cell_type": "markdown",
   "metadata": {},
   "source": [
    "1 minuto aprox cada juego."
   ]
  },
  {
   "cell_type": "markdown",
   "metadata": {},
   "source": [
    "Prueba identificacion numero de juegos."
   ]
  },
  {
   "cell_type": "code",
   "execution_count": 18,
   "metadata": {},
   "outputs": [
    {
     "name": "stdout",
     "output_type": "stream",
     "text": [
      "8352\n",
      "<class 'int'>\n"
     ]
    }
   ],
   "source": [
    "driver = webdriver.Chrome(service=service, options=options)\n",
    "\n",
    "driver.get(\"https://store.playstation.com/\")\n",
    "\n",
    "\n",
    "lista_tiempo = [2.5,3, 3.5, 4,4.5, 5, 6.5, 7]\n",
    "\n",
    "#rechazamos cookies\n",
    "time.sleep(random.choice(lista_tiempo))\n",
    "rechazar_cookies = driver.find_element(By.XPATH, '/html/body/div[5]/div[2]/div/div/div[1]/div/div[2]/button/img')\n",
    "rechazar_cookies.click()\n",
    "\n",
    "#vamos a la pestaña de explora\n",
    "time.sleep(random.choice(lista_tiempo))\n",
    "explora = driver.find_element(By.XPATH, '/html/body/div[3]/section/div/div/div/ul/li[5]/a')\n",
    "explora.click()\n",
    "\n",
    "\n",
    "#plat\n",
    "time.sleep(random.choice(lista_tiempo))\n",
    "sort_plat = driver.find_element(By.XPATH, '/html/body/div[3]/main/div/section/div/div/div/div[4]/button')\n",
    "sort_plat.click()\n",
    "\n",
    "\n",
    "#ordenamos\n",
    "time.sleep(random.choice(lista_tiempo))\n",
    "sort_gam = driver.find_element(By.XPATH, '/html/body/div[3]/main/div/section/div/div/div/div[3]/div/div/div/div[3]/div[1]/div/header/button')\n",
    "sort_gam.click()\n",
    "\n",
    "#AZ\n",
    "time.sleep(random.choice(lista_tiempo))\n",
    "sort_az = driver.find_element(By.XPATH, '/html/body/div[3]/main/div/section/div/div/div/div[3]/div/div/div/div[3]/div[1]/div/div/span/label[3]')\n",
    "sort_az.click()\n",
    "time.sleep(random.choice(lista_tiempo))\n",
    "page_source = driver.page_source\n",
    "soup = bs(page_source, 'lxml')\n",
    "numero_juegos = soup.find('div', class_ ='psw-t-body psw-c-t-2').get_text()\n",
    "numero_juegos = int(re.sub(\"[^0-9]\", \"\", numero_juegos))\n",
    "print(numero_juegos)\n",
    "print(type(numero_juegos))\n",
    "driver.quit()\n"
   ]
  },
  {
   "cell_type": "code",
   "execution_count": 12,
   "metadata": {},
   "outputs": [
    {
     "data": {
      "text/html": [
       "<div>\n",
       "<style scoped>\n",
       "    .dataframe tbody tr th:only-of-type {\n",
       "        vertical-align: middle;\n",
       "    }\n",
       "\n",
       "    .dataframe tbody tr th {\n",
       "        vertical-align: top;\n",
       "    }\n",
       "\n",
       "    .dataframe thead th {\n",
       "        text-align: right;\n",
       "    }\n",
       "</style>\n",
       "<table border=\"1\" class=\"dataframe\">\n",
       "  <thead>\n",
       "    <tr style=\"text-align: right;\">\n",
       "      <th></th>\n",
       "      <th>Titulo</th>\n",
       "      <th>Precio_original</th>\n",
       "      <th>Precio_actual</th>\n",
       "      <th>Precio con mayor rebaja</th>\n",
       "    </tr>\n",
       "  </thead>\n",
       "  <tbody>\n",
       "    <tr>\n",
       "      <th>0</th>\n",
       "      <td>01 Deadliest Zone Catch — Boat Crab &amp; Fishing ...</td>\n",
       "      <td>14,99 €</td>\n",
       "      <td>8,99 €</td>\n",
       "      <td>None</td>\n",
       "    </tr>\n",
       "    <tr>\n",
       "      <th>1</th>\n",
       "      <td>0 Degrees</td>\n",
       "      <td>4,99 €</td>\n",
       "      <td>4,99 €</td>\n",
       "      <td>None</td>\n",
       "    </tr>\n",
       "    <tr>\n",
       "      <th>2</th>\n",
       "      <td>0 Rally Desert Race: Offroad Dirt Simulator</td>\n",
       "      <td>14,99 €</td>\n",
       "      <td>8,99 €</td>\n",
       "      <td>None</td>\n",
       "    </tr>\n",
       "    <tr>\n",
       "      <th>3</th>\n",
       "      <td>1001 Spikes</td>\n",
       "      <td>14,99 €</td>\n",
       "      <td>14,99 €</td>\n",
       "      <td>None</td>\n",
       "    </tr>\n",
       "    <tr>\n",
       "      <th>4</th>\n",
       "      <td>100ft Robot Golf</td>\n",
       "      <td>9,99 €</td>\n",
       "      <td>9,99 €</td>\n",
       "      <td>None</td>\n",
       "    </tr>\n",
       "    <tr>\n",
       "      <th>5</th>\n",
       "      <td>101 Ways to Die</td>\n",
       "      <td>9,99 €</td>\n",
       "      <td>9,99 €</td>\n",
       "      <td>None</td>\n",
       "    </tr>\n",
       "    <tr>\n",
       "      <th>6</th>\n",
       "      <td>10 Second Ninja X</td>\n",
       "      <td>9,99 €</td>\n",
       "      <td>9,99 €</td>\n",
       "      <td>None</td>\n",
       "    </tr>\n",
       "    <tr>\n",
       "      <th>7</th>\n",
       "      <td>10 Seconds to Win!</td>\n",
       "      <td>Anunciado</td>\n",
       "      <td>Anunciado</td>\n",
       "      <td>None</td>\n",
       "    </tr>\n",
       "    <tr>\n",
       "      <th>8</th>\n",
       "      <td>11-11 Memories Retold</td>\n",
       "      <td>24,99 €</td>\n",
       "      <td>Incluido</td>\n",
       "      <td>None</td>\n",
       "    </tr>\n",
       "    <tr>\n",
       "      <th>9</th>\n",
       "      <td>112th Seed</td>\n",
       "      <td>4,99 €</td>\n",
       "      <td>4,99 €</td>\n",
       "      <td>None</td>\n",
       "    </tr>\n",
       "    <tr>\n",
       "      <th>10</th>\n",
       "      <td>13 Sentinels: Aegis Rim</td>\n",
       "      <td>59,99 €</td>\n",
       "      <td>Incluido</td>\n",
       "      <td>None</td>\n",
       "    </tr>\n",
       "    <tr>\n",
       "      <th>11</th>\n",
       "      <td>140</td>\n",
       "      <td>8,99 €</td>\n",
       "      <td>8,99 €</td>\n",
       "      <td>None</td>\n",
       "    </tr>\n",
       "    <tr>\n",
       "      <th>12</th>\n",
       "      <td>16-Bit Soccer</td>\n",
       "      <td>Gratis</td>\n",
       "      <td>Gratis</td>\n",
       "      <td>None</td>\n",
       "    </tr>\n",
       "    <tr>\n",
       "      <th>13</th>\n",
       "      <td>18 Floors</td>\n",
       "      <td>14,99 €</td>\n",
       "      <td>14,99 €</td>\n",
       "      <td>None</td>\n",
       "    </tr>\n",
       "    <tr>\n",
       "      <th>14</th>\n",
       "      <td>1971 Project Helios</td>\n",
       "      <td>14,99 €</td>\n",
       "      <td>14,99 €</td>\n",
       "      <td>None</td>\n",
       "    </tr>\n",
       "    <tr>\n",
       "      <th>15</th>\n",
       "      <td>1976 - Back to midway</td>\n",
       "      <td>19,99 €</td>\n",
       "      <td>19,99 €</td>\n",
       "      <td>None</td>\n",
       "    </tr>\n",
       "    <tr>\n",
       "      <th>16</th>\n",
       "      <td>1979 Revolution: Black Friday</td>\n",
       "      <td>11,99 €</td>\n",
       "      <td>11,99 €</td>\n",
       "      <td>None</td>\n",
       "    </tr>\n",
       "    <tr>\n",
       "      <th>17</th>\n",
       "      <td>198X</td>\n",
       "      <td>Anunciado</td>\n",
       "      <td>Anunciado</td>\n",
       "      <td>None</td>\n",
       "    </tr>\n",
       "    <tr>\n",
       "      <th>18</th>\n",
       "      <td>1993 Shenandoah</td>\n",
       "      <td>9,99 €</td>\n",
       "      <td>9,99 €</td>\n",
       "      <td>None</td>\n",
       "    </tr>\n",
       "    <tr>\n",
       "      <th>19</th>\n",
       "      <td>2044 Moto Racer - Cyber Racing Simulator</td>\n",
       "      <td>14,99 €</td>\n",
       "      <td>14,99 €</td>\n",
       "      <td>None</td>\n",
       "    </tr>\n",
       "    <tr>\n",
       "      <th>20</th>\n",
       "      <td>2064: Read Only Memories</td>\n",
       "      <td>21,99 €</td>\n",
       "      <td>21,99 €</td>\n",
       "      <td>None</td>\n",
       "    </tr>\n",
       "    <tr>\n",
       "      <th>21</th>\n",
       "      <td>20 Bunnies PS4 &amp; PS5</td>\n",
       "      <td>4,99 €</td>\n",
       "      <td>1,74 €</td>\n",
       "      <td>None</td>\n",
       "    </tr>\n",
       "    <tr>\n",
       "      <th>22</th>\n",
       "      <td>20XX</td>\n",
       "      <td>15,99 €</td>\n",
       "      <td>7,99 €</td>\n",
       "      <td>None</td>\n",
       "    </tr>\n",
       "    <tr>\n",
       "      <th>23</th>\n",
       "      <td>2Dark</td>\n",
       "      <td>19,99 €</td>\n",
       "      <td>1,99 €</td>\n",
       "      <td>None</td>\n",
       "    </tr>\n",
       "    <tr>\n",
       "      <th>24</th>\n",
       "      <td>2MD: VR Football Head 2 Head Edition</td>\n",
       "      <td>9,99 €</td>\n",
       "      <td>9,99 €</td>\n",
       "      <td>None</td>\n",
       "    </tr>\n",
       "    <tr>\n",
       "      <th>25</th>\n",
       "      <td>2MD: VR Football Unleashed ALL☆STAR</td>\n",
       "      <td>14,99 €</td>\n",
       "      <td>14,99 €</td>\n",
       "      <td>None</td>\n",
       "    </tr>\n",
       "    <tr>\n",
       "      <th>26</th>\n",
       "      <td>2URVIVE</td>\n",
       "      <td>6,99 €</td>\n",
       "      <td>6,99 €</td>\n",
       "      <td>None</td>\n",
       "    </tr>\n",
       "    <tr>\n",
       "      <th>27</th>\n",
       "      <td>30 Sport Games in 1</td>\n",
       "      <td>24,99 €</td>\n",
       "      <td>24,99 €</td>\n",
       "      <td>None</td>\n",
       "    </tr>\n",
       "    <tr>\n",
       "      <th>28</th>\n",
       "      <td>35MM</td>\n",
       "      <td>9,99 €</td>\n",
       "      <td>9,99 €</td>\n",
       "      <td>None</td>\n",
       "    </tr>\n",
       "    <tr>\n",
       "      <th>29</th>\n",
       "      <td>36 Fragments of Midnight</td>\n",
       "      <td>2,99 €</td>\n",
       "      <td>0,29 €</td>\n",
       "      <td>None</td>\n",
       "    </tr>\n",
       "    <tr>\n",
       "      <th>30</th>\n",
       "      <td>39 Days to Mars</td>\n",
       "      <td>12,49 €</td>\n",
       "      <td>12,49 €</td>\n",
       "      <td>None</td>\n",
       "    </tr>\n",
       "    <tr>\n",
       "      <th>31</th>\n",
       "      <td>3D Air Hockey</td>\n",
       "      <td>4,99 €</td>\n",
       "      <td>4,99 €</td>\n",
       "      <td>None</td>\n",
       "    </tr>\n",
       "    <tr>\n",
       "      <th>32</th>\n",
       "      <td>3D Billiards - Pool &amp; Snooker</td>\n",
       "      <td>24,99 €</td>\n",
       "      <td>24,99 €</td>\n",
       "      <td>None</td>\n",
       "    </tr>\n",
       "    <tr>\n",
       "      <th>33</th>\n",
       "      <td>3D Color Labyrinth</td>\n",
       "      <td>9,99 €</td>\n",
       "      <td>9,99 €</td>\n",
       "      <td>None</td>\n",
       "    </tr>\n",
       "    <tr>\n",
       "      <th>34</th>\n",
       "      <td>3D MiniGolf</td>\n",
       "      <td>24,99 €</td>\n",
       "      <td>24,99 €</td>\n",
       "      <td>None</td>\n",
       "    </tr>\n",
       "    <tr>\n",
       "      <th>35</th>\n",
       "      <td>3D PrintMaster Simulator</td>\n",
       "      <td>19,99 €</td>\n",
       "      <td>19,99 €</td>\n",
       "      <td>None</td>\n",
       "    </tr>\n",
       "    <tr>\n",
       "      <th>36</th>\n",
       "      <td>3D Table Soccer Foosball</td>\n",
       "      <td>4,99 €</td>\n",
       "      <td>4,99 €</td>\n",
       "      <td>None</td>\n",
       "    </tr>\n",
       "    <tr>\n",
       "      <th>37</th>\n",
       "      <td>FUNDACION 3M ESPAÑA - STEM+VR</td>\n",
       "      <td>Gratis</td>\n",
       "      <td>Gratis</td>\n",
       "      <td>None</td>\n",
       "    </tr>\n",
       "    <tr>\n",
       "      <th>38</th>\n",
       "      <td>3on3 FreeStyle</td>\n",
       "      <td>Gratis</td>\n",
       "      <td>Gratis</td>\n",
       "      <td>None</td>\n",
       "    </tr>\n",
       "    <tr>\n",
       "      <th>39</th>\n",
       "      <td>41 Hours PS4 &amp; PS5</td>\n",
       "      <td>19,99 €</td>\n",
       "      <td>19,99 €</td>\n",
       "      <td>None</td>\n",
       "    </tr>\n",
       "    <tr>\n",
       "      <th>40</th>\n",
       "      <td>428: Shibuya Scramble</td>\n",
       "      <td>49,99 €</td>\n",
       "      <td>9,99 €</td>\n",
       "      <td>None</td>\n",
       "    </tr>\n",
       "    <tr>\n",
       "      <th>41</th>\n",
       "      <td>5 Star Wrestling: ReGenesis</td>\n",
       "      <td>17,99 €</td>\n",
       "      <td>17,99 €</td>\n",
       "      <td>None</td>\n",
       "    </tr>\n",
       "    <tr>\n",
       "      <th>42</th>\n",
       "      <td>60 Parsecs!</td>\n",
       "      <td>9,99 €</td>\n",
       "      <td>9,99 €</td>\n",
       "      <td>None</td>\n",
       "    </tr>\n",
       "    <tr>\n",
       "      <th>43</th>\n",
       "      <td>60 Seconds! Reatomized</td>\n",
       "      <td>Gratis</td>\n",
       "      <td>Gratis</td>\n",
       "      <td>None</td>\n",
       "    </tr>\n",
       "    <tr>\n",
       "      <th>44</th>\n",
       "      <td>6Souls PS4 &amp; PS5</td>\n",
       "      <td>7,99 €</td>\n",
       "      <td>2,39 €</td>\n",
       "      <td>None</td>\n",
       "    </tr>\n",
       "    <tr>\n",
       "      <th>45</th>\n",
       "      <td>7 Days of Rose PS4 &amp; PS5</td>\n",
       "      <td>4,99 €</td>\n",
       "      <td>4,99 €</td>\n",
       "      <td>None</td>\n",
       "    </tr>\n",
       "    <tr>\n",
       "      <th>46</th>\n",
       "      <td>7 Days to Die</td>\n",
       "      <td>34,99 €</td>\n",
       "      <td>34,99 €</td>\n",
       "      <td>None</td>\n",
       "    </tr>\n",
       "    <tr>\n",
       "      <th>47</th>\n",
       "      <td>7th Sector</td>\n",
       "      <td>19,99 €</td>\n",
       "      <td>19,99 €</td>\n",
       "      <td>None</td>\n",
       "    </tr>\n",
       "    <tr>\n",
       "      <th>48</th>\n",
       "      <td>890B</td>\n",
       "      <td>4,99 €</td>\n",
       "      <td>4,99 €</td>\n",
       "      <td>None</td>\n",
       "    </tr>\n",
       "  </tbody>\n",
       "</table>\n",
       "</div>"
      ],
      "text/plain": [
       "                                               Titulo Precio_original  \\\n",
       "0   01 Deadliest Zone Catch — Boat Crab & Fishing ...         14,99 €   \n",
       "1                                           0 Degrees          4,99 €   \n",
       "2         0 Rally Desert Race: Offroad Dirt Simulator         14,99 €   \n",
       "3                                         1001 Spikes         14,99 €   \n",
       "4                                    100ft Robot Golf          9,99 €   \n",
       "5                                     101 Ways to Die          9,99 €   \n",
       "6                                   10 Second Ninja X          9,99 €   \n",
       "7                                  10 Seconds to Win!       Anunciado   \n",
       "8                               11-11 Memories Retold         24,99 €   \n",
       "9                                          112th Seed          4,99 €   \n",
       "10                            13 Sentinels: Aegis Rim         59,99 €   \n",
       "11                                                140          8,99 €   \n",
       "12                                      16-Bit Soccer          Gratis   \n",
       "13                                          18 Floors         14,99 €   \n",
       "14                                1971 Project Helios         14,99 €   \n",
       "15                              1976 - Back to midway         19,99 €   \n",
       "16                      1979 Revolution: Black Friday         11,99 €   \n",
       "17                                               198X       Anunciado   \n",
       "18                                    1993 Shenandoah          9,99 €   \n",
       "19           2044 Moto Racer - Cyber Racing Simulator         14,99 €   \n",
       "20                           2064: Read Only Memories         21,99 €   \n",
       "21                               20 Bunnies PS4 & PS5          4,99 €   \n",
       "22                                               20XX         15,99 €   \n",
       "23                                              2Dark         19,99 €   \n",
       "24               2MD: VR Football Head 2 Head Edition          9,99 €   \n",
       "25                2MD: VR Football Unleashed ALL☆STAR         14,99 €   \n",
       "26                                            2URVIVE          6,99 €   \n",
       "27                                30 Sport Games in 1         24,99 €   \n",
       "28                                               35MM          9,99 €   \n",
       "29                           36 Fragments of Midnight          2,99 €   \n",
       "30                                    39 Days to Mars         12,49 €   \n",
       "31                                      3D Air Hockey          4,99 €   \n",
       "32                      3D Billiards - Pool & Snooker         24,99 €   \n",
       "33                                 3D Color Labyrinth          9,99 €   \n",
       "34                                        3D MiniGolf         24,99 €   \n",
       "35                           3D PrintMaster Simulator         19,99 €   \n",
       "36                           3D Table Soccer Foosball          4,99 €   \n",
       "37                      FUNDACION 3M ESPAÑA - STEM+VR          Gratis   \n",
       "38                                     3on3 FreeStyle          Gratis   \n",
       "39                                 41 Hours PS4 & PS5         19,99 €   \n",
       "40                              428: Shibuya Scramble         49,99 €   \n",
       "41                        5 Star Wrestling: ReGenesis         17,99 €   \n",
       "42                                        60 Parsecs!          9,99 €   \n",
       "43                             60 Seconds! Reatomized          Gratis   \n",
       "44                                   6Souls PS4 & PS5          7,99 €   \n",
       "45                           7 Days of Rose PS4 & PS5          4,99 €   \n",
       "46                                      7 Days to Die         34,99 €   \n",
       "47                                         7th Sector         19,99 €   \n",
       "48                                               890B          4,99 €   \n",
       "\n",
       "   Precio_actual Precio con mayor rebaja  \n",
       "0         8,99 €                    None  \n",
       "1         4,99 €                    None  \n",
       "2         8,99 €                    None  \n",
       "3        14,99 €                    None  \n",
       "4         9,99 €                    None  \n",
       "5         9,99 €                    None  \n",
       "6         9,99 €                    None  \n",
       "7      Anunciado                    None  \n",
       "8       Incluido                    None  \n",
       "9         4,99 €                    None  \n",
       "10      Incluido                    None  \n",
       "11        8,99 €                    None  \n",
       "12        Gratis                    None  \n",
       "13       14,99 €                    None  \n",
       "14       14,99 €                    None  \n",
       "15       19,99 €                    None  \n",
       "16       11,99 €                    None  \n",
       "17     Anunciado                    None  \n",
       "18        9,99 €                    None  \n",
       "19       14,99 €                    None  \n",
       "20       21,99 €                    None  \n",
       "21        1,74 €                    None  \n",
       "22        7,99 €                    None  \n",
       "23        1,99 €                    None  \n",
       "24        9,99 €                    None  \n",
       "25       14,99 €                    None  \n",
       "26        6,99 €                    None  \n",
       "27       24,99 €                    None  \n",
       "28        9,99 €                    None  \n",
       "29        0,29 €                    None  \n",
       "30       12,49 €                    None  \n",
       "31        4,99 €                    None  \n",
       "32       24,99 €                    None  \n",
       "33        9,99 €                    None  \n",
       "34       24,99 €                    None  \n",
       "35       19,99 €                    None  \n",
       "36        4,99 €                    None  \n",
       "37        Gratis                    None  \n",
       "38        Gratis                    None  \n",
       "39       19,99 €                    None  \n",
       "40        9,99 €                    None  \n",
       "41       17,99 €                    None  \n",
       "42        9,99 €                    None  \n",
       "43        Gratis                    None  \n",
       "44        2,39 €                    None  \n",
       "45        4,99 €                    None  \n",
       "46       34,99 €                    None  \n",
       "47       19,99 €                    None  \n",
       "48        4,99 €                    None  "
      ]
     },
     "execution_count": 12,
     "metadata": {},
     "output_type": "execute_result"
    }
   ],
   "source": [
    "df_juegos"
   ]
  },
  {
   "cell_type": "markdown",
   "metadata": {},
   "source": [
    "Columnas en df"
   ]
  },
  {
   "cell_type": "code",
   "execution_count": 32,
   "metadata": {},
   "outputs": [
    {
     "name": "stdout",
     "output_type": "stream",
     "text": [
      "890B\n"
     ]
    }
   ],
   "source": [
    "# Titulo\n",
    "try:\n",
    "    print(soup.find(\"h1\", class_=\"psw-m-b-5 psw-t-title-l psw-t-size-8 psw-l-line-break-word\").get_text())\n",
    "except:\n",
    "    print(soup.find(\"h1\", class_=\"psw-m-b-5 psw-t-title-l psw-t-size-7 psw-l-line-break-word\").get_text())"
   ]
  },
  {
   "cell_type": "code",
   "execution_count": null,
   "metadata": {},
   "outputs": [],
   "source": [
    "# Precio Original sin PSN\n",
    "soup.find(\"span\",class_=\"psw-t-title-s psw-c-t-2 psw-t-strike\").get_text()\n"
   ]
  },
  {
   "cell_type": "code",
   "execution_count": 31,
   "metadata": {},
   "outputs": [
    {
     "name": "stdout",
     "output_type": "stream",
     "text": [
      "4,99 €\n"
     ]
    }
   ],
   "source": [
    "#Precio Actual sin PSN\n",
    "try:\n",
    "    print(soup.find(\"span\",class_=\"psw-t-title-m psw-m-r-4\").get_text())\n",
    "except: \n",
    "    print(soup.find(\"span\",class_=\"psw-t-title-m\").get_text())"
   ]
  },
  {
   "cell_type": "code",
   "execution_count": 29,
   "metadata": {},
   "outputs": [
    {
     "data": {
      "text/plain": [
       "'PS4'"
      ]
     },
     "execution_count": 29,
     "metadata": {},
     "output_type": "execute_result"
    }
   ],
   "source": [
    "# Plataforma\n",
    "soup.find(\"dd\", attrs={'class':'psw-p-r-6 psw-p-r-0@tablet-s psw-t-bold psw-l-w-1/2 psw-l-w-1/6@tablet-s psw-l-w-1/6@tablet-l psw-l-w-1/8@laptop psw-l-w-1/6@desktop psw-l-w-1/6@max','data-qa':'gameInfo#releaseInformation#platform-value'}).get_text()\n"
   ]
  },
  {
   "cell_type": "code",
   "execution_count": 21,
   "metadata": {},
   "outputs": [
    {
     "data": {
      "text/plain": [
       "'Aventura, Puzzle'"
      ]
     },
     "execution_count": 21,
     "metadata": {},
     "output_type": "execute_result"
    }
   ],
   "source": [
    "# Genero\n",
    "soup.find(\"span\", attrs={'style':'text-transform: capitalize;'}).get_text()"
   ]
  },
  {
   "cell_type": "code",
   "execution_count": 23,
   "metadata": {},
   "outputs": [
    {
     "data": {
      "text/plain": [
       "'eastasiasoft'"
      ]
     },
     "execution_count": 23,
     "metadata": {},
     "output_type": "execute_result"
    }
   ],
   "source": [
    "# Compañia\n",
    "soup.find(\"dd\", attrs={'class':'psw-p-r-6 psw-p-r-0@tablet-s psw-t-bold psw-l-w-1/2 psw-l-w-1/6@tablet-s psw-l-w-1/6@tablet-l psw-l-w-1/8@laptop psw-l-w-1/6@desktop psw-l-w-1/6@max','data-qa':'gameInfo#releaseInformation#publisher-value'}).get_text()"
   ]
  },
  {
   "cell_type": "code",
   "execution_count": 24,
   "metadata": {},
   "outputs": [
    {
     "data": {
      "text/plain": [
       "'10/11/2021'"
      ]
     },
     "execution_count": 24,
     "metadata": {},
     "output_type": "execute_result"
    }
   ],
   "source": [
    "# Lanzamiento\n",
    "soup.find(\"dd\", attrs={'class':'psw-p-r-6 psw-p-r-0@tablet-s psw-t-bold psw-l-w-1/2 psw-l-w-1/6@tablet-s psw-l-w-1/6@tablet-l psw-l-w-1/8@laptop psw-l-w-1/6@desktop psw-l-w-1/6@max','data-qa':'gameInfo#releaseInformation#releaseDate-value'}).get_text()"
   ]
  },
  {
   "cell_type": "code",
   "execution_count": 26,
   "metadata": {},
   "outputs": [
    {
     "data": {
      "text/plain": [
       "'Alemán, Chino (Tradicional), Español, Francés (Francia), Inglés, Portugués (Brasil)'"
      ]
     },
     "execution_count": 26,
     "metadata": {},
     "output_type": "execute_result"
    }
   ],
   "source": [
    "# Idiomas\n",
    "soup.find(\"dd\", attrs={'class':'psw-p-r-6 psw-p-r-0@tablet-s psw-t-bold psw-l-w-1/2 psw-l-w-1/6@tablet-s psw-l-w-1/6@tablet-l psw-l-w-1/8@laptop psw-l-w-1/6@desktop psw-l-w-1/6@max','data-qa':'gameInfo#releaseInformation#subtitles-value'}).get_text()\n"
   ]
  },
  {
   "cell_type": "code",
   "execution_count": 33,
   "metadata": {},
   "outputs": [
    {
     "data": {
      "text/plain": [
       "'2.57'"
      ]
     },
     "execution_count": 33,
     "metadata": {},
     "output_type": "execute_result"
    }
   ],
   "source": [
    "# Calificación PSN\n",
    "soup.find(\"div\", attrs={'class':'psw-t-subtitle psw-t-bold psw-l-line-center','data-qa':'mfe-game-title#average-rating'}).get_text()\n"
   ]
  },
  {
   "cell_type": "code",
   "execution_count": 34,
   "metadata": {},
   "outputs": [
    {
     "data": {
      "text/plain": [
       "'37 calificaciones'"
      ]
     },
     "execution_count": 34,
     "metadata": {},
     "output_type": "execute_result"
    }
   ],
   "source": [
    "# Nº Calificaciones\n",
    "soup.find(\"span\", attrs={'class':'psw-c-t-2 psw-t-secondary','data-qa':'mfe-star-rating#overall-rating#total-ratings'}).get_text()"
   ]
  },
  {
   "cell_type": "code",
   "execution_count": 35,
   "metadata": {},
   "outputs": [
    {
     "data": {
      "text/plain": [
       "'27 %'"
      ]
     },
     "execution_count": 35,
     "metadata": {},
     "output_type": "execute_result"
    }
   ],
   "source": [
    "# % 5 estrellas \n",
    "soup.find(\"span\", attrs={'class':'psw-t-body','data-qa':'mfe-star-rating#overall-rating#rating-progress5#percentage-label'}).get_text()"
   ]
  },
  {
   "cell_type": "code",
   "execution_count": 36,
   "metadata": {},
   "outputs": [
    {
     "data": {
      "text/plain": [
       "'5 %'"
      ]
     },
     "execution_count": 36,
     "metadata": {},
     "output_type": "execute_result"
    }
   ],
   "source": [
    "# % 4 estrellas \n",
    "soup.find(\"span\", attrs={'class':'psw-t-body','data-qa':'mfe-star-rating#overall-rating#rating-progress4#percentage-label'}).get_text()"
   ]
  },
  {
   "cell_type": "code",
   "execution_count": 37,
   "metadata": {},
   "outputs": [
    {
     "data": {
      "text/plain": [
       "'11 %'"
      ]
     },
     "execution_count": 37,
     "metadata": {},
     "output_type": "execute_result"
    }
   ],
   "source": [
    "# % 3 estrellas \n",
    "soup.find(\"span\", attrs={'class':'psw-t-body','data-qa':'mfe-star-rating#overall-rating#rating-progress3#percentage-label'}).get_text()"
   ]
  },
  {
   "cell_type": "code",
   "execution_count": 38,
   "metadata": {},
   "outputs": [
    {
     "data": {
      "text/plain": [
       "'11 %'"
      ]
     },
     "execution_count": 38,
     "metadata": {},
     "output_type": "execute_result"
    }
   ],
   "source": [
    "# % 2 estrellas \n",
    "soup.find(\"span\", attrs={'class':'psw-t-body','data-qa':'mfe-star-rating#overall-rating#rating-progress2#percentage-label'}).get_text()"
   ]
  },
  {
   "cell_type": "code",
   "execution_count": 39,
   "metadata": {},
   "outputs": [
    {
     "data": {
      "text/plain": [
       "'46 %'"
      ]
     },
     "execution_count": 39,
     "metadata": {},
     "output_type": "execute_result"
    }
   ],
   "source": [
    "# % 1 estrella\n",
    "soup.find(\"span\", attrs={'class':'psw-t-body','data-qa':'mfe-star-rating#overall-rating#rating-progress1#percentage-label'}).get_text()"
   ]
  }
 ],
 "metadata": {
  "kernelspec": {
   "display_name": "Python 3",
   "language": "python",
   "name": "python3"
  },
  "language_info": {
   "codemirror_mode": {
    "name": "ipython",
    "version": 3
   },
   "file_extension": ".py",
   "mimetype": "text/x-python",
   "name": "python",
   "nbconvert_exporter": "python",
   "pygments_lexer": "ipython3",
   "version": "3.11.4"
  },
  "orig_nbformat": 4
 },
 "nbformat": 4,
 "nbformat_minor": 2
}
