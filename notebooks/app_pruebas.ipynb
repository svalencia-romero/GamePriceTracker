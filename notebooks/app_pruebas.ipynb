{
 "cells": [
  {
   "cell_type": "markdown",
   "metadata": {},
   "source": [
    "Pruebas PSN"
   ]
  },
  {
   "cell_type": "code",
   "execution_count": 2,
   "metadata": {},
   "outputs": [],
   "source": [
    "from selenium import webdriver\n",
    "from selenium.webdriver.chrome.service import Service\n",
    "from selenium.webdriver.common.by import By\n",
    "# import urllib3 # urllib3 es un cliente HTTP potente y fácil de usar para Python.\n",
    "import re # Expresiones regulares \n",
    "import time\n",
    "import datetime\n",
    "import pandas as pd\n",
    "from selenium.webdriver.support.ui import WebDriverWait\n",
    "from selenium.webdriver.common.by import By\n",
    "from selenium.webdriver.support import expected_conditions as EC\n",
    "import random\n",
    "from bs4 import BeautifulSoup as bs\n",
    "import requests\n",
    "import re\n"
   ]
  },
  {
   "cell_type": "code",
   "execution_count": 3,
   "metadata": {},
   "outputs": [],
   "source": [
    "service = Service(executable_path='../../psn_env/Lib/site-packages/selenium/webdriver/chrome/chromedriver.exe')\n",
    "options = webdriver.ChromeOptions()\n",
    "# options.add_argument('--start-maximized') SOLO EN PC SOBREMESA si fuera necesario."
   ]
  },
  {
   "cell_type": "markdown",
   "metadata": {},
   "source": [
    "Prueba primera con google"
   ]
  },
  {
   "cell_type": "code",
   "execution_count": 11,
   "metadata": {},
   "outputs": [],
   "source": [
    "driver = webdriver.Chrome(service=service, options=options)\n",
    "\n",
    "driver.get(\"http://www.google.es\")\n",
    "\n",
    "time.sleep(3)\n",
    "\n",
    "rechazar_cookies = driver.find_element(By.XPATH, '/html/body/div[2]/div[3]/div[3]/span/div/div/div/div[3]/div[1]/button[1]/div')\n",
    "rechazar_cookies.click()\n",
    "\n",
    "time.sleep(3)\n",
    "\n",
    "driver.quit()"
   ]
  },
  {
   "cell_type": "markdown",
   "metadata": {},
   "source": [
    "Haciendo pruebas con psn"
   ]
  },
  {
   "cell_type": "code",
   "execution_count": 3,
   "metadata": {},
   "outputs": [],
   "source": [
    "df_juegos = pd.DataFrame(columns=[\"Titulo\",\"Precio_original\",\"Precio_actual\",\"Precio con mayor rebaja\"])"
   ]
  },
  {
   "cell_type": "code",
   "execution_count": 4,
   "metadata": {},
   "outputs": [
    {
     "data": {
      "text/html": [
       "<div>\n",
       "<style scoped>\n",
       "    .dataframe tbody tr th:only-of-type {\n",
       "        vertical-align: middle;\n",
       "    }\n",
       "\n",
       "    .dataframe tbody tr th {\n",
       "        vertical-align: top;\n",
       "    }\n",
       "\n",
       "    .dataframe thead th {\n",
       "        text-align: right;\n",
       "    }\n",
       "</style>\n",
       "<table border=\"1\" class=\"dataframe\">\n",
       "  <thead>\n",
       "    <tr style=\"text-align: right;\">\n",
       "      <th></th>\n",
       "      <th>Titulo</th>\n",
       "      <th>Precio_original</th>\n",
       "      <th>Precio_actual</th>\n",
       "      <th>Precio con mayor rebaja</th>\n",
       "    </tr>\n",
       "  </thead>\n",
       "  <tbody>\n",
       "  </tbody>\n",
       "</table>\n",
       "</div>"
      ],
      "text/plain": [
       "Empty DataFrame\n",
       "Columns: [Titulo, Precio_original, Precio_actual, Precio con mayor rebaja]\n",
       "Index: []"
      ]
     },
     "execution_count": 4,
     "metadata": {},
     "output_type": "execute_result"
    }
   ],
   "source": [
    "df_juegos"
   ]
  },
  {
   "cell_type": "code",
   "execution_count": 6,
   "metadata": {},
   "outputs": [],
   "source": [
    "### PRUEBA FUNCIONAL WEBSCRAPING DE X JUEGOS Y TIEMPO UTILIZADO ### Completamente funcional, pocos campos, meter más cosas genero etc...\n",
    "# Reset df\n",
    "df_juegos = pd.DataFrame(columns=[\"Titulo\",\"Plataforma\",\"Genero\",\"Compañia\",\n",
    "                                \"Lanzamiento\",\"Idiomas\",\"Calificación PSN\",\"Número de calificaciones\",\"Calificación 5 estrellas\",\n",
    "                                \"Calificación 4 estrellas\",\"Calificación 3 estrellas\",\"Calificación 2 estrellas\",\n",
    "                                \"Calificación 1 estrella\",\"Precio_original\",\"Precio_actual\",\"Precio con mayor rebaja\"])\n",
    "\n",
    "driver = webdriver.Chrome(service=service, options=options)\n",
    "\n",
    "driver.get(\"https://store.playstation.com/\")\n",
    "\n",
    "\n",
    "lista_tiempo = [2.5,3, 3.5, 4,4.5, 5, 6.5, 7]\n",
    "\n",
    "#rechazamos cookies\n",
    "time.sleep(random.choice(lista_tiempo))\n",
    "rechazar_cookies = driver.find_element(By.XPATH, '/html/body/div[5]/div[2]/div/div/div[1]/div/div[2]/button/img')\n",
    "rechazar_cookies.click()\n",
    "\n",
    "#vamos a la pestaña de explora\n",
    "time.sleep(random.choice(lista_tiempo))\n",
    "explora = driver.find_element(By.XPATH, '/html/body/div[3]/section/div/div/div/ul/li[5]/a')\n",
    "explora.click()\n",
    "\n",
    "\n",
    "#plat\n",
    "time.sleep(random.choice(lista_tiempo))\n",
    "sort_plat = driver.find_element(By.XPATH, '/html/body/div[3]/main/div/section/div/div/div/div[4]/button')\n",
    "sort_plat.click()\n",
    "\n",
    "\n",
    "#ordenamos\n",
    "time.sleep(random.choice(lista_tiempo))\n",
    "sort_gam = driver.find_element(By.XPATH, '/html/body/div[3]/main/div/section/div/div/div/div[3]/div/div/div/div[3]/div[1]/div/header/button')\n",
    "sort_gam.click()\n",
    "\n",
    "#AZ\n",
    "time.sleep(random.choice(lista_tiempo))\n",
    "sort_az = driver.find_element(By.XPATH, '/html/body/div[3]/main/div/section/div/div/div/div[3]/div/div/div/div[3]/div[1]/div/div/span/label[3]')\n",
    "sort_az.click()\n",
    "\n",
    "# Obtenemos número de juegos para scrapear\n",
    "time.sleep(random.choice(lista_tiempo))\n",
    "page_source = driver.page_source\n",
    "soup = bs(page_source, 'lxml')\n",
    "# Mostrar un numero de juegos limitado\n",
    "numero_juegos = 20\n",
    "# numero_juegos = soup.find('div', class_ ='psw-t-body psw-c-t-2').get_text() #Si son todos los de la web\n",
    "\n",
    "#seleccion de juego\n",
    "\n",
    "cont = 0\n",
    "while cont <= 24:\n",
    "    cont += 1\n",
    "    time.sleep(random.choice(lista_tiempo))\n",
    "    select_game = driver.find_element(By.XPATH, f'/html/body/div[3]/main/div/section/div/div/div/div[2]/div[2]/ul/li[{cont}]/div/a')\n",
    "    select_game.click()\n",
    "\n",
    "    time.sleep(random.choice(lista_tiempo))\n",
    "\n",
    "    # Info que nos descargamos de la pagina del juego.\n",
    "    page_source = driver.page_source\n",
    "    soup = bs(page_source, 'lxml')\n",
    "\n",
    "    # Variable por juego\n",
    "    \n",
    "    # Titulo\n",
    "    try:\n",
    "        titulo = soup.find(\"h1\", class_=\"psw-m-b-5 psw-t-title-l psw-t-size-8 psw-l-line-break-word\").get_text()\n",
    "    except:\n",
    "        titulo = soup.find(\"h1\", class_=\"psw-m-b-5 psw-t-title-l psw-t-size-7 psw-l-line-break-word\").get_text()\n",
    "    \n",
    "    # Precio original\n",
    "    try:\n",
    "        precio_original = soup.find(\"span\",class_=\"psw-t-title-s psw-c-t-2 psw-t-strike\").get_text() \n",
    "    except:\n",
    "        precio_original = soup.find(\"span\",class_=\"psw-t-title-m\").get_text()\n",
    "    \n",
    "    # Precio actual \n",
    "    try:\n",
    "        precio_actual = soup.find(\"span\",class_=\"psw-t-title-m psw-m-r-4\").get_text()\n",
    "    except:\n",
    "        precio_actual = precio_original\n",
    "    \n",
    "    # Plataforma\n",
    "    try:\n",
    "        plataforma = soup.find(\"dd\", attrs={'class':'psw-p-r-6 psw-p-r-0@tablet-s psw-t-bold psw-l-w-1/2 psw-l-w-1/6@tablet-s psw-l-w-1/6@tablet-l psw-l-w-1/8@laptop psw-l-w-1/6@desktop psw-l-w-1/6@max','data-qa':'gameInfo#releaseInformation#platform-value'}).get_text()\n",
    "    except:\n",
    "        plataforma = \"No hay información\"\n",
    "    \n",
    "    # Genero\n",
    "    try:\n",
    "        genero = soup.find(\"span\", attrs={'style':'text-transform: capitalize;'}).get_text()\n",
    "    except:\n",
    "        genero = \"No hay información\"\n",
    "    \n",
    "    # Compañia\n",
    "    try:\n",
    "        compania = soup.find(\"dd\", attrs={'class':'psw-p-r-6 psw-p-r-0@tablet-s psw-t-bold psw-l-w-1/2 psw-l-w-1/6@tablet-s psw-l-w-1/6@tablet-l psw-l-w-1/8@laptop psw-l-w-1/6@desktop psw-l-w-1/6@max','data-qa':'gameInfo#releaseInformation#publisher-value'}).get_text()\n",
    "    except:\n",
    "        compania = \"No hay información\"\n",
    "    \n",
    "    # Lanzamiento\n",
    "    try:  \n",
    "        lanzamiento = soup.find(\"dd\", attrs={'class':'psw-p-r-6 psw-p-r-0@tablet-s psw-t-bold psw-l-w-1/2 psw-l-w-1/6@tablet-s psw-l-w-1/6@tablet-l psw-l-w-1/8@laptop psw-l-w-1/6@desktop psw-l-w-1/6@max','data-qa':'gameInfo#releaseInformation#releaseDate-value'}).get_text()\n",
    "    except:\n",
    "        lanzamiento = \"No hay información\"\n",
    "    \n",
    "    # Idiomas\n",
    "    try:\n",
    "        idiomas = soup.find(\"dd\", attrs={'class':'psw-p-r-6 psw-p-r-0@tablet-s psw-t-bold psw-l-w-1/2 psw-l-w-1/6@tablet-s psw-l-w-1/6@tablet-l psw-l-w-1/8@laptop psw-l-w-1/6@desktop psw-l-w-1/6@max','data-qa':'gameInfo#releaseInformation#subtitles-value'}).get_text()\n",
    "    except:\n",
    "        idiomas = \"No hay información\"\n",
    "    # Nº Calificaciones\n",
    "    try:\n",
    "        num_calificaciones = soup.find(\"span\", attrs={'class':'psw-c-t-2 psw-t-secondary','data-qa':'mfe-star-rating#overall-rating#total-ratings'}).get_text()\n",
    "    except:\n",
    "        num_calificaciones = \"No hay información\"\n",
    "    # Calificación PSN\n",
    "    \n",
    "    try:\n",
    "        calificacion = soup.find(\"div\", attrs={'class':'psw-t-subtitle psw-t-bold psw-l-line-center','data-qa':'mfe-game-title#average-rating'}).get_text()\n",
    "    except:\n",
    "        calificacion = \"No hay información\"\n",
    "    try:\n",
    "        calificacion_1 = soup.find(\"span\", attrs={'class':'psw-t-body','data-qa':'mfe-star-rating#overall-rating#rating-progress1#percentage-label'}).get_text()\n",
    "    except:\n",
    "        calificacion_1 = \"No hay información\"\n",
    "    try:\n",
    "        calificacion_2 = soup.find(\"span\", attrs={'class':'psw-t-body','data-qa':'mfe-star-rating#overall-rating#rating-progress2#percentage-label'}).get_text()\n",
    "    except:\n",
    "        calificacion_2 = \"No hay información\"\n",
    "    try:\n",
    "        calificacion_3 = soup.find(\"span\", attrs={'class':'psw-t-body','data-qa':'mfe-star-rating#overall-rating#rating-progress3#percentage-label'}).get_text()\n",
    "    except:\n",
    "        calificacion_3 = \"No hay información\"\n",
    "    try:\n",
    "        calificacion_4 = soup.find(\"span\", attrs={'class':'psw-t-body','data-qa':'mfe-star-rating#overall-rating#rating-progress4#percentage-label'}).get_text()\n",
    "    except:\n",
    "        calificacion_4 = \"No hay información\"\n",
    "    try:\n",
    "        calificacion_5 = soup.find(\"span\", attrs={'class':'psw-t-body','data-qa':'mfe-star-rating#overall-rating#rating-progress5#percentage-label'}).get_text()\n",
    "    except:\n",
    "        calificacion_5 = \"No hay información\"\n",
    "    \n",
    "    precio_con_mayor_rebaja = \"No hay información\"\n",
    "    \n",
    "    df_juegos.loc[len(df_juegos)] = {\"Titulo\":titulo,\"Plataforma\":plataforma,\"Genero\":genero,\"Compañia\":compania,\"Lanzamiento\":lanzamiento,\n",
    "                                    \"Idiomas\":idiomas,\"Calificación PSN\":calificacion,\"Número de calificaciones\":num_calificaciones,\n",
    "                                    \"Calificación 5 estrellas\":calificacion_5,\n",
    "                                    \"Calificación 4 estrellas\":calificacion_4,\"Calificación 3 estrellas\":calificacion_3,\n",
    "                                    \"Calificación 2 estrellas\":calificacion_2,\"Calificación 1 estrella\":calificacion_1,\n",
    "                                    \"Precio_original\":precio_original,\"Precio_actual\":precio_actual,\n",
    "                                    \"Precio con mayor rebaja\":precio_con_mayor_rebaja} \n",
    "    time.sleep(random.choice(lista_tiempo))\n",
    "\n",
    "    driver.back();\n",
    "\n",
    "    time.sleep(random.choice(lista_tiempo))\n",
    "    #Comprobar error aquí\n",
    "    if cont == 24:\n",
    "        next_page = driver.find_element(By.XPATH,'/html/body/div[3]/main/div/section/div/div/div/div[2]/div[2]/div/nav/button[2]')  \n",
    "        next_page.click()      \n",
    "        cont = 0\n",
    "    elif numero_juegos == len(df_juegos):\n",
    "        break\n",
    "    else:\n",
    "        continue           \n",
    "driver.quit()\n"
   ]
  },
  {
   "cell_type": "markdown",
   "metadata": {},
   "source": [
    "1 minuto aprox cada juego."
   ]
  },
  {
   "cell_type": "markdown",
   "metadata": {},
   "source": [
    "Prueba identificacion numero de juegos."
   ]
  },
  {
   "cell_type": "code",
   "execution_count": 7,
   "metadata": {},
   "outputs": [
    {
     "data": {
      "text/html": [
       "<div>\n",
       "<style scoped>\n",
       "    .dataframe tbody tr th:only-of-type {\n",
       "        vertical-align: middle;\n",
       "    }\n",
       "\n",
       "    .dataframe tbody tr th {\n",
       "        vertical-align: top;\n",
       "    }\n",
       "\n",
       "    .dataframe thead th {\n",
       "        text-align: right;\n",
       "    }\n",
       "</style>\n",
       "<table border=\"1\" class=\"dataframe\">\n",
       "  <thead>\n",
       "    <tr style=\"text-align: right;\">\n",
       "      <th></th>\n",
       "      <th>Titulo</th>\n",
       "      <th>Plataforma</th>\n",
       "      <th>Genero</th>\n",
       "      <th>Compañia</th>\n",
       "      <th>Lanzamiento</th>\n",
       "      <th>Idiomas</th>\n",
       "      <th>Calificación PSN</th>\n",
       "      <th>Número de calificaciones</th>\n",
       "      <th>Calificación 5 estrellas</th>\n",
       "      <th>Calificación 4 estrellas</th>\n",
       "      <th>Calificación 3 estrellas</th>\n",
       "      <th>Calificación 2 estrellas</th>\n",
       "      <th>Calificación 1 estrella</th>\n",
       "      <th>Precio_original</th>\n",
       "      <th>Precio_actual</th>\n",
       "      <th>Precio con mayor rebaja</th>\n",
       "    </tr>\n",
       "  </thead>\n",
       "  <tbody>\n",
       "    <tr>\n",
       "      <th>0</th>\n",
       "      <td>01 Deadliest Zone Catch — Boat Crab &amp; Fishing ...</td>\n",
       "      <td>PS4</td>\n",
       "      <td>Acción, Simulación, Únicos</td>\n",
       "      <td>Midnight Works SRL</td>\n",
       "      <td>29/8/2023</td>\n",
       "      <td>Inglés</td>\n",
       "      <td>1.91</td>\n",
       "      <td>96 calificaciones</td>\n",
       "      <td>10 %</td>\n",
       "      <td>4 %</td>\n",
       "      <td>16 %</td>\n",
       "      <td>5 %</td>\n",
       "      <td>65 %</td>\n",
       "      <td>14,99 €</td>\n",
       "      <td>8,99 €</td>\n",
       "      <td>No hay información</td>\n",
       "    </tr>\n",
       "    <tr>\n",
       "      <th>1</th>\n",
       "      <td>0 Degrees</td>\n",
       "      <td>PS5</td>\n",
       "      <td>Acción, Puzzle</td>\n",
       "      <td>eastasiasoft</td>\n",
       "      <td>31/12/2021</td>\n",
       "      <td>Inglés</td>\n",
       "      <td>3.92</td>\n",
       "      <td>78 calificaciones</td>\n",
       "      <td>53 %</td>\n",
       "      <td>9 %</td>\n",
       "      <td>24 %</td>\n",
       "      <td>6 %</td>\n",
       "      <td>8 %</td>\n",
       "      <td>4,99 €</td>\n",
       "      <td>4,99 €</td>\n",
       "      <td>No hay información</td>\n",
       "    </tr>\n",
       "    <tr>\n",
       "      <th>2</th>\n",
       "      <td>0 Rally Desert Race: Offroad Dirt Simulator</td>\n",
       "      <td>PS4</td>\n",
       "      <td>Acción, Conducción/Carreras, Simulación</td>\n",
       "      <td>Midnight Works SRL</td>\n",
       "      <td>1/9/2023</td>\n",
       "      <td>Inglés</td>\n",
       "      <td>2.7</td>\n",
       "      <td>86 calificaciones</td>\n",
       "      <td>28 %</td>\n",
       "      <td>8 %</td>\n",
       "      <td>12 %</td>\n",
       "      <td>10 %</td>\n",
       "      <td>42 %</td>\n",
       "      <td>14,99 €</td>\n",
       "      <td>8,99 €</td>\n",
       "      <td>No hay información</td>\n",
       "    </tr>\n",
       "    <tr>\n",
       "      <th>3</th>\n",
       "      <td>1001 Spikes</td>\n",
       "      <td>PS4</td>\n",
       "      <td>Acción, Acción, Arcade</td>\n",
       "      <td>Nicalis Inc.</td>\n",
       "      <td>7/10/2015</td>\n",
       "      <td>Inglés</td>\n",
       "      <td>4.43</td>\n",
       "      <td>892 calificaciones</td>\n",
       "      <td>67 %</td>\n",
       "      <td>20 %</td>\n",
       "      <td>6 %</td>\n",
       "      <td>3 %</td>\n",
       "      <td>4 %</td>\n",
       "      <td>14,99 €</td>\n",
       "      <td>14,99 €</td>\n",
       "      <td>No hay información</td>\n",
       "    </tr>\n",
       "    <tr>\n",
       "      <th>4</th>\n",
       "      <td>100ft Robot Golf</td>\n",
       "      <td>PS4</td>\n",
       "      <td>Grupo, Deporte</td>\n",
       "      <td>NO GOBLIN LLC</td>\n",
       "      <td>18/9/2017</td>\n",
       "      <td>Inglés</td>\n",
       "      <td>3.42</td>\n",
       "      <td>285 calificaciones</td>\n",
       "      <td>38 %</td>\n",
       "      <td>17 %</td>\n",
       "      <td>13 %</td>\n",
       "      <td>12 %</td>\n",
       "      <td>20 %</td>\n",
       "      <td>9,99 €</td>\n",
       "      <td>9,99 €</td>\n",
       "      <td>No hay información</td>\n",
       "    </tr>\n",
       "    <tr>\n",
       "      <th>5</th>\n",
       "      <td>101 Ways to Die</td>\n",
       "      <td>PS4</td>\n",
       "      <td>Puzzle</td>\n",
       "      <td>VISION GAMES PUBLISHING</td>\n",
       "      <td>22/3/2016</td>\n",
       "      <td>Alemán, Español, Francés (Francia), Inglés, It...</td>\n",
       "      <td>3.92</td>\n",
       "      <td>254 calificaciones</td>\n",
       "      <td>46 %</td>\n",
       "      <td>25 %</td>\n",
       "      <td>13 %</td>\n",
       "      <td>4 %</td>\n",
       "      <td>11 %</td>\n",
       "      <td>9,99 €</td>\n",
       "      <td>9,99 €</td>\n",
       "      <td>No hay información</td>\n",
       "    </tr>\n",
       "    <tr>\n",
       "      <th>6</th>\n",
       "      <td>10 Second Ninja X</td>\n",
       "      <td>PS4</td>\n",
       "      <td>Puzzle</td>\n",
       "      <td>Curve Digital</td>\n",
       "      <td>19/7/2016</td>\n",
       "      <td>Alemán, Español, Francés (Francia), Inglés, Ruso</td>\n",
       "      <td>3.52</td>\n",
       "      <td>3.610 calificaciones</td>\n",
       "      <td>47 %</td>\n",
       "      <td>11 %</td>\n",
       "      <td>13 %</td>\n",
       "      <td>6 %</td>\n",
       "      <td>23 %</td>\n",
       "      <td>9,99 €</td>\n",
       "      <td>9,99 €</td>\n",
       "      <td>No hay información</td>\n",
       "    </tr>\n",
       "    <tr>\n",
       "      <th>7</th>\n",
       "      <td>10 Seconds to Win!</td>\n",
       "      <td>No hay información</td>\n",
       "      <td>Acción, Familia, Puzzle</td>\n",
       "      <td>eastasiasoft</td>\n",
       "      <td>6/3/2024</td>\n",
       "      <td>No hay información</td>\n",
       "      <td>No hay información</td>\n",
       "      <td>No hay información</td>\n",
       "      <td>No hay información</td>\n",
       "      <td>No hay información</td>\n",
       "      <td>No hay información</td>\n",
       "      <td>No hay información</td>\n",
       "      <td>No hay información</td>\n",
       "      <td>Anunciado</td>\n",
       "      <td>Anunciado</td>\n",
       "      <td>No hay información</td>\n",
       "    </tr>\n",
       "    <tr>\n",
       "      <th>8</th>\n",
       "      <td>11-11 Memories Retold</td>\n",
       "      <td>PS4</td>\n",
       "      <td>Aventura, Aventura</td>\n",
       "      <td>BANDAI NAMCO ENTERTAINMENT EUROPE</td>\n",
       "      <td>9/11/2018</td>\n",
       "      <td>Alemán, Español, Español (México), Francés (Fr...</td>\n",
       "      <td>4.07</td>\n",
       "      <td>801 calificaciones</td>\n",
       "      <td>53 %</td>\n",
       "      <td>23 %</td>\n",
       "      <td>12 %</td>\n",
       "      <td>5 %</td>\n",
       "      <td>8 %</td>\n",
       "      <td>24,99 €</td>\n",
       "      <td>Incluido</td>\n",
       "      <td>No hay información</td>\n",
       "    </tr>\n",
       "    <tr>\n",
       "      <th>9</th>\n",
       "      <td>112th Seed</td>\n",
       "      <td>PS5</td>\n",
       "      <td>Acción, Familia, Puzzle</td>\n",
       "      <td>eastasiasoft</td>\n",
       "      <td>23/7/2021</td>\n",
       "      <td>Inglés, Japonés</td>\n",
       "      <td>4.13</td>\n",
       "      <td>197 calificaciones</td>\n",
       "      <td>58 %</td>\n",
       "      <td>12 %</td>\n",
       "      <td>19 %</td>\n",
       "      <td>6 %</td>\n",
       "      <td>5 %</td>\n",
       "      <td>4,99 €</td>\n",
       "      <td>4,99 €</td>\n",
       "      <td>No hay información</td>\n",
       "    </tr>\n",
       "    <tr>\n",
       "      <th>10</th>\n",
       "      <td>13 Sentinels: Aegis Rim</td>\n",
       "      <td>PS4</td>\n",
       "      <td>Aventura, Simulación, Únicos</td>\n",
       "      <td>SEGA EUROPE LTD</td>\n",
       "      <td>22/9/2020</td>\n",
       "      <td>Alemán, Español, Francés (Francia), Inglés, It...</td>\n",
       "      <td>4.86</td>\n",
       "      <td>8.816 calificaciones</td>\n",
       "      <td>92 %</td>\n",
       "      <td>5 %</td>\n",
       "      <td>2 %</td>\n",
       "      <td>0 %</td>\n",
       "      <td>1 %</td>\n",
       "      <td>59,99 €</td>\n",
       "      <td>Incluido</td>\n",
       "      <td>No hay información</td>\n",
       "    </tr>\n",
       "    <tr>\n",
       "      <th>11</th>\n",
       "      <td>140</td>\n",
       "      <td>PS4</td>\n",
       "      <td>Acción, Arcade</td>\n",
       "      <td>DOUBLE FINE PRODUCTIONS INC.</td>\n",
       "      <td>7/9/2016</td>\n",
       "      <td>Inglés</td>\n",
       "      <td>4.23</td>\n",
       "      <td>75 calificaciones</td>\n",
       "      <td>61 %</td>\n",
       "      <td>16 %</td>\n",
       "      <td>13 %</td>\n",
       "      <td>3 %</td>\n",
       "      <td>7 %</td>\n",
       "      <td>8,99 €</td>\n",
       "      <td>8,99 €</td>\n",
       "      <td>No hay información</td>\n",
       "    </tr>\n",
       "    <tr>\n",
       "      <th>12</th>\n",
       "      <td>16-Bit Soccer</td>\n",
       "      <td>PS4</td>\n",
       "      <td>Deporte</td>\n",
       "      <td>Sprakelsoft GmbH</td>\n",
       "      <td>25/12/2020</td>\n",
       "      <td>Alemán, Español, Francés (Francia), Inglés, It...</td>\n",
       "      <td>3.18</td>\n",
       "      <td>625 calificaciones</td>\n",
       "      <td>36 %</td>\n",
       "      <td>15 %</td>\n",
       "      <td>12 %</td>\n",
       "      <td>5 %</td>\n",
       "      <td>32 %</td>\n",
       "      <td>Gratis</td>\n",
       "      <td>Gratis</td>\n",
       "      <td>No hay información</td>\n",
       "    </tr>\n",
       "    <tr>\n",
       "      <th>13</th>\n",
       "      <td>18 Floors</td>\n",
       "      <td>PS4</td>\n",
       "      <td>Aventura, Terror, Puzzle</td>\n",
       "      <td>GAMEPOCH, INC.</td>\n",
       "      <td>4/7/2018</td>\n",
       "      <td>Alemán, Chino (Simplificado), Chino (Tradicion...</td>\n",
       "      <td>2.93</td>\n",
       "      <td>361 calificaciones</td>\n",
       "      <td>29 %</td>\n",
       "      <td>17 %</td>\n",
       "      <td>10 %</td>\n",
       "      <td>10 %</td>\n",
       "      <td>35 %</td>\n",
       "      <td>14,99 €</td>\n",
       "      <td>14,99 €</td>\n",
       "      <td>No hay información</td>\n",
       "    </tr>\n",
       "    <tr>\n",
       "      <th>14</th>\n",
       "      <td>1971 Project Helios</td>\n",
       "      <td>PS4</td>\n",
       "      <td>Estrategia, Estrategia</td>\n",
       "      <td>RECOTECHNOLOGY S.L.</td>\n",
       "      <td>16/5/2020</td>\n",
       "      <td>Alemán, Español, Francés (Francia), Inglés, It...</td>\n",
       "      <td>2.94</td>\n",
       "      <td>36 calificaciones</td>\n",
       "      <td>31 %</td>\n",
       "      <td>11 %</td>\n",
       "      <td>11 %</td>\n",
       "      <td>17 %</td>\n",
       "      <td>31 %</td>\n",
       "      <td>14,99 €</td>\n",
       "      <td>14,99 €</td>\n",
       "      <td>No hay información</td>\n",
       "    </tr>\n",
       "    <tr>\n",
       "      <th>15</th>\n",
       "      <td>1976 - Back to midway</td>\n",
       "      <td>PS4</td>\n",
       "      <td>Simulación, Arcade, Casual</td>\n",
       "      <td>Ivanovich Games SL</td>\n",
       "      <td>9/7/2021</td>\n",
       "      <td>Alemán, Catalán, Chino (Simplificado), Coreano...</td>\n",
       "      <td>3.76</td>\n",
       "      <td>71 calificaciones</td>\n",
       "      <td>46 %</td>\n",
       "      <td>17 %</td>\n",
       "      <td>18 %</td>\n",
       "      <td>3 %</td>\n",
       "      <td>15 %</td>\n",
       "      <td>19,99 €</td>\n",
       "      <td>19,99 €</td>\n",
       "      <td>No hay información</td>\n",
       "    </tr>\n",
       "    <tr>\n",
       "      <th>16</th>\n",
       "      <td>1979 Revolution: Black Friday</td>\n",
       "      <td>PS4</td>\n",
       "      <td>Aventura, Aventura</td>\n",
       "      <td>DIGERATI DISTRIBUTION</td>\n",
       "      <td>1/8/2018</td>\n",
       "      <td>Alemán, Español, Francés (Francia), Inglés, Ruso</td>\n",
       "      <td>4</td>\n",
       "      <td>323 calificaciones</td>\n",
       "      <td>50 %</td>\n",
       "      <td>21 %</td>\n",
       "      <td>15 %</td>\n",
       "      <td>6 %</td>\n",
       "      <td>7 %</td>\n",
       "      <td>11,99 €</td>\n",
       "      <td>11,99 €</td>\n",
       "      <td>No hay información</td>\n",
       "    </tr>\n",
       "    <tr>\n",
       "      <th>17</th>\n",
       "      <td>198X</td>\n",
       "      <td>PS4</td>\n",
       "      <td>Acción, Acción, Arcade</td>\n",
       "      <td>Reset Media AB</td>\n",
       "      <td>17/7/2019</td>\n",
       "      <td>Inglés</td>\n",
       "      <td>4.18</td>\n",
       "      <td>352 calificaciones</td>\n",
       "      <td>60 %</td>\n",
       "      <td>18 %</td>\n",
       "      <td>9 %</td>\n",
       "      <td>6 %</td>\n",
       "      <td>7 %</td>\n",
       "      <td>Anunciado</td>\n",
       "      <td>Anunciado</td>\n",
       "      <td>No hay información</td>\n",
       "    </tr>\n",
       "    <tr>\n",
       "      <th>18</th>\n",
       "      <td>1993 Shenandoah</td>\n",
       "      <td>PS4</td>\n",
       "      <td>Juegos de disparos</td>\n",
       "      <td>White Lines Black Spaces AB</td>\n",
       "      <td>15/2/2023</td>\n",
       "      <td>Inglés, Japonés</td>\n",
       "      <td>4.17</td>\n",
       "      <td>18 calificaciones</td>\n",
       "      <td>56 %</td>\n",
       "      <td>17 %</td>\n",
       "      <td>22 %</td>\n",
       "      <td>0 %</td>\n",
       "      <td>6 %</td>\n",
       "      <td>9,99 €</td>\n",
       "      <td>9,99 €</td>\n",
       "      <td>No hay información</td>\n",
       "    </tr>\n",
       "    <tr>\n",
       "      <th>19</th>\n",
       "      <td>2044 Moto Racer - Cyber Racing Simulator</td>\n",
       "      <td>PS4</td>\n",
       "      <td>Deporte, Acción, Conducción/Carreras</td>\n",
       "      <td>Midnight Works SRL</td>\n",
       "      <td>6/9/2023</td>\n",
       "      <td>Inglés</td>\n",
       "      <td>2.86</td>\n",
       "      <td>29 calificaciones</td>\n",
       "      <td>34 %</td>\n",
       "      <td>0 %</td>\n",
       "      <td>17 %</td>\n",
       "      <td>14 %</td>\n",
       "      <td>34 %</td>\n",
       "      <td>14,99 €</td>\n",
       "      <td>14,99 €</td>\n",
       "      <td>No hay información</td>\n",
       "    </tr>\n",
       "  </tbody>\n",
       "</table>\n",
       "</div>"
      ],
      "text/plain": [
       "                                               Titulo          Plataforma  \\\n",
       "0   01 Deadliest Zone Catch — Boat Crab & Fishing ...                 PS4   \n",
       "1                                           0 Degrees                 PS5   \n",
       "2         0 Rally Desert Race: Offroad Dirt Simulator                 PS4   \n",
       "3                                         1001 Spikes                 PS4   \n",
       "4                                    100ft Robot Golf                 PS4   \n",
       "5                                     101 Ways to Die                 PS4   \n",
       "6                                   10 Second Ninja X                 PS4   \n",
       "7                                  10 Seconds to Win!  No hay información   \n",
       "8                               11-11 Memories Retold                 PS4   \n",
       "9                                          112th Seed                 PS5   \n",
       "10                            13 Sentinels: Aegis Rim                 PS4   \n",
       "11                                                140                 PS4   \n",
       "12                                      16-Bit Soccer                 PS4   \n",
       "13                                          18 Floors                 PS4   \n",
       "14                                1971 Project Helios                 PS4   \n",
       "15                              1976 - Back to midway                 PS4   \n",
       "16                      1979 Revolution: Black Friday                 PS4   \n",
       "17                                               198X                 PS4   \n",
       "18                                    1993 Shenandoah                 PS4   \n",
       "19           2044 Moto Racer - Cyber Racing Simulator                 PS4   \n",
       "\n",
       "                                     Genero  \\\n",
       "0                Acción, Simulación, Únicos   \n",
       "1                            Acción, Puzzle   \n",
       "2   Acción, Conducción/Carreras, Simulación   \n",
       "3                    Acción, Acción, Arcade   \n",
       "4                            Grupo, Deporte   \n",
       "5                                    Puzzle   \n",
       "6                                    Puzzle   \n",
       "7                   Acción, Familia, Puzzle   \n",
       "8                        Aventura, Aventura   \n",
       "9                   Acción, Familia, Puzzle   \n",
       "10             Aventura, Simulación, Únicos   \n",
       "11                           Acción, Arcade   \n",
       "12                                  Deporte   \n",
       "13                 Aventura, Terror, Puzzle   \n",
       "14                   Estrategia, Estrategia   \n",
       "15               Simulación, Arcade, Casual   \n",
       "16                       Aventura, Aventura   \n",
       "17                   Acción, Acción, Arcade   \n",
       "18                       Juegos de disparos   \n",
       "19     Deporte, Acción, Conducción/Carreras   \n",
       "\n",
       "                             Compañia Lanzamiento  \\\n",
       "0                  Midnight Works SRL   29/8/2023   \n",
       "1                        eastasiasoft  31/12/2021   \n",
       "2                  Midnight Works SRL    1/9/2023   \n",
       "3                        Nicalis Inc.   7/10/2015   \n",
       "4                       NO GOBLIN LLC   18/9/2017   \n",
       "5             VISION GAMES PUBLISHING   22/3/2016   \n",
       "6                       Curve Digital   19/7/2016   \n",
       "7                        eastasiasoft    6/3/2024   \n",
       "8   BANDAI NAMCO ENTERTAINMENT EUROPE   9/11/2018   \n",
       "9                        eastasiasoft   23/7/2021   \n",
       "10                    SEGA EUROPE LTD   22/9/2020   \n",
       "11       DOUBLE FINE PRODUCTIONS INC.    7/9/2016   \n",
       "12                   Sprakelsoft GmbH  25/12/2020   \n",
       "13                     GAMEPOCH, INC.    4/7/2018   \n",
       "14                RECOTECHNOLOGY S.L.   16/5/2020   \n",
       "15                 Ivanovich Games SL    9/7/2021   \n",
       "16              DIGERATI DISTRIBUTION    1/8/2018   \n",
       "17                     Reset Media AB   17/7/2019   \n",
       "18        White Lines Black Spaces AB   15/2/2023   \n",
       "19                 Midnight Works SRL    6/9/2023   \n",
       "\n",
       "                                              Idiomas    Calificación PSN  \\\n",
       "0                                              Inglés                1.91   \n",
       "1                                              Inglés                3.92   \n",
       "2                                              Inglés                 2.7   \n",
       "3                                              Inglés                4.43   \n",
       "4                                              Inglés                3.42   \n",
       "5   Alemán, Español, Francés (Francia), Inglés, It...                3.92   \n",
       "6    Alemán, Español, Francés (Francia), Inglés, Ruso                3.52   \n",
       "7                                  No hay información  No hay información   \n",
       "8   Alemán, Español, Español (México), Francés (Fr...                4.07   \n",
       "9                                     Inglés, Japonés                4.13   \n",
       "10  Alemán, Español, Francés (Francia), Inglés, It...                4.86   \n",
       "11                                             Inglés                4.23   \n",
       "12  Alemán, Español, Francés (Francia), Inglés, It...                3.18   \n",
       "13  Alemán, Chino (Simplificado), Chino (Tradicion...                2.93   \n",
       "14  Alemán, Español, Francés (Francia), Inglés, It...                2.94   \n",
       "15  Alemán, Catalán, Chino (Simplificado), Coreano...                3.76   \n",
       "16   Alemán, Español, Francés (Francia), Inglés, Ruso                   4   \n",
       "17                                             Inglés                4.18   \n",
       "18                                    Inglés, Japonés                4.17   \n",
       "19                                             Inglés                2.86   \n",
       "\n",
       "   Número de calificaciones Calificación 5 estrellas Calificación 4 estrellas  \\\n",
       "0         96 calificaciones                     10 %                      4 %   \n",
       "1         78 calificaciones                     53 %                      9 %   \n",
       "2         86 calificaciones                     28 %                      8 %   \n",
       "3        892 calificaciones                     67 %                     20 %   \n",
       "4        285 calificaciones                     38 %                     17 %   \n",
       "5        254 calificaciones                     46 %                     25 %   \n",
       "6      3.610 calificaciones                     47 %                     11 %   \n",
       "7        No hay información       No hay información       No hay información   \n",
       "8        801 calificaciones                     53 %                     23 %   \n",
       "9        197 calificaciones                     58 %                     12 %   \n",
       "10     8.816 calificaciones                     92 %                      5 %   \n",
       "11        75 calificaciones                     61 %                     16 %   \n",
       "12       625 calificaciones                     36 %                     15 %   \n",
       "13       361 calificaciones                     29 %                     17 %   \n",
       "14        36 calificaciones                     31 %                     11 %   \n",
       "15        71 calificaciones                     46 %                     17 %   \n",
       "16       323 calificaciones                     50 %                     21 %   \n",
       "17       352 calificaciones                     60 %                     18 %   \n",
       "18        18 calificaciones                     56 %                     17 %   \n",
       "19        29 calificaciones                     34 %                      0 %   \n",
       "\n",
       "   Calificación 3 estrellas Calificación 2 estrellas Calificación 1 estrella  \\\n",
       "0                      16 %                      5 %                    65 %   \n",
       "1                      24 %                      6 %                     8 %   \n",
       "2                      12 %                     10 %                    42 %   \n",
       "3                       6 %                      3 %                     4 %   \n",
       "4                      13 %                     12 %                    20 %   \n",
       "5                      13 %                      4 %                    11 %   \n",
       "6                      13 %                      6 %                    23 %   \n",
       "7        No hay información       No hay información      No hay información   \n",
       "8                      12 %                      5 %                     8 %   \n",
       "9                      19 %                      6 %                     5 %   \n",
       "10                      2 %                      0 %                     1 %   \n",
       "11                     13 %                      3 %                     7 %   \n",
       "12                     12 %                      5 %                    32 %   \n",
       "13                     10 %                     10 %                    35 %   \n",
       "14                     11 %                     17 %                    31 %   \n",
       "15                     18 %                      3 %                    15 %   \n",
       "16                     15 %                      6 %                     7 %   \n",
       "17                      9 %                      6 %                     7 %   \n",
       "18                     22 %                      0 %                     6 %   \n",
       "19                     17 %                     14 %                    34 %   \n",
       "\n",
       "   Precio_original Precio_actual Precio con mayor rebaja  \n",
       "0          14,99 €        8,99 €      No hay información  \n",
       "1           4,99 €        4,99 €      No hay información  \n",
       "2          14,99 €        8,99 €      No hay información  \n",
       "3          14,99 €       14,99 €      No hay información  \n",
       "4           9,99 €        9,99 €      No hay información  \n",
       "5           9,99 €        9,99 €      No hay información  \n",
       "6           9,99 €        9,99 €      No hay información  \n",
       "7        Anunciado     Anunciado      No hay información  \n",
       "8          24,99 €      Incluido      No hay información  \n",
       "9           4,99 €        4,99 €      No hay información  \n",
       "10         59,99 €      Incluido      No hay información  \n",
       "11          8,99 €        8,99 €      No hay información  \n",
       "12          Gratis        Gratis      No hay información  \n",
       "13         14,99 €       14,99 €      No hay información  \n",
       "14         14,99 €       14,99 €      No hay información  \n",
       "15         19,99 €       19,99 €      No hay información  \n",
       "16         11,99 €       11,99 €      No hay información  \n",
       "17       Anunciado     Anunciado      No hay información  \n",
       "18          9,99 €        9,99 €      No hay información  \n",
       "19         14,99 €       14,99 €      No hay información  "
      ]
     },
     "execution_count": 7,
     "metadata": {},
     "output_type": "execute_result"
    }
   ],
   "source": [
    "df_juegos"
   ]
  },
  {
   "cell_type": "markdown",
   "metadata": {},
   "source": [
    "Columnas en df"
   ]
  },
  {
   "cell_type": "code",
   "execution_count": 32,
   "metadata": {},
   "outputs": [
    {
     "name": "stdout",
     "output_type": "stream",
     "text": [
      "890B\n"
     ]
    }
   ],
   "source": [
    "# Titulo\n",
    "try:\n",
    "    print(soup.find(\"h1\", class_=\"psw-m-b-5 psw-t-title-l psw-t-size-8 psw-l-line-break-word\").get_text())\n",
    "except:\n",
    "    print(soup.find(\"h1\", class_=\"psw-m-b-5 psw-t-title-l psw-t-size-7 psw-l-line-break-word\").get_text())"
   ]
  },
  {
   "cell_type": "code",
   "execution_count": null,
   "metadata": {},
   "outputs": [],
   "source": [
    "# Precio Original sin PSN\n",
    "soup.find(\"span\",class_=\"psw-t-title-s psw-c-t-2 psw-t-strike\").get_text()\n"
   ]
  },
  {
   "cell_type": "code",
   "execution_count": 31,
   "metadata": {},
   "outputs": [
    {
     "name": "stdout",
     "output_type": "stream",
     "text": [
      "4,99 €\n"
     ]
    }
   ],
   "source": [
    "#Precio Actual sin PSN\n",
    "try:\n",
    "    print(soup.find(\"span\",class_=\"psw-t-title-m psw-m-r-4\").get_text())\n",
    "except: \n",
    "    print(soup.find(\"span\",class_=\"psw-t-title-m\").get_text())"
   ]
  },
  {
   "cell_type": "code",
   "execution_count": 29,
   "metadata": {},
   "outputs": [
    {
     "data": {
      "text/plain": [
       "'PS4'"
      ]
     },
     "execution_count": 29,
     "metadata": {},
     "output_type": "execute_result"
    }
   ],
   "source": [
    "# Plataforma\n",
    "soup.find(\"dd\", attrs={'class':'psw-p-r-6 psw-p-r-0@tablet-s psw-t-bold psw-l-w-1/2 psw-l-w-1/6@tablet-s psw-l-w-1/6@tablet-l psw-l-w-1/8@laptop psw-l-w-1/6@desktop psw-l-w-1/6@max','data-qa':'gameInfo#releaseInformation#platform-value'}).get_text()\n"
   ]
  },
  {
   "cell_type": "code",
   "execution_count": 21,
   "metadata": {},
   "outputs": [
    {
     "data": {
      "text/plain": [
       "'Aventura, Puzzle'"
      ]
     },
     "execution_count": 21,
     "metadata": {},
     "output_type": "execute_result"
    }
   ],
   "source": [
    "# Genero\n",
    "soup.find(\"span\", attrs={'style':'text-transform: capitalize;'}).get_text()"
   ]
  },
  {
   "cell_type": "code",
   "execution_count": 23,
   "metadata": {},
   "outputs": [
    {
     "data": {
      "text/plain": [
       "'eastasiasoft'"
      ]
     },
     "execution_count": 23,
     "metadata": {},
     "output_type": "execute_result"
    }
   ],
   "source": [
    "# Compañia\n",
    "soup.find(\"dd\", attrs={'class':'psw-p-r-6 psw-p-r-0@tablet-s psw-t-bold psw-l-w-1/2 psw-l-w-1/6@tablet-s psw-l-w-1/6@tablet-l psw-l-w-1/8@laptop psw-l-w-1/6@desktop psw-l-w-1/6@max','data-qa':'gameInfo#releaseInformation#publisher-value'}).get_text()"
   ]
  },
  {
   "cell_type": "code",
   "execution_count": 24,
   "metadata": {},
   "outputs": [
    {
     "data": {
      "text/plain": [
       "'10/11/2021'"
      ]
     },
     "execution_count": 24,
     "metadata": {},
     "output_type": "execute_result"
    }
   ],
   "source": [
    "# Lanzamiento\n",
    "soup.find(\"dd\", attrs={'class':'psw-p-r-6 psw-p-r-0@tablet-s psw-t-bold psw-l-w-1/2 psw-l-w-1/6@tablet-s psw-l-w-1/6@tablet-l psw-l-w-1/8@laptop psw-l-w-1/6@desktop psw-l-w-1/6@max','data-qa':'gameInfo#releaseInformation#releaseDate-value'}).get_text()"
   ]
  },
  {
   "cell_type": "code",
   "execution_count": 26,
   "metadata": {},
   "outputs": [
    {
     "data": {
      "text/plain": [
       "'Alemán, Chino (Tradicional), Español, Francés (Francia), Inglés, Portugués (Brasil)'"
      ]
     },
     "execution_count": 26,
     "metadata": {},
     "output_type": "execute_result"
    }
   ],
   "source": [
    "# Idiomas\n",
    "soup.find(\"dd\", attrs={'class':'psw-p-r-6 psw-p-r-0@tablet-s psw-t-bold psw-l-w-1/2 psw-l-w-1/6@tablet-s psw-l-w-1/6@tablet-l psw-l-w-1/8@laptop psw-l-w-1/6@desktop psw-l-w-1/6@max','data-qa':'gameInfo#releaseInformation#subtitles-value'}).get_text()\n"
   ]
  },
  {
   "cell_type": "code",
   "execution_count": 33,
   "metadata": {},
   "outputs": [
    {
     "data": {
      "text/plain": [
       "'2.57'"
      ]
     },
     "execution_count": 33,
     "metadata": {},
     "output_type": "execute_result"
    }
   ],
   "source": [
    "# Calificación PSN\n",
    "soup.find(\"div\", attrs={'class':'psw-t-subtitle psw-t-bold psw-l-line-center','data-qa':'mfe-game-title#average-rating'}).get_text()\n"
   ]
  },
  {
   "cell_type": "code",
   "execution_count": 34,
   "metadata": {},
   "outputs": [
    {
     "data": {
      "text/plain": [
       "'37 calificaciones'"
      ]
     },
     "execution_count": 34,
     "metadata": {},
     "output_type": "execute_result"
    }
   ],
   "source": [
    "# Nº Calificaciones\n",
    "soup.find(\"span\", attrs={'class':'psw-c-t-2 psw-t-secondary','data-qa':'mfe-star-rating#overall-rating#total-ratings'}).get_text()"
   ]
  },
  {
   "cell_type": "code",
   "execution_count": 35,
   "metadata": {},
   "outputs": [
    {
     "data": {
      "text/plain": [
       "'27 %'"
      ]
     },
     "execution_count": 35,
     "metadata": {},
     "output_type": "execute_result"
    }
   ],
   "source": [
    "# % 5 estrellas \n",
    "soup.find(\"span\", attrs={'class':'psw-t-body','data-qa':'mfe-star-rating#overall-rating#rating-progress5#percentage-label'}).get_text()"
   ]
  },
  {
   "cell_type": "code",
   "execution_count": 36,
   "metadata": {},
   "outputs": [
    {
     "data": {
      "text/plain": [
       "'5 %'"
      ]
     },
     "execution_count": 36,
     "metadata": {},
     "output_type": "execute_result"
    }
   ],
   "source": [
    "# % 4 estrellas \n",
    "soup.find(\"span\", attrs={'class':'psw-t-body','data-qa':'mfe-star-rating#overall-rating#rating-progress4#percentage-label'}).get_text()"
   ]
  },
  {
   "cell_type": "code",
   "execution_count": 37,
   "metadata": {},
   "outputs": [
    {
     "data": {
      "text/plain": [
       "'11 %'"
      ]
     },
     "execution_count": 37,
     "metadata": {},
     "output_type": "execute_result"
    }
   ],
   "source": [
    "# % 3 estrellas \n",
    "soup.find(\"span\", attrs={'class':'psw-t-body','data-qa':'mfe-star-rating#overall-rating#rating-progress3#percentage-label'}).get_text()"
   ]
  },
  {
   "cell_type": "code",
   "execution_count": 38,
   "metadata": {},
   "outputs": [
    {
     "data": {
      "text/plain": [
       "'11 %'"
      ]
     },
     "execution_count": 38,
     "metadata": {},
     "output_type": "execute_result"
    }
   ],
   "source": [
    "# % 2 estrellas \n",
    "soup.find(\"span\", attrs={'class':'psw-t-body','data-qa':'mfe-star-rating#overall-rating#rating-progress2#percentage-label'}).get_text()"
   ]
  },
  {
   "cell_type": "code",
   "execution_count": 39,
   "metadata": {},
   "outputs": [
    {
     "data": {
      "text/plain": [
       "'46 %'"
      ]
     },
     "execution_count": 39,
     "metadata": {},
     "output_type": "execute_result"
    }
   ],
   "source": [
    "# % 1 estrella\n",
    "soup.find(\"span\", attrs={'class':'psw-t-body','data-qa':'mfe-star-rating#overall-rating#rating-progress1#percentage-label'}).get_text()"
   ]
  }
 ],
 "metadata": {
  "kernelspec": {
   "display_name": "Python 3",
   "language": "python",
   "name": "python3"
  },
  "language_info": {
   "codemirror_mode": {
    "name": "ipython",
    "version": 3
   },
   "file_extension": ".py",
   "mimetype": "text/x-python",
   "name": "python",
   "nbconvert_exporter": "python",
   "pygments_lexer": "ipython3",
   "version": "3.11.4"
  },
  "orig_nbformat": 4
 },
 "nbformat": 4,
 "nbformat_minor": 2
}
