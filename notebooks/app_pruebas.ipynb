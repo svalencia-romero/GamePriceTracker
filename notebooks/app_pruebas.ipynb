{
 "cells": [
  {
   "cell_type": "markdown",
   "metadata": {},
   "source": [
    "Pruebas PSN"
   ]
  },
  {
   "cell_type": "code",
   "execution_count": 1,
   "metadata": {},
   "outputs": [],
   "source": [
    "from selenium import webdriver\n",
    "from selenium.webdriver.chrome.service import Service\n",
    "from selenium.webdriver.common.by import By\n",
    "# import urllib3 # urllib3 es un cliente HTTP potente y fácil de usar para Python.\n",
    "import re # Expresiones regulares \n",
    "import time\n",
    "import datetime\n",
    "import pandas as pd\n",
    "from selenium.webdriver.support.ui import WebDriverWait\n",
    "from selenium.webdriver.common.by import By\n",
    "from selenium.webdriver.support import expected_conditions as EC\n",
    "import random\n",
    "from bs4 import BeautifulSoup as bs\n",
    "import requests\n",
    "\n"
   ]
  },
  {
   "cell_type": "code",
   "execution_count": 7,
   "metadata": {},
   "outputs": [],
   "source": [
    "service = Service(executable_path='../../psn_env/Lib/site-packages/selenium/webdriver/chrome/chromedriver.exe')\n",
    "options = webdriver.ChromeOptions()\n",
    "# options.add_argument('--start-maximized') SOLO EN PC SOBREMESA si fuera necesario."
   ]
  },
  {
   "cell_type": "markdown",
   "metadata": {},
   "source": [
    "Prueba primera con google"
   ]
  },
  {
   "cell_type": "code",
   "execution_count": 4,
   "metadata": {},
   "outputs": [],
   "source": [
    "driver = webdriver.Chrome(service=service, options=options)\n",
    "\n",
    "driver.get(\"http://www.google.es\")\n",
    "\n",
    "time.sleep(3)\n",
    "\n",
    "rechazar_cookies = driver.find_element(By.XPATH, '/html/body/div[2]/div[3]/div[3]/span/div/div/div/div[3]/div[1]/button[1]/div')\n",
    "rechazar_cookies.click()\n",
    "\n",
    "time.sleep(3)\n",
    "\n",
    "driver.quit()"
   ]
  },
  {
   "cell_type": "markdown",
   "metadata": {},
   "source": [
    "Haciendo pruebas con psn"
   ]
  },
  {
   "cell_type": "code",
   "execution_count": 8,
   "metadata": {},
   "outputs": [],
   "source": [
    "df_juegos = pd.DataFrame(columns=[\"Titulo\",\"Precio_original\",\"Precio_actual\",\"Precio con mayor rebaja\"])"
   ]
  },
  {
   "cell_type": "code",
   "execution_count": 9,
   "metadata": {},
   "outputs": [
    {
     "data": {
      "text/html": [
       "<div>\n",
       "<style scoped>\n",
       "    .dataframe tbody tr th:only-of-type {\n",
       "        vertical-align: middle;\n",
       "    }\n",
       "\n",
       "    .dataframe tbody tr th {\n",
       "        vertical-align: top;\n",
       "    }\n",
       "\n",
       "    .dataframe thead th {\n",
       "        text-align: right;\n",
       "    }\n",
       "</style>\n",
       "<table border=\"1\" class=\"dataframe\">\n",
       "  <thead>\n",
       "    <tr style=\"text-align: right;\">\n",
       "      <th></th>\n",
       "      <th>Titulo</th>\n",
       "      <th>Precio_original</th>\n",
       "      <th>Precio_actual</th>\n",
       "      <th>Precio con mayor rebaja</th>\n",
       "    </tr>\n",
       "  </thead>\n",
       "  <tbody>\n",
       "  </tbody>\n",
       "</table>\n",
       "</div>"
      ],
      "text/plain": [
       "Empty DataFrame\n",
       "Columns: [Titulo, Precio_original, Precio_actual, Precio con mayor rebaja]\n",
       "Index: []"
      ]
     },
     "execution_count": 9,
     "metadata": {},
     "output_type": "execute_result"
    }
   ],
   "source": [
    "df_juegos"
   ]
  },
  {
   "cell_type": "code",
   "execution_count": 15,
   "metadata": {},
   "outputs": [
    {
     "ename": "TypeError",
     "evalue": "'DataFrame' object is not callable",
     "output_type": "error",
     "traceback": [
      "\u001b[1;31m---------------------------------------------------------------------------\u001b[0m",
      "\u001b[1;31mTypeError\u001b[0m                                 Traceback (most recent call last)",
      "Cell \u001b[1;32mIn[15], line 48\u001b[0m\n\u001b[0;32m     46\u001b[0m page_source \u001b[38;5;241m=\u001b[39m driver\u001b[38;5;241m.\u001b[39mpage_source\n\u001b[0;32m     47\u001b[0m soup \u001b[38;5;241m=\u001b[39m bs(page_source, \u001b[38;5;124m'\u001b[39m\u001b[38;5;124mlxml\u001b[39m\u001b[38;5;124m'\u001b[39m)\n\u001b[1;32m---> 48\u001b[0m df_juegos \u001b[38;5;241m=\u001b[39m \u001b[43mdf_juegos\u001b[49m\u001b[43m(\u001b[49m\u001b[43m{\u001b[49m\u001b[38;5;124;43m\"\u001b[39;49m\u001b[38;5;124;43mTitulo\u001b[39;49m\u001b[38;5;124;43m\"\u001b[39;49m\u001b[43m,\u001b[49m\u001b[43msoup\u001b[49m\u001b[38;5;241;43m.\u001b[39;49m\u001b[43mfind\u001b[49m\u001b[43m(\u001b[49m\u001b[38;5;124;43m\"\u001b[39;49m\u001b[38;5;124;43mh1\u001b[39;49m\u001b[38;5;124;43m\"\u001b[39;49m\u001b[43m,\u001b[49m\u001b[43m \u001b[49m\u001b[43mclass_\u001b[49m\u001b[38;5;241;43m=\u001b[39;49m\u001b[38;5;124;43m\"\u001b[39;49m\u001b[38;5;124;43mpsw-m-b-5 psw-t-title-l psw-t-size-7 psw-l-line-break-word\u001b[39;49m\u001b[38;5;124;43m\"\u001b[39;49m\u001b[43m)\u001b[49m\u001b[38;5;241;43m.\u001b[39;49m\u001b[43mget_text\u001b[49m\u001b[43m(\u001b[49m\u001b[43m)\u001b[49m\u001b[43m}\u001b[49m\u001b[43m)\u001b[49m\n\u001b[0;32m     49\u001b[0m df_juegos \u001b[38;5;241m=\u001b[39m df_juegos({\u001b[38;5;124m\"\u001b[39m\u001b[38;5;124mPrecio_original\u001b[39m\u001b[38;5;124m\"\u001b[39m ,soup\u001b[38;5;241m.\u001b[39mfind(\u001b[38;5;124m\"\u001b[39m\u001b[38;5;124mspan\u001b[39m\u001b[38;5;124m\"\u001b[39m,class_\u001b[38;5;241m=\u001b[39m\u001b[38;5;124m\"\u001b[39m\u001b[38;5;124mpsw-t-title-s psw-c-t-2 psw-t-strike\u001b[39m\u001b[38;5;124m\"\u001b[39m)\u001b[38;5;241m.\u001b[39mget_text()})\n\u001b[0;32m     50\u001b[0m df_juegos \u001b[38;5;241m=\u001b[39m df_juegos({\u001b[38;5;124m\"\u001b[39m\u001b[38;5;124mPrecio_actual\u001b[39m\u001b[38;5;124m\"\u001b[39m ,soup\u001b[38;5;241m.\u001b[39mfind(\u001b[38;5;124m\"\u001b[39m\u001b[38;5;124mspan\u001b[39m\u001b[38;5;124m\"\u001b[39m,class_\u001b[38;5;241m=\u001b[39m\u001b[38;5;124m\"\u001b[39m\u001b[38;5;124mpsw-t-title-m psw-m-r-4\u001b[39m\u001b[38;5;124m\"\u001b[39m)\u001b[38;5;241m.\u001b[39mget_text()})\n",
      "\u001b[1;31mTypeError\u001b[0m: 'DataFrame' object is not callable"
     ]
    }
   ],
   "source": [
    "### PRUEBA FUNCIONAL WEBSCRAPING DE UN SOLO JUEGO Y TIEMPO UTILIZADO ###\n",
    "\n",
    "driver = webdriver.Chrome(service=service, options=options)\n",
    "\n",
    "driver.get(\"https://store.playstation.com/\")\n",
    "\n",
    "\n",
    "lista_tiempo = [2.5,3, 3.5, 4,4.5, 5, 6.5, 7]\n",
    "\n",
    "#rechazamos cookies\n",
    "time.sleep(random.choice(lista_tiempo))\n",
    "rechazar_cookies = driver.find_element(By.XPATH, '/html/body/div[5]/div[2]/div/div/div[1]/div/div[2]/button/img')\n",
    "rechazar_cookies.click()\n",
    "\n",
    "#vamos a la pestaña de explora\n",
    "time.sleep(random.choice(lista_tiempo))\n",
    "explora = driver.find_element(By.XPATH, '/html/body/div[3]/section/div/div/div/ul/li[5]/a')\n",
    "explora.click()\n",
    "\n",
    "\n",
    "#SOLO PORTATILES!!! \n",
    "time.sleep(random.choice(lista_tiempo))\n",
    "sort_plat = driver.find_element(By.XPATH, '/html/body/div[3]/main/div/section/div/div/div/div[4]/button')\n",
    "sort_plat.click()\n",
    "\n",
    "\n",
    "#ordenamos\n",
    "time.sleep(random.choice(lista_tiempo))\n",
    "sort_gam = driver.find_element(By.XPATH, '/html/body/div[3]/main/div/section/div/div/div/div[3]/div/div/div/div[3]/div[1]/div/header/button')\n",
    "sort_gam.click()\n",
    "\n",
    "#AZ\n",
    "time.sleep(random.choice(lista_tiempo))\n",
    "sort_az = driver.find_element(By.XPATH, '/html/body/div[3]/main/div/section/div/div/div/div[3]/div/div/div/div[3]/div[1]/div/div/span/label[3]')\n",
    "sort_az.click()\n",
    "\n",
    "#seleccion de juego\n",
    "\n",
    "time.sleep(random.choice(lista_tiempo))\n",
    "select_game = driver.find_element(By.XPATH, '/html/body/div[3]/main/div/section/div/div/div/div[2]/div[2]/ul/li[1]/div/a/div/div/div[1]/span[2]')\n",
    "select_game.click()\n",
    "\n",
    "time.sleep(random.choice(lista_tiempo))\n",
    "\n",
    "#Info que nos descargamos de la pagina del juego.\n",
    "page_source = driver.page_source\n",
    "soup = bs(page_source, 'lxml')\n",
    "df_juegos = df_juegos({\"Titulo\",soup.find(\"h1\", class_=\"psw-m-b-5 psw-t-title-l psw-t-size-7 psw-l-line-break-word\").get_text()})\n",
    "df_juegos = df_juegos({\"Precio_original\" ,soup.find(\"span\",class_=\"psw-t-title-s psw-c-t-2 psw-t-strike\").get_text()})\n",
    "df_juegos = df_juegos({\"Precio_actual\" ,soup.find(\"span\",class_=\"psw-t-title-m psw-m-r-4\").get_text()})\n",
    "time.sleep(random.choice(lista_tiempo))\n",
    "\n",
    "driver.back();\n"
   ]
  },
  {
   "cell_type": "code",
   "execution_count": 70,
   "metadata": {},
   "outputs": [
    {
     "data": {
      "text/html": [
       "<div>\n",
       "<style scoped>\n",
       "    .dataframe tbody tr th:only-of-type {\n",
       "        vertical-align: middle;\n",
       "    }\n",
       "\n",
       "    .dataframe tbody tr th {\n",
       "        vertical-align: top;\n",
       "    }\n",
       "\n",
       "    .dataframe thead th {\n",
       "        text-align: right;\n",
       "    }\n",
       "</style>\n",
       "<table border=\"1\" class=\"dataframe\">\n",
       "  <thead>\n",
       "    <tr style=\"text-align: right;\">\n",
       "      <th></th>\n",
       "      <th>Titulo</th>\n",
       "      <th>Precio_original</th>\n",
       "      <th>Precio_actual</th>\n",
       "      <th>Precio con mayor rebaja</th>\n",
       "    </tr>\n",
       "  </thead>\n",
       "  <tbody>\n",
       "  </tbody>\n",
       "</table>\n",
       "</div>"
      ],
      "text/plain": [
       "Empty DataFrame\n",
       "Columns: [Titulo, Precio_original, Precio_actual, Precio con mayor rebaja]\n",
       "Index: []"
      ]
     },
     "execution_count": 70,
     "metadata": {},
     "output_type": "execute_result"
    }
   ],
   "source": [
    "df_juegos"
   ]
  },
  {
   "cell_type": "code",
   "execution_count": 61,
   "metadata": {},
   "outputs": [
    {
     "data": {
      "text/plain": [
       "'01 Deadliest Zone Catch — Boat Crab & Fishing Simulator'"
      ]
     },
     "execution_count": 61,
     "metadata": {},
     "output_type": "execute_result"
    }
   ],
   "source": [
    "#Titulo\n",
    "soup.find(\"h1\", class_=\"psw-m-b-5 psw-t-title-l psw-t-size-7 psw-l-line-break-word\").get_text()"
   ]
  },
  {
   "cell_type": "code",
   "execution_count": 62,
   "metadata": {},
   "outputs": [
    {
     "data": {
      "text/plain": [
       "'14,99\\xa0€'"
      ]
     },
     "execution_count": 62,
     "metadata": {},
     "output_type": "execute_result"
    }
   ],
   "source": [
    "#Precio Original \n",
    "soup.find(\"span\",class_=\"psw-t-title-s psw-c-t-2 psw-t-strike\").get_text()\n"
   ]
  },
  {
   "cell_type": "code",
   "execution_count": 63,
   "metadata": {},
   "outputs": [
    {
     "data": {
      "text/plain": [
       "'8,99\\xa0€'"
      ]
     },
     "execution_count": 63,
     "metadata": {},
     "output_type": "execute_result"
    }
   ],
   "source": [
    "#Precio Actual\n",
    "soup.find(\"span\",class_=\"psw-t-title-m psw-m-r-4\").get_text()"
   ]
  }
 ],
 "metadata": {
  "kernelspec": {
   "display_name": "Python 3",
   "language": "python",
   "name": "python3"
  },
  "language_info": {
   "codemirror_mode": {
    "name": "ipython",
    "version": 3
   },
   "file_extension": ".py",
   "mimetype": "text/x-python",
   "name": "python",
   "nbconvert_exporter": "python",
   "pygments_lexer": "ipython3",
   "version": "3.11.4"
  },
  "orig_nbformat": 4
 },
 "nbformat": 4,
 "nbformat_minor": 2
}
